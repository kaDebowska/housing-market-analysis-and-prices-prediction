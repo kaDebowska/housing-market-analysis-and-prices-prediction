{
 "cells": [
  {
   "cell_type": "code",
   "execution_count": 77,
   "id": "initial_id",
   "metadata": {
    "collapsed": true,
    "ExecuteTime": {
     "end_time": "2024-04-14T11:20:38.508736500Z",
     "start_time": "2024-04-14T11:20:38.500676700Z"
    }
   },
   "outputs": [],
   "source": [
    "import pandas as pd\n",
    "from unidecode import unidecode\n",
    "\n",
    "city_df = pd.read_csv('zasieg_terytorialny_krakow.csv', sep=';')"
   ]
  },
  {
   "cell_type": "code",
   "outputs": [
    {
     "data": {
      "text/plain": "    Rodzaj Tytuły Imiona               Nazwa  \\\n0    ULICA    NaN    NaN       28 LIPCA 1943   \n1    ALEJA    NaN    NaN        29 LISTOPADA   \n2    ALEJA    NaN    NaN        29 LISTOPADA   \n3    ALEJA    NaN    NaN        29 LISTOPADA   \n4  OSIEDLE    NaN    NaN  2 PUŁKU LOTNICZEGO   \n\n                 Przydział (Zakres) Urząd         Dzielnica  \n0                               NaN    KR       Zwierzyniec  \n1  Nr.1-39 b, 2-36, brak nr.38 i 40    SM      Stare Miasto  \n2                Nr.41-d.k. 42-d.k.    PK  Prądnik Czerwony  \n3                               NaN    PK     Prądnik Biały  \n4                               NaN    ŚR           Czyżyny  ",
      "text/html": "<div>\n<style scoped>\n    .dataframe tbody tr th:only-of-type {\n        vertical-align: middle;\n    }\n\n    .dataframe tbody tr th {\n        vertical-align: top;\n    }\n\n    .dataframe thead th {\n        text-align: right;\n    }\n</style>\n<table border=\"1\" class=\"dataframe\">\n  <thead>\n    <tr style=\"text-align: right;\">\n      <th></th>\n      <th>Rodzaj</th>\n      <th>Tytuły</th>\n      <th>Imiona</th>\n      <th>Nazwa</th>\n      <th>Przydział (Zakres)</th>\n      <th>Urząd</th>\n      <th>Dzielnica</th>\n    </tr>\n  </thead>\n  <tbody>\n    <tr>\n      <th>0</th>\n      <td>ULICA</td>\n      <td>NaN</td>\n      <td>NaN</td>\n      <td>28 LIPCA 1943</td>\n      <td>NaN</td>\n      <td>KR</td>\n      <td>Zwierzyniec</td>\n    </tr>\n    <tr>\n      <th>1</th>\n      <td>ALEJA</td>\n      <td>NaN</td>\n      <td>NaN</td>\n      <td>29 LISTOPADA</td>\n      <td>Nr.1-39 b, 2-36, brak nr.38 i 40</td>\n      <td>SM</td>\n      <td>Stare Miasto</td>\n    </tr>\n    <tr>\n      <th>2</th>\n      <td>ALEJA</td>\n      <td>NaN</td>\n      <td>NaN</td>\n      <td>29 LISTOPADA</td>\n      <td>Nr.41-d.k. 42-d.k.</td>\n      <td>PK</td>\n      <td>Prądnik Czerwony</td>\n    </tr>\n    <tr>\n      <th>3</th>\n      <td>ALEJA</td>\n      <td>NaN</td>\n      <td>NaN</td>\n      <td>29 LISTOPADA</td>\n      <td>NaN</td>\n      <td>PK</td>\n      <td>Prądnik Biały</td>\n    </tr>\n    <tr>\n      <th>4</th>\n      <td>OSIEDLE</td>\n      <td>NaN</td>\n      <td>NaN</td>\n      <td>2 PUŁKU LOTNICZEGO</td>\n      <td>NaN</td>\n      <td>ŚR</td>\n      <td>Czyżyny</td>\n    </tr>\n  </tbody>\n</table>\n</div>"
     },
     "execution_count": 78,
     "metadata": {},
     "output_type": "execute_result"
    }
   ],
   "source": [
    "city_df.head(5)"
   ],
   "metadata": {
    "collapsed": false,
    "ExecuteTime": {
     "end_time": "2024-04-14T11:20:38.544061200Z",
     "start_time": "2024-04-14T11:20:38.509737700Z"
    }
   },
   "id": "57180278a309d847",
   "execution_count": 78
  },
  {
   "cell_type": "code",
   "outputs": [
    {
     "name": "stdout",
     "output_type": "stream",
     "text": [
      "<class 'pandas.core.frame.DataFrame'>\n",
      "RangeIndex: 2851 entries, 0 to 2850\n",
      "Data columns (total 7 columns):\n",
      " #   Column              Non-Null Count  Dtype \n",
      "---  ------              --------------  ----- \n",
      " 0   Rodzaj              2851 non-null   object\n",
      " 1   Tytuły              149 non-null    object\n",
      " 2   Imiona              911 non-null    object\n",
      " 3   Nazwa               2851 non-null   object\n",
      " 4   Przydział (Zakres)  77 non-null     object\n",
      " 5   Urząd               2851 non-null   object\n",
      " 6   Dzielnica           2851 non-null   object\n",
      "dtypes: object(7)\n",
      "memory usage: 156.0+ KB\n"
     ]
    }
   ],
   "source": [
    "city_df.info()"
   ],
   "metadata": {
    "collapsed": false,
    "ExecuteTime": {
     "end_time": "2024-04-14T11:20:38.545061600Z",
     "start_time": "2024-04-14T11:20:38.519450600Z"
    }
   },
   "id": "7dc4afa7aeaaf368",
   "execution_count": 79
  },
  {
   "cell_type": "code",
   "outputs": [],
   "source": [
    "city_df.rename(columns={\n",
    "    'Rodzaj': 'Type',\n",
    "    'Tytuły': 'Titles',\n",
    "    'Imiona': 'Names',\n",
    "    'Nazwa': 'Name',\n",
    "    'Przydział (Zakres)': 'Allocation (Range)',\n",
    "    'Urząd': 'Office',\n",
    "    'Dzielnica': 'District'\n",
    "}, inplace=True)"
   ],
   "metadata": {
    "collapsed": false,
    "ExecuteTime": {
     "end_time": "2024-04-14T11:20:38.545061600Z",
     "start_time": "2024-04-14T11:20:38.526504600Z"
    }
   },
   "id": "ef25dfb8ae20bee5",
   "execution_count": 80
  },
  {
   "cell_type": "code",
   "outputs": [],
   "source": [
    "def transform_text(text):\n",
    "    if pd.isna(text):\n",
    "        return ''\n",
    "    \n",
    "    return unidecode(str(text)).lower()"
   ],
   "metadata": {
    "collapsed": false,
    "ExecuteTime": {
     "end_time": "2024-04-14T11:20:38.545061600Z",
     "start_time": "2024-04-14T11:20:38.531998600Z"
    }
   },
   "id": "83fe994778034283",
   "execution_count": 81
  },
  {
   "cell_type": "code",
   "outputs": [],
   "source": [
    "for col in city_df.columns:\n",
    "    city_df[col] = city_df[col].apply(transform_text)"
   ],
   "metadata": {
    "collapsed": false,
    "ExecuteTime": {
     "end_time": "2024-04-14T11:20:38.594389700Z",
     "start_time": "2024-04-14T11:20:38.537544500Z"
    }
   },
   "id": "bb288ecf788b9fbb",
   "execution_count": 82
  },
  {
   "cell_type": "code",
   "outputs": [],
   "source": [
    "city_df.drop(columns=['Type', 'Allocation (Range)', 'Office'], inplace=True)"
   ],
   "metadata": {
    "collapsed": false,
    "ExecuteTime": {
     "end_time": "2024-04-14T11:20:38.595389400Z",
     "start_time": "2024-04-14T11:20:38.559543800Z"
    }
   },
   "id": "83d994b05e0ee7aa",
   "execution_count": 83
  },
  {
   "cell_type": "code",
   "outputs": [],
   "source": [
    "city_df['full_name'] = city_df['Titles'] + ' ' + city_df['Names'] + ' ' + city_df['Name']"
   ],
   "metadata": {
    "collapsed": false,
    "ExecuteTime": {
     "end_time": "2024-04-14T11:20:38.595389400Z",
     "start_time": "2024-04-14T11:20:38.565103Z"
    }
   },
   "id": "1ef7e3a6ed2f6231",
   "execution_count": 84
  },
  {
   "cell_type": "code",
   "outputs": [
    {
     "name": "stdout",
     "output_type": "stream",
     "text": [
      "['' 'generala' 'doktora' 'ksiedza      bi-\\nskupa' 'profesora'\n",
      " 'pulkownika' 'ojca' 'profesor' 'ksiedza' 'pana' 'ksiazat' 'rotmistrza'\n",
      " 'porucznika' 'arcybiskupa' 'marszalka' 'biskupa' 'gen. pil.' 'sw.'\n",
      " 'swietego' 'plk.' 'ppor.pil.' 'ksiedza  pra-\\nlata' 'majora'\n",
      " 'harcmistrza' 'im.' 'prezydenta' 'opata' 'ksiedza  kar-\\ndynala'\n",
      " 'blogoslawion' 'generala\\npil.' 'matki' 'general' 'komandora'\n",
      " 'ksiedza   pry-\\nmasa' 'siostry' 'hetmana']\n"
     ]
    }
   ],
   "source": [
    "unique_titles = city_df['Titles'].unique()\n",
    "print(unique_titles)"
   ],
   "metadata": {
    "collapsed": false,
    "ExecuteTime": {
     "end_time": "2024-04-14T11:20:38.614798100Z",
     "start_time": "2024-04-14T11:20:38.581038300Z"
    }
   },
   "id": "d9dcd25757afe936",
   "execution_count": 86
  },
  {
   "cell_type": "code",
   "outputs": [],
   "source": [
    "title_mapping = {\n",
    "    'ksiedza pra- lata': 'ksiedza pralata',\n",
    "    'ksiedza kar- dynala': 'ksiedza kardynala',\n",
    "    'ppor.pil.': 'ppor. pil.',\n",
    "}\n",
    "\n",
    "def transform_text(text):\n",
    "    if pd.isna(text):\n",
    "        return ''\n",
    "    corrected_title = title_mapping.get(text, text)\n",
    "    return unidecode(corrected_title).lower()"
   ],
   "metadata": {
    "collapsed": false,
    "ExecuteTime": {
     "end_time": "2024-04-14T11:20:38.650062600Z",
     "start_time": "2024-04-14T11:20:38.599600500Z"
    }
   },
   "id": "c48d91f980f353ee",
   "execution_count": 87
  },
  {
   "cell_type": "code",
   "outputs": [],
   "source": [
    "city_df['Titles'] = city_df['Titles'].apply(transform_text)"
   ],
   "metadata": {
    "collapsed": false,
    "ExecuteTime": {
     "end_time": "2024-04-14T11:20:38.688247Z",
     "start_time": "2024-04-14T11:20:38.653539500Z"
    }
   },
   "id": "f0deb80666d8689c",
   "execution_count": 88
  },
  {
   "cell_type": "code",
   "outputs": [
    {
     "data": {
      "text/plain": "      Titles                       Names                Name  \\\n0                                              28 lipca 1943   \n1                                               29 listopada   \n2                                               29 listopada   \n3                                               29 listopada   \n4                                         2 pulku lotniczego   \n5                                              308 dywizjonu   \n6                                                     3 maja   \n7                                                     3 maja   \n8                                                 6 sierpnia   \n9                                                 6 sierpnia   \n10                                            8 pulku ulanow   \n11                                            8 pulku ulanow   \n12                                                  abrahama   \n13                                                   agatowa   \n14                                                     agawy   \n15                                                 agrestowa   \n16                                                  akacjowa   \n17                                                akademicka   \n18                                               akademickie   \n19                                                  albanska   \n20                                                albatrosow   \n21                                              albertynskie   \n22                                adolfa     aleksandrowicza   \n23                                                aleksandry   \n24                                                 algierska   \n25                                                     aliny   \n26                                                  altanowa   \n27                                                amarantowa   \n28                                                  amazonek   \n29                                                ametystowa   \n30            wladyslawa      lu-\\ndwika             anczyca   \n31                                              andegawenska   \n32  generala                  wladyslawa             andersa   \n33  generala                  wladyslawa             andersa   \n34  generala                  wladyslawa             andersa   \n35                      hansa christiana           andersena   \n36                                   ivo            andricia   \n37                                jozefa     andrusikiewicza   \n38                                              andrychowska   \n39                                                  antyczna   \n40                                                     anusi   \n41                                               architektow   \n42                               tomasza      arciszewskiego   \n43                               henryka        arctowskiego   \n44                                                  arianska   \n45                                                 arktyczna   \n46                                            armii krajowej   \n47                                            armii krajowej   \n48                                            armii \"krakow\"   \n49                                                   arsenal   \n\n             District                            full_name  \n0         zwierzyniec                        28 lipca 1943  \n1        stare miasto                         29 listopada  \n2    pradnik czerwony                         29 listopada  \n3       pradnik bialy                         29 listopada  \n4             czyzyny                   2 pulku lotniczego  \n5             czyzyny                        308 dywizjonu  \n6              lobzow                               3 maja  \n7         zwierzyniec                               3 maja  \n8    pradnik czerwony                           6 sierpnia  \n9              lobzow                           6 sierpnia  \n10            debniki                       8 pulku ulanow  \n11         lagiewniki                       8 pulku ulanow  \n12      wola duchacka                             abrahama  \n13  prokocim-biezanow                              agatowa  \n14           podgorze                                agawy  \n15        zwierzyniec                            agrestowa  \n16   pradnik czerwony                             akacjowa  \n17             lobzow                           akademicka  \n18            czyzyny                          akademickie  \n19      wola duchacka                             albanska  \n20           podgorze                           albatrosow  \n21          bienczyce                         albertynskie  \n22         swoszowice               adolfa aleksandrowicza  \n23  prokocim-biezanow                           aleksandry  \n24      wola duchacka                            algierska  \n25   pradnik czerwony                                aliny  \n26          bronowice                             altanowa  \n27         swoszowice                           amarantowa  \n28        zwierzyniec                             amazonek  \n29  prokocim-biezanow                           ametystowa  \n30        zwierzyniec   wladyslawa      lu-\\ndwika anczyca  \n31          bienczyce                         andegawenska  \n32         grzegorzki          generala wladyslawa andersa  \n33          bienczyce          generala wladyslawa andersa  \n34          nowa huta          generala wladyslawa andersa  \n35          bienczyce           hansa christiana andersena  \n36      wola duchacka                         ivo andricia  \n37  prokocim-biezanow               jozefa andrusikiewicza  \n38      wola duchacka                         andrychowska  \n39   pradnik czerwony                             antyczna  \n40            debniki                                anusi  \n41           grebalow                          architektow  \n42          bronowice               tomasza arciszewskiego  \n43            czyzyny                 henryka arctowskiego  \n44         grzegorzki                             arianska  \n45            debniki                            arktyczna  \n46          bronowice                       armii krajowej  \n47             lobzow                       armii krajowej  \n48         swoszowice                       armii \"krakow\"  \n49      pradnik bialy                              arsenal  ",
      "text/html": "<div>\n<style scoped>\n    .dataframe tbody tr th:only-of-type {\n        vertical-align: middle;\n    }\n\n    .dataframe tbody tr th {\n        vertical-align: top;\n    }\n\n    .dataframe thead th {\n        text-align: right;\n    }\n</style>\n<table border=\"1\" class=\"dataframe\">\n  <thead>\n    <tr style=\"text-align: right;\">\n      <th></th>\n      <th>Titles</th>\n      <th>Names</th>\n      <th>Name</th>\n      <th>District</th>\n      <th>full_name</th>\n    </tr>\n  </thead>\n  <tbody>\n    <tr>\n      <th>0</th>\n      <td></td>\n      <td></td>\n      <td>28 lipca 1943</td>\n      <td>zwierzyniec</td>\n      <td>28 lipca 1943</td>\n    </tr>\n    <tr>\n      <th>1</th>\n      <td></td>\n      <td></td>\n      <td>29 listopada</td>\n      <td>stare miasto</td>\n      <td>29 listopada</td>\n    </tr>\n    <tr>\n      <th>2</th>\n      <td></td>\n      <td></td>\n      <td>29 listopada</td>\n      <td>pradnik czerwony</td>\n      <td>29 listopada</td>\n    </tr>\n    <tr>\n      <th>3</th>\n      <td></td>\n      <td></td>\n      <td>29 listopada</td>\n      <td>pradnik bialy</td>\n      <td>29 listopada</td>\n    </tr>\n    <tr>\n      <th>4</th>\n      <td></td>\n      <td></td>\n      <td>2 pulku lotniczego</td>\n      <td>czyzyny</td>\n      <td>2 pulku lotniczego</td>\n    </tr>\n    <tr>\n      <th>5</th>\n      <td></td>\n      <td></td>\n      <td>308 dywizjonu</td>\n      <td>czyzyny</td>\n      <td>308 dywizjonu</td>\n    </tr>\n    <tr>\n      <th>6</th>\n      <td></td>\n      <td></td>\n      <td>3 maja</td>\n      <td>lobzow</td>\n      <td>3 maja</td>\n    </tr>\n    <tr>\n      <th>7</th>\n      <td></td>\n      <td></td>\n      <td>3 maja</td>\n      <td>zwierzyniec</td>\n      <td>3 maja</td>\n    </tr>\n    <tr>\n      <th>8</th>\n      <td></td>\n      <td></td>\n      <td>6 sierpnia</td>\n      <td>pradnik czerwony</td>\n      <td>6 sierpnia</td>\n    </tr>\n    <tr>\n      <th>9</th>\n      <td></td>\n      <td></td>\n      <td>6 sierpnia</td>\n      <td>lobzow</td>\n      <td>6 sierpnia</td>\n    </tr>\n    <tr>\n      <th>10</th>\n      <td></td>\n      <td></td>\n      <td>8 pulku ulanow</td>\n      <td>debniki</td>\n      <td>8 pulku ulanow</td>\n    </tr>\n    <tr>\n      <th>11</th>\n      <td></td>\n      <td></td>\n      <td>8 pulku ulanow</td>\n      <td>lagiewniki</td>\n      <td>8 pulku ulanow</td>\n    </tr>\n    <tr>\n      <th>12</th>\n      <td></td>\n      <td></td>\n      <td>abrahama</td>\n      <td>wola duchacka</td>\n      <td>abrahama</td>\n    </tr>\n    <tr>\n      <th>13</th>\n      <td></td>\n      <td></td>\n      <td>agatowa</td>\n      <td>prokocim-biezanow</td>\n      <td>agatowa</td>\n    </tr>\n    <tr>\n      <th>14</th>\n      <td></td>\n      <td></td>\n      <td>agawy</td>\n      <td>podgorze</td>\n      <td>agawy</td>\n    </tr>\n    <tr>\n      <th>15</th>\n      <td></td>\n      <td></td>\n      <td>agrestowa</td>\n      <td>zwierzyniec</td>\n      <td>agrestowa</td>\n    </tr>\n    <tr>\n      <th>16</th>\n      <td></td>\n      <td></td>\n      <td>akacjowa</td>\n      <td>pradnik czerwony</td>\n      <td>akacjowa</td>\n    </tr>\n    <tr>\n      <th>17</th>\n      <td></td>\n      <td></td>\n      <td>akademicka</td>\n      <td>lobzow</td>\n      <td>akademicka</td>\n    </tr>\n    <tr>\n      <th>18</th>\n      <td></td>\n      <td></td>\n      <td>akademickie</td>\n      <td>czyzyny</td>\n      <td>akademickie</td>\n    </tr>\n    <tr>\n      <th>19</th>\n      <td></td>\n      <td></td>\n      <td>albanska</td>\n      <td>wola duchacka</td>\n      <td>albanska</td>\n    </tr>\n    <tr>\n      <th>20</th>\n      <td></td>\n      <td></td>\n      <td>albatrosow</td>\n      <td>podgorze</td>\n      <td>albatrosow</td>\n    </tr>\n    <tr>\n      <th>21</th>\n      <td></td>\n      <td></td>\n      <td>albertynskie</td>\n      <td>bienczyce</td>\n      <td>albertynskie</td>\n    </tr>\n    <tr>\n      <th>22</th>\n      <td></td>\n      <td>adolfa</td>\n      <td>aleksandrowicza</td>\n      <td>swoszowice</td>\n      <td>adolfa aleksandrowicza</td>\n    </tr>\n    <tr>\n      <th>23</th>\n      <td></td>\n      <td></td>\n      <td>aleksandry</td>\n      <td>prokocim-biezanow</td>\n      <td>aleksandry</td>\n    </tr>\n    <tr>\n      <th>24</th>\n      <td></td>\n      <td></td>\n      <td>algierska</td>\n      <td>wola duchacka</td>\n      <td>algierska</td>\n    </tr>\n    <tr>\n      <th>25</th>\n      <td></td>\n      <td></td>\n      <td>aliny</td>\n      <td>pradnik czerwony</td>\n      <td>aliny</td>\n    </tr>\n    <tr>\n      <th>26</th>\n      <td></td>\n      <td></td>\n      <td>altanowa</td>\n      <td>bronowice</td>\n      <td>altanowa</td>\n    </tr>\n    <tr>\n      <th>27</th>\n      <td></td>\n      <td></td>\n      <td>amarantowa</td>\n      <td>swoszowice</td>\n      <td>amarantowa</td>\n    </tr>\n    <tr>\n      <th>28</th>\n      <td></td>\n      <td></td>\n      <td>amazonek</td>\n      <td>zwierzyniec</td>\n      <td>amazonek</td>\n    </tr>\n    <tr>\n      <th>29</th>\n      <td></td>\n      <td></td>\n      <td>ametystowa</td>\n      <td>prokocim-biezanow</td>\n      <td>ametystowa</td>\n    </tr>\n    <tr>\n      <th>30</th>\n      <td></td>\n      <td>wladyslawa      lu-\\ndwika</td>\n      <td>anczyca</td>\n      <td>zwierzyniec</td>\n      <td>wladyslawa      lu-\\ndwika anczyca</td>\n    </tr>\n    <tr>\n      <th>31</th>\n      <td></td>\n      <td></td>\n      <td>andegawenska</td>\n      <td>bienczyce</td>\n      <td>andegawenska</td>\n    </tr>\n    <tr>\n      <th>32</th>\n      <td>generala</td>\n      <td>wladyslawa</td>\n      <td>andersa</td>\n      <td>grzegorzki</td>\n      <td>generala wladyslawa andersa</td>\n    </tr>\n    <tr>\n      <th>33</th>\n      <td>generala</td>\n      <td>wladyslawa</td>\n      <td>andersa</td>\n      <td>bienczyce</td>\n      <td>generala wladyslawa andersa</td>\n    </tr>\n    <tr>\n      <th>34</th>\n      <td>generala</td>\n      <td>wladyslawa</td>\n      <td>andersa</td>\n      <td>nowa huta</td>\n      <td>generala wladyslawa andersa</td>\n    </tr>\n    <tr>\n      <th>35</th>\n      <td></td>\n      <td>hansa christiana</td>\n      <td>andersena</td>\n      <td>bienczyce</td>\n      <td>hansa christiana andersena</td>\n    </tr>\n    <tr>\n      <th>36</th>\n      <td></td>\n      <td>ivo</td>\n      <td>andricia</td>\n      <td>wola duchacka</td>\n      <td>ivo andricia</td>\n    </tr>\n    <tr>\n      <th>37</th>\n      <td></td>\n      <td>jozefa</td>\n      <td>andrusikiewicza</td>\n      <td>prokocim-biezanow</td>\n      <td>jozefa andrusikiewicza</td>\n    </tr>\n    <tr>\n      <th>38</th>\n      <td></td>\n      <td></td>\n      <td>andrychowska</td>\n      <td>wola duchacka</td>\n      <td>andrychowska</td>\n    </tr>\n    <tr>\n      <th>39</th>\n      <td></td>\n      <td></td>\n      <td>antyczna</td>\n      <td>pradnik czerwony</td>\n      <td>antyczna</td>\n    </tr>\n    <tr>\n      <th>40</th>\n      <td></td>\n      <td></td>\n      <td>anusi</td>\n      <td>debniki</td>\n      <td>anusi</td>\n    </tr>\n    <tr>\n      <th>41</th>\n      <td></td>\n      <td></td>\n      <td>architektow</td>\n      <td>grebalow</td>\n      <td>architektow</td>\n    </tr>\n    <tr>\n      <th>42</th>\n      <td></td>\n      <td>tomasza</td>\n      <td>arciszewskiego</td>\n      <td>bronowice</td>\n      <td>tomasza arciszewskiego</td>\n    </tr>\n    <tr>\n      <th>43</th>\n      <td></td>\n      <td>henryka</td>\n      <td>arctowskiego</td>\n      <td>czyzyny</td>\n      <td>henryka arctowskiego</td>\n    </tr>\n    <tr>\n      <th>44</th>\n      <td></td>\n      <td></td>\n      <td>arianska</td>\n      <td>grzegorzki</td>\n      <td>arianska</td>\n    </tr>\n    <tr>\n      <th>45</th>\n      <td></td>\n      <td></td>\n      <td>arktyczna</td>\n      <td>debniki</td>\n      <td>arktyczna</td>\n    </tr>\n    <tr>\n      <th>46</th>\n      <td></td>\n      <td></td>\n      <td>armii krajowej</td>\n      <td>bronowice</td>\n      <td>armii krajowej</td>\n    </tr>\n    <tr>\n      <th>47</th>\n      <td></td>\n      <td></td>\n      <td>armii krajowej</td>\n      <td>lobzow</td>\n      <td>armii krajowej</td>\n    </tr>\n    <tr>\n      <th>48</th>\n      <td></td>\n      <td></td>\n      <td>armii \"krakow\"</td>\n      <td>swoszowice</td>\n      <td>armii \"krakow\"</td>\n    </tr>\n    <tr>\n      <th>49</th>\n      <td></td>\n      <td></td>\n      <td>arsenal</td>\n      <td>pradnik bialy</td>\n      <td>arsenal</td>\n    </tr>\n  </tbody>\n</table>\n</div>"
     },
     "execution_count": 89,
     "metadata": {},
     "output_type": "execute_result"
    }
   ],
   "source": [
    "city_df.head(50)"
   ],
   "metadata": {
    "collapsed": false,
    "ExecuteTime": {
     "end_time": "2024-04-14T11:20:38.708724500Z",
     "start_time": "2024-04-14T11:20:38.670709Z"
    }
   },
   "id": "6f39eaa7b9269501",
   "execution_count": 89
  }
 ],
 "metadata": {
  "kernelspec": {
   "display_name": "Python 3",
   "language": "python",
   "name": "python3"
  },
  "language_info": {
   "codemirror_mode": {
    "name": "ipython",
    "version": 2
   },
   "file_extension": ".py",
   "mimetype": "text/x-python",
   "name": "python",
   "nbconvert_exporter": "python",
   "pygments_lexer": "ipython2",
   "version": "2.7.6"
  }
 },
 "nbformat": 4,
 "nbformat_minor": 5
}
