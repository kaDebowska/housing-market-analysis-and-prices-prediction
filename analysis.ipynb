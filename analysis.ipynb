{
 "cells": [
  {
   "cell_type": "markdown",
   "metadata": {
    "collapsed": false
   },
   "source": [
    "# TO-DO STEPS PISANE NA PIERWSZYCH ZAJĘCIACH\n",
    "\n",
    "Data Scraping:\n",
    "\n",
    "\n",
    "## Data Processing (dla obu zbiorów danych)\n",
    "1. Ułożenie danych w kolumnach.\n",
    "2. Miejsca zerowe.\n",
    "3. Feature Engineering. (kolumna koordynaty geograficzne, \n",
    "\n",
    "\n",
    "## Data analysis. (+potencjalnie Streamlit)\n",
    "1. Prócz metrażu czynniki najbardziej wpływające na cenę.\n",
    "2. Analiza ceny do piętra\n",
    "3. Analiza odległości geograficznej od centrum\n",
    "4. Analiza parking/balon\n",
    "5. Analiza ceny/trendów w konkretnych dzielniach.\n",
    "\n",
    "\n",
    "# Jeśli model to.\n",
    "5. Onehotencoding.\n",
    "6. Train/Test\n",
    "7. Model.\n",
    "\n",
    "Bonus points:\n",
    "    wizualizacja geograficzna (streamlit - prettymap/mapbox)\n",
    "    stosunek ilości balkonów w mieszkaniu na dzielnice (balkon rate)\n",
    "    wpływ i częstotliwość '!' w nazwie oferty i ich zestawienie z ceną\n",
    "    \n",
    "\n",
    "# TO-DO 16.04.2024\n",
    "\n",
    "1. Docelowo proponuję, żeby pierwszy etap (pisany w jednym notatniku jupiter) zamknął się po data preparation i data engeenering, po tym etapie zapiszemy dane do plików do dalszych analiz (wielkrotne pobieranie koordynatów może być bolesne). Aby to osiągnąć trzeba:\n",
    "  - Uspójnić notatniki (na razie jeszcze nie dane :P), tak, byśmy pracowali na jednym.\n",
    "  - Dodać na początek chaina uzupełnienie zbiorów o nowe dane (można wyciąć fragmenty z utils) - tam, gdzie będziemy analizować dane statycznie i/lub przestrzennie (pierwotny plan).\n",
    "  - Jeśli idzie o analize w szeregach czasowych, to trochę inne para kaloszy, można zostawić na później -- chyba, że ktorś będzie chciał się tym zająć.\n",
    "  - Uważam, że trzeba wybrać, które analizy przeprowadzamy na uspójnionych z obu zbiorów danych, a które osobno na zbiorach - otodom ma więcej cech, nieruchomości online (chyba) bardziej rozróżnia pewne cechy (np. te garaże) - Do decyzji.\n",
    "  - Z obu zbiorów usunąć \"duplikaty\" - różne ogłoszenia tego samego mieszkania. Tu trzeba będzie przyjąć jakąś heurystykę.\n",
    "  - Uzupełnić koordynaty\n",
    "  - Na ich podstawie dodać kolumnę z odległością od wyróżnionego miejsca (centrum) w metrach.\n",
    "  - Zbiory zapisać\n",
    "\n",
    "\n",
    "  - Jeśli idzie o szeregi czasowe, to IMO data i cena w badanych punktach czasowych starczy (cokolwiek innego się tam jeszcze mogło zmieniać). Będzie trzeba wybrać tylko te oferty, które zmieniały się w tej kolumnie.\n",
    "\n",
    "2. Etap analiz:\n",
    "- Sprawdzić, co z labów Czecha jest do wykorzystania, bo mam przeczycie, że coś z tego, co u nie go robiliśmy się przyda - PCA chociażby i ten (dual) scatterplot.\n",
    "- Z drugich labów Czecha ten pearson corelation, to macierz korelacji, którą i tak planowaliśmy.\n",
    "- Na SISI będziemy trenować model drzew decyzyjnych, więc można go tu dodać też.\n",
    "- Trzeba przejrzeć, co jeszcze planowaliśmy i co jest w \"literaturze\" (bo znalzałem coś takiego), co jeszcze można przeprowadzić.\n",
    "\n",
    "\n",
    "3. Wizualizacja:\n",
    "Poza oczywstymi wykresikami, tabelami itp, ta heatmapa (oraz heatmapa+, jak ze stramlita) wydaje mi się fajnym bajerem. Można spróbować się podjąć. W oógle wydaje mi się, że w tym aspekcie geograficznym można będzie fajnie nie tylko przeprowadzać analizy, ale też pokazywać rzeczy.\n",
    "\n",
    "Ważna rzecz to dokumentowanie prac (albo w readme, albo zacząć odrębny dokument) nawet, gdy nic nie wychodzi.\n",
    "\n",
    "\n",
    "To są oczywiście moje wstępne i ogólne pomysły i jeśli macie inne, to śmiało wędrujcie w te strony, które Wam się wydadzą sensowne i słuszne.\n",
    "\n",
    "    "
   ]
  },
  {
   "metadata": {},
   "cell_type": "markdown",
   "source": "# Zbiór Otodom"
  },
  {
   "metadata": {},
   "cell_type": "markdown",
   "source": "## Załadowanie i agregacja danych"
  },
  {
   "cell_type": "code",
   "metadata": {
    "ExecuteTime": {
     "end_time": "2024-04-28T17:34:48.334004Z",
     "start_time": "2024-04-28T17:34:48.329691Z"
    }
   },
   "source": [
    "import numpy as np\n",
    "import pandas as pd"
   ],
   "outputs": [],
   "execution_count": 143
  },
  {
   "cell_type": "code",
   "metadata": {
    "ExecuteTime": {
     "end_time": "2024-04-28T17:34:51.133990Z",
     "start_time": "2024-04-28T17:34:50.960827Z"
    }
   },
   "source": [
    "df_otodom = pd.read_csv('datasets/otodom_dataset_raw.csv')\n",
    "df_2024_03_25_otodom_new_data = pd.read_csv('datasets/timestamps/2024-03-25-otodom-new_data.csv')\n",
    "df_2024_03_25_otodom_updated_data = pd.read_csv('datasets/timestamps/2024-03-25-otodom-updated_data.csv')\n",
    "df_2024_04_07_otodom_new_data = pd.read_csv('datasets/timestamps/2024-04-07-otodom-new_data.csv')\n",
    "df_2024_04_07_otodom_updated_data = pd.read_csv('datasets/timestamps/2024-04-07-otodom-updated_data.csv')\n",
    "df_2024_04_21_otodom_new_data = pd.read_csv('datasets/timestamps/2024-04-21-otodom-new_data.csv')\n",
    "df_2024_04_21_otodom_updated_data = pd.read_csv('datasets/timestamps/2024-04-21-otodom-updated_data.csv')"
   ],
   "outputs": [],
   "execution_count": 144
  },
  {
   "metadata": {
    "ExecuteTime": {
     "end_time": "2024-04-28T17:34:51.142432Z",
     "start_time": "2024-04-28T17:34:51.135990Z"
    }
   },
   "cell_type": "code",
   "source": [
    "def update_dataframe(oldest_df, updated_df, new_df):\n",
    "    def set_url_as_index(df):\n",
    "        if 'url' in df.columns:\n",
    "            df.set_index('url', inplace=True)\n",
    "        else:\n",
    "            raise ValueError(\"URL column not found. Please check the column names.\")\n",
    "    try:\n",
    "        set_url_as_index(oldest_df)\n",
    "        set_url_as_index(updated_df)\n",
    "        set_url_as_index(new_df)\n",
    "    except ValueError as e:\n",
    "        print(e)\n",
    "        return None\n",
    "    \n",
    "    oldest_df.update(updated_df)\n",
    "    merged_df = pd.concat([oldest_df, new_df], axis=0)\n",
    "    merged_df.reset_index(inplace=True)\n",
    "\n",
    "    return merged_df"
   ],
   "outputs": [],
   "execution_count": 145
  },
  {
   "metadata": {
    "ExecuteTime": {
     "end_time": "2024-04-28T17:34:51.502815Z",
     "start_time": "2024-04-28T17:34:51.318944Z"
    }
   },
   "cell_type": "code",
   "source": [
    "df_otodom = update_dataframe(df_otodom, df_2024_03_25_otodom_updated_data, df_2024_03_25_otodom_new_data)\n",
    "df_otodom = update_dataframe(df_otodom, df_2024_04_07_otodom_updated_data, df_2024_04_07_otodom_new_data)\n",
    "df_otodom = update_dataframe(df_otodom, df_2024_04_21_otodom_updated_data, df_2024_04_21_otodom_new_data)"
   ],
   "outputs": [],
   "execution_count": 146
  },
  {
   "cell_type": "code",
   "metadata": {
    "ExecuteTime": {
     "end_time": "2024-04-28T17:34:51.575355Z",
     "start_time": "2024-04-28T17:34:51.554817Z"
    }
   },
   "source": "df_otodom.info()",
   "outputs": [
    {
     "name": "stdout",
     "output_type": "stream",
     "text": [
      "<class 'pandas.core.frame.DataFrame'>\n",
      "RangeIndex: 12672 entries, 0 to 12671\n",
      "Data columns (total 20 columns):\n",
      " #   Column                Non-Null Count  Dtype \n",
      "---  ------                --------------  ----- \n",
      " 0   url                   12672 non-null  object\n",
      " 1   name/title            12672 non-null  object\n",
      " 2   address               12672 non-null  object\n",
      " 3   price                 12672 non-null  object\n",
      " 4   area                  12672 non-null  object\n",
      " 5   price-per-area        12092 non-null  object\n",
      " 6   floor/store           12433 non-null  object\n",
      " 7   no of rooms           12671 non-null  object\n",
      " 8   year of construction  11304 non-null  object\n",
      " 9   parking space         7625 non-null   object\n",
      " 10  market                11304 non-null  object\n",
      " 11  form of ownership     9617 non-null   object\n",
      " 12  condition             10077 non-null  object\n",
      " 13  rent                  5844 non-null   object\n",
      " 14  heating               9244 non-null   object\n",
      " 15  advertiser type       11304 non-null  object\n",
      " 16  elevator              11304 non-null  object\n",
      " 17  outdoor area          9508 non-null   object\n",
      " 18  building type         11304 non-null  object\n",
      " 19  building material     11304 non-null  object\n",
      "dtypes: object(20)\n",
      "memory usage: 1.9+ MB\n"
     ]
    }
   ],
   "execution_count": 147
  },
  {
   "metadata": {},
   "cell_type": "markdown",
   "source": "## Przygotowanie danych"
  },
  {
   "metadata": {},
   "cell_type": "markdown",
   "source": "### Cena"
  },
  {
   "metadata": {},
   "cell_type": "markdown",
   "source": "#### Usunięcie brakujących danych, uspójnienie oraz zmiana na typy liczbowe"
  },
  {
   "metadata": {
    "ExecuteTime": {
     "end_time": "2024-04-28T17:34:51.871942Z",
     "start_time": "2024-04-28T17:34:51.856424Z"
    }
   },
   "cell_type": "code",
   "source": [
    "# Wierszy bez ceny\n",
    "no_price = df_otodom[~df_otodom['price'].str.contains('\\d')]\n",
    "no_price['price'].count()"
   ],
   "outputs": [
    {
     "data": {
      "text/plain": [
       "583"
      ]
     },
     "execution_count": 148,
     "metadata": {},
     "output_type": "execute_result"
    }
   ],
   "execution_count": 148
  },
  {
   "metadata": {
    "ExecuteTime": {
     "end_time": "2024-04-28T17:34:52.270939Z",
     "start_time": "2024-04-28T17:34:52.257941Z"
    }
   },
   "cell_type": "code",
   "source": [
    "# Usunięcie wierszy z brakującą ceną (no_price)\n",
    "df_otodom.drop(no_price.index, inplace=True)\n",
    "df_otodom['price'].count()"
   ],
   "outputs": [
    {
     "data": {
      "text/plain": [
       "12089"
      ]
     },
     "execution_count": 149,
     "metadata": {},
     "output_type": "execute_result"
    }
   ],
   "execution_count": 149
  },
  {
   "cell_type": "markdown",
   "metadata": {},
   "source": "#### Ceny podane w innej walucie"
  },
  {
   "cell_type": "code",
   "metadata": {
    "ExecuteTime": {
     "end_time": "2024-04-28T17:34:52.522808Z",
     "start_time": "2024-04-28T17:34:52.509938Z"
    }
   },
   "source": [
    "# Wiersze w EUR\n",
    "different_currency = df_otodom[~df_otodom['price'].str.contains('zł', na=False)].copy()\n",
    "different_currency['price'].count()"
   ],
   "outputs": [
    {
     "data": {
      "text/plain": [
       "8"
      ]
     },
     "execution_count": 150,
     "metadata": {},
     "output_type": "execute_result"
    }
   ],
   "execution_count": 150
  },
  {
   "metadata": {
    "ExecuteTime": {
     "end_time": "2024-04-28T17:34:52.805932Z",
     "start_time": "2024-04-28T17:34:52.798815Z"
    }
   },
   "cell_type": "code",
   "source": [
    "different_currency['price-per-area'] = different_currency['price-per-area'].str.replace(' ', '').str.extract(r'(\\d+\\.\\d+|\\d+)').astype(float)\n",
    "different_currency['area'] = different_currency['area'].str.replace(',', '.').str.extract(r'(\\d+\\.\\d+|\\d+)').astype(float)"
   ],
   "outputs": [],
   "execution_count": 151
  },
  {
   "metadata": {
    "ExecuteTime": {
     "end_time": "2024-04-28T17:34:53.075944Z",
     "start_time": "2024-04-28T17:34:53.057942Z"
    }
   },
   "cell_type": "code",
   "source": "df_otodom.loc[different_currency.index]",
   "outputs": [
    {
     "data": {
      "text/plain": [
       "                                                    url  \\\n",
       "1265  https://www.otodom.pl/pl/oferta/penthouse-232m...   \n",
       "2056  https://www.otodom.pl/pl/oferta/penthouse-w-po...   \n",
       "3144  https://www.otodom.pl/pl/oferta/5-pokoi-taras-...   \n",
       "3977  https://www.otodom.pl/pl/oferta/chorwacja-spli...   \n",
       "4722  https://www.otodom.pl/pl/oferta/penthouse-tara...   \n",
       "4908  https://www.otodom.pl/pl/oferta/penthouse-w-od...   \n",
       "4995  https://www.otodom.pl/pl/oferta/penthouse-star...   \n",
       "9359  https://www.otodom.pl/pl/oferta/penthouse-w-od...   \n",
       "\n",
       "                                             name/title  \\\n",
       "1265  Penthouse 232m w zabytkowej kamienicy Stare Mi...   \n",
       "2056                 Penthouse w pobliżu Rynku Głównego   \n",
       "3144  5 pokoi | Taras 77m2 | Komórka | Centrum | Mar...   \n",
       "3977               Chorwacja Split luksusowy apartament   \n",
       "4722     Penthouse tarasem na dachu w kamienicy z windą   \n",
       "4908  Penthouse w odrestaurowanej kamienicy - taras ...   \n",
       "4995      Penthouse Stare Miasto II Poziomy. Taras 70m2   \n",
       "9359  Penthouse w odrestaurowanej kamienicy - taras ...   \n",
       "\n",
       "                                                address          price  \\\n",
       "1265      Nowy Świat, Stare Miasto, Kraków, małopolskie  1 149 999 EUR   \n",
       "2056  marszałka JózefaPiłsudskiego, Nowy Świat, Star...  1 150 000 EUR   \n",
       "3144  ul. marsz. Józefa Piłsudskiego, Nowy Świat, St...  1 149 999 EUR   \n",
       "3977          Krowodrza, Krowodrza, Kraków, małopolskie    585 280 EUR   \n",
       "4722  Marszałka Józefa Piłsudskiego, Nowy Świat, Sta...  1 150 000 EUR   \n",
       "4908  ul. marsz. Józefa Piłsudskiego, Piasek, Stare ...  1 150 000 EUR   \n",
       "4995  Marszałka Józefa Piłsudskiego, Nowy Świat, Sta...  1 150 000 EUR   \n",
       "9359  ul. marsz. Józefa Piłsudskiego, Piasek, Stare ...  1 150 000 EUR   \n",
       "\n",
       "          area price-per-area floor/store no of rooms year of construction  \\\n",
       "1265  232,1 m²   21 368 zł/m²         4/4           5                 1906   \n",
       "2056    232 m²   21 377 zł/m²         4/5           9                 1906   \n",
       "3144  232,1 m²   21 368 zł/m²         4/4           5                 1908   \n",
       "3977  91,45 m²   27 601 zł/m²         3/4           4                 2025   \n",
       "4722  228,7 m²   21 686 zł/m²         4/5           5                 1906   \n",
       "4908    228 m²   21 896 zł/m²         4/5         5.0                 1906   \n",
       "4995  232,1 m²   21 368 zł/m²         4/5           5                 1906   \n",
       "9359    228 m²   21 752 zł/m²         4/5           5                 1906   \n",
       "\n",
       "                 parking space     market form of ownership        condition  \\\n",
       "1265                       NaN     wtórny    pełna własność  do zamieszkania   \n",
       "2056                       NaN     wtórny    pełna własność  do zamieszkania   \n",
       "3144  garaż/miejsce parkingowe     wtórny    pełna własność  do zamieszkania   \n",
       "3977  garaż/miejsce parkingowe  pierwotny    pełna własność  do zamieszkania   \n",
       "4722                       NaN     wtórny    pełna własność  do zamieszkania   \n",
       "4908  garaż/miejsce parkingowe     wtórny    pełna własność  do zamieszkania   \n",
       "4995                       NaN     wtórny               NaN              NaN   \n",
       "9359  garaż/miejsce parkingowe     wtórny    pełna własność  do zamieszkania   \n",
       "\n",
       "          rent      heating      advertiser type elevator   outdoor area  \\\n",
       "1265       NaN       gazowe  biuro nieruchomości      nie            NaN   \n",
       "2056  1 700 zł       gazowe  biuro nieruchomości      tak  balkon, taras   \n",
       "3144    850 zł       gazowe  biuro nieruchomości      tak  taras, balkon   \n",
       "3977   100 EUR  elektryczne             prywatny      tak  balkon, taras   \n",
       "4722       NaN          NaN  biuro nieruchomości      tak  balkon, taras   \n",
       "4908    220 zł       gazowe  biuro nieruchomości      tak  taras, balkon   \n",
       "4995       NaN          NaN  biuro nieruchomości      nie            NaN   \n",
       "9359    220 zł       gazowe  biuro nieruchomości      tak  taras, balkon   \n",
       "\n",
       "        building type building material  \n",
       "1265        kamienica             cegła  \n",
       "2056        kamienica   brak informacji  \n",
       "3144        kamienica             cegła  \n",
       "3977  apartamentowiec           silikat  \n",
       "4722        kamienica   brak informacji  \n",
       "4908        kamienica             cegła  \n",
       "4995  brak informacji   brak informacji  \n",
       "9359        kamienica             cegła  "
      ],
      "text/html": [
       "<div>\n",
       "<style scoped>\n",
       "    .dataframe tbody tr th:only-of-type {\n",
       "        vertical-align: middle;\n",
       "    }\n",
       "\n",
       "    .dataframe tbody tr th {\n",
       "        vertical-align: top;\n",
       "    }\n",
       "\n",
       "    .dataframe thead th {\n",
       "        text-align: right;\n",
       "    }\n",
       "</style>\n",
       "<table border=\"1\" class=\"dataframe\">\n",
       "  <thead>\n",
       "    <tr style=\"text-align: right;\">\n",
       "      <th></th>\n",
       "      <th>url</th>\n",
       "      <th>name/title</th>\n",
       "      <th>address</th>\n",
       "      <th>price</th>\n",
       "      <th>area</th>\n",
       "      <th>price-per-area</th>\n",
       "      <th>floor/store</th>\n",
       "      <th>no of rooms</th>\n",
       "      <th>year of construction</th>\n",
       "      <th>parking space</th>\n",
       "      <th>market</th>\n",
       "      <th>form of ownership</th>\n",
       "      <th>condition</th>\n",
       "      <th>rent</th>\n",
       "      <th>heating</th>\n",
       "      <th>advertiser type</th>\n",
       "      <th>elevator</th>\n",
       "      <th>outdoor area</th>\n",
       "      <th>building type</th>\n",
       "      <th>building material</th>\n",
       "    </tr>\n",
       "  </thead>\n",
       "  <tbody>\n",
       "    <tr>\n",
       "      <th>1265</th>\n",
       "      <td>https://www.otodom.pl/pl/oferta/penthouse-232m...</td>\n",
       "      <td>Penthouse 232m w zabytkowej kamienicy Stare Mi...</td>\n",
       "      <td>Nowy Świat, Stare Miasto, Kraków, małopolskie</td>\n",
       "      <td>1 149 999 EUR</td>\n",
       "      <td>232,1 m²</td>\n",
       "      <td>21 368 zł/m²</td>\n",
       "      <td>4/4</td>\n",
       "      <td>5</td>\n",
       "      <td>1906</td>\n",
       "      <td>NaN</td>\n",
       "      <td>wtórny</td>\n",
       "      <td>pełna własność</td>\n",
       "      <td>do zamieszkania</td>\n",
       "      <td>NaN</td>\n",
       "      <td>gazowe</td>\n",
       "      <td>biuro nieruchomości</td>\n",
       "      <td>nie</td>\n",
       "      <td>NaN</td>\n",
       "      <td>kamienica</td>\n",
       "      <td>cegła</td>\n",
       "    </tr>\n",
       "    <tr>\n",
       "      <th>2056</th>\n",
       "      <td>https://www.otodom.pl/pl/oferta/penthouse-w-po...</td>\n",
       "      <td>Penthouse w pobliżu Rynku Głównego</td>\n",
       "      <td>marszałka JózefaPiłsudskiego, Nowy Świat, Star...</td>\n",
       "      <td>1 150 000 EUR</td>\n",
       "      <td>232 m²</td>\n",
       "      <td>21 377 zł/m²</td>\n",
       "      <td>4/5</td>\n",
       "      <td>9</td>\n",
       "      <td>1906</td>\n",
       "      <td>NaN</td>\n",
       "      <td>wtórny</td>\n",
       "      <td>pełna własność</td>\n",
       "      <td>do zamieszkania</td>\n",
       "      <td>1 700 zł</td>\n",
       "      <td>gazowe</td>\n",
       "      <td>biuro nieruchomości</td>\n",
       "      <td>tak</td>\n",
       "      <td>balkon, taras</td>\n",
       "      <td>kamienica</td>\n",
       "      <td>brak informacji</td>\n",
       "    </tr>\n",
       "    <tr>\n",
       "      <th>3144</th>\n",
       "      <td>https://www.otodom.pl/pl/oferta/5-pokoi-taras-...</td>\n",
       "      <td>5 pokoi | Taras 77m2 | Komórka | Centrum | Mar...</td>\n",
       "      <td>ul. marsz. Józefa Piłsudskiego, Nowy Świat, St...</td>\n",
       "      <td>1 149 999 EUR</td>\n",
       "      <td>232,1 m²</td>\n",
       "      <td>21 368 zł/m²</td>\n",
       "      <td>4/4</td>\n",
       "      <td>5</td>\n",
       "      <td>1908</td>\n",
       "      <td>garaż/miejsce parkingowe</td>\n",
       "      <td>wtórny</td>\n",
       "      <td>pełna własność</td>\n",
       "      <td>do zamieszkania</td>\n",
       "      <td>850 zł</td>\n",
       "      <td>gazowe</td>\n",
       "      <td>biuro nieruchomości</td>\n",
       "      <td>tak</td>\n",
       "      <td>taras, balkon</td>\n",
       "      <td>kamienica</td>\n",
       "      <td>cegła</td>\n",
       "    </tr>\n",
       "    <tr>\n",
       "      <th>3977</th>\n",
       "      <td>https://www.otodom.pl/pl/oferta/chorwacja-spli...</td>\n",
       "      <td>Chorwacja Split luksusowy apartament</td>\n",
       "      <td>Krowodrza, Krowodrza, Kraków, małopolskie</td>\n",
       "      <td>585 280 EUR</td>\n",
       "      <td>91,45 m²</td>\n",
       "      <td>27 601 zł/m²</td>\n",
       "      <td>3/4</td>\n",
       "      <td>4</td>\n",
       "      <td>2025</td>\n",
       "      <td>garaż/miejsce parkingowe</td>\n",
       "      <td>pierwotny</td>\n",
       "      <td>pełna własność</td>\n",
       "      <td>do zamieszkania</td>\n",
       "      <td>100 EUR</td>\n",
       "      <td>elektryczne</td>\n",
       "      <td>prywatny</td>\n",
       "      <td>tak</td>\n",
       "      <td>balkon, taras</td>\n",
       "      <td>apartamentowiec</td>\n",
       "      <td>silikat</td>\n",
       "    </tr>\n",
       "    <tr>\n",
       "      <th>4722</th>\n",
       "      <td>https://www.otodom.pl/pl/oferta/penthouse-tara...</td>\n",
       "      <td>Penthouse tarasem na dachu w kamienicy z windą</td>\n",
       "      <td>Marszałka Józefa Piłsudskiego, Nowy Świat, Sta...</td>\n",
       "      <td>1 150 000 EUR</td>\n",
       "      <td>228,7 m²</td>\n",
       "      <td>21 686 zł/m²</td>\n",
       "      <td>4/5</td>\n",
       "      <td>5</td>\n",
       "      <td>1906</td>\n",
       "      <td>NaN</td>\n",
       "      <td>wtórny</td>\n",
       "      <td>pełna własność</td>\n",
       "      <td>do zamieszkania</td>\n",
       "      <td>NaN</td>\n",
       "      <td>NaN</td>\n",
       "      <td>biuro nieruchomości</td>\n",
       "      <td>tak</td>\n",
       "      <td>balkon, taras</td>\n",
       "      <td>kamienica</td>\n",
       "      <td>brak informacji</td>\n",
       "    </tr>\n",
       "    <tr>\n",
       "      <th>4908</th>\n",
       "      <td>https://www.otodom.pl/pl/oferta/penthouse-w-od...</td>\n",
       "      <td>Penthouse w odrestaurowanej kamienicy - taras ...</td>\n",
       "      <td>ul. marsz. Józefa Piłsudskiego, Piasek, Stare ...</td>\n",
       "      <td>1 150 000 EUR</td>\n",
       "      <td>228 m²</td>\n",
       "      <td>21 896 zł/m²</td>\n",
       "      <td>4/5</td>\n",
       "      <td>5.0</td>\n",
       "      <td>1906</td>\n",
       "      <td>garaż/miejsce parkingowe</td>\n",
       "      <td>wtórny</td>\n",
       "      <td>pełna własność</td>\n",
       "      <td>do zamieszkania</td>\n",
       "      <td>220 zł</td>\n",
       "      <td>gazowe</td>\n",
       "      <td>biuro nieruchomości</td>\n",
       "      <td>tak</td>\n",
       "      <td>taras, balkon</td>\n",
       "      <td>kamienica</td>\n",
       "      <td>cegła</td>\n",
       "    </tr>\n",
       "    <tr>\n",
       "      <th>4995</th>\n",
       "      <td>https://www.otodom.pl/pl/oferta/penthouse-star...</td>\n",
       "      <td>Penthouse Stare Miasto II Poziomy. Taras 70m2</td>\n",
       "      <td>Marszałka Józefa Piłsudskiego, Nowy Świat, Sta...</td>\n",
       "      <td>1 150 000 EUR</td>\n",
       "      <td>232,1 m²</td>\n",
       "      <td>21 368 zł/m²</td>\n",
       "      <td>4/5</td>\n",
       "      <td>5</td>\n",
       "      <td>1906</td>\n",
       "      <td>NaN</td>\n",
       "      <td>wtórny</td>\n",
       "      <td>NaN</td>\n",
       "      <td>NaN</td>\n",
       "      <td>NaN</td>\n",
       "      <td>NaN</td>\n",
       "      <td>biuro nieruchomości</td>\n",
       "      <td>nie</td>\n",
       "      <td>NaN</td>\n",
       "      <td>brak informacji</td>\n",
       "      <td>brak informacji</td>\n",
       "    </tr>\n",
       "    <tr>\n",
       "      <th>9359</th>\n",
       "      <td>https://www.otodom.pl/pl/oferta/penthouse-w-od...</td>\n",
       "      <td>Penthouse w odrestaurowanej kamienicy - taras ...</td>\n",
       "      <td>ul. marsz. Józefa Piłsudskiego, Piasek, Stare ...</td>\n",
       "      <td>1 150 000 EUR</td>\n",
       "      <td>228 m²</td>\n",
       "      <td>21 752 zł/m²</td>\n",
       "      <td>4/5</td>\n",
       "      <td>5</td>\n",
       "      <td>1906</td>\n",
       "      <td>garaż/miejsce parkingowe</td>\n",
       "      <td>wtórny</td>\n",
       "      <td>pełna własność</td>\n",
       "      <td>do zamieszkania</td>\n",
       "      <td>220 zł</td>\n",
       "      <td>gazowe</td>\n",
       "      <td>biuro nieruchomości</td>\n",
       "      <td>tak</td>\n",
       "      <td>taras, balkon</td>\n",
       "      <td>kamienica</td>\n",
       "      <td>cegła</td>\n",
       "    </tr>\n",
       "  </tbody>\n",
       "</table>\n",
       "</div>"
      ]
     },
     "execution_count": 152,
     "metadata": {},
     "output_type": "execute_result"
    }
   ],
   "execution_count": 152
  },
  {
   "metadata": {
    "ExecuteTime": {
     "end_time": "2024-04-28T17:34:53.438171Z",
     "start_time": "2024-04-28T17:34:53.403926Z"
    }
   },
   "cell_type": "code",
   "source": [
    "# zamiana cen na wartości liczbowe\n",
    "df_otodom['price'] = df_otodom['price'].str.replace(' ', '').str.replace(',', '.')\n",
    "df_otodom['price'] = df_otodom['price'].str.extract('(\\d+\\.\\d+|\\d+)').astype(float)"
   ],
   "outputs": [],
   "execution_count": 153
  },
  {
   "cell_type": "code",
   "metadata": {
    "ExecuteTime": {
     "end_time": "2024-04-28T17:34:53.588113Z",
     "start_time": "2024-04-28T17:34:53.578173Z"
    }
   },
   "source": [
    "# przeliczanie ceny na podstawie metrażu i ceny za metr podanej w PLN\n",
    "different_currency.loc[:, 'price'] = (different_currency['price-per-area'] * different_currency['area'])\n",
    "df_otodom.loc[different_currency.index, 'price'] = different_currency['price'].astype(float)\n",
    "df_otodom.loc[different_currency.index, 'price']"
   ],
   "outputs": [
    {
     "data": {
      "text/plain": [
       "1265    4959512.80\n",
       "2056    4959464.00\n",
       "3144    4959512.80\n",
       "3977    2524111.45\n",
       "4722    4959588.20\n",
       "4908    4992288.00\n",
       "4995    4959512.80\n",
       "9359    4959456.00\n",
       "Name: price, dtype: float64"
      ]
     },
     "execution_count": 154,
     "metadata": {},
     "output_type": "execute_result"
    }
   ],
   "execution_count": 154
  },
  {
   "metadata": {
    "ExecuteTime": {
     "end_time": "2024-04-28T17:34:53.919906Z",
     "start_time": "2024-04-28T17:34:53.910375Z"
    }
   },
   "cell_type": "code",
   "source": [
    "# Usunięcie złapanego wiersza z mieszkaniem z Chorwacji\n",
    "df_otodom.drop(index=3977, inplace=True)"
   ],
   "outputs": [],
   "execution_count": 155
  },
  {
   "cell_type": "code",
   "metadata": {
    "ExecuteTime": {
     "end_time": "2024-04-28T17:34:54.359287Z",
     "start_time": "2024-04-28T17:34:54.354198Z"
    }
   },
   "source": [
    "df_otodom['price'].count()"
   ],
   "outputs": [
    {
     "data": {
      "text/plain": [
       "12088"
      ]
     },
     "execution_count": 156,
     "metadata": {},
     "output_type": "execute_result"
    }
   ],
   "execution_count": 156
  },
  {
   "cell_type": "markdown",
   "metadata": {},
   "source": "### Zamiana wartości w kolumnach na typy liczbowe"
  },
  {
   "metadata": {},
   "cell_type": "markdown",
   "source": "#### metraż"
  },
  {
   "cell_type": "code",
   "metadata": {
    "ExecuteTime": {
     "end_time": "2024-04-28T17:34:54.735245Z",
     "start_time": "2024-04-28T17:34:54.716285Z"
    }
   },
   "source": [
    "df_otodom['area'] = df_otodom['area'].str.replace(' m²', '')\n",
    "df_otodom['area'] = df_otodom['area'].str.replace(' ', '')\n",
    "df_otodom['area'] = df_otodom['area'].str.replace(',', '.').astype(float)"
   ],
   "outputs": [],
   "execution_count": 157
  },
  {
   "metadata": {},
   "cell_type": "markdown",
   "source": "#### cena za metr"
  },
  {
   "cell_type": "code",
   "metadata": {
    "ExecuteTime": {
     "end_time": "2024-04-28T17:34:55.055667Z",
     "start_time": "2024-04-28T17:34:55.037242Z"
    }
   },
   "source": [
    "# df_otodom[df_otodom['price-per-area'].str.contains(r'\\d', na=False).shape[0] & ~df_otodom['price-per-area'].str.contains('zł', na=False)].shape[0]\n",
    "df_otodom[(df_otodom['price-per-area'].str.contains(r'\\d', na=False)) & (~df_otodom['price-per-area'].str.contains('zł', na=False))].shape[0]"
   ],
   "outputs": [
    {
     "data": {
      "text/plain": [
       "0"
      ]
     },
     "execution_count": 158,
     "metadata": {},
     "output_type": "execute_result"
    }
   ],
   "execution_count": 158
  },
  {
   "cell_type": "code",
   "metadata": {
    "ExecuteTime": {
     "end_time": "2024-04-28T17:34:55.273365Z",
     "start_time": "2024-04-28T17:34:55.265698Z"
    }
   },
   "source": "df_otodom[df_otodom['price-per-area'].isnull()].shape[0]",
   "outputs": [
    {
     "data": {
      "text/plain": [
       "0"
      ]
     },
     "execution_count": 159,
     "metadata": {},
     "output_type": "execute_result"
    }
   ],
   "execution_count": 159
  },
  {
   "cell_type": "code",
   "metadata": {
    "ExecuteTime": {
     "end_time": "2024-04-28T17:34:55.564497Z",
     "start_time": "2024-04-28T17:34:55.545886Z"
    }
   },
   "source": [
    "df_otodom['price-per-area'] = df_otodom['price-per-area'].str.replace(' zł/m²', '').str.replace(' ', '').str.replace(',', '.')\n",
    "df_otodom['price-per-area'] = df_otodom['price-per-area'].astype(float)"
   ],
   "outputs": [],
   "execution_count": 160
  },
  {
   "metadata": {},
   "cell_type": "markdown",
   "source": "#### czynsz"
  },
  {
   "cell_type": "code",
   "metadata": {
    "ExecuteTime": {
     "end_time": "2024-04-28T17:34:55.810494Z",
     "start_time": "2024-04-28T17:34:55.783494Z"
    }
   },
   "source": [
    "# Wiersze w innej walucie\n",
    "df_otodom[df_otodom['rent'].str.contains(r'\\d', na=False) & ~df_otodom['rent'].str.contains('zł', na=False)]"
   ],
   "outputs": [
    {
     "data": {
      "text/plain": [
       "                                                    url  \\\n",
       "6335  https://www.otodom.pl/pl/oferta/2m-wysoki-stan...   \n",
       "\n",
       "                                        name/title  \\\n",
       "6335  2M! Wysoki Standard| Gotowe| Balkon | Widok!   \n",
       "\n",
       "                                                address     price   area  \\\n",
       "6335  Wola Duchacka, Podgórze Duchackie, Kraków, mał...  620000.0  35.55   \n",
       "\n",
       "      price-per-area floor/store no of rooms year of construction  \\\n",
       "6335         17440.0        7/11           2                 2019   \n",
       "\n",
       "     parking space  market form of ownership        condition     rent  \\\n",
       "6335           NaN  wtórny    pełna własność  do zamieszkania  420 GBP   \n",
       "\n",
       "       heating      advertiser type elevator outdoor area building type  \\\n",
       "6335  miejskie  biuro nieruchomości      tak       balkon          blok   \n",
       "\n",
       "     building material  \n",
       "6335   brak informacji  "
      ],
      "text/html": [
       "<div>\n",
       "<style scoped>\n",
       "    .dataframe tbody tr th:only-of-type {\n",
       "        vertical-align: middle;\n",
       "    }\n",
       "\n",
       "    .dataframe tbody tr th {\n",
       "        vertical-align: top;\n",
       "    }\n",
       "\n",
       "    .dataframe thead th {\n",
       "        text-align: right;\n",
       "    }\n",
       "</style>\n",
       "<table border=\"1\" class=\"dataframe\">\n",
       "  <thead>\n",
       "    <tr style=\"text-align: right;\">\n",
       "      <th></th>\n",
       "      <th>url</th>\n",
       "      <th>name/title</th>\n",
       "      <th>address</th>\n",
       "      <th>price</th>\n",
       "      <th>area</th>\n",
       "      <th>price-per-area</th>\n",
       "      <th>floor/store</th>\n",
       "      <th>no of rooms</th>\n",
       "      <th>year of construction</th>\n",
       "      <th>parking space</th>\n",
       "      <th>market</th>\n",
       "      <th>form of ownership</th>\n",
       "      <th>condition</th>\n",
       "      <th>rent</th>\n",
       "      <th>heating</th>\n",
       "      <th>advertiser type</th>\n",
       "      <th>elevator</th>\n",
       "      <th>outdoor area</th>\n",
       "      <th>building type</th>\n",
       "      <th>building material</th>\n",
       "    </tr>\n",
       "  </thead>\n",
       "  <tbody>\n",
       "    <tr>\n",
       "      <th>6335</th>\n",
       "      <td>https://www.otodom.pl/pl/oferta/2m-wysoki-stan...</td>\n",
       "      <td>2M! Wysoki Standard| Gotowe| Balkon | Widok!</td>\n",
       "      <td>Wola Duchacka, Podgórze Duchackie, Kraków, mał...</td>\n",
       "      <td>620000.0</td>\n",
       "      <td>35.55</td>\n",
       "      <td>17440.0</td>\n",
       "      <td>7/11</td>\n",
       "      <td>2</td>\n",
       "      <td>2019</td>\n",
       "      <td>NaN</td>\n",
       "      <td>wtórny</td>\n",
       "      <td>pełna własność</td>\n",
       "      <td>do zamieszkania</td>\n",
       "      <td>420 GBP</td>\n",
       "      <td>miejskie</td>\n",
       "      <td>biuro nieruchomości</td>\n",
       "      <td>tak</td>\n",
       "      <td>balkon</td>\n",
       "      <td>blok</td>\n",
       "      <td>brak informacji</td>\n",
       "    </tr>\n",
       "  </tbody>\n",
       "</table>\n",
       "</div>"
      ]
     },
     "execution_count": 161,
     "metadata": {},
     "output_type": "execute_result"
    }
   ],
   "execution_count": 161
  },
  {
   "cell_type": "code",
   "metadata": {
    "ExecuteTime": {
     "end_time": "2024-04-28T17:34:56.148832Z",
     "start_time": "2024-04-28T17:34:56.136494Z"
    }
   },
   "source": [
    "eur_rent_price = df_otodom[df_otodom['rent'].str.contains('EUR', na=False)]\n",
    "gbp_rent_price = df_otodom[df_otodom['rent'].str.contains('GBP', na=False)]"
   ],
   "outputs": [],
   "execution_count": 162
  },
  {
   "cell_type": "code",
   "metadata": {
    "ExecuteTime": {
     "end_time": "2024-04-28T17:34:56.336919Z",
     "start_time": "2024-04-28T17:34:56.311794Z"
    }
   },
   "source": [
    "# zamiana wartości rent na typ liczbowy\n",
    "df_otodom['rent'] = df_otodom['rent'].str.replace(' ', '').str.replace(',', '.').str.extract('(\\d+\\.\\d+|\\d+)').astype(float)"
   ],
   "outputs": [],
   "execution_count": 163
  },
  {
   "metadata": {
    "ExecuteTime": {
     "end_time": "2024-04-28T17:34:57.523920Z",
     "start_time": "2024-04-28T17:34:56.638920Z"
    }
   },
   "cell_type": "code",
   "source": [
    "import yfinance as yf\n",
    "\n",
    "eur = yf.Ticker(\"EURPLN=X\")\n",
    "gbp = yf.Ticker(\"GBPPLN=X\")\n",
    "euro_exchange_rate = eur.info['fiftyDayAverage']\n",
    "gbp_exchange_rate = gbp.info['fiftyDayAverage']\n",
    "print(euro_exchange_rate)\n",
    "print(gbp_exchange_rate)"
   ],
   "outputs": [
    {
     "name": "stdout",
     "output_type": "stream",
     "text": [
      "4.3038054\n",
      "5.0287547\n"
     ]
    }
   ],
   "execution_count": 164
  },
  {
   "cell_type": "code",
   "metadata": {
    "ExecuteTime": {
     "end_time": "2024-04-28T17:34:57.534901Z",
     "start_time": "2024-04-28T17:34:57.525919Z"
    }
   },
   "source": [
    "# euro_exchange_rate = 4.28\n",
    "# gbp_exchange_rate = 4.99\n",
    "\n",
    "df_otodom.loc[eur_rent_price.index, 'rent'] *= euro_exchange_rate\n",
    "df_otodom.loc[gbp_rent_price.index, 'rent'] *= gbp_exchange_rate"
   ],
   "outputs": [],
   "execution_count": 165
  },
  {
   "metadata": {
    "ExecuteTime": {
     "end_time": "2024-04-28T17:34:57.554106Z",
     "start_time": "2024-04-28T17:34:57.535896Z"
    }
   },
   "cell_type": "code",
   "source": [
    "# Średnia po wycięciu utliersów do ew. uzupełnienia\n",
    "mean_rent = df_otodom['rent'].mean()\n",
    "std_rent = df_otodom['rent'].std()\n",
    "\n",
    "filtered_std_rent = df_otodom[(df_otodom['rent'] > (mean_rent - std_rent)) & \n",
    "                        (df_otodom['rent'] < (mean_rent + std_rent))]\n",
    "\n",
    "new_mean_rent = filtered_std_rent['rent'].mean()\n",
    "new_mean_rent"
   ],
   "outputs": [
    {
     "data": {
      "text/plain": [
       "541.1313434298921"
      ]
     },
     "execution_count": 166,
     "metadata": {},
     "output_type": "execute_result"
    }
   ],
   "execution_count": 166
  },
  {
   "metadata": {},
   "cell_type": "markdown",
   "source": "#### liczba pokoi"
  },
  {
   "metadata": {
    "ExecuteTime": {
     "end_time": "2024-04-28T17:34:57.580625Z",
     "start_time": "2024-04-28T17:34:57.562101Z"
    }
   },
   "cell_type": "code",
   "source": [
    "df_otodom['no of rooms'] = df_otodom['no of rooms'].str.replace(' ', '')\n",
    "print(df_otodom[df_otodom['no of rooms'].isna()].shape[0])\n",
    "df_otodom.dropna(subset=['no of rooms'], inplace=True)"
   ],
   "outputs": [
    {
     "name": "stdout",
     "output_type": "stream",
     "text": [
      "346\n"
     ]
    }
   ],
   "execution_count": 167
  },
  {
   "cell_type": "code",
   "metadata": {
    "ExecuteTime": {
     "end_time": "2024-04-28T17:34:57.763947Z",
     "start_time": "2024-04-28T17:34:57.745613Z"
    }
   },
   "source": "df_otodom['no of rooms'] = df_otodom['no of rooms'].str.extract('(\\d+)').astype(int)",
   "outputs": [],
   "execution_count": 168
  },
  {
   "metadata": {},
   "cell_type": "markdown",
   "source": "#### piętro"
  },
  {
   "cell_type": "code",
   "metadata": {
    "ExecuteTime": {
     "end_time": "2024-04-28T17:34:58.349033Z",
     "start_time": "2024-04-28T17:34:58.332947Z"
    }
   },
   "source": [
    "# Rozdzielenie kolumny 'floor/store' na dwie osobne kolumny\n",
    "df_otodom[['floor/store', 'no of floors/stores in the building']] = df_otodom['floor/store'].str.split('/', expand=True)"
   ],
   "outputs": [],
   "execution_count": 169
  },
  {
   "cell_type": "code",
   "metadata": {
    "ExecuteTime": {
     "end_time": "2024-04-28T17:34:58.591820Z",
     "start_time": "2024-04-28T17:34:58.578056Z"
    }
   },
   "source": [
    "# Usunięcie wierszy bez informacji o piętrze\n",
    "print(df_otodom[df_otodom['floor/store'].isnull()].shape[0])\n",
    "df_otodom = df_otodom.dropna(subset=['floor/store'])"
   ],
   "outputs": [
    {
     "name": "stdout",
     "output_type": "stream",
     "text": [
      "236\n"
     ]
    }
   ],
   "execution_count": 170
  },
  {
   "cell_type": "code",
   "metadata": {
    "ExecuteTime": {
     "end_time": "2024-04-28T17:34:58.931938Z",
     "start_time": "2024-04-28T17:34:58.926818Z"
    }
   },
   "source": [
    "# Zamiana wartości \"parter\" na 0 w kolumnie \"floor\"\n",
    "df_otodom['floor/store'] = df_otodom['floor/store'].replace('parter', 0)"
   ],
   "outputs": [],
   "execution_count": 171
  },
  {
   "cell_type": "code",
   "metadata": {
    "ExecuteTime": {
     "end_time": "2024-04-28T17:34:59.123680Z",
     "start_time": "2024-04-28T17:34:59.118496Z"
    }
   },
   "source": [
    "# Zamiana wartości \"suterena\" na -1 w kolumnie \"floor\"\n",
    "df_otodom['floor/store'] = df_otodom['floor/store'].replace('suterena', -1)"
   ],
   "outputs": [],
   "execution_count": 172
  },
  {
   "cell_type": "code",
   "metadata": {
    "ExecuteTime": {
     "end_time": "2024-04-28T17:34:59.524221Z",
     "start_time": "2024-04-28T17:34:59.509839Z"
    }
   },
   "source": [
    "# Konwersja kolumny \"floor\" na typ liczbowy, zamieniając nieliczbowe wartości na NaN\n",
    "df_otodom['floor/store'] = pd.to_numeric(df_otodom['floor/store'], errors='coerce')\n",
    "\n",
    "# Usunięcie wierszy zawierających wartości NaN w kolumnie \"floor\"\n",
    "df_otodom = df_otodom[~df_otodom['floor/store'].isna()]"
   ],
   "outputs": [],
   "execution_count": 173
  },
  {
   "cell_type": "code",
   "metadata": {
    "ExecuteTime": {
     "end_time": "2024-04-28T17:34:59.705946Z",
     "start_time": "2024-04-28T17:34:59.701219Z"
    }
   },
   "source": "df_otodom['floor/store'] = df_otodom['floor/store'].astype(int)",
   "outputs": [],
   "execution_count": 174
  },
  {
   "metadata": {},
   "cell_type": "markdown",
   "source": "#### liczba pięter"
  },
  {
   "metadata": {
    "ExecuteTime": {
     "end_time": "2024-04-28T17:34:59.966816Z",
     "start_time": "2024-04-28T17:34:59.954766Z"
    }
   },
   "cell_type": "code",
   "source": [
    "print(df_otodom[df_otodom['no of floors/stores in the building'].isnull()].shape[0])\n",
    "df_otodom = df_otodom.dropna(subset=['no of floors/stores in the building'])"
   ],
   "outputs": [
    {
     "name": "stdout",
     "output_type": "stream",
     "text": [
      "448\n"
     ]
    }
   ],
   "execution_count": 175
  },
  {
   "metadata": {
    "ExecuteTime": {
     "end_time": "2024-04-28T17:35:00.128600Z",
     "start_time": "2024-04-28T17:35:00.122902Z"
    }
   },
   "cell_type": "code",
   "source": "df_otodom['no of floors/stores in the building'] = df_otodom['no of floors/stores in the building'].astype(int)",
   "outputs": [],
   "execution_count": 176
  },
  {
   "metadata": {
    "ExecuteTime": {
     "end_time": "2024-04-28T17:35:00.445862Z",
     "start_time": "2024-04-28T17:35:00.437595Z"
    }
   },
   "cell_type": "code",
   "source": [
    "#Reorder\n",
    "columns = list(df_otodom.columns)\n",
    "columns.remove('no of floors/stores in the building')\n",
    "target_index = columns.index('floor/store')\n",
    "columns.insert(target_index + 1, 'no of floors/stores in the building')\n",
    "df_otodom = df_otodom[columns]"
   ],
   "outputs": [],
   "execution_count": 177
  },
  {
   "metadata": {
    "ExecuteTime": {
     "end_time": "2024-04-28T17:35:00.672514Z",
     "start_time": "2024-04-28T17:35:00.660861Z"
    }
   },
   "cell_type": "code",
   "source": [
    "# Według wikipedii najwyższy mieszkalny budunek w Krk ma 19 pięter\n",
    "# https://pl.wikipedia.org/wiki/Lista_najwyższych_budynków_w_Krakowie\n",
    "print(df_otodom[df_otodom['no of floors/stores in the building'] > 19].shape[0])\n",
    "df_otodom.drop(df_otodom[df_otodom['no of floors/stores in the building'] > 19].index, inplace=True)"
   ],
   "outputs": [
    {
     "name": "stdout",
     "output_type": "stream",
     "text": [
      "1\n"
     ]
    }
   ],
   "execution_count": 178
  },
  {
   "metadata": {},
   "cell_type": "markdown",
   "source": "#### rok budowy"
  },
  {
   "metadata": {
    "ExecuteTime": {
     "end_time": "2024-04-28T17:35:01.021458Z",
     "start_time": "2024-04-28T17:35:00.987511Z"
    }
   },
   "cell_type": "code",
   "source": [
    "df_otodom['year of construction'] = pd.to_numeric(df_otodom['year of construction'], errors='coerce')\n",
    "\n",
    "missing_below_1200 = df_otodom[df_otodom['year of construction'] < 1250]\n",
    "missing_above_2026 = df_otodom[df_otodom['year of construction'] > 2026]\n",
    "pd.concat([missing_above_2026, missing_below_1200])"
   ],
   "outputs": [
    {
     "data": {
      "text/plain": [
       "                                                     url  \\\n",
       "187    https://www.otodom.pl/pl/oferta/4-pokoje-nowe-...   \n",
       "7888   https://www.otodom.pl/pl/oferta/mieszkanie-na-...   \n",
       "10812  https://www.otodom.pl/pl/oferta/widokowe-3-pok...   \n",
       "6685   https://www.otodom.pl/pl/oferta/nowe-3-pokoje-...   \n",
       "11292  https://www.otodom.pl/pl/oferta/3-pokoje-na-bi...   \n",
       "11328  https://www.otodom.pl/pl/oferta/mieszkanie-na-...   \n",
       "\n",
       "                                              name/title  \\\n",
       "187            4 pokoje, nowe, Promocja -175 tys. taniej   \n",
       "7888               Mieszkanie na sprzedaż, Kraków 40,2m2   \n",
       "10812  Widokowe 3 pok, 2 loggie, garaż podziemny, Ban...   \n",
       "6685         Nowe: 3 pokoje na Ruczaju. Garaż podziemny.   \n",
       "11292          3 Pokoje na Bieńczycach! Wysoki Standard!   \n",
       "11328     Mieszkanie na sprzedaż- Mogilska-76 m2 + garaż   \n",
       "\n",
       "                                                 address      price   area  \\\n",
       "187        Stare Podgórze, Podgórze, Kraków, małopolskie   998358.0  62.10   \n",
       "7888   ul. Janusza Supniewskiego, Osiedle Oficerskie,...   699000.0  40.20   \n",
       "10812  ul. Stefana Banacha, Górka Narodowa, Prądnik B...   759000.0  49.47   \n",
       "6685                Ruczaj, Dębniki, Kraków, małopolskie   790300.0  56.45   \n",
       "11292  os. Wysokie, Bieńczyce, Bieńczyce, Kraków, mał...   669000.0  45.00   \n",
       "11328  ul. Mogilska, Osiedle Oficerskie, Grzegórzki, ...  1080000.0  76.00   \n",
       "\n",
       "       price-per-area  floor/store  no of floors/stores in the building  \\\n",
       "187           16077.0            1                                    4   \n",
       "7888          17388.0            0                                    2   \n",
       "10812         15343.0            6                                    8   \n",
       "6685          14000.0            3                                    3   \n",
       "11292         14867.0            3                                    4   \n",
       "11328         14211.0            8                                   10   \n",
       "\n",
       "       no of rooms  year of construction  ...     market form of ownership  \\\n",
       "187              4                2924.0  ...  pierwotny    pełna własność   \n",
       "7888             2               20100.0  ...     wtórny    pełna własność   \n",
       "10812            3                2924.0  ...  pierwotny    pełna własność   \n",
       "6685             3                1024.0  ...  pierwotny    pełna własność   \n",
       "11292            3                 450.0  ...     wtórny    pełna własność   \n",
       "11328            3                  87.0  ...     wtórny    pełna własność   \n",
       "\n",
       "             condition    rent   heating      advertiser type elevator  \\\n",
       "187     do wykończenia     NaN  miejskie  biuro nieruchomości      tak   \n",
       "7888   do zamieszkania   350.0  miejskie             prywatny      nie   \n",
       "10812   do wykończenia     1.0  miejskie  biuro nieruchomości      tak   \n",
       "6685    do wykończenia   250.0  miejskie  biuro nieruchomości      tak   \n",
       "11292  do zamieszkania   450.0  miejskie  biuro nieruchomości      nie   \n",
       "11328  do zamieszkania  1200.0  miejskie  biuro nieruchomości      tak   \n",
       "\n",
       "      outdoor area    building type building material  \n",
       "187         balkon  apartamentowiec   brak informacji  \n",
       "7888           NaN             blok             cegła  \n",
       "10812          NaN             blok   brak informacji  \n",
       "6685        balkon             blok            pustak  \n",
       "11292          NaN             blok             cegła  \n",
       "11328       balkon             blok      wielka płyta  \n",
       "\n",
       "[6 rows x 21 columns]"
      ],
      "text/html": [
       "<div>\n",
       "<style scoped>\n",
       "    .dataframe tbody tr th:only-of-type {\n",
       "        vertical-align: middle;\n",
       "    }\n",
       "\n",
       "    .dataframe tbody tr th {\n",
       "        vertical-align: top;\n",
       "    }\n",
       "\n",
       "    .dataframe thead th {\n",
       "        text-align: right;\n",
       "    }\n",
       "</style>\n",
       "<table border=\"1\" class=\"dataframe\">\n",
       "  <thead>\n",
       "    <tr style=\"text-align: right;\">\n",
       "      <th></th>\n",
       "      <th>url</th>\n",
       "      <th>name/title</th>\n",
       "      <th>address</th>\n",
       "      <th>price</th>\n",
       "      <th>area</th>\n",
       "      <th>price-per-area</th>\n",
       "      <th>floor/store</th>\n",
       "      <th>no of floors/stores in the building</th>\n",
       "      <th>no of rooms</th>\n",
       "      <th>year of construction</th>\n",
       "      <th>...</th>\n",
       "      <th>market</th>\n",
       "      <th>form of ownership</th>\n",
       "      <th>condition</th>\n",
       "      <th>rent</th>\n",
       "      <th>heating</th>\n",
       "      <th>advertiser type</th>\n",
       "      <th>elevator</th>\n",
       "      <th>outdoor area</th>\n",
       "      <th>building type</th>\n",
       "      <th>building material</th>\n",
       "    </tr>\n",
       "  </thead>\n",
       "  <tbody>\n",
       "    <tr>\n",
       "      <th>187</th>\n",
       "      <td>https://www.otodom.pl/pl/oferta/4-pokoje-nowe-...</td>\n",
       "      <td>4 pokoje, nowe, Promocja -175 tys. taniej</td>\n",
       "      <td>Stare Podgórze, Podgórze, Kraków, małopolskie</td>\n",
       "      <td>998358.0</td>\n",
       "      <td>62.10</td>\n",
       "      <td>16077.0</td>\n",
       "      <td>1</td>\n",
       "      <td>4</td>\n",
       "      <td>4</td>\n",
       "      <td>2924.0</td>\n",
       "      <td>...</td>\n",
       "      <td>pierwotny</td>\n",
       "      <td>pełna własność</td>\n",
       "      <td>do wykończenia</td>\n",
       "      <td>NaN</td>\n",
       "      <td>miejskie</td>\n",
       "      <td>biuro nieruchomości</td>\n",
       "      <td>tak</td>\n",
       "      <td>balkon</td>\n",
       "      <td>apartamentowiec</td>\n",
       "      <td>brak informacji</td>\n",
       "    </tr>\n",
       "    <tr>\n",
       "      <th>7888</th>\n",
       "      <td>https://www.otodom.pl/pl/oferta/mieszkanie-na-...</td>\n",
       "      <td>Mieszkanie na sprzedaż, Kraków 40,2m2</td>\n",
       "      <td>ul. Janusza Supniewskiego, Osiedle Oficerskie,...</td>\n",
       "      <td>699000.0</td>\n",
       "      <td>40.20</td>\n",
       "      <td>17388.0</td>\n",
       "      <td>0</td>\n",
       "      <td>2</td>\n",
       "      <td>2</td>\n",
       "      <td>20100.0</td>\n",
       "      <td>...</td>\n",
       "      <td>wtórny</td>\n",
       "      <td>pełna własność</td>\n",
       "      <td>do zamieszkania</td>\n",
       "      <td>350.0</td>\n",
       "      <td>miejskie</td>\n",
       "      <td>prywatny</td>\n",
       "      <td>nie</td>\n",
       "      <td>NaN</td>\n",
       "      <td>blok</td>\n",
       "      <td>cegła</td>\n",
       "    </tr>\n",
       "    <tr>\n",
       "      <th>10812</th>\n",
       "      <td>https://www.otodom.pl/pl/oferta/widokowe-3-pok...</td>\n",
       "      <td>Widokowe 3 pok, 2 loggie, garaż podziemny, Ban...</td>\n",
       "      <td>ul. Stefana Banacha, Górka Narodowa, Prądnik B...</td>\n",
       "      <td>759000.0</td>\n",
       "      <td>49.47</td>\n",
       "      <td>15343.0</td>\n",
       "      <td>6</td>\n",
       "      <td>8</td>\n",
       "      <td>3</td>\n",
       "      <td>2924.0</td>\n",
       "      <td>...</td>\n",
       "      <td>pierwotny</td>\n",
       "      <td>pełna własność</td>\n",
       "      <td>do wykończenia</td>\n",
       "      <td>1.0</td>\n",
       "      <td>miejskie</td>\n",
       "      <td>biuro nieruchomości</td>\n",
       "      <td>tak</td>\n",
       "      <td>NaN</td>\n",
       "      <td>blok</td>\n",
       "      <td>brak informacji</td>\n",
       "    </tr>\n",
       "    <tr>\n",
       "      <th>6685</th>\n",
       "      <td>https://www.otodom.pl/pl/oferta/nowe-3-pokoje-...</td>\n",
       "      <td>Nowe: 3 pokoje na Ruczaju. Garaż podziemny.</td>\n",
       "      <td>Ruczaj, Dębniki, Kraków, małopolskie</td>\n",
       "      <td>790300.0</td>\n",
       "      <td>56.45</td>\n",
       "      <td>14000.0</td>\n",
       "      <td>3</td>\n",
       "      <td>3</td>\n",
       "      <td>3</td>\n",
       "      <td>1024.0</td>\n",
       "      <td>...</td>\n",
       "      <td>pierwotny</td>\n",
       "      <td>pełna własność</td>\n",
       "      <td>do wykończenia</td>\n",
       "      <td>250.0</td>\n",
       "      <td>miejskie</td>\n",
       "      <td>biuro nieruchomości</td>\n",
       "      <td>tak</td>\n",
       "      <td>balkon</td>\n",
       "      <td>blok</td>\n",
       "      <td>pustak</td>\n",
       "    </tr>\n",
       "    <tr>\n",
       "      <th>11292</th>\n",
       "      <td>https://www.otodom.pl/pl/oferta/3-pokoje-na-bi...</td>\n",
       "      <td>3 Pokoje na Bieńczycach! Wysoki Standard!</td>\n",
       "      <td>os. Wysokie, Bieńczyce, Bieńczyce, Kraków, mał...</td>\n",
       "      <td>669000.0</td>\n",
       "      <td>45.00</td>\n",
       "      <td>14867.0</td>\n",
       "      <td>3</td>\n",
       "      <td>4</td>\n",
       "      <td>3</td>\n",
       "      <td>450.0</td>\n",
       "      <td>...</td>\n",
       "      <td>wtórny</td>\n",
       "      <td>pełna własność</td>\n",
       "      <td>do zamieszkania</td>\n",
       "      <td>450.0</td>\n",
       "      <td>miejskie</td>\n",
       "      <td>biuro nieruchomości</td>\n",
       "      <td>nie</td>\n",
       "      <td>NaN</td>\n",
       "      <td>blok</td>\n",
       "      <td>cegła</td>\n",
       "    </tr>\n",
       "    <tr>\n",
       "      <th>11328</th>\n",
       "      <td>https://www.otodom.pl/pl/oferta/mieszkanie-na-...</td>\n",
       "      <td>Mieszkanie na sprzedaż- Mogilska-76 m2 + garaż</td>\n",
       "      <td>ul. Mogilska, Osiedle Oficerskie, Grzegórzki, ...</td>\n",
       "      <td>1080000.0</td>\n",
       "      <td>76.00</td>\n",
       "      <td>14211.0</td>\n",
       "      <td>8</td>\n",
       "      <td>10</td>\n",
       "      <td>3</td>\n",
       "      <td>87.0</td>\n",
       "      <td>...</td>\n",
       "      <td>wtórny</td>\n",
       "      <td>pełna własność</td>\n",
       "      <td>do zamieszkania</td>\n",
       "      <td>1200.0</td>\n",
       "      <td>miejskie</td>\n",
       "      <td>biuro nieruchomości</td>\n",
       "      <td>tak</td>\n",
       "      <td>balkon</td>\n",
       "      <td>blok</td>\n",
       "      <td>wielka płyta</td>\n",
       "    </tr>\n",
       "  </tbody>\n",
       "</table>\n",
       "<p>6 rows × 21 columns</p>\n",
       "</div>"
      ]
     },
     "execution_count": 179,
     "metadata": {},
     "output_type": "execute_result"
    }
   ],
   "execution_count": 179
  },
  {
   "metadata": {
    "ExecuteTime": {
     "end_time": "2024-04-28T17:35:01.146757Z",
     "start_time": "2024-04-28T17:35:01.132444Z"
    }
   },
   "cell_type": "code",
   "source": [
    "# Poprawianie \"z placa\"\n",
    "df_otodom['year of construction'] = df_otodom['year of construction'].replace(2924.0, 2024)\n",
    "df_otodom['year of construction'] = df_otodom['year of construction'].replace(1024.0, 2024)\n",
    "df_otodom['year of construction'] = df_otodom['year of construction'].replace(20100.0, 2010)\n",
    "df_otodom['year of construction'] = df_otodom['year of construction'].replace(87.0, 1987)\n",
    "df_otodom.drop(df_otodom[df_otodom['year of construction'] == 450.0].index, inplace=True)"
   ],
   "outputs": [],
   "execution_count": 180
  },
  {
   "metadata": {
    "ExecuteTime": {
     "end_time": "2024-04-28T17:35:01.514183Z",
     "start_time": "2024-04-28T17:35:01.506778Z"
    }
   },
   "cell_type": "code",
   "source": [
    "# df_otodom['year of construction'] = df_otodom['year of construction'].fillna(-1).astype(int)\n",
    "df_otodom['year of construction'].value_counts(dropna=False).head()"
   ],
   "outputs": [
    {
     "data": {
      "text/plain": [
       "year of construction\n",
       "NaN       2159\n",
       "2024.0    1740\n",
       "2023.0    1486\n",
       "2025.0     483\n",
       "2022.0     357\n",
       "Name: count, dtype: int64"
      ]
     },
     "execution_count": 181,
     "metadata": {},
     "output_type": "execute_result"
    }
   ],
   "execution_count": 181
  },
  {
   "metadata": {
    "ExecuteTime": {
     "end_time": "2024-04-28T17:35:01.860280Z",
     "start_time": "2024-04-28T17:35:01.848256Z"
    }
   },
   "cell_type": "code",
   "source": [
    "# Średnia po wycięciu utliersów do ew. uzupełnienia\n",
    "mean_year = df_otodom['year of construction'].mean()\n",
    "std_year = df_otodom['year of construction'].std()\n",
    "\n",
    "filtered_df = df_otodom[(df_otodom['year of construction'] > (mean_year - std_year)) & \n",
    "                        (df_otodom['year of construction'] < (mean_year + std_year))]\n",
    "\n",
    "new_mean_year = filtered_df['year of construction'].mean()\n",
    "new_mean_year = int(new_mean_year)\n",
    "new_mean_year"
   ],
   "outputs": [
    {
     "data": {
      "text/plain": [
       "2013"
      ]
     },
     "execution_count": 182,
     "metadata": {},
     "output_type": "execute_result"
    }
   ],
   "execution_count": 182
  },
  {
   "metadata": {},
   "cell_type": "markdown",
   "source": "#### rynek"
  },
  {
   "metadata": {
    "ExecuteTime": {
     "end_time": "2024-04-28T17:35:02.136534Z",
     "start_time": "2024-04-28T17:35:02.128496Z"
    }
   },
   "cell_type": "code",
   "source": [
    "df_otodom.loc[(df_otodom['market'].isna()) & (df_otodom['year of construction'] > 2022), 'market'] = 'pierwotny'\n",
    "df_otodom.loc[(df_otodom['market'].isna()) & (df_otodom['year of construction'] < 2023), 'market'] = 'wtórny'"
   ],
   "outputs": [],
   "execution_count": 183
  },
  {
   "metadata": {
    "ExecuteTime": {
     "end_time": "2024-04-28T17:35:02.786329Z",
     "start_time": "2024-04-28T17:35:02.775309Z"
    }
   },
   "cell_type": "code",
   "source": [
    "print(df_otodom['market'].isna().sum())\n",
    "df_otodom.dropna(subset=['market'], inplace=True)"
   ],
   "outputs": [
    {
     "name": "stdout",
     "output_type": "stream",
     "text": [
      "845\n"
     ]
    }
   ],
   "execution_count": 184
  },
  {
   "metadata": {
    "ExecuteTime": {
     "end_time": "2024-04-28T17:35:02.969849Z",
     "start_time": "2024-04-28T17:35:02.962329Z"
    }
   },
   "cell_type": "code",
   "source": "df_otodom['market'].value_counts(dropna=False)",
   "outputs": [
    {
     "data": {
      "text/plain": [
       "market\n",
       "wtórny       6528\n",
       "pierwotny    3587\n",
       "Name: count, dtype: int64"
      ]
     },
     "execution_count": 185,
     "metadata": {},
     "output_type": "execute_result"
    }
   ],
   "execution_count": 185
  },
  {
   "metadata": {},
   "cell_type": "markdown",
   "source": "#### rodzaj własności"
  },
  {
   "metadata": {
    "ExecuteTime": {
     "end_time": "2024-04-28T17:35:03.255089Z",
     "start_time": "2024-04-28T17:35:03.247361Z"
    }
   },
   "cell_type": "code",
   "source": "df_otodom['form of ownership'].value_counts(dropna=False)",
   "outputs": [
    {
     "data": {
      "text/plain": [
       "form of ownership\n",
       "pełna własność                       7007\n",
       "NaN                                  2751\n",
       "spółdzielcze wł. prawo do lokalu      252\n",
       "udział                                101\n",
       "użytkowanie wieczyste / dzierżawa       4\n",
       "Name: count, dtype: int64"
      ]
     },
     "execution_count": 186,
     "metadata": {},
     "output_type": "execute_result"
    }
   ],
   "execution_count": 186
  },
  {
   "metadata": {
    "ExecuteTime": {
     "end_time": "2024-04-28T17:35:03.521643Z",
     "start_time": "2024-04-28T17:35:03.514124Z"
    }
   },
   "cell_type": "code",
   "source": [
    "# Zgodnie z obowiązującym prawem 2007 r. nie ma możliwości ustanawiania spółdzielczego własnościowego prawa do lokalu\n",
    "df_otodom.loc[(df_otodom['form of ownership'].isna()) & (df_otodom['year of construction'] > 2006), 'form of ownership'] = 'pełna własność'"
   ],
   "outputs": [],
   "execution_count": 187
  },
  {
   "metadata": {},
   "cell_type": "markdown",
   "source": "#### stan"
  },
  {
   "metadata": {
    "ExecuteTime": {
     "end_time": "2024-04-28T17:35:03.882100Z",
     "start_time": "2024-04-28T17:35:03.874930Z"
    }
   },
   "cell_type": "code",
   "source": "df_otodom['condition'].value_counts(dropna=False)",
   "outputs": [
    {
     "data": {
      "text/plain": [
       "condition\n",
       "do zamieszkania    4247\n",
       "do wykończenia     3115\n",
       "NaN                2311\n",
       "do remontu          442\n",
       "Name: count, dtype: int64"
      ]
     },
     "execution_count": 188,
     "metadata": {},
     "output_type": "execute_result"
    }
   ],
   "execution_count": 188
  },
  {
   "metadata": {},
   "cell_type": "markdown",
   "source": "#### parking"
  },
  {
   "metadata": {
    "ExecuteTime": {
     "end_time": "2024-04-28T17:35:04.123521Z",
     "start_time": "2024-04-28T17:35:04.116093Z"
    }
   },
   "cell_type": "code",
   "source": "df_otodom['parking space'].value_counts(dropna=False)",
   "outputs": [
    {
     "data": {
      "text/plain": [
       "parking space\n",
       "garaż/miejsce parkingowe    5641\n",
       "NaN                         4474\n",
       "Name: count, dtype: int64"
      ]
     },
     "execution_count": 189,
     "metadata": {},
     "output_type": "execute_result"
    }
   ],
   "execution_count": 189
  },
  {
   "metadata": {
    "ExecuteTime": {
     "end_time": "2024-04-28T17:35:04.487155Z",
     "start_time": "2024-04-28T17:35:04.478095Z"
    }
   },
   "cell_type": "code",
   "source": [
    "df_otodom['parking space'] = df_otodom['parking space'].notna()\n",
    "df_otodom['parking space'].value_counts(dropna=False)"
   ],
   "outputs": [
    {
     "data": {
      "text/plain": [
       "parking space\n",
       "True     5641\n",
       "False    4474\n",
       "Name: count, dtype: int64"
      ]
     },
     "execution_count": 190,
     "metadata": {},
     "output_type": "execute_result"
    }
   ],
   "execution_count": 190
  },
  {
   "metadata": {},
   "cell_type": "markdown",
   "source": "#### Ogrzewanie"
  },
  {
   "metadata": {
    "ExecuteTime": {
     "end_time": "2024-04-28T17:35:04.676638Z",
     "start_time": "2024-04-28T17:35:04.667153Z"
    }
   },
   "cell_type": "code",
   "source": "df_otodom['heating'].value_counts(dropna=False)",
   "outputs": [
    {
     "data": {
      "text/plain": [
       "heating\n",
       "miejskie         6378\n",
       "NaN              1935\n",
       "gazowe           1139\n",
       "inne              348\n",
       "elektryczne       183\n",
       "kotłownia         130\n",
       "piece kaflowe       2\n",
       "Name: count, dtype: int64"
      ]
     },
     "execution_count": 191,
     "metadata": {},
     "output_type": "execute_result"
    }
   ],
   "execution_count": 191
  },
  {
   "metadata": {},
   "cell_type": "markdown",
   "source": "#### balkon"
  },
  {
   "metadata": {
    "ExecuteTime": {
     "end_time": "2024-04-28T17:35:05.055224Z",
     "start_time": "2024-04-28T17:35:05.047216Z"
    }
   },
   "cell_type": "code",
   "source": "df_otodom['outdoor area'].value_counts(dropna=False)",
   "outputs": [
    {
     "data": {
      "text/plain": [
       "outdoor area\n",
       "balkon                    5578\n",
       "NaN                       2501\n",
       "ogródek                    508\n",
       "balkon, taras              455\n",
       "balkon, ogródek, taras     340\n",
       "taras                      260\n",
       "ogródek, taras             250\n",
       "balkon, ogródek            173\n",
       "taras, balkon               31\n",
       "taras, ogródek              16\n",
       "taras, balkon, ogródek       3\n",
       "Name: count, dtype: int64"
      ]
     },
     "execution_count": 192,
     "metadata": {},
     "output_type": "execute_result"
    }
   ],
   "execution_count": 192
  },
  {
   "metadata": {
    "ExecuteTime": {
     "end_time": "2024-04-28T17:35:05.285068Z",
     "start_time": "2024-04-28T17:35:05.272221Z"
    }
   },
   "cell_type": "code",
   "source": [
    "df_otodom['outdoor area'] = df_otodom['outdoor area'].fillna('None')\n",
    "\n",
    "def standardize_outdoor_area(area):\n",
    "    if area == 'None':\n",
    "        return area\n",
    "    parts = sorted(set(area.replace(' ', '').split(',')))\n",
    "    return ', '.join(parts)\n",
    "\n",
    "df_otodom['outdoor area'] = df_otodom['outdoor area'].apply(standardize_outdoor_area)\n",
    "# outdoor_encoded = df_otodom['outdoor area'].str.get_dummies(sep=', ')\n",
    "# df_otodom = df_otodom.join(outdoor_encoded)"
   ],
   "outputs": [],
   "execution_count": 193
  },
  {
   "metadata": {},
   "cell_type": "markdown",
   "source": "#### ogłoszeniodawca"
  },
  {
   "metadata": {
    "ExecuteTime": {
     "end_time": "2024-04-28T17:35:05.656734Z",
     "start_time": "2024-04-28T17:35:05.648066Z"
    }
   },
   "cell_type": "code",
   "source": "df_otodom['advertiser type'].value_counts(dropna=False)",
   "outputs": [
    {
     "data": {
      "text/plain": [
       "advertiser type\n",
       "biuro nieruchomości    8864\n",
       "prywatny               1100\n",
       "deweloper               151\n",
       "Name: count, dtype: int64"
      ]
     },
     "execution_count": 194,
     "metadata": {},
     "output_type": "execute_result"
    }
   ],
   "execution_count": 194
  },
  {
   "metadata": {
    "ExecuteTime": {
     "end_time": "2024-04-28T17:35:05.892732Z",
     "start_time": "2024-04-28T17:35:05.887732Z"
    }
   },
   "cell_type": "code",
   "source": "df_otodom.loc[(df_otodom['advertiser type'].isna()), 'advertiser type'] = 'biuro nieruchomości'",
   "outputs": [],
   "execution_count": 195
  },
  {
   "metadata": {},
   "cell_type": "markdown",
   "source": "#### winda"
  },
  {
   "metadata": {
    "ExecuteTime": {
     "end_time": "2024-04-28T17:35:06.205688Z",
     "start_time": "2024-04-28T17:35:06.197731Z"
    }
   },
   "cell_type": "code",
   "source": "df_otodom['elevator'].value_counts(dropna=False)",
   "outputs": [
    {
     "data": {
      "text/plain": [
       "elevator\n",
       "tak    5462\n",
       "nie    4653\n",
       "Name: count, dtype: int64"
      ]
     },
     "execution_count": 196,
     "metadata": {},
     "output_type": "execute_result"
    }
   ],
   "execution_count": 196
  },
  {
   "metadata": {
    "ExecuteTime": {
     "end_time": "2024-04-28T17:35:06.444401Z",
     "start_time": "2024-04-28T17:35:06.436688Z"
    }
   },
   "cell_type": "code",
   "source": [
    "# Zgodnie z obowiązującym od 1960 prawem budowalnym\n",
    "df_otodom.loc[df_otodom['elevator'].isna() & (df_otodom['no of floors/stores in the building'] > 3), 'elevator'] = 'tak'\n",
    "df_otodom['elevator'] = df_otodom['elevator'].map({'tak': True, 'nie': False, np.nan: False})\n",
    "df_otodom['elevator'] = df_otodom['elevator'].astype(bool)"
   ],
   "outputs": [],
   "execution_count": 197
  },
  {
   "metadata": {},
   "cell_type": "markdown",
   "source": "#### typ budynku"
  },
  {
   "metadata": {
    "ExecuteTime": {
     "end_time": "2024-04-28T17:35:06.757541Z",
     "start_time": "2024-04-28T17:35:06.750400Z"
    }
   },
   "cell_type": "code",
   "source": "df_otodom['building type'].value_counts(dropna=False)",
   "outputs": [
    {
     "data": {
      "text/plain": [
       "building type\n",
       "blok                5027\n",
       "apartamentowiec     2031\n",
       "brak informacji     1754\n",
       "kamienica           1016\n",
       "dom wolnostojący     191\n",
       "szeregowiec           86\n",
       "plomba                 8\n",
       "loft                   2\n",
       "Name: count, dtype: int64"
      ]
     },
     "execution_count": 198,
     "metadata": {},
     "output_type": "execute_result"
    }
   ],
   "execution_count": 198
  },
  {
   "metadata": {},
   "cell_type": "markdown",
   "source": "#### materiał"
  },
  {
   "metadata": {
    "ExecuteTime": {
     "end_time": "2024-04-28T17:35:06.946003Z",
     "start_time": "2024-04-28T17:35:06.938552Z"
    }
   },
   "cell_type": "code",
   "source": "df_otodom['building type'].value_counts(dropna=False)",
   "outputs": [
    {
     "data": {
      "text/plain": [
       "building type\n",
       "blok                5027\n",
       "apartamentowiec     2031\n",
       "brak informacji     1754\n",
       "kamienica           1016\n",
       "dom wolnostojący     191\n",
       "szeregowiec           86\n",
       "plomba                 8\n",
       "loft                   2\n",
       "Name: count, dtype: int64"
      ]
     },
     "execution_count": 199,
     "metadata": {},
     "output_type": "execute_result"
    }
   ],
   "execution_count": 199
  },
  {
   "metadata": {},
   "cell_type": "markdown",
   "source": "## Adresy - wstępnie"
  },
  {
   "metadata": {
    "ExecuteTime": {
     "end_time": "2024-04-28T17:35:17.273905Z",
     "start_time": "2024-04-28T17:35:17.254025Z"
    }
   },
   "cell_type": "code",
   "source": [
    "# Usuń adresy spoza Krakowa\n",
    "print(df_otodom[~df_otodom['address'].str.contains(\"Kraków\", na=False)].shape[0])\n",
    "df_otodom = df_otodom[df_otodom['address'].str.contains(\"Kraków\", na=False)]"
   ],
   "outputs": [
    {
     "name": "stdout",
     "output_type": "stream",
     "text": [
      "110\n"
     ]
    }
   ],
   "execution_count": 200
  },
  {
   "cell_type": "code",
   "metadata": {
    "ExecuteTime": {
     "end_time": "2024-04-28T17:35:22.013633Z",
     "start_time": "2024-04-28T17:35:21.997188Z"
    }
   },
   "source": "df_otodom.info()",
   "outputs": [
    {
     "name": "stdout",
     "output_type": "stream",
     "text": [
      "<class 'pandas.core.frame.DataFrame'>\n",
      "Index: 10005 entries, 0 to 12671\n",
      "Data columns (total 21 columns):\n",
      " #   Column                               Non-Null Count  Dtype  \n",
      "---  ------                               --------------  -----  \n",
      " 0   url                                  10005 non-null  object \n",
      " 1   name/title                           10005 non-null  object \n",
      " 2   address                              10005 non-null  object \n",
      " 3   price                                10005 non-null  float64\n",
      " 4   area                                 10005 non-null  float64\n",
      " 5   price-per-area                       10005 non-null  float64\n",
      " 6   floor/store                          10005 non-null  int32  \n",
      " 7   no of floors/stores in the building  10005 non-null  int32  \n",
      " 8   no of rooms                          10005 non-null  int32  \n",
      " 9   year of construction                 8695 non-null   float64\n",
      " 10  parking space                        10005 non-null  bool   \n",
      " 11  market                               10005 non-null  object \n",
      " 12  form of ownership                    8990 non-null   object \n",
      " 13  condition                            7702 non-null   object \n",
      " 14  rent                                 5282 non-null   float64\n",
      " 15  heating                              8092 non-null   object \n",
      " 16  advertiser type                      10005 non-null  object \n",
      " 17  elevator                             10005 non-null  bool   \n",
      " 18  outdoor area                         10005 non-null  object \n",
      " 19  building type                        10005 non-null  object \n",
      " 20  building material                    10005 non-null  object \n",
      "dtypes: bool(2), float64(5), int32(3), object(11)\n",
      "memory usage: 1.4+ MB\n"
     ]
    }
   ],
   "execution_count": 201
  },
  {
   "metadata": {
    "ExecuteTime": {
     "end_time": "2024-04-28T16:36:01.084351Z",
     "start_time": "2024-04-28T16:36:01.073256Z"
    }
   },
   "cell_type": "code",
   "source": [
    "nan_row_count = df_otodom.isna().any(axis=1).sum()\n",
    "df_otodom.shape[0] - nan_row_count"
   ],
   "outputs": [
    {
     "data": {
      "text/plain": [
       "3652"
      ]
     },
     "execution_count": 59,
     "metadata": {},
     "output_type": "execute_result"
    }
   ],
   "execution_count": 59
  },
  {
   "cell_type": "markdown",
   "metadata": {},
   "source": "# Zbiór danych nieruchomosci-online"
  },
  {
   "metadata": {},
   "cell_type": "markdown",
   "source": "### Załadowanie i agregacja danych"
  },
  {
   "cell_type": "code",
   "metadata": {
    "ExecuteTime": {
     "end_time": "2024-04-28T16:36:18.508973Z",
     "start_time": "2024-04-28T16:36:18.395233Z"
    }
   },
   "source": [
    "df_nieruchomosci = pd.read_csv('datasets/nieruchomosci-online_dataset_raw.csv')\n",
    "df_2024_03_25_nieruchomosci_new_data = pd.read_csv('datasets/timestamps/2024-03-25-nieruchomosci-online-new_data.csv')\n",
    "df_2024_03_25_nieruchomosci_updated_data = pd.read_csv('datasets/timestamps/2024-03-25-nieruchomosci-online-updated_data.csv')\n",
    "df_2024_04_07_nieruchomosci_new_data = pd.read_csv('datasets/timestamps/2024-04-07-nieruchomosci-online-new_data.csv')\n",
    "df_2024_04_07_nieruchomosci_updated_data = pd.read_csv('datasets/timestamps/2024-04-07-nieruchomosci-online-updated_data.csv')\n",
    "df_2024_04_21_nieruchomosci_new_data = pd.read_csv('datasets/timestamps/2024-04-21-nieruchomosci-online-new_data.csv')\n",
    "df_2024_04_21_nieruchomosci_updated_data = pd.read_csv('datasets/timestamps/2024-04-21-nieruchomosci-online-updated_data.csv')"
   ],
   "outputs": [],
   "execution_count": 70
  },
  {
   "metadata": {
    "ExecuteTime": {
     "end_time": "2024-04-28T16:36:18.592491Z",
     "start_time": "2024-04-28T16:36:18.510973Z"
    }
   },
   "cell_type": "code",
   "source": [
    "df_nieruchomosci = update_dataframe(df_nieruchomosci, df_2024_03_25_nieruchomosci_updated_data, df_2024_03_25_nieruchomosci_new_data)\n",
    "df_nieruchomosci = update_dataframe(df_nieruchomosci, df_2024_04_07_nieruchomosci_updated_data, df_2024_04_07_nieruchomosci_new_data)\n",
    "df_nieruchomosci = update_dataframe(df_nieruchomosci, df_2024_04_21_nieruchomosci_updated_data, df_2024_04_21_nieruchomosci_new_data)"
   ],
   "outputs": [],
   "execution_count": 71
  },
  {
   "cell_type": "code",
   "metadata": {
    "ExecuteTime": {
     "end_time": "2024-04-28T16:36:18.614702Z",
     "start_time": "2024-04-28T16:36:18.597489Z"
    }
   },
   "source": [
    "df_nieruchomosci.info()"
   ],
   "outputs": [
    {
     "name": "stdout",
     "output_type": "stream",
     "text": [
      "<class 'pandas.core.frame.DataFrame'>\n",
      "RangeIndex: 8753 entries, 0 to 8752\n",
      "Data columns (total 13 columns):\n",
      " #   Column                               Non-Null Count  Dtype  \n",
      "---  ------                               --------------  -----  \n",
      " 0   url                                  8753 non-null   object \n",
      " 1   name/title                           8753 non-null   object \n",
      " 2   address                              8454 non-null   object \n",
      " 3   price                                8657 non-null   object \n",
      " 4   area                                 8753 non-null   object \n",
      " 5   price-per-area                       8657 non-null   object \n",
      " 6   floor/store                          8753 non-null   object \n",
      " 7   no of floors/stores in the building  8209 non-null   float64\n",
      " 8   no of rooms                          8753 non-null   object \n",
      " 9   year of construction                 8753 non-null   object \n",
      " 10  parking space                        8753 non-null   object \n",
      " 11  market                               8694 non-null   object \n",
      " 12  form of ownership                    3900 non-null   object \n",
      "dtypes: float64(1), object(12)\n",
      "memory usage: 889.1+ KB\n"
     ]
    }
   ],
   "execution_count": 72
  },
  {
   "cell_type": "markdown",
   "metadata": {},
   "source": [
    "### Cena i cena za metr\n",
    "#### Usunięcie wierszy z brakującymi danymi"
   ]
  },
  {
   "cell_type": "code",
   "metadata": {
    "ExecuteTime": {
     "end_time": "2024-04-28T16:36:18.632378Z",
     "start_time": "2024-04-28T16:36:18.617697Z"
    }
   },
   "source": [
    "print(df_nieruchomosci[df_nieruchomosci['price'].isnull()].shape[0])\n",
    "df_nieruchomosci.drop(df_nieruchomosci[df_nieruchomosci['price'].isnull()].index, inplace=True)"
   ],
   "outputs": [
    {
     "name": "stdout",
     "output_type": "stream",
     "text": [
      "96\n"
     ]
    }
   ],
   "execution_count": 73
  },
  {
   "cell_type": "code",
   "metadata": {
    "ExecuteTime": {
     "end_time": "2024-04-28T16:36:18.649941Z",
     "start_time": "2024-04-28T16:36:18.634377Z"
    }
   },
   "source": [
    "# sprawdzenie, czy są jakieś wartości w kolumnie price-per-area, które nie zawierają danych liczbowych\n",
    "df_nieruchomosci[~df_nieruchomosci['price-per-area'].str.contains(r'\\d')].shape[0]"
   ],
   "outputs": [
    {
     "data": {
      "text/plain": [
       "0"
      ]
     },
     "execution_count": 74,
     "metadata": {},
     "output_type": "execute_result"
    }
   ],
   "execution_count": 74
  },
  {
   "cell_type": "code",
   "metadata": {
    "ExecuteTime": {
     "end_time": "2024-04-28T16:36:18.673422Z",
     "start_time": "2024-04-28T16:36:18.651908Z"
    }
   },
   "source": [
    "# sprawdzenie, czy są jakieś wartości w kolumnie price, które nie zawierają danych liczbowych\n",
    "df_nieruchomosci[~df_nieruchomosci['price'].str.contains(r'\\d')].shape[0]"
   ],
   "outputs": [
    {
     "data": {
      "text/plain": [
       "0"
      ]
     },
     "execution_count": 75,
     "metadata": {},
     "output_type": "execute_result"
    }
   ],
   "execution_count": 75
  },
  {
   "cell_type": "markdown",
   "metadata": {},
   "source": [
    "### Zamiana cen podanych w innych walutach"
   ]
  },
  {
   "cell_type": "code",
   "metadata": {
    "ExecuteTime": {
     "end_time": "2024-04-28T16:36:18.720168Z",
     "start_time": "2024-04-28T16:36:18.679422Z"
    }
   },
   "source": [
    "# wartości w kolumnie 'price' podane w innej walucie\n",
    "# price-per-area w innej walucie\n",
    "\n",
    "# df_nieruchomosci[~df_nieruchomosci['price'].str.contains('zł')].copy()\n",
    "# df_nieruchomosci[~df_nieruchomosci['price-per-area'].str.contains('zł')].copy()\n",
    "\n",
    "different_currency_price = pd.concat([df_nieruchomosci[~df_nieruchomosci['price'].str.contains('zł')].copy(), df_nieruchomosci[~df_nieruchomosci['price-per-area'].str.contains('zł')].copy()]).drop_duplicates()\n",
    "different_currency_price"
   ],
   "outputs": [
    {
     "data": {
      "text/plain": [
       "                                                    url  \\\n",
       "153   https://krakow.nieruchomosci-online.pl/mieszka...   \n",
       "1120  https://krakow.nieruchomosci-online.pl/mieszka...   \n",
       "1151  https://krakow.nieruchomosci-online.pl/mieszka...   \n",
       "2096  https://krakow.nieruchomosci-online.pl/mieszka...   \n",
       "2241  https://krakow.nieruchomosci-online.pl/mieszka...   \n",
       "2562  https://krakow.nieruchomosci-online.pl/mieszka...   \n",
       "2927  https://krakow.nieruchomosci-online.pl/mieszka...   \n",
       "2991  https://krakow.nieruchomosci-online.pl/mieszka...   \n",
       "3364  https://krakow.nieruchomosci-online.pl/mieszka...   \n",
       "8480  https://krakow.nieruchomosci-online.pl/mieszka...   \n",
       "\n",
       "                             name/title  \\\n",
       "153        Mieszkanie, ul. Piłsudskiego   \n",
       "1120       Mieszkanie, ul. Piłsudskiego   \n",
       "1151       Mieszkanie, ul. Piłsudskiego   \n",
       "2096       Mieszkanie, ul. Piłsudskiego   \n",
       "2241       Mieszkanie, ul. Piłsudskiego   \n",
       "2562                  Apartament Kraków   \n",
       "2927  Mieszkanie, Plac Juliusza Kossaka   \n",
       "2991                  Mieszkanie Kraków   \n",
       "3364  Mieszkanie Stare Miasto, ul. Jana   \n",
       "8480         Mieszkanie, ul. Mazowiecka   \n",
       "\n",
       "                                                address        price  \\\n",
       "153     Piłsudskiego, Stare Miasto, Kraków, małopolskie  1 149 999 €   \n",
       "1120    Piłsudskiego, Stare Miasto, Kraków, małopolskie  1 149 999 €   \n",
       "1151    Piłsudskiego, Stare Miasto, Kraków, małopolskie  1 150 000 €   \n",
       "2096    Piłsudskiego, Stare Miasto, Kraków, małopolskie  1 150 000 €   \n",
       "2241      Piłsudskiego, Nowy Świat, Kraków, małopolskie  1 150 000 €   \n",
       "2562                                Kraków, małopolskie    138 000 €   \n",
       "2927  Plac Juliusza Kossaka, Stare Miasto, Kraków, m...    700 000 €   \n",
       "2991  marszałka JózefaPiłsudskiego, Wawel, Kraków, m...  1 150 000 €   \n",
       "3364            Jana, Stare Miasto, Kraków, małopolskie  1 000 000 €   \n",
       "8480         Mazowiecka, Krowodrza, Kraków, małopolskie    370 000 €   \n",
       "\n",
       "           area price-per-area floor/store  \\\n",
       "153   232,10 m²  4 954,76 €/m²           4   \n",
       "1120  232,10 m²  4 954,76 €/m²           4   \n",
       "1151  232,10 m²  4 954,76 €/m²           4   \n",
       "2096     228 m²  5 043,86 €/m²           4   \n",
       "2241  228,70 m²  5 028,42 €/m²           4   \n",
       "2562      65 m²  2 123,08 €/m²          21   \n",
       "2927     152 m²  4 605,26 €/m²           1   \n",
       "2991     232 m²  4 956,90 €/m²           4   \n",
       "3364  221,19 m²     4 521 €/m²           4   \n",
       "8480      84 m²  4 404,76 €/m²           5   \n",
       "\n",
       "      no of floors/stores in the building no of rooms year of construction  \\\n",
       "153                                   4.0           5                 1906   \n",
       "1120                                  4.0           5                 1908   \n",
       "1151                                  5.0           5                 1906   \n",
       "2096                                  5.0           5                 1906   \n",
       "2241                                  5.0           5                 1906   \n",
       "2562                                 45.0           2                 2023   \n",
       "2927                                  4.0           4                 1930   \n",
       "2991                                  5.0           9                 1906   \n",
       "3364                                  4.0           4                 1850   \n",
       "8480                                  6.0           3                 1936   \n",
       "\n",
       "                     parking space  market form of ownership  \n",
       "153    parking strzeżony w pobliżu  wtórny               NaN  \n",
       "1120                         garaż  wtórny               NaN  \n",
       "1151  parking publiczny / na ulicy  wtórny               NaN  \n",
       "2096  parking publiczny / na ulicy  wtórny          własność  \n",
       "2241                             -  wtórny               NaN  \n",
       "2562                             -  wtórny               NaN  \n",
       "2927                             -  wtórny               NaN  \n",
       "2991                             -  wtórny               NaN  \n",
       "3364                             -  wtórny               NaN  \n",
       "8480                             -  wtórny               NaN  "
      ],
      "text/html": [
       "<div>\n",
       "<style scoped>\n",
       "    .dataframe tbody tr th:only-of-type {\n",
       "        vertical-align: middle;\n",
       "    }\n",
       "\n",
       "    .dataframe tbody tr th {\n",
       "        vertical-align: top;\n",
       "    }\n",
       "\n",
       "    .dataframe thead th {\n",
       "        text-align: right;\n",
       "    }\n",
       "</style>\n",
       "<table border=\"1\" class=\"dataframe\">\n",
       "  <thead>\n",
       "    <tr style=\"text-align: right;\">\n",
       "      <th></th>\n",
       "      <th>url</th>\n",
       "      <th>name/title</th>\n",
       "      <th>address</th>\n",
       "      <th>price</th>\n",
       "      <th>area</th>\n",
       "      <th>price-per-area</th>\n",
       "      <th>floor/store</th>\n",
       "      <th>no of floors/stores in the building</th>\n",
       "      <th>no of rooms</th>\n",
       "      <th>year of construction</th>\n",
       "      <th>parking space</th>\n",
       "      <th>market</th>\n",
       "      <th>form of ownership</th>\n",
       "    </tr>\n",
       "  </thead>\n",
       "  <tbody>\n",
       "    <tr>\n",
       "      <th>153</th>\n",
       "      <td>https://krakow.nieruchomosci-online.pl/mieszka...</td>\n",
       "      <td>Mieszkanie, ul. Piłsudskiego</td>\n",
       "      <td>Piłsudskiego, Stare Miasto, Kraków, małopolskie</td>\n",
       "      <td>1 149 999 €</td>\n",
       "      <td>232,10 m²</td>\n",
       "      <td>4 954,76 €/m²</td>\n",
       "      <td>4</td>\n",
       "      <td>4.0</td>\n",
       "      <td>5</td>\n",
       "      <td>1906</td>\n",
       "      <td>parking strzeżony w pobliżu</td>\n",
       "      <td>wtórny</td>\n",
       "      <td>NaN</td>\n",
       "    </tr>\n",
       "    <tr>\n",
       "      <th>1120</th>\n",
       "      <td>https://krakow.nieruchomosci-online.pl/mieszka...</td>\n",
       "      <td>Mieszkanie, ul. Piłsudskiego</td>\n",
       "      <td>Piłsudskiego, Stare Miasto, Kraków, małopolskie</td>\n",
       "      <td>1 149 999 €</td>\n",
       "      <td>232,10 m²</td>\n",
       "      <td>4 954,76 €/m²</td>\n",
       "      <td>4</td>\n",
       "      <td>4.0</td>\n",
       "      <td>5</td>\n",
       "      <td>1908</td>\n",
       "      <td>garaż</td>\n",
       "      <td>wtórny</td>\n",
       "      <td>NaN</td>\n",
       "    </tr>\n",
       "    <tr>\n",
       "      <th>1151</th>\n",
       "      <td>https://krakow.nieruchomosci-online.pl/mieszka...</td>\n",
       "      <td>Mieszkanie, ul. Piłsudskiego</td>\n",
       "      <td>Piłsudskiego, Stare Miasto, Kraków, małopolskie</td>\n",
       "      <td>1 150 000 €</td>\n",
       "      <td>232,10 m²</td>\n",
       "      <td>4 954,76 €/m²</td>\n",
       "      <td>4</td>\n",
       "      <td>5.0</td>\n",
       "      <td>5</td>\n",
       "      <td>1906</td>\n",
       "      <td>parking publiczny / na ulicy</td>\n",
       "      <td>wtórny</td>\n",
       "      <td>NaN</td>\n",
       "    </tr>\n",
       "    <tr>\n",
       "      <th>2096</th>\n",
       "      <td>https://krakow.nieruchomosci-online.pl/mieszka...</td>\n",
       "      <td>Mieszkanie, ul. Piłsudskiego</td>\n",
       "      <td>Piłsudskiego, Stare Miasto, Kraków, małopolskie</td>\n",
       "      <td>1 150 000 €</td>\n",
       "      <td>228 m²</td>\n",
       "      <td>5 043,86 €/m²</td>\n",
       "      <td>4</td>\n",
       "      <td>5.0</td>\n",
       "      <td>5</td>\n",
       "      <td>1906</td>\n",
       "      <td>parking publiczny / na ulicy</td>\n",
       "      <td>wtórny</td>\n",
       "      <td>własność</td>\n",
       "    </tr>\n",
       "    <tr>\n",
       "      <th>2241</th>\n",
       "      <td>https://krakow.nieruchomosci-online.pl/mieszka...</td>\n",
       "      <td>Mieszkanie, ul. Piłsudskiego</td>\n",
       "      <td>Piłsudskiego, Nowy Świat, Kraków, małopolskie</td>\n",
       "      <td>1 150 000 €</td>\n",
       "      <td>228,70 m²</td>\n",
       "      <td>5 028,42 €/m²</td>\n",
       "      <td>4</td>\n",
       "      <td>5.0</td>\n",
       "      <td>5</td>\n",
       "      <td>1906</td>\n",
       "      <td>-</td>\n",
       "      <td>wtórny</td>\n",
       "      <td>NaN</td>\n",
       "    </tr>\n",
       "    <tr>\n",
       "      <th>2562</th>\n",
       "      <td>https://krakow.nieruchomosci-online.pl/mieszka...</td>\n",
       "      <td>Apartament Kraków</td>\n",
       "      <td>Kraków, małopolskie</td>\n",
       "      <td>138 000 €</td>\n",
       "      <td>65 m²</td>\n",
       "      <td>2 123,08 €/m²</td>\n",
       "      <td>21</td>\n",
       "      <td>45.0</td>\n",
       "      <td>2</td>\n",
       "      <td>2023</td>\n",
       "      <td>-</td>\n",
       "      <td>wtórny</td>\n",
       "      <td>NaN</td>\n",
       "    </tr>\n",
       "    <tr>\n",
       "      <th>2927</th>\n",
       "      <td>https://krakow.nieruchomosci-online.pl/mieszka...</td>\n",
       "      <td>Mieszkanie, Plac Juliusza Kossaka</td>\n",
       "      <td>Plac Juliusza Kossaka, Stare Miasto, Kraków, m...</td>\n",
       "      <td>700 000 €</td>\n",
       "      <td>152 m²</td>\n",
       "      <td>4 605,26 €/m²</td>\n",
       "      <td>1</td>\n",
       "      <td>4.0</td>\n",
       "      <td>4</td>\n",
       "      <td>1930</td>\n",
       "      <td>-</td>\n",
       "      <td>wtórny</td>\n",
       "      <td>NaN</td>\n",
       "    </tr>\n",
       "    <tr>\n",
       "      <th>2991</th>\n",
       "      <td>https://krakow.nieruchomosci-online.pl/mieszka...</td>\n",
       "      <td>Mieszkanie Kraków</td>\n",
       "      <td>marszałka JózefaPiłsudskiego, Wawel, Kraków, m...</td>\n",
       "      <td>1 150 000 €</td>\n",
       "      <td>232 m²</td>\n",
       "      <td>4 956,90 €/m²</td>\n",
       "      <td>4</td>\n",
       "      <td>5.0</td>\n",
       "      <td>9</td>\n",
       "      <td>1906</td>\n",
       "      <td>-</td>\n",
       "      <td>wtórny</td>\n",
       "      <td>NaN</td>\n",
       "    </tr>\n",
       "    <tr>\n",
       "      <th>3364</th>\n",
       "      <td>https://krakow.nieruchomosci-online.pl/mieszka...</td>\n",
       "      <td>Mieszkanie Stare Miasto, ul. Jana</td>\n",
       "      <td>Jana, Stare Miasto, Kraków, małopolskie</td>\n",
       "      <td>1 000 000 €</td>\n",
       "      <td>221,19 m²</td>\n",
       "      <td>4 521 €/m²</td>\n",
       "      <td>4</td>\n",
       "      <td>4.0</td>\n",
       "      <td>4</td>\n",
       "      <td>1850</td>\n",
       "      <td>-</td>\n",
       "      <td>wtórny</td>\n",
       "      <td>NaN</td>\n",
       "    </tr>\n",
       "    <tr>\n",
       "      <th>8480</th>\n",
       "      <td>https://krakow.nieruchomosci-online.pl/mieszka...</td>\n",
       "      <td>Mieszkanie, ul. Mazowiecka</td>\n",
       "      <td>Mazowiecka, Krowodrza, Kraków, małopolskie</td>\n",
       "      <td>370 000 €</td>\n",
       "      <td>84 m²</td>\n",
       "      <td>4 404,76 €/m²</td>\n",
       "      <td>5</td>\n",
       "      <td>6.0</td>\n",
       "      <td>3</td>\n",
       "      <td>1936</td>\n",
       "      <td>-</td>\n",
       "      <td>wtórny</td>\n",
       "      <td>NaN</td>\n",
       "    </tr>\n",
       "  </tbody>\n",
       "</table>\n",
       "</div>"
      ]
     },
     "execution_count": 76,
     "metadata": {},
     "output_type": "execute_result"
    }
   ],
   "execution_count": 76
  },
  {
   "cell_type": "code",
   "metadata": {
    "ExecuteTime": {
     "end_time": "2024-04-28T16:36:18.779168Z",
     "start_time": "2024-04-28T16:36:18.722167Z"
    }
   },
   "source": [
    "# zamiana cen na wartości liczbowe\n",
    "df_nieruchomosci['price'] = df_nieruchomosci['price'].str.replace(' ', '').str.replace(',', '.').str.extract('(\\d+\\.\\d+|\\d+)').astype(float)\n",
    "\n",
    "df_nieruchomosci['price-per-area'] = df_nieruchomosci['price-per-area'].str.replace(' ', '').str.replace(',', '.').str.extract('(\\d+\\.\\d+|\\d+)').astype(float)"
   ],
   "outputs": [],
   "execution_count": 77
  },
  {
   "cell_type": "code",
   "metadata": {
    "ExecuteTime": {
     "end_time": "2024-04-28T16:36:18.790306Z",
     "start_time": "2024-04-28T16:36:18.781167Z"
    }
   },
   "source": "print(df_nieruchomosci.loc[different_currency_price.index, ['price', 'price-per-area']])",
   "outputs": [
    {
     "name": "stdout",
     "output_type": "stream",
     "text": [
      "          price  price-per-area\n",
      "153   1149999.0         4954.76\n",
      "1120  1149999.0         4954.76\n",
      "1151  1150000.0         4954.76\n",
      "2096  1150000.0         5043.86\n",
      "2241  1150000.0         5028.42\n",
      "2562   138000.0         2123.08\n",
      "2927   700000.0         4605.26\n",
      "2991  1150000.0         4956.90\n",
      "3364  1000000.0         4521.00\n",
      "8480   370000.0         4404.76\n"
     ]
    }
   ],
   "execution_count": 78
  },
  {
   "cell_type": "code",
   "metadata": {
    "ExecuteTime": {
     "end_time": "2024-04-28T16:36:18.799434Z",
     "start_time": "2024-04-28T16:36:18.792280Z"
    }
   },
   "source": [
    "# kurs na 5.04.2024\n",
    "# euro_exchange_rate = 4.28\n",
    "\n",
    "df_nieruchomosci.loc[different_currency_price.index, 'price'] *= euro_exchange_rate\n",
    "df_nieruchomosci.loc[different_currency_price.index, 'price-per-area'] *= euro_exchange_rate"
   ],
   "outputs": [],
   "execution_count": 79
  },
  {
   "cell_type": "code",
   "metadata": {
    "ExecuteTime": {
     "end_time": "2024-04-28T16:36:18.811043Z",
     "start_time": "2024-04-28T16:36:18.800431Z"
    }
   },
   "source": "df_nieruchomosci.loc[different_currency_price.index, ['price', 'price-per-area']]",
   "outputs": [
    {
     "data": {
      "text/plain": [
       "             price  price-per-area\n",
       "153   4.949372e+06    21324.322844\n",
       "1120  4.949372e+06    21324.322844\n",
       "1151  4.949376e+06    21324.322844\n",
       "2096  4.949376e+06    21707.791905\n",
       "2241  4.949376e+06    21641.341149\n",
       "2562  5.939251e+05     9137.323169\n",
       "2927  3.012664e+06    19820.142856\n",
       "2991  4.949376e+06    21333.532987\n",
       "3364  4.303805e+06    19457.504213\n",
       "8480  1.592408e+06    18957.229874"
      ],
      "text/html": [
       "<div>\n",
       "<style scoped>\n",
       "    .dataframe tbody tr th:only-of-type {\n",
       "        vertical-align: middle;\n",
       "    }\n",
       "\n",
       "    .dataframe tbody tr th {\n",
       "        vertical-align: top;\n",
       "    }\n",
       "\n",
       "    .dataframe thead th {\n",
       "        text-align: right;\n",
       "    }\n",
       "</style>\n",
       "<table border=\"1\" class=\"dataframe\">\n",
       "  <thead>\n",
       "    <tr style=\"text-align: right;\">\n",
       "      <th></th>\n",
       "      <th>price</th>\n",
       "      <th>price-per-area</th>\n",
       "    </tr>\n",
       "  </thead>\n",
       "  <tbody>\n",
       "    <tr>\n",
       "      <th>153</th>\n",
       "      <td>4.949372e+06</td>\n",
       "      <td>21324.322844</td>\n",
       "    </tr>\n",
       "    <tr>\n",
       "      <th>1120</th>\n",
       "      <td>4.949372e+06</td>\n",
       "      <td>21324.322844</td>\n",
       "    </tr>\n",
       "    <tr>\n",
       "      <th>1151</th>\n",
       "      <td>4.949376e+06</td>\n",
       "      <td>21324.322844</td>\n",
       "    </tr>\n",
       "    <tr>\n",
       "      <th>2096</th>\n",
       "      <td>4.949376e+06</td>\n",
       "      <td>21707.791905</td>\n",
       "    </tr>\n",
       "    <tr>\n",
       "      <th>2241</th>\n",
       "      <td>4.949376e+06</td>\n",
       "      <td>21641.341149</td>\n",
       "    </tr>\n",
       "    <tr>\n",
       "      <th>2562</th>\n",
       "      <td>5.939251e+05</td>\n",
       "      <td>9137.323169</td>\n",
       "    </tr>\n",
       "    <tr>\n",
       "      <th>2927</th>\n",
       "      <td>3.012664e+06</td>\n",
       "      <td>19820.142856</td>\n",
       "    </tr>\n",
       "    <tr>\n",
       "      <th>2991</th>\n",
       "      <td>4.949376e+06</td>\n",
       "      <td>21333.532987</td>\n",
       "    </tr>\n",
       "    <tr>\n",
       "      <th>3364</th>\n",
       "      <td>4.303805e+06</td>\n",
       "      <td>19457.504213</td>\n",
       "    </tr>\n",
       "    <tr>\n",
       "      <th>8480</th>\n",
       "      <td>1.592408e+06</td>\n",
       "      <td>18957.229874</td>\n",
       "    </tr>\n",
       "  </tbody>\n",
       "</table>\n",
       "</div>"
      ]
     },
     "execution_count": 80,
     "metadata": {},
     "output_type": "execute_result"
    }
   ],
   "execution_count": 80
  },
  {
   "cell_type": "markdown",
   "metadata": {},
   "source": "### Usunięcie wierszy z przesunięciem danych w kolumnach"
  },
  {
   "cell_type": "code",
   "metadata": {
    "ExecuteTime": {
     "end_time": "2024-04-28T16:36:18.834044Z",
     "start_time": "2024-04-28T16:36:18.814040Z"
    }
   },
   "source": [
    "\n",
    "print(df_nieruchomosci['no of rooms'].str.contains('-', na=False).sum())\n",
    "df_nieruchomosci.drop(df_nieruchomosci[df_nieruchomosci['no of rooms'].str.contains('-', na=False)].index, inplace=True)\n"
   ],
   "outputs": [
    {
     "name": "stdout",
     "output_type": "stream",
     "text": [
      "18\n"
     ]
    }
   ],
   "execution_count": 81
  },
  {
   "cell_type": "code",
   "metadata": {
    "ExecuteTime": {
     "end_time": "2024-04-28T16:36:18.860137Z",
     "start_time": "2024-04-28T16:36:18.840041Z"
    }
   },
   "source": [
    "print(df_nieruchomosci['no of rooms'].str.contains(r'\\D', na=False).sum())\n",
    "df_nieruchomosci.drop(df_nieruchomosci[df_nieruchomosci['no of rooms'].str.contains(r'\\D', na=False)].index, inplace=True)\n"
   ],
   "outputs": [
    {
     "name": "stdout",
     "output_type": "stream",
     "text": [
      "57\n"
     ]
    }
   ],
   "execution_count": 82
  },
  {
   "metadata": {},
   "cell_type": "markdown",
   "source": "### Liczba pokoji, i pięter"
  },
  {
   "cell_type": "markdown",
   "metadata": {},
   "source": "#### Zamiana wartości w kolumnach na typ liczbowy"
  },
  {
   "cell_type": "code",
   "metadata": {
    "ExecuteTime": {
     "end_time": "2024-04-28T16:36:18.867769Z",
     "start_time": "2024-04-28T16:36:18.862133Z"
    }
   },
   "source": [
    "df_nieruchomosci['no of rooms'] = df_nieruchomosci['no of rooms'].astype(int)"
   ],
   "outputs": [],
   "execution_count": 83
  },
  {
   "cell_type": "code",
   "metadata": {
    "ExecuteTime": {
     "end_time": "2024-04-28T16:36:18.886913Z",
     "start_time": "2024-04-28T16:36:18.868766Z"
    }
   },
   "source": "df_nieruchomosci['area'] = df_nieruchomosci['area'].str.replace(' m²', '').str.replace(',', '.').astype(float)",
   "outputs": [],
   "execution_count": 84
  },
  {
   "cell_type": "code",
   "metadata": {
    "ExecuteTime": {
     "end_time": "2024-04-28T16:36:18.927278Z",
     "start_time": "2024-04-28T16:36:18.888912Z"
    }
   },
   "source": [
    "df_nieruchomosci[df_nieruchomosci['floor/store'].str.contains('parter')]"
   ],
   "outputs": [
    {
     "data": {
      "text/plain": [
       "                                                    url  \\\n",
       "4     https://krakow.nieruchomosci-online.pl/mieszka...   \n",
       "5     https://krakow.nieruchomosci-online.pl/mieszka...   \n",
       "9     https://krakow.nieruchomosci-online.pl/mieszka...   \n",
       "12    https://krakow.nieruchomosci-online.pl/mieszka...   \n",
       "18    https://krakow.nieruchomosci-online.pl/mieszka...   \n",
       "...                                                 ...   \n",
       "8712  https://krakow.nieruchomosci-online.pl/mieszka...   \n",
       "8726  https://krakow.nieruchomosci-online.pl/mieszka...   \n",
       "8730  https://krakow.nieruchomosci-online.pl/mieszka...   \n",
       "8731  https://krakow.nieruchomosci-online.pl/mieszka...   \n",
       "8750  https://krakow.nieruchomosci-online.pl/mieszka...   \n",
       "\n",
       "                         name/title  \\\n",
       "4          Mieszkanie, ul. Pustynna   \n",
       "5                 Apartament Kraków   \n",
       "9     Apartament, ul. Szablowskiego   \n",
       "12           Mieszkanie, ul. Ułanów   \n",
       "18          Mieszkanie, ul. Obozowa   \n",
       "...                             ...   \n",
       "8712   Mieszkanie, ul. Szymańskiego   \n",
       "8726        Mieszkanie, ul. Glogera   \n",
       "8730      Mieszkanie, ul. Kołłątaja   \n",
       "8731         Mieszkanie, ul. Sławka   \n",
       "8750               Kawalerka Kraków   \n",
       "\n",
       "                                                address      price   area  \\\n",
       "4                  Pustynna, Kliny, Kraków, małopolskie  1200000.0  71.06   \n",
       "5                   Wola Justowska, Kraków, małopolskie  1198680.0  71.35   \n",
       "9         Szablowskiego, Bronowice, Kraków, małopolskie   599000.0  40.00   \n",
       "12        Ułanów, Prądnik Czerwony, Kraków, małopolskie   790000.0  58.00   \n",
       "18                 Obozowa, Ruczaj, Kraków, małopolskie   689900.0  51.94   \n",
       "...                                                 ...        ...    ...   \n",
       "8712         Szymańskiego, Branice, Kraków, małopolskie   371400.0  30.95   \n",
       "8726        Glogera, Prądnik Biały, Kraków, małopolskie   800000.0  47.21   \n",
       "8730                     Kołłątaja, Kraków, małopolskie  1059000.0  60.57   \n",
       "8731  Sławka, Dzielnica XI Podgórze Duchackie, Krakó...   409999.0  31.00   \n",
       "8750                  Stare Miasto, Kraków, małopolskie   295000.0  15.00   \n",
       "\n",
       "      price-per-area floor/store  no of floors/stores in the building  \\\n",
       "4           16887.14      parter                                  1.0   \n",
       "5           16800.00      parter                                  2.0   \n",
       "9           14975.00      parter                                  3.0   \n",
       "12          13620.69      parter                                 10.0   \n",
       "18          13282.63      parter                                  7.0   \n",
       "...              ...         ...                                  ...   \n",
       "8712        12000.00      parter                                  4.0   \n",
       "8726        16945.56      parter                                  3.0   \n",
       "8730        17483.90      parter                                  4.0   \n",
       "8731        13225.77      parter                                  2.0   \n",
       "8750        19666.67      parter                                  2.0   \n",
       "\n",
       "      no of rooms year of construction                 parking space  \\\n",
       "4               3                 2013         garaż w bryle budynku   \n",
       "5               4                 2023         garaż w bryle budynku   \n",
       "9               2                 2001                           tak   \n",
       "12              3                 1962                             -   \n",
       "18              2                 2012          przynależne na ulicy   \n",
       "...           ...                  ...                           ...   \n",
       "8712            2                 2025                           tak   \n",
       "8726            3                 2021                           tak   \n",
       "8730            3                 1908          przynależne na ulicy   \n",
       "8731            2                 2024            garaż wolnostojący   \n",
       "8750            1                 1913  parking publiczny / na ulicy   \n",
       "\n",
       "                                                 market  \\\n",
       "4                                                wtórny   \n",
       "5     pierwotny (zobacz inne nowe mieszkania w Krako...   \n",
       "9                                                wtórny   \n",
       "12                                               wtórny   \n",
       "18                                               wtórny   \n",
       "...                                                 ...   \n",
       "8712  pierwotny (zobacz inne nowe mieszkania w Krako...   \n",
       "8726                                             wtórny   \n",
       "8730                                             wtórny   \n",
       "8731  pierwotny (zobacz inne nowe mieszkania w Krako...   \n",
       "8750                                             wtórny   \n",
       "\n",
       "               form of ownership  \n",
       "4     własność, księga wieczysta  \n",
       "5                       własność  \n",
       "9     własność, księga wieczysta  \n",
       "12    własność, księga wieczysta  \n",
       "18    własność, księga wieczysta  \n",
       "...                          ...  \n",
       "8712                         NaN  \n",
       "8726                         NaN  \n",
       "8730                    własność  \n",
       "8731                    własność  \n",
       "8750                         NaN  \n",
       "\n",
       "[1608 rows x 13 columns]"
      ],
      "text/html": [
       "<div>\n",
       "<style scoped>\n",
       "    .dataframe tbody tr th:only-of-type {\n",
       "        vertical-align: middle;\n",
       "    }\n",
       "\n",
       "    .dataframe tbody tr th {\n",
       "        vertical-align: top;\n",
       "    }\n",
       "\n",
       "    .dataframe thead th {\n",
       "        text-align: right;\n",
       "    }\n",
       "</style>\n",
       "<table border=\"1\" class=\"dataframe\">\n",
       "  <thead>\n",
       "    <tr style=\"text-align: right;\">\n",
       "      <th></th>\n",
       "      <th>url</th>\n",
       "      <th>name/title</th>\n",
       "      <th>address</th>\n",
       "      <th>price</th>\n",
       "      <th>area</th>\n",
       "      <th>price-per-area</th>\n",
       "      <th>floor/store</th>\n",
       "      <th>no of floors/stores in the building</th>\n",
       "      <th>no of rooms</th>\n",
       "      <th>year of construction</th>\n",
       "      <th>parking space</th>\n",
       "      <th>market</th>\n",
       "      <th>form of ownership</th>\n",
       "    </tr>\n",
       "  </thead>\n",
       "  <tbody>\n",
       "    <tr>\n",
       "      <th>4</th>\n",
       "      <td>https://krakow.nieruchomosci-online.pl/mieszka...</td>\n",
       "      <td>Mieszkanie, ul. Pustynna</td>\n",
       "      <td>Pustynna, Kliny, Kraków, małopolskie</td>\n",
       "      <td>1200000.0</td>\n",
       "      <td>71.06</td>\n",
       "      <td>16887.14</td>\n",
       "      <td>parter</td>\n",
       "      <td>1.0</td>\n",
       "      <td>3</td>\n",
       "      <td>2013</td>\n",
       "      <td>garaż w bryle budynku</td>\n",
       "      <td>wtórny</td>\n",
       "      <td>własność, księga wieczysta</td>\n",
       "    </tr>\n",
       "    <tr>\n",
       "      <th>5</th>\n",
       "      <td>https://krakow.nieruchomosci-online.pl/mieszka...</td>\n",
       "      <td>Apartament Kraków</td>\n",
       "      <td>Wola Justowska, Kraków, małopolskie</td>\n",
       "      <td>1198680.0</td>\n",
       "      <td>71.35</td>\n",
       "      <td>16800.00</td>\n",
       "      <td>parter</td>\n",
       "      <td>2.0</td>\n",
       "      <td>4</td>\n",
       "      <td>2023</td>\n",
       "      <td>garaż w bryle budynku</td>\n",
       "      <td>pierwotny (zobacz inne nowe mieszkania w Krako...</td>\n",
       "      <td>własność</td>\n",
       "    </tr>\n",
       "    <tr>\n",
       "      <th>9</th>\n",
       "      <td>https://krakow.nieruchomosci-online.pl/mieszka...</td>\n",
       "      <td>Apartament, ul. Szablowskiego</td>\n",
       "      <td>Szablowskiego, Bronowice, Kraków, małopolskie</td>\n",
       "      <td>599000.0</td>\n",
       "      <td>40.00</td>\n",
       "      <td>14975.00</td>\n",
       "      <td>parter</td>\n",
       "      <td>3.0</td>\n",
       "      <td>2</td>\n",
       "      <td>2001</td>\n",
       "      <td>tak</td>\n",
       "      <td>wtórny</td>\n",
       "      <td>własność, księga wieczysta</td>\n",
       "    </tr>\n",
       "    <tr>\n",
       "      <th>12</th>\n",
       "      <td>https://krakow.nieruchomosci-online.pl/mieszka...</td>\n",
       "      <td>Mieszkanie, ul. Ułanów</td>\n",
       "      <td>Ułanów, Prądnik Czerwony, Kraków, małopolskie</td>\n",
       "      <td>790000.0</td>\n",
       "      <td>58.00</td>\n",
       "      <td>13620.69</td>\n",
       "      <td>parter</td>\n",
       "      <td>10.0</td>\n",
       "      <td>3</td>\n",
       "      <td>1962</td>\n",
       "      <td>-</td>\n",
       "      <td>wtórny</td>\n",
       "      <td>własność, księga wieczysta</td>\n",
       "    </tr>\n",
       "    <tr>\n",
       "      <th>18</th>\n",
       "      <td>https://krakow.nieruchomosci-online.pl/mieszka...</td>\n",
       "      <td>Mieszkanie, ul. Obozowa</td>\n",
       "      <td>Obozowa, Ruczaj, Kraków, małopolskie</td>\n",
       "      <td>689900.0</td>\n",
       "      <td>51.94</td>\n",
       "      <td>13282.63</td>\n",
       "      <td>parter</td>\n",
       "      <td>7.0</td>\n",
       "      <td>2</td>\n",
       "      <td>2012</td>\n",
       "      <td>przynależne na ulicy</td>\n",
       "      <td>wtórny</td>\n",
       "      <td>własność, księga wieczysta</td>\n",
       "    </tr>\n",
       "    <tr>\n",
       "      <th>...</th>\n",
       "      <td>...</td>\n",
       "      <td>...</td>\n",
       "      <td>...</td>\n",
       "      <td>...</td>\n",
       "      <td>...</td>\n",
       "      <td>...</td>\n",
       "      <td>...</td>\n",
       "      <td>...</td>\n",
       "      <td>...</td>\n",
       "      <td>...</td>\n",
       "      <td>...</td>\n",
       "      <td>...</td>\n",
       "      <td>...</td>\n",
       "    </tr>\n",
       "    <tr>\n",
       "      <th>8712</th>\n",
       "      <td>https://krakow.nieruchomosci-online.pl/mieszka...</td>\n",
       "      <td>Mieszkanie, ul. Szymańskiego</td>\n",
       "      <td>Szymańskiego, Branice, Kraków, małopolskie</td>\n",
       "      <td>371400.0</td>\n",
       "      <td>30.95</td>\n",
       "      <td>12000.00</td>\n",
       "      <td>parter</td>\n",
       "      <td>4.0</td>\n",
       "      <td>2</td>\n",
       "      <td>2025</td>\n",
       "      <td>tak</td>\n",
       "      <td>pierwotny (zobacz inne nowe mieszkania w Krako...</td>\n",
       "      <td>NaN</td>\n",
       "    </tr>\n",
       "    <tr>\n",
       "      <th>8726</th>\n",
       "      <td>https://krakow.nieruchomosci-online.pl/mieszka...</td>\n",
       "      <td>Mieszkanie, ul. Glogera</td>\n",
       "      <td>Glogera, Prądnik Biały, Kraków, małopolskie</td>\n",
       "      <td>800000.0</td>\n",
       "      <td>47.21</td>\n",
       "      <td>16945.56</td>\n",
       "      <td>parter</td>\n",
       "      <td>3.0</td>\n",
       "      <td>3</td>\n",
       "      <td>2021</td>\n",
       "      <td>tak</td>\n",
       "      <td>wtórny</td>\n",
       "      <td>NaN</td>\n",
       "    </tr>\n",
       "    <tr>\n",
       "      <th>8730</th>\n",
       "      <td>https://krakow.nieruchomosci-online.pl/mieszka...</td>\n",
       "      <td>Mieszkanie, ul. Kołłątaja</td>\n",
       "      <td>Kołłątaja, Kraków, małopolskie</td>\n",
       "      <td>1059000.0</td>\n",
       "      <td>60.57</td>\n",
       "      <td>17483.90</td>\n",
       "      <td>parter</td>\n",
       "      <td>4.0</td>\n",
       "      <td>3</td>\n",
       "      <td>1908</td>\n",
       "      <td>przynależne na ulicy</td>\n",
       "      <td>wtórny</td>\n",
       "      <td>własność</td>\n",
       "    </tr>\n",
       "    <tr>\n",
       "      <th>8731</th>\n",
       "      <td>https://krakow.nieruchomosci-online.pl/mieszka...</td>\n",
       "      <td>Mieszkanie, ul. Sławka</td>\n",
       "      <td>Sławka, Dzielnica XI Podgórze Duchackie, Krakó...</td>\n",
       "      <td>409999.0</td>\n",
       "      <td>31.00</td>\n",
       "      <td>13225.77</td>\n",
       "      <td>parter</td>\n",
       "      <td>2.0</td>\n",
       "      <td>2</td>\n",
       "      <td>2024</td>\n",
       "      <td>garaż wolnostojący</td>\n",
       "      <td>pierwotny (zobacz inne nowe mieszkania w Krako...</td>\n",
       "      <td>własność</td>\n",
       "    </tr>\n",
       "    <tr>\n",
       "      <th>8750</th>\n",
       "      <td>https://krakow.nieruchomosci-online.pl/mieszka...</td>\n",
       "      <td>Kawalerka Kraków</td>\n",
       "      <td>Stare Miasto, Kraków, małopolskie</td>\n",
       "      <td>295000.0</td>\n",
       "      <td>15.00</td>\n",
       "      <td>19666.67</td>\n",
       "      <td>parter</td>\n",
       "      <td>2.0</td>\n",
       "      <td>1</td>\n",
       "      <td>1913</td>\n",
       "      <td>parking publiczny / na ulicy</td>\n",
       "      <td>wtórny</td>\n",
       "      <td>NaN</td>\n",
       "    </tr>\n",
       "  </tbody>\n",
       "</table>\n",
       "<p>1608 rows × 13 columns</p>\n",
       "</div>"
      ]
     },
     "execution_count": 85,
     "metadata": {},
     "output_type": "execute_result"
    }
   ],
   "execution_count": 85
  },
  {
   "cell_type": "code",
   "metadata": {
    "ExecuteTime": {
     "end_time": "2024-04-28T16:36:18.940381Z",
     "start_time": "2024-04-28T16:36:18.934278Z"
    }
   },
   "source": [
    "# Zamiana wartości \"parter\" na 0 w kolumnie \"floor/store\"\n",
    "df_nieruchomosci['floor/store'] = df_nieruchomosci['floor/store'].replace('parter', '0')"
   ],
   "outputs": [],
   "execution_count": 86
  },
  {
   "cell_type": "code",
   "metadata": {
    "ExecuteTime": {
     "end_time": "2024-04-28T16:36:18.959276Z",
     "start_time": "2024-04-28T16:36:18.944377Z"
    }
   },
   "source": [
    "# Zamiana wartości \"suterena\" na -1 w kolumnie \"floor/store\"\n",
    "df_nieruchomosci['floor/store'] = df_nieruchomosci['floor/store'].replace('suterena', '-1')"
   ],
   "outputs": [],
   "execution_count": 87
  },
  {
   "cell_type": "code",
   "metadata": {
    "ExecuteTime": {
     "end_time": "2024-04-28T16:36:18.984763Z",
     "start_time": "2024-04-28T16:36:18.961274Z"
    }
   },
   "source": [
    "# usunięcie wierszy, które w kolumnie 'floor/store' zawierają dane nieliczbowe\n",
    "print(df_nieruchomosci[~df_nieruchomosci['floor/store'].str.contains(r'\\d', na=False)].shape[0])\n",
    "df_nieruchomosci.drop(df_nieruchomosci[~df_nieruchomosci['floor/store'].str.contains(r'\\d')].index, inplace=True)"
   ],
   "outputs": [
    {
     "name": "stdout",
     "output_type": "stream",
     "text": [
      "94\n"
     ]
    }
   ],
   "execution_count": 88
  },
  {
   "cell_type": "code",
   "metadata": {
    "ExecuteTime": {
     "end_time": "2024-04-28T16:36:19.009788Z",
     "start_time": "2024-04-28T16:36:18.987755Z"
    }
   },
   "source": [
    "# przesunięte dane\n",
    "print(df_nieruchomosci[df_nieruchomosci['floor/store'].str.contains(r'[a-zA-Z]')].shape[0])\n",
    "df_nieruchomosci.drop(df_nieruchomosci[df_nieruchomosci['floor/store'].str.contains(r'[a-zA-Z]')].index, inplace=True)"
   ],
   "outputs": [
    {
     "name": "stdout",
     "output_type": "stream",
     "text": [
      "117\n"
     ]
    }
   ],
   "execution_count": 89
  },
  {
   "cell_type": "code",
   "metadata": {
    "ExecuteTime": {
     "end_time": "2024-04-28T16:36:19.018972Z",
     "start_time": "2024-04-28T16:36:19.012787Z"
    }
   },
   "source": "df_nieruchomosci['floor/store'] = df_nieruchomosci['floor/store'].astype(int)",
   "outputs": [],
   "execution_count": 90
  },
  {
   "metadata": {
    "ExecuteTime": {
     "end_time": "2024-04-28T16:36:19.036965Z",
     "start_time": "2024-04-28T16:36:19.019966Z"
    }
   },
   "cell_type": "code",
   "source": [
    "print(df_nieruchomosci[df_nieruchomosci['no of floors/stores in the building'].isna()].shape[0])\n",
    "df_nieruchomosci.dropna(subset=['no of floors/stores in the building'], inplace=True)\n",
    "df_nieruchomosci['no of floors/stores in the building'] = df_nieruchomosci['no of floors/stores in the building'].astype(int)"
   ],
   "outputs": [
    {
     "name": "stdout",
     "output_type": "stream",
     "text": [
      "177\n"
     ]
    }
   ],
   "execution_count": 91
  },
  {
   "metadata": {
    "ExecuteTime": {
     "end_time": "2024-04-28T16:36:19.054813Z",
     "start_time": "2024-04-28T16:36:19.038967Z"
    }
   },
   "cell_type": "code",
   "source": [
    "# Według wikipedii najwyższy mieszkalny budunek w Krk ma 19 pięter\n",
    "# https://pl.wikipedia.org/wiki/Lista_najwyższych_budynków_w_Krakowie\n",
    "print(df_nieruchomosci[df_nieruchomosci['no of floors/stores in the building'] > 19].shape[0])\n",
    "df_nieruchomosci.drop(df_nieruchomosci[df_nieruchomosci['no of floors/stores in the building'] > 19].index, inplace=True)"
   ],
   "outputs": [
    {
     "name": "stdout",
     "output_type": "stream",
     "text": [
      "1\n"
     ]
    }
   ],
   "execution_count": 92
  },
  {
   "metadata": {},
   "cell_type": "markdown",
   "source": "### Rok budowy"
  },
  {
   "metadata": {
    "ExecuteTime": {
     "end_time": "2024-04-28T16:36:19.084014Z",
     "start_time": "2024-04-28T16:36:19.056815Z"
    }
   },
   "cell_type": "code",
   "source": [
    "df_nieruchomosci['year of construction'] = pd.to_numeric(df_nieruchomosci['year of construction'], errors='coerce')\n",
    "\n",
    "missing_below_1200 = df_nieruchomosci[df_nieruchomosci['year of construction'] < 1250]\n",
    "missing_above_2026 = df_nieruchomosci[df_nieruchomosci['year of construction'] > 2026]\n",
    "pd.concat([missing_above_2026, missing_below_1200])"
   ],
   "outputs": [
    {
     "data": {
      "text/plain": [
       "                                                    url  \\\n",
       "7393  https://krakow.nieruchomosci-online.pl/mieszka...   \n",
       "2100  https://krakow.nieruchomosci-online.pl/mieszka...   \n",
       "\n",
       "                    name/title                                      address  \\\n",
       "7393   Mieszkanie, ul. Banacha  Banacha, Prądnik Biały, Kraków, małopolskie   \n",
       "2100  Mieszkanie, ul. Magnolii        Magnolii, Ruczaj, Kraków, małopolskie   \n",
       "\n",
       "         price   area  price-per-area  floor/store  \\\n",
       "7393  759000.0  49.47        15342.63            6   \n",
       "2100  790300.0  56.45        14000.00            3   \n",
       "\n",
       "      no of floors/stores in the building  no of rooms  year of construction  \\\n",
       "7393                                    8            3                2924.0   \n",
       "2100                                    3            3                1024.0   \n",
       "\n",
       "     parking space                                             market  \\\n",
       "7393           tak  pierwotny (zobacz inne nowe mieszkania w Krako...   \n",
       "2100         garaż  pierwotny (zobacz inne nowe mieszkania w Krako...   \n",
       "\n",
       "     form of ownership  \n",
       "7393          własność  \n",
       "2100               NaN  "
      ],
      "text/html": [
       "<div>\n",
       "<style scoped>\n",
       "    .dataframe tbody tr th:only-of-type {\n",
       "        vertical-align: middle;\n",
       "    }\n",
       "\n",
       "    .dataframe tbody tr th {\n",
       "        vertical-align: top;\n",
       "    }\n",
       "\n",
       "    .dataframe thead th {\n",
       "        text-align: right;\n",
       "    }\n",
       "</style>\n",
       "<table border=\"1\" class=\"dataframe\">\n",
       "  <thead>\n",
       "    <tr style=\"text-align: right;\">\n",
       "      <th></th>\n",
       "      <th>url</th>\n",
       "      <th>name/title</th>\n",
       "      <th>address</th>\n",
       "      <th>price</th>\n",
       "      <th>area</th>\n",
       "      <th>price-per-area</th>\n",
       "      <th>floor/store</th>\n",
       "      <th>no of floors/stores in the building</th>\n",
       "      <th>no of rooms</th>\n",
       "      <th>year of construction</th>\n",
       "      <th>parking space</th>\n",
       "      <th>market</th>\n",
       "      <th>form of ownership</th>\n",
       "    </tr>\n",
       "  </thead>\n",
       "  <tbody>\n",
       "    <tr>\n",
       "      <th>7393</th>\n",
       "      <td>https://krakow.nieruchomosci-online.pl/mieszka...</td>\n",
       "      <td>Mieszkanie, ul. Banacha</td>\n",
       "      <td>Banacha, Prądnik Biały, Kraków, małopolskie</td>\n",
       "      <td>759000.0</td>\n",
       "      <td>49.47</td>\n",
       "      <td>15342.63</td>\n",
       "      <td>6</td>\n",
       "      <td>8</td>\n",
       "      <td>3</td>\n",
       "      <td>2924.0</td>\n",
       "      <td>tak</td>\n",
       "      <td>pierwotny (zobacz inne nowe mieszkania w Krako...</td>\n",
       "      <td>własność</td>\n",
       "    </tr>\n",
       "    <tr>\n",
       "      <th>2100</th>\n",
       "      <td>https://krakow.nieruchomosci-online.pl/mieszka...</td>\n",
       "      <td>Mieszkanie, ul. Magnolii</td>\n",
       "      <td>Magnolii, Ruczaj, Kraków, małopolskie</td>\n",
       "      <td>790300.0</td>\n",
       "      <td>56.45</td>\n",
       "      <td>14000.00</td>\n",
       "      <td>3</td>\n",
       "      <td>3</td>\n",
       "      <td>3</td>\n",
       "      <td>1024.0</td>\n",
       "      <td>garaż</td>\n",
       "      <td>pierwotny (zobacz inne nowe mieszkania w Krako...</td>\n",
       "      <td>NaN</td>\n",
       "    </tr>\n",
       "  </tbody>\n",
       "</table>\n",
       "</div>"
      ]
     },
     "execution_count": 93,
     "metadata": {},
     "output_type": "execute_result"
    }
   ],
   "execution_count": 93
  },
  {
   "metadata": {
    "ExecuteTime": {
     "end_time": "2024-04-28T16:36:19.093847Z",
     "start_time": "2024-04-28T16:36:19.086013Z"
    }
   },
   "cell_type": "code",
   "source": [
    "# Poprawianie \"z placa\"\n",
    "df_nieruchomosci['year of construction'] = df_nieruchomosci['year of construction'].replace(2924.0, 2024)\n",
    "df_nieruchomosci['year of construction'] = df_nieruchomosci['year of construction'].replace(1024.0, 2024)"
   ],
   "outputs": [],
   "execution_count": 94
  },
  {
   "metadata": {
    "ExecuteTime": {
     "end_time": "2024-04-28T16:36:19.115455Z",
     "start_time": "2024-04-28T16:36:19.103844Z"
    }
   },
   "cell_type": "code",
   "source": "df_nieruchomosci['year of construction'].value_counts(dropna=False)",
   "outputs": [
    {
     "data": {
      "text/plain": [
       "year of construction\n",
       "2024.0    1417\n",
       "2023.0    1389\n",
       "NaN        717\n",
       "2025.0     660\n",
       "2022.0     383\n",
       "          ... \n",
       "1921.0       1\n",
       "1946.0       1\n",
       "1870.0       1\n",
       "1350.0       1\n",
       "1845.0       1\n",
       "Name: count, Length: 153, dtype: int64"
      ]
     },
     "execution_count": 95,
     "metadata": {},
     "output_type": "execute_result"
    }
   ],
   "execution_count": 95
  },
  {
   "metadata": {},
   "cell_type": "markdown",
   "source": "### Parking"
  },
  {
   "metadata": {
    "ExecuteTime": {
     "end_time": "2024-04-28T16:36:19.137003Z",
     "start_time": "2024-04-28T16:36:19.121453Z"
    }
   },
   "cell_type": "code",
   "source": "df_nieruchomosci['parking space'] = df_nieruchomosci['parking space'].replace('-', 'parking publiczny / na ulicy')",
   "outputs": [],
   "execution_count": 96
  },
  {
   "metadata": {
    "ExecuteTime": {
     "end_time": "2024-04-28T16:36:19.159824Z",
     "start_time": "2024-04-28T16:36:19.145001Z"
    }
   },
   "cell_type": "code",
   "source": "df_nieruchomosci['parking space'].unique()",
   "outputs": [
    {
     "data": {
      "text/plain": [
       "array(['tak', 'w garażu podziemnym', 'parking publiczny / na ulicy',\n",
       "       'garaż w bryle budynku', 'garaż', 'przynależne na ulicy',\n",
       "       'przynależne na terenie ogrodzonym', 'możliwość wykupienia',\n",
       "       'garaż wolnostojący', 'parking strzeżony w pobliżu',\n",
       "       'wiata garażowa'], dtype=object)"
      ]
     },
     "execution_count": 97,
     "metadata": {},
     "output_type": "execute_result"
    }
   ],
   "execution_count": 97
  },
  {
   "metadata": {
    "ExecuteTime": {
     "end_time": "2024-04-28T16:36:19.192416Z",
     "start_time": "2024-04-28T16:36:19.163823Z"
    }
   },
   "cell_type": "code",
   "source": "df_nieruchomosci['parking space'].value_counts(dropna=False)",
   "outputs": [
    {
     "data": {
      "text/plain": [
       "parking space\n",
       "parking publiczny / na ulicy         3151\n",
       "w garażu podziemnym                  1465\n",
       "tak                                  1044\n",
       "garaż                                 794\n",
       "przynależne na ulicy                  582\n",
       "garaż wolnostojący                    417\n",
       "przynależne na terenie ogrodzonym     224\n",
       "garaż w bryle budynku                 205\n",
       "parking strzeżony w pobliżu           173\n",
       "możliwość wykupienia                  113\n",
       "wiata garażowa                         25\n",
       "Name: count, dtype: int64"
      ]
     },
     "execution_count": 98,
     "metadata": {},
     "output_type": "execute_result"
    }
   ],
   "execution_count": 98
  },
  {
   "metadata": {
    "ExecuteTime": {
     "end_time": "2024-04-28T16:36:19.220662Z",
     "start_time": "2024-04-28T16:36:19.194413Z"
    }
   },
   "cell_type": "code",
   "source": [
    "# Skopiowanie danych do nowej kolumny (mogą się przydać do jakiegoś modelu) i konwersja na boolean dla spójności z otodom\n",
    "df_nieruchomosci['parking space details'] = df_nieruchomosci['parking space']\n",
    "false_values = ['parking publiczny / na ulicy', 'możliwość wykupienia', 'parking strzeżony w pobliżu']\n",
    "df_nieruchomosci['parking space'] = ~df_nieruchomosci['parking space'].isin(false_values)"
   ],
   "outputs": [],
   "execution_count": 99
  },
  {
   "metadata": {},
   "cell_type": "markdown",
   "source": "### Rynek"
  },
  {
   "metadata": {
    "ExecuteTime": {
     "end_time": "2024-04-28T16:36:19.238655Z",
     "start_time": "2024-04-28T16:36:19.224658Z"
    }
   },
   "cell_type": "code",
   "source": [
    "valid_values = ['wtórny', 'pierwotny (zobacz inne nowe mieszkania w Krakowie)']\n",
    "\n",
    "shifted_rows = ~df_nieruchomosci['market'].isin(valid_values) & df_nieruchomosci['market'].notna()\n",
    "\n",
    "df_nieruchomosci.drop(df_nieruchomosci[shifted_rows].index, inplace=True)"
   ],
   "outputs": [],
   "execution_count": 100
  },
  {
   "metadata": {
    "ExecuteTime": {
     "end_time": "2024-04-28T16:36:19.258186Z",
     "start_time": "2024-04-28T16:36:19.240656Z"
    }
   },
   "cell_type": "code",
   "source": [
    "df_nieruchomosci.loc[(df_nieruchomosci['market'].isna()) & (df_nieruchomosci['year of construction'] > 2022), 'market'] = 'pierwotny'\n",
    "df_nieruchomosci.loc[(df_nieruchomosci['market'].isna()) & (df_nieruchomosci['year of construction'] < 2023), 'market'] = 'wtórny'\n",
    "print(df_nieruchomosci['market'].isna().sum())\n",
    "df_nieruchomosci.dropna(subset=['market'], inplace=True)"
   ],
   "outputs": [
    {
     "name": "stdout",
     "output_type": "stream",
     "text": [
      "33\n"
     ]
    }
   ],
   "execution_count": 101
  },
  {
   "metadata": {
    "ExecuteTime": {
     "end_time": "2024-04-28T17:22:50.306627Z",
     "start_time": "2024-04-28T17:22:50.298441Z"
    }
   },
   "cell_type": "code",
   "source": "df_nieruchomosci['market'] = df_nieruchomosci['market'].replace('pierwotny (zobacz inne nowe mieszkania w Krakowie)', 'pierwotny')",
   "outputs": [
    {
     "data": {
      "text/plain": [
       "array(['wtórny', 'pierwotny'], dtype=object)"
      ]
     },
     "execution_count": 132,
     "metadata": {},
     "output_type": "execute_result"
    }
   ],
   "execution_count": 132
  },
  {
   "metadata": {},
   "cell_type": "markdown",
   "source": "### Forma własności"
  },
  {
   "metadata": {
    "ExecuteTime": {
     "end_time": "2024-04-28T16:36:19.274781Z",
     "start_time": "2024-04-28T16:36:19.261713Z"
    }
   },
   "cell_type": "code",
   "source": [
    "# Zgodnie z obowiązującym prawem od 2007 r. nie ma możliwości ustanawiania spółdzielczego własnościowego prawa do lokalu\n",
    "df_nieruchomosci.loc[(df_nieruchomosci['form of ownership'].isna()) & (df_nieruchomosci['year of construction'] > 2006), 'form of ownership'] = 'własność'"
   ],
   "outputs": [],
   "execution_count": 102
  },
  {
   "metadata": {
    "ExecuteTime": {
     "end_time": "2024-04-28T16:36:19.306288Z",
     "start_time": "2024-04-28T16:36:19.279775Z"
    }
   },
   "cell_type": "code",
   "source": [
    "ownership_mapping = {\n",
    "    'własność': 'pełna własność',\n",
    "    'własność, księga wieczysta': 'pełna własność',\n",
    "    'spółdzielcze własnościowe, księga wieczysta': 'spółdzielcze wł. prawo do lokalu',\n",
    "    'spółdzielcze własnościowe': 'spółdzielcze wł. prawo do lokalu',\n",
    "    'udział w KW': 'udział',\n",
    "    'udział ze wskazaniem, KW na budynku': 'udział',\n",
    "    'księga wieczysta': 'pełna własność',\n",
    "    'inna': 'użytkowanie wieczyste / dzierżawa',\n",
    "    'udział': 'udział',\n",
    "    'inna, księga wieczysta': 'użytkowanie wieczyste / dzierżawa',\n",
    "    'Udział ze wskazaniem': 'udział',\n",
    "    'Udział': 'udział',\n",
    "    'udział, księga wieczysta': 'udział',\n",
    "    'udział ze wskazaniem': 'udział',\n",
    "    'Chce dopłacić': np.nan,\n",
    "    'tak': np.nan,\n",
    "    'udziały, księga wieczysta': 'udział',\n",
    "    'Oczekuje dopłaty': np.nan,\n",
    "    'KW budynek, udział ze wskazaniem': 'udział',\n",
    "    'Spółdzielcza wł. z KW': 'spółdzielcze wł. prawo do lokalu'\n",
    "}\n",
    "\n",
    "df_nieruchomosci['form of ownership'] = df_nieruchomosci['form of ownership'].replace(ownership_mapping)\n",
    "\n",
    "# df_nieruchomosci['form of ownership'].fillna('NaN', inplace=True)\n"
   ],
   "outputs": [],
   "execution_count": 103
  },
  {
   "metadata": {
    "ExecuteTime": {
     "end_time": "2024-04-28T16:36:19.319803Z",
     "start_time": "2024-04-28T16:36:19.307801Z"
    }
   },
   "cell_type": "code",
   "source": "df_nieruchomosci['form of ownership'].value_counts(dropna=False)",
   "outputs": [
    {
     "data": {
      "text/plain": [
       "form of ownership\n",
       "pełna własność                       6403\n",
       "NaN                                  1506\n",
       "spółdzielcze wł. prawo do lokalu      200\n",
       "użytkowanie wieczyste / dzierżawa      31\n",
       "udział                                 12\n",
       "Name: count, dtype: int64"
      ]
     },
     "execution_count": 104,
     "metadata": {},
     "output_type": "execute_result"
    }
   ],
   "execution_count": 104
  },
  {
   "metadata": {
    "ExecuteTime": {
     "end_time": "2024-04-28T16:36:19.350801Z",
     "start_time": "2024-04-28T16:36:19.324804Z"
    }
   },
   "cell_type": "code",
   "source": [
    "nan_row_count = df_nieruchomosci.isna().any(axis=1).sum()\n",
    "df_nieruchomosci.shape[0] - nan_row_count"
   ],
   "outputs": [
    {
     "data": {
      "text/plain": [
       "6489"
      ]
     },
     "execution_count": 105,
     "metadata": {},
     "output_type": "execute_result"
    }
   ],
   "execution_count": 105
  },
  {
   "cell_type": "code",
   "metadata": {
    "ExecuteTime": {
     "end_time": "2024-04-28T16:36:19.370801Z",
     "start_time": "2024-04-28T16:36:19.352800Z"
    }
   },
   "source": [
    "df_nieruchomosci.info()"
   ],
   "outputs": [
    {
     "name": "stdout",
     "output_type": "stream",
     "text": [
      "<class 'pandas.core.frame.DataFrame'>\n",
      "Index: 8152 entries, 0 to 8752\n",
      "Data columns (total 14 columns):\n",
      " #   Column                               Non-Null Count  Dtype  \n",
      "---  ------                               --------------  -----  \n",
      " 0   url                                  8152 non-null   object \n",
      " 1   name/title                           8152 non-null   object \n",
      " 2   address                              8152 non-null   object \n",
      " 3   price                                8152 non-null   float64\n",
      " 4   area                                 8152 non-null   float64\n",
      " 5   price-per-area                       8152 non-null   float64\n",
      " 6   floor/store                          8152 non-null   int32  \n",
      " 7   no of floors/stores in the building  8152 non-null   int32  \n",
      " 8   no of rooms                          8152 non-null   int32  \n",
      " 9   year of construction                 7469 non-null   float64\n",
      " 10  parking space                        8152 non-null   bool   \n",
      " 11  market                               8152 non-null   object \n",
      " 12  form of ownership                    6646 non-null   object \n",
      " 13  parking space details                8152 non-null   object \n",
      "dtypes: bool(1), float64(4), int32(3), object(6)\n",
      "memory usage: 804.1+ KB\n"
     ]
    }
   ],
   "execution_count": 106
  },
  {
   "cell_type": "code",
   "metadata": {
    "ExecuteTime": {
     "end_time": "2024-04-28T16:36:19.407800Z",
     "start_time": "2024-04-28T16:36:19.373802Z"
    }
   },
   "source": [
    "df_nieruchomosci.describe()"
   ],
   "outputs": [
    {
     "data": {
      "text/plain": [
       "              price         area  price-per-area  floor/store  \\\n",
       "count  8.152000e+03  8152.000000     8152.000000  8152.000000   \n",
       "mean   9.851483e+05    59.013782    16853.855590     2.388371   \n",
       "std    6.580980e+05    31.189316     4703.809696     2.178187   \n",
       "min    1.490000e+05    11.700000       19.140000    -1.000000   \n",
       "25%    6.661425e+05    40.865000    14000.000000     1.000000   \n",
       "50%    8.200000e+05    52.030000    16173.245000     2.000000   \n",
       "75%    1.080540e+06    67.090000    18850.272500     4.000000   \n",
       "max    1.600000e+07   627.000000    71018.210000    15.000000   \n",
       "\n",
       "       no of floors/stores in the building  no of rooms  year of construction  \n",
       "count                          8152.000000  8152.000000           7469.000000  \n",
       "mean                              4.862365     2.653582           2003.172580  \n",
       "std                               2.437026     1.246943             38.307296  \n",
       "min                               1.000000     1.000000           1300.000000  \n",
       "25%                               3.000000     2.000000           1998.000000  \n",
       "50%                               4.000000     3.000000           2022.000000  \n",
       "75%                               6.000000     3.000000           2024.000000  \n",
       "max                              16.000000    44.000000           2026.000000  "
      ],
      "text/html": [
       "<div>\n",
       "<style scoped>\n",
       "    .dataframe tbody tr th:only-of-type {\n",
       "        vertical-align: middle;\n",
       "    }\n",
       "\n",
       "    .dataframe tbody tr th {\n",
       "        vertical-align: top;\n",
       "    }\n",
       "\n",
       "    .dataframe thead th {\n",
       "        text-align: right;\n",
       "    }\n",
       "</style>\n",
       "<table border=\"1\" class=\"dataframe\">\n",
       "  <thead>\n",
       "    <tr style=\"text-align: right;\">\n",
       "      <th></th>\n",
       "      <th>price</th>\n",
       "      <th>area</th>\n",
       "      <th>price-per-area</th>\n",
       "      <th>floor/store</th>\n",
       "      <th>no of floors/stores in the building</th>\n",
       "      <th>no of rooms</th>\n",
       "      <th>year of construction</th>\n",
       "    </tr>\n",
       "  </thead>\n",
       "  <tbody>\n",
       "    <tr>\n",
       "      <th>count</th>\n",
       "      <td>8.152000e+03</td>\n",
       "      <td>8152.000000</td>\n",
       "      <td>8152.000000</td>\n",
       "      <td>8152.000000</td>\n",
       "      <td>8152.000000</td>\n",
       "      <td>8152.000000</td>\n",
       "      <td>7469.000000</td>\n",
       "    </tr>\n",
       "    <tr>\n",
       "      <th>mean</th>\n",
       "      <td>9.851483e+05</td>\n",
       "      <td>59.013782</td>\n",
       "      <td>16853.855590</td>\n",
       "      <td>2.388371</td>\n",
       "      <td>4.862365</td>\n",
       "      <td>2.653582</td>\n",
       "      <td>2003.172580</td>\n",
       "    </tr>\n",
       "    <tr>\n",
       "      <th>std</th>\n",
       "      <td>6.580980e+05</td>\n",
       "      <td>31.189316</td>\n",
       "      <td>4703.809696</td>\n",
       "      <td>2.178187</td>\n",
       "      <td>2.437026</td>\n",
       "      <td>1.246943</td>\n",
       "      <td>38.307296</td>\n",
       "    </tr>\n",
       "    <tr>\n",
       "      <th>min</th>\n",
       "      <td>1.490000e+05</td>\n",
       "      <td>11.700000</td>\n",
       "      <td>19.140000</td>\n",
       "      <td>-1.000000</td>\n",
       "      <td>1.000000</td>\n",
       "      <td>1.000000</td>\n",
       "      <td>1300.000000</td>\n",
       "    </tr>\n",
       "    <tr>\n",
       "      <th>25%</th>\n",
       "      <td>6.661425e+05</td>\n",
       "      <td>40.865000</td>\n",
       "      <td>14000.000000</td>\n",
       "      <td>1.000000</td>\n",
       "      <td>3.000000</td>\n",
       "      <td>2.000000</td>\n",
       "      <td>1998.000000</td>\n",
       "    </tr>\n",
       "    <tr>\n",
       "      <th>50%</th>\n",
       "      <td>8.200000e+05</td>\n",
       "      <td>52.030000</td>\n",
       "      <td>16173.245000</td>\n",
       "      <td>2.000000</td>\n",
       "      <td>4.000000</td>\n",
       "      <td>3.000000</td>\n",
       "      <td>2022.000000</td>\n",
       "    </tr>\n",
       "    <tr>\n",
       "      <th>75%</th>\n",
       "      <td>1.080540e+06</td>\n",
       "      <td>67.090000</td>\n",
       "      <td>18850.272500</td>\n",
       "      <td>4.000000</td>\n",
       "      <td>6.000000</td>\n",
       "      <td>3.000000</td>\n",
       "      <td>2024.000000</td>\n",
       "    </tr>\n",
       "    <tr>\n",
       "      <th>max</th>\n",
       "      <td>1.600000e+07</td>\n",
       "      <td>627.000000</td>\n",
       "      <td>71018.210000</td>\n",
       "      <td>15.000000</td>\n",
       "      <td>16.000000</td>\n",
       "      <td>44.000000</td>\n",
       "      <td>2026.000000</td>\n",
       "    </tr>\n",
       "  </tbody>\n",
       "</table>\n",
       "</div>"
      ]
     },
     "execution_count": 107,
     "metadata": {},
     "output_type": "execute_result"
    }
   ],
   "execution_count": 107
  },
  {
   "cell_type": "code",
   "metadata": {
    "collapsed": false,
    "ExecuteTime": {
     "end_time": "2024-04-28T16:36:19.425306Z",
     "start_time": "2024-04-28T16:36:19.408800Z"
    }
   },
   "source": [
    "df_nieruchomosci.isnull().sum()"
   ],
   "outputs": [
    {
     "data": {
      "text/plain": [
       "url                                       0\n",
       "name/title                                0\n",
       "address                                   0\n",
       "price                                     0\n",
       "area                                      0\n",
       "price-per-area                            0\n",
       "floor/store                               0\n",
       "no of floors/stores in the building       0\n",
       "no of rooms                               0\n",
       "year of construction                    683\n",
       "parking space                             0\n",
       "market                                    0\n",
       "form of ownership                      1506\n",
       "parking space details                     0\n",
       "dtype: int64"
      ]
     },
     "execution_count": 108,
     "metadata": {},
     "output_type": "execute_result"
    }
   ],
   "execution_count": 108
  },
  {
   "metadata": {},
   "cell_type": "markdown",
   "source": "## Adresy - wstępnie"
  },
  {
   "metadata": {
    "ExecuteTime": {
     "end_time": "2024-04-28T17:37:33.773294Z",
     "start_time": "2024-04-28T17:37:33.758302Z"
    }
   },
   "cell_type": "code",
   "source": "df_nieruchomosci[~df_nieruchomosci['address'].str.contains(\"Kraków\", na=False)]",
   "outputs": [
    {
     "data": {
      "text/plain": [
       "Empty DataFrame\n",
       "Columns: [url, name/title, address, price, area, price-per-area, floor/store, no of floors/stores in the building, no of rooms, year of construction, parking space, market, form of ownership, parking space details]\n",
       "Index: []"
      ],
      "text/html": [
       "<div>\n",
       "<style scoped>\n",
       "    .dataframe tbody tr th:only-of-type {\n",
       "        vertical-align: middle;\n",
       "    }\n",
       "\n",
       "    .dataframe tbody tr th {\n",
       "        vertical-align: top;\n",
       "    }\n",
       "\n",
       "    .dataframe thead th {\n",
       "        text-align: right;\n",
       "    }\n",
       "</style>\n",
       "<table border=\"1\" class=\"dataframe\">\n",
       "  <thead>\n",
       "    <tr style=\"text-align: right;\">\n",
       "      <th></th>\n",
       "      <th>url</th>\n",
       "      <th>name/title</th>\n",
       "      <th>address</th>\n",
       "      <th>price</th>\n",
       "      <th>area</th>\n",
       "      <th>price-per-area</th>\n",
       "      <th>floor/store</th>\n",
       "      <th>no of floors/stores in the building</th>\n",
       "      <th>no of rooms</th>\n",
       "      <th>year of construction</th>\n",
       "      <th>parking space</th>\n",
       "      <th>market</th>\n",
       "      <th>form of ownership</th>\n",
       "      <th>parking space details</th>\n",
       "    </tr>\n",
       "  </thead>\n",
       "  <tbody>\n",
       "  </tbody>\n",
       "</table>\n",
       "</div>"
      ]
     },
     "execution_count": 202,
     "metadata": {},
     "output_type": "execute_result"
    }
   ],
   "execution_count": 202
  },
  {
   "metadata": {},
   "cell_type": "markdown",
   "source": "# Inżynieria danych"
  },
  {
   "metadata": {},
   "cell_type": "markdown",
   "source": "## Uspójnianie zbiorów"
  },
  {
   "metadata": {
    "ExecuteTime": {
     "end_time": "2024-04-28T17:24:11.730587Z",
     "start_time": "2024-04-28T17:24:11.701582Z"
    }
   },
   "cell_type": "code",
   "source": [
    "common_columns = df_otodom.columns.intersection(df_nieruchomosci.columns)\n",
    "df_apartments = pd.concat([df_otodom[common_columns], df_nieruchomosci[common_columns]], ignore_index=True)\n",
    "df_apartments"
   ],
   "outputs": [
    {
     "data": {
      "text/plain": [
       "                                                     url  \\\n",
       "0      https://www.otodom.pl/pl/oferta/nowe-mieszkani...   \n",
       "1      https://www.otodom.pl/pl/oferta/balkon-3-pokoj...   \n",
       "2      https://www.otodom.pl/pl/oferta/zlocien-2-poko...   \n",
       "3      https://www.otodom.pl/pl/oferta/zlocien-2-poko...   \n",
       "4      https://www.otodom.pl/pl/oferta/komfortowe-2-p...   \n",
       "...                                                  ...   \n",
       "18262  https://krakow.nieruchomosci-online.pl/mieszka...   \n",
       "18263  https://krakow.nieruchomosci-online.pl/mieszka...   \n",
       "18264  https://krakow.nieruchomosci-online.pl/mieszka...   \n",
       "18265  https://krakow.nieruchomosci-online.pl/mieszka...   \n",
       "18266  https://krakow.nieruchomosci-online.pl/mieszka...   \n",
       "\n",
       "                                  name/title  \\\n",
       "0         Nowe mieszkania na Górce Narodowej   \n",
       "1                balkon + 3 pokoje + parking   \n",
       "2                  Złocień, 2 pokoje, balkon   \n",
       "3                  Złocień, 2 pokoje, balkon   \n",
       "4      komfortowe 2-pokojowe mieszkanie 42m2   \n",
       "...                                      ...   \n",
       "18262                      Mieszkanie Kraków   \n",
       "18263                Apartament, ul. Dworska   \n",
       "18264                       Kawalerka Kraków   \n",
       "18265            Mieszkanie, ul. Chmieleniec   \n",
       "18266    Mieszkanie, ul. Władysława Łokietka   \n",
       "\n",
       "                                                 address      price   area  \\\n",
       "0      29 listopada - okolice, Górka Narodowa, Prądni...   778689.0  61.30   \n",
       "1      Adama Vetulaniego, Prądnik Biały, Prądnik Biał...   970000.0  55.00   \n",
       "2      Agatowa, Domagały,, Złocień, Bieżanów-Prokocim...   625000.0  36.80   \n",
       "3      Agatowa, Domagały,, Złocień, Bieżanów-Prokocim...   625000.0  36.80   \n",
       "4      Albertyńskie, Bieńczyce, Bieńczyce, Kraków, ma...   559000.0  42.00   \n",
       "...                                                  ...        ...    ...   \n",
       "18262                      Podgórze, Kraków, małopolskie  1149640.0  56.08   \n",
       "18263              Dworska, Dębniki, Kraków, małopolskie   860000.0  55.65   \n",
       "18264                  Stare Miasto, Kraków, małopolskie   295000.0  15.00   \n",
       "18265         Chmieleniec, Podgórze, Kraków, małopolskie   599000.0  43.00   \n",
       "18266   Władysława Łokietka, Łobzów, Kraków, małopolskie   889000.0  52.00   \n",
       "\n",
       "       price-per-area  floor/store  no of floors/stores in the building  \\\n",
       "0            12703.00            1                                    5   \n",
       "1            17636.00            4                                    7   \n",
       "2            16984.00            4                                    4   \n",
       "3            16984.00            4                                    4   \n",
       "4            13310.00            2                                    4   \n",
       "...               ...          ...                                  ...   \n",
       "18262        20500.00            1                                    4   \n",
       "18263        15453.73            3                                    4   \n",
       "18264        19666.67            0                                    2   \n",
       "18265        13930.23            2                                    4   \n",
       "18266        17096.00            4                                    4   \n",
       "\n",
       "       no of rooms  year of construction  parking space     market  \\\n",
       "0                2                2023.0           True  pierwotny   \n",
       "1                3                2023.0           True     wtórny   \n",
       "2                2                2019.0          False     wtórny   \n",
       "3                2                2019.0          False     wtórny   \n",
       "4                2                1964.0          False     wtórny   \n",
       "...            ...                   ...            ...        ...   \n",
       "18262            4                2024.0           True     wtórny   \n",
       "18263            2                2015.0          False     wtórny   \n",
       "18264            1                1913.0          False     wtórny   \n",
       "18265            2                   NaN          False     wtórny   \n",
       "18266            2                   NaN           True     wtórny   \n",
       "\n",
       "      form of ownership  \n",
       "0        pełna własność  \n",
       "1        pełna własność  \n",
       "2        pełna własność  \n",
       "3        pełna własność  \n",
       "4                   NaN  \n",
       "...                 ...  \n",
       "18262    pełna własność  \n",
       "18263    pełna własność  \n",
       "18264               NaN  \n",
       "18265               NaN  \n",
       "18266               NaN  \n",
       "\n",
       "[18267 rows x 13 columns]"
      ],
      "text/html": [
       "<div>\n",
       "<style scoped>\n",
       "    .dataframe tbody tr th:only-of-type {\n",
       "        vertical-align: middle;\n",
       "    }\n",
       "\n",
       "    .dataframe tbody tr th {\n",
       "        vertical-align: top;\n",
       "    }\n",
       "\n",
       "    .dataframe thead th {\n",
       "        text-align: right;\n",
       "    }\n",
       "</style>\n",
       "<table border=\"1\" class=\"dataframe\">\n",
       "  <thead>\n",
       "    <tr style=\"text-align: right;\">\n",
       "      <th></th>\n",
       "      <th>url</th>\n",
       "      <th>name/title</th>\n",
       "      <th>address</th>\n",
       "      <th>price</th>\n",
       "      <th>area</th>\n",
       "      <th>price-per-area</th>\n",
       "      <th>floor/store</th>\n",
       "      <th>no of floors/stores in the building</th>\n",
       "      <th>no of rooms</th>\n",
       "      <th>year of construction</th>\n",
       "      <th>parking space</th>\n",
       "      <th>market</th>\n",
       "      <th>form of ownership</th>\n",
       "    </tr>\n",
       "  </thead>\n",
       "  <tbody>\n",
       "    <tr>\n",
       "      <th>0</th>\n",
       "      <td>https://www.otodom.pl/pl/oferta/nowe-mieszkani...</td>\n",
       "      <td>Nowe mieszkania na Górce Narodowej</td>\n",
       "      <td>29 listopada - okolice, Górka Narodowa, Prądni...</td>\n",
       "      <td>778689.0</td>\n",
       "      <td>61.30</td>\n",
       "      <td>12703.00</td>\n",
       "      <td>1</td>\n",
       "      <td>5</td>\n",
       "      <td>2</td>\n",
       "      <td>2023.0</td>\n",
       "      <td>True</td>\n",
       "      <td>pierwotny</td>\n",
       "      <td>pełna własność</td>\n",
       "    </tr>\n",
       "    <tr>\n",
       "      <th>1</th>\n",
       "      <td>https://www.otodom.pl/pl/oferta/balkon-3-pokoj...</td>\n",
       "      <td>balkon + 3 pokoje + parking</td>\n",
       "      <td>Adama Vetulaniego, Prądnik Biały, Prądnik Biał...</td>\n",
       "      <td>970000.0</td>\n",
       "      <td>55.00</td>\n",
       "      <td>17636.00</td>\n",
       "      <td>4</td>\n",
       "      <td>7</td>\n",
       "      <td>3</td>\n",
       "      <td>2023.0</td>\n",
       "      <td>True</td>\n",
       "      <td>wtórny</td>\n",
       "      <td>pełna własność</td>\n",
       "    </tr>\n",
       "    <tr>\n",
       "      <th>2</th>\n",
       "      <td>https://www.otodom.pl/pl/oferta/zlocien-2-poko...</td>\n",
       "      <td>Złocień, 2 pokoje, balkon</td>\n",
       "      <td>Agatowa, Domagały,, Złocień, Bieżanów-Prokocim...</td>\n",
       "      <td>625000.0</td>\n",
       "      <td>36.80</td>\n",
       "      <td>16984.00</td>\n",
       "      <td>4</td>\n",
       "      <td>4</td>\n",
       "      <td>2</td>\n",
       "      <td>2019.0</td>\n",
       "      <td>False</td>\n",
       "      <td>wtórny</td>\n",
       "      <td>pełna własność</td>\n",
       "    </tr>\n",
       "    <tr>\n",
       "      <th>3</th>\n",
       "      <td>https://www.otodom.pl/pl/oferta/zlocien-2-poko...</td>\n",
       "      <td>Złocień, 2 pokoje, balkon</td>\n",
       "      <td>Agatowa, Domagały,, Złocień, Bieżanów-Prokocim...</td>\n",
       "      <td>625000.0</td>\n",
       "      <td>36.80</td>\n",
       "      <td>16984.00</td>\n",
       "      <td>4</td>\n",
       "      <td>4</td>\n",
       "      <td>2</td>\n",
       "      <td>2019.0</td>\n",
       "      <td>False</td>\n",
       "      <td>wtórny</td>\n",
       "      <td>pełna własność</td>\n",
       "    </tr>\n",
       "    <tr>\n",
       "      <th>4</th>\n",
       "      <td>https://www.otodom.pl/pl/oferta/komfortowe-2-p...</td>\n",
       "      <td>komfortowe 2-pokojowe mieszkanie 42m2</td>\n",
       "      <td>Albertyńskie, Bieńczyce, Bieńczyce, Kraków, ma...</td>\n",
       "      <td>559000.0</td>\n",
       "      <td>42.00</td>\n",
       "      <td>13310.00</td>\n",
       "      <td>2</td>\n",
       "      <td>4</td>\n",
       "      <td>2</td>\n",
       "      <td>1964.0</td>\n",
       "      <td>False</td>\n",
       "      <td>wtórny</td>\n",
       "      <td>NaN</td>\n",
       "    </tr>\n",
       "    <tr>\n",
       "      <th>...</th>\n",
       "      <td>...</td>\n",
       "      <td>...</td>\n",
       "      <td>...</td>\n",
       "      <td>...</td>\n",
       "      <td>...</td>\n",
       "      <td>...</td>\n",
       "      <td>...</td>\n",
       "      <td>...</td>\n",
       "      <td>...</td>\n",
       "      <td>...</td>\n",
       "      <td>...</td>\n",
       "      <td>...</td>\n",
       "      <td>...</td>\n",
       "    </tr>\n",
       "    <tr>\n",
       "      <th>18262</th>\n",
       "      <td>https://krakow.nieruchomosci-online.pl/mieszka...</td>\n",
       "      <td>Mieszkanie Kraków</td>\n",
       "      <td>Podgórze, Kraków, małopolskie</td>\n",
       "      <td>1149640.0</td>\n",
       "      <td>56.08</td>\n",
       "      <td>20500.00</td>\n",
       "      <td>1</td>\n",
       "      <td>4</td>\n",
       "      <td>4</td>\n",
       "      <td>2024.0</td>\n",
       "      <td>True</td>\n",
       "      <td>wtórny</td>\n",
       "      <td>pełna własność</td>\n",
       "    </tr>\n",
       "    <tr>\n",
       "      <th>18263</th>\n",
       "      <td>https://krakow.nieruchomosci-online.pl/mieszka...</td>\n",
       "      <td>Apartament, ul. Dworska</td>\n",
       "      <td>Dworska, Dębniki, Kraków, małopolskie</td>\n",
       "      <td>860000.0</td>\n",
       "      <td>55.65</td>\n",
       "      <td>15453.73</td>\n",
       "      <td>3</td>\n",
       "      <td>4</td>\n",
       "      <td>2</td>\n",
       "      <td>2015.0</td>\n",
       "      <td>False</td>\n",
       "      <td>wtórny</td>\n",
       "      <td>pełna własność</td>\n",
       "    </tr>\n",
       "    <tr>\n",
       "      <th>18264</th>\n",
       "      <td>https://krakow.nieruchomosci-online.pl/mieszka...</td>\n",
       "      <td>Kawalerka Kraków</td>\n",
       "      <td>Stare Miasto, Kraków, małopolskie</td>\n",
       "      <td>295000.0</td>\n",
       "      <td>15.00</td>\n",
       "      <td>19666.67</td>\n",
       "      <td>0</td>\n",
       "      <td>2</td>\n",
       "      <td>1</td>\n",
       "      <td>1913.0</td>\n",
       "      <td>False</td>\n",
       "      <td>wtórny</td>\n",
       "      <td>NaN</td>\n",
       "    </tr>\n",
       "    <tr>\n",
       "      <th>18265</th>\n",
       "      <td>https://krakow.nieruchomosci-online.pl/mieszka...</td>\n",
       "      <td>Mieszkanie, ul. Chmieleniec</td>\n",
       "      <td>Chmieleniec, Podgórze, Kraków, małopolskie</td>\n",
       "      <td>599000.0</td>\n",
       "      <td>43.00</td>\n",
       "      <td>13930.23</td>\n",
       "      <td>2</td>\n",
       "      <td>4</td>\n",
       "      <td>2</td>\n",
       "      <td>NaN</td>\n",
       "      <td>False</td>\n",
       "      <td>wtórny</td>\n",
       "      <td>NaN</td>\n",
       "    </tr>\n",
       "    <tr>\n",
       "      <th>18266</th>\n",
       "      <td>https://krakow.nieruchomosci-online.pl/mieszka...</td>\n",
       "      <td>Mieszkanie, ul. Władysława Łokietka</td>\n",
       "      <td>Władysława Łokietka, Łobzów, Kraków, małopolskie</td>\n",
       "      <td>889000.0</td>\n",
       "      <td>52.00</td>\n",
       "      <td>17096.00</td>\n",
       "      <td>4</td>\n",
       "      <td>4</td>\n",
       "      <td>2</td>\n",
       "      <td>NaN</td>\n",
       "      <td>True</td>\n",
       "      <td>wtórny</td>\n",
       "      <td>NaN</td>\n",
       "    </tr>\n",
       "  </tbody>\n",
       "</table>\n",
       "<p>18267 rows × 13 columns</p>\n",
       "</div>"
      ]
     },
     "execution_count": 135,
     "metadata": {},
     "output_type": "execute_result"
    }
   ],
   "execution_count": 135
  },
  {
   "metadata": {
    "ExecuteTime": {
     "end_time": "2024-04-28T16:52:52.543792Z",
     "start_time": "2024-04-28T16:52:52.522110Z"
    }
   },
   "cell_type": "code",
   "source": "df_apartments.info()",
   "outputs": [
    {
     "name": "stdout",
     "output_type": "stream",
     "text": [
      "<class 'pandas.core.frame.DataFrame'>\n",
      "RangeIndex: 18267 entries, 0 to 18266\n",
      "Data columns (total 13 columns):\n",
      " #   Column                               Non-Null Count  Dtype  \n",
      "---  ------                               --------------  -----  \n",
      " 0   url                                  18267 non-null  object \n",
      " 1   name/title                           18267 non-null  object \n",
      " 2   address                              18267 non-null  object \n",
      " 3   price                                18267 non-null  float64\n",
      " 4   area                                 18267 non-null  float64\n",
      " 5   price-per-area                       18267 non-null  float64\n",
      " 6   floor/store                          18267 non-null  int32  \n",
      " 7   no of floors/stores in the building  18267 non-null  int32  \n",
      " 8   no of rooms                          18267 non-null  int32  \n",
      " 9   year of construction                 16270 non-null  float64\n",
      " 10  parking space                        18267 non-null  bool   \n",
      " 11  market                               18267 non-null  object \n",
      " 12  form of ownership                    15743 non-null  object \n",
      "dtypes: bool(1), float64(4), int32(3), object(5)\n",
      "memory usage: 1.5+ MB\n"
     ]
    }
   ],
   "execution_count": 111
  },
  {
   "metadata": {},
   "cell_type": "markdown",
   "source": "## Duplikaty"
  },
  {
   "metadata": {
    "ExecuteTime": {
     "end_time": "2024-04-28T17:24:01.696049Z",
     "start_time": "2024-04-28T17:24:01.685877Z"
    }
   },
   "cell_type": "code",
   "source": [
    "def check_similarity(group):\n",
    "    if len(group) > 1:\n",
    "        price_mean = group['price'].mean()\n",
    "        area_mean = group['area'].mean()\n",
    "        price_range = price_mean * 0.01\n",
    "        area_range = area_mean * 0.01\n",
    "        similar_price = group['price'].between(price_mean - price_range, price_mean + price_range)\n",
    "        similar_area = group['area'].between(area_mean - area_range, area_mean + area_range)\n",
    "        return (similar_price & similar_area).rename('is_duplicate')\n",
    "    else:\n",
    "        return pd.Series(False, index=group.index, name='is_duplicate')\n",
    "\n",
    "def fill_from_group(group):\n",
    "    group['non_null_count'] = group.notna().sum(axis=1)\n",
    "    sorted_group = group.sort_values('non_null_count', ascending=False)\n",
    "    sorted_group.drop('non_null_count', axis=1, inplace=True)\n",
    "    most_complete_row = sorted_group.iloc[0]\n",
    "    for _, row in sorted_group.iloc[1:].iterrows():\n",
    "        most_complete_row = most_complete_row.combine_first(row)\n",
    "    return most_complete_row\n",
    "\n",
    "def remove_duplicates(df, group_cols=None):\n",
    "    if group_cols is None:\n",
    "        group_cols = ['address', 'floor/store', 'no of floors/stores in the building', 'no of rooms']\n",
    "    \n",
    "    df['is_duplicate'] = df.groupby(group_cols, group_keys=False).apply(check_similarity)\n",
    "    \n",
    "    duplicates = df[df['is_duplicate']]\n",
    "    non_duplicates = df[~df['is_duplicate']]\n",
    "    \n",
    "    most_complete_duplicates = duplicates.groupby(group_cols).apply(fill_from_group).reset_index(drop=True)\n",
    "    \n",
    "    filtered_df = pd.concat([non_duplicates, most_complete_duplicates], ignore_index=True)\n",
    "    \n",
    "    sorted_filtered_df = filtered_df.sort_values(by=['address', 'price', 'area'])\n",
    "    \n",
    "    return sorted_filtered_df"
   ],
   "outputs": [],
   "execution_count": 134
  },
  {
   "metadata": {
    "ExecuteTime": {
     "end_time": "2024-04-28T17:24:28.024056Z",
     "start_time": "2024-04-28T17:24:20.829340Z"
    }
   },
   "cell_type": "code",
   "source": [
    "df_filtered_sorted_apartments = remove_duplicates(df_apartments)\n",
    "df_filtered_sorted_apartments"
   ],
   "outputs": [
    {
     "name": "stderr",
     "output_type": "stream",
     "text": [
      "C:\\Users\\Piotr\\AppData\\Local\\Temp\\ipykernel_14568\\3201072169.py:26: DeprecationWarning: DataFrameGroupBy.apply operated on the grouping columns. This behavior is deprecated, and in a future version of pandas the grouping columns will be excluded from the operation. Either pass `include_groups=False` to exclude the groupings or explicitly select the grouping columns after groupby to silence this warning.\n",
      "  df['is_duplicate'] = df.groupby(group_cols, group_keys=False).apply(check_similarity)\n",
      "C:\\Users\\Piotr\\AppData\\Local\\Temp\\ipykernel_14568\\3201072169.py:31: DeprecationWarning: DataFrameGroupBy.apply operated on the grouping columns. This behavior is deprecated, and in a future version of pandas the grouping columns will be excluded from the operation. Either pass `include_groups=False` to exclude the groupings or explicitly select the grouping columns after groupby to silence this warning.\n",
      "  most_complete_duplicates = duplicates.groupby(group_cols).apply(fill_from_group).reset_index(drop=True)\n"
     ]
    },
    {
     "data": {
      "text/plain": [
       "                                                     url  \\\n",
       "13041  https://krakow.nieruchomosci-online.pl/mieszka...   \n",
       "9299   https://krakow.nieruchomosci-online.pl/mieszka...   \n",
       "12460  https://krakow.nieruchomosci-online.pl/mieszka...   \n",
       "0      https://www.otodom.pl/pl/oferta/nowe-mieszkani...   \n",
       "10607  https://krakow.nieruchomosci-online.pl/mieszka...   \n",
       "...                                                  ...   \n",
       "11394  https://krakow.nieruchomosci-online.pl/mieszka...   \n",
       "16261  https://krakow.nieruchomosci-online.pl/mieszka...   \n",
       "9998   https://krakow.nieruchomosci-online.pl/mieszka...   \n",
       "10185  https://krakow.nieruchomosci-online.pl/mieszka...   \n",
       "8065   https://www.otodom.pl/pl/oferta/1m-wyposazone-...   \n",
       "\n",
       "                                             name/title  \\\n",
       "13041                     Apartament, ul. 28 Lipca 1943   \n",
       "9299                      Mieszkanie, ul. 28 Lipca 1943   \n",
       "12460                     Apartament, ul. 28 Lipca 1943   \n",
       "0                    Nowe mieszkania na Górce Narodowej   \n",
       "10607                                 Mieszkanie Kraków   \n",
       "...                                                 ...   \n",
       "11394                           Kawalerka, ul. Żywiecka   \n",
       "16261                      Kawalerka, ul. Żółkiewskiego   \n",
       "9998                      Mieszkanie, ul. Żółkiewskiego   \n",
       "10185                     Mieszkanie, ul. Żółkiewskiego   \n",
       "8065   1M! Wyposażone|Ogródek 25m2|Inwestycja - ROI 10%   \n",
       "\n",
       "                                                 address      price    area  \\\n",
       "13041  28 Lipca 1943, Wola Justowska, Kraków, małopol...  2290000.0  155.16   \n",
       "9299   28 Lipca 1943, Wola Justowska, Kraków, małopol...  2399000.0  139.00   \n",
       "12460  28 Lipca 1943, Wola Justowska, Kraków, małopol...  2666000.0  146.68   \n",
       "0      29 listopada - okolice, Górka Narodowa, Prądni...   778689.0   61.30   \n",
       "10607                         64108, Kraków, małopolskie   888000.0   45.68   \n",
       "...                                                  ...        ...     ...   \n",
       "11394          Żywiecka, Łagiewniki, Kraków, małopolskie   220000.0   18.50   \n",
       "16261     Żółkiewskiego, Grzegórzki, Kraków, małopolskie   532000.0   24.40   \n",
       "9998      Żółkiewskiego, Grzegórzki, Kraków, małopolskie  1698500.0   79.00   \n",
       "10185     Żółkiewskiego, Grzegórzki, Kraków, małopolskie  2722500.0  121.00   \n",
       "8065   żabniec, Żabiniec, Prądnik Biały, Kraków, mało...   639000.0   26.00   \n",
       "\n",
       "       price-per-area  floor/store  no of floors/stores in the building  \\\n",
       "13041        14758.96            0                                    2   \n",
       "9299         17258.99            1                                    2   \n",
       "12460        18175.62            2                                    2   \n",
       "0            12703.00            1                                    5   \n",
       "10607        19439.58            4                                    4   \n",
       "...               ...          ...                                  ...   \n",
       "11394        11891.89            1                                    1   \n",
       "16261        21803.28            1                                    2   \n",
       "9998         21500.00            2                                    4   \n",
       "10185        22500.00            2                                    4   \n",
       "8065         24577.00            0                                    4   \n",
       "\n",
       "       no of rooms  year of construction  parking space     market  \\\n",
       "13041            5                2009.0           True     wtórny   \n",
       "9299             3                2022.0          False     wtórny   \n",
       "12460            3                2002.0           True     wtórny   \n",
       "0                2                2023.0           True  pierwotny   \n",
       "10607            2                2023.0           True     wtórny   \n",
       "...            ...                   ...            ...        ...   \n",
       "11394            1                2023.0          False     wtórny   \n",
       "16261            1                1900.0           True     wtórny   \n",
       "9998             4                2024.0          False  pierwotny   \n",
       "10185            4                2024.0          False  pierwotny   \n",
       "8065             1                2017.0          False     wtórny   \n",
       "\n",
       "      form of ownership  is_duplicate  \n",
       "13041    pełna własność         False  \n",
       "9299     pełna własność         False  \n",
       "12460    pełna własność         False  \n",
       "0        pełna własność         False  \n",
       "10607    pełna własność         False  \n",
       "...                 ...           ...  \n",
       "11394    pełna własność         False  \n",
       "16261               NaN          True  \n",
       "9998     pełna własność         False  \n",
       "10185    pełna własność         False  \n",
       "8065     pełna własność         False  \n",
       "\n",
       "[16262 rows x 14 columns]"
      ],
      "text/html": [
       "<div>\n",
       "<style scoped>\n",
       "    .dataframe tbody tr th:only-of-type {\n",
       "        vertical-align: middle;\n",
       "    }\n",
       "\n",
       "    .dataframe tbody tr th {\n",
       "        vertical-align: top;\n",
       "    }\n",
       "\n",
       "    .dataframe thead th {\n",
       "        text-align: right;\n",
       "    }\n",
       "</style>\n",
       "<table border=\"1\" class=\"dataframe\">\n",
       "  <thead>\n",
       "    <tr style=\"text-align: right;\">\n",
       "      <th></th>\n",
       "      <th>url</th>\n",
       "      <th>name/title</th>\n",
       "      <th>address</th>\n",
       "      <th>price</th>\n",
       "      <th>area</th>\n",
       "      <th>price-per-area</th>\n",
       "      <th>floor/store</th>\n",
       "      <th>no of floors/stores in the building</th>\n",
       "      <th>no of rooms</th>\n",
       "      <th>year of construction</th>\n",
       "      <th>parking space</th>\n",
       "      <th>market</th>\n",
       "      <th>form of ownership</th>\n",
       "      <th>is_duplicate</th>\n",
       "    </tr>\n",
       "  </thead>\n",
       "  <tbody>\n",
       "    <tr>\n",
       "      <th>13041</th>\n",
       "      <td>https://krakow.nieruchomosci-online.pl/mieszka...</td>\n",
       "      <td>Apartament, ul. 28 Lipca 1943</td>\n",
       "      <td>28 Lipca 1943, Wola Justowska, Kraków, małopol...</td>\n",
       "      <td>2290000.0</td>\n",
       "      <td>155.16</td>\n",
       "      <td>14758.96</td>\n",
       "      <td>0</td>\n",
       "      <td>2</td>\n",
       "      <td>5</td>\n",
       "      <td>2009.0</td>\n",
       "      <td>True</td>\n",
       "      <td>wtórny</td>\n",
       "      <td>pełna własność</td>\n",
       "      <td>False</td>\n",
       "    </tr>\n",
       "    <tr>\n",
       "      <th>9299</th>\n",
       "      <td>https://krakow.nieruchomosci-online.pl/mieszka...</td>\n",
       "      <td>Mieszkanie, ul. 28 Lipca 1943</td>\n",
       "      <td>28 Lipca 1943, Wola Justowska, Kraków, małopol...</td>\n",
       "      <td>2399000.0</td>\n",
       "      <td>139.00</td>\n",
       "      <td>17258.99</td>\n",
       "      <td>1</td>\n",
       "      <td>2</td>\n",
       "      <td>3</td>\n",
       "      <td>2022.0</td>\n",
       "      <td>False</td>\n",
       "      <td>wtórny</td>\n",
       "      <td>pełna własność</td>\n",
       "      <td>False</td>\n",
       "    </tr>\n",
       "    <tr>\n",
       "      <th>12460</th>\n",
       "      <td>https://krakow.nieruchomosci-online.pl/mieszka...</td>\n",
       "      <td>Apartament, ul. 28 Lipca 1943</td>\n",
       "      <td>28 Lipca 1943, Wola Justowska, Kraków, małopol...</td>\n",
       "      <td>2666000.0</td>\n",
       "      <td>146.68</td>\n",
       "      <td>18175.62</td>\n",
       "      <td>2</td>\n",
       "      <td>2</td>\n",
       "      <td>3</td>\n",
       "      <td>2002.0</td>\n",
       "      <td>True</td>\n",
       "      <td>wtórny</td>\n",
       "      <td>pełna własność</td>\n",
       "      <td>False</td>\n",
       "    </tr>\n",
       "    <tr>\n",
       "      <th>0</th>\n",
       "      <td>https://www.otodom.pl/pl/oferta/nowe-mieszkani...</td>\n",
       "      <td>Nowe mieszkania na Górce Narodowej</td>\n",
       "      <td>29 listopada - okolice, Górka Narodowa, Prądni...</td>\n",
       "      <td>778689.0</td>\n",
       "      <td>61.30</td>\n",
       "      <td>12703.00</td>\n",
       "      <td>1</td>\n",
       "      <td>5</td>\n",
       "      <td>2</td>\n",
       "      <td>2023.0</td>\n",
       "      <td>True</td>\n",
       "      <td>pierwotny</td>\n",
       "      <td>pełna własność</td>\n",
       "      <td>False</td>\n",
       "    </tr>\n",
       "    <tr>\n",
       "      <th>10607</th>\n",
       "      <td>https://krakow.nieruchomosci-online.pl/mieszka...</td>\n",
       "      <td>Mieszkanie Kraków</td>\n",
       "      <td>64108, Kraków, małopolskie</td>\n",
       "      <td>888000.0</td>\n",
       "      <td>45.68</td>\n",
       "      <td>19439.58</td>\n",
       "      <td>4</td>\n",
       "      <td>4</td>\n",
       "      <td>2</td>\n",
       "      <td>2023.0</td>\n",
       "      <td>True</td>\n",
       "      <td>wtórny</td>\n",
       "      <td>pełna własność</td>\n",
       "      <td>False</td>\n",
       "    </tr>\n",
       "    <tr>\n",
       "      <th>...</th>\n",
       "      <td>...</td>\n",
       "      <td>...</td>\n",
       "      <td>...</td>\n",
       "      <td>...</td>\n",
       "      <td>...</td>\n",
       "      <td>...</td>\n",
       "      <td>...</td>\n",
       "      <td>...</td>\n",
       "      <td>...</td>\n",
       "      <td>...</td>\n",
       "      <td>...</td>\n",
       "      <td>...</td>\n",
       "      <td>...</td>\n",
       "      <td>...</td>\n",
       "    </tr>\n",
       "    <tr>\n",
       "      <th>11394</th>\n",
       "      <td>https://krakow.nieruchomosci-online.pl/mieszka...</td>\n",
       "      <td>Kawalerka, ul. Żywiecka</td>\n",
       "      <td>Żywiecka, Łagiewniki, Kraków, małopolskie</td>\n",
       "      <td>220000.0</td>\n",
       "      <td>18.50</td>\n",
       "      <td>11891.89</td>\n",
       "      <td>1</td>\n",
       "      <td>1</td>\n",
       "      <td>1</td>\n",
       "      <td>2023.0</td>\n",
       "      <td>False</td>\n",
       "      <td>wtórny</td>\n",
       "      <td>pełna własność</td>\n",
       "      <td>False</td>\n",
       "    </tr>\n",
       "    <tr>\n",
       "      <th>16261</th>\n",
       "      <td>https://krakow.nieruchomosci-online.pl/mieszka...</td>\n",
       "      <td>Kawalerka, ul. Żółkiewskiego</td>\n",
       "      <td>Żółkiewskiego, Grzegórzki, Kraków, małopolskie</td>\n",
       "      <td>532000.0</td>\n",
       "      <td>24.40</td>\n",
       "      <td>21803.28</td>\n",
       "      <td>1</td>\n",
       "      <td>2</td>\n",
       "      <td>1</td>\n",
       "      <td>1900.0</td>\n",
       "      <td>True</td>\n",
       "      <td>wtórny</td>\n",
       "      <td>NaN</td>\n",
       "      <td>True</td>\n",
       "    </tr>\n",
       "    <tr>\n",
       "      <th>9998</th>\n",
       "      <td>https://krakow.nieruchomosci-online.pl/mieszka...</td>\n",
       "      <td>Mieszkanie, ul. Żółkiewskiego</td>\n",
       "      <td>Żółkiewskiego, Grzegórzki, Kraków, małopolskie</td>\n",
       "      <td>1698500.0</td>\n",
       "      <td>79.00</td>\n",
       "      <td>21500.00</td>\n",
       "      <td>2</td>\n",
       "      <td>4</td>\n",
       "      <td>4</td>\n",
       "      <td>2024.0</td>\n",
       "      <td>False</td>\n",
       "      <td>pierwotny</td>\n",
       "      <td>pełna własność</td>\n",
       "      <td>False</td>\n",
       "    </tr>\n",
       "    <tr>\n",
       "      <th>10185</th>\n",
       "      <td>https://krakow.nieruchomosci-online.pl/mieszka...</td>\n",
       "      <td>Mieszkanie, ul. Żółkiewskiego</td>\n",
       "      <td>Żółkiewskiego, Grzegórzki, Kraków, małopolskie</td>\n",
       "      <td>2722500.0</td>\n",
       "      <td>121.00</td>\n",
       "      <td>22500.00</td>\n",
       "      <td>2</td>\n",
       "      <td>4</td>\n",
       "      <td>4</td>\n",
       "      <td>2024.0</td>\n",
       "      <td>False</td>\n",
       "      <td>pierwotny</td>\n",
       "      <td>pełna własność</td>\n",
       "      <td>False</td>\n",
       "    </tr>\n",
       "    <tr>\n",
       "      <th>8065</th>\n",
       "      <td>https://www.otodom.pl/pl/oferta/1m-wyposazone-...</td>\n",
       "      <td>1M! Wyposażone|Ogródek 25m2|Inwestycja - ROI 10%</td>\n",
       "      <td>żabniec, Żabiniec, Prądnik Biały, Kraków, mało...</td>\n",
       "      <td>639000.0</td>\n",
       "      <td>26.00</td>\n",
       "      <td>24577.00</td>\n",
       "      <td>0</td>\n",
       "      <td>4</td>\n",
       "      <td>1</td>\n",
       "      <td>2017.0</td>\n",
       "      <td>False</td>\n",
       "      <td>wtórny</td>\n",
       "      <td>pełna własność</td>\n",
       "      <td>False</td>\n",
       "    </tr>\n",
       "  </tbody>\n",
       "</table>\n",
       "<p>16262 rows × 14 columns</p>\n",
       "</div>"
      ]
     },
     "execution_count": 136,
     "metadata": {},
     "output_type": "execute_result"
    }
   ],
   "execution_count": 136
  },
  {
   "metadata": {},
   "cell_type": "markdown",
   "source": "## Adresy"
  },
  {
   "metadata": {
    "ExecuteTime": {
     "end_time": "2024-04-28T17:25:55.893613Z",
     "start_time": "2024-04-28T17:25:55.886946Z"
    }
   },
   "cell_type": "code",
   "source": [
    "import re\n",
    "\n",
    "# Regex pattern adjusted to exclude capturing prefixes directly\n",
    "pattern = r'(ul\\.|Aleja|aleja|pl\\.|al\\.)\\s*([^,\\d]+[\\d]*\\b)'\n",
    "\n",
    "def update_address(row):\n",
    "    if pd.isna(row['name/title']):\n",
    "        return row['address']\n",
    "\n",
    "    match = re.search(pattern, row['name/title'])\n",
    "    if match:\n",
    "        street_name = match.group(2).strip()\n",
    "        if pd.isna(row['address']):\n",
    "            updated_address = street_name\n",
    "        else:\n",
    "            if street_name.lower() not in row['address'].lower():\n",
    "                updated_address = f\"{street_name}, {row['address']}\"\n",
    "            else:\n",
    "                updated_address = row['address']\n",
    "    else:\n",
    "        updated_address = row['address']\n",
    "\n",
    "    # if pd.notna(updated_address) and 'kraków' not in updated_address.lower():\n",
    "    #     updated_address += \", Kraków, małopolskie\"\n",
    "    \n",
    "    return updated_address"
   ],
   "outputs": [],
   "execution_count": 138
  },
  {
   "metadata": {
    "ExecuteTime": {
     "end_time": "2024-04-28T17:27:36.209849Z",
     "start_time": "2024-04-28T17:27:35.882450Z"
    }
   },
   "cell_type": "code",
   "source": [
    "\n",
    "df_filtered_sorted_apartments['address'] = df_filtered_sorted_apartments.apply(update_address, axis=1)\n",
    "df_filtered_sorted_apartments['address'] = df_filtered_sorted_apartments['address'].str.replace(r'^ul\\.\\s+', '', regex=True)\n",
    "df_filtered_sorted_apartments['address'] = df_filtered_sorted_apartments['address'].str.replace(r',\\s*ul\\.\\s[^,\\d]+,\\s', ', ', regex=True)\n",
    "\n",
    "df_filtered_sorted_apartments\n"
   ],
   "outputs": [
    {
     "data": {
      "text/plain": [
       "                                                     url  \\\n",
       "13041  https://krakow.nieruchomosci-online.pl/mieszka...   \n",
       "9299   https://krakow.nieruchomosci-online.pl/mieszka...   \n",
       "12460  https://krakow.nieruchomosci-online.pl/mieszka...   \n",
       "0      https://www.otodom.pl/pl/oferta/nowe-mieszkani...   \n",
       "10607  https://krakow.nieruchomosci-online.pl/mieszka...   \n",
       "...                                                  ...   \n",
       "11394  https://krakow.nieruchomosci-online.pl/mieszka...   \n",
       "16261  https://krakow.nieruchomosci-online.pl/mieszka...   \n",
       "9998   https://krakow.nieruchomosci-online.pl/mieszka...   \n",
       "10185  https://krakow.nieruchomosci-online.pl/mieszka...   \n",
       "8065   https://www.otodom.pl/pl/oferta/1m-wyposazone-...   \n",
       "\n",
       "                                             name/title  \\\n",
       "13041                     Apartament, ul. 28 Lipca 1943   \n",
       "9299                      Mieszkanie, ul. 28 Lipca 1943   \n",
       "12460                     Apartament, ul. 28 Lipca 1943   \n",
       "0                    Nowe mieszkania na Górce Narodowej   \n",
       "10607                                 Mieszkanie Kraków   \n",
       "...                                                 ...   \n",
       "11394                           Kawalerka, ul. Żywiecka   \n",
       "16261                      Kawalerka, ul. Żółkiewskiego   \n",
       "9998                      Mieszkanie, ul. Żółkiewskiego   \n",
       "10185                     Mieszkanie, ul. Żółkiewskiego   \n",
       "8065   1M! Wyposażone|Ogródek 25m2|Inwestycja - ROI 10%   \n",
       "\n",
       "                                                 address      price    area  \\\n",
       "13041  28 Lipca 1943, Wola Justowska, Kraków, małopol...  2290000.0  155.16   \n",
       "9299   28 Lipca 1943, Wola Justowska, Kraków, małopol...  2399000.0  139.00   \n",
       "12460  28 Lipca 1943, Wola Justowska, Kraków, małopol...  2666000.0  146.68   \n",
       "0      29 listopada - okolice, Górka Narodowa, Prądni...   778689.0   61.30   \n",
       "10607                         64108, Kraków, małopolskie   888000.0   45.68   \n",
       "...                                                  ...        ...     ...   \n",
       "11394          Żywiecka, Łagiewniki, Kraków, małopolskie   220000.0   18.50   \n",
       "16261     Żółkiewskiego, Grzegórzki, Kraków, małopolskie   532000.0   24.40   \n",
       "9998      Żółkiewskiego, Grzegórzki, Kraków, małopolskie  1698500.0   79.00   \n",
       "10185     Żółkiewskiego, Grzegórzki, Kraków, małopolskie  2722500.0  121.00   \n",
       "8065   żabniec, Żabiniec, Prądnik Biały, Kraków, mało...   639000.0   26.00   \n",
       "\n",
       "       price-per-area  floor/store  no of floors/stores in the building  \\\n",
       "13041        14758.96            0                                    2   \n",
       "9299         17258.99            1                                    2   \n",
       "12460        18175.62            2                                    2   \n",
       "0            12703.00            1                                    5   \n",
       "10607        19439.58            4                                    4   \n",
       "...               ...          ...                                  ...   \n",
       "11394        11891.89            1                                    1   \n",
       "16261        21803.28            1                                    2   \n",
       "9998         21500.00            2                                    4   \n",
       "10185        22500.00            2                                    4   \n",
       "8065         24577.00            0                                    4   \n",
       "\n",
       "       no of rooms  year of construction  parking space     market  \\\n",
       "13041            5                2009.0           True     wtórny   \n",
       "9299             3                2022.0          False     wtórny   \n",
       "12460            3                2002.0           True     wtórny   \n",
       "0                2                2023.0           True  pierwotny   \n",
       "10607            2                2023.0           True     wtórny   \n",
       "...            ...                   ...            ...        ...   \n",
       "11394            1                2023.0          False     wtórny   \n",
       "16261            1                1900.0           True     wtórny   \n",
       "9998             4                2024.0          False  pierwotny   \n",
       "10185            4                2024.0          False  pierwotny   \n",
       "8065             1                2017.0          False     wtórny   \n",
       "\n",
       "      form of ownership  is_duplicate  \n",
       "13041    pełna własność         False  \n",
       "9299     pełna własność         False  \n",
       "12460    pełna własność         False  \n",
       "0        pełna własność         False  \n",
       "10607    pełna własność         False  \n",
       "...                 ...           ...  \n",
       "11394    pełna własność         False  \n",
       "16261               NaN          True  \n",
       "9998     pełna własność         False  \n",
       "10185    pełna własność         False  \n",
       "8065     pełna własność         False  \n",
       "\n",
       "[16262 rows x 14 columns]"
      ],
      "text/html": [
       "<div>\n",
       "<style scoped>\n",
       "    .dataframe tbody tr th:only-of-type {\n",
       "        vertical-align: middle;\n",
       "    }\n",
       "\n",
       "    .dataframe tbody tr th {\n",
       "        vertical-align: top;\n",
       "    }\n",
       "\n",
       "    .dataframe thead th {\n",
       "        text-align: right;\n",
       "    }\n",
       "</style>\n",
       "<table border=\"1\" class=\"dataframe\">\n",
       "  <thead>\n",
       "    <tr style=\"text-align: right;\">\n",
       "      <th></th>\n",
       "      <th>url</th>\n",
       "      <th>name/title</th>\n",
       "      <th>address</th>\n",
       "      <th>price</th>\n",
       "      <th>area</th>\n",
       "      <th>price-per-area</th>\n",
       "      <th>floor/store</th>\n",
       "      <th>no of floors/stores in the building</th>\n",
       "      <th>no of rooms</th>\n",
       "      <th>year of construction</th>\n",
       "      <th>parking space</th>\n",
       "      <th>market</th>\n",
       "      <th>form of ownership</th>\n",
       "      <th>is_duplicate</th>\n",
       "    </tr>\n",
       "  </thead>\n",
       "  <tbody>\n",
       "    <tr>\n",
       "      <th>13041</th>\n",
       "      <td>https://krakow.nieruchomosci-online.pl/mieszka...</td>\n",
       "      <td>Apartament, ul. 28 Lipca 1943</td>\n",
       "      <td>28 Lipca 1943, Wola Justowska, Kraków, małopol...</td>\n",
       "      <td>2290000.0</td>\n",
       "      <td>155.16</td>\n",
       "      <td>14758.96</td>\n",
       "      <td>0</td>\n",
       "      <td>2</td>\n",
       "      <td>5</td>\n",
       "      <td>2009.0</td>\n",
       "      <td>True</td>\n",
       "      <td>wtórny</td>\n",
       "      <td>pełna własność</td>\n",
       "      <td>False</td>\n",
       "    </tr>\n",
       "    <tr>\n",
       "      <th>9299</th>\n",
       "      <td>https://krakow.nieruchomosci-online.pl/mieszka...</td>\n",
       "      <td>Mieszkanie, ul. 28 Lipca 1943</td>\n",
       "      <td>28 Lipca 1943, Wola Justowska, Kraków, małopol...</td>\n",
       "      <td>2399000.0</td>\n",
       "      <td>139.00</td>\n",
       "      <td>17258.99</td>\n",
       "      <td>1</td>\n",
       "      <td>2</td>\n",
       "      <td>3</td>\n",
       "      <td>2022.0</td>\n",
       "      <td>False</td>\n",
       "      <td>wtórny</td>\n",
       "      <td>pełna własność</td>\n",
       "      <td>False</td>\n",
       "    </tr>\n",
       "    <tr>\n",
       "      <th>12460</th>\n",
       "      <td>https://krakow.nieruchomosci-online.pl/mieszka...</td>\n",
       "      <td>Apartament, ul. 28 Lipca 1943</td>\n",
       "      <td>28 Lipca 1943, Wola Justowska, Kraków, małopol...</td>\n",
       "      <td>2666000.0</td>\n",
       "      <td>146.68</td>\n",
       "      <td>18175.62</td>\n",
       "      <td>2</td>\n",
       "      <td>2</td>\n",
       "      <td>3</td>\n",
       "      <td>2002.0</td>\n",
       "      <td>True</td>\n",
       "      <td>wtórny</td>\n",
       "      <td>pełna własność</td>\n",
       "      <td>False</td>\n",
       "    </tr>\n",
       "    <tr>\n",
       "      <th>0</th>\n",
       "      <td>https://www.otodom.pl/pl/oferta/nowe-mieszkani...</td>\n",
       "      <td>Nowe mieszkania na Górce Narodowej</td>\n",
       "      <td>29 listopada - okolice, Górka Narodowa, Prądni...</td>\n",
       "      <td>778689.0</td>\n",
       "      <td>61.30</td>\n",
       "      <td>12703.00</td>\n",
       "      <td>1</td>\n",
       "      <td>5</td>\n",
       "      <td>2</td>\n",
       "      <td>2023.0</td>\n",
       "      <td>True</td>\n",
       "      <td>pierwotny</td>\n",
       "      <td>pełna własność</td>\n",
       "      <td>False</td>\n",
       "    </tr>\n",
       "    <tr>\n",
       "      <th>10607</th>\n",
       "      <td>https://krakow.nieruchomosci-online.pl/mieszka...</td>\n",
       "      <td>Mieszkanie Kraków</td>\n",
       "      <td>64108, Kraków, małopolskie</td>\n",
       "      <td>888000.0</td>\n",
       "      <td>45.68</td>\n",
       "      <td>19439.58</td>\n",
       "      <td>4</td>\n",
       "      <td>4</td>\n",
       "      <td>2</td>\n",
       "      <td>2023.0</td>\n",
       "      <td>True</td>\n",
       "      <td>wtórny</td>\n",
       "      <td>pełna własność</td>\n",
       "      <td>False</td>\n",
       "    </tr>\n",
       "    <tr>\n",
       "      <th>...</th>\n",
       "      <td>...</td>\n",
       "      <td>...</td>\n",
       "      <td>...</td>\n",
       "      <td>...</td>\n",
       "      <td>...</td>\n",
       "      <td>...</td>\n",
       "      <td>...</td>\n",
       "      <td>...</td>\n",
       "      <td>...</td>\n",
       "      <td>...</td>\n",
       "      <td>...</td>\n",
       "      <td>...</td>\n",
       "      <td>...</td>\n",
       "      <td>...</td>\n",
       "    </tr>\n",
       "    <tr>\n",
       "      <th>11394</th>\n",
       "      <td>https://krakow.nieruchomosci-online.pl/mieszka...</td>\n",
       "      <td>Kawalerka, ul. Żywiecka</td>\n",
       "      <td>Żywiecka, Łagiewniki, Kraków, małopolskie</td>\n",
       "      <td>220000.0</td>\n",
       "      <td>18.50</td>\n",
       "      <td>11891.89</td>\n",
       "      <td>1</td>\n",
       "      <td>1</td>\n",
       "      <td>1</td>\n",
       "      <td>2023.0</td>\n",
       "      <td>False</td>\n",
       "      <td>wtórny</td>\n",
       "      <td>pełna własność</td>\n",
       "      <td>False</td>\n",
       "    </tr>\n",
       "    <tr>\n",
       "      <th>16261</th>\n",
       "      <td>https://krakow.nieruchomosci-online.pl/mieszka...</td>\n",
       "      <td>Kawalerka, ul. Żółkiewskiego</td>\n",
       "      <td>Żółkiewskiego, Grzegórzki, Kraków, małopolskie</td>\n",
       "      <td>532000.0</td>\n",
       "      <td>24.40</td>\n",
       "      <td>21803.28</td>\n",
       "      <td>1</td>\n",
       "      <td>2</td>\n",
       "      <td>1</td>\n",
       "      <td>1900.0</td>\n",
       "      <td>True</td>\n",
       "      <td>wtórny</td>\n",
       "      <td>NaN</td>\n",
       "      <td>True</td>\n",
       "    </tr>\n",
       "    <tr>\n",
       "      <th>9998</th>\n",
       "      <td>https://krakow.nieruchomosci-online.pl/mieszka...</td>\n",
       "      <td>Mieszkanie, ul. Żółkiewskiego</td>\n",
       "      <td>Żółkiewskiego, Grzegórzki, Kraków, małopolskie</td>\n",
       "      <td>1698500.0</td>\n",
       "      <td>79.00</td>\n",
       "      <td>21500.00</td>\n",
       "      <td>2</td>\n",
       "      <td>4</td>\n",
       "      <td>4</td>\n",
       "      <td>2024.0</td>\n",
       "      <td>False</td>\n",
       "      <td>pierwotny</td>\n",
       "      <td>pełna własność</td>\n",
       "      <td>False</td>\n",
       "    </tr>\n",
       "    <tr>\n",
       "      <th>10185</th>\n",
       "      <td>https://krakow.nieruchomosci-online.pl/mieszka...</td>\n",
       "      <td>Mieszkanie, ul. Żółkiewskiego</td>\n",
       "      <td>Żółkiewskiego, Grzegórzki, Kraków, małopolskie</td>\n",
       "      <td>2722500.0</td>\n",
       "      <td>121.00</td>\n",
       "      <td>22500.00</td>\n",
       "      <td>2</td>\n",
       "      <td>4</td>\n",
       "      <td>4</td>\n",
       "      <td>2024.0</td>\n",
       "      <td>False</td>\n",
       "      <td>pierwotny</td>\n",
       "      <td>pełna własność</td>\n",
       "      <td>False</td>\n",
       "    </tr>\n",
       "    <tr>\n",
       "      <th>8065</th>\n",
       "      <td>https://www.otodom.pl/pl/oferta/1m-wyposazone-...</td>\n",
       "      <td>1M! Wyposażone|Ogródek 25m2|Inwestycja - ROI 10%</td>\n",
       "      <td>żabniec, Żabiniec, Prądnik Biały, Kraków, mało...</td>\n",
       "      <td>639000.0</td>\n",
       "      <td>26.00</td>\n",
       "      <td>24577.00</td>\n",
       "      <td>0</td>\n",
       "      <td>4</td>\n",
       "      <td>1</td>\n",
       "      <td>2017.0</td>\n",
       "      <td>False</td>\n",
       "      <td>wtórny</td>\n",
       "      <td>pełna własność</td>\n",
       "      <td>False</td>\n",
       "    </tr>\n",
       "  </tbody>\n",
       "</table>\n",
       "<p>16262 rows × 14 columns</p>\n",
       "</div>"
      ]
     },
     "execution_count": 139,
     "metadata": {},
     "output_type": "execute_result"
    }
   ],
   "execution_count": 139
  },
  {
   "metadata": {},
   "cell_type": "markdown",
   "source": "## Geolokacja"
  },
  {
   "metadata": {
    "ExecuteTime": {
     "end_time": "2024-04-28T21:15:33.227452Z",
     "start_time": "2024-04-28T21:15:33.131169Z"
    }
   },
   "cell_type": "code",
   "source": [
    "from geopy.geocoders import Nominatim\n",
    "import time\n",
    "\n",
    "geolocator = Nominatim(user_agent=\"AGH_Student_Data_Exploration_Project\")\n",
    "\n",
    "\n",
    "def geocode(address):\n",
    "    timeout = 10\n",
    "    attempts = 0\n",
    "    while attempts < 3:\n",
    "        try:\n",
    "            location = geolocator.geocode(address, timeout=timeout)\n",
    "            if location:\n",
    "                print(f\"{location.address}, {location.latitude}, {location.longitude}\")\n",
    "                return pd.Series([location.address, location.latitude, location.longitude])\n",
    "            else:\n",
    "                return pd.Series([None, None, None])\n",
    "        except Exception as e:\n",
    "            print(f\"Retry {attempts + 1}: Error during geocoding for address '{address}' - {str(e)}\")\n",
    "            attempts += 1\n",
    "            timeout += 5\n",
    "            time.sleep(2)\n",
    "    return pd.Series([None, None, None])"
   ],
   "outputs": [],
   "execution_count": 398
  },
  {
   "metadata": {
    "ExecuteTime": {
     "end_time": "2024-04-28T17:44:28.128799Z",
     "start_time": "2024-04-28T17:44:28.118571Z"
    }
   },
   "cell_type": "code",
   "source": [
    "unique_addresses = set(df_filtered_sorted_apartments['address'].unique())\n",
    "len(unique_addresses)"
   ],
   "outputs": [
    {
     "data": {
      "text/plain": [
       "3621"
      ]
     },
     "execution_count": 206,
     "metadata": {},
     "output_type": "execute_result"
    }
   ],
   "execution_count": 206
  },
  {
   "metadata": {
    "ExecuteTime": {
     "end_time": "2024-04-28T22:58:38.975923Z",
     "start_time": "2024-04-28T22:58:38.969605Z"
    }
   },
   "cell_type": "code",
   "source": [
    "address_list = list(unique_addresses)\n",
    "\n",
    "location_df = pd.DataFrame({\n",
    "    'address': address_list,\n",
    "    'manipulated address': address_list\n",
    "})"
   ],
   "outputs": [],
   "execution_count": 444
  },
  {
   "metadata": {
    "ExecuteTime": {
     "end_time": "2024-04-28T21:24:23.635628Z",
     "start_time": "2024-04-28T21:24:23.623629Z"
    }
   },
   "cell_type": "code",
   "source": [
    "import os\n",
    "\n",
    "def geocode_and_save(temp_df, csv_path=\"geocoded_addresses.csv\"):\n",
    "    if 'location' not in temp_df:\n",
    "        temp_df['location'] = pd.NA\n",
    "    if 'latitude' not in temp_df:\n",
    "        temp_df['latitude'] = pd.NA\n",
    "    if 'longitude' not in temp_df:\n",
    "        temp_df['longitude'] = pd.NA\n",
    "\n",
    "    if os.path.exists(csv_path):\n",
    "        existing_df = pd.read_csv(csv_path)\n",
    "        existing_df = existing_df.drop(columns='manipulated address', errors='ignore')\n",
    "\n",
    "        columns_to_drop = ['location', 'latitude', 'longitude']\n",
    "        temp_df = temp_df.drop(columns=columns_to_drop, errors='ignore')\n",
    "\n",
    "        merged_df = pd.merge(temp_df, existing_df, on='address', how='left')\n",
    "\n",
    "        for col in columns_to_drop:\n",
    "            if col + '_existing' in merged_df.columns:\n",
    "                merged_df[col] = merged_df[col + '_existing'].combine_first(merged_df[col])\n",
    "                merged_df.drop(col + '_existing', axis=1, inplace=True)\n",
    "\n",
    "        needs_geocoding = merged_df['location'].isna()\n",
    "        print(f\"Rows needing geocoding: {needs_geocoding.sum()}\")\n",
    "\n",
    "        if needs_geocoding.any():\n",
    "            geocoded_data = merged_df.loc[needs_geocoding, 'manipulated address'].apply(geocode)\n",
    "            merged_df.loc[needs_geocoding, ['location', 'latitude', 'longitude']] = geocoded_data.values\n",
    "        \n",
    "        temp_df = merged_df\n",
    "    else:\n",
    "        geocoded_data = temp_df['manipulated address'].apply(geocode)\n",
    "        temp_df[['location', 'latitude', 'longitude']] = geocoded_data.values\n",
    "\n",
    "    temp_df.to_csv(csv_path, index=False)\n",
    "    print(f\"Data saved to {csv_path}\")\n",
    "    return temp_df\n"
   ],
   "outputs": [],
   "execution_count": 406
  },
  {
   "metadata": {
    "jupyter": {
     "is_executing": true
    },
    "ExecuteTime": {
     "start_time": "2024-04-28T23:46:04.298791Z"
    }
   },
   "cell_type": "code",
   "source": "location_df = geocode_and_save(location_df)",
   "outputs": [
    {
     "name": "stdout",
     "output_type": "stream",
     "text": [
      "Rows needing geocoding: 3490\n",
      "Podzamcze, Nowy Świat, Stare Miasto, Kraków, województwo małopolskie, 31-003, Polska, 50.0552693, 19.9346877\n",
      "Kapelanka, Ludwinów, Dębniki, Kraków, województwo małopolskie, 30-347, Polska, 50.0351831, 19.9258132\n",
      "Gabrieli Zapolskiej, Bronowice, Kraków, województwo małopolskie, 30-126, Polska, 50.0766946, 19.8980642\n",
      "Radziwiłłowska, Wesoła, Stare Miasto, Kraków, województwo małopolskie, 31-025, Polska, 50.0629296, 19.9469135\n",
      "Floriańska, Stare Miasto, Kraków, województwo małopolskie, 31-019, Polska, 50.0649001, 19.9413698\n",
      "Osiedle 2 Pułku Lotniczego, Czyżyny, Kraków, województwo małopolskie, Polska, 50.0776407, 20.0072081\n",
      "Carrefour Market, 69B, Grzegórzecka, Grzegórzki, Kraków, województwo małopolskie, 31-539, Polska, 50.0561214, 19.9627049\n",
      "Torfowa, Zaborze, Ruczaj, Dębniki, Kraków, województwo małopolskie, 30-384, Polska, 50.0180473, 19.9094728\n",
      "31c, Lubocka, Bugaj, Lubocza, Wzgórza Krzesławickie, Kraków, województwo małopolskie, 31-766, Polska, 50.0944947, 20.0816233\n",
      "Bieńczyce, Kraków, województwo małopolskie, 31-831, Polska, 50.0866667, 20.0319444\n",
      "Osiedle Teatralne, Nowa Huta, Kraków, województwo małopolskie, Polska, 50.0797342, 20.0327324\n",
      "6, Osiedle Kombatantów, Mistrzejowice, Kraków, województwo małopolskie, 31-630, Polska, 50.0931616, 20.011344363638614\n",
      "Żmujdzka, Rogatka Warszawska, Olsza, Prądnik Czerwony, Kraków, województwo małopolskie, 31-426, Polska, 50.0855813, 19.9518798\n",
      "Aleja Kijowska, Łobzów, Krowodrza, Kraków, województwo małopolskie, 30-081, Polska, 50.0730961, 19.9156382\n",
      "Powały z Taczewa, Poręba, Piaski Wielkie, Podgórze Duchackie, Kraków, województwo małopolskie, 30-669, Polska, 50.0059888, 19.9850324\n",
      "Kapelanka, Zakrzówek, Dębniki, Kraków, województwo małopolskie, 30-314, Polska, 50.0448119, 19.9217392\n",
      "Osiedle \"Banacha II\", Górka Narodowa, Prądnik Biały, Kraków, województwo małopolskie, Polska, 50.103198750000004, 19.961774953913842\n",
      "Zwierzyniec, Kraków, województwo małopolskie, Polska, 50.0602082, 19.864330585540543\n",
      "Aleja 29 Listopada, Rogatka Warszawska, Olsza, Prądnik Czerwony, Kraków, województwo małopolskie, 31-425, Polska, 50.0831501, 19.952517\n",
      "Generała Leopolda Okulickiego, Osiedle Złotej Jesieni, Bieńczyce, Kraków, województwo małopolskie, 31-638, Polska, 50.0932365, 20.0299193\n",
      "Bajeczna, Dąbie, Grzegórzki, Kraków, województwo małopolskie, 31-566, Polska, 50.0574115, 19.9766744\n",
      "Kornela Ujejskiego, Półwsie Zwierzynieckie, Zwierzyniec, Kraków, województwo małopolskie, 30-102, Polska, 50.0568145, 19.9246628\n",
      "14, Zwierzyniecka, Nowy Świat, Stare Miasto, Kraków, województwo małopolskie, 31-102, Polska, 50.0577425, 19.931435505432283\n",
      "Generała Franciszka Paszkowskiego, Kaczorówka, Tonie, Prądnik Biały, Kraków, województwo małopolskie, 31-266, Polska, 50.1072071, 19.905744\n",
      "Przyjaźni Polsko-Węgierskiej, Wola Duchacka, Podgórze Duchackie, Kraków, województwo małopolskie, 30-605, Polska, 50.0243743, 19.9460158\n",
      "Aleja Ignacego Daszyńskiego, Grzegórzki, Kraków, województwo małopolskie, 31-536, Polska, 50.0522169, 19.9544966\n",
      "Czarnowiejska, Nowa Wieś, Krowodrza, Kraków, województwo małopolskie, 30-069, Polska, 50.0675687, 19.9149509\n",
      "Barbary, Osiedle Nowy Bieżanów-Północ, Bieżanów, Bieżanów-Prokocim, Kraków, województwo małopolskie, 30-857, Polska, 50.0152637, 20.0245991\n",
      "Pleszowska, Prądnik Biały, Kraków, województwo małopolskie, 31-221, Polska, 50.0945578, 19.9374678\n",
      "Bartosza Głowackiego, Bronowice, Kraków, województwo małopolskie, 30-084, Polska, 50.0775737, 19.9042255\n",
      "Kordiana, Osiedle \"Kurdwanów Nowy\", Kurdwanów, Podgórze Duchackie, Kraków, województwo małopolskie, 30-653, Polska, 50.0099957, 19.9619085\n",
      "Podmiłów, Jemiołki, Prokocim, Bieżanów-Prokocim, Kraków, województwo małopolskie, 30-829, Polska, 50.0227843, 20.0067074\n",
      "Osiedle Centrum B, Nowa Huta, Kraków, województwo małopolskie, Polska, 50.0736892, 20.0396241\n",
      "Królewska, Nowa Wieś, Krowodrza, Kraków, województwo małopolskie, 30-081, Polska, 50.0720834, 19.9188703\n",
      "3, Lubelska, Nowy Kleparz, Krowodrza, Kraków, województwo małopolskie, 30-003, Polska, 50.0736894, 19.93020821202929\n",
      "Aleja Zygmunta Krasińskiego, Półwsie Zwierzynieckie, Zwierzyniec, Kraków, województwo małopolskie, 31-111, Polska, 50.0582964, 19.9255426\n",
      "Retoryka, Nowy Świat, Stare Miasto, Kraków, województwo małopolskie, 31-107, Polska, 50.0580305, 19.9286712\n",
      "3, Kwartowa, Prądnik Czerwony, Kraków, województwo małopolskie, 31-419, Polska, 50.0908893, 19.97852604101909\n",
      "Warszawska, Kleparz, Stare Miasto, Kraków, województwo małopolskie, 30-901, Polska, 50.0714583, 19.9442718\n",
      "Księdza Józefa Kurzei, Mistrzejowice, Kraków, województwo małopolskie, 31-619, Polska, 50.0965798, 19.9894546\n",
      "Na zakolu wisły, Podgórze, Kraków, województwo małopolskie, Polska, 50.05356775, 19.984295981540495\n",
      "Nawojki, Łobzów, Krowodrza, Kraków, województwo małopolskie, 30-071, Polska, 50.0697346, 19.9061262\n",
      "Zwierzyniecka, Nowy Świat, Stare Miasto, Kraków, województwo małopolskie, 31-101, Polska, 50.0587203, 19.93304\n",
      "Osiedle Złotej Jesieni, Bieńczyce, Kraków, województwo małopolskie, 31-827, Polska, 50.0910971, 20.0256613\n",
      "Metalowców, Grzegórzki, Kraków, województwo małopolskie, 31-537, Polska, 50.058387, 19.9503427\n",
      "Sołtysowska, Zawsie, Łęg, Czyżyny, Kraków, województwo małopolskie, 31-589, Polska, 50.0611643, 20.0237816\n",
      "Księdza Kazimierza Siemaszki, Żabiniec, Prądnik Biały, Kraków, województwo małopolskie, 31-203, Polska, 50.0876278, 19.940191\n",
      "Zauchy, Papierni Prądnickich, Osiedle \"Górka Narodowa\", Prądnik Biały, Kraków, województwo małopolskie, 31-234, Polska, 50.0998722, 19.9520958\n",
      "Osiedle Centrum E, Nowa Huta, Kraków, województwo małopolskie, 31-934, Polska, 50.0698682, 20.0399341\n",
      "Słomiana, Osiedle Podwawelskie, Ludwinów, Dębniki, Kraków, województwo małopolskie, 30-361, Polska, 50.0415133, 19.9260556\n",
      "Gromadzka, Płaszów, Podgórze, Kraków, województwo małopolskie, 30-720, Polska, 50.0363616, 19.9823222\n",
      "Taklińskiego, Władysława Taklińskiego, Gaik, Opatkowice, Swoszowice, Kraków, województwo małopolskie, 30-499, Polska, 49.9874831, 19.9140838\n",
      "Generała Augusta Fieldorfa-Nila, Krowodrza Górka, Prądnik Biały, Kraków, województwo małopolskie, 31-271, Polska, 50.0882086, 19.9322981\n",
      "Osiedle Wysokie, Bieńczyce, Kraków, województwo małopolskie, 31-818, Polska, 50.0893536, 20.0195044\n",
      "Erazma Jerzmanowskiego, Nad Potokiem, Prokocim, Bieżanów-Prokocim, Kraków, województwo małopolskie, 30-870, Polska, 50.0116945, 20.0106947\n",
      "Olszanicka, Olszanica, Bory Cholerzyńskie, Zwierzyniec, Kraków, gmina Liszki, powiat krakowski, województwo małopolskie, 32-060, Polska, 50.0621282, 19.8046529\n",
      "Majora Ryszarda Nuszkiewicza, Prądnik Czerwony, Kraków, województwo małopolskie, 31-423, Polska, 50.0900018, 19.9633695\n",
      "Andrzeja Frycza-Modrzewskiego, Żabiniec, Prądnik Biały, Kraków, województwo małopolskie, 31-200, Polska, 50.0868284, 19.9463737\n",
      "Wojciecha Halczyna, Bronowice, Kraków, województwo małopolskie, 30-085, Polska, 50.0800574, 19.9057321\n",
      "165, Kobierzyńska, Osiedle Szuwarowa, Ruczaj, Dębniki, Kraków, województwo małopolskie, 30-382, Polska, 50.0190104, 19.9060225\n",
      "Przemyska, Kazimierz, Stare Miasto, Kraków, województwo małopolskie, 31-036, Polska, 50.051719, 19.9506577\n",
      "Adama Marczyńskiego, Górka Narodowa, Prądnik Biały, Kraków, województwo małopolskie, 31-220, Polska, 50.0997859, 19.9582626\n",
      "Obrońców Tobruku, Wodka, Skotniki, Dębniki, Kraków, województwo małopolskie, 30-369, Polska, 50.010033, 19.8820444\n",
      "Osiedle Zielone, Nowa Huta, Kraków, województwo małopolskie, Polska, 50.0795971, 20.0426044\n",
      "Teligi, Leonida Teligi, Nowy Prokocim, Prokocim, Bieżanów-Prokocim, Kraków, województwo małopolskie, 30-870, Polska, 50.0165955, 20.006901179746457\n",
      "Kalprodus, 38, Wrocławska, Nowy Kleparz, Krowodrza, Kraków, województwo małopolskie, 30-011, Polska, 50.0771994, 19.9259388\n",
      "Generała Józefa Bema, Osiedle Oficerskie, Grzegórzki, Kraków, województwo małopolskie, 31-517, Polska, 50.0711344, 19.9620621\n",
      "Stefana Banacha, Górka Narodowa, Prądnik Biały, Kraków, województwo małopolskie, 31-220, Polska, 50.1020539, 19.9583485\n",
      "Ernesta Solvaya, Borek Fałęcki, Łagiewniki-Borek Fałęcki, Kraków, województwo małopolskie, 30-427, Polska, 50.0141253, 19.9116839\n",
      "Spacerowa, Kobierzyn, Dębniki, Kraków, województwo małopolskie, 30-391, Polska, 49.9992491, 19.8854717\n",
      "Twardowskiego, Osiedle Podwawelskie, Ludwinów, Dębniki, Kraków, województwo małopolskie, 30-314, Polska, 50.0436871, 19.9225847\n",
      "19, Grzegórzecka, Grzegórzki, Kraków, województwo małopolskie, 31-532, Polska, 50.0584722, 19.95243094916135\n",
      "Piaszczysta, Prądnik Biały, Kraków, województwo małopolskie, Polska, 50.096730449999995, 19.928136806971658\n",
      "Kraków, województwo małopolskie, Polska, 50.0619474, 19.9368564\n",
      "Stanisława Kostki Potockiego, Górka Narodowa, Prądnik Biały, Kraków, województwo małopolskie, 31-220, Polska, 50.1004107, 19.9614781\n",
      "Osiedle Na Stoku, Wzgórza Krzesławickie, Kraków, województwo małopolskie, Polska, 50.0961111, 20.0561111\n",
      "Smętna, Bronowice Wielkie, Prądnik Biały, Kraków, województwo małopolskie, 31-343, Polska, 50.0904629, 19.8845016\n",
      "Walerego Sławka, Stare Podgórze, Podgórze, Kraków, województwo małopolskie, 30-644, Polska, 50.0285988, 19.9587652\n",
      "Rajska, Piasek, Stare Miasto, Kraków, województwo małopolskie, 31-124, Polska, 50.0646766, 19.928989\n",
      "Sławkowska, Stare Miasto, Kraków, województwo małopolskie, 31-015, Polska, 50.0655295, 19.9388433\n",
      "Łąkowa, Rakowice, Prądnik Czerwony, Kraków, województwo małopolskie, 31-446, Polska, 50.0729143, 19.9834449\n",
      "Turniejowa, Wola Duchacka, Podgórze Duchackie, Kraków, województwo małopolskie, 30-656, Polska, 50.017289, 19.9594847\n",
      "Starowiślna, Kazimierz, Stare Miasto, Kraków, województwo małopolskie, 31-037, Polska, 50.0536589, 19.9484026\n",
      "Zakrzowiecka, Pychowice, Dębniki, Kraków, województwo małopolskie, 30-387, Polska, 50.0300421, 19.8963808\n",
      "Arcybiskupa Zygmunta Szczęsnego Felińskiego, Górka Narodowa, Prądnik Biały, Kraków, województwo małopolskie, 31-236, Polska, 50.1007058, 19.9670637\n",
      "Zgodna, Piaski, Libertów, gmina Mogilany, powiat krakowski, województwo małopolskie, 30-499, Polska, 49.9800672, 19.9094486\n",
      "Papierni Prądnickich, Osiedle \"Górka Narodowa\", Prądnik Biały, Kraków, województwo małopolskie, 31-234, Polska, 50.0996886, 19.95165077618975\n",
      "Armii Krajowej, Małe Błonia, Krowodrza, Kraków, województwo małopolskie, 30-133, Polska, 50.0711263, 19.8954889\n",
      "Seweryna Udzieli, Osiedle Nowy Bieżanów-Północ, Bieżanów, Bieżanów-Prokocim, Kraków, województwo małopolskie, 30-855, Polska, 50.0237189, 20.013068\n",
      "Pod Stokiem, Chełm, Zwierzyniec, Kraków, województwo małopolskie, 30-236, Polska, 50.072764, 19.8508525\n",
      "Janusza Supniewskiego, Osiedle Oficerskie, Grzegórzki, Kraków, województwo małopolskie, 31-527, Polska, 50.0684043, 19.968369\n",
      "Leopolda Staffa, Łobzów, Krowodrza, Kraków, województwo małopolskie, 30-080, Polska, 50.07234, 19.9136434\n",
      "Księdza Mikołaja Kuczkowskiego, Mistrzejowice, Kraków, województwo małopolskie, 31-619, Polska, 50.095523, 19.988489\n",
      "Łagiewniki, Łagiewniki-Borek Fałęcki, Kraków, województwo małopolskie, Polska, 50.0225609, 19.9393686\n",
      "40b, Przewóz, Rogatka, Płaszów, Podgórze, Kraków, województwo małopolskie, 30-716, Polska, 50.041709850000004, 19.997295882656957\n",
      "Zdrowa, Żabiniec, Prądnik Biały, Kraków, województwo małopolskie, 31-200, Polska, 50.0879753, 19.9455547\n",
      "Na Błonie, Osiedle Widok-Zarzecze, Bronowice, Kraków, województwo małopolskie, 30-146, Polska, 50.0722758, 19.8777515\n",
      "Batalionu \"Skała\" AK, Krowodrza Górka, Prądnik Biały, Kraków, województwo małopolskie, 31-273, Polska, 50.0883822, 19.923848\n",
      "Lilli Wenedy, Nowy Prokocim, Prokocim, Bieżanów-Prokocim, Kraków, województwo małopolskie, 30-833, Polska, 50.018894, 20.0066672\n",
      "Bosaków, Olsza II, Olsza, Prądnik Czerwony, Kraków, województwo małopolskie, 31-410, Polska, 50.0838237, 19.9620945\n",
      "Żywiecka, Ruczaj, Łagiewniki-Borek Fałęcki, Dębniki, Kraków, województwo małopolskie, 30-383, Polska, 50.0100537, 19.907445\n",
      "Aleja generała Władysława Andersa, Nowa Huta, Kraków, województwo małopolskie, 31-936, Polska, 50.0749678, 20.0336472\n",
      "Doktora Jana Piltza, Kobierzyn, Dębniki, Kraków, województwo małopolskie, 30-392, Polska, 50.0128839, 19.8904435\n",
      "Laskowa, Osiedle Nowy Bieżanów-Północ, Bieżanów, Bieżanów-Prokocim, Kraków, województwo małopolskie, 30-852, Polska, 50.0219703, 20.0222779\n",
      "92, Cienista, Osiedle Przy Arce, Bieńczyce, Kraków, województwo małopolskie, 31-831, Polska, 50.0862394, 20.029883152070386\n",
      "Bronowicka, Bronowice, Kraków, województwo małopolskie, 30-124, Polska, 50.0759556, 19.90571\n",
      "Pilotów, Olsza II, Olsza, Prądnik Czerwony, Kraków, województwo małopolskie, 31-462, Polska, 50.0771182, 19.9694925\n",
      "Józefa Elsnera, Osiedle Azory, Prądnik Biały, Kraków, województwo małopolskie, 31-339, Polska, 50.0837493, 19.909678\n",
      "Grochowska, Osiedle Oficerskie, Grzegórzki, Kraków, województwo małopolskie, 31-520, Polska, 50.0741834, 19.958013\n",
      "Generała Augusta Fieldorfa-Nila, Krowodrza Górka, Prądnik Biały, Kraków, województwo małopolskie, 31-271, Polska, 50.0882086, 19.9322981\n",
      "Walerego Eljasza-Radzikowskiego, Azory, Prądnik Biały, Kraków, województwo małopolskie, 31-307, Polska, 50.0824413, 19.9135696\n",
      "Tymotkowa, Kobierzyn, Dębniki, Kraków, województwo małopolskie, 30-388, Polska, 50.0132858, 19.8943232\n",
      "Jana Kurczaba, Nowy Prokocim, Prokocim, Bieżanów-Prokocim, Kraków, województwo małopolskie, 30-868, Polska, 50.0137338, 20.0074091\n",
      "Armii Krajowej, Bronowice Małe, Bronowice, Kraków, województwo małopolskie, 31-342, Polska, 50.0863533, 19.8913868\n",
      "Grzegorza Korzeniaka, Olszanica, Zwierzyniec, Kraków, województwo małopolskie, 30-298, Polska, 50.0734896, 19.8333652\n",
      "Czyżyny, Kraków, województwo małopolskie, 31-579, Polska, 50.0725247, 20.0109302\n",
      "Białoruska, Wola Duchacka, Podgórze Duchackie, Kraków, województwo małopolskie, 30-661, Polska, 50.015927, 19.9694793\n",
      "Piotra Borowego, Zwierzyniec, Kraków, województwo małopolskie, 30-214, Polska, 50.0644927, 19.890371\n",
      "Wrocławska, Łobzów, Krowodrza, Kraków, województwo małopolskie, 31-307, Polska, 50.081544, 19.9161823\n",
      "Leona Petrażyckiego, Dąbrowy, Opatkowice, Swoszowice, Kraków, województwo małopolskie, 30-444, Polska, 49.9843462, 19.8969298\n",
      "363, Księcia Józefa, Osiedle Wojskowe, Bielany, Zwierzyniec, Kraków, województwo małopolskie, 30-243, Polska, 50.04305655, 19.81825795854909\n",
      "Jerzego Szablowskiego, Osiedle Widok-Zarzecze, Bronowice, Kraków, województwo małopolskie, 30-127, Polska, 50.0766632, 19.8936989\n",
      "Rezedowa, Prądnik Czerwony, Kraków, województwo małopolskie, 31-409, Polska, 50.0867204, 19.9614121\n",
      "Stanisława Mitery, Stare Podgórze, Podgórze, Kraków, województwo małopolskie, 30-505, Polska, 50.0387673, 19.9403193\n",
      "Rydlówka, 28, Włodzimierza Tetmajera, Bronowice Małe, Bronowice, Kraków, województwo małopolskie, 31-398, Polska, 50.08784005, 19.87805496140262\n",
      "29D, Mariana Domagały, Złocień, Bieżanów-Prokocim, Kraków, województwo małopolskie, 30-798, Polska, 50.0263827, 20.048862462665056\n",
      "Romualda Traugutta, Stare Podgórze, Podgórze, Kraków, województwo małopolskie, 30-549, Polska, 50.0462107, 19.957749\n",
      "Pszenna, Wola Duchacka, Podgórze Duchackie, Kraków, województwo małopolskie, 30-654, Polska, 50.0217433, 19.9551565\n",
      "Węgierska, Stare Podgórze, Podgórze, Kraków, województwo małopolskie, 30-500, Polska, 50.0454035, 19.9509052\n",
      "Dąbie, Grzegórzki, Kraków, województwo małopolskie, 31-560, Polska, 50.0594368, 19.9791419\n",
      "Księdza Piotra Ściegiennego, Osiedle Medyków, Prokocim, Bieżanów-Prokocim, Kraków, województwo małopolskie, 30-809, Polska, 50.0158392, 19.9978631\n",
      "Igołomska, Kombinat, Nowa Huta, Kraków, województwo małopolskie, 31-983, Polska, 50.0728146, 20.1197281\n",
      "Jana Kantego Federowicza, Wodka, Skotniki, Dębniki, Kraków, województwo małopolskie, 30-369, Polska, 50.0130679, 19.8836852\n",
      "Księdza Prymasa Stefana Wyszyńskiego, Rżąka, Bieżanów-Prokocim, Kraków, województwo małopolskie, 30-695, Polska, 50.0074901, 20.0086377\n",
      "Tyniecka, Bodzów, Dębniki, Kraków, województwo małopolskie, 30-377, Polska, 50.0356067, 19.8871853\n",
      "1, Daliowa, Osiedle \"Kurdwanów Nowy\", Kurdwanów, Podgórze Duchackie, Kraków, województwo małopolskie, 30-612, Polska, 50.0107733, 19.94862277038149\n",
      "Osiedle Albertyńskie, Bieńczyce, Kraków, województwo małopolskie, Polska, 50.0814309, 20.0176277\n",
      "Wojciecha Halczyna, Bronowice, Kraków, województwo małopolskie, 30-085, Polska, 50.0800574, 19.9057321\n",
      "Majora Ryszarda Nuszkiewicza, Prądnik Czerwony, Kraków, województwo małopolskie, 31-423, Polska, 50.0900018, 19.9633695\n",
      "Półwsie Zwierzynieckie, Zwierzyniec, Kraków, województwo małopolskie, 30-109, Polska, 50.0551652, 19.9189682\n",
      "Bieńczycka, Nowa Huta, Kraków, województwo małopolskie, 31-860, Polska, 50.0772202, 20.0235855\n",
      "Trybuny Ludów, Wola Duchacka, Podgórze Duchackie, Kraków, województwo małopolskie, 30-659, Polska, 50.0167635, 19.9675928\n",
      "Wincentego Wodzinowskiego, Azory, Prądnik Biały, Kraków, województwo małopolskie, 31-307, Polska, 50.0835063, 19.9133064\n",
      "Waleriana Łukasińskiego, Borek Fałęcki, Łagiewniki-Borek Fałęcki, Kraków, województwo małopolskie, 30-426, Polska, 50.0207176, 19.9265472\n",
      "Wyciąże, Nowa Huta, Kraków, województwo małopolskie, 31-998, Polska, 50.0697629, 20.1645182\n",
      "Jana Kasprowicza, Osiedle Oficerskie, Grzegórzki, Kraków, województwo małopolskie, 31-523, Polska, 50.0682802, 19.9656763\n",
      "Osiedle Akademickie, Czyżyny, Kraków, województwo małopolskie, 31-866, Polska, 50.0852438, 19.994655\n",
      "Michała Stachowicza, Półwsie Zwierzynieckie, Zwierzyniec, Kraków, województwo małopolskie, 30-103, Polska, 50.0559791, 19.9239528\n",
      "Nowohucka, Błonie-Beszcz, Łęg, Czyżyny, Kraków, województwo małopolskie, 30-580, Polska, 50.0573224, 20.0017497\n",
      "Cegielniana, Łagiewniki-Borek Fałęcki, Kraków, województwo małopolskie, 30-404, Polska, 50.0278052, 19.9331999\n",
      "Józefińska, Stare Podgórze, Podgórze, Kraków, województwo małopolskie, 30-548, Polska, 50.0450196, 19.9567307\n",
      "Jerzego Smoleńskiego, Galatowski Koniec, Opatkowice, Swoszowice, Kraków, województwo małopolskie, 30-498, Polska, 49.9868233, 19.9192716\n",
      "Malborska, Wola Duchacka, Podgórze Duchackie, Kraków, województwo małopolskie, 30-625, Polska, 50.0234487, 19.9684859\n",
      "Krowodrza, Kraków, województwo małopolskie, 30-010, Polska, 50.0788515, 19.928968\n",
      "Wrocławska, Łobzów, Krowodrza, Kraków, województwo małopolskie, 31-307, Polska, 50.081544, 19.9161823\n",
      "Pułkownika Ryszarda Kuklińskiego, Zagumnie, Płaszów, Podgórze, Kraków, województwo małopolskie, 30-727, Polska, 50.0441018, 19.9736048\n",
      "Wielkotyrnowska, Azory, Prądnik Biały, Kraków, województwo małopolskie, 31-326, Polska, 50.086229, 19.9143751\n",
      "Josepha Conrada, Bronowice Wielkie, Prądnik Biały, Kraków, województwo małopolskie, 31-385, Polska, 50.087761, 19.8929919\n",
      "Józefa Wybickiego, Krowodrza Górka, Prądnik Biały, Kraków, województwo małopolskie, 31-261, Polska, 50.0838343, 19.9273109\n",
      "2, Długa, Kleparz, Stare Miasto, Kraków, województwo małopolskie, 31-146, Polska, 50.066448, 19.9389108\n",
      "Świętego Sebastiana, Kazimierz, Stare Miasto, Kraków, województwo małopolskie, 31-050, Polska, 50.0551507, 19.9444402\n",
      "Osiedle Ruczaj-Zaborze, Ruczaj, Dębniki, Kraków, województwo małopolskie, 30-349, Polska, 50.0310027, 19.9193683\n",
      "13, Lublańska, Prądnik Czerwony, Kraków, województwo małopolskie, 31-410, Polska, 50.08551545, 19.962431081523338\n",
      "Celna, Stare Podgórze, Podgórze, Kraków, województwo małopolskie, 30-508, Polska, 50.0451062, 19.9465722\n",
      "Krowoderskich Zuchów, Krowodrza Górka, Prądnik Biały, Kraków, województwo małopolskie, 31-271, Polska, 50.0838836, 19.930691\n",
      "Aleja Jana Pawła II, Nowa Huta, Kraków, województwo małopolskie, 31-940, Polska, 50.0725677, 20.0252362\n",
      "Józefa Dietla, Stradom, Stare Miasto, Kraków, województwo małopolskie, 31-058, Polska, 50.0515183, 19.9410103\n",
      "Koszykarska, Ogrody Płaszów, Płaszów, Podgórze, Kraków, województwo małopolskie, 30-728, Polska, 50.0523838, 19.989574\n",
      "Mikołajska, Stare Miasto, Kraków, województwo małopolskie, 31-028, Polska, 50.061416, 19.9429226\n",
      "Strzelców, Prądnik Czerwony, Kraków, województwo małopolskie, 31-419, Polska, 50.0934559, 19.9756342\n",
      "Stolarska, Stare Miasto, Kraków, województwo małopolskie, 31-043, Polska, 50.0591162, 19.938707\n",
      "Księdza Prymasa Stefana Wyszyńskiego, Rżąka, Bieżanów-Prokocim, Kraków, województwo małopolskie, 30-695, Polska, 50.0074901, 20.0086377\n",
      "19, Słomiana, Osiedle Podwawelskie, Ludwinów, Dębniki, Kraków, województwo małopolskie, 30-361, Polska, 50.041332600000004, 19.92731062097056\n",
      "Poznańska, Krowodrza, Kraków, województwo małopolskie, 30-012, Polska, 50.0811914, 19.9257271\n",
      "Jurajska, Zadworze, Tonie, Prądnik Biały, Kraków, województwo małopolskie, 31-270, Polska, 50.1195616, 19.9012143\n",
      "5, Osiedle Tysiąclecia, Mistrzejowice, Kraków, województwo małopolskie, 31-604, Polska, 50.0895445, 19.99959145103903\n",
      "Na Szaniec, Dąbie, Grzegórzki, Kraków, województwo małopolskie, 31-557, Polska, 50.0585642, 19.9761689\n",
      "Nowowiejska, Nowa Wieś, Krowodrza, Kraków, województwo małopolskie, 30-081, Polska, 50.072548, 19.9176869\n",
      "Majora Ryszarda Nuszkiewicza, Prądnik Czerwony, Kraków, województwo małopolskie, 31-423, Polska, 50.0900018, 19.9633695\n",
      "Podwawelskie, 20, Aleja Pokoju, Dąbie, Grzegórzki, Kraków, województwo małopolskie, 31-557, Polska, 50.0600472, 19.9764186\n",
      "Zygmunta Miłkowskiego, Osiedle Ruczaj-Zaborze, Ruczaj, Łagiewniki-Borek Fałęcki, Dębniki, Kraków, województwo małopolskie, 30-349, Polska, 50.0274537, 19.9202904\n",
      "Podłącze, Wola Justowska, Zwierzyniec, Kraków, województwo małopolskie, 30-218, Polska, 50.0681703, 19.8773761\n",
      "Pychowice, Dębniki, Kraków, województwo małopolskie, Polska, 50.0349171, 19.8931529\n",
      "5, Świętego Wawrzyńca, Kazimierz, Stare Miasto, Kraków, województwo małopolskie, 31-060, Polska, 50.0494163, 19.9452989\n",
      "Aleja Jana Pawła II, Ugorek, Rakowice, Prądnik Czerwony, Kraków, województwo małopolskie, 31-446, Polska, 50.0729408, 19.9852689\n",
      "Chocimska, Nowa Wieś, Krowodrza, Kraków, województwo małopolskie, 30-057, Polska, 50.0698342, 19.9155486\n",
      "Osiedle Przy Arce, Bieńczyce, Kraków, województwo małopolskie, Polska, 50.083325900000006, 20.029136198152532\n",
      "Zofii Nałkowskiej, Dom Nad Łąkami, Olszyny, Dębniki, Kraków, województwo małopolskie, 30-399, Polska, 49.977644, 19.8776483\n",
      "Biskupa Albina Małysiaka, Kobierzyn, Dębniki, Kraków, województwo małopolskie, 30-389, Polska, 49.9987185, 19.8938794\n",
      "Dąbska, Dąbie, Grzegórzki, Kraków, województwo małopolskie, 31-572, Polska, 50.0663249, 19.986472\n",
      "Ludwinowska, Osiedle Podwawelskie, Ludwinów, Dębniki, Kraków, województwo małopolskie, 30-332, Polska, 50.042745, 19.9354115\n",
      "Puszkarska, Stare Podgórze, Podgórze, Kraków, województwo małopolskie, 30-524, Polska, 50.0316177, 19.9486585\n",
      "Stanisława Klimeckiego, Zabłocie, Podgórze, Kraków, województwo małopolskie, 30-706, Polska, 50.0487047, 19.96836\n",
      "Bociana, Prądnik Biały, Kraków, województwo małopolskie, 31-232, Polska, 50.0928723, 19.9562624\n",
      "Księdza Franciszka Blachnickiego, Grzegórzki, Kraków, województwo małopolskie, 31-534, Polska, 50.0555457, 19.9523735\n",
      "Bieżanowska, Szutry, Prokocim, Bieżanów-Prokocim, Kraków, województwo małopolskie, 30-804, Polska, 50.0233917, 19.9808187\n",
      "Pylna, Chełm, Zwierzyniec, Kraków, województwo małopolskie, 30-236, Polska, 50.0711847, 19.8562903\n",
      "Telimeny, Osiedle Nowy Bieżanów-Północ, Bieżanów, Bieżanów-Prokocim, Kraków, województwo małopolskie, 30-838, Polska, 50.0199779, 20.0130963\n",
      "Zagrody, Dębniki, Kraków, województwo małopolskie, 30-317, Polska, 50.04929, 19.9233371\n",
      "Żelazna, Przedmieście Warszawskie, Stare Miasto, Kraków, województwo małopolskie, 31-404, Polska, 50.0745345, 19.9464297\n",
      "Kurdwanów, Podgórze Duchackie, Kraków, województwo małopolskie, Polska, 50.0082445, 19.9550913\n",
      "58B, Obozowa, Zaborze, Ruczaj, Dębniki, Kraków, województwo małopolskie, 30-383, Polska, 50.0152108, 19.9097606\n",
      "Marii i Bolesława Wysłouchów, Osiedle \"Kurdwanów Nowy\", Kurdwanów, Podgórze Duchackie, Kraków, województwo małopolskie, 30-611, Polska, 50.0080626, 19.9548721\n",
      "Storczykowa, Osiedle \"Kurdwanów Nowy\", Kurdwanów, Podgórze Duchackie, Kraków, województwo małopolskie, 30-613, Polska, 50.011972, 19.9472065\n",
      "Dominikanów, Prądnik Czerwony, Kraków, województwo małopolskie, 31-476, Polska, 50.0867543, 19.9643821\n",
      "Czerwone Maki, Skotniki, Dębniki, Kraków, województwo małopolskie, 30-392, Polska, 50.0175402, 19.8895223\n",
      "Władysława Łokietka, Nowy Kleparz, Krowodrza, Kraków, województwo małopolskie, 30-006, Polska, 50.0765491, 19.9304869\n",
      "Osiedle Kazimierzowskie, Bieńczyce, Kraków, województwo małopolskie, 31-839, Polska, 50.0854878, 20.0240987\n",
      "Kapelanka, Ludwinów, Dębniki, Kraków, województwo małopolskie, 30-347, Polska, 50.0351831, 19.9258132\n",
      "Bolesława Orlińskiego, Czyżyny, Kraków, województwo małopolskie, 31-877, Polska, 50.0813485, 19.9989219\n",
      "Zygmunta Miłkowskiego, Osiedle Ruczaj-Zaborze, Ruczaj, Dębniki, Kraków, województwo małopolskie, 30-349, Polska, 50.028767, 19.9181041\n",
      "Podskale, Stare Podgórze, Podgórze, Kraków, województwo małopolskie, 30-522, Polska, 50.0378899, 19.9420089\n",
      "Lotnicza, Osiedle Oficerskie, Grzegórzki, Kraków, województwo małopolskie, 31-463, Polska, 50.0741066, 19.9704442\n",
      "Rakowicka Residence, 6, Rakowicka, Wesoła II, Grzegórzki, Kraków, województwo małopolskie, 31-503, Polska, 50.0657064, 19.9515091\n",
      "Pustynna, Kliny, Swoszowice, Kraków, województwo małopolskie, 30-440, Polska, 50.0047585, 19.9151725\n",
      "Okólna, Kozłówka, Bieżanów-Prokocim, Kraków, województwo małopolskie, 30-667, Polska, 50.0164142, 19.9837781\n",
      "Lwowska, Stare Podgórze, Podgórze, Kraków, województwo małopolskie, 30-551, Polska, 50.0442452, 19.9580718\n",
      "Józefa Sarego, Stradom, Stare Miasto, Kraków, województwo małopolskie, 31-047, Polska, 50.0567673, 19.9425266\n",
      "9a, Młodzieży, Jemiołki, Prokocim, Bieżanów-Prokocim, Kraków, województwo małopolskie, 30-829, Polska, 50.0237589, 20.002396347409324\n",
      "Księdza Piotra Ściegiennego, Osiedle Medyków, Prokocim, Bieżanów-Prokocim, Kraków, województwo małopolskie, 30-809, Polska, 50.0158392, 19.9978631\n",
      "Jerozolimska, Kabel, Podgórze, Kraków, województwo małopolskie, 30-555, Polska, 50.0367036, 19.9663782\n",
      "Gramatyka, Łobzów, Krowodrza, Kraków, województwo małopolskie, 31-145, Polska, 50.0715604, 19.9067313\n",
      "Mikołaja Reja, Osiedle Żabiniec, Prądnik Biały, Kraków, województwo małopolskie, 31-215, Polska, 50.086051, 19.9433075\n",
      "Przegon, Salwator, Zwierzyniec, Kraków, województwo małopolskie, 30-209, Polska, 50.057236, 19.9043773\n",
      "Kraków Bieżanów, Stacyjna, Osiedle Kolejowe, Złocień, Bieżanów-Prokocim, Kraków, województwo małopolskie, 30-851, Polska, 50.0214997, 20.0298488\n",
      "Józefa Łepkowskiego, Prądnik Czerwony, Kraków, województwo małopolskie, 31-423, Polska, 50.0914719, 19.962676\n",
      "Kwartowa, Prądnik Czerwony, Kraków, województwo małopolskie, 31-480, Polska, 50.0937064, 19.9820514\n",
      "Widok, Dąbie, Grzegórzki, Kraków, województwo małopolskie, 31-566, Polska, 50.0573772, 19.9789268\n",
      "Rydlówka, Stare Podgórze, Podgórze, Kraków, województwo małopolskie, 30-636, Polska, 50.0352782, 19.9349524\n",
      "Samuela Bogumiła Lindego, Mydlniki, Bronowice, Kraków, województwo małopolskie, 30-148, Polska, 50.0783308, 19.8704244\n",
      "Osiedle \"Zacisze Banacha\", Prądnik Biały, Kraków, województwo małopolskie, Polska, 50.10140385, 19.960468697330523\n",
      "Podłużna, Chełm, Zwierzyniec, Kraków, województwo małopolskie, 30-238, Polska, 50.0680861, 19.8465818\n",
      "Józefińska, Stare Podgórze, Podgórze, Kraków, województwo małopolskie, 30-548, Polska, 50.0450196, 19.9567307\n",
      "Księdza Piotra Ściegiennego, Osiedle Medyków, Prokocim, Bieżanów-Prokocim, Kraków, województwo małopolskie, 30-809, Polska, 50.0158392, 19.9978631\n",
      "Karola Bunscha, Wodka, Skotniki, Dębniki, Kraków, województwo małopolskie, 30-369, Polska, 50.0119573, 19.8831596\n",
      "Saska, Zagumnie, Płaszów, Podgórze, Kraków, województwo małopolskie, 30-720, Polska, 50.0409028, 19.9833069\n",
      "Tadeusza Szafrana, Stare Podgórze, Podgórze, Kraków, województwo małopolskie, 30-636, Polska, 50.0345918, 19.93293\n",
      "Księdza Józefa Meiera, Górka Narodowa, Prądnik Biały, Kraków, województwo małopolskie, 31-241, Polska, 50.0988387, 19.9704163\n",
      "Stanisława Konarskiego, Nowa Wieś, Krowodrza, Kraków, województwo małopolskie, 30-040, Polska, 50.0683383, 19.9208045\n",
      "Osiedle Dywizjonu 303, Czyżyny, Kraków, województwo małopolskie, Polska, 50.0848148, 20.0067417\n",
      "Augustiańska, Kazimierz, Stare Miasto, Kraków, województwo małopolskie, 31-064, Polska, 50.0489498, 19.9419504\n",
      "Walerego Eliasza Radzikowskiego, Bronowice Małe, Bronowice, Kraków, województwo małopolskie, 31-342, Polska, 50.0878673, 19.8894746\n",
      "Krowoderskich Zuchów, Krowodrza Górka, Prądnik Biały, Kraków, województwo małopolskie, 31-271, Polska, 50.0838836, 19.930691\n",
      "Ognistych Wici, Osiedle Piastów, Mistrzejowice, Kraków, województwo małopolskie, 31-625, Polska, 50.1016262, 20.0139098\n",
      "Macieja Miechowity, Olsza II, Olsza, Prądnik Czerwony, Kraków, województwo małopolskie, 31-471, Polska, 50.0831615, 19.9655351\n",
      "Teodora Parnickiego, Mistrzejowice, Kraków, województwo małopolskie, 31-618, Polska, 50.0973479, 19.9945849\n",
      "Piotra Michałowskiego, Piasek, Stare Miasto, Kraków, województwo małopolskie, 31-127, Polska, 50.0659979, 19.9279103\n",
      "Podgórska, Grzegórzki, Kraków, województwo małopolskie, 31-536, Polska, 50.05342, 19.9603091\n",
      "Siewna, Prądnik Biały, Kraków, województwo małopolskie, 31-220, Polska, 50.0938325, 19.9610052\n",
      "Kliny, Swoszowice, Kraków, województwo małopolskie, Polska, 49.999983, 19.9121738\n",
      "55n, Stare Wiślisko, Mogiła, Nowa Huta, Kraków, województwo małopolskie, 31-979, Polska, 50.06130374999999, 20.05609236214824\n",
      "Majora Henryka Sucharskiego, Gaj, Bieżanów, Bieżanów-Prokocim, Kraków, województwo małopolskie, 30-898, Polska, 50.0161451, 20.0554774\n",
      "Myśliwska, Ogrody Płaszów, Płaszów, Podgórze, Kraków, województwo małopolskie, 30-730, Polska, 50.0451882, 19.9955009\n",
      "Bronowice Małe, Bronowice, Kraków, województwo małopolskie, Polska, 50.0880596, 19.8775429\n",
      "Jaworowa, Bogucice, Osiedle Bogucice, Wieliczka, gmina Wieliczka, powiat wielicki, województwo małopolskie, 30-898, Polska, 49.9993947, 20.0489611\n",
      "Szlak, Kleparz, Stare Miasto, Kraków, województwo małopolskie, 31-161, Polska, 50.0711279, 19.9355011\n",
      "Osiedle Spółdzielcze, Nowa Huta, Kraków, województwo małopolskie, 31-943, Polska, 50.0777259, 20.0272257\n",
      "Tuchowska, Kurdwanów, Podgórze Duchackie, Kraków, województwo małopolskie, 30-658, Polska, 50.0113281, 19.9668759\n",
      "Nadwiślańska, Stare Podgórze, Podgórze, Kraków, województwo małopolskie, 30-527, Polska, 50.0475831, 19.9532146\n",
      "Morelowa, Wola Justowska, Zwierzyniec, Kraków, województwo małopolskie, 30-222, Polska, 50.0696059, 19.8722087\n",
      "Nowosądecka, Wola Duchacka, Podgórze Duchackie, Kraków, województwo małopolskie, 30-638, Polska, 50.0154039, 19.9707351\n",
      "Plac Bohaterów Getta, Stare Podgórze, Podgórze, Kraków, województwo małopolskie, 30-527, Polska, 50.04652365, 19.954267899999998\n",
      "Augustyna Kordeckiego, Kazimierz, Stare Miasto, Kraków, województwo małopolskie, 31-071, Polska, 50.0496422, 19.9376168\n",
      "Rogatka, Przedmieście Warszawskie, Stare Miasto, Kraków, województwo małopolskie, 30-962, Polska, 50.0795208, 19.9476816\n",
      "66, Wrocławska, Krowodrza, Kraków, województwo małopolskie, 30-017, Polska, 50.07921965, 19.919893996203324\n",
      "Kombinat, Nowa Huta, Kraków, województwo małopolskie, Polska, 50.0716293, 20.0810336\n",
      "Hieronima Wietora, Kazimierz, Stare Miasto, Kraków, województwo małopolskie, 31-067, Polska, 50.0462384, 19.9412496\n",
      "Wawelska, Mistrzejowice, Kraków, województwo małopolskie, 31-617, Polska, 50.0970227, 20.0028534\n",
      "Na Wrzosach, Stara Wieś, Prokocim, Bieżanów-Prokocim, Kraków, województwo małopolskie, 30-830, Polska, 50.0206713, 19.9969082\n",
      "Zarzecze, Osiedle Widok-Zarzecze, Bronowice, Kraków, województwo małopolskie, 30-134, Polska, 50.0756396, 19.8892802\n",
      "Jana Buszka, Małe Błonia, Krowodrza, Kraków, województwo małopolskie, 30-133, Polska, 50.0683981, 19.897333\n",
      "76B, Grzegórzecka, Grzegórzki, Kraków, województwo małopolskie, 31-559, Polska, 50.05759105, 19.965055018293654\n",
      "Doktora Jana Piltza, Kobierzyn, Dębniki, Kraków, województwo małopolskie, 30-392, Polska, 50.0128839, 19.8904435\n",
      "Jana Karola Chodkiewicza, Grzegórzki, Kraków, województwo małopolskie, 31-534, Polska, 50.0562553, 19.9538028\n",
      "Celarowska, Wiśniowa, Olsza, Prądnik Czerwony, Kraków, województwo małopolskie, 31-414, Polska, 50.0827488, 19.9552214\n",
      "Fabryczna, Grzegórzki, Kraków, województwo małopolskie, 31-553, Polska, 50.0632744, 19.9726403\n",
      "Aleja Pokoju, Dąbie, Grzegórzki, Kraków, województwo małopolskie, 31-557, Polska, 50.0593942, 19.9760994\n",
      "Bieżanów-Prokocim, Kraków, województwo małopolskie, Polska, 50.01706235, 20.022991856015395\n",
      "Aleja Adama Mickiewicza, Nowa Wieś, Krowodrza, Kraków, województwo małopolskie, 30-045, Polska, 50.0692325, 19.9263106\n",
      "15C, Bieńczycka, Nowa Huta, Kraków, województwo małopolskie, 31-860, Polska, 50.07788575, 20.02145635\n",
      "Aleja generała Jana Skrzyneckiego, Stare Podgórze, Podgórze, Kraków, województwo małopolskie, 30-636, Polska, 50.0350543, 19.9349549\n",
      "Majora Ryszarda Nuszkiewicza, Prądnik Czerwony, Kraków, województwo małopolskie, 31-423, Polska, 50.0900018, 19.9633695\n",
      "25, Zachodnia, Osiedle Szuwarowa, Ruczaj, Dębniki, Kraków, województwo małopolskie, 30-350, Polska, 50.0253483, 19.9047761\n",
      "Zygmuntowska, Osiedle Azory, Prądnik Biały, Kraków, województwo małopolskie, 31-314, Polska, 50.0855556, 19.9075636\n",
      "Pawła z Krosna, Kliny Zacisze, Kliny, Swoszowice, Kraków, województwo małopolskie, 30-389, Polska, 50.003994, 19.8938674\n",
      "Lublańska, Olsza II, Olsza, Prądnik Czerwony, Kraków, województwo małopolskie, 31-476, Polska, 50.0849277, 19.9652103\n",
      "Biskupa Piotra Tomickiego, Łęg, Czyżyny, Kraków, województwo małopolskie, 31-982, Polska, 50.065705, 20.0216769\n",
      "Profesora Władysława Konopczyńskiego, Osiedle Szuwarowa, Ruczaj, Dębniki, Kraków, województwo małopolskie, 30-382, Polska, 50.0179579, 19.8963239\n",
      "Zakątek, Łobzów, Krowodrza, Kraków, województwo małopolskie, 30-076, Polska, 50.0757497, 19.914697\n",
      "5, Plac Juliusza Kossaka, Nowy Świat, Stare Miasto, Kraków, województwo małopolskie, 31-106, Polska, 50.0568196, 19.92802\n",
      "Kliny Zacisze, Kliny, Swoszowice, Kraków, województwo małopolskie, 30-389, Polska, 49.9998275, 19.8972804\n",
      "Józefa, Kazimierz, Stare Miasto, Kraków, województwo małopolskie, 31-062, Polska, 50.0502861, 19.9430525\n",
      "Płaszów, Podgórze, Kraków, województwo małopolskie, Polska, 50.0399798, 19.9926237\n",
      "Żabiniec, Prądnik Biały, Kraków, województwo małopolskie, 30-016, Polska, 50.0829498, 19.9442299\n",
      "23, Marii i Bolesława Wysłouchów, Osiedle \"Kurdwanów Nowy\", Kurdwanów, Podgórze Duchackie, Kraków, województwo małopolskie, 30-611, Polska, 50.009572649999996, 19.953096209837575\n",
      "Ogrody Borkowskie, 34, Obozowa, Zaborze, Ruczaj, Łagiewniki-Borek Fałęcki, Dębniki, Kraków, województwo małopolskie, 30-383, Polska, 50.012429299999994, 19.908149827206174\n",
      "Świętego Jana, Stare Miasto, Kraków, województwo małopolskie, 31-017, Polska, 50.0631412, 19.9385853\n",
      "Juliusza Lea, Łobzów, Krowodrza, Kraków, województwo małopolskie, 31-145, Polska, 50.0720718, 19.9069529\n",
      "Gliniana, Rogatka, Płaszów, Podgórze, Kraków, województwo małopolskie, 30-725, Polska, 50.0356626, 19.9950198\n",
      "Na Błonie, Bronowice, Kraków, województwo małopolskie, 30-147, Polska, 50.0803728, 19.881481\n",
      "Świętego Jacka, Zakrzówek, Dębniki, Kraków, województwo małopolskie, 30-364, Polska, 50.0371301, 19.9191874\n",
      "Osiedle Bohaterów Września, Mistrzejowice, Kraków, województwo małopolskie, Polska, 50.098804, 20.009940791706967\n",
      "Wlotowa, Kozłówka, Bieżanów-Prokocim, Kraków, województwo małopolskie, 30-668, Polska, 50.0194862, 19.9867585\n",
      "Osiedle Willowe, Nowa Huta, Kraków, województwo małopolskie, Polska, 50.0721963, 20.0500073\n",
      "Gabrieli Zapolskiej, Bronowice, Kraków, województwo małopolskie, 30-126, Polska, 50.0766946, 19.8980642\n",
      "Profesora Stefana Myczkowskiego, Mydlniki, Bronowice, Kraków, województwo małopolskie, 30-198, Polska, 50.0858875, 19.8482547\n",
      "Szwedzka, Dębniki, Kraków, województwo małopolskie, 30-317, Polska, 50.0495985, 19.9223537\n",
      "Czarnochowicka, Bieżanów, Granica, Bieżanów-Prokocim, Kraków, gmina Wieliczka, powiat wielicki, województwo małopolskie, 30-898, Polska, 50.0091172, 20.0649289\n",
      "8, Romana Kiełkowskiego, Zabłocie, Podgórze, Kraków, województwo małopolskie, 30-704, Polska, 50.04532475, 19.970274460677796\n",
      "Mariana Domagały, Tadeusza Śliwiaka, Przewóz, Podgórze, Kraków, województwo małopolskie, 30-797, Polska, 50.0367193, 20.0523695\n",
      "Stanisława Worcella, Kleparz, Stare Miasto, Kraków, województwo małopolskie, 31-156, Polska, 50.0662719, 19.9437017\n",
      "Przyjaźni Polsko-Węgierskiej, Wola Duchacka, Podgórze Duchackie, Kraków, województwo małopolskie, 30-605, Polska, 50.0243743, 19.9460158\n",
      "Prokocim, Bieżanów-Prokocim, Kraków, województwo małopolskie, Polska, 50.0226748, 19.9921741\n",
      "Osiedle Wiślane Tarasy, Grzegórzki, Kraków, województwo małopolskie, Polska, 50.05517425, 19.961608589908906\n",
      "Koszykarska, Ogrody Płaszów, Płaszów, Podgórze, Kraków, województwo małopolskie, 30-728, Polska, 50.0523838, 19.989574\n",
      "U Przybyszewskiego etap III, Małe Błonia, Krowodrza, Kraków, województwo małopolskie, Polska, 50.06856285, 19.89312566859228\n",
      "Stanisława Przybyszewskiego, Bronowice, Kraków, województwo małopolskie, 30-133, Polska, 50.0716392, 19.8953814\n",
      "Smoleńskiego, Jerzego Smoleńskiego, Zadworze, Opatkowice, Swoszowice, Kraków, województwo małopolskie, 30-499, Polska, 49.981388, 19.9198976\n",
      "Tadeusza Ważewskiego, Zakarczmie, Opatkowice, Swoszowice, Kraków, województwo małopolskie, 30-499, Polska, 49.9829405, 19.9050947\n",
      "Juliusza Osterwy, Kosocice, Swoszowice, Kraków, województwo małopolskie, 30-692, Polska, 49.9920551, 19.9786041\n",
      "Osiedle Dywizjonu 303, Czyżyny, Kraków, województwo małopolskie, Polska, 50.0848148, 20.0067417\n",
      "Przy Moście, Stare Podgórze, Podgórze, Kraków, województwo małopolskie, 30-508, Polska, 50.0448433, 19.9456334\n",
      "7C, Strzelców, Prądnik Czerwony, Kraków, województwo małopolskie, 31-422, Polska, 50.0922631, 19.970282652651008\n",
      "Myśliwska, Płaszów, Podgórze, Kraków, województwo małopolskie, 30-730, Polska, 50.0450489, 19.9999567\n",
      "Na Ustroniu, Osiedle Podwawelskie, Ludwinów, Dębniki, Kraków, województwo małopolskie, 31-051, Polska, 50.046101, 19.9317678\n",
      "Pawia, Kleparz, Stare Miasto, Kraków, województwo małopolskie, 31-154, Polska, 50.0687318, 19.9451594\n",
      "Garncarska, Piasek, Stare Miasto, Kraków, województwo małopolskie, 31-115, Polska, 50.0626415, 19.9277117\n",
      "Plac Dominikański, Stare Miasto, Kraków, województwo małopolskie, 31-043, Polska, 50.059189, 19.9385844\n",
      "Macieja Dębskiego, Gaik, Opatkowice, Swoszowice, Kraków, województwo małopolskie, 30-499, Polska, 49.9885772, 19.9066078\n",
      "Wizjonerów, Bronowice Małe, Bronowice, Kraków, województwo małopolskie, 31-356, Polska, 50.0846035, 19.8861483\n",
      "Brzeska, Wolica, Nowa Huta, Kraków, województwo małopolskie, 31-998, Polska, 50.0640568, 20.1928806\n",
      "Aleja Pokoju, Czyżyny, Kraków, województwo małopolskie, 31-564, Polska, 50.0643866, 19.9890138\n",
      "Witkowicka, Witkowice-Górka Narodowa Zachód, Witkowice, Prądnik Biały, Kraków, województwo małopolskie, 31-235, Polska, 50.1083934, 19.9463968\n",
      "Zakopiańska, Jugowice, Swoszowice, Kraków, województwo małopolskie, 30-423, Polska, 50.0069997, 19.9249812\n",
      "Smętna, Bronowice Wielkie, Prądnik Biały, Kraków, województwo małopolskie, 31-343, Polska, 50.0927119, 19.885334\n",
      "Tadeusza Makowskiego, Azory, Prądnik Biały, Kraków, województwo małopolskie, 31-328, Polska, 50.0876739, 19.9189255\n",
      "Mariana Słoneckiego, Prądnik Czerwony, Kraków, województwo małopolskie, 31-421, Polska, 50.0903338, 19.9757761\n",
      "Leopolda Staffa, Łobzów, Krowodrza, Kraków, województwo małopolskie, 30-080, Polska, 50.07234, 19.9136434\n",
      "Zwierzyniec, Kraków, województwo małopolskie, Polska, 50.0551551, 19.9056814\n",
      "Gryczana, Kaczorówka, Tonie, Prądnik Biały, Kraków, województwo małopolskie, 31-266, Polska, 50.1095715, 19.9072634\n",
      "23F, Kuźnicy Kołłątajowskiej, Górka Narodowa, Prądnik Biały, Kraków, województwo małopolskie, 31-234, Polska, 50.09700615, 19.957312733131992\n",
      "Emaus, Zwierzyniec, Kraków, województwo małopolskie, 30-213, Polska, 50.0606141, 19.8984091\n",
      "Muzeum Katedralne im. Jana Pawła II, 2, Zamek Wawel, Stare Miasto, Kraków, województwo małopolskie, 31-001, Polska, 50.0546591, 19.9344961\n",
      "Jesionowa, Osiedle Widok-Zarzecze, Bronowice, Kraków, województwo małopolskie, 30-146, Polska, 50.0705347, 19.8768504\n",
      "Zabłocie, Podgórze, Kraków, województwo małopolskie, 30-701, Polska, 50.0504009, 19.9594986\n",
      "Gdyńska, Azory, Prądnik Biały, Kraków, województwo małopolskie, 31-301, Polska, 50.0883809, 19.9120585\n",
      "Stanisława Klimeckiego, Zabłocie, Podgórze, Kraków, województwo małopolskie, 30-706, Polska, 50.0487047, 19.96836\n",
      "14, Jana Kurczaba, Nad Potokiem, Prokocim, Bieżanów-Prokocim, Kraków, województwo małopolskie, 30-868, Polska, 50.01180155, 20.006549714094447\n",
      "3, Mariana Domagały, Złocień, Bieżanów-Prokocim, Kraków, województwo małopolskie, 30-798, Polska, 50.03082215, 20.051273110250463\n",
      "9, Strzelców, Prądnik Czerwony, Kraków, województwo małopolskie, 31-422, Polska, 50.09283825, 19.973182162174666\n",
      "9A, Księdza Franciszka Maja, Gaik, Opatkowice, Swoszowice, Kraków, województwo małopolskie, 30-499, Polska, 49.9888389, 19.9126433\n",
      "Wielicka, Szutry, Prokocim, Bieżanów-Prokocim, Kraków, województwo małopolskie, 30-804, Polska, 50.0240909, 19.9794646\n",
      "Litewska, Nowy Kleparz, Krowodrza, Kraków, województwo małopolskie, 30-019, Polska, 50.0763999, 19.9261022\n",
      "Józefa Montwiłła-Mireckiego, Borek Fałęcki, Łagiewniki-Borek Fałęcki, Kraków, województwo małopolskie, 30-426, Polska, 50.0196132, 19.927044\n",
      "Jesionowa, Wola Justowska, Zwierzyniec, Kraków, województwo małopolskie, 30-221, Polska, 50.0696612, 19.8758605\n",
      "Aleja 3 Maja, Błonia, Zwierzyniec, Kraków, województwo małopolskie, 31-111, Polska, 50.0592896, 19.9239443\n",
      "Juliana Dunajewskiego, Piasek, Stare Miasto, Kraków, województwo małopolskie, 31-133, Polska, 50.0637679, 19.9333618\n",
      "Długa, Kleparz, Stare Miasto, Kraków, województwo małopolskie, 30-004, Polska, 50.0730166, 19.9358237\n",
      "2, Bardosa, Stara Mogiła, Mogiła, Nowa Huta, Kraków, województwo małopolskie, 31-979, Polska, 50.0687094, 20.0647749\n",
      "Skawińska, Kazimierz, Stare Miasto, Kraków, województwo małopolskie, 31-066, Polska, 50.0476629, 19.9428535\n",
      "Stawowa, Bronowice Wielkie, Prądnik Biały, Kraków, województwo małopolskie, 31-344, Polska, 50.098438, 19.8763138\n",
      "105, Zbrojarzy, Zaborze, Ruczaj, Dębniki, Kraków, województwo małopolskie, 30-412, Polska, 50.0229786, 19.919870330025127\n",
      "Opolska, Krowodrza Górka, Prądnik Biały, Kraków, województwo małopolskie, 31-280, Polska, 50.0906571, 19.9209692\n",
      "Domki, Osiedle Oficerskie, Grzegórzki, Kraków, województwo małopolskie, 31-521, Polska, 50.0753901, 19.9591419\n",
      "Tyniecka, Kostrze, Dębniki, Kraków, województwo małopolskie, 30-381, Polska, 50.0268843, 19.8446064\n",
      "Józefa Rzebika, Płaszów, Podgórze, Kraków, województwo małopolskie, 30-725, Polska, 50.0398889, 19.9918425\n",
      "Doktora Jana Piltza, Kobierzyn, Dębniki, Kraków, województwo małopolskie, 30-388, Polska, 50.0089455, 19.8894521\n",
      "Na Wrzosach, Stara Wieś, Prokocim, Bieżanów-Prokocim, Kraków, województwo małopolskie, 30-830, Polska, 50.0206713, 19.9969082\n",
      "Stradomska, Stradom, Stare Miasto, Kraków, województwo małopolskie, 31-068, Polska, 50.0532899, 19.9400011\n",
      "Śliska, Stare Podgórze, Podgórze, Kraków, województwo małopolskie, 30-516, Polska, 50.039545, 19.9411694\n",
      "Śliczna, Rakowice, Prądnik Czerwony, Kraków, województwo małopolskie, 31-444, Polska, 50.0740288, 19.9762573\n",
      "Tyniecka, Bodzów, Dębniki, Kraków, województwo małopolskie, 30-377, Polska, 50.0356067, 19.8871853\n",
      "Na Wierzchowinach, Wola Justowska, Zwierzyniec, Kraków, województwo małopolskie, 30-222, Polska, 50.0681438, 19.8697521\n",
      "Piotra Borowego, Zwierzyniec, Kraków, województwo małopolskie, 30-214, Polska, 50.0644927, 19.890371\n",
      "Jana Kiepury, Bieżanów, Bieżanów-Prokocim, Kraków, województwo małopolskie, 30-864, Polska, 50.0087226, 20.0242585\n",
      "19, Osiedle Albertyńskie, Bieńczyce, Kraków, województwo małopolskie, 31-853, Polska, 50.08324895, 20.01966545507257\n",
      "33, Magdaleny Samozwaniec, Dłubnia, Wzgórza Krzesławickie, Kraków, województwo małopolskie, 31-711, Polska, 50.0957751, 20.0393939\n",
      "Osiedle Willowe, Nowa Huta, Kraków, województwo małopolskie, Polska, 50.0721963, 20.0500073\n",
      "Bulwarowa, Nowa Huta, Kraków, województwo małopolskie, 32-977, Polska, 50.0805703, 20.0484836\n",
      "Osiedle Zgody, Nowa Huta, Kraków, województwo małopolskie, Polska, 50.0765676, 20.0356877\n",
      "Królewska, Łobzów, Krowodrza, Kraków, województwo małopolskie, 30-080, Polska, 50.0741635, 19.9105308\n",
      "Żytnia, Wiśniowa, Olsza, Prądnik Czerwony, Kraków, województwo małopolskie, 31-414, Polska, 50.0848375, 19.956641\n",
      "Wolica, Nowa Huta, Kraków, województwo małopolskie, Polska, 50.0559188, 20.2022957\n",
      "Leona Petrażyckiego, Dom Nad Łąkami, Olszyny, Dębniki, Kraków, województwo małopolskie, 30-399, Polska, 49.982778, 19.8840497\n",
      "66, Walerego Eljasza-Radzikowskiego, Azory, Prądnik Biały, Kraków, województwo małopolskie, 31-315, Polska, 50.08399675, 19.90554185678789\n",
      "Długa, Kleparz, Stare Miasto, Kraków, województwo małopolskie, 30-004, Polska, 50.0724492, 19.9358475\n",
      "4, Wyżynna, Osiedle \"Kurdwanów Nowy\", Kurdwanów, Podgórze Duchackie, Kraków, województwo małopolskie, 30-614, Polska, 50.0026098, 19.9593752\n",
      "Kreator, 130, Kobierzyńska, Osiedle Szuwarowa, Ruczaj, Dębniki, Kraków, województwo małopolskie, 30-382, Polska, 50.0212345, 19.9094027\n",
      "Grzegórzki, Kraków, województwo małopolskie, 31-548, Polska, 50.0593184, 19.9651538\n",
      "Osiedle Piastów, Mistrzejowice, Kraków, województwo małopolskie, Polska, 50.1003776, 20.02101742976312\n",
      "Babinicza, Kliny Zacisze, Kliny, Swoszowice, Kraków, województwo małopolskie, 30-389, Polska, 50.001137, 19.899539\n",
      "Półłanki, Przewóz, Podgórze, Kraków, województwo małopolskie, 30-740, Polska, 50.0378614, 20.0426109\n",
      "Skawina, Bolesława Jamroza, Rynek, Osiedle Stare Miasto, Skawina, gmina Skawina, powiat krakowski, województwo małopolskie, 33-050, Polska, 49.9773831, 19.8231533\n",
      "19, Telimeny, Osiedle Nowy Bieżanów-Północ, Bieżanów, Bieżanów-Prokocim, Kraków, województwo małopolskie, 30-838, Polska, 50.0181198, 20.014309949999998\n",
      "Mały Płaszów, Płaszów, Podgórze, Kraków, województwo małopolskie, 30-716, Polska, 50.040506, 20.003331\n",
      "Osiedle Centrum A, Nowa Huta, Kraków, województwo małopolskie, 31-923, Polska, 50.0720051, 20.0409261\n",
      "Henryka i Karola Czeczów, Złocień, Bieżanów-Prokocim, Kraków, województwo małopolskie, 30-798, Polska, 50.0214891, 20.053783\n",
      "Teligi, Leonida Teligi, Nowy Prokocim, Prokocim, Bieżanów-Prokocim, Kraków, województwo małopolskie, 30-870, Polska, 50.0165955, 20.006901179746457\n",
      "Henryka Pachońskiego, Prądnik Biały, Kraków, województwo małopolskie, 31-223, Polska, 50.0935683, 19.9225386\n",
      "Bolesława Wallek-Walewskiego, Bronowice, Kraków, województwo małopolskie, 30-091, Polska, 50.079212, 19.8974734\n",
      "Górników, Stara Wieś, Prokocim, Bieżanów-Prokocim, Kraków, województwo małopolskie, 30-823, Polska, 50.0195692, 19.9936787\n",
      "Na zakolu wisły, Podgórze, Kraków, województwo małopolskie, Polska, 50.05356775, 19.984295981540495\n",
      "Świętej Agnieszki, Stradom, Stare Miasto, Kraków, województwo małopolskie, 31-068, Polska, 50.0524852, 19.9402387\n",
      "Bratysławska, Krowodrza Górka, Prądnik Biały, Kraków, województwo małopolskie, 31-271, Polska, 50.0839659, 19.9335671\n",
      "Krowodrza Górka, Prądnik Biały, Kraków, województwo małopolskie, Polska, 50.0887692, 19.9299753\n",
      "Biskupa Albina Małysiaka, Kobierzyn, Dębniki, Kraków, województwo małopolskie, 30-389, Polska, 49.9987185, 19.8938794\n",
      "Gromady Grudziąż, Wola Duchacka, Podgórze Duchackie, Kraków, województwo małopolskie, 30-620, Polska, 50.0149826, 19.9582971\n",
      "Bulwarowa, Nowa Huta, Kraków, województwo małopolskie, 32-977, Polska, 50.0805703, 20.0484836\n",
      "Hamernia, Osiedle Widok-Zarzecze, Bronowice, Kraków, województwo małopolskie, 30-144, Polska, 50.0698577, 19.8854814\n",
      "Kwietna, Łagiewniki, Łagiewniki-Borek Fałęcki, Kraków, województwo małopolskie, 30-607, Polska, 50.0220855, 19.9416313\n",
      "Tarłowska, Nowy Świat, Stare Miasto, Kraków, województwo małopolskie, 31-102, Polska, 50.0571481, 19.9316262\n",
      "Tadeusza Rejtana, Stare Podgórze, Podgórze, Kraków, województwo małopolskie, 30-510, Polska, 50.0437372, 19.9455459\n",
      "Drukarska, Osiedle Szuwarowa, Ruczaj, Dębniki, Kraków, województwo małopolskie, 30-348, Polska, 50.0241628, 19.9020593\n",
      "Trybuny Ludów, Wola Duchacka, Podgórze Duchackie, Kraków, województwo małopolskie, 30-659, Polska, 50.0167635, 19.9675928\n",
      "Macieja Dębskiego, Gaik, Opatkowice, Swoszowice, Kraków, województwo małopolskie, 30-499, Polska, 49.9885772, 19.9066078\n",
      "Kuźnicy Kołłątajowskiej, Górka Narodowa, Prądnik Biały, Kraków, województwo małopolskie, 31-220, Polska, 50.0981141, 19.9599517\n",
      "Piasta Kołodzieja, Mistrzejowice, Kraków, województwo małopolskie, 31-620, Polska, 50.0956129, 20.0127952\n",
      "Rydlówka, Stare Podgórze, Podgórze, Kraków, województwo małopolskie, 30-636, Polska, 50.0352782, 19.9349524\n",
      "Marii i Bolesława Wysłouchów, Osiedle \"Kurdwanów Nowy\", Kurdwanów, Podgórze Duchackie, Kraków, województwo małopolskie, 30-611, Polska, 50.0080626, 19.9548721\n",
      "Księdza Stefana Pawlickiego, Osiedle Robotnicze, Dębniki, Kraków, województwo małopolskie, 30-320, Polska, 50.0449121, 19.9182018\n",
      "Bolesława Czerwieńskiego, Azory, Prądnik Biały, Kraków, województwo małopolskie, 31-319, Polska, 50.085623, 19.9035541\n",
      "Na Ustroniu, Osiedle Podwawelskie, Ludwinów, Dębniki, Kraków, województwo małopolskie, 31-051, Polska, 50.046101, 19.9317678\n",
      "Studencka, Piasek, Stare Miasto, Kraków, województwo małopolskie, 31-115, Polska, 50.062369, 19.928304\n",
      "Ludwika Zieleniewskiego, Grzegórzki, Kraków, województwo małopolskie, 31-548, Polska, 50.0564914, 19.9644161\n",
      "Powstańców, Mistrzejowice, Kraków, województwo małopolskie, 31-625, Polska, 50.10664, 20.0120368\n",
      "Owsiana, Prądnik Biały, Kraków, województwo małopolskie, 31-332, Polska, 50.0933568, 19.9151093\n",
      "Wita Stwosza, Przedmieście Warszawskie, Stare Miasto, Kraków, województwo małopolskie, 31-508, Polska, 50.0694699, 19.9496652\n",
      "Górników, Stara Wieś, Prokocim, Bieżanów-Prokocim, Kraków, województwo małopolskie, 30-823, Polska, 50.0195692, 19.9936787\n",
      "Nowohucka, Błonie-Beszcz, Łęg, Czyżyny, Kraków, województwo małopolskie, 30-580, Polska, 50.0573224, 20.0017497\n",
      "Wizjonerów, Bronowice Małe, Bronowice, Kraków, województwo małopolskie, 31-356, Polska, 50.0846035, 19.8861483\n",
      "61, Myśliwska, Płaszów, Podgórze, Kraków, województwo małopolskie, 30-718, Polska, 50.04361325, 19.998974157806096\n",
      "86, Królowej Jadwigi, Salwator, Zwierzyniec, Kraków, województwo małopolskie, 30-209, Polska, 50.0563227, 19.9031428\n",
      "Czarnowiejska, Nowa Wieś, Krowodrza, Kraków, województwo małopolskie, 30-069, Polska, 50.0675687, 19.9149509\n",
      "Republiki Korczakowskiej, Nowy Prokocim, Prokocim, Bieżanów-Prokocim, Kraków, województwo małopolskie, 30-809, Polska, 50.0163919, 20.0008638\n",
      "Aleja Pułkownika Władysława Beliny-Prażmowskiego, Osiedle Oficerskie, Grzegórzki, Kraków, województwo małopolskie, 31-514, Polska, 50.0714132, 19.9588409\n",
      "Majora Łupaszki, Mydlniki, Bronowice, Kraków, województwo małopolskie, 30-198, Polska, 50.0858787, 19.852248\n",
      "5, Zygmunta Miłkowskiego, Osiedle Ruczaj-Zaborze, Ruczaj, Dębniki, Kraków, województwo małopolskie, 30-349, Polska, 50.0274455, 19.9194649\n",
      "Bieżanów-Prokocim, Kraków, województwo małopolskie, Polska, 50.01706235, 20.022991856015395\n",
      "Pawia, Kleparz, Stare Miasto, Kraków, województwo małopolskie, 31-154, Polska, 50.0687318, 19.9451594\n",
      "Ignacego Krasickiego, Stare Podgórze, Podgórze, Kraków, województwo małopolskie, 30-503, Polska, 50.0412587, 19.9402027\n",
      "Śliczna, Ugorek, Rakowice, Prądnik Czerwony, Kraków, województwo małopolskie, 31-444, Polska, 50.0737471, 19.9766862\n",
      "Bagrowa, Rogatka, Płaszów, Podgórze, Kraków, województwo małopolskie, 30-733, Polska, 50.0383975, 20.0006013\n",
      "Praska, Osiedle Robotnicze, Dębniki, Kraków, województwo małopolskie, 30-324, Polska, 50.0497093, 19.9204389\n",
      "Koszykarska, Ogrody Płaszów, Płaszów, Podgórze, Kraków, województwo małopolskie, 30-728, Polska, 50.0523838, 19.989574\n",
      "Przewóz, Zagumnie, Płaszów, Podgórze, Kraków, województwo małopolskie, 30-715, Polska, 50.0436893, 19.9876361\n",
      "Podgórze Duchackie, Kraków, województwo małopolskie, Polska, 50.01618985, 19.959420960382204\n",
      "MuFo Rakowicka, 22A, Rakowicka, Osiedle Oficerskie, Grzegórzki, Kraków, województwo małopolskie, 31-510, Polska, 50.0704496, 19.953530233759537\n",
      "Zygmunta Miłkowskiego, Osiedle Ruczaj-Zaborze, Ruczaj, Łagiewniki-Borek Fałęcki, Dębniki, Kraków, województwo małopolskie, 30-349, Polska, 50.0274537, 19.9202904\n",
      "Zygmuntowska, Osiedle Azory, Prądnik Biały, Kraków, województwo małopolskie, 31-314, Polska, 50.0855556, 19.9075636\n",
      "21, Aleja Pokoju, Grzegórzki, Kraków, województwo małopolskie, 31-548, Polska, 50.0598528, 19.96778\n",
      "Ludwika Zieleniewskiego, Grzegórzki, Kraków, województwo małopolskie, 31-548, Polska, 50.0564914, 19.9644161\n",
      "Profesora Władysława Konopczyńskiego, Osiedle Szuwarowa, Ruczaj, Dębniki, Kraków, województwo małopolskie, 30-382, Polska, 50.0179579, 19.8963239\n",
      "Wileńska, Rogatka Warszawska, Olsza, Prądnik Czerwony, Kraków, województwo małopolskie, 31-425, Polska, 50.0829034, 19.9526324\n",
      "Józefa Korzeniowskiego, Zwierzyniec, Kraków, województwo małopolskie, 30-213, Polska, 50.0612142, 19.8964334\n",
      "Pędzichów, Kleparz, Stare Miasto, Kraków, województwo małopolskie, 31-152, Polska, 50.070287, 19.9385371\n",
      "Baron Restaurant & Bar, 4, Przemysłowa, Zabłocie, Podgórze, Kraków, województwo małopolskie, 30-701, Polska, 50.048969, 19.9596465\n",
      "Czarnowiejska, Piasek, Stare Miasto, Kraków, województwo małopolskie, 31-120, Polska, 50.0655828, 19.9258208\n",
      "Baron Restaurant & Bar, 4, Przemysłowa, Zabłocie, Podgórze, Kraków, województwo małopolskie, 30-701, Polska, 50.048969, 19.9596465\n",
      "Kaspra Żelechowskiego, Bronowice, Kraków, województwo małopolskie, 30-124, Polska, 50.0745879, 19.9031263\n",
      "Rydlówka 4 bud D, 4, Rydlówka, Stare Podgórze, Podgórze, Kraków, województwo małopolskie, 30-415, Polska, 50.03331145, 19.94174854832631\n",
      "Józefa Ignacego Kraszewskiego, Półwsie Zwierzynieckie, Zwierzyniec, Kraków, województwo małopolskie, 30-109, Polska, 50.0558773, 19.9190019\n",
      "Kordiana, Osiedle \"Kurdwanów Nowy\", Kurdwanów, Podgórze Duchackie, Kraków, województwo małopolskie, 30-653, Polska, 50.0099957, 19.9619085\n",
      "Rzemieślnicza, Stare Podgórze, Podgórze, Kraków, województwo małopolskie, 30-415, Polska, 50.0332651, 19.9387815\n",
      "Wojciecha Darasza, Szutry, Prokocim, Bieżanów-Prokocim, Kraków, województwo małopolskie, 30-805, Polska, 50.0256615, 19.9946913\n",
      "Aleksandra Lubomirskiego, Wesoła, Stare Miasto, Kraków, województwo małopolskie, 31-508, Polska, 50.0681073, 19.9507643\n",
      "5/1, Osiedle Szkolne, Giebułtów, gmina Wielka Wieś, powiat krakowski, województwo małopolskie, 32-088, Polska, 50.1402972, 19.8857948\n",
      "Zenona Klemensiewicza, Rogatka Warszawska, Olsza, Prądnik Czerwony, Kraków, województwo małopolskie, 31-482, Polska, 50.0809595, 19.9507548\n",
      "Władysława Łokietka, Nowy Kleparz, Krowodrza, Kraków, województwo małopolskie, 30-010, Polska, 50.0773956, 19.9298619\n",
      "Potrzask, Bieżanów, Bieżanów-Prokocim, Kraków, województwo małopolskie, 30-898, Polska, 50.0134549, 20.050992\n",
      "Krokusowa, Zaborze, Ruczaj, Dębniki, Kraków, województwo małopolskie, 30-431, Polska, 50.0237228, 19.9188264\n",
      "Lwowska, Stare Podgórze, Podgórze, Kraków, województwo małopolskie, 30-551, Polska, 50.0442452, 19.9580718\n",
      "Śliska, Stare Podgórze, Podgórze, Kraków, województwo małopolskie, 30-516, Polska, 50.039545, 19.9411694\n",
      "Na Polach, Bronowice Wielkie, Prądnik Biały, Kraków, województwo małopolskie, 31-354, Polska, 50.0969048, 19.8761709\n",
      "Stanisława Stojałowskiego, Osiedle \"Kurdwanów Nowy\", Kurdwanów, Podgórze Duchackie, Kraków, województwo małopolskie, 30-613, Polska, 50.0057555, 19.947606\n",
      "Bronisława Włodarczyka, Czyżyny, Kraków, województwo małopolskie, 31-872, Polska, 50.0833253, 19.9998585\n",
      "Oboźna, Nowy Kleparz, Krowodrza, Kraków, województwo małopolskie, 30-010, Polska, 50.0797998, 19.9287252\n",
      "Turniejowa, Wola Duchacka, Podgórze Duchackie, Kraków, województwo małopolskie, 30-656, Polska, 50.017289, 19.9594847\n",
      "Park Czyżyny, Czyżyny, Kraków, województwo małopolskie, Polska, 50.0798564, 20.001230773541028\n",
      "68D, Grębałowska, Grębałów, Wzgórza Krzesławickie, Kraków, województwo małopolskie, 31-764, Polska, 50.1015805, 20.0762195\n",
      "Lasówka, Płaszów, Podgórze, Kraków, województwo małopolskie, 30-723, Polska, 50.0404753, 20.0151209\n",
      "Walerego Sławka, Wola Duchacka, Podgórze Duchackie, Kraków, województwo małopolskie, 30-633, Polska, 50.0236618, 19.960403\n",
      "Nowa Huta, Kraków, województwo małopolskie, 31-926, Polska, 50.0727278, 20.0375118\n",
      "Królewska, Nowa Wieś, Krowodrza, Kraków, województwo małopolskie, 30-081, Polska, 50.0720834, 19.9188703\n",
      "Zaułek, Zabłocie, Podgórze, Kraków, województwo małopolskie, 30-553, Polska, 50.0442164, 19.9636996\n",
      "5, Porucznika Jerzego Halszki, Osiedle \"Kurdwanów Nowy\", Kurdwanów, Podgórze Duchackie, Kraków, województwo małopolskie, 30-612, Polska, 50.012142, 19.95253607311833\n",
      "Jerzego Samuela Bandtkiego, Bronowice, Kraków, województwo małopolskie, 30-129, Polska, 50.0753898, 19.898709\n",
      "Puszkarska, Wola Duchacka, Podgórze, Podgórze Duchackie, Kraków, województwo małopolskie, 30-524, Polska, 50.0311786, 19.9480084\n",
      "Sudecka, Rogatka, Płaszów, Podgórze, Kraków, województwo małopolskie, 30-731, Polska, 50.032907, 20.0014864\n",
      "Seweryna Goszczyńskiego, Rogatka, Płaszów, Podgórze, Kraków, województwo małopolskie, 30-724, Polska, 50.0377005, 19.9910359\n",
      "Górka Narodowa, Prądnik Biały, Kraków, województwo małopolskie, 31-242, Polska, 50.1058749, 19.9541123\n",
      "Celna, Stare Podgórze, Podgórze, Kraków, województwo małopolskie, 30-508, Polska, 50.0451062, 19.9465722\n",
      "Spokojna, Nowa Wieś, Krowodrza, Kraków, województwo małopolskie, 30-054, Polska, 50.0690013, 19.9173355\n",
      "Osiedle Albertyńskie, Bieńczyce, Kraków, województwo małopolskie, Polska, 50.0814309, 20.0176277\n",
      "Majora Łupaszki, Mydlniki, Bronowice, Kraków, województwo małopolskie, 30-198, Polska, 50.0858787, 19.852248\n",
      "Rotmistrza Zbigniewa Dunin-Wąsowicza, Półwsie Zwierzynieckie, Zwierzyniec, Kraków, województwo małopolskie, 30-112, Polska, 50.0567692, 19.92248\n",
      "Balicka, Mydlniki, Bronowice, Kraków, województwo małopolskie, 30-198, Polska, 50.081372, 19.858348\n",
      "Edwarda Szymańskiego, Branice, Nowa Huta, Kraków, województwo małopolskie, 31-985, Polska, 50.070546, 20.1436538\n",
      "Wacława Lipińskiego, Osiedle Ruczaj-Zaborze, Ruczaj, Dębniki, Kraków, województwo małopolskie, 30-349, Polska, 50.0303166, 19.9252806\n",
      "Długa, Kleparz, Stare Miasto, Kraków, województwo małopolskie, 30-004, Polska, 50.0730166, 19.9358237\n",
      "Andrzeja Badurskiego, Osiedle Medyków, Prokocim, Bieżanów-Prokocim, Kraków, województwo małopolskie, 30-688, Polska, 50.0111369, 19.9910254\n",
      "Grzegórzecka, Wesoła, Grzegórzki, Kraków, województwo małopolskie, 31-539, Polska, 50.0578259, 19.9583506\n",
      "Świętego Wawrzyńca, Kazimierz, Stare Miasto, Kraków, województwo małopolskie, 31-036, Polska, 50.0506193, 19.9523613\n",
      "Rakowicka, Osiedle Oficerskie, Grzegórzki, Kraków, województwo małopolskie, 31-509, Polska, 50.0687346, 19.9529591\n",
      "Powstańców, Mistrzejowice, Kraków, województwo małopolskie, 31-625, Polska, 50.10664, 20.0120368\n",
      "Osiedle Szkolne, Nowa Huta, Kraków, województwo małopolskie, Polska, 50.0774958, 20.0482373\n",
      "Osiedle Kalinowe, Bieńczyce, Kraków, województwo małopolskie, Polska, 50.091117, 20.013326731946403\n",
      "Zygmunta Glogera, Prądnik Biały, Kraków, województwo małopolskie, 31-226, Polska, 50.1035703, 19.9268562\n",
      "Lindego Concept, Bronowice, Kraków, województwo małopolskie, Polska, 50.0784333, 19.87911725458617\n",
      "Adama Vetulaniego, Prądnik Biały, Kraków, województwo małopolskie, 31-226, Polska, 50.0959509, 19.9247837\n",
      "Racławicka, Krowodrza, Kraków, województwo małopolskie, 30-017, Polska, 50.0783749, 19.920967\n",
      "Profesora Wojciecha Marii Bartla, Kliny Zacisze, Kliny, Swoszowice, Kraków, województwo małopolskie, 30-389, Polska, 49.9988754, 19.8965918\n",
      "Stare Podgórze, Podgórze, Kraków, województwo małopolskie, Polska, 50.0444203, 19.9493098\n",
      "Piwna, Stare Podgórze, Podgórze, Kraków, województwo małopolskie, 30-527, Polska, 50.0469509, 19.9532162\n",
      "Rotmistrza Zbigniewa Dunin-Wąsowicza, Półwsie Zwierzynieckie, Zwierzyniec, Kraków, województwo małopolskie, 30-112, Polska, 50.0567692, 19.92248\n",
      "Felicjanek, Nowy Świat, Stare Miasto, Kraków, województwo małopolskie, 31-105, Polska, 50.0567884, 19.9295432\n",
      "Zwierzyniecka, Półwsie Zwierzynieckie, Zwierzyniec, Kraków, województwo małopolskie, 31-106, Polska, 50.0553435, 19.9279807\n",
      "Papierni Prądnickich, Osiedle \"Górka Narodowa\", Prądnik Biały, Kraków, województwo małopolskie, 31-234, Polska, 50.0996886, 19.95165077618975\n",
      "Nawojki, Łobzów, Krowodrza, Kraków, województwo małopolskie, 30-071, Polska, 50.0697346, 19.9061262\n",
      "Świętego Wawrzyńca, Kazimierz, Stare Miasto, Kraków, województwo małopolskie, 31-036, Polska, 50.0506193, 19.9523613\n",
      "Rżąka, Bieżanów-Prokocim, Kraków, województwo małopolskie, Polska, 50.0070102, 20.0092452\n",
      "Plac Nowy, Kazimierz, Stare Miasto, Kraków, województwo małopolskie, 31-059, Polska, 50.051735199999996, 19.94461926961297\n",
      "Batalionu \"Zośka\", Osiedle Przy Arce, Bieńczyce, Kraków, województwo małopolskie, 31-944, Polska, 50.0806994, 20.0255269\n",
      "Podzamcze, Nowy Świat, Stare Miasto, Kraków, województwo małopolskie, 31-003, Polska, 50.0552693, 19.9346877\n",
      "Jana Kasprowicza, Osiedle Oficerskie, Grzegórzki, Kraków, województwo małopolskie, 31-523, Polska, 50.0682802, 19.9656763\n",
      "Olszanicka, Olszanica, Bory Cholerzyńskie, Zwierzyniec, Kraków, gmina Liszki, powiat krakowski, województwo małopolskie, 32-060, Polska, 50.0621282, 19.8046529\n",
      "Krakowska, Kazimierz, Stare Miasto, Kraków, województwo małopolskie, 31-066, Polska, 50.0481146, 19.9434232\n",
      "Włodzimierza Tetmajera, Bronowice Małe, Bronowice, Kraków, województwo małopolskie, 31-080, Polska, 50.0950069, 19.8663291\n",
      "Szarotki, Bronowice Wielkie, Prądnik Biały, Kraków, województwo małopolskie, 31-347, Polska, 50.1003825, 19.8807473\n",
      "Sosnowiecka, Bronowice Wielkie, Prądnik Biały, Kraków, województwo małopolskie, 31-340, Polska, 50.0898227, 19.903078\n",
      "Profesora Władysława Szafera, Grzegórzki, Kraków, województwo małopolskie, 31-543, Polska, 50.0604555, 19.964419\n",
      "Rakowicka, Wesoła II, Grzegórzki, Kraków, województwo małopolskie, 31-505, Polska, 50.0679267, 19.9523646\n",
      "Nieznana, Rakowice, Prądnik Czerwony, Kraków, województwo małopolskie, 31-462, Polska, 50.0773252, 19.9711615\n",
      "Twardowskiego, Osiedle Podwawelskie, Ludwinów, Dębniki, Kraków, województwo małopolskie, 30-314, Polska, 50.0436871, 19.9225847\n",
      "Łobzów, Krowodrza, Kraków, województwo małopolskie, Polska, 50.07527, 19.9077779\n",
      "Osiedle Zgody, Nowa Huta, Kraków, województwo małopolskie, Polska, 50.0765676, 20.0356877\n",
      "Cienista, Osiedle Przy Arce, Bieńczyce, Kraków, województwo małopolskie, 31-831, Polska, 50.0861873, 20.0341928\n",
      "Aleja Jerzego Waszyngtona, Wola Justowska, Zwierzyniec, Kraków, województwo małopolskie, 30-231, Polska, 50.0559917, 19.8727023\n",
      "8B, Stanisława Klimeckiego, Zabłocie, Podgórze, Kraków, województwo małopolskie, 30-705, Polska, 50.0476485, 19.9734503\n",
      "Ogrody Chałupnika, Prądnik Czerwony, Kraków, województwo małopolskie, Polska, 50.074736400000006, 19.97454706330726\n",
      "Józefitów, Nowa Wieś, Krowodrza, Kraków, województwo małopolskie, 30-039, Polska, 50.0705695, 19.9237312\n",
      "Alfreda Dauna, Wola Duchacka, Podgórze Duchackie, Kraków, województwo małopolskie, 30-566, Polska, 50.0259571, 19.9723661\n",
      "Plac Biskupi, Piasek, Stare Miasto, Kraków, województwo małopolskie, Polska, 50.06771895, 19.936942370871723\n",
      "Dobrego Pasterza, Prądnik Czerwony, Kraków, województwo małopolskie, 31-421, Polska, 50.0893663, 19.9761178\n",
      "Osiedle Na Lotnisku, Bieńczyce, Kraków, województwo małopolskie, Polska, 50.086931, 20.01693104878946\n",
      "5, Juliusza Kadena-Bandrowskiego, Wola Duchacka, Podgórze Duchackie, Kraków, województwo małopolskie, 30-628, Polska, 50.0240922, 19.9730102\n",
      "Przemysłowa, Zabłocie, Podgórze, Kraków, województwo małopolskie, 30-549, Polska, 50.0474394, 19.9595782\n",
      "Sereno Fenn'a, Piasek, Stare Miasto, Kraków, województwo małopolskie, 31-134, Polska, 50.0668373, 19.9368989\n",
      "Łanowa, Rogatka, Płaszów, Podgórze, Kraków, województwo małopolskie, 30-721, Polska, 50.0390004, 19.9970617\n",
      "Wlotowa, Kozłówka, Bieżanów-Prokocim, Kraków, województwo małopolskie, 30-668, Polska, 50.0194862, 19.9867585\n",
      "Rondo Antoniego Matecznego, Stare Podgórze, Podgórze, Kraków, województwo małopolskie, 30-505, Polska, 50.0366456, 19.9407186\n",
      "Na Wielickiej, 76, Wielicka, Kabel, Podgórze, Kraków, województwo małopolskie, 30-552, Polska, 50.0330235, 19.9712812\n",
      "Stefanii Sempołowskiej, Wola Duchacka, Podgórze Duchackie, Kraków, województwo małopolskie, 30-655, Polska, 50.0193828, 19.957427\n",
      "Ludwinów, Dębniki, Kraków, województwo małopolskie, Polska, 50.0445214, 19.9304102\n",
      "Profesora Michała Bobrzyńskiego, Ruczaj, Dębniki, Kraków, województwo małopolskie, 30-392, Polska, 50.0177969, 19.8915813\n",
      "Aleja 29 Listopada, Górka Narodowa, Prądnik Biały, Kraków, województwo małopolskie, 31-236, Polska, 50.0997677, 19.9628389\n",
      "Wola Justowska, Zwierzyniec, Kraków, województwo małopolskie, Polska, 50.0667259, 19.8687951\n",
      "Akacjowa, Ugorek, Rakowice, Prądnik Czerwony, Kraków, województwo małopolskie, 31-460, Polska, 50.0820475, 19.979335\n",
      "Aleja Pokoju, Nowa Huta, Kraków, województwo małopolskie, 31-982, Polska, 50.0726746, 20.016877\n",
      "Bronowicka, Bronowice, Kraków, województwo małopolskie, 30-124, Polska, 50.0759556, 19.90571\n",
      "Majora Ryszarda Nuszkiewicza, Prądnik Czerwony, Kraków, województwo małopolskie, 31-423, Polska, 50.0900018, 19.9633695\n",
      "Przewóz, Podgórze, Kraków, województwo małopolskie, Polska, 50.0417419, 20.0621804\n",
      "Ludowa, Stare Podgórze, Podgórze, Kraków, województwo małopolskie, 30-554, Polska, 50.038408, 19.9646505\n",
      "Felicjanek, Nowy Świat, Stare Miasto, Kraków, województwo małopolskie, 31-105, Polska, 50.0567884, 19.9295432\n",
      "Armii Krajowej, Małe Błonia, Krowodrza, Kraków, województwo małopolskie, 30-133, Polska, 50.0711263, 19.8954889\n",
      "Sodowa, Pychowice, Dębniki, Kraków, województwo małopolskie, 30-387, Polska, 50.0348461, 19.8993706\n",
      "Puszkarska, Wola Duchacka, Podgórze, Podgórze Duchackie, Kraków, województwo małopolskie, 30-524, Polska, 50.0311786, 19.9480084\n",
      "Andrzeja Zauchy, Górka Narodowa, Prądnik Biały, Kraków, województwo małopolskie, 31-234, Polska, 50.1012806, 19.9543036\n",
      "Jana Kantego Federowicza, Wodka, Skotniki, Dębniki, Kraków, województwo małopolskie, 30-369, Polska, 50.0130679, 19.8836852\n",
      "Seweryna Goszczyńskiego, Zagumnie, Płaszów, Podgórze, Kraków, województwo małopolskie, 30-720, Polska, 50.0399448, 19.984093\n",
      "Borek Fałęcki, Łagiewniki-Borek Fałęcki, Kraków, województwo małopolskie, Polska, 50.0143005, 19.9265683\n",
      "Obopólna, Łobzów, Krowodrza, Kraków, województwo małopolskie, 31-145, Polska, 50.0721983, 19.9064101\n",
      "Armii Krajowej, Bronowice, Kraków, województwo małopolskie, 30-121, Polska, 50.081787, 19.8908879\n",
      "Marka Stachowskiego, Grzegórzki, Kraków, województwo małopolskie, 30-701, Polska, 50.0539657, 19.9619045\n",
      "Leszczynowa, Zwierzyniec, Kraków, województwo małopolskie, 30-211, Polska, 50.0590093, 19.899329\n",
      "Imbramowska, Prądnik Biały, Kraków, województwo małopolskie, 31-212, Polska, 50.0891397, 19.9470331\n",
      "Księdza Adolfa Zagrodzkiego, Borek Fałęcki, Łagiewniki-Borek Fałęcki, Kraków, województwo małopolskie, 30-427, Polska, 50.0123221, 19.9108819\n",
      "Straszewskiego, 14, Floriana Straszewskiego, Nowy Świat, Stare Miasto, Kraków, województwo małopolskie, 31-101, Polska, 50.057566, 19.932750537770225\n",
      "Mikołaja Reja, Osiedle Żabiniec, Prądnik Biały, Kraków, województwo małopolskie, 31-215, Polska, 50.086051, 19.9433075\n",
      "Agatowa, Osiedle Kolejowe, Złocień, Bieżanów-Prokocim, Kraków, województwo małopolskie, 30-758, Polska, 50.022046, 20.0461313\n",
      "Rynek Główny, Świętego Jana, Stare Miasto, Kraków, województwo małopolskie, 31-017, Polska, 50.0615174, 19.937106905856538\n",
      "Osiedle Kazimierzowskie, Bieńczyce, Kraków, województwo małopolskie, 31-839, Polska, 50.0854878, 20.0240987\n",
      "Biskupa Jana Prandoty, Przedmieście Warszawskie, Stare Miasto, Kraków, województwo małopolskie, 31-520, Polska, 50.0766319, 19.9553353\n",
      "Stadion Cracovii im. Józefa Piłsudskiego, 1, Józefa Kałuży, Półwsie Zwierzynieckie, Zwierzyniec, Kraków, województwo małopolskie, 30-111, Polska, 50.05785555, 19.920525409685492\n",
      "67, Walerego Eljasza-Radzikowskiego, Azory, Prądnik Biały, Kraków, województwo małopolskie, 31-315, Polska, 50.084462099999996, 19.895971938723434\n",
      "Pasternik, Bronowice Wielkie, Prądnik Biały, Kraków, województwo małopolskie, 31-355, Polska, 50.1013622, 19.865294\n",
      "Feliksa Konecznego, Osiedle Żabiniec, Prądnik Biały, Kraków, województwo małopolskie, 30-016, Polska, 50.0842951, 19.9419166\n",
      "Osiedle Teatralne, Nowa Huta, Kraków, województwo małopolskie, Polska, 50.0797342, 20.0327324\n",
      "Centralna, Łęg, Czyżyny, Kraków, województwo małopolskie, 31-581, Polska, 50.068826, 20.012562\n",
      "Łanowa, Rogatka, Płaszów, Podgórze, Kraków, województwo małopolskie, 30-725, Polska, 50.0390674, 19.9947226\n",
      "Gminna, Wola Duchacka, Podgórze Duchackie, Kraków, województwo małopolskie, 30-633, Polska, 50.0237324, 19.9602401\n",
      "Bronowice Małe, Bronowice, Kraków, województwo małopolskie, Polska, 50.0880596, 19.8775429\n",
      "Osiedle Oświecenia, Mistrzejowice, Kraków, województwo małopolskie, Polska, 50.0934536, 19.9913299\n",
      "Aleja Pokoju, Łęg, Czyżyny, Kraków, województwo małopolskie, 31-564, Polska, 50.0635611, 19.985842\n",
      "Żabka, 2, Wielkotyrnowska, Azory, Prądnik Biały, Kraków, województwo małopolskie, 31-326, Polska, 50.0864134, 19.9146599\n",
      "Magnolii, Zaborze, Ruczaj, Dębniki, Kraków, województwo małopolskie, 30-385, Polska, 50.0229208, 19.9136644\n",
      "Wyżynna, Osiedle \"Kurdwanów Nowy\", Kurdwanów, Podgórze Duchackie, Kraków, województwo małopolskie, 30-617, Polska, 50.0028075, 19.9601133\n",
      "Złocień, Bieżanów-Prokocim, Kraków, województwo małopolskie, Polska, 50.0217136, 20.0511722\n",
      "Juliusza Lea, Bronowice, Kraków, województwo małopolskie, 30-133, Polska, 50.0724183, 19.8986553\n",
      "Krowoderska, Piasek, Stare Miasto, Kraków, województwo małopolskie, 31-141, Polska, 50.0675007, 19.9377243\n",
      "Nagłowicka, Mistrzejowice, Kraków, województwo małopolskie, 31-612, Polska, 50.0959453, 19.9984838\n",
      "Biskupia, Piasek, Stare Miasto, Kraków, województwo małopolskie, 31-141, Polska, 50.0674663, 19.9364758\n",
      "Olszanica, Zwierzyniec, Kraków, województwo małopolskie, Polska, 50.0726062, 19.8342455\n",
      "Aleksandry, Osiedle Nowy Bieżanów-Północ, Bieżanów, Bieżanów-Prokocim, Kraków, województwo małopolskie, 30-837, Polska, 50.012838, 20.0160745\n",
      "Aleja Juliusza Słowackiego, Kleparz, Stare Miasto, Kraków, województwo małopolskie, 31-148, Polska, 50.0735826, 19.9394225\n",
      "Józefa Szujskiego, Piasek, Stare Miasto, Kraków, województwo małopolskie, 31-124, Polska, 50.064303, 19.9290518\n",
      "Hugona Kołłątaja, Wesoła II, Grzegórzki, Kraków, województwo małopolskie, 31-502, Polska, 50.0603542, 19.9480932\n",
      "Szpitalna, Stare Miasto, Kraków, województwo małopolskie, 31-024, Polska, 50.0637116, 19.9419159\n",
      "Daliowa, Osiedle \"Kurdwanów Nowy\", Kurdwanów, Podgórze Duchackie, Kraków, województwo małopolskie, 30-613, Polska, 50.0108848, 19.9488092\n",
      "Salwatorska, Salwator, Zwierzyniec, Kraków, województwo małopolskie, 30-201, Polska, 50.0545358, 19.9152288\n",
      "Michała Bałuckiego, Dębniki, Kraków, województwo małopolskie, 30-318, Polska, 50.0500806, 19.9261304\n",
      "Stanisława Augusta Poniatowskiego, Dłubnia, Wzgórza Krzesławickie, Kraków, województwo małopolskie, 31-709, Polska, 50.0946001, 20.0406247\n",
      "Aleja 29 Listopada, Górka Narodowa, Prądnik Biały, Kraków, województwo małopolskie, 31-236, Polska, 50.0997677, 19.9628389\n",
      "Podłęska, Bieżanów, Bieżanów-Prokocim, Kraków, województwo małopolskie, 30-865, Polska, 50.0087167, 20.0131964\n",
      "Osiedle Centrum A, Nowa Huta, Kraków, województwo małopolskie, 31-923, Polska, 50.0720051, 20.0409261\n",
      "Promienistych, Prądnik Czerwony, Kraków, województwo małopolskie, 31-481, Polska, 50.0866979, 19.9688974\n",
      "Ogórkowa, Osiedle Nowy Bieżanów-Północ, Bieżanów, Bieżanów-Prokocim, Kraków, województwo małopolskie, 30-853, Polska, 50.0204225, 20.0247101\n",
      "Balicka, Mydlniki, Bronowice, Kraków, województwo małopolskie, 30-198, Polska, 50.081372, 19.858348\n",
      "Mariana Markowskiego, Czyżyny, Kraków, województwo małopolskie, 31-881, Polska, 50.073759, 19.9897564\n",
      "Akacjowa, Ugorek, Rakowice, Prądnik Czerwony, Kraków, województwo małopolskie, 31-460, Polska, 50.0820475, 19.979335\n",
      "Do Przystani, Przegorzały, Zwierzyniec, Kraków, województwo małopolskie, 30-254, Polska, 50.0438255, 19.8890371\n",
      "Aleja Pułkownika Władysława Beliny-Prażmowskiego, Osiedle Oficerskie, Grzegórzki, Kraków, województwo małopolskie, 31-514, Polska, 50.0714132, 19.9588409\n",
      "Komuny Paryskiej, Kobierzyn, Dębniki, Kraków, województwo małopolskie, 30-389, Polska, 50.0002059, 19.8916745\n",
      "Centralna, Łęg, Czyżyny, Kraków, województwo małopolskie, 31-581, Polska, 50.068826, 20.012562\n",
      "Do Fortu, Mistrzejowice, Kraków, województwo małopolskie, 31-638, Polska, 50.0956001, 20.0266572\n",
      "Macieja Miechowity, Olsza II, Olsza, Prądnik Czerwony, Kraków, województwo małopolskie, 31-471, Polska, 50.0831615, 19.9655351\n",
      "Doktora Jana Piltza, Kobierzyn, Dębniki, Kraków, województwo małopolskie, 30-388, Polska, 50.0089455, 19.8894521\n",
      "Bosaków, Olsza II, Olsza, Prądnik Czerwony, Kraków, województwo małopolskie, 31-410, Polska, 50.0838237, 19.9620945\n",
      "Mikołaja Reja, Osiedle Żabiniec, Prądnik Biały, Kraków, województwo małopolskie, 31-215, Polska, 50.086051, 19.9433075\n",
      "16, Krowoderskich Zuchów, Krowodrza Górka, Prądnik Biały, Kraków, województwo małopolskie, 31-272, Polska, 50.08991725, 19.929771441776907\n",
      "Osiedle Na Lotnisku, Bieńczyce, Kraków, województwo małopolskie, Polska, 50.086931, 20.01693104878946\n",
      "Księdza Biskupa Władysława Bandurskiego, Osiedle Oficerskie, Grzegórzki, Kraków, województwo małopolskie, 31-515, Polska, 50.0698645, 19.9604438\n",
      "Os. Piastów, Piasta Kołodzieja, Mistrzejowice, Kraków, województwo małopolskie, 31-625, Polska, 50.1021105, 20.0124519\n",
      "Estońska, Wola Duchacka, Podgórze Duchackie, Kraków, województwo małopolskie, 30-659, Polska, 50.0187176, 19.965828\n",
      "Aleja Jana Pawła II, Ugorek, Rakowice, Prądnik Czerwony, Kraków, województwo małopolskie, 31-446, Polska, 50.0729408, 19.9852689\n",
      "Księdza Stefana Pawlickiego, Zakrzówek, Dębniki, Kraków, województwo małopolskie, 30-346, Polska, 50.0440188, 19.9190989\n",
      "Świętego Krzyża, Stare Miasto, Kraków, województwo małopolskie, 31-023, Polska, 50.063229, 19.9430312\n",
      "Świetlik, 3, Osiedle Teatralne, Nowa Huta, Kraków, województwo małopolskie, 31-945, Polska, 50.0787885, 20.0289426\n",
      "Osiedle Krakowiaków, Nowa Huta, Kraków, województwo małopolskie, Polska, 50.0829927, 20.0378038\n",
      "Laudańska, Kliny Zacisze, Kliny, Swoszowice, Kraków, województwo małopolskie, 30-389, Polska, 50.0014706, 19.8971418\n",
      "Sikorki, Zawsie, Łęg, Czyżyny, Kraków, województwo małopolskie, 31-588, Polska, 50.0625885, 20.0200767\n",
      "Ludmiły Korbutowej, Wola Justowska, Zwierzyniec, Kraków, województwo małopolskie, 30-144, Polska, 50.0658665, 19.8828497\n",
      "Marszałka Józefa Piłsudskiego, Nowy Świat, Stare Miasto, Kraków, województwo małopolskie, 31-110, Polska, 50.0601187, 19.9297815\n",
      "Marchołta, Prądnik Czerwony, Kraków, województwo małopolskie, 31-479, Polska, 50.0926425, 19.9858363\n",
      "Kazimierza Wielkiego, Nowa Wieś, Krowodrza, Kraków, województwo małopolskie, 30-074, Polska, 50.0730499, 19.9201579\n",
      "Prochowa, Grzegórzki, Kraków, województwo małopolskie, 31-540, Polska, 50.0562222, 19.9563675\n",
      "Mogilska, Rakowice, Prądnik Czerwony, Kraków, województwo małopolskie, 31-445, Polska, 50.0682571, 19.9788119\n",
      "Pychowicka, Zakrzówek, Dębniki, Kraków, województwo małopolskie, 30-364, Polska, 50.0325402, 19.9173447\n",
      "Świętego Jacka, Zakrzówek, Dębniki, Kraków, województwo małopolskie, 30-364, Polska, 50.0371301, 19.9191874\n",
      "Osiedle Na Stoku, Wzgórza Krzesławickie, Kraków, województwo małopolskie, Polska, 50.0961111, 20.0561111\n",
      "Osiedle Oświecenia, Mistrzejowice, Kraków, województwo małopolskie, Polska, 50.0934536, 19.9913299\n",
      "Józefińska, Stare Podgórze, Podgórze, Kraków, województwo małopolskie, 30-548, Polska, 50.0450196, 19.9567307\n",
      "Zakrzówek, Zielna, Dębniki Zachód, Zakrzówek, Dębniki, Kraków, województwo małopolskie, 30-373, Polska, 50.0365491, 19.909501664466546\n",
      "Komandosów, Osiedle Podwawelskie, Ludwinów, Dębniki, Kraków, województwo małopolskie, 30-334, Polska, 50.0438559, 19.9305603\n",
      "Kalwaryjska, Stare Podgórze, Podgórze, Kraków, województwo małopolskie, 30-520, Polska, 50.0429595, 19.9454419\n",
      "Księdza Józefa Meiera, Górka Narodowa, Prądnik Biały, Kraków, województwo małopolskie, 31-241, Polska, 50.0988387, 19.9704163\n",
      "Generała Augusta Fieldorfa-Nila, Krowodrza Górka, Prądnik Biały, Kraków, województwo małopolskie, 31-271, Polska, 50.0882086, 19.9322981\n",
      "8, Profesora Adama Bochnaka, Zalesie, Wróblowice, Swoszowice, Kraków, województwo małopolskie, 30-698, Polska, 49.9844026, 19.9462024\n",
      "Żytnia, Wiśniowa, Olsza, Prądnik Czerwony, Kraków, województwo małopolskie, 31-414, Polska, 50.0848375, 19.956641\n",
      "Na Szaniec, Dąbie, Grzegórzki, Kraków, województwo małopolskie, 31-557, Polska, 50.0585642, 19.9761689\n",
      "Wzgórza Krzesławickie 03, Kocmyrzowska, Wzgórza Krzesławickie, Kraków, województwo małopolskie, 31-726, Polska, 50.0960313, 20.0655177\n",
      "Tadeusza Rejtana, Stare Podgórze, Podgórze, Kraków, województwo małopolskie, 30-510, Polska, 50.0437372, 19.9455459\n",
      "Świtezianki, Dąbie, Grzegórzki, Kraków, województwo małopolskie, 31-563, Polska, 50.0626932, 19.9799424\n",
      "19, Sławkowska, Stare Miasto, Kraków, województwo małopolskie, 31-014, Polska, 50.064724850000005, 19.938553168227035\n",
      "Samorządowe Przedszkole nr 104 im. Małego Księcia, 14, Osiedle Hutnicze, Nowa Huta, Kraków, województwo małopolskie, 31-919, Polska, 50.0729546, 20.04528631290747\n",
      "Duża Góra, Osiedle Nowy Bieżanów-Północ, Bieżanów, Bieżanów-Prokocim, Kraków, województwo małopolskie, 30-857, Polska, 50.0178909, 20.0225537\n",
      "Plac Na Groblach, Nowy Świat, Stare Miasto, Kraków, województwo małopolskie, 31-101, Polska, 50.0568727, 19.9333315\n",
      "Zbożowa, Nowy Kleparz, Krowodrza, Kraków, województwo małopolskie, 30-002, Polska, 50.0786614, 19.9369787\n",
      "Chmieleniec, Osiedle Szuwarowa, Ruczaj, Dębniki, Kraków, województwo małopolskie, 30-348, Polska, 50.0197521, 19.897659\n",
      "Bajeczna, Dąbie, Grzegórzki, Kraków, województwo małopolskie, 31-566, Polska, 50.0574115, 19.9766744\n",
      "Zakopiańska, Jugowice, Swoszowice, Kraków, województwo małopolskie, 30-423, Polska, 50.0069997, 19.9249812\n",
      "Koszykarska, Ogrody Płaszów, Płaszów, Podgórze, Kraków, województwo małopolskie, 30-728, Polska, 50.0523838, 19.989574\n",
      "Republiki Korczakowskiej, Nowy Prokocim, Prokocim, Bieżanów-Prokocim, Kraków, województwo małopolskie, 30-809, Polska, 50.0163919, 20.0008638\n",
      "Napoleona Cybulskiego, Piasek, Stare Miasto, Kraków, województwo małopolskie, 31-115, Polska, 50.0620171, 19.9272761\n",
      "Żłobek \"Małe Gwiazdeczki\", 62G, Osiedle Dywizjonu 303, Czyżyny, Kraków, województwo małopolskie, 31-867, Polska, 50.079983, 20.0109274\n",
      "Bartosza Głowackiego, Bronowice, Kraków, województwo małopolskie, 30-084, Polska, 50.0775737, 19.9042255\n",
      "Profesora Bolesława Wiktora Wicherkiewicza, Kliny Zacisze, Kliny, Swoszowice, Kraków, województwo małopolskie, 30-389, Polska, 49.9996656, 19.8970292\n",
      "Brzozowa, Kazimierz, Stare Miasto, Kraków, województwo małopolskie, 31-039, Polska, 50.0540934, 19.9439961\n",
      "Cegielniana, Łagiewniki-Borek Fałęcki, Kraków, województwo małopolskie, Polska, 50.025892, 19.9311205\n",
      "Pękowicka, Prądnik Biały, Kraków, województwo małopolskie, 31-331, Polska, 50.0932417, 19.9172433\n",
      "Armii Krajowej, Osiedle Widok-Zarzecze, Bronowice, Kraków, województwo małopolskie, 30-139, Polska, 50.0801869, 19.8901332\n",
      "25, Osiedle Wandy, Nowa Huta, Kraków, województwo małopolskie, 31-907, Polska, 50.07080945, 20.05232530046886\n",
      "Magnolii, Zaborze, Ruczaj, Dębniki, Kraków, województwo małopolskie, 30-385, Polska, 50.0229208, 19.9136644\n",
      "Gajówka, Przegorzały, Zwierzyniec, Kraków, województwo małopolskie, 30-250, Polska, 50.0459849, 19.8578545\n",
      "Krakowska, Kazimierz, Stare Miasto, Kraków, województwo małopolskie, 30-508, Polska, 50.0461389, 19.9443497\n",
      "Stare Podgórze, Podgórze, Kraków, województwo małopolskie, Polska, 50.0444203, 19.9493098\n",
      "Zakrzowiecka, Pychowice, Dębniki, Kraków, województwo małopolskie, 30-387, Polska, 50.0300421, 19.8963808\n",
      "Rydlówka, 28, Włodzimierza Tetmajera, Bronowice Małe, Bronowice, Kraków, województwo małopolskie, 31-398, Polska, 50.08784005, 19.87805496140262\n",
      "Jabłonkowska, Osiedle Widok-Zarzecze, Osiedle Widok, Bronowice, Kraków, województwo małopolskie, 30-139, Polska, 50.0788926, 19.8881429\n",
      "Lubostroń, Ruczaj, Dębniki, Kraków, województwo małopolskie, 30-392, Polska, 50.0164056, 19.8896205\n",
      "Emaus, Zwierzyniec, Kraków, województwo małopolskie, 30-213, Polska, 50.0606141, 19.8984091\n",
      "Niebyła, Wzgórza Krzesławickie, Kraków, województwo małopolskie, 31-722, Polska, 50.1007314, 20.0605009\n",
      "Stare Miasto, Kraków, województwo małopolskie, Polska, 50.0614093, 19.9356794\n",
      "2C, Osiedle Złotej Jesieni, Bieńczyce, Kraków, województwo małopolskie, 31-827, Polska, 50.092184599999996, 20.024526890492687\n",
      "Os. Mistrzejowice Nowe 01, Generała Leopolda Okulickiego, Osiedle Złotej Jesieni, Bieńczyce, Kraków, województwo małopolskie, 31-640, Polska, 50.0948869, 20.0212749\n",
      "Ułanów, Ugorek, Rakowice, Prądnik Czerwony, Kraków, województwo małopolskie, 31-446, Polska, 50.0734495, 19.9858129\n",
      "Gromadzka, Płaszów, Podgórze, Kraków, województwo małopolskie, 30-720, Polska, 50.0363616, 19.9823222\n",
      "Zalesie, Zaborze, Ruczaj, Dębniki, Kraków, województwo małopolskie, 30-385, Polska, 50.0204823, 19.9123347\n",
      "Kantorowicka, Wzgórza Krzesławickie, Kraków, województwo małopolskie, 31-705, Polska, 50.0992866, 20.0665665\n",
      "12, Osiedle Kolorowe, Nowa Huta, Kraków, województwo małopolskie, 31-939, Polska, 50.073152050000004, 20.027698569542146\n",
      "Zygmunta Miłkowskiego, Osiedle Ruczaj-Zaborze, Ruczaj, Dębniki, Kraków, województwo małopolskie, 30-349, Polska, 50.028767, 19.9181041\n",
      "Lucjana Rydla, Bronowice, Kraków, województwo małopolskie, 30-087, Polska, 50.0813526, 19.9046355\n",
      "Krowoderska, Kleparz, Stare Miasto, Kraków, województwo małopolskie, 31-142, Polska, 50.0689381, 19.9368663\n",
      "Wrocławska, Łobzów, Krowodrza, Kraków, województwo małopolskie, 31-307, Polska, 50.081544, 19.9161823\n",
      "Stanisława Kostki Potockiego, Górka Narodowa, Prądnik Biały, Kraków, województwo małopolskie, 31-220, Polska, 50.1004107, 19.9614781\n",
      "Przegorzały, Zwierzyniec, Kraków, województwo małopolskie, Polska, 50.0509503, 19.8740774\n",
      "Anny Szwed-Śniadowskiej, Osiedle Za Fortem, Kliny, Swoszowice, Kraków, województwo małopolskie, 30-389, Polska, 49.99612635, 19.89793185750853\n",
      "Niezapominajek, Chełm, Zwierzyniec, Kraków, województwo małopolskie, 30-239, Polska, 50.068929, 19.8445933\n",
      "Młodzieży, Jemiołki, Prokocim, Bieżanów-Prokocim, Kraków, województwo małopolskie, 30-829, Polska, 50.0233181, 20.0044543\n",
      "Bociana, Prądnik Biały, Kraków, województwo małopolskie, 31-232, Polska, 50.0928723, 19.9562624\n",
      "Biskupia, Piasek, Stare Miasto, Kraków, województwo małopolskie, 31-141, Polska, 50.0674663, 19.9364758\n",
      "18, Czarnogórska, Wola Duchacka, Podgórze Duchackie, Kraków, województwo małopolskie, 30-630, Polska, 50.019271849999996, 19.973423222713215\n",
      "Świętego Filipa, Kleparz, Stare Miasto, Kraków, województwo małopolskie, 31-149, Polska, 50.0685602, 19.9394755\n",
      "Profesora Wojciecha Marii Bartla, Kliny Zacisze, Kliny, Swoszowice, Kraków, województwo małopolskie, 30-389, Polska, 49.9988754, 19.8965918\n",
      "Pawia, Kleparz, Stare Miasto, Kraków, województwo małopolskie, 31-154, Polska, 50.0687318, 19.9451594\n",
      "11, Zamkowa, Dębniki, Kraków, województwo małopolskie, 30-301, Polska, 50.052533600000004, 19.930051939916446\n",
      "kłatka III, 7, Zygmunta Miłkowskiego, Osiedle Ruczaj-Zaborze, Ruczaj, Dębniki, Kraków, województwo małopolskie, 30-349, Polska, 50.027149, 19.9186532\n",
      "Generała Kazimierza Pułaskiego, Dębniki, Kraków, województwo małopolskie, 30-305, Polska, 50.0496741, 19.9279905\n",
      "Kremerowska, Piasek, Stare Miasto, Kraków, województwo małopolskie, 31-130, Polska, 50.0678798, 19.9296418\n",
      "Generała Kazimierza Pułaskiego, Dębniki, Kraków, województwo małopolskie, 30-305, Polska, 50.0496741, 19.9279905\n",
      "Józefa Chełmońskiego, Bronowice Wielkie, Prądnik Biały, Kraków, województwo małopolskie, 31-358, Polska, 50.0937665, 19.8996822\n",
      "Pękowicka, Osiedle Władysława Łokietka, Zielonki, gmina Zielonki, powiat krakowski, województwo małopolskie, 31-264, Polska, 50.1055575, 19.9141763\n",
      "Stara Mogiła, Mogiła, Nowa Huta, Kraków, województwo małopolskie, 31-991, Polska, 50.0661312, 20.0686035\n",
      "Loretańska, Piasek, Stare Miasto, Kraków, województwo małopolskie, 31-116, Polska, 50.0626628, 19.9302989\n",
      "Marcina Borelowskiego-Lelewela, Półwsie Zwierzynieckie, Zwierzyniec, Kraków, województwo małopolskie, 30-107, Polska, 50.0555803, 19.9218946\n",
      "Kazimierza Wierzyńskiego, Mydlniki, Bronowice, Kraków, województwo małopolskie, 30-198, Polska, 50.0840973, 19.8461551\n",
      "Siewna, Prądnik Biały, Kraków, województwo małopolskie, 31-220, Polska, 50.0938325, 19.9610052\n",
      "Chmieleniec, Osiedle Szuwarowa, Ruczaj, Dębniki, Kraków, województwo małopolskie, 30-382, Polska, 50.0190472, 19.9006675\n",
      "Pilotów, Rakowice, Prądnik Czerwony, Kraków, województwo małopolskie, 31-462, Polska, 50.0776774, 19.9703281\n",
      "Rybitwy, Podgórze, Kraków, województwo małopolskie, 30-737, Polska, 50.0378938, 20.0245934\n",
      "68A, Kuźnicy Kołłątajowskiej, Górka Narodowa, Prądnik Biały, Kraków, województwo małopolskie, 31-234, Polska, 50.098583899999994, 19.95201678171072\n",
      "Dworcowa, Kabel, Podgórze, Kraków, województwo małopolskie, 30-559, Polska, 50.0330162, 19.9703454\n",
      "Ludwika Rydygiera, Rżąka, Bieżanów-Prokocim, Kraków, województwo małopolskie, 30-695, Polska, 50.0060445, 20.0085536\n",
      "Stawowa, Bronowice Wielkie, Prądnik Biały, Kraków, województwo małopolskie, 31-344, Polska, 50.098438, 19.8763138\n",
      "Stanisława Klimeckiego, Zabłocie, Podgórze, Kraków, województwo małopolskie, 30-706, Polska, 50.0487047, 19.96836\n",
      "Telimeny, Osiedle Nowy Bieżanów-Północ, Bieżanów, Bieżanów-Prokocim, Kraków, województwo małopolskie, 30-838, Polska, 50.0199779, 20.0130963\n",
      "Bratysławska, Krowodrza Górka, Prądnik Biały, Kraków, województwo małopolskie, 31-271, Polska, 50.0839659, 19.9335671\n",
      "Łużycka, Lazaret, Piaski Wielkie, Podgórze Duchackie, Kraków, województwo małopolskie, 30-658, Polska, 50.010232, 19.9710858\n",
      "Błonia, Aleja 3 Maja, Błonia, Zwierzyniec, Kraków, województwo małopolskie, 30-111, Polska, 50.05985065, 19.910682426469606\n",
      "Humans Barbershop, 83, Aleja Pokoju, Łęg, Czyżyny, Kraków, województwo małopolskie, 31-868, Polska, 50.0678958, 20.0089843\n",
      "Aleja Kijowska, Łobzów, Krowodrza, Kraków, województwo małopolskie, 30-023, Polska, 50.0766089, 19.917387\n",
      "Ruczaj, Osiedle Ruczaj-Zaborze, Ruczaj, Dębniki, Kraków, województwo małopolskie, 30-409, Polska, 50.0261758, 19.9188378\n",
      "Torfowa, Zaborze, Ruczaj, Dębniki, Kraków, województwo małopolskie, 30-384, Polska, 50.0180473, 19.9094728\n",
      "Emaus, Salwator, Zwierzyniec, Kraków, województwo małopolskie, 30-209, Polska, 50.0562011, 19.9072514\n",
      "Osiedle Mistrzejowice, Mistrzejowice, Kraków, województwo małopolskie, 31-640, Polska, 50.097078800000006, 20.021893776650725\n",
      "49, Osiedle Piastów, Mistrzejowice, Kraków, województwo małopolskie, 31-625, Polska, 50.10101065, 20.01540809114645\n",
      "Igołomska, Branice, Nowa Huta, Kraków, województwo małopolskie, 31-987, Polska, 50.0745088, 20.1350414\n",
      "Księdza Piotra Ściegiennego, Osiedle Medyków, Prokocim, Bieżanów-Prokocim, Kraków, województwo małopolskie, 30-809, Polska, 50.0158392, 19.9978631\n",
      "Pszenna, Wola Duchacka, Podgórze Duchackie, Kraków, województwo małopolskie, 30-654, Polska, 50.0217433, 19.9551565\n",
      "Aleja Zygmunta Krasińskiego, Półwsie Zwierzynieckie, Zwierzyniec, Kraków, województwo małopolskie, 31-111, Polska, 50.0582964, 19.9255426\n",
      "Aleja Kijowska, Łobzów, Krowodrza, Kraków, województwo małopolskie, 30-081, Polska, 50.0730961, 19.9156382\n",
      "Henryka Niewodniczańskiego, Krakówka, Wróblowice, Swoszowice, Kraków, województwo małopolskie, 30-698, Polska, 49.9810834, 19.9428536\n",
      "Raciborska, Osiedle Szuwarowa, Ruczaj, Dębniki, Kraków, województwo małopolskie, 30-348, Polska, 50.0209542, 19.9020634\n",
      "Tuchowska, Kurdwanów, Podgórze Duchackie, Kraków, województwo małopolskie, 30-658, Polska, 50.0113281, 19.9668759\n",
      "Topolowa, Wesoła II, Grzegórzki, Kraków, województwo małopolskie, 31-506, Polska, 50.0666513, 19.95419\n",
      "Woźniców, Czyżyny, Kraków, województwo małopolskie, 31-982, Polska, 50.0690216, 20.0160117\n",
      "2, Kalwaryjska, Stare Podgórze, Podgórze, Kraków, województwo małopolskie, 30-506, Polska, 50.0443626, 19.9479354\n",
      "Dębowa, Dębniki, Kraków, województwo małopolskie, 30-315, Polska, 50.0470963, 19.9248842\n",
      "21, Ludwika Idzikowskiego, Osiedle Oficerskie, Grzegórzki, Kraków, województwo małopolskie, 31-519, Polska, 50.077642100000006, 19.96038645\n",
      "Stawowa, Bronowice Wielkie, Prądnik Biały, Kraków, województwo małopolskie, 31-344, Polska, 50.098438, 19.8763138\n",
      "Stanisława Lema, Beszcz, Łęg, Czyżyny, Kraków, województwo małopolskie, 31-564, Polska, 50.064204, 19.9895521\n",
      "Izydora Stella-Sawickiego, Czyżyny, Kraków, województwo małopolskie, 31-877, Polska, 50.075439, 20.0025125\n",
      "Cegielniana, Stare Podgórze, Podgórze, Kraków, województwo małopolskie, 30-405, Polska, 50.0297657, 19.9348577\n",
      "Papierni Prądnickich, Osiedle \"Górka Narodowa\", Prądnik Biały, Kraków, województwo małopolskie, 31-234, Polska, 50.0996886, 19.95165077618975\n",
      "Romana Ciesielskiego, Zawsie, Łęg, Czyżyny, Kraków, województwo małopolskie, 31-587, Polska, 50.0607947, 20.0152019\n",
      "6, Osiedle Kościuszkowskie, Bieńczyce, Kraków, województwo małopolskie, 31-858, Polska, 50.083717899999996, 20.015306168735062\n",
      "Tymotkowa, Osiedle Szuwarowa, Ruczaj, Dębniki, Kraków, województwo małopolskie, 30-392, Polska, 50.0136239, 19.8928738\n",
      "72, Ułanów, Ugorek, Rakowice, Prądnik Czerwony, Kraków, województwo małopolskie, 31-460, Polska, 50.0811121, 19.979225749349908\n",
      "Tuchowska, Kurdwanów, Podgórze Duchackie, Kraków, województwo małopolskie, 30-658, Polska, 50.0113281, 19.9668759\n",
      "Piasta Kołodzieja, Mistrzejowice, Kraków, województwo małopolskie, 31-620, Polska, 50.0956129, 20.0127952\n",
      "Ugorek, Rakowice, Prądnik Czerwony, Kraków, województwo małopolskie, 31-455, Polska, 50.079034, 19.9838057\n",
      "Włoska, Wola Duchacka, Podgórze Duchackie, Kraków, województwo małopolskie, 30-661, Polska, 50.0155683, 19.9708628\n",
      "Dąbie, Grzegórzki, Kraków, województwo małopolskie, 31-560, Polska, 50.0594368, 19.9791419\n",
      "Wiktora Heltmana, Wola Duchacka, Podgórze Duchackie, Kraków, województwo małopolskie, 30-625, Polska, 50.0254303, 19.9701109\n",
      "Nadwiślańska, Stare Podgórze, Podgórze, Kraków, województwo małopolskie, 30-527, Polska, 50.0475831, 19.9532146\n",
      "Księdza Franciszka Blachnickiego, Grzegórzki, Kraków, województwo małopolskie, 31-534, Polska, 50.0555457, 19.9523735\n",
      "Widok, Bronowice, Kraków, województwo małopolskie, Polska, 50.07735735, 19.890679808861446\n",
      "Jana Kochanowskiego, Piasek, Stare Miasto, Kraków, województwo małopolskie, 31-127, Polska, 50.0661222, 19.9279237\n",
      "Mahatmy Gandhiego, Zwierzyniec, Kraków, województwo małopolskie, 30-210, Polska, 50.0587266, 19.8951509\n",
      "Podłącze, Wola Justowska, Zwierzyniec, Kraków, województwo małopolskie, 30-218, Polska, 50.0681703, 19.8773761\n",
      "Zenona Klemensiewicza, Rogatka Warszawska, Olsza, Prądnik Czerwony, Kraków, województwo małopolskie, 31-482, Polska, 50.0809595, 19.9507548\n",
      "Plac Jana Matejki, Kleparz, Stare Miasto, Kraków, województwo małopolskie, 31-155, Polska, 50.0673005, 19.9427221\n",
      "Jesionowa, Wola Justowska, Zwierzyniec, Kraków, województwo małopolskie, 30-221, Polska, 50.0696612, 19.8758605\n",
      "Janowa Wola, Stare Podgórze, Podgórze, Kraków, województwo małopolskie, 30-550, Polska, 50.0465885, 19.9566517\n",
      "Kawiory, Cichy Kącik, Czarna Wieś, Krowodrza, Kraków, województwo małopolskie, 30-055, Polska, 50.0675303, 19.9138343\n",
      "Bułgarska, Osiedle Ruczaj-Zaborze, Ruczaj, Dębniki, Kraków, województwo małopolskie, 30-431, Polska, 50.0269118, 19.9177067\n",
      "Obozowa, Zaborze, Borek Fałęcki, Łagiewniki-Borek Fałęcki, Dębniki, Kraków, województwo małopolskie, 30-385, Polska, 50.0197395, 19.9139944\n",
      "Plac Bohaterów Getta, Stare Podgórze, Podgórze, Kraków, województwo małopolskie, 30-527, Polska, 50.04652365, 19.954267899999998\n",
      "Lucjana Siemieńskiego, Łobzów, Krowodrza, Kraków, województwo małopolskie, 31-076, Polska, 50.0756056, 19.9148019\n",
      "25, Osiedle Wandy, Nowa Huta, Kraków, województwo małopolskie, 31-907, Polska, 50.07080945, 20.05232530046886\n",
      "Toruńska, Cichy Kącik, Czarna Wieś, Krowodrza, Kraków, województwo małopolskie, 30-056, Polska, 50.0687872, 19.9102324\n",
      "Gustawa Morcinka, Zesławice, Wzgórza Krzesławickie, Kraków, województwo małopolskie, 31-762, Polska, 50.106026, 20.0450574\n",
      "Osiedle Centrum B, Nowa Huta, Kraków, województwo małopolskie, Polska, 50.0736892, 20.0396241\n",
      "Lasówka, Płaszów, Podgórze, Kraków, województwo małopolskie, 30-723, Polska, 50.0404753, 20.0151209\n",
      "Rysi Stok, Chełm, Zwierzyniec, Kraków, województwo małopolskie, 30-236, Polska, 50.0694707, 19.8534524\n",
      "Królowej Jadwigi, Wola Justowska, Zwierzyniec, Kraków, województwo małopolskie, 30-219, Polska, 50.0648549, 19.8796881\n",
      "Żywiecka, Ruczaj, Łagiewniki-Borek Fałęcki, Dębniki, Kraków, województwo małopolskie, 30-383, Polska, 50.0100537, 19.907445\n",
      "Rynek Podgórski, Stare Podgórze, Podgórze, Kraków, województwo małopolskie, 30-518, Polska, 50.0442195, 19.949206261901153\n",
      "Aleja 29 Listopada, Rogatka Warszawska, Olsza, Prądnik Czerwony, Kraków, województwo małopolskie, 31-425, Polska, 50.0826396, 19.9519808\n",
      "Majora Łupaszki, Mydlniki, Bronowice, Kraków, województwo małopolskie, 30-198, Polska, 50.0858787, 19.852248\n",
      "Olsza, Prądnik Czerwony, Kraków, województwo małopolskie, Polska, 50.0821753, 19.9664564\n",
      "Puszkarska, Wola Duchacka, Podgórze, Podgórze Duchackie, Kraków, województwo małopolskie, 30-524, Polska, 50.0311786, 19.9480084\n",
      "Heleny, Osiedle Nowy Bieżanów-Północ, Bieżanów, Bieżanów-Prokocim, Kraków, województwo małopolskie, 30-857, Polska, 50.0145111, 20.0243701\n",
      "Stanisława Stojałowskiego, Osiedle \"Kurdwanów Nowy\", Kurdwanów, Podgórze Duchackie, Kraków, województwo małopolskie, 30-617, Polska, 50.0048116, 19.9600989\n",
      "Stanisławy Wysockiej, Czyżyny, Kraków, województwo małopolskie, 31-868, Polska, 50.0730561, 20.0027724\n",
      "Nowe Czarnochowice, Zabałwanie, Czarnochowice, gmina Wieliczka, powiat wielicki, województwo małopolskie, 30-898, Polska, 50.0035442, 20.0562287\n",
      "Ceglarska, Zakrzówek, Dębniki, Kraków, województwo małopolskie, 30-346, Polska, 50.04242, 19.9207729\n",
      "Ugorek, Rakowice, Prądnik Czerwony, Kraków, województwo małopolskie, 31-450, Polska, 50.0768049, 19.9843123\n",
      "Władysława Podkowińskiego, Azory, Prądnik Biały, Kraków, województwo małopolskie, 31-321, Polska, 50.0849586, 19.8949096\n",
      "Sebastiana Klonowica, Wola Duchacka, Podgórze Duchackie, Kraków, województwo małopolskie, 30-654, Polska, 50.0202294, 19.9561864\n",
      "Grenadierów, Bronowice, Kraków, województwo małopolskie, 30-085, Polska, 50.0779099, 19.9064117\n",
      "Ceglarska, Zakrzówek, Dębniki, Kraków, województwo małopolskie, 30-346, Polska, 50.04242, 19.9207729\n",
      "Kotlarska, Grzegórzki, Kraków, województwo małopolskie, 31-540, Polska, 50.0541382, 19.9597688\n",
      "Piaszczysta, Prądnik Biały, Kraków, województwo małopolskie, Polska, 50.096730449999995, 19.928136806971658\n",
      "Wrzosowa, Holendry, Kujawy, Nowa Huta, Kraków, województwo małopolskie, 31-983, Polska, 50.0486759, 20.1152496\n",
      "10, Kapelanka, Zakrzówek, Dębniki, Kraków, województwo małopolskie, 30-347, Polska, 50.040308350000004, 19.92354978859223\n",
      "Park Zielone Serce Podgórza, Rybitwy, Podgórze, Kraków, województwo małopolskie, 30-738, Polska, 50.045552, 20.0320034\n",
      "Podhalańska, Zaborze, Ruczaj, Dębniki, Kraków, województwo małopolskie, 30-430, Polska, 50.0217426, 19.9173734\n",
      "Mieczysława Pszona, Ugorek, Rakowice, Prądnik Czerwony, Kraków, województwo małopolskie, 31-460, Polska, 50.0783572, 19.9776202\n",
      "Świętego Filipa, Kleparz, Stare Miasto, Kraków, województwo małopolskie, 31-149, Polska, 50.0685602, 19.9394755\n",
      "29 Listopada, Ogrody, Osiedle Ogrody, Skawina, gmina Skawina, powiat krakowski, województwo małopolskie, 23-050, Polska, 49.9730627, 19.8323374\n",
      "Osiedle \"Banacha II\", Górka Narodowa, Prądnik Biały, Kraków, województwo małopolskie, Polska, 50.103198750000004, 19.961774953913842\n",
      "Jana Kochanowskiego, Piasek, Stare Miasto, Kraków, województwo małopolskie, 31-127, Polska, 50.0661222, 19.9279237\n",
      "Romana Kiełkowskiego, Zabłocie, Podgórze, Kraków, województwo małopolskie, 30-704, Polska, 50.0460596, 19.9674482\n",
      "Gliniana, Rogatka, Płaszów, Podgórze, Kraków, województwo małopolskie, 30-725, Polska, 50.0356626, 19.9950198\n",
      "Wiktora Heltmana, Wola Duchacka, Podgórze Duchackie, Kraków, województwo małopolskie, 30-625, Polska, 50.0254303, 19.9701109\n",
      "Sławkowska, Stare Miasto, Kraków, województwo małopolskie, 31-015, Polska, 50.0655295, 19.9388433\n",
      "Bytomska, Nowa Wieś, Krowodrza, Kraków, województwo małopolskie, 30-079, Polska, 50.074198, 19.9173644\n",
      "Zabłocie, Podgórze, Kraków, województwo małopolskie, 30-701, Polska, 50.0504009, 19.9594986\n",
      "Fiołkowa, Ugorek, Rakowice, Prądnik Czerwony, Kraków, województwo małopolskie, 31-456, Polska, 50.0778892, 19.9796178\n",
      "Zakrzowiecka, Pychowice, Dębniki, Kraków, województwo małopolskie, 30-387, Polska, 50.0300421, 19.8963808\n",
      "Prądnicka, Żabiniec, Prądnik Biały, Kraków, województwo małopolskie, 31-201, Polska, 50.082742, 19.9377109\n",
      "15, Mikołaja Reja, Osiedle Żabiniec, Prądnik Biały, Kraków, województwo małopolskie, 31-216, Polska, 50.085809, 19.9434978\n",
      "Osiedle Na Wzgórzach, Wzgórza Krzesławickie, Kraków, województwo małopolskie, Polska, 50.0954847, 20.063112558756423\n",
      "Doktora Jana Piltza, Kobierzyn, Dębniki, Kraków, województwo małopolskie, 30-393, Polska, 50.0076191, 19.8888826\n",
      "Forteczna, Kliny Poranne, Kliny, Swoszowice, Kraków, województwo małopolskie, 30-437, Polska, 49.9997087, 19.9119193\n",
      "Ogród Doświadczeń im. Stanisława Lema, Czyżyny, Kraków, województwo małopolskie, Polska, 50.06819475, 19.99729633976735\n",
      "Łanowa, Rogatka, Płaszów, Podgórze, Kraków, województwo małopolskie, 30-721, Polska, 50.0390004, 19.9970617\n",
      "Księcia Józefa, Bielany, Zwierzyniec, Kraków, województwo małopolskie, 30-245, Polska, 50.0411678, 19.8398429\n",
      "Motyla, Rogatka, Płaszów, Podgórze, Kraków, województwo małopolskie, 30-733, Polska, 50.037005, 19.9971939\n",
      "Tadeusza Romanowicza, Zabłocie, Podgórze, Kraków, województwo małopolskie, 30-528, Polska, 50.0449983, 19.9621543\n",
      "Kordiana, Osiedle \"Kurdwanów Nowy\", Kurdwanów, Podgórze Duchackie, Kraków, województwo małopolskie, 30-653, Polska, 50.0099957, 19.9619085\n",
      "Serbska, Wola Duchacka, Podgórze Duchackie, Kraków, województwo małopolskie, 30-638, Polska, 50.0204553, 19.9728818\n",
      "Zygmunta Glogera, Prądnik Biały, Kraków, województwo małopolskie, 31-226, Polska, 50.1035703, 19.9268562\n",
      "Polonijna, Bieżanów-Prokocim, Kraków, województwo małopolskie, Polska, 50.0172994, 19.98890236803404\n",
      "Lubostroń, Ruczaj, Dębniki, Kraków, województwo małopolskie, 30-392, Polska, 50.0164056, 19.8896205\n",
      "45A, Czerwone Maki, Ruczaj, Dębniki, Kraków, województwo małopolskie, 30-392, Polska, 50.0144068, 19.88715226263298\n",
      "Sosnowiecka, Bronowice Wielkie, Prądnik Biały, Kraków, województwo małopolskie, 31-340, Polska, 50.0898227, 19.903078\n",
      "Zawodzie, Prądnik Biały, Kraków, województwo małopolskie, 31-232, Polska, 50.0916127, 19.953168\n",
      "Osiedle Wysokie, Bieńczyce, Kraków, województwo małopolskie, 31-818, Polska, 50.0893536, 20.0195044\n",
      "Królewska, Łobzów, Krowodrza, Kraków, województwo małopolskie, 30-080, Polska, 50.0741635, 19.9105308\n",
      "Lucjana Rydla, Bronowice, Kraków, województwo małopolskie, 30-087, Polska, 50.0813526, 19.9046355\n",
      "Aleksandra Lubomirskiego, Wesoła, Stare Miasto, Kraków, województwo małopolskie, 31-508, Polska, 50.0681073, 19.9507643\n",
      "Aleja 29 Listopada, Przedmieście Warszawskie, Stare Miasto, Kraków, województwo małopolskie, 31-401, Polska, 50.0750648, 19.9467425\n",
      "Mały Płaszów, Podgórze, Kraków, województwo małopolskie, Polska, 50.04085875, 20.002601010842834\n",
      "Babinicza, Kliny Zacisze, Kliny, Swoszowice, Kraków, województwo małopolskie, 30-389, Polska, 50.001137, 19.899539\n",
      "Jagodowa, Borek Fałęcki, Łagiewniki-Borek Fałęcki, Kraków, województwo małopolskie, 30-427, Polska, 50.013249, 19.9183419\n",
      "Feliksa Konecznego, Osiedle Żabiniec, Prądnik Biały, Kraków, województwo małopolskie, 30-016, Polska, 50.0842951, 19.9419166\n",
      "5, Leopolda Staffa, Łobzów, Krowodrza, Kraków, województwo małopolskie, 30-069, Polska, 50.07310015, 19.912381285758265\n",
      "Kraków Olsza, Ptasia, Olsza II, Olsza, Prądnik Czerwony, Kraków, województwo małopolskie, 31-431, Polska, 50.078432, 19.9627088\n",
      "Tadeusza Pawlikowskiego, Piasek, Stare Miasto, Kraków, województwo małopolskie, 31-127, Polska, 50.0678098, 19.9268383\n",
      "Osiedle Piastów, Mistrzejowice, Kraków, województwo małopolskie, Polska, 50.1003776, 20.02101742976312\n",
      "Henryka i Karola Czeczów, Złocień, Bieżanów-Prokocim, Kraków, województwo małopolskie, 30-798, Polska, 50.0214891, 20.053783\n",
      "Jana Zygmunta Robla, Wola Justowska, Zwierzyniec, Kraków, województwo małopolskie, 30-217, Polska, 50.0650609, 19.8821664\n",
      "Mikołaja Zyblikiewicza, Wesoła, Stare Miasto, Kraków, województwo małopolskie, 31-030, Polska, 50.0600107, 19.945205\n",
      "Wincentego Witosa, Osiedle \"Kurdwanów Nowy\", Kurdwanów, Podgórze Duchackie, Kraków, województwo małopolskie, 30-619, Polska, 50.0127648, 19.9550405\n",
      "Wielicka, Kabel, Podgórze, Kraków, województwo małopolskie, 30-552, Polska, 50.0334917, 19.9698424\n",
      "Gryczana, Kaczorówka, Tonie, Prądnik Biały, Kraków, województwo małopolskie, 31-266, Polska, 50.1095715, 19.9072634\n",
      "Aleja 29 Listopada, Przedmieście Warszawskie, Stare Miasto, Kraków, województwo małopolskie, 31-401, Polska, 50.0750648, 19.9467425\n",
      "Osiedle Na Skarpie, Nowa Huta, Kraków, województwo małopolskie, Polska, 50.0682755, 20.0457626\n",
      "Stanisława Mitery, Stare Podgórze, Podgórze, Kraków, województwo małopolskie, 30-505, Polska, 50.0387673, 19.9403193\n",
      "Sąsiedzka, Zaborze, Ruczaj, Dębniki, Kraków, województwo małopolskie, 30-385, Polska, 50.0238154, 19.9147415\n",
      "Słomiana, Osiedle Podwawelskie, Ludwinów, Dębniki, Kraków, województwo małopolskie, 30-361, Polska, 50.0415133, 19.9260556\n",
      "Bielany, Zwierzyniec, Kraków, województwo małopolskie, Polska, 50.0401439, 19.8214103\n",
      "Pszczelna, Zaborze, Ruczaj, Dębniki, Kraków, województwo małopolskie, 30-431, Polska, 50.0233652, 19.9161079\n",
      "Anny Jagiellonki, Bieńczyce, Kraków, województwo małopolskie, 31-832, Polska, 50.08906, 20.0229966\n",
      "Kawiory, Cichy Kącik, Czarna Wieś, Krowodrza, Kraków, województwo małopolskie, 30-055, Polska, 50.0675303, 19.9138343\n",
      "Olsza, Prądnik Czerwony, Kraków, województwo małopolskie, Polska, 50.0821753, 19.9664564\n",
      "Arcybiskupa Zygmunta Szczęsnego Felińskiego, Górka Narodowa, Prądnik Biały, Kraków, województwo małopolskie, 31-236, Polska, 50.1007058, 19.9670637\n",
      "Helclów, Kleparz, Stare Miasto, Kraków, województwo małopolskie, 31-148, Polska, 50.0723221, 19.9375247\n",
      "18c, Pychowicka, Zakrzówek, Dębniki, Kraków, województwo małopolskie, 30-364, Polska, 50.0319537, 19.91510168915441\n",
      "Mydlniki, Bronowice, Kraków, województwo małopolskie, Polska, 50.0836548, 19.8461843\n",
      "Fiołkowa, Ugorek, Rakowice, Prądnik Czerwony, Kraków, województwo małopolskie, 31-456, Polska, 50.0778892, 19.9796178\n",
      "Osiedle Jagiellońskie, Bieńczyce, Kraków, województwo małopolskie, Polska, 50.0886537, 20.0243697\n",
      "Zakopiańska, Łagiewniki, Łagiewniki-Borek Fałęcki, Kraków, województwo małopolskie, 30-420, Polska, 50.021625, 19.9326859\n",
      "Łużycka, Lazaret, Piaski Wielkie, Podgórze Duchackie, Kraków, województwo małopolskie, 30-658, Polska, 50.010232, 19.9710858\n",
      "Skotnicka, Brzyzek, Skotniki, Dębniki, Kraków, województwo małopolskie, 30-396, Polska, 50.0075673, 19.8736362\n",
      "Plac Jana Matejki, Kleparz, Stare Miasto, Kraków, województwo małopolskie, 31-155, Polska, 50.0673005, 19.9427221\n",
      "Walerego Eliasza Radzikowskiego, Bronowice Wielkie, Prądnik Biały, Kraków, województwo małopolskie, 31-342, Polska, 50.087634, 19.8911454\n",
      "Szpitalna, Stare Miasto, Kraków, województwo małopolskie, 31-156, Polska, 50.0647876, 19.942688\n",
      "Górka Pychowicka 02, Tyniecka, Pychowice, Dębniki, Kraków, województwo małopolskie, 30-377, Polska, 50.033925, 19.8760465\n",
      "Piasek, Stare Miasto, Kraków, województwo małopolskie, Polska, 50.0675, 19.9304483\n",
      "Jana i Jędrzeja Śniadeckich, Wesoła, Grzegórzki, Kraków, województwo małopolskie, 31-531, Polska, 50.0611805, 19.9541258\n",
      "Olsza, Prądnik Czerwony, Kraków, województwo małopolskie, Polska, 50.0821753, 19.9664564\n",
      "Profesora Bolesława Wiktora Wicherkiewicza, Kliny Zacisze, Kliny, Swoszowice, Kraków, województwo małopolskie, 30-389, Polska, 49.9996656, 19.8970292\n",
      "Monte Cassino, Dębniki, Kraków, województwo małopolskie, 30-315, Polska, 50.0466907, 19.9248276\n",
      "Tuchowska, Kurdwanów, Podgórze Duchackie, Kraków, województwo małopolskie, 30-658, Polska, 50.0113281, 19.9668759\n",
      "Juliusza Osterwy, Kosocice, Swoszowice, Kraków, województwo małopolskie, 30-692, Polska, 49.9920551, 19.9786041\n",
      "Antoniego Józefa Madalińskiego, Dębniki, Kraków, województwo małopolskie, 30-301, Polska, 50.0531409, 19.9291197\n",
      "Fabryka Pizzy, 14, Stańczyka, Bronowice, Kraków, województwo małopolskie, 30-126, Polska, 50.077989, 19.8920166\n",
      "Aleja Pułkownika Władysława Beliny-Prażmowskiego, Osiedle Oficerskie, Grzegórzki, Kraków, województwo małopolskie, 31-514, Polska, 50.0714132, 19.9588409\n",
      "Józefa Wybickiego, Krowodrza Górka, Prądnik Biały, Kraków, województwo małopolskie, 31-261, Polska, 50.0837001, 19.9309128\n",
      "Adama Asnyka, Piasek, Stare Miasto, Kraków, województwo małopolskie, 31-134, Polska, 50.0659111, 19.935101\n",
      "Wielicka, Rżąka, Bieżanów-Prokocim, Kraków, województwo małopolskie, 30-695, Polska, 50.0089381, 20.011181\n",
      "Lipska, Rogatka, Płaszów, Podgórze, Kraków, województwo małopolskie, 30-725, Polska, 50.0405669, 19.99269\n",
      "Kobierzyńska, Osiedle Ruczaj-Zaborze, Ruczaj, Dębniki, Kraków, województwo małopolskie, 30-358, Polska, 50.0284004, 19.9155572\n",
      "Mała Góra, Bieżanów, Bieżanów-Prokocim, Kraków, województwo małopolskie, 30-696, Polska, 50.0064281, 20.0183689\n",
      "Topolowa, Wesoła, Stare Miasto, Kraków, województwo małopolskie, 31-508, Polska, 50.0673259, 19.9500588\n",
      "Józefa Friedleina, Nowy Kleparz, Krowodrza, Kraków, województwo małopolskie, 30-009, Polska, 50.0779198, 19.9319615\n",
      "Ćwiklińskiej, Mieczysławy Ćwiklińskiej, Osiedle Nowy Bieżanów-Północ, Bieżanów, Bieżanów-Prokocim, Kraków, województwo małopolskie, 30-863, Polska, 50.01611, 20.018820274507654\n",
      "9, Reduta, Prądnik Czerwony, Kraków, województwo małopolskie, 31-421, Polska, 50.09533355, 19.97655176498278\n",
      "Kalwaryjska, Stare Podgórze, Podgórze, Kraków, województwo małopolskie, 30-520, Polska, 50.0429595, 19.9454419\n",
      "Park Rzeczny im. Włodzimierza Tetmajera, Bronowice, Kraków, gmina Zabierzów, powiat krakowski, województwo małopolskie, Polska, 50.09394855, 19.864179582411168\n",
      "Srebrnych Orłów, Mistrzejowice, Kraków, województwo małopolskie, 31-620, Polska, 50.0945919, 20.0116999\n",
      "Seweryna Goszczyńskiego, Zagumnie, Płaszów, Podgórze, Kraków, województwo małopolskie, 30-720, Polska, 50.0399448, 19.984093\n",
      "Wincentego Witosa, Wola Duchacka, Podgórze Duchackie, Kraków, województwo małopolskie, 30-657, Polska, 50.0129458, 19.9608485\n",
      "Lilli Wenedy, Nowy Prokocim, Prokocim, Bieżanów-Prokocim, Kraków, województwo małopolskie, 30-833, Polska, 50.018894, 20.0066672\n",
      "Piekarnia-Cukiernia Bochenek, 10, Adama Bochenka, Piaski Nowe, Piaski Wielkie, Podgórze Duchackie, Kraków, województwo małopolskie, 30-693, Polska, 50.0111371, 19.9751358\n",
      "Graniczna, Szwaby, Osiedle Korabniki, Skawina, gmina Skawina, powiat krakowski, województwo małopolskie, 30-399, Polska, 49.9775658, 19.8594231\n",
      "Osiedle Jagiellońskie, Bieńczyce, Kraków, województwo małopolskie, Polska, 50.0886537, 20.0243697\n",
      "Nowohucka, Zagumnie, Płaszów, Podgórze, Kraków, województwo małopolskie, 30-713, Polska, 50.0468865, 19.9777512\n",
      "Sosnowiecka, Bronowice Wielkie, Prądnik Biały, Kraków, województwo małopolskie, 31-340, Polska, 50.0898227, 19.903078\n",
      "Totus Tuus, Białe Morza, Łagiewniki-Borek Fałęcki, Kraków, województwo małopolskie, 30-608, Polska, 50.0123898, 19.9378801\n",
      "Bolesława Orlińskiego, Czyżyny, Kraków, województwo małopolskie, 31-877, Polska, 50.0813485, 19.9989219\n",
      "Śląska, Nowy Kleparz, Krowodrza, Kraków, województwo małopolskie, 30-003, Polska, 50.0744016, 19.9328565\n",
      "Rezedowa, Prądnik Czerwony, Kraków, województwo małopolskie, 31-409, Polska, 50.0867204, 19.9614121\n",
      "Gnieźnieńska, Osiedle Azory, Prądnik Biały, Kraków, województwo małopolskie, 31-318, Polska, 50.0874434, 19.9079854\n",
      "Przemysłowa, Zabłocie, Podgórze, Kraków, województwo małopolskie, 30-549, Polska, 50.0474394, 19.9595782\n",
      "Ogrodniki, Łagiewniki, Łagiewniki-Borek Fałęcki, Kraków, województwo małopolskie, 30-404, Polska, 50.0268704, 19.9354851\n",
      "Retoryka, Nowy Świat, Stare Miasto, Kraków, województwo małopolskie, 31-107, Polska, 50.0580305, 19.9286712\n",
      "Księdza Biskupa Władysława Bandurskiego, Osiedle Oficerskie, Grzegórzki, Kraków, województwo małopolskie, 31-515, Polska, 50.0698645, 19.9604438\n",
      "67, Kazimierza Wielkiego, Nowa Wieś, Krowodrza, Kraków, województwo małopolskie, 30-074, Polska, 50.0739353, 19.9184042\n",
      "Ślusarska, Zabłocie, Podgórze, Kraków, województwo małopolskie, 30-701, Polska, 50.0487455, 19.9618466\n",
      "Parafia p.w. Świętego Brata Alberta Chmielowskiego w Krakowie (Nowa Huta), Bieńczyce, Kraków, województwo małopolskie, Polska, 50.0816349, 20.016490706002102\n",
      "Bieżanowska, Szutry, Prokocim, Bieżanów-Prokocim, Kraków, województwo małopolskie, 30-804, Polska, 50.0233917, 19.9808187\n",
      "44, Przewóz, Rogatka, Płaszów, Podgórze, Kraków, województwo małopolskie, 30-716, Polska, 50.0406434, 19.997700174541247\n",
      "Helclów, Kleparz, Stare Miasto, Kraków, województwo małopolskie, 31-148, Polska, 50.0723221, 19.9375247\n",
      "16, Edwarda Heila, Wola Duchacka, Podgórze Duchackie, Kraków, województwo małopolskie, 30-654, Polska, 50.0221296, 19.956873\n",
      "Heleny Modrzejewskiej, Azory, Prądnik Biały, Kraków, województwo małopolskie, 31-327, Polska, 50.0865437, 19.9151089\n",
      "Bohaterów Wietnamu, Olsza II, Olsza, Prądnik Czerwony, Kraków, województwo małopolskie, 31-474, Polska, 50.0827619, 19.9710801\n",
      "Adama Mickiewicza, Rynek, Osiedle Stare Miasto, Skawina, gmina Skawina, powiat krakowski, województwo małopolskie, 33-050, Polska, 49.9757194, 19.8223253\n",
      "Heleny, Osiedle Nowy Bieżanów-Północ, Bieżanów, Bieżanów-Prokocim, Kraków, województwo małopolskie, 30-857, Polska, 50.0145111, 20.0243701\n",
      "Karola Bunscha, Ruczaj, Dębniki, Kraków, województwo małopolskie, 30-392, Polska, 50.017439, 19.8893313\n",
      "Stelmachów, Bronowice Wielkie, Prądnik Biały, Kraków, województwo małopolskie, 31-324, Polska, 50.0948495, 19.9090731\n",
      "Wincentego Wodzinowskiego, Azory, Prądnik Biały, Kraków, województwo małopolskie, 31-307, Polska, 50.0835063, 19.9133064\n",
      "Generała Franciszka Paszkowskiego, Kaczorówka, Tonie, Prądnik Biały, Kraków, województwo małopolskie, 31-266, Polska, 50.1072071, 19.905744\n",
      "Osiedle Bohaterów Września, Mistrzejowice, Kraków, województwo małopolskie, Polska, 50.098804, 20.009940791706967\n",
      "Ćwiklińskiej, Mieczysławy Ćwiklińskiej, Osiedle Nowy Bieżanów-Północ, Bieżanów, Bieżanów-Prokocim, Kraków, województwo małopolskie, 30-863, Polska, 50.01611, 20.018820274507654\n",
      "Profesora Wojciecha Marii Bartla, Kliny Zacisze, Kliny, Swoszowice, Kraków, województwo małopolskie, 30-389, Polska, 49.9988754, 19.8965918\n",
      "12, Osiedle Teatralne, Nowa Huta, Kraków, województwo małopolskie, 31-946, Polska, 50.07747435, 20.030702499999997\n",
      "Aleja generała Jana Skrzyneckiego, Stare Podgórze, Podgórze, Kraków, województwo małopolskie, 30-636, Polska, 50.0350543, 19.9349549\n",
      "Stanisława ze Skalbmierza, Olsza II, Olsza, Prądnik Czerwony, Kraków, województwo małopolskie, 31-469, Polska, 50.0821288, 19.9677798\n",
      "Osiedle Avia, Czyżyny, Kraków, województwo małopolskie, 31-877, Polska, 50.0801226, 20.0045001\n",
      "Osiedle Centrum B, Nowa Huta, Kraków, województwo małopolskie, Polska, 50.0736892, 20.0396241\n",
      "Mariana Domagały, Tadeusza Śliwiaka, Przewóz, Podgórze, Kraków, województwo małopolskie, 30-797, Polska, 50.0367193, 20.0523695\n",
      "Gajówka, Przegorzały, Zwierzyniec, Kraków, województwo małopolskie, 30-250, Polska, 50.0459849, 19.8578545\n",
      "Kazimierza Chałupnika, Ugorek, Rakowice, Prądnik Czerwony, Kraków, województwo małopolskie, 31-464, Polska, 50.0762261, 19.9749073\n",
      "Sądowa, Grzegórzki, Kraków, województwo małopolskie, 31-542, Polska, 50.0624756, 19.9631418\n",
      "123, Mogilska, Rakowice, Prądnik Czerwony, Kraków, województwo małopolskie, 31-571, Polska, 50.069858, 19.982020563839555\n",
      "Smoleńsk, Nowy Świat, Stare Miasto, Kraków, województwo małopolskie, 31-108, Polska, 50.0585854, 19.9281888\n",
      "Mieczykowa, Osiedle Za Fortem, Kliny, Swoszowice, Kraków, województwo małopolskie, 30-446, Polska, 49.9985935, 19.9015394\n",
      "Michała Bałuckiego, Dębniki, Kraków, województwo małopolskie, 30-318, Polska, 50.0500806, 19.9261304\n",
      "Wielicka, Rżąka, Bieżanów-Prokocim, Kraków, województwo małopolskie, 30-695, Polska, 50.0089381, 20.011181\n",
      "Plac Wolnica, Kazimierz, Stare Miasto, Kraków, województwo małopolskie, 31-062, Polska, 50.04878925, 19.944115894662886\n",
      "Podgórze, Kraków, województwo małopolskie, Polska, 50.0430999, 19.9529614\n",
      "Bieńczyce, Kraków, województwo małopolskie, Polska, 50.08605125, 20.02922626218556\n",
      "Józefa Rzebika, Płaszów, Podgórze, Kraków, województwo małopolskie, 30-725, Polska, 50.0398889, 19.9918425\n",
      "Pszenna, Wola Duchacka, Podgórze Duchackie, Kraków, województwo małopolskie, 30-654, Polska, 50.0217433, 19.9551565\n",
      "Aleja Zygmunta Krasińskiego, Półwsie Zwierzynieckie, Zwierzyniec, Kraków, województwo małopolskie, 31-111, Polska, 50.0582964, 19.9255426\n",
      "Jana Palacha, Azory, Prądnik Biały, Kraków, województwo małopolskie, 31-325, Polska, 50.0894373, 19.9179539\n",
      "Gajówka, Przegorzały, Zwierzyniec, Kraków, województwo małopolskie, 30-250, Polska, 50.0459849, 19.8578545\n",
      "Gabriela Narutowicza, Prądnik Biały, Kraków, województwo małopolskie, 31-214, Polska, 50.0911753, 19.9441062\n",
      "Mariana Domagały, Złocień, Bieżanów-Prokocim, Kraków, województwo małopolskie, 30-798, Polska, 50.0280265, 20.0516127\n",
      "16a, Juliusza Lea, Nowa Wieś, Krowodrza, Kraków, województwo małopolskie, 30-048, Polska, 50.0701375, 19.91922286508335\n",
      "Piastowska, Łobzów, Krowodrza, Kraków, województwo małopolskie, 30-070, Polska, 50.0728154, 19.9051552\n",
      "Odlewnicza, Małe Błonia, Krowodrza, Kraków, województwo małopolskie, 30-142, Polska, 50.0707707, 19.8905322\n",
      "16B, Parkowa, Stare Podgórze, Podgórze, Kraków, województwo małopolskie, 30-538, Polska, 50.0398139, 19.95210160768857\n",
      "Osiedle Kolorowe, Nowa Huta, Kraków, województwo małopolskie, Polska, 50.074263, 20.0242126\n",
      "Różyckiego, Wojciecha Weissa, Azory, Prądnik Biały, Kraków, województwo małopolskie, 31-301, Polska, 50.0888224, 19.9100185\n",
      "Gustawa Morcinka, Kantorowice, Wzgórza Krzesławickie, Kraków, województwo małopolskie, 31-705, Polska, 50.104124, 20.068193\n",
      "Adama Asnyka, Piasek, Stare Miasto, Kraków, województwo małopolskie, 31-134, Polska, 50.0659111, 19.935101\n",
      "57b, Zakrzowiecka, Pychowice, Dębniki, Kraków, województwo małopolskie, 30-387, Polska, 50.0304819, 19.8972046\n",
      "Osiedle Bohaterów Września, Mistrzejowice, Kraków, województwo małopolskie, Polska, 50.098804, 20.009940791706967\n",
      "Huculska, Borek Fałęcki, Łagiewniki-Borek Fałęcki, Kraków, województwo małopolskie, 30-413, Polska, 50.0220136, 19.924323\n",
      "Czarodziejska, Osiedle Robotnicze, Dębniki, Kraków, województwo małopolskie, 30-328, Polska, 50.049417, 19.9140087\n",
      "Gnieźnieńska, Osiedle Azory, Prądnik Biały, Kraków, województwo małopolskie, 31-318, Polska, 50.0874434, 19.9079854\n",
      "Heleny, Osiedle Nowy Bieżanów-Północ, Bieżanów, Bieżanów-Prokocim, Kraków, województwo małopolskie, 30-857, Polska, 50.0145111, 20.0243701\n",
      "Kazimierz, Stare Miasto, Kraków, województwo małopolskie, Polska, 50.051855, 19.9449466\n",
      "Kraków, województwo małopolskie, Polska, 50.0469432, 19.997153435836697\n",
      "Sosnowiecka, Bronowice Wielkie, Prądnik Biały, Kraków, województwo małopolskie, 31-340, Polska, 50.0898227, 19.903078\n",
      "Generała Augusta Fieldorfa-Nila, Krowodrza Górka, Prądnik Biały, Kraków, województwo małopolskie, 31-271, Polska, 50.0882086, 19.9322981\n",
      "Szeroka, Kazimierz, Stare Miasto, Kraków, województwo małopolskie, 31-053, Polska, 50.0532716, 19.9470672\n",
      "NAREE Outlet, 20, Rydlówka, Stare Podgórze, Podgórze, Kraków, województwo małopolskie, 30-363, Polska, 50.0348444, 19.9362095\n",
      "Armii Krajowej, Bronowice, Kraków, województwo małopolskie, 30-121, Polska, 50.081787, 19.8908879\n",
      "81, Pilotów, Ugorek, Rakowice, Prądnik Czerwony, Kraków, województwo małopolskie, 31-462, Polska, 50.080663349999995, 19.97682022033365\n",
      "Saska, Zagumnie, Płaszów, Podgórze, Kraków, województwo małopolskie, 30-720, Polska, 50.0409028, 19.9833069\n",
      "Zielony Most, Bronowice Małe, Bronowice, Kraków, województwo małopolskie, 31-351, Polska, 50.0845433, 19.8808172\n",
      "Azory, Prądnik Biały, Kraków, województwo małopolskie, Polska, 50.0852346, 19.907222\n",
      "Kobierzyńska, Stare Podgórze, Podgórze, Kraków, województwo małopolskie, 30-402, Polska, 50.0360807, 19.9295694\n",
      "Sąsiedzka, Zaborze, Ruczaj, Dębniki, Kraków, województwo małopolskie, 30-385, Polska, 50.0238154, 19.9147415\n",
      "78, Bieżanowska, Szutry, Prokocim, Bieżanów-Prokocim, Kraków, województwo małopolskie, 30-826, Polska, 50.023181050000005, 19.996334113013955\n",
      "Bochenka, Adama Bochenka, Podlesie, Piaski Wielkie, Podgórze Duchackie, Kraków, województwo małopolskie, 30-691, Polska, 50.0130894, 19.977710891141733\n",
      "Awiteks, 73, Tadeusza Kościuszki, Półwsie Zwierzynieckie, Zwierzyniec, Kraków, województwo małopolskie, 30-204, Polska, 50.05278, 19.9173203\n",
      "Zenona Klemensiewicza, Rogatka Warszawska, Olsza, Prądnik Czerwony, Kraków, województwo małopolskie, 31-482, Polska, 50.0809595, 19.9507548\n",
      "Awiteks, 1, Osiedle Centrum A, Nowa Huta, Kraków, województwo małopolskie, 31-923, Polska, 50.0715829, 20.0385188\n",
      "Stanisława Przybyszewskiego, Małe Błonia, Krowodrza, Kraków, województwo małopolskie, 30-133, Polska, 50.0711523, 19.8952508\n",
      "21, Profesora Michała Bobrzyńskiego, Osiedle Szuwarowa, Ruczaj, Dębniki, Kraków, województwo małopolskie, 30-384, Polska, 50.0216411, 19.9009206\n",
      "7, Armii Krajowej, Małe Błonia, Krowodrza, Kraków, województwo małopolskie, 30-133, Polska, 50.0693041, 19.899622996835134\n",
      "Osiedle Bohaterów Września, Mistrzejowice, Kraków, województwo małopolskie, Polska, 50.098804, 20.009940791706967\n",
      "Szpitalna, Stare Miasto, Kraków, województwo małopolskie, 31-156, Polska, 50.0647876, 19.942688\n",
      "Janusza Meissnera, Ugorek, Rakowice, Prądnik Czerwony, Kraków, województwo małopolskie, 31-465, Polska, 50.0796912, 19.9749499\n",
      "Marii i Bolesława Wysłouchów, Osiedle \"Kurdwanów Nowy\", Kurdwanów, Podgórze Duchackie, Kraków, województwo małopolskie, 30-611, Polska, 50.0080626, 19.9548721\n",
      "Bitwy nad Bzurą, Mistrzejowice, Kraków, województwo małopolskie, 31-628, Polska, 50.0985398, 20.0105489\n",
      "Aleja Solidarności, Kombinat, Nowa Huta, Kraków, województwo małopolskie, 31-974, Polska, 50.0789322, 20.0656293\n",
      "Osiedle Piastów, Mistrzejowice, Kraków, województwo małopolskie, Polska, 50.1003776, 20.02101742976312\n",
      "Jana Kasprowicza, Osiedle Oficerskie, Grzegórzki, Kraków, województwo małopolskie, 31-523, Polska, 50.0682802, 19.9656763\n",
      "Mariana Domagały, Złocień, Bieżanów-Prokocim, Kraków, województwo małopolskie, 30-798, Polska, 50.0280265, 20.0516127\n",
      "Księdza Wincentego Turka, Płaszów, Podgórze, Kraków, województwo małopolskie, 30-717, Polska, 50.0476879, 19.987734\n",
      "Krowoderska, Kleparz, Stare Miasto, Kraków, województwo małopolskie, 30-036, Polska, 50.0724073, 19.9317197\n",
      "Myśliwska, Ogrody Płaszów, Płaszów, Podgórze, Kraków, województwo małopolskie, 30-730, Polska, 50.0451882, 19.9955009\n",
      "Na Szaniec, Dąbie, Grzegórzki, Kraków, województwo małopolskie, 31-557, Polska, 50.0585642, 19.9761689\n",
      "Profesora Bolesława Wiktora Wicherkiewicza, Kliny Zacisze, Kliny, Swoszowice, Kraków, województwo małopolskie, 30-389, Polska, 49.9996656, 19.8970292\n",
      "50, Górników, Osiedle Medyków, Prokocim, Bieżanów-Prokocim, Kraków, województwo małopolskie, 30-823, Polska, 50.0179841, 19.9923036\n",
      "Teligi, Leonida Teligi, Nowy Prokocim, Prokocim, Bieżanów-Prokocim, Kraków, województwo małopolskie, 30-870, Polska, 50.0165955, 20.006901179746457\n",
      "Jana Buszka, Małe Błonia, Krowodrza, Kraków, województwo małopolskie, 30-133, Polska, 50.0683981, 19.897333\n",
      "Ćwiklińskiej, Mieczysławy Ćwiklińskiej, Osiedle Nowy Bieżanów-Północ, Bieżanów, Bieżanów-Prokocim, Kraków, województwo małopolskie, 30-863, Polska, 50.01611, 20.018820274507654\n",
      "Małopolskie Centrum Szkoleniowe ADR \"Krakus\", Jana Sobieskiego, Piasek, Stare Miasto, Kraków, województwo małopolskie, 31-136, Polska, 50.0681621, 19.9310571\n",
      "Juliusza Lea, Łobzów, Krowodrza, Kraków, województwo małopolskie, 30-070, Polska, 50.0723293, 19.9050999\n",
      "Księdza Biskupa Władysława Bandurskiego, Osiedle Oficerskie, Grzegórzki, Kraków, województwo małopolskie, 31-515, Polska, 50.0698645, 19.9604438\n",
      "Praska, Osiedle Robotnicze, Dębniki, Kraków, województwo małopolskie, 30-324, Polska, 50.0497093, 19.9204389\n",
      "Franciszka Bujaka, Osiedle \"Kurdwanów Nowy\", Kurdwanów, Podgórze Duchackie, Kraków, województwo małopolskie, 30-613, Polska, 50.0100283, 19.9445634\n",
      "Myślenicka, Zalesie, Wróblowice, Swoszowice, Kraków, województwo małopolskie, 30-698, Polska, 49.9855178, 19.944248\n",
      "Osiedle Na Wzgórzach, Wzgórza Krzesławickie, Kraków, województwo małopolskie, Polska, 50.0954847, 20.063112558756423\n",
      "Erazma Jerzmanowskiego, Nad Potokiem, Prokocim, Bieżanów-Prokocim, Kraków, województwo małopolskie, 30-870, Polska, 50.0116945, 20.0106947\n",
      "Leona Petrażyckiego, Olszyny, Osiedle Korabniki, Dębniki, Kraków, gmina Skawina, powiat krakowski, województwo małopolskie, 30-399, Polska, 49.97927, 19.8684568\n",
      "Mikołajska, Stare Miasto, Kraków, województwo małopolskie, 31-028, Polska, 50.061416, 19.9429226\n",
      "Półkole, Dąbie, Grzegórzki, Kraków, województwo małopolskie, 31-560, Polska, 50.0605356, 19.9817206\n",
      "Imbramowska, Prądnik Biały, Kraków, województwo małopolskie, 31-212, Polska, 50.0891397, 19.9470331\n",
      "Libertów, gmina Mogilany, powiat krakowski, województwo małopolskie, 30-444, Polska, 49.9723633, 19.8962098\n",
      "Szeroka, Kazimierz, Stare Miasto, Kraków, województwo małopolskie, 31-053, Polska, 50.0532716, 19.9470672\n",
      "Teligi, Leonida Teligi, Nowy Prokocim, Prokocim, Bieżanów-Prokocim, Kraków, województwo małopolskie, 30-870, Polska, 50.0165955, 20.006901179746457\n",
      "Beskidzka, Wola Duchacka, Podgórze Duchackie, Kraków, województwo małopolskie, 30-612, Polska, 50.0144971, 19.9500857\n",
      "Rusznikarska, Krowodrza Górka, Prądnik Biały, Kraków, województwo małopolskie, 31-261, Polska, 50.0841171, 19.9270579\n",
      "Sanocka, Wola Duchacka, Podgórze Duchackie, Kraków, województwo małopolskie, 30-622, Polska, 50.0173255, 19.9535859\n",
      "Świętego Sebastiana, Stradom, Stare Miasto, Kraków, województwo małopolskie, 31-049, Polska, 50.0555592, 19.9423212\n",
      "Sasanek, Branice, Nowa Huta, Kraków, województwo małopolskie, 31-985, Polska, 50.0697923, 20.1386627\n",
      "Emaus, Zwierzyniec, Kraków, województwo małopolskie, 30-143, Polska, 50.0666592, 19.8888757\n",
      "Kotlarska, Grzegórzki, Kraków, województwo małopolskie, 31-540, Polska, 50.0541382, 19.9597688\n",
      "Osiedle Centrum A, Nowa Huta, Kraków, województwo małopolskie, 31-923, Polska, 50.0720051, 20.0409261\n",
      "8, Elizy Orzeszkowej, Kazimierz, Stare Miasto, Kraków, województwo małopolskie, 31-065, Polska, 50.0498245, 19.9389342\n",
      "Grochowa, Rogatka, Płaszów, Podgórze, Kraków, województwo małopolskie, 30-733, Polska, 50.0356824, 19.9970578\n",
      "Dąbska, Dąbie, Grzegórzki, Kraków, województwo małopolskie, 31-572, Polska, 50.0663249, 19.986472\n",
      "Józefa Mackiewicza, Prądnik Biały, Kraków, województwo małopolskie, 31-214, Polska, 50.090119, 19.9435455\n",
      "Starego Dębu, Bronowice Wielkie, Prądnik Biały, Kraków, województwo małopolskie, 31-355, Polska, 50.101904, 19.8688625\n",
      "Osiedle Oficerskie, Grzegórzki, Kraków, województwo małopolskie, Polska, 50.0702734, 19.9648082\n",
      "264, Władysława Łokietka, Kąty, Tonie, Prądnik Biały, Kraków, województwo małopolskie, 31-334, Polska, 50.1067256, 19.9028992\n",
      "Aleja Pokoju, Dąbie, Grzegórzki, Kraków, województwo małopolskie, 31-557, Polska, 50.0596807, 19.9757852\n",
      "Profesora Michała Bobrzyńskiego, Ruczaj, Dębniki, Kraków, województwo małopolskie, 30-392, Polska, 50.0177969, 19.8915813\n",
      "Pawła z Krosna, Kliny Zacisze, Kliny, Swoszowice, Kraków, województwo małopolskie, 30-389, Polska, 50.003994, 19.8938674\n",
      "Generała Juliana Filipowicza, Osiedle \"Kurdwanów Nowy\", Kurdwanów, Podgórze Duchackie, Kraków, województwo małopolskie, 30-613, Polska, 50.0107359, 19.9454781\n",
      "45, Czerwone Maki, Ruczaj, Dębniki, Kraków, województwo małopolskie, 30-392, Polska, 50.01442095, 19.887875445060956\n",
      "Osiedle Górali, Nowa Huta, Kraków, województwo małopolskie, Polska, 50.0808003, 20.0379026\n",
      "55, Czerwone Maki, Ruczaj, Dębniki, Kraków, województwo małopolskie, 30-392, Polska, 50.01546605, 19.8878536617394\n",
      "Reduta, Prądnik Czerwony, Kraków, województwo małopolskie, 31-479, Polska, 50.0944773, 19.9868868\n",
      "Generała Kazimierza Pułaskiego, Dębniki, Kraków, województwo małopolskie, 30-307, Polska, 50.0505423, 19.9291705\n",
      "Zbrojarzy, Borek Fałęcki, Łagiewniki-Borek Fałęcki, Kraków, województwo małopolskie, 30-418, Polska, 50.0185362, 19.9306262\n",
      "Kapucyńska, Piasek, Stare Miasto, Kraków, województwo małopolskie, 31-113, Polska, 50.0619318, 19.9309874\n",
      "Aktorów, Bronowice Małe, Bronowice, Kraków, województwo małopolskie, 31-356, Polska, 50.0853227, 19.8873956\n",
      "Górników, Stara Wieś, Prokocim, Bieżanów-Prokocim, Kraków, województwo małopolskie, 30-819, Polska, 50.0229758, 19.9952938\n",
      "Jordanowska, Bronowice Wielkie, Prądnik Biały, Kraków, województwo małopolskie, 31-324, Polska, 50.0950181, 19.9116021\n",
      "Osiedle 2 Pułku Lotniczego, Czyżyny, Kraków, województwo małopolskie, Polska, 50.0776407, 20.0072081\n",
      "Szlak, Kleparz, Stare Miasto, Kraków, województwo małopolskie, 31-161, Polska, 50.0711279, 19.9355011\n",
      "Grzegórzecka, Wesoła, Grzegórzki, Kraków, województwo małopolskie, 31-539, Polska, 50.0576886, 19.9580235\n",
      "Kaczorówka, Tonie, Prądnik Biały, Kraków, województwo małopolskie, 31-266, Polska, 50.1070911, 19.9072169\n",
      "Nowa Huta, Kraków, województwo małopolskie, Polska, 50.080618650000005, 20.129332198005237\n",
      "Romana Kiełkowskiego, Zabłocie, Podgórze, Kraków, województwo małopolskie, 30-704, Polska, 50.0460596, 19.9674482\n",
      "Facimiech, Kozłówka, Bieżanów-Prokocim, Kraków, województwo małopolskie, 30-667, Polska, 50.0153931, 19.982564\n",
      "3,3A,3B, Myśliwska, Ogrody Płaszów, Płaszów, Podgórze, Kraków, województwo małopolskie, 30-718, Polska, 50.0454808, 19.9864282\n",
      "Rydlówka, 28, Włodzimierza Tetmajera, Bronowice Małe, Bronowice, Kraków, województwo małopolskie, 31-398, Polska, 50.08784005, 19.87805496140262\n",
      "Bochenka, Adama Bochenka, Podlesie, Piaski Wielkie, Podgórze Duchackie, Kraków, województwo małopolskie, 30-691, Polska, 50.0130894, 19.977710891141733\n",
      "Szuwarowa, Osiedle Szuwarowa, Ruczaj, Dębniki, Kraków, województwo małopolskie, 30-348, Polska, 50.0194306, 19.9038193\n",
      "Księdza Franciszka Maja, Gaik, Opatkowice, Swoszowice, Kraków, województwo małopolskie, 30-499, Polska, 49.98966, 19.91082\n"
     ]
    }
   ],
   "execution_count": null
  },
  {
   "metadata": {
    "ExecuteTime": {
     "end_time": "2024-04-28T23:45:53.009633Z",
     "start_time": "2024-04-28T23:45:52.996248Z"
    }
   },
   "cell_type": "code",
   "source": "location_df[location_df['location'].isna()]",
   "outputs": [
    {
     "data": {
      "text/plain": [
       "                                                address  \\\n",
       "5     Królewska / Obopólna | 2, Łobzów, Krowodrza, K...   \n",
       "13    Kalwaryjskiej | Tramwaj, Stare Podgórze, Podgó...   \n",
       "27    Osiedle Kliny Borkowskie, Dębniki, Kraków, mał...   \n",
       "39    os. Wolfganga Amadeusa Mozarta, Prądnik Biały,...   \n",
       "142   Turka/ Apartament/Podgórze, Płaszów, Podgórze,...   \n",
       "...                                                 ...   \n",
       "3532  Kątowa| Cena Netto, Przedmieście Warszawskie, ...   \n",
       "3544  Morcinka piwnica, Kantorowice, Wzgórza Krzesła...   \n",
       "3545  Małysiaka(Kliny-Zacisze, Kobierzyn, Dębniki, K...   \n",
       "3553  Wrocławskiej 24, Krowodrza, Krowodrza, Kraków,...   \n",
       "3566  marszałka JózefaPiłsudskiego, Wawel, Kraków, m...   \n",
       "\n",
       "                                    manipulated address location  latitude  \\\n",
       "5         Królewska / Obopólna | 2, Kraków, małopolskie     None       NaN   \n",
       "13         Kalwaryjskiej | Tramwaj, Kraków, małopolskie     None       NaN   \n",
       "27        Osiedle Kliny Borkowskie, Kraków, małopolskie     None       NaN   \n",
       "39      Wolfganga Amadeusa Mozarta, Kraków, małopolskie     None       NaN   \n",
       "142     Turka/ Apartament/Podgórze, Kraków, małopolskie     None       NaN   \n",
       "...                                                 ...      ...       ...   \n",
       "3532            Kątowa| Cena Netto, Kraków, małopolskie     None       NaN   \n",
       "3544              Morcinka piwnica, Kraków, małopolskie     None       NaN   \n",
       "3545       Małysiaka(Kliny-Zacisze, Kraków, małopolskie     None       NaN   \n",
       "3553               Wrocławskiej 24, Kraków, małopolskie     None       NaN   \n",
       "3566  marszałka JózefaPiłsudskiego, Kraków, małopolskie     None       NaN   \n",
       "\n",
       "      longitude  \n",
       "5           NaN  \n",
       "13          NaN  \n",
       "27          NaN  \n",
       "39          NaN  \n",
       "142         NaN  \n",
       "...         ...  \n",
       "3532        NaN  \n",
       "3544        NaN  \n",
       "3545        NaN  \n",
       "3553        NaN  \n",
       "3566        NaN  \n",
       "\n",
       "[149 rows x 5 columns]"
      ],
      "text/html": [
       "<div>\n",
       "<style scoped>\n",
       "    .dataframe tbody tr th:only-of-type {\n",
       "        vertical-align: middle;\n",
       "    }\n",
       "\n",
       "    .dataframe tbody tr th {\n",
       "        vertical-align: top;\n",
       "    }\n",
       "\n",
       "    .dataframe thead th {\n",
       "        text-align: right;\n",
       "    }\n",
       "</style>\n",
       "<table border=\"1\" class=\"dataframe\">\n",
       "  <thead>\n",
       "    <tr style=\"text-align: right;\">\n",
       "      <th></th>\n",
       "      <th>address</th>\n",
       "      <th>manipulated address</th>\n",
       "      <th>location</th>\n",
       "      <th>latitude</th>\n",
       "      <th>longitude</th>\n",
       "    </tr>\n",
       "  </thead>\n",
       "  <tbody>\n",
       "    <tr>\n",
       "      <th>5</th>\n",
       "      <td>Królewska / Obopólna | 2, Łobzów, Krowodrza, K...</td>\n",
       "      <td>Królewska / Obopólna | 2, Kraków, małopolskie</td>\n",
       "      <td>None</td>\n",
       "      <td>NaN</td>\n",
       "      <td>NaN</td>\n",
       "    </tr>\n",
       "    <tr>\n",
       "      <th>13</th>\n",
       "      <td>Kalwaryjskiej | Tramwaj, Stare Podgórze, Podgó...</td>\n",
       "      <td>Kalwaryjskiej | Tramwaj, Kraków, małopolskie</td>\n",
       "      <td>None</td>\n",
       "      <td>NaN</td>\n",
       "      <td>NaN</td>\n",
       "    </tr>\n",
       "    <tr>\n",
       "      <th>27</th>\n",
       "      <td>Osiedle Kliny Borkowskie, Dębniki, Kraków, mał...</td>\n",
       "      <td>Osiedle Kliny Borkowskie, Kraków, małopolskie</td>\n",
       "      <td>None</td>\n",
       "      <td>NaN</td>\n",
       "      <td>NaN</td>\n",
       "    </tr>\n",
       "    <tr>\n",
       "      <th>39</th>\n",
       "      <td>os. Wolfganga Amadeusa Mozarta, Prądnik Biały,...</td>\n",
       "      <td>Wolfganga Amadeusa Mozarta, Kraków, małopolskie</td>\n",
       "      <td>None</td>\n",
       "      <td>NaN</td>\n",
       "      <td>NaN</td>\n",
       "    </tr>\n",
       "    <tr>\n",
       "      <th>142</th>\n",
       "      <td>Turka/ Apartament/Podgórze, Płaszów, Podgórze,...</td>\n",
       "      <td>Turka/ Apartament/Podgórze, Kraków, małopolskie</td>\n",
       "      <td>None</td>\n",
       "      <td>NaN</td>\n",
       "      <td>NaN</td>\n",
       "    </tr>\n",
       "    <tr>\n",
       "      <th>...</th>\n",
       "      <td>...</td>\n",
       "      <td>...</td>\n",
       "      <td>...</td>\n",
       "      <td>...</td>\n",
       "      <td>...</td>\n",
       "    </tr>\n",
       "    <tr>\n",
       "      <th>3532</th>\n",
       "      <td>Kątowa| Cena Netto, Przedmieście Warszawskie, ...</td>\n",
       "      <td>Kątowa| Cena Netto, Kraków, małopolskie</td>\n",
       "      <td>None</td>\n",
       "      <td>NaN</td>\n",
       "      <td>NaN</td>\n",
       "    </tr>\n",
       "    <tr>\n",
       "      <th>3544</th>\n",
       "      <td>Morcinka piwnica, Kantorowice, Wzgórza Krzesła...</td>\n",
       "      <td>Morcinka piwnica, Kraków, małopolskie</td>\n",
       "      <td>None</td>\n",
       "      <td>NaN</td>\n",
       "      <td>NaN</td>\n",
       "    </tr>\n",
       "    <tr>\n",
       "      <th>3545</th>\n",
       "      <td>Małysiaka(Kliny-Zacisze, Kobierzyn, Dębniki, K...</td>\n",
       "      <td>Małysiaka(Kliny-Zacisze, Kraków, małopolskie</td>\n",
       "      <td>None</td>\n",
       "      <td>NaN</td>\n",
       "      <td>NaN</td>\n",
       "    </tr>\n",
       "    <tr>\n",
       "      <th>3553</th>\n",
       "      <td>Wrocławskiej 24, Krowodrza, Krowodrza, Kraków,...</td>\n",
       "      <td>Wrocławskiej 24, Kraków, małopolskie</td>\n",
       "      <td>None</td>\n",
       "      <td>NaN</td>\n",
       "      <td>NaN</td>\n",
       "    </tr>\n",
       "    <tr>\n",
       "      <th>3566</th>\n",
       "      <td>marszałka JózefaPiłsudskiego, Wawel, Kraków, m...</td>\n",
       "      <td>marszałka JózefaPiłsudskiego, Kraków, małopolskie</td>\n",
       "      <td>None</td>\n",
       "      <td>NaN</td>\n",
       "      <td>NaN</td>\n",
       "    </tr>\n",
       "  </tbody>\n",
       "</table>\n",
       "<p>149 rows × 5 columns</p>\n",
       "</div>"
      ]
     },
     "execution_count": 475,
     "metadata": {},
     "output_type": "execute_result"
    }
   ],
   "execution_count": 475
  },
  {
   "metadata": {
    "ExecuteTime": {
     "end_time": "2024-04-28T23:04:55.274496Z",
     "start_time": "2024-04-28T23:04:55.262299Z"
    }
   },
   "cell_type": "code",
   "source": "location_df.loc[location_df['location'].isna(), 'manipulated address'] = location_df['manipulated address'].str.replace(r',.*?, Kraków, małopolskie', ', Kraków, małopolskie', regex=True)",
   "outputs": [],
   "execution_count": 449
  },
  {
   "metadata": {
    "ExecuteTime": {
     "end_time": "2024-04-28T23:13:47.671794Z",
     "start_time": "2024-04-28T23:13:47.660794Z"
    }
   },
   "cell_type": "code",
   "source": "location_df.loc[location_df['location'].isna(), 'manipulated address'] = location_df['manipulated address'].str.replace(r'^(ul\\. |ul\\.|os\\. |U |Ok\\. |abp\\. |al\\. |mrj\\.|Św\\. |Aleja gen\\. |Św\\. |prof\\. |gen\\. )', '', regex=True)",
   "outputs": [],
   "execution_count": 460
  },
  {
   "metadata": {
    "ExecuteTime": {
     "end_time": "2024-04-28T23:17:06.839169Z",
     "start_time": "2024-04-28T23:17:06.829524Z"
    }
   },
   "cell_type": "code",
   "source": [
    "phrases_to_remove = [\n",
    "    \"okolice\", \"Wykończone inwestycyjne mieszkanie\", \"garsoniera wypoczynkowa\",\n",
    "    \"⭐️ obok tramwaj\", \"EKOPARK\", r\"\\| brak pcc \\|\", \"wykończone bez PCC\",\n",
    "    \"przy UP\", \"/bez pośredników\", \"- dwupoziomowe mieszkanie w centrum\",\n",
    "    \" ENG\", r\"\\(Os\\.Piastow\", \" z ogródkiem\", \" - Bezpośrednio\", \" - stan deweloperski\",\n",
    "    r\"\\/ nowy apartament\\/\", \" - Wykończone\", \" Tbs\"\n",
    "    ]\n",
    "\n",
    "# Create a regex pattern string to match any of the phrases\n",
    "pattern = r'|'.join([re.escape(phrase) for phrase in phrases_to_remove])\n",
    "\n",
    "# Apply regex only where location is NaN\n",
    "location_df.loc[location_df['location'].isna(), 'manipulated address'] = \\\n",
    "    location_df.loc[location_df['location'].isna(), 'manipulated address'].str.replace(pattern, '', regex=True)\n"
   ],
   "outputs": [],
   "execution_count": 468
  },
  {
   "metadata": {
    "ExecuteTime": {
     "end_time": "2024-04-28T23:16:41.039109Z",
     "start_time": "2024-04-28T23:16:41.025591Z"
    }
   },
   "cell_type": "code",
   "source": [
    "location_df.loc[location_df['location'].isna(), 'manipulated address'] = location_df[location_df['location'].isna()]['manipulated address'].str.replace(r'^-\\s*,', ',', regex=True)\n",
    "location_df.loc[location_df['location'].isna(), 'manipulated address'] = location_df[location_df['location'].isna()]['manipulated address'].str.replace(r'^iej,', 'a,', regex=True)\n",
    "location_df.loc[location_df['location'].isna(), 'manipulated address'] = location_df[location_df['location'].isna()]['manipulated address'].str.replace(r'^ej,', 'a,', regex=True)"
   ],
   "outputs": [],
   "execution_count": 466
  },
  {
   "metadata": {
    "ExecuteTime": {
     "end_time": "2024-04-28T23:18:35.481130Z",
     "start_time": "2024-04-28T23:18:35.412613Z"
    }
   },
   "cell_type": "code",
   "source": [
    "existing_df = pd.read_csv(\"geocoded_addresses.csv\")\n",
    "condition = existing_df['location'] == \"Kraków, województwo małopolskie, Polska\"\n",
    "existing_df.loc[condition, ['location', 'latitude', 'longitude']] = None\n",
    "existing_df.to_csv(\"geocoded_addresses.csv\", index=False)"
   ],
   "outputs": [],
   "execution_count": 470
  },
  {
   "metadata": {
    "ExecuteTime": {
     "end_time": "2024-04-28T23:22:42.974464Z",
     "start_time": "2024-04-28T23:22:41.350282Z"
    }
   },
   "cell_type": "code",
   "source": [
    "import openpyxl\n",
    "na_location = location_df[location_df['location'].isna()]\n",
    "na_location.to_excel(\"temp.xlsx\", index=False)"
   ],
   "outputs": [],
   "execution_count": 473
  },
  {
   "metadata": {
    "ExecuteTime": {
     "end_time": "2024-04-28T23:45:43.114563Z",
     "start_time": "2024-04-28T23:44:28.193016Z"
    }
   },
   "cell_type": "code",
   "source": [
    "na_location = pd.read_excel('temp.xlsx')\n",
    "na_location = geocode_and_save(na_location)"
   ],
   "outputs": [
    {
     "name": "stdout",
     "output_type": "stream",
     "text": [
      "Rows needing geocoding: 149\n",
      "Obopólna, Łobzów, Krowodrza, Kraków, województwo małopolskie, 31-145, Polska, 50.0721983, 19.9064101\n",
      "Kalwaryjska, Stare Podgórze, Podgórze, Kraków, województwo małopolskie, 30-509, Polska, 50.0438264, 19.947108\n",
      "Osiedle Wolfganga Amadeusza Mozarta, Prądnik Biały, Kraków, województwo małopolskie, Polska, 50.094020650000004, 19.95344558297756\n",
      "Księdza Wincentego Turka, Płaszów, Podgórze, Kraków, województwo małopolskie, 30-717, Polska, 50.0476879, 19.987734\n",
      "Józefińska, Stare Podgórze, Podgórze, Kraków, województwo małopolskie, 30-548, Polska, 50.0450196, 19.9567307\n",
      "Wesoła, Grzegórzki, Kraków, województwo małopolskie, Polska, 50.0639349, 19.95114\n",
      "Wielopole, Kazimierz, Stare Miasto, Kraków, województwo małopolskie, 31-030, Polska, 50.0581332, 19.9469064\n",
      "3, Mariana Domagały, Złocień, Bieżanów-Prokocim, Kraków, województwo małopolskie, 30-798, Polska, 50.03082215, 20.051273110250463\n",
      "Długa, Kleparz, Stare Miasto, Kraków, województwo małopolskie, 30-004, Polska, 50.0724492, 19.9358475\n",
      "Zamkowa, Dębniki, Kraków, województwo małopolskie, 30-301, Polska, 50.0532999, 19.9295493\n",
      "Zdrowa, Żabiniec, Prądnik Biały, Kraków, województwo małopolskie, 31-200, Polska, 50.0879753, 19.9455547\n",
      "Szwedzka, Dębniki, Kraków, województwo małopolskie, 30-317, Polska, 50.0495985, 19.9223537\n",
      "Obozowa, Borek Fałęcki, Łagiewniki-Borek Fałęcki, Kraków, województwo małopolskie, 30-383, Polska, 50.0119784, 19.9084164\n",
      "Stadion Cracovii im. Józefa Piłsudskiego, 1, Józefa Kałuży, Półwsie Zwierzynieckie, Zwierzyniec, Kraków, województwo małopolskie, 30-111, Polska, 50.05785555, 19.920525409685492\n",
      "Podłęska, Bieżanów, Bieżanów-Prokocim, Kraków, województwo małopolskie, 30-865, Polska, 50.0087167, 20.0131964\n",
      "37, Królewska, Nowa Wieś, Krowodrza, Kraków, województwo małopolskie, 30-040, Polska, 50.07213745, 19.920902368614534\n",
      "Lipska, Rogatka, Płaszów, Podgórze, Kraków, województwo małopolskie, 30-725, Polska, 50.0405669, 19.99269\n",
      "Mogilska, Rakowice, Prądnik Czerwony, Kraków, województwo małopolskie, 31-445, Polska, 50.0683348, 19.9793749\n",
      "Powstańców, Prądnik Czerwony, Kraków, województwo małopolskie, 31-241, Polska, 50.098263, 19.9735052\n",
      "Łobzowska, Piasek, Stare Miasto, Kraków, województwo małopolskie, 30-036, Polska, 50.0706111, 19.931853\n",
      "Teligi, Leonida Teligi, Nowy Prokocim, Prokocim, Bieżanów-Prokocim, Kraków, województwo małopolskie, 30-870, Polska, 50.0165955, 20.006901179746457\n",
      "Rakowicka, Osiedle Oficerskie, Grzegórzki, Kraków, województwo małopolskie, 31-509, Polska, 50.0687346, 19.9529591\n",
      "Bratysławska, Krowodrza Górka, Prądnik Biały, Kraków, województwo małopolskie, 31-271, Polska, 50.0839659, 19.9335671\n",
      "100, Długa, Sułoszowa Pierwsza, Długa, Wielmoża, gmina Sułoszowa, powiat krakowski, województwo małopolskie, 32-045, Polska, 50.2668868, 19.791563232299488\n",
      "Prochowa, Grzegórzki, Kraków, województwo małopolskie, 31-540, Polska, 50.0562222, 19.9563675\n",
      "Kwartowa, Prądnik Czerwony, Kraków, województwo małopolskie, 31-480, Polska, 50.0937064, 19.9820514\n",
      "8, Wodna, Rzeczki, Radziszów, gmina Skawina, powiat krakowski, województwo małopolskie, 32-052, Polska, 49.915507, 19.8159561\n",
      "Krowoderska, Kleparz, Stare Miasto, Kraków, województwo małopolskie, 31-142, Polska, 50.0699442, 19.9357048\n",
      "Lipska, Rogatka, Płaszów, Podgórze, Kraków, województwo małopolskie, 30-725, Polska, 50.0405669, 19.99269\n",
      "Oboźna, Nowy Kleparz, Krowodrza, Kraków, województwo małopolskie, 30-010, Polska, 50.0797998, 19.9287252\n",
      "Nadwiślańska, Stare Podgórze, Podgórze, Kraków, województwo małopolskie, 30-527, Polska, 50.0475831, 19.9532146\n",
      "Aleja Pokoju, Beszcz, Łęg, Czyżyny, Kraków, województwo małopolskie, 31-564, Polska, 50.0642164, 19.9880982\n",
      "Śląska, Nowy Kleparz, Krowodrza, Kraków, województwo małopolskie, 30-003, Polska, 50.0748901, 19.9322991\n",
      "Szwedzka, Dębniki, Kraków, województwo małopolskie, 30-317, Polska, 50.0495985, 19.9223537\n",
      "Dąbska, Dąbie, Grzegórzki, Kraków, województwo małopolskie, 31-571, Polska, 50.0671801, 19.9843234\n",
      "Mazowiecka, Nowy Kleparz, Krowodrza, Kraków, województwo małopolskie, 30-007, Polska, 50.0732377, 19.9302296\n",
      "53, Wrocławska, Krowodrza, Kraków, województwo małopolskie, 30-011, Polska, 50.0796424, 19.9231689\n",
      "Reduta, Prądnik Czerwony, Kraków, województwo małopolskie, 31-479, Polska, 50.0942713, 19.9852178\n",
      "Rotmistrza Zbigniewa Dunin-Wąsowicza, Półwsie Zwierzynieckie, Zwierzyniec, Kraków, województwo małopolskie, 30-112, Polska, 50.0567692, 19.92248\n",
      "Masarska, Grzegórzki, Kraków, województwo małopolskie, 31-534, Polska, 50.0552076, 19.9551087\n",
      "Paulińska, Kazimierz, Stare Miasto, Kraków, województwo małopolskie, 31-071, Polska, 50.0491262, 19.9381001\n",
      "Śliczna, Ugorek, Rakowice, Prądnik Czerwony, Kraków, województwo małopolskie, 31-444, Polska, 50.0732056, 19.9763112\n",
      "Chocimska, Nowa Wieś, Krowodrza, Kraków, województwo małopolskie, 30-057, Polska, 50.0698342, 19.9155486\n",
      "Rydlówka, 28, Włodzimierza Tetmajera, Bronowice Małe, Bronowice, Kraków, województwo małopolskie, 31-398, Polska, 50.08784005, 19.87805496140262\n",
      "Augustyna Kordeckiego, Kazimierz, Stare Miasto, Kraków, województwo małopolskie, 31-071, Polska, 50.0496422, 19.9376168\n",
      "Jaworowa, Bogucice, Osiedle Bogucice, Wieliczka, gmina Wieliczka, powiat wielicki, województwo małopolskie, 30-898, Polska, 49.9993947, 20.0489611\n",
      "Krowodrza Górka, Prądnik Biały, Kraków, województwo małopolskie, Polska, 50.0887692, 19.9299753\n",
      "Mogilska, Rakowice, Prądnik Czerwony, Kraków, województwo małopolskie, 31-445, Polska, 50.0683348, 19.9793749\n",
      "Złota, Wola Justowska, Zwierzyniec, Kraków, województwo małopolskie, 30-215, Polska, 50.0665327, 19.8852216\n",
      "16, Bosacka, Wesoła, Stare Miasto, Kraków, województwo małopolskie, 31-505, Polska, 50.0670077, 19.9495764\n",
      "Michała Stachowicza, Półwsie Zwierzynieckie, Zwierzyniec, Kraków, województwo małopolskie, 30-103, Polska, 50.0559791, 19.9239528\n",
      "Bronowice, Kraków, województwo małopolskie, Polska, 50.0833247, 19.869783648014888\n",
      "Oboźna, Nowy Kleparz, Krowodrza, Kraków, województwo małopolskie, 30-010, Polska, 50.0797998, 19.9287252\n",
      "Osiedle \"Banacha II\", Górka Narodowa, Prądnik Biały, Kraków, województwo małopolskie, Polska, 50.103198750000004, 19.961774953913842\n",
      "Podłęska, Bieżanów, Bieżanów-Prokocim, Kraków, województwo małopolskie, 30-865, Polska, 50.0087167, 20.0131964\n",
      "Walerego Eljasza-Radzikowskiego, Azory, Prądnik Biały, Kraków, województwo małopolskie, 31-307, Polska, 50.0823872, 19.9154562\n",
      "Osiedle Wolfganga Amadeusza Mozarta, Prądnik Biały, Kraków, województwo małopolskie, Polska, 50.094020650000004, 19.95344558297756\n",
      "Lilli Wenedy Park, Bieżanów-Prokocim, Kraków, województwo małopolskie, Polska, 50.0215116, 20.005466011528156\n",
      "2, Dębowa, Dębniki, Kraków, województwo małopolskie, 30-306, Polska, 50.0480751, 19.9283778\n",
      "Stefana Otwinowskiego, Osiedle Oficerskie, Grzegórzki, Kraków, województwo małopolskie, 31-431, Polska, 50.07822, 19.9611863\n",
      "Stadion Cracovii im. Józefa Piłsudskiego, 1, Józefa Kałuży, Półwsie Zwierzynieckie, Zwierzyniec, Kraków, województwo małopolskie, 30-111, Polska, 50.05785555, 19.920525409685492\n",
      "Ułanów, Ugorek, Rakowice, Prądnik Czerwony, Kraków, województwo małopolskie, 31-446, Polska, 50.0734495, 19.9858129\n",
      "Maja, Topolowa, Wesoła II, Grzegórzki, Kraków, województwo małopolskie, 31-506, Polska, 50.0666519, 19.954886\n",
      "Seweryna Goszczyńskiego, Rogatka, Płaszów, Podgórze, Kraków, województwo małopolskie, 30-724, Polska, 50.0377005, 19.9910359\n",
      "Pułkownika pilota Stefana Łaszkiewicza, Rakowice, Prądnik Czerwony, Kraków, województwo małopolskie, 31-445, Polska, 50.0698184, 19.9758058\n",
      "Szlak, Piasek, Stare Miasto, Kraków, województwo małopolskie, 31-161, Polska, 50.0708142, 19.9345154\n",
      "Jana Karola Chodkiewicza, Grzegórzki, Kraków, województwo małopolskie, 31-534, Polska, 50.0562553, 19.9538028\n",
      "Floriańska, Stare Miasto, Kraków, województwo małopolskie, 31-019, Polska, 50.0649001, 19.9413698\n",
      "Cystersów, Osiedle Oficerskie, Grzegórzki, Kraków, województwo małopolskie, 31-545, Polska, 50.0665345, 19.9697182\n",
      "Aleja Zygmunta Krasińskiego, Półwsie Zwierzynieckie, Zwierzyniec, Kraków, województwo małopolskie, 31-111, Polska, 50.0591644, 19.9249324\n",
      "Piotra Borowego, Zwierzyniec, Kraków, województwo małopolskie, 30-214, Polska, 50.0644927, 19.890371\n",
      "2, Jaworowa, Bogucice, Osiedle Bogucice, Wieliczka, gmina Wieliczka, powiat wielicki, województwo małopolskie, 32-020, Polska, 49.99883505, 20.048446216094803\n",
      "Doktora Jana Piltza, Kobierzyn, Dębniki, Kraków, województwo małopolskie, 30-393, Polska, 50.0076191, 19.8888826\n",
      "Nowosądecka, Kozłówka, Bieżanów-Prokocim, Kraków, województwo małopolskie, 30-641, Polska, 50.0217812, 19.9786207\n",
      "Teligi, Leonida Teligi, Nowy Prokocim, Prokocim, Bieżanów-Prokocim, Kraków, województwo małopolskie, 30-870, Polska, 50.0165955, 20.006901179746457\n",
      "Sienna, Stare Miasto, Kraków, województwo małopolskie, 30-960, Polska, 50.0604421, 19.9411509\n",
      "Siewna, Prądnik Biały, Kraków, województwo małopolskie, 31-210, Polska, 50.0960658, 19.9482335\n",
      "Grębałowska, Grębałów, Wzgórza Krzesławickie, Kraków, województwo małopolskie, 31-764, Polska, 50.0965835, 20.0738385\n",
      "Powstańców, Prądnik Czerwony, Kraków, województwo małopolskie, 31-241, Polska, 50.098263, 19.9735052\n",
      "40, Wiarusa, Osiedle Władysława Łokietka, Prądnik Biały, Zielonki, gmina Zielonki, powiat krakowski, województwo małopolskie, 32-087, Polska, 50.10049245, 19.918333899103146\n",
      "Magnolii, Zaborze, Ruczaj, Dębniki, Kraków, województwo małopolskie, 30-385, Polska, 50.0229208, 19.9136644\n",
      "Grzegórzecka, Wesoła, Grzegórzki, Kraków, województwo małopolskie, 31-539, Polska, 50.0578259, 19.9583506\n",
      "Lipska, Rogatka, Płaszów, Podgórze, Kraków, województwo małopolskie, 30-725, Polska, 50.0405669, 19.99269\n",
      "Balicka, Mydlniki, Bronowice, Kraków, województwo małopolskie, 30-198, Polska, 50.0844887, 19.8450822\n",
      "Żabiniec, Prądnik Biały, Kraków, województwo małopolskie, Polska, 50.0859311, 19.9417425\n",
      "Wesoła, Grzegórzki, Kraków, województwo małopolskie, Polska, 50.0639349, 19.95114\n",
      "53, Wrocławska, Krowodrza, Kraków, województwo małopolskie, 30-011, Polska, 50.0796424, 19.9231689\n",
      "Henryka i Karola Czeczów, Złocień, Bieżanów-Prokocim, Kraków, województwo małopolskie, 30-798, Polska, 50.021345, 20.0572993\n",
      "Osiedle \"Banacha II\", Górka Narodowa, Prądnik Biały, Kraków, województwo małopolskie, Polska, 50.103198750000004, 19.961774953913842\n",
      "Osiedle Niepodległości, Bieńczyce, Kraków, województwo małopolskie, Polska, 50.0806819, 20.0235925\n",
      "Wrocławska, Łobzów, Krowodrza, Kraków, województwo małopolskie, 31-307, Polska, 50.081544, 19.9161823\n",
      "Centrum Onkologii Instytut imienia Marii Skłodowskiej, 11, Garncarska, Piasek, Stare Miasto, Kraków, województwo małopolskie, 31-115, Polska, 50.06163425, 19.927286508712008\n",
      "II Liceum Ogólnokształcące im. Króla Jana III Sobieskiego w Krakowie, Jana Sobieskiego, Piasek, Stare Miasto, Kraków, województwo małopolskie, 31-136, Polska, 50.068395300000006, 19.931781662147547\n",
      "Zwierzyniecka, Nowy Świat, Stare Miasto, Kraków, województwo małopolskie, 31-101, Polska, 50.0585369, 19.9328322\n",
      "Henryka i Karola Czeczów, Złocień, Bieżanów-Prokocim, Kraków, województwo małopolskie, 30-798, Polska, 50.021345, 20.0572993\n",
      "Felicjanek, Nowy Świat, Stare Miasto, Kraków, województwo małopolskie, 31-107, Polska, 50.0581068, 19.9295311\n",
      "Erazma Jerzmanowskiego, Nad Potokiem, Prokocim, Bieżanów-Prokocim, Kraków, województwo małopolskie, 30-870, Polska, 50.0116945, 20.0106947\n",
      "Osiedle Niepodległości, Bieńczyce, Kraków, województwo małopolskie, Polska, 50.0806819, 20.0235925\n",
      "Stadion Cracovii im. Józefa Piłsudskiego, 1, Józefa Kałuży, Półwsie Zwierzynieckie, Zwierzyniec, Kraków, województwo małopolskie, 30-111, Polska, 50.05785555, 19.920525409685492\n",
      "Polana Juliusza Lea, Las Wolski, Zwierzyniec, Kraków, województwo małopolskie, Polska, 50.0523186, 19.85288239875174\n",
      "Ogród Doświadczeń im. Stanisława Lema, Czyżyny, Kraków, województwo małopolskie, Polska, 50.06819475, 19.99729633976735\n",
      "3, Turniejowa, Wola Duchacka, Podgórze Duchackie, Kraków, województwo małopolskie, 30-656, Polska, 50.0195447, 19.960168\n",
      "Ułanów, Ugorek, Rakowice, Prądnik Czerwony, Kraków, województwo małopolskie, 31-446, Polska, 50.0734495, 19.9858129\n",
      "Odona Bujwida, Wesoła II, Grzegórzki, Kraków, województwo małopolskie, 31-529, Polska, 50.060879, 19.9502566\n",
      "Lilli Wenedy Park, Bieżanów-Prokocim, Kraków, województwo małopolskie, Polska, 50.0215116, 20.005466011528156\n",
      "Beera Meiselsa, Kazimierz, Stare Miasto, Kraków, województwo małopolskie, 31-063, Polska, 50.0506975, 19.9423408\n",
      "Wrocławska, Łobzów, Krowodrza, Kraków, województwo małopolskie, 31-307, Polska, 50.081544, 19.9161823\n",
      "9, Masarska, Grzegórzki, Kraków, województwo małopolskie, 31-539, Polska, 50.0549296, 19.9568211\n",
      "Henryka Siemiradzkiego, Piasek, Stare Miasto, Kraków, województwo małopolskie, 31-139, Polska, 50.0691422, 19.9328317\n",
      "Stanisława Lentza, Osiedle Azory, Prądnik Biały, Kraków, województwo małopolskie, 31-339, Polska, 50.0842806, 19.9090588\n",
      "Grzegórzecka, Wesoła, Grzegórzki, Kraków, województwo małopolskie, 31-539, Polska, 50.0578259, 19.9583506\n",
      "Totus Tuus, Białe Morza, Łagiewniki-Borek Fałęcki, Kraków, województwo małopolskie, 30-608, Polska, 50.0123898, 19.9378801\n",
      "Akacjowa, Węgrzynowice, Wzgórza Krzesławickie, Krzysztoforzyce, gmina Kocmyrzów-Luborzyca, powiat krakowski, województwo małopolskie, 31-999, Polska, 50.110338, 20.1420232\n",
      "Wodna, Kabel, Podgórze, Kraków, województwo małopolskie, 30-552, Polska, 50.0366908, 19.9686876\n",
      "Rakowicka, Osiedle Oficerskie, Grzegórzki, Kraków, województwo małopolskie, 31-509, Polska, 50.0687346, 19.9529591\n",
      "Wenecja, Piasek, Stare Miasto, Kraków, województwo małopolskie, 31-117, Polska, 50.0612135, 19.9259089\n",
      "Bronowicka, Bronowice, Kraków, województwo małopolskie, 30-124, Polska, 50.0759556, 19.90571\n",
      "Szlak, Piasek, Stare Miasto, Kraków, województwo małopolskie, 31-161, Polska, 50.0708142, 19.9345154\n",
      "Estery, Kazimierz, Stare Miasto, Kraków, województwo małopolskie, 31-056, Polska, 50.0517933, 19.9453427\n",
      "Rakowicka, Osiedle Oficerskie, Grzegórzki, Kraków, województwo małopolskie, 31-509, Polska, 50.0687346, 19.9529591\n",
      "Plac Dominikański, Stare Miasto, Kraków, województwo małopolskie, 31-006, Polska, 50.0591163, 19.9382233\n",
      "Jana Kurczaba, Nowy Prokocim, Prokocim, Bieżanów-Prokocim, Kraków, województwo małopolskie, 30-868, Polska, 50.0137338, 20.0074091\n",
      "Legionów Józefa Piłsudskiego, Stare Podgórze, Podgórze, Kraków, województwo małopolskie, 30-509, Polska, 50.0441633, 19.946821\n",
      "Gliniana, Rogatka, Płaszów, Podgórze, Kraków, województwo małopolskie, 30-725, Polska, 50.0356626, 19.9950198\n",
      "Łobzowska, Piasek, Stare Miasto, Kraków, województwo małopolskie, 30-036, Polska, 50.0706111, 19.931853\n",
      "Długa, Kleparz, Stare Miasto, Kraków, województwo małopolskie, 30-004, Polska, 50.0724492, 19.9358475\n",
      "Kątowa, Przedmieście Warszawskie, Stare Miasto, Kraków, województwo małopolskie, 31-404, Polska, 50.0734813, 19.9468572\n",
      "Gustawa Morcinka, Zesławice, Wzgórza Krzesławickie, Kraków, województwo małopolskie, 31-762, Polska, 50.106026, 20.0450574\n",
      "Biskupa Albina Małysiaka, Kobierzyn, Dębniki, Kraków, województwo małopolskie, 30-389, Polska, 49.9987185, 19.8938794\n",
      "24, Wrocławska, Nowy Kleparz, Krowodrza, Kraków, województwo małopolskie, 30-006, Polska, 50.0754233, 19.929980388347403\n",
      "Stadion Cracovii im. Józefa Piłsudskiego, 1, Józefa Kałuży, Półwsie Zwierzynieckie, Zwierzyniec, Kraków, województwo małopolskie, 30-111, Polska, 50.05785555, 19.920525409685492\n",
      "Data saved to geocoded_addresses.csv\n"
     ]
    },
    {
     "data": {
      "text/plain": [
       "                                               address  \\\n",
       "0    Królewska / Obopólna | 2, Łobzów, Krowodrza, K...   \n",
       "1    Kalwaryjskiej | Tramwaj, Stare Podgórze, Podgó...   \n",
       "2    Osiedle Kliny Borkowskie, Dębniki, Kraków, mał...   \n",
       "3    os. Wolfganga Amadeusa Mozarta, Prądnik Biały,...   \n",
       "4    Turka/ Apartament/Podgórze, Płaszów, Podgórze,...   \n",
       "..                                                 ...   \n",
       "144  Kątowa| Cena Netto, Przedmieście Warszawskie, ...   \n",
       "145  Morcinka piwnica, Kantorowice, Wzgórza Krzesła...   \n",
       "146  Małysiaka(Kliny-Zacisze, Kobierzyn, Dębniki, K...   \n",
       "147  Wrocławskiej 24, Krowodrza, Krowodrza, Kraków,...   \n",
       "148  marszałka JózefaPiłsudskiego, Wawel, Kraków, m...   \n",
       "\n",
       "                          manipulated address  \\\n",
       "0             Obopólna 2, Kraków, małopolskie   \n",
       "1            Kalwaryjska, Kraków, małopolskie   \n",
       "2       Kliny Borkowskie, Kraków, małopolskie   \n",
       "3                             Osiedle Mozarta   \n",
       "4                  Turka, Kraków, małopolskie   \n",
       "..                                        ...   \n",
       "144               Kątowa, Kraków, małopolskie   \n",
       "145             Morcinka, Kraków, małopolskie   \n",
       "146            Małysiaka, Kraków, małopolskie   \n",
       "147        Wrocławska 24, Kraków, małopolskie   \n",
       "148  Józefa Piłsudskiego, Kraków, małopolskie   \n",
       "\n",
       "                                              location   latitude  longitude  \n",
       "0    Obopólna, Łobzów, Krowodrza, Kraków, województ...  50.072198  19.906410  \n",
       "1    Kalwaryjska, Stare Podgórze, Podgórze, Kraków,...  50.043826  19.947108  \n",
       "2                                                 None        NaN        NaN  \n",
       "3    Osiedle Wolfganga Amadeusza Mozarta, Prądnik B...  50.094021  19.953446  \n",
       "4    Księdza Wincentego Turka, Płaszów, Podgórze, K...  50.047688  19.987734  \n",
       "..                                                 ...        ...        ...  \n",
       "144  Kątowa, Przedmieście Warszawskie, Stare Miasto...  50.073481  19.946857  \n",
       "145  Gustawa Morcinka, Zesławice, Wzgórza Krzesławi...  50.106026  20.045057  \n",
       "146  Biskupa Albina Małysiaka, Kobierzyn, Dębniki, ...  49.998719  19.893879  \n",
       "147  24, Wrocławska, Nowy Kleparz, Krowodrza, Krakó...  50.075423  19.929980  \n",
       "148  Stadion Cracovii im. Józefa Piłsudskiego, 1, J...  50.057856  19.920525  \n",
       "\n",
       "[149 rows x 5 columns]"
      ],
      "text/html": [
       "<div>\n",
       "<style scoped>\n",
       "    .dataframe tbody tr th:only-of-type {\n",
       "        vertical-align: middle;\n",
       "    }\n",
       "\n",
       "    .dataframe tbody tr th {\n",
       "        vertical-align: top;\n",
       "    }\n",
       "\n",
       "    .dataframe thead th {\n",
       "        text-align: right;\n",
       "    }\n",
       "</style>\n",
       "<table border=\"1\" class=\"dataframe\">\n",
       "  <thead>\n",
       "    <tr style=\"text-align: right;\">\n",
       "      <th></th>\n",
       "      <th>address</th>\n",
       "      <th>manipulated address</th>\n",
       "      <th>location</th>\n",
       "      <th>latitude</th>\n",
       "      <th>longitude</th>\n",
       "    </tr>\n",
       "  </thead>\n",
       "  <tbody>\n",
       "    <tr>\n",
       "      <th>0</th>\n",
       "      <td>Królewska / Obopólna | 2, Łobzów, Krowodrza, K...</td>\n",
       "      <td>Obopólna 2, Kraków, małopolskie</td>\n",
       "      <td>Obopólna, Łobzów, Krowodrza, Kraków, województ...</td>\n",
       "      <td>50.072198</td>\n",
       "      <td>19.906410</td>\n",
       "    </tr>\n",
       "    <tr>\n",
       "      <th>1</th>\n",
       "      <td>Kalwaryjskiej | Tramwaj, Stare Podgórze, Podgó...</td>\n",
       "      <td>Kalwaryjska, Kraków, małopolskie</td>\n",
       "      <td>Kalwaryjska, Stare Podgórze, Podgórze, Kraków,...</td>\n",
       "      <td>50.043826</td>\n",
       "      <td>19.947108</td>\n",
       "    </tr>\n",
       "    <tr>\n",
       "      <th>2</th>\n",
       "      <td>Osiedle Kliny Borkowskie, Dębniki, Kraków, mał...</td>\n",
       "      <td>Kliny Borkowskie, Kraków, małopolskie</td>\n",
       "      <td>None</td>\n",
       "      <td>NaN</td>\n",
       "      <td>NaN</td>\n",
       "    </tr>\n",
       "    <tr>\n",
       "      <th>3</th>\n",
       "      <td>os. Wolfganga Amadeusa Mozarta, Prądnik Biały,...</td>\n",
       "      <td>Osiedle Mozarta</td>\n",
       "      <td>Osiedle Wolfganga Amadeusza Mozarta, Prądnik B...</td>\n",
       "      <td>50.094021</td>\n",
       "      <td>19.953446</td>\n",
       "    </tr>\n",
       "    <tr>\n",
       "      <th>4</th>\n",
       "      <td>Turka/ Apartament/Podgórze, Płaszów, Podgórze,...</td>\n",
       "      <td>Turka, Kraków, małopolskie</td>\n",
       "      <td>Księdza Wincentego Turka, Płaszów, Podgórze, K...</td>\n",
       "      <td>50.047688</td>\n",
       "      <td>19.987734</td>\n",
       "    </tr>\n",
       "    <tr>\n",
       "      <th>...</th>\n",
       "      <td>...</td>\n",
       "      <td>...</td>\n",
       "      <td>...</td>\n",
       "      <td>...</td>\n",
       "      <td>...</td>\n",
       "    </tr>\n",
       "    <tr>\n",
       "      <th>144</th>\n",
       "      <td>Kątowa| Cena Netto, Przedmieście Warszawskie, ...</td>\n",
       "      <td>Kątowa, Kraków, małopolskie</td>\n",
       "      <td>Kątowa, Przedmieście Warszawskie, Stare Miasto...</td>\n",
       "      <td>50.073481</td>\n",
       "      <td>19.946857</td>\n",
       "    </tr>\n",
       "    <tr>\n",
       "      <th>145</th>\n",
       "      <td>Morcinka piwnica, Kantorowice, Wzgórza Krzesła...</td>\n",
       "      <td>Morcinka, Kraków, małopolskie</td>\n",
       "      <td>Gustawa Morcinka, Zesławice, Wzgórza Krzesławi...</td>\n",
       "      <td>50.106026</td>\n",
       "      <td>20.045057</td>\n",
       "    </tr>\n",
       "    <tr>\n",
       "      <th>146</th>\n",
       "      <td>Małysiaka(Kliny-Zacisze, Kobierzyn, Dębniki, K...</td>\n",
       "      <td>Małysiaka, Kraków, małopolskie</td>\n",
       "      <td>Biskupa Albina Małysiaka, Kobierzyn, Dębniki, ...</td>\n",
       "      <td>49.998719</td>\n",
       "      <td>19.893879</td>\n",
       "    </tr>\n",
       "    <tr>\n",
       "      <th>147</th>\n",
       "      <td>Wrocławskiej 24, Krowodrza, Krowodrza, Kraków,...</td>\n",
       "      <td>Wrocławska 24, Kraków, małopolskie</td>\n",
       "      <td>24, Wrocławska, Nowy Kleparz, Krowodrza, Krakó...</td>\n",
       "      <td>50.075423</td>\n",
       "      <td>19.929980</td>\n",
       "    </tr>\n",
       "    <tr>\n",
       "      <th>148</th>\n",
       "      <td>marszałka JózefaPiłsudskiego, Wawel, Kraków, m...</td>\n",
       "      <td>Józefa Piłsudskiego, Kraków, małopolskie</td>\n",
       "      <td>Stadion Cracovii im. Józefa Piłsudskiego, 1, J...</td>\n",
       "      <td>50.057856</td>\n",
       "      <td>19.920525</td>\n",
       "    </tr>\n",
       "  </tbody>\n",
       "</table>\n",
       "<p>149 rows × 5 columns</p>\n",
       "</div>"
      ]
     },
     "execution_count": 474,
     "metadata": {},
     "output_type": "execute_result"
    }
   ],
   "execution_count": 474
  },
  {
   "metadata": {},
   "cell_type": "code",
   "outputs": [],
   "execution_count": null,
   "source": "na_location[na_location['location'].isna()]"
  },
  {
   "metadata": {},
   "cell_type": "code",
   "outputs": [
    {
     "name": "stdout",
     "output_type": "stream",
     "text": [
      "<class 'pandas.core.frame.DataFrame'>\n",
      "Index: 16262 entries, 13041 to 8065\n",
      "Data columns (total 14 columns):\n",
      " #   Column                               Non-Null Count  Dtype  \n",
      "---  ------                               --------------  -----  \n",
      " 0   url                                  16262 non-null  object \n",
      " 1   name/title                           16262 non-null  object \n",
      " 2   address                              16262 non-null  object \n",
      " 3   price                                16262 non-null  float64\n",
      " 4   area                                 16262 non-null  float64\n",
      " 5   price-per-area                       16262 non-null  float64\n",
      " 6   floor/store                          16262 non-null  int32  \n",
      " 7   no of floors/stores in the building  16262 non-null  int32  \n",
      " 8   no of rooms                          16262 non-null  int32  \n",
      " 9   year of construction                 14535 non-null  float64\n",
      " 10  parking space                        16262 non-null  bool   \n",
      " 11  market                               16262 non-null  object \n",
      " 12  form of ownership                    14099 non-null  object \n",
      " 13  is_duplicate                         16262 non-null  bool   \n",
      "dtypes: bool(2), float64(4), int32(3), object(5)\n",
      "memory usage: 1.5+ MB\n"
     ]
    }
   ],
   "execution_count": 214,
   "source": "df_filtered_sorted_apartments.info()"
  }
 ],
 "metadata": {
  "kernelspec": {
   "display_name": "conda-env",
   "language": "python",
   "name": "python3"
  },
  "language_info": {
   "codemirror_mode": {
    "name": "ipython",
    "version": 3
   },
   "file_extension": ".py",
   "mimetype": "text/x-python",
   "name": "python",
   "nbconvert_exporter": "python",
   "pygments_lexer": "ipython3",
   "version": "3.12.1"
  }
 },
 "nbformat": 4,
 "nbformat_minor": 2
}
