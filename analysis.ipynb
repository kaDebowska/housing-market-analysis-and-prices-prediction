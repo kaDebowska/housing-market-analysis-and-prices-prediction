{
 "cells": [
  {
   "cell_type": "markdown",
   "metadata": {
    "collapsed": false
   },
   "source": [
    "# TO-DO STEPS PISANE NA PIERWSZYCH ZAJĘCIACH\n",
    "\n",
    "Data Scraping:\n",
    "\n",
    "\n",
    "## Data Processing (dla obu zbiorów danych)\n",
    "1. Ułożenie danych w kolumnach.\n",
    "2. Miejsca zerowe.\n",
    "3. Feature Engineering. (kolumna koordynaty geograficzne, \n",
    "\n",
    "\n",
    "## Data analysis. (+potencjalnie Streamlit)\n",
    "1. Prócz metrażu czynniki najbardziej wpływające na cenę.\n",
    "2. Analiza ceny do piętra\n",
    "3. Analiza odległości geograficznej od centrum\n",
    "4. Analiza parking/balon\n",
    "5. Analiza ceny/trendów w konkretnych dzielniach.\n",
    "\n",
    "\n",
    "# Jeśli model to.\n",
    "5. Onehotencoding.\n",
    "6. Train/Test\n",
    "7. Model.\n",
    "\n",
    "Bonus points:\n",
    "    wizualizacja geograficzna (streamlit - prettymap/mapbox)\n",
    "    stosunek ilości balkonów w mieszkaniu na dzielnice (balkon rate)\n",
    "    wpływ i częstotliwość '!' w nazwie oferty i ich zestawienie z ceną\n",
    "    \n",
    "\n",
    "# TO-DO 16.04.2024\n",
    "\n",
    "1. Docelowo proponuję, żeby pierwszy etap (pisany w jednym notatniku jupiter) zamknął się po data preparation i data engeenering, po tym etapie zapiszemy dane do plików do dalszych analiz (wielkrotne pobieranie koordynatów może być bolesne). Aby to osiągnąć trzeba:\n",
    "  - Uspójnić notatniki (na razie jeszcze nie dane :P), tak, byśmy pracowali na jednym.\n",
    "  - Dodać na początek chaina uzupełnienie zbiorów o nowe dane (można wyciąć fragmenty z utils) - tam, gdzie będziemy analizować dane statycznie i/lub przestrzennie (pierwotny plan).\n",
    "  - Jeśli idzie o analize w szeregach czasowych, to trochę inne para kaloszy, można zostawić na później -- chyba, że ktorś będzie chciał się tym zająć.\n",
    "  - Uważam, że trzeba wybrać, które analizy przeprowadzamy na uspójnionych z obu zbiorów danych, a które osobno na zbiorach - otodom ma więcej cech, nieruchomości online (chyba) bardziej rozróżnia pewne cechy (np. te garaże) - Do decyzji.\n",
    "  - Z obu zbiorów usunąć \"duplikaty\" - różne ogłoszenia tego samego mieszkania. Tu trzeba będzie przyjąć jakąś heurystykę.\n",
    "  - Uzupełnić koordynaty\n",
    "  - Na ich podstawie dodać kolumnę z odległością od wyróżnionego miejsca (centrum) w metrach.\n",
    "  - Zbiory zapisać\n",
    "\n",
    "\n",
    "  - Jeśli idzie o szeregi czasowe, to IMO data i cena w badanych punktach czasowych starczy (cokolwiek innego się tam jeszcze mogło zmieniać). Będzie trzeba wybrać tylko te oferty, które zmieniały się w tej kolumnie.\n",
    "\n",
    "2. Etap analiz:\n",
    "- Sprawdzić, co z labów Czecha jest do wykorzystania, bo mam przeczycie, że coś z tego, co u nie go robiliśmy się przyda - PCA chociażby i ten (dual) scatterplot.\n",
    "- Z drugich labów Czecha ten pearson corelation, to macierz korelacji, którą i tak planowaliśmy.\n",
    "- Na SISI będziemy trenować model drzew decyzyjnych, więc można go tu dodać też.\n",
    "- Trzeba przejrzeć, co jeszcze planowaliśmy i co jest w \"literaturze\" (bo znalzałem coś takiego), co jeszcze można przeprowadzić.\n",
    "\n",
    "\n",
    "3. Wizualizacja:\n",
    "Poza oczywstymi wykresikami, tabelami itp, ta heatmapa (oraz heatmapa+, jak ze stramlita) wydaje mi się fajnym bajerem. Można spróbować się podjąć. W oógle wydaje mi się, że w tym aspekcie geograficznym można będzie fajnie nie tylko przeprowadzać analizy, ale też pokazywać rzeczy.\n",
    "\n",
    "Ważna rzecz to dokumentowanie prac (albo w readme, albo zacząć odrębny dokument) nawet, gdy nic nie wychodzi.\n",
    "\n",
    "\n",
    "To są oczywiście moje wstępne i ogólne pomysły i jeśli macie inne, to śmiało wędrujcie w te strony, które Wam się wydadzą sensowne i słuszne.\n",
    "\n",
    "    "
   ]
  },
  {
   "metadata": {},
   "cell_type": "markdown",
   "source": "## Załadowanie wyekstrahowanych danych"
  },
  {
   "cell_type": "code",
   "metadata": {
    "ExecuteTime": {
     "end_time": "2024-04-21T23:36:28.618045Z",
     "start_time": "2024-04-21T23:36:28.614639Z"
    }
   },
   "source": [
    "import numpy as np\n",
    "import pandas as pd"
   ],
   "outputs": [],
   "execution_count": 301
  },
  {
   "cell_type": "code",
   "metadata": {
    "ExecuteTime": {
     "end_time": "2024-04-21T23:36:31.666567Z",
     "start_time": "2024-04-21T23:36:31.410601Z"
    }
   },
   "source": [
    "df_otodom = pd.read_csv('datasets/otodom_dataset_raw.csv')\n",
    "df_2024_03_25_otodom_new_data = pd.read_csv('datasets/timestamps/2024-03-25-otodom-new_data.csv')\n",
    "df_2024_03_25_otodom_updated_data = pd.read_csv('datasets/timestamps/2024-03-25-otodom-updated_data.csv')\n",
    "df_2024_04_07_otodom_new_data = pd.read_csv('datasets/timestamps/2024-04-07-otodom-new_data.csv')\n",
    "df_2024_04_07_otodom_updated_data = pd.read_csv('datasets/timestamps/2024-04-07-otodom-updated_data.csv')\n",
    "df_2024_04_21_otodom_new_data = pd.read_csv('datasets/timestamps/2024-04-21-otodom-new_data.csv')\n",
    "df_2024_04_21_otodom_updated_data = pd.read_csv('datasets/timestamps/2024-04-21-otodom-updated_data.csv')"
   ],
   "outputs": [],
   "execution_count": 302
  },
  {
   "metadata": {
    "ExecuteTime": {
     "end_time": "2024-04-21T23:36:31.676843Z",
     "start_time": "2024-04-21T23:36:31.667560Z"
    }
   },
   "cell_type": "code",
   "source": [
    "def update_dataframe(oldest_df, updated_df, new_df):\n",
    "    def set_url_as_index(df):\n",
    "        if 'url' in df.columns:\n",
    "            df.set_index('url', inplace=True)\n",
    "        else:\n",
    "            raise ValueError(\"URL column not found. Please check the column names.\")\n",
    "    try:\n",
    "        set_url_as_index(oldest_df)\n",
    "        set_url_as_index(updated_df)\n",
    "        set_url_as_index(new_df)\n",
    "    except ValueError as e:\n",
    "        print(e)\n",
    "        return None\n",
    "    \n",
    "    oldest_df.update(updated_df)\n",
    "    merged_df = pd.concat([oldest_df, new_df], axis=0)\n",
    "    merged_df.reset_index(inplace=True)\n",
    "\n",
    "    return merged_df"
   ],
   "outputs": [],
   "execution_count": 303
  },
  {
   "metadata": {
    "ExecuteTime": {
     "end_time": "2024-04-21T23:36:32.046885Z",
     "start_time": "2024-04-21T23:36:31.801834Z"
    }
   },
   "cell_type": "code",
   "source": [
    "df_otodom = update_dataframe(df_otodom, df_2024_03_25_otodom_updated_data, df_2024_03_25_otodom_new_data)\n",
    "df_otodom = update_dataframe(df_otodom, df_2024_04_07_otodom_updated_data, df_2024_04_07_otodom_new_data)\n",
    "df_otodom = update_dataframe(df_otodom, df_2024_04_21_otodom_updated_data, df_2024_04_21_otodom_new_data)"
   ],
   "outputs": [],
   "execution_count": 304
  },
  {
   "cell_type": "code",
   "metadata": {
    "ExecuteTime": {
     "end_time": "2024-04-21T23:36:32.079408Z",
     "start_time": "2024-04-21T23:36:32.048882Z"
    }
   },
   "source": "df_otodom.info()",
   "outputs": [
    {
     "name": "stdout",
     "output_type": "stream",
     "text": [
      "<class 'pandas.core.frame.DataFrame'>\n",
      "RangeIndex: 12672 entries, 0 to 12671\n",
      "Data columns (total 20 columns):\n",
      " #   Column                Non-Null Count  Dtype \n",
      "---  ------                --------------  ----- \n",
      " 0   url                   12672 non-null  object\n",
      " 1   name/title            12672 non-null  object\n",
      " 2   address               12672 non-null  object\n",
      " 3   price                 12672 non-null  object\n",
      " 4   area                  12672 non-null  object\n",
      " 5   price-per-area        12092 non-null  object\n",
      " 6   floor/store           12433 non-null  object\n",
      " 7   no of rooms           12671 non-null  object\n",
      " 8   year of construction  11304 non-null  object\n",
      " 9   parking space         7625 non-null   object\n",
      " 10  market                11304 non-null  object\n",
      " 11  form of ownership     9617 non-null   object\n",
      " 12  condition             10077 non-null  object\n",
      " 13  rent                  5844 non-null   object\n",
      " 14  heating               9244 non-null   object\n",
      " 15  advertiser type       11304 non-null  object\n",
      " 16  elevator              11304 non-null  object\n",
      " 17  outdoor area          9508 non-null   object\n",
      " 18  building type         11304 non-null  object\n",
      " 19  building material     11304 non-null  object\n",
      "dtypes: object(20)\n",
      "memory usage: 1.9+ MB\n"
     ]
    }
   ],
   "execution_count": 305
  },
  {
   "metadata": {},
   "cell_type": "markdown",
   "source": "## Przygotowanie danych"
  },
  {
   "metadata": {},
   "cell_type": "markdown",
   "source": "### Cena"
  },
  {
   "metadata": {},
   "cell_type": "markdown",
   "source": "#### Usunięcie brakujących danych, uspójnienie oraz zmiana na typy liczbowe"
  },
  {
   "metadata": {
    "ExecuteTime": {
     "end_time": "2024-04-21T23:36:32.389397Z",
     "start_time": "2024-04-21T23:36:32.372396Z"
    }
   },
   "cell_type": "code",
   "source": [
    "# Wierszy bez ceny\n",
    "no_price = df_otodom[~df_otodom['price'].str.contains('\\d')]\n",
    "no_price['price'].count()"
   ],
   "outputs": [
    {
     "data": {
      "text/plain": [
       "583"
      ]
     },
     "execution_count": 306,
     "metadata": {},
     "output_type": "execute_result"
    }
   ],
   "execution_count": 306
  },
  {
   "metadata": {
    "ExecuteTime": {
     "end_time": "2024-04-21T23:36:32.582916Z",
     "start_time": "2024-04-21T23:36:32.569396Z"
    }
   },
   "cell_type": "code",
   "source": [
    "# Usunięcie wierszy z brakującą ceną (no_price)\n",
    "df_otodom.drop(no_price.index, inplace=True)\n",
    "df_otodom['price'].count()"
   ],
   "outputs": [
    {
     "data": {
      "text/plain": [
       "12089"
      ]
     },
     "execution_count": 307,
     "metadata": {},
     "output_type": "execute_result"
    }
   ],
   "execution_count": 307
  },
  {
   "cell_type": "markdown",
   "metadata": {},
   "source": "#### Ceny podane w innej walucie"
  },
  {
   "cell_type": "code",
   "metadata": {
    "ExecuteTime": {
     "end_time": "2024-04-21T23:36:32.994179Z",
     "start_time": "2024-04-21T23:36:32.980908Z"
    }
   },
   "source": [
    "# Wiersze w EUR\n",
    "different_currency = df_otodom[~df_otodom['price'].str.contains('zł', na=False)].copy()\n",
    "different_currency['price'].count()"
   ],
   "outputs": [
    {
     "data": {
      "text/plain": [
       "8"
      ]
     },
     "execution_count": 308,
     "metadata": {},
     "output_type": "execute_result"
    }
   ],
   "execution_count": 308
  },
  {
   "metadata": {
    "ExecuteTime": {
     "end_time": "2024-04-21T23:36:33.163154Z",
     "start_time": "2024-04-21T23:36:33.156154Z"
    }
   },
   "cell_type": "code",
   "source": [
    "different_currency['price-per-area'] = different_currency['price-per-area'].str.replace(' ', '').str.extract(r'(\\d+\\.\\d+|\\d+)').astype(float)\n",
    "different_currency['area'] = different_currency['area'].str.replace(',', '.').str.extract(r'(\\d+\\.\\d+|\\d+)').astype(float)"
   ],
   "outputs": [],
   "execution_count": 309
  },
  {
   "metadata": {
    "ExecuteTime": {
     "end_time": "2024-04-21T23:36:33.516788Z",
     "start_time": "2024-04-21T23:36:33.497154Z"
    }
   },
   "cell_type": "code",
   "source": "df_otodom.loc[different_currency.index]",
   "outputs": [
    {
     "data": {
      "text/plain": [
       "                                                    url  \\\n",
       "1265  https://www.otodom.pl/pl/oferta/penthouse-232m...   \n",
       "2056  https://www.otodom.pl/pl/oferta/penthouse-w-po...   \n",
       "3144  https://www.otodom.pl/pl/oferta/5-pokoi-taras-...   \n",
       "3977  https://www.otodom.pl/pl/oferta/chorwacja-spli...   \n",
       "4722  https://www.otodom.pl/pl/oferta/penthouse-tara...   \n",
       "4908  https://www.otodom.pl/pl/oferta/penthouse-w-od...   \n",
       "4995  https://www.otodom.pl/pl/oferta/penthouse-star...   \n",
       "9359  https://www.otodom.pl/pl/oferta/penthouse-w-od...   \n",
       "\n",
       "                                             name/title  \\\n",
       "1265  Penthouse 232m w zabytkowej kamienicy Stare Mi...   \n",
       "2056                 Penthouse w pobliżu Rynku Głównego   \n",
       "3144  5 pokoi | Taras 77m2 | Komórka | Centrum | Mar...   \n",
       "3977               Chorwacja Split luksusowy apartament   \n",
       "4722     Penthouse tarasem na dachu w kamienicy z windą   \n",
       "4908  Penthouse w odrestaurowanej kamienicy - taras ...   \n",
       "4995      Penthouse Stare Miasto II Poziomy. Taras 70m2   \n",
       "9359  Penthouse w odrestaurowanej kamienicy - taras ...   \n",
       "\n",
       "                                                address          price  \\\n",
       "1265      Nowy Świat, Stare Miasto, Kraków, małopolskie  1 149 999 EUR   \n",
       "2056  marszałka JózefaPiłsudskiego, Nowy Świat, Star...  1 150 000 EUR   \n",
       "3144  ul. marsz. Józefa Piłsudskiego, Nowy Świat, St...  1 149 999 EUR   \n",
       "3977          Krowodrza, Krowodrza, Kraków, małopolskie    585 280 EUR   \n",
       "4722  Marszałka Józefa Piłsudskiego, Nowy Świat, Sta...  1 150 000 EUR   \n",
       "4908  ul. marsz. Józefa Piłsudskiego, Piasek, Stare ...  1 150 000 EUR   \n",
       "4995  Marszałka Józefa Piłsudskiego, Nowy Świat, Sta...  1 150 000 EUR   \n",
       "9359  ul. marsz. Józefa Piłsudskiego, Piasek, Stare ...  1 150 000 EUR   \n",
       "\n",
       "          area price-per-area floor/store no of rooms year of construction  \\\n",
       "1265  232,1 m²   21 368 zł/m²         4/4           5                 1906   \n",
       "2056    232 m²   21 377 zł/m²         4/5           9                 1906   \n",
       "3144  232,1 m²   21 368 zł/m²         4/4           5                 1908   \n",
       "3977  91,45 m²   27 601 zł/m²         3/4           4                 2025   \n",
       "4722  228,7 m²   21 686 zł/m²         4/5           5                 1906   \n",
       "4908    228 m²   21 896 zł/m²         4/5         5.0                 1906   \n",
       "4995  232,1 m²   21 368 zł/m²         4/5           5                 1906   \n",
       "9359    228 m²   21 752 zł/m²         4/5           5                 1906   \n",
       "\n",
       "                 parking space     market form of ownership        condition  \\\n",
       "1265                       NaN     wtórny    pełna własność  do zamieszkania   \n",
       "2056                       NaN     wtórny    pełna własność  do zamieszkania   \n",
       "3144  garaż/miejsce parkingowe     wtórny    pełna własność  do zamieszkania   \n",
       "3977  garaż/miejsce parkingowe  pierwotny    pełna własność  do zamieszkania   \n",
       "4722                       NaN     wtórny    pełna własność  do zamieszkania   \n",
       "4908  garaż/miejsce parkingowe     wtórny    pełna własność  do zamieszkania   \n",
       "4995                       NaN     wtórny               NaN              NaN   \n",
       "9359  garaż/miejsce parkingowe     wtórny    pełna własność  do zamieszkania   \n",
       "\n",
       "          rent      heating      advertiser type elevator   outdoor area  \\\n",
       "1265       NaN       gazowe  biuro nieruchomości      nie            NaN   \n",
       "2056  1 700 zł       gazowe  biuro nieruchomości      tak  balkon, taras   \n",
       "3144    850 zł       gazowe  biuro nieruchomości      tak  taras, balkon   \n",
       "3977   100 EUR  elektryczne             prywatny      tak  balkon, taras   \n",
       "4722       NaN          NaN  biuro nieruchomości      tak  balkon, taras   \n",
       "4908    220 zł       gazowe  biuro nieruchomości      tak  taras, balkon   \n",
       "4995       NaN          NaN  biuro nieruchomości      nie            NaN   \n",
       "9359    220 zł       gazowe  biuro nieruchomości      tak  taras, balkon   \n",
       "\n",
       "        building type building material  \n",
       "1265        kamienica             cegła  \n",
       "2056        kamienica   brak informacji  \n",
       "3144        kamienica             cegła  \n",
       "3977  apartamentowiec           silikat  \n",
       "4722        kamienica   brak informacji  \n",
       "4908        kamienica             cegła  \n",
       "4995  brak informacji   brak informacji  \n",
       "9359        kamienica             cegła  "
      ],
      "text/html": [
       "<div>\n",
       "<style scoped>\n",
       "    .dataframe tbody tr th:only-of-type {\n",
       "        vertical-align: middle;\n",
       "    }\n",
       "\n",
       "    .dataframe tbody tr th {\n",
       "        vertical-align: top;\n",
       "    }\n",
       "\n",
       "    .dataframe thead th {\n",
       "        text-align: right;\n",
       "    }\n",
       "</style>\n",
       "<table border=\"1\" class=\"dataframe\">\n",
       "  <thead>\n",
       "    <tr style=\"text-align: right;\">\n",
       "      <th></th>\n",
       "      <th>url</th>\n",
       "      <th>name/title</th>\n",
       "      <th>address</th>\n",
       "      <th>price</th>\n",
       "      <th>area</th>\n",
       "      <th>price-per-area</th>\n",
       "      <th>floor/store</th>\n",
       "      <th>no of rooms</th>\n",
       "      <th>year of construction</th>\n",
       "      <th>parking space</th>\n",
       "      <th>market</th>\n",
       "      <th>form of ownership</th>\n",
       "      <th>condition</th>\n",
       "      <th>rent</th>\n",
       "      <th>heating</th>\n",
       "      <th>advertiser type</th>\n",
       "      <th>elevator</th>\n",
       "      <th>outdoor area</th>\n",
       "      <th>building type</th>\n",
       "      <th>building material</th>\n",
       "    </tr>\n",
       "  </thead>\n",
       "  <tbody>\n",
       "    <tr>\n",
       "      <th>1265</th>\n",
       "      <td>https://www.otodom.pl/pl/oferta/penthouse-232m...</td>\n",
       "      <td>Penthouse 232m w zabytkowej kamienicy Stare Mi...</td>\n",
       "      <td>Nowy Świat, Stare Miasto, Kraków, małopolskie</td>\n",
       "      <td>1 149 999 EUR</td>\n",
       "      <td>232,1 m²</td>\n",
       "      <td>21 368 zł/m²</td>\n",
       "      <td>4/4</td>\n",
       "      <td>5</td>\n",
       "      <td>1906</td>\n",
       "      <td>NaN</td>\n",
       "      <td>wtórny</td>\n",
       "      <td>pełna własność</td>\n",
       "      <td>do zamieszkania</td>\n",
       "      <td>NaN</td>\n",
       "      <td>gazowe</td>\n",
       "      <td>biuro nieruchomości</td>\n",
       "      <td>nie</td>\n",
       "      <td>NaN</td>\n",
       "      <td>kamienica</td>\n",
       "      <td>cegła</td>\n",
       "    </tr>\n",
       "    <tr>\n",
       "      <th>2056</th>\n",
       "      <td>https://www.otodom.pl/pl/oferta/penthouse-w-po...</td>\n",
       "      <td>Penthouse w pobliżu Rynku Głównego</td>\n",
       "      <td>marszałka JózefaPiłsudskiego, Nowy Świat, Star...</td>\n",
       "      <td>1 150 000 EUR</td>\n",
       "      <td>232 m²</td>\n",
       "      <td>21 377 zł/m²</td>\n",
       "      <td>4/5</td>\n",
       "      <td>9</td>\n",
       "      <td>1906</td>\n",
       "      <td>NaN</td>\n",
       "      <td>wtórny</td>\n",
       "      <td>pełna własność</td>\n",
       "      <td>do zamieszkania</td>\n",
       "      <td>1 700 zł</td>\n",
       "      <td>gazowe</td>\n",
       "      <td>biuro nieruchomości</td>\n",
       "      <td>tak</td>\n",
       "      <td>balkon, taras</td>\n",
       "      <td>kamienica</td>\n",
       "      <td>brak informacji</td>\n",
       "    </tr>\n",
       "    <tr>\n",
       "      <th>3144</th>\n",
       "      <td>https://www.otodom.pl/pl/oferta/5-pokoi-taras-...</td>\n",
       "      <td>5 pokoi | Taras 77m2 | Komórka | Centrum | Mar...</td>\n",
       "      <td>ul. marsz. Józefa Piłsudskiego, Nowy Świat, St...</td>\n",
       "      <td>1 149 999 EUR</td>\n",
       "      <td>232,1 m²</td>\n",
       "      <td>21 368 zł/m²</td>\n",
       "      <td>4/4</td>\n",
       "      <td>5</td>\n",
       "      <td>1908</td>\n",
       "      <td>garaż/miejsce parkingowe</td>\n",
       "      <td>wtórny</td>\n",
       "      <td>pełna własność</td>\n",
       "      <td>do zamieszkania</td>\n",
       "      <td>850 zł</td>\n",
       "      <td>gazowe</td>\n",
       "      <td>biuro nieruchomości</td>\n",
       "      <td>tak</td>\n",
       "      <td>taras, balkon</td>\n",
       "      <td>kamienica</td>\n",
       "      <td>cegła</td>\n",
       "    </tr>\n",
       "    <tr>\n",
       "      <th>3977</th>\n",
       "      <td>https://www.otodom.pl/pl/oferta/chorwacja-spli...</td>\n",
       "      <td>Chorwacja Split luksusowy apartament</td>\n",
       "      <td>Krowodrza, Krowodrza, Kraków, małopolskie</td>\n",
       "      <td>585 280 EUR</td>\n",
       "      <td>91,45 m²</td>\n",
       "      <td>27 601 zł/m²</td>\n",
       "      <td>3/4</td>\n",
       "      <td>4</td>\n",
       "      <td>2025</td>\n",
       "      <td>garaż/miejsce parkingowe</td>\n",
       "      <td>pierwotny</td>\n",
       "      <td>pełna własność</td>\n",
       "      <td>do zamieszkania</td>\n",
       "      <td>100 EUR</td>\n",
       "      <td>elektryczne</td>\n",
       "      <td>prywatny</td>\n",
       "      <td>tak</td>\n",
       "      <td>balkon, taras</td>\n",
       "      <td>apartamentowiec</td>\n",
       "      <td>silikat</td>\n",
       "    </tr>\n",
       "    <tr>\n",
       "      <th>4722</th>\n",
       "      <td>https://www.otodom.pl/pl/oferta/penthouse-tara...</td>\n",
       "      <td>Penthouse tarasem na dachu w kamienicy z windą</td>\n",
       "      <td>Marszałka Józefa Piłsudskiego, Nowy Świat, Sta...</td>\n",
       "      <td>1 150 000 EUR</td>\n",
       "      <td>228,7 m²</td>\n",
       "      <td>21 686 zł/m²</td>\n",
       "      <td>4/5</td>\n",
       "      <td>5</td>\n",
       "      <td>1906</td>\n",
       "      <td>NaN</td>\n",
       "      <td>wtórny</td>\n",
       "      <td>pełna własność</td>\n",
       "      <td>do zamieszkania</td>\n",
       "      <td>NaN</td>\n",
       "      <td>NaN</td>\n",
       "      <td>biuro nieruchomości</td>\n",
       "      <td>tak</td>\n",
       "      <td>balkon, taras</td>\n",
       "      <td>kamienica</td>\n",
       "      <td>brak informacji</td>\n",
       "    </tr>\n",
       "    <tr>\n",
       "      <th>4908</th>\n",
       "      <td>https://www.otodom.pl/pl/oferta/penthouse-w-od...</td>\n",
       "      <td>Penthouse w odrestaurowanej kamienicy - taras ...</td>\n",
       "      <td>ul. marsz. Józefa Piłsudskiego, Piasek, Stare ...</td>\n",
       "      <td>1 150 000 EUR</td>\n",
       "      <td>228 m²</td>\n",
       "      <td>21 896 zł/m²</td>\n",
       "      <td>4/5</td>\n",
       "      <td>5.0</td>\n",
       "      <td>1906</td>\n",
       "      <td>garaż/miejsce parkingowe</td>\n",
       "      <td>wtórny</td>\n",
       "      <td>pełna własność</td>\n",
       "      <td>do zamieszkania</td>\n",
       "      <td>220 zł</td>\n",
       "      <td>gazowe</td>\n",
       "      <td>biuro nieruchomości</td>\n",
       "      <td>tak</td>\n",
       "      <td>taras, balkon</td>\n",
       "      <td>kamienica</td>\n",
       "      <td>cegła</td>\n",
       "    </tr>\n",
       "    <tr>\n",
       "      <th>4995</th>\n",
       "      <td>https://www.otodom.pl/pl/oferta/penthouse-star...</td>\n",
       "      <td>Penthouse Stare Miasto II Poziomy. Taras 70m2</td>\n",
       "      <td>Marszałka Józefa Piłsudskiego, Nowy Świat, Sta...</td>\n",
       "      <td>1 150 000 EUR</td>\n",
       "      <td>232,1 m²</td>\n",
       "      <td>21 368 zł/m²</td>\n",
       "      <td>4/5</td>\n",
       "      <td>5</td>\n",
       "      <td>1906</td>\n",
       "      <td>NaN</td>\n",
       "      <td>wtórny</td>\n",
       "      <td>NaN</td>\n",
       "      <td>NaN</td>\n",
       "      <td>NaN</td>\n",
       "      <td>NaN</td>\n",
       "      <td>biuro nieruchomości</td>\n",
       "      <td>nie</td>\n",
       "      <td>NaN</td>\n",
       "      <td>brak informacji</td>\n",
       "      <td>brak informacji</td>\n",
       "    </tr>\n",
       "    <tr>\n",
       "      <th>9359</th>\n",
       "      <td>https://www.otodom.pl/pl/oferta/penthouse-w-od...</td>\n",
       "      <td>Penthouse w odrestaurowanej kamienicy - taras ...</td>\n",
       "      <td>ul. marsz. Józefa Piłsudskiego, Piasek, Stare ...</td>\n",
       "      <td>1 150 000 EUR</td>\n",
       "      <td>228 m²</td>\n",
       "      <td>21 752 zł/m²</td>\n",
       "      <td>4/5</td>\n",
       "      <td>5</td>\n",
       "      <td>1906</td>\n",
       "      <td>garaż/miejsce parkingowe</td>\n",
       "      <td>wtórny</td>\n",
       "      <td>pełna własność</td>\n",
       "      <td>do zamieszkania</td>\n",
       "      <td>220 zł</td>\n",
       "      <td>gazowe</td>\n",
       "      <td>biuro nieruchomości</td>\n",
       "      <td>tak</td>\n",
       "      <td>taras, balkon</td>\n",
       "      <td>kamienica</td>\n",
       "      <td>cegła</td>\n",
       "    </tr>\n",
       "  </tbody>\n",
       "</table>\n",
       "</div>"
      ]
     },
     "execution_count": 310,
     "metadata": {},
     "output_type": "execute_result"
    }
   ],
   "execution_count": 310
  },
  {
   "metadata": {
    "ExecuteTime": {
     "end_time": "2024-04-21T23:36:33.774300Z",
     "start_time": "2024-04-21T23:36:33.735301Z"
    }
   },
   "cell_type": "code",
   "source": [
    "# zamiana cen na wartości liczbowe\n",
    "df_otodom['price'] = df_otodom['price'].str.replace(' ', '').str.replace(',', '.')\n",
    "df_otodom['price'] = df_otodom['price'].str.extract('(\\d+\\.\\d+|\\d+)').astype(float)"
   ],
   "outputs": [],
   "execution_count": 311
  },
  {
   "cell_type": "code",
   "metadata": {
    "ExecuteTime": {
     "end_time": "2024-04-21T23:36:34.076914Z",
     "start_time": "2024-04-21T23:36:34.067337Z"
    }
   },
   "source": [
    "# przeliczanie ceny na podstawie metrażu i ceny za metr podanej w PLN\n",
    "different_currency.loc[:, 'price'] = (different_currency['price-per-area'] * different_currency['area'])\n",
    "df_otodom.loc[different_currency.index, 'price'] = different_currency['price'].astype(float)\n",
    "df_otodom.loc[different_currency.index, 'price']"
   ],
   "outputs": [
    {
     "data": {
      "text/plain": [
       "1265    4959512.80\n",
       "2056    4959464.00\n",
       "3144    4959512.80\n",
       "3977    2524111.45\n",
       "4722    4959588.20\n",
       "4908    4992288.00\n",
       "4995    4959512.80\n",
       "9359    4959456.00\n",
       "Name: price, dtype: float64"
      ]
     },
     "execution_count": 312,
     "metadata": {},
     "output_type": "execute_result"
    }
   ],
   "execution_count": 312
  },
  {
   "metadata": {
    "ExecuteTime": {
     "end_time": "2024-04-21T23:36:34.435778Z",
     "start_time": "2024-04-21T23:36:34.426912Z"
    }
   },
   "cell_type": "code",
   "source": [
    "# Usunięcie złapanego wiersza z mieszkaniem z Chorwacji\n",
    "df_otodom.drop(index=3977, inplace=True)"
   ],
   "outputs": [],
   "execution_count": 313
  },
  {
   "cell_type": "code",
   "metadata": {
    "ExecuteTime": {
     "end_time": "2024-04-21T23:36:34.961617Z",
     "start_time": "2024-04-21T23:36:34.955093Z"
    }
   },
   "source": [
    "df_otodom['price'].count()"
   ],
   "outputs": [
    {
     "data": {
      "text/plain": [
       "12088"
      ]
     },
     "execution_count": 314,
     "metadata": {},
     "output_type": "execute_result"
    }
   ],
   "execution_count": 314
  },
  {
   "cell_type": "markdown",
   "metadata": {},
   "source": "### Zamiana wartości w kolumnach na typy liczbowe"
  },
  {
   "metadata": {},
   "cell_type": "markdown",
   "source": "#### metraż"
  },
  {
   "cell_type": "code",
   "metadata": {
    "ExecuteTime": {
     "end_time": "2024-04-21T23:36:35.227432Z",
     "start_time": "2024-04-21T23:36:35.207614Z"
    }
   },
   "source": [
    "df_otodom['area'] = df_otodom['area'].str.replace(' m²', '')\n",
    "df_otodom['area'] = df_otodom['area'].str.replace(' ', '')\n",
    "df_otodom['area'] = df_otodom['area'].str.replace(',', '.').astype(float)"
   ],
   "outputs": [],
   "execution_count": 315
  },
  {
   "metadata": {},
   "cell_type": "markdown",
   "source": "#### cena za metr"
  },
  {
   "cell_type": "code",
   "metadata": {
    "ExecuteTime": {
     "end_time": "2024-04-21T23:36:35.553698Z",
     "start_time": "2024-04-21T23:36:35.533430Z"
    }
   },
   "source": [
    "# df_otodom[df_otodom['price-per-area'].str.contains(r'\\d', na=False).shape[0] & ~df_otodom['price-per-area'].str.contains('zł', na=False)].shape[0]\n",
    "df_otodom[(df_otodom['price-per-area'].str.contains(r'\\d', na=False)) & (~df_otodom['price-per-area'].str.contains('zł', na=False))].shape[0]"
   ],
   "outputs": [
    {
     "data": {
      "text/plain": [
       "0"
      ]
     },
     "execution_count": 316,
     "metadata": {},
     "output_type": "execute_result"
    }
   ],
   "execution_count": 316
  },
  {
   "cell_type": "code",
   "metadata": {
    "ExecuteTime": {
     "end_time": "2024-04-21T23:36:35.717651Z",
     "start_time": "2024-04-21T23:36:35.705691Z"
    }
   },
   "source": "df_otodom[df_otodom['price-per-area'].isnull()].shape[0]",
   "outputs": [
    {
     "data": {
      "text/plain": [
       "0"
      ]
     },
     "execution_count": 317,
     "metadata": {},
     "output_type": "execute_result"
    }
   ],
   "execution_count": 317
  },
  {
   "cell_type": "code",
   "metadata": {
    "ExecuteTime": {
     "end_time": "2024-04-21T23:36:36.044843Z",
     "start_time": "2024-04-21T23:36:36.024648Z"
    }
   },
   "source": [
    "df_otodom['price-per-area'] = df_otodom['price-per-area'].str.replace(' zł/m²', '').str.replace(' ', '').str.replace(',', '.')\n",
    "df_otodom['price-per-area'] = df_otodom['price-per-area'].astype(float)"
   ],
   "outputs": [],
   "execution_count": 318
  },
  {
   "metadata": {},
   "cell_type": "markdown",
   "source": "#### czynsz"
  },
  {
   "cell_type": "code",
   "metadata": {
    "ExecuteTime": {
     "end_time": "2024-04-21T23:36:36.266913Z",
     "start_time": "2024-04-21T23:36:36.240839Z"
    }
   },
   "source": [
    "# Wiersze w innej walucie\n",
    "df_otodom[df_otodom['rent'].str.contains(r'\\d', na=False) & ~df_otodom['rent'].str.contains('zł', na=False)]"
   ],
   "outputs": [
    {
     "data": {
      "text/plain": [
       "                                                    url  \\\n",
       "6335  https://www.otodom.pl/pl/oferta/2m-wysoki-stan...   \n",
       "\n",
       "                                        name/title  \\\n",
       "6335  2M! Wysoki Standard| Gotowe| Balkon | Widok!   \n",
       "\n",
       "                                                address     price   area  \\\n",
       "6335  Wola Duchacka, Podgórze Duchackie, Kraków, mał...  620000.0  35.55   \n",
       "\n",
       "      price-per-area floor/store no of rooms year of construction  \\\n",
       "6335         17440.0        7/11           2                 2019   \n",
       "\n",
       "     parking space  market form of ownership        condition     rent  \\\n",
       "6335           NaN  wtórny    pełna własność  do zamieszkania  420 GBP   \n",
       "\n",
       "       heating      advertiser type elevator outdoor area building type  \\\n",
       "6335  miejskie  biuro nieruchomości      tak       balkon          blok   \n",
       "\n",
       "     building material  \n",
       "6335   brak informacji  "
      ],
      "text/html": [
       "<div>\n",
       "<style scoped>\n",
       "    .dataframe tbody tr th:only-of-type {\n",
       "        vertical-align: middle;\n",
       "    }\n",
       "\n",
       "    .dataframe tbody tr th {\n",
       "        vertical-align: top;\n",
       "    }\n",
       "\n",
       "    .dataframe thead th {\n",
       "        text-align: right;\n",
       "    }\n",
       "</style>\n",
       "<table border=\"1\" class=\"dataframe\">\n",
       "  <thead>\n",
       "    <tr style=\"text-align: right;\">\n",
       "      <th></th>\n",
       "      <th>url</th>\n",
       "      <th>name/title</th>\n",
       "      <th>address</th>\n",
       "      <th>price</th>\n",
       "      <th>area</th>\n",
       "      <th>price-per-area</th>\n",
       "      <th>floor/store</th>\n",
       "      <th>no of rooms</th>\n",
       "      <th>year of construction</th>\n",
       "      <th>parking space</th>\n",
       "      <th>market</th>\n",
       "      <th>form of ownership</th>\n",
       "      <th>condition</th>\n",
       "      <th>rent</th>\n",
       "      <th>heating</th>\n",
       "      <th>advertiser type</th>\n",
       "      <th>elevator</th>\n",
       "      <th>outdoor area</th>\n",
       "      <th>building type</th>\n",
       "      <th>building material</th>\n",
       "    </tr>\n",
       "  </thead>\n",
       "  <tbody>\n",
       "    <tr>\n",
       "      <th>6335</th>\n",
       "      <td>https://www.otodom.pl/pl/oferta/2m-wysoki-stan...</td>\n",
       "      <td>2M! Wysoki Standard| Gotowe| Balkon | Widok!</td>\n",
       "      <td>Wola Duchacka, Podgórze Duchackie, Kraków, mał...</td>\n",
       "      <td>620000.0</td>\n",
       "      <td>35.55</td>\n",
       "      <td>17440.0</td>\n",
       "      <td>7/11</td>\n",
       "      <td>2</td>\n",
       "      <td>2019</td>\n",
       "      <td>NaN</td>\n",
       "      <td>wtórny</td>\n",
       "      <td>pełna własność</td>\n",
       "      <td>do zamieszkania</td>\n",
       "      <td>420 GBP</td>\n",
       "      <td>miejskie</td>\n",
       "      <td>biuro nieruchomości</td>\n",
       "      <td>tak</td>\n",
       "      <td>balkon</td>\n",
       "      <td>blok</td>\n",
       "      <td>brak informacji</td>\n",
       "    </tr>\n",
       "  </tbody>\n",
       "</table>\n",
       "</div>"
      ]
     },
     "execution_count": 319,
     "metadata": {},
     "output_type": "execute_result"
    }
   ],
   "execution_count": 319
  },
  {
   "cell_type": "code",
   "metadata": {
    "ExecuteTime": {
     "end_time": "2024-04-21T23:36:36.672221Z",
     "start_time": "2024-04-21T23:36:36.658913Z"
    }
   },
   "source": [
    "eur_rent_price = df_otodom[df_otodom['rent'].str.contains('EUR', na=False)]\n",
    "gbp_rent_price = df_otodom[df_otodom['rent'].str.contains('GBP', na=False)]"
   ],
   "outputs": [],
   "execution_count": 320
  },
  {
   "cell_type": "code",
   "metadata": {
    "ExecuteTime": {
     "end_time": "2024-04-21T23:36:36.875336Z",
     "start_time": "2024-04-21T23:36:36.851131Z"
    }
   },
   "source": [
    "# zamiana wartości rent na typ liczbowy\n",
    "df_otodom['rent'] = df_otodom['rent'].str.replace(' ', '').str.replace(',', '.').str.extract('(\\d+\\.\\d+|\\d+)').astype(float)"
   ],
   "outputs": [],
   "execution_count": 321
  },
  {
   "metadata": {
    "ExecuteTime": {
     "end_time": "2024-04-21T23:36:38.085332Z",
     "start_time": "2024-04-21T23:36:37.211332Z"
    }
   },
   "cell_type": "code",
   "source": [
    "import yfinance as yf\n",
    "\n",
    "eur = yf.Ticker(\"EURPLN=X\")\n",
    "gbp = yf.Ticker(\"GBPPLN=X\")\n",
    "euro_exchange_rate = eur.info['fiftyDayAverage']\n",
    "gbp_exchange_rate = gbp.info['fiftyDayAverage']\n",
    "print(euro_exchange_rate)\n",
    "print(gbp_exchange_rate)"
   ],
   "outputs": [
    {
     "name": "stdout",
     "output_type": "stream",
     "text": [
      "4.305423\n",
      "5.0342665\n"
     ]
    }
   ],
   "execution_count": 322
  },
  {
   "cell_type": "code",
   "metadata": {
    "ExecuteTime": {
     "end_time": "2024-04-21T23:36:38.094332Z",
     "start_time": "2024-04-21T23:36:38.087330Z"
    }
   },
   "source": [
    "# euro_exchange_rate = 4.28\n",
    "# gbp_exchange_rate = 4.99\n",
    "\n",
    "df_otodom.loc[eur_rent_price.index, 'rent'] *= euro_exchange_rate\n",
    "df_otodom.loc[gbp_rent_price.index, 'rent'] *= gbp_exchange_rate"
   ],
   "outputs": [],
   "execution_count": 323
  },
  {
   "metadata": {
    "ExecuteTime": {
     "end_time": "2024-04-21T23:36:38.121996Z",
     "start_time": "2024-04-21T23:36:38.096331Z"
    }
   },
   "cell_type": "code",
   "source": [
    "# Średnia po wycięciu utliersów do ew. uzupełnienia\n",
    "mean_rent = df_otodom['rent'].mean()\n",
    "std_rent = df_otodom['rent'].std()\n",
    "\n",
    "filtered_std_rent = df_otodom[(df_otodom['rent'] > (mean_rent - std_rent)) & \n",
    "                        (df_otodom['rent'] < (mean_rent + std_rent))]\n",
    "\n",
    "new_mean_rent = filtered_std_rent['rent'].mean()\n",
    "new_mean_rent"
   ],
   "outputs": [
    {
     "data": {
      "text/plain": [
       "541.131739758603"
      ]
     },
     "execution_count": 324,
     "metadata": {},
     "output_type": "execute_result"
    }
   ],
   "execution_count": 324
  },
  {
   "metadata": {},
   "cell_type": "markdown",
   "source": "#### liczba pokoi"
  },
  {
   "metadata": {
    "ExecuteTime": {
     "end_time": "2024-04-21T23:36:38.147236Z",
     "start_time": "2024-04-21T23:36:38.124990Z"
    }
   },
   "cell_type": "code",
   "source": [
    "df_otodom['no of rooms'] = df_otodom['no of rooms'].str.replace(' ', '')\n",
    "print(df_otodom[df_otodom['no of rooms'].isna()].shape[0])\n",
    "df_otodom.dropna(subset=['no of rooms'], inplace=True)"
   ],
   "outputs": [
    {
     "name": "stdout",
     "output_type": "stream",
     "text": [
      "346\n"
     ]
    }
   ],
   "execution_count": 325
  },
  {
   "cell_type": "code",
   "metadata": {
    "ExecuteTime": {
     "end_time": "2024-04-21T23:36:38.300234Z",
     "start_time": "2024-04-21T23:36:38.276231Z"
    }
   },
   "source": "df_otodom['no of rooms'] = df_otodom['no of rooms'].str.extract('(\\d+)').astype(int)",
   "outputs": [],
   "execution_count": 326
  },
  {
   "metadata": {},
   "cell_type": "markdown",
   "source": "#### piętro"
  },
  {
   "cell_type": "code",
   "metadata": {
    "ExecuteTime": {
     "end_time": "2024-04-21T23:36:38.410751Z",
     "start_time": "2024-04-21T23:36:38.390232Z"
    }
   },
   "source": [
    "# Rozdzielenie kolumny 'floor/store' na dwie osobne kolumny\n",
    "df_otodom[['floor/store', 'no of floors/stores in the building']] = df_otodom['floor/store'].str.split('/', expand=True)"
   ],
   "outputs": [],
   "execution_count": 327
  },
  {
   "cell_type": "code",
   "metadata": {
    "ExecuteTime": {
     "end_time": "2024-04-21T23:36:39.010755Z",
     "start_time": "2024-04-21T23:36:38.997110Z"
    }
   },
   "source": [
    "# Usunięcie wierszy bez informacji o piętrze\n",
    "print(df_otodom[df_otodom['floor/store'].isnull()].shape[0])\n",
    "df_otodom = df_otodom.dropna(subset=['floor/store'])"
   ],
   "outputs": [
    {
     "name": "stdout",
     "output_type": "stream",
     "text": [
      "236\n"
     ]
    }
   ],
   "execution_count": 328
  },
  {
   "cell_type": "code",
   "metadata": {
    "ExecuteTime": {
     "end_time": "2024-04-21T23:36:39.242266Z",
     "start_time": "2024-04-21T23:36:39.234266Z"
    }
   },
   "source": [
    "# Zamiana wartości \"parter\" na 0 w kolumnie \"floor\"\n",
    "df_otodom['floor/store'] = df_otodom['floor/store'].replace('parter', 0)"
   ],
   "outputs": [],
   "execution_count": 329
  },
  {
   "cell_type": "code",
   "metadata": {
    "ExecuteTime": {
     "end_time": "2024-04-21T23:36:39.557501Z",
     "start_time": "2024-04-21T23:36:39.551110Z"
    }
   },
   "source": [
    "# Zamiana wartości \"suterena\" na -1 w kolumnie \"floor\"\n",
    "df_otodom['floor/store'] = df_otodom['floor/store'].replace('suterena', -1)"
   ],
   "outputs": [],
   "execution_count": 330
  },
  {
   "cell_type": "code",
   "metadata": {
    "ExecuteTime": {
     "end_time": "2024-04-21T23:36:39.771976Z",
     "start_time": "2024-04-21T23:36:39.737494Z"
    }
   },
   "source": [
    "# Konwersja kolumny \"floor\" na typ liczbowy, zamieniając nieliczbowe wartości na NaN\n",
    "df_otodom['floor/store'] = pd.to_numeric(df_otodom['floor/store'], errors='coerce')\n",
    "\n",
    "# Usunięcie wierszy zawierających wartości NaN w kolumnie \"floor\"\n",
    "df_otodom = df_otodom[~df_otodom['floor/store'].isna()]"
   ],
   "outputs": [],
   "execution_count": 331
  },
  {
   "cell_type": "code",
   "metadata": {
    "ExecuteTime": {
     "end_time": "2024-04-21T23:36:40.066955Z",
     "start_time": "2024-04-21T23:36:40.061973Z"
    }
   },
   "source": "df_otodom['floor/store'] = df_otodom['floor/store'].astype(int)",
   "outputs": [],
   "execution_count": 332
  },
  {
   "metadata": {},
   "cell_type": "markdown",
   "source": "#### liczba pięter"
  },
  {
   "metadata": {
    "ExecuteTime": {
     "end_time": "2024-04-21T23:36:40.260526Z",
     "start_time": "2024-04-21T23:36:40.247526Z"
    }
   },
   "cell_type": "code",
   "source": [
    "print(df_otodom[df_otodom['no of floors/stores in the building'].isnull()].shape[0])\n",
    "df_otodom = df_otodom.dropna(subset=['no of floors/stores in the building'])"
   ],
   "outputs": [
    {
     "name": "stdout",
     "output_type": "stream",
     "text": [
      "448\n"
     ]
    }
   ],
   "execution_count": 333
  },
  {
   "metadata": {
    "ExecuteTime": {
     "end_time": "2024-04-21T23:36:40.566835Z",
     "start_time": "2024-04-21T23:36:40.561093Z"
    }
   },
   "cell_type": "code",
   "source": "df_otodom['no of floors/stores in the building'] = df_otodom['no of floors/stores in the building'].astype(int)",
   "outputs": [],
   "execution_count": 334
  },
  {
   "metadata": {
    "ExecuteTime": {
     "end_time": "2024-04-21T23:36:40.743937Z",
     "start_time": "2024-04-21T23:36:40.734907Z"
    }
   },
   "cell_type": "code",
   "source": [
    "#Reorder\n",
    "columns = list(df_otodom.columns)\n",
    "columns.remove('no of floors/stores in the building')\n",
    "target_index = columns.index('floor/store')\n",
    "columns.insert(target_index + 1, 'no of floors/stores in the building')\n",
    "df_otodom = df_otodom[columns]"
   ],
   "outputs": [],
   "execution_count": 335
  },
  {
   "metadata": {
    "ExecuteTime": {
     "end_time": "2024-04-21T23:36:41.095075Z",
     "start_time": "2024-04-21T23:36:41.083076Z"
    }
   },
   "cell_type": "code",
   "source": [
    "# Według wikipedii najwyższy mieszkalny budunek w Krk ma 19 pięter\n",
    "# https://pl.wikipedia.org/wiki/Lista_najwyższych_budynków_w_Krakowie\n",
    "print(df_otodom[df_otodom['no of floors/stores in the building'] > 19].shape[0])\n",
    "df_otodom.drop(df_otodom[df_otodom['no of floors/stores in the building'] > 19].index, inplace=True)"
   ],
   "outputs": [
    {
     "name": "stdout",
     "output_type": "stream",
     "text": [
      "1\n"
     ]
    }
   ],
   "execution_count": 336
  },
  {
   "metadata": {},
   "cell_type": "markdown",
   "source": "#### rok budowy"
  },
  {
   "metadata": {
    "ExecuteTime": {
     "end_time": "2024-04-21T23:36:41.320591Z",
     "start_time": "2024-04-21T23:36:41.286076Z"
    }
   },
   "cell_type": "code",
   "source": [
    "df_otodom['year of construction'] = pd.to_numeric(df_otodom['year of construction'], errors='coerce')\n",
    "\n",
    "missing_below_1200 = df_otodom[df_otodom['year of construction'] < 1250]\n",
    "missing_above_2026 = df_otodom[df_otodom['year of construction'] > 2026]\n",
    "pd.concat([missing_above_2026, missing_below_1200])"
   ],
   "outputs": [
    {
     "data": {
      "text/plain": [
       "                                                     url  \\\n",
       "187    https://www.otodom.pl/pl/oferta/4-pokoje-nowe-...   \n",
       "7888   https://www.otodom.pl/pl/oferta/mieszkanie-na-...   \n",
       "10812  https://www.otodom.pl/pl/oferta/widokowe-3-pok...   \n",
       "6685   https://www.otodom.pl/pl/oferta/nowe-3-pokoje-...   \n",
       "11292  https://www.otodom.pl/pl/oferta/3-pokoje-na-bi...   \n",
       "11328  https://www.otodom.pl/pl/oferta/mieszkanie-na-...   \n",
       "\n",
       "                                              name/title  \\\n",
       "187            4 pokoje, nowe, Promocja -175 tys. taniej   \n",
       "7888               Mieszkanie na sprzedaż, Kraków 40,2m2   \n",
       "10812  Widokowe 3 pok, 2 loggie, garaż podziemny, Ban...   \n",
       "6685         Nowe: 3 pokoje na Ruczaju. Garaż podziemny.   \n",
       "11292          3 Pokoje na Bieńczycach! Wysoki Standard!   \n",
       "11328     Mieszkanie na sprzedaż- Mogilska-76 m2 + garaż   \n",
       "\n",
       "                                                 address      price   area  \\\n",
       "187        Stare Podgórze, Podgórze, Kraków, małopolskie   998358.0  62.10   \n",
       "7888   ul. Janusza Supniewskiego, Osiedle Oficerskie,...   699000.0  40.20   \n",
       "10812  ul. Stefana Banacha, Górka Narodowa, Prądnik B...   759000.0  49.47   \n",
       "6685                Ruczaj, Dębniki, Kraków, małopolskie   790300.0  56.45   \n",
       "11292  os. Wysokie, Bieńczyce, Bieńczyce, Kraków, mał...   669000.0  45.00   \n",
       "11328  ul. Mogilska, Osiedle Oficerskie, Grzegórzki, ...  1080000.0  76.00   \n",
       "\n",
       "       price-per-area  floor/store  no of floors/stores in the building  \\\n",
       "187           16077.0            1                                    4   \n",
       "7888          17388.0            0                                    2   \n",
       "10812         15343.0            6                                    8   \n",
       "6685          14000.0            3                                    3   \n",
       "11292         14867.0            3                                    4   \n",
       "11328         14211.0            8                                   10   \n",
       "\n",
       "       no of rooms  year of construction  ...     market form of ownership  \\\n",
       "187              4                2924.0  ...  pierwotny    pełna własność   \n",
       "7888             2               20100.0  ...     wtórny    pełna własność   \n",
       "10812            3                2924.0  ...  pierwotny    pełna własność   \n",
       "6685             3                1024.0  ...  pierwotny    pełna własność   \n",
       "11292            3                 450.0  ...     wtórny    pełna własność   \n",
       "11328            3                  87.0  ...     wtórny    pełna własność   \n",
       "\n",
       "             condition    rent   heating      advertiser type elevator  \\\n",
       "187     do wykończenia     NaN  miejskie  biuro nieruchomości      tak   \n",
       "7888   do zamieszkania   350.0  miejskie             prywatny      nie   \n",
       "10812   do wykończenia     1.0  miejskie  biuro nieruchomości      tak   \n",
       "6685    do wykończenia   250.0  miejskie  biuro nieruchomości      tak   \n",
       "11292  do zamieszkania   450.0  miejskie  biuro nieruchomości      nie   \n",
       "11328  do zamieszkania  1200.0  miejskie  biuro nieruchomości      tak   \n",
       "\n",
       "      outdoor area    building type building material  \n",
       "187         balkon  apartamentowiec   brak informacji  \n",
       "7888           NaN             blok             cegła  \n",
       "10812          NaN             blok   brak informacji  \n",
       "6685        balkon             blok            pustak  \n",
       "11292          NaN             blok             cegła  \n",
       "11328       balkon             blok      wielka płyta  \n",
       "\n",
       "[6 rows x 21 columns]"
      ],
      "text/html": [
       "<div>\n",
       "<style scoped>\n",
       "    .dataframe tbody tr th:only-of-type {\n",
       "        vertical-align: middle;\n",
       "    }\n",
       "\n",
       "    .dataframe tbody tr th {\n",
       "        vertical-align: top;\n",
       "    }\n",
       "\n",
       "    .dataframe thead th {\n",
       "        text-align: right;\n",
       "    }\n",
       "</style>\n",
       "<table border=\"1\" class=\"dataframe\">\n",
       "  <thead>\n",
       "    <tr style=\"text-align: right;\">\n",
       "      <th></th>\n",
       "      <th>url</th>\n",
       "      <th>name/title</th>\n",
       "      <th>address</th>\n",
       "      <th>price</th>\n",
       "      <th>area</th>\n",
       "      <th>price-per-area</th>\n",
       "      <th>floor/store</th>\n",
       "      <th>no of floors/stores in the building</th>\n",
       "      <th>no of rooms</th>\n",
       "      <th>year of construction</th>\n",
       "      <th>...</th>\n",
       "      <th>market</th>\n",
       "      <th>form of ownership</th>\n",
       "      <th>condition</th>\n",
       "      <th>rent</th>\n",
       "      <th>heating</th>\n",
       "      <th>advertiser type</th>\n",
       "      <th>elevator</th>\n",
       "      <th>outdoor area</th>\n",
       "      <th>building type</th>\n",
       "      <th>building material</th>\n",
       "    </tr>\n",
       "  </thead>\n",
       "  <tbody>\n",
       "    <tr>\n",
       "      <th>187</th>\n",
       "      <td>https://www.otodom.pl/pl/oferta/4-pokoje-nowe-...</td>\n",
       "      <td>4 pokoje, nowe, Promocja -175 tys. taniej</td>\n",
       "      <td>Stare Podgórze, Podgórze, Kraków, małopolskie</td>\n",
       "      <td>998358.0</td>\n",
       "      <td>62.10</td>\n",
       "      <td>16077.0</td>\n",
       "      <td>1</td>\n",
       "      <td>4</td>\n",
       "      <td>4</td>\n",
       "      <td>2924.0</td>\n",
       "      <td>...</td>\n",
       "      <td>pierwotny</td>\n",
       "      <td>pełna własność</td>\n",
       "      <td>do wykończenia</td>\n",
       "      <td>NaN</td>\n",
       "      <td>miejskie</td>\n",
       "      <td>biuro nieruchomości</td>\n",
       "      <td>tak</td>\n",
       "      <td>balkon</td>\n",
       "      <td>apartamentowiec</td>\n",
       "      <td>brak informacji</td>\n",
       "    </tr>\n",
       "    <tr>\n",
       "      <th>7888</th>\n",
       "      <td>https://www.otodom.pl/pl/oferta/mieszkanie-na-...</td>\n",
       "      <td>Mieszkanie na sprzedaż, Kraków 40,2m2</td>\n",
       "      <td>ul. Janusza Supniewskiego, Osiedle Oficerskie,...</td>\n",
       "      <td>699000.0</td>\n",
       "      <td>40.20</td>\n",
       "      <td>17388.0</td>\n",
       "      <td>0</td>\n",
       "      <td>2</td>\n",
       "      <td>2</td>\n",
       "      <td>20100.0</td>\n",
       "      <td>...</td>\n",
       "      <td>wtórny</td>\n",
       "      <td>pełna własność</td>\n",
       "      <td>do zamieszkania</td>\n",
       "      <td>350.0</td>\n",
       "      <td>miejskie</td>\n",
       "      <td>prywatny</td>\n",
       "      <td>nie</td>\n",
       "      <td>NaN</td>\n",
       "      <td>blok</td>\n",
       "      <td>cegła</td>\n",
       "    </tr>\n",
       "    <tr>\n",
       "      <th>10812</th>\n",
       "      <td>https://www.otodom.pl/pl/oferta/widokowe-3-pok...</td>\n",
       "      <td>Widokowe 3 pok, 2 loggie, garaż podziemny, Ban...</td>\n",
       "      <td>ul. Stefana Banacha, Górka Narodowa, Prądnik B...</td>\n",
       "      <td>759000.0</td>\n",
       "      <td>49.47</td>\n",
       "      <td>15343.0</td>\n",
       "      <td>6</td>\n",
       "      <td>8</td>\n",
       "      <td>3</td>\n",
       "      <td>2924.0</td>\n",
       "      <td>...</td>\n",
       "      <td>pierwotny</td>\n",
       "      <td>pełna własność</td>\n",
       "      <td>do wykończenia</td>\n",
       "      <td>1.0</td>\n",
       "      <td>miejskie</td>\n",
       "      <td>biuro nieruchomości</td>\n",
       "      <td>tak</td>\n",
       "      <td>NaN</td>\n",
       "      <td>blok</td>\n",
       "      <td>brak informacji</td>\n",
       "    </tr>\n",
       "    <tr>\n",
       "      <th>6685</th>\n",
       "      <td>https://www.otodom.pl/pl/oferta/nowe-3-pokoje-...</td>\n",
       "      <td>Nowe: 3 pokoje na Ruczaju. Garaż podziemny.</td>\n",
       "      <td>Ruczaj, Dębniki, Kraków, małopolskie</td>\n",
       "      <td>790300.0</td>\n",
       "      <td>56.45</td>\n",
       "      <td>14000.0</td>\n",
       "      <td>3</td>\n",
       "      <td>3</td>\n",
       "      <td>3</td>\n",
       "      <td>1024.0</td>\n",
       "      <td>...</td>\n",
       "      <td>pierwotny</td>\n",
       "      <td>pełna własność</td>\n",
       "      <td>do wykończenia</td>\n",
       "      <td>250.0</td>\n",
       "      <td>miejskie</td>\n",
       "      <td>biuro nieruchomości</td>\n",
       "      <td>tak</td>\n",
       "      <td>balkon</td>\n",
       "      <td>blok</td>\n",
       "      <td>pustak</td>\n",
       "    </tr>\n",
       "    <tr>\n",
       "      <th>11292</th>\n",
       "      <td>https://www.otodom.pl/pl/oferta/3-pokoje-na-bi...</td>\n",
       "      <td>3 Pokoje na Bieńczycach! Wysoki Standard!</td>\n",
       "      <td>os. Wysokie, Bieńczyce, Bieńczyce, Kraków, mał...</td>\n",
       "      <td>669000.0</td>\n",
       "      <td>45.00</td>\n",
       "      <td>14867.0</td>\n",
       "      <td>3</td>\n",
       "      <td>4</td>\n",
       "      <td>3</td>\n",
       "      <td>450.0</td>\n",
       "      <td>...</td>\n",
       "      <td>wtórny</td>\n",
       "      <td>pełna własność</td>\n",
       "      <td>do zamieszkania</td>\n",
       "      <td>450.0</td>\n",
       "      <td>miejskie</td>\n",
       "      <td>biuro nieruchomości</td>\n",
       "      <td>nie</td>\n",
       "      <td>NaN</td>\n",
       "      <td>blok</td>\n",
       "      <td>cegła</td>\n",
       "    </tr>\n",
       "    <tr>\n",
       "      <th>11328</th>\n",
       "      <td>https://www.otodom.pl/pl/oferta/mieszkanie-na-...</td>\n",
       "      <td>Mieszkanie na sprzedaż- Mogilska-76 m2 + garaż</td>\n",
       "      <td>ul. Mogilska, Osiedle Oficerskie, Grzegórzki, ...</td>\n",
       "      <td>1080000.0</td>\n",
       "      <td>76.00</td>\n",
       "      <td>14211.0</td>\n",
       "      <td>8</td>\n",
       "      <td>10</td>\n",
       "      <td>3</td>\n",
       "      <td>87.0</td>\n",
       "      <td>...</td>\n",
       "      <td>wtórny</td>\n",
       "      <td>pełna własność</td>\n",
       "      <td>do zamieszkania</td>\n",
       "      <td>1200.0</td>\n",
       "      <td>miejskie</td>\n",
       "      <td>biuro nieruchomości</td>\n",
       "      <td>tak</td>\n",
       "      <td>balkon</td>\n",
       "      <td>blok</td>\n",
       "      <td>wielka płyta</td>\n",
       "    </tr>\n",
       "  </tbody>\n",
       "</table>\n",
       "<p>6 rows × 21 columns</p>\n",
       "</div>"
      ]
     },
     "execution_count": 337,
     "metadata": {},
     "output_type": "execute_result"
    }
   ],
   "execution_count": 337
  },
  {
   "metadata": {
    "ExecuteTime": {
     "end_time": "2024-04-21T23:36:41.562058Z",
     "start_time": "2024-04-21T23:36:41.550112Z"
    }
   },
   "cell_type": "code",
   "source": [
    "# Poprawianie \"z placa\"\n",
    "df_otodom['year of construction'] = df_otodom['year of construction'].replace(2924.0, 2024)\n",
    "df_otodom['year of construction'] = df_otodom['year of construction'].replace(1024.0, 2024)\n",
    "df_otodom['year of construction'] = df_otodom['year of construction'].replace(20100.0, 2010)\n",
    "df_otodom['year of construction'] = df_otodom['year of construction'].replace(87.0, 1987)\n",
    "df_otodom.drop(df_otodom[df_otodom['year of construction'] == 450.0].index, inplace=True)"
   ],
   "outputs": [],
   "execution_count": 338
  },
  {
   "metadata": {
    "ExecuteTime": {
     "end_time": "2024-04-21T23:36:41.742336Z",
     "start_time": "2024-04-21T23:36:41.734058Z"
    }
   },
   "cell_type": "code",
   "source": [
    "# df_otodom['year of construction'] = df_otodom['year of construction'].fillna(-1).astype(int)\n",
    "df_otodom['year of construction'].value_counts(dropna=False).head()"
   ],
   "outputs": [
    {
     "data": {
      "text/plain": [
       "year of construction\n",
       "NaN       2159\n",
       "2024.0    1740\n",
       "2023.0    1486\n",
       "2025.0     483\n",
       "2022.0     357\n",
       "Name: count, dtype: int64"
      ]
     },
     "execution_count": 339,
     "metadata": {},
     "output_type": "execute_result"
    }
   ],
   "execution_count": 339
  },
  {
   "metadata": {
    "ExecuteTime": {
     "end_time": "2024-04-21T23:36:42.107455Z",
     "start_time": "2024-04-21T23:36:42.096334Z"
    }
   },
   "cell_type": "code",
   "source": [
    "# Średnia po wycięciu utliersów do ew. uzupełnienia\n",
    "mean_year = df_otodom['year of construction'].mean()\n",
    "std_year = df_otodom['year of construction'].std()\n",
    "\n",
    "filtered_df = df_otodom[(df_otodom['year of construction'] > (mean_year - std_year)) & \n",
    "                        (df_otodom['year of construction'] < (mean_year + std_year))]\n",
    "\n",
    "new_mean_year = filtered_df['year of construction'].mean()\n",
    "new_mean_year = int(new_mean_year)\n",
    "new_mean_year"
   ],
   "outputs": [
    {
     "data": {
      "text/plain": [
       "2013"
      ]
     },
     "execution_count": 340,
     "metadata": {},
     "output_type": "execute_result"
    }
   ],
   "execution_count": 340
  },
  {
   "metadata": {},
   "cell_type": "markdown",
   "source": "#### rynek"
  },
  {
   "metadata": {
    "ExecuteTime": {
     "end_time": "2024-04-21T23:36:42.403976Z",
     "start_time": "2024-04-21T23:36:42.396476Z"
    }
   },
   "cell_type": "code",
   "source": [
    "df_otodom.loc[(df_otodom['market'].isna()) & (df_otodom['year of construction'] > 2022), 'market'] = 'pierwotny'\n",
    "df_otodom.loc[(df_otodom['market'].isna()) & (df_otodom['year of construction'] < 2023), 'market'] = 'wtórny'"
   ],
   "outputs": [],
   "execution_count": 341
  },
  {
   "metadata": {
    "ExecuteTime": {
     "end_time": "2024-04-21T23:36:42.945560Z",
     "start_time": "2024-04-21T23:36:42.933560Z"
    }
   },
   "cell_type": "code",
   "source": [
    "print(df_otodom['market'].isna().sum())\n",
    "df_otodom.dropna(subset=['market'], inplace=True)"
   ],
   "outputs": [
    {
     "name": "stdout",
     "output_type": "stream",
     "text": [
      "845\n"
     ]
    }
   ],
   "execution_count": 342
  },
  {
   "metadata": {
    "ExecuteTime": {
     "end_time": "2024-04-21T23:36:43.145559Z",
     "start_time": "2024-04-21T23:36:43.139559Z"
    }
   },
   "cell_type": "code",
   "source": "df_otodom['market'].value_counts(dropna=False)",
   "outputs": [
    {
     "data": {
      "text/plain": [
       "market\n",
       "wtórny       6528\n",
       "pierwotny    3587\n",
       "Name: count, dtype: int64"
      ]
     },
     "execution_count": 343,
     "metadata": {},
     "output_type": "execute_result"
    }
   ],
   "execution_count": 343
  },
  {
   "metadata": {},
   "cell_type": "markdown",
   "source": "#### rodzaj własności"
  },
  {
   "metadata": {
    "ExecuteTime": {
     "end_time": "2024-04-21T23:36:43.433985Z",
     "start_time": "2024-04-21T23:36:43.426560Z"
    }
   },
   "cell_type": "code",
   "source": "df_otodom['form of ownership'].value_counts(dropna=False)",
   "outputs": [
    {
     "data": {
      "text/plain": [
       "form of ownership\n",
       "pełna własność                       7007\n",
       "NaN                                  2751\n",
       "spółdzielcze wł. prawo do lokalu      252\n",
       "udział                                101\n",
       "użytkowanie wieczyste / dzierżawa       4\n",
       "Name: count, dtype: int64"
      ]
     },
     "execution_count": 344,
     "metadata": {},
     "output_type": "execute_result"
    }
   ],
   "execution_count": 344
  },
  {
   "metadata": {
    "ExecuteTime": {
     "end_time": "2024-04-21T23:36:43.667058Z",
     "start_time": "2024-04-21T23:36:43.660523Z"
    }
   },
   "cell_type": "code",
   "source": [
    "# Zgodnie z obowiązującym prawem 2007 r. nie ma możliwości ustanawiania spółdzielczego własnościowego prawa do lokalu\n",
    "df_otodom.loc[(df_otodom['form of ownership'].isna()) & (df_otodom['year of construction'] > 2006), 'form of ownership'] = 'pełna własność'"
   ],
   "outputs": [],
   "execution_count": 345
  },
  {
   "metadata": {},
   "cell_type": "markdown",
   "source": "#### stan"
  },
  {
   "metadata": {
    "ExecuteTime": {
     "end_time": "2024-04-21T23:36:44.034589Z",
     "start_time": "2024-04-21T23:36:44.027056Z"
    }
   },
   "cell_type": "code",
   "source": "df_otodom['condition'].value_counts(dropna=False)",
   "outputs": [
    {
     "data": {
      "text/plain": [
       "condition\n",
       "do zamieszkania    4247\n",
       "do wykończenia     3115\n",
       "NaN                2311\n",
       "do remontu          442\n",
       "Name: count, dtype: int64"
      ]
     },
     "execution_count": 346,
     "metadata": {},
     "output_type": "execute_result"
    }
   ],
   "execution_count": 346
  },
  {
   "metadata": {},
   "cell_type": "markdown",
   "source": "#### parking"
  },
  {
   "metadata": {
    "ExecuteTime": {
     "end_time": "2024-04-21T23:36:44.232601Z",
     "start_time": "2024-04-21T23:36:44.225609Z"
    }
   },
   "cell_type": "code",
   "source": "df_otodom['parking space'].value_counts(dropna=False)",
   "outputs": [
    {
     "data": {
      "text/plain": [
       "parking space\n",
       "garaż/miejsce parkingowe    5641\n",
       "NaN                         4474\n",
       "Name: count, dtype: int64"
      ]
     },
     "execution_count": 347,
     "metadata": {},
     "output_type": "execute_result"
    }
   ],
   "execution_count": 347
  },
  {
   "metadata": {
    "ExecuteTime": {
     "end_time": "2024-04-21T23:36:44.643310Z",
     "start_time": "2024-04-21T23:36:44.635075Z"
    }
   },
   "cell_type": "code",
   "source": [
    "df_otodom['parking space'] = df_otodom['parking space'].notna()\n",
    "df_otodom['parking space'].value_counts(dropna=False)"
   ],
   "outputs": [
    {
     "data": {
      "text/plain": [
       "parking space\n",
       "True     5641\n",
       "False    4474\n",
       "Name: count, dtype: int64"
      ]
     },
     "execution_count": 348,
     "metadata": {},
     "output_type": "execute_result"
    }
   ],
   "execution_count": 348
  },
  {
   "metadata": {},
   "cell_type": "markdown",
   "source": "#### Ogrzewanie"
  },
  {
   "metadata": {
    "ExecuteTime": {
     "end_time": "2024-04-21T23:36:44.850882Z",
     "start_time": "2024-04-21T23:36:44.842308Z"
    }
   },
   "cell_type": "code",
   "source": "df_otodom['heating'].value_counts(dropna=False)",
   "outputs": [
    {
     "data": {
      "text/plain": [
       "heating\n",
       "miejskie         6378\n",
       "NaN              1935\n",
       "gazowe           1139\n",
       "inne              348\n",
       "elektryczne       183\n",
       "kotłownia         130\n",
       "piece kaflowe       2\n",
       "Name: count, dtype: int64"
      ]
     },
     "execution_count": 349,
     "metadata": {},
     "output_type": "execute_result"
    }
   ],
   "execution_count": 349
  },
  {
   "metadata": {},
   "cell_type": "markdown",
   "source": "#### balkon"
  },
  {
   "metadata": {
    "ExecuteTime": {
     "end_time": "2024-04-21T23:36:45.203522Z",
     "start_time": "2024-04-21T23:36:45.196072Z"
    }
   },
   "cell_type": "code",
   "source": "df_otodom['outdoor area'].value_counts(dropna=False)",
   "outputs": [
    {
     "data": {
      "text/plain": [
       "outdoor area\n",
       "balkon                    5578\n",
       "NaN                       2501\n",
       "ogródek                    508\n",
       "balkon, taras              455\n",
       "balkon, ogródek, taras     340\n",
       "taras                      260\n",
       "ogródek, taras             250\n",
       "balkon, ogródek            173\n",
       "taras, balkon               31\n",
       "taras, ogródek              16\n",
       "taras, balkon, ogródek       3\n",
       "Name: count, dtype: int64"
      ]
     },
     "execution_count": 350,
     "metadata": {},
     "output_type": "execute_result"
    }
   ],
   "execution_count": 350
  },
  {
   "metadata": {
    "ExecuteTime": {
     "end_time": "2024-04-21T23:36:45.444518Z",
     "start_time": "2024-04-21T23:36:45.430519Z"
    }
   },
   "cell_type": "code",
   "source": [
    "df_otodom['outdoor area'] = df_otodom['outdoor area'].fillna('None')\n",
    "\n",
    "def standardize_outdoor_area(area):\n",
    "    if area == 'None':\n",
    "        return area\n",
    "    parts = sorted(set(area.replace(' ', '').split(',')))\n",
    "    return ', '.join(parts)\n",
    "\n",
    "df_otodom['outdoor area'] = df_otodom['outdoor area'].apply(standardize_outdoor_area)\n",
    "# outdoor_encoded = df_otodom['outdoor area'].str.get_dummies(sep=', ')\n",
    "# df_otodom = df_otodom.join(outdoor_encoded)"
   ],
   "outputs": [],
   "execution_count": 351
  },
  {
   "metadata": {},
   "cell_type": "markdown",
   "source": "#### ogłoszeniodawca"
  },
  {
   "metadata": {
    "ExecuteTime": {
     "end_time": "2024-04-21T23:36:45.776776Z",
     "start_time": "2024-04-21T23:36:45.769519Z"
    }
   },
   "cell_type": "code",
   "source": "df_otodom['advertiser type'].value_counts(dropna=False)",
   "outputs": [
    {
     "data": {
      "text/plain": [
       "advertiser type\n",
       "biuro nieruchomości    8864\n",
       "prywatny               1100\n",
       "deweloper               151\n",
       "Name: count, dtype: int64"
      ]
     },
     "execution_count": 352,
     "metadata": {},
     "output_type": "execute_result"
    }
   ],
   "execution_count": 352
  },
  {
   "metadata": {
    "ExecuteTime": {
     "end_time": "2024-04-21T23:36:46.001086Z",
     "start_time": "2024-04-21T23:36:45.996097Z"
    }
   },
   "cell_type": "code",
   "source": "df_otodom.loc[(df_otodom['advertiser type'].isna()), 'advertiser type'] = 'biuro nieruchomości'",
   "outputs": [],
   "execution_count": 353
  },
  {
   "metadata": {},
   "cell_type": "markdown",
   "source": "#### winda"
  },
  {
   "metadata": {
    "ExecuteTime": {
     "end_time": "2024-04-21T23:36:46.287663Z",
     "start_time": "2024-04-21T23:36:46.280087Z"
    }
   },
   "cell_type": "code",
   "source": "df_otodom['elevator'].value_counts(dropna=False)",
   "outputs": [
    {
     "data": {
      "text/plain": [
       "elevator\n",
       "tak    5462\n",
       "nie    4653\n",
       "Name: count, dtype: int64"
      ]
     },
     "execution_count": 354,
     "metadata": {},
     "output_type": "execute_result"
    }
   ],
   "execution_count": 354
  },
  {
   "metadata": {
    "ExecuteTime": {
     "end_time": "2024-04-21T23:36:46.528328Z",
     "start_time": "2024-04-21T23:36:46.520165Z"
    }
   },
   "cell_type": "code",
   "source": [
    "# Zgodnie z obowiązującym od 1960 prawem budowalnym\n",
    "df_otodom.loc[df_otodom['elevator'].isna() & (df_otodom['no of floors/stores in the building'] > 3), 'elevator'] = 'tak'\n",
    "df_otodom['elevator'] = df_otodom['elevator'].map({'tak': True, 'nie': False, np.nan: False})\n",
    "df_otodom['elevator'] = df_otodom['elevator'].astype(bool)"
   ],
   "outputs": [],
   "execution_count": 355
  },
  {
   "metadata": {},
   "cell_type": "markdown",
   "source": "#### typ budynku"
  },
  {
   "metadata": {
    "ExecuteTime": {
     "end_time": "2024-04-21T23:36:46.764324Z",
     "start_time": "2024-04-21T23:36:46.757326Z"
    }
   },
   "cell_type": "code",
   "source": "df_otodom['building type'].value_counts(dropna=False)",
   "outputs": [
    {
     "data": {
      "text/plain": [
       "building type\n",
       "blok                5027\n",
       "apartamentowiec     2031\n",
       "brak informacji     1754\n",
       "kamienica           1016\n",
       "dom wolnostojący     191\n",
       "szeregowiec           86\n",
       "plomba                 8\n",
       "loft                   2\n",
       "Name: count, dtype: int64"
      ]
     },
     "execution_count": 356,
     "metadata": {},
     "output_type": "execute_result"
    }
   ],
   "execution_count": 356
  },
  {
   "metadata": {},
   "cell_type": "markdown",
   "source": "#### materiał"
  },
  {
   "metadata": {
    "ExecuteTime": {
     "end_time": "2024-04-21T23:36:47.057221Z",
     "start_time": "2024-04-21T23:36:47.050325Z"
    }
   },
   "cell_type": "code",
   "source": "df_otodom['building type'].value_counts(dropna=False)",
   "outputs": [
    {
     "data": {
      "text/plain": [
       "building type\n",
       "blok                5027\n",
       "apartamentowiec     2031\n",
       "brak informacji     1754\n",
       "kamienica           1016\n",
       "dom wolnostojący     191\n",
       "szeregowiec           86\n",
       "plomba                 8\n",
       "loft                   2\n",
       "Name: count, dtype: int64"
      ]
     },
     "execution_count": 357,
     "metadata": {},
     "output_type": "execute_result"
    }
   ],
   "execution_count": 357
  },
  {
   "cell_type": "code",
   "metadata": {
    "ExecuteTime": {
     "end_time": "2024-04-21T23:36:47.370277Z",
     "start_time": "2024-04-21T23:36:47.351216Z"
    }
   },
   "source": "df_otodom.info()",
   "outputs": [
    {
     "name": "stdout",
     "output_type": "stream",
     "text": [
      "<class 'pandas.core.frame.DataFrame'>\n",
      "Index: 10115 entries, 0 to 12671\n",
      "Data columns (total 21 columns):\n",
      " #   Column                               Non-Null Count  Dtype  \n",
      "---  ------                               --------------  -----  \n",
      " 0   url                                  10115 non-null  object \n",
      " 1   name/title                           10115 non-null  object \n",
      " 2   address                              10115 non-null  object \n",
      " 3   price                                10115 non-null  float64\n",
      " 4   area                                 10115 non-null  float64\n",
      " 5   price-per-area                       10115 non-null  float64\n",
      " 6   floor/store                          10115 non-null  int32  \n",
      " 7   no of floors/stores in the building  10115 non-null  int32  \n",
      " 8   no of rooms                          10115 non-null  int32  \n",
      " 9   year of construction                 8801 non-null   float64\n",
      " 10  parking space                        10115 non-null  bool   \n",
      " 11  market                               10115 non-null  object \n",
      " 12  form of ownership                    9097 non-null   object \n",
      " 13  condition                            7804 non-null   object \n",
      " 14  rent                                 5347 non-null   float64\n",
      " 15  heating                              8180 non-null   object \n",
      " 16  advertiser type                      10115 non-null  object \n",
      " 17  elevator                             10115 non-null  bool   \n",
      " 18  outdoor area                         10115 non-null  object \n",
      " 19  building type                        10115 non-null  object \n",
      " 20  building material                    10115 non-null  object \n",
      "dtypes: bool(2), float64(5), int32(3), object(11)\n",
      "memory usage: 1.4+ MB\n"
     ]
    }
   ],
   "execution_count": 358
  },
  {
   "metadata": {
    "ExecuteTime": {
     "end_time": "2024-04-21T23:36:47.600871Z",
     "start_time": "2024-04-21T23:36:47.587273Z"
    }
   },
   "cell_type": "code",
   "source": [
    "nan_row_count = df_otodom.isna().any(axis=1).sum()\n",
    "df_otodom.shape[0] - nan_row_count"
   ],
   "outputs": [
    {
     "data": {
      "text/plain": [
       "3652"
      ]
     },
     "execution_count": 359,
     "metadata": {},
     "output_type": "execute_result"
    }
   ],
   "execution_count": 359
  },
  {
   "metadata": {},
   "cell_type": "markdown",
   "source": "## Duplikaty"
  },
  {
   "metadata": {
    "ExecuteTime": {
     "end_time": "2024-04-21T23:36:58.725703Z",
     "start_time": "2024-04-21T23:36:47.965866Z"
    }
   },
   "cell_type": "code",
   "source": [
    "def check_similarity(group):\n",
    "    if len(group) > 1:\n",
    "        price_mean = group['price'].mean()\n",
    "        area_mean = group['area'].mean()\n",
    "        price_range = price_mean * 0.01\n",
    "        area_range = area_mean * 0.01\n",
    "        similar_price = group['price'].between(group['price'] - price_range, group['price'] + price_range)\n",
    "        similar_area = group['area'].between(group['area'] - area_range, group['area']+ area_range)\n",
    "        group['is_duplicate'] = similar_price & similar_area\n",
    "    else:\n",
    "        group['is_duplicate'] = False\n",
    "    return group\n",
    "\n",
    "df_otodom = df_otodom.groupby(['address', 'floor/store', 'no of floors/stores in the building', 'no of rooms']).apply(check_similarity).reset_index(drop=True)\n",
    "\n",
    "duplicates = df_otodom[df_otodom['is_duplicate']]\n",
    "non_duplicates = df_otodom[~df_otodom['is_duplicate']]\n",
    "\n",
    "most_complete_duplicates = duplicates.groupby(['address', 'floor/store', 'no of floors/stores in the building', 'no of rooms']).apply(lambda x: x.loc[x.notna().sum(axis=1).idxmax()]).reset_index(drop=True)\n",
    "\n",
    "filtered_df_otodom = pd.concat([non_duplicates, most_complete_duplicates], ignore_index=True)\n",
    "\n",
    "sorted_filtered_df_otodom = filtered_df_otodom.sort_values(by=['address', 'price', 'area'])\n",
    "sorted_filtered_df_otodom\n"
   ],
   "outputs": [
    {
     "name": "stderr",
     "output_type": "stream",
     "text": [
      "C:\\Users\\Piotr\\AppData\\Local\\Temp\\ipykernel_4168\\1680486895.py:14: DeprecationWarning: DataFrameGroupBy.apply operated on the grouping columns. This behavior is deprecated, and in a future version of pandas the grouping columns will be excluded from the operation. Either pass `include_groups=False` to exclude the groupings or explicitly select the grouping columns after groupby to silence this warning.\n",
      "  df_otodom = df_otodom.groupby(['address', 'floor/store', 'no of floors/stores in the building', 'no of rooms']).apply(check_similarity).reset_index(drop=True)\n",
      "C:\\Users\\Piotr\\AppData\\Local\\Temp\\ipykernel_4168\\1680486895.py:19: DeprecationWarning: DataFrameGroupBy.apply operated on the grouping columns. This behavior is deprecated, and in a future version of pandas the grouping columns will be excluded from the operation. Either pass `include_groups=False` to exclude the groupings or explicitly select the grouping columns after groupby to silence this warning.\n",
      "  most_complete_duplicates = duplicates.groupby(['address', 'floor/store', 'no of floors/stores in the building', 'no of rooms']).apply(lambda x: x.loc[x.notna().sum(axis=1).idxmax()]).reset_index(drop=True)\n"
     ]
    },
    {
     "data": {
      "text/plain": [
       "                                                    url  \\\n",
       "0     https://www.otodom.pl/pl/oferta/nowe-mieszkani...   \n",
       "1     https://www.otodom.pl/pl/oferta/balkon-3-pokoj...   \n",
       "3788  https://www.otodom.pl/pl/oferta/zlocien-2-poko...   \n",
       "2     https://www.otodom.pl/pl/oferta/komfortowe-2-p...   \n",
       "3     https://www.otodom.pl/pl/oferta/aleja-29-listo...   \n",
       "...                                                 ...   \n",
       "3779  https://www.otodom.pl/pl/oferta/2-pokojowe-mie...   \n",
       "3785  https://www.otodom.pl/pl/oferta/3-pokoje-na-za...   \n",
       "5716  https://www.otodom.pl/pl/oferta/mieszkanie-73-...   \n",
       "3786  https://www.otodom.pl/pl/oferta/widokowe-m3-z-...   \n",
       "3787  https://www.otodom.pl/pl/oferta/1m-wyposazone-...   \n",
       "\n",
       "                                             name/title  \\\n",
       "0                    Nowe mieszkania na Górce Narodowej   \n",
       "1                           balkon + 3 pokoje + parking   \n",
       "3788                          Złocień, 2 pokoje, balkon   \n",
       "2                 komfortowe 2-pokojowe mieszkanie 42m2   \n",
       "3                            Aleja 29 Listopada obok UR   \n",
       "...                                                 ...   \n",
       "3779        2-pokojowe mieszkanie 36,75 m2 ul.Siemaszki   \n",
       "3785                            3 pokoje na Żabińcu !!!   \n",
       "5716                          Mieszkanie, 73 m², Kraków   \n",
       "3786  Widokowe M3 z klimatyzacją i parkingiem, Żabiniec   \n",
       "3787   1M! Wyposażone|Ogródek 25m2|Inwestycja - ROI 10%   \n",
       "\n",
       "                                                address      price   area  \\\n",
       "0     29 listopada - okolice, Górka Narodowa, Prądni...   778689.0  61.30   \n",
       "1     Adama Vetulaniego, Prądnik Biały, Prądnik Biał...   970000.0  55.00   \n",
       "3788  Agatowa, Domagały,, Złocień, Bieżanów-Prokocim...   625000.0  36.80   \n",
       "2     Albertyńskie, Bieńczyce, Bieńczyce, Kraków, ma...   559000.0  42.00   \n",
       "3     Aleja 29 Listopada, Górka Narodowa, Prądnik Bi...   695000.0  48.10   \n",
       "...                                                 ...        ...    ...   \n",
       "3779       Żabiniec, Prądnik Biały, Kraków, małopolskie   735000.0  36.75   \n",
       "3785       Żabiniec, Prądnik Biały, Kraków, małopolskie   850000.0  77.00   \n",
       "5716       Żabiniec, Prądnik Biały, Kraków, małopolskie  1100000.0  73.00   \n",
       "3786       Żabiniec, Prądnik Biały, Kraków, małopolskie  1179000.0  71.50   \n",
       "3787  żabniec, Żabiniec, Prądnik Biały, Kraków, mało...   639000.0  26.00   \n",
       "\n",
       "      price-per-area  floor/store  no of floors/stores in the building  \\\n",
       "0            12703.0            1                                    5   \n",
       "1            17636.0            4                                    7   \n",
       "3788         16984.0            4                                    4   \n",
       "2            13310.0            2                                    4   \n",
       "3            14449.0            3                                    3   \n",
       "...              ...          ...                                  ...   \n",
       "3779         20000.0            0                                    4   \n",
       "3785         11039.0            4                                    6   \n",
       "5716         15068.0            0                                    6   \n",
       "3786         16490.0            5                                    8   \n",
       "3787         24577.0            0                                    4   \n",
       "\n",
       "      no of rooms  year of construction  ...  form of ownership  \\\n",
       "0               2                2023.0  ...     pełna własność   \n",
       "1               3                2023.0  ...     pełna własność   \n",
       "3788            2                2019.0  ...     pełna własność   \n",
       "2               2                1964.0  ...                NaN   \n",
       "3               2                   NaN  ...     pełna własność   \n",
       "...           ...                   ...  ...                ...   \n",
       "3779            2                1970.0  ...     pełna własność   \n",
       "3785            3                2002.0  ...     pełna własność   \n",
       "5716            3                2005.0  ...     pełna własność   \n",
       "3786            3                2001.0  ...     pełna własność   \n",
       "3787            1                2017.0  ...     pełna własność   \n",
       "\n",
       "            condition   rent   heating      advertiser type elevator  \\\n",
       "0                 NaN    NaN  miejskie  biuro nieruchomości     True   \n",
       "1                 NaN  450.0  miejskie  biuro nieruchomości     True   \n",
       "3788  do zamieszkania  425.0  miejskie  biuro nieruchomości     True   \n",
       "2                 NaN  500.0  miejskie  biuro nieruchomości    False   \n",
       "3     do zamieszkania    NaN    gazowe  biuro nieruchomości    False   \n",
       "...               ...    ...       ...                  ...      ...   \n",
       "3779  do zamieszkania  530.0  miejskie             prywatny    False   \n",
       "3785              NaN  800.0  miejskie  biuro nieruchomości     True   \n",
       "5716              NaN  700.0  miejskie  biuro nieruchomości     True   \n",
       "3786  do zamieszkania  940.0  miejskie  biuro nieruchomości     True   \n",
       "3787  do zamieszkania  300.0  miejskie  biuro nieruchomości    False   \n",
       "\n",
       "     outdoor area    building type building material is_duplicate  \n",
       "0          balkon  brak informacji   brak informacji        False  \n",
       "1          balkon             blok   brak informacji        False  \n",
       "3788       balkon             blok   brak informacji         True  \n",
       "2          balkon             blok   brak informacji        False  \n",
       "3          balkon             blok   brak informacji        False  \n",
       "...           ...              ...               ...          ...  \n",
       "3779       balkon             blok   brak informacji        False  \n",
       "3785       balkon             blok   brak informacji        False  \n",
       "5716       balkon             blok   brak informacji         True  \n",
       "3786       balkon  apartamentowiec   brak informacji        False  \n",
       "3787      ogródek             blok   brak informacji        False  \n",
       "\n",
       "[5717 rows x 22 columns]"
      ],
      "text/html": [
       "<div>\n",
       "<style scoped>\n",
       "    .dataframe tbody tr th:only-of-type {\n",
       "        vertical-align: middle;\n",
       "    }\n",
       "\n",
       "    .dataframe tbody tr th {\n",
       "        vertical-align: top;\n",
       "    }\n",
       "\n",
       "    .dataframe thead th {\n",
       "        text-align: right;\n",
       "    }\n",
       "</style>\n",
       "<table border=\"1\" class=\"dataframe\">\n",
       "  <thead>\n",
       "    <tr style=\"text-align: right;\">\n",
       "      <th></th>\n",
       "      <th>url</th>\n",
       "      <th>name/title</th>\n",
       "      <th>address</th>\n",
       "      <th>price</th>\n",
       "      <th>area</th>\n",
       "      <th>price-per-area</th>\n",
       "      <th>floor/store</th>\n",
       "      <th>no of floors/stores in the building</th>\n",
       "      <th>no of rooms</th>\n",
       "      <th>year of construction</th>\n",
       "      <th>...</th>\n",
       "      <th>form of ownership</th>\n",
       "      <th>condition</th>\n",
       "      <th>rent</th>\n",
       "      <th>heating</th>\n",
       "      <th>advertiser type</th>\n",
       "      <th>elevator</th>\n",
       "      <th>outdoor area</th>\n",
       "      <th>building type</th>\n",
       "      <th>building material</th>\n",
       "      <th>is_duplicate</th>\n",
       "    </tr>\n",
       "  </thead>\n",
       "  <tbody>\n",
       "    <tr>\n",
       "      <th>0</th>\n",
       "      <td>https://www.otodom.pl/pl/oferta/nowe-mieszkani...</td>\n",
       "      <td>Nowe mieszkania na Górce Narodowej</td>\n",
       "      <td>29 listopada - okolice, Górka Narodowa, Prądni...</td>\n",
       "      <td>778689.0</td>\n",
       "      <td>61.30</td>\n",
       "      <td>12703.0</td>\n",
       "      <td>1</td>\n",
       "      <td>5</td>\n",
       "      <td>2</td>\n",
       "      <td>2023.0</td>\n",
       "      <td>...</td>\n",
       "      <td>pełna własność</td>\n",
       "      <td>NaN</td>\n",
       "      <td>NaN</td>\n",
       "      <td>miejskie</td>\n",
       "      <td>biuro nieruchomości</td>\n",
       "      <td>True</td>\n",
       "      <td>balkon</td>\n",
       "      <td>brak informacji</td>\n",
       "      <td>brak informacji</td>\n",
       "      <td>False</td>\n",
       "    </tr>\n",
       "    <tr>\n",
       "      <th>1</th>\n",
       "      <td>https://www.otodom.pl/pl/oferta/balkon-3-pokoj...</td>\n",
       "      <td>balkon + 3 pokoje + parking</td>\n",
       "      <td>Adama Vetulaniego, Prądnik Biały, Prądnik Biał...</td>\n",
       "      <td>970000.0</td>\n",
       "      <td>55.00</td>\n",
       "      <td>17636.0</td>\n",
       "      <td>4</td>\n",
       "      <td>7</td>\n",
       "      <td>3</td>\n",
       "      <td>2023.0</td>\n",
       "      <td>...</td>\n",
       "      <td>pełna własność</td>\n",
       "      <td>NaN</td>\n",
       "      <td>450.0</td>\n",
       "      <td>miejskie</td>\n",
       "      <td>biuro nieruchomości</td>\n",
       "      <td>True</td>\n",
       "      <td>balkon</td>\n",
       "      <td>blok</td>\n",
       "      <td>brak informacji</td>\n",
       "      <td>False</td>\n",
       "    </tr>\n",
       "    <tr>\n",
       "      <th>3788</th>\n",
       "      <td>https://www.otodom.pl/pl/oferta/zlocien-2-poko...</td>\n",
       "      <td>Złocień, 2 pokoje, balkon</td>\n",
       "      <td>Agatowa, Domagały,, Złocień, Bieżanów-Prokocim...</td>\n",
       "      <td>625000.0</td>\n",
       "      <td>36.80</td>\n",
       "      <td>16984.0</td>\n",
       "      <td>4</td>\n",
       "      <td>4</td>\n",
       "      <td>2</td>\n",
       "      <td>2019.0</td>\n",
       "      <td>...</td>\n",
       "      <td>pełna własność</td>\n",
       "      <td>do zamieszkania</td>\n",
       "      <td>425.0</td>\n",
       "      <td>miejskie</td>\n",
       "      <td>biuro nieruchomości</td>\n",
       "      <td>True</td>\n",
       "      <td>balkon</td>\n",
       "      <td>blok</td>\n",
       "      <td>brak informacji</td>\n",
       "      <td>True</td>\n",
       "    </tr>\n",
       "    <tr>\n",
       "      <th>2</th>\n",
       "      <td>https://www.otodom.pl/pl/oferta/komfortowe-2-p...</td>\n",
       "      <td>komfortowe 2-pokojowe mieszkanie 42m2</td>\n",
       "      <td>Albertyńskie, Bieńczyce, Bieńczyce, Kraków, ma...</td>\n",
       "      <td>559000.0</td>\n",
       "      <td>42.00</td>\n",
       "      <td>13310.0</td>\n",
       "      <td>2</td>\n",
       "      <td>4</td>\n",
       "      <td>2</td>\n",
       "      <td>1964.0</td>\n",
       "      <td>...</td>\n",
       "      <td>NaN</td>\n",
       "      <td>NaN</td>\n",
       "      <td>500.0</td>\n",
       "      <td>miejskie</td>\n",
       "      <td>biuro nieruchomości</td>\n",
       "      <td>False</td>\n",
       "      <td>balkon</td>\n",
       "      <td>blok</td>\n",
       "      <td>brak informacji</td>\n",
       "      <td>False</td>\n",
       "    </tr>\n",
       "    <tr>\n",
       "      <th>3</th>\n",
       "      <td>https://www.otodom.pl/pl/oferta/aleja-29-listo...</td>\n",
       "      <td>Aleja 29 Listopada obok UR</td>\n",
       "      <td>Aleja 29 Listopada, Górka Narodowa, Prądnik Bi...</td>\n",
       "      <td>695000.0</td>\n",
       "      <td>48.10</td>\n",
       "      <td>14449.0</td>\n",
       "      <td>3</td>\n",
       "      <td>3</td>\n",
       "      <td>2</td>\n",
       "      <td>NaN</td>\n",
       "      <td>...</td>\n",
       "      <td>pełna własność</td>\n",
       "      <td>do zamieszkania</td>\n",
       "      <td>NaN</td>\n",
       "      <td>gazowe</td>\n",
       "      <td>biuro nieruchomości</td>\n",
       "      <td>False</td>\n",
       "      <td>balkon</td>\n",
       "      <td>blok</td>\n",
       "      <td>brak informacji</td>\n",
       "      <td>False</td>\n",
       "    </tr>\n",
       "    <tr>\n",
       "      <th>...</th>\n",
       "      <td>...</td>\n",
       "      <td>...</td>\n",
       "      <td>...</td>\n",
       "      <td>...</td>\n",
       "      <td>...</td>\n",
       "      <td>...</td>\n",
       "      <td>...</td>\n",
       "      <td>...</td>\n",
       "      <td>...</td>\n",
       "      <td>...</td>\n",
       "      <td>...</td>\n",
       "      <td>...</td>\n",
       "      <td>...</td>\n",
       "      <td>...</td>\n",
       "      <td>...</td>\n",
       "      <td>...</td>\n",
       "      <td>...</td>\n",
       "      <td>...</td>\n",
       "      <td>...</td>\n",
       "      <td>...</td>\n",
       "      <td>...</td>\n",
       "    </tr>\n",
       "    <tr>\n",
       "      <th>3779</th>\n",
       "      <td>https://www.otodom.pl/pl/oferta/2-pokojowe-mie...</td>\n",
       "      <td>2-pokojowe mieszkanie 36,75 m2 ul.Siemaszki</td>\n",
       "      <td>Żabiniec, Prądnik Biały, Kraków, małopolskie</td>\n",
       "      <td>735000.0</td>\n",
       "      <td>36.75</td>\n",
       "      <td>20000.0</td>\n",
       "      <td>0</td>\n",
       "      <td>4</td>\n",
       "      <td>2</td>\n",
       "      <td>1970.0</td>\n",
       "      <td>...</td>\n",
       "      <td>pełna własność</td>\n",
       "      <td>do zamieszkania</td>\n",
       "      <td>530.0</td>\n",
       "      <td>miejskie</td>\n",
       "      <td>prywatny</td>\n",
       "      <td>False</td>\n",
       "      <td>balkon</td>\n",
       "      <td>blok</td>\n",
       "      <td>brak informacji</td>\n",
       "      <td>False</td>\n",
       "    </tr>\n",
       "    <tr>\n",
       "      <th>3785</th>\n",
       "      <td>https://www.otodom.pl/pl/oferta/3-pokoje-na-za...</td>\n",
       "      <td>3 pokoje na Żabińcu !!!</td>\n",
       "      <td>Żabiniec, Prądnik Biały, Kraków, małopolskie</td>\n",
       "      <td>850000.0</td>\n",
       "      <td>77.00</td>\n",
       "      <td>11039.0</td>\n",
       "      <td>4</td>\n",
       "      <td>6</td>\n",
       "      <td>3</td>\n",
       "      <td>2002.0</td>\n",
       "      <td>...</td>\n",
       "      <td>pełna własność</td>\n",
       "      <td>NaN</td>\n",
       "      <td>800.0</td>\n",
       "      <td>miejskie</td>\n",
       "      <td>biuro nieruchomości</td>\n",
       "      <td>True</td>\n",
       "      <td>balkon</td>\n",
       "      <td>blok</td>\n",
       "      <td>brak informacji</td>\n",
       "      <td>False</td>\n",
       "    </tr>\n",
       "    <tr>\n",
       "      <th>5716</th>\n",
       "      <td>https://www.otodom.pl/pl/oferta/mieszkanie-73-...</td>\n",
       "      <td>Mieszkanie, 73 m², Kraków</td>\n",
       "      <td>Żabiniec, Prądnik Biały, Kraków, małopolskie</td>\n",
       "      <td>1100000.0</td>\n",
       "      <td>73.00</td>\n",
       "      <td>15068.0</td>\n",
       "      <td>0</td>\n",
       "      <td>6</td>\n",
       "      <td>3</td>\n",
       "      <td>2005.0</td>\n",
       "      <td>...</td>\n",
       "      <td>pełna własność</td>\n",
       "      <td>NaN</td>\n",
       "      <td>700.0</td>\n",
       "      <td>miejskie</td>\n",
       "      <td>biuro nieruchomości</td>\n",
       "      <td>True</td>\n",
       "      <td>balkon</td>\n",
       "      <td>blok</td>\n",
       "      <td>brak informacji</td>\n",
       "      <td>True</td>\n",
       "    </tr>\n",
       "    <tr>\n",
       "      <th>3786</th>\n",
       "      <td>https://www.otodom.pl/pl/oferta/widokowe-m3-z-...</td>\n",
       "      <td>Widokowe M3 z klimatyzacją i parkingiem, Żabiniec</td>\n",
       "      <td>Żabiniec, Prądnik Biały, Kraków, małopolskie</td>\n",
       "      <td>1179000.0</td>\n",
       "      <td>71.50</td>\n",
       "      <td>16490.0</td>\n",
       "      <td>5</td>\n",
       "      <td>8</td>\n",
       "      <td>3</td>\n",
       "      <td>2001.0</td>\n",
       "      <td>...</td>\n",
       "      <td>pełna własność</td>\n",
       "      <td>do zamieszkania</td>\n",
       "      <td>940.0</td>\n",
       "      <td>miejskie</td>\n",
       "      <td>biuro nieruchomości</td>\n",
       "      <td>True</td>\n",
       "      <td>balkon</td>\n",
       "      <td>apartamentowiec</td>\n",
       "      <td>brak informacji</td>\n",
       "      <td>False</td>\n",
       "    </tr>\n",
       "    <tr>\n",
       "      <th>3787</th>\n",
       "      <td>https://www.otodom.pl/pl/oferta/1m-wyposazone-...</td>\n",
       "      <td>1M! Wyposażone|Ogródek 25m2|Inwestycja - ROI 10%</td>\n",
       "      <td>żabniec, Żabiniec, Prądnik Biały, Kraków, mało...</td>\n",
       "      <td>639000.0</td>\n",
       "      <td>26.00</td>\n",
       "      <td>24577.0</td>\n",
       "      <td>0</td>\n",
       "      <td>4</td>\n",
       "      <td>1</td>\n",
       "      <td>2017.0</td>\n",
       "      <td>...</td>\n",
       "      <td>pełna własność</td>\n",
       "      <td>do zamieszkania</td>\n",
       "      <td>300.0</td>\n",
       "      <td>miejskie</td>\n",
       "      <td>biuro nieruchomości</td>\n",
       "      <td>False</td>\n",
       "      <td>ogródek</td>\n",
       "      <td>blok</td>\n",
       "      <td>brak informacji</td>\n",
       "      <td>False</td>\n",
       "    </tr>\n",
       "  </tbody>\n",
       "</table>\n",
       "<p>5717 rows × 22 columns</p>\n",
       "</div>"
      ]
     },
     "execution_count": 360,
     "metadata": {},
     "output_type": "execute_result"
    }
   ],
   "execution_count": 360
  },
  {
   "cell_type": "code",
   "metadata": {
    "ExecuteTime": {
     "end_time": "2024-04-21T23:36:58.744205Z",
     "start_time": "2024-04-21T23:36:58.727700Z"
    }
   },
   "source": "sorted_filtered_df_otodom.info()",
   "outputs": [
    {
     "name": "stdout",
     "output_type": "stream",
     "text": [
      "<class 'pandas.core.frame.DataFrame'>\n",
      "Index: 5717 entries, 0 to 3787\n",
      "Data columns (total 22 columns):\n",
      " #   Column                               Non-Null Count  Dtype  \n",
      "---  ------                               --------------  -----  \n",
      " 0   url                                  5717 non-null   object \n",
      " 1   name/title                           5717 non-null   object \n",
      " 2   address                              5717 non-null   object \n",
      " 3   price                                5717 non-null   float64\n",
      " 4   area                                 5717 non-null   float64\n",
      " 5   price-per-area                       5717 non-null   float64\n",
      " 6   floor/store                          5717 non-null   int32  \n",
      " 7   no of floors/stores in the building  5717 non-null   int32  \n",
      " 8   no of rooms                          5717 non-null   int32  \n",
      " 9   year of construction                 5023 non-null   float64\n",
      " 10  parking space                        5717 non-null   bool   \n",
      " 11  market                               5717 non-null   object \n",
      " 12  form of ownership                    5219 non-null   object \n",
      " 13  condition                            4722 non-null   object \n",
      " 14  rent                                 3526 non-null   float64\n",
      " 15  heating                              4870 non-null   object \n",
      " 16  advertiser type                      5717 non-null   object \n",
      " 17  elevator                             5717 non-null   bool   \n",
      " 18  outdoor area                         5717 non-null   object \n",
      " 19  building type                        5717 non-null   object \n",
      " 20  building material                    5717 non-null   object \n",
      " 21  is_duplicate                         5717 non-null   bool   \n",
      "dtypes: bool(3), float64(5), int32(3), object(11)\n",
      "memory usage: 843.0+ KB\n"
     ]
    }
   ],
   "execution_count": 361
  },
  {
   "metadata": {
    "ExecuteTime": {
     "end_time": "2024-04-21T23:36:58.759205Z",
     "start_time": "2024-04-21T23:36:58.746200Z"
    }
   },
   "cell_type": "code",
   "source": [
    "nan_row_count = sorted_filtered_df_otodom.isna().any(axis=1).sum()\n",
    "sorted_filtered_df_otodom.shape[0] - nan_row_count"
   ],
   "outputs": [
    {
     "data": {
      "text/plain": [
       "2566"
      ]
     },
     "execution_count": 362,
     "metadata": {},
     "output_type": "execute_result"
    }
   ],
   "execution_count": 362
  },
  {
   "cell_type": "code",
   "metadata": {
    "ExecuteTime": {
     "end_time": "2024-04-21T23:36:58.797199Z",
     "start_time": "2024-04-21T23:36:58.762200Z"
    }
   },
   "source": "sorted_filtered_df_otodom.describe()",
   "outputs": [
    {
     "data": {
      "text/plain": [
       "              price           area  price-per-area  floor/store  \\\n",
       "count  5.717000e+03    5717.000000     5717.000000  5717.000000   \n",
       "mean   9.834145e+05     229.623885    16694.117544     2.387266   \n",
       "std    7.136374e+05   12894.236570     4733.735962     2.129904   \n",
       "min    2.000000e+03      11.700000        1.000000    -1.000000   \n",
       "25%    6.490000e+05      40.000000    13849.000000     1.000000   \n",
       "50%    8.040000e+05      52.000000    15920.000000     2.000000   \n",
       "75%    1.092000e+06      68.000000    18506.000000     3.000000   \n",
       "max    1.350000e+07  975000.000000    70000.000000    10.000000   \n",
       "\n",
       "       no of floors/stores in the building  no of rooms  year of construction  \\\n",
       "count                          5717.000000  5717.000000           5023.000000   \n",
       "mean                              4.804968     2.641945           1998.236910   \n",
       "std                               2.508053     1.116865             38.831099   \n",
       "min                               1.000000     1.000000           1310.000000   \n",
       "25%                               3.000000     2.000000           1980.000000   \n",
       "50%                               4.000000     3.000000           2016.000000   \n",
       "75%                               6.000000     3.000000           2023.000000   \n",
       "max                              16.000000    10.000000           2026.000000   \n",
       "\n",
       "                rent  \n",
       "count    3526.000000  \n",
       "mean      613.069740  \n",
       "std      3369.267116  \n",
       "min         0.010000  \n",
       "25%       400.000000  \n",
       "50%       530.000000  \n",
       "75%       700.000000  \n",
       "max    200000.000000  "
      ],
      "text/html": [
       "<div>\n",
       "<style scoped>\n",
       "    .dataframe tbody tr th:only-of-type {\n",
       "        vertical-align: middle;\n",
       "    }\n",
       "\n",
       "    .dataframe tbody tr th {\n",
       "        vertical-align: top;\n",
       "    }\n",
       "\n",
       "    .dataframe thead th {\n",
       "        text-align: right;\n",
       "    }\n",
       "</style>\n",
       "<table border=\"1\" class=\"dataframe\">\n",
       "  <thead>\n",
       "    <tr style=\"text-align: right;\">\n",
       "      <th></th>\n",
       "      <th>price</th>\n",
       "      <th>area</th>\n",
       "      <th>price-per-area</th>\n",
       "      <th>floor/store</th>\n",
       "      <th>no of floors/stores in the building</th>\n",
       "      <th>no of rooms</th>\n",
       "      <th>year of construction</th>\n",
       "      <th>rent</th>\n",
       "    </tr>\n",
       "  </thead>\n",
       "  <tbody>\n",
       "    <tr>\n",
       "      <th>count</th>\n",
       "      <td>5.717000e+03</td>\n",
       "      <td>5717.000000</td>\n",
       "      <td>5717.000000</td>\n",
       "      <td>5717.000000</td>\n",
       "      <td>5717.000000</td>\n",
       "      <td>5717.000000</td>\n",
       "      <td>5023.000000</td>\n",
       "      <td>3526.000000</td>\n",
       "    </tr>\n",
       "    <tr>\n",
       "      <th>mean</th>\n",
       "      <td>9.834145e+05</td>\n",
       "      <td>229.623885</td>\n",
       "      <td>16694.117544</td>\n",
       "      <td>2.387266</td>\n",
       "      <td>4.804968</td>\n",
       "      <td>2.641945</td>\n",
       "      <td>1998.236910</td>\n",
       "      <td>613.069740</td>\n",
       "    </tr>\n",
       "    <tr>\n",
       "      <th>std</th>\n",
       "      <td>7.136374e+05</td>\n",
       "      <td>12894.236570</td>\n",
       "      <td>4733.735962</td>\n",
       "      <td>2.129904</td>\n",
       "      <td>2.508053</td>\n",
       "      <td>1.116865</td>\n",
       "      <td>38.831099</td>\n",
       "      <td>3369.267116</td>\n",
       "    </tr>\n",
       "    <tr>\n",
       "      <th>min</th>\n",
       "      <td>2.000000e+03</td>\n",
       "      <td>11.700000</td>\n",
       "      <td>1.000000</td>\n",
       "      <td>-1.000000</td>\n",
       "      <td>1.000000</td>\n",
       "      <td>1.000000</td>\n",
       "      <td>1310.000000</td>\n",
       "      <td>0.010000</td>\n",
       "    </tr>\n",
       "    <tr>\n",
       "      <th>25%</th>\n",
       "      <td>6.490000e+05</td>\n",
       "      <td>40.000000</td>\n",
       "      <td>13849.000000</td>\n",
       "      <td>1.000000</td>\n",
       "      <td>3.000000</td>\n",
       "      <td>2.000000</td>\n",
       "      <td>1980.000000</td>\n",
       "      <td>400.000000</td>\n",
       "    </tr>\n",
       "    <tr>\n",
       "      <th>50%</th>\n",
       "      <td>8.040000e+05</td>\n",
       "      <td>52.000000</td>\n",
       "      <td>15920.000000</td>\n",
       "      <td>2.000000</td>\n",
       "      <td>4.000000</td>\n",
       "      <td>3.000000</td>\n",
       "      <td>2016.000000</td>\n",
       "      <td>530.000000</td>\n",
       "    </tr>\n",
       "    <tr>\n",
       "      <th>75%</th>\n",
       "      <td>1.092000e+06</td>\n",
       "      <td>68.000000</td>\n",
       "      <td>18506.000000</td>\n",
       "      <td>3.000000</td>\n",
       "      <td>6.000000</td>\n",
       "      <td>3.000000</td>\n",
       "      <td>2023.000000</td>\n",
       "      <td>700.000000</td>\n",
       "    </tr>\n",
       "    <tr>\n",
       "      <th>max</th>\n",
       "      <td>1.350000e+07</td>\n",
       "      <td>975000.000000</td>\n",
       "      <td>70000.000000</td>\n",
       "      <td>10.000000</td>\n",
       "      <td>16.000000</td>\n",
       "      <td>10.000000</td>\n",
       "      <td>2026.000000</td>\n",
       "      <td>200000.000000</td>\n",
       "    </tr>\n",
       "  </tbody>\n",
       "</table>\n",
       "</div>"
      ]
     },
     "execution_count": 363,
     "metadata": {},
     "output_type": "execute_result"
    }
   ],
   "execution_count": 363
  },
  {
   "metadata": {},
   "cell_type": "markdown",
   "source": "## Adresy"
  },
  {
   "metadata": {
    "ExecuteTime": {
     "end_time": "2024-04-22T00:22:45.761241Z",
     "start_time": "2024-04-22T00:22:45.621959Z"
    }
   },
   "cell_type": "code",
   "source": [
    "import re\n",
    "\n",
    "# Regex pattern adjusted to exclude capturing prefixes directly\n",
    "pattern = r'(ul\\.|Aleja|aleja|pl\\.|al\\.)\\s*([^,\\d]+[\\d]*\\b)'\n",
    "\n",
    "def update_address(row):\n",
    "    if pd.isna(row['name/title']):\n",
    "        return row['address']\n",
    "\n",
    "    match = re.search(pattern, row['name/title'])\n",
    "    if match:\n",
    "        street_name = match.group(2).strip()\n",
    "        if pd.isna(row['address']):\n",
    "            updated_address = street_name\n",
    "        else:\n",
    "            if street_name.lower() not in row['address'].lower():\n",
    "                updated_address = f\"{street_name}, {row['address']}\"\n",
    "            else:\n",
    "                updated_address = row['address']\n",
    "    else:\n",
    "        updated_address = row['address']\n",
    "\n",
    "    # if pd.notna(updated_address) and 'kraków' not in updated_address.lower():\n",
    "    #     updated_address += \", Kraków, małopolskie\"\n",
    "    \n",
    "    return updated_address\n",
    "\n",
    "sorted_filtered_df_otodom['address'] = sorted_filtered_df_otodom.apply(update_address, axis=1)\n",
    "sorted_filtered_df_otodom['address'] = sorted_filtered_df_otodom['address'].str.replace(r'^ul\\.\\s+', '', regex=True)\n",
    "sorted_filtered_df_otodom['address'] = sorted_filtered_df_otodom['address'].str.replace(r',\\s*ul\\.\\s[^,\\d]+,\\s', ', ', regex=True)\n",
    "\n",
    "sorted_filtered_df_otodom\n"
   ],
   "outputs": [
    {
     "data": {
      "text/plain": [
       "                                                    url  \\\n",
       "0     https://www.otodom.pl/pl/oferta/nowe-mieszkani...   \n",
       "1     https://www.otodom.pl/pl/oferta/balkon-3-pokoj...   \n",
       "3788  https://www.otodom.pl/pl/oferta/zlocien-2-poko...   \n",
       "2     https://www.otodom.pl/pl/oferta/komfortowe-2-p...   \n",
       "3     https://www.otodom.pl/pl/oferta/aleja-29-listo...   \n",
       "...                                                 ...   \n",
       "3779  https://www.otodom.pl/pl/oferta/2-pokojowe-mie...   \n",
       "3785  https://www.otodom.pl/pl/oferta/3-pokoje-na-za...   \n",
       "5716  https://www.otodom.pl/pl/oferta/mieszkanie-73-...   \n",
       "3786  https://www.otodom.pl/pl/oferta/widokowe-m3-z-...   \n",
       "3787  https://www.otodom.pl/pl/oferta/1m-wyposazone-...   \n",
       "\n",
       "                                             name/title  \\\n",
       "0                    Nowe mieszkania na Górce Narodowej   \n",
       "1                           balkon + 3 pokoje + parking   \n",
       "3788                          Złocień, 2 pokoje, balkon   \n",
       "2                 komfortowe 2-pokojowe mieszkanie 42m2   \n",
       "3                            Aleja 29 Listopada obok UR   \n",
       "...                                                 ...   \n",
       "3779        2-pokojowe mieszkanie 36,75 m2 ul.Siemaszki   \n",
       "3785                            3 pokoje na Żabińcu !!!   \n",
       "5716                          Mieszkanie, 73 m², Kraków   \n",
       "3786  Widokowe M3 z klimatyzacją i parkingiem, Żabiniec   \n",
       "3787   1M! Wyposażone|Ogródek 25m2|Inwestycja - ROI 10%   \n",
       "\n",
       "                                                address      price   area  \\\n",
       "0     29 listopada - okolice, Górka Narodowa, Prądni...   778689.0  61.30   \n",
       "1     Adama Vetulaniego, Prądnik Biały, Prądnik Biał...   970000.0  55.00   \n",
       "3788  Agatowa, Domagały,, Złocień, Bieżanów-Prokocim...   625000.0  36.80   \n",
       "2     Albertyńskie, Bieńczyce, Bieńczyce, Kraków, ma...   559000.0  42.00   \n",
       "3     Aleja 29 Listopada, Górka Narodowa, Prądnik Bi...   695000.0  48.10   \n",
       "...                                                 ...        ...    ...   \n",
       "3779  Siemaszki, Żabiniec, Prądnik Biały, Kraków, ma...   735000.0  36.75   \n",
       "3785       Żabiniec, Prądnik Biały, Kraków, małopolskie   850000.0  77.00   \n",
       "5716       Żabiniec, Prądnik Biały, Kraków, małopolskie  1100000.0  73.00   \n",
       "3786       Żabiniec, Prądnik Biały, Kraków, małopolskie  1179000.0  71.50   \n",
       "3787  żabniec, Żabiniec, Prądnik Biały, Kraków, mało...   639000.0  26.00   \n",
       "\n",
       "      price-per-area  floor/store  no of floors/stores in the building  \\\n",
       "0            12703.0            1                                    5   \n",
       "1            17636.0            4                                    7   \n",
       "3788         16984.0            4                                    4   \n",
       "2            13310.0            2                                    4   \n",
       "3            14449.0            3                                    3   \n",
       "...              ...          ...                                  ...   \n",
       "3779         20000.0            0                                    4   \n",
       "3785         11039.0            4                                    6   \n",
       "5716         15068.0            0                                    6   \n",
       "3786         16490.0            5                                    8   \n",
       "3787         24577.0            0                                    4   \n",
       "\n",
       "      no of rooms  year of construction  ...  form of ownership  \\\n",
       "0               2                2023.0  ...     pełna własność   \n",
       "1               3                2023.0  ...     pełna własność   \n",
       "3788            2                2019.0  ...     pełna własność   \n",
       "2               2                1964.0  ...                NaN   \n",
       "3               2                   NaN  ...     pełna własność   \n",
       "...           ...                   ...  ...                ...   \n",
       "3779            2                1970.0  ...     pełna własność   \n",
       "3785            3                2002.0  ...     pełna własność   \n",
       "5716            3                2005.0  ...     pełna własność   \n",
       "3786            3                2001.0  ...     pełna własność   \n",
       "3787            1                2017.0  ...     pełna własność   \n",
       "\n",
       "            condition   rent   heating      advertiser type elevator  \\\n",
       "0                 NaN    NaN  miejskie  biuro nieruchomości     True   \n",
       "1                 NaN  450.0  miejskie  biuro nieruchomości     True   \n",
       "3788  do zamieszkania  425.0  miejskie  biuro nieruchomości     True   \n",
       "2                 NaN  500.0  miejskie  biuro nieruchomości    False   \n",
       "3     do zamieszkania    NaN    gazowe  biuro nieruchomości    False   \n",
       "...               ...    ...       ...                  ...      ...   \n",
       "3779  do zamieszkania  530.0  miejskie             prywatny    False   \n",
       "3785              NaN  800.0  miejskie  biuro nieruchomości     True   \n",
       "5716              NaN  700.0  miejskie  biuro nieruchomości     True   \n",
       "3786  do zamieszkania  940.0  miejskie  biuro nieruchomości     True   \n",
       "3787  do zamieszkania  300.0  miejskie  biuro nieruchomości    False   \n",
       "\n",
       "     outdoor area    building type building material is_duplicate  \n",
       "0          balkon  brak informacji   brak informacji        False  \n",
       "1          balkon             blok   brak informacji        False  \n",
       "3788       balkon             blok   brak informacji         True  \n",
       "2          balkon             blok   brak informacji        False  \n",
       "3          balkon             blok   brak informacji        False  \n",
       "...           ...              ...               ...          ...  \n",
       "3779       balkon             blok   brak informacji        False  \n",
       "3785       balkon             blok   brak informacji        False  \n",
       "5716       balkon             blok   brak informacji         True  \n",
       "3786       balkon  apartamentowiec   brak informacji        False  \n",
       "3787      ogródek             blok   brak informacji        False  \n",
       "\n",
       "[5717 rows x 22 columns]"
      ],
      "text/html": [
       "<div>\n",
       "<style scoped>\n",
       "    .dataframe tbody tr th:only-of-type {\n",
       "        vertical-align: middle;\n",
       "    }\n",
       "\n",
       "    .dataframe tbody tr th {\n",
       "        vertical-align: top;\n",
       "    }\n",
       "\n",
       "    .dataframe thead th {\n",
       "        text-align: right;\n",
       "    }\n",
       "</style>\n",
       "<table border=\"1\" class=\"dataframe\">\n",
       "  <thead>\n",
       "    <tr style=\"text-align: right;\">\n",
       "      <th></th>\n",
       "      <th>url</th>\n",
       "      <th>name/title</th>\n",
       "      <th>address</th>\n",
       "      <th>price</th>\n",
       "      <th>area</th>\n",
       "      <th>price-per-area</th>\n",
       "      <th>floor/store</th>\n",
       "      <th>no of floors/stores in the building</th>\n",
       "      <th>no of rooms</th>\n",
       "      <th>year of construction</th>\n",
       "      <th>...</th>\n",
       "      <th>form of ownership</th>\n",
       "      <th>condition</th>\n",
       "      <th>rent</th>\n",
       "      <th>heating</th>\n",
       "      <th>advertiser type</th>\n",
       "      <th>elevator</th>\n",
       "      <th>outdoor area</th>\n",
       "      <th>building type</th>\n",
       "      <th>building material</th>\n",
       "      <th>is_duplicate</th>\n",
       "    </tr>\n",
       "  </thead>\n",
       "  <tbody>\n",
       "    <tr>\n",
       "      <th>0</th>\n",
       "      <td>https://www.otodom.pl/pl/oferta/nowe-mieszkani...</td>\n",
       "      <td>Nowe mieszkania na Górce Narodowej</td>\n",
       "      <td>29 listopada - okolice, Górka Narodowa, Prądni...</td>\n",
       "      <td>778689.0</td>\n",
       "      <td>61.30</td>\n",
       "      <td>12703.0</td>\n",
       "      <td>1</td>\n",
       "      <td>5</td>\n",
       "      <td>2</td>\n",
       "      <td>2023.0</td>\n",
       "      <td>...</td>\n",
       "      <td>pełna własność</td>\n",
       "      <td>NaN</td>\n",
       "      <td>NaN</td>\n",
       "      <td>miejskie</td>\n",
       "      <td>biuro nieruchomości</td>\n",
       "      <td>True</td>\n",
       "      <td>balkon</td>\n",
       "      <td>brak informacji</td>\n",
       "      <td>brak informacji</td>\n",
       "      <td>False</td>\n",
       "    </tr>\n",
       "    <tr>\n",
       "      <th>1</th>\n",
       "      <td>https://www.otodom.pl/pl/oferta/balkon-3-pokoj...</td>\n",
       "      <td>balkon + 3 pokoje + parking</td>\n",
       "      <td>Adama Vetulaniego, Prądnik Biały, Prądnik Biał...</td>\n",
       "      <td>970000.0</td>\n",
       "      <td>55.00</td>\n",
       "      <td>17636.0</td>\n",
       "      <td>4</td>\n",
       "      <td>7</td>\n",
       "      <td>3</td>\n",
       "      <td>2023.0</td>\n",
       "      <td>...</td>\n",
       "      <td>pełna własność</td>\n",
       "      <td>NaN</td>\n",
       "      <td>450.0</td>\n",
       "      <td>miejskie</td>\n",
       "      <td>biuro nieruchomości</td>\n",
       "      <td>True</td>\n",
       "      <td>balkon</td>\n",
       "      <td>blok</td>\n",
       "      <td>brak informacji</td>\n",
       "      <td>False</td>\n",
       "    </tr>\n",
       "    <tr>\n",
       "      <th>3788</th>\n",
       "      <td>https://www.otodom.pl/pl/oferta/zlocien-2-poko...</td>\n",
       "      <td>Złocień, 2 pokoje, balkon</td>\n",
       "      <td>Agatowa, Domagały,, Złocień, Bieżanów-Prokocim...</td>\n",
       "      <td>625000.0</td>\n",
       "      <td>36.80</td>\n",
       "      <td>16984.0</td>\n",
       "      <td>4</td>\n",
       "      <td>4</td>\n",
       "      <td>2</td>\n",
       "      <td>2019.0</td>\n",
       "      <td>...</td>\n",
       "      <td>pełna własność</td>\n",
       "      <td>do zamieszkania</td>\n",
       "      <td>425.0</td>\n",
       "      <td>miejskie</td>\n",
       "      <td>biuro nieruchomości</td>\n",
       "      <td>True</td>\n",
       "      <td>balkon</td>\n",
       "      <td>blok</td>\n",
       "      <td>brak informacji</td>\n",
       "      <td>True</td>\n",
       "    </tr>\n",
       "    <tr>\n",
       "      <th>2</th>\n",
       "      <td>https://www.otodom.pl/pl/oferta/komfortowe-2-p...</td>\n",
       "      <td>komfortowe 2-pokojowe mieszkanie 42m2</td>\n",
       "      <td>Albertyńskie, Bieńczyce, Bieńczyce, Kraków, ma...</td>\n",
       "      <td>559000.0</td>\n",
       "      <td>42.00</td>\n",
       "      <td>13310.0</td>\n",
       "      <td>2</td>\n",
       "      <td>4</td>\n",
       "      <td>2</td>\n",
       "      <td>1964.0</td>\n",
       "      <td>...</td>\n",
       "      <td>NaN</td>\n",
       "      <td>NaN</td>\n",
       "      <td>500.0</td>\n",
       "      <td>miejskie</td>\n",
       "      <td>biuro nieruchomości</td>\n",
       "      <td>False</td>\n",
       "      <td>balkon</td>\n",
       "      <td>blok</td>\n",
       "      <td>brak informacji</td>\n",
       "      <td>False</td>\n",
       "    </tr>\n",
       "    <tr>\n",
       "      <th>3</th>\n",
       "      <td>https://www.otodom.pl/pl/oferta/aleja-29-listo...</td>\n",
       "      <td>Aleja 29 Listopada obok UR</td>\n",
       "      <td>Aleja 29 Listopada, Górka Narodowa, Prądnik Bi...</td>\n",
       "      <td>695000.0</td>\n",
       "      <td>48.10</td>\n",
       "      <td>14449.0</td>\n",
       "      <td>3</td>\n",
       "      <td>3</td>\n",
       "      <td>2</td>\n",
       "      <td>NaN</td>\n",
       "      <td>...</td>\n",
       "      <td>pełna własność</td>\n",
       "      <td>do zamieszkania</td>\n",
       "      <td>NaN</td>\n",
       "      <td>gazowe</td>\n",
       "      <td>biuro nieruchomości</td>\n",
       "      <td>False</td>\n",
       "      <td>balkon</td>\n",
       "      <td>blok</td>\n",
       "      <td>brak informacji</td>\n",
       "      <td>False</td>\n",
       "    </tr>\n",
       "    <tr>\n",
       "      <th>...</th>\n",
       "      <td>...</td>\n",
       "      <td>...</td>\n",
       "      <td>...</td>\n",
       "      <td>...</td>\n",
       "      <td>...</td>\n",
       "      <td>...</td>\n",
       "      <td>...</td>\n",
       "      <td>...</td>\n",
       "      <td>...</td>\n",
       "      <td>...</td>\n",
       "      <td>...</td>\n",
       "      <td>...</td>\n",
       "      <td>...</td>\n",
       "      <td>...</td>\n",
       "      <td>...</td>\n",
       "      <td>...</td>\n",
       "      <td>...</td>\n",
       "      <td>...</td>\n",
       "      <td>...</td>\n",
       "      <td>...</td>\n",
       "      <td>...</td>\n",
       "    </tr>\n",
       "    <tr>\n",
       "      <th>3779</th>\n",
       "      <td>https://www.otodom.pl/pl/oferta/2-pokojowe-mie...</td>\n",
       "      <td>2-pokojowe mieszkanie 36,75 m2 ul.Siemaszki</td>\n",
       "      <td>Siemaszki, Żabiniec, Prądnik Biały, Kraków, ma...</td>\n",
       "      <td>735000.0</td>\n",
       "      <td>36.75</td>\n",
       "      <td>20000.0</td>\n",
       "      <td>0</td>\n",
       "      <td>4</td>\n",
       "      <td>2</td>\n",
       "      <td>1970.0</td>\n",
       "      <td>...</td>\n",
       "      <td>pełna własność</td>\n",
       "      <td>do zamieszkania</td>\n",
       "      <td>530.0</td>\n",
       "      <td>miejskie</td>\n",
       "      <td>prywatny</td>\n",
       "      <td>False</td>\n",
       "      <td>balkon</td>\n",
       "      <td>blok</td>\n",
       "      <td>brak informacji</td>\n",
       "      <td>False</td>\n",
       "    </tr>\n",
       "    <tr>\n",
       "      <th>3785</th>\n",
       "      <td>https://www.otodom.pl/pl/oferta/3-pokoje-na-za...</td>\n",
       "      <td>3 pokoje na Żabińcu !!!</td>\n",
       "      <td>Żabiniec, Prądnik Biały, Kraków, małopolskie</td>\n",
       "      <td>850000.0</td>\n",
       "      <td>77.00</td>\n",
       "      <td>11039.0</td>\n",
       "      <td>4</td>\n",
       "      <td>6</td>\n",
       "      <td>3</td>\n",
       "      <td>2002.0</td>\n",
       "      <td>...</td>\n",
       "      <td>pełna własność</td>\n",
       "      <td>NaN</td>\n",
       "      <td>800.0</td>\n",
       "      <td>miejskie</td>\n",
       "      <td>biuro nieruchomości</td>\n",
       "      <td>True</td>\n",
       "      <td>balkon</td>\n",
       "      <td>blok</td>\n",
       "      <td>brak informacji</td>\n",
       "      <td>False</td>\n",
       "    </tr>\n",
       "    <tr>\n",
       "      <th>5716</th>\n",
       "      <td>https://www.otodom.pl/pl/oferta/mieszkanie-73-...</td>\n",
       "      <td>Mieszkanie, 73 m², Kraków</td>\n",
       "      <td>Żabiniec, Prądnik Biały, Kraków, małopolskie</td>\n",
       "      <td>1100000.0</td>\n",
       "      <td>73.00</td>\n",
       "      <td>15068.0</td>\n",
       "      <td>0</td>\n",
       "      <td>6</td>\n",
       "      <td>3</td>\n",
       "      <td>2005.0</td>\n",
       "      <td>...</td>\n",
       "      <td>pełna własność</td>\n",
       "      <td>NaN</td>\n",
       "      <td>700.0</td>\n",
       "      <td>miejskie</td>\n",
       "      <td>biuro nieruchomości</td>\n",
       "      <td>True</td>\n",
       "      <td>balkon</td>\n",
       "      <td>blok</td>\n",
       "      <td>brak informacji</td>\n",
       "      <td>True</td>\n",
       "    </tr>\n",
       "    <tr>\n",
       "      <th>3786</th>\n",
       "      <td>https://www.otodom.pl/pl/oferta/widokowe-m3-z-...</td>\n",
       "      <td>Widokowe M3 z klimatyzacją i parkingiem, Żabiniec</td>\n",
       "      <td>Żabiniec, Prądnik Biały, Kraków, małopolskie</td>\n",
       "      <td>1179000.0</td>\n",
       "      <td>71.50</td>\n",
       "      <td>16490.0</td>\n",
       "      <td>5</td>\n",
       "      <td>8</td>\n",
       "      <td>3</td>\n",
       "      <td>2001.0</td>\n",
       "      <td>...</td>\n",
       "      <td>pełna własność</td>\n",
       "      <td>do zamieszkania</td>\n",
       "      <td>940.0</td>\n",
       "      <td>miejskie</td>\n",
       "      <td>biuro nieruchomości</td>\n",
       "      <td>True</td>\n",
       "      <td>balkon</td>\n",
       "      <td>apartamentowiec</td>\n",
       "      <td>brak informacji</td>\n",
       "      <td>False</td>\n",
       "    </tr>\n",
       "    <tr>\n",
       "      <th>3787</th>\n",
       "      <td>https://www.otodom.pl/pl/oferta/1m-wyposazone-...</td>\n",
       "      <td>1M! Wyposażone|Ogródek 25m2|Inwestycja - ROI 10%</td>\n",
       "      <td>żabniec, Żabiniec, Prądnik Biały, Kraków, mało...</td>\n",
       "      <td>639000.0</td>\n",
       "      <td>26.00</td>\n",
       "      <td>24577.0</td>\n",
       "      <td>0</td>\n",
       "      <td>4</td>\n",
       "      <td>1</td>\n",
       "      <td>2017.0</td>\n",
       "      <td>...</td>\n",
       "      <td>pełna własność</td>\n",
       "      <td>do zamieszkania</td>\n",
       "      <td>300.0</td>\n",
       "      <td>miejskie</td>\n",
       "      <td>biuro nieruchomości</td>\n",
       "      <td>False</td>\n",
       "      <td>ogródek</td>\n",
       "      <td>blok</td>\n",
       "      <td>brak informacji</td>\n",
       "      <td>False</td>\n",
       "    </tr>\n",
       "  </tbody>\n",
       "</table>\n",
       "<p>5717 rows × 22 columns</p>\n",
       "</div>"
      ]
     },
     "execution_count": 400,
     "metadata": {},
     "output_type": "execute_result"
    }
   ],
   "execution_count": 400
  },
  {
   "metadata": {
    "ExecuteTime": {
     "end_time": "2024-04-22T00:22:51.890894Z",
     "start_time": "2024-04-22T00:22:51.871904Z"
    }
   },
   "cell_type": "code",
   "source": [
    "# Usuń adresy spoza Krakowa\n",
    "sorted_filtered_df_otodom = sorted_filtered_df_otodom[sorted_filtered_df_otodom['address'].str.contains(\"Kraków\", na=False)]"
   ],
   "outputs": [],
   "execution_count": 401
  },
  {
   "metadata": {
    "ExecuteTime": {
     "end_time": "2024-04-22T00:22:53.294632Z",
     "start_time": "2024-04-22T00:22:53.286013Z"
    }
   },
   "cell_type": "code",
   "source": [
    "unique_addresses_otodom = set(sorted_filtered_df_otodom['address'].unique())\n",
    "len(unique_addresses_otodom)"
   ],
   "outputs": [
    {
     "data": {
      "text/plain": [
       "1651"
      ]
     },
     "execution_count": 402,
     "metadata": {},
     "output_type": "execute_result"
    }
   ],
   "execution_count": 402
  },
  {
   "metadata": {
    "ExecuteTime": {
     "end_time": "2024-04-21T23:52:35.207324Z",
     "start_time": "2024-04-21T23:52:35.116324Z"
    }
   },
   "cell_type": "code",
   "source": [
    "from geopy.geocoders import Nominatim\n",
    "import time\n",
    "\n",
    "geolocator = Nominatim(user_agent=\"AGH_Student_Data_Exploration_Project\")\n",
    "\n",
    "def geocode(address):\n",
    "    timeout = 10\n",
    "    attempts = 0\n",
    "    while attempts < 3:\n",
    "        try:\n",
    "            location = geolocator.geocode(address, timeout=timeout)\n",
    "            if location:\n",
    "                return pd.Series([location.address, location.latitude, location.longitude])\n",
    "            else:\n",
    "                return pd.Series([None, None, None])\n",
    "        except Exception as e:\n",
    "            print(f\"Retry {attempts + 1}: Error during geocoding for address '{address}' - {str(e)}\")\n",
    "            attempts += 1\n",
    "            timeout += 5\n",
    "            time.sleep(2)\n",
    "    return pd.Series([None, None, None])"
   ],
   "outputs": [],
   "execution_count": 375
  },
  {
   "metadata": {
    "ExecuteTime": {
     "end_time": "2024-04-22T00:24:40.905217Z",
     "start_time": "2024-04-22T00:24:40.799066Z"
    }
   },
   "cell_type": "code",
   "source": "geocode(\"Śląska, Kraków, małopolskie\")",
   "outputs": [
    {
     "data": {
      "text/plain": [
       "0    None\n",
       "1    None\n",
       "2    None\n",
       "dtype: object"
      ]
     },
     "execution_count": 408,
     "metadata": {},
     "output_type": "execute_result"
    }
   ],
   "execution_count": 408
  },
  {
   "metadata": {
    "ExecuteTime": {
     "end_time": "2024-04-22T00:23:02.180248Z",
     "start_time": "2024-04-22T00:22:57.407029Z"
    }
   },
   "cell_type": "code",
   "source": [
    "location_df = pd.DataFrame(unique_addresses_otodom, columns=['unique_addresses'])\n",
    "small_df = location_df.head(10).copy()\n",
    "small_df[['location', 'latitude', 'longitude']] = small_df['unique_addresses'].apply(geocode)\n",
    "small_df\n",
    "\n",
    "# location_df.to_csv('geocoded_addresses.csv', index=False)\n",
    "# print(\"DataFrame saved to 'geocoded_addresses.csv'.\")"
   ],
   "outputs": [
    {
     "data": {
      "text/plain": [
       "                                    unique_addresses  \\\n",
       "0  rynek Główny, Stare Miasto, Stare Miasto, Krak...   \n",
       "1  os. Centrum B D, Nowa Huta, Nowa Huta, Kraków,...   \n",
       "2  Teligi, Prokocim, Bieżanów-Prokocim, Kraków, m...   \n",
       "3  Śląskiej, Stare Miasto, Stare Miasto, Kraków, ...   \n",
       "4  Bulwarowa, Mogiła, Nowa Huta, Kraków, małopolskie   \n",
       "5  Teligi 0, Prokocim, Bieżanów-Prokocim, Kraków,...   \n",
       "6  Osiedle Spółdzielcze, Nowa Huta, Nowa Huta, Kr...   \n",
       "7    Zalew Nowohucki, Bieńczyce, Kraków, małopolskie   \n",
       "8  Krakowska, Kazimierz, Stare Miasto, Kraków, ma...   \n",
       "9  osiedle Centrum A, Nowa Huta, Nowa Huta, Krakó...   \n",
       "\n",
       "                                            location   latitude  longitude  \n",
       "0  Rynek Główny, Świętego Jana, Stare Miasto, Kra...  50.061517  19.937107  \n",
       "1  Osiedle Centrum B, Nowa Huta, Kraków, wojewódz...  50.073689  20.039624  \n",
       "2  Teligi, Leonida Teligi, Nowy Prokocim, Prokoci...  50.016596  20.006901  \n",
       "3                                               None        NaN        NaN  \n",
       "4  Bulwarowa, Mogiła, Nowa Huta, Kraków, wojewódz...  50.074483  20.053398  \n",
       "5  Leonida Teligi, Osiedle Medyków, Prokocim, Bie...  50.013863  19.999376  \n",
       "6  Osiedle Spółdzielcze, Nowa Huta, Kraków, wojew...  50.077726  20.027226  \n",
       "7  Zalew Nowohucki, Bieńczyce, Kraków, województw...  50.079045  20.052119  \n",
       "8  Krakowska, Kazimierz, Stare Miasto, Kraków, wo...  50.046731  19.943935  \n",
       "9  Osiedle Centrum A, Nowa Huta, Kraków, wojewódz...  50.072005  20.040926  "
      ],
      "text/html": [
       "<div>\n",
       "<style scoped>\n",
       "    .dataframe tbody tr th:only-of-type {\n",
       "        vertical-align: middle;\n",
       "    }\n",
       "\n",
       "    .dataframe tbody tr th {\n",
       "        vertical-align: top;\n",
       "    }\n",
       "\n",
       "    .dataframe thead th {\n",
       "        text-align: right;\n",
       "    }\n",
       "</style>\n",
       "<table border=\"1\" class=\"dataframe\">\n",
       "  <thead>\n",
       "    <tr style=\"text-align: right;\">\n",
       "      <th></th>\n",
       "      <th>unique_addresses</th>\n",
       "      <th>location</th>\n",
       "      <th>latitude</th>\n",
       "      <th>longitude</th>\n",
       "    </tr>\n",
       "  </thead>\n",
       "  <tbody>\n",
       "    <tr>\n",
       "      <th>0</th>\n",
       "      <td>rynek Główny, Stare Miasto, Stare Miasto, Krak...</td>\n",
       "      <td>Rynek Główny, Świętego Jana, Stare Miasto, Kra...</td>\n",
       "      <td>50.061517</td>\n",
       "      <td>19.937107</td>\n",
       "    </tr>\n",
       "    <tr>\n",
       "      <th>1</th>\n",
       "      <td>os. Centrum B D, Nowa Huta, Nowa Huta, Kraków,...</td>\n",
       "      <td>Osiedle Centrum B, Nowa Huta, Kraków, wojewódz...</td>\n",
       "      <td>50.073689</td>\n",
       "      <td>20.039624</td>\n",
       "    </tr>\n",
       "    <tr>\n",
       "      <th>2</th>\n",
       "      <td>Teligi, Prokocim, Bieżanów-Prokocim, Kraków, m...</td>\n",
       "      <td>Teligi, Leonida Teligi, Nowy Prokocim, Prokoci...</td>\n",
       "      <td>50.016596</td>\n",
       "      <td>20.006901</td>\n",
       "    </tr>\n",
       "    <tr>\n",
       "      <th>3</th>\n",
       "      <td>Śląskiej, Stare Miasto, Stare Miasto, Kraków, ...</td>\n",
       "      <td>None</td>\n",
       "      <td>NaN</td>\n",
       "      <td>NaN</td>\n",
       "    </tr>\n",
       "    <tr>\n",
       "      <th>4</th>\n",
       "      <td>Bulwarowa, Mogiła, Nowa Huta, Kraków, małopolskie</td>\n",
       "      <td>Bulwarowa, Mogiła, Nowa Huta, Kraków, wojewódz...</td>\n",
       "      <td>50.074483</td>\n",
       "      <td>20.053398</td>\n",
       "    </tr>\n",
       "    <tr>\n",
       "      <th>5</th>\n",
       "      <td>Teligi 0, Prokocim, Bieżanów-Prokocim, Kraków,...</td>\n",
       "      <td>Leonida Teligi, Osiedle Medyków, Prokocim, Bie...</td>\n",
       "      <td>50.013863</td>\n",
       "      <td>19.999376</td>\n",
       "    </tr>\n",
       "    <tr>\n",
       "      <th>6</th>\n",
       "      <td>Osiedle Spółdzielcze, Nowa Huta, Nowa Huta, Kr...</td>\n",
       "      <td>Osiedle Spółdzielcze, Nowa Huta, Kraków, wojew...</td>\n",
       "      <td>50.077726</td>\n",
       "      <td>20.027226</td>\n",
       "    </tr>\n",
       "    <tr>\n",
       "      <th>7</th>\n",
       "      <td>Zalew Nowohucki, Bieńczyce, Kraków, małopolskie</td>\n",
       "      <td>Zalew Nowohucki, Bieńczyce, Kraków, województw...</td>\n",
       "      <td>50.079045</td>\n",
       "      <td>20.052119</td>\n",
       "    </tr>\n",
       "    <tr>\n",
       "      <th>8</th>\n",
       "      <td>Krakowska, Kazimierz, Stare Miasto, Kraków, ma...</td>\n",
       "      <td>Krakowska, Kazimierz, Stare Miasto, Kraków, wo...</td>\n",
       "      <td>50.046731</td>\n",
       "      <td>19.943935</td>\n",
       "    </tr>\n",
       "    <tr>\n",
       "      <th>9</th>\n",
       "      <td>osiedle Centrum A, Nowa Huta, Nowa Huta, Krakó...</td>\n",
       "      <td>Osiedle Centrum A, Nowa Huta, Kraków, wojewódz...</td>\n",
       "      <td>50.072005</td>\n",
       "      <td>20.040926</td>\n",
       "    </tr>\n",
       "  </tbody>\n",
       "</table>\n",
       "</div>"
      ]
     },
     "execution_count": 403,
     "metadata": {},
     "output_type": "execute_result"
    }
   ],
   "execution_count": 403
  },
  {
   "metadata": {},
   "cell_type": "markdown",
   "source": "## Geolokacja"
  },
  {
   "metadata": {},
   "cell_type": "code",
   "outputs": [],
   "execution_count": null,
   "source": ""
  },
  {
   "cell_type": "markdown",
   "metadata": {},
   "source": "# Zbiór danych nieruchomosci-online"
  },
  {
   "cell_type": "code",
   "metadata": {
    "ExecuteTime": {
     "end_time": "2024-04-21T15:27:53.433572Z",
     "start_time": "2024-04-21T15:27:53.400098Z"
    }
   },
   "source": [
    "df_nieruchomosci = pd.read_csv('datasets/nieruchomosci-online_dataset_raw.csv')"
   ],
   "outputs": [],
   "execution_count": 316
  },
  {
   "cell_type": "code",
   "metadata": {
    "ExecuteTime": {
     "end_time": "2024-04-21T13:52:03.262035Z",
     "start_time": "2024-04-21T13:52:03.247880Z"
    }
   },
   "source": [
    "df_nieruchomosci.info()"
   ],
   "outputs": [
    {
     "name": "stdout",
     "output_type": "stream",
     "text": [
      "<class 'pandas.core.frame.DataFrame'>\n",
      "RangeIndex: 3949 entries, 0 to 3948\n",
      "Data columns (total 13 columns):\n",
      " #   Column                               Non-Null Count  Dtype  \n",
      "---  ------                               --------------  -----  \n",
      " 0   url                                  3949 non-null   object \n",
      " 1   name/title                           3949 non-null   object \n",
      " 2   address                              3848 non-null   object \n",
      " 3   price                                3920 non-null   object \n",
      " 4   area                                 3949 non-null   object \n",
      " 5   price-per-area                       3920 non-null   object \n",
      " 6   floor/store                          3949 non-null   object \n",
      " 7   no of floors/stores in the building  3710 non-null   float64\n",
      " 8   no of rooms                          3949 non-null   object \n",
      " 9   year of construction                 3949 non-null   object \n",
      " 10  parking space                        3949 non-null   object \n",
      " 11  market                               3918 non-null   object \n",
      " 12  form of ownership                    1488 non-null   object \n",
      "dtypes: float64(1), object(12)\n",
      "memory usage: 401.2+ KB\n"
     ]
    }
   ],
   "execution_count": 184
  },
  {
   "cell_type": "markdown",
   "metadata": {},
   "source": [
    "### Usunięcie wierszy z brakującymi danymi"
   ]
  },
  {
   "cell_type": "code",
   "metadata": {
    "ExecuteTime": {
     "end_time": "2024-04-21T15:27:57.629159Z",
     "start_time": "2024-04-21T15:27:57.622159Z"
    }
   },
   "source": [
    "# df_nieruchomosci[df_nieruchomosci['price'].isnull()]\n",
    "df_nieruchomosci.drop(df_nieruchomosci[df_nieruchomosci['price'].isnull()].index, inplace=True)"
   ],
   "outputs": [],
   "execution_count": 317
  },
  {
   "cell_type": "code",
   "metadata": {
    "ExecuteTime": {
     "end_time": "2024-04-21T15:20:50.914389Z",
     "start_time": "2024-04-21T15:20:50.902987Z"
    }
   },
   "source": [
    "df_nieruchomosci[df_nieruchomosci['price'].isnull()]"
   ],
   "outputs": [
    {
     "data": {
      "text/plain": [
       "Empty DataFrame\n",
       "Columns: [url, name/title, address, price, area, price-per-area, floor/store, no of floors/stores in the building, no of rooms, year of construction, parking space, market, form of ownership]\n",
       "Index: []"
      ],
      "text/html": [
       "<div>\n",
       "<style scoped>\n",
       "    .dataframe tbody tr th:only-of-type {\n",
       "        vertical-align: middle;\n",
       "    }\n",
       "\n",
       "    .dataframe tbody tr th {\n",
       "        vertical-align: top;\n",
       "    }\n",
       "\n",
       "    .dataframe thead th {\n",
       "        text-align: right;\n",
       "    }\n",
       "</style>\n",
       "<table border=\"1\" class=\"dataframe\">\n",
       "  <thead>\n",
       "    <tr style=\"text-align: right;\">\n",
       "      <th></th>\n",
       "      <th>url</th>\n",
       "      <th>name/title</th>\n",
       "      <th>address</th>\n",
       "      <th>price</th>\n",
       "      <th>area</th>\n",
       "      <th>price-per-area</th>\n",
       "      <th>floor/store</th>\n",
       "      <th>no of floors/stores in the building</th>\n",
       "      <th>no of rooms</th>\n",
       "      <th>year of construction</th>\n",
       "      <th>parking space</th>\n",
       "      <th>market</th>\n",
       "      <th>form of ownership</th>\n",
       "    </tr>\n",
       "  </thead>\n",
       "  <tbody>\n",
       "  </tbody>\n",
       "</table>\n",
       "</div>"
      ]
     },
     "execution_count": 285,
     "metadata": {},
     "output_type": "execute_result"
    }
   ],
   "execution_count": 285
  },
  {
   "cell_type": "code",
   "metadata": {
    "ExecuteTime": {
     "end_time": "2024-04-21T15:20:56.780359Z",
     "start_time": "2024-04-21T15:20:56.768567Z"
    }
   },
   "source": [
    "df_nieruchomosci.info()"
   ],
   "outputs": [
    {
     "name": "stdout",
     "output_type": "stream",
     "text": [
      "<class 'pandas.core.frame.DataFrame'>\n",
      "Index: 3890 entries, 0 to 3948\n",
      "Data columns (total 13 columns):\n",
      " #   Column                               Non-Null Count  Dtype  \n",
      "---  ------                               --------------  -----  \n",
      " 0   url                                  3890 non-null   object \n",
      " 1   name/title                           3890 non-null   object \n",
      " 2   address                              3836 non-null   object \n",
      " 3   price                                3890 non-null   object \n",
      " 4   area                                 3890 non-null   object \n",
      " 5   price-per-area                       3890 non-null   object \n",
      " 6   floor/store                          3890 non-null   object \n",
      " 7   no of floors/stores in the building  3703 non-null   float64\n",
      " 8   no of rooms                          3890 non-null   object \n",
      " 9   year of construction                 3890 non-null   object \n",
      " 10  parking space                        3890 non-null   object \n",
      " 11  market                               3862 non-null   object \n",
      " 12  form of ownership                    1466 non-null   object \n",
      "dtypes: float64(1), object(12)\n",
      "memory usage: 425.5+ KB\n"
     ]
    }
   ],
   "execution_count": 286
  },
  {
   "cell_type": "code",
   "metadata": {
    "ExecuteTime": {
     "end_time": "2024-04-21T12:01:50.329091Z",
     "start_time": "2024-04-21T12:01:50.307566Z"
    }
   },
   "source": [
    "df_nieruchomosci.head(20)"
   ],
   "outputs": [
    {
     "data": {
      "text/plain": [
       "                                                  url  \\\n",
       "0   https://krakow.nieruchomosci-online.pl/mieszka...   \n",
       "1   https://krakow.nieruchomosci-online.pl/mieszka...   \n",
       "2   https://krakow.nieruchomosci-online.pl/mieszka...   \n",
       "3   https://krakow.nieruchomosci-online.pl/mieszka...   \n",
       "4   https://krakow.nieruchomosci-online.pl/mieszka...   \n",
       "5   https://krakow.nieruchomosci-online.pl/mieszka...   \n",
       "6   https://krakow.nieruchomosci-online.pl/mieszka...   \n",
       "7   https://krakow.nieruchomosci-online.pl/mieszka...   \n",
       "8   https://krakow.nieruchomosci-online.pl/mieszka...   \n",
       "9   https://krakow.nieruchomosci-online.pl/mieszka...   \n",
       "10  https://krakow.nieruchomosci-online.pl/mieszka...   \n",
       "11  https://krakow.nieruchomosci-online.pl/mieszka...   \n",
       "12  https://krakow.nieruchomosci-online.pl/mieszka...   \n",
       "13  https://krakow.nieruchomosci-online.pl/mieszka...   \n",
       "14  https://krakow.nieruchomosci-online.pl/mieszka...   \n",
       "15  https://krakow.nieruchomosci-online.pl/mieszka...   \n",
       "16  https://krakow.nieruchomosci-online.pl/mieszka...   \n",
       "17  https://krakow.nieruchomosci-online.pl/mieszka...   \n",
       "18  https://krakow.nieruchomosci-online.pl/mieszka...   \n",
       "19  https://krakow.nieruchomosci-online.pl/mieszka...   \n",
       "\n",
       "                                name/title  \\\n",
       "0           Mieszkanie, ul. Żelechowskiego   \n",
       "1                  Mieszkanie, ul. Balicka   \n",
       "2                   Mieszkanie, ul. Zauchy   \n",
       "3               Mieszkanie, ul. Racławicka   \n",
       "4                 Mieszkanie, ul. Pustynna   \n",
       "5                        Apartament Kraków   \n",
       "6               Mieszkanie, ul. Przemiarki   \n",
       "7              Mieszkanie, ul. Felińskiego   \n",
       "8                Apartament, ul. Lublańska   \n",
       "9            Apartament, ul. Szablowskiego   \n",
       "10                       Mieszkanie Kraków   \n",
       "11               Mieszkanie, ul. Cystersów   \n",
       "12                  Mieszkanie, ul. Ułanów   \n",
       "13                  Mieszkanie, ul. Bartla   \n",
       "14         Mieszkanie, Osiedle Tysiąclecia   \n",
       "15                   Mieszkanie, ul. Bojki   \n",
       "16  Mieszkanie, Osiedle Bohaterów Września   \n",
       "17                Mieszkanie, ul. Zawodzie   \n",
       "18                 Mieszkanie, ul. Obozowa   \n",
       "19               Mieszkanie, ul. Beskidzka   \n",
       "\n",
       "                                              address         price      area  \\\n",
       "0      Żelechowskiego, Bronowice, Kraków, małopolskie    899 000 zł  51,70 m²   \n",
       "1             Balicka, Bronowice, Kraków, małopolskie  1 575 000 zł    125 m²   \n",
       "2         Zauchy, Górka Narodowa, Kraków, małopolskie  1 250 000 zł  65,23 m²   \n",
       "3          Racławicka, Krowodrza, Kraków, małopolskie    740 250 zł  49,35 m²   \n",
       "4                Pustynna, Kliny, Kraków, małopolskie  1 200 000 zł  71,06 m²   \n",
       "5                 Wola Justowska, Kraków, małopolskie  1 198 680 zł  71,35 m²   \n",
       "6             Przemiarki, Ruczaj, Kraków, małopolskie    625 000 zł     40 m²   \n",
       "7    Felińskiego, Górka Narodowa, Kraków, małopolskie    899 000 zł  74,17 m²   \n",
       "8   Lublańska 13, Prądnik Czerwony, Kraków, małopo...  1 050 000 zł     60 m²   \n",
       "9       Szablowskiego, Bronowice, Kraków, małopolskie    599 000 zł     40 m²   \n",
       "10  Wzgórza Kzresławickie, Wzgórza Krzesławickie, ...    999 000 zł    157 m²   \n",
       "11         Cystersów, Grzegórzki, Kraków, małopolskie  1 279 250 zł  59,50 m²   \n",
       "12      Ułanów, Prądnik Czerwony, Kraków, małopolskie    790 000 zł  61,40 m²   \n",
       "13                 Bartla, Kliny, Kraków, małopolskie    669 000 zł     43 m²   \n",
       "14  Osiedle Tysiąclecia, Mistrzejowice, Kraków, ma...    539 000 zł  33,80 m²   \n",
       "15              Bojki, Kurdwanów, Kraków, małopolskie    635 000 zł     50 m²   \n",
       "16  Osiedle Bohaterów Września, Mistrzejowice, Kra...    860 000 zł  64,09 m²   \n",
       "17       Zawodzie, Prądnik Biały, Kraków, małopolskie    699 000 zł     62 m²   \n",
       "18               Obozowa, Ruczaj, Kraków, małopolskie    695 000 zł  51,94 m²   \n",
       "19      Beskidzka, Wola Duchacka, Kraków, małopolskie    860 000 zł     62 m²   \n",
       "\n",
       "     price-per-area floor/store  no of floors/stores in the building  \\\n",
       "0   17 388,78 zł/m²           1                                  3.0   \n",
       "1      12 600 zł/m²           3                                  4.0   \n",
       "2   19 162,96 zł/m²           2                                  5.0   \n",
       "3      15 000 zł/m²           6                                 10.0   \n",
       "4   16 887,14 zł/m²      parter                                  1.0   \n",
       "5      16 800 zł/m²      parter                                  2.0   \n",
       "6      15 625 zł/m²           2                                  3.0   \n",
       "7   12 120,80 zł/m²           2                                  5.0   \n",
       "8      17 500 zł/m²           3                                  4.0   \n",
       "9      14 975 zł/m²      parter                                  3.0   \n",
       "10   6 363,06 zł/m²           1                                  2.0   \n",
       "11     21 500 zł/m²           7                                  7.0   \n",
       "12  12 866,45 zł/m²      parter                                 10.0   \n",
       "13  15 558,14 zł/m²           1                                  3.0   \n",
       "14  15 946,75 zł/m²           3                                  4.0   \n",
       "15     12 700 zł/m²           4                                  4.0   \n",
       "16  13 418,63 zł/m²           3                                  6.0   \n",
       "17     11 274 zł/m²           2                                 10.0   \n",
       "18  13 380,82 zł/m²      parter                                  7.0   \n",
       "19  13 870,97 zł/m²           4                                 10.0   \n",
       "\n",
       "   no of rooms year of construction                 parking space  \\\n",
       "0            2                 1980                           tak   \n",
       "1            6                 2004           w garażu podziemnym   \n",
       "2            3                 2023                           tak   \n",
       "3            2                 1950  parking publiczny / na ulicy   \n",
       "4            3                 2013         garaż w bryle budynku   \n",
       "5            4                 2023         garaż w bryle budynku   \n",
       "6            2                 2000                         garaż   \n",
       "7            3                 2003  parking publiczny / na ulicy   \n",
       "8            3                 2023           w garażu podziemnym   \n",
       "9            2                 2001                           tak   \n",
       "10           5                 2023         garaż w bryle budynku   \n",
       "11           3                 2017                           tak   \n",
       "12           3                 1962                             -   \n",
       "13           2                 2017           w garażu podziemnym   \n",
       "14           2                 1970                             -   \n",
       "15           2                 1985  parking publiczny / na ulicy   \n",
       "16           3                 1983                             -   \n",
       "17           2                    -          przynależne na ulicy   \n",
       "18           2                 2012          przynależne na ulicy   \n",
       "19           3                 1983                             -   \n",
       "\n",
       "                                               market  \\\n",
       "0                                              wtórny   \n",
       "1                                              wtórny   \n",
       "2                                              wtórny   \n",
       "3                                              wtórny   \n",
       "4                                              wtórny   \n",
       "5   pierwotny (zobacz inne nowe mieszkania w Krako...   \n",
       "6                                              wtórny   \n",
       "7                                              wtórny   \n",
       "8                                              wtórny   \n",
       "9                                              wtórny   \n",
       "10  pierwotny (zobacz inne nowe mieszkania w Krako...   \n",
       "11                                             wtórny   \n",
       "12                                             wtórny   \n",
       "13                                             wtórny   \n",
       "14                                             wtórny   \n",
       "15                                             wtórny   \n",
       "16                                             wtórny   \n",
       "17                                             wtórny   \n",
       "18                                             wtórny   \n",
       "19                                             wtórny   \n",
       "\n",
       "                              form of ownership  \n",
       "0                                      własność  \n",
       "1                    własność, księga wieczysta  \n",
       "2                                           NaN  \n",
       "3                                           NaN  \n",
       "4                    własność, księga wieczysta  \n",
       "5                                      własność  \n",
       "6                                      własność  \n",
       "7                                           NaN  \n",
       "8                    własność, księga wieczysta  \n",
       "9                    własność, księga wieczysta  \n",
       "10                   własność, księga wieczysta  \n",
       "11                                          NaN  \n",
       "12  spółdzielcze własnościowe, księga wieczysta  \n",
       "13                                     własność  \n",
       "14                                          NaN  \n",
       "15                   własność, księga wieczysta  \n",
       "16  spółdzielcze własnościowe, księga wieczysta  \n",
       "17                                          NaN  \n",
       "18                   własność, księga wieczysta  \n",
       "19                                     własność  "
      ],
      "text/html": [
       "<div>\n",
       "<style scoped>\n",
       "    .dataframe tbody tr th:only-of-type {\n",
       "        vertical-align: middle;\n",
       "    }\n",
       "\n",
       "    .dataframe tbody tr th {\n",
       "        vertical-align: top;\n",
       "    }\n",
       "\n",
       "    .dataframe thead th {\n",
       "        text-align: right;\n",
       "    }\n",
       "</style>\n",
       "<table border=\"1\" class=\"dataframe\">\n",
       "  <thead>\n",
       "    <tr style=\"text-align: right;\">\n",
       "      <th></th>\n",
       "      <th>url</th>\n",
       "      <th>name/title</th>\n",
       "      <th>address</th>\n",
       "      <th>price</th>\n",
       "      <th>area</th>\n",
       "      <th>price-per-area</th>\n",
       "      <th>floor/store</th>\n",
       "      <th>no of floors/stores in the building</th>\n",
       "      <th>no of rooms</th>\n",
       "      <th>year of construction</th>\n",
       "      <th>parking space</th>\n",
       "      <th>market</th>\n",
       "      <th>form of ownership</th>\n",
       "    </tr>\n",
       "  </thead>\n",
       "  <tbody>\n",
       "    <tr>\n",
       "      <th>0</th>\n",
       "      <td>https://krakow.nieruchomosci-online.pl/mieszka...</td>\n",
       "      <td>Mieszkanie, ul. Żelechowskiego</td>\n",
       "      <td>Żelechowskiego, Bronowice, Kraków, małopolskie</td>\n",
       "      <td>899 000 zł</td>\n",
       "      <td>51,70 m²</td>\n",
       "      <td>17 388,78 zł/m²</td>\n",
       "      <td>1</td>\n",
       "      <td>3.0</td>\n",
       "      <td>2</td>\n",
       "      <td>1980</td>\n",
       "      <td>tak</td>\n",
       "      <td>wtórny</td>\n",
       "      <td>własność</td>\n",
       "    </tr>\n",
       "    <tr>\n",
       "      <th>1</th>\n",
       "      <td>https://krakow.nieruchomosci-online.pl/mieszka...</td>\n",
       "      <td>Mieszkanie, ul. Balicka</td>\n",
       "      <td>Balicka, Bronowice, Kraków, małopolskie</td>\n",
       "      <td>1 575 000 zł</td>\n",
       "      <td>125 m²</td>\n",
       "      <td>12 600 zł/m²</td>\n",
       "      <td>3</td>\n",
       "      <td>4.0</td>\n",
       "      <td>6</td>\n",
       "      <td>2004</td>\n",
       "      <td>w garażu podziemnym</td>\n",
       "      <td>wtórny</td>\n",
       "      <td>własność, księga wieczysta</td>\n",
       "    </tr>\n",
       "    <tr>\n",
       "      <th>2</th>\n",
       "      <td>https://krakow.nieruchomosci-online.pl/mieszka...</td>\n",
       "      <td>Mieszkanie, ul. Zauchy</td>\n",
       "      <td>Zauchy, Górka Narodowa, Kraków, małopolskie</td>\n",
       "      <td>1 250 000 zł</td>\n",
       "      <td>65,23 m²</td>\n",
       "      <td>19 162,96 zł/m²</td>\n",
       "      <td>2</td>\n",
       "      <td>5.0</td>\n",
       "      <td>3</td>\n",
       "      <td>2023</td>\n",
       "      <td>tak</td>\n",
       "      <td>wtórny</td>\n",
       "      <td>NaN</td>\n",
       "    </tr>\n",
       "    <tr>\n",
       "      <th>3</th>\n",
       "      <td>https://krakow.nieruchomosci-online.pl/mieszka...</td>\n",
       "      <td>Mieszkanie, ul. Racławicka</td>\n",
       "      <td>Racławicka, Krowodrza, Kraków, małopolskie</td>\n",
       "      <td>740 250 zł</td>\n",
       "      <td>49,35 m²</td>\n",
       "      <td>15 000 zł/m²</td>\n",
       "      <td>6</td>\n",
       "      <td>10.0</td>\n",
       "      <td>2</td>\n",
       "      <td>1950</td>\n",
       "      <td>parking publiczny / na ulicy</td>\n",
       "      <td>wtórny</td>\n",
       "      <td>NaN</td>\n",
       "    </tr>\n",
       "    <tr>\n",
       "      <th>4</th>\n",
       "      <td>https://krakow.nieruchomosci-online.pl/mieszka...</td>\n",
       "      <td>Mieszkanie, ul. Pustynna</td>\n",
       "      <td>Pustynna, Kliny, Kraków, małopolskie</td>\n",
       "      <td>1 200 000 zł</td>\n",
       "      <td>71,06 m²</td>\n",
       "      <td>16 887,14 zł/m²</td>\n",
       "      <td>parter</td>\n",
       "      <td>1.0</td>\n",
       "      <td>3</td>\n",
       "      <td>2013</td>\n",
       "      <td>garaż w bryle budynku</td>\n",
       "      <td>wtórny</td>\n",
       "      <td>własność, księga wieczysta</td>\n",
       "    </tr>\n",
       "    <tr>\n",
       "      <th>5</th>\n",
       "      <td>https://krakow.nieruchomosci-online.pl/mieszka...</td>\n",
       "      <td>Apartament Kraków</td>\n",
       "      <td>Wola Justowska, Kraków, małopolskie</td>\n",
       "      <td>1 198 680 zł</td>\n",
       "      <td>71,35 m²</td>\n",
       "      <td>16 800 zł/m²</td>\n",
       "      <td>parter</td>\n",
       "      <td>2.0</td>\n",
       "      <td>4</td>\n",
       "      <td>2023</td>\n",
       "      <td>garaż w bryle budynku</td>\n",
       "      <td>pierwotny (zobacz inne nowe mieszkania w Krako...</td>\n",
       "      <td>własność</td>\n",
       "    </tr>\n",
       "    <tr>\n",
       "      <th>6</th>\n",
       "      <td>https://krakow.nieruchomosci-online.pl/mieszka...</td>\n",
       "      <td>Mieszkanie, ul. Przemiarki</td>\n",
       "      <td>Przemiarki, Ruczaj, Kraków, małopolskie</td>\n",
       "      <td>625 000 zł</td>\n",
       "      <td>40 m²</td>\n",
       "      <td>15 625 zł/m²</td>\n",
       "      <td>2</td>\n",
       "      <td>3.0</td>\n",
       "      <td>2</td>\n",
       "      <td>2000</td>\n",
       "      <td>garaż</td>\n",
       "      <td>wtórny</td>\n",
       "      <td>własność</td>\n",
       "    </tr>\n",
       "    <tr>\n",
       "      <th>7</th>\n",
       "      <td>https://krakow.nieruchomosci-online.pl/mieszka...</td>\n",
       "      <td>Mieszkanie, ul. Felińskiego</td>\n",
       "      <td>Felińskiego, Górka Narodowa, Kraków, małopolskie</td>\n",
       "      <td>899 000 zł</td>\n",
       "      <td>74,17 m²</td>\n",
       "      <td>12 120,80 zł/m²</td>\n",
       "      <td>2</td>\n",
       "      <td>5.0</td>\n",
       "      <td>3</td>\n",
       "      <td>2003</td>\n",
       "      <td>parking publiczny / na ulicy</td>\n",
       "      <td>wtórny</td>\n",
       "      <td>NaN</td>\n",
       "    </tr>\n",
       "    <tr>\n",
       "      <th>8</th>\n",
       "      <td>https://krakow.nieruchomosci-online.pl/mieszka...</td>\n",
       "      <td>Apartament, ul. Lublańska</td>\n",
       "      <td>Lublańska 13, Prądnik Czerwony, Kraków, małopo...</td>\n",
       "      <td>1 050 000 zł</td>\n",
       "      <td>60 m²</td>\n",
       "      <td>17 500 zł/m²</td>\n",
       "      <td>3</td>\n",
       "      <td>4.0</td>\n",
       "      <td>3</td>\n",
       "      <td>2023</td>\n",
       "      <td>w garażu podziemnym</td>\n",
       "      <td>wtórny</td>\n",
       "      <td>własność, księga wieczysta</td>\n",
       "    </tr>\n",
       "    <tr>\n",
       "      <th>9</th>\n",
       "      <td>https://krakow.nieruchomosci-online.pl/mieszka...</td>\n",
       "      <td>Apartament, ul. Szablowskiego</td>\n",
       "      <td>Szablowskiego, Bronowice, Kraków, małopolskie</td>\n",
       "      <td>599 000 zł</td>\n",
       "      <td>40 m²</td>\n",
       "      <td>14 975 zł/m²</td>\n",
       "      <td>parter</td>\n",
       "      <td>3.0</td>\n",
       "      <td>2</td>\n",
       "      <td>2001</td>\n",
       "      <td>tak</td>\n",
       "      <td>wtórny</td>\n",
       "      <td>własność, księga wieczysta</td>\n",
       "    </tr>\n",
       "    <tr>\n",
       "      <th>10</th>\n",
       "      <td>https://krakow.nieruchomosci-online.pl/mieszka...</td>\n",
       "      <td>Mieszkanie Kraków</td>\n",
       "      <td>Wzgórza Kzresławickie, Wzgórza Krzesławickie, ...</td>\n",
       "      <td>999 000 zł</td>\n",
       "      <td>157 m²</td>\n",
       "      <td>6 363,06 zł/m²</td>\n",
       "      <td>1</td>\n",
       "      <td>2.0</td>\n",
       "      <td>5</td>\n",
       "      <td>2023</td>\n",
       "      <td>garaż w bryle budynku</td>\n",
       "      <td>pierwotny (zobacz inne nowe mieszkania w Krako...</td>\n",
       "      <td>własność, księga wieczysta</td>\n",
       "    </tr>\n",
       "    <tr>\n",
       "      <th>11</th>\n",
       "      <td>https://krakow.nieruchomosci-online.pl/mieszka...</td>\n",
       "      <td>Mieszkanie, ul. Cystersów</td>\n",
       "      <td>Cystersów, Grzegórzki, Kraków, małopolskie</td>\n",
       "      <td>1 279 250 zł</td>\n",
       "      <td>59,50 m²</td>\n",
       "      <td>21 500 zł/m²</td>\n",
       "      <td>7</td>\n",
       "      <td>7.0</td>\n",
       "      <td>3</td>\n",
       "      <td>2017</td>\n",
       "      <td>tak</td>\n",
       "      <td>wtórny</td>\n",
       "      <td>NaN</td>\n",
       "    </tr>\n",
       "    <tr>\n",
       "      <th>12</th>\n",
       "      <td>https://krakow.nieruchomosci-online.pl/mieszka...</td>\n",
       "      <td>Mieszkanie, ul. Ułanów</td>\n",
       "      <td>Ułanów, Prądnik Czerwony, Kraków, małopolskie</td>\n",
       "      <td>790 000 zł</td>\n",
       "      <td>61,40 m²</td>\n",
       "      <td>12 866,45 zł/m²</td>\n",
       "      <td>parter</td>\n",
       "      <td>10.0</td>\n",
       "      <td>3</td>\n",
       "      <td>1962</td>\n",
       "      <td>-</td>\n",
       "      <td>wtórny</td>\n",
       "      <td>spółdzielcze własnościowe, księga wieczysta</td>\n",
       "    </tr>\n",
       "    <tr>\n",
       "      <th>13</th>\n",
       "      <td>https://krakow.nieruchomosci-online.pl/mieszka...</td>\n",
       "      <td>Mieszkanie, ul. Bartla</td>\n",
       "      <td>Bartla, Kliny, Kraków, małopolskie</td>\n",
       "      <td>669 000 zł</td>\n",
       "      <td>43 m²</td>\n",
       "      <td>15 558,14 zł/m²</td>\n",
       "      <td>1</td>\n",
       "      <td>3.0</td>\n",
       "      <td>2</td>\n",
       "      <td>2017</td>\n",
       "      <td>w garażu podziemnym</td>\n",
       "      <td>wtórny</td>\n",
       "      <td>własność</td>\n",
       "    </tr>\n",
       "    <tr>\n",
       "      <th>14</th>\n",
       "      <td>https://krakow.nieruchomosci-online.pl/mieszka...</td>\n",
       "      <td>Mieszkanie, Osiedle Tysiąclecia</td>\n",
       "      <td>Osiedle Tysiąclecia, Mistrzejowice, Kraków, ma...</td>\n",
       "      <td>539 000 zł</td>\n",
       "      <td>33,80 m²</td>\n",
       "      <td>15 946,75 zł/m²</td>\n",
       "      <td>3</td>\n",
       "      <td>4.0</td>\n",
       "      <td>2</td>\n",
       "      <td>1970</td>\n",
       "      <td>-</td>\n",
       "      <td>wtórny</td>\n",
       "      <td>NaN</td>\n",
       "    </tr>\n",
       "    <tr>\n",
       "      <th>15</th>\n",
       "      <td>https://krakow.nieruchomosci-online.pl/mieszka...</td>\n",
       "      <td>Mieszkanie, ul. Bojki</td>\n",
       "      <td>Bojki, Kurdwanów, Kraków, małopolskie</td>\n",
       "      <td>635 000 zł</td>\n",
       "      <td>50 m²</td>\n",
       "      <td>12 700 zł/m²</td>\n",
       "      <td>4</td>\n",
       "      <td>4.0</td>\n",
       "      <td>2</td>\n",
       "      <td>1985</td>\n",
       "      <td>parking publiczny / na ulicy</td>\n",
       "      <td>wtórny</td>\n",
       "      <td>własność, księga wieczysta</td>\n",
       "    </tr>\n",
       "    <tr>\n",
       "      <th>16</th>\n",
       "      <td>https://krakow.nieruchomosci-online.pl/mieszka...</td>\n",
       "      <td>Mieszkanie, Osiedle Bohaterów Września</td>\n",
       "      <td>Osiedle Bohaterów Września, Mistrzejowice, Kra...</td>\n",
       "      <td>860 000 zł</td>\n",
       "      <td>64,09 m²</td>\n",
       "      <td>13 418,63 zł/m²</td>\n",
       "      <td>3</td>\n",
       "      <td>6.0</td>\n",
       "      <td>3</td>\n",
       "      <td>1983</td>\n",
       "      <td>-</td>\n",
       "      <td>wtórny</td>\n",
       "      <td>spółdzielcze własnościowe, księga wieczysta</td>\n",
       "    </tr>\n",
       "    <tr>\n",
       "      <th>17</th>\n",
       "      <td>https://krakow.nieruchomosci-online.pl/mieszka...</td>\n",
       "      <td>Mieszkanie, ul. Zawodzie</td>\n",
       "      <td>Zawodzie, Prądnik Biały, Kraków, małopolskie</td>\n",
       "      <td>699 000 zł</td>\n",
       "      <td>62 m²</td>\n",
       "      <td>11 274 zł/m²</td>\n",
       "      <td>2</td>\n",
       "      <td>10.0</td>\n",
       "      <td>2</td>\n",
       "      <td>-</td>\n",
       "      <td>przynależne na ulicy</td>\n",
       "      <td>wtórny</td>\n",
       "      <td>NaN</td>\n",
       "    </tr>\n",
       "    <tr>\n",
       "      <th>18</th>\n",
       "      <td>https://krakow.nieruchomosci-online.pl/mieszka...</td>\n",
       "      <td>Mieszkanie, ul. Obozowa</td>\n",
       "      <td>Obozowa, Ruczaj, Kraków, małopolskie</td>\n",
       "      <td>695 000 zł</td>\n",
       "      <td>51,94 m²</td>\n",
       "      <td>13 380,82 zł/m²</td>\n",
       "      <td>parter</td>\n",
       "      <td>7.0</td>\n",
       "      <td>2</td>\n",
       "      <td>2012</td>\n",
       "      <td>przynależne na ulicy</td>\n",
       "      <td>wtórny</td>\n",
       "      <td>własność, księga wieczysta</td>\n",
       "    </tr>\n",
       "    <tr>\n",
       "      <th>19</th>\n",
       "      <td>https://krakow.nieruchomosci-online.pl/mieszka...</td>\n",
       "      <td>Mieszkanie, ul. Beskidzka</td>\n",
       "      <td>Beskidzka, Wola Duchacka, Kraków, małopolskie</td>\n",
       "      <td>860 000 zł</td>\n",
       "      <td>62 m²</td>\n",
       "      <td>13 870,97 zł/m²</td>\n",
       "      <td>4</td>\n",
       "      <td>10.0</td>\n",
       "      <td>3</td>\n",
       "      <td>1983</td>\n",
       "      <td>-</td>\n",
       "      <td>wtórny</td>\n",
       "      <td>własność</td>\n",
       "    </tr>\n",
       "  </tbody>\n",
       "</table>\n",
       "</div>"
      ]
     },
     "execution_count": 67,
     "metadata": {},
     "output_type": "execute_result"
    }
   ],
   "execution_count": 67
  },
  {
   "cell_type": "code",
   "metadata": {
    "ExecuteTime": {
     "end_time": "2024-04-21T13:52:17.437681Z",
     "start_time": "2024-04-21T13:52:17.425709Z"
    }
   },
   "source": [
    "# sprawdzenie, czy są jakieś wartości w kolumnie price-per-area, które nie zawierają danych liczbowych\n",
    "df_nieruchomosci[~df_nieruchomosci['price-per-area'].str.contains(r'\\d')]"
   ],
   "outputs": [
    {
     "data": {
      "text/plain": [
       "Empty DataFrame\n",
       "Columns: [url, name/title, address, price, area, price-per-area, floor/store, no of floors/stores in the building, no of rooms, year of construction, parking space, market, form of ownership]\n",
       "Index: []"
      ],
      "text/html": [
       "<div>\n",
       "<style scoped>\n",
       "    .dataframe tbody tr th:only-of-type {\n",
       "        vertical-align: middle;\n",
       "    }\n",
       "\n",
       "    .dataframe tbody tr th {\n",
       "        vertical-align: top;\n",
       "    }\n",
       "\n",
       "    .dataframe thead th {\n",
       "        text-align: right;\n",
       "    }\n",
       "</style>\n",
       "<table border=\"1\" class=\"dataframe\">\n",
       "  <thead>\n",
       "    <tr style=\"text-align: right;\">\n",
       "      <th></th>\n",
       "      <th>url</th>\n",
       "      <th>name/title</th>\n",
       "      <th>address</th>\n",
       "      <th>price</th>\n",
       "      <th>area</th>\n",
       "      <th>price-per-area</th>\n",
       "      <th>floor/store</th>\n",
       "      <th>no of floors/stores in the building</th>\n",
       "      <th>no of rooms</th>\n",
       "      <th>year of construction</th>\n",
       "      <th>parking space</th>\n",
       "      <th>market</th>\n",
       "      <th>form of ownership</th>\n",
       "    </tr>\n",
       "  </thead>\n",
       "  <tbody>\n",
       "  </tbody>\n",
       "</table>\n",
       "</div>"
      ]
     },
     "execution_count": 186,
     "metadata": {},
     "output_type": "execute_result"
    }
   ],
   "execution_count": 186
  },
  {
   "cell_type": "code",
   "metadata": {
    "ExecuteTime": {
     "end_time": "2024-04-21T13:47:34.852593Z",
     "start_time": "2024-04-21T13:47:34.839795Z"
    }
   },
   "source": [
    "# sprawdzenie, czy są jakieś wartości w kolumnie price, które nie zawierają danych liczbowych\n",
    "df_nieruchomosci[~df_nieruchomosci['price'].str.contains(r'\\d')]"
   ],
   "outputs": [
    {
     "data": {
      "text/plain": [
       "Empty DataFrame\n",
       "Columns: [url, name/title, address, price, area, price-per-area, floor/store, no of floors/stores in the building, no of rooms, year of construction, parking space, market, form of ownership]\n",
       "Index: []"
      ],
      "text/html": [
       "<div>\n",
       "<style scoped>\n",
       "    .dataframe tbody tr th:only-of-type {\n",
       "        vertical-align: middle;\n",
       "    }\n",
       "\n",
       "    .dataframe tbody tr th {\n",
       "        vertical-align: top;\n",
       "    }\n",
       "\n",
       "    .dataframe thead th {\n",
       "        text-align: right;\n",
       "    }\n",
       "</style>\n",
       "<table border=\"1\" class=\"dataframe\">\n",
       "  <thead>\n",
       "    <tr style=\"text-align: right;\">\n",
       "      <th></th>\n",
       "      <th>url</th>\n",
       "      <th>name/title</th>\n",
       "      <th>address</th>\n",
       "      <th>price</th>\n",
       "      <th>area</th>\n",
       "      <th>price-per-area</th>\n",
       "      <th>floor/store</th>\n",
       "      <th>no of floors/stores in the building</th>\n",
       "      <th>no of rooms</th>\n",
       "      <th>year of construction</th>\n",
       "      <th>parking space</th>\n",
       "      <th>market</th>\n",
       "      <th>form of ownership</th>\n",
       "    </tr>\n",
       "  </thead>\n",
       "  <tbody>\n",
       "  </tbody>\n",
       "</table>\n",
       "</div>"
      ]
     },
     "execution_count": 171,
     "metadata": {},
     "output_type": "execute_result"
    }
   ],
   "execution_count": 171
  },
  {
   "cell_type": "markdown",
   "metadata": {},
   "source": [
    "### Zamiana cen podanych w innych walutach"
   ]
  },
  {
   "cell_type": "code",
   "metadata": {
    "ExecuteTime": {
     "end_time": "2024-04-21T15:28:02.052895Z",
     "start_time": "2024-04-21T15:28:02.033200Z"
    }
   },
   "source": [
    "# wartości w kolumnie 'price' podane w innej walucie\n",
    "different_currency_price = df_nieruchomosci[~df_nieruchomosci['price'].str.contains('zł')].copy()\n",
    "different_currency_price"
   ],
   "outputs": [
    {
     "data": {
      "text/plain": [
       "                                                    url  \\\n",
       "153   https://krakow.nieruchomosci-online.pl/mieszka...   \n",
       "1120  https://krakow.nieruchomosci-online.pl/mieszka...   \n",
       "1151  https://krakow.nieruchomosci-online.pl/mieszka...   \n",
       "2096  https://krakow.nieruchomosci-online.pl/mieszka...   \n",
       "2241  https://krakow.nieruchomosci-online.pl/mieszka...   \n",
       "2562  https://krakow.nieruchomosci-online.pl/mieszka...   \n",
       "2927  https://krakow.nieruchomosci-online.pl/mieszka...   \n",
       "2991  https://krakow.nieruchomosci-online.pl/mieszka...   \n",
       "3364  https://krakow.nieruchomosci-online.pl/mieszka...   \n",
       "\n",
       "                             name/title  \\\n",
       "153        Mieszkanie, ul. Piłsudskiego   \n",
       "1120       Mieszkanie, ul. Piłsudskiego   \n",
       "1151       Mieszkanie, ul. Piłsudskiego   \n",
       "2096       Mieszkanie, ul. Piłsudskiego   \n",
       "2241       Mieszkanie, ul. Piłsudskiego   \n",
       "2562                  Apartament Kraków   \n",
       "2927  Mieszkanie, Plac Juliusza Kossaka   \n",
       "2991                  Mieszkanie Kraków   \n",
       "3364  Mieszkanie Stare Miasto, ul. Jana   \n",
       "\n",
       "                                                address        price  \\\n",
       "153     Piłsudskiego, Stare Miasto, Kraków, małopolskie  1 149 999 €   \n",
       "1120    Piłsudskiego, Stare Miasto, Kraków, małopolskie  1 149 999 €   \n",
       "1151    Piłsudskiego, Stare Miasto, Kraków, małopolskie  1 150 000 €   \n",
       "2096    Piłsudskiego, Stare Miasto, Kraków, małopolskie  1 150 000 €   \n",
       "2241      Piłsudskiego, Nowy Świat, Kraków, małopolskie  1 150 000 €   \n",
       "2562                                Kraków, małopolskie    138 000 €   \n",
       "2927  Plac Juliusza Kossaka, Stare Miasto, Kraków, m...    700 000 €   \n",
       "2991  marszałka JózefaPiłsudskiego, Wawel, Kraków, m...  1 150 000 €   \n",
       "3364            Jana, Stare Miasto, Kraków, małopolskie  1 000 000 €   \n",
       "\n",
       "           area price-per-area floor/store  \\\n",
       "153   232,10 m²  4 954,76 €/m²           4   \n",
       "1120  232,10 m²  4 954,76 €/m²           4   \n",
       "1151  232,10 m²  4 954,76 €/m²           4   \n",
       "2096     228 m²  5 043,86 €/m²           4   \n",
       "2241  228,70 m²  5 028,42 €/m²           4   \n",
       "2562      65 m²  2 123,08 €/m²          21   \n",
       "2927     152 m²  4 605,26 €/m²           1   \n",
       "2991     232 m²  4 956,90 €/m²           4   \n",
       "3364  221,19 m²     4 521 €/m²           4   \n",
       "\n",
       "      no of floors/stores in the building no of rooms year of construction  \\\n",
       "153                                   4.0           5                 1906   \n",
       "1120                                  4.0           5                 1908   \n",
       "1151                                  5.0           5                 1906   \n",
       "2096                                  5.0           5                 1906   \n",
       "2241                                  5.0           5                 1906   \n",
       "2562                                 45.0           2                 2023   \n",
       "2927                                  4.0           4                 1930   \n",
       "2991                                  5.0           9                 1906   \n",
       "3364                                  4.0           4                 1850   \n",
       "\n",
       "                     parking space  market form of ownership  \n",
       "153    parking strzeżony w pobliżu  wtórny               NaN  \n",
       "1120                         garaż  wtórny               NaN  \n",
       "1151  parking publiczny / na ulicy  wtórny               NaN  \n",
       "2096  parking publiczny / na ulicy  wtórny          własność  \n",
       "2241                             -  wtórny               NaN  \n",
       "2562                             -  wtórny               NaN  \n",
       "2927                             -  wtórny               NaN  \n",
       "2991                             -  wtórny               NaN  \n",
       "3364                             -  wtórny               NaN  "
      ],
      "text/html": [
       "<div>\n",
       "<style scoped>\n",
       "    .dataframe tbody tr th:only-of-type {\n",
       "        vertical-align: middle;\n",
       "    }\n",
       "\n",
       "    .dataframe tbody tr th {\n",
       "        vertical-align: top;\n",
       "    }\n",
       "\n",
       "    .dataframe thead th {\n",
       "        text-align: right;\n",
       "    }\n",
       "</style>\n",
       "<table border=\"1\" class=\"dataframe\">\n",
       "  <thead>\n",
       "    <tr style=\"text-align: right;\">\n",
       "      <th></th>\n",
       "      <th>url</th>\n",
       "      <th>name/title</th>\n",
       "      <th>address</th>\n",
       "      <th>price</th>\n",
       "      <th>area</th>\n",
       "      <th>price-per-area</th>\n",
       "      <th>floor/store</th>\n",
       "      <th>no of floors/stores in the building</th>\n",
       "      <th>no of rooms</th>\n",
       "      <th>year of construction</th>\n",
       "      <th>parking space</th>\n",
       "      <th>market</th>\n",
       "      <th>form of ownership</th>\n",
       "    </tr>\n",
       "  </thead>\n",
       "  <tbody>\n",
       "    <tr>\n",
       "      <th>153</th>\n",
       "      <td>https://krakow.nieruchomosci-online.pl/mieszka...</td>\n",
       "      <td>Mieszkanie, ul. Piłsudskiego</td>\n",
       "      <td>Piłsudskiego, Stare Miasto, Kraków, małopolskie</td>\n",
       "      <td>1 149 999 €</td>\n",
       "      <td>232,10 m²</td>\n",
       "      <td>4 954,76 €/m²</td>\n",
       "      <td>4</td>\n",
       "      <td>4.0</td>\n",
       "      <td>5</td>\n",
       "      <td>1906</td>\n",
       "      <td>parking strzeżony w pobliżu</td>\n",
       "      <td>wtórny</td>\n",
       "      <td>NaN</td>\n",
       "    </tr>\n",
       "    <tr>\n",
       "      <th>1120</th>\n",
       "      <td>https://krakow.nieruchomosci-online.pl/mieszka...</td>\n",
       "      <td>Mieszkanie, ul. Piłsudskiego</td>\n",
       "      <td>Piłsudskiego, Stare Miasto, Kraków, małopolskie</td>\n",
       "      <td>1 149 999 €</td>\n",
       "      <td>232,10 m²</td>\n",
       "      <td>4 954,76 €/m²</td>\n",
       "      <td>4</td>\n",
       "      <td>4.0</td>\n",
       "      <td>5</td>\n",
       "      <td>1908</td>\n",
       "      <td>garaż</td>\n",
       "      <td>wtórny</td>\n",
       "      <td>NaN</td>\n",
       "    </tr>\n",
       "    <tr>\n",
       "      <th>1151</th>\n",
       "      <td>https://krakow.nieruchomosci-online.pl/mieszka...</td>\n",
       "      <td>Mieszkanie, ul. Piłsudskiego</td>\n",
       "      <td>Piłsudskiego, Stare Miasto, Kraków, małopolskie</td>\n",
       "      <td>1 150 000 €</td>\n",
       "      <td>232,10 m²</td>\n",
       "      <td>4 954,76 €/m²</td>\n",
       "      <td>4</td>\n",
       "      <td>5.0</td>\n",
       "      <td>5</td>\n",
       "      <td>1906</td>\n",
       "      <td>parking publiczny / na ulicy</td>\n",
       "      <td>wtórny</td>\n",
       "      <td>NaN</td>\n",
       "    </tr>\n",
       "    <tr>\n",
       "      <th>2096</th>\n",
       "      <td>https://krakow.nieruchomosci-online.pl/mieszka...</td>\n",
       "      <td>Mieszkanie, ul. Piłsudskiego</td>\n",
       "      <td>Piłsudskiego, Stare Miasto, Kraków, małopolskie</td>\n",
       "      <td>1 150 000 €</td>\n",
       "      <td>228 m²</td>\n",
       "      <td>5 043,86 €/m²</td>\n",
       "      <td>4</td>\n",
       "      <td>5.0</td>\n",
       "      <td>5</td>\n",
       "      <td>1906</td>\n",
       "      <td>parking publiczny / na ulicy</td>\n",
       "      <td>wtórny</td>\n",
       "      <td>własność</td>\n",
       "    </tr>\n",
       "    <tr>\n",
       "      <th>2241</th>\n",
       "      <td>https://krakow.nieruchomosci-online.pl/mieszka...</td>\n",
       "      <td>Mieszkanie, ul. Piłsudskiego</td>\n",
       "      <td>Piłsudskiego, Nowy Świat, Kraków, małopolskie</td>\n",
       "      <td>1 150 000 €</td>\n",
       "      <td>228,70 m²</td>\n",
       "      <td>5 028,42 €/m²</td>\n",
       "      <td>4</td>\n",
       "      <td>5.0</td>\n",
       "      <td>5</td>\n",
       "      <td>1906</td>\n",
       "      <td>-</td>\n",
       "      <td>wtórny</td>\n",
       "      <td>NaN</td>\n",
       "    </tr>\n",
       "    <tr>\n",
       "      <th>2562</th>\n",
       "      <td>https://krakow.nieruchomosci-online.pl/mieszka...</td>\n",
       "      <td>Apartament Kraków</td>\n",
       "      <td>Kraków, małopolskie</td>\n",
       "      <td>138 000 €</td>\n",
       "      <td>65 m²</td>\n",
       "      <td>2 123,08 €/m²</td>\n",
       "      <td>21</td>\n",
       "      <td>45.0</td>\n",
       "      <td>2</td>\n",
       "      <td>2023</td>\n",
       "      <td>-</td>\n",
       "      <td>wtórny</td>\n",
       "      <td>NaN</td>\n",
       "    </tr>\n",
       "    <tr>\n",
       "      <th>2927</th>\n",
       "      <td>https://krakow.nieruchomosci-online.pl/mieszka...</td>\n",
       "      <td>Mieszkanie, Plac Juliusza Kossaka</td>\n",
       "      <td>Plac Juliusza Kossaka, Stare Miasto, Kraków, m...</td>\n",
       "      <td>700 000 €</td>\n",
       "      <td>152 m²</td>\n",
       "      <td>4 605,26 €/m²</td>\n",
       "      <td>1</td>\n",
       "      <td>4.0</td>\n",
       "      <td>4</td>\n",
       "      <td>1930</td>\n",
       "      <td>-</td>\n",
       "      <td>wtórny</td>\n",
       "      <td>NaN</td>\n",
       "    </tr>\n",
       "    <tr>\n",
       "      <th>2991</th>\n",
       "      <td>https://krakow.nieruchomosci-online.pl/mieszka...</td>\n",
       "      <td>Mieszkanie Kraków</td>\n",
       "      <td>marszałka JózefaPiłsudskiego, Wawel, Kraków, m...</td>\n",
       "      <td>1 150 000 €</td>\n",
       "      <td>232 m²</td>\n",
       "      <td>4 956,90 €/m²</td>\n",
       "      <td>4</td>\n",
       "      <td>5.0</td>\n",
       "      <td>9</td>\n",
       "      <td>1906</td>\n",
       "      <td>-</td>\n",
       "      <td>wtórny</td>\n",
       "      <td>NaN</td>\n",
       "    </tr>\n",
       "    <tr>\n",
       "      <th>3364</th>\n",
       "      <td>https://krakow.nieruchomosci-online.pl/mieszka...</td>\n",
       "      <td>Mieszkanie Stare Miasto, ul. Jana</td>\n",
       "      <td>Jana, Stare Miasto, Kraków, małopolskie</td>\n",
       "      <td>1 000 000 €</td>\n",
       "      <td>221,19 m²</td>\n",
       "      <td>4 521 €/m²</td>\n",
       "      <td>4</td>\n",
       "      <td>4.0</td>\n",
       "      <td>4</td>\n",
       "      <td>1850</td>\n",
       "      <td>-</td>\n",
       "      <td>wtórny</td>\n",
       "      <td>NaN</td>\n",
       "    </tr>\n",
       "  </tbody>\n",
       "</table>\n",
       "</div>"
      ]
     },
     "execution_count": 318,
     "metadata": {},
     "output_type": "execute_result"
    }
   ],
   "execution_count": 318
  },
  {
   "cell_type": "code",
   "metadata": {
    "ExecuteTime": {
     "end_time": "2024-04-21T15:28:05.398014Z",
     "start_time": "2024-04-21T15:28:05.378024Z"
    }
   },
   "source": [
    "# price-per-area w innej walucie\n",
    "df_nieruchomosci[~df_nieruchomosci['price-per-area'].str.contains('zł')]"
   ],
   "outputs": [
    {
     "data": {
      "text/plain": [
       "                                                    url  \\\n",
       "153   https://krakow.nieruchomosci-online.pl/mieszka...   \n",
       "1120  https://krakow.nieruchomosci-online.pl/mieszka...   \n",
       "1151  https://krakow.nieruchomosci-online.pl/mieszka...   \n",
       "2096  https://krakow.nieruchomosci-online.pl/mieszka...   \n",
       "2241  https://krakow.nieruchomosci-online.pl/mieszka...   \n",
       "2562  https://krakow.nieruchomosci-online.pl/mieszka...   \n",
       "2927  https://krakow.nieruchomosci-online.pl/mieszka...   \n",
       "2991  https://krakow.nieruchomosci-online.pl/mieszka...   \n",
       "3364  https://krakow.nieruchomosci-online.pl/mieszka...   \n",
       "\n",
       "                             name/title  \\\n",
       "153        Mieszkanie, ul. Piłsudskiego   \n",
       "1120       Mieszkanie, ul. Piłsudskiego   \n",
       "1151       Mieszkanie, ul. Piłsudskiego   \n",
       "2096       Mieszkanie, ul. Piłsudskiego   \n",
       "2241       Mieszkanie, ul. Piłsudskiego   \n",
       "2562                  Apartament Kraków   \n",
       "2927  Mieszkanie, Plac Juliusza Kossaka   \n",
       "2991                  Mieszkanie Kraków   \n",
       "3364  Mieszkanie Stare Miasto, ul. Jana   \n",
       "\n",
       "                                                address        price  \\\n",
       "153     Piłsudskiego, Stare Miasto, Kraków, małopolskie  1 149 999 €   \n",
       "1120    Piłsudskiego, Stare Miasto, Kraków, małopolskie  1 149 999 €   \n",
       "1151    Piłsudskiego, Stare Miasto, Kraków, małopolskie  1 150 000 €   \n",
       "2096    Piłsudskiego, Stare Miasto, Kraków, małopolskie  1 150 000 €   \n",
       "2241      Piłsudskiego, Nowy Świat, Kraków, małopolskie  1 150 000 €   \n",
       "2562                                Kraków, małopolskie    138 000 €   \n",
       "2927  Plac Juliusza Kossaka, Stare Miasto, Kraków, m...    700 000 €   \n",
       "2991  marszałka JózefaPiłsudskiego, Wawel, Kraków, m...  1 150 000 €   \n",
       "3364            Jana, Stare Miasto, Kraków, małopolskie  1 000 000 €   \n",
       "\n",
       "           area price-per-area floor/store  \\\n",
       "153   232,10 m²  4 954,76 €/m²           4   \n",
       "1120  232,10 m²  4 954,76 €/m²           4   \n",
       "1151  232,10 m²  4 954,76 €/m²           4   \n",
       "2096     228 m²  5 043,86 €/m²           4   \n",
       "2241  228,70 m²  5 028,42 €/m²           4   \n",
       "2562      65 m²  2 123,08 €/m²          21   \n",
       "2927     152 m²  4 605,26 €/m²           1   \n",
       "2991     232 m²  4 956,90 €/m²           4   \n",
       "3364  221,19 m²     4 521 €/m²           4   \n",
       "\n",
       "      no of floors/stores in the building no of rooms year of construction  \\\n",
       "153                                   4.0           5                 1906   \n",
       "1120                                  4.0           5                 1908   \n",
       "1151                                  5.0           5                 1906   \n",
       "2096                                  5.0           5                 1906   \n",
       "2241                                  5.0           5                 1906   \n",
       "2562                                 45.0           2                 2023   \n",
       "2927                                  4.0           4                 1930   \n",
       "2991                                  5.0           9                 1906   \n",
       "3364                                  4.0           4                 1850   \n",
       "\n",
       "                     parking space  market form of ownership  \n",
       "153    parking strzeżony w pobliżu  wtórny               NaN  \n",
       "1120                         garaż  wtórny               NaN  \n",
       "1151  parking publiczny / na ulicy  wtórny               NaN  \n",
       "2096  parking publiczny / na ulicy  wtórny          własność  \n",
       "2241                             -  wtórny               NaN  \n",
       "2562                             -  wtórny               NaN  \n",
       "2927                             -  wtórny               NaN  \n",
       "2991                             -  wtórny               NaN  \n",
       "3364                             -  wtórny               NaN  "
      ],
      "text/html": [
       "<div>\n",
       "<style scoped>\n",
       "    .dataframe tbody tr th:only-of-type {\n",
       "        vertical-align: middle;\n",
       "    }\n",
       "\n",
       "    .dataframe tbody tr th {\n",
       "        vertical-align: top;\n",
       "    }\n",
       "\n",
       "    .dataframe thead th {\n",
       "        text-align: right;\n",
       "    }\n",
       "</style>\n",
       "<table border=\"1\" class=\"dataframe\">\n",
       "  <thead>\n",
       "    <tr style=\"text-align: right;\">\n",
       "      <th></th>\n",
       "      <th>url</th>\n",
       "      <th>name/title</th>\n",
       "      <th>address</th>\n",
       "      <th>price</th>\n",
       "      <th>area</th>\n",
       "      <th>price-per-area</th>\n",
       "      <th>floor/store</th>\n",
       "      <th>no of floors/stores in the building</th>\n",
       "      <th>no of rooms</th>\n",
       "      <th>year of construction</th>\n",
       "      <th>parking space</th>\n",
       "      <th>market</th>\n",
       "      <th>form of ownership</th>\n",
       "    </tr>\n",
       "  </thead>\n",
       "  <tbody>\n",
       "    <tr>\n",
       "      <th>153</th>\n",
       "      <td>https://krakow.nieruchomosci-online.pl/mieszka...</td>\n",
       "      <td>Mieszkanie, ul. Piłsudskiego</td>\n",
       "      <td>Piłsudskiego, Stare Miasto, Kraków, małopolskie</td>\n",
       "      <td>1 149 999 €</td>\n",
       "      <td>232,10 m²</td>\n",
       "      <td>4 954,76 €/m²</td>\n",
       "      <td>4</td>\n",
       "      <td>4.0</td>\n",
       "      <td>5</td>\n",
       "      <td>1906</td>\n",
       "      <td>parking strzeżony w pobliżu</td>\n",
       "      <td>wtórny</td>\n",
       "      <td>NaN</td>\n",
       "    </tr>\n",
       "    <tr>\n",
       "      <th>1120</th>\n",
       "      <td>https://krakow.nieruchomosci-online.pl/mieszka...</td>\n",
       "      <td>Mieszkanie, ul. Piłsudskiego</td>\n",
       "      <td>Piłsudskiego, Stare Miasto, Kraków, małopolskie</td>\n",
       "      <td>1 149 999 €</td>\n",
       "      <td>232,10 m²</td>\n",
       "      <td>4 954,76 €/m²</td>\n",
       "      <td>4</td>\n",
       "      <td>4.0</td>\n",
       "      <td>5</td>\n",
       "      <td>1908</td>\n",
       "      <td>garaż</td>\n",
       "      <td>wtórny</td>\n",
       "      <td>NaN</td>\n",
       "    </tr>\n",
       "    <tr>\n",
       "      <th>1151</th>\n",
       "      <td>https://krakow.nieruchomosci-online.pl/mieszka...</td>\n",
       "      <td>Mieszkanie, ul. Piłsudskiego</td>\n",
       "      <td>Piłsudskiego, Stare Miasto, Kraków, małopolskie</td>\n",
       "      <td>1 150 000 €</td>\n",
       "      <td>232,10 m²</td>\n",
       "      <td>4 954,76 €/m²</td>\n",
       "      <td>4</td>\n",
       "      <td>5.0</td>\n",
       "      <td>5</td>\n",
       "      <td>1906</td>\n",
       "      <td>parking publiczny / na ulicy</td>\n",
       "      <td>wtórny</td>\n",
       "      <td>NaN</td>\n",
       "    </tr>\n",
       "    <tr>\n",
       "      <th>2096</th>\n",
       "      <td>https://krakow.nieruchomosci-online.pl/mieszka...</td>\n",
       "      <td>Mieszkanie, ul. Piłsudskiego</td>\n",
       "      <td>Piłsudskiego, Stare Miasto, Kraków, małopolskie</td>\n",
       "      <td>1 150 000 €</td>\n",
       "      <td>228 m²</td>\n",
       "      <td>5 043,86 €/m²</td>\n",
       "      <td>4</td>\n",
       "      <td>5.0</td>\n",
       "      <td>5</td>\n",
       "      <td>1906</td>\n",
       "      <td>parking publiczny / na ulicy</td>\n",
       "      <td>wtórny</td>\n",
       "      <td>własność</td>\n",
       "    </tr>\n",
       "    <tr>\n",
       "      <th>2241</th>\n",
       "      <td>https://krakow.nieruchomosci-online.pl/mieszka...</td>\n",
       "      <td>Mieszkanie, ul. Piłsudskiego</td>\n",
       "      <td>Piłsudskiego, Nowy Świat, Kraków, małopolskie</td>\n",
       "      <td>1 150 000 €</td>\n",
       "      <td>228,70 m²</td>\n",
       "      <td>5 028,42 €/m²</td>\n",
       "      <td>4</td>\n",
       "      <td>5.0</td>\n",
       "      <td>5</td>\n",
       "      <td>1906</td>\n",
       "      <td>-</td>\n",
       "      <td>wtórny</td>\n",
       "      <td>NaN</td>\n",
       "    </tr>\n",
       "    <tr>\n",
       "      <th>2562</th>\n",
       "      <td>https://krakow.nieruchomosci-online.pl/mieszka...</td>\n",
       "      <td>Apartament Kraków</td>\n",
       "      <td>Kraków, małopolskie</td>\n",
       "      <td>138 000 €</td>\n",
       "      <td>65 m²</td>\n",
       "      <td>2 123,08 €/m²</td>\n",
       "      <td>21</td>\n",
       "      <td>45.0</td>\n",
       "      <td>2</td>\n",
       "      <td>2023</td>\n",
       "      <td>-</td>\n",
       "      <td>wtórny</td>\n",
       "      <td>NaN</td>\n",
       "    </tr>\n",
       "    <tr>\n",
       "      <th>2927</th>\n",
       "      <td>https://krakow.nieruchomosci-online.pl/mieszka...</td>\n",
       "      <td>Mieszkanie, Plac Juliusza Kossaka</td>\n",
       "      <td>Plac Juliusza Kossaka, Stare Miasto, Kraków, m...</td>\n",
       "      <td>700 000 €</td>\n",
       "      <td>152 m²</td>\n",
       "      <td>4 605,26 €/m²</td>\n",
       "      <td>1</td>\n",
       "      <td>4.0</td>\n",
       "      <td>4</td>\n",
       "      <td>1930</td>\n",
       "      <td>-</td>\n",
       "      <td>wtórny</td>\n",
       "      <td>NaN</td>\n",
       "    </tr>\n",
       "    <tr>\n",
       "      <th>2991</th>\n",
       "      <td>https://krakow.nieruchomosci-online.pl/mieszka...</td>\n",
       "      <td>Mieszkanie Kraków</td>\n",
       "      <td>marszałka JózefaPiłsudskiego, Wawel, Kraków, m...</td>\n",
       "      <td>1 150 000 €</td>\n",
       "      <td>232 m²</td>\n",
       "      <td>4 956,90 €/m²</td>\n",
       "      <td>4</td>\n",
       "      <td>5.0</td>\n",
       "      <td>9</td>\n",
       "      <td>1906</td>\n",
       "      <td>-</td>\n",
       "      <td>wtórny</td>\n",
       "      <td>NaN</td>\n",
       "    </tr>\n",
       "    <tr>\n",
       "      <th>3364</th>\n",
       "      <td>https://krakow.nieruchomosci-online.pl/mieszka...</td>\n",
       "      <td>Mieszkanie Stare Miasto, ul. Jana</td>\n",
       "      <td>Jana, Stare Miasto, Kraków, małopolskie</td>\n",
       "      <td>1 000 000 €</td>\n",
       "      <td>221,19 m²</td>\n",
       "      <td>4 521 €/m²</td>\n",
       "      <td>4</td>\n",
       "      <td>4.0</td>\n",
       "      <td>4</td>\n",
       "      <td>1850</td>\n",
       "      <td>-</td>\n",
       "      <td>wtórny</td>\n",
       "      <td>NaN</td>\n",
       "    </tr>\n",
       "  </tbody>\n",
       "</table>\n",
       "</div>"
      ]
     },
     "execution_count": 319,
     "metadata": {},
     "output_type": "execute_result"
    }
   ],
   "execution_count": 319
  },
  {
   "cell_type": "code",
   "metadata": {
    "ExecuteTime": {
     "end_time": "2024-04-21T15:28:08.680428Z",
     "start_time": "2024-04-21T15:28:08.645202Z"
    }
   },
   "source": [
    "# zamiana cen na wartości liczbowe\n",
    "df_nieruchomosci['price'] = df_nieruchomosci['price'].str.replace(' ', '')\n",
    "df_nieruchomosci['price'] = df_nieruchomosci['price'].str.extract(r'(\\d+)').astype(float)\n",
    "\n",
    "df_nieruchomosci['price-per-area'] = df_nieruchomosci['price-per-area'].str.replace(' ', '')\n",
    "df_nieruchomosci['price-per-area'] = df_nieruchomosci['price-per-area'].str.extract(r'(\\d+)').astype(float)"
   ],
   "outputs": [],
   "execution_count": 320
  },
  {
   "cell_type": "code",
   "metadata": {
    "ExecuteTime": {
     "end_time": "2024-04-21T15:28:11.693072Z",
     "start_time": "2024-04-21T15:28:11.685176Z"
    }
   },
   "source": "print(df_nieruchomosci.loc[different_currency_price.index, ['price', 'price-per-area']])",
   "outputs": [
    {
     "name": "stdout",
     "output_type": "stream",
     "text": [
      "          price  price-per-area\n",
      "153   1149999.0          4954.0\n",
      "1120  1149999.0          4954.0\n",
      "1151  1150000.0          4954.0\n",
      "2096  1150000.0          5043.0\n",
      "2241  1150000.0          5028.0\n",
      "2562   138000.0          2123.0\n",
      "2927   700000.0          4605.0\n",
      "2991  1150000.0          4956.0\n",
      "3364  1000000.0          4521.0\n"
     ]
    }
   ],
   "execution_count": 321
  },
  {
   "cell_type": "code",
   "metadata": {
    "ExecuteTime": {
     "end_time": "2024-04-21T15:28:22.700867Z",
     "start_time": "2024-04-21T15:28:22.692349Z"
    }
   },
   "source": [
    "# kurs na 5.04.2024\n",
    "# euro_exchange_rate = 4.28\n",
    "\n",
    "df_nieruchomosci.loc[different_currency_price.index, 'price'] *= euro_exchange_rate\n",
    "df_nieruchomosci.loc[different_currency_price.index, 'price-per-area'] *= euro_exchange_rate"
   ],
   "outputs": [],
   "execution_count": 322
  },
  {
   "cell_type": "code",
   "metadata": {
    "ExecuteTime": {
     "end_time": "2024-04-21T15:28:25.652550Z",
     "start_time": "2024-04-21T15:28:25.640879Z"
    }
   },
   "source": "df_nieruchomosci.loc[different_currency_price.index, ['price', 'price-per-area']]",
   "outputs": [
    {
     "data": {
      "text/plain": [
       "             price  price-per-area\n",
       "153   4.951232e+06    21329.065542\n",
       "1120  4.951232e+06    21329.065542\n",
       "1151  4.951236e+06    21329.065542\n",
       "2096  4.951236e+06    21712.248189\n",
       "2241  4.951236e+06    21647.666844\n",
       "2562  5.941484e+05     9140.413029\n",
       "2927  3.013796e+06    19826.472915\n",
       "2991  4.951236e+06    21337.676388\n",
       "3364  4.305423e+06    19464.817383"
      ],
      "text/html": [
       "<div>\n",
       "<style scoped>\n",
       "    .dataframe tbody tr th:only-of-type {\n",
       "        vertical-align: middle;\n",
       "    }\n",
       "\n",
       "    .dataframe tbody tr th {\n",
       "        vertical-align: top;\n",
       "    }\n",
       "\n",
       "    .dataframe thead th {\n",
       "        text-align: right;\n",
       "    }\n",
       "</style>\n",
       "<table border=\"1\" class=\"dataframe\">\n",
       "  <thead>\n",
       "    <tr style=\"text-align: right;\">\n",
       "      <th></th>\n",
       "      <th>price</th>\n",
       "      <th>price-per-area</th>\n",
       "    </tr>\n",
       "  </thead>\n",
       "  <tbody>\n",
       "    <tr>\n",
       "      <th>153</th>\n",
       "      <td>4.951232e+06</td>\n",
       "      <td>21329.065542</td>\n",
       "    </tr>\n",
       "    <tr>\n",
       "      <th>1120</th>\n",
       "      <td>4.951232e+06</td>\n",
       "      <td>21329.065542</td>\n",
       "    </tr>\n",
       "    <tr>\n",
       "      <th>1151</th>\n",
       "      <td>4.951236e+06</td>\n",
       "      <td>21329.065542</td>\n",
       "    </tr>\n",
       "    <tr>\n",
       "      <th>2096</th>\n",
       "      <td>4.951236e+06</td>\n",
       "      <td>21712.248189</td>\n",
       "    </tr>\n",
       "    <tr>\n",
       "      <th>2241</th>\n",
       "      <td>4.951236e+06</td>\n",
       "      <td>21647.666844</td>\n",
       "    </tr>\n",
       "    <tr>\n",
       "      <th>2562</th>\n",
       "      <td>5.941484e+05</td>\n",
       "      <td>9140.413029</td>\n",
       "    </tr>\n",
       "    <tr>\n",
       "      <th>2927</th>\n",
       "      <td>3.013796e+06</td>\n",
       "      <td>19826.472915</td>\n",
       "    </tr>\n",
       "    <tr>\n",
       "      <th>2991</th>\n",
       "      <td>4.951236e+06</td>\n",
       "      <td>21337.676388</td>\n",
       "    </tr>\n",
       "    <tr>\n",
       "      <th>3364</th>\n",
       "      <td>4.305423e+06</td>\n",
       "      <td>19464.817383</td>\n",
       "    </tr>\n",
       "  </tbody>\n",
       "</table>\n",
       "</div>"
      ]
     },
     "execution_count": 323,
     "metadata": {},
     "output_type": "execute_result"
    }
   ],
   "execution_count": 323
  },
  {
   "cell_type": "markdown",
   "metadata": {},
   "source": "### Usunięcie wierszy z przesunięciem danych w kolumnach"
  },
  {
   "cell_type": "code",
   "metadata": {
    "ExecuteTime": {
     "end_time": "2024-04-21T15:28:29.168252Z",
     "start_time": "2024-04-21T15:28:29.158090Z"
    }
   },
   "source": [
    "print(df_nieruchomosci['no of rooms'].str.contains('-', na=False).sum())\n",
    "df_nieruchomosci.drop(df_nieruchomosci[df_nieruchomosci['no of rooms'].str.contains('-')].index, inplace=True)"
   ],
   "outputs": [
    {
     "name": "stdout",
     "output_type": "stream",
     "text": [
      "10\n"
     ]
    }
   ],
   "execution_count": 324
  },
  {
   "cell_type": "code",
   "metadata": {
    "ExecuteTime": {
     "end_time": "2024-04-21T15:28:32.604302Z",
     "start_time": "2024-04-21T15:28:32.593176Z"
    }
   },
   "source": [
    "print(df_nieruchomosci['no of rooms'].str.contains(r'\\D', na=False).sum())\n",
    "df_nieruchomosci.drop(df_nieruchomosci[df_nieruchomosci['no of rooms'].str.contains(r'\\D', na=False)].index, inplace=True)\n"
   ],
   "outputs": [
    {
     "name": "stdout",
     "output_type": "stream",
     "text": [
      "20\n"
     ]
    }
   ],
   "execution_count": 325
  },
  {
   "cell_type": "markdown",
   "metadata": {},
   "source": [
    "### Zamiana wartości w kolumnach na typ liczbowy"
   ]
  },
  {
   "cell_type": "code",
   "metadata": {
    "ExecuteTime": {
     "end_time": "2024-04-21T15:28:35.952810Z",
     "start_time": "2024-04-21T15:28:35.947162Z"
    }
   },
   "source": [
    "df_nieruchomosci['no of rooms'] = df_nieruchomosci['no of rooms'].astype(int)"
   ],
   "outputs": [],
   "execution_count": 326
  },
  {
   "cell_type": "code",
   "metadata": {
    "ExecuteTime": {
     "end_time": "2024-04-21T15:28:37.547354Z",
     "start_time": "2024-04-21T15:28:37.536801Z"
    }
   },
   "source": [
    "df_nieruchomosci['area'] = df_nieruchomosci['area'].str.replace(' m²', '')\n",
    "df_nieruchomosci['area'] = df_nieruchomosci['area'].str.replace(',', '.').astype(float)"
   ],
   "outputs": [],
   "execution_count": 327
  },
  {
   "cell_type": "code",
   "metadata": {
    "ExecuteTime": {
     "end_time": "2024-04-21T15:26:37.650196Z",
     "start_time": "2024-04-21T15:26:37.627200Z"
    }
   },
   "source": [
    "df_nieruchomosci[df_nieruchomosci['floor/store'].str.contains('parter')]"
   ],
   "outputs": [
    {
     "data": {
      "text/plain": [
       "                                                    url  \\\n",
       "4     https://krakow.nieruchomosci-online.pl/mieszka...   \n",
       "5     https://krakow.nieruchomosci-online.pl/mieszka...   \n",
       "9     https://krakow.nieruchomosci-online.pl/mieszka...   \n",
       "12    https://krakow.nieruchomosci-online.pl/mieszka...   \n",
       "18    https://krakow.nieruchomosci-online.pl/mieszka...   \n",
       "...                                                 ...   \n",
       "3926  https://krakow.nieruchomosci-online.pl/mieszka...   \n",
       "3927  https://krakow.nieruchomosci-online.pl/mieszka...   \n",
       "3930  https://krakow.nieruchomosci-online.pl/mieszka...   \n",
       "3932  https://krakow.nieruchomosci-online.pl/mieszka...   \n",
       "3938  https://krakow.nieruchomosci-online.pl/mieszka...   \n",
       "\n",
       "                         name/title  \\\n",
       "4          Mieszkanie, ul. Pustynna   \n",
       "5                 Apartament Kraków   \n",
       "9     Apartament, ul. Szablowskiego   \n",
       "12           Mieszkanie, ul. Ułanów   \n",
       "18          Mieszkanie, ul. Obozowa   \n",
       "...                             ...   \n",
       "3926       Mieszkanie, ul. Mogilska   \n",
       "3927      Mieszkanie, ul. Na Błonie   \n",
       "3930  Apartament, ul. Madalińskiego   \n",
       "3932   Mieszkanie, ul. Starego Dębu   \n",
       "3938       Mieszkanie, ul. Rydlówka   \n",
       "\n",
       "                                                address      price   area  \\\n",
       "4                  Pustynna, Kliny, Kraków, małopolskie  1200000.0  71.06   \n",
       "5                   Wola Justowska, Kraków, małopolskie  1198680.0  71.35   \n",
       "9         Szablowskiego, Bronowice, Kraków, małopolskie   599000.0  40.00   \n",
       "12        Ułanów, Prądnik Czerwony, Kraków, małopolskie   790000.0  61.40   \n",
       "18                 Obozowa, Ruczaj, Kraków, małopolskie   695000.0  51.94   \n",
       "...                                                 ...        ...    ...   \n",
       "3926          Mogilska, Grzegórzki, Kraków, małopolskie   703380.0  37.02   \n",
       "3927     Na Błonie, Bronowice Małe, Kraków, małopolskie   615000.0  47.00   \n",
       "3930                       Dębniki, Kraków, małopolskie   894375.0  56.25   \n",
       "3932  Starego Dębu, Bronowice Wielkie, Kraków, małop...   799000.0  68.00   \n",
       "3938             Rydlówka, Dębniki, Kraków, małopolskie   829236.0  47.71   \n",
       "\n",
       "      price-per-area floor/store  no of floors/stores in the building  \\\n",
       "4            16887.0      parter                                  1.0   \n",
       "5            16800.0      parter                                  2.0   \n",
       "9            14975.0      parter                                  3.0   \n",
       "12           12866.0      parter                                 10.0   \n",
       "18           13380.0      parter                                  7.0   \n",
       "...              ...         ...                                  ...   \n",
       "3926         19000.0      parter                                  4.0   \n",
       "3927         13085.0      parter                                 10.0   \n",
       "3930         15900.0      parter                                  3.0   \n",
       "3932         11750.0      parter                                  4.0   \n",
       "3938         17380.0      parter                                  4.0   \n",
       "\n",
       "      no of rooms year of construction                 parking space  \\\n",
       "4               3                 2013         garaż w bryle budynku   \n",
       "5               4                 2023         garaż w bryle budynku   \n",
       "9               2                 2001                           tak   \n",
       "12              3                 1962                             -   \n",
       "18              2                 2012          przynależne na ulicy   \n",
       "...           ...                  ...                           ...   \n",
       "3926            2                 2024  parking publiczny / na ulicy   \n",
       "3927            3                 1970                           tak   \n",
       "3930            3                 2020  parking publiczny / na ulicy   \n",
       "3932            2                 2019                             -   \n",
       "3938            2                 2024           w garażu podziemnym   \n",
       "\n",
       "                                                 market  \\\n",
       "4                                                wtórny   \n",
       "5     pierwotny (zobacz inne nowe mieszkania w Krako...   \n",
       "9                                                wtórny   \n",
       "12                                               wtórny   \n",
       "18                                               wtórny   \n",
       "...                                                 ...   \n",
       "3926                                             wtórny   \n",
       "3927                                             wtórny   \n",
       "3930                                             wtórny   \n",
       "3932                                             wtórny   \n",
       "3938  pierwotny (zobacz inne nowe mieszkania w Krako...   \n",
       "\n",
       "                                form of ownership  \n",
       "4                      własność, księga wieczysta  \n",
       "5                                        własność  \n",
       "9                      własność, księga wieczysta  \n",
       "12    spółdzielcze własnościowe, księga wieczysta  \n",
       "18                     własność, księga wieczysta  \n",
       "...                                           ...  \n",
       "3926                                          NaN  \n",
       "3927                                     własność  \n",
       "3930                                          NaN  \n",
       "3932                                          NaN  \n",
       "3938                                     własność  \n",
       "\n",
       "[728 rows x 13 columns]"
      ],
      "text/html": [
       "<div>\n",
       "<style scoped>\n",
       "    .dataframe tbody tr th:only-of-type {\n",
       "        vertical-align: middle;\n",
       "    }\n",
       "\n",
       "    .dataframe tbody tr th {\n",
       "        vertical-align: top;\n",
       "    }\n",
       "\n",
       "    .dataframe thead th {\n",
       "        text-align: right;\n",
       "    }\n",
       "</style>\n",
       "<table border=\"1\" class=\"dataframe\">\n",
       "  <thead>\n",
       "    <tr style=\"text-align: right;\">\n",
       "      <th></th>\n",
       "      <th>url</th>\n",
       "      <th>name/title</th>\n",
       "      <th>address</th>\n",
       "      <th>price</th>\n",
       "      <th>area</th>\n",
       "      <th>price-per-area</th>\n",
       "      <th>floor/store</th>\n",
       "      <th>no of floors/stores in the building</th>\n",
       "      <th>no of rooms</th>\n",
       "      <th>year of construction</th>\n",
       "      <th>parking space</th>\n",
       "      <th>market</th>\n",
       "      <th>form of ownership</th>\n",
       "    </tr>\n",
       "  </thead>\n",
       "  <tbody>\n",
       "    <tr>\n",
       "      <th>4</th>\n",
       "      <td>https://krakow.nieruchomosci-online.pl/mieszka...</td>\n",
       "      <td>Mieszkanie, ul. Pustynna</td>\n",
       "      <td>Pustynna, Kliny, Kraków, małopolskie</td>\n",
       "      <td>1200000.0</td>\n",
       "      <td>71.06</td>\n",
       "      <td>16887.0</td>\n",
       "      <td>parter</td>\n",
       "      <td>1.0</td>\n",
       "      <td>3</td>\n",
       "      <td>2013</td>\n",
       "      <td>garaż w bryle budynku</td>\n",
       "      <td>wtórny</td>\n",
       "      <td>własność, księga wieczysta</td>\n",
       "    </tr>\n",
       "    <tr>\n",
       "      <th>5</th>\n",
       "      <td>https://krakow.nieruchomosci-online.pl/mieszka...</td>\n",
       "      <td>Apartament Kraków</td>\n",
       "      <td>Wola Justowska, Kraków, małopolskie</td>\n",
       "      <td>1198680.0</td>\n",
       "      <td>71.35</td>\n",
       "      <td>16800.0</td>\n",
       "      <td>parter</td>\n",
       "      <td>2.0</td>\n",
       "      <td>4</td>\n",
       "      <td>2023</td>\n",
       "      <td>garaż w bryle budynku</td>\n",
       "      <td>pierwotny (zobacz inne nowe mieszkania w Krako...</td>\n",
       "      <td>własność</td>\n",
       "    </tr>\n",
       "    <tr>\n",
       "      <th>9</th>\n",
       "      <td>https://krakow.nieruchomosci-online.pl/mieszka...</td>\n",
       "      <td>Apartament, ul. Szablowskiego</td>\n",
       "      <td>Szablowskiego, Bronowice, Kraków, małopolskie</td>\n",
       "      <td>599000.0</td>\n",
       "      <td>40.00</td>\n",
       "      <td>14975.0</td>\n",
       "      <td>parter</td>\n",
       "      <td>3.0</td>\n",
       "      <td>2</td>\n",
       "      <td>2001</td>\n",
       "      <td>tak</td>\n",
       "      <td>wtórny</td>\n",
       "      <td>własność, księga wieczysta</td>\n",
       "    </tr>\n",
       "    <tr>\n",
       "      <th>12</th>\n",
       "      <td>https://krakow.nieruchomosci-online.pl/mieszka...</td>\n",
       "      <td>Mieszkanie, ul. Ułanów</td>\n",
       "      <td>Ułanów, Prądnik Czerwony, Kraków, małopolskie</td>\n",
       "      <td>790000.0</td>\n",
       "      <td>61.40</td>\n",
       "      <td>12866.0</td>\n",
       "      <td>parter</td>\n",
       "      <td>10.0</td>\n",
       "      <td>3</td>\n",
       "      <td>1962</td>\n",
       "      <td>-</td>\n",
       "      <td>wtórny</td>\n",
       "      <td>spółdzielcze własnościowe, księga wieczysta</td>\n",
       "    </tr>\n",
       "    <tr>\n",
       "      <th>18</th>\n",
       "      <td>https://krakow.nieruchomosci-online.pl/mieszka...</td>\n",
       "      <td>Mieszkanie, ul. Obozowa</td>\n",
       "      <td>Obozowa, Ruczaj, Kraków, małopolskie</td>\n",
       "      <td>695000.0</td>\n",
       "      <td>51.94</td>\n",
       "      <td>13380.0</td>\n",
       "      <td>parter</td>\n",
       "      <td>7.0</td>\n",
       "      <td>2</td>\n",
       "      <td>2012</td>\n",
       "      <td>przynależne na ulicy</td>\n",
       "      <td>wtórny</td>\n",
       "      <td>własność, księga wieczysta</td>\n",
       "    </tr>\n",
       "    <tr>\n",
       "      <th>...</th>\n",
       "      <td>...</td>\n",
       "      <td>...</td>\n",
       "      <td>...</td>\n",
       "      <td>...</td>\n",
       "      <td>...</td>\n",
       "      <td>...</td>\n",
       "      <td>...</td>\n",
       "      <td>...</td>\n",
       "      <td>...</td>\n",
       "      <td>...</td>\n",
       "      <td>...</td>\n",
       "      <td>...</td>\n",
       "      <td>...</td>\n",
       "    </tr>\n",
       "    <tr>\n",
       "      <th>3926</th>\n",
       "      <td>https://krakow.nieruchomosci-online.pl/mieszka...</td>\n",
       "      <td>Mieszkanie, ul. Mogilska</td>\n",
       "      <td>Mogilska, Grzegórzki, Kraków, małopolskie</td>\n",
       "      <td>703380.0</td>\n",
       "      <td>37.02</td>\n",
       "      <td>19000.0</td>\n",
       "      <td>parter</td>\n",
       "      <td>4.0</td>\n",
       "      <td>2</td>\n",
       "      <td>2024</td>\n",
       "      <td>parking publiczny / na ulicy</td>\n",
       "      <td>wtórny</td>\n",
       "      <td>NaN</td>\n",
       "    </tr>\n",
       "    <tr>\n",
       "      <th>3927</th>\n",
       "      <td>https://krakow.nieruchomosci-online.pl/mieszka...</td>\n",
       "      <td>Mieszkanie, ul. Na Błonie</td>\n",
       "      <td>Na Błonie, Bronowice Małe, Kraków, małopolskie</td>\n",
       "      <td>615000.0</td>\n",
       "      <td>47.00</td>\n",
       "      <td>13085.0</td>\n",
       "      <td>parter</td>\n",
       "      <td>10.0</td>\n",
       "      <td>3</td>\n",
       "      <td>1970</td>\n",
       "      <td>tak</td>\n",
       "      <td>wtórny</td>\n",
       "      <td>własność</td>\n",
       "    </tr>\n",
       "    <tr>\n",
       "      <th>3930</th>\n",
       "      <td>https://krakow.nieruchomosci-online.pl/mieszka...</td>\n",
       "      <td>Apartament, ul. Madalińskiego</td>\n",
       "      <td>Dębniki, Kraków, małopolskie</td>\n",
       "      <td>894375.0</td>\n",
       "      <td>56.25</td>\n",
       "      <td>15900.0</td>\n",
       "      <td>parter</td>\n",
       "      <td>3.0</td>\n",
       "      <td>3</td>\n",
       "      <td>2020</td>\n",
       "      <td>parking publiczny / na ulicy</td>\n",
       "      <td>wtórny</td>\n",
       "      <td>NaN</td>\n",
       "    </tr>\n",
       "    <tr>\n",
       "      <th>3932</th>\n",
       "      <td>https://krakow.nieruchomosci-online.pl/mieszka...</td>\n",
       "      <td>Mieszkanie, ul. Starego Dębu</td>\n",
       "      <td>Starego Dębu, Bronowice Wielkie, Kraków, małop...</td>\n",
       "      <td>799000.0</td>\n",
       "      <td>68.00</td>\n",
       "      <td>11750.0</td>\n",
       "      <td>parter</td>\n",
       "      <td>4.0</td>\n",
       "      <td>2</td>\n",
       "      <td>2019</td>\n",
       "      <td>-</td>\n",
       "      <td>wtórny</td>\n",
       "      <td>NaN</td>\n",
       "    </tr>\n",
       "    <tr>\n",
       "      <th>3938</th>\n",
       "      <td>https://krakow.nieruchomosci-online.pl/mieszka...</td>\n",
       "      <td>Mieszkanie, ul. Rydlówka</td>\n",
       "      <td>Rydlówka, Dębniki, Kraków, małopolskie</td>\n",
       "      <td>829236.0</td>\n",
       "      <td>47.71</td>\n",
       "      <td>17380.0</td>\n",
       "      <td>parter</td>\n",
       "      <td>4.0</td>\n",
       "      <td>2</td>\n",
       "      <td>2024</td>\n",
       "      <td>w garażu podziemnym</td>\n",
       "      <td>pierwotny (zobacz inne nowe mieszkania w Krako...</td>\n",
       "      <td>własność</td>\n",
       "    </tr>\n",
       "  </tbody>\n",
       "</table>\n",
       "<p>728 rows × 13 columns</p>\n",
       "</div>"
      ]
     },
     "execution_count": 312,
     "metadata": {},
     "output_type": "execute_result"
    }
   ],
   "execution_count": 312
  },
  {
   "cell_type": "code",
   "metadata": {
    "ExecuteTime": {
     "end_time": "2024-04-21T15:31:04.922531Z",
     "start_time": "2024-04-21T15:31:04.917115Z"
    }
   },
   "source": [
    "# Zamiana wartości \"parter\" na 0 w kolumnie \"floor/store\"\n",
    "df_nieruchomosci['floor/store'] = df_nieruchomosci['floor/store'].replace('parter', '0')"
   ],
   "outputs": [],
   "execution_count": 333
  },
  {
   "cell_type": "code",
   "metadata": {
    "ExecuteTime": {
     "end_time": "2024-04-21T15:31:06.422059Z",
     "start_time": "2024-04-21T15:31:06.415939Z"
    }
   },
   "source": [
    "# Zamiana wartości \"suterena\" na -1 w kolumnie \"floor/store\"\n",
    "df_nieruchomosci['floor/store'] = df_nieruchomosci['floor/store'].replace('suterena', '-1')"
   ],
   "outputs": [],
   "execution_count": 334
  },
  {
   "cell_type": "code",
   "metadata": {
    "ExecuteTime": {
     "end_time": "2024-04-21T15:35:45.153629Z",
     "start_time": "2024-04-21T15:35:45.130765Z"
    }
   },
   "source": [
    "# usunięcie wierszy, które w kolumnie 'floor/store' zawierają dane nieliczbowe\n",
    "print(df_nieruchomosci[~df_nieruchomosci['floor/store'].str.contains(r'\\d', na=False)].shape[0])\n",
    "df_nieruchomosci.drop(df_nieruchomosci[~df_nieruchomosci['floor/store'].str.contains(r'\\d')].index, inplace=True)\n"
   ],
   "outputs": [
    {
     "name": "stdout",
     "output_type": "stream",
     "text": [
      "46\n"
     ]
    }
   ],
   "execution_count": 341
  },
  {
   "cell_type": "code",
   "metadata": {
    "ExecuteTime": {
     "end_time": "2024-04-21T15:37:53.547084Z",
     "start_time": "2024-04-21T15:37:53.535858Z"
    }
   },
   "source": [
    "# przesunięte dane\n",
    "print(df_nieruchomosci[df_nieruchomosci['floor/store'].str.contains(r'[a-zA-Z]')].shape[0])\n",
    "df_nieruchomosci.drop(df_nieruchomosci[df_nieruchomosci['floor/store'].str.contains(r'[a-zA-Z]')].index, inplace=True)"
   ],
   "outputs": [
    {
     "name": "stdout",
     "output_type": "stream",
     "text": [
      "42\n"
     ]
    }
   ],
   "execution_count": 346
  },
  {
   "cell_type": "code",
   "metadata": {
    "ExecuteTime": {
     "end_time": "2024-04-21T15:39:33.677126Z",
     "start_time": "2024-04-21T15:39:33.443031Z"
    }
   },
   "source": [
    "df_nieruchomosci['floor/store'] = df_nieruchomosci['floor/store'].astype(int)\n",
    "df_nieruchomosci['no of floors/stores in the building'] = df_nieruchomosci['no of floors/stores in the building'].astype(int)"
   ],
   "outputs": [
    {
     "ename": "IntCastingNaNError",
     "evalue": "Cannot convert non-finite values (NA or inf) to integer",
     "output_type": "error",
     "traceback": [
      "\u001B[1;31m---------------------------------------------------------------------------\u001B[0m",
      "\u001B[1;31mIntCastingNaNError\u001B[0m                        Traceback (most recent call last)",
      "Cell \u001B[1;32mIn[349], line 2\u001B[0m\n\u001B[0;32m      1\u001B[0m df_nieruchomosci[\u001B[38;5;124m'\u001B[39m\u001B[38;5;124mfloor/store\u001B[39m\u001B[38;5;124m'\u001B[39m] \u001B[38;5;241m=\u001B[39m df_nieruchomosci[\u001B[38;5;124m'\u001B[39m\u001B[38;5;124mfloor/store\u001B[39m\u001B[38;5;124m'\u001B[39m]\u001B[38;5;241m.\u001B[39mastype(\u001B[38;5;28mint\u001B[39m)\n\u001B[1;32m----> 2\u001B[0m df_nieruchomosci[\u001B[38;5;124m'\u001B[39m\u001B[38;5;124mno of floors/stores in the building\u001B[39m\u001B[38;5;124m'\u001B[39m] \u001B[38;5;241m=\u001B[39m \u001B[43mdf_nieruchomosci\u001B[49m\u001B[43m[\u001B[49m\u001B[38;5;124;43m'\u001B[39;49m\u001B[38;5;124;43mno of floors/stores in the building\u001B[39;49m\u001B[38;5;124;43m'\u001B[39;49m\u001B[43m]\u001B[49m\u001B[38;5;241;43m.\u001B[39;49m\u001B[43mastype\u001B[49m\u001B[43m(\u001B[49m\u001B[38;5;28;43mint\u001B[39;49m\u001B[43m)\u001B[49m\n",
      "File \u001B[1;32mD:\\AGH_studia\\semestr1\\Eksploracja Danych\\ED2024\\venv\\Lib\\site-packages\\pandas\\core\\generic.py:6643\u001B[0m, in \u001B[0;36mNDFrame.astype\u001B[1;34m(self, dtype, copy, errors)\u001B[0m\n\u001B[0;32m   6637\u001B[0m     results \u001B[38;5;241m=\u001B[39m [\n\u001B[0;32m   6638\u001B[0m         ser\u001B[38;5;241m.\u001B[39mastype(dtype, copy\u001B[38;5;241m=\u001B[39mcopy, errors\u001B[38;5;241m=\u001B[39merrors) \u001B[38;5;28;01mfor\u001B[39;00m _, ser \u001B[38;5;129;01min\u001B[39;00m \u001B[38;5;28mself\u001B[39m\u001B[38;5;241m.\u001B[39mitems()\n\u001B[0;32m   6639\u001B[0m     ]\n\u001B[0;32m   6641\u001B[0m \u001B[38;5;28;01melse\u001B[39;00m:\n\u001B[0;32m   6642\u001B[0m     \u001B[38;5;66;03m# else, only a single dtype is given\u001B[39;00m\n\u001B[1;32m-> 6643\u001B[0m     new_data \u001B[38;5;241m=\u001B[39m \u001B[38;5;28;43mself\u001B[39;49m\u001B[38;5;241;43m.\u001B[39;49m\u001B[43m_mgr\u001B[49m\u001B[38;5;241;43m.\u001B[39;49m\u001B[43mastype\u001B[49m\u001B[43m(\u001B[49m\u001B[43mdtype\u001B[49m\u001B[38;5;241;43m=\u001B[39;49m\u001B[43mdtype\u001B[49m\u001B[43m,\u001B[49m\u001B[43m \u001B[49m\u001B[43mcopy\u001B[49m\u001B[38;5;241;43m=\u001B[39;49m\u001B[43mcopy\u001B[49m\u001B[43m,\u001B[49m\u001B[43m \u001B[49m\u001B[43merrors\u001B[49m\u001B[38;5;241;43m=\u001B[39;49m\u001B[43merrors\u001B[49m\u001B[43m)\u001B[49m\n\u001B[0;32m   6644\u001B[0m     res \u001B[38;5;241m=\u001B[39m \u001B[38;5;28mself\u001B[39m\u001B[38;5;241m.\u001B[39m_constructor_from_mgr(new_data, axes\u001B[38;5;241m=\u001B[39mnew_data\u001B[38;5;241m.\u001B[39maxes)\n\u001B[0;32m   6645\u001B[0m     \u001B[38;5;28;01mreturn\u001B[39;00m res\u001B[38;5;241m.\u001B[39m__finalize__(\u001B[38;5;28mself\u001B[39m, method\u001B[38;5;241m=\u001B[39m\u001B[38;5;124m\"\u001B[39m\u001B[38;5;124mastype\u001B[39m\u001B[38;5;124m\"\u001B[39m)\n",
      "File \u001B[1;32mD:\\AGH_studia\\semestr1\\Eksploracja Danych\\ED2024\\venv\\Lib\\site-packages\\pandas\\core\\internals\\managers.py:430\u001B[0m, in \u001B[0;36mBaseBlockManager.astype\u001B[1;34m(self, dtype, copy, errors)\u001B[0m\n\u001B[0;32m    427\u001B[0m \u001B[38;5;28;01melif\u001B[39;00m using_copy_on_write():\n\u001B[0;32m    428\u001B[0m     copy \u001B[38;5;241m=\u001B[39m \u001B[38;5;28;01mFalse\u001B[39;00m\n\u001B[1;32m--> 430\u001B[0m \u001B[38;5;28;01mreturn\u001B[39;00m \u001B[38;5;28;43mself\u001B[39;49m\u001B[38;5;241;43m.\u001B[39;49m\u001B[43mapply\u001B[49m\u001B[43m(\u001B[49m\n\u001B[0;32m    431\u001B[0m \u001B[43m    \u001B[49m\u001B[38;5;124;43m\"\u001B[39;49m\u001B[38;5;124;43mastype\u001B[39;49m\u001B[38;5;124;43m\"\u001B[39;49m\u001B[43m,\u001B[49m\n\u001B[0;32m    432\u001B[0m \u001B[43m    \u001B[49m\u001B[43mdtype\u001B[49m\u001B[38;5;241;43m=\u001B[39;49m\u001B[43mdtype\u001B[49m\u001B[43m,\u001B[49m\n\u001B[0;32m    433\u001B[0m \u001B[43m    \u001B[49m\u001B[43mcopy\u001B[49m\u001B[38;5;241;43m=\u001B[39;49m\u001B[43mcopy\u001B[49m\u001B[43m,\u001B[49m\n\u001B[0;32m    434\u001B[0m \u001B[43m    \u001B[49m\u001B[43merrors\u001B[49m\u001B[38;5;241;43m=\u001B[39;49m\u001B[43merrors\u001B[49m\u001B[43m,\u001B[49m\n\u001B[0;32m    435\u001B[0m \u001B[43m    \u001B[49m\u001B[43musing_cow\u001B[49m\u001B[38;5;241;43m=\u001B[39;49m\u001B[43musing_copy_on_write\u001B[49m\u001B[43m(\u001B[49m\u001B[43m)\u001B[49m\u001B[43m,\u001B[49m\n\u001B[0;32m    436\u001B[0m \u001B[43m\u001B[49m\u001B[43m)\u001B[49m\n",
      "File \u001B[1;32mD:\\AGH_studia\\semestr1\\Eksploracja Danych\\ED2024\\venv\\Lib\\site-packages\\pandas\\core\\internals\\managers.py:363\u001B[0m, in \u001B[0;36mBaseBlockManager.apply\u001B[1;34m(self, f, align_keys, **kwargs)\u001B[0m\n\u001B[0;32m    361\u001B[0m         applied \u001B[38;5;241m=\u001B[39m b\u001B[38;5;241m.\u001B[39mapply(f, \u001B[38;5;241m*\u001B[39m\u001B[38;5;241m*\u001B[39mkwargs)\n\u001B[0;32m    362\u001B[0m     \u001B[38;5;28;01melse\u001B[39;00m:\n\u001B[1;32m--> 363\u001B[0m         applied \u001B[38;5;241m=\u001B[39m \u001B[38;5;28;43mgetattr\u001B[39;49m\u001B[43m(\u001B[49m\u001B[43mb\u001B[49m\u001B[43m,\u001B[49m\u001B[43m \u001B[49m\u001B[43mf\u001B[49m\u001B[43m)\u001B[49m\u001B[43m(\u001B[49m\u001B[38;5;241;43m*\u001B[39;49m\u001B[38;5;241;43m*\u001B[39;49m\u001B[43mkwargs\u001B[49m\u001B[43m)\u001B[49m\n\u001B[0;32m    364\u001B[0m     result_blocks \u001B[38;5;241m=\u001B[39m extend_blocks(applied, result_blocks)\n\u001B[0;32m    366\u001B[0m out \u001B[38;5;241m=\u001B[39m \u001B[38;5;28mtype\u001B[39m(\u001B[38;5;28mself\u001B[39m)\u001B[38;5;241m.\u001B[39mfrom_blocks(result_blocks, \u001B[38;5;28mself\u001B[39m\u001B[38;5;241m.\u001B[39maxes)\n",
      "File \u001B[1;32mD:\\AGH_studia\\semestr1\\Eksploracja Danych\\ED2024\\venv\\Lib\\site-packages\\pandas\\core\\internals\\blocks.py:758\u001B[0m, in \u001B[0;36mBlock.astype\u001B[1;34m(self, dtype, copy, errors, using_cow, squeeze)\u001B[0m\n\u001B[0;32m    755\u001B[0m         \u001B[38;5;28;01mraise\u001B[39;00m \u001B[38;5;167;01mValueError\u001B[39;00m(\u001B[38;5;124m\"\u001B[39m\u001B[38;5;124mCan not squeeze with more than one column.\u001B[39m\u001B[38;5;124m\"\u001B[39m)\n\u001B[0;32m    756\u001B[0m     values \u001B[38;5;241m=\u001B[39m values[\u001B[38;5;241m0\u001B[39m, :]  \u001B[38;5;66;03m# type: ignore[call-overload]\u001B[39;00m\n\u001B[1;32m--> 758\u001B[0m new_values \u001B[38;5;241m=\u001B[39m \u001B[43mastype_array_safe\u001B[49m\u001B[43m(\u001B[49m\u001B[43mvalues\u001B[49m\u001B[43m,\u001B[49m\u001B[43m \u001B[49m\u001B[43mdtype\u001B[49m\u001B[43m,\u001B[49m\u001B[43m \u001B[49m\u001B[43mcopy\u001B[49m\u001B[38;5;241;43m=\u001B[39;49m\u001B[43mcopy\u001B[49m\u001B[43m,\u001B[49m\u001B[43m \u001B[49m\u001B[43merrors\u001B[49m\u001B[38;5;241;43m=\u001B[39;49m\u001B[43merrors\u001B[49m\u001B[43m)\u001B[49m\n\u001B[0;32m    760\u001B[0m new_values \u001B[38;5;241m=\u001B[39m maybe_coerce_values(new_values)\n\u001B[0;32m    762\u001B[0m refs \u001B[38;5;241m=\u001B[39m \u001B[38;5;28;01mNone\u001B[39;00m\n",
      "File \u001B[1;32mD:\\AGH_studia\\semestr1\\Eksploracja Danych\\ED2024\\venv\\Lib\\site-packages\\pandas\\core\\dtypes\\astype.py:237\u001B[0m, in \u001B[0;36mastype_array_safe\u001B[1;34m(values, dtype, copy, errors)\u001B[0m\n\u001B[0;32m    234\u001B[0m     dtype \u001B[38;5;241m=\u001B[39m dtype\u001B[38;5;241m.\u001B[39mnumpy_dtype\n\u001B[0;32m    236\u001B[0m \u001B[38;5;28;01mtry\u001B[39;00m:\n\u001B[1;32m--> 237\u001B[0m     new_values \u001B[38;5;241m=\u001B[39m \u001B[43mastype_array\u001B[49m\u001B[43m(\u001B[49m\u001B[43mvalues\u001B[49m\u001B[43m,\u001B[49m\u001B[43m \u001B[49m\u001B[43mdtype\u001B[49m\u001B[43m,\u001B[49m\u001B[43m \u001B[49m\u001B[43mcopy\u001B[49m\u001B[38;5;241;43m=\u001B[39;49m\u001B[43mcopy\u001B[49m\u001B[43m)\u001B[49m\n\u001B[0;32m    238\u001B[0m \u001B[38;5;28;01mexcept\u001B[39;00m (\u001B[38;5;167;01mValueError\u001B[39;00m, \u001B[38;5;167;01mTypeError\u001B[39;00m):\n\u001B[0;32m    239\u001B[0m     \u001B[38;5;66;03m# e.g. _astype_nansafe can fail on object-dtype of strings\u001B[39;00m\n\u001B[0;32m    240\u001B[0m     \u001B[38;5;66;03m#  trying to convert to float\u001B[39;00m\n\u001B[0;32m    241\u001B[0m     \u001B[38;5;28;01mif\u001B[39;00m errors \u001B[38;5;241m==\u001B[39m \u001B[38;5;124m\"\u001B[39m\u001B[38;5;124mignore\u001B[39m\u001B[38;5;124m\"\u001B[39m:\n",
      "File \u001B[1;32mD:\\AGH_studia\\semestr1\\Eksploracja Danych\\ED2024\\venv\\Lib\\site-packages\\pandas\\core\\dtypes\\astype.py:182\u001B[0m, in \u001B[0;36mastype_array\u001B[1;34m(values, dtype, copy)\u001B[0m\n\u001B[0;32m    179\u001B[0m     values \u001B[38;5;241m=\u001B[39m values\u001B[38;5;241m.\u001B[39mastype(dtype, copy\u001B[38;5;241m=\u001B[39mcopy)\n\u001B[0;32m    181\u001B[0m \u001B[38;5;28;01melse\u001B[39;00m:\n\u001B[1;32m--> 182\u001B[0m     values \u001B[38;5;241m=\u001B[39m \u001B[43m_astype_nansafe\u001B[49m\u001B[43m(\u001B[49m\u001B[43mvalues\u001B[49m\u001B[43m,\u001B[49m\u001B[43m \u001B[49m\u001B[43mdtype\u001B[49m\u001B[43m,\u001B[49m\u001B[43m \u001B[49m\u001B[43mcopy\u001B[49m\u001B[38;5;241;43m=\u001B[39;49m\u001B[43mcopy\u001B[49m\u001B[43m)\u001B[49m\n\u001B[0;32m    184\u001B[0m \u001B[38;5;66;03m# in pandas we don't store numpy str dtypes, so convert to object\u001B[39;00m\n\u001B[0;32m    185\u001B[0m \u001B[38;5;28;01mif\u001B[39;00m \u001B[38;5;28misinstance\u001B[39m(dtype, np\u001B[38;5;241m.\u001B[39mdtype) \u001B[38;5;129;01mand\u001B[39;00m \u001B[38;5;28missubclass\u001B[39m(values\u001B[38;5;241m.\u001B[39mdtype\u001B[38;5;241m.\u001B[39mtype, \u001B[38;5;28mstr\u001B[39m):\n",
      "File \u001B[1;32mD:\\AGH_studia\\semestr1\\Eksploracja Danych\\ED2024\\venv\\Lib\\site-packages\\pandas\\core\\dtypes\\astype.py:101\u001B[0m, in \u001B[0;36m_astype_nansafe\u001B[1;34m(arr, dtype, copy, skipna)\u001B[0m\n\u001B[0;32m     96\u001B[0m     \u001B[38;5;28;01mreturn\u001B[39;00m lib\u001B[38;5;241m.\u001B[39mensure_string_array(\n\u001B[0;32m     97\u001B[0m         arr, skipna\u001B[38;5;241m=\u001B[39mskipna, convert_na_value\u001B[38;5;241m=\u001B[39m\u001B[38;5;28;01mFalse\u001B[39;00m\n\u001B[0;32m     98\u001B[0m     )\u001B[38;5;241m.\u001B[39mreshape(shape)\n\u001B[0;32m    100\u001B[0m \u001B[38;5;28;01melif\u001B[39;00m np\u001B[38;5;241m.\u001B[39missubdtype(arr\u001B[38;5;241m.\u001B[39mdtype, np\u001B[38;5;241m.\u001B[39mfloating) \u001B[38;5;129;01mand\u001B[39;00m dtype\u001B[38;5;241m.\u001B[39mkind \u001B[38;5;129;01min\u001B[39;00m \u001B[38;5;124m\"\u001B[39m\u001B[38;5;124miu\u001B[39m\u001B[38;5;124m\"\u001B[39m:\n\u001B[1;32m--> 101\u001B[0m     \u001B[38;5;28;01mreturn\u001B[39;00m \u001B[43m_astype_float_to_int_nansafe\u001B[49m\u001B[43m(\u001B[49m\u001B[43marr\u001B[49m\u001B[43m,\u001B[49m\u001B[43m \u001B[49m\u001B[43mdtype\u001B[49m\u001B[43m,\u001B[49m\u001B[43m \u001B[49m\u001B[43mcopy\u001B[49m\u001B[43m)\u001B[49m\n\u001B[0;32m    103\u001B[0m \u001B[38;5;28;01melif\u001B[39;00m arr\u001B[38;5;241m.\u001B[39mdtype \u001B[38;5;241m==\u001B[39m \u001B[38;5;28mobject\u001B[39m:\n\u001B[0;32m    104\u001B[0m     \u001B[38;5;66;03m# if we have a datetime/timedelta array of objects\u001B[39;00m\n\u001B[0;32m    105\u001B[0m     \u001B[38;5;66;03m# then coerce to datetime64[ns] and use DatetimeArray.astype\u001B[39;00m\n\u001B[0;32m    107\u001B[0m     \u001B[38;5;28;01mif\u001B[39;00m lib\u001B[38;5;241m.\u001B[39mis_np_dtype(dtype, \u001B[38;5;124m\"\u001B[39m\u001B[38;5;124mM\u001B[39m\u001B[38;5;124m\"\u001B[39m):\n",
      "File \u001B[1;32mD:\\AGH_studia\\semestr1\\Eksploracja Danych\\ED2024\\venv\\Lib\\site-packages\\pandas\\core\\dtypes\\astype.py:145\u001B[0m, in \u001B[0;36m_astype_float_to_int_nansafe\u001B[1;34m(values, dtype, copy)\u001B[0m\n\u001B[0;32m    141\u001B[0m \u001B[38;5;250m\u001B[39m\u001B[38;5;124;03m\"\"\"\u001B[39;00m\n\u001B[0;32m    142\u001B[0m \u001B[38;5;124;03mastype with a check preventing converting NaN to an meaningless integer value.\u001B[39;00m\n\u001B[0;32m    143\u001B[0m \u001B[38;5;124;03m\"\"\"\u001B[39;00m\n\u001B[0;32m    144\u001B[0m \u001B[38;5;28;01mif\u001B[39;00m \u001B[38;5;129;01mnot\u001B[39;00m np\u001B[38;5;241m.\u001B[39misfinite(values)\u001B[38;5;241m.\u001B[39mall():\n\u001B[1;32m--> 145\u001B[0m     \u001B[38;5;28;01mraise\u001B[39;00m IntCastingNaNError(\n\u001B[0;32m    146\u001B[0m         \u001B[38;5;124m\"\u001B[39m\u001B[38;5;124mCannot convert non-finite values (NA or inf) to integer\u001B[39m\u001B[38;5;124m\"\u001B[39m\n\u001B[0;32m    147\u001B[0m     )\n\u001B[0;32m    148\u001B[0m \u001B[38;5;28;01mif\u001B[39;00m dtype\u001B[38;5;241m.\u001B[39mkind \u001B[38;5;241m==\u001B[39m \u001B[38;5;124m\"\u001B[39m\u001B[38;5;124mu\u001B[39m\u001B[38;5;124m\"\u001B[39m:\n\u001B[0;32m    149\u001B[0m     \u001B[38;5;66;03m# GH#45151\u001B[39;00m\n\u001B[0;32m    150\u001B[0m     \u001B[38;5;28;01mif\u001B[39;00m \u001B[38;5;129;01mnot\u001B[39;00m (values \u001B[38;5;241m>\u001B[39m\u001B[38;5;241m=\u001B[39m \u001B[38;5;241m0\u001B[39m)\u001B[38;5;241m.\u001B[39mall():\n",
      "\u001B[1;31mIntCastingNaNError\u001B[0m: Cannot convert non-finite values (NA or inf) to integer"
     ]
    }
   ],
   "execution_count": 349
  },
  {
   "cell_type": "code",
   "metadata": {
    "ExecuteTime": {
     "end_time": "2024-04-21T15:39:38.341721Z",
     "start_time": "2024-04-21T15:39:38.330239Z"
    }
   },
   "source": [
    "df_nieruchomosci.info()"
   ],
   "outputs": [
    {
     "name": "stdout",
     "output_type": "stream",
     "text": [
      "<class 'pandas.core.frame.DataFrame'>\n",
      "Index: 3802 entries, 0 to 3948\n",
      "Data columns (total 13 columns):\n",
      " #   Column                               Non-Null Count  Dtype  \n",
      "---  ------                               --------------  -----  \n",
      " 0   url                                  3802 non-null   object \n",
      " 1   name/title                           3802 non-null   object \n",
      " 2   address                              3802 non-null   object \n",
      " 3   price                                3802 non-null   float64\n",
      " 4   area                                 3802 non-null   float64\n",
      " 5   price-per-area                       3802 non-null   float64\n",
      " 6   floor/store                          3802 non-null   int32  \n",
      " 7   no of floors/stores in the building  3703 non-null   float64\n",
      " 8   no of rooms                          3802 non-null   int32  \n",
      " 9   year of construction                 3802 non-null   object \n",
      " 10  parking space                        3802 non-null   object \n",
      " 11  market                               3774 non-null   object \n",
      " 12  form of ownership                    1411 non-null   object \n",
      "dtypes: float64(4), int32(2), object(7)\n",
      "memory usage: 386.1+ KB\n"
     ]
    }
   ],
   "execution_count": 350
  },
  {
   "cell_type": "code",
   "metadata": {
    "ExecuteTime": {
     "end_time": "2024-04-21T12:05:11.842342Z",
     "start_time": "2024-04-21T12:05:11.819970Z"
    }
   },
   "source": [
    "df_nieruchomosci.describe()"
   ],
   "outputs": [
    {
     "data": {
      "text/plain": [
       "              price         area  price-per-area  floor/store  \\\n",
       "count  3.861000e+03  3861.000000     3861.000000  3861.000000   \n",
       "mean   1.020099e+06    61.514797    16826.729604     2.376068   \n",
       "std    7.110632e+05    33.575461     4983.944807     2.227708   \n",
       "min    1.380000e+05    12.300000     2123.000000    -1.000000   \n",
       "25%    6.800720e+05    41.760000    13821.000000     1.000000   \n",
       "50%    8.400000e+05    54.520000    16100.000000     2.000000   \n",
       "75%    1.114814e+06    69.540000    18943.000000     4.000000   \n",
       "max    1.600000e+07   550.000000    71018.000000    21.000000   \n",
       "\n",
       "       no of floors/stores in the building  \n",
       "count                          3703.000000  \n",
       "mean                              4.851472  \n",
       "std                               2.532037  \n",
       "min                               1.000000  \n",
       "25%                               3.000000  \n",
       "50%                               4.000000  \n",
       "75%                               6.000000  \n",
       "max                              45.000000  "
      ],
      "text/html": [
       "<div>\n",
       "<style scoped>\n",
       "    .dataframe tbody tr th:only-of-type {\n",
       "        vertical-align: middle;\n",
       "    }\n",
       "\n",
       "    .dataframe tbody tr th {\n",
       "        vertical-align: top;\n",
       "    }\n",
       "\n",
       "    .dataframe thead th {\n",
       "        text-align: right;\n",
       "    }\n",
       "</style>\n",
       "<table border=\"1\" class=\"dataframe\">\n",
       "  <thead>\n",
       "    <tr style=\"text-align: right;\">\n",
       "      <th></th>\n",
       "      <th>price</th>\n",
       "      <th>area</th>\n",
       "      <th>price-per-area</th>\n",
       "      <th>floor/store</th>\n",
       "      <th>no of floors/stores in the building</th>\n",
       "    </tr>\n",
       "  </thead>\n",
       "  <tbody>\n",
       "    <tr>\n",
       "      <th>count</th>\n",
       "      <td>3.861000e+03</td>\n",
       "      <td>3861.000000</td>\n",
       "      <td>3861.000000</td>\n",
       "      <td>3861.000000</td>\n",
       "      <td>3703.000000</td>\n",
       "    </tr>\n",
       "    <tr>\n",
       "      <th>mean</th>\n",
       "      <td>1.020099e+06</td>\n",
       "      <td>61.514797</td>\n",
       "      <td>16826.729604</td>\n",
       "      <td>2.376068</td>\n",
       "      <td>4.851472</td>\n",
       "    </tr>\n",
       "    <tr>\n",
       "      <th>std</th>\n",
       "      <td>7.110632e+05</td>\n",
       "      <td>33.575461</td>\n",
       "      <td>4983.944807</td>\n",
       "      <td>2.227708</td>\n",
       "      <td>2.532037</td>\n",
       "    </tr>\n",
       "    <tr>\n",
       "      <th>min</th>\n",
       "      <td>1.380000e+05</td>\n",
       "      <td>12.300000</td>\n",
       "      <td>2123.000000</td>\n",
       "      <td>-1.000000</td>\n",
       "      <td>1.000000</td>\n",
       "    </tr>\n",
       "    <tr>\n",
       "      <th>25%</th>\n",
       "      <td>6.800720e+05</td>\n",
       "      <td>41.760000</td>\n",
       "      <td>13821.000000</td>\n",
       "      <td>1.000000</td>\n",
       "      <td>3.000000</td>\n",
       "    </tr>\n",
       "    <tr>\n",
       "      <th>50%</th>\n",
       "      <td>8.400000e+05</td>\n",
       "      <td>54.520000</td>\n",
       "      <td>16100.000000</td>\n",
       "      <td>2.000000</td>\n",
       "      <td>4.000000</td>\n",
       "    </tr>\n",
       "    <tr>\n",
       "      <th>75%</th>\n",
       "      <td>1.114814e+06</td>\n",
       "      <td>69.540000</td>\n",
       "      <td>18943.000000</td>\n",
       "      <td>4.000000</td>\n",
       "      <td>6.000000</td>\n",
       "    </tr>\n",
       "    <tr>\n",
       "      <th>max</th>\n",
       "      <td>1.600000e+07</td>\n",
       "      <td>550.000000</td>\n",
       "      <td>71018.000000</td>\n",
       "      <td>21.000000</td>\n",
       "      <td>45.000000</td>\n",
       "    </tr>\n",
       "  </tbody>\n",
       "</table>\n",
       "</div>"
      ]
     },
     "execution_count": 110,
     "metadata": {},
     "output_type": "execute_result"
    }
   ],
   "execution_count": 110
  },
  {
   "cell_type": "code",
   "metadata": {
    "collapsed": false,
    "ExecuteTime": {
     "end_time": "2024-04-21T12:05:34.165865Z",
     "start_time": "2024-04-21T12:05:34.156199Z"
    }
   },
   "source": [
    "df_nieruchomosci.isnull().sum()"
   ],
   "outputs": [
    {
     "data": {
      "text/plain": [
       "url                                       0\n",
       "name/title                                0\n",
       "address                                  59\n",
       "price                                     0\n",
       "area                                      0\n",
       "price-per-area                            0\n",
       "floor/store                               0\n",
       "no of floors/stores in the building     158\n",
       "no of rooms                               0\n",
       "year of construction                      0\n",
       "parking space                             0\n",
       "market                                   28\n",
       "form of ownership                      2450\n",
       "dtype: int64"
      ]
     },
     "execution_count": 111,
     "metadata": {},
     "output_type": "execute_result"
    }
   ],
   "execution_count": 111
  }
 ],
 "metadata": {
  "kernelspec": {
   "display_name": "conda-env",
   "language": "python",
   "name": "python3"
  },
  "language_info": {
   "codemirror_mode": {
    "name": "ipython",
    "version": 3
   },
   "file_extension": ".py",
   "mimetype": "text/x-python",
   "name": "python",
   "nbconvert_exporter": "python",
   "pygments_lexer": "ipython3",
   "version": "3.12.1"
  }
 },
 "nbformat": 4,
 "nbformat_minor": 2
}
