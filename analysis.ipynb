{
 "cells": [
  {
   "cell_type": "markdown",
   "metadata": {
    "collapsed": false
   },
   "source": [
    "# TO-DO STEPS PISANE NA PIERWSZYCH ZAJĘCIACH\n",
    "\n",
    "Data Scraping:\n",
    "\n",
    "\n",
    "## Data Processing (dla obu zbiorów danych)\n",
    "1. Ułożenie danych w kolumnach.\n",
    "2. Miejsca zerowe.\n",
    "3. Feature Engineering. (kolumna koordynaty geograficzne, \n",
    "\n",
    "\n",
    "## Data analysis. (+potencjalnie Streamlit)\n",
    "1. Prócz metrażu czynniki najbardziej wpływające na cenę.\n",
    "2. Analiza ceny do piętra\n",
    "3. Analiza odległości geograficznej od centrum\n",
    "4. Analiza parking/balon\n",
    "5. Analiza ceny/trendów w konkretnych dzielniach.\n",
    "\n",
    "\n",
    "# Jeśli model to.\n",
    "5. Onehotencoding.\n",
    "6. Train/Test\n",
    "7. Model.\n",
    "\n",
    "Bonus points:\n",
    "    wizualizacja geograficzna (streamlit - prettymap/mapbox)\n",
    "    stosunek ilości balkonów w mieszkaniu na dzielnice (balkon rate)\n",
    "    wpływ i częstotliwość '!' w nazwie oferty i ich zestawienie z ceną\n",
    "    \n",
    "\n",
    "# TO-DO 16.04.2024\n",
    "\n",
    "1. Docelowo proponuję, żeby pierwszy etap (pisany w jednym notatniku jupiter) zamknął się po data preparation i data engeenering, po tym etapie zapiszemy dane do plików do dalszych analiz (wielkrotne pobieranie koordynatów może być bolesne). Aby to osiągnąć trzeba:\n",
    "  - Uspójnić notatniki (na razie jeszcze nie dane :P), tak, byśmy pracowali na jednym.\n",
    "  - Dodać na początek chaina uzupełnienie zbiorów o nowe dane (można wyciąć fragmenty z utils) - tam, gdzie będziemy analizować dane statycznie i/lub przestrzennie (pierwotny plan).\n",
    "  - Jeśli idzie o analize w szeregach czasowych, to trochę inne para kaloszy, można zostawić na później -- chyba, że ktorś będzie chciał się tym zająć.\n",
    "  - Uważam, że trzeba wybrać, które analizy przeprowadzamy na uspójnionych z obu zbiorów danych, a które osobno na zbiorach - otodom ma więcej cech, nieruchomości online (chyba) bardziej rozróżnia pewne cechy (np. te garaże) - Do decyzji.\n",
    "  - Z obu zbiorów usunąć \"duplikaty\" - różne ogłoszenia tego samego mieszkania. Tu trzeba będzie przyjąć jakąś heurystykę.\n",
    "  - Uzupełnić koordynaty\n",
    "  - Na ich podstawie dodać kolumnę z odległością od wyróżnionego miejsca (centrum) w metrach.\n",
    "  - Zbiory zapisać\n",
    "\n",
    "\n",
    "  - Jeśli idzie o szeregi czasowe, to IMO data i cena w badanych punktach czasowych starczy (cokolwiek innego się tam jeszcze mogło zmieniać). Będzie trzeba wybrać tylko te oferty, które zmieniały się w tej kolumnie.\n",
    "\n",
    "2. Etap analiz:\n",
    "- Sprawdzić, co z labów Czecha jest do wykorzystania, bo mam przeczycie, że coś z tego, co u nie go robiliśmy się przyda - PCA chociażby i ten (dual) scatterplot.\n",
    "- Z drugich labów Czecha ten pearson corelation, to macierz korelacji, którą i tak planowaliśmy.\n",
    "- Na SISI będziemy trenować model drzew decyzyjnych, więc można go tu dodać też.\n",
    "- Trzeba przejrzeć, co jeszcze planowaliśmy i co jest w \"literaturze\" (bo znalzałem coś takiego), co jeszcze można przeprowadzić.\n",
    "\n",
    "\n",
    "3. Wizualizacja:\n",
    "Poza oczywstymi wykresikami, tabelami itp, ta heatmapa (oraz heatmapa+, jak ze stramlita) wydaje mi się fajnym bajerem. Można spróbować się podjąć. W oógle wydaje mi się, że w tym aspekcie geograficznym można będzie fajnie nie tylko przeprowadzać analizy, ale też pokazywać rzeczy.\n",
    "\n",
    "Ważna rzecz to dokumentowanie prac (albo w readme, albo zacząć odrębny dokument) nawet, gdy nic nie wychodzi.\n",
    "\n",
    "\n",
    "To są oczywiście moje wstępne i ogólne pomysły i jeśli macie inne, to śmiało wędrujcie w te strony, które Wam się wydadzą sensowne i słuszne.\n",
    "\n",
    "    "
   ]
  },
  {
   "metadata": {},
   "cell_type": "markdown",
   "source": "# Zbiór Otodom"
  },
  {
   "metadata": {},
   "cell_type": "markdown",
   "source": "## Załadowanie i agregacja danych"
  },
  {
   "cell_type": "code",
   "metadata": {
    "ExecuteTime": {
     "end_time": "2024-04-22T23:35:36.743039Z",
     "start_time": "2024-04-22T23:35:36.738654Z"
    }
   },
   "source": [
    "import numpy as np\n",
    "import pandas as pd"
   ],
   "outputs": [],
   "execution_count": 80
  },
  {
   "cell_type": "code",
   "metadata": {
    "ExecuteTime": {
     "end_time": "2024-04-22T23:35:40.656592Z",
     "start_time": "2024-04-22T23:35:40.460147Z"
    }
   },
   "source": [
    "df_otodom = pd.read_csv('datasets/otodom_dataset_raw.csv')\n",
    "df_2024_03_25_otodom_new_data = pd.read_csv('datasets/timestamps/2024-03-25-otodom-new_data.csv')\n",
    "df_2024_03_25_otodom_updated_data = pd.read_csv('datasets/timestamps/2024-03-25-otodom-updated_data.csv')\n",
    "df_2024_04_07_otodom_new_data = pd.read_csv('datasets/timestamps/2024-04-07-otodom-new_data.csv')\n",
    "df_2024_04_07_otodom_updated_data = pd.read_csv('datasets/timestamps/2024-04-07-otodom-updated_data.csv')\n",
    "df_2024_04_21_otodom_new_data = pd.read_csv('datasets/timestamps/2024-04-21-otodom-new_data.csv')\n",
    "df_2024_04_21_otodom_updated_data = pd.read_csv('datasets/timestamps/2024-04-21-otodom-updated_data.csv')"
   ],
   "outputs": [],
   "execution_count": 81
  },
  {
   "metadata": {
    "ExecuteTime": {
     "end_time": "2024-04-22T23:35:40.666789Z",
     "start_time": "2024-04-22T23:35:40.658587Z"
    }
   },
   "cell_type": "code",
   "source": [
    "def update_dataframe(oldest_df, updated_df, new_df):\n",
    "    def set_url_as_index(df):\n",
    "        if 'url' in df.columns:\n",
    "            df.set_index('url', inplace=True)\n",
    "        else:\n",
    "            raise ValueError(\"URL column not found. Please check the column names.\")\n",
    "    try:\n",
    "        set_url_as_index(oldest_df)\n",
    "        set_url_as_index(updated_df)\n",
    "        set_url_as_index(new_df)\n",
    "    except ValueError as e:\n",
    "        print(e)\n",
    "        return None\n",
    "    \n",
    "    oldest_df.update(updated_df)\n",
    "    merged_df = pd.concat([oldest_df, new_df], axis=0)\n",
    "    merged_df.reset_index(inplace=True)\n",
    "\n",
    "    return merged_df"
   ],
   "outputs": [],
   "execution_count": 82
  },
  {
   "metadata": {
    "ExecuteTime": {
     "end_time": "2024-04-22T23:35:40.904461Z",
     "start_time": "2024-04-22T23:35:40.763781Z"
    }
   },
   "cell_type": "code",
   "source": [
    "df_otodom = update_dataframe(df_otodom, df_2024_03_25_otodom_updated_data, df_2024_03_25_otodom_new_data)\n",
    "df_otodom = update_dataframe(df_otodom, df_2024_04_07_otodom_updated_data, df_2024_04_07_otodom_new_data)\n",
    "df_otodom = update_dataframe(df_otodom, df_2024_04_21_otodom_updated_data, df_2024_04_21_otodom_new_data)"
   ],
   "outputs": [],
   "execution_count": 83
  },
  {
   "cell_type": "code",
   "metadata": {
    "ExecuteTime": {
     "end_time": "2024-04-22T23:35:40.949364Z",
     "start_time": "2024-04-22T23:35:40.930459Z"
    }
   },
   "source": "df_otodom.info()",
   "outputs": [
    {
     "name": "stdout",
     "output_type": "stream",
     "text": [
      "<class 'pandas.core.frame.DataFrame'>\n",
      "RangeIndex: 12672 entries, 0 to 12671\n",
      "Data columns (total 20 columns):\n",
      " #   Column                Non-Null Count  Dtype \n",
      "---  ------                --------------  ----- \n",
      " 0   url                   12672 non-null  object\n",
      " 1   name/title            12672 non-null  object\n",
      " 2   address               12672 non-null  object\n",
      " 3   price                 12672 non-null  object\n",
      " 4   area                  12672 non-null  object\n",
      " 5   price-per-area        12092 non-null  object\n",
      " 6   floor/store           12433 non-null  object\n",
      " 7   no of rooms           12671 non-null  object\n",
      " 8   year of construction  11304 non-null  object\n",
      " 9   parking space         7625 non-null   object\n",
      " 10  market                11304 non-null  object\n",
      " 11  form of ownership     9617 non-null   object\n",
      " 12  condition             10077 non-null  object\n",
      " 13  rent                  5844 non-null   object\n",
      " 14  heating               9244 non-null   object\n",
      " 15  advertiser type       11304 non-null  object\n",
      " 16  elevator              11304 non-null  object\n",
      " 17  outdoor area          9508 non-null   object\n",
      " 18  building type         11304 non-null  object\n",
      " 19  building material     11304 non-null  object\n",
      "dtypes: object(20)\n",
      "memory usage: 1.9+ MB\n"
     ]
    }
   ],
   "execution_count": 84
  },
  {
   "metadata": {},
   "cell_type": "markdown",
   "source": "## Przygotowanie danych"
  },
  {
   "metadata": {},
   "cell_type": "markdown",
   "source": "### Cena"
  },
  {
   "metadata": {},
   "cell_type": "markdown",
   "source": "#### Usunięcie brakujących danych, uspójnienie oraz zmiana na typy liczbowe"
  },
  {
   "metadata": {
    "ExecuteTime": {
     "end_time": "2024-04-22T23:35:41.213168Z",
     "start_time": "2024-04-22T23:35:41.197971Z"
    }
   },
   "cell_type": "code",
   "source": [
    "# Wierszy bez ceny\n",
    "no_price = df_otodom[~df_otodom['price'].str.contains('\\d')]\n",
    "no_price['price'].count()"
   ],
   "outputs": [
    {
     "data": {
      "text/plain": [
       "583"
      ]
     },
     "execution_count": 85,
     "metadata": {},
     "output_type": "execute_result"
    }
   ],
   "execution_count": 85
  },
  {
   "metadata": {
    "ExecuteTime": {
     "end_time": "2024-04-22T23:35:41.535421Z",
     "start_time": "2024-04-22T23:35:41.524165Z"
    }
   },
   "cell_type": "code",
   "source": [
    "# Usunięcie wierszy z brakującą ceną (no_price)\n",
    "df_otodom.drop(no_price.index, inplace=True)\n",
    "df_otodom['price'].count()"
   ],
   "outputs": [
    {
     "data": {
      "text/plain": [
       "12089"
      ]
     },
     "execution_count": 86,
     "metadata": {},
     "output_type": "execute_result"
    }
   ],
   "execution_count": 86
  },
  {
   "cell_type": "markdown",
   "metadata": {},
   "source": "#### Ceny podane w innej walucie"
  },
  {
   "cell_type": "code",
   "metadata": {
    "ExecuteTime": {
     "end_time": "2024-04-22T23:35:41.784374Z",
     "start_time": "2024-04-22T23:35:41.770420Z"
    }
   },
   "source": [
    "# Wiersze w EUR\n",
    "different_currency = df_otodom[~df_otodom['price'].str.contains('zł', na=False)].copy()\n",
    "different_currency['price'].count()"
   ],
   "outputs": [
    {
     "data": {
      "text/plain": [
       "8"
      ]
     },
     "execution_count": 87,
     "metadata": {},
     "output_type": "execute_result"
    }
   ],
   "execution_count": 87
  },
  {
   "metadata": {
    "ExecuteTime": {
     "end_time": "2024-04-22T23:35:42.028527Z",
     "start_time": "2024-04-22T23:35:42.021347Z"
    }
   },
   "cell_type": "code",
   "source": [
    "different_currency['price-per-area'] = different_currency['price-per-area'].str.replace(' ', '').str.extract(r'(\\d+\\.\\d+|\\d+)').astype(float)\n",
    "different_currency['area'] = different_currency['area'].str.replace(',', '.').str.extract(r'(\\d+\\.\\d+|\\d+)').astype(float)"
   ],
   "outputs": [],
   "execution_count": 88
  },
  {
   "metadata": {
    "ExecuteTime": {
     "end_time": "2024-04-22T23:35:42.269543Z",
     "start_time": "2024-04-22T23:35:42.251522Z"
    }
   },
   "cell_type": "code",
   "source": "df_otodom.loc[different_currency.index]",
   "outputs": [
    {
     "data": {
      "text/plain": [
       "                                                    url  \\\n",
       "1265  https://www.otodom.pl/pl/oferta/penthouse-232m...   \n",
       "2056  https://www.otodom.pl/pl/oferta/penthouse-w-po...   \n",
       "3144  https://www.otodom.pl/pl/oferta/5-pokoi-taras-...   \n",
       "3977  https://www.otodom.pl/pl/oferta/chorwacja-spli...   \n",
       "4722  https://www.otodom.pl/pl/oferta/penthouse-tara...   \n",
       "4908  https://www.otodom.pl/pl/oferta/penthouse-w-od...   \n",
       "4995  https://www.otodom.pl/pl/oferta/penthouse-star...   \n",
       "9359  https://www.otodom.pl/pl/oferta/penthouse-w-od...   \n",
       "\n",
       "                                             name/title  \\\n",
       "1265  Penthouse 232m w zabytkowej kamienicy Stare Mi...   \n",
       "2056                 Penthouse w pobliżu Rynku Głównego   \n",
       "3144  5 pokoi | Taras 77m2 | Komórka | Centrum | Mar...   \n",
       "3977               Chorwacja Split luksusowy apartament   \n",
       "4722     Penthouse tarasem na dachu w kamienicy z windą   \n",
       "4908  Penthouse w odrestaurowanej kamienicy - taras ...   \n",
       "4995      Penthouse Stare Miasto II Poziomy. Taras 70m2   \n",
       "9359  Penthouse w odrestaurowanej kamienicy - taras ...   \n",
       "\n",
       "                                                address          price  \\\n",
       "1265      Nowy Świat, Stare Miasto, Kraków, małopolskie  1 149 999 EUR   \n",
       "2056  marszałka JózefaPiłsudskiego, Nowy Świat, Star...  1 150 000 EUR   \n",
       "3144  ul. marsz. Józefa Piłsudskiego, Nowy Świat, St...  1 149 999 EUR   \n",
       "3977          Krowodrza, Krowodrza, Kraków, małopolskie    585 280 EUR   \n",
       "4722  Marszałka Józefa Piłsudskiego, Nowy Świat, Sta...  1 150 000 EUR   \n",
       "4908  ul. marsz. Józefa Piłsudskiego, Piasek, Stare ...  1 150 000 EUR   \n",
       "4995  Marszałka Józefa Piłsudskiego, Nowy Świat, Sta...  1 150 000 EUR   \n",
       "9359  ul. marsz. Józefa Piłsudskiego, Piasek, Stare ...  1 150 000 EUR   \n",
       "\n",
       "          area price-per-area floor/store no of rooms year of construction  \\\n",
       "1265  232,1 m²   21 368 zł/m²         4/4           5                 1906   \n",
       "2056    232 m²   21 377 zł/m²         4/5           9                 1906   \n",
       "3144  232,1 m²   21 368 zł/m²         4/4           5                 1908   \n",
       "3977  91,45 m²   27 601 zł/m²         3/4           4                 2025   \n",
       "4722  228,7 m²   21 686 zł/m²         4/5           5                 1906   \n",
       "4908    228 m²   21 896 zł/m²         4/5         5.0                 1906   \n",
       "4995  232,1 m²   21 368 zł/m²         4/5           5                 1906   \n",
       "9359    228 m²   21 752 zł/m²         4/5           5                 1906   \n",
       "\n",
       "                 parking space     market form of ownership        condition  \\\n",
       "1265                       NaN     wtórny    pełna własność  do zamieszkania   \n",
       "2056                       NaN     wtórny    pełna własność  do zamieszkania   \n",
       "3144  garaż/miejsce parkingowe     wtórny    pełna własność  do zamieszkania   \n",
       "3977  garaż/miejsce parkingowe  pierwotny    pełna własność  do zamieszkania   \n",
       "4722                       NaN     wtórny    pełna własność  do zamieszkania   \n",
       "4908  garaż/miejsce parkingowe     wtórny    pełna własność  do zamieszkania   \n",
       "4995                       NaN     wtórny               NaN              NaN   \n",
       "9359  garaż/miejsce parkingowe     wtórny    pełna własność  do zamieszkania   \n",
       "\n",
       "          rent      heating      advertiser type elevator   outdoor area  \\\n",
       "1265       NaN       gazowe  biuro nieruchomości      nie            NaN   \n",
       "2056  1 700 zł       gazowe  biuro nieruchomości      tak  balkon, taras   \n",
       "3144    850 zł       gazowe  biuro nieruchomości      tak  taras, balkon   \n",
       "3977   100 EUR  elektryczne             prywatny      tak  balkon, taras   \n",
       "4722       NaN          NaN  biuro nieruchomości      tak  balkon, taras   \n",
       "4908    220 zł       gazowe  biuro nieruchomości      tak  taras, balkon   \n",
       "4995       NaN          NaN  biuro nieruchomości      nie            NaN   \n",
       "9359    220 zł       gazowe  biuro nieruchomości      tak  taras, balkon   \n",
       "\n",
       "        building type building material  \n",
       "1265        kamienica             cegła  \n",
       "2056        kamienica   brak informacji  \n",
       "3144        kamienica             cegła  \n",
       "3977  apartamentowiec           silikat  \n",
       "4722        kamienica   brak informacji  \n",
       "4908        kamienica             cegła  \n",
       "4995  brak informacji   brak informacji  \n",
       "9359        kamienica             cegła  "
      ],
      "text/html": [
       "<div>\n",
       "<style scoped>\n",
       "    .dataframe tbody tr th:only-of-type {\n",
       "        vertical-align: middle;\n",
       "    }\n",
       "\n",
       "    .dataframe tbody tr th {\n",
       "        vertical-align: top;\n",
       "    }\n",
       "\n",
       "    .dataframe thead th {\n",
       "        text-align: right;\n",
       "    }\n",
       "</style>\n",
       "<table border=\"1\" class=\"dataframe\">\n",
       "  <thead>\n",
       "    <tr style=\"text-align: right;\">\n",
       "      <th></th>\n",
       "      <th>url</th>\n",
       "      <th>name/title</th>\n",
       "      <th>address</th>\n",
       "      <th>price</th>\n",
       "      <th>area</th>\n",
       "      <th>price-per-area</th>\n",
       "      <th>floor/store</th>\n",
       "      <th>no of rooms</th>\n",
       "      <th>year of construction</th>\n",
       "      <th>parking space</th>\n",
       "      <th>market</th>\n",
       "      <th>form of ownership</th>\n",
       "      <th>condition</th>\n",
       "      <th>rent</th>\n",
       "      <th>heating</th>\n",
       "      <th>advertiser type</th>\n",
       "      <th>elevator</th>\n",
       "      <th>outdoor area</th>\n",
       "      <th>building type</th>\n",
       "      <th>building material</th>\n",
       "    </tr>\n",
       "  </thead>\n",
       "  <tbody>\n",
       "    <tr>\n",
       "      <th>1265</th>\n",
       "      <td>https://www.otodom.pl/pl/oferta/penthouse-232m...</td>\n",
       "      <td>Penthouse 232m w zabytkowej kamienicy Stare Mi...</td>\n",
       "      <td>Nowy Świat, Stare Miasto, Kraków, małopolskie</td>\n",
       "      <td>1 149 999 EUR</td>\n",
       "      <td>232,1 m²</td>\n",
       "      <td>21 368 zł/m²</td>\n",
       "      <td>4/4</td>\n",
       "      <td>5</td>\n",
       "      <td>1906</td>\n",
       "      <td>NaN</td>\n",
       "      <td>wtórny</td>\n",
       "      <td>pełna własność</td>\n",
       "      <td>do zamieszkania</td>\n",
       "      <td>NaN</td>\n",
       "      <td>gazowe</td>\n",
       "      <td>biuro nieruchomości</td>\n",
       "      <td>nie</td>\n",
       "      <td>NaN</td>\n",
       "      <td>kamienica</td>\n",
       "      <td>cegła</td>\n",
       "    </tr>\n",
       "    <tr>\n",
       "      <th>2056</th>\n",
       "      <td>https://www.otodom.pl/pl/oferta/penthouse-w-po...</td>\n",
       "      <td>Penthouse w pobliżu Rynku Głównego</td>\n",
       "      <td>marszałka JózefaPiłsudskiego, Nowy Świat, Star...</td>\n",
       "      <td>1 150 000 EUR</td>\n",
       "      <td>232 m²</td>\n",
       "      <td>21 377 zł/m²</td>\n",
       "      <td>4/5</td>\n",
       "      <td>9</td>\n",
       "      <td>1906</td>\n",
       "      <td>NaN</td>\n",
       "      <td>wtórny</td>\n",
       "      <td>pełna własność</td>\n",
       "      <td>do zamieszkania</td>\n",
       "      <td>1 700 zł</td>\n",
       "      <td>gazowe</td>\n",
       "      <td>biuro nieruchomości</td>\n",
       "      <td>tak</td>\n",
       "      <td>balkon, taras</td>\n",
       "      <td>kamienica</td>\n",
       "      <td>brak informacji</td>\n",
       "    </tr>\n",
       "    <tr>\n",
       "      <th>3144</th>\n",
       "      <td>https://www.otodom.pl/pl/oferta/5-pokoi-taras-...</td>\n",
       "      <td>5 pokoi | Taras 77m2 | Komórka | Centrum | Mar...</td>\n",
       "      <td>ul. marsz. Józefa Piłsudskiego, Nowy Świat, St...</td>\n",
       "      <td>1 149 999 EUR</td>\n",
       "      <td>232,1 m²</td>\n",
       "      <td>21 368 zł/m²</td>\n",
       "      <td>4/4</td>\n",
       "      <td>5</td>\n",
       "      <td>1908</td>\n",
       "      <td>garaż/miejsce parkingowe</td>\n",
       "      <td>wtórny</td>\n",
       "      <td>pełna własność</td>\n",
       "      <td>do zamieszkania</td>\n",
       "      <td>850 zł</td>\n",
       "      <td>gazowe</td>\n",
       "      <td>biuro nieruchomości</td>\n",
       "      <td>tak</td>\n",
       "      <td>taras, balkon</td>\n",
       "      <td>kamienica</td>\n",
       "      <td>cegła</td>\n",
       "    </tr>\n",
       "    <tr>\n",
       "      <th>3977</th>\n",
       "      <td>https://www.otodom.pl/pl/oferta/chorwacja-spli...</td>\n",
       "      <td>Chorwacja Split luksusowy apartament</td>\n",
       "      <td>Krowodrza, Krowodrza, Kraków, małopolskie</td>\n",
       "      <td>585 280 EUR</td>\n",
       "      <td>91,45 m²</td>\n",
       "      <td>27 601 zł/m²</td>\n",
       "      <td>3/4</td>\n",
       "      <td>4</td>\n",
       "      <td>2025</td>\n",
       "      <td>garaż/miejsce parkingowe</td>\n",
       "      <td>pierwotny</td>\n",
       "      <td>pełna własność</td>\n",
       "      <td>do zamieszkania</td>\n",
       "      <td>100 EUR</td>\n",
       "      <td>elektryczne</td>\n",
       "      <td>prywatny</td>\n",
       "      <td>tak</td>\n",
       "      <td>balkon, taras</td>\n",
       "      <td>apartamentowiec</td>\n",
       "      <td>silikat</td>\n",
       "    </tr>\n",
       "    <tr>\n",
       "      <th>4722</th>\n",
       "      <td>https://www.otodom.pl/pl/oferta/penthouse-tara...</td>\n",
       "      <td>Penthouse tarasem na dachu w kamienicy z windą</td>\n",
       "      <td>Marszałka Józefa Piłsudskiego, Nowy Świat, Sta...</td>\n",
       "      <td>1 150 000 EUR</td>\n",
       "      <td>228,7 m²</td>\n",
       "      <td>21 686 zł/m²</td>\n",
       "      <td>4/5</td>\n",
       "      <td>5</td>\n",
       "      <td>1906</td>\n",
       "      <td>NaN</td>\n",
       "      <td>wtórny</td>\n",
       "      <td>pełna własność</td>\n",
       "      <td>do zamieszkania</td>\n",
       "      <td>NaN</td>\n",
       "      <td>NaN</td>\n",
       "      <td>biuro nieruchomości</td>\n",
       "      <td>tak</td>\n",
       "      <td>balkon, taras</td>\n",
       "      <td>kamienica</td>\n",
       "      <td>brak informacji</td>\n",
       "    </tr>\n",
       "    <tr>\n",
       "      <th>4908</th>\n",
       "      <td>https://www.otodom.pl/pl/oferta/penthouse-w-od...</td>\n",
       "      <td>Penthouse w odrestaurowanej kamienicy - taras ...</td>\n",
       "      <td>ul. marsz. Józefa Piłsudskiego, Piasek, Stare ...</td>\n",
       "      <td>1 150 000 EUR</td>\n",
       "      <td>228 m²</td>\n",
       "      <td>21 896 zł/m²</td>\n",
       "      <td>4/5</td>\n",
       "      <td>5.0</td>\n",
       "      <td>1906</td>\n",
       "      <td>garaż/miejsce parkingowe</td>\n",
       "      <td>wtórny</td>\n",
       "      <td>pełna własność</td>\n",
       "      <td>do zamieszkania</td>\n",
       "      <td>220 zł</td>\n",
       "      <td>gazowe</td>\n",
       "      <td>biuro nieruchomości</td>\n",
       "      <td>tak</td>\n",
       "      <td>taras, balkon</td>\n",
       "      <td>kamienica</td>\n",
       "      <td>cegła</td>\n",
       "    </tr>\n",
       "    <tr>\n",
       "      <th>4995</th>\n",
       "      <td>https://www.otodom.pl/pl/oferta/penthouse-star...</td>\n",
       "      <td>Penthouse Stare Miasto II Poziomy. Taras 70m2</td>\n",
       "      <td>Marszałka Józefa Piłsudskiego, Nowy Świat, Sta...</td>\n",
       "      <td>1 150 000 EUR</td>\n",
       "      <td>232,1 m²</td>\n",
       "      <td>21 368 zł/m²</td>\n",
       "      <td>4/5</td>\n",
       "      <td>5</td>\n",
       "      <td>1906</td>\n",
       "      <td>NaN</td>\n",
       "      <td>wtórny</td>\n",
       "      <td>NaN</td>\n",
       "      <td>NaN</td>\n",
       "      <td>NaN</td>\n",
       "      <td>NaN</td>\n",
       "      <td>biuro nieruchomości</td>\n",
       "      <td>nie</td>\n",
       "      <td>NaN</td>\n",
       "      <td>brak informacji</td>\n",
       "      <td>brak informacji</td>\n",
       "    </tr>\n",
       "    <tr>\n",
       "      <th>9359</th>\n",
       "      <td>https://www.otodom.pl/pl/oferta/penthouse-w-od...</td>\n",
       "      <td>Penthouse w odrestaurowanej kamienicy - taras ...</td>\n",
       "      <td>ul. marsz. Józefa Piłsudskiego, Piasek, Stare ...</td>\n",
       "      <td>1 150 000 EUR</td>\n",
       "      <td>228 m²</td>\n",
       "      <td>21 752 zł/m²</td>\n",
       "      <td>4/5</td>\n",
       "      <td>5</td>\n",
       "      <td>1906</td>\n",
       "      <td>garaż/miejsce parkingowe</td>\n",
       "      <td>wtórny</td>\n",
       "      <td>pełna własność</td>\n",
       "      <td>do zamieszkania</td>\n",
       "      <td>220 zł</td>\n",
       "      <td>gazowe</td>\n",
       "      <td>biuro nieruchomości</td>\n",
       "      <td>tak</td>\n",
       "      <td>taras, balkon</td>\n",
       "      <td>kamienica</td>\n",
       "      <td>cegła</td>\n",
       "    </tr>\n",
       "  </tbody>\n",
       "</table>\n",
       "</div>"
      ]
     },
     "execution_count": 89,
     "metadata": {},
     "output_type": "execute_result"
    }
   ],
   "execution_count": 89
  },
  {
   "metadata": {
    "ExecuteTime": {
     "end_time": "2024-04-22T23:35:42.574816Z",
     "start_time": "2024-04-22T23:35:42.539537Z"
    }
   },
   "cell_type": "code",
   "source": [
    "# zamiana cen na wartości liczbowe\n",
    "df_otodom['price'] = df_otodom['price'].str.replace(' ', '').str.replace(',', '.')\n",
    "df_otodom['price'] = df_otodom['price'].str.extract('(\\d+\\.\\d+|\\d+)').astype(float)"
   ],
   "outputs": [],
   "execution_count": 90
  },
  {
   "cell_type": "code",
   "metadata": {
    "ExecuteTime": {
     "end_time": "2024-04-22T23:35:42.728849Z",
     "start_time": "2024-04-22T23:35:42.720809Z"
    }
   },
   "source": [
    "# przeliczanie ceny na podstawie metrażu i ceny za metr podanej w PLN\n",
    "different_currency.loc[:, 'price'] = (different_currency['price-per-area'] * different_currency['area'])\n",
    "df_otodom.loc[different_currency.index, 'price'] = different_currency['price'].astype(float)\n",
    "df_otodom.loc[different_currency.index, 'price']"
   ],
   "outputs": [
    {
     "data": {
      "text/plain": [
       "1265    4959512.80\n",
       "2056    4959464.00\n",
       "3144    4959512.80\n",
       "3977    2524111.45\n",
       "4722    4959588.20\n",
       "4908    4992288.00\n",
       "4995    4959512.80\n",
       "9359    4959456.00\n",
       "Name: price, dtype: float64"
      ]
     },
     "execution_count": 91,
     "metadata": {},
     "output_type": "execute_result"
    }
   ],
   "execution_count": 91
  },
  {
   "metadata": {
    "ExecuteTime": {
     "end_time": "2024-04-22T23:35:43.007690Z",
     "start_time": "2024-04-22T23:35:42.999793Z"
    }
   },
   "cell_type": "code",
   "source": [
    "# Usunięcie złapanego wiersza z mieszkaniem z Chorwacji\n",
    "df_otodom.drop(index=3977, inplace=True)"
   ],
   "outputs": [],
   "execution_count": 92
  },
  {
   "cell_type": "code",
   "metadata": {
    "ExecuteTime": {
     "end_time": "2024-04-22T23:35:43.404889Z",
     "start_time": "2024-04-22T23:35:43.399727Z"
    }
   },
   "source": [
    "df_otodom['price'].count()"
   ],
   "outputs": [
    {
     "data": {
      "text/plain": [
       "12088"
      ]
     },
     "execution_count": 93,
     "metadata": {},
     "output_type": "execute_result"
    }
   ],
   "execution_count": 93
  },
  {
   "cell_type": "markdown",
   "metadata": {},
   "source": "### Zamiana wartości w kolumnach na typy liczbowe"
  },
  {
   "metadata": {},
   "cell_type": "markdown",
   "source": "#### metraż"
  },
  {
   "cell_type": "code",
   "metadata": {
    "ExecuteTime": {
     "end_time": "2024-04-22T23:35:43.763292Z",
     "start_time": "2024-04-22T23:35:43.743878Z"
    }
   },
   "source": [
    "df_otodom['area'] = df_otodom['area'].str.replace(' m²', '')\n",
    "df_otodom['area'] = df_otodom['area'].str.replace(' ', '')\n",
    "df_otodom['area'] = df_otodom['area'].str.replace(',', '.').astype(float)"
   ],
   "outputs": [],
   "execution_count": 94
  },
  {
   "metadata": {},
   "cell_type": "markdown",
   "source": "#### cena za metr"
  },
  {
   "cell_type": "code",
   "metadata": {
    "ExecuteTime": {
     "end_time": "2024-04-22T23:35:44.065028Z",
     "start_time": "2024-04-22T23:35:44.047806Z"
    }
   },
   "source": [
    "# df_otodom[df_otodom['price-per-area'].str.contains(r'\\d', na=False).shape[0] & ~df_otodom['price-per-area'].str.contains('zł', na=False)].shape[0]\n",
    "df_otodom[(df_otodom['price-per-area'].str.contains(r'\\d', na=False)) & (~df_otodom['price-per-area'].str.contains('zł', na=False))].shape[0]"
   ],
   "outputs": [
    {
     "data": {
      "text/plain": [
       "0"
      ]
     },
     "execution_count": 95,
     "metadata": {},
     "output_type": "execute_result"
    }
   ],
   "execution_count": 95
  },
  {
   "cell_type": "code",
   "metadata": {
    "ExecuteTime": {
     "end_time": "2024-04-22T23:35:44.233446Z",
     "start_time": "2024-04-22T23:35:44.226028Z"
    }
   },
   "source": "df_otodom[df_otodom['price-per-area'].isnull()].shape[0]",
   "outputs": [
    {
     "data": {
      "text/plain": [
       "0"
      ]
     },
     "execution_count": 96,
     "metadata": {},
     "output_type": "execute_result"
    }
   ],
   "execution_count": 96
  },
  {
   "cell_type": "code",
   "metadata": {
    "ExecuteTime": {
     "end_time": "2024-04-22T23:35:44.522667Z",
     "start_time": "2024-04-22T23:35:44.504953Z"
    }
   },
   "source": [
    "df_otodom['price-per-area'] = df_otodom['price-per-area'].str.replace(' zł/m²', '').str.replace(' ', '').str.replace(',', '.')\n",
    "df_otodom['price-per-area'] = df_otodom['price-per-area'].astype(float)"
   ],
   "outputs": [],
   "execution_count": 97
  },
  {
   "metadata": {},
   "cell_type": "markdown",
   "source": "#### czynsz"
  },
  {
   "cell_type": "code",
   "metadata": {
    "ExecuteTime": {
     "end_time": "2024-04-22T23:35:44.737252Z",
     "start_time": "2024-04-22T23:35:44.710664Z"
    }
   },
   "source": [
    "# Wiersze w innej walucie\n",
    "df_otodom[df_otodom['rent'].str.contains(r'\\d', na=False) & ~df_otodom['rent'].str.contains('zł', na=False)]"
   ],
   "outputs": [
    {
     "data": {
      "text/plain": [
       "                                                    url  \\\n",
       "6335  https://www.otodom.pl/pl/oferta/2m-wysoki-stan...   \n",
       "\n",
       "                                        name/title  \\\n",
       "6335  2M! Wysoki Standard| Gotowe| Balkon | Widok!   \n",
       "\n",
       "                                                address     price   area  \\\n",
       "6335  Wola Duchacka, Podgórze Duchackie, Kraków, mał...  620000.0  35.55   \n",
       "\n",
       "      price-per-area floor/store no of rooms year of construction  \\\n",
       "6335         17440.0        7/11           2                 2019   \n",
       "\n",
       "     parking space  market form of ownership        condition     rent  \\\n",
       "6335           NaN  wtórny    pełna własność  do zamieszkania  420 GBP   \n",
       "\n",
       "       heating      advertiser type elevator outdoor area building type  \\\n",
       "6335  miejskie  biuro nieruchomości      tak       balkon          blok   \n",
       "\n",
       "     building material  \n",
       "6335   brak informacji  "
      ],
      "text/html": [
       "<div>\n",
       "<style scoped>\n",
       "    .dataframe tbody tr th:only-of-type {\n",
       "        vertical-align: middle;\n",
       "    }\n",
       "\n",
       "    .dataframe tbody tr th {\n",
       "        vertical-align: top;\n",
       "    }\n",
       "\n",
       "    .dataframe thead th {\n",
       "        text-align: right;\n",
       "    }\n",
       "</style>\n",
       "<table border=\"1\" class=\"dataframe\">\n",
       "  <thead>\n",
       "    <tr style=\"text-align: right;\">\n",
       "      <th></th>\n",
       "      <th>url</th>\n",
       "      <th>name/title</th>\n",
       "      <th>address</th>\n",
       "      <th>price</th>\n",
       "      <th>area</th>\n",
       "      <th>price-per-area</th>\n",
       "      <th>floor/store</th>\n",
       "      <th>no of rooms</th>\n",
       "      <th>year of construction</th>\n",
       "      <th>parking space</th>\n",
       "      <th>market</th>\n",
       "      <th>form of ownership</th>\n",
       "      <th>condition</th>\n",
       "      <th>rent</th>\n",
       "      <th>heating</th>\n",
       "      <th>advertiser type</th>\n",
       "      <th>elevator</th>\n",
       "      <th>outdoor area</th>\n",
       "      <th>building type</th>\n",
       "      <th>building material</th>\n",
       "    </tr>\n",
       "  </thead>\n",
       "  <tbody>\n",
       "    <tr>\n",
       "      <th>6335</th>\n",
       "      <td>https://www.otodom.pl/pl/oferta/2m-wysoki-stan...</td>\n",
       "      <td>2M! Wysoki Standard| Gotowe| Balkon | Widok!</td>\n",
       "      <td>Wola Duchacka, Podgórze Duchackie, Kraków, mał...</td>\n",
       "      <td>620000.0</td>\n",
       "      <td>35.55</td>\n",
       "      <td>17440.0</td>\n",
       "      <td>7/11</td>\n",
       "      <td>2</td>\n",
       "      <td>2019</td>\n",
       "      <td>NaN</td>\n",
       "      <td>wtórny</td>\n",
       "      <td>pełna własność</td>\n",
       "      <td>do zamieszkania</td>\n",
       "      <td>420 GBP</td>\n",
       "      <td>miejskie</td>\n",
       "      <td>biuro nieruchomości</td>\n",
       "      <td>tak</td>\n",
       "      <td>balkon</td>\n",
       "      <td>blok</td>\n",
       "      <td>brak informacji</td>\n",
       "    </tr>\n",
       "  </tbody>\n",
       "</table>\n",
       "</div>"
      ]
     },
     "execution_count": 98,
     "metadata": {},
     "output_type": "execute_result"
    }
   ],
   "execution_count": 98
  },
  {
   "cell_type": "code",
   "metadata": {
    "ExecuteTime": {
     "end_time": "2024-04-22T23:35:45.054322Z",
     "start_time": "2024-04-22T23:35:45.041250Z"
    }
   },
   "source": [
    "eur_rent_price = df_otodom[df_otodom['rent'].str.contains('EUR', na=False)]\n",
    "gbp_rent_price = df_otodom[df_otodom['rent'].str.contains('GBP', na=False)]"
   ],
   "outputs": [],
   "execution_count": 99
  },
  {
   "cell_type": "code",
   "metadata": {
    "ExecuteTime": {
     "end_time": "2024-04-22T23:35:45.222933Z",
     "start_time": "2024-04-22T23:35:45.199320Z"
    }
   },
   "source": [
    "# zamiana wartości rent na typ liczbowy\n",
    "df_otodom['rent'] = df_otodom['rent'].str.replace(' ', '').str.replace(',', '.').str.extract('(\\d+\\.\\d+|\\d+)').astype(float)"
   ],
   "outputs": [],
   "execution_count": 100
  },
  {
   "metadata": {
    "ExecuteTime": {
     "end_time": "2024-04-22T23:35:46.306976Z",
     "start_time": "2024-04-22T23:35:45.490931Z"
    }
   },
   "cell_type": "code",
   "source": [
    "import yfinance as yf\n",
    "\n",
    "eur = yf.Ticker(\"EURPLN=X\")\n",
    "gbp = yf.Ticker(\"GBPPLN=X\")\n",
    "euro_exchange_rate = eur.info['fiftyDayAverage']\n",
    "gbp_exchange_rate = gbp.info['fiftyDayAverage']\n",
    "print(euro_exchange_rate)\n",
    "print(gbp_exchange_rate)"
   ],
   "outputs": [
    {
     "name": "stdout",
     "output_type": "stream",
     "text": [
      "4.305423\n",
      "5.0342665\n"
     ]
    }
   ],
   "execution_count": 101
  },
  {
   "cell_type": "code",
   "metadata": {
    "ExecuteTime": {
     "end_time": "2024-04-22T23:35:46.314662Z",
     "start_time": "2024-04-22T23:35:46.308972Z"
    }
   },
   "source": [
    "# euro_exchange_rate = 4.28\n",
    "# gbp_exchange_rate = 4.99\n",
    "\n",
    "df_otodom.loc[eur_rent_price.index, 'rent'] *= euro_exchange_rate\n",
    "df_otodom.loc[gbp_rent_price.index, 'rent'] *= gbp_exchange_rate"
   ],
   "outputs": [],
   "execution_count": 102
  },
  {
   "metadata": {
    "ExecuteTime": {
     "end_time": "2024-04-22T23:35:46.330383Z",
     "start_time": "2024-04-22T23:35:46.315660Z"
    }
   },
   "cell_type": "code",
   "source": [
    "# Średnia po wycięciu utliersów do ew. uzupełnienia\n",
    "mean_rent = df_otodom['rent'].mean()\n",
    "std_rent = df_otodom['rent'].std()\n",
    "\n",
    "filtered_std_rent = df_otodom[(df_otodom['rent'] > (mean_rent - std_rent)) & \n",
    "                        (df_otodom['rent'] < (mean_rent + std_rent))]\n",
    "\n",
    "new_mean_rent = filtered_std_rent['rent'].mean()\n",
    "new_mean_rent"
   ],
   "outputs": [
    {
     "data": {
      "text/plain": [
       "541.131739758603"
      ]
     },
     "execution_count": 103,
     "metadata": {},
     "output_type": "execute_result"
    }
   ],
   "execution_count": 103
  },
  {
   "metadata": {},
   "cell_type": "markdown",
   "source": "#### liczba pokoi"
  },
  {
   "metadata": {
    "ExecuteTime": {
     "end_time": "2024-04-22T23:35:46.359378Z",
     "start_time": "2024-04-22T23:35:46.336379Z"
    }
   },
   "cell_type": "code",
   "source": [
    "df_otodom['no of rooms'] = df_otodom['no of rooms'].str.replace(' ', '')\n",
    "print(df_otodom[df_otodom['no of rooms'].isna()].shape[0])\n",
    "df_otodom.dropna(subset=['no of rooms'], inplace=True)"
   ],
   "outputs": [
    {
     "name": "stdout",
     "output_type": "stream",
     "text": [
      "346\n"
     ]
    }
   ],
   "execution_count": 104
  },
  {
   "cell_type": "code",
   "metadata": {
    "ExecuteTime": {
     "end_time": "2024-04-22T23:35:46.662901Z",
     "start_time": "2024-04-22T23:35:46.500379Z"
    }
   },
   "source": "df_otodom['no of rooms'] = df_otodom['no of rooms'].str.extract('(\\d+)').astype(int)",
   "outputs": [],
   "execution_count": 105
  },
  {
   "metadata": {},
   "cell_type": "markdown",
   "source": "#### piętro"
  },
  {
   "cell_type": "code",
   "metadata": {
    "ExecuteTime": {
     "end_time": "2024-04-22T23:35:46.969899Z",
     "start_time": "2024-04-22T23:35:46.950902Z"
    }
   },
   "source": [
    "# Rozdzielenie kolumny 'floor/store' na dwie osobne kolumny\n",
    "df_otodom[['floor/store', 'no of floors/stores in the building']] = df_otodom['floor/store'].str.split('/', expand=True)"
   ],
   "outputs": [],
   "execution_count": 106
  },
  {
   "cell_type": "code",
   "metadata": {
    "ExecuteTime": {
     "end_time": "2024-04-22T23:35:47.212656Z",
     "start_time": "2024-04-22T23:35:47.197900Z"
    }
   },
   "source": [
    "# Usunięcie wierszy bez informacji o piętrze\n",
    "print(df_otodom[df_otodom['floor/store'].isnull()].shape[0])\n",
    "df_otodom = df_otodom.dropna(subset=['floor/store'])"
   ],
   "outputs": [
    {
     "name": "stdout",
     "output_type": "stream",
     "text": [
      "236\n"
     ]
    }
   ],
   "execution_count": 107
  },
  {
   "cell_type": "code",
   "metadata": {
    "ExecuteTime": {
     "end_time": "2024-04-22T23:35:47.472533Z",
     "start_time": "2024-04-22T23:35:47.466672Z"
    }
   },
   "source": [
    "# Zamiana wartości \"parter\" na 0 w kolumnie \"floor\"\n",
    "df_otodom['floor/store'] = df_otodom['floor/store'].replace('parter', 0)"
   ],
   "outputs": [],
   "execution_count": 108
  },
  {
   "cell_type": "code",
   "metadata": {
    "ExecuteTime": {
     "end_time": "2024-04-22T23:35:47.635753Z",
     "start_time": "2024-04-22T23:35:47.630518Z"
    }
   },
   "source": [
    "# Zamiana wartości \"suterena\" na -1 w kolumnie \"floor\"\n",
    "df_otodom['floor/store'] = df_otodom['floor/store'].replace('suterena', -1)"
   ],
   "outputs": [],
   "execution_count": 109
  },
  {
   "cell_type": "code",
   "metadata": {
    "ExecuteTime": {
     "end_time": "2024-04-22T23:35:47.983626Z",
     "start_time": "2024-04-22T23:35:47.969789Z"
    }
   },
   "source": [
    "# Konwersja kolumny \"floor\" na typ liczbowy, zamieniając nieliczbowe wartości na NaN\n",
    "df_otodom['floor/store'] = pd.to_numeric(df_otodom['floor/store'], errors='coerce')\n",
    "\n",
    "# Usunięcie wierszy zawierających wartości NaN w kolumnie \"floor\"\n",
    "df_otodom = df_otodom[~df_otodom['floor/store'].isna()]"
   ],
   "outputs": [],
   "execution_count": 110
  },
  {
   "cell_type": "code",
   "metadata": {
    "ExecuteTime": {
     "end_time": "2024-04-22T23:35:48.081606Z",
     "start_time": "2024-04-22T23:35:48.076621Z"
    }
   },
   "source": "df_otodom['floor/store'] = df_otodom['floor/store'].astype(int)",
   "outputs": [],
   "execution_count": 111
  },
  {
   "metadata": {},
   "cell_type": "markdown",
   "source": "#### liczba pięter"
  },
  {
   "metadata": {
    "ExecuteTime": {
     "end_time": "2024-04-22T23:35:48.318771Z",
     "start_time": "2024-04-22T23:35:48.306841Z"
    }
   },
   "cell_type": "code",
   "source": [
    "print(df_otodom[df_otodom['no of floors/stores in the building'].isnull()].shape[0])\n",
    "df_otodom = df_otodom.dropna(subset=['no of floors/stores in the building'])"
   ],
   "outputs": [
    {
     "name": "stdout",
     "output_type": "stream",
     "text": [
      "448\n"
     ]
    }
   ],
   "execution_count": 112
  },
  {
   "metadata": {
    "ExecuteTime": {
     "end_time": "2024-04-22T23:35:48.469635Z",
     "start_time": "2024-04-22T23:35:48.464779Z"
    }
   },
   "cell_type": "code",
   "source": "df_otodom['no of floors/stores in the building'] = df_otodom['no of floors/stores in the building'].astype(int)",
   "outputs": [],
   "execution_count": 113
  },
  {
   "metadata": {
    "ExecuteTime": {
     "end_time": "2024-04-22T23:35:48.714567Z",
     "start_time": "2024-04-22T23:35:48.705185Z"
    }
   },
   "cell_type": "code",
   "source": [
    "#Reorder\n",
    "columns = list(df_otodom.columns)\n",
    "columns.remove('no of floors/stores in the building')\n",
    "target_index = columns.index('floor/store')\n",
    "columns.insert(target_index + 1, 'no of floors/stores in the building')\n",
    "df_otodom = df_otodom[columns]"
   ],
   "outputs": [],
   "execution_count": 114
  },
  {
   "metadata": {
    "ExecuteTime": {
     "end_time": "2024-04-22T23:35:48.915263Z",
     "start_time": "2024-04-22T23:35:48.903817Z"
    }
   },
   "cell_type": "code",
   "source": [
    "# Według wikipedii najwyższy mieszkalny budunek w Krk ma 19 pięter\n",
    "# https://pl.wikipedia.org/wiki/Lista_najwyższych_budynków_w_Krakowie\n",
    "print(df_otodom[df_otodom['no of floors/stores in the building'] > 19].shape[0])\n",
    "df_otodom.drop(df_otodom[df_otodom['no of floors/stores in the building'] > 19].index, inplace=True)"
   ],
   "outputs": [
    {
     "name": "stdout",
     "output_type": "stream",
     "text": [
      "1\n"
     ]
    }
   ],
   "execution_count": 115
  },
  {
   "metadata": {},
   "cell_type": "markdown",
   "source": "#### rok budowy"
  },
  {
   "metadata": {
    "ExecuteTime": {
     "end_time": "2024-04-22T23:35:49.155651Z",
     "start_time": "2024-04-22T23:35:49.122739Z"
    }
   },
   "cell_type": "code",
   "source": [
    "df_otodom['year of construction'] = pd.to_numeric(df_otodom['year of construction'], errors='coerce')\n",
    "\n",
    "missing_below_1200 = df_otodom[df_otodom['year of construction'] < 1250]\n",
    "missing_above_2026 = df_otodom[df_otodom['year of construction'] > 2026]\n",
    "pd.concat([missing_above_2026, missing_below_1200])"
   ],
   "outputs": [
    {
     "data": {
      "text/plain": [
       "                                                     url  \\\n",
       "187    https://www.otodom.pl/pl/oferta/4-pokoje-nowe-...   \n",
       "7888   https://www.otodom.pl/pl/oferta/mieszkanie-na-...   \n",
       "10812  https://www.otodom.pl/pl/oferta/widokowe-3-pok...   \n",
       "6685   https://www.otodom.pl/pl/oferta/nowe-3-pokoje-...   \n",
       "11292  https://www.otodom.pl/pl/oferta/3-pokoje-na-bi...   \n",
       "11328  https://www.otodom.pl/pl/oferta/mieszkanie-na-...   \n",
       "\n",
       "                                              name/title  \\\n",
       "187            4 pokoje, nowe, Promocja -175 tys. taniej   \n",
       "7888               Mieszkanie na sprzedaż, Kraków 40,2m2   \n",
       "10812  Widokowe 3 pok, 2 loggie, garaż podziemny, Ban...   \n",
       "6685         Nowe: 3 pokoje na Ruczaju. Garaż podziemny.   \n",
       "11292          3 Pokoje na Bieńczycach! Wysoki Standard!   \n",
       "11328     Mieszkanie na sprzedaż- Mogilska-76 m2 + garaż   \n",
       "\n",
       "                                                 address      price   area  \\\n",
       "187        Stare Podgórze, Podgórze, Kraków, małopolskie   998358.0  62.10   \n",
       "7888   ul. Janusza Supniewskiego, Osiedle Oficerskie,...   699000.0  40.20   \n",
       "10812  ul. Stefana Banacha, Górka Narodowa, Prądnik B...   759000.0  49.47   \n",
       "6685                Ruczaj, Dębniki, Kraków, małopolskie   790300.0  56.45   \n",
       "11292  os. Wysokie, Bieńczyce, Bieńczyce, Kraków, mał...   669000.0  45.00   \n",
       "11328  ul. Mogilska, Osiedle Oficerskie, Grzegórzki, ...  1080000.0  76.00   \n",
       "\n",
       "       price-per-area  floor/store  no of floors/stores in the building  \\\n",
       "187           16077.0            1                                    4   \n",
       "7888          17388.0            0                                    2   \n",
       "10812         15343.0            6                                    8   \n",
       "6685          14000.0            3                                    3   \n",
       "11292         14867.0            3                                    4   \n",
       "11328         14211.0            8                                   10   \n",
       "\n",
       "       no of rooms  year of construction  ...     market form of ownership  \\\n",
       "187              4                2924.0  ...  pierwotny    pełna własność   \n",
       "7888             2               20100.0  ...     wtórny    pełna własność   \n",
       "10812            3                2924.0  ...  pierwotny    pełna własność   \n",
       "6685             3                1024.0  ...  pierwotny    pełna własność   \n",
       "11292            3                 450.0  ...     wtórny    pełna własność   \n",
       "11328            3                  87.0  ...     wtórny    pełna własność   \n",
       "\n",
       "             condition    rent   heating      advertiser type elevator  \\\n",
       "187     do wykończenia     NaN  miejskie  biuro nieruchomości      tak   \n",
       "7888   do zamieszkania   350.0  miejskie             prywatny      nie   \n",
       "10812   do wykończenia     1.0  miejskie  biuro nieruchomości      tak   \n",
       "6685    do wykończenia   250.0  miejskie  biuro nieruchomości      tak   \n",
       "11292  do zamieszkania   450.0  miejskie  biuro nieruchomości      nie   \n",
       "11328  do zamieszkania  1200.0  miejskie  biuro nieruchomości      tak   \n",
       "\n",
       "      outdoor area    building type building material  \n",
       "187         balkon  apartamentowiec   brak informacji  \n",
       "7888           NaN             blok             cegła  \n",
       "10812          NaN             blok   brak informacji  \n",
       "6685        balkon             blok            pustak  \n",
       "11292          NaN             blok             cegła  \n",
       "11328       balkon             blok      wielka płyta  \n",
       "\n",
       "[6 rows x 21 columns]"
      ],
      "text/html": [
       "<div>\n",
       "<style scoped>\n",
       "    .dataframe tbody tr th:only-of-type {\n",
       "        vertical-align: middle;\n",
       "    }\n",
       "\n",
       "    .dataframe tbody tr th {\n",
       "        vertical-align: top;\n",
       "    }\n",
       "\n",
       "    .dataframe thead th {\n",
       "        text-align: right;\n",
       "    }\n",
       "</style>\n",
       "<table border=\"1\" class=\"dataframe\">\n",
       "  <thead>\n",
       "    <tr style=\"text-align: right;\">\n",
       "      <th></th>\n",
       "      <th>url</th>\n",
       "      <th>name/title</th>\n",
       "      <th>address</th>\n",
       "      <th>price</th>\n",
       "      <th>area</th>\n",
       "      <th>price-per-area</th>\n",
       "      <th>floor/store</th>\n",
       "      <th>no of floors/stores in the building</th>\n",
       "      <th>no of rooms</th>\n",
       "      <th>year of construction</th>\n",
       "      <th>...</th>\n",
       "      <th>market</th>\n",
       "      <th>form of ownership</th>\n",
       "      <th>condition</th>\n",
       "      <th>rent</th>\n",
       "      <th>heating</th>\n",
       "      <th>advertiser type</th>\n",
       "      <th>elevator</th>\n",
       "      <th>outdoor area</th>\n",
       "      <th>building type</th>\n",
       "      <th>building material</th>\n",
       "    </tr>\n",
       "  </thead>\n",
       "  <tbody>\n",
       "    <tr>\n",
       "      <th>187</th>\n",
       "      <td>https://www.otodom.pl/pl/oferta/4-pokoje-nowe-...</td>\n",
       "      <td>4 pokoje, nowe, Promocja -175 tys. taniej</td>\n",
       "      <td>Stare Podgórze, Podgórze, Kraków, małopolskie</td>\n",
       "      <td>998358.0</td>\n",
       "      <td>62.10</td>\n",
       "      <td>16077.0</td>\n",
       "      <td>1</td>\n",
       "      <td>4</td>\n",
       "      <td>4</td>\n",
       "      <td>2924.0</td>\n",
       "      <td>...</td>\n",
       "      <td>pierwotny</td>\n",
       "      <td>pełna własność</td>\n",
       "      <td>do wykończenia</td>\n",
       "      <td>NaN</td>\n",
       "      <td>miejskie</td>\n",
       "      <td>biuro nieruchomości</td>\n",
       "      <td>tak</td>\n",
       "      <td>balkon</td>\n",
       "      <td>apartamentowiec</td>\n",
       "      <td>brak informacji</td>\n",
       "    </tr>\n",
       "    <tr>\n",
       "      <th>7888</th>\n",
       "      <td>https://www.otodom.pl/pl/oferta/mieszkanie-na-...</td>\n",
       "      <td>Mieszkanie na sprzedaż, Kraków 40,2m2</td>\n",
       "      <td>ul. Janusza Supniewskiego, Osiedle Oficerskie,...</td>\n",
       "      <td>699000.0</td>\n",
       "      <td>40.20</td>\n",
       "      <td>17388.0</td>\n",
       "      <td>0</td>\n",
       "      <td>2</td>\n",
       "      <td>2</td>\n",
       "      <td>20100.0</td>\n",
       "      <td>...</td>\n",
       "      <td>wtórny</td>\n",
       "      <td>pełna własność</td>\n",
       "      <td>do zamieszkania</td>\n",
       "      <td>350.0</td>\n",
       "      <td>miejskie</td>\n",
       "      <td>prywatny</td>\n",
       "      <td>nie</td>\n",
       "      <td>NaN</td>\n",
       "      <td>blok</td>\n",
       "      <td>cegła</td>\n",
       "    </tr>\n",
       "    <tr>\n",
       "      <th>10812</th>\n",
       "      <td>https://www.otodom.pl/pl/oferta/widokowe-3-pok...</td>\n",
       "      <td>Widokowe 3 pok, 2 loggie, garaż podziemny, Ban...</td>\n",
       "      <td>ul. Stefana Banacha, Górka Narodowa, Prądnik B...</td>\n",
       "      <td>759000.0</td>\n",
       "      <td>49.47</td>\n",
       "      <td>15343.0</td>\n",
       "      <td>6</td>\n",
       "      <td>8</td>\n",
       "      <td>3</td>\n",
       "      <td>2924.0</td>\n",
       "      <td>...</td>\n",
       "      <td>pierwotny</td>\n",
       "      <td>pełna własność</td>\n",
       "      <td>do wykończenia</td>\n",
       "      <td>1.0</td>\n",
       "      <td>miejskie</td>\n",
       "      <td>biuro nieruchomości</td>\n",
       "      <td>tak</td>\n",
       "      <td>NaN</td>\n",
       "      <td>blok</td>\n",
       "      <td>brak informacji</td>\n",
       "    </tr>\n",
       "    <tr>\n",
       "      <th>6685</th>\n",
       "      <td>https://www.otodom.pl/pl/oferta/nowe-3-pokoje-...</td>\n",
       "      <td>Nowe: 3 pokoje na Ruczaju. Garaż podziemny.</td>\n",
       "      <td>Ruczaj, Dębniki, Kraków, małopolskie</td>\n",
       "      <td>790300.0</td>\n",
       "      <td>56.45</td>\n",
       "      <td>14000.0</td>\n",
       "      <td>3</td>\n",
       "      <td>3</td>\n",
       "      <td>3</td>\n",
       "      <td>1024.0</td>\n",
       "      <td>...</td>\n",
       "      <td>pierwotny</td>\n",
       "      <td>pełna własność</td>\n",
       "      <td>do wykończenia</td>\n",
       "      <td>250.0</td>\n",
       "      <td>miejskie</td>\n",
       "      <td>biuro nieruchomości</td>\n",
       "      <td>tak</td>\n",
       "      <td>balkon</td>\n",
       "      <td>blok</td>\n",
       "      <td>pustak</td>\n",
       "    </tr>\n",
       "    <tr>\n",
       "      <th>11292</th>\n",
       "      <td>https://www.otodom.pl/pl/oferta/3-pokoje-na-bi...</td>\n",
       "      <td>3 Pokoje na Bieńczycach! Wysoki Standard!</td>\n",
       "      <td>os. Wysokie, Bieńczyce, Bieńczyce, Kraków, mał...</td>\n",
       "      <td>669000.0</td>\n",
       "      <td>45.00</td>\n",
       "      <td>14867.0</td>\n",
       "      <td>3</td>\n",
       "      <td>4</td>\n",
       "      <td>3</td>\n",
       "      <td>450.0</td>\n",
       "      <td>...</td>\n",
       "      <td>wtórny</td>\n",
       "      <td>pełna własność</td>\n",
       "      <td>do zamieszkania</td>\n",
       "      <td>450.0</td>\n",
       "      <td>miejskie</td>\n",
       "      <td>biuro nieruchomości</td>\n",
       "      <td>nie</td>\n",
       "      <td>NaN</td>\n",
       "      <td>blok</td>\n",
       "      <td>cegła</td>\n",
       "    </tr>\n",
       "    <tr>\n",
       "      <th>11328</th>\n",
       "      <td>https://www.otodom.pl/pl/oferta/mieszkanie-na-...</td>\n",
       "      <td>Mieszkanie na sprzedaż- Mogilska-76 m2 + garaż</td>\n",
       "      <td>ul. Mogilska, Osiedle Oficerskie, Grzegórzki, ...</td>\n",
       "      <td>1080000.0</td>\n",
       "      <td>76.00</td>\n",
       "      <td>14211.0</td>\n",
       "      <td>8</td>\n",
       "      <td>10</td>\n",
       "      <td>3</td>\n",
       "      <td>87.0</td>\n",
       "      <td>...</td>\n",
       "      <td>wtórny</td>\n",
       "      <td>pełna własność</td>\n",
       "      <td>do zamieszkania</td>\n",
       "      <td>1200.0</td>\n",
       "      <td>miejskie</td>\n",
       "      <td>biuro nieruchomości</td>\n",
       "      <td>tak</td>\n",
       "      <td>balkon</td>\n",
       "      <td>blok</td>\n",
       "      <td>wielka płyta</td>\n",
       "    </tr>\n",
       "  </tbody>\n",
       "</table>\n",
       "<p>6 rows × 21 columns</p>\n",
       "</div>"
      ]
     },
     "execution_count": 116,
     "metadata": {},
     "output_type": "execute_result"
    }
   ],
   "execution_count": 116
  },
  {
   "metadata": {
    "ExecuteTime": {
     "end_time": "2024-04-22T23:35:49.327574Z",
     "start_time": "2024-04-22T23:35:49.316650Z"
    }
   },
   "cell_type": "code",
   "source": [
    "# Poprawianie \"z placa\"\n",
    "df_otodom['year of construction'] = df_otodom['year of construction'].replace(2924.0, 2024)\n",
    "df_otodom['year of construction'] = df_otodom['year of construction'].replace(1024.0, 2024)\n",
    "df_otodom['year of construction'] = df_otodom['year of construction'].replace(20100.0, 2010)\n",
    "df_otodom['year of construction'] = df_otodom['year of construction'].replace(87.0, 1987)\n",
    "df_otodom.drop(df_otodom[df_otodom['year of construction'] == 450.0].index, inplace=True)"
   ],
   "outputs": [],
   "execution_count": 117
  },
  {
   "metadata": {
    "ExecuteTime": {
     "end_time": "2024-04-22T23:35:49.653861Z",
     "start_time": "2024-04-22T23:35:49.646963Z"
    }
   },
   "cell_type": "code",
   "source": [
    "# df_otodom['year of construction'] = df_otodom['year of construction'].fillna(-1).astype(int)\n",
    "df_otodom['year of construction'].value_counts(dropna=False).head()"
   ],
   "outputs": [
    {
     "data": {
      "text/plain": [
       "year of construction\n",
       "NaN       2159\n",
       "2024.0    1740\n",
       "2023.0    1486\n",
       "2025.0     483\n",
       "2022.0     357\n",
       "Name: count, dtype: int64"
      ]
     },
     "execution_count": 118,
     "metadata": {},
     "output_type": "execute_result"
    }
   ],
   "execution_count": 118
  },
  {
   "metadata": {
    "ExecuteTime": {
     "end_time": "2024-04-22T23:35:49.986064Z",
     "start_time": "2024-04-22T23:35:49.972374Z"
    }
   },
   "cell_type": "code",
   "source": [
    "# Średnia po wycięciu utliersów do ew. uzupełnienia\n",
    "mean_year = df_otodom['year of construction'].mean()\n",
    "std_year = df_otodom['year of construction'].std()\n",
    "\n",
    "filtered_df = df_otodom[(df_otodom['year of construction'] > (mean_year - std_year)) & \n",
    "                        (df_otodom['year of construction'] < (mean_year + std_year))]\n",
    "\n",
    "new_mean_year = filtered_df['year of construction'].mean()\n",
    "new_mean_year = int(new_mean_year)\n",
    "new_mean_year"
   ],
   "outputs": [
    {
     "data": {
      "text/plain": [
       "2013"
      ]
     },
     "execution_count": 119,
     "metadata": {},
     "output_type": "execute_result"
    }
   ],
   "execution_count": 119
  },
  {
   "metadata": {},
   "cell_type": "markdown",
   "source": "#### rynek"
  },
  {
   "metadata": {
    "ExecuteTime": {
     "end_time": "2024-04-22T23:35:50.156961Z",
     "start_time": "2024-04-22T23:35:50.149062Z"
    }
   },
   "cell_type": "code",
   "source": [
    "df_otodom.loc[(df_otodom['market'].isna()) & (df_otodom['year of construction'] > 2022), 'market'] = 'pierwotny'\n",
    "df_otodom.loc[(df_otodom['market'].isna()) & (df_otodom['year of construction'] < 2023), 'market'] = 'wtórny'"
   ],
   "outputs": [],
   "execution_count": 120
  },
  {
   "metadata": {
    "ExecuteTime": {
     "end_time": "2024-04-22T23:35:50.710632Z",
     "start_time": "2024-04-22T23:35:50.699960Z"
    }
   },
   "cell_type": "code",
   "source": [
    "print(df_otodom['market'].isna().sum())\n",
    "df_otodom.dropna(subset=['market'], inplace=True)"
   ],
   "outputs": [
    {
     "name": "stdout",
     "output_type": "stream",
     "text": [
      "845\n"
     ]
    }
   ],
   "execution_count": 121
  },
  {
   "metadata": {
    "ExecuteTime": {
     "end_time": "2024-04-22T23:35:50.903727Z",
     "start_time": "2024-04-22T23:35:50.895631Z"
    }
   },
   "cell_type": "code",
   "source": "df_otodom['market'].value_counts(dropna=False)",
   "outputs": [
    {
     "data": {
      "text/plain": [
       "market\n",
       "wtórny       6528\n",
       "pierwotny    3587\n",
       "Name: count, dtype: int64"
      ]
     },
     "execution_count": 122,
     "metadata": {},
     "output_type": "execute_result"
    }
   ],
   "execution_count": 122
  },
  {
   "metadata": {},
   "cell_type": "markdown",
   "source": "#### rodzaj własności"
  },
  {
   "metadata": {
    "ExecuteTime": {
     "end_time": "2024-04-22T23:35:51.171809Z",
     "start_time": "2024-04-22T23:35:51.164718Z"
    }
   },
   "cell_type": "code",
   "source": "df_otodom['form of ownership'].value_counts(dropna=False)",
   "outputs": [
    {
     "data": {
      "text/plain": [
       "form of ownership\n",
       "pełna własność                       7007\n",
       "NaN                                  2751\n",
       "spółdzielcze wł. prawo do lokalu      252\n",
       "udział                                101\n",
       "użytkowanie wieczyste / dzierżawa       4\n",
       "Name: count, dtype: int64"
      ]
     },
     "execution_count": 123,
     "metadata": {},
     "output_type": "execute_result"
    }
   ],
   "execution_count": 123
  },
  {
   "metadata": {
    "ExecuteTime": {
     "end_time": "2024-04-22T23:35:51.331904Z",
     "start_time": "2024-04-22T23:35:51.324401Z"
    }
   },
   "cell_type": "code",
   "source": [
    "# Zgodnie z obowiązującym prawem 2007 r. nie ma możliwości ustanawiania spółdzielczego własnościowego prawa do lokalu\n",
    "df_otodom.loc[(df_otodom['form of ownership'].isna()) & (df_otodom['year of construction'] > 2006), 'form of ownership'] = 'pełna własność'"
   ],
   "outputs": [],
   "execution_count": 124
  },
  {
   "metadata": {},
   "cell_type": "markdown",
   "source": "#### stan"
  },
  {
   "metadata": {
    "ExecuteTime": {
     "end_time": "2024-04-22T23:35:51.628900Z",
     "start_time": "2024-04-22T23:35:51.621902Z"
    }
   },
   "cell_type": "code",
   "source": "df_otodom['condition'].value_counts(dropna=False)",
   "outputs": [
    {
     "data": {
      "text/plain": [
       "condition\n",
       "do zamieszkania    4247\n",
       "do wykończenia     3115\n",
       "NaN                2311\n",
       "do remontu          442\n",
       "Name: count, dtype: int64"
      ]
     },
     "execution_count": 125,
     "metadata": {},
     "output_type": "execute_result"
    }
   ],
   "execution_count": 125
  },
  {
   "metadata": {},
   "cell_type": "markdown",
   "source": "#### parking"
  },
  {
   "metadata": {
    "ExecuteTime": {
     "end_time": "2024-04-22T23:35:51.871076Z",
     "start_time": "2024-04-22T23:35:51.855899Z"
    }
   },
   "cell_type": "code",
   "source": "df_otodom['parking space'].value_counts(dropna=False)",
   "outputs": [
    {
     "data": {
      "text/plain": [
       "parking space\n",
       "garaż/miejsce parkingowe    5641\n",
       "NaN                         4474\n",
       "Name: count, dtype: int64"
      ]
     },
     "execution_count": 126,
     "metadata": {},
     "output_type": "execute_result"
    }
   ],
   "execution_count": 126
  },
  {
   "metadata": {
    "ExecuteTime": {
     "end_time": "2024-04-22T23:35:52.182052Z",
     "start_time": "2024-04-22T23:35:52.175073Z"
    }
   },
   "cell_type": "code",
   "source": [
    "df_otodom['parking space'] = df_otodom['parking space'].notna()\n",
    "df_otodom['parking space'].value_counts(dropna=False)"
   ],
   "outputs": [
    {
     "data": {
      "text/plain": [
       "parking space\n",
       "True     5641\n",
       "False    4474\n",
       "Name: count, dtype: int64"
      ]
     },
     "execution_count": 127,
     "metadata": {},
     "output_type": "execute_result"
    }
   ],
   "execution_count": 127
  },
  {
   "metadata": {},
   "cell_type": "markdown",
   "source": "#### Ogrzewanie"
  },
  {
   "metadata": {
    "ExecuteTime": {
     "end_time": "2024-04-22T23:35:52.380052Z",
     "start_time": "2024-04-22T23:35:52.372051Z"
    }
   },
   "cell_type": "code",
   "source": "df_otodom['heating'].value_counts(dropna=False)",
   "outputs": [
    {
     "data": {
      "text/plain": [
       "heating\n",
       "miejskie         6378\n",
       "NaN              1935\n",
       "gazowe           1139\n",
       "inne              348\n",
       "elektryczne       183\n",
       "kotłownia         130\n",
       "piece kaflowe       2\n",
       "Name: count, dtype: int64"
      ]
     },
     "execution_count": 128,
     "metadata": {},
     "output_type": "execute_result"
    }
   ],
   "execution_count": 128
  },
  {
   "metadata": {},
   "cell_type": "markdown",
   "source": "#### balkon"
  },
  {
   "metadata": {
    "ExecuteTime": {
     "end_time": "2024-04-22T23:35:52.756456Z",
     "start_time": "2024-04-22T23:35:52.748221Z"
    }
   },
   "cell_type": "code",
   "source": "df_otodom['outdoor area'].value_counts(dropna=False)",
   "outputs": [
    {
     "data": {
      "text/plain": [
       "outdoor area\n",
       "balkon                    5578\n",
       "NaN                       2501\n",
       "ogródek                    508\n",
       "balkon, taras              455\n",
       "balkon, ogródek, taras     340\n",
       "taras                      260\n",
       "ogródek, taras             250\n",
       "balkon, ogródek            173\n",
       "taras, balkon               31\n",
       "taras, ogródek              16\n",
       "taras, balkon, ogródek       3\n",
       "Name: count, dtype: int64"
      ]
     },
     "execution_count": 129,
     "metadata": {},
     "output_type": "execute_result"
    }
   ],
   "execution_count": 129
  },
  {
   "metadata": {
    "ExecuteTime": {
     "end_time": "2024-04-22T23:35:53.046303Z",
     "start_time": "2024-04-22T23:35:53.033452Z"
    }
   },
   "cell_type": "code",
   "source": [
    "df_otodom['outdoor area'] = df_otodom['outdoor area'].fillna('None')\n",
    "\n",
    "def standardize_outdoor_area(area):\n",
    "    if area == 'None':\n",
    "        return area\n",
    "    parts = sorted(set(area.replace(' ', '').split(',')))\n",
    "    return ', '.join(parts)\n",
    "\n",
    "df_otodom['outdoor area'] = df_otodom['outdoor area'].apply(standardize_outdoor_area)\n",
    "# outdoor_encoded = df_otodom['outdoor area'].str.get_dummies(sep=', ')\n",
    "# df_otodom = df_otodom.join(outdoor_encoded)"
   ],
   "outputs": [],
   "execution_count": 130
  },
  {
   "metadata": {},
   "cell_type": "markdown",
   "source": "#### ogłoszeniodawca"
  },
  {
   "metadata": {
    "ExecuteTime": {
     "end_time": "2024-04-22T23:35:53.355204Z",
     "start_time": "2024-04-22T23:35:53.347299Z"
    }
   },
   "cell_type": "code",
   "source": "df_otodom['advertiser type'].value_counts(dropna=False)",
   "outputs": [
    {
     "data": {
      "text/plain": [
       "advertiser type\n",
       "biuro nieruchomości    8864\n",
       "prywatny               1100\n",
       "deweloper               151\n",
       "Name: count, dtype: int64"
      ]
     },
     "execution_count": 131,
     "metadata": {},
     "output_type": "execute_result"
    }
   ],
   "execution_count": 131
  },
  {
   "metadata": {
    "ExecuteTime": {
     "end_time": "2024-04-22T23:35:53.526771Z",
     "start_time": "2024-04-22T23:35:53.521203Z"
    }
   },
   "cell_type": "code",
   "source": "df_otodom.loc[(df_otodom['advertiser type'].isna()), 'advertiser type'] = 'biuro nieruchomości'",
   "outputs": [],
   "execution_count": 132
  },
  {
   "metadata": {},
   "cell_type": "markdown",
   "source": "#### winda"
  },
  {
   "metadata": {
    "ExecuteTime": {
     "end_time": "2024-04-22T23:35:53.782095Z",
     "start_time": "2024-04-22T23:35:53.774775Z"
    }
   },
   "cell_type": "code",
   "source": "df_otodom['elevator'].value_counts(dropna=False)",
   "outputs": [
    {
     "data": {
      "text/plain": [
       "elevator\n",
       "tak    5462\n",
       "nie    4653\n",
       "Name: count, dtype: int64"
      ]
     },
     "execution_count": 133,
     "metadata": {},
     "output_type": "execute_result"
    }
   ],
   "execution_count": 133
  },
  {
   "metadata": {
    "ExecuteTime": {
     "end_time": "2024-04-22T23:35:53.971718Z",
     "start_time": "2024-04-22T23:35:53.963094Z"
    }
   },
   "cell_type": "code",
   "source": [
    "# Zgodnie z obowiązującym od 1960 prawem budowalnym\n",
    "df_otodom.loc[df_otodom['elevator'].isna() & (df_otodom['no of floors/stores in the building'] > 3), 'elevator'] = 'tak'\n",
    "df_otodom['elevator'] = df_otodom['elevator'].map({'tak': True, 'nie': False, np.nan: False})\n",
    "df_otodom['elevator'] = df_otodom['elevator'].astype(bool)"
   ],
   "outputs": [],
   "execution_count": 134
  },
  {
   "metadata": {},
   "cell_type": "markdown",
   "source": "#### typ budynku"
  },
  {
   "metadata": {
    "ExecuteTime": {
     "end_time": "2024-04-22T23:35:54.207831Z",
     "start_time": "2024-04-22T23:35:54.200743Z"
    }
   },
   "cell_type": "code",
   "source": "df_otodom['building type'].value_counts(dropna=False)",
   "outputs": [
    {
     "data": {
      "text/plain": [
       "building type\n",
       "blok                5027\n",
       "apartamentowiec     2031\n",
       "brak informacji     1754\n",
       "kamienica           1016\n",
       "dom wolnostojący     191\n",
       "szeregowiec           86\n",
       "plomba                 8\n",
       "loft                   2\n",
       "Name: count, dtype: int64"
      ]
     },
     "execution_count": 135,
     "metadata": {},
     "output_type": "execute_result"
    }
   ],
   "execution_count": 135
  },
  {
   "metadata": {},
   "cell_type": "markdown",
   "source": "#### materiał"
  },
  {
   "metadata": {
    "ExecuteTime": {
     "end_time": "2024-04-22T23:35:54.461576Z",
     "start_time": "2024-04-22T23:35:54.454356Z"
    }
   },
   "cell_type": "code",
   "source": "df_otodom['building type'].value_counts(dropna=False)",
   "outputs": [
    {
     "data": {
      "text/plain": [
       "building type\n",
       "blok                5027\n",
       "apartamentowiec     2031\n",
       "brak informacji     1754\n",
       "kamienica           1016\n",
       "dom wolnostojący     191\n",
       "szeregowiec           86\n",
       "plomba                 8\n",
       "loft                   2\n",
       "Name: count, dtype: int64"
      ]
     },
     "execution_count": 136,
     "metadata": {},
     "output_type": "execute_result"
    }
   ],
   "execution_count": 136
  },
  {
   "cell_type": "code",
   "metadata": {
    "ExecuteTime": {
     "end_time": "2024-04-22T23:35:54.700712Z",
     "start_time": "2024-04-22T23:35:54.684253Z"
    }
   },
   "source": "df_otodom.info()",
   "outputs": [
    {
     "name": "stdout",
     "output_type": "stream",
     "text": [
      "<class 'pandas.core.frame.DataFrame'>\n",
      "Index: 10115 entries, 0 to 12671\n",
      "Data columns (total 21 columns):\n",
      " #   Column                               Non-Null Count  Dtype  \n",
      "---  ------                               --------------  -----  \n",
      " 0   url                                  10115 non-null  object \n",
      " 1   name/title                           10115 non-null  object \n",
      " 2   address                              10115 non-null  object \n",
      " 3   price                                10115 non-null  float64\n",
      " 4   area                                 10115 non-null  float64\n",
      " 5   price-per-area                       10115 non-null  float64\n",
      " 6   floor/store                          10115 non-null  int32  \n",
      " 7   no of floors/stores in the building  10115 non-null  int32  \n",
      " 8   no of rooms                          10115 non-null  int32  \n",
      " 9   year of construction                 8801 non-null   float64\n",
      " 10  parking space                        10115 non-null  bool   \n",
      " 11  market                               10115 non-null  object \n",
      " 12  form of ownership                    9097 non-null   object \n",
      " 13  condition                            7804 non-null   object \n",
      " 14  rent                                 5347 non-null   float64\n",
      " 15  heating                              8180 non-null   object \n",
      " 16  advertiser type                      10115 non-null  object \n",
      " 17  elevator                             10115 non-null  bool   \n",
      " 18  outdoor area                         10115 non-null  object \n",
      " 19  building type                        10115 non-null  object \n",
      " 20  building material                    10115 non-null  object \n",
      "dtypes: bool(2), float64(5), int32(3), object(11)\n",
      "memory usage: 1.4+ MB\n"
     ]
    }
   ],
   "execution_count": 137
  },
  {
   "metadata": {
    "ExecuteTime": {
     "end_time": "2024-04-22T23:35:54.932375Z",
     "start_time": "2024-04-22T23:35:54.920711Z"
    }
   },
   "cell_type": "code",
   "source": [
    "nan_row_count = df_otodom.isna().any(axis=1).sum()\n",
    "df_otodom.shape[0] - nan_row_count"
   ],
   "outputs": [
    {
     "data": {
      "text/plain": [
       "3652"
      ]
     },
     "execution_count": 138,
     "metadata": {},
     "output_type": "execute_result"
    }
   ],
   "execution_count": 138
  },
  {
   "metadata": {},
   "cell_type": "markdown",
   "source": "## Duplikaty"
  },
  {
   "metadata": {
    "ExecuteTime": {
     "end_time": "2024-04-22T23:36:04.967013Z",
     "start_time": "2024-04-22T23:35:55.163352Z"
    }
   },
   "cell_type": "code",
   "source": [
    "def check_similarity(group):\n",
    "    if len(group) > 1:\n",
    "        price_mean = group['price'].mean()\n",
    "        area_mean = group['area'].mean()\n",
    "        price_range = price_mean * 0.01\n",
    "        area_range = area_mean * 0.01\n",
    "        similar_price = group['price'].between(group['price'] - price_range, group['price'] + price_range)\n",
    "        similar_area = group['area'].between(group['area'] - area_range, group['area']+ area_range)\n",
    "        group['is_duplicate'] = similar_price & similar_area\n",
    "    else:\n",
    "        group['is_duplicate'] = False\n",
    "    return group\n",
    "\n",
    "df_otodom = df_otodom.groupby(['address', 'floor/store', 'no of floors/stores in the building', 'no of rooms']).apply(check_similarity).reset_index(drop=True)\n",
    "\n",
    "duplicates = df_otodom[df_otodom['is_duplicate']]\n",
    "non_duplicates = df_otodom[~df_otodom['is_duplicate']]\n",
    "\n",
    "most_complete_duplicates = duplicates.groupby(['address', 'floor/store', 'no of floors/stores in the building', 'no of rooms']).apply(lambda x: x.loc[x.notna().sum(axis=1).idxmax()]).reset_index(drop=True)\n",
    "\n",
    "filtered_df_otodom = pd.concat([non_duplicates, most_complete_duplicates], ignore_index=True)\n",
    "\n",
    "sorted_filtered_df_otodom = filtered_df_otodom.sort_values(by=['address', 'price', 'area'])\n",
    "sorted_filtered_df_otodom\n"
   ],
   "outputs": [
    {
     "name": "stderr",
     "output_type": "stream",
     "text": [
      "C:\\Users\\Piotr\\AppData\\Local\\Temp\\ipykernel_24120\\1680486895.py:14: DeprecationWarning: DataFrameGroupBy.apply operated on the grouping columns. This behavior is deprecated, and in a future version of pandas the grouping columns will be excluded from the operation. Either pass `include_groups=False` to exclude the groupings or explicitly select the grouping columns after groupby to silence this warning.\n",
      "  df_otodom = df_otodom.groupby(['address', 'floor/store', 'no of floors/stores in the building', 'no of rooms']).apply(check_similarity).reset_index(drop=True)\n",
      "C:\\Users\\Piotr\\AppData\\Local\\Temp\\ipykernel_24120\\1680486895.py:19: DeprecationWarning: DataFrameGroupBy.apply operated on the grouping columns. This behavior is deprecated, and in a future version of pandas the grouping columns will be excluded from the operation. Either pass `include_groups=False` to exclude the groupings or explicitly select the grouping columns after groupby to silence this warning.\n",
      "  most_complete_duplicates = duplicates.groupby(['address', 'floor/store', 'no of floors/stores in the building', 'no of rooms']).apply(lambda x: x.loc[x.notna().sum(axis=1).idxmax()]).reset_index(drop=True)\n"
     ]
    },
    {
     "data": {
      "text/plain": [
       "                                                    url  \\\n",
       "0     https://www.otodom.pl/pl/oferta/nowe-mieszkani...   \n",
       "1     https://www.otodom.pl/pl/oferta/balkon-3-pokoj...   \n",
       "3788  https://www.otodom.pl/pl/oferta/zlocien-2-poko...   \n",
       "2     https://www.otodom.pl/pl/oferta/komfortowe-2-p...   \n",
       "3     https://www.otodom.pl/pl/oferta/aleja-29-listo...   \n",
       "...                                                 ...   \n",
       "3779  https://www.otodom.pl/pl/oferta/2-pokojowe-mie...   \n",
       "3785  https://www.otodom.pl/pl/oferta/3-pokoje-na-za...   \n",
       "5716  https://www.otodom.pl/pl/oferta/mieszkanie-73-...   \n",
       "3786  https://www.otodom.pl/pl/oferta/widokowe-m3-z-...   \n",
       "3787  https://www.otodom.pl/pl/oferta/1m-wyposazone-...   \n",
       "\n",
       "                                             name/title  \\\n",
       "0                    Nowe mieszkania na Górce Narodowej   \n",
       "1                           balkon + 3 pokoje + parking   \n",
       "3788                          Złocień, 2 pokoje, balkon   \n",
       "2                 komfortowe 2-pokojowe mieszkanie 42m2   \n",
       "3                            Aleja 29 Listopada obok UR   \n",
       "...                                                 ...   \n",
       "3779        2-pokojowe mieszkanie 36,75 m2 ul.Siemaszki   \n",
       "3785                            3 pokoje na Żabińcu !!!   \n",
       "5716                          Mieszkanie, 73 m², Kraków   \n",
       "3786  Widokowe M3 z klimatyzacją i parkingiem, Żabiniec   \n",
       "3787   1M! Wyposażone|Ogródek 25m2|Inwestycja - ROI 10%   \n",
       "\n",
       "                                                address      price   area  \\\n",
       "0     29 listopada - okolice, Górka Narodowa, Prądni...   778689.0  61.30   \n",
       "1     Adama Vetulaniego, Prądnik Biały, Prądnik Biał...   970000.0  55.00   \n",
       "3788  Agatowa, Domagały,, Złocień, Bieżanów-Prokocim...   625000.0  36.80   \n",
       "2     Albertyńskie, Bieńczyce, Bieńczyce, Kraków, ma...   559000.0  42.00   \n",
       "3     Aleja 29 Listopada, Górka Narodowa, Prądnik Bi...   695000.0  48.10   \n",
       "...                                                 ...        ...    ...   \n",
       "3779       Żabiniec, Prądnik Biały, Kraków, małopolskie   735000.0  36.75   \n",
       "3785       Żabiniec, Prądnik Biały, Kraków, małopolskie   850000.0  77.00   \n",
       "5716       Żabiniec, Prądnik Biały, Kraków, małopolskie  1100000.0  73.00   \n",
       "3786       Żabiniec, Prądnik Biały, Kraków, małopolskie  1179000.0  71.50   \n",
       "3787  żabniec, Żabiniec, Prądnik Biały, Kraków, mało...   639000.0  26.00   \n",
       "\n",
       "      price-per-area  floor/store  no of floors/stores in the building  \\\n",
       "0            12703.0            1                                    5   \n",
       "1            17636.0            4                                    7   \n",
       "3788         16984.0            4                                    4   \n",
       "2            13310.0            2                                    4   \n",
       "3            14449.0            3                                    3   \n",
       "...              ...          ...                                  ...   \n",
       "3779         20000.0            0                                    4   \n",
       "3785         11039.0            4                                    6   \n",
       "5716         15068.0            0                                    6   \n",
       "3786         16490.0            5                                    8   \n",
       "3787         24577.0            0                                    4   \n",
       "\n",
       "      no of rooms  year of construction  ...  form of ownership  \\\n",
       "0               2                2023.0  ...     pełna własność   \n",
       "1               3                2023.0  ...     pełna własność   \n",
       "3788            2                2019.0  ...     pełna własność   \n",
       "2               2                1964.0  ...                NaN   \n",
       "3               2                   NaN  ...     pełna własność   \n",
       "...           ...                   ...  ...                ...   \n",
       "3779            2                1970.0  ...     pełna własność   \n",
       "3785            3                2002.0  ...     pełna własność   \n",
       "5716            3                2005.0  ...     pełna własność   \n",
       "3786            3                2001.0  ...     pełna własność   \n",
       "3787            1                2017.0  ...     pełna własność   \n",
       "\n",
       "            condition   rent   heating      advertiser type elevator  \\\n",
       "0                 NaN    NaN  miejskie  biuro nieruchomości     True   \n",
       "1                 NaN  450.0  miejskie  biuro nieruchomości     True   \n",
       "3788  do zamieszkania  425.0  miejskie  biuro nieruchomości     True   \n",
       "2                 NaN  500.0  miejskie  biuro nieruchomości    False   \n",
       "3     do zamieszkania    NaN    gazowe  biuro nieruchomości    False   \n",
       "...               ...    ...       ...                  ...      ...   \n",
       "3779  do zamieszkania  530.0  miejskie             prywatny    False   \n",
       "3785              NaN  800.0  miejskie  biuro nieruchomości     True   \n",
       "5716              NaN  700.0  miejskie  biuro nieruchomości     True   \n",
       "3786  do zamieszkania  940.0  miejskie  biuro nieruchomości     True   \n",
       "3787  do zamieszkania  300.0  miejskie  biuro nieruchomości    False   \n",
       "\n",
       "     outdoor area    building type building material is_duplicate  \n",
       "0          balkon  brak informacji   brak informacji        False  \n",
       "1          balkon             blok   brak informacji        False  \n",
       "3788       balkon             blok   brak informacji         True  \n",
       "2          balkon             blok   brak informacji        False  \n",
       "3          balkon             blok   brak informacji        False  \n",
       "...           ...              ...               ...          ...  \n",
       "3779       balkon             blok   brak informacji        False  \n",
       "3785       balkon             blok   brak informacji        False  \n",
       "5716       balkon             blok   brak informacji         True  \n",
       "3786       balkon  apartamentowiec   brak informacji        False  \n",
       "3787      ogródek             blok   brak informacji        False  \n",
       "\n",
       "[5717 rows x 22 columns]"
      ],
      "text/html": [
       "<div>\n",
       "<style scoped>\n",
       "    .dataframe tbody tr th:only-of-type {\n",
       "        vertical-align: middle;\n",
       "    }\n",
       "\n",
       "    .dataframe tbody tr th {\n",
       "        vertical-align: top;\n",
       "    }\n",
       "\n",
       "    .dataframe thead th {\n",
       "        text-align: right;\n",
       "    }\n",
       "</style>\n",
       "<table border=\"1\" class=\"dataframe\">\n",
       "  <thead>\n",
       "    <tr style=\"text-align: right;\">\n",
       "      <th></th>\n",
       "      <th>url</th>\n",
       "      <th>name/title</th>\n",
       "      <th>address</th>\n",
       "      <th>price</th>\n",
       "      <th>area</th>\n",
       "      <th>price-per-area</th>\n",
       "      <th>floor/store</th>\n",
       "      <th>no of floors/stores in the building</th>\n",
       "      <th>no of rooms</th>\n",
       "      <th>year of construction</th>\n",
       "      <th>...</th>\n",
       "      <th>form of ownership</th>\n",
       "      <th>condition</th>\n",
       "      <th>rent</th>\n",
       "      <th>heating</th>\n",
       "      <th>advertiser type</th>\n",
       "      <th>elevator</th>\n",
       "      <th>outdoor area</th>\n",
       "      <th>building type</th>\n",
       "      <th>building material</th>\n",
       "      <th>is_duplicate</th>\n",
       "    </tr>\n",
       "  </thead>\n",
       "  <tbody>\n",
       "    <tr>\n",
       "      <th>0</th>\n",
       "      <td>https://www.otodom.pl/pl/oferta/nowe-mieszkani...</td>\n",
       "      <td>Nowe mieszkania na Górce Narodowej</td>\n",
       "      <td>29 listopada - okolice, Górka Narodowa, Prądni...</td>\n",
       "      <td>778689.0</td>\n",
       "      <td>61.30</td>\n",
       "      <td>12703.0</td>\n",
       "      <td>1</td>\n",
       "      <td>5</td>\n",
       "      <td>2</td>\n",
       "      <td>2023.0</td>\n",
       "      <td>...</td>\n",
       "      <td>pełna własność</td>\n",
       "      <td>NaN</td>\n",
       "      <td>NaN</td>\n",
       "      <td>miejskie</td>\n",
       "      <td>biuro nieruchomości</td>\n",
       "      <td>True</td>\n",
       "      <td>balkon</td>\n",
       "      <td>brak informacji</td>\n",
       "      <td>brak informacji</td>\n",
       "      <td>False</td>\n",
       "    </tr>\n",
       "    <tr>\n",
       "      <th>1</th>\n",
       "      <td>https://www.otodom.pl/pl/oferta/balkon-3-pokoj...</td>\n",
       "      <td>balkon + 3 pokoje + parking</td>\n",
       "      <td>Adama Vetulaniego, Prądnik Biały, Prądnik Biał...</td>\n",
       "      <td>970000.0</td>\n",
       "      <td>55.00</td>\n",
       "      <td>17636.0</td>\n",
       "      <td>4</td>\n",
       "      <td>7</td>\n",
       "      <td>3</td>\n",
       "      <td>2023.0</td>\n",
       "      <td>...</td>\n",
       "      <td>pełna własność</td>\n",
       "      <td>NaN</td>\n",
       "      <td>450.0</td>\n",
       "      <td>miejskie</td>\n",
       "      <td>biuro nieruchomości</td>\n",
       "      <td>True</td>\n",
       "      <td>balkon</td>\n",
       "      <td>blok</td>\n",
       "      <td>brak informacji</td>\n",
       "      <td>False</td>\n",
       "    </tr>\n",
       "    <tr>\n",
       "      <th>3788</th>\n",
       "      <td>https://www.otodom.pl/pl/oferta/zlocien-2-poko...</td>\n",
       "      <td>Złocień, 2 pokoje, balkon</td>\n",
       "      <td>Agatowa, Domagały,, Złocień, Bieżanów-Prokocim...</td>\n",
       "      <td>625000.0</td>\n",
       "      <td>36.80</td>\n",
       "      <td>16984.0</td>\n",
       "      <td>4</td>\n",
       "      <td>4</td>\n",
       "      <td>2</td>\n",
       "      <td>2019.0</td>\n",
       "      <td>...</td>\n",
       "      <td>pełna własność</td>\n",
       "      <td>do zamieszkania</td>\n",
       "      <td>425.0</td>\n",
       "      <td>miejskie</td>\n",
       "      <td>biuro nieruchomości</td>\n",
       "      <td>True</td>\n",
       "      <td>balkon</td>\n",
       "      <td>blok</td>\n",
       "      <td>brak informacji</td>\n",
       "      <td>True</td>\n",
       "    </tr>\n",
       "    <tr>\n",
       "      <th>2</th>\n",
       "      <td>https://www.otodom.pl/pl/oferta/komfortowe-2-p...</td>\n",
       "      <td>komfortowe 2-pokojowe mieszkanie 42m2</td>\n",
       "      <td>Albertyńskie, Bieńczyce, Bieńczyce, Kraków, ma...</td>\n",
       "      <td>559000.0</td>\n",
       "      <td>42.00</td>\n",
       "      <td>13310.0</td>\n",
       "      <td>2</td>\n",
       "      <td>4</td>\n",
       "      <td>2</td>\n",
       "      <td>1964.0</td>\n",
       "      <td>...</td>\n",
       "      <td>NaN</td>\n",
       "      <td>NaN</td>\n",
       "      <td>500.0</td>\n",
       "      <td>miejskie</td>\n",
       "      <td>biuro nieruchomości</td>\n",
       "      <td>False</td>\n",
       "      <td>balkon</td>\n",
       "      <td>blok</td>\n",
       "      <td>brak informacji</td>\n",
       "      <td>False</td>\n",
       "    </tr>\n",
       "    <tr>\n",
       "      <th>3</th>\n",
       "      <td>https://www.otodom.pl/pl/oferta/aleja-29-listo...</td>\n",
       "      <td>Aleja 29 Listopada obok UR</td>\n",
       "      <td>Aleja 29 Listopada, Górka Narodowa, Prądnik Bi...</td>\n",
       "      <td>695000.0</td>\n",
       "      <td>48.10</td>\n",
       "      <td>14449.0</td>\n",
       "      <td>3</td>\n",
       "      <td>3</td>\n",
       "      <td>2</td>\n",
       "      <td>NaN</td>\n",
       "      <td>...</td>\n",
       "      <td>pełna własność</td>\n",
       "      <td>do zamieszkania</td>\n",
       "      <td>NaN</td>\n",
       "      <td>gazowe</td>\n",
       "      <td>biuro nieruchomości</td>\n",
       "      <td>False</td>\n",
       "      <td>balkon</td>\n",
       "      <td>blok</td>\n",
       "      <td>brak informacji</td>\n",
       "      <td>False</td>\n",
       "    </tr>\n",
       "    <tr>\n",
       "      <th>...</th>\n",
       "      <td>...</td>\n",
       "      <td>...</td>\n",
       "      <td>...</td>\n",
       "      <td>...</td>\n",
       "      <td>...</td>\n",
       "      <td>...</td>\n",
       "      <td>...</td>\n",
       "      <td>...</td>\n",
       "      <td>...</td>\n",
       "      <td>...</td>\n",
       "      <td>...</td>\n",
       "      <td>...</td>\n",
       "      <td>...</td>\n",
       "      <td>...</td>\n",
       "      <td>...</td>\n",
       "      <td>...</td>\n",
       "      <td>...</td>\n",
       "      <td>...</td>\n",
       "      <td>...</td>\n",
       "      <td>...</td>\n",
       "      <td>...</td>\n",
       "    </tr>\n",
       "    <tr>\n",
       "      <th>3779</th>\n",
       "      <td>https://www.otodom.pl/pl/oferta/2-pokojowe-mie...</td>\n",
       "      <td>2-pokojowe mieszkanie 36,75 m2 ul.Siemaszki</td>\n",
       "      <td>Żabiniec, Prądnik Biały, Kraków, małopolskie</td>\n",
       "      <td>735000.0</td>\n",
       "      <td>36.75</td>\n",
       "      <td>20000.0</td>\n",
       "      <td>0</td>\n",
       "      <td>4</td>\n",
       "      <td>2</td>\n",
       "      <td>1970.0</td>\n",
       "      <td>...</td>\n",
       "      <td>pełna własność</td>\n",
       "      <td>do zamieszkania</td>\n",
       "      <td>530.0</td>\n",
       "      <td>miejskie</td>\n",
       "      <td>prywatny</td>\n",
       "      <td>False</td>\n",
       "      <td>balkon</td>\n",
       "      <td>blok</td>\n",
       "      <td>brak informacji</td>\n",
       "      <td>False</td>\n",
       "    </tr>\n",
       "    <tr>\n",
       "      <th>3785</th>\n",
       "      <td>https://www.otodom.pl/pl/oferta/3-pokoje-na-za...</td>\n",
       "      <td>3 pokoje na Żabińcu !!!</td>\n",
       "      <td>Żabiniec, Prądnik Biały, Kraków, małopolskie</td>\n",
       "      <td>850000.0</td>\n",
       "      <td>77.00</td>\n",
       "      <td>11039.0</td>\n",
       "      <td>4</td>\n",
       "      <td>6</td>\n",
       "      <td>3</td>\n",
       "      <td>2002.0</td>\n",
       "      <td>...</td>\n",
       "      <td>pełna własność</td>\n",
       "      <td>NaN</td>\n",
       "      <td>800.0</td>\n",
       "      <td>miejskie</td>\n",
       "      <td>biuro nieruchomości</td>\n",
       "      <td>True</td>\n",
       "      <td>balkon</td>\n",
       "      <td>blok</td>\n",
       "      <td>brak informacji</td>\n",
       "      <td>False</td>\n",
       "    </tr>\n",
       "    <tr>\n",
       "      <th>5716</th>\n",
       "      <td>https://www.otodom.pl/pl/oferta/mieszkanie-73-...</td>\n",
       "      <td>Mieszkanie, 73 m², Kraków</td>\n",
       "      <td>Żabiniec, Prądnik Biały, Kraków, małopolskie</td>\n",
       "      <td>1100000.0</td>\n",
       "      <td>73.00</td>\n",
       "      <td>15068.0</td>\n",
       "      <td>0</td>\n",
       "      <td>6</td>\n",
       "      <td>3</td>\n",
       "      <td>2005.0</td>\n",
       "      <td>...</td>\n",
       "      <td>pełna własność</td>\n",
       "      <td>NaN</td>\n",
       "      <td>700.0</td>\n",
       "      <td>miejskie</td>\n",
       "      <td>biuro nieruchomości</td>\n",
       "      <td>True</td>\n",
       "      <td>balkon</td>\n",
       "      <td>blok</td>\n",
       "      <td>brak informacji</td>\n",
       "      <td>True</td>\n",
       "    </tr>\n",
       "    <tr>\n",
       "      <th>3786</th>\n",
       "      <td>https://www.otodom.pl/pl/oferta/widokowe-m3-z-...</td>\n",
       "      <td>Widokowe M3 z klimatyzacją i parkingiem, Żabiniec</td>\n",
       "      <td>Żabiniec, Prądnik Biały, Kraków, małopolskie</td>\n",
       "      <td>1179000.0</td>\n",
       "      <td>71.50</td>\n",
       "      <td>16490.0</td>\n",
       "      <td>5</td>\n",
       "      <td>8</td>\n",
       "      <td>3</td>\n",
       "      <td>2001.0</td>\n",
       "      <td>...</td>\n",
       "      <td>pełna własność</td>\n",
       "      <td>do zamieszkania</td>\n",
       "      <td>940.0</td>\n",
       "      <td>miejskie</td>\n",
       "      <td>biuro nieruchomości</td>\n",
       "      <td>True</td>\n",
       "      <td>balkon</td>\n",
       "      <td>apartamentowiec</td>\n",
       "      <td>brak informacji</td>\n",
       "      <td>False</td>\n",
       "    </tr>\n",
       "    <tr>\n",
       "      <th>3787</th>\n",
       "      <td>https://www.otodom.pl/pl/oferta/1m-wyposazone-...</td>\n",
       "      <td>1M! Wyposażone|Ogródek 25m2|Inwestycja - ROI 10%</td>\n",
       "      <td>żabniec, Żabiniec, Prądnik Biały, Kraków, mało...</td>\n",
       "      <td>639000.0</td>\n",
       "      <td>26.00</td>\n",
       "      <td>24577.0</td>\n",
       "      <td>0</td>\n",
       "      <td>4</td>\n",
       "      <td>1</td>\n",
       "      <td>2017.0</td>\n",
       "      <td>...</td>\n",
       "      <td>pełna własność</td>\n",
       "      <td>do zamieszkania</td>\n",
       "      <td>300.0</td>\n",
       "      <td>miejskie</td>\n",
       "      <td>biuro nieruchomości</td>\n",
       "      <td>False</td>\n",
       "      <td>ogródek</td>\n",
       "      <td>blok</td>\n",
       "      <td>brak informacji</td>\n",
       "      <td>False</td>\n",
       "    </tr>\n",
       "  </tbody>\n",
       "</table>\n",
       "<p>5717 rows × 22 columns</p>\n",
       "</div>"
      ]
     },
     "execution_count": 139,
     "metadata": {},
     "output_type": "execute_result"
    }
   ],
   "execution_count": 139
  },
  {
   "cell_type": "code",
   "metadata": {
    "ExecuteTime": {
     "end_time": "2024-04-22T23:36:04.983746Z",
     "start_time": "2024-04-22T23:36:04.970011Z"
    }
   },
   "source": "sorted_filtered_df_otodom.info()",
   "outputs": [
    {
     "name": "stdout",
     "output_type": "stream",
     "text": [
      "<class 'pandas.core.frame.DataFrame'>\n",
      "Index: 5717 entries, 0 to 3787\n",
      "Data columns (total 22 columns):\n",
      " #   Column                               Non-Null Count  Dtype  \n",
      "---  ------                               --------------  -----  \n",
      " 0   url                                  5717 non-null   object \n",
      " 1   name/title                           5717 non-null   object \n",
      " 2   address                              5717 non-null   object \n",
      " 3   price                                5717 non-null   float64\n",
      " 4   area                                 5717 non-null   float64\n",
      " 5   price-per-area                       5717 non-null   float64\n",
      " 6   floor/store                          5717 non-null   int32  \n",
      " 7   no of floors/stores in the building  5717 non-null   int32  \n",
      " 8   no of rooms                          5717 non-null   int32  \n",
      " 9   year of construction                 5023 non-null   float64\n",
      " 10  parking space                        5717 non-null   bool   \n",
      " 11  market                               5717 non-null   object \n",
      " 12  form of ownership                    5219 non-null   object \n",
      " 13  condition                            4722 non-null   object \n",
      " 14  rent                                 3526 non-null   float64\n",
      " 15  heating                              4870 non-null   object \n",
      " 16  advertiser type                      5717 non-null   object \n",
      " 17  elevator                             5717 non-null   bool   \n",
      " 18  outdoor area                         5717 non-null   object \n",
      " 19  building type                        5717 non-null   object \n",
      " 20  building material                    5717 non-null   object \n",
      " 21  is_duplicate                         5717 non-null   bool   \n",
      "dtypes: bool(3), float64(5), int32(3), object(11)\n",
      "memory usage: 843.0+ KB\n"
     ]
    }
   ],
   "execution_count": 140
  },
  {
   "metadata": {
    "ExecuteTime": {
     "end_time": "2024-04-22T23:41:48.104846Z",
     "start_time": "2024-04-22T23:41:48.092699Z"
    }
   },
   "cell_type": "code",
   "source": [
    "nan_row_count = sorted_filtered_df_otodom.isna().any(axis=1).sum()\n",
    "sorted_filtered_df_otodom.shape[0] - nan_row_count"
   ],
   "outputs": [
    {
     "data": {
      "text/plain": [
       "2540"
      ]
     },
     "execution_count": 186,
     "metadata": {},
     "output_type": "execute_result"
    }
   ],
   "execution_count": 186
  },
  {
   "cell_type": "code",
   "metadata": {
    "ExecuteTime": {
     "end_time": "2024-04-22T23:36:05.029429Z",
     "start_time": "2024-04-22T23:36:04.999454Z"
    }
   },
   "source": "sorted_filtered_df_otodom.describe()",
   "outputs": [
    {
     "data": {
      "text/plain": [
       "              price           area  price-per-area  floor/store  \\\n",
       "count  5.717000e+03    5717.000000     5717.000000  5717.000000   \n",
       "mean   9.834145e+05     229.623885    16694.117544     2.387266   \n",
       "std    7.136374e+05   12894.236570     4733.735962     2.129904   \n",
       "min    2.000000e+03      11.700000        1.000000    -1.000000   \n",
       "25%    6.490000e+05      40.000000    13849.000000     1.000000   \n",
       "50%    8.040000e+05      52.000000    15920.000000     2.000000   \n",
       "75%    1.092000e+06      68.000000    18506.000000     3.000000   \n",
       "max    1.350000e+07  975000.000000    70000.000000    10.000000   \n",
       "\n",
       "       no of floors/stores in the building  no of rooms  year of construction  \\\n",
       "count                          5717.000000  5717.000000           5023.000000   \n",
       "mean                              4.804968     2.641945           1998.236910   \n",
       "std                               2.508053     1.116865             38.831099   \n",
       "min                               1.000000     1.000000           1310.000000   \n",
       "25%                               3.000000     2.000000           1980.000000   \n",
       "50%                               4.000000     3.000000           2016.000000   \n",
       "75%                               6.000000     3.000000           2023.000000   \n",
       "max                              16.000000    10.000000           2026.000000   \n",
       "\n",
       "                rent  \n",
       "count    3526.000000  \n",
       "mean      613.069740  \n",
       "std      3369.267116  \n",
       "min         0.010000  \n",
       "25%       400.000000  \n",
       "50%       530.000000  \n",
       "75%       700.000000  \n",
       "max    200000.000000  "
      ],
      "text/html": [
       "<div>\n",
       "<style scoped>\n",
       "    .dataframe tbody tr th:only-of-type {\n",
       "        vertical-align: middle;\n",
       "    }\n",
       "\n",
       "    .dataframe tbody tr th {\n",
       "        vertical-align: top;\n",
       "    }\n",
       "\n",
       "    .dataframe thead th {\n",
       "        text-align: right;\n",
       "    }\n",
       "</style>\n",
       "<table border=\"1\" class=\"dataframe\">\n",
       "  <thead>\n",
       "    <tr style=\"text-align: right;\">\n",
       "      <th></th>\n",
       "      <th>price</th>\n",
       "      <th>area</th>\n",
       "      <th>price-per-area</th>\n",
       "      <th>floor/store</th>\n",
       "      <th>no of floors/stores in the building</th>\n",
       "      <th>no of rooms</th>\n",
       "      <th>year of construction</th>\n",
       "      <th>rent</th>\n",
       "    </tr>\n",
       "  </thead>\n",
       "  <tbody>\n",
       "    <tr>\n",
       "      <th>count</th>\n",
       "      <td>5.717000e+03</td>\n",
       "      <td>5717.000000</td>\n",
       "      <td>5717.000000</td>\n",
       "      <td>5717.000000</td>\n",
       "      <td>5717.000000</td>\n",
       "      <td>5717.000000</td>\n",
       "      <td>5023.000000</td>\n",
       "      <td>3526.000000</td>\n",
       "    </tr>\n",
       "    <tr>\n",
       "      <th>mean</th>\n",
       "      <td>9.834145e+05</td>\n",
       "      <td>229.623885</td>\n",
       "      <td>16694.117544</td>\n",
       "      <td>2.387266</td>\n",
       "      <td>4.804968</td>\n",
       "      <td>2.641945</td>\n",
       "      <td>1998.236910</td>\n",
       "      <td>613.069740</td>\n",
       "    </tr>\n",
       "    <tr>\n",
       "      <th>std</th>\n",
       "      <td>7.136374e+05</td>\n",
       "      <td>12894.236570</td>\n",
       "      <td>4733.735962</td>\n",
       "      <td>2.129904</td>\n",
       "      <td>2.508053</td>\n",
       "      <td>1.116865</td>\n",
       "      <td>38.831099</td>\n",
       "      <td>3369.267116</td>\n",
       "    </tr>\n",
       "    <tr>\n",
       "      <th>min</th>\n",
       "      <td>2.000000e+03</td>\n",
       "      <td>11.700000</td>\n",
       "      <td>1.000000</td>\n",
       "      <td>-1.000000</td>\n",
       "      <td>1.000000</td>\n",
       "      <td>1.000000</td>\n",
       "      <td>1310.000000</td>\n",
       "      <td>0.010000</td>\n",
       "    </tr>\n",
       "    <tr>\n",
       "      <th>25%</th>\n",
       "      <td>6.490000e+05</td>\n",
       "      <td>40.000000</td>\n",
       "      <td>13849.000000</td>\n",
       "      <td>1.000000</td>\n",
       "      <td>3.000000</td>\n",
       "      <td>2.000000</td>\n",
       "      <td>1980.000000</td>\n",
       "      <td>400.000000</td>\n",
       "    </tr>\n",
       "    <tr>\n",
       "      <th>50%</th>\n",
       "      <td>8.040000e+05</td>\n",
       "      <td>52.000000</td>\n",
       "      <td>15920.000000</td>\n",
       "      <td>2.000000</td>\n",
       "      <td>4.000000</td>\n",
       "      <td>3.000000</td>\n",
       "      <td>2016.000000</td>\n",
       "      <td>530.000000</td>\n",
       "    </tr>\n",
       "    <tr>\n",
       "      <th>75%</th>\n",
       "      <td>1.092000e+06</td>\n",
       "      <td>68.000000</td>\n",
       "      <td>18506.000000</td>\n",
       "      <td>3.000000</td>\n",
       "      <td>6.000000</td>\n",
       "      <td>3.000000</td>\n",
       "      <td>2023.000000</td>\n",
       "      <td>700.000000</td>\n",
       "    </tr>\n",
       "    <tr>\n",
       "      <th>max</th>\n",
       "      <td>1.350000e+07</td>\n",
       "      <td>975000.000000</td>\n",
       "      <td>70000.000000</td>\n",
       "      <td>10.000000</td>\n",
       "      <td>16.000000</td>\n",
       "      <td>10.000000</td>\n",
       "      <td>2026.000000</td>\n",
       "      <td>200000.000000</td>\n",
       "    </tr>\n",
       "  </tbody>\n",
       "</table>\n",
       "</div>"
      ]
     },
     "execution_count": 142,
     "metadata": {},
     "output_type": "execute_result"
    }
   ],
   "execution_count": 142
  },
  {
   "metadata": {},
   "cell_type": "markdown",
   "source": "## Adresy"
  },
  {
   "metadata": {
    "ExecuteTime": {
     "end_time": "2024-04-22T23:36:05.162390Z",
     "start_time": "2024-04-22T23:36:05.030431Z"
    }
   },
   "cell_type": "code",
   "source": [
    "import re\n",
    "\n",
    "# Regex pattern adjusted to exclude capturing prefixes directly\n",
    "pattern = r'(ul\\.|Aleja|aleja|pl\\.|al\\.)\\s*([^,\\d]+[\\d]*\\b)'\n",
    "\n",
    "def update_address(row):\n",
    "    if pd.isna(row['name/title']):\n",
    "        return row['address']\n",
    "\n",
    "    match = re.search(pattern, row['name/title'])\n",
    "    if match:\n",
    "        street_name = match.group(2).strip()\n",
    "        if pd.isna(row['address']):\n",
    "            updated_address = street_name\n",
    "        else:\n",
    "            if street_name.lower() not in row['address'].lower():\n",
    "                updated_address = f\"{street_name}, {row['address']}\"\n",
    "            else:\n",
    "                updated_address = row['address']\n",
    "    else:\n",
    "        updated_address = row['address']\n",
    "\n",
    "    # if pd.notna(updated_address) and 'kraków' not in updated_address.lower():\n",
    "    #     updated_address += \", Kraków, małopolskie\"\n",
    "    \n",
    "    return updated_address\n",
    "\n",
    "sorted_filtered_df_otodom['address'] = sorted_filtered_df_otodom.apply(update_address, axis=1)\n",
    "sorted_filtered_df_otodom['address'] = sorted_filtered_df_otodom['address'].str.replace(r'^ul\\.\\s+', '', regex=True)\n",
    "sorted_filtered_df_otodom['address'] = sorted_filtered_df_otodom['address'].str.replace(r',\\s*ul\\.\\s[^,\\d]+,\\s', ', ', regex=True)\n",
    "\n",
    "sorted_filtered_df_otodom\n"
   ],
   "outputs": [
    {
     "data": {
      "text/plain": [
       "                                                    url  \\\n",
       "0     https://www.otodom.pl/pl/oferta/nowe-mieszkani...   \n",
       "1     https://www.otodom.pl/pl/oferta/balkon-3-pokoj...   \n",
       "3788  https://www.otodom.pl/pl/oferta/zlocien-2-poko...   \n",
       "2     https://www.otodom.pl/pl/oferta/komfortowe-2-p...   \n",
       "3     https://www.otodom.pl/pl/oferta/aleja-29-listo...   \n",
       "...                                                 ...   \n",
       "3779  https://www.otodom.pl/pl/oferta/2-pokojowe-mie...   \n",
       "3785  https://www.otodom.pl/pl/oferta/3-pokoje-na-za...   \n",
       "5716  https://www.otodom.pl/pl/oferta/mieszkanie-73-...   \n",
       "3786  https://www.otodom.pl/pl/oferta/widokowe-m3-z-...   \n",
       "3787  https://www.otodom.pl/pl/oferta/1m-wyposazone-...   \n",
       "\n",
       "                                             name/title  \\\n",
       "0                    Nowe mieszkania na Górce Narodowej   \n",
       "1                           balkon + 3 pokoje + parking   \n",
       "3788                          Złocień, 2 pokoje, balkon   \n",
       "2                 komfortowe 2-pokojowe mieszkanie 42m2   \n",
       "3                            Aleja 29 Listopada obok UR   \n",
       "...                                                 ...   \n",
       "3779        2-pokojowe mieszkanie 36,75 m2 ul.Siemaszki   \n",
       "3785                            3 pokoje na Żabińcu !!!   \n",
       "5716                          Mieszkanie, 73 m², Kraków   \n",
       "3786  Widokowe M3 z klimatyzacją i parkingiem, Żabiniec   \n",
       "3787   1M! Wyposażone|Ogródek 25m2|Inwestycja - ROI 10%   \n",
       "\n",
       "                                                address      price   area  \\\n",
       "0     29 listopada - okolice, Górka Narodowa, Prądni...   778689.0  61.30   \n",
       "1     Adama Vetulaniego, Prądnik Biały, Prądnik Biał...   970000.0  55.00   \n",
       "3788  Agatowa, Domagały,, Złocień, Bieżanów-Prokocim...   625000.0  36.80   \n",
       "2     Albertyńskie, Bieńczyce, Bieńczyce, Kraków, ma...   559000.0  42.00   \n",
       "3     Aleja 29 Listopada, Górka Narodowa, Prądnik Bi...   695000.0  48.10   \n",
       "...                                                 ...        ...    ...   \n",
       "3779  Siemaszki, Żabiniec, Prądnik Biały, Kraków, ma...   735000.0  36.75   \n",
       "3785       Żabiniec, Prądnik Biały, Kraków, małopolskie   850000.0  77.00   \n",
       "5716       Żabiniec, Prądnik Biały, Kraków, małopolskie  1100000.0  73.00   \n",
       "3786       Żabiniec, Prądnik Biały, Kraków, małopolskie  1179000.0  71.50   \n",
       "3787  żabniec, Żabiniec, Prądnik Biały, Kraków, mało...   639000.0  26.00   \n",
       "\n",
       "      price-per-area  floor/store  no of floors/stores in the building  \\\n",
       "0            12703.0            1                                    5   \n",
       "1            17636.0            4                                    7   \n",
       "3788         16984.0            4                                    4   \n",
       "2            13310.0            2                                    4   \n",
       "3            14449.0            3                                    3   \n",
       "...              ...          ...                                  ...   \n",
       "3779         20000.0            0                                    4   \n",
       "3785         11039.0            4                                    6   \n",
       "5716         15068.0            0                                    6   \n",
       "3786         16490.0            5                                    8   \n",
       "3787         24577.0            0                                    4   \n",
       "\n",
       "      no of rooms  year of construction  ...  form of ownership  \\\n",
       "0               2                2023.0  ...     pełna własność   \n",
       "1               3                2023.0  ...     pełna własność   \n",
       "3788            2                2019.0  ...     pełna własność   \n",
       "2               2                1964.0  ...                NaN   \n",
       "3               2                   NaN  ...     pełna własność   \n",
       "...           ...                   ...  ...                ...   \n",
       "3779            2                1970.0  ...     pełna własność   \n",
       "3785            3                2002.0  ...     pełna własność   \n",
       "5716            3                2005.0  ...     pełna własność   \n",
       "3786            3                2001.0  ...     pełna własność   \n",
       "3787            1                2017.0  ...     pełna własność   \n",
       "\n",
       "            condition   rent   heating      advertiser type elevator  \\\n",
       "0                 NaN    NaN  miejskie  biuro nieruchomości     True   \n",
       "1                 NaN  450.0  miejskie  biuro nieruchomości     True   \n",
       "3788  do zamieszkania  425.0  miejskie  biuro nieruchomości     True   \n",
       "2                 NaN  500.0  miejskie  biuro nieruchomości    False   \n",
       "3     do zamieszkania    NaN    gazowe  biuro nieruchomości    False   \n",
       "...               ...    ...       ...                  ...      ...   \n",
       "3779  do zamieszkania  530.0  miejskie             prywatny    False   \n",
       "3785              NaN  800.0  miejskie  biuro nieruchomości     True   \n",
       "5716              NaN  700.0  miejskie  biuro nieruchomości     True   \n",
       "3786  do zamieszkania  940.0  miejskie  biuro nieruchomości     True   \n",
       "3787  do zamieszkania  300.0  miejskie  biuro nieruchomości    False   \n",
       "\n",
       "     outdoor area    building type building material is_duplicate  \n",
       "0          balkon  brak informacji   brak informacji        False  \n",
       "1          balkon             blok   brak informacji        False  \n",
       "3788       balkon             blok   brak informacji         True  \n",
       "2          balkon             blok   brak informacji        False  \n",
       "3          balkon             blok   brak informacji        False  \n",
       "...           ...              ...               ...          ...  \n",
       "3779       balkon             blok   brak informacji        False  \n",
       "3785       balkon             blok   brak informacji        False  \n",
       "5716       balkon             blok   brak informacji         True  \n",
       "3786       balkon  apartamentowiec   brak informacji        False  \n",
       "3787      ogródek             blok   brak informacji        False  \n",
       "\n",
       "[5717 rows x 22 columns]"
      ],
      "text/html": [
       "<div>\n",
       "<style scoped>\n",
       "    .dataframe tbody tr th:only-of-type {\n",
       "        vertical-align: middle;\n",
       "    }\n",
       "\n",
       "    .dataframe tbody tr th {\n",
       "        vertical-align: top;\n",
       "    }\n",
       "\n",
       "    .dataframe thead th {\n",
       "        text-align: right;\n",
       "    }\n",
       "</style>\n",
       "<table border=\"1\" class=\"dataframe\">\n",
       "  <thead>\n",
       "    <tr style=\"text-align: right;\">\n",
       "      <th></th>\n",
       "      <th>url</th>\n",
       "      <th>name/title</th>\n",
       "      <th>address</th>\n",
       "      <th>price</th>\n",
       "      <th>area</th>\n",
       "      <th>price-per-area</th>\n",
       "      <th>floor/store</th>\n",
       "      <th>no of floors/stores in the building</th>\n",
       "      <th>no of rooms</th>\n",
       "      <th>year of construction</th>\n",
       "      <th>...</th>\n",
       "      <th>form of ownership</th>\n",
       "      <th>condition</th>\n",
       "      <th>rent</th>\n",
       "      <th>heating</th>\n",
       "      <th>advertiser type</th>\n",
       "      <th>elevator</th>\n",
       "      <th>outdoor area</th>\n",
       "      <th>building type</th>\n",
       "      <th>building material</th>\n",
       "      <th>is_duplicate</th>\n",
       "    </tr>\n",
       "  </thead>\n",
       "  <tbody>\n",
       "    <tr>\n",
       "      <th>0</th>\n",
       "      <td>https://www.otodom.pl/pl/oferta/nowe-mieszkani...</td>\n",
       "      <td>Nowe mieszkania na Górce Narodowej</td>\n",
       "      <td>29 listopada - okolice, Górka Narodowa, Prądni...</td>\n",
       "      <td>778689.0</td>\n",
       "      <td>61.30</td>\n",
       "      <td>12703.0</td>\n",
       "      <td>1</td>\n",
       "      <td>5</td>\n",
       "      <td>2</td>\n",
       "      <td>2023.0</td>\n",
       "      <td>...</td>\n",
       "      <td>pełna własność</td>\n",
       "      <td>NaN</td>\n",
       "      <td>NaN</td>\n",
       "      <td>miejskie</td>\n",
       "      <td>biuro nieruchomości</td>\n",
       "      <td>True</td>\n",
       "      <td>balkon</td>\n",
       "      <td>brak informacji</td>\n",
       "      <td>brak informacji</td>\n",
       "      <td>False</td>\n",
       "    </tr>\n",
       "    <tr>\n",
       "      <th>1</th>\n",
       "      <td>https://www.otodom.pl/pl/oferta/balkon-3-pokoj...</td>\n",
       "      <td>balkon + 3 pokoje + parking</td>\n",
       "      <td>Adama Vetulaniego, Prądnik Biały, Prądnik Biał...</td>\n",
       "      <td>970000.0</td>\n",
       "      <td>55.00</td>\n",
       "      <td>17636.0</td>\n",
       "      <td>4</td>\n",
       "      <td>7</td>\n",
       "      <td>3</td>\n",
       "      <td>2023.0</td>\n",
       "      <td>...</td>\n",
       "      <td>pełna własność</td>\n",
       "      <td>NaN</td>\n",
       "      <td>450.0</td>\n",
       "      <td>miejskie</td>\n",
       "      <td>biuro nieruchomości</td>\n",
       "      <td>True</td>\n",
       "      <td>balkon</td>\n",
       "      <td>blok</td>\n",
       "      <td>brak informacji</td>\n",
       "      <td>False</td>\n",
       "    </tr>\n",
       "    <tr>\n",
       "      <th>3788</th>\n",
       "      <td>https://www.otodom.pl/pl/oferta/zlocien-2-poko...</td>\n",
       "      <td>Złocień, 2 pokoje, balkon</td>\n",
       "      <td>Agatowa, Domagały,, Złocień, Bieżanów-Prokocim...</td>\n",
       "      <td>625000.0</td>\n",
       "      <td>36.80</td>\n",
       "      <td>16984.0</td>\n",
       "      <td>4</td>\n",
       "      <td>4</td>\n",
       "      <td>2</td>\n",
       "      <td>2019.0</td>\n",
       "      <td>...</td>\n",
       "      <td>pełna własność</td>\n",
       "      <td>do zamieszkania</td>\n",
       "      <td>425.0</td>\n",
       "      <td>miejskie</td>\n",
       "      <td>biuro nieruchomości</td>\n",
       "      <td>True</td>\n",
       "      <td>balkon</td>\n",
       "      <td>blok</td>\n",
       "      <td>brak informacji</td>\n",
       "      <td>True</td>\n",
       "    </tr>\n",
       "    <tr>\n",
       "      <th>2</th>\n",
       "      <td>https://www.otodom.pl/pl/oferta/komfortowe-2-p...</td>\n",
       "      <td>komfortowe 2-pokojowe mieszkanie 42m2</td>\n",
       "      <td>Albertyńskie, Bieńczyce, Bieńczyce, Kraków, ma...</td>\n",
       "      <td>559000.0</td>\n",
       "      <td>42.00</td>\n",
       "      <td>13310.0</td>\n",
       "      <td>2</td>\n",
       "      <td>4</td>\n",
       "      <td>2</td>\n",
       "      <td>1964.0</td>\n",
       "      <td>...</td>\n",
       "      <td>NaN</td>\n",
       "      <td>NaN</td>\n",
       "      <td>500.0</td>\n",
       "      <td>miejskie</td>\n",
       "      <td>biuro nieruchomości</td>\n",
       "      <td>False</td>\n",
       "      <td>balkon</td>\n",
       "      <td>blok</td>\n",
       "      <td>brak informacji</td>\n",
       "      <td>False</td>\n",
       "    </tr>\n",
       "    <tr>\n",
       "      <th>3</th>\n",
       "      <td>https://www.otodom.pl/pl/oferta/aleja-29-listo...</td>\n",
       "      <td>Aleja 29 Listopada obok UR</td>\n",
       "      <td>Aleja 29 Listopada, Górka Narodowa, Prądnik Bi...</td>\n",
       "      <td>695000.0</td>\n",
       "      <td>48.10</td>\n",
       "      <td>14449.0</td>\n",
       "      <td>3</td>\n",
       "      <td>3</td>\n",
       "      <td>2</td>\n",
       "      <td>NaN</td>\n",
       "      <td>...</td>\n",
       "      <td>pełna własność</td>\n",
       "      <td>do zamieszkania</td>\n",
       "      <td>NaN</td>\n",
       "      <td>gazowe</td>\n",
       "      <td>biuro nieruchomości</td>\n",
       "      <td>False</td>\n",
       "      <td>balkon</td>\n",
       "      <td>blok</td>\n",
       "      <td>brak informacji</td>\n",
       "      <td>False</td>\n",
       "    </tr>\n",
       "    <tr>\n",
       "      <th>...</th>\n",
       "      <td>...</td>\n",
       "      <td>...</td>\n",
       "      <td>...</td>\n",
       "      <td>...</td>\n",
       "      <td>...</td>\n",
       "      <td>...</td>\n",
       "      <td>...</td>\n",
       "      <td>...</td>\n",
       "      <td>...</td>\n",
       "      <td>...</td>\n",
       "      <td>...</td>\n",
       "      <td>...</td>\n",
       "      <td>...</td>\n",
       "      <td>...</td>\n",
       "      <td>...</td>\n",
       "      <td>...</td>\n",
       "      <td>...</td>\n",
       "      <td>...</td>\n",
       "      <td>...</td>\n",
       "      <td>...</td>\n",
       "      <td>...</td>\n",
       "    </tr>\n",
       "    <tr>\n",
       "      <th>3779</th>\n",
       "      <td>https://www.otodom.pl/pl/oferta/2-pokojowe-mie...</td>\n",
       "      <td>2-pokojowe mieszkanie 36,75 m2 ul.Siemaszki</td>\n",
       "      <td>Siemaszki, Żabiniec, Prądnik Biały, Kraków, ma...</td>\n",
       "      <td>735000.0</td>\n",
       "      <td>36.75</td>\n",
       "      <td>20000.0</td>\n",
       "      <td>0</td>\n",
       "      <td>4</td>\n",
       "      <td>2</td>\n",
       "      <td>1970.0</td>\n",
       "      <td>...</td>\n",
       "      <td>pełna własność</td>\n",
       "      <td>do zamieszkania</td>\n",
       "      <td>530.0</td>\n",
       "      <td>miejskie</td>\n",
       "      <td>prywatny</td>\n",
       "      <td>False</td>\n",
       "      <td>balkon</td>\n",
       "      <td>blok</td>\n",
       "      <td>brak informacji</td>\n",
       "      <td>False</td>\n",
       "    </tr>\n",
       "    <tr>\n",
       "      <th>3785</th>\n",
       "      <td>https://www.otodom.pl/pl/oferta/3-pokoje-na-za...</td>\n",
       "      <td>3 pokoje na Żabińcu !!!</td>\n",
       "      <td>Żabiniec, Prądnik Biały, Kraków, małopolskie</td>\n",
       "      <td>850000.0</td>\n",
       "      <td>77.00</td>\n",
       "      <td>11039.0</td>\n",
       "      <td>4</td>\n",
       "      <td>6</td>\n",
       "      <td>3</td>\n",
       "      <td>2002.0</td>\n",
       "      <td>...</td>\n",
       "      <td>pełna własność</td>\n",
       "      <td>NaN</td>\n",
       "      <td>800.0</td>\n",
       "      <td>miejskie</td>\n",
       "      <td>biuro nieruchomości</td>\n",
       "      <td>True</td>\n",
       "      <td>balkon</td>\n",
       "      <td>blok</td>\n",
       "      <td>brak informacji</td>\n",
       "      <td>False</td>\n",
       "    </tr>\n",
       "    <tr>\n",
       "      <th>5716</th>\n",
       "      <td>https://www.otodom.pl/pl/oferta/mieszkanie-73-...</td>\n",
       "      <td>Mieszkanie, 73 m², Kraków</td>\n",
       "      <td>Żabiniec, Prądnik Biały, Kraków, małopolskie</td>\n",
       "      <td>1100000.0</td>\n",
       "      <td>73.00</td>\n",
       "      <td>15068.0</td>\n",
       "      <td>0</td>\n",
       "      <td>6</td>\n",
       "      <td>3</td>\n",
       "      <td>2005.0</td>\n",
       "      <td>...</td>\n",
       "      <td>pełna własność</td>\n",
       "      <td>NaN</td>\n",
       "      <td>700.0</td>\n",
       "      <td>miejskie</td>\n",
       "      <td>biuro nieruchomości</td>\n",
       "      <td>True</td>\n",
       "      <td>balkon</td>\n",
       "      <td>blok</td>\n",
       "      <td>brak informacji</td>\n",
       "      <td>True</td>\n",
       "    </tr>\n",
       "    <tr>\n",
       "      <th>3786</th>\n",
       "      <td>https://www.otodom.pl/pl/oferta/widokowe-m3-z-...</td>\n",
       "      <td>Widokowe M3 z klimatyzacją i parkingiem, Żabiniec</td>\n",
       "      <td>Żabiniec, Prądnik Biały, Kraków, małopolskie</td>\n",
       "      <td>1179000.0</td>\n",
       "      <td>71.50</td>\n",
       "      <td>16490.0</td>\n",
       "      <td>5</td>\n",
       "      <td>8</td>\n",
       "      <td>3</td>\n",
       "      <td>2001.0</td>\n",
       "      <td>...</td>\n",
       "      <td>pełna własność</td>\n",
       "      <td>do zamieszkania</td>\n",
       "      <td>940.0</td>\n",
       "      <td>miejskie</td>\n",
       "      <td>biuro nieruchomości</td>\n",
       "      <td>True</td>\n",
       "      <td>balkon</td>\n",
       "      <td>apartamentowiec</td>\n",
       "      <td>brak informacji</td>\n",
       "      <td>False</td>\n",
       "    </tr>\n",
       "    <tr>\n",
       "      <th>3787</th>\n",
       "      <td>https://www.otodom.pl/pl/oferta/1m-wyposazone-...</td>\n",
       "      <td>1M! Wyposażone|Ogródek 25m2|Inwestycja - ROI 10%</td>\n",
       "      <td>żabniec, Żabiniec, Prądnik Biały, Kraków, mało...</td>\n",
       "      <td>639000.0</td>\n",
       "      <td>26.00</td>\n",
       "      <td>24577.0</td>\n",
       "      <td>0</td>\n",
       "      <td>4</td>\n",
       "      <td>1</td>\n",
       "      <td>2017.0</td>\n",
       "      <td>...</td>\n",
       "      <td>pełna własność</td>\n",
       "      <td>do zamieszkania</td>\n",
       "      <td>300.0</td>\n",
       "      <td>miejskie</td>\n",
       "      <td>biuro nieruchomości</td>\n",
       "      <td>False</td>\n",
       "      <td>ogródek</td>\n",
       "      <td>blok</td>\n",
       "      <td>brak informacji</td>\n",
       "      <td>False</td>\n",
       "    </tr>\n",
       "  </tbody>\n",
       "</table>\n",
       "<p>5717 rows × 22 columns</p>\n",
       "</div>"
      ]
     },
     "execution_count": 143,
     "metadata": {},
     "output_type": "execute_result"
    }
   ],
   "execution_count": 143
  },
  {
   "metadata": {
    "ExecuteTime": {
     "end_time": "2024-04-22T23:36:05.181408Z",
     "start_time": "2024-04-22T23:36:05.164387Z"
    }
   },
   "cell_type": "code",
   "source": [
    "# Usuń adresy spoza Krakowa\n",
    "sorted_filtered_df_otodom = sorted_filtered_df_otodom[sorted_filtered_df_otodom['address'].str.contains(\"Kraków\", na=False)]"
   ],
   "outputs": [],
   "execution_count": 144
  },
  {
   "metadata": {},
   "cell_type": "markdown",
   "source": "## Geolokacja"
  },
  {
   "metadata": {
    "ExecuteTime": {
     "end_time": "2024-04-22T23:36:05.194359Z",
     "start_time": "2024-04-22T23:36:05.184407Z"
    }
   },
   "cell_type": "code",
   "source": [
    "unique_addresses_otodom = set(sorted_filtered_df_otodom['address'].unique())\n",
    "len(unique_addresses_otodom)"
   ],
   "outputs": [
    {
     "data": {
      "text/plain": [
       "1605"
      ]
     },
     "execution_count": 145,
     "metadata": {},
     "output_type": "execute_result"
    }
   ],
   "execution_count": 145
  },
  {
   "metadata": {
    "ExecuteTime": {
     "end_time": "2024-04-22T23:36:05.345658Z",
     "start_time": "2024-04-22T23:36:05.196355Z"
    }
   },
   "cell_type": "code",
   "source": [
    "from geopy.geocoders import Nominatim\n",
    "import time\n",
    "\n",
    "geolocator = Nominatim(user_agent=\"AGH_Student_Data_Exploration_Project\")\n",
    "\n",
    "def geocode(address):\n",
    "    timeout = 10\n",
    "    attempts = 0\n",
    "    while attempts < 3:\n",
    "        try:\n",
    "            location = geolocator.geocode(address, timeout=timeout)\n",
    "            if location:\n",
    "                return pd.Series([location.address, location.latitude, location.longitude])\n",
    "            else:\n",
    "                return pd.Series([None, None, None])\n",
    "        except Exception as e:\n",
    "            print(f\"Retry {attempts + 1}: Error during geocoding for address '{address}' - {str(e)}\")\n",
    "            attempts += 1\n",
    "            timeout += 5\n",
    "            time.sleep(2)\n",
    "    return pd.Series([None, None, None])"
   ],
   "outputs": [],
   "execution_count": 146
  },
  {
   "metadata": {
    "ExecuteTime": {
     "end_time": "2024-04-22T23:36:05.583844Z",
     "start_time": "2024-04-22T23:36:05.346657Z"
    }
   },
   "cell_type": "code",
   "source": "geocode(\"Śląska, Kraków, małopolskie\")",
   "outputs": [
    {
     "data": {
      "text/plain": [
       "0    Śląska, Nowy Kleparz, Krowodrza, Kraków, wojew...\n",
       "1                                            50.074171\n",
       "2                                            19.933102\n",
       "dtype: object"
      ]
     },
     "execution_count": 147,
     "metadata": {},
     "output_type": "execute_result"
    }
   ],
   "execution_count": 147
  },
  {
   "metadata": {
    "ExecuteTime": {
     "end_time": "2024-04-22T23:36:10.619439Z",
     "start_time": "2024-04-22T23:36:05.587844Z"
    }
   },
   "cell_type": "code",
   "source": [
    "location_df = pd.DataFrame(unique_addresses_otodom, columns=['unique_addresses'])\n",
    "small_df = location_df.head(10).copy()\n",
    "small_df[['location', 'latitude', 'longitude']] = small_df['unique_addresses'].apply(geocode)\n",
    "small_df\n",
    "\n",
    "# location_df.to_csv('geocoded_addresses.csv', index=False)\n",
    "# print(\"DataFrame saved to 'geocoded_addresses.csv'.\")"
   ],
   "outputs": [
    {
     "data": {
      "text/plain": [
       "                                    unique_addresses  \\\n",
       "0  Na Ogrody, Prądnik Biały, Prądnik Biały, Krakó...   \n",
       "1  Józefa Dietla 15, Kazimierz, Stare Miasto, Kra...   \n",
       "2  Piastowska, Małe Błonia, Krowodrza, Kraków, ma...   \n",
       "3  al. 29 Listopada, Prądnik Czerwony, Prądnik Cz...   \n",
       "4  Krowoderska, Stare Miasto, Stare Miasto, Krakó...   \n",
       "5  Feliksa Konecznego, Żabiniec, Prądnik Biały, K...   \n",
       "6  Parkowa, Stare Podgórze, Podgórze, Kraków, mał...   \n",
       "7    Półkole, Dąbie, Grzegórzki, Kraków, małopolskie   \n",
       "8  Astronautów, Bielany, Zwierzyniec, Kraków, mał...   \n",
       "9   29, Olsza, Prądnik Czerwony, Kraków, małopolskie   \n",
       "\n",
       "                                            location   latitude  longitude  \n",
       "0  Ogrody, Bronowice Wielkie, Prądnik Biały, Krak...  50.098665  19.881480  \n",
       "1  15, Józefa Dietla, Kazimierz, Stare Miasto, Kr...  50.050373  19.938754  \n",
       "2  Piastowska, Małe Błonia, Krowodrza, Kraków, wo...  50.070005  19.903898  \n",
       "3  Aleja 29 Listopada, Rogatka Warszawska, Olsza,...  50.082640  19.951981  \n",
       "4  Krowoderska, Piasek, Stare Miasto, Kraków, woj...  50.067927  19.937477  \n",
       "5  Feliksa Konecznego, Osiedle Żabiniec, Prądnik ...  50.084295  19.941917  \n",
       "6  Parkowa, Stare Podgórze, Podgórze, Kraków, woj...  50.042718  19.950724  \n",
       "7  Półkole, Dąbie, Grzegórzki, Kraków, województw...  50.060536  19.981721  \n",
       "8  Astronautów, Osiedle Wojskowe, Bielany, Zwierz...  50.043882  19.820011  \n",
       "9  Olsza, Prądnik Czerwony, Kraków, województwo m...  50.082175  19.966456  "
      ],
      "text/html": [
       "<div>\n",
       "<style scoped>\n",
       "    .dataframe tbody tr th:only-of-type {\n",
       "        vertical-align: middle;\n",
       "    }\n",
       "\n",
       "    .dataframe tbody tr th {\n",
       "        vertical-align: top;\n",
       "    }\n",
       "\n",
       "    .dataframe thead th {\n",
       "        text-align: right;\n",
       "    }\n",
       "</style>\n",
       "<table border=\"1\" class=\"dataframe\">\n",
       "  <thead>\n",
       "    <tr style=\"text-align: right;\">\n",
       "      <th></th>\n",
       "      <th>unique_addresses</th>\n",
       "      <th>location</th>\n",
       "      <th>latitude</th>\n",
       "      <th>longitude</th>\n",
       "    </tr>\n",
       "  </thead>\n",
       "  <tbody>\n",
       "    <tr>\n",
       "      <th>0</th>\n",
       "      <td>Na Ogrody, Prądnik Biały, Prądnik Biały, Krakó...</td>\n",
       "      <td>Ogrody, Bronowice Wielkie, Prądnik Biały, Krak...</td>\n",
       "      <td>50.098665</td>\n",
       "      <td>19.881480</td>\n",
       "    </tr>\n",
       "    <tr>\n",
       "      <th>1</th>\n",
       "      <td>Józefa Dietla 15, Kazimierz, Stare Miasto, Kra...</td>\n",
       "      <td>15, Józefa Dietla, Kazimierz, Stare Miasto, Kr...</td>\n",
       "      <td>50.050373</td>\n",
       "      <td>19.938754</td>\n",
       "    </tr>\n",
       "    <tr>\n",
       "      <th>2</th>\n",
       "      <td>Piastowska, Małe Błonia, Krowodrza, Kraków, ma...</td>\n",
       "      <td>Piastowska, Małe Błonia, Krowodrza, Kraków, wo...</td>\n",
       "      <td>50.070005</td>\n",
       "      <td>19.903898</td>\n",
       "    </tr>\n",
       "    <tr>\n",
       "      <th>3</th>\n",
       "      <td>al. 29 Listopada, Prądnik Czerwony, Prądnik Cz...</td>\n",
       "      <td>Aleja 29 Listopada, Rogatka Warszawska, Olsza,...</td>\n",
       "      <td>50.082640</td>\n",
       "      <td>19.951981</td>\n",
       "    </tr>\n",
       "    <tr>\n",
       "      <th>4</th>\n",
       "      <td>Krowoderska, Stare Miasto, Stare Miasto, Krakó...</td>\n",
       "      <td>Krowoderska, Piasek, Stare Miasto, Kraków, woj...</td>\n",
       "      <td>50.067927</td>\n",
       "      <td>19.937477</td>\n",
       "    </tr>\n",
       "    <tr>\n",
       "      <th>5</th>\n",
       "      <td>Feliksa Konecznego, Żabiniec, Prądnik Biały, K...</td>\n",
       "      <td>Feliksa Konecznego, Osiedle Żabiniec, Prądnik ...</td>\n",
       "      <td>50.084295</td>\n",
       "      <td>19.941917</td>\n",
       "    </tr>\n",
       "    <tr>\n",
       "      <th>6</th>\n",
       "      <td>Parkowa, Stare Podgórze, Podgórze, Kraków, mał...</td>\n",
       "      <td>Parkowa, Stare Podgórze, Podgórze, Kraków, woj...</td>\n",
       "      <td>50.042718</td>\n",
       "      <td>19.950724</td>\n",
       "    </tr>\n",
       "    <tr>\n",
       "      <th>7</th>\n",
       "      <td>Półkole, Dąbie, Grzegórzki, Kraków, małopolskie</td>\n",
       "      <td>Półkole, Dąbie, Grzegórzki, Kraków, województw...</td>\n",
       "      <td>50.060536</td>\n",
       "      <td>19.981721</td>\n",
       "    </tr>\n",
       "    <tr>\n",
       "      <th>8</th>\n",
       "      <td>Astronautów, Bielany, Zwierzyniec, Kraków, mał...</td>\n",
       "      <td>Astronautów, Osiedle Wojskowe, Bielany, Zwierz...</td>\n",
       "      <td>50.043882</td>\n",
       "      <td>19.820011</td>\n",
       "    </tr>\n",
       "    <tr>\n",
       "      <th>9</th>\n",
       "      <td>29, Olsza, Prądnik Czerwony, Kraków, małopolskie</td>\n",
       "      <td>Olsza, Prądnik Czerwony, Kraków, województwo m...</td>\n",
       "      <td>50.082175</td>\n",
       "      <td>19.966456</td>\n",
       "    </tr>\n",
       "  </tbody>\n",
       "</table>\n",
       "</div>"
      ]
     },
     "execution_count": 148,
     "metadata": {},
     "output_type": "execute_result"
    }
   ],
   "execution_count": 148
  },
  {
   "metadata": {
    "ExecuteTime": {
     "end_time": "2024-04-22T23:36:10.623781Z",
     "start_time": "2024-04-22T23:36:10.621439Z"
    }
   },
   "cell_type": "code",
   "source": "",
   "outputs": [],
   "execution_count": 148
  },
  {
   "cell_type": "markdown",
   "metadata": {},
   "source": "# Zbiór danych nieruchomosci-online"
  },
  {
   "metadata": {},
   "cell_type": "markdown",
   "source": "### Załadowanie i agregacja danych"
  },
  {
   "cell_type": "code",
   "metadata": {
    "ExecuteTime": {
     "end_time": "2024-04-22T23:36:10.719813Z",
     "start_time": "2024-04-22T23:36:10.624779Z"
    }
   },
   "source": [
    "df_nieruchomosci = pd.read_csv('datasets/nieruchomosci-online_dataset_raw.csv')\n",
    "df_2024_03_25_nieruchomosci_new_data = pd.read_csv('datasets/timestamps/2024-03-25-nieruchomosci-online-new_data.csv')\n",
    "df_2024_03_25_nieruchomosci_updated_data = pd.read_csv('datasets/timestamps/2024-03-25-nieruchomosci-online-updated_data.csv')\n",
    "df_2024_04_07_nieruchomosci_new_data = pd.read_csv('datasets/timestamps/2024-04-07-nieruchomosci-online-new_data.csv')\n",
    "df_2024_04_07_nieruchomosci_updated_data = pd.read_csv('datasets/timestamps/2024-04-07-nieruchomosci-online-updated_data.csv')\n",
    "df_2024_04_21_nieruchomosci_new_data = pd.read_csv('datasets/timestamps/2024-04-21-nieruchomosci-online-new_data.csv')\n",
    "df_2024_04_21_nieruchomosci_updated_data = pd.read_csv('datasets/timestamps/2024-04-21-nieruchomosci-online-updated_data.csv')"
   ],
   "outputs": [],
   "execution_count": 149
  },
  {
   "metadata": {
    "ExecuteTime": {
     "end_time": "2024-04-22T23:36:10.797116Z",
     "start_time": "2024-04-22T23:36:10.721806Z"
    }
   },
   "cell_type": "code",
   "source": [
    "df_nieruchomosci = update_dataframe(df_nieruchomosci, df_2024_03_25_nieruchomosci_updated_data, df_2024_03_25_nieruchomosci_new_data)\n",
    "df_nieruchomosci = update_dataframe(df_nieruchomosci, df_2024_04_07_nieruchomosci_updated_data, df_2024_04_07_nieruchomosci_new_data)\n",
    "df_nieruchomosci = update_dataframe(df_nieruchomosci, df_2024_04_21_nieruchomosci_updated_data, df_2024_04_21_nieruchomosci_new_data)"
   ],
   "outputs": [],
   "execution_count": 150
  },
  {
   "cell_type": "code",
   "metadata": {
    "ExecuteTime": {
     "end_time": "2024-04-22T23:36:10.811927Z",
     "start_time": "2024-04-22T23:36:10.798113Z"
    }
   },
   "source": [
    "df_nieruchomosci.info()"
   ],
   "outputs": [
    {
     "name": "stdout",
     "output_type": "stream",
     "text": [
      "<class 'pandas.core.frame.DataFrame'>\n",
      "RangeIndex: 8753 entries, 0 to 8752\n",
      "Data columns (total 13 columns):\n",
      " #   Column                               Non-Null Count  Dtype  \n",
      "---  ------                               --------------  -----  \n",
      " 0   url                                  8753 non-null   object \n",
      " 1   name/title                           8753 non-null   object \n",
      " 2   address                              8454 non-null   object \n",
      " 3   price                                8657 non-null   object \n",
      " 4   area                                 8753 non-null   object \n",
      " 5   price-per-area                       8657 non-null   object \n",
      " 6   floor/store                          8753 non-null   object \n",
      " 7   no of floors/stores in the building  8209 non-null   float64\n",
      " 8   no of rooms                          8753 non-null   object \n",
      " 9   year of construction                 8753 non-null   object \n",
      " 10  parking space                        8753 non-null   object \n",
      " 11  market                               8694 non-null   object \n",
      " 12  form of ownership                    3900 non-null   object \n",
      "dtypes: float64(1), object(12)\n",
      "memory usage: 889.1+ KB\n"
     ]
    }
   ],
   "execution_count": 151
  },
  {
   "cell_type": "markdown",
   "metadata": {},
   "source": [
    "### Cena i cena za metr\n",
    "#### Usunięcie wierszy z brakującymi danymi"
   ]
  },
  {
   "cell_type": "code",
   "metadata": {
    "ExecuteTime": {
     "end_time": "2024-04-22T23:36:10.823027Z",
     "start_time": "2024-04-22T23:36:10.812923Z"
    }
   },
   "source": [
    "print(df_nieruchomosci[df_nieruchomosci['price'].isnull()].shape[0])\n",
    "df_nieruchomosci.drop(df_nieruchomosci[df_nieruchomosci['price'].isnull()].index, inplace=True)"
   ],
   "outputs": [
    {
     "name": "stdout",
     "output_type": "stream",
     "text": [
      "96\n"
     ]
    }
   ],
   "execution_count": 152
  },
  {
   "cell_type": "code",
   "metadata": {
    "ExecuteTime": {
     "end_time": "2024-04-22T23:36:10.839022Z",
     "start_time": "2024-04-22T23:36:10.824023Z"
    }
   },
   "source": [
    "# sprawdzenie, czy są jakieś wartości w kolumnie price-per-area, które nie zawierają danych liczbowych\n",
    "df_nieruchomosci[~df_nieruchomosci['price-per-area'].str.contains(r'\\d')].shape[0]"
   ],
   "outputs": [
    {
     "data": {
      "text/plain": [
       "0"
      ]
     },
     "execution_count": 153,
     "metadata": {},
     "output_type": "execute_result"
    }
   ],
   "execution_count": 153
  },
  {
   "cell_type": "code",
   "metadata": {
    "ExecuteTime": {
     "end_time": "2024-04-22T23:36:10.853174Z",
     "start_time": "2024-04-22T23:36:10.841027Z"
    }
   },
   "source": [
    "# sprawdzenie, czy są jakieś wartości w kolumnie price, które nie zawierają danych liczbowych\n",
    "df_nieruchomosci[~df_nieruchomosci['price'].str.contains(r'\\d')].shape[0]"
   ],
   "outputs": [
    {
     "data": {
      "text/plain": [
       "0"
      ]
     },
     "execution_count": 154,
     "metadata": {},
     "output_type": "execute_result"
    }
   ],
   "execution_count": 154
  },
  {
   "cell_type": "markdown",
   "metadata": {},
   "source": [
    "### Zamiana cen podanych w innych walutach"
   ]
  },
  {
   "cell_type": "code",
   "metadata": {
    "ExecuteTime": {
     "end_time": "2024-04-22T23:36:10.885962Z",
     "start_time": "2024-04-22T23:36:10.855160Z"
    }
   },
   "source": [
    "# wartości w kolumnie 'price' podane w innej walucie\n",
    "# price-per-area w innej walucie\n",
    "\n",
    "# df_nieruchomosci[~df_nieruchomosci['price'].str.contains('zł')].copy()\n",
    "# df_nieruchomosci[~df_nieruchomosci['price-per-area'].str.contains('zł')].copy()\n",
    "\n",
    "different_currency_price = pd.concat([df_nieruchomosci[~df_nieruchomosci['price'].str.contains('zł')].copy(), df_nieruchomosci[~df_nieruchomosci['price-per-area'].str.contains('zł')].copy()]).drop_duplicates()\n",
    "different_currency_price"
   ],
   "outputs": [
    {
     "data": {
      "text/plain": [
       "                                                    url  \\\n",
       "153   https://krakow.nieruchomosci-online.pl/mieszka...   \n",
       "1120  https://krakow.nieruchomosci-online.pl/mieszka...   \n",
       "1151  https://krakow.nieruchomosci-online.pl/mieszka...   \n",
       "2096  https://krakow.nieruchomosci-online.pl/mieszka...   \n",
       "2241  https://krakow.nieruchomosci-online.pl/mieszka...   \n",
       "2562  https://krakow.nieruchomosci-online.pl/mieszka...   \n",
       "2927  https://krakow.nieruchomosci-online.pl/mieszka...   \n",
       "2991  https://krakow.nieruchomosci-online.pl/mieszka...   \n",
       "3364  https://krakow.nieruchomosci-online.pl/mieszka...   \n",
       "8480  https://krakow.nieruchomosci-online.pl/mieszka...   \n",
       "\n",
       "                             name/title  \\\n",
       "153        Mieszkanie, ul. Piłsudskiego   \n",
       "1120       Mieszkanie, ul. Piłsudskiego   \n",
       "1151       Mieszkanie, ul. Piłsudskiego   \n",
       "2096       Mieszkanie, ul. Piłsudskiego   \n",
       "2241       Mieszkanie, ul. Piłsudskiego   \n",
       "2562                  Apartament Kraków   \n",
       "2927  Mieszkanie, Plac Juliusza Kossaka   \n",
       "2991                  Mieszkanie Kraków   \n",
       "3364  Mieszkanie Stare Miasto, ul. Jana   \n",
       "8480         Mieszkanie, ul. Mazowiecka   \n",
       "\n",
       "                                                address        price  \\\n",
       "153     Piłsudskiego, Stare Miasto, Kraków, małopolskie  1 149 999 €   \n",
       "1120    Piłsudskiego, Stare Miasto, Kraków, małopolskie  1 149 999 €   \n",
       "1151    Piłsudskiego, Stare Miasto, Kraków, małopolskie  1 150 000 €   \n",
       "2096    Piłsudskiego, Stare Miasto, Kraków, małopolskie  1 150 000 €   \n",
       "2241      Piłsudskiego, Nowy Świat, Kraków, małopolskie  1 150 000 €   \n",
       "2562                                Kraków, małopolskie    138 000 €   \n",
       "2927  Plac Juliusza Kossaka, Stare Miasto, Kraków, m...    700 000 €   \n",
       "2991  marszałka JózefaPiłsudskiego, Wawel, Kraków, m...  1 150 000 €   \n",
       "3364            Jana, Stare Miasto, Kraków, małopolskie  1 000 000 €   \n",
       "8480         Mazowiecka, Krowodrza, Kraków, małopolskie    370 000 €   \n",
       "\n",
       "           area price-per-area floor/store  \\\n",
       "153   232,10 m²  4 954,76 €/m²           4   \n",
       "1120  232,10 m²  4 954,76 €/m²           4   \n",
       "1151  232,10 m²  4 954,76 €/m²           4   \n",
       "2096     228 m²  5 043,86 €/m²           4   \n",
       "2241  228,70 m²  5 028,42 €/m²           4   \n",
       "2562      65 m²  2 123,08 €/m²          21   \n",
       "2927     152 m²  4 605,26 €/m²           1   \n",
       "2991     232 m²  4 956,90 €/m²           4   \n",
       "3364  221,19 m²     4 521 €/m²           4   \n",
       "8480      84 m²  4 404,76 €/m²           5   \n",
       "\n",
       "      no of floors/stores in the building no of rooms year of construction  \\\n",
       "153                                   4.0           5                 1906   \n",
       "1120                                  4.0           5                 1908   \n",
       "1151                                  5.0           5                 1906   \n",
       "2096                                  5.0           5                 1906   \n",
       "2241                                  5.0           5                 1906   \n",
       "2562                                 45.0           2                 2023   \n",
       "2927                                  4.0           4                 1930   \n",
       "2991                                  5.0           9                 1906   \n",
       "3364                                  4.0           4                 1850   \n",
       "8480                                  6.0           3                 1936   \n",
       "\n",
       "                     parking space  market form of ownership  \n",
       "153    parking strzeżony w pobliżu  wtórny               NaN  \n",
       "1120                         garaż  wtórny               NaN  \n",
       "1151  parking publiczny / na ulicy  wtórny               NaN  \n",
       "2096  parking publiczny / na ulicy  wtórny          własność  \n",
       "2241                             -  wtórny               NaN  \n",
       "2562                             -  wtórny               NaN  \n",
       "2927                             -  wtórny               NaN  \n",
       "2991                             -  wtórny               NaN  \n",
       "3364                             -  wtórny               NaN  \n",
       "8480                             -  wtórny               NaN  "
      ],
      "text/html": [
       "<div>\n",
       "<style scoped>\n",
       "    .dataframe tbody tr th:only-of-type {\n",
       "        vertical-align: middle;\n",
       "    }\n",
       "\n",
       "    .dataframe tbody tr th {\n",
       "        vertical-align: top;\n",
       "    }\n",
       "\n",
       "    .dataframe thead th {\n",
       "        text-align: right;\n",
       "    }\n",
       "</style>\n",
       "<table border=\"1\" class=\"dataframe\">\n",
       "  <thead>\n",
       "    <tr style=\"text-align: right;\">\n",
       "      <th></th>\n",
       "      <th>url</th>\n",
       "      <th>name/title</th>\n",
       "      <th>address</th>\n",
       "      <th>price</th>\n",
       "      <th>area</th>\n",
       "      <th>price-per-area</th>\n",
       "      <th>floor/store</th>\n",
       "      <th>no of floors/stores in the building</th>\n",
       "      <th>no of rooms</th>\n",
       "      <th>year of construction</th>\n",
       "      <th>parking space</th>\n",
       "      <th>market</th>\n",
       "      <th>form of ownership</th>\n",
       "    </tr>\n",
       "  </thead>\n",
       "  <tbody>\n",
       "    <tr>\n",
       "      <th>153</th>\n",
       "      <td>https://krakow.nieruchomosci-online.pl/mieszka...</td>\n",
       "      <td>Mieszkanie, ul. Piłsudskiego</td>\n",
       "      <td>Piłsudskiego, Stare Miasto, Kraków, małopolskie</td>\n",
       "      <td>1 149 999 €</td>\n",
       "      <td>232,10 m²</td>\n",
       "      <td>4 954,76 €/m²</td>\n",
       "      <td>4</td>\n",
       "      <td>4.0</td>\n",
       "      <td>5</td>\n",
       "      <td>1906</td>\n",
       "      <td>parking strzeżony w pobliżu</td>\n",
       "      <td>wtórny</td>\n",
       "      <td>NaN</td>\n",
       "    </tr>\n",
       "    <tr>\n",
       "      <th>1120</th>\n",
       "      <td>https://krakow.nieruchomosci-online.pl/mieszka...</td>\n",
       "      <td>Mieszkanie, ul. Piłsudskiego</td>\n",
       "      <td>Piłsudskiego, Stare Miasto, Kraków, małopolskie</td>\n",
       "      <td>1 149 999 €</td>\n",
       "      <td>232,10 m²</td>\n",
       "      <td>4 954,76 €/m²</td>\n",
       "      <td>4</td>\n",
       "      <td>4.0</td>\n",
       "      <td>5</td>\n",
       "      <td>1908</td>\n",
       "      <td>garaż</td>\n",
       "      <td>wtórny</td>\n",
       "      <td>NaN</td>\n",
       "    </tr>\n",
       "    <tr>\n",
       "      <th>1151</th>\n",
       "      <td>https://krakow.nieruchomosci-online.pl/mieszka...</td>\n",
       "      <td>Mieszkanie, ul. Piłsudskiego</td>\n",
       "      <td>Piłsudskiego, Stare Miasto, Kraków, małopolskie</td>\n",
       "      <td>1 150 000 €</td>\n",
       "      <td>232,10 m²</td>\n",
       "      <td>4 954,76 €/m²</td>\n",
       "      <td>4</td>\n",
       "      <td>5.0</td>\n",
       "      <td>5</td>\n",
       "      <td>1906</td>\n",
       "      <td>parking publiczny / na ulicy</td>\n",
       "      <td>wtórny</td>\n",
       "      <td>NaN</td>\n",
       "    </tr>\n",
       "    <tr>\n",
       "      <th>2096</th>\n",
       "      <td>https://krakow.nieruchomosci-online.pl/mieszka...</td>\n",
       "      <td>Mieszkanie, ul. Piłsudskiego</td>\n",
       "      <td>Piłsudskiego, Stare Miasto, Kraków, małopolskie</td>\n",
       "      <td>1 150 000 €</td>\n",
       "      <td>228 m²</td>\n",
       "      <td>5 043,86 €/m²</td>\n",
       "      <td>4</td>\n",
       "      <td>5.0</td>\n",
       "      <td>5</td>\n",
       "      <td>1906</td>\n",
       "      <td>parking publiczny / na ulicy</td>\n",
       "      <td>wtórny</td>\n",
       "      <td>własność</td>\n",
       "    </tr>\n",
       "    <tr>\n",
       "      <th>2241</th>\n",
       "      <td>https://krakow.nieruchomosci-online.pl/mieszka...</td>\n",
       "      <td>Mieszkanie, ul. Piłsudskiego</td>\n",
       "      <td>Piłsudskiego, Nowy Świat, Kraków, małopolskie</td>\n",
       "      <td>1 150 000 €</td>\n",
       "      <td>228,70 m²</td>\n",
       "      <td>5 028,42 €/m²</td>\n",
       "      <td>4</td>\n",
       "      <td>5.0</td>\n",
       "      <td>5</td>\n",
       "      <td>1906</td>\n",
       "      <td>-</td>\n",
       "      <td>wtórny</td>\n",
       "      <td>NaN</td>\n",
       "    </tr>\n",
       "    <tr>\n",
       "      <th>2562</th>\n",
       "      <td>https://krakow.nieruchomosci-online.pl/mieszka...</td>\n",
       "      <td>Apartament Kraków</td>\n",
       "      <td>Kraków, małopolskie</td>\n",
       "      <td>138 000 €</td>\n",
       "      <td>65 m²</td>\n",
       "      <td>2 123,08 €/m²</td>\n",
       "      <td>21</td>\n",
       "      <td>45.0</td>\n",
       "      <td>2</td>\n",
       "      <td>2023</td>\n",
       "      <td>-</td>\n",
       "      <td>wtórny</td>\n",
       "      <td>NaN</td>\n",
       "    </tr>\n",
       "    <tr>\n",
       "      <th>2927</th>\n",
       "      <td>https://krakow.nieruchomosci-online.pl/mieszka...</td>\n",
       "      <td>Mieszkanie, Plac Juliusza Kossaka</td>\n",
       "      <td>Plac Juliusza Kossaka, Stare Miasto, Kraków, m...</td>\n",
       "      <td>700 000 €</td>\n",
       "      <td>152 m²</td>\n",
       "      <td>4 605,26 €/m²</td>\n",
       "      <td>1</td>\n",
       "      <td>4.0</td>\n",
       "      <td>4</td>\n",
       "      <td>1930</td>\n",
       "      <td>-</td>\n",
       "      <td>wtórny</td>\n",
       "      <td>NaN</td>\n",
       "    </tr>\n",
       "    <tr>\n",
       "      <th>2991</th>\n",
       "      <td>https://krakow.nieruchomosci-online.pl/mieszka...</td>\n",
       "      <td>Mieszkanie Kraków</td>\n",
       "      <td>marszałka JózefaPiłsudskiego, Wawel, Kraków, m...</td>\n",
       "      <td>1 150 000 €</td>\n",
       "      <td>232 m²</td>\n",
       "      <td>4 956,90 €/m²</td>\n",
       "      <td>4</td>\n",
       "      <td>5.0</td>\n",
       "      <td>9</td>\n",
       "      <td>1906</td>\n",
       "      <td>-</td>\n",
       "      <td>wtórny</td>\n",
       "      <td>NaN</td>\n",
       "    </tr>\n",
       "    <tr>\n",
       "      <th>3364</th>\n",
       "      <td>https://krakow.nieruchomosci-online.pl/mieszka...</td>\n",
       "      <td>Mieszkanie Stare Miasto, ul. Jana</td>\n",
       "      <td>Jana, Stare Miasto, Kraków, małopolskie</td>\n",
       "      <td>1 000 000 €</td>\n",
       "      <td>221,19 m²</td>\n",
       "      <td>4 521 €/m²</td>\n",
       "      <td>4</td>\n",
       "      <td>4.0</td>\n",
       "      <td>4</td>\n",
       "      <td>1850</td>\n",
       "      <td>-</td>\n",
       "      <td>wtórny</td>\n",
       "      <td>NaN</td>\n",
       "    </tr>\n",
       "    <tr>\n",
       "      <th>8480</th>\n",
       "      <td>https://krakow.nieruchomosci-online.pl/mieszka...</td>\n",
       "      <td>Mieszkanie, ul. Mazowiecka</td>\n",
       "      <td>Mazowiecka, Krowodrza, Kraków, małopolskie</td>\n",
       "      <td>370 000 €</td>\n",
       "      <td>84 m²</td>\n",
       "      <td>4 404,76 €/m²</td>\n",
       "      <td>5</td>\n",
       "      <td>6.0</td>\n",
       "      <td>3</td>\n",
       "      <td>1936</td>\n",
       "      <td>-</td>\n",
       "      <td>wtórny</td>\n",
       "      <td>NaN</td>\n",
       "    </tr>\n",
       "  </tbody>\n",
       "</table>\n",
       "</div>"
      ]
     },
     "execution_count": 155,
     "metadata": {},
     "output_type": "execute_result"
    }
   ],
   "execution_count": 155
  },
  {
   "cell_type": "code",
   "metadata": {
    "ExecuteTime": {
     "end_time": "2024-04-22T23:36:10.939966Z",
     "start_time": "2024-04-22T23:36:10.888961Z"
    }
   },
   "source": [
    "# zamiana cen na wartości liczbowe\n",
    "df_nieruchomosci['price'] = df_nieruchomosci['price'].str.replace(' ', '').str.replace(',', '.').str.extract('(\\d+\\.\\d+|\\d+)').astype(float)\n",
    "\n",
    "df_nieruchomosci['price-per-area'] = df_nieruchomosci['price-per-area'].str.replace(' ', '').str.replace(',', '.').str.extract('(\\d+\\.\\d+|\\d+)').astype(float)"
   ],
   "outputs": [],
   "execution_count": 156
  },
  {
   "cell_type": "code",
   "metadata": {
    "ExecuteTime": {
     "end_time": "2024-04-22T23:36:10.950480Z",
     "start_time": "2024-04-22T23:36:10.941958Z"
    }
   },
   "source": "print(df_nieruchomosci.loc[different_currency_price.index, ['price', 'price-per-area']])",
   "outputs": [
    {
     "name": "stdout",
     "output_type": "stream",
     "text": [
      "          price  price-per-area\n",
      "153   1149999.0         4954.76\n",
      "1120  1149999.0         4954.76\n",
      "1151  1150000.0         4954.76\n",
      "2096  1150000.0         5043.86\n",
      "2241  1150000.0         5028.42\n",
      "2562   138000.0         2123.08\n",
      "2927   700000.0         4605.26\n",
      "2991  1150000.0         4956.90\n",
      "3364  1000000.0         4521.00\n",
      "8480   370000.0         4404.76\n"
     ]
    }
   ],
   "execution_count": 157
  },
  {
   "cell_type": "code",
   "metadata": {
    "ExecuteTime": {
     "end_time": "2024-04-22T23:36:10.961682Z",
     "start_time": "2024-04-22T23:36:10.951476Z"
    }
   },
   "source": [
    "# kurs na 5.04.2024\n",
    "# euro_exchange_rate = 4.28\n",
    "\n",
    "df_nieruchomosci.loc[different_currency_price.index, 'price'] *= euro_exchange_rate\n",
    "df_nieruchomosci.loc[different_currency_price.index, 'price-per-area'] *= euro_exchange_rate"
   ],
   "outputs": [],
   "execution_count": 158
  },
  {
   "cell_type": "code",
   "metadata": {
    "ExecuteTime": {
     "end_time": "2024-04-22T23:36:10.975654Z",
     "start_time": "2024-04-22T23:36:10.963676Z"
    }
   },
   "source": "df_nieruchomosci.loc[different_currency_price.index, ['price', 'price-per-area']]",
   "outputs": [
    {
     "data": {
      "text/plain": [
       "             price  price-per-area\n",
       "153   4.951232e+06    21332.337663\n",
       "1120  4.951232e+06    21332.337663\n",
       "1151  4.951236e+06    21332.337663\n",
       "2096  4.951236e+06    21715.950853\n",
       "2241  4.951236e+06    21649.475122\n",
       "2562  5.941484e+05     9140.757463\n",
       "2927  3.013796e+06    19827.592325\n",
       "2991  4.951236e+06    21341.551269\n",
       "3364  4.305423e+06    19464.817383\n",
       "8480  1.593007e+06    18964.355013"
      ],
      "text/html": [
       "<div>\n",
       "<style scoped>\n",
       "    .dataframe tbody tr th:only-of-type {\n",
       "        vertical-align: middle;\n",
       "    }\n",
       "\n",
       "    .dataframe tbody tr th {\n",
       "        vertical-align: top;\n",
       "    }\n",
       "\n",
       "    .dataframe thead th {\n",
       "        text-align: right;\n",
       "    }\n",
       "</style>\n",
       "<table border=\"1\" class=\"dataframe\">\n",
       "  <thead>\n",
       "    <tr style=\"text-align: right;\">\n",
       "      <th></th>\n",
       "      <th>price</th>\n",
       "      <th>price-per-area</th>\n",
       "    </tr>\n",
       "  </thead>\n",
       "  <tbody>\n",
       "    <tr>\n",
       "      <th>153</th>\n",
       "      <td>4.951232e+06</td>\n",
       "      <td>21332.337663</td>\n",
       "    </tr>\n",
       "    <tr>\n",
       "      <th>1120</th>\n",
       "      <td>4.951232e+06</td>\n",
       "      <td>21332.337663</td>\n",
       "    </tr>\n",
       "    <tr>\n",
       "      <th>1151</th>\n",
       "      <td>4.951236e+06</td>\n",
       "      <td>21332.337663</td>\n",
       "    </tr>\n",
       "    <tr>\n",
       "      <th>2096</th>\n",
       "      <td>4.951236e+06</td>\n",
       "      <td>21715.950853</td>\n",
       "    </tr>\n",
       "    <tr>\n",
       "      <th>2241</th>\n",
       "      <td>4.951236e+06</td>\n",
       "      <td>21649.475122</td>\n",
       "    </tr>\n",
       "    <tr>\n",
       "      <th>2562</th>\n",
       "      <td>5.941484e+05</td>\n",
       "      <td>9140.757463</td>\n",
       "    </tr>\n",
       "    <tr>\n",
       "      <th>2927</th>\n",
       "      <td>3.013796e+06</td>\n",
       "      <td>19827.592325</td>\n",
       "    </tr>\n",
       "    <tr>\n",
       "      <th>2991</th>\n",
       "      <td>4.951236e+06</td>\n",
       "      <td>21341.551269</td>\n",
       "    </tr>\n",
       "    <tr>\n",
       "      <th>3364</th>\n",
       "      <td>4.305423e+06</td>\n",
       "      <td>19464.817383</td>\n",
       "    </tr>\n",
       "    <tr>\n",
       "      <th>8480</th>\n",
       "      <td>1.593007e+06</td>\n",
       "      <td>18964.355013</td>\n",
       "    </tr>\n",
       "  </tbody>\n",
       "</table>\n",
       "</div>"
      ]
     },
     "execution_count": 159,
     "metadata": {},
     "output_type": "execute_result"
    }
   ],
   "execution_count": 159
  },
  {
   "cell_type": "markdown",
   "metadata": {},
   "source": "### Usunięcie wierszy z przesunięciem danych w kolumnach"
  },
  {
   "cell_type": "code",
   "metadata": {
    "ExecuteTime": {
     "end_time": "2024-04-22T23:36:10.995707Z",
     "start_time": "2024-04-22T23:36:10.976651Z"
    }
   },
   "source": [
    "\n",
    "print(df_nieruchomosci['no of rooms'].str.contains('-', na=False).sum())\n",
    "df_nieruchomosci.drop(df_nieruchomosci[df_nieruchomosci['no of rooms'].str.contains('-', na=False)].index, inplace=True)\n"
   ],
   "outputs": [
    {
     "name": "stdout",
     "output_type": "stream",
     "text": [
      "18\n"
     ]
    }
   ],
   "execution_count": 160
  },
  {
   "cell_type": "code",
   "metadata": {
    "ExecuteTime": {
     "end_time": "2024-04-22T23:36:11.015501Z",
     "start_time": "2024-04-22T23:36:10.996705Z"
    }
   },
   "source": [
    "print(df_nieruchomosci['no of rooms'].str.contains(r'\\D', na=False).sum())\n",
    "df_nieruchomosci.drop(df_nieruchomosci[df_nieruchomosci['no of rooms'].str.contains(r'\\D', na=False)].index, inplace=True)\n"
   ],
   "outputs": [
    {
     "name": "stdout",
     "output_type": "stream",
     "text": [
      "57\n"
     ]
    }
   ],
   "execution_count": 161
  },
  {
   "metadata": {},
   "cell_type": "markdown",
   "source": "### Liczba pokoji, i pięter"
  },
  {
   "cell_type": "markdown",
   "metadata": {},
   "source": "#### Zamiana wartości w kolumnach na typ liczbowy"
  },
  {
   "cell_type": "code",
   "metadata": {
    "ExecuteTime": {
     "end_time": "2024-04-22T23:36:11.023105Z",
     "start_time": "2024-04-22T23:36:11.016464Z"
    }
   },
   "source": [
    "df_nieruchomosci['no of rooms'] = df_nieruchomosci['no of rooms'].astype(int)"
   ],
   "outputs": [],
   "execution_count": 162
  },
  {
   "cell_type": "code",
   "metadata": {
    "ExecuteTime": {
     "end_time": "2024-04-22T23:36:11.037542Z",
     "start_time": "2024-04-22T23:36:11.025096Z"
    }
   },
   "source": "df_nieruchomosci['area'] = df_nieruchomosci['area'].str.replace(' m²', '').str.replace(',', '.').astype(float)",
   "outputs": [],
   "execution_count": 163
  },
  {
   "cell_type": "code",
   "metadata": {
    "ExecuteTime": {
     "end_time": "2024-04-22T23:36:11.065910Z",
     "start_time": "2024-04-22T23:36:11.040546Z"
    }
   },
   "source": [
    "df_nieruchomosci[df_nieruchomosci['floor/store'].str.contains('parter')]"
   ],
   "outputs": [
    {
     "data": {
      "text/plain": [
       "                                                    url  \\\n",
       "4     https://krakow.nieruchomosci-online.pl/mieszka...   \n",
       "5     https://krakow.nieruchomosci-online.pl/mieszka...   \n",
       "9     https://krakow.nieruchomosci-online.pl/mieszka...   \n",
       "12    https://krakow.nieruchomosci-online.pl/mieszka...   \n",
       "18    https://krakow.nieruchomosci-online.pl/mieszka...   \n",
       "...                                                 ...   \n",
       "8712  https://krakow.nieruchomosci-online.pl/mieszka...   \n",
       "8726  https://krakow.nieruchomosci-online.pl/mieszka...   \n",
       "8730  https://krakow.nieruchomosci-online.pl/mieszka...   \n",
       "8731  https://krakow.nieruchomosci-online.pl/mieszka...   \n",
       "8750  https://krakow.nieruchomosci-online.pl/mieszka...   \n",
       "\n",
       "                         name/title  \\\n",
       "4          Mieszkanie, ul. Pustynna   \n",
       "5                 Apartament Kraków   \n",
       "9     Apartament, ul. Szablowskiego   \n",
       "12           Mieszkanie, ul. Ułanów   \n",
       "18          Mieszkanie, ul. Obozowa   \n",
       "...                             ...   \n",
       "8712   Mieszkanie, ul. Szymańskiego   \n",
       "8726        Mieszkanie, ul. Glogera   \n",
       "8730      Mieszkanie, ul. Kołłątaja   \n",
       "8731         Mieszkanie, ul. Sławka   \n",
       "8750               Kawalerka Kraków   \n",
       "\n",
       "                                                address      price   area  \\\n",
       "4                  Pustynna, Kliny, Kraków, małopolskie  1200000.0  71.06   \n",
       "5                   Wola Justowska, Kraków, małopolskie  1198680.0  71.35   \n",
       "9         Szablowskiego, Bronowice, Kraków, małopolskie   599000.0  40.00   \n",
       "12        Ułanów, Prądnik Czerwony, Kraków, małopolskie   790000.0  58.00   \n",
       "18                 Obozowa, Ruczaj, Kraków, małopolskie   689900.0  51.94   \n",
       "...                                                 ...        ...    ...   \n",
       "8712         Szymańskiego, Branice, Kraków, małopolskie   371400.0  30.95   \n",
       "8726        Glogera, Prądnik Biały, Kraków, małopolskie   800000.0  47.21   \n",
       "8730                     Kołłątaja, Kraków, małopolskie  1059000.0  60.57   \n",
       "8731  Sławka, Dzielnica XI Podgórze Duchackie, Krakó...   409999.0  31.00   \n",
       "8750                  Stare Miasto, Kraków, małopolskie   295000.0  15.00   \n",
       "\n",
       "      price-per-area floor/store  no of floors/stores in the building  \\\n",
       "4           16887.14      parter                                  1.0   \n",
       "5           16800.00      parter                                  2.0   \n",
       "9           14975.00      parter                                  3.0   \n",
       "12          13620.69      parter                                 10.0   \n",
       "18          13282.63      parter                                  7.0   \n",
       "...              ...         ...                                  ...   \n",
       "8712        12000.00      parter                                  4.0   \n",
       "8726        16945.56      parter                                  3.0   \n",
       "8730        17483.90      parter                                  4.0   \n",
       "8731        13225.77      parter                                  2.0   \n",
       "8750        19666.67      parter                                  2.0   \n",
       "\n",
       "      no of rooms year of construction                 parking space  \\\n",
       "4               3                 2013         garaż w bryle budynku   \n",
       "5               4                 2023         garaż w bryle budynku   \n",
       "9               2                 2001                           tak   \n",
       "12              3                 1962                             -   \n",
       "18              2                 2012          przynależne na ulicy   \n",
       "...           ...                  ...                           ...   \n",
       "8712            2                 2025                           tak   \n",
       "8726            3                 2021                           tak   \n",
       "8730            3                 1908          przynależne na ulicy   \n",
       "8731            2                 2024            garaż wolnostojący   \n",
       "8750            1                 1913  parking publiczny / na ulicy   \n",
       "\n",
       "                                                 market  \\\n",
       "4                                                wtórny   \n",
       "5     pierwotny (zobacz inne nowe mieszkania w Krako...   \n",
       "9                                                wtórny   \n",
       "12                                               wtórny   \n",
       "18                                               wtórny   \n",
       "...                                                 ...   \n",
       "8712  pierwotny (zobacz inne nowe mieszkania w Krako...   \n",
       "8726                                             wtórny   \n",
       "8730                                             wtórny   \n",
       "8731  pierwotny (zobacz inne nowe mieszkania w Krako...   \n",
       "8750                                             wtórny   \n",
       "\n",
       "               form of ownership  \n",
       "4     własność, księga wieczysta  \n",
       "5                       własność  \n",
       "9     własność, księga wieczysta  \n",
       "12    własność, księga wieczysta  \n",
       "18    własność, księga wieczysta  \n",
       "...                          ...  \n",
       "8712                         NaN  \n",
       "8726                         NaN  \n",
       "8730                    własność  \n",
       "8731                    własność  \n",
       "8750                         NaN  \n",
       "\n",
       "[1608 rows x 13 columns]"
      ],
      "text/html": [
       "<div>\n",
       "<style scoped>\n",
       "    .dataframe tbody tr th:only-of-type {\n",
       "        vertical-align: middle;\n",
       "    }\n",
       "\n",
       "    .dataframe tbody tr th {\n",
       "        vertical-align: top;\n",
       "    }\n",
       "\n",
       "    .dataframe thead th {\n",
       "        text-align: right;\n",
       "    }\n",
       "</style>\n",
       "<table border=\"1\" class=\"dataframe\">\n",
       "  <thead>\n",
       "    <tr style=\"text-align: right;\">\n",
       "      <th></th>\n",
       "      <th>url</th>\n",
       "      <th>name/title</th>\n",
       "      <th>address</th>\n",
       "      <th>price</th>\n",
       "      <th>area</th>\n",
       "      <th>price-per-area</th>\n",
       "      <th>floor/store</th>\n",
       "      <th>no of floors/stores in the building</th>\n",
       "      <th>no of rooms</th>\n",
       "      <th>year of construction</th>\n",
       "      <th>parking space</th>\n",
       "      <th>market</th>\n",
       "      <th>form of ownership</th>\n",
       "    </tr>\n",
       "  </thead>\n",
       "  <tbody>\n",
       "    <tr>\n",
       "      <th>4</th>\n",
       "      <td>https://krakow.nieruchomosci-online.pl/mieszka...</td>\n",
       "      <td>Mieszkanie, ul. Pustynna</td>\n",
       "      <td>Pustynna, Kliny, Kraków, małopolskie</td>\n",
       "      <td>1200000.0</td>\n",
       "      <td>71.06</td>\n",
       "      <td>16887.14</td>\n",
       "      <td>parter</td>\n",
       "      <td>1.0</td>\n",
       "      <td>3</td>\n",
       "      <td>2013</td>\n",
       "      <td>garaż w bryle budynku</td>\n",
       "      <td>wtórny</td>\n",
       "      <td>własność, księga wieczysta</td>\n",
       "    </tr>\n",
       "    <tr>\n",
       "      <th>5</th>\n",
       "      <td>https://krakow.nieruchomosci-online.pl/mieszka...</td>\n",
       "      <td>Apartament Kraków</td>\n",
       "      <td>Wola Justowska, Kraków, małopolskie</td>\n",
       "      <td>1198680.0</td>\n",
       "      <td>71.35</td>\n",
       "      <td>16800.00</td>\n",
       "      <td>parter</td>\n",
       "      <td>2.0</td>\n",
       "      <td>4</td>\n",
       "      <td>2023</td>\n",
       "      <td>garaż w bryle budynku</td>\n",
       "      <td>pierwotny (zobacz inne nowe mieszkania w Krako...</td>\n",
       "      <td>własność</td>\n",
       "    </tr>\n",
       "    <tr>\n",
       "      <th>9</th>\n",
       "      <td>https://krakow.nieruchomosci-online.pl/mieszka...</td>\n",
       "      <td>Apartament, ul. Szablowskiego</td>\n",
       "      <td>Szablowskiego, Bronowice, Kraków, małopolskie</td>\n",
       "      <td>599000.0</td>\n",
       "      <td>40.00</td>\n",
       "      <td>14975.00</td>\n",
       "      <td>parter</td>\n",
       "      <td>3.0</td>\n",
       "      <td>2</td>\n",
       "      <td>2001</td>\n",
       "      <td>tak</td>\n",
       "      <td>wtórny</td>\n",
       "      <td>własność, księga wieczysta</td>\n",
       "    </tr>\n",
       "    <tr>\n",
       "      <th>12</th>\n",
       "      <td>https://krakow.nieruchomosci-online.pl/mieszka...</td>\n",
       "      <td>Mieszkanie, ul. Ułanów</td>\n",
       "      <td>Ułanów, Prądnik Czerwony, Kraków, małopolskie</td>\n",
       "      <td>790000.0</td>\n",
       "      <td>58.00</td>\n",
       "      <td>13620.69</td>\n",
       "      <td>parter</td>\n",
       "      <td>10.0</td>\n",
       "      <td>3</td>\n",
       "      <td>1962</td>\n",
       "      <td>-</td>\n",
       "      <td>wtórny</td>\n",
       "      <td>własność, księga wieczysta</td>\n",
       "    </tr>\n",
       "    <tr>\n",
       "      <th>18</th>\n",
       "      <td>https://krakow.nieruchomosci-online.pl/mieszka...</td>\n",
       "      <td>Mieszkanie, ul. Obozowa</td>\n",
       "      <td>Obozowa, Ruczaj, Kraków, małopolskie</td>\n",
       "      <td>689900.0</td>\n",
       "      <td>51.94</td>\n",
       "      <td>13282.63</td>\n",
       "      <td>parter</td>\n",
       "      <td>7.0</td>\n",
       "      <td>2</td>\n",
       "      <td>2012</td>\n",
       "      <td>przynależne na ulicy</td>\n",
       "      <td>wtórny</td>\n",
       "      <td>własność, księga wieczysta</td>\n",
       "    </tr>\n",
       "    <tr>\n",
       "      <th>...</th>\n",
       "      <td>...</td>\n",
       "      <td>...</td>\n",
       "      <td>...</td>\n",
       "      <td>...</td>\n",
       "      <td>...</td>\n",
       "      <td>...</td>\n",
       "      <td>...</td>\n",
       "      <td>...</td>\n",
       "      <td>...</td>\n",
       "      <td>...</td>\n",
       "      <td>...</td>\n",
       "      <td>...</td>\n",
       "      <td>...</td>\n",
       "    </tr>\n",
       "    <tr>\n",
       "      <th>8712</th>\n",
       "      <td>https://krakow.nieruchomosci-online.pl/mieszka...</td>\n",
       "      <td>Mieszkanie, ul. Szymańskiego</td>\n",
       "      <td>Szymańskiego, Branice, Kraków, małopolskie</td>\n",
       "      <td>371400.0</td>\n",
       "      <td>30.95</td>\n",
       "      <td>12000.00</td>\n",
       "      <td>parter</td>\n",
       "      <td>4.0</td>\n",
       "      <td>2</td>\n",
       "      <td>2025</td>\n",
       "      <td>tak</td>\n",
       "      <td>pierwotny (zobacz inne nowe mieszkania w Krako...</td>\n",
       "      <td>NaN</td>\n",
       "    </tr>\n",
       "    <tr>\n",
       "      <th>8726</th>\n",
       "      <td>https://krakow.nieruchomosci-online.pl/mieszka...</td>\n",
       "      <td>Mieszkanie, ul. Glogera</td>\n",
       "      <td>Glogera, Prądnik Biały, Kraków, małopolskie</td>\n",
       "      <td>800000.0</td>\n",
       "      <td>47.21</td>\n",
       "      <td>16945.56</td>\n",
       "      <td>parter</td>\n",
       "      <td>3.0</td>\n",
       "      <td>3</td>\n",
       "      <td>2021</td>\n",
       "      <td>tak</td>\n",
       "      <td>wtórny</td>\n",
       "      <td>NaN</td>\n",
       "    </tr>\n",
       "    <tr>\n",
       "      <th>8730</th>\n",
       "      <td>https://krakow.nieruchomosci-online.pl/mieszka...</td>\n",
       "      <td>Mieszkanie, ul. Kołłątaja</td>\n",
       "      <td>Kołłątaja, Kraków, małopolskie</td>\n",
       "      <td>1059000.0</td>\n",
       "      <td>60.57</td>\n",
       "      <td>17483.90</td>\n",
       "      <td>parter</td>\n",
       "      <td>4.0</td>\n",
       "      <td>3</td>\n",
       "      <td>1908</td>\n",
       "      <td>przynależne na ulicy</td>\n",
       "      <td>wtórny</td>\n",
       "      <td>własność</td>\n",
       "    </tr>\n",
       "    <tr>\n",
       "      <th>8731</th>\n",
       "      <td>https://krakow.nieruchomosci-online.pl/mieszka...</td>\n",
       "      <td>Mieszkanie, ul. Sławka</td>\n",
       "      <td>Sławka, Dzielnica XI Podgórze Duchackie, Krakó...</td>\n",
       "      <td>409999.0</td>\n",
       "      <td>31.00</td>\n",
       "      <td>13225.77</td>\n",
       "      <td>parter</td>\n",
       "      <td>2.0</td>\n",
       "      <td>2</td>\n",
       "      <td>2024</td>\n",
       "      <td>garaż wolnostojący</td>\n",
       "      <td>pierwotny (zobacz inne nowe mieszkania w Krako...</td>\n",
       "      <td>własność</td>\n",
       "    </tr>\n",
       "    <tr>\n",
       "      <th>8750</th>\n",
       "      <td>https://krakow.nieruchomosci-online.pl/mieszka...</td>\n",
       "      <td>Kawalerka Kraków</td>\n",
       "      <td>Stare Miasto, Kraków, małopolskie</td>\n",
       "      <td>295000.0</td>\n",
       "      <td>15.00</td>\n",
       "      <td>19666.67</td>\n",
       "      <td>parter</td>\n",
       "      <td>2.0</td>\n",
       "      <td>1</td>\n",
       "      <td>1913</td>\n",
       "      <td>parking publiczny / na ulicy</td>\n",
       "      <td>wtórny</td>\n",
       "      <td>NaN</td>\n",
       "    </tr>\n",
       "  </tbody>\n",
       "</table>\n",
       "<p>1608 rows × 13 columns</p>\n",
       "</div>"
      ]
     },
     "execution_count": 164,
     "metadata": {},
     "output_type": "execute_result"
    }
   ],
   "execution_count": 164
  },
  {
   "cell_type": "code",
   "metadata": {
    "ExecuteTime": {
     "end_time": "2024-04-22T23:36:11.076909Z",
     "start_time": "2024-04-22T23:36:11.070876Z"
    }
   },
   "source": [
    "# Zamiana wartości \"parter\" na 0 w kolumnie \"floor/store\"\n",
    "df_nieruchomosci['floor/store'] = df_nieruchomosci['floor/store'].replace('parter', '0')"
   ],
   "outputs": [],
   "execution_count": 165
  },
  {
   "cell_type": "code",
   "metadata": {
    "ExecuteTime": {
     "end_time": "2024-04-22T23:36:11.124655Z",
     "start_time": "2024-04-22T23:36:11.077901Z"
    }
   },
   "source": [
    "# Zamiana wartości \"suterena\" na -1 w kolumnie \"floor/store\"\n",
    "df_nieruchomosci['floor/store'] = df_nieruchomosci['floor/store'].replace('suterena', '-1')"
   ],
   "outputs": [],
   "execution_count": 166
  },
  {
   "cell_type": "code",
   "metadata": {
    "ExecuteTime": {
     "end_time": "2024-04-22T23:36:11.149659Z",
     "start_time": "2024-04-22T23:36:11.127651Z"
    }
   },
   "source": [
    "# usunięcie wierszy, które w kolumnie 'floor/store' zawierają dane nieliczbowe\n",
    "print(df_nieruchomosci[~df_nieruchomosci['floor/store'].str.contains(r'\\d', na=False)].shape[0])\n",
    "df_nieruchomosci.drop(df_nieruchomosci[~df_nieruchomosci['floor/store'].str.contains(r'\\d')].index, inplace=True)"
   ],
   "outputs": [
    {
     "name": "stdout",
     "output_type": "stream",
     "text": [
      "94\n"
     ]
    }
   ],
   "execution_count": 167
  },
  {
   "cell_type": "code",
   "metadata": {
    "ExecuteTime": {
     "end_time": "2024-04-22T23:36:11.167651Z",
     "start_time": "2024-04-22T23:36:11.151654Z"
    }
   },
   "source": [
    "# przesunięte dane\n",
    "print(df_nieruchomosci[df_nieruchomosci['floor/store'].str.contains(r'[a-zA-Z]')].shape[0])\n",
    "df_nieruchomosci.drop(df_nieruchomosci[df_nieruchomosci['floor/store'].str.contains(r'[a-zA-Z]')].index, inplace=True)"
   ],
   "outputs": [
    {
     "name": "stdout",
     "output_type": "stream",
     "text": [
      "117\n"
     ]
    }
   ],
   "execution_count": 168
  },
  {
   "cell_type": "code",
   "metadata": {
    "ExecuteTime": {
     "end_time": "2024-04-22T23:36:11.176057Z",
     "start_time": "2024-04-22T23:36:11.169660Z"
    }
   },
   "source": "df_nieruchomosci['floor/store'] = df_nieruchomosci['floor/store'].astype(int)",
   "outputs": [],
   "execution_count": 169
  },
  {
   "metadata": {
    "ExecuteTime": {
     "end_time": "2024-04-22T23:36:11.189041Z",
     "start_time": "2024-04-22T23:36:11.178041Z"
    }
   },
   "cell_type": "code",
   "source": [
    "print(df_nieruchomosci[df_nieruchomosci['no of floors/stores in the building'].isna()].shape[0])\n",
    "df_nieruchomosci.dropna(subset=['no of floors/stores in the building'], inplace=True)\n",
    "df_nieruchomosci['no of floors/stores in the building'] = df_nieruchomosci['no of floors/stores in the building'].astype(int)"
   ],
   "outputs": [
    {
     "name": "stdout",
     "output_type": "stream",
     "text": [
      "177\n"
     ]
    }
   ],
   "execution_count": 170
  },
  {
   "metadata": {
    "ExecuteTime": {
     "end_time": "2024-04-22T23:39:37.933434Z",
     "start_time": "2024-04-22T23:39:37.923839Z"
    }
   },
   "cell_type": "code",
   "source": [
    "# Według wikipedii najwyższy mieszkalny budunek w Krk ma 19 pięter\n",
    "# https://pl.wikipedia.org/wiki/Lista_najwyższych_budynków_w_Krakowie\n",
    "print(df_nieruchomosci[df_nieruchomosci['no of floors/stores in the building'] > 19].shape[0])\n",
    "df_nieruchomosci.drop(df_nieruchomosci[df_nieruchomosci['no of floors/stores in the building'] > 19].index, inplace=True)"
   ],
   "outputs": [
    {
     "name": "stdout",
     "output_type": "stream",
     "text": [
      "1\n"
     ]
    }
   ],
   "execution_count": 184
  },
  {
   "metadata": {},
   "cell_type": "markdown",
   "source": "### Rok budowy"
  },
  {
   "metadata": {
    "ExecuteTime": {
     "end_time": "2024-04-22T23:36:11.240963Z",
     "start_time": "2024-04-22T23:36:11.191041Z"
    }
   },
   "cell_type": "code",
   "source": [
    "df_nieruchomosci['year of construction'] = pd.to_numeric(df_nieruchomosci['year of construction'], errors='coerce')\n",
    "\n",
    "missing_below_1200 = df_nieruchomosci[df_nieruchomosci['year of construction'] < 1250]\n",
    "missing_above_2026 = df_nieruchomosci[df_nieruchomosci['year of construction'] > 2026]\n",
    "pd.concat([missing_above_2026, missing_below_1200])"
   ],
   "outputs": [
    {
     "data": {
      "text/plain": [
       "                                                    url  \\\n",
       "7393  https://krakow.nieruchomosci-online.pl/mieszka...   \n",
       "2100  https://krakow.nieruchomosci-online.pl/mieszka...   \n",
       "\n",
       "                    name/title                                      address  \\\n",
       "7393   Mieszkanie, ul. Banacha  Banacha, Prądnik Biały, Kraków, małopolskie   \n",
       "2100  Mieszkanie, ul. Magnolii        Magnolii, Ruczaj, Kraków, małopolskie   \n",
       "\n",
       "         price   area  price-per-area  floor/store  \\\n",
       "7393  759000.0  49.47        15342.63            6   \n",
       "2100  790300.0  56.45        14000.00            3   \n",
       "\n",
       "      no of floors/stores in the building  no of rooms  year of construction  \\\n",
       "7393                                    8            3                2924.0   \n",
       "2100                                    3            3                1024.0   \n",
       "\n",
       "     parking space                                             market  \\\n",
       "7393           tak  pierwotny (zobacz inne nowe mieszkania w Krako...   \n",
       "2100         garaż  pierwotny (zobacz inne nowe mieszkania w Krako...   \n",
       "\n",
       "     form of ownership  \n",
       "7393          własność  \n",
       "2100               NaN  "
      ],
      "text/html": [
       "<div>\n",
       "<style scoped>\n",
       "    .dataframe tbody tr th:only-of-type {\n",
       "        vertical-align: middle;\n",
       "    }\n",
       "\n",
       "    .dataframe tbody tr th {\n",
       "        vertical-align: top;\n",
       "    }\n",
       "\n",
       "    .dataframe thead th {\n",
       "        text-align: right;\n",
       "    }\n",
       "</style>\n",
       "<table border=\"1\" class=\"dataframe\">\n",
       "  <thead>\n",
       "    <tr style=\"text-align: right;\">\n",
       "      <th></th>\n",
       "      <th>url</th>\n",
       "      <th>name/title</th>\n",
       "      <th>address</th>\n",
       "      <th>price</th>\n",
       "      <th>area</th>\n",
       "      <th>price-per-area</th>\n",
       "      <th>floor/store</th>\n",
       "      <th>no of floors/stores in the building</th>\n",
       "      <th>no of rooms</th>\n",
       "      <th>year of construction</th>\n",
       "      <th>parking space</th>\n",
       "      <th>market</th>\n",
       "      <th>form of ownership</th>\n",
       "    </tr>\n",
       "  </thead>\n",
       "  <tbody>\n",
       "    <tr>\n",
       "      <th>7393</th>\n",
       "      <td>https://krakow.nieruchomosci-online.pl/mieszka...</td>\n",
       "      <td>Mieszkanie, ul. Banacha</td>\n",
       "      <td>Banacha, Prądnik Biały, Kraków, małopolskie</td>\n",
       "      <td>759000.0</td>\n",
       "      <td>49.47</td>\n",
       "      <td>15342.63</td>\n",
       "      <td>6</td>\n",
       "      <td>8</td>\n",
       "      <td>3</td>\n",
       "      <td>2924.0</td>\n",
       "      <td>tak</td>\n",
       "      <td>pierwotny (zobacz inne nowe mieszkania w Krako...</td>\n",
       "      <td>własność</td>\n",
       "    </tr>\n",
       "    <tr>\n",
       "      <th>2100</th>\n",
       "      <td>https://krakow.nieruchomosci-online.pl/mieszka...</td>\n",
       "      <td>Mieszkanie, ul. Magnolii</td>\n",
       "      <td>Magnolii, Ruczaj, Kraków, małopolskie</td>\n",
       "      <td>790300.0</td>\n",
       "      <td>56.45</td>\n",
       "      <td>14000.00</td>\n",
       "      <td>3</td>\n",
       "      <td>3</td>\n",
       "      <td>3</td>\n",
       "      <td>1024.0</td>\n",
       "      <td>garaż</td>\n",
       "      <td>pierwotny (zobacz inne nowe mieszkania w Krako...</td>\n",
       "      <td>NaN</td>\n",
       "    </tr>\n",
       "  </tbody>\n",
       "</table>\n",
       "</div>"
      ]
     },
     "execution_count": 171,
     "metadata": {},
     "output_type": "execute_result"
    }
   ],
   "execution_count": 171
  },
  {
   "metadata": {
    "ExecuteTime": {
     "end_time": "2024-04-22T23:36:11.250918Z",
     "start_time": "2024-04-22T23:36:11.242960Z"
    }
   },
   "cell_type": "code",
   "source": [
    "# Poprawianie \"z placa\"\n",
    "df_nieruchomosci['year of construction'] = df_nieruchomosci['year of construction'].replace(2924.0, 2024)\n",
    "df_nieruchomosci['year of construction'] = df_nieruchomosci['year of construction'].replace(1024.0, 2024)"
   ],
   "outputs": [],
   "execution_count": 172
  },
  {
   "metadata": {
    "ExecuteTime": {
     "end_time": "2024-04-22T23:36:11.262966Z",
     "start_time": "2024-04-22T23:36:11.253914Z"
    }
   },
   "cell_type": "code",
   "source": "df_nieruchomosci['year of construction'].value_counts(dropna=False)",
   "outputs": [
    {
     "data": {
      "text/plain": [
       "year of construction\n",
       "2024.0    1417\n",
       "2023.0    1390\n",
       "NaN        717\n",
       "2025.0     660\n",
       "2022.0     383\n",
       "          ... \n",
       "1921.0       1\n",
       "1946.0       1\n",
       "1870.0       1\n",
       "1350.0       1\n",
       "1845.0       1\n",
       "Name: count, Length: 153, dtype: int64"
      ]
     },
     "execution_count": 173,
     "metadata": {},
     "output_type": "execute_result"
    }
   ],
   "execution_count": 173
  },
  {
   "metadata": {},
   "cell_type": "markdown",
   "source": "### Parking"
  },
  {
   "metadata": {
    "ExecuteTime": {
     "end_time": "2024-04-22T23:36:11.273683Z",
     "start_time": "2024-04-22T23:36:11.264962Z"
    }
   },
   "cell_type": "code",
   "source": "df_nieruchomosci['parking space'] = df_nieruchomosci['parking space'].replace('-', 'parking publiczny / na ulicy')",
   "outputs": [],
   "execution_count": 174
  },
  {
   "metadata": {
    "ExecuteTime": {
     "end_time": "2024-04-22T23:36:11.287681Z",
     "start_time": "2024-04-22T23:36:11.277683Z"
    }
   },
   "cell_type": "code",
   "source": "df_nieruchomosci['parking space'].unique()",
   "outputs": [
    {
     "data": {
      "text/plain": [
       "array(['tak', 'w garażu podziemnym', 'parking publiczny / na ulicy',\n",
       "       'garaż w bryle budynku', 'garaż', 'przynależne na ulicy',\n",
       "       'przynależne na terenie ogrodzonym', 'możliwość wykupienia',\n",
       "       'garaż wolnostojący', 'parking strzeżony w pobliżu',\n",
       "       'wiata garażowa'], dtype=object)"
      ]
     },
     "execution_count": 175,
     "metadata": {},
     "output_type": "execute_result"
    }
   ],
   "execution_count": 175
  },
  {
   "metadata": {
    "ExecuteTime": {
     "end_time": "2024-04-22T23:36:11.301121Z",
     "start_time": "2024-04-22T23:36:11.289682Z"
    }
   },
   "cell_type": "code",
   "source": "df_nieruchomosci['parking space'].value_counts(dropna=False)",
   "outputs": [
    {
     "data": {
      "text/plain": [
       "parking space\n",
       "parking publiczny / na ulicy         3152\n",
       "w garażu podziemnym                  1465\n",
       "tak                                  1044\n",
       "garaż                                 794\n",
       "przynależne na ulicy                  582\n",
       "garaż wolnostojący                    417\n",
       "przynależne na terenie ogrodzonym     224\n",
       "garaż w bryle budynku                 205\n",
       "parking strzeżony w pobliżu           173\n",
       "możliwość wykupienia                  113\n",
       "wiata garażowa                         25\n",
       "Name: count, dtype: int64"
      ]
     },
     "execution_count": 176,
     "metadata": {},
     "output_type": "execute_result"
    }
   ],
   "execution_count": 176
  },
  {
   "metadata": {
    "ExecuteTime": {
     "end_time": "2024-04-22T23:36:11.343231Z",
     "start_time": "2024-04-22T23:36:11.302118Z"
    }
   },
   "cell_type": "code",
   "source": [
    "# Skopiowanie danych do nowej kolumny (mogą się przydać do jakiegoś modelu) i konwersja na boolean dla spójności z otodom\n",
    "df_nieruchomosci['parking space details'] = df_nieruchomosci['parking space']\n",
    "false_values = ['parking publiczny / na ulicy', 'możliwość wykupienia', 'parking strzeżony w pobliżu']\n",
    "df_nieruchomosci['parking space'] = ~df_nieruchomosci['parking space'].isin(false_values)"
   ],
   "outputs": [],
   "execution_count": 177
  },
  {
   "metadata": {},
   "cell_type": "markdown",
   "source": "### Rynek"
  },
  {
   "metadata": {
    "ExecuteTime": {
     "end_time": "2024-04-22T23:36:11.356406Z",
     "start_time": "2024-04-22T23:36:11.345227Z"
    }
   },
   "cell_type": "code",
   "source": [
    "valid_values = ['wtórny', 'pierwotny (zobacz inne nowe mieszkania w Krakowie)']\n",
    "\n",
    "shifted_rows = ~df_nieruchomosci['market'].isin(valid_values) & df_nieruchomosci['market'].notna()\n",
    "\n",
    "df_nieruchomosci.drop(df_nieruchomosci[shifted_rows].index, inplace=True)"
   ],
   "outputs": [],
   "execution_count": 178
  },
  {
   "metadata": {
    "ExecuteTime": {
     "end_time": "2024-04-22T23:36:11.371756Z",
     "start_time": "2024-04-22T23:36:11.358407Z"
    }
   },
   "cell_type": "code",
   "source": [
    "df_nieruchomosci.loc[(df_nieruchomosci['market'].isna()) & (df_nieruchomosci['year of construction'] > 2022), 'market'] = 'pierwotny'\n",
    "df_nieruchomosci.loc[(df_nieruchomosci['market'].isna()) & (df_nieruchomosci['year of construction'] < 2023), 'market'] = 'wtórny'\n",
    "print(df_nieruchomosci['market'].isna().sum())\n",
    "df_nieruchomosci.dropna(subset=['market'], inplace=True)"
   ],
   "outputs": [
    {
     "name": "stdout",
     "output_type": "stream",
     "text": [
      "33\n"
     ]
    }
   ],
   "execution_count": 179
  },
  {
   "metadata": {},
   "cell_type": "markdown",
   "source": "### Forma własności"
  },
  {
   "metadata": {
    "ExecuteTime": {
     "end_time": "2024-04-22T23:36:11.383032Z",
     "start_time": "2024-04-22T23:36:11.372744Z"
    }
   },
   "cell_type": "code",
   "source": [
    "# Zgodnie z obowiązującym prawem 2007 r. nie ma możliwości ustanawiania spółdzielczego własnościowego prawa do lokalu\n",
    "df_nieruchomosci.loc[(df_nieruchomosci['form of ownership'].isna()) & (df_nieruchomosci['year of construction'] > 2006), 'form of ownership'] = 'własność'"
   ],
   "outputs": [],
   "execution_count": 180
  },
  {
   "metadata": {
    "ExecuteTime": {
     "end_time": "2024-04-22T23:37:01.119692Z",
     "start_time": "2024-04-22T23:37:01.104536Z"
    }
   },
   "cell_type": "code",
   "source": [
    "ownership_mapping = {\n",
    "    'własność': 'pełna własność',\n",
    "    'własność, księga wieczysta': 'pełna własność',\n",
    "    'spółdzielcze własnościowe, księga wieczysta': 'spółdzielcze wł. prawo do lokalu',\n",
    "    'spółdzielcze własnościowe': 'spółdzielcze wł. prawo do lokalu',\n",
    "    'udział w KW': 'udział',\n",
    "    'udział ze wskazaniem, KW na budynku': 'udział',\n",
    "    'księga wieczysta': 'pełna własność',\n",
    "    'inna': 'użytkowanie wieczyste / dzierżawa',\n",
    "    'udział': 'udział',\n",
    "    'inna, księga wieczysta': 'użytkowanie wieczyste / dzierżawa',\n",
    "    'Udział ze wskazaniem': 'udział',\n",
    "    'Udział': 'udział',\n",
    "    'udział, księga wieczysta': 'udział',\n",
    "    'udział ze wskazaniem': 'udział',\n",
    "    'Chce dopłacić': np.nan,\n",
    "    'tak': np.nan,\n",
    "    'udziały, księga wieczysta': 'udział',\n",
    "    'Oczekuje dopłaty': np.nan,\n",
    "    'KW budynek, udział ze wskazaniem': 'udział',\n",
    "    'Spółdzielcza wł. z KW': 'spółdzielcze wł. prawo do lokalu'\n",
    "}\n",
    "\n",
    "df_nieruchomosci['form of ownership'] = df_nieruchomosci['form of ownership'].replace(ownership_mapping)\n",
    "\n",
    "# df_nieruchomosci['form of ownership'].fillna('NaN', inplace=True)\n"
   ],
   "outputs": [],
   "execution_count": 181
  },
  {
   "metadata": {
    "ExecuteTime": {
     "end_time": "2024-04-22T23:37:35.627659Z",
     "start_time": "2024-04-22T23:37:35.620665Z"
    }
   },
   "cell_type": "code",
   "source": "df_nieruchomosci['form of ownership'].value_counts(dropna=False)",
   "outputs": [
    {
     "data": {
      "text/plain": [
       "form of ownership\n",
       "pełna własność                       6404\n",
       "NaN                                  1506\n",
       "spółdzielcze wł. prawo do lokalu      200\n",
       "użytkowanie wieczyste / dzierżawa      31\n",
       "udział                                 12\n",
       "Name: count, dtype: int64"
      ]
     },
     "execution_count": 183,
     "metadata": {},
     "output_type": "execute_result"
    }
   ],
   "execution_count": 183
  },
  {
   "metadata": {
    "ExecuteTime": {
     "end_time": "2024-04-22T23:42:13.401027Z",
     "start_time": "2024-04-22T23:42:13.391508Z"
    }
   },
   "cell_type": "code",
   "source": [
    "nan_row_count = df_nieruchomosci.isna().any(axis=1).sum()\n",
    "df_nieruchomosci.shape[0] - nan_row_count"
   ],
   "outputs": [
    {
     "data": {
      "text/plain": [
       "6489"
      ]
     },
     "execution_count": 187,
     "metadata": {},
     "output_type": "execute_result"
    }
   ],
   "execution_count": 187
  },
  {
   "cell_type": "code",
   "metadata": {
    "ExecuteTime": {
     "end_time": "2024-04-22T23:39:55.114089Z",
     "start_time": "2024-04-22T23:39:55.098663Z"
    }
   },
   "source": [
    "df_nieruchomosci.info()"
   ],
   "outputs": [
    {
     "name": "stdout",
     "output_type": "stream",
     "text": [
      "<class 'pandas.core.frame.DataFrame'>\n",
      "Index: 8152 entries, 0 to 8752\n",
      "Data columns (total 14 columns):\n",
      " #   Column                               Non-Null Count  Dtype  \n",
      "---  ------                               --------------  -----  \n",
      " 0   url                                  8152 non-null   object \n",
      " 1   name/title                           8152 non-null   object \n",
      " 2   address                              8152 non-null   object \n",
      " 3   price                                8152 non-null   float64\n",
      " 4   area                                 8152 non-null   float64\n",
      " 5   price-per-area                       8152 non-null   float64\n",
      " 6   floor/store                          8152 non-null   int32  \n",
      " 7   no of floors/stores in the building  8152 non-null   int32  \n",
      " 8   no of rooms                          8152 non-null   int32  \n",
      " 9   year of construction                 7469 non-null   float64\n",
      " 10  parking space                        8152 non-null   bool   \n",
      " 11  market                               8152 non-null   object \n",
      " 12  form of ownership                    6646 non-null   object \n",
      " 13  parking space details                8152 non-null   object \n",
      "dtypes: bool(1), float64(4), int32(3), object(6)\n",
      "memory usage: 804.1+ KB\n"
     ]
    }
   ],
   "execution_count": 185
  },
  {
   "cell_type": "code",
   "metadata": {
    "ExecuteTime": {
     "end_time": "2024-04-22T22:35:36.072267Z",
     "start_time": "2024-04-22T22:35:36.047296Z"
    }
   },
   "source": [
    "df_nieruchomosci.describe()"
   ],
   "outputs": [
    {
     "data": {
      "text/plain": [
       "              price         area  price-per-area  floor/store  \\\n",
       "count  8.194000e+03  8194.000000     8194.000000  8194.000000   \n",
       "mean   9.840526e+05    59.009789    16838.296094     2.393337   \n",
       "std    6.568436e+05    31.140413     4702.280025     2.191137   \n",
       "min    1.490000e+05    11.700000       19.140000    -1.000000   \n",
       "25%    6.659775e+05    40.952500    13995.032500     1.000000   \n",
       "50%    8.191800e+05    52.030000    16155.000000     2.000000   \n",
       "75%    1.079973e+06    67.090000    18840.910000     4.000000   \n",
       "max    1.600000e+07   627.000000    71018.210000    21.000000   \n",
       "\n",
       "       no of floors/stores in the building  no of rooms  \n",
       "count                          8194.000000  8194.000000  \n",
       "mean                              4.867342     2.653649  \n",
       "std                               2.479374     1.245671  \n",
       "min                               1.000000     1.000000  \n",
       "25%                               3.000000     2.000000  \n",
       "50%                               4.000000     3.000000  \n",
       "75%                               6.000000     3.000000  \n",
       "max                              45.000000    44.000000  "
      ],
      "text/html": [
       "<div>\n",
       "<style scoped>\n",
       "    .dataframe tbody tr th:only-of-type {\n",
       "        vertical-align: middle;\n",
       "    }\n",
       "\n",
       "    .dataframe tbody tr th {\n",
       "        vertical-align: top;\n",
       "    }\n",
       "\n",
       "    .dataframe thead th {\n",
       "        text-align: right;\n",
       "    }\n",
       "</style>\n",
       "<table border=\"1\" class=\"dataframe\">\n",
       "  <thead>\n",
       "    <tr style=\"text-align: right;\">\n",
       "      <th></th>\n",
       "      <th>price</th>\n",
       "      <th>area</th>\n",
       "      <th>price-per-area</th>\n",
       "      <th>floor/store</th>\n",
       "      <th>no of floors/stores in the building</th>\n",
       "      <th>no of rooms</th>\n",
       "    </tr>\n",
       "  </thead>\n",
       "  <tbody>\n",
       "    <tr>\n",
       "      <th>count</th>\n",
       "      <td>8.194000e+03</td>\n",
       "      <td>8194.000000</td>\n",
       "      <td>8194.000000</td>\n",
       "      <td>8194.000000</td>\n",
       "      <td>8194.000000</td>\n",
       "      <td>8194.000000</td>\n",
       "    </tr>\n",
       "    <tr>\n",
       "      <th>mean</th>\n",
       "      <td>9.840526e+05</td>\n",
       "      <td>59.009789</td>\n",
       "      <td>16838.296094</td>\n",
       "      <td>2.393337</td>\n",
       "      <td>4.867342</td>\n",
       "      <td>2.653649</td>\n",
       "    </tr>\n",
       "    <tr>\n",
       "      <th>std</th>\n",
       "      <td>6.568436e+05</td>\n",
       "      <td>31.140413</td>\n",
       "      <td>4702.280025</td>\n",
       "      <td>2.191137</td>\n",
       "      <td>2.479374</td>\n",
       "      <td>1.245671</td>\n",
       "    </tr>\n",
       "    <tr>\n",
       "      <th>min</th>\n",
       "      <td>1.490000e+05</td>\n",
       "      <td>11.700000</td>\n",
       "      <td>19.140000</td>\n",
       "      <td>-1.000000</td>\n",
       "      <td>1.000000</td>\n",
       "      <td>1.000000</td>\n",
       "    </tr>\n",
       "    <tr>\n",
       "      <th>25%</th>\n",
       "      <td>6.659775e+05</td>\n",
       "      <td>40.952500</td>\n",
       "      <td>13995.032500</td>\n",
       "      <td>1.000000</td>\n",
       "      <td>3.000000</td>\n",
       "      <td>2.000000</td>\n",
       "    </tr>\n",
       "    <tr>\n",
       "      <th>50%</th>\n",
       "      <td>8.191800e+05</td>\n",
       "      <td>52.030000</td>\n",
       "      <td>16155.000000</td>\n",
       "      <td>2.000000</td>\n",
       "      <td>4.000000</td>\n",
       "      <td>3.000000</td>\n",
       "    </tr>\n",
       "    <tr>\n",
       "      <th>75%</th>\n",
       "      <td>1.079973e+06</td>\n",
       "      <td>67.090000</td>\n",
       "      <td>18840.910000</td>\n",
       "      <td>4.000000</td>\n",
       "      <td>6.000000</td>\n",
       "      <td>3.000000</td>\n",
       "    </tr>\n",
       "    <tr>\n",
       "      <th>max</th>\n",
       "      <td>1.600000e+07</td>\n",
       "      <td>627.000000</td>\n",
       "      <td>71018.210000</td>\n",
       "      <td>21.000000</td>\n",
       "      <td>45.000000</td>\n",
       "      <td>44.000000</td>\n",
       "    </tr>\n",
       "  </tbody>\n",
       "</table>\n",
       "</div>"
      ]
     },
     "execution_count": 45,
     "metadata": {},
     "output_type": "execute_result"
    }
   ],
   "execution_count": 45
  },
  {
   "cell_type": "code",
   "metadata": {
    "collapsed": false,
    "ExecuteTime": {
     "end_time": "2024-04-21T12:05:34.165865Z",
     "start_time": "2024-04-21T12:05:34.156199Z"
    }
   },
   "source": [
    "df_nieruchomosci.isnull().sum()"
   ],
   "outputs": [
    {
     "data": {
      "text/plain": [
       "url                                       0\n",
       "name/title                                0\n",
       "address                                  59\n",
       "price                                     0\n",
       "area                                      0\n",
       "price-per-area                            0\n",
       "floor/store                               0\n",
       "no of floors/stores in the building     158\n",
       "no of rooms                               0\n",
       "year of construction                      0\n",
       "parking space                             0\n",
       "market                                   28\n",
       "form of ownership                      2450\n",
       "dtype: int64"
      ]
     },
     "execution_count": 111,
     "metadata": {},
     "output_type": "execute_result"
    }
   ],
   "execution_count": 111
  }
 ],
 "metadata": {
  "kernelspec": {
   "display_name": "conda-env",
   "language": "python",
   "name": "python3"
  },
  "language_info": {
   "codemirror_mode": {
    "name": "ipython",
    "version": 3
   },
   "file_extension": ".py",
   "mimetype": "text/x-python",
   "name": "python",
   "nbconvert_exporter": "python",
   "pygments_lexer": "ipython3",
   "version": "3.12.1"
  }
 },
 "nbformat": 4,
 "nbformat_minor": 2
}
