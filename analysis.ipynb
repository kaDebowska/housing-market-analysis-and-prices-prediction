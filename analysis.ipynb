{
 "cells": [
  {
   "cell_type": "markdown",
   "source": [
    "# TO-DO STEPS\n",
    "\n",
    "Data Scraping:\n",
    "\n",
    "\n",
    "## Data Processing (dla obu zbiorów danych)\n",
    "1. Ułożenie danych w kolumnach.\n",
    "2. Miejsca zerowe.\n",
    "3. Feature Engineering. (kolumna koordynaty geograficzne, \n",
    "\n",
    "\n",
    "## Data analysis. (+potencjalnie Streamlit)\n",
    "1. Prócz metrażu czynniki najbardziej wpływające na cenę.\n",
    "2. Analiza ceny do piętra\n",
    "3. Analiza odległości geograficznej od centrum\n",
    "4. Analiza parking/balon\n",
    "5. Analiza ceny/trendów w konkretnych dzielniach.\n",
    "\n",
    "\n",
    "# Jeśli model to.\n",
    "5. Onehotencoding.\n",
    "6. Train/Test\n",
    "7. Model.\n",
    "\n",
    "Bonus points:\n",
    "    wizualizacja geograficzna (streamlit - prettymap/mapbox)\n",
    "    stosunek ilości balkonów w mieszkaniu na dzielnice (balkon rate)\n",
    "    wpływ i częstotliwość '!' w nazwie oferty i ich zestawienie z ceną\n",
    "    "
   ],
   "metadata": {
    "collapsed": false
   }
  },
  {
   "cell_type": "code",
   "execution_count": 2,
   "metadata": {
    "ExecuteTime": {
     "end_time": "2024-03-12T12:27:11.831789400Z",
     "start_time": "2024-03-12T12:27:09.626835300Z"
    }
   },
   "outputs": [],
   "source": [
    "import pandas as pd\n",
    "import numpy as np\n",
    "import matplotlib.pyplot as plt "
   ]
  },
  {
   "cell_type": "code",
   "execution_count": 3,
   "metadata": {
    "ExecuteTime": {
     "end_time": "2024-03-12T12:27:11.877936900Z",
     "start_time": "2024-03-12T12:27:11.832807900Z"
    }
   },
   "outputs": [],
   "source": [
    "df_otodom = pd.read_csv('datasets/otodom_dataset_raw.csv')"
   ]
  },
  {
   "cell_type": "code",
   "execution_count": 4,
   "metadata": {
    "ExecuteTime": {
     "end_time": "2024-03-12T12:27:11.891823100Z",
     "start_time": "2024-03-12T12:27:11.877936900Z"
    }
   },
   "outputs": [
    {
     "name": "stdout",
     "output_type": "stream",
     "text": [
      "<class 'pandas.core.frame.DataFrame'>\n",
      "RangeIndex: 6820 entries, 0 to 6819\n",
      "Data columns (total 20 columns):\n",
      " #   Column                Non-Null Count  Dtype \n",
      "---  ------                --------------  ----- \n",
      " 0   url                   6820 non-null   object\n",
      " 1   name/title            6820 non-null   object\n",
      " 2   address               6820 non-null   object\n",
      " 3   price                 6820 non-null   object\n",
      " 4   area                  6820 non-null   object\n",
      " 5   price-per-area        6526 non-null   object\n",
      " 6   floor/store           6720 non-null   object\n",
      " 7   no of rooms           6820 non-null   object\n",
      " 8   year of construction  6154 non-null   object\n",
      " 9   parking space         4206 non-null   object\n",
      " 10  market                6154 non-null   object\n",
      " 11  form of ownership     4941 non-null   object\n",
      " 12  condition             5229 non-null   object\n",
      " 13  rent                  2846 non-null   object\n",
      " 14  heating               4913 non-null   object\n",
      " 15  advertiser type       6154 non-null   object\n",
      " 16  elevator              6154 non-null   object\n",
      " 17  outdoor area          5088 non-null   object\n",
      " 18  building type         6154 non-null   object\n",
      " 19  building material     6154 non-null   object\n",
      "dtypes: object(20)\n",
      "memory usage: 1.0+ MB\n"
     ]
    }
   ],
   "source": [
    "df_otodom.info()"
   ]
  },
  {
   "cell_type": "code",
   "execution_count": 5,
   "metadata": {
    "ExecuteTime": {
     "end_time": "2024-03-12T12:27:11.950921Z",
     "start_time": "2024-03-12T12:27:11.895105400Z"
    }
   },
   "outputs": [
    {
     "data": {
      "text/plain": "             price\n13    1 100 000 zł\n14  Zapytaj o cenę\n15      835 000 zł\n16      925 443 zł\n17    1 027 752 zł\n18  Zapytaj o cenę\n19      630 000 zł\n20    1 080 000 zł\n21      731 157 zł\n22    1 500 000 zł\n23    3 790 000 zł\n24      768 000 zł\n25    1 550 000 zł\n26      620 605 zł\n27    1 348 885 zł\n28    1 870 000 zł\n29    1 149 000 zł",
      "text/html": "<div>\n<style scoped>\n    .dataframe tbody tr th:only-of-type {\n        vertical-align: middle;\n    }\n\n    .dataframe tbody tr th {\n        vertical-align: top;\n    }\n\n    .dataframe thead th {\n        text-align: right;\n    }\n</style>\n<table border=\"1\" class=\"dataframe\">\n  <thead>\n    <tr style=\"text-align: right;\">\n      <th></th>\n      <th>price</th>\n    </tr>\n  </thead>\n  <tbody>\n    <tr>\n      <th>13</th>\n      <td>1 100 000 zł</td>\n    </tr>\n    <tr>\n      <th>14</th>\n      <td>Zapytaj o cenę</td>\n    </tr>\n    <tr>\n      <th>15</th>\n      <td>835 000 zł</td>\n    </tr>\n    <tr>\n      <th>16</th>\n      <td>925 443 zł</td>\n    </tr>\n    <tr>\n      <th>17</th>\n      <td>1 027 752 zł</td>\n    </tr>\n    <tr>\n      <th>18</th>\n      <td>Zapytaj o cenę</td>\n    </tr>\n    <tr>\n      <th>19</th>\n      <td>630 000 zł</td>\n    </tr>\n    <tr>\n      <th>20</th>\n      <td>1 080 000 zł</td>\n    </tr>\n    <tr>\n      <th>21</th>\n      <td>731 157 zł</td>\n    </tr>\n    <tr>\n      <th>22</th>\n      <td>1 500 000 zł</td>\n    </tr>\n    <tr>\n      <th>23</th>\n      <td>3 790 000 zł</td>\n    </tr>\n    <tr>\n      <th>24</th>\n      <td>768 000 zł</td>\n    </tr>\n    <tr>\n      <th>25</th>\n      <td>1 550 000 zł</td>\n    </tr>\n    <tr>\n      <th>26</th>\n      <td>620 605 zł</td>\n    </tr>\n    <tr>\n      <th>27</th>\n      <td>1 348 885 zł</td>\n    </tr>\n    <tr>\n      <th>28</th>\n      <td>1 870 000 zł</td>\n    </tr>\n    <tr>\n      <th>29</th>\n      <td>1 149 000 zł</td>\n    </tr>\n  </tbody>\n</table>\n</div>"
     },
     "execution_count": 5,
     "metadata": {},
     "output_type": "execute_result"
    }
   ],
   "source": [
    "df_otodom.iloc[13:30, 3:4]"
   ]
  },
  {
   "cell_type": "code",
   "execution_count": 6,
   "metadata": {
    "ExecuteTime": {
     "end_time": "2024-03-12T12:27:11.953726300Z",
     "start_time": "2024-03-12T12:27:11.910297400Z"
    }
   },
   "outputs": [
    {
     "data": {
      "text/plain": "                                                 url  \\\n0  https://www.otodom.pl/pl/oferta/gotowe-2-pokoj...   \n1  https://www.otodom.pl/pl/oferta/4-pok-mieszkan...   \n2  https://www.otodom.pl/pl/oferta/3-pokoje-w-rza...   \n3  https://www.otodom.pl/pl/oferta/mieszkanie-ide...   \n4  https://www.otodom.pl/pl/oferta/ul-lasowka-3-p...   \n\n                                          name/title  \\\n0          Gotowe| 2 pokoje| blisko centrum| Bonarka   \n1  4-pok.mieszkanie z Sauną - Wysoki Standard ! 2...   \n2            3 pokoje w rządowym programie kredyt 2%   \n3           Mieszkanie idealne na start, 3 - pokoje!   \n4          ul. Lasówka, 3 pokoje, 65m2 + taras 20m2!   \n\n                                             address         price      area  \\\n0  Wola Duchacka, Podgórze Duchackie, Kraków, mał...    719 000 zł  55,98 m²   \n1  Biskupa Albina Małysiaka, Kobierzyn, Dębniki, ...  1 350 000 zł     87 m²   \n2   Bieżanów, Bieżanów-Prokocim, Kraków, małopolskie    599 000 zł   47,1 m²   \n3  ul. Erazma Jerzmanowskiego, Prokocim, Bieżanów...    833 500 zł  66,69 m²   \n4  ul. Lasówka, Płaszów, Podgórze, Kraków, małopo...    949 000 zł  65,81 m²   \n\n  price-per-area floor/store no of rooms year of construction  \\\n0   12 844 zł/m²    parter/8           3                 2022   \n1   15 517 zł/m²         2/4           4                 2021   \n2   12 718 zł/m²         1/4           3                 2023   \n3   12 498 zł/m²         3/8           3                 2024   \n4   14 420 zł/m²         7/7           3                 2023   \n\n              parking space     market form of ownership       condition  \\\n0                       NaN  pierwotny               NaN  do wykończenia   \n1  garaż/miejsce parkingowe     wtórny    pełna własność             NaN   \n2  garaż/miejsce parkingowe  pierwotny    pełna własność  do wykończenia   \n3  garaż/miejsce parkingowe  pierwotny               NaN             NaN   \n4                       NaN     wtórny               NaN             NaN   \n\n     rent   heating      advertiser type elevator outdoor area  \\\n0     NaN  miejskie  biuro nieruchomości      tak      ogródek   \n1  900 zł  miejskie  biuro nieruchomości      tak       balkon   \n2     NaN  miejskie  biuro nieruchomości      tak       balkon   \n3     NaN  miejskie  biuro nieruchomości      tak       balkon   \n4     NaN       NaN  biuro nieruchomości      nie          NaN   \n\n     building type building material  \n0  apartamentowiec   brak informacji  \n1  brak informacji             cegła  \n2             blok   brak informacji  \n3  apartamentowiec   brak informacji  \n4  brak informacji   brak informacji  ",
      "text/html": "<div>\n<style scoped>\n    .dataframe tbody tr th:only-of-type {\n        vertical-align: middle;\n    }\n\n    .dataframe tbody tr th {\n        vertical-align: top;\n    }\n\n    .dataframe thead th {\n        text-align: right;\n    }\n</style>\n<table border=\"1\" class=\"dataframe\">\n  <thead>\n    <tr style=\"text-align: right;\">\n      <th></th>\n      <th>url</th>\n      <th>name/title</th>\n      <th>address</th>\n      <th>price</th>\n      <th>area</th>\n      <th>price-per-area</th>\n      <th>floor/store</th>\n      <th>no of rooms</th>\n      <th>year of construction</th>\n      <th>parking space</th>\n      <th>market</th>\n      <th>form of ownership</th>\n      <th>condition</th>\n      <th>rent</th>\n      <th>heating</th>\n      <th>advertiser type</th>\n      <th>elevator</th>\n      <th>outdoor area</th>\n      <th>building type</th>\n      <th>building material</th>\n    </tr>\n  </thead>\n  <tbody>\n    <tr>\n      <th>0</th>\n      <td>https://www.otodom.pl/pl/oferta/gotowe-2-pokoj...</td>\n      <td>Gotowe| 2 pokoje| blisko centrum| Bonarka</td>\n      <td>Wola Duchacka, Podgórze Duchackie, Kraków, mał...</td>\n      <td>719 000 zł</td>\n      <td>55,98 m²</td>\n      <td>12 844 zł/m²</td>\n      <td>parter/8</td>\n      <td>3</td>\n      <td>2022</td>\n      <td>NaN</td>\n      <td>pierwotny</td>\n      <td>NaN</td>\n      <td>do wykończenia</td>\n      <td>NaN</td>\n      <td>miejskie</td>\n      <td>biuro nieruchomości</td>\n      <td>tak</td>\n      <td>ogródek</td>\n      <td>apartamentowiec</td>\n      <td>brak informacji</td>\n    </tr>\n    <tr>\n      <th>1</th>\n      <td>https://www.otodom.pl/pl/oferta/4-pok-mieszkan...</td>\n      <td>4-pok.mieszkanie z Sauną - Wysoki Standard ! 2...</td>\n      <td>Biskupa Albina Małysiaka, Kobierzyn, Dębniki, ...</td>\n      <td>1 350 000 zł</td>\n      <td>87 m²</td>\n      <td>15 517 zł/m²</td>\n      <td>2/4</td>\n      <td>4</td>\n      <td>2021</td>\n      <td>garaż/miejsce parkingowe</td>\n      <td>wtórny</td>\n      <td>pełna własność</td>\n      <td>NaN</td>\n      <td>900 zł</td>\n      <td>miejskie</td>\n      <td>biuro nieruchomości</td>\n      <td>tak</td>\n      <td>balkon</td>\n      <td>brak informacji</td>\n      <td>cegła</td>\n    </tr>\n    <tr>\n      <th>2</th>\n      <td>https://www.otodom.pl/pl/oferta/3-pokoje-w-rza...</td>\n      <td>3 pokoje w rządowym programie kredyt 2%</td>\n      <td>Bieżanów, Bieżanów-Prokocim, Kraków, małopolskie</td>\n      <td>599 000 zł</td>\n      <td>47,1 m²</td>\n      <td>12 718 zł/m²</td>\n      <td>1/4</td>\n      <td>3</td>\n      <td>2023</td>\n      <td>garaż/miejsce parkingowe</td>\n      <td>pierwotny</td>\n      <td>pełna własność</td>\n      <td>do wykończenia</td>\n      <td>NaN</td>\n      <td>miejskie</td>\n      <td>biuro nieruchomości</td>\n      <td>tak</td>\n      <td>balkon</td>\n      <td>blok</td>\n      <td>brak informacji</td>\n    </tr>\n    <tr>\n      <th>3</th>\n      <td>https://www.otodom.pl/pl/oferta/mieszkanie-ide...</td>\n      <td>Mieszkanie idealne na start, 3 - pokoje!</td>\n      <td>ul. Erazma Jerzmanowskiego, Prokocim, Bieżanów...</td>\n      <td>833 500 zł</td>\n      <td>66,69 m²</td>\n      <td>12 498 zł/m²</td>\n      <td>3/8</td>\n      <td>3</td>\n      <td>2024</td>\n      <td>garaż/miejsce parkingowe</td>\n      <td>pierwotny</td>\n      <td>NaN</td>\n      <td>NaN</td>\n      <td>NaN</td>\n      <td>miejskie</td>\n      <td>biuro nieruchomości</td>\n      <td>tak</td>\n      <td>balkon</td>\n      <td>apartamentowiec</td>\n      <td>brak informacji</td>\n    </tr>\n    <tr>\n      <th>4</th>\n      <td>https://www.otodom.pl/pl/oferta/ul-lasowka-3-p...</td>\n      <td>ul. Lasówka, 3 pokoje, 65m2 + taras 20m2!</td>\n      <td>ul. Lasówka, Płaszów, Podgórze, Kraków, małopo...</td>\n      <td>949 000 zł</td>\n      <td>65,81 m²</td>\n      <td>14 420 zł/m²</td>\n      <td>7/7</td>\n      <td>3</td>\n      <td>2023</td>\n      <td>NaN</td>\n      <td>wtórny</td>\n      <td>NaN</td>\n      <td>NaN</td>\n      <td>NaN</td>\n      <td>NaN</td>\n      <td>biuro nieruchomości</td>\n      <td>nie</td>\n      <td>NaN</td>\n      <td>brak informacji</td>\n      <td>brak informacji</td>\n    </tr>\n  </tbody>\n</table>\n</div>"
     },
     "execution_count": 6,
     "metadata": {},
     "output_type": "execute_result"
    }
   ],
   "source": [
    "df_otodom.head()"
   ]
  },
  {
   "cell_type": "code",
   "execution_count": 7,
   "metadata": {
    "ExecuteTime": {
     "end_time": "2024-03-12T12:27:12.004059100Z",
     "start_time": "2024-03-12T12:27:11.920839100Z"
    }
   },
   "outputs": [
    {
     "data": {
      "text/plain": "                                                      url  \\\ncount                                                6820   \nunique                                               6820   \ntop     https://www.otodom.pl/pl/oferta/gotowe-2-pokoj...   \nfreq                                                    1   \n\n                                              name/title  \\\ncount                                               6820   \nunique                                              6177   \ntop     Limitowane Okazje na Dzień Otwarty! Bezpośrednio   \nfreq                                                  26   \n\n                                              address           price  \\\ncount                                            6820            6820   \nunique                                           1161            2351   \ntop     Stare Podgórze, Podgórze, Kraków, małopolskie  Zapytaj o cenę   \nfreq                                              278             294   \n\n            area price-per-area floor/store no of rooms year of construction  \\\ncount       6820           6526        6720        6820                 6154   \nunique      2344           3235         126          11                  147   \ntop     38,17 m²   12 500 zł/m²         3/4           2                 2023   \nfreq          62             69         382        2448                 1075   \n\n                   parking space  market form of ownership       condition  \\\ncount                       4206    6154              4941            5229   \nunique                         1       2                 4               3   \ntop     garaż/miejsce parkingowe  wtórny    pełna własność  do wykończenia   \nfreq                        4206    3719              4770            2708   \n\n          rent   heating      advertiser type elevator outdoor area  \\\ncount     2846      4913                 6154     6154         5088   \nunique     351         5                    3        2           10   \ntop     500 zł  miejskie  biuro nieruchomości      tak       balkon   \nfreq       281      3776                 5454     3328         3682   \n\n       building type building material  \ncount           6154              6154  \nunique             8                10  \ntop             blok   brak informacji  \nfreq            2711              3447  ",
      "text/html": "<div>\n<style scoped>\n    .dataframe tbody tr th:only-of-type {\n        vertical-align: middle;\n    }\n\n    .dataframe tbody tr th {\n        vertical-align: top;\n    }\n\n    .dataframe thead th {\n        text-align: right;\n    }\n</style>\n<table border=\"1\" class=\"dataframe\">\n  <thead>\n    <tr style=\"text-align: right;\">\n      <th></th>\n      <th>url</th>\n      <th>name/title</th>\n      <th>address</th>\n      <th>price</th>\n      <th>area</th>\n      <th>price-per-area</th>\n      <th>floor/store</th>\n      <th>no of rooms</th>\n      <th>year of construction</th>\n      <th>parking space</th>\n      <th>market</th>\n      <th>form of ownership</th>\n      <th>condition</th>\n      <th>rent</th>\n      <th>heating</th>\n      <th>advertiser type</th>\n      <th>elevator</th>\n      <th>outdoor area</th>\n      <th>building type</th>\n      <th>building material</th>\n    </tr>\n  </thead>\n  <tbody>\n    <tr>\n      <th>count</th>\n      <td>6820</td>\n      <td>6820</td>\n      <td>6820</td>\n      <td>6820</td>\n      <td>6820</td>\n      <td>6526</td>\n      <td>6720</td>\n      <td>6820</td>\n      <td>6154</td>\n      <td>4206</td>\n      <td>6154</td>\n      <td>4941</td>\n      <td>5229</td>\n      <td>2846</td>\n      <td>4913</td>\n      <td>6154</td>\n      <td>6154</td>\n      <td>5088</td>\n      <td>6154</td>\n      <td>6154</td>\n    </tr>\n    <tr>\n      <th>unique</th>\n      <td>6820</td>\n      <td>6177</td>\n      <td>1161</td>\n      <td>2351</td>\n      <td>2344</td>\n      <td>3235</td>\n      <td>126</td>\n      <td>11</td>\n      <td>147</td>\n      <td>1</td>\n      <td>2</td>\n      <td>4</td>\n      <td>3</td>\n      <td>351</td>\n      <td>5</td>\n      <td>3</td>\n      <td>2</td>\n      <td>10</td>\n      <td>8</td>\n      <td>10</td>\n    </tr>\n    <tr>\n      <th>top</th>\n      <td>https://www.otodom.pl/pl/oferta/gotowe-2-pokoj...</td>\n      <td>Limitowane Okazje na Dzień Otwarty! Bezpośrednio</td>\n      <td>Stare Podgórze, Podgórze, Kraków, małopolskie</td>\n      <td>Zapytaj o cenę</td>\n      <td>38,17 m²</td>\n      <td>12 500 zł/m²</td>\n      <td>3/4</td>\n      <td>2</td>\n      <td>2023</td>\n      <td>garaż/miejsce parkingowe</td>\n      <td>wtórny</td>\n      <td>pełna własność</td>\n      <td>do wykończenia</td>\n      <td>500 zł</td>\n      <td>miejskie</td>\n      <td>biuro nieruchomości</td>\n      <td>tak</td>\n      <td>balkon</td>\n      <td>blok</td>\n      <td>brak informacji</td>\n    </tr>\n    <tr>\n      <th>freq</th>\n      <td>1</td>\n      <td>26</td>\n      <td>278</td>\n      <td>294</td>\n      <td>62</td>\n      <td>69</td>\n      <td>382</td>\n      <td>2448</td>\n      <td>1075</td>\n      <td>4206</td>\n      <td>3719</td>\n      <td>4770</td>\n      <td>2708</td>\n      <td>281</td>\n      <td>3776</td>\n      <td>5454</td>\n      <td>3328</td>\n      <td>3682</td>\n      <td>2711</td>\n      <td>3447</td>\n    </tr>\n  </tbody>\n</table>\n</div>"
     },
     "execution_count": 7,
     "metadata": {},
     "output_type": "execute_result"
    }
   ],
   "source": [
    "df_otodom.describe()"
   ]
  },
  {
   "cell_type": "code",
   "execution_count": 8,
   "metadata": {
    "ExecuteTime": {
     "end_time": "2024-03-12T12:27:12.030990800Z",
     "start_time": "2024-03-12T12:27:11.955814300Z"
    }
   },
   "outputs": [
    {
     "data": {
      "text/plain": "url                     7\nname/title              7\naddress                 7\nprice                   7\narea                    7\nprice-per-area          7\nfloor/store             7\nno of rooms             7\nyear of construction    7\nparking space           2\nmarket                  7\nform of ownership       6\ncondition               6\nrent                    4\nheating                 5\nadvertiser type         7\nelevator                7\noutdoor area            5\nbuilding type           7\nbuilding material       7\ndtype: int64"
     },
     "execution_count": 8,
     "metadata": {},
     "output_type": "execute_result"
    }
   ],
   "source": [
    "#7 wierszy ma cenę w EUR\n",
    "df_otodom[df_otodom['price'].str.contains(r'\\d', na=False) & ~df_otodom['price'].str.contains('zł', na=False)].count()"
   ]
  },
  {
   "cell_type": "code",
   "execution_count": 9,
   "metadata": {
    "ExecuteTime": {
     "end_time": "2024-03-12T12:27:12.053147400Z",
     "start_time": "2024-03-12T12:27:11.966872500Z"
    }
   },
   "outputs": [
    {
     "name": "stderr",
     "output_type": "stream",
     "text": [
      "<>:2: SyntaxWarning: invalid escape sequence '\\d'\n",
      "<>:2: SyntaxWarning: invalid escape sequence '\\d'\n",
      "C:\\Users\\ksobc\\AppData\\Local\\Temp\\ipykernel_18712\\4190495007.py:2: SyntaxWarning: invalid escape sequence '\\d'\n",
      "  df_otodom['price'] = df_otodom['price'].str.extract('(\\d+)').astype(float)\n"
     ]
    }
   ],
   "source": [
    "df_otodom['price'] = df_otodom['price'].str.replace(' ', '')\n",
    "df_otodom['price'] = df_otodom['price'].str.extract('(\\d+)').astype(float)"
   ]
  },
  {
   "cell_type": "code",
   "execution_count": 10,
   "metadata": {
    "ExecuteTime": {
     "end_time": "2024-03-12T12:27:12.075387100Z",
     "start_time": "2024-03-12T12:27:11.979948600Z"
    }
   },
   "outputs": [],
   "source": [
    "df_otodom['area'] = df_otodom['area'].str.replace(' m²', '')\n",
    "df_otodom['area'] = df_otodom['area'].str.replace(',', '.').astype(float)"
   ]
  },
  {
   "cell_type": "code",
   "execution_count": 11,
   "metadata": {
    "ExecuteTime": {
     "end_time": "2024-03-12T12:27:12.125548300Z",
     "start_time": "2024-03-12T12:27:11.990694600Z"
    }
   },
   "outputs": [
    {
     "data": {
      "text/plain": "Empty DataFrame\nColumns: [url, name/title, address, price, area, price-per-area, floor/store, no of rooms, year of construction, parking space, market, form of ownership, condition, rent, heating, advertiser type, elevator, outdoor area, building type, building material]\nIndex: []",
      "text/html": "<div>\n<style scoped>\n    .dataframe tbody tr th:only-of-type {\n        vertical-align: middle;\n    }\n\n    .dataframe tbody tr th {\n        vertical-align: top;\n    }\n\n    .dataframe thead th {\n        text-align: right;\n    }\n</style>\n<table border=\"1\" class=\"dataframe\">\n  <thead>\n    <tr style=\"text-align: right;\">\n      <th></th>\n      <th>url</th>\n      <th>name/title</th>\n      <th>address</th>\n      <th>price</th>\n      <th>area</th>\n      <th>price-per-area</th>\n      <th>floor/store</th>\n      <th>no of rooms</th>\n      <th>year of construction</th>\n      <th>parking space</th>\n      <th>market</th>\n      <th>form of ownership</th>\n      <th>condition</th>\n      <th>rent</th>\n      <th>heating</th>\n      <th>advertiser type</th>\n      <th>elevator</th>\n      <th>outdoor area</th>\n      <th>building type</th>\n      <th>building material</th>\n    </tr>\n  </thead>\n  <tbody>\n  </tbody>\n</table>\n</div>"
     },
     "execution_count": 11,
     "metadata": {},
     "output_type": "execute_result"
    }
   ],
   "source": [
    "df_otodom[df_otodom['price-per-area'].str.contains(r'\\d', na=False) & ~df_otodom['price-per-area'].str.contains('zł', na=False)]"
   ]
  },
  {
   "cell_type": "code",
   "execution_count": 12,
   "metadata": {
    "ExecuteTime": {
     "end_time": "2024-03-12T12:27:12.127788400Z",
     "start_time": "2024-03-12T12:27:12.002949700Z"
    }
   },
   "outputs": [],
   "source": [
    "df_otodom['price-per-area'] = df_otodom['price-per-area'].str.replace(' zł/m²', '').str.replace(' ', '')\n",
    "df_otodom['price-per-area'] = df_otodom['price-per-area'].astype(float)"
   ]
  },
  {
   "cell_type": "code",
   "execution_count": 13,
   "metadata": {
    "ExecuteTime": {
     "end_time": "2024-03-12T12:27:12.129855500Z",
     "start_time": "2024-03-12T12:27:12.014467Z"
    }
   },
   "outputs": [
    {
     "data": {
      "text/plain": "                                                    url  \\\n3977  https://www.otodom.pl/pl/oferta/chorwacja-spli...   \n4908  https://www.otodom.pl/pl/oferta/penthouse-w-od...   \n6335  https://www.otodom.pl/pl/oferta/2m-wysoki-stan...   \n\n                                             name/title  \\\n3977               Chorwacja Split luksusowy apartament   \n4908  Penthouse w odrestaurowanej kamienicy - taras ...   \n6335       2M! Wysoki Standard| Gotowe| Balkon | Widok!   \n\n                                                address      price    area  \\\n3977          Krowodrza, Krowodrza, Kraków, małopolskie   585280.0   91.45   \n4908  ul. marsz. Józefa Piłsudskiego, Piasek, Stare ...  1150000.0  228.00   \n6335  Wola Duchacka, Podgórze Duchackie, Kraków, mał...   620000.0   35.55   \n\n      price-per-area floor/store no of rooms year of construction  \\\n3977         27535.0         3/4           4                 2025   \n4908         21700.0         4/5           5                 1906   \n6335         17440.0        7/11           2                 2019   \n\n                 parking space     market form of ownership        condition  \\\n3977  garaż/miejsce parkingowe  pierwotny    pełna własność  do zamieszkania   \n4908                       NaN     wtórny    pełna własność  do zamieszkania   \n6335                       NaN     wtórny    pełna własność  do zamieszkania   \n\n         rent      heating      advertiser type elevator   outdoor area  \\\n3977  100 EUR  elektryczne             prywatny      tak  balkon, taras   \n4908  220 EUR       gazowe  biuro nieruchomości      tak  balkon, taras   \n6335  420 GBP     miejskie  biuro nieruchomości      tak         balkon   \n\n        building type building material  \n3977  apartamentowiec           silikat  \n4908        kamienica             cegła  \n6335             blok   brak informacji  ",
      "text/html": "<div>\n<style scoped>\n    .dataframe tbody tr th:only-of-type {\n        vertical-align: middle;\n    }\n\n    .dataframe tbody tr th {\n        vertical-align: top;\n    }\n\n    .dataframe thead th {\n        text-align: right;\n    }\n</style>\n<table border=\"1\" class=\"dataframe\">\n  <thead>\n    <tr style=\"text-align: right;\">\n      <th></th>\n      <th>url</th>\n      <th>name/title</th>\n      <th>address</th>\n      <th>price</th>\n      <th>area</th>\n      <th>price-per-area</th>\n      <th>floor/store</th>\n      <th>no of rooms</th>\n      <th>year of construction</th>\n      <th>parking space</th>\n      <th>market</th>\n      <th>form of ownership</th>\n      <th>condition</th>\n      <th>rent</th>\n      <th>heating</th>\n      <th>advertiser type</th>\n      <th>elevator</th>\n      <th>outdoor area</th>\n      <th>building type</th>\n      <th>building material</th>\n    </tr>\n  </thead>\n  <tbody>\n    <tr>\n      <th>3977</th>\n      <td>https://www.otodom.pl/pl/oferta/chorwacja-spli...</td>\n      <td>Chorwacja Split luksusowy apartament</td>\n      <td>Krowodrza, Krowodrza, Kraków, małopolskie</td>\n      <td>585280.0</td>\n      <td>91.45</td>\n      <td>27535.0</td>\n      <td>3/4</td>\n      <td>4</td>\n      <td>2025</td>\n      <td>garaż/miejsce parkingowe</td>\n      <td>pierwotny</td>\n      <td>pełna własność</td>\n      <td>do zamieszkania</td>\n      <td>100 EUR</td>\n      <td>elektryczne</td>\n      <td>prywatny</td>\n      <td>tak</td>\n      <td>balkon, taras</td>\n      <td>apartamentowiec</td>\n      <td>silikat</td>\n    </tr>\n    <tr>\n      <th>4908</th>\n      <td>https://www.otodom.pl/pl/oferta/penthouse-w-od...</td>\n      <td>Penthouse w odrestaurowanej kamienicy - taras ...</td>\n      <td>ul. marsz. Józefa Piłsudskiego, Piasek, Stare ...</td>\n      <td>1150000.0</td>\n      <td>228.00</td>\n      <td>21700.0</td>\n      <td>4/5</td>\n      <td>5</td>\n      <td>1906</td>\n      <td>NaN</td>\n      <td>wtórny</td>\n      <td>pełna własność</td>\n      <td>do zamieszkania</td>\n      <td>220 EUR</td>\n      <td>gazowe</td>\n      <td>biuro nieruchomości</td>\n      <td>tak</td>\n      <td>balkon, taras</td>\n      <td>kamienica</td>\n      <td>cegła</td>\n    </tr>\n    <tr>\n      <th>6335</th>\n      <td>https://www.otodom.pl/pl/oferta/2m-wysoki-stan...</td>\n      <td>2M! Wysoki Standard| Gotowe| Balkon | Widok!</td>\n      <td>Wola Duchacka, Podgórze Duchackie, Kraków, mał...</td>\n      <td>620000.0</td>\n      <td>35.55</td>\n      <td>17440.0</td>\n      <td>7/11</td>\n      <td>2</td>\n      <td>2019</td>\n      <td>NaN</td>\n      <td>wtórny</td>\n      <td>pełna własność</td>\n      <td>do zamieszkania</td>\n      <td>420 GBP</td>\n      <td>miejskie</td>\n      <td>biuro nieruchomości</td>\n      <td>tak</td>\n      <td>balkon</td>\n      <td>blok</td>\n      <td>brak informacji</td>\n    </tr>\n  </tbody>\n</table>\n</div>"
     },
     "execution_count": 13,
     "metadata": {},
     "output_type": "execute_result"
    }
   ],
   "source": [
    "#trzy wiersze w innej walucie\n",
    "df_otodom[df_otodom['rent'].str.contains(r'\\d', na=False) & ~df_otodom['rent'].str.contains('zł', na=False)]"
   ]
  },
  {
   "cell_type": "code",
   "execution_count": 14,
   "metadata": {
    "ExecuteTime": {
     "end_time": "2024-03-12T12:27:12.143884800Z",
     "start_time": "2024-03-12T12:27:12.029987800Z"
    }
   },
   "outputs": [
    {
     "name": "stderr",
     "output_type": "stream",
     "text": [
      "<>:1: SyntaxWarning: invalid escape sequence '\\d'\n",
      "<>:1: SyntaxWarning: invalid escape sequence '\\d'\n",
      "C:\\Users\\ksobc\\AppData\\Local\\Temp\\ipykernel_18712\\3168534312.py:1: SyntaxWarning: invalid escape sequence '\\d'\n",
      "  df_otodom['rent'] = df_otodom['rent'].str.extract('(\\d+)').astype(float)\n"
     ]
    }
   ],
   "source": [
    "df_otodom['rent'] = df_otodom['rent'].str.extract('(\\d+)').astype(float)"
   ]
  },
  {
   "cell_type": "code",
   "execution_count": 15,
   "metadata": {
    "ExecuteTime": {
     "end_time": "2024-03-12T12:27:12.145998600Z",
     "start_time": "2024-03-12T12:27:12.038869100Z"
    }
   },
   "outputs": [
    {
     "name": "stderr",
     "output_type": "stream",
     "text": [
      "<>:2: SyntaxWarning: invalid escape sequence '\\d'\n",
      "<>:2: SyntaxWarning: invalid escape sequence '\\d'\n",
      "C:\\Users\\ksobc\\AppData\\Local\\Temp\\ipykernel_18712\\3965821391.py:2: SyntaxWarning: invalid escape sequence '\\d'\n",
      "  df_otodom['no of rooms'] = df_otodom['no of rooms'].str.extract('(\\d+)').astype(int)\n"
     ]
    }
   ],
   "source": [
    "df_otodom['no of rooms'] = df_otodom['no of rooms'].str.replace(' ', '')\n",
    "df_otodom['no of rooms'] = df_otodom['no of rooms'].str.extract('(\\d+)').astype(int)\n"
   ]
  },
  {
   "cell_type": "code",
   "execution_count": 16,
   "metadata": {
    "ExecuteTime": {
     "end_time": "2024-03-12T12:27:12.166958900Z",
     "start_time": "2024-03-12T12:27:12.048967900Z"
    }
   },
   "outputs": [
    {
     "data": {
      "text/plain": "                                                 url  \\\n0  https://www.otodom.pl/pl/oferta/gotowe-2-pokoj...   \n1  https://www.otodom.pl/pl/oferta/4-pok-mieszkan...   \n2  https://www.otodom.pl/pl/oferta/3-pokoje-w-rza...   \n3  https://www.otodom.pl/pl/oferta/mieszkanie-ide...   \n4  https://www.otodom.pl/pl/oferta/ul-lasowka-3-p...   \n\n                                          name/title  \\\n0          Gotowe| 2 pokoje| blisko centrum| Bonarka   \n1  4-pok.mieszkanie z Sauną - Wysoki Standard ! 2...   \n2            3 pokoje w rządowym programie kredyt 2%   \n3           Mieszkanie idealne na start, 3 - pokoje!   \n4          ul. Lasówka, 3 pokoje, 65m2 + taras 20m2!   \n\n                                             address      price   area  \\\n0  Wola Duchacka, Podgórze Duchackie, Kraków, mał...   719000.0  55.98   \n1  Biskupa Albina Małysiaka, Kobierzyn, Dębniki, ...  1350000.0  87.00   \n2   Bieżanów, Bieżanów-Prokocim, Kraków, małopolskie   599000.0  47.10   \n3  ul. Erazma Jerzmanowskiego, Prokocim, Bieżanów...   833500.0  66.69   \n4  ul. Lasówka, Płaszów, Podgórze, Kraków, małopo...   949000.0  65.81   \n\n   price-per-area floor/store  no of rooms year of construction  \\\n0         12844.0    parter/8            3                 2022   \n1         15517.0         2/4            4                 2021   \n2         12718.0         1/4            3                 2023   \n3         12498.0         3/8            3                 2024   \n4         14420.0         7/7            3                 2023   \n\n              parking space     market form of ownership       condition  \\\n0                       NaN  pierwotny               NaN  do wykończenia   \n1  garaż/miejsce parkingowe     wtórny    pełna własność             NaN   \n2  garaż/miejsce parkingowe  pierwotny    pełna własność  do wykończenia   \n3  garaż/miejsce parkingowe  pierwotny               NaN             NaN   \n4                       NaN     wtórny               NaN             NaN   \n\n    rent   heating      advertiser type elevator outdoor area  \\\n0    NaN  miejskie  biuro nieruchomości      tak      ogródek   \n1  900.0  miejskie  biuro nieruchomości      tak       balkon   \n2    NaN  miejskie  biuro nieruchomości      tak       balkon   \n3    NaN  miejskie  biuro nieruchomości      tak       balkon   \n4    NaN       NaN  biuro nieruchomości      nie          NaN   \n\n     building type building material  \n0  apartamentowiec   brak informacji  \n1  brak informacji             cegła  \n2             blok   brak informacji  \n3  apartamentowiec   brak informacji  \n4  brak informacji   brak informacji  ",
      "text/html": "<div>\n<style scoped>\n    .dataframe tbody tr th:only-of-type {\n        vertical-align: middle;\n    }\n\n    .dataframe tbody tr th {\n        vertical-align: top;\n    }\n\n    .dataframe thead th {\n        text-align: right;\n    }\n</style>\n<table border=\"1\" class=\"dataframe\">\n  <thead>\n    <tr style=\"text-align: right;\">\n      <th></th>\n      <th>url</th>\n      <th>name/title</th>\n      <th>address</th>\n      <th>price</th>\n      <th>area</th>\n      <th>price-per-area</th>\n      <th>floor/store</th>\n      <th>no of rooms</th>\n      <th>year of construction</th>\n      <th>parking space</th>\n      <th>market</th>\n      <th>form of ownership</th>\n      <th>condition</th>\n      <th>rent</th>\n      <th>heating</th>\n      <th>advertiser type</th>\n      <th>elevator</th>\n      <th>outdoor area</th>\n      <th>building type</th>\n      <th>building material</th>\n    </tr>\n  </thead>\n  <tbody>\n    <tr>\n      <th>0</th>\n      <td>https://www.otodom.pl/pl/oferta/gotowe-2-pokoj...</td>\n      <td>Gotowe| 2 pokoje| blisko centrum| Bonarka</td>\n      <td>Wola Duchacka, Podgórze Duchackie, Kraków, mał...</td>\n      <td>719000.0</td>\n      <td>55.98</td>\n      <td>12844.0</td>\n      <td>parter/8</td>\n      <td>3</td>\n      <td>2022</td>\n      <td>NaN</td>\n      <td>pierwotny</td>\n      <td>NaN</td>\n      <td>do wykończenia</td>\n      <td>NaN</td>\n      <td>miejskie</td>\n      <td>biuro nieruchomości</td>\n      <td>tak</td>\n      <td>ogródek</td>\n      <td>apartamentowiec</td>\n      <td>brak informacji</td>\n    </tr>\n    <tr>\n      <th>1</th>\n      <td>https://www.otodom.pl/pl/oferta/4-pok-mieszkan...</td>\n      <td>4-pok.mieszkanie z Sauną - Wysoki Standard ! 2...</td>\n      <td>Biskupa Albina Małysiaka, Kobierzyn, Dębniki, ...</td>\n      <td>1350000.0</td>\n      <td>87.00</td>\n      <td>15517.0</td>\n      <td>2/4</td>\n      <td>4</td>\n      <td>2021</td>\n      <td>garaż/miejsce parkingowe</td>\n      <td>wtórny</td>\n      <td>pełna własność</td>\n      <td>NaN</td>\n      <td>900.0</td>\n      <td>miejskie</td>\n      <td>biuro nieruchomości</td>\n      <td>tak</td>\n      <td>balkon</td>\n      <td>brak informacji</td>\n      <td>cegła</td>\n    </tr>\n    <tr>\n      <th>2</th>\n      <td>https://www.otodom.pl/pl/oferta/3-pokoje-w-rza...</td>\n      <td>3 pokoje w rządowym programie kredyt 2%</td>\n      <td>Bieżanów, Bieżanów-Prokocim, Kraków, małopolskie</td>\n      <td>599000.0</td>\n      <td>47.10</td>\n      <td>12718.0</td>\n      <td>1/4</td>\n      <td>3</td>\n      <td>2023</td>\n      <td>garaż/miejsce parkingowe</td>\n      <td>pierwotny</td>\n      <td>pełna własność</td>\n      <td>do wykończenia</td>\n      <td>NaN</td>\n      <td>miejskie</td>\n      <td>biuro nieruchomości</td>\n      <td>tak</td>\n      <td>balkon</td>\n      <td>blok</td>\n      <td>brak informacji</td>\n    </tr>\n    <tr>\n      <th>3</th>\n      <td>https://www.otodom.pl/pl/oferta/mieszkanie-ide...</td>\n      <td>Mieszkanie idealne na start, 3 - pokoje!</td>\n      <td>ul. Erazma Jerzmanowskiego, Prokocim, Bieżanów...</td>\n      <td>833500.0</td>\n      <td>66.69</td>\n      <td>12498.0</td>\n      <td>3/8</td>\n      <td>3</td>\n      <td>2024</td>\n      <td>garaż/miejsce parkingowe</td>\n      <td>pierwotny</td>\n      <td>NaN</td>\n      <td>NaN</td>\n      <td>NaN</td>\n      <td>miejskie</td>\n      <td>biuro nieruchomości</td>\n      <td>tak</td>\n      <td>balkon</td>\n      <td>apartamentowiec</td>\n      <td>brak informacji</td>\n    </tr>\n    <tr>\n      <th>4</th>\n      <td>https://www.otodom.pl/pl/oferta/ul-lasowka-3-p...</td>\n      <td>ul. Lasówka, 3 pokoje, 65m2 + taras 20m2!</td>\n      <td>ul. Lasówka, Płaszów, Podgórze, Kraków, małopo...</td>\n      <td>949000.0</td>\n      <td>65.81</td>\n      <td>14420.0</td>\n      <td>7/7</td>\n      <td>3</td>\n      <td>2023</td>\n      <td>NaN</td>\n      <td>wtórny</td>\n      <td>NaN</td>\n      <td>NaN</td>\n      <td>NaN</td>\n      <td>NaN</td>\n      <td>biuro nieruchomości</td>\n      <td>nie</td>\n      <td>NaN</td>\n      <td>brak informacji</td>\n      <td>brak informacji</td>\n    </tr>\n  </tbody>\n</table>\n</div>"
     },
     "execution_count": 16,
     "metadata": {},
     "output_type": "execute_result"
    }
   ],
   "source": [
    "df_otodom.head()"
   ]
  },
  {
   "cell_type": "code",
   "execution_count": 17,
   "metadata": {
    "ExecuteTime": {
     "end_time": "2024-03-12T12:27:12.168277800Z",
     "start_time": "2024-03-12T12:27:12.062528400Z"
    }
   },
   "outputs": [
    {
     "data": {
      "text/plain": "984641.4043824701"
     },
     "execution_count": 17,
     "metadata": {},
     "output_type": "execute_result"
    }
   ],
   "source": [
    "df_otodom['price'].mean()"
   ]
  },
  {
   "cell_type": "code",
   "execution_count": 18,
   "metadata": {
    "ExecuteTime": {
     "end_time": "2024-03-12T12:27:12.222505300Z",
     "start_time": "2024-03-12T12:27:12.067025500Z"
    }
   },
   "outputs": [
    {
     "data": {
      "text/plain": "              price         area  price-per-area  no of rooms         rent\ncount  6.526000e+03  6820.000000     6526.000000  6820.000000  2846.000000\nmean   9.846414e+05    60.393113    16571.950506     2.717155   478.795854\nstd    6.596879e+05    34.785674     4544.521552     1.066453   233.963362\nmin    9.500000e+04    10.270000      271.000000     1.000000     0.000000\n25%    6.650000e+05    41.397500    13711.000000     2.000000   350.000000\n50%    8.340000e+05    53.500000    16000.000000     3.000000   500.000000\n75%    1.081038e+06    68.862500    18500.000000     3.000000   650.000000\nmax    1.350000e+07  1000.000000    70000.000000    10.000000   980.000000",
      "text/html": "<div>\n<style scoped>\n    .dataframe tbody tr th:only-of-type {\n        vertical-align: middle;\n    }\n\n    .dataframe tbody tr th {\n        vertical-align: top;\n    }\n\n    .dataframe thead th {\n        text-align: right;\n    }\n</style>\n<table border=\"1\" class=\"dataframe\">\n  <thead>\n    <tr style=\"text-align: right;\">\n      <th></th>\n      <th>price</th>\n      <th>area</th>\n      <th>price-per-area</th>\n      <th>no of rooms</th>\n      <th>rent</th>\n    </tr>\n  </thead>\n  <tbody>\n    <tr>\n      <th>count</th>\n      <td>6.526000e+03</td>\n      <td>6820.000000</td>\n      <td>6526.000000</td>\n      <td>6820.000000</td>\n      <td>2846.000000</td>\n    </tr>\n    <tr>\n      <th>mean</th>\n      <td>9.846414e+05</td>\n      <td>60.393113</td>\n      <td>16571.950506</td>\n      <td>2.717155</td>\n      <td>478.795854</td>\n    </tr>\n    <tr>\n      <th>std</th>\n      <td>6.596879e+05</td>\n      <td>34.785674</td>\n      <td>4544.521552</td>\n      <td>1.066453</td>\n      <td>233.963362</td>\n    </tr>\n    <tr>\n      <th>min</th>\n      <td>9.500000e+04</td>\n      <td>10.270000</td>\n      <td>271.000000</td>\n      <td>1.000000</td>\n      <td>0.000000</td>\n    </tr>\n    <tr>\n      <th>25%</th>\n      <td>6.650000e+05</td>\n      <td>41.397500</td>\n      <td>13711.000000</td>\n      <td>2.000000</td>\n      <td>350.000000</td>\n    </tr>\n    <tr>\n      <th>50%</th>\n      <td>8.340000e+05</td>\n      <td>53.500000</td>\n      <td>16000.000000</td>\n      <td>3.000000</td>\n      <td>500.000000</td>\n    </tr>\n    <tr>\n      <th>75%</th>\n      <td>1.081038e+06</td>\n      <td>68.862500</td>\n      <td>18500.000000</td>\n      <td>3.000000</td>\n      <td>650.000000</td>\n    </tr>\n    <tr>\n      <th>max</th>\n      <td>1.350000e+07</td>\n      <td>1000.000000</td>\n      <td>70000.000000</td>\n      <td>10.000000</td>\n      <td>980.000000</td>\n    </tr>\n  </tbody>\n</table>\n</div>"
     },
     "execution_count": 18,
     "metadata": {},
     "output_type": "execute_result"
    }
   ],
   "source": [
    "df_otodom.describe()"
   ]
  },
  {
   "cell_type": "code",
   "execution_count": 19,
   "metadata": {
    "ExecuteTime": {
     "end_time": "2024-03-12T12:27:12.258377800Z",
     "start_time": "2024-03-12T12:27:12.084875900Z"
    }
   },
   "outputs": [],
   "source": [
    "df_nieruchomosci = pd.read_csv('datasets/nieruchomosci-online_dataset_raw.csv')"
   ]
  },
  {
   "cell_type": "code",
   "execution_count": 20,
   "metadata": {
    "ExecuteTime": {
     "end_time": "2024-03-12T12:27:12.345449100Z",
     "start_time": "2024-03-12T12:27:12.110063500Z"
    }
   },
   "outputs": [
    {
     "name": "stdout",
     "output_type": "stream",
     "text": [
      "<class 'pandas.core.frame.DataFrame'>\n",
      "RangeIndex: 3949 entries, 0 to 3948\n",
      "Data columns (total 13 columns):\n",
      " #   Column                               Non-Null Count  Dtype  \n",
      "---  ------                               --------------  -----  \n",
      " 0   url                                  3949 non-null   object \n",
      " 1   name/title                           3949 non-null   object \n",
      " 2   address                              3848 non-null   object \n",
      " 3   price                                3920 non-null   object \n",
      " 4   area                                 3949 non-null   object \n",
      " 5   price-per-area                       3920 non-null   object \n",
      " 6   floor/store                          3949 non-null   object \n",
      " 7   no of floors/stores in the building  3710 non-null   float64\n",
      " 8   no of rooms                          3949 non-null   object \n",
      " 9   year of construction                 3949 non-null   object \n",
      " 10  parking space                        3949 non-null   object \n",
      " 11  market                               3918 non-null   object \n",
      " 12  form of ownership                    1488 non-null   object \n",
      "dtypes: float64(1), object(12)\n",
      "memory usage: 401.2+ KB\n"
     ]
    }
   ],
   "source": [
    "df_nieruchomosci.info()"
   ]
  },
  {
   "cell_type": "code",
   "execution_count": 21,
   "metadata": {
    "ExecuteTime": {
     "end_time": "2024-03-12T12:27:12.350184800Z",
     "start_time": "2024-03-12T12:27:12.120260700Z"
    }
   },
   "outputs": [
    {
     "data": {
      "text/plain": "                                                 url  \\\n0  https://krakow.nieruchomosci-online.pl/mieszka...   \n1  https://krakow.nieruchomosci-online.pl/mieszka...   \n2  https://krakow.nieruchomosci-online.pl/mieszka...   \n3  https://krakow.nieruchomosci-online.pl/mieszka...   \n4  https://krakow.nieruchomosci-online.pl/mieszka...   \n\n                       name/title  \\\n0  Mieszkanie, ul. Żelechowskiego   \n1         Mieszkanie, ul. Balicka   \n2          Mieszkanie, ul. Zauchy   \n3      Mieszkanie, ul. Racławicka   \n4        Mieszkanie, ul. Pustynna   \n\n                                          address         price      area  \\\n0  Żelechowskiego, Bronowice, Kraków, małopolskie    899 000 zł  51,70 m²   \n1         Balicka, Bronowice, Kraków, małopolskie  1 575 000 zł    125 m²   \n2     Zauchy, Górka Narodowa, Kraków, małopolskie  1 250 000 zł  65,23 m²   \n3      Racławicka, Krowodrza, Kraków, małopolskie    740 250 zł  49,35 m²   \n4            Pustynna, Kliny, Kraków, małopolskie  1 200 000 zł  71,06 m²   \n\n    price-per-area floor/store  no of floors/stores in the building  \\\n0  17 388,78 zł/m²           1                                  3.0   \n1     12 600 zł/m²           3                                  4.0   \n2  19 162,96 zł/m²           2                                  5.0   \n3     15 000 zł/m²           6                                 10.0   \n4  16 887,14 zł/m²      parter                                  1.0   \n\n  no of rooms year of construction                 parking space  market  \\\n0           2                 1980                           tak  wtórny   \n1           6                 2004           w garażu podziemnym  wtórny   \n2           3                 2023                           tak  wtórny   \n3           2                 1950  parking publiczny / na ulicy  wtórny   \n4           3                 2013         garaż w bryle budynku  wtórny   \n\n            form of ownership  \n0                    własność  \n1  własność, księga wieczysta  \n2                         NaN  \n3                         NaN  \n4  własność, księga wieczysta  ",
      "text/html": "<div>\n<style scoped>\n    .dataframe tbody tr th:only-of-type {\n        vertical-align: middle;\n    }\n\n    .dataframe tbody tr th {\n        vertical-align: top;\n    }\n\n    .dataframe thead th {\n        text-align: right;\n    }\n</style>\n<table border=\"1\" class=\"dataframe\">\n  <thead>\n    <tr style=\"text-align: right;\">\n      <th></th>\n      <th>url</th>\n      <th>name/title</th>\n      <th>address</th>\n      <th>price</th>\n      <th>area</th>\n      <th>price-per-area</th>\n      <th>floor/store</th>\n      <th>no of floors/stores in the building</th>\n      <th>no of rooms</th>\n      <th>year of construction</th>\n      <th>parking space</th>\n      <th>market</th>\n      <th>form of ownership</th>\n    </tr>\n  </thead>\n  <tbody>\n    <tr>\n      <th>0</th>\n      <td>https://krakow.nieruchomosci-online.pl/mieszka...</td>\n      <td>Mieszkanie, ul. Żelechowskiego</td>\n      <td>Żelechowskiego, Bronowice, Kraków, małopolskie</td>\n      <td>899 000 zł</td>\n      <td>51,70 m²</td>\n      <td>17 388,78 zł/m²</td>\n      <td>1</td>\n      <td>3.0</td>\n      <td>2</td>\n      <td>1980</td>\n      <td>tak</td>\n      <td>wtórny</td>\n      <td>własność</td>\n    </tr>\n    <tr>\n      <th>1</th>\n      <td>https://krakow.nieruchomosci-online.pl/mieszka...</td>\n      <td>Mieszkanie, ul. Balicka</td>\n      <td>Balicka, Bronowice, Kraków, małopolskie</td>\n      <td>1 575 000 zł</td>\n      <td>125 m²</td>\n      <td>12 600 zł/m²</td>\n      <td>3</td>\n      <td>4.0</td>\n      <td>6</td>\n      <td>2004</td>\n      <td>w garażu podziemnym</td>\n      <td>wtórny</td>\n      <td>własność, księga wieczysta</td>\n    </tr>\n    <tr>\n      <th>2</th>\n      <td>https://krakow.nieruchomosci-online.pl/mieszka...</td>\n      <td>Mieszkanie, ul. Zauchy</td>\n      <td>Zauchy, Górka Narodowa, Kraków, małopolskie</td>\n      <td>1 250 000 zł</td>\n      <td>65,23 m²</td>\n      <td>19 162,96 zł/m²</td>\n      <td>2</td>\n      <td>5.0</td>\n      <td>3</td>\n      <td>2023</td>\n      <td>tak</td>\n      <td>wtórny</td>\n      <td>NaN</td>\n    </tr>\n    <tr>\n      <th>3</th>\n      <td>https://krakow.nieruchomosci-online.pl/mieszka...</td>\n      <td>Mieszkanie, ul. Racławicka</td>\n      <td>Racławicka, Krowodrza, Kraków, małopolskie</td>\n      <td>740 250 zł</td>\n      <td>49,35 m²</td>\n      <td>15 000 zł/m²</td>\n      <td>6</td>\n      <td>10.0</td>\n      <td>2</td>\n      <td>1950</td>\n      <td>parking publiczny / na ulicy</td>\n      <td>wtórny</td>\n      <td>NaN</td>\n    </tr>\n    <tr>\n      <th>4</th>\n      <td>https://krakow.nieruchomosci-online.pl/mieszka...</td>\n      <td>Mieszkanie, ul. Pustynna</td>\n      <td>Pustynna, Kliny, Kraków, małopolskie</td>\n      <td>1 200 000 zł</td>\n      <td>71,06 m²</td>\n      <td>16 887,14 zł/m²</td>\n      <td>parter</td>\n      <td>1.0</td>\n      <td>3</td>\n      <td>2013</td>\n      <td>garaż w bryle budynku</td>\n      <td>wtórny</td>\n      <td>własność, księga wieczysta</td>\n    </tr>\n  </tbody>\n</table>\n</div>"
     },
     "execution_count": 21,
     "metadata": {},
     "output_type": "execute_result"
    }
   ],
   "source": [
    "df_nieruchomosci.head()"
   ]
  },
  {
   "cell_type": "code",
   "execution_count": 22,
   "metadata": {
    "ExecuteTime": {
     "end_time": "2024-03-12T12:27:12.360700400Z",
     "start_time": "2024-03-12T12:27:12.129855500Z"
    }
   },
   "outputs": [
    {
     "data": {
      "text/plain": "url                                    9\nname/title                             9\naddress                                9\nprice                                  9\narea                                   9\nprice-per-area                         9\nfloor/store                            9\nno of floors/stores in the building    9\nno of rooms                            9\nyear of construction                   9\nparking space                          9\nmarket                                 9\nform of ownership                      1\ndtype: int64"
     },
     "execution_count": 22,
     "metadata": {},
     "output_type": "execute_result"
    }
   ],
   "source": [
    "#9 cen jest w innej walucie\n",
    "df_nieruchomosci[df_nieruchomosci['price'].str.contains(r'\\d', na=False) & ~df_nieruchomosci['price'].str.contains('zł', na=False)].count()"
   ]
  },
  {
   "cell_type": "code",
   "execution_count": 23,
   "metadata": {
    "ExecuteTime": {
     "end_time": "2024-03-12T12:27:12.365923300Z",
     "start_time": "2024-03-12T12:27:12.141723800Z"
    }
   },
   "outputs": [
    {
     "name": "stderr",
     "output_type": "stream",
     "text": [
      "<>:2: SyntaxWarning: invalid escape sequence '\\d'\n",
      "<>:2: SyntaxWarning: invalid escape sequence '\\d'\n",
      "C:\\Users\\ksobc\\AppData\\Local\\Temp\\ipykernel_18712\\2928192372.py:2: SyntaxWarning: invalid escape sequence '\\d'\n",
      "  df_nieruchomosci['price'] = df_nieruchomosci['price'].str.extract('(\\d+)').astype(float)\n"
     ]
    }
   ],
   "source": [
    "df_nieruchomosci['price'] = df_nieruchomosci['price'].str.replace(' ', '')\n",
    "df_nieruchomosci['price'] = df_nieruchomosci['price'].str.extract('(\\d+)').astype(float)"
   ]
  },
  {
   "cell_type": "code",
   "execution_count": 24,
   "metadata": {
    "ExecuteTime": {
     "end_time": "2024-03-12T12:27:12.383967600Z",
     "start_time": "2024-03-12T12:27:12.152447900Z"
    }
   },
   "outputs": [],
   "source": [
    "df_nieruchomosci['area'] = df_nieruchomosci['area'].str.replace(' m²', '')\n",
    "df_nieruchomosci['area'] = df_nieruchomosci['area'].str.replace(',', '.').astype(float)"
   ]
  },
  {
   "cell_type": "code",
   "execution_count": 25,
   "metadata": {
    "ExecuteTime": {
     "end_time": "2024-03-12T12:27:12.387127800Z",
     "start_time": "2024-03-12T12:27:12.160361100Z"
    }
   },
   "outputs": [
    {
     "data": {
      "text/plain": "url                                    9\nname/title                             9\naddress                                9\nprice                                  9\narea                                   9\nprice-per-area                         9\nfloor/store                            9\nno of floors/stores in the building    9\nno of rooms                            9\nyear of construction                   9\nparking space                          9\nmarket                                 9\nform of ownership                      1\ndtype: int64"
     },
     "execution_count": 25,
     "metadata": {},
     "output_type": "execute_result"
    }
   ],
   "source": [
    "#9 cen jest w innej walucie\n",
    "df_nieruchomosci[df_nieruchomosci['price-per-area'].str.contains(r'\\d', na=False) & ~df_nieruchomosci['price-per-area'].str.contains('zł', na=False)].count()"
   ]
  },
  {
   "cell_type": "code",
   "execution_count": 26,
   "metadata": {
    "ExecuteTime": {
     "end_time": "2024-03-12T12:27:12.425644400Z",
     "start_time": "2024-03-12T12:27:12.170959Z"
    }
   },
   "outputs": [
    {
     "name": "stderr",
     "output_type": "stream",
     "text": [
      "<>:2: SyntaxWarning: invalid escape sequence '\\d'\n",
      "<>:2: SyntaxWarning: invalid escape sequence '\\d'\n",
      "C:\\Users\\ksobc\\AppData\\Local\\Temp\\ipykernel_18712\\1934218877.py:2: SyntaxWarning: invalid escape sequence '\\d'\n",
      "  df_nieruchomosci['price-per-area'] = df_nieruchomosci['price-per-area'].str.extract('(\\d+)').astype(float)\n"
     ]
    }
   ],
   "source": [
    "df_nieruchomosci['price-per-area'] = df_nieruchomosci['price-per-area'].str.replace(' ', '')\n",
    "df_nieruchomosci['price-per-area'] = df_nieruchomosci['price-per-area'].str.extract('(\\d+)').astype(float)"
   ]
  },
  {
   "cell_type": "code",
   "execution_count": 27,
   "metadata": {
    "ExecuteTime": {
     "end_time": "2024-03-12T12:27:12.445511500Z",
     "start_time": "2024-03-12T12:27:12.222505300Z"
    }
   },
   "outputs": [
    {
     "data": {
      "text/plain": "                                                    url  \\\n37    https://krakow.nieruchomosci-online.pl/nowe-mi...   \n45    https://krakow.nieruchomosci-online.pl/nowe-mi...   \n71    https://krakow.nieruchomosci-online.pl/nowe-mi...   \n119   https://krakow.nieruchomosci-online.pl/nowe-mi...   \n178   https://krakow.nieruchomosci-online.pl/nowe-mi...   \n212   https://krakow.nieruchomosci-online.pl/nowe-mi...   \n221   https://krakow.nieruchomosci-online.pl/nowe-mi...   \n266   https://krakow.nieruchomosci-online.pl/nowe-mi...   \n268   https://krakow.nieruchomosci-online.pl/nowe-mi...   \n274   https://krakow.nieruchomosci-online.pl/nowe-mi...   \n312   https://krakow.nieruchomosci-online.pl/nowe-mi...   \n314   https://krakow.nieruchomosci-online.pl/nowe-mi...   \n316   https://krakow.nieruchomosci-online.pl/nowe-mi...   \n354   https://zalesie.nieruchomosci-online.pl/nowe-m...   \n407   https://krakow.nieruchomosci-online.pl/nowe-mi...   \n444   https://skawina.nieruchomosci-online.pl/nowe-m...   \n447   https://skawina.nieruchomosci-online.pl/nowe-m...   \n449   https://skawina.nieruchomosci-online.pl/nowe-m...   \n462   https://krakow.nieruchomosci-online.pl/nowe-mi...   \n503   https://wieliczka.nieruchomosci-online.pl/nowe...   \n553   https://wieliczka.nieruchomosci-online.pl/nowe...   \n555   https://wieliczka.nieruchomosci-online.pl/nowe...   \n556   https://wieliczka.nieruchomosci-online.pl/nowe...   \n632   https://krakow.nieruchomosci-online.pl/mieszka...   \n1893  https://krakow.nieruchomosci-online.pl/mieszka...   \n2266  https://krakow.nieruchomosci-online.pl/mieszka...   \n2557  https://krakow.nieruchomosci-online.pl/mieszka...   \n2603  https://krakow.nieruchomosci-online.pl/mieszka...   \n2612  https://krakow.nieruchomosci-online.pl/mieszka...   \n2804  https://krakow.nieruchomosci-online.pl/mieszka...   \n3166  https://krakow.nieruchomosci-online.pl/mieszka...   \n3741  https://krakow.nieruchomosci-online.pl/mieszka...   \n3891  https://krakow.nieruchomosci-online.pl/mieszka...   \n\n                                             name/title  \\\n37    Nowe mieszkanie Wieczysta, Aleja Jana Pawła II 52   \n45               Nowe mieszkanie Gotyk, ul. Grabczaka 8   \n71    Nowe mieszkanie Bronowice Wielkie, ul. Piaskow...   \n119   Nowe mieszkanie Wola Justowska, ul. Królowej J...   \n178      Nowe mieszkanie Tonie, ul. Władysława Łokietka   \n212   Nowe mieszkanie Prądnik Biały, Piaszczysta/Pęk...   \n221          Nowe mieszkanie Olszyny, ul. Petrażyckiego   \n266   Nowe mieszkanie Krowodrza Górka, ul. Józefa Wy...   \n268   Nowe mieszkanie Krowodrza Górka, ul. Józefa Wy...   \n274   Nowe mieszkanie Dziekanowice, ul. Piasta Kołod...   \n312     Nowe mieszkanie Wesoła, ul. Hugona Kołłątaja 12   \n314     Nowe mieszkanie Wesoła, ul. Hugona Kołłątaja 12   \n316     Nowe mieszkanie Wesoła, ul. Hugona Kołłątaja 12   \n354                             Nowe mieszkanie Zalesie   \n407     Nowe mieszkanie Bronowice Wielkie, ul. Piaskowa   \n444                     Nowe mieszkanie ul. Tyniecka 24   \n447                     Nowe mieszkanie ul. Tyniecka 24   \n449                     Nowe mieszkanie ul. Tyniecka 24   \n462     Nowe mieszkanie Małe Błonia, ul. Brązownicza 12   \n503                      Nowe mieszkanie ul. Bogucka 10   \n553                        Nowe mieszkanie ul. Jaworowa   \n555                        Nowe mieszkanie ul. Jaworowa   \n556                        Nowe mieszkanie ul. Jaworowa   \n632                        Mieszkanie, ul. Grzegórzecka   \n1893                           Mieszkanie, Rynek Główny   \n2266                             Mieszkanie, ul. Okólna   \n2557                                  Mieszkanie Kraków   \n2603                    Apartament Olsza, ul. Rakowicka   \n2612                        Mieszkanie, ul. Felińskiego   \n2804              Mieszkanie Dębniki, ul. Twardowskiego   \n3166                         Mieszkanie, ul. Friedleina   \n3741                           Mieszkanie, ul. Ojcowska   \n3891                            Mieszkanie, ul. Krakusa   \n\n                                               address      price    area  \\\n37                                                 NaN  1373420.0   79.85   \n45                                                 NaN        NaN   58.36   \n71                                                 NaN   903189.0   73.43   \n119                                                NaN  1221192.0   72.69   \n178                                                NaN  1638000.0  136.60   \n212                                                NaN   917868.0   62.44   \n221                                                NaN        NaN   55.00   \n266                                                NaN  1130000.0   72.34   \n268                                                NaN   680000.0   38.88   \n274                                                NaN        NaN   45.01   \n312                                                NaN  1047000.0   59.16   \n314                                                NaN  1059000.0   60.57   \n316                                                NaN   682000.0   34.46   \n354                                                NaN   610955.0   72.56   \n407                                                NaN   515080.0   31.60   \n444                                                NaN   531456.0   55.36   \n447                                                NaN   613920.0   63.95   \n449                                                NaN   531456.0   55.36   \n462                                                NaN  1249859.0   69.63   \n503                                                NaN   429000.0   34.66   \n553                                                NaN   534088.0   52.88   \n555                                                NaN   529700.0   52.97   \n556                                                NaN   449856.0   46.86   \n632                  Grzegórzecka, Kraków, małopolskie   103000.0   15.00   \n1893                 Rynek Główny, Kraków, małopolskie  2225000.0  156.30   \n2266          Okólna, Na Kozłówce, Kraków, małopolskie   499000.0   25.00   \n2557                               Kraków, małopolskie   499001.0   25.33   \n2603          Rakowicka 75, Olsza, Kraków, małopolskie  7700000.0  795.00   \n2612  Felińskiego, Górka Narodowa, Kraków, małopolskie   940000.0   62.24   \n2804       Twardowskiego, Dębniki, Kraków, małopolskie  1250000.0   90.00   \n3166        Friedleina, Krowodrza, Kraków, małopolskie  1550000.0   80.20   \n3741          Ojcowska, Bronowice, Kraków, małopolskie   499000.0   34.00   \n3891      Krakusa, Stare Podgórze, Kraków, małopolskie   439000.0   56.02   \n\n      price-per-area       floor/store  no of floors/stores in the building  \\\n37           17200.0   II kwartał 2024                                  NaN   \n45               NaN  III kwartał 2024                                  NaN   \n71           12300.0  oddana do użytku                                  NaN   \n119          16800.0      zrealizowana                                  NaN   \n178          11991.0  październik 2025                                  NaN   \n212          14700.0   IV kwartał 2024                                  NaN   \n221              NaN     wrzesień 2024                                  NaN   \n266          15620.0    I kwartał 2024                                  NaN   \n268          17489.0    I kwartał 2024                                  NaN   \n274              NaN  III kwartał 2025                                  NaN   \n312          17697.0    I kwartał 2024                                  NaN   \n314          17483.0    I kwartał 2024                                  NaN   \n316          19791.0    I kwartał 2024                                  NaN   \n354           8420.0    I kwartał 2025                                  NaN   \n407          16300.0   IV kwartał 2024                                  NaN   \n444           9600.0              2025                                  NaN   \n447           9600.0              2025                                  NaN   \n449           9600.0              2025                                  NaN   \n462          17950.0  oddana do użytku                                  NaN   \n503          12377.0    I kwartał 2024                                  NaN   \n553          10100.0       marzec 2024                                  NaN   \n555          10000.0       marzec 2024                                  NaN   \n556           9600.0       marzec 2024                                  NaN   \n632           6866.0            parter                                  NaN   \n1893         14235.0                 2                                  3.0   \n2266         19960.0                 -                                  NaN   \n2557         19700.0                 -                                  NaN   \n2603          9685.0                 2                                  2.0   \n2612         15102.0                 3                                  4.0   \n2804         13900.0                 4                                  4.0   \n3166         19326.0            parter                                  2.0   \n3741         14676.0                 -                                  NaN   \n3891          7836.0                 1                                  NaN   \n\n     no of rooms year of construction                 parking space  \\\n37        parter                    4                             -   \n45      suterena                    3                         garaż   \n71        parter                    3                      naziemne   \n119       parter                    3                         garaż   \n178       parter                    4                         garaż   \n212       parter                    3                         garaż   \n221       parter                    3                      naziemne   \n266       parter                    3                         garaż   \n268       parter                    2                         garaż   \n274       parter                    3                         garaż   \n312       parter                    3                      naziemne   \n314       parter                    3                      naziemne   \n316       parter                    2                      naziemne   \n354       parter                    4                      naziemne   \n407       parter                    2                         garaż   \n444       parter                    3                      naziemne   \n447       parter                    3                      naziemne   \n449       parter                    3                      naziemne   \n462       parter                    3                         garaż   \n503       parter                    2                             -   \n553       parter                    3                         garaż   \n555       parter                    3                         garaż   \n556       parter                    2                         garaż   \n632            -                 2022                           tak   \n1893           -                 1320                             -   \n2266           -                    -                             -   \n2557           -                    -                             -   \n2603           -                 2019           w garażu podziemnym   \n2612           -                    -           w garażu podziemnym   \n2804           -                    -                         garaż   \n3166           -                    -                             -   \n3741           -                    -                             -   \n3891           -                    -  parking publiczny / na ulicy   \n\n                                                 market  \\\n37                                      II kwartał 2024   \n45                                             dostępne   \n71                    IV kwartał 2022, oddana do użytku   \n119                      październik 2023, zrealizowana   \n178                                    październik 2025   \n212                                     IV kwartał 2024   \n221                                       zarezerwowane   \n266                                      I kwartał 2024   \n268                                      I kwartał 2024   \n274                                            dostępne   \n312                                      I kwartał 2024   \n314                                      I kwartał 2024   \n316                                      I kwartał 2024   \n354                                      I kwartał 2025   \n407                                     IV kwartał 2024   \n444                                                2025   \n447                                                2025   \n449                                                2025   \n462                  III kwartał 2023, oddana do użytku   \n503                                      I kwartał 2024   \n553                                         marzec 2024   \n555                                         marzec 2024   \n556                                         marzec 2024   \n632                                              wtórny   \n1893                                             wtórny   \n2266                                             wtórny   \n2557  pierwotny (zobacz inne nowe mieszkania w Krako...   \n2603  pierwotny (zobacz inne nowe mieszkania w Krako...   \n2612                                             wtórny   \n2804                                             wtórny   \n3166                                                NaN   \n3741                                             wtórny   \n3891                                             wtórny   \n\n                  form of ownership  \n37    pierwotny (oferta dewelopera)  \n45                              NaN  \n71    pierwotny (oferta dewelopera)  \n119   pierwotny (oferta dewelopera)  \n178   pierwotny (oferta dewelopera)  \n212   pierwotny (oferta dewelopera)  \n221                             NaN  \n266   pierwotny (oferta dewelopera)  \n268   pierwotny (oferta dewelopera)  \n274                             NaN  \n312   pierwotny (oferta dewelopera)  \n314   pierwotny (oferta dewelopera)  \n316   pierwotny (oferta dewelopera)  \n354   pierwotny (oferta dewelopera)  \n407   pierwotny (oferta dewelopera)  \n444   pierwotny (oferta dewelopera)  \n447   pierwotny (oferta dewelopera)  \n449   pierwotny (oferta dewelopera)  \n462   pierwotny (oferta dewelopera)  \n503   pierwotny (oferta dewelopera)  \n553   pierwotny (oferta dewelopera)  \n555   pierwotny (oferta dewelopera)  \n556   pierwotny (oferta dewelopera)  \n632                             NaN  \n1893                            NaN  \n2266                            NaN  \n2557                            NaN  \n2603     własność, księga wieczysta  \n2612                            NaN  \n2804                            NaN  \n3166                            NaN  \n3741                            NaN  \n3891                       własność  ",
      "text/html": "<div>\n<style scoped>\n    .dataframe tbody tr th:only-of-type {\n        vertical-align: middle;\n    }\n\n    .dataframe tbody tr th {\n        vertical-align: top;\n    }\n\n    .dataframe thead th {\n        text-align: right;\n    }\n</style>\n<table border=\"1\" class=\"dataframe\">\n  <thead>\n    <tr style=\"text-align: right;\">\n      <th></th>\n      <th>url</th>\n      <th>name/title</th>\n      <th>address</th>\n      <th>price</th>\n      <th>area</th>\n      <th>price-per-area</th>\n      <th>floor/store</th>\n      <th>no of floors/stores in the building</th>\n      <th>no of rooms</th>\n      <th>year of construction</th>\n      <th>parking space</th>\n      <th>market</th>\n      <th>form of ownership</th>\n    </tr>\n  </thead>\n  <tbody>\n    <tr>\n      <th>37</th>\n      <td>https://krakow.nieruchomosci-online.pl/nowe-mi...</td>\n      <td>Nowe mieszkanie Wieczysta, Aleja Jana Pawła II 52</td>\n      <td>NaN</td>\n      <td>1373420.0</td>\n      <td>79.85</td>\n      <td>17200.0</td>\n      <td>II kwartał 2024</td>\n      <td>NaN</td>\n      <td>parter</td>\n      <td>4</td>\n      <td>-</td>\n      <td>II kwartał 2024</td>\n      <td>pierwotny (oferta dewelopera)</td>\n    </tr>\n    <tr>\n      <th>45</th>\n      <td>https://krakow.nieruchomosci-online.pl/nowe-mi...</td>\n      <td>Nowe mieszkanie Gotyk, ul. Grabczaka 8</td>\n      <td>NaN</td>\n      <td>NaN</td>\n      <td>58.36</td>\n      <td>NaN</td>\n      <td>III kwartał 2024</td>\n      <td>NaN</td>\n      <td>suterena</td>\n      <td>3</td>\n      <td>garaż</td>\n      <td>dostępne</td>\n      <td>NaN</td>\n    </tr>\n    <tr>\n      <th>71</th>\n      <td>https://krakow.nieruchomosci-online.pl/nowe-mi...</td>\n      <td>Nowe mieszkanie Bronowice Wielkie, ul. Piaskow...</td>\n      <td>NaN</td>\n      <td>903189.0</td>\n      <td>73.43</td>\n      <td>12300.0</td>\n      <td>oddana do użytku</td>\n      <td>NaN</td>\n      <td>parter</td>\n      <td>3</td>\n      <td>naziemne</td>\n      <td>IV kwartał 2022, oddana do użytku</td>\n      <td>pierwotny (oferta dewelopera)</td>\n    </tr>\n    <tr>\n      <th>119</th>\n      <td>https://krakow.nieruchomosci-online.pl/nowe-mi...</td>\n      <td>Nowe mieszkanie Wola Justowska, ul. Królowej J...</td>\n      <td>NaN</td>\n      <td>1221192.0</td>\n      <td>72.69</td>\n      <td>16800.0</td>\n      <td>zrealizowana</td>\n      <td>NaN</td>\n      <td>parter</td>\n      <td>3</td>\n      <td>garaż</td>\n      <td>październik 2023, zrealizowana</td>\n      <td>pierwotny (oferta dewelopera)</td>\n    </tr>\n    <tr>\n      <th>178</th>\n      <td>https://krakow.nieruchomosci-online.pl/nowe-mi...</td>\n      <td>Nowe mieszkanie Tonie, ul. Władysława Łokietka</td>\n      <td>NaN</td>\n      <td>1638000.0</td>\n      <td>136.60</td>\n      <td>11991.0</td>\n      <td>październik 2025</td>\n      <td>NaN</td>\n      <td>parter</td>\n      <td>4</td>\n      <td>garaż</td>\n      <td>październik 2025</td>\n      <td>pierwotny (oferta dewelopera)</td>\n    </tr>\n    <tr>\n      <th>212</th>\n      <td>https://krakow.nieruchomosci-online.pl/nowe-mi...</td>\n      <td>Nowe mieszkanie Prądnik Biały, Piaszczysta/Pęk...</td>\n      <td>NaN</td>\n      <td>917868.0</td>\n      <td>62.44</td>\n      <td>14700.0</td>\n      <td>IV kwartał 2024</td>\n      <td>NaN</td>\n      <td>parter</td>\n      <td>3</td>\n      <td>garaż</td>\n      <td>IV kwartał 2024</td>\n      <td>pierwotny (oferta dewelopera)</td>\n    </tr>\n    <tr>\n      <th>221</th>\n      <td>https://krakow.nieruchomosci-online.pl/nowe-mi...</td>\n      <td>Nowe mieszkanie Olszyny, ul. Petrażyckiego</td>\n      <td>NaN</td>\n      <td>NaN</td>\n      <td>55.00</td>\n      <td>NaN</td>\n      <td>wrzesień 2024</td>\n      <td>NaN</td>\n      <td>parter</td>\n      <td>3</td>\n      <td>naziemne</td>\n      <td>zarezerwowane</td>\n      <td>NaN</td>\n    </tr>\n    <tr>\n      <th>266</th>\n      <td>https://krakow.nieruchomosci-online.pl/nowe-mi...</td>\n      <td>Nowe mieszkanie Krowodrza Górka, ul. Józefa Wy...</td>\n      <td>NaN</td>\n      <td>1130000.0</td>\n      <td>72.34</td>\n      <td>15620.0</td>\n      <td>I kwartał 2024</td>\n      <td>NaN</td>\n      <td>parter</td>\n      <td>3</td>\n      <td>garaż</td>\n      <td>I kwartał 2024</td>\n      <td>pierwotny (oferta dewelopera)</td>\n    </tr>\n    <tr>\n      <th>268</th>\n      <td>https://krakow.nieruchomosci-online.pl/nowe-mi...</td>\n      <td>Nowe mieszkanie Krowodrza Górka, ul. Józefa Wy...</td>\n      <td>NaN</td>\n      <td>680000.0</td>\n      <td>38.88</td>\n      <td>17489.0</td>\n      <td>I kwartał 2024</td>\n      <td>NaN</td>\n      <td>parter</td>\n      <td>2</td>\n      <td>garaż</td>\n      <td>I kwartał 2024</td>\n      <td>pierwotny (oferta dewelopera)</td>\n    </tr>\n    <tr>\n      <th>274</th>\n      <td>https://krakow.nieruchomosci-online.pl/nowe-mi...</td>\n      <td>Nowe mieszkanie Dziekanowice, ul. Piasta Kołod...</td>\n      <td>NaN</td>\n      <td>NaN</td>\n      <td>45.01</td>\n      <td>NaN</td>\n      <td>III kwartał 2025</td>\n      <td>NaN</td>\n      <td>parter</td>\n      <td>3</td>\n      <td>garaż</td>\n      <td>dostępne</td>\n      <td>NaN</td>\n    </tr>\n    <tr>\n      <th>312</th>\n      <td>https://krakow.nieruchomosci-online.pl/nowe-mi...</td>\n      <td>Nowe mieszkanie Wesoła, ul. Hugona Kołłątaja 12</td>\n      <td>NaN</td>\n      <td>1047000.0</td>\n      <td>59.16</td>\n      <td>17697.0</td>\n      <td>I kwartał 2024</td>\n      <td>NaN</td>\n      <td>parter</td>\n      <td>3</td>\n      <td>naziemne</td>\n      <td>I kwartał 2024</td>\n      <td>pierwotny (oferta dewelopera)</td>\n    </tr>\n    <tr>\n      <th>314</th>\n      <td>https://krakow.nieruchomosci-online.pl/nowe-mi...</td>\n      <td>Nowe mieszkanie Wesoła, ul. Hugona Kołłątaja 12</td>\n      <td>NaN</td>\n      <td>1059000.0</td>\n      <td>60.57</td>\n      <td>17483.0</td>\n      <td>I kwartał 2024</td>\n      <td>NaN</td>\n      <td>parter</td>\n      <td>3</td>\n      <td>naziemne</td>\n      <td>I kwartał 2024</td>\n      <td>pierwotny (oferta dewelopera)</td>\n    </tr>\n    <tr>\n      <th>316</th>\n      <td>https://krakow.nieruchomosci-online.pl/nowe-mi...</td>\n      <td>Nowe mieszkanie Wesoła, ul. Hugona Kołłątaja 12</td>\n      <td>NaN</td>\n      <td>682000.0</td>\n      <td>34.46</td>\n      <td>19791.0</td>\n      <td>I kwartał 2024</td>\n      <td>NaN</td>\n      <td>parter</td>\n      <td>2</td>\n      <td>naziemne</td>\n      <td>I kwartał 2024</td>\n      <td>pierwotny (oferta dewelopera)</td>\n    </tr>\n    <tr>\n      <th>354</th>\n      <td>https://zalesie.nieruchomosci-online.pl/nowe-m...</td>\n      <td>Nowe mieszkanie Zalesie</td>\n      <td>NaN</td>\n      <td>610955.0</td>\n      <td>72.56</td>\n      <td>8420.0</td>\n      <td>I kwartał 2025</td>\n      <td>NaN</td>\n      <td>parter</td>\n      <td>4</td>\n      <td>naziemne</td>\n      <td>I kwartał 2025</td>\n      <td>pierwotny (oferta dewelopera)</td>\n    </tr>\n    <tr>\n      <th>407</th>\n      <td>https://krakow.nieruchomosci-online.pl/nowe-mi...</td>\n      <td>Nowe mieszkanie Bronowice Wielkie, ul. Piaskowa</td>\n      <td>NaN</td>\n      <td>515080.0</td>\n      <td>31.60</td>\n      <td>16300.0</td>\n      <td>IV kwartał 2024</td>\n      <td>NaN</td>\n      <td>parter</td>\n      <td>2</td>\n      <td>garaż</td>\n      <td>IV kwartał 2024</td>\n      <td>pierwotny (oferta dewelopera)</td>\n    </tr>\n    <tr>\n      <th>444</th>\n      <td>https://skawina.nieruchomosci-online.pl/nowe-m...</td>\n      <td>Nowe mieszkanie ul. Tyniecka 24</td>\n      <td>NaN</td>\n      <td>531456.0</td>\n      <td>55.36</td>\n      <td>9600.0</td>\n      <td>2025</td>\n      <td>NaN</td>\n      <td>parter</td>\n      <td>3</td>\n      <td>naziemne</td>\n      <td>2025</td>\n      <td>pierwotny (oferta dewelopera)</td>\n    </tr>\n    <tr>\n      <th>447</th>\n      <td>https://skawina.nieruchomosci-online.pl/nowe-m...</td>\n      <td>Nowe mieszkanie ul. Tyniecka 24</td>\n      <td>NaN</td>\n      <td>613920.0</td>\n      <td>63.95</td>\n      <td>9600.0</td>\n      <td>2025</td>\n      <td>NaN</td>\n      <td>parter</td>\n      <td>3</td>\n      <td>naziemne</td>\n      <td>2025</td>\n      <td>pierwotny (oferta dewelopera)</td>\n    </tr>\n    <tr>\n      <th>449</th>\n      <td>https://skawina.nieruchomosci-online.pl/nowe-m...</td>\n      <td>Nowe mieszkanie ul. Tyniecka 24</td>\n      <td>NaN</td>\n      <td>531456.0</td>\n      <td>55.36</td>\n      <td>9600.0</td>\n      <td>2025</td>\n      <td>NaN</td>\n      <td>parter</td>\n      <td>3</td>\n      <td>naziemne</td>\n      <td>2025</td>\n      <td>pierwotny (oferta dewelopera)</td>\n    </tr>\n    <tr>\n      <th>462</th>\n      <td>https://krakow.nieruchomosci-online.pl/nowe-mi...</td>\n      <td>Nowe mieszkanie Małe Błonia, ul. Brązownicza 12</td>\n      <td>NaN</td>\n      <td>1249859.0</td>\n      <td>69.63</td>\n      <td>17950.0</td>\n      <td>oddana do użytku</td>\n      <td>NaN</td>\n      <td>parter</td>\n      <td>3</td>\n      <td>garaż</td>\n      <td>III kwartał 2023, oddana do użytku</td>\n      <td>pierwotny (oferta dewelopera)</td>\n    </tr>\n    <tr>\n      <th>503</th>\n      <td>https://wieliczka.nieruchomosci-online.pl/nowe...</td>\n      <td>Nowe mieszkanie ul. Bogucka 10</td>\n      <td>NaN</td>\n      <td>429000.0</td>\n      <td>34.66</td>\n      <td>12377.0</td>\n      <td>I kwartał 2024</td>\n      <td>NaN</td>\n      <td>parter</td>\n      <td>2</td>\n      <td>-</td>\n      <td>I kwartał 2024</td>\n      <td>pierwotny (oferta dewelopera)</td>\n    </tr>\n    <tr>\n      <th>553</th>\n      <td>https://wieliczka.nieruchomosci-online.pl/nowe...</td>\n      <td>Nowe mieszkanie ul. Jaworowa</td>\n      <td>NaN</td>\n      <td>534088.0</td>\n      <td>52.88</td>\n      <td>10100.0</td>\n      <td>marzec 2024</td>\n      <td>NaN</td>\n      <td>parter</td>\n      <td>3</td>\n      <td>garaż</td>\n      <td>marzec 2024</td>\n      <td>pierwotny (oferta dewelopera)</td>\n    </tr>\n    <tr>\n      <th>555</th>\n      <td>https://wieliczka.nieruchomosci-online.pl/nowe...</td>\n      <td>Nowe mieszkanie ul. Jaworowa</td>\n      <td>NaN</td>\n      <td>529700.0</td>\n      <td>52.97</td>\n      <td>10000.0</td>\n      <td>marzec 2024</td>\n      <td>NaN</td>\n      <td>parter</td>\n      <td>3</td>\n      <td>garaż</td>\n      <td>marzec 2024</td>\n      <td>pierwotny (oferta dewelopera)</td>\n    </tr>\n    <tr>\n      <th>556</th>\n      <td>https://wieliczka.nieruchomosci-online.pl/nowe...</td>\n      <td>Nowe mieszkanie ul. Jaworowa</td>\n      <td>NaN</td>\n      <td>449856.0</td>\n      <td>46.86</td>\n      <td>9600.0</td>\n      <td>marzec 2024</td>\n      <td>NaN</td>\n      <td>parter</td>\n      <td>2</td>\n      <td>garaż</td>\n      <td>marzec 2024</td>\n      <td>pierwotny (oferta dewelopera)</td>\n    </tr>\n    <tr>\n      <th>632</th>\n      <td>https://krakow.nieruchomosci-online.pl/mieszka...</td>\n      <td>Mieszkanie, ul. Grzegórzecka</td>\n      <td>Grzegórzecka, Kraków, małopolskie</td>\n      <td>103000.0</td>\n      <td>15.00</td>\n      <td>6866.0</td>\n      <td>parter</td>\n      <td>NaN</td>\n      <td>-</td>\n      <td>2022</td>\n      <td>tak</td>\n      <td>wtórny</td>\n      <td>NaN</td>\n    </tr>\n    <tr>\n      <th>1893</th>\n      <td>https://krakow.nieruchomosci-online.pl/mieszka...</td>\n      <td>Mieszkanie, Rynek Główny</td>\n      <td>Rynek Główny, Kraków, małopolskie</td>\n      <td>2225000.0</td>\n      <td>156.30</td>\n      <td>14235.0</td>\n      <td>2</td>\n      <td>3.0</td>\n      <td>-</td>\n      <td>1320</td>\n      <td>-</td>\n      <td>wtórny</td>\n      <td>NaN</td>\n    </tr>\n    <tr>\n      <th>2266</th>\n      <td>https://krakow.nieruchomosci-online.pl/mieszka...</td>\n      <td>Mieszkanie, ul. Okólna</td>\n      <td>Okólna, Na Kozłówce, Kraków, małopolskie</td>\n      <td>499000.0</td>\n      <td>25.00</td>\n      <td>19960.0</td>\n      <td>-</td>\n      <td>NaN</td>\n      <td>-</td>\n      <td>-</td>\n      <td>-</td>\n      <td>wtórny</td>\n      <td>NaN</td>\n    </tr>\n    <tr>\n      <th>2557</th>\n      <td>https://krakow.nieruchomosci-online.pl/mieszka...</td>\n      <td>Mieszkanie Kraków</td>\n      <td>Kraków, małopolskie</td>\n      <td>499001.0</td>\n      <td>25.33</td>\n      <td>19700.0</td>\n      <td>-</td>\n      <td>NaN</td>\n      <td>-</td>\n      <td>-</td>\n      <td>-</td>\n      <td>pierwotny (zobacz inne nowe mieszkania w Krako...</td>\n      <td>NaN</td>\n    </tr>\n    <tr>\n      <th>2603</th>\n      <td>https://krakow.nieruchomosci-online.pl/mieszka...</td>\n      <td>Apartament Olsza, ul. Rakowicka</td>\n      <td>Rakowicka 75, Olsza, Kraków, małopolskie</td>\n      <td>7700000.0</td>\n      <td>795.00</td>\n      <td>9685.0</td>\n      <td>2</td>\n      <td>2.0</td>\n      <td>-</td>\n      <td>2019</td>\n      <td>w garażu podziemnym</td>\n      <td>pierwotny (zobacz inne nowe mieszkania w Krako...</td>\n      <td>własność, księga wieczysta</td>\n    </tr>\n    <tr>\n      <th>2612</th>\n      <td>https://krakow.nieruchomosci-online.pl/mieszka...</td>\n      <td>Mieszkanie, ul. Felińskiego</td>\n      <td>Felińskiego, Górka Narodowa, Kraków, małopolskie</td>\n      <td>940000.0</td>\n      <td>62.24</td>\n      <td>15102.0</td>\n      <td>3</td>\n      <td>4.0</td>\n      <td>-</td>\n      <td>-</td>\n      <td>w garażu podziemnym</td>\n      <td>wtórny</td>\n      <td>NaN</td>\n    </tr>\n    <tr>\n      <th>2804</th>\n      <td>https://krakow.nieruchomosci-online.pl/mieszka...</td>\n      <td>Mieszkanie Dębniki, ul. Twardowskiego</td>\n      <td>Twardowskiego, Dębniki, Kraków, małopolskie</td>\n      <td>1250000.0</td>\n      <td>90.00</td>\n      <td>13900.0</td>\n      <td>4</td>\n      <td>4.0</td>\n      <td>-</td>\n      <td>-</td>\n      <td>garaż</td>\n      <td>wtórny</td>\n      <td>NaN</td>\n    </tr>\n    <tr>\n      <th>3166</th>\n      <td>https://krakow.nieruchomosci-online.pl/mieszka...</td>\n      <td>Mieszkanie, ul. Friedleina</td>\n      <td>Friedleina, Krowodrza, Kraków, małopolskie</td>\n      <td>1550000.0</td>\n      <td>80.20</td>\n      <td>19326.0</td>\n      <td>parter</td>\n      <td>2.0</td>\n      <td>-</td>\n      <td>-</td>\n      <td>-</td>\n      <td>NaN</td>\n      <td>NaN</td>\n    </tr>\n    <tr>\n      <th>3741</th>\n      <td>https://krakow.nieruchomosci-online.pl/mieszka...</td>\n      <td>Mieszkanie, ul. Ojcowska</td>\n      <td>Ojcowska, Bronowice, Kraków, małopolskie</td>\n      <td>499000.0</td>\n      <td>34.00</td>\n      <td>14676.0</td>\n      <td>-</td>\n      <td>NaN</td>\n      <td>-</td>\n      <td>-</td>\n      <td>-</td>\n      <td>wtórny</td>\n      <td>NaN</td>\n    </tr>\n    <tr>\n      <th>3891</th>\n      <td>https://krakow.nieruchomosci-online.pl/mieszka...</td>\n      <td>Mieszkanie, ul. Krakusa</td>\n      <td>Krakusa, Stare Podgórze, Kraków, małopolskie</td>\n      <td>439000.0</td>\n      <td>56.02</td>\n      <td>7836.0</td>\n      <td>1</td>\n      <td>NaN</td>\n      <td>-</td>\n      <td>-</td>\n      <td>parking publiczny / na ulicy</td>\n      <td>wtórny</td>\n      <td>własność</td>\n    </tr>\n  </tbody>\n</table>\n</div>"
     },
     "execution_count": 27,
     "metadata": {},
     "output_type": "execute_result"
    }
   ],
   "source": [
    "#niektóre mieszkania zamiast liczby pokoi mają wpisane \"parter/suterena/-\"?\n",
    "df_nieruchomosci[~df_nieruchomosci['no of rooms'].str.contains(r'\\d')]"
   ]
  },
  {
   "cell_type": "code",
   "execution_count": 28,
   "metadata": {
    "ExecuteTime": {
     "end_time": "2024-03-12T12:27:12.446513800Z",
     "start_time": "2024-03-12T12:27:12.242608800Z"
    }
   },
   "outputs": [],
   "source": [
    "#df_nieruchomosci['no of rooms'] = df_nieruchomosci['no of rooms'].str.replace(' ', '')\n",
    "#df_nieruchomosci['no of rooms'] = df_nieruchomosci['no of rooms'].str.extract('(\\d+)').astype(int)"
   ]
  },
  {
   "cell_type": "code",
   "execution_count": 29,
   "metadata": {
    "ExecuteTime": {
     "end_time": "2024-03-12T12:27:12.448052200Z",
     "start_time": "2024-03-12T12:27:12.247945300Z"
    }
   },
   "outputs": [
    {
     "data": {
      "text/plain": "                                                 url  \\\n0  https://krakow.nieruchomosci-online.pl/mieszka...   \n1  https://krakow.nieruchomosci-online.pl/mieszka...   \n2  https://krakow.nieruchomosci-online.pl/mieszka...   \n3  https://krakow.nieruchomosci-online.pl/mieszka...   \n4  https://krakow.nieruchomosci-online.pl/mieszka...   \n\n                       name/title  \\\n0  Mieszkanie, ul. Żelechowskiego   \n1         Mieszkanie, ul. Balicka   \n2          Mieszkanie, ul. Zauchy   \n3      Mieszkanie, ul. Racławicka   \n4        Mieszkanie, ul. Pustynna   \n\n                                          address      price    area  \\\n0  Żelechowskiego, Bronowice, Kraków, małopolskie   899000.0   51.70   \n1         Balicka, Bronowice, Kraków, małopolskie  1575000.0  125.00   \n2     Zauchy, Górka Narodowa, Kraków, małopolskie  1250000.0   65.23   \n3      Racławicka, Krowodrza, Kraków, małopolskie   740250.0   49.35   \n4            Pustynna, Kliny, Kraków, małopolskie  1200000.0   71.06   \n\n   price-per-area floor/store  no of floors/stores in the building  \\\n0         17388.0           1                                  3.0   \n1         12600.0           3                                  4.0   \n2         19162.0           2                                  5.0   \n3         15000.0           6                                 10.0   \n4         16887.0      parter                                  1.0   \n\n  no of rooms year of construction                 parking space  market  \\\n0           2                 1980                           tak  wtórny   \n1           6                 2004           w garażu podziemnym  wtórny   \n2           3                 2023                           tak  wtórny   \n3           2                 1950  parking publiczny / na ulicy  wtórny   \n4           3                 2013         garaż w bryle budynku  wtórny   \n\n            form of ownership  \n0                    własność  \n1  własność, księga wieczysta  \n2                         NaN  \n3                         NaN  \n4  własność, księga wieczysta  ",
      "text/html": "<div>\n<style scoped>\n    .dataframe tbody tr th:only-of-type {\n        vertical-align: middle;\n    }\n\n    .dataframe tbody tr th {\n        vertical-align: top;\n    }\n\n    .dataframe thead th {\n        text-align: right;\n    }\n</style>\n<table border=\"1\" class=\"dataframe\">\n  <thead>\n    <tr style=\"text-align: right;\">\n      <th></th>\n      <th>url</th>\n      <th>name/title</th>\n      <th>address</th>\n      <th>price</th>\n      <th>area</th>\n      <th>price-per-area</th>\n      <th>floor/store</th>\n      <th>no of floors/stores in the building</th>\n      <th>no of rooms</th>\n      <th>year of construction</th>\n      <th>parking space</th>\n      <th>market</th>\n      <th>form of ownership</th>\n    </tr>\n  </thead>\n  <tbody>\n    <tr>\n      <th>0</th>\n      <td>https://krakow.nieruchomosci-online.pl/mieszka...</td>\n      <td>Mieszkanie, ul. Żelechowskiego</td>\n      <td>Żelechowskiego, Bronowice, Kraków, małopolskie</td>\n      <td>899000.0</td>\n      <td>51.70</td>\n      <td>17388.0</td>\n      <td>1</td>\n      <td>3.0</td>\n      <td>2</td>\n      <td>1980</td>\n      <td>tak</td>\n      <td>wtórny</td>\n      <td>własność</td>\n    </tr>\n    <tr>\n      <th>1</th>\n      <td>https://krakow.nieruchomosci-online.pl/mieszka...</td>\n      <td>Mieszkanie, ul. Balicka</td>\n      <td>Balicka, Bronowice, Kraków, małopolskie</td>\n      <td>1575000.0</td>\n      <td>125.00</td>\n      <td>12600.0</td>\n      <td>3</td>\n      <td>4.0</td>\n      <td>6</td>\n      <td>2004</td>\n      <td>w garażu podziemnym</td>\n      <td>wtórny</td>\n      <td>własność, księga wieczysta</td>\n    </tr>\n    <tr>\n      <th>2</th>\n      <td>https://krakow.nieruchomosci-online.pl/mieszka...</td>\n      <td>Mieszkanie, ul. Zauchy</td>\n      <td>Zauchy, Górka Narodowa, Kraków, małopolskie</td>\n      <td>1250000.0</td>\n      <td>65.23</td>\n      <td>19162.0</td>\n      <td>2</td>\n      <td>5.0</td>\n      <td>3</td>\n      <td>2023</td>\n      <td>tak</td>\n      <td>wtórny</td>\n      <td>NaN</td>\n    </tr>\n    <tr>\n      <th>3</th>\n      <td>https://krakow.nieruchomosci-online.pl/mieszka...</td>\n      <td>Mieszkanie, ul. Racławicka</td>\n      <td>Racławicka, Krowodrza, Kraków, małopolskie</td>\n      <td>740250.0</td>\n      <td>49.35</td>\n      <td>15000.0</td>\n      <td>6</td>\n      <td>10.0</td>\n      <td>2</td>\n      <td>1950</td>\n      <td>parking publiczny / na ulicy</td>\n      <td>wtórny</td>\n      <td>NaN</td>\n    </tr>\n    <tr>\n      <th>4</th>\n      <td>https://krakow.nieruchomosci-online.pl/mieszka...</td>\n      <td>Mieszkanie, ul. Pustynna</td>\n      <td>Pustynna, Kliny, Kraków, małopolskie</td>\n      <td>1200000.0</td>\n      <td>71.06</td>\n      <td>16887.0</td>\n      <td>parter</td>\n      <td>1.0</td>\n      <td>3</td>\n      <td>2013</td>\n      <td>garaż w bryle budynku</td>\n      <td>wtórny</td>\n      <td>własność, księga wieczysta</td>\n    </tr>\n  </tbody>\n</table>\n</div>"
     },
     "execution_count": 29,
     "metadata": {},
     "output_type": "execute_result"
    }
   ],
   "source": [
    "df_nieruchomosci.head()"
   ]
  },
  {
   "cell_type": "code",
   "execution_count": 30,
   "metadata": {
    "ExecuteTime": {
     "end_time": "2024-03-12T12:27:12.457716400Z",
     "start_time": "2024-03-12T12:27:12.259488700Z"
    }
   },
   "outputs": [
    {
     "data": {
      "text/plain": "              price         area  price-per-area  \\\ncount  3.920000e+03  3949.000000     3920.000000   \nmean   1.023459e+06    62.012249    16783.809439   \nstd    7.258431e+05    36.452915     4992.176616   \nmin    1.030000e+05    12.300000     1816.000000   \n25%    6.800000e+05    41.760000    13802.500000   \n50%    8.406720e+05    54.770000    16072.500000   \n75%    1.116449e+06    70.000000    18926.000000   \nmax    1.600000e+07   795.000000    71018.000000   \n\n       no of floors/stores in the building  \ncount                          3710.000000  \nmean                              4.850135  \nstd                               2.531264  \nmin                               1.000000  \n25%                               3.000000  \n50%                               4.000000  \n75%                               6.000000  \nmax                              45.000000  ",
      "text/html": "<div>\n<style scoped>\n    .dataframe tbody tr th:only-of-type {\n        vertical-align: middle;\n    }\n\n    .dataframe tbody tr th {\n        vertical-align: top;\n    }\n\n    .dataframe thead th {\n        text-align: right;\n    }\n</style>\n<table border=\"1\" class=\"dataframe\">\n  <thead>\n    <tr style=\"text-align: right;\">\n      <th></th>\n      <th>price</th>\n      <th>area</th>\n      <th>price-per-area</th>\n      <th>no of floors/stores in the building</th>\n    </tr>\n  </thead>\n  <tbody>\n    <tr>\n      <th>count</th>\n      <td>3.920000e+03</td>\n      <td>3949.000000</td>\n      <td>3920.000000</td>\n      <td>3710.000000</td>\n    </tr>\n    <tr>\n      <th>mean</th>\n      <td>1.023459e+06</td>\n      <td>62.012249</td>\n      <td>16783.809439</td>\n      <td>4.850135</td>\n    </tr>\n    <tr>\n      <th>std</th>\n      <td>7.258431e+05</td>\n      <td>36.452915</td>\n      <td>4992.176616</td>\n      <td>2.531264</td>\n    </tr>\n    <tr>\n      <th>min</th>\n      <td>1.030000e+05</td>\n      <td>12.300000</td>\n      <td>1816.000000</td>\n      <td>1.000000</td>\n    </tr>\n    <tr>\n      <th>25%</th>\n      <td>6.800000e+05</td>\n      <td>41.760000</td>\n      <td>13802.500000</td>\n      <td>3.000000</td>\n    </tr>\n    <tr>\n      <th>50%</th>\n      <td>8.406720e+05</td>\n      <td>54.770000</td>\n      <td>16072.500000</td>\n      <td>4.000000</td>\n    </tr>\n    <tr>\n      <th>75%</th>\n      <td>1.116449e+06</td>\n      <td>70.000000</td>\n      <td>18926.000000</td>\n      <td>6.000000</td>\n    </tr>\n    <tr>\n      <th>max</th>\n      <td>1.600000e+07</td>\n      <td>795.000000</td>\n      <td>71018.000000</td>\n      <td>45.000000</td>\n    </tr>\n  </tbody>\n</table>\n</div>"
     },
     "execution_count": 30,
     "metadata": {},
     "output_type": "execute_result"
    }
   ],
   "source": [
    "df_nieruchomosci.describe()"
   ]
  },
  {
   "cell_type": "code",
   "outputs": [
    {
     "data": {
      "text/plain": "url                                       0\nname/title                                0\naddress                                 101\nprice                                    29\narea                                      0\nprice-per-area                           29\nfloor/store                               0\nno of floors/stores in the building     239\nno of rooms                               0\nyear of construction                      0\nparking space                             0\nmarket                                   31\nform of ownership                      2461\ndtype: int64"
     },
     "execution_count": 31,
     "metadata": {},
     "output_type": "execute_result"
    }
   ],
   "source": [
    "df_nieruchomosci.isnull().sum()"
   ],
   "metadata": {
    "collapsed": false,
    "ExecuteTime": {
     "end_time": "2024-03-12T12:27:12.480578800Z",
     "start_time": "2024-03-12T12:27:12.272916100Z"
    }
   },
   "execution_count": 31
  },
  {
   "cell_type": "code",
   "outputs": [
    {
     "data": {
      "text/plain": "(3949, 13)"
     },
     "execution_count": 32,
     "metadata": {},
     "output_type": "execute_result"
    }
   ],
   "source": [
    "df_nieruchomosci.shape"
   ],
   "metadata": {
    "collapsed": false,
    "ExecuteTime": {
     "end_time": "2024-03-12T12:28:05.709203200Z",
     "start_time": "2024-03-12T12:28:05.673803700Z"
    }
   },
   "execution_count": 32
  }
 ],
 "metadata": {
  "kernelspec": {
   "display_name": "conda-env",
   "language": "python",
   "name": "python3"
  },
  "language_info": {
   "codemirror_mode": {
    "name": "ipython",
    "version": 3
   },
   "file_extension": ".py",
   "mimetype": "text/x-python",
   "name": "python",
   "nbconvert_exporter": "python",
   "pygments_lexer": "ipython3",
   "version": "3.12.1"
  }
 },
 "nbformat": 4,
 "nbformat_minor": 2
}
