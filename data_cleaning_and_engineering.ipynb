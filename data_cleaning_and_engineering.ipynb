{
 "cells": [
  {
   "cell_type": "markdown",
   "metadata": {
    "collapsed": false
   },
   "source": [
    "# TO-DO STEPS PISANE NA PIERWSZYCH ZAJĘCIACH\n",
    "\n",
    "Data Scraping:\n",
    "\n",
    "\n",
    "## Data Processing (dla obu zbiorów danych)\n",
    "1. Ułożenie danych w kolumnach.\n",
    "2. Miejsca zerowe.\n",
    "3. Feature Engineering. (kolumna koordynaty geograficzne, \n",
    "\n",
    "\n",
    "## Data analysis. (+potencjalnie Streamlit)\n",
    "1. Prócz metrażu czynniki najbardziej wpływające na cenę.\n",
    "2. Analiza ceny do piętra\n",
    "3. Analiza odległości geograficznej od centrum\n",
    "4. Analiza parking/balon\n",
    "5. Analiza ceny/trendów w konkretnych dzielniach.\n",
    "\n",
    "\n",
    "# Jeśli model to.\n",
    "5. Onehotencoding.\n",
    "6. Train/Test\n",
    "7. Model.\n",
    "\n",
    "Bonus points:\n",
    "    wizualizacja geograficzna (streamlit - prettymap/mapbox)\n",
    "    stosunek ilości balkonów w mieszkaniu na dzielnice (balkon rate)\n",
    "    wpływ i częstotliwość '!' w nazwie oferty i ich zestawienie z ceną\n",
    "    \n",
    "\n",
    "# TO-DO 16.04.2024\n",
    "\n",
    "1. Docelowo proponuję, żeby pierwszy etap (pisany w jednym notatniku jupiter) zamknął się po data preparation i data engeenering, po tym etapie zapiszemy dane do plików do dalszych analiz (wielkrotne pobieranie koordynatów może być bolesne). Aby to osiągnąć trzeba:\n",
    "  - Uspójnić notatniki (na razie jeszcze nie dane :P), tak, byśmy pracowali na jednym.\n",
    "  - Dodać na początek chaina uzupełnienie zbiorów o nowe dane (można wyciąć fragmenty z utils) - tam, gdzie będziemy analizować dane statycznie i/lub przestrzennie (pierwotny plan).\n",
    "  - Jeśli idzie o analize w szeregach czasowych, to trochę inne para kaloszy, można zostawić na później -- chyba, że ktorś będzie chciał się tym zająć.\n",
    "  - Uważam, że trzeba wybrać, które analizy przeprowadzamy na uspójnionych z obu zbiorów danych, a które osobno na zbiorach - otodom ma więcej cech, nieruchomości online (chyba) bardziej rozróżnia pewne cechy (np. te garaże) - Do decyzji.\n",
    "  - Z obu zbiorów usunąć \"duplikaty\" - różne ogłoszenia tego samego mieszkania. Tu trzeba będzie przyjąć jakąś heurystykę.\n",
    "  - Uzupełnić koordynaty\n",
    "  - Na ich podstawie dodać kolumnę z odległością od wyróżnionego miejsca (centrum) w metrach.\n",
    "  - Zbiory zapisać\n",
    "\n",
    "\n",
    "  - Jeśli idzie o szeregi czasowe, to IMO data i cena w badanych punktach czasowych starczy (cokolwiek innego się tam jeszcze mogło zmieniać). Będzie trzeba wybrać tylko te oferty, które zmieniały się w tej kolumnie.\n",
    "\n",
    "2. Etap analiz:\n",
    "- Sprawdzić, co z labów Czecha jest do wykorzystania, bo mam przeczycie, że coś z tego, co u nie go robiliśmy się przyda - PCA chociażby i ten (dual) scatterplot.\n",
    "- Z drugich labów Czecha ten pearson corelation, to macierz korelacji, którą i tak planowaliśmy.\n",
    "- Na SISI będziemy trenować model drzew decyzyjnych, więc można go tu dodać też.\n",
    "- Trzeba przejrzeć, co jeszcze planowaliśmy i co jest w \"literaturze\" (bo znalzałem coś takiego), co jeszcze można przeprowadzić.\n",
    "\n",
    "\n",
    "3. Wizualizacja:\n",
    "Poza oczywstymi wykresikami, tabelami itp, ta heatmapa (oraz heatmapa+, jak ze stramlita) wydaje mi się fajnym bajerem. Można spróbować się podjąć. W oógle wydaje mi się, że w tym aspekcie geograficznym można będzie fajnie nie tylko przeprowadzać analizy, ale też pokazywać rzeczy.\n",
    "\n",
    "Ważna rzecz to dokumentowanie prac (albo w readme, albo zacząć odrębny dokument) nawet, gdy nic nie wychodzi.\n",
    "\n",
    "\n",
    "To są oczywiście moje wstępne i ogólne pomysły i jeśli macie inne, to śmiało wędrujcie w te strony, które Wam się wydadzą sensowne i słuszne.\n",
    "\n",
    "    "
   ]
  },
  {
   "metadata": {},
   "cell_type": "markdown",
   "source": "# Zbiór Otodom"
  },
  {
   "metadata": {},
   "cell_type": "markdown",
   "source": "## Załadowanie i agregacja danych"
  },
  {
   "cell_type": "code",
   "metadata": {
    "ExecuteTime": {
     "end_time": "2024-04-29T21:49:17.745505Z",
     "start_time": "2024-04-29T21:49:17.739981Z"
    }
   },
   "source": [
    "import numpy as np\n",
    "import pandas as pd"
   ],
   "outputs": [],
   "execution_count": 1
  },
  {
   "cell_type": "code",
   "metadata": {
    "ExecuteTime": {
     "end_time": "2024-04-29T21:49:26.598457Z",
     "start_time": "2024-04-29T21:49:26.282457Z"
    }
   },
   "source": [
    "df_otodom = pd.read_csv('datasets/timestamps/2024-03-08-otodom_dataset_raw.csv')\n",
    "df_2024_03_25_otodom_new_data = pd.read_csv('datasets/timestamps/2024-03-25-otodom-new_data.csv')\n",
    "df_2024_03_25_otodom_updated_data = pd.read_csv('datasets/timestamps/2024-03-25-otodom-updated_data.csv')\n",
    "df_2024_04_07_otodom_new_data = pd.read_csv('datasets/timestamps/2024-04-07-otodom-new_data.csv')\n",
    "df_2024_04_07_otodom_updated_data = pd.read_csv('datasets/timestamps/2024-04-07-otodom-updated_data.csv')\n",
    "df_2024_04_21_otodom_new_data = pd.read_csv('datasets/timestamps/2024-04-21-otodom-new_data.csv')\n",
    "df_2024_04_21_otodom_updated_data = pd.read_csv('datasets/timestamps/2024-04-21-otodom-updated_data.csv')"
   ],
   "outputs": [],
   "execution_count": 2
  },
  {
   "metadata": {
    "ExecuteTime": {
     "end_time": "2024-04-29T21:49:34.072719Z",
     "start_time": "2024-04-29T21:49:34.062867Z"
    }
   },
   "cell_type": "code",
   "source": [
    "def update_dataframe(oldest_df, updated_df, new_df):\n",
    "    def set_url_as_index(df):\n",
    "        if 'url' in df.columns:\n",
    "            df.set_index('url', inplace=True)\n",
    "        else:\n",
    "            raise ValueError(\"URL column not found. Please check the column names.\")\n",
    "    try:\n",
    "        set_url_as_index(oldest_df)\n",
    "        set_url_as_index(updated_df)\n",
    "        set_url_as_index(new_df)\n",
    "    except ValueError as e:\n",
    "        print(e)\n",
    "        return None\n",
    "    \n",
    "    oldest_df.update(updated_df)\n",
    "    merged_df = pd.concat([oldest_df, new_df], axis=0)\n",
    "    merged_df.reset_index(inplace=True)\n",
    "\n",
    "    return merged_df"
   ],
   "outputs": [],
   "execution_count": 3
  },
  {
   "metadata": {
    "ExecuteTime": {
     "end_time": "2024-04-29T21:49:37.418071Z",
     "start_time": "2024-04-29T21:49:37.282067Z"
    }
   },
   "cell_type": "code",
   "source": [
    "df_otodom = update_dataframe(df_otodom, df_2024_03_25_otodom_updated_data, df_2024_03_25_otodom_new_data)\n",
    "df_otodom = update_dataframe(df_otodom, df_2024_04_07_otodom_updated_data, df_2024_04_07_otodom_new_data)\n",
    "df_otodom = update_dataframe(df_otodom, df_2024_04_21_otodom_updated_data, df_2024_04_21_otodom_new_data)"
   ],
   "outputs": [],
   "execution_count": 4
  },
  {
   "cell_type": "code",
   "metadata": {
    "ExecuteTime": {
     "end_time": "2024-04-29T21:49:40.212365Z",
     "start_time": "2024-04-29T21:49:40.118146Z"
    }
   },
   "source": "df_otodom.info()",
   "outputs": [
    {
     "name": "stdout",
     "output_type": "stream",
     "text": [
      "<class 'pandas.core.frame.DataFrame'>\n",
      "RangeIndex: 12672 entries, 0 to 12671\n",
      "Data columns (total 20 columns):\n",
      " #   Column                Non-Null Count  Dtype \n",
      "---  ------                --------------  ----- \n",
      " 0   url                   12672 non-null  object\n",
      " 1   name/title            12672 non-null  object\n",
      " 2   address               12672 non-null  object\n",
      " 3   price                 12672 non-null  object\n",
      " 4   area                  12672 non-null  object\n",
      " 5   price-per-area        12092 non-null  object\n",
      " 6   floor/store           12433 non-null  object\n",
      " 7   no of rooms           12671 non-null  object\n",
      " 8   year of construction  11304 non-null  object\n",
      " 9   parking space         7625 non-null   object\n",
      " 10  market                11304 non-null  object\n",
      " 11  form of ownership     9617 non-null   object\n",
      " 12  condition             10077 non-null  object\n",
      " 13  rent                  5844 non-null   object\n",
      " 14  heating               9244 non-null   object\n",
      " 15  advertiser type       11304 non-null  object\n",
      " 16  elevator              11304 non-null  object\n",
      " 17  outdoor area          9508 non-null   object\n",
      " 18  building type         11304 non-null  object\n",
      " 19  building material     11304 non-null  object\n",
      "dtypes: object(20)\n",
      "memory usage: 1.9+ MB\n"
     ]
    }
   ],
   "execution_count": 5
  },
  {
   "metadata": {},
   "cell_type": "markdown",
   "source": "## Przygotowanie danych"
  },
  {
   "metadata": {},
   "cell_type": "markdown",
   "source": "### Cena"
  },
  {
   "metadata": {},
   "cell_type": "markdown",
   "source": "#### Usunięcie brakujących danych, uspójnienie oraz zmiana na typy liczbowe"
  },
  {
   "metadata": {
    "ExecuteTime": {
     "end_time": "2024-04-29T21:49:45.067536Z",
     "start_time": "2024-04-29T21:49:45.049541Z"
    }
   },
   "cell_type": "code",
   "source": [
    "# Wierszy bez ceny\n",
    "no_price = df_otodom[~df_otodom['price'].str.contains('\\d')]\n",
    "no_price['price'].count()"
   ],
   "outputs": [
    {
     "data": {
      "text/plain": [
       "583"
      ]
     },
     "execution_count": 6,
     "metadata": {},
     "output_type": "execute_result"
    }
   ],
   "execution_count": 6
  },
  {
   "metadata": {
    "ExecuteTime": {
     "end_time": "2024-04-29T21:49:48.197354Z",
     "start_time": "2024-04-29T21:49:48.183355Z"
    }
   },
   "cell_type": "code",
   "source": [
    "# Usunięcie wierszy z brakującą ceną (no_price)\n",
    "df_otodom.drop(no_price.index, inplace=True)\n",
    "df_otodom['price'].count()"
   ],
   "outputs": [
    {
     "data": {
      "text/plain": [
       "12089"
      ]
     },
     "execution_count": 7,
     "metadata": {},
     "output_type": "execute_result"
    }
   ],
   "execution_count": 7
  },
  {
   "cell_type": "markdown",
   "metadata": {},
   "source": "#### Ceny podane w innej walucie"
  },
  {
   "cell_type": "code",
   "metadata": {
    "ExecuteTime": {
     "end_time": "2024-04-29T21:49:51.564884Z",
     "start_time": "2024-04-29T21:49:51.550674Z"
    }
   },
   "source": [
    "# Wiersze w EUR\n",
    "different_currency = df_otodom[~df_otodom['price'].str.contains('zł', na=False)].copy()\n",
    "different_currency['price'].count()"
   ],
   "outputs": [
    {
     "data": {
      "text/plain": [
       "8"
      ]
     },
     "execution_count": 8,
     "metadata": {},
     "output_type": "execute_result"
    }
   ],
   "execution_count": 8
  },
  {
   "metadata": {
    "ExecuteTime": {
     "end_time": "2024-04-29T21:49:54.852744Z",
     "start_time": "2024-04-29T21:49:54.829890Z"
    }
   },
   "cell_type": "code",
   "source": [
    "different_currency['price-per-area'] = different_currency['price-per-area'].str.replace(' ', '').str.extract(r'(\\d+\\.\\d+|\\d+)').astype(float)\n",
    "different_currency['area'] = different_currency['area'].str.replace(',', '.').str.extract(r'(\\d+\\.\\d+|\\d+)').astype(float)"
   ],
   "outputs": [],
   "execution_count": 9
  },
  {
   "metadata": {
    "ExecuteTime": {
     "end_time": "2024-04-29T21:49:58.427573Z",
     "start_time": "2024-04-29T21:49:58.377050Z"
    }
   },
   "cell_type": "code",
   "source": "df_otodom.loc[different_currency.index]",
   "outputs": [
    {
     "data": {
      "text/plain": [
       "                                                    url  \\\n",
       "1265  https://www.otodom.pl/pl/oferta/penthouse-232m...   \n",
       "2056  https://www.otodom.pl/pl/oferta/penthouse-w-po...   \n",
       "3144  https://www.otodom.pl/pl/oferta/5-pokoi-taras-...   \n",
       "3977  https://www.otodom.pl/pl/oferta/chorwacja-spli...   \n",
       "4722  https://www.otodom.pl/pl/oferta/penthouse-tara...   \n",
       "4908  https://www.otodom.pl/pl/oferta/penthouse-w-od...   \n",
       "4995  https://www.otodom.pl/pl/oferta/penthouse-star...   \n",
       "9359  https://www.otodom.pl/pl/oferta/penthouse-w-od...   \n",
       "\n",
       "                                             name/title  \\\n",
       "1265  Penthouse 232m w zabytkowej kamienicy Stare Mi...   \n",
       "2056                 Penthouse w pobliżu Rynku Głównego   \n",
       "3144  5 pokoi | Taras 77m2 | Komórka | Centrum | Mar...   \n",
       "3977               Chorwacja Split luksusowy apartament   \n",
       "4722     Penthouse tarasem na dachu w kamienicy z windą   \n",
       "4908  Penthouse w odrestaurowanej kamienicy - taras ...   \n",
       "4995      Penthouse Stare Miasto II Poziomy. Taras 70m2   \n",
       "9359  Penthouse w odrestaurowanej kamienicy - taras ...   \n",
       "\n",
       "                                                address          price  \\\n",
       "1265      Nowy Świat, Stare Miasto, Kraków, małopolskie  1 149 999 EUR   \n",
       "2056  marszałka JózefaPiłsudskiego, Nowy Świat, Star...  1 150 000 EUR   \n",
       "3144  ul. marsz. Józefa Piłsudskiego, Nowy Świat, St...  1 149 999 EUR   \n",
       "3977          Krowodrza, Krowodrza, Kraków, małopolskie    585 280 EUR   \n",
       "4722  Marszałka Józefa Piłsudskiego, Nowy Świat, Sta...  1 150 000 EUR   \n",
       "4908  ul. marsz. Józefa Piłsudskiego, Piasek, Stare ...  1 150 000 EUR   \n",
       "4995  Marszałka Józefa Piłsudskiego, Nowy Świat, Sta...  1 150 000 EUR   \n",
       "9359  ul. marsz. Józefa Piłsudskiego, Piasek, Stare ...  1 150 000 EUR   \n",
       "\n",
       "          area price-per-area floor/store no of rooms year of construction  \\\n",
       "1265  232,1 m²   21 368 zł/m²         4/4           5                 1906   \n",
       "2056    232 m²   21 377 zł/m²         4/5           9                 1906   \n",
       "3144  232,1 m²   21 368 zł/m²         4/4           5                 1908   \n",
       "3977  91,45 m²   27 601 zł/m²         3/4           4                 2025   \n",
       "4722  228,7 m²   21 686 zł/m²         4/5           5                 1906   \n",
       "4908    228 m²   21 896 zł/m²         4/5         5.0                 1906   \n",
       "4995  232,1 m²   21 368 zł/m²         4/5           5                 1906   \n",
       "9359    228 m²   21 752 zł/m²         4/5           5                 1906   \n",
       "\n",
       "                 parking space     market form of ownership        condition  \\\n",
       "1265                       NaN     wtórny    pełna własność  do zamieszkania   \n",
       "2056                       NaN     wtórny    pełna własność  do zamieszkania   \n",
       "3144  garaż/miejsce parkingowe     wtórny    pełna własność  do zamieszkania   \n",
       "3977  garaż/miejsce parkingowe  pierwotny    pełna własność  do zamieszkania   \n",
       "4722                       NaN     wtórny    pełna własność  do zamieszkania   \n",
       "4908  garaż/miejsce parkingowe     wtórny    pełna własność  do zamieszkania   \n",
       "4995                       NaN     wtórny               NaN              NaN   \n",
       "9359  garaż/miejsce parkingowe     wtórny    pełna własność  do zamieszkania   \n",
       "\n",
       "          rent      heating      advertiser type elevator   outdoor area  \\\n",
       "1265       NaN       gazowe  biuro nieruchomości      nie            NaN   \n",
       "2056  1 700 zł       gazowe  biuro nieruchomości      tak  balkon, taras   \n",
       "3144    850 zł       gazowe  biuro nieruchomości      tak  taras, balkon   \n",
       "3977   100 EUR  elektryczne             prywatny      tak  balkon, taras   \n",
       "4722       NaN          NaN  biuro nieruchomości      tak  balkon, taras   \n",
       "4908    220 zł       gazowe  biuro nieruchomości      tak  taras, balkon   \n",
       "4995       NaN          NaN  biuro nieruchomości      nie            NaN   \n",
       "9359    220 zł       gazowe  biuro nieruchomości      tak  taras, balkon   \n",
       "\n",
       "        building type building material  \n",
       "1265        kamienica             cegła  \n",
       "2056        kamienica   brak informacji  \n",
       "3144        kamienica             cegła  \n",
       "3977  apartamentowiec           silikat  \n",
       "4722        kamienica   brak informacji  \n",
       "4908        kamienica             cegła  \n",
       "4995  brak informacji   brak informacji  \n",
       "9359        kamienica             cegła  "
      ],
      "text/html": [
       "<div>\n",
       "<style scoped>\n",
       "    .dataframe tbody tr th:only-of-type {\n",
       "        vertical-align: middle;\n",
       "    }\n",
       "\n",
       "    .dataframe tbody tr th {\n",
       "        vertical-align: top;\n",
       "    }\n",
       "\n",
       "    .dataframe thead th {\n",
       "        text-align: right;\n",
       "    }\n",
       "</style>\n",
       "<table border=\"1\" class=\"dataframe\">\n",
       "  <thead>\n",
       "    <tr style=\"text-align: right;\">\n",
       "      <th></th>\n",
       "      <th>url</th>\n",
       "      <th>name/title</th>\n",
       "      <th>address</th>\n",
       "      <th>price</th>\n",
       "      <th>area</th>\n",
       "      <th>price-per-area</th>\n",
       "      <th>floor/store</th>\n",
       "      <th>no of rooms</th>\n",
       "      <th>year of construction</th>\n",
       "      <th>parking space</th>\n",
       "      <th>market</th>\n",
       "      <th>form of ownership</th>\n",
       "      <th>condition</th>\n",
       "      <th>rent</th>\n",
       "      <th>heating</th>\n",
       "      <th>advertiser type</th>\n",
       "      <th>elevator</th>\n",
       "      <th>outdoor area</th>\n",
       "      <th>building type</th>\n",
       "      <th>building material</th>\n",
       "    </tr>\n",
       "  </thead>\n",
       "  <tbody>\n",
       "    <tr>\n",
       "      <th>1265</th>\n",
       "      <td>https://www.otodom.pl/pl/oferta/penthouse-232m...</td>\n",
       "      <td>Penthouse 232m w zabytkowej kamienicy Stare Mi...</td>\n",
       "      <td>Nowy Świat, Stare Miasto, Kraków, małopolskie</td>\n",
       "      <td>1 149 999 EUR</td>\n",
       "      <td>232,1 m²</td>\n",
       "      <td>21 368 zł/m²</td>\n",
       "      <td>4/4</td>\n",
       "      <td>5</td>\n",
       "      <td>1906</td>\n",
       "      <td>NaN</td>\n",
       "      <td>wtórny</td>\n",
       "      <td>pełna własność</td>\n",
       "      <td>do zamieszkania</td>\n",
       "      <td>NaN</td>\n",
       "      <td>gazowe</td>\n",
       "      <td>biuro nieruchomości</td>\n",
       "      <td>nie</td>\n",
       "      <td>NaN</td>\n",
       "      <td>kamienica</td>\n",
       "      <td>cegła</td>\n",
       "    </tr>\n",
       "    <tr>\n",
       "      <th>2056</th>\n",
       "      <td>https://www.otodom.pl/pl/oferta/penthouse-w-po...</td>\n",
       "      <td>Penthouse w pobliżu Rynku Głównego</td>\n",
       "      <td>marszałka JózefaPiłsudskiego, Nowy Świat, Star...</td>\n",
       "      <td>1 150 000 EUR</td>\n",
       "      <td>232 m²</td>\n",
       "      <td>21 377 zł/m²</td>\n",
       "      <td>4/5</td>\n",
       "      <td>9</td>\n",
       "      <td>1906</td>\n",
       "      <td>NaN</td>\n",
       "      <td>wtórny</td>\n",
       "      <td>pełna własność</td>\n",
       "      <td>do zamieszkania</td>\n",
       "      <td>1 700 zł</td>\n",
       "      <td>gazowe</td>\n",
       "      <td>biuro nieruchomości</td>\n",
       "      <td>tak</td>\n",
       "      <td>balkon, taras</td>\n",
       "      <td>kamienica</td>\n",
       "      <td>brak informacji</td>\n",
       "    </tr>\n",
       "    <tr>\n",
       "      <th>3144</th>\n",
       "      <td>https://www.otodom.pl/pl/oferta/5-pokoi-taras-...</td>\n",
       "      <td>5 pokoi | Taras 77m2 | Komórka | Centrum | Mar...</td>\n",
       "      <td>ul. marsz. Józefa Piłsudskiego, Nowy Świat, St...</td>\n",
       "      <td>1 149 999 EUR</td>\n",
       "      <td>232,1 m²</td>\n",
       "      <td>21 368 zł/m²</td>\n",
       "      <td>4/4</td>\n",
       "      <td>5</td>\n",
       "      <td>1908</td>\n",
       "      <td>garaż/miejsce parkingowe</td>\n",
       "      <td>wtórny</td>\n",
       "      <td>pełna własność</td>\n",
       "      <td>do zamieszkania</td>\n",
       "      <td>850 zł</td>\n",
       "      <td>gazowe</td>\n",
       "      <td>biuro nieruchomości</td>\n",
       "      <td>tak</td>\n",
       "      <td>taras, balkon</td>\n",
       "      <td>kamienica</td>\n",
       "      <td>cegła</td>\n",
       "    </tr>\n",
       "    <tr>\n",
       "      <th>3977</th>\n",
       "      <td>https://www.otodom.pl/pl/oferta/chorwacja-spli...</td>\n",
       "      <td>Chorwacja Split luksusowy apartament</td>\n",
       "      <td>Krowodrza, Krowodrza, Kraków, małopolskie</td>\n",
       "      <td>585 280 EUR</td>\n",
       "      <td>91,45 m²</td>\n",
       "      <td>27 601 zł/m²</td>\n",
       "      <td>3/4</td>\n",
       "      <td>4</td>\n",
       "      <td>2025</td>\n",
       "      <td>garaż/miejsce parkingowe</td>\n",
       "      <td>pierwotny</td>\n",
       "      <td>pełna własność</td>\n",
       "      <td>do zamieszkania</td>\n",
       "      <td>100 EUR</td>\n",
       "      <td>elektryczne</td>\n",
       "      <td>prywatny</td>\n",
       "      <td>tak</td>\n",
       "      <td>balkon, taras</td>\n",
       "      <td>apartamentowiec</td>\n",
       "      <td>silikat</td>\n",
       "    </tr>\n",
       "    <tr>\n",
       "      <th>4722</th>\n",
       "      <td>https://www.otodom.pl/pl/oferta/penthouse-tara...</td>\n",
       "      <td>Penthouse tarasem na dachu w kamienicy z windą</td>\n",
       "      <td>Marszałka Józefa Piłsudskiego, Nowy Świat, Sta...</td>\n",
       "      <td>1 150 000 EUR</td>\n",
       "      <td>228,7 m²</td>\n",
       "      <td>21 686 zł/m²</td>\n",
       "      <td>4/5</td>\n",
       "      <td>5</td>\n",
       "      <td>1906</td>\n",
       "      <td>NaN</td>\n",
       "      <td>wtórny</td>\n",
       "      <td>pełna własność</td>\n",
       "      <td>do zamieszkania</td>\n",
       "      <td>NaN</td>\n",
       "      <td>NaN</td>\n",
       "      <td>biuro nieruchomości</td>\n",
       "      <td>tak</td>\n",
       "      <td>balkon, taras</td>\n",
       "      <td>kamienica</td>\n",
       "      <td>brak informacji</td>\n",
       "    </tr>\n",
       "    <tr>\n",
       "      <th>4908</th>\n",
       "      <td>https://www.otodom.pl/pl/oferta/penthouse-w-od...</td>\n",
       "      <td>Penthouse w odrestaurowanej kamienicy - taras ...</td>\n",
       "      <td>ul. marsz. Józefa Piłsudskiego, Piasek, Stare ...</td>\n",
       "      <td>1 150 000 EUR</td>\n",
       "      <td>228 m²</td>\n",
       "      <td>21 896 zł/m²</td>\n",
       "      <td>4/5</td>\n",
       "      <td>5.0</td>\n",
       "      <td>1906</td>\n",
       "      <td>garaż/miejsce parkingowe</td>\n",
       "      <td>wtórny</td>\n",
       "      <td>pełna własność</td>\n",
       "      <td>do zamieszkania</td>\n",
       "      <td>220 zł</td>\n",
       "      <td>gazowe</td>\n",
       "      <td>biuro nieruchomości</td>\n",
       "      <td>tak</td>\n",
       "      <td>taras, balkon</td>\n",
       "      <td>kamienica</td>\n",
       "      <td>cegła</td>\n",
       "    </tr>\n",
       "    <tr>\n",
       "      <th>4995</th>\n",
       "      <td>https://www.otodom.pl/pl/oferta/penthouse-star...</td>\n",
       "      <td>Penthouse Stare Miasto II Poziomy. Taras 70m2</td>\n",
       "      <td>Marszałka Józefa Piłsudskiego, Nowy Świat, Sta...</td>\n",
       "      <td>1 150 000 EUR</td>\n",
       "      <td>232,1 m²</td>\n",
       "      <td>21 368 zł/m²</td>\n",
       "      <td>4/5</td>\n",
       "      <td>5</td>\n",
       "      <td>1906</td>\n",
       "      <td>NaN</td>\n",
       "      <td>wtórny</td>\n",
       "      <td>NaN</td>\n",
       "      <td>NaN</td>\n",
       "      <td>NaN</td>\n",
       "      <td>NaN</td>\n",
       "      <td>biuro nieruchomości</td>\n",
       "      <td>nie</td>\n",
       "      <td>NaN</td>\n",
       "      <td>brak informacji</td>\n",
       "      <td>brak informacji</td>\n",
       "    </tr>\n",
       "    <tr>\n",
       "      <th>9359</th>\n",
       "      <td>https://www.otodom.pl/pl/oferta/penthouse-w-od...</td>\n",
       "      <td>Penthouse w odrestaurowanej kamienicy - taras ...</td>\n",
       "      <td>ul. marsz. Józefa Piłsudskiego, Piasek, Stare ...</td>\n",
       "      <td>1 150 000 EUR</td>\n",
       "      <td>228 m²</td>\n",
       "      <td>21 752 zł/m²</td>\n",
       "      <td>4/5</td>\n",
       "      <td>5</td>\n",
       "      <td>1906</td>\n",
       "      <td>garaż/miejsce parkingowe</td>\n",
       "      <td>wtórny</td>\n",
       "      <td>pełna własność</td>\n",
       "      <td>do zamieszkania</td>\n",
       "      <td>220 zł</td>\n",
       "      <td>gazowe</td>\n",
       "      <td>biuro nieruchomości</td>\n",
       "      <td>tak</td>\n",
       "      <td>taras, balkon</td>\n",
       "      <td>kamienica</td>\n",
       "      <td>cegła</td>\n",
       "    </tr>\n",
       "  </tbody>\n",
       "</table>\n",
       "</div>"
      ]
     },
     "execution_count": 10,
     "metadata": {},
     "output_type": "execute_result"
    }
   ],
   "execution_count": 10
  },
  {
   "metadata": {
    "ExecuteTime": {
     "end_time": "2024-04-29T21:50:02.426993Z",
     "start_time": "2024-04-29T21:50:02.390363Z"
    }
   },
   "cell_type": "code",
   "source": [
    "# zamiana cen na wartości liczbowe\n",
    "df_otodom['price'] = df_otodom['price'].str.replace(' ', '').str.replace(',', '.')\n",
    "df_otodom['price'] = df_otodom['price'].str.extract('(\\d+\\.\\d+|\\d+)').astype(float)"
   ],
   "outputs": [],
   "execution_count": 11
  },
  {
   "cell_type": "code",
   "metadata": {
    "ExecuteTime": {
     "end_time": "2024-04-29T21:50:05.732151Z",
     "start_time": "2024-04-29T21:50:05.685139Z"
    }
   },
   "source": [
    "# przeliczanie ceny na podstawie metrażu i ceny za metr podanej w PLN\n",
    "different_currency.loc[:, 'price'] = (different_currency['price-per-area'] * different_currency['area'])\n",
    "df_otodom.loc[different_currency.index, 'price'] = different_currency['price'].astype(float)\n",
    "df_otodom.loc[different_currency.index, 'price']"
   ],
   "outputs": [
    {
     "data": {
      "text/plain": [
       "1265    4959512.80\n",
       "2056    4959464.00\n",
       "3144    4959512.80\n",
       "3977    2524111.45\n",
       "4722    4959588.20\n",
       "4908    4992288.00\n",
       "4995    4959512.80\n",
       "9359    4959456.00\n",
       "Name: price, dtype: float64"
      ]
     },
     "execution_count": 12,
     "metadata": {},
     "output_type": "execute_result"
    }
   ],
   "execution_count": 12
  },
  {
   "metadata": {
    "ExecuteTime": {
     "end_time": "2024-04-29T21:50:11.163549Z",
     "start_time": "2024-04-29T21:50:11.151218Z"
    }
   },
   "cell_type": "code",
   "source": [
    "# Usunięcie złapanego wiersza z mieszkaniem z Chorwacji\n",
    "df_otodom.drop(index=3977, inplace=True)"
   ],
   "outputs": [],
   "execution_count": 13
  },
  {
   "cell_type": "code",
   "metadata": {
    "ExecuteTime": {
     "end_time": "2024-04-29T21:50:13.509320Z",
     "start_time": "2024-04-29T21:50:13.502273Z"
    }
   },
   "source": [
    "df_otodom['price'].count()"
   ],
   "outputs": [
    {
     "data": {
      "text/plain": [
       "12088"
      ]
     },
     "execution_count": 14,
     "metadata": {},
     "output_type": "execute_result"
    }
   ],
   "execution_count": 14
  },
  {
   "cell_type": "markdown",
   "metadata": {},
   "source": "### Zamiana wartości w kolumnach na typy liczbowe"
  },
  {
   "metadata": {},
   "cell_type": "markdown",
   "source": "#### metraż"
  },
  {
   "cell_type": "code",
   "metadata": {
    "ExecuteTime": {
     "end_time": "2024-04-29T21:50:17.619855Z",
     "start_time": "2024-04-29T21:50:17.599859Z"
    }
   },
   "source": [
    "df_otodom['area'] = df_otodom['area'].str.replace(' m²', '')\n",
    "df_otodom['area'] = df_otodom['area'].str.replace(' ', '')\n",
    "df_otodom['area'] = df_otodom['area'].str.replace(',', '.').astype(float)"
   ],
   "outputs": [],
   "execution_count": 15
  },
  {
   "metadata": {},
   "cell_type": "markdown",
   "source": "#### cena za metr"
  },
  {
   "cell_type": "code",
   "metadata": {
    "ExecuteTime": {
     "end_time": "2024-04-29T21:50:20.160209Z",
     "start_time": "2024-04-29T21:50:20.141213Z"
    }
   },
   "source": [
    "# df_otodom[df_otodom['price-per-area'].str.contains(r'\\d', na=False).shape[0] & ~df_otodom['price-per-area'].str.contains('zł', na=False)].shape[0]\n",
    "df_otodom[(df_otodom['price-per-area'].str.contains(r'\\d', na=False)) & (~df_otodom['price-per-area'].str.contains('zł', na=False))].shape[0]"
   ],
   "outputs": [
    {
     "data": {
      "text/plain": [
       "0"
      ]
     },
     "execution_count": 16,
     "metadata": {},
     "output_type": "execute_result"
    }
   ],
   "execution_count": 16
  },
  {
   "cell_type": "code",
   "metadata": {
    "ExecuteTime": {
     "end_time": "2024-04-29T21:50:23.043326Z",
     "start_time": "2024-04-29T21:50:23.036405Z"
    }
   },
   "source": "df_otodom[df_otodom['price-per-area'].isnull()].shape[0]",
   "outputs": [
    {
     "data": {
      "text/plain": [
       "0"
      ]
     },
     "execution_count": 17,
     "metadata": {},
     "output_type": "execute_result"
    }
   ],
   "execution_count": 17
  },
  {
   "cell_type": "code",
   "metadata": {
    "ExecuteTime": {
     "end_time": "2024-04-29T21:50:25.451015Z",
     "start_time": "2024-04-29T21:50:25.431989Z"
    }
   },
   "source": [
    "df_otodom['price-per-area'] = df_otodom['price-per-area'].str.replace(' zł/m²', '').str.replace(' ', '').str.replace(',', '.')\n",
    "df_otodom['price-per-area'] = df_otodom['price-per-area'].astype(float)"
   ],
   "outputs": [],
   "execution_count": 18
  },
  {
   "metadata": {},
   "cell_type": "markdown",
   "source": "#### czynsz"
  },
  {
   "cell_type": "code",
   "metadata": {
    "ExecuteTime": {
     "end_time": "2024-04-29T21:50:30.721192Z",
     "start_time": "2024-04-29T21:50:30.695466Z"
    }
   },
   "source": [
    "# Wiersze w innej walucie\n",
    "df_otodom[df_otodom['rent'].str.contains(r'\\d', na=False) & ~df_otodom['rent'].str.contains('zł', na=False)]"
   ],
   "outputs": [
    {
     "data": {
      "text/plain": [
       "                                                    url  \\\n",
       "6335  https://www.otodom.pl/pl/oferta/2m-wysoki-stan...   \n",
       "\n",
       "                                        name/title  \\\n",
       "6335  2M! Wysoki Standard| Gotowe| Balkon | Widok!   \n",
       "\n",
       "                                                address     price   area  \\\n",
       "6335  Wola Duchacka, Podgórze Duchackie, Kraków, mał...  620000.0  35.55   \n",
       "\n",
       "      price-per-area floor/store no of rooms year of construction  \\\n",
       "6335         17440.0        7/11           2                 2019   \n",
       "\n",
       "     parking space  market form of ownership        condition     rent  \\\n",
       "6335           NaN  wtórny    pełna własność  do zamieszkania  420 GBP   \n",
       "\n",
       "       heating      advertiser type elevator outdoor area building type  \\\n",
       "6335  miejskie  biuro nieruchomości      tak       balkon          blok   \n",
       "\n",
       "     building material  \n",
       "6335   brak informacji  "
      ],
      "text/html": [
       "<div>\n",
       "<style scoped>\n",
       "    .dataframe tbody tr th:only-of-type {\n",
       "        vertical-align: middle;\n",
       "    }\n",
       "\n",
       "    .dataframe tbody tr th {\n",
       "        vertical-align: top;\n",
       "    }\n",
       "\n",
       "    .dataframe thead th {\n",
       "        text-align: right;\n",
       "    }\n",
       "</style>\n",
       "<table border=\"1\" class=\"dataframe\">\n",
       "  <thead>\n",
       "    <tr style=\"text-align: right;\">\n",
       "      <th></th>\n",
       "      <th>url</th>\n",
       "      <th>name/title</th>\n",
       "      <th>address</th>\n",
       "      <th>price</th>\n",
       "      <th>area</th>\n",
       "      <th>price-per-area</th>\n",
       "      <th>floor/store</th>\n",
       "      <th>no of rooms</th>\n",
       "      <th>year of construction</th>\n",
       "      <th>parking space</th>\n",
       "      <th>market</th>\n",
       "      <th>form of ownership</th>\n",
       "      <th>condition</th>\n",
       "      <th>rent</th>\n",
       "      <th>heating</th>\n",
       "      <th>advertiser type</th>\n",
       "      <th>elevator</th>\n",
       "      <th>outdoor area</th>\n",
       "      <th>building type</th>\n",
       "      <th>building material</th>\n",
       "    </tr>\n",
       "  </thead>\n",
       "  <tbody>\n",
       "    <tr>\n",
       "      <th>6335</th>\n",
       "      <td>https://www.otodom.pl/pl/oferta/2m-wysoki-stan...</td>\n",
       "      <td>2M! Wysoki Standard| Gotowe| Balkon | Widok!</td>\n",
       "      <td>Wola Duchacka, Podgórze Duchackie, Kraków, mał...</td>\n",
       "      <td>620000.0</td>\n",
       "      <td>35.55</td>\n",
       "      <td>17440.0</td>\n",
       "      <td>7/11</td>\n",
       "      <td>2</td>\n",
       "      <td>2019</td>\n",
       "      <td>NaN</td>\n",
       "      <td>wtórny</td>\n",
       "      <td>pełna własność</td>\n",
       "      <td>do zamieszkania</td>\n",
       "      <td>420 GBP</td>\n",
       "      <td>miejskie</td>\n",
       "      <td>biuro nieruchomości</td>\n",
       "      <td>tak</td>\n",
       "      <td>balkon</td>\n",
       "      <td>blok</td>\n",
       "      <td>brak informacji</td>\n",
       "    </tr>\n",
       "  </tbody>\n",
       "</table>\n",
       "</div>"
      ]
     },
     "execution_count": 19,
     "metadata": {},
     "output_type": "execute_result"
    }
   ],
   "execution_count": 19
  },
  {
   "cell_type": "code",
   "metadata": {
    "ExecuteTime": {
     "end_time": "2024-04-29T21:50:33.760093Z",
     "start_time": "2024-04-29T21:50:33.747189Z"
    }
   },
   "source": [
    "eur_rent_price = df_otodom[df_otodom['rent'].str.contains('EUR', na=False)]\n",
    "gbp_rent_price = df_otodom[df_otodom['rent'].str.contains('GBP', na=False)]"
   ],
   "outputs": [],
   "execution_count": 20
  },
  {
   "cell_type": "code",
   "metadata": {
    "ExecuteTime": {
     "end_time": "2024-04-29T21:50:36.544790Z",
     "start_time": "2024-04-29T21:50:36.524265Z"
    }
   },
   "source": [
    "# zamiana wartości rent na typ liczbowy\n",
    "df_otodom['rent'] = df_otodom['rent'].str.replace(' ', '').str.replace(',', '.').str.extract('(\\d+\\.\\d+|\\d+)').astype(float)"
   ],
   "outputs": [],
   "execution_count": 21
  },
  {
   "metadata": {
    "ExecuteTime": {
     "end_time": "2024-04-29T21:50:43.053192Z",
     "start_time": "2024-04-29T21:50:39.239973Z"
    }
   },
   "cell_type": "code",
   "source": [
    "import yfinance as yf\n",
    "\n",
    "eur = yf.Ticker(\"EURPLN=X\")\n",
    "gbp = yf.Ticker(\"GBPPLN=X\")\n",
    "euro_exchange_rate = eur.info['fiftyDayAverage']\n",
    "gbp_exchange_rate = gbp.info['fiftyDayAverage']\n",
    "print(euro_exchange_rate)\n",
    "print(gbp_exchange_rate)"
   ],
   "outputs": [
    {
     "name": "stdout",
     "output_type": "stream",
     "text": [
      "4.3038054\n",
      "5.0287547\n"
     ]
    }
   ],
   "execution_count": 22
  },
  {
   "cell_type": "code",
   "metadata": {
    "ExecuteTime": {
     "end_time": "2024-04-29T21:50:45.900479Z",
     "start_time": "2024-04-29T21:50:45.893591Z"
    }
   },
   "source": [
    "# euro_exchange_rate = 4.28\n",
    "# gbp_exchange_rate = 4.99\n",
    "\n",
    "df_otodom.loc[eur_rent_price.index, 'rent'] *= euro_exchange_rate\n",
    "df_otodom.loc[gbp_rent_price.index, 'rent'] *= gbp_exchange_rate"
   ],
   "outputs": [],
   "execution_count": 23
  },
  {
   "metadata": {
    "ExecuteTime": {
     "end_time": "2024-04-29T21:50:48.583330Z",
     "start_time": "2024-04-29T21:50:48.571042Z"
    }
   },
   "cell_type": "code",
   "source": [
    "# Średnia po wycięciu outliersów do ew. uzupełnienia\n",
    "mean_rent = df_otodom['rent'].mean()\n",
    "std_rent = df_otodom['rent'].std()\n",
    "\n",
    "filtered_std_rent = df_otodom[(df_otodom['rent'] > (mean_rent - std_rent)) & \n",
    "                        (df_otodom['rent'] < (mean_rent + std_rent))]\n",
    "\n",
    "new_mean_rent = filtered_std_rent['rent'].mean()\n",
    "new_mean_rent"
   ],
   "outputs": [
    {
     "data": {
      "text/plain": [
       "541.1313434298921"
      ]
     },
     "execution_count": 24,
     "metadata": {},
     "output_type": "execute_result"
    }
   ],
   "execution_count": 24
  },
  {
   "metadata": {},
   "cell_type": "markdown",
   "source": "#### liczba pokoi"
  },
  {
   "metadata": {
    "ExecuteTime": {
     "end_time": "2024-04-29T21:50:52.258397Z",
     "start_time": "2024-04-29T21:50:52.238880Z"
    }
   },
   "cell_type": "code",
   "source": [
    "df_otodom['no of rooms'] = df_otodom['no of rooms'].str.replace(' ', '')\n",
    "print(df_otodom[df_otodom['no of rooms'].isna()].shape[0])\n",
    "df_otodom.dropna(subset=['no of rooms'], inplace=True)"
   ],
   "outputs": [
    {
     "name": "stdout",
     "output_type": "stream",
     "text": [
      "346\n"
     ]
    }
   ],
   "execution_count": 25
  },
  {
   "cell_type": "code",
   "metadata": {
    "ExecuteTime": {
     "end_time": "2024-04-29T21:51:05.426562Z",
     "start_time": "2024-04-29T21:51:05.406568Z"
    }
   },
   "source": "df_otodom['no of rooms'] = df_otodom['no of rooms'].str.extract('(\\d+)').astype(int)",
   "outputs": [],
   "execution_count": 26
  },
  {
   "metadata": {},
   "cell_type": "markdown",
   "source": "#### piętro"
  },
  {
   "cell_type": "code",
   "metadata": {
    "ExecuteTime": {
     "end_time": "2024-04-29T21:51:08.319838Z",
     "start_time": "2024-04-29T21:51:08.234545Z"
    }
   },
   "source": [
    "# Rozdzielenie kolumny 'floor/store' na dwie osobne kolumny\n",
    "df_otodom[['floor/store', 'no of floors/stores in the building']] = df_otodom['floor/store'].str.split('/', expand=True)"
   ],
   "outputs": [],
   "execution_count": 27
  },
  {
   "cell_type": "code",
   "metadata": {
    "ExecuteTime": {
     "end_time": "2024-04-29T21:51:10.625251Z",
     "start_time": "2024-04-29T21:51:10.611727Z"
    }
   },
   "source": [
    "# Usunięcie wierszy bez informacji o piętrze\n",
    "print(df_otodom[df_otodom['floor/store'].isnull()].shape[0])\n",
    "df_otodom = df_otodom.dropna(subset=['floor/store'])"
   ],
   "outputs": [
    {
     "name": "stdout",
     "output_type": "stream",
     "text": [
      "236\n"
     ]
    }
   ],
   "execution_count": 28
  },
  {
   "cell_type": "code",
   "metadata": {
    "ExecuteTime": {
     "end_time": "2024-04-29T21:51:14.200765Z",
     "start_time": "2024-04-29T21:51:14.194774Z"
    }
   },
   "source": [
    "# Zamiana wartości \"parter\" na 0 w kolumnie \"floor\"\n",
    "df_otodom['floor/store'] = df_otodom['floor/store'].replace('parter', 0)"
   ],
   "outputs": [],
   "execution_count": 29
  },
  {
   "cell_type": "code",
   "metadata": {
    "ExecuteTime": {
     "end_time": "2024-04-29T21:51:16.458174Z",
     "start_time": "2024-04-29T21:51:16.453175Z"
    }
   },
   "source": [
    "# Zamiana wartości \"suterena\" na -1 w kolumnie \"floor\"\n",
    "df_otodom['floor/store'] = df_otodom['floor/store'].replace('suterena', -1)"
   ],
   "outputs": [],
   "execution_count": 30
  },
  {
   "cell_type": "code",
   "metadata": {
    "ExecuteTime": {
     "end_time": "2024-04-29T21:51:18.674608Z",
     "start_time": "2024-04-29T21:51:18.660703Z"
    }
   },
   "source": [
    "# Konwersja kolumny \"floor\" na typ liczbowy, zamieniając nieliczbowe wartości na NaN\n",
    "df_otodom['floor/store'] = pd.to_numeric(df_otodom['floor/store'], errors='coerce')\n",
    "\n",
    "# Usunięcie wierszy zawierających wartości NaN w kolumnie \"floor\"\n",
    "df_otodom = df_otodom[~df_otodom['floor/store'].isna()]"
   ],
   "outputs": [],
   "execution_count": 31
  },
  {
   "cell_type": "code",
   "metadata": {
    "ExecuteTime": {
     "end_time": "2024-04-29T21:51:21.648234Z",
     "start_time": "2024-04-29T21:51:21.643537Z"
    }
   },
   "source": "df_otodom['floor/store'] = df_otodom['floor/store'].astype(int)",
   "outputs": [],
   "execution_count": 32
  },
  {
   "metadata": {},
   "cell_type": "markdown",
   "source": "#### liczba pięter"
  },
  {
   "metadata": {
    "ExecuteTime": {
     "end_time": "2024-04-29T21:51:26.438448Z",
     "start_time": "2024-04-29T21:51:26.422936Z"
    }
   },
   "cell_type": "code",
   "source": [
    "print(df_otodom[df_otodom['no of floors/stores in the building'].isnull()].shape[0])\n",
    "df_otodom = df_otodom.dropna(subset=['no of floors/stores in the building'])"
   ],
   "outputs": [
    {
     "name": "stdout",
     "output_type": "stream",
     "text": [
      "448\n"
     ]
    }
   ],
   "execution_count": 33
  },
  {
   "metadata": {
    "ExecuteTime": {
     "end_time": "2024-04-29T21:51:32.213544Z",
     "start_time": "2024-04-29T21:51:32.207704Z"
    }
   },
   "cell_type": "code",
   "source": "df_otodom['no of floors/stores in the building'] = df_otodom['no of floors/stores in the building'].astype(int)",
   "outputs": [],
   "execution_count": 34
  },
  {
   "metadata": {
    "ExecuteTime": {
     "end_time": "2024-04-29T21:51:35.389586Z",
     "start_time": "2024-04-29T21:51:35.380489Z"
    }
   },
   "cell_type": "code",
   "source": [
    "#Reorder\n",
    "columns = list(df_otodom.columns)\n",
    "columns.remove('no of floors/stores in the building')\n",
    "target_index = columns.index('floor/store')\n",
    "columns.insert(target_index + 1, 'no of floors/stores in the building')\n",
    "df_otodom = df_otodom[columns]"
   ],
   "outputs": [],
   "execution_count": 35
  },
  {
   "metadata": {
    "ExecuteTime": {
     "end_time": "2024-04-29T21:51:39.754288Z",
     "start_time": "2024-04-29T21:51:39.741570Z"
    }
   },
   "cell_type": "code",
   "source": [
    "# Według wikipedii najwyższy mieszkalny budunek w Krk ma 19 pięter\n",
    "# https://pl.wikipedia.org/wiki/Lista_najwyższych_budynków_w_Krakowie\n",
    "print(df_otodom[df_otodom['no of floors/stores in the building'] > 19].shape[0])\n",
    "df_otodom.drop(df_otodom[df_otodom['no of floors/stores in the building'] > 19].index, inplace=True)"
   ],
   "outputs": [
    {
     "name": "stdout",
     "output_type": "stream",
     "text": [
      "1\n"
     ]
    }
   ],
   "execution_count": 36
  },
  {
   "metadata": {},
   "cell_type": "markdown",
   "source": "#### rok budowy"
  },
  {
   "metadata": {
    "ExecuteTime": {
     "end_time": "2024-04-29T21:51:42.716857Z",
     "start_time": "2024-04-29T21:51:42.678859Z"
    }
   },
   "cell_type": "code",
   "source": [
    "df_otodom['year of construction'] = pd.to_numeric(df_otodom['year of construction'], errors='coerce')\n",
    "\n",
    "missing_below_1200 = df_otodom[df_otodom['year of construction'] < 1250]\n",
    "missing_above_2026 = df_otodom[df_otodom['year of construction'] > 2026]\n",
    "pd.concat([missing_above_2026, missing_below_1200])"
   ],
   "outputs": [
    {
     "data": {
      "text/plain": [
       "                                                     url  \\\n",
       "187    https://www.otodom.pl/pl/oferta/4-pokoje-nowe-...   \n",
       "7888   https://www.otodom.pl/pl/oferta/mieszkanie-na-...   \n",
       "10812  https://www.otodom.pl/pl/oferta/widokowe-3-pok...   \n",
       "6685   https://www.otodom.pl/pl/oferta/nowe-3-pokoje-...   \n",
       "11292  https://www.otodom.pl/pl/oferta/3-pokoje-na-bi...   \n",
       "11328  https://www.otodom.pl/pl/oferta/mieszkanie-na-...   \n",
       "\n",
       "                                              name/title  \\\n",
       "187            4 pokoje, nowe, Promocja -175 tys. taniej   \n",
       "7888               Mieszkanie na sprzedaż, Kraków 40,2m2   \n",
       "10812  Widokowe 3 pok, 2 loggie, garaż podziemny, Ban...   \n",
       "6685         Nowe: 3 pokoje na Ruczaju. Garaż podziemny.   \n",
       "11292          3 Pokoje na Bieńczycach! Wysoki Standard!   \n",
       "11328     Mieszkanie na sprzedaż- Mogilska-76 m2 + garaż   \n",
       "\n",
       "                                                 address      price   area  \\\n",
       "187        Stare Podgórze, Podgórze, Kraków, małopolskie   998358.0  62.10   \n",
       "7888   ul. Janusza Supniewskiego, Osiedle Oficerskie,...   699000.0  40.20   \n",
       "10812  ul. Stefana Banacha, Górka Narodowa, Prądnik B...   759000.0  49.47   \n",
       "6685                Ruczaj, Dębniki, Kraków, małopolskie   790300.0  56.45   \n",
       "11292  os. Wysokie, Bieńczyce, Bieńczyce, Kraków, mał...   669000.0  45.00   \n",
       "11328  ul. Mogilska, Osiedle Oficerskie, Grzegórzki, ...  1080000.0  76.00   \n",
       "\n",
       "       price-per-area  floor/store  no of floors/stores in the building  \\\n",
       "187           16077.0            1                                    4   \n",
       "7888          17388.0            0                                    2   \n",
       "10812         15343.0            6                                    8   \n",
       "6685          14000.0            3                                    3   \n",
       "11292         14867.0            3                                    4   \n",
       "11328         14211.0            8                                   10   \n",
       "\n",
       "       no of rooms  year of construction  ...     market form of ownership  \\\n",
       "187              4                2924.0  ...  pierwotny    pełna własność   \n",
       "7888             2               20100.0  ...     wtórny    pełna własność   \n",
       "10812            3                2924.0  ...  pierwotny    pełna własność   \n",
       "6685             3                1024.0  ...  pierwotny    pełna własność   \n",
       "11292            3                 450.0  ...     wtórny    pełna własność   \n",
       "11328            3                  87.0  ...     wtórny    pełna własność   \n",
       "\n",
       "             condition    rent   heating      advertiser type elevator  \\\n",
       "187     do wykończenia     NaN  miejskie  biuro nieruchomości      tak   \n",
       "7888   do zamieszkania   350.0  miejskie             prywatny      nie   \n",
       "10812   do wykończenia     1.0  miejskie  biuro nieruchomości      tak   \n",
       "6685    do wykończenia   250.0  miejskie  biuro nieruchomości      tak   \n",
       "11292  do zamieszkania   450.0  miejskie  biuro nieruchomości      nie   \n",
       "11328  do zamieszkania  1200.0  miejskie  biuro nieruchomości      tak   \n",
       "\n",
       "      outdoor area    building type building material  \n",
       "187         balkon  apartamentowiec   brak informacji  \n",
       "7888           NaN             blok             cegła  \n",
       "10812          NaN             blok   brak informacji  \n",
       "6685        balkon             blok            pustak  \n",
       "11292          NaN             blok             cegła  \n",
       "11328       balkon             blok      wielka płyta  \n",
       "\n",
       "[6 rows x 21 columns]"
      ],
      "text/html": [
       "<div>\n",
       "<style scoped>\n",
       "    .dataframe tbody tr th:only-of-type {\n",
       "        vertical-align: middle;\n",
       "    }\n",
       "\n",
       "    .dataframe tbody tr th {\n",
       "        vertical-align: top;\n",
       "    }\n",
       "\n",
       "    .dataframe thead th {\n",
       "        text-align: right;\n",
       "    }\n",
       "</style>\n",
       "<table border=\"1\" class=\"dataframe\">\n",
       "  <thead>\n",
       "    <tr style=\"text-align: right;\">\n",
       "      <th></th>\n",
       "      <th>url</th>\n",
       "      <th>name/title</th>\n",
       "      <th>address</th>\n",
       "      <th>price</th>\n",
       "      <th>area</th>\n",
       "      <th>price-per-area</th>\n",
       "      <th>floor/store</th>\n",
       "      <th>no of floors/stores in the building</th>\n",
       "      <th>no of rooms</th>\n",
       "      <th>year of construction</th>\n",
       "      <th>...</th>\n",
       "      <th>market</th>\n",
       "      <th>form of ownership</th>\n",
       "      <th>condition</th>\n",
       "      <th>rent</th>\n",
       "      <th>heating</th>\n",
       "      <th>advertiser type</th>\n",
       "      <th>elevator</th>\n",
       "      <th>outdoor area</th>\n",
       "      <th>building type</th>\n",
       "      <th>building material</th>\n",
       "    </tr>\n",
       "  </thead>\n",
       "  <tbody>\n",
       "    <tr>\n",
       "      <th>187</th>\n",
       "      <td>https://www.otodom.pl/pl/oferta/4-pokoje-nowe-...</td>\n",
       "      <td>4 pokoje, nowe, Promocja -175 tys. taniej</td>\n",
       "      <td>Stare Podgórze, Podgórze, Kraków, małopolskie</td>\n",
       "      <td>998358.0</td>\n",
       "      <td>62.10</td>\n",
       "      <td>16077.0</td>\n",
       "      <td>1</td>\n",
       "      <td>4</td>\n",
       "      <td>4</td>\n",
       "      <td>2924.0</td>\n",
       "      <td>...</td>\n",
       "      <td>pierwotny</td>\n",
       "      <td>pełna własność</td>\n",
       "      <td>do wykończenia</td>\n",
       "      <td>NaN</td>\n",
       "      <td>miejskie</td>\n",
       "      <td>biuro nieruchomości</td>\n",
       "      <td>tak</td>\n",
       "      <td>balkon</td>\n",
       "      <td>apartamentowiec</td>\n",
       "      <td>brak informacji</td>\n",
       "    </tr>\n",
       "    <tr>\n",
       "      <th>7888</th>\n",
       "      <td>https://www.otodom.pl/pl/oferta/mieszkanie-na-...</td>\n",
       "      <td>Mieszkanie na sprzedaż, Kraków 40,2m2</td>\n",
       "      <td>ul. Janusza Supniewskiego, Osiedle Oficerskie,...</td>\n",
       "      <td>699000.0</td>\n",
       "      <td>40.20</td>\n",
       "      <td>17388.0</td>\n",
       "      <td>0</td>\n",
       "      <td>2</td>\n",
       "      <td>2</td>\n",
       "      <td>20100.0</td>\n",
       "      <td>...</td>\n",
       "      <td>wtórny</td>\n",
       "      <td>pełna własność</td>\n",
       "      <td>do zamieszkania</td>\n",
       "      <td>350.0</td>\n",
       "      <td>miejskie</td>\n",
       "      <td>prywatny</td>\n",
       "      <td>nie</td>\n",
       "      <td>NaN</td>\n",
       "      <td>blok</td>\n",
       "      <td>cegła</td>\n",
       "    </tr>\n",
       "    <tr>\n",
       "      <th>10812</th>\n",
       "      <td>https://www.otodom.pl/pl/oferta/widokowe-3-pok...</td>\n",
       "      <td>Widokowe 3 pok, 2 loggie, garaż podziemny, Ban...</td>\n",
       "      <td>ul. Stefana Banacha, Górka Narodowa, Prądnik B...</td>\n",
       "      <td>759000.0</td>\n",
       "      <td>49.47</td>\n",
       "      <td>15343.0</td>\n",
       "      <td>6</td>\n",
       "      <td>8</td>\n",
       "      <td>3</td>\n",
       "      <td>2924.0</td>\n",
       "      <td>...</td>\n",
       "      <td>pierwotny</td>\n",
       "      <td>pełna własność</td>\n",
       "      <td>do wykończenia</td>\n",
       "      <td>1.0</td>\n",
       "      <td>miejskie</td>\n",
       "      <td>biuro nieruchomości</td>\n",
       "      <td>tak</td>\n",
       "      <td>NaN</td>\n",
       "      <td>blok</td>\n",
       "      <td>brak informacji</td>\n",
       "    </tr>\n",
       "    <tr>\n",
       "      <th>6685</th>\n",
       "      <td>https://www.otodom.pl/pl/oferta/nowe-3-pokoje-...</td>\n",
       "      <td>Nowe: 3 pokoje na Ruczaju. Garaż podziemny.</td>\n",
       "      <td>Ruczaj, Dębniki, Kraków, małopolskie</td>\n",
       "      <td>790300.0</td>\n",
       "      <td>56.45</td>\n",
       "      <td>14000.0</td>\n",
       "      <td>3</td>\n",
       "      <td>3</td>\n",
       "      <td>3</td>\n",
       "      <td>1024.0</td>\n",
       "      <td>...</td>\n",
       "      <td>pierwotny</td>\n",
       "      <td>pełna własność</td>\n",
       "      <td>do wykończenia</td>\n",
       "      <td>250.0</td>\n",
       "      <td>miejskie</td>\n",
       "      <td>biuro nieruchomości</td>\n",
       "      <td>tak</td>\n",
       "      <td>balkon</td>\n",
       "      <td>blok</td>\n",
       "      <td>pustak</td>\n",
       "    </tr>\n",
       "    <tr>\n",
       "      <th>11292</th>\n",
       "      <td>https://www.otodom.pl/pl/oferta/3-pokoje-na-bi...</td>\n",
       "      <td>3 Pokoje na Bieńczycach! Wysoki Standard!</td>\n",
       "      <td>os. Wysokie, Bieńczyce, Bieńczyce, Kraków, mał...</td>\n",
       "      <td>669000.0</td>\n",
       "      <td>45.00</td>\n",
       "      <td>14867.0</td>\n",
       "      <td>3</td>\n",
       "      <td>4</td>\n",
       "      <td>3</td>\n",
       "      <td>450.0</td>\n",
       "      <td>...</td>\n",
       "      <td>wtórny</td>\n",
       "      <td>pełna własność</td>\n",
       "      <td>do zamieszkania</td>\n",
       "      <td>450.0</td>\n",
       "      <td>miejskie</td>\n",
       "      <td>biuro nieruchomości</td>\n",
       "      <td>nie</td>\n",
       "      <td>NaN</td>\n",
       "      <td>blok</td>\n",
       "      <td>cegła</td>\n",
       "    </tr>\n",
       "    <tr>\n",
       "      <th>11328</th>\n",
       "      <td>https://www.otodom.pl/pl/oferta/mieszkanie-na-...</td>\n",
       "      <td>Mieszkanie na sprzedaż- Mogilska-76 m2 + garaż</td>\n",
       "      <td>ul. Mogilska, Osiedle Oficerskie, Grzegórzki, ...</td>\n",
       "      <td>1080000.0</td>\n",
       "      <td>76.00</td>\n",
       "      <td>14211.0</td>\n",
       "      <td>8</td>\n",
       "      <td>10</td>\n",
       "      <td>3</td>\n",
       "      <td>87.0</td>\n",
       "      <td>...</td>\n",
       "      <td>wtórny</td>\n",
       "      <td>pełna własność</td>\n",
       "      <td>do zamieszkania</td>\n",
       "      <td>1200.0</td>\n",
       "      <td>miejskie</td>\n",
       "      <td>biuro nieruchomości</td>\n",
       "      <td>tak</td>\n",
       "      <td>balkon</td>\n",
       "      <td>blok</td>\n",
       "      <td>wielka płyta</td>\n",
       "    </tr>\n",
       "  </tbody>\n",
       "</table>\n",
       "<p>6 rows × 21 columns</p>\n",
       "</div>"
      ]
     },
     "execution_count": 37,
     "metadata": {},
     "output_type": "execute_result"
    }
   ],
   "execution_count": 37
  },
  {
   "metadata": {
    "ExecuteTime": {
     "end_time": "2024-04-29T21:51:46.556770Z",
     "start_time": "2024-04-29T21:51:46.544772Z"
    }
   },
   "cell_type": "code",
   "source": [
    "# Poprawianie \"z placa\"\n",
    "df_otodom['year of construction'] = df_otodom['year of construction'].replace(2924.0, 2024)\n",
    "df_otodom['year of construction'] = df_otodom['year of construction'].replace(1024.0, 2024)\n",
    "df_otodom['year of construction'] = df_otodom['year of construction'].replace(20100.0, 2010)\n",
    "df_otodom['year of construction'] = df_otodom['year of construction'].replace(87.0, 1987)\n",
    "df_otodom.drop(df_otodom[df_otodom['year of construction'] == 450.0].index, inplace=True)"
   ],
   "outputs": [],
   "execution_count": 38
  },
  {
   "metadata": {
    "ExecuteTime": {
     "end_time": "2024-04-29T21:51:49.249529Z",
     "start_time": "2024-04-29T21:51:49.239737Z"
    }
   },
   "cell_type": "code",
   "source": [
    "# df_otodom['year of construction'] = df_otodom['year of construction'].fillna(-1).astype(int)\n",
    "df_otodom['year of construction'].value_counts(dropna=False).head()"
   ],
   "outputs": [
    {
     "data": {
      "text/plain": [
       "year of construction\n",
       "NaN       2159\n",
       "2024.0    1740\n",
       "2023.0    1486\n",
       "2025.0     483\n",
       "2022.0     357\n",
       "Name: count, dtype: int64"
      ]
     },
     "execution_count": 39,
     "metadata": {},
     "output_type": "execute_result"
    }
   ],
   "execution_count": 39
  },
  {
   "metadata": {
    "ExecuteTime": {
     "end_time": "2024-04-29T21:51:53.252297Z",
     "start_time": "2024-04-29T21:51:53.239782Z"
    }
   },
   "cell_type": "code",
   "source": [
    "# Średnia po wycięciu outliersów do ew. uzupełnienia\n",
    "mean_year = df_otodom['year of construction'].mean()\n",
    "std_year = df_otodom['year of construction'].std()\n",
    "\n",
    "filtered_df = df_otodom[(df_otodom['year of construction'] > (mean_year - std_year)) & \n",
    "                        (df_otodom['year of construction'] < (mean_year + std_year))]\n",
    "\n",
    "new_mean_year = filtered_df['year of construction'].mean()\n",
    "new_mean_year = int(new_mean_year)\n",
    "new_mean_year"
   ],
   "outputs": [
    {
     "data": {
      "text/plain": [
       "2013"
      ]
     },
     "execution_count": 40,
     "metadata": {},
     "output_type": "execute_result"
    }
   ],
   "execution_count": 40
  },
  {
   "metadata": {},
   "cell_type": "markdown",
   "source": "#### rynek"
  },
  {
   "metadata": {
    "ExecuteTime": {
     "end_time": "2024-04-29T21:52:08.389626Z",
     "start_time": "2024-04-29T21:52:08.382938Z"
    }
   },
   "cell_type": "code",
   "source": [
    "df_otodom.loc[(df_otodom['market'].isna()) & (df_otodom['year of construction'] > 2022), 'market'] = 'pierwotny'\n",
    "df_otodom.loc[(df_otodom['market'].isna()) & (df_otodom['year of construction'] < 2023), 'market'] = 'wtórny'"
   ],
   "outputs": [],
   "execution_count": 41
  },
  {
   "metadata": {
    "ExecuteTime": {
     "end_time": "2024-04-29T21:52:11.560051Z",
     "start_time": "2024-04-29T21:52:11.548512Z"
    }
   },
   "cell_type": "code",
   "source": [
    "print(df_otodom['market'].isna().sum())\n",
    "df_otodom.dropna(subset=['market'], inplace=True)"
   ],
   "outputs": [
    {
     "name": "stdout",
     "output_type": "stream",
     "text": [
      "845\n"
     ]
    }
   ],
   "execution_count": 42
  },
  {
   "metadata": {
    "ExecuteTime": {
     "end_time": "2024-04-29T21:52:22.349181Z",
     "start_time": "2024-04-29T21:52:22.341162Z"
    }
   },
   "cell_type": "code",
   "source": "df_otodom['market'].value_counts(dropna=False)",
   "outputs": [
    {
     "data": {
      "text/plain": [
       "market\n",
       "wtórny       6528\n",
       "pierwotny    3587\n",
       "Name: count, dtype: int64"
      ]
     },
     "execution_count": 43,
     "metadata": {},
     "output_type": "execute_result"
    }
   ],
   "execution_count": 43
  },
  {
   "metadata": {},
   "cell_type": "markdown",
   "source": "#### rodzaj własności"
  },
  {
   "metadata": {
    "ExecuteTime": {
     "end_time": "2024-04-29T21:52:26.162126Z",
     "start_time": "2024-04-29T21:52:26.153966Z"
    }
   },
   "cell_type": "code",
   "source": "df_otodom['form of ownership'].value_counts(dropna=False)",
   "outputs": [
    {
     "data": {
      "text/plain": [
       "form of ownership\n",
       "pełna własność                       7007\n",
       "NaN                                  2751\n",
       "spółdzielcze wł. prawo do lokalu      252\n",
       "udział                                101\n",
       "użytkowanie wieczyste / dzierżawa       4\n",
       "Name: count, dtype: int64"
      ]
     },
     "execution_count": 44,
     "metadata": {},
     "output_type": "execute_result"
    }
   ],
   "execution_count": 44
  },
  {
   "metadata": {
    "ExecuteTime": {
     "end_time": "2024-04-29T21:52:30.538372Z",
     "start_time": "2024-04-29T21:52:30.532062Z"
    }
   },
   "cell_type": "code",
   "source": [
    "# Zgodnie z obowiązującym prawem 2007 r. nie ma możliwości ustanawiania spółdzielczego własnościowego prawa do lokalu\n",
    "df_otodom.loc[(df_otodom['form of ownership'].isna()) & (df_otodom['year of construction'] > 2006), 'form of ownership'] = 'pełna własność'"
   ],
   "outputs": [],
   "execution_count": 45
  },
  {
   "metadata": {},
   "cell_type": "markdown",
   "source": "#### stan"
  },
  {
   "metadata": {
    "ExecuteTime": {
     "end_time": "2024-04-29T21:52:38.362451Z",
     "start_time": "2024-04-29T21:52:38.353450Z"
    }
   },
   "cell_type": "code",
   "source": "df_otodom['condition'].value_counts(dropna=False)",
   "outputs": [
    {
     "data": {
      "text/plain": [
       "condition\n",
       "do zamieszkania    4247\n",
       "do wykończenia     3115\n",
       "NaN                2311\n",
       "do remontu          442\n",
       "Name: count, dtype: int64"
      ]
     },
     "execution_count": 46,
     "metadata": {},
     "output_type": "execute_result"
    }
   ],
   "execution_count": 46
  },
  {
   "metadata": {},
   "cell_type": "markdown",
   "source": "#### parking"
  },
  {
   "metadata": {
    "ExecuteTime": {
     "end_time": "2024-04-29T21:52:48.438304Z",
     "start_time": "2024-04-29T21:52:48.429617Z"
    }
   },
   "cell_type": "code",
   "source": "df_otodom['parking space'].value_counts(dropna=False)",
   "outputs": [
    {
     "data": {
      "text/plain": [
       "parking space\n",
       "garaż/miejsce parkingowe    5641\n",
       "NaN                         4474\n",
       "Name: count, dtype: int64"
      ]
     },
     "execution_count": 47,
     "metadata": {},
     "output_type": "execute_result"
    }
   ],
   "execution_count": 47
  },
  {
   "metadata": {
    "ExecuteTime": {
     "end_time": "2024-04-29T21:53:00.260035Z",
     "start_time": "2024-04-29T21:53:00.251046Z"
    }
   },
   "cell_type": "code",
   "source": [
    "df_otodom['parking space'] = df_otodom['parking space'].notna()\n",
    "df_otodom['parking space'].value_counts(dropna=False)"
   ],
   "outputs": [
    {
     "data": {
      "text/plain": [
       "parking space\n",
       "True     5641\n",
       "False    4474\n",
       "Name: count, dtype: int64"
      ]
     },
     "execution_count": 48,
     "metadata": {},
     "output_type": "execute_result"
    }
   ],
   "execution_count": 48
  },
  {
   "metadata": {},
   "cell_type": "markdown",
   "source": "#### Ogrzewanie"
  },
  {
   "metadata": {
    "ExecuteTime": {
     "end_time": "2024-04-29T21:53:04.116231Z",
     "start_time": "2024-04-29T21:53:04.108233Z"
    }
   },
   "cell_type": "code",
   "source": "df_otodom['heating'].value_counts(dropna=False)",
   "outputs": [
    {
     "data": {
      "text/plain": [
       "heating\n",
       "miejskie         6378\n",
       "NaN              1935\n",
       "gazowe           1139\n",
       "inne              348\n",
       "elektryczne       183\n",
       "kotłownia         130\n",
       "piece kaflowe       2\n",
       "Name: count, dtype: int64"
      ]
     },
     "execution_count": 49,
     "metadata": {},
     "output_type": "execute_result"
    }
   ],
   "execution_count": 49
  },
  {
   "metadata": {},
   "cell_type": "markdown",
   "source": "#### balkon"
  },
  {
   "metadata": {
    "ExecuteTime": {
     "end_time": "2024-04-29T21:53:08.048952Z",
     "start_time": "2024-04-29T21:53:08.040434Z"
    }
   },
   "cell_type": "code",
   "source": "df_otodom['outdoor area'].value_counts(dropna=False)",
   "outputs": [
    {
     "data": {
      "text/plain": [
       "outdoor area\n",
       "balkon                    5578\n",
       "NaN                       2501\n",
       "ogródek                    508\n",
       "balkon, taras              455\n",
       "balkon, ogródek, taras     340\n",
       "taras                      260\n",
       "ogródek, taras             250\n",
       "balkon, ogródek            173\n",
       "taras, balkon               31\n",
       "taras, ogródek              16\n",
       "taras, balkon, ogródek       3\n",
       "Name: count, dtype: int64"
      ]
     },
     "execution_count": 50,
     "metadata": {},
     "output_type": "execute_result"
    }
   ],
   "execution_count": 50
  },
  {
   "metadata": {
    "ExecuteTime": {
     "end_time": "2024-04-29T21:53:11.834272Z",
     "start_time": "2024-04-29T21:53:11.820727Z"
    }
   },
   "cell_type": "code",
   "source": [
    "df_otodom['outdoor area'] = df_otodom['outdoor area'].fillna('None')\n",
    "\n",
    "def standardize_outdoor_area(area):\n",
    "    if area == 'None':\n",
    "        return area\n",
    "    parts = sorted(set(area.replace(' ', '').split(',')))\n",
    "    return ', '.join(parts)\n",
    "\n",
    "df_otodom['outdoor area'] = df_otodom['outdoor area'].apply(standardize_outdoor_area)\n",
    "# outdoor_encoded = df_otodom['outdoor area'].str.get_dummies(sep=', ')\n",
    "# df_otodom = df_otodom.join(outdoor_encoded)"
   ],
   "outputs": [],
   "execution_count": 51
  },
  {
   "metadata": {},
   "cell_type": "markdown",
   "source": "#### ogłoszeniodawca"
  },
  {
   "metadata": {
    "ExecuteTime": {
     "end_time": "2024-04-29T21:53:15.123018Z",
     "start_time": "2024-04-29T21:53:15.115661Z"
    }
   },
   "cell_type": "code",
   "source": "df_otodom['advertiser type'].value_counts(dropna=False)",
   "outputs": [
    {
     "data": {
      "text/plain": [
       "advertiser type\n",
       "biuro nieruchomości    8864\n",
       "prywatny               1100\n",
       "deweloper               151\n",
       "Name: count, dtype: int64"
      ]
     },
     "execution_count": 52,
     "metadata": {},
     "output_type": "execute_result"
    }
   ],
   "execution_count": 52
  },
  {
   "metadata": {
    "ExecuteTime": {
     "end_time": "2024-04-29T21:53:20.138288Z",
     "start_time": "2024-04-29T21:53:20.132536Z"
    }
   },
   "cell_type": "code",
   "source": "df_otodom.loc[(df_otodom['advertiser type'].isna()), 'advertiser type'] = 'biuro nieruchomości'",
   "outputs": [],
   "execution_count": 53
  },
  {
   "metadata": {},
   "cell_type": "markdown",
   "source": "#### winda"
  },
  {
   "metadata": {
    "ExecuteTime": {
     "end_time": "2024-04-29T21:53:23.047995Z",
     "start_time": "2024-04-29T21:53:23.040Z"
    }
   },
   "cell_type": "code",
   "source": "df_otodom['elevator'].value_counts(dropna=False)",
   "outputs": [
    {
     "data": {
      "text/plain": [
       "elevator\n",
       "tak    5462\n",
       "nie    4653\n",
       "Name: count, dtype: int64"
      ]
     },
     "execution_count": 54,
     "metadata": {},
     "output_type": "execute_result"
    }
   ],
   "execution_count": 54
  },
  {
   "metadata": {
    "ExecuteTime": {
     "end_time": "2024-04-29T21:53:26.618858Z",
     "start_time": "2024-04-29T21:53:26.610675Z"
    }
   },
   "cell_type": "code",
   "source": [
    "# Zgodnie z obowiązującym od 1960 prawem budowalnym\n",
    "df_otodom.loc[df_otodom['elevator'].isna() & (df_otodom['no of floors/stores in the building'] > 3), 'elevator'] = 'tak'\n",
    "df_otodom['elevator'] = df_otodom['elevator'].map({'tak': True, 'nie': False, np.nan: False})\n",
    "df_otodom['elevator'] = df_otodom['elevator'].astype(bool)"
   ],
   "outputs": [],
   "execution_count": 55
  },
  {
   "metadata": {},
   "cell_type": "markdown",
   "source": "#### typ budynku"
  },
  {
   "metadata": {
    "ExecuteTime": {
     "end_time": "2024-04-29T21:53:29.534533Z",
     "start_time": "2024-04-29T21:53:29.527311Z"
    }
   },
   "cell_type": "code",
   "source": "df_otodom['building type'].value_counts(dropna=False)",
   "outputs": [
    {
     "data": {
      "text/plain": [
       "building type\n",
       "blok                5027\n",
       "apartamentowiec     2031\n",
       "brak informacji     1754\n",
       "kamienica           1016\n",
       "dom wolnostojący     191\n",
       "szeregowiec           86\n",
       "plomba                 8\n",
       "loft                   2\n",
       "Name: count, dtype: int64"
      ]
     },
     "execution_count": 56,
     "metadata": {},
     "output_type": "execute_result"
    }
   ],
   "execution_count": 56
  },
  {
   "metadata": {},
   "cell_type": "markdown",
   "source": "#### materiał"
  },
  {
   "metadata": {
    "ExecuteTime": {
     "end_time": "2024-04-29T21:53:33.358129Z",
     "start_time": "2024-04-29T21:53:33.349986Z"
    }
   },
   "cell_type": "code",
   "source": "df_otodom['building type'].value_counts(dropna=False)",
   "outputs": [
    {
     "data": {
      "text/plain": [
       "building type\n",
       "blok                5027\n",
       "apartamentowiec     2031\n",
       "brak informacji     1754\n",
       "kamienica           1016\n",
       "dom wolnostojący     191\n",
       "szeregowiec           86\n",
       "plomba                 8\n",
       "loft                   2\n",
       "Name: count, dtype: int64"
      ]
     },
     "execution_count": 57,
     "metadata": {},
     "output_type": "execute_result"
    }
   ],
   "execution_count": 57
  },
  {
   "metadata": {},
   "cell_type": "markdown",
   "source": "## Adresy - wstępnie"
  },
  {
   "metadata": {
    "ExecuteTime": {
     "end_time": "2024-04-29T21:53:43.885895Z",
     "start_time": "2024-04-29T21:53:43.864896Z"
    }
   },
   "cell_type": "code",
   "source": [
    "# Usuń adresy spoza Krakowa\n",
    "print(df_otodom[~df_otodom['address'].str.contains(\"Kraków\", na=False)].shape[0])\n",
    "df_otodom = df_otodom[df_otodom['address'].str.contains(\"Kraków\", na=False)]"
   ],
   "outputs": [
    {
     "name": "stdout",
     "output_type": "stream",
     "text": [
      "110\n"
     ]
    }
   ],
   "execution_count": 58
  },
  {
   "cell_type": "code",
   "metadata": {
    "ExecuteTime": {
     "end_time": "2024-04-29T21:53:48.519530Z",
     "start_time": "2024-04-29T21:53:48.503659Z"
    }
   },
   "source": "df_otodom.info()",
   "outputs": [
    {
     "name": "stdout",
     "output_type": "stream",
     "text": [
      "<class 'pandas.core.frame.DataFrame'>\n",
      "Index: 10005 entries, 0 to 12671\n",
      "Data columns (total 21 columns):\n",
      " #   Column                               Non-Null Count  Dtype  \n",
      "---  ------                               --------------  -----  \n",
      " 0   url                                  10005 non-null  object \n",
      " 1   name/title                           10005 non-null  object \n",
      " 2   address                              10005 non-null  object \n",
      " 3   price                                10005 non-null  float64\n",
      " 4   area                                 10005 non-null  float64\n",
      " 5   price-per-area                       10005 non-null  float64\n",
      " 6   floor/store                          10005 non-null  int32  \n",
      " 7   no of floors/stores in the building  10005 non-null  int32  \n",
      " 8   no of rooms                          10005 non-null  int32  \n",
      " 9   year of construction                 8695 non-null   float64\n",
      " 10  parking space                        10005 non-null  bool   \n",
      " 11  market                               10005 non-null  object \n",
      " 12  form of ownership                    8990 non-null   object \n",
      " 13  condition                            7702 non-null   object \n",
      " 14  rent                                 5282 non-null   float64\n",
      " 15  heating                              8092 non-null   object \n",
      " 16  advertiser type                      10005 non-null  object \n",
      " 17  elevator                             10005 non-null  bool   \n",
      " 18  outdoor area                         10005 non-null  object \n",
      " 19  building type                        10005 non-null  object \n",
      " 20  building material                    10005 non-null  object \n",
      "dtypes: bool(2), float64(5), int32(3), object(11)\n",
      "memory usage: 1.4+ MB\n"
     ]
    }
   ],
   "execution_count": 59
  },
  {
   "metadata": {
    "ExecuteTime": {
     "end_time": "2024-04-29T21:57:11.130560Z",
     "start_time": "2024-04-29T21:57:11.117020Z"
    }
   },
   "cell_type": "code",
   "source": "df_otodom.isnull().sum()",
   "outputs": [
    {
     "data": {
      "text/plain": [
       "url                                       0\n",
       "name/title                                0\n",
       "address                                   0\n",
       "price                                     0\n",
       "area                                      0\n",
       "price-per-area                            0\n",
       "floor/store                               0\n",
       "no of floors/stores in the building       0\n",
       "no of rooms                               0\n",
       "year of construction                   1310\n",
       "parking space                             0\n",
       "market                                    0\n",
       "form of ownership                      1015\n",
       "condition                              2303\n",
       "rent                                   4723\n",
       "heating                                1913\n",
       "advertiser type                           0\n",
       "elevator                                  0\n",
       "outdoor area                              0\n",
       "building type                             0\n",
       "building material                         0\n",
       "dtype: int64"
      ]
     },
     "execution_count": 102,
     "metadata": {},
     "output_type": "execute_result"
    }
   ],
   "execution_count": 102
  },
  {
   "metadata": {
    "ExecuteTime": {
     "end_time": "2024-04-29T21:53:55.449703Z",
     "start_time": "2024-04-29T21:53:55.435928Z"
    }
   },
   "cell_type": "code",
   "source": [
    "nan_row_count = df_otodom.isna().any(axis=1).sum()\n",
    "df_otodom.shape[0] - nan_row_count"
   ],
   "outputs": [
    {
     "data": {
      "text/plain": [
       "3593"
      ]
     },
     "execution_count": 60,
     "metadata": {},
     "output_type": "execute_result"
    }
   ],
   "execution_count": 60
  },
  {
   "cell_type": "markdown",
   "metadata": {},
   "source": "# Zbiór danych nieruchomosci-online"
  },
  {
   "metadata": {},
   "cell_type": "markdown",
   "source": "### Załadowanie i agregacja danych"
  },
  {
   "cell_type": "code",
   "metadata": {
    "ExecuteTime": {
     "end_time": "2024-04-29T21:54:00.134803Z",
     "start_time": "2024-04-29T21:53:59.988805Z"
    }
   },
   "source": [
    "df_nieruchomosci = pd.read_csv('datasets/timestamps/2024-03-08-nieruchomosci-online_dataset_raw.csv')\n",
    "df_2024_03_25_nieruchomosci_new_data = pd.read_csv('datasets/timestamps/2024-03-25-nieruchomosci-online-new_data.csv')\n",
    "df_2024_03_25_nieruchomosci_updated_data = pd.read_csv('datasets/timestamps/2024-03-25-nieruchomosci-online-updated_data.csv')\n",
    "df_2024_04_07_nieruchomosci_new_data = pd.read_csv('datasets/timestamps/2024-04-07-nieruchomosci-online-new_data.csv')\n",
    "df_2024_04_07_nieruchomosci_updated_data = pd.read_csv('datasets/timestamps/2024-04-07-nieruchomosci-online-updated_data.csv')\n",
    "df_2024_04_21_nieruchomosci_new_data = pd.read_csv('datasets/timestamps/2024-04-21-nieruchomosci-online-new_data.csv')\n",
    "df_2024_04_21_nieruchomosci_updated_data = pd.read_csv('datasets/timestamps/2024-04-21-nieruchomosci-online-updated_data.csv')"
   ],
   "outputs": [],
   "execution_count": 61
  },
  {
   "metadata": {
    "ExecuteTime": {
     "end_time": "2024-04-29T21:54:03.424849Z",
     "start_time": "2024-04-29T21:54:03.364473Z"
    }
   },
   "cell_type": "code",
   "source": [
    "df_nieruchomosci = update_dataframe(df_nieruchomosci, df_2024_03_25_nieruchomosci_updated_data, df_2024_03_25_nieruchomosci_new_data)\n",
    "df_nieruchomosci = update_dataframe(df_nieruchomosci, df_2024_04_07_nieruchomosci_updated_data, df_2024_04_07_nieruchomosci_new_data)\n",
    "df_nieruchomosci = update_dataframe(df_nieruchomosci, df_2024_04_21_nieruchomosci_updated_data, df_2024_04_21_nieruchomosci_new_data)"
   ],
   "outputs": [],
   "execution_count": 62
  },
  {
   "cell_type": "code",
   "metadata": {
    "ExecuteTime": {
     "end_time": "2024-04-29T21:54:05.331545Z",
     "start_time": "2024-04-29T21:54:05.318401Z"
    }
   },
   "source": [
    "df_nieruchomosci.info()"
   ],
   "outputs": [
    {
     "name": "stdout",
     "output_type": "stream",
     "text": [
      "<class 'pandas.core.frame.DataFrame'>\n",
      "RangeIndex: 8753 entries, 0 to 8752\n",
      "Data columns (total 13 columns):\n",
      " #   Column                               Non-Null Count  Dtype  \n",
      "---  ------                               --------------  -----  \n",
      " 0   url                                  8753 non-null   object \n",
      " 1   name/title                           8753 non-null   object \n",
      " 2   address                              8454 non-null   object \n",
      " 3   price                                8657 non-null   object \n",
      " 4   area                                 8753 non-null   object \n",
      " 5   price-per-area                       8657 non-null   object \n",
      " 6   floor/store                          8753 non-null   object \n",
      " 7   no of floors/stores in the building  8209 non-null   float64\n",
      " 8   no of rooms                          8753 non-null   object \n",
      " 9   year of construction                 8753 non-null   object \n",
      " 10  parking space                        8753 non-null   object \n",
      " 11  market                               8694 non-null   object \n",
      " 12  form of ownership                    3900 non-null   object \n",
      "dtypes: float64(1), object(12)\n",
      "memory usage: 889.1+ KB\n"
     ]
    }
   ],
   "execution_count": 63
  },
  {
   "cell_type": "markdown",
   "metadata": {},
   "source": [
    "### Cena i cena za metr\n",
    "#### Usunięcie wierszy z brakującymi danymi"
   ]
  },
  {
   "cell_type": "code",
   "metadata": {
    "ExecuteTime": {
     "end_time": "2024-04-29T21:54:09.255410Z",
     "start_time": "2024-04-29T21:54:09.243896Z"
    }
   },
   "source": [
    "print(df_nieruchomosci[df_nieruchomosci['price'].isnull()].shape[0])\n",
    "df_nieruchomosci.drop(df_nieruchomosci[df_nieruchomosci['price'].isnull()].index, inplace=True)"
   ],
   "outputs": [
    {
     "name": "stdout",
     "output_type": "stream",
     "text": [
      "96\n"
     ]
    }
   ],
   "execution_count": 64
  },
  {
   "cell_type": "code",
   "metadata": {
    "ExecuteTime": {
     "end_time": "2024-04-29T21:54:12.353259Z",
     "start_time": "2024-04-29T21:54:12.342259Z"
    }
   },
   "source": [
    "# sprawdzenie, czy są jakieś wartości w kolumnie price-per-area, które nie zawierają danych liczbowych\n",
    "df_nieruchomosci[~df_nieruchomosci['price-per-area'].str.contains(r'\\d')].shape[0]"
   ],
   "outputs": [
    {
     "data": {
      "text/plain": [
       "0"
      ]
     },
     "execution_count": 65,
     "metadata": {},
     "output_type": "execute_result"
    }
   ],
   "execution_count": 65
  },
  {
   "cell_type": "code",
   "metadata": {
    "ExecuteTime": {
     "end_time": "2024-04-29T21:54:15.467570Z",
     "start_time": "2024-04-29T21:54:15.456063Z"
    }
   },
   "source": [
    "# sprawdzenie, czy są jakieś wartości w kolumnie price, które nie zawierają danych liczbowych\n",
    "df_nieruchomosci[~df_nieruchomosci['price'].str.contains(r'\\d')].shape[0]"
   ],
   "outputs": [
    {
     "data": {
      "text/plain": [
       "0"
      ]
     },
     "execution_count": 66,
     "metadata": {},
     "output_type": "execute_result"
    }
   ],
   "execution_count": 66
  },
  {
   "cell_type": "markdown",
   "metadata": {},
   "source": [
    "### Zamiana cen podanych w innych walutach"
   ]
  },
  {
   "cell_type": "code",
   "metadata": {
    "ExecuteTime": {
     "end_time": "2024-04-29T21:54:18.226902Z",
     "start_time": "2024-04-29T21:54:18.198904Z"
    }
   },
   "source": [
    "# wartości w kolumnie 'price' podane w innej walucie\n",
    "# price-per-area w innej walucie\n",
    "\n",
    "# df_nieruchomosci[~df_nieruchomosci['price'].str.contains('zł')].copy()\n",
    "# df_nieruchomosci[~df_nieruchomosci['price-per-area'].str.contains('zł')].copy()\n",
    "\n",
    "different_currency_price = pd.concat([df_nieruchomosci[~df_nieruchomosci['price'].str.contains('zł')].copy(), df_nieruchomosci[~df_nieruchomosci['price-per-area'].str.contains('zł')].copy()]).drop_duplicates()\n",
    "different_currency_price"
   ],
   "outputs": [
    {
     "data": {
      "text/plain": [
       "                                                    url  \\\n",
       "153   https://krakow.nieruchomosci-online.pl/mieszka...   \n",
       "1120  https://krakow.nieruchomosci-online.pl/mieszka...   \n",
       "1151  https://krakow.nieruchomosci-online.pl/mieszka...   \n",
       "2096  https://krakow.nieruchomosci-online.pl/mieszka...   \n",
       "2241  https://krakow.nieruchomosci-online.pl/mieszka...   \n",
       "2562  https://krakow.nieruchomosci-online.pl/mieszka...   \n",
       "2927  https://krakow.nieruchomosci-online.pl/mieszka...   \n",
       "2991  https://krakow.nieruchomosci-online.pl/mieszka...   \n",
       "3364  https://krakow.nieruchomosci-online.pl/mieszka...   \n",
       "8480  https://krakow.nieruchomosci-online.pl/mieszka...   \n",
       "\n",
       "                             name/title  \\\n",
       "153        Mieszkanie, ul. Piłsudskiego   \n",
       "1120       Mieszkanie, ul. Piłsudskiego   \n",
       "1151       Mieszkanie, ul. Piłsudskiego   \n",
       "2096       Mieszkanie, ul. Piłsudskiego   \n",
       "2241       Mieszkanie, ul. Piłsudskiego   \n",
       "2562                  Apartament Kraków   \n",
       "2927  Mieszkanie, Plac Juliusza Kossaka   \n",
       "2991                  Mieszkanie Kraków   \n",
       "3364  Mieszkanie Stare Miasto, ul. Jana   \n",
       "8480         Mieszkanie, ul. Mazowiecka   \n",
       "\n",
       "                                                address        price  \\\n",
       "153     Piłsudskiego, Stare Miasto, Kraków, małopolskie  1 149 999 €   \n",
       "1120    Piłsudskiego, Stare Miasto, Kraków, małopolskie  1 149 999 €   \n",
       "1151    Piłsudskiego, Stare Miasto, Kraków, małopolskie  1 150 000 €   \n",
       "2096    Piłsudskiego, Stare Miasto, Kraków, małopolskie  1 150 000 €   \n",
       "2241      Piłsudskiego, Nowy Świat, Kraków, małopolskie  1 150 000 €   \n",
       "2562                                Kraków, małopolskie    138 000 €   \n",
       "2927  Plac Juliusza Kossaka, Stare Miasto, Kraków, m...    700 000 €   \n",
       "2991  marszałka JózefaPiłsudskiego, Wawel, Kraków, m...  1 150 000 €   \n",
       "3364            Jana, Stare Miasto, Kraków, małopolskie  1 000 000 €   \n",
       "8480         Mazowiecka, Krowodrza, Kraków, małopolskie    370 000 €   \n",
       "\n",
       "           area price-per-area floor/store  \\\n",
       "153   232,10 m²  4 954,76 €/m²           4   \n",
       "1120  232,10 m²  4 954,76 €/m²           4   \n",
       "1151  232,10 m²  4 954,76 €/m²           4   \n",
       "2096     228 m²  5 043,86 €/m²           4   \n",
       "2241  228,70 m²  5 028,42 €/m²           4   \n",
       "2562      65 m²  2 123,08 €/m²          21   \n",
       "2927     152 m²  4 605,26 €/m²           1   \n",
       "2991     232 m²  4 956,90 €/m²           4   \n",
       "3364  221,19 m²     4 521 €/m²           4   \n",
       "8480      84 m²  4 404,76 €/m²           5   \n",
       "\n",
       "      no of floors/stores in the building no of rooms year of construction  \\\n",
       "153                                   4.0           5                 1906   \n",
       "1120                                  4.0           5                 1908   \n",
       "1151                                  5.0           5                 1906   \n",
       "2096                                  5.0           5                 1906   \n",
       "2241                                  5.0           5                 1906   \n",
       "2562                                 45.0           2                 2023   \n",
       "2927                                  4.0           4                 1930   \n",
       "2991                                  5.0           9                 1906   \n",
       "3364                                  4.0           4                 1850   \n",
       "8480                                  6.0           3                 1936   \n",
       "\n",
       "                     parking space  market form of ownership  \n",
       "153    parking strzeżony w pobliżu  wtórny               NaN  \n",
       "1120                         garaż  wtórny               NaN  \n",
       "1151  parking publiczny / na ulicy  wtórny               NaN  \n",
       "2096  parking publiczny / na ulicy  wtórny          własność  \n",
       "2241                             -  wtórny               NaN  \n",
       "2562                             -  wtórny               NaN  \n",
       "2927                             -  wtórny               NaN  \n",
       "2991                             -  wtórny               NaN  \n",
       "3364                             -  wtórny               NaN  \n",
       "8480                             -  wtórny               NaN  "
      ],
      "text/html": [
       "<div>\n",
       "<style scoped>\n",
       "    .dataframe tbody tr th:only-of-type {\n",
       "        vertical-align: middle;\n",
       "    }\n",
       "\n",
       "    .dataframe tbody tr th {\n",
       "        vertical-align: top;\n",
       "    }\n",
       "\n",
       "    .dataframe thead th {\n",
       "        text-align: right;\n",
       "    }\n",
       "</style>\n",
       "<table border=\"1\" class=\"dataframe\">\n",
       "  <thead>\n",
       "    <tr style=\"text-align: right;\">\n",
       "      <th></th>\n",
       "      <th>url</th>\n",
       "      <th>name/title</th>\n",
       "      <th>address</th>\n",
       "      <th>price</th>\n",
       "      <th>area</th>\n",
       "      <th>price-per-area</th>\n",
       "      <th>floor/store</th>\n",
       "      <th>no of floors/stores in the building</th>\n",
       "      <th>no of rooms</th>\n",
       "      <th>year of construction</th>\n",
       "      <th>parking space</th>\n",
       "      <th>market</th>\n",
       "      <th>form of ownership</th>\n",
       "    </tr>\n",
       "  </thead>\n",
       "  <tbody>\n",
       "    <tr>\n",
       "      <th>153</th>\n",
       "      <td>https://krakow.nieruchomosci-online.pl/mieszka...</td>\n",
       "      <td>Mieszkanie, ul. Piłsudskiego</td>\n",
       "      <td>Piłsudskiego, Stare Miasto, Kraków, małopolskie</td>\n",
       "      <td>1 149 999 €</td>\n",
       "      <td>232,10 m²</td>\n",
       "      <td>4 954,76 €/m²</td>\n",
       "      <td>4</td>\n",
       "      <td>4.0</td>\n",
       "      <td>5</td>\n",
       "      <td>1906</td>\n",
       "      <td>parking strzeżony w pobliżu</td>\n",
       "      <td>wtórny</td>\n",
       "      <td>NaN</td>\n",
       "    </tr>\n",
       "    <tr>\n",
       "      <th>1120</th>\n",
       "      <td>https://krakow.nieruchomosci-online.pl/mieszka...</td>\n",
       "      <td>Mieszkanie, ul. Piłsudskiego</td>\n",
       "      <td>Piłsudskiego, Stare Miasto, Kraków, małopolskie</td>\n",
       "      <td>1 149 999 €</td>\n",
       "      <td>232,10 m²</td>\n",
       "      <td>4 954,76 €/m²</td>\n",
       "      <td>4</td>\n",
       "      <td>4.0</td>\n",
       "      <td>5</td>\n",
       "      <td>1908</td>\n",
       "      <td>garaż</td>\n",
       "      <td>wtórny</td>\n",
       "      <td>NaN</td>\n",
       "    </tr>\n",
       "    <tr>\n",
       "      <th>1151</th>\n",
       "      <td>https://krakow.nieruchomosci-online.pl/mieszka...</td>\n",
       "      <td>Mieszkanie, ul. Piłsudskiego</td>\n",
       "      <td>Piłsudskiego, Stare Miasto, Kraków, małopolskie</td>\n",
       "      <td>1 150 000 €</td>\n",
       "      <td>232,10 m²</td>\n",
       "      <td>4 954,76 €/m²</td>\n",
       "      <td>4</td>\n",
       "      <td>5.0</td>\n",
       "      <td>5</td>\n",
       "      <td>1906</td>\n",
       "      <td>parking publiczny / na ulicy</td>\n",
       "      <td>wtórny</td>\n",
       "      <td>NaN</td>\n",
       "    </tr>\n",
       "    <tr>\n",
       "      <th>2096</th>\n",
       "      <td>https://krakow.nieruchomosci-online.pl/mieszka...</td>\n",
       "      <td>Mieszkanie, ul. Piłsudskiego</td>\n",
       "      <td>Piłsudskiego, Stare Miasto, Kraków, małopolskie</td>\n",
       "      <td>1 150 000 €</td>\n",
       "      <td>228 m²</td>\n",
       "      <td>5 043,86 €/m²</td>\n",
       "      <td>4</td>\n",
       "      <td>5.0</td>\n",
       "      <td>5</td>\n",
       "      <td>1906</td>\n",
       "      <td>parking publiczny / na ulicy</td>\n",
       "      <td>wtórny</td>\n",
       "      <td>własność</td>\n",
       "    </tr>\n",
       "    <tr>\n",
       "      <th>2241</th>\n",
       "      <td>https://krakow.nieruchomosci-online.pl/mieszka...</td>\n",
       "      <td>Mieszkanie, ul. Piłsudskiego</td>\n",
       "      <td>Piłsudskiego, Nowy Świat, Kraków, małopolskie</td>\n",
       "      <td>1 150 000 €</td>\n",
       "      <td>228,70 m²</td>\n",
       "      <td>5 028,42 €/m²</td>\n",
       "      <td>4</td>\n",
       "      <td>5.0</td>\n",
       "      <td>5</td>\n",
       "      <td>1906</td>\n",
       "      <td>-</td>\n",
       "      <td>wtórny</td>\n",
       "      <td>NaN</td>\n",
       "    </tr>\n",
       "    <tr>\n",
       "      <th>2562</th>\n",
       "      <td>https://krakow.nieruchomosci-online.pl/mieszka...</td>\n",
       "      <td>Apartament Kraków</td>\n",
       "      <td>Kraków, małopolskie</td>\n",
       "      <td>138 000 €</td>\n",
       "      <td>65 m²</td>\n",
       "      <td>2 123,08 €/m²</td>\n",
       "      <td>21</td>\n",
       "      <td>45.0</td>\n",
       "      <td>2</td>\n",
       "      <td>2023</td>\n",
       "      <td>-</td>\n",
       "      <td>wtórny</td>\n",
       "      <td>NaN</td>\n",
       "    </tr>\n",
       "    <tr>\n",
       "      <th>2927</th>\n",
       "      <td>https://krakow.nieruchomosci-online.pl/mieszka...</td>\n",
       "      <td>Mieszkanie, Plac Juliusza Kossaka</td>\n",
       "      <td>Plac Juliusza Kossaka, Stare Miasto, Kraków, m...</td>\n",
       "      <td>700 000 €</td>\n",
       "      <td>152 m²</td>\n",
       "      <td>4 605,26 €/m²</td>\n",
       "      <td>1</td>\n",
       "      <td>4.0</td>\n",
       "      <td>4</td>\n",
       "      <td>1930</td>\n",
       "      <td>-</td>\n",
       "      <td>wtórny</td>\n",
       "      <td>NaN</td>\n",
       "    </tr>\n",
       "    <tr>\n",
       "      <th>2991</th>\n",
       "      <td>https://krakow.nieruchomosci-online.pl/mieszka...</td>\n",
       "      <td>Mieszkanie Kraków</td>\n",
       "      <td>marszałka JózefaPiłsudskiego, Wawel, Kraków, m...</td>\n",
       "      <td>1 150 000 €</td>\n",
       "      <td>232 m²</td>\n",
       "      <td>4 956,90 €/m²</td>\n",
       "      <td>4</td>\n",
       "      <td>5.0</td>\n",
       "      <td>9</td>\n",
       "      <td>1906</td>\n",
       "      <td>-</td>\n",
       "      <td>wtórny</td>\n",
       "      <td>NaN</td>\n",
       "    </tr>\n",
       "    <tr>\n",
       "      <th>3364</th>\n",
       "      <td>https://krakow.nieruchomosci-online.pl/mieszka...</td>\n",
       "      <td>Mieszkanie Stare Miasto, ul. Jana</td>\n",
       "      <td>Jana, Stare Miasto, Kraków, małopolskie</td>\n",
       "      <td>1 000 000 €</td>\n",
       "      <td>221,19 m²</td>\n",
       "      <td>4 521 €/m²</td>\n",
       "      <td>4</td>\n",
       "      <td>4.0</td>\n",
       "      <td>4</td>\n",
       "      <td>1850</td>\n",
       "      <td>-</td>\n",
       "      <td>wtórny</td>\n",
       "      <td>NaN</td>\n",
       "    </tr>\n",
       "    <tr>\n",
       "      <th>8480</th>\n",
       "      <td>https://krakow.nieruchomosci-online.pl/mieszka...</td>\n",
       "      <td>Mieszkanie, ul. Mazowiecka</td>\n",
       "      <td>Mazowiecka, Krowodrza, Kraków, małopolskie</td>\n",
       "      <td>370 000 €</td>\n",
       "      <td>84 m²</td>\n",
       "      <td>4 404,76 €/m²</td>\n",
       "      <td>5</td>\n",
       "      <td>6.0</td>\n",
       "      <td>3</td>\n",
       "      <td>1936</td>\n",
       "      <td>-</td>\n",
       "      <td>wtórny</td>\n",
       "      <td>NaN</td>\n",
       "    </tr>\n",
       "  </tbody>\n",
       "</table>\n",
       "</div>"
      ]
     },
     "execution_count": 67,
     "metadata": {},
     "output_type": "execute_result"
    }
   ],
   "execution_count": 67
  },
  {
   "cell_type": "code",
   "metadata": {
    "ExecuteTime": {
     "end_time": "2024-04-29T21:54:23.458604Z",
     "start_time": "2024-04-29T21:54:23.414636Z"
    }
   },
   "source": [
    "# zamiana cen na wartości liczbowe\n",
    "df_nieruchomosci['price'] = df_nieruchomosci['price'].str.replace(' ', '').str.replace(',', '.').str.extract('(\\d+\\.\\d+|\\d+)').astype(float)\n",
    "\n",
    "df_nieruchomosci['price-per-area'] = df_nieruchomosci['price-per-area'].str.replace(' ', '').str.replace(',', '.').str.extract('(\\d+\\.\\d+|\\d+)').astype(float)"
   ],
   "outputs": [],
   "execution_count": 68
  },
  {
   "cell_type": "code",
   "metadata": {
    "ExecuteTime": {
     "end_time": "2024-04-29T21:54:26.604889Z",
     "start_time": "2024-04-29T21:54:26.596738Z"
    }
   },
   "source": "print(df_nieruchomosci.loc[different_currency_price.index, ['price', 'price-per-area']])",
   "outputs": [
    {
     "name": "stdout",
     "output_type": "stream",
     "text": [
      "          price  price-per-area\n",
      "153   1149999.0         4954.76\n",
      "1120  1149999.0         4954.76\n",
      "1151  1150000.0         4954.76\n",
      "2096  1150000.0         5043.86\n",
      "2241  1150000.0         5028.42\n",
      "2562   138000.0         2123.08\n",
      "2927   700000.0         4605.26\n",
      "2991  1150000.0         4956.90\n",
      "3364  1000000.0         4521.00\n",
      "8480   370000.0         4404.76\n"
     ]
    }
   ],
   "execution_count": 69
  },
  {
   "cell_type": "code",
   "metadata": {
    "ExecuteTime": {
     "end_time": "2024-04-29T21:54:29.686251Z",
     "start_time": "2024-04-29T21:54:29.679249Z"
    }
   },
   "source": [
    "# kurs na 5.04.2024\n",
    "# euro_exchange_rate = 4.28\n",
    "\n",
    "df_nieruchomosci.loc[different_currency_price.index, 'price'] *= euro_exchange_rate\n",
    "df_nieruchomosci.loc[different_currency_price.index, 'price-per-area'] *= euro_exchange_rate"
   ],
   "outputs": [],
   "execution_count": 70
  },
  {
   "cell_type": "code",
   "metadata": {
    "ExecuteTime": {
     "end_time": "2024-04-29T21:54:31.392309Z",
     "start_time": "2024-04-29T21:54:31.382008Z"
    }
   },
   "source": "df_nieruchomosci.loc[different_currency_price.index, ['price', 'price-per-area']]",
   "outputs": [
    {
     "data": {
      "text/plain": [
       "             price  price-per-area\n",
       "153   4.949372e+06    21324.322844\n",
       "1120  4.949372e+06    21324.322844\n",
       "1151  4.949376e+06    21324.322844\n",
       "2096  4.949376e+06    21707.791905\n",
       "2241  4.949376e+06    21641.341149\n",
       "2562  5.939251e+05     9137.323169\n",
       "2927  3.012664e+06    19820.142856\n",
       "2991  4.949376e+06    21333.532987\n",
       "3364  4.303805e+06    19457.504213\n",
       "8480  1.592408e+06    18957.229874"
      ],
      "text/html": [
       "<div>\n",
       "<style scoped>\n",
       "    .dataframe tbody tr th:only-of-type {\n",
       "        vertical-align: middle;\n",
       "    }\n",
       "\n",
       "    .dataframe tbody tr th {\n",
       "        vertical-align: top;\n",
       "    }\n",
       "\n",
       "    .dataframe thead th {\n",
       "        text-align: right;\n",
       "    }\n",
       "</style>\n",
       "<table border=\"1\" class=\"dataframe\">\n",
       "  <thead>\n",
       "    <tr style=\"text-align: right;\">\n",
       "      <th></th>\n",
       "      <th>price</th>\n",
       "      <th>price-per-area</th>\n",
       "    </tr>\n",
       "  </thead>\n",
       "  <tbody>\n",
       "    <tr>\n",
       "      <th>153</th>\n",
       "      <td>4.949372e+06</td>\n",
       "      <td>21324.322844</td>\n",
       "    </tr>\n",
       "    <tr>\n",
       "      <th>1120</th>\n",
       "      <td>4.949372e+06</td>\n",
       "      <td>21324.322844</td>\n",
       "    </tr>\n",
       "    <tr>\n",
       "      <th>1151</th>\n",
       "      <td>4.949376e+06</td>\n",
       "      <td>21324.322844</td>\n",
       "    </tr>\n",
       "    <tr>\n",
       "      <th>2096</th>\n",
       "      <td>4.949376e+06</td>\n",
       "      <td>21707.791905</td>\n",
       "    </tr>\n",
       "    <tr>\n",
       "      <th>2241</th>\n",
       "      <td>4.949376e+06</td>\n",
       "      <td>21641.341149</td>\n",
       "    </tr>\n",
       "    <tr>\n",
       "      <th>2562</th>\n",
       "      <td>5.939251e+05</td>\n",
       "      <td>9137.323169</td>\n",
       "    </tr>\n",
       "    <tr>\n",
       "      <th>2927</th>\n",
       "      <td>3.012664e+06</td>\n",
       "      <td>19820.142856</td>\n",
       "    </tr>\n",
       "    <tr>\n",
       "      <th>2991</th>\n",
       "      <td>4.949376e+06</td>\n",
       "      <td>21333.532987</td>\n",
       "    </tr>\n",
       "    <tr>\n",
       "      <th>3364</th>\n",
       "      <td>4.303805e+06</td>\n",
       "      <td>19457.504213</td>\n",
       "    </tr>\n",
       "    <tr>\n",
       "      <th>8480</th>\n",
       "      <td>1.592408e+06</td>\n",
       "      <td>18957.229874</td>\n",
       "    </tr>\n",
       "  </tbody>\n",
       "</table>\n",
       "</div>"
      ]
     },
     "execution_count": 71,
     "metadata": {},
     "output_type": "execute_result"
    }
   ],
   "execution_count": 71
  },
  {
   "cell_type": "markdown",
   "metadata": {},
   "source": "### Usunięcie wierszy z przesunięciem danych w kolumnach"
  },
  {
   "cell_type": "code",
   "metadata": {
    "ExecuteTime": {
     "end_time": "2024-04-29T21:54:35.018166Z",
     "start_time": "2024-04-29T21:54:35.001422Z"
    }
   },
   "source": [
    "\n",
    "print(df_nieruchomosci['no of rooms'].str.contains('-', na=False).sum())\n",
    "df_nieruchomosci.drop(df_nieruchomosci[df_nieruchomosci['no of rooms'].str.contains('-', na=False)].index, inplace=True)\n"
   ],
   "outputs": [
    {
     "name": "stdout",
     "output_type": "stream",
     "text": [
      "18\n"
     ]
    }
   ],
   "execution_count": 72
  },
  {
   "cell_type": "code",
   "metadata": {
    "ExecuteTime": {
     "end_time": "2024-04-29T21:54:37.724577Z",
     "start_time": "2024-04-29T21:54:37.707277Z"
    }
   },
   "source": [
    "print(df_nieruchomosci['no of rooms'].str.contains(r'\\D', na=False).sum())\n",
    "df_nieruchomosci.drop(df_nieruchomosci[df_nieruchomosci['no of rooms'].str.contains(r'\\D', na=False)].index, inplace=True)\n"
   ],
   "outputs": [
    {
     "name": "stdout",
     "output_type": "stream",
     "text": [
      "57\n"
     ]
    }
   ],
   "execution_count": 73
  },
  {
   "metadata": {},
   "cell_type": "markdown",
   "source": "### Liczba pokoji, i pięter"
  },
  {
   "cell_type": "markdown",
   "metadata": {},
   "source": "#### Zamiana wartości w kolumnach na typ liczbowy"
  },
  {
   "cell_type": "code",
   "metadata": {
    "ExecuteTime": {
     "end_time": "2024-04-29T21:54:43.173916Z",
     "start_time": "2024-04-29T21:54:43.167922Z"
    }
   },
   "source": [
    "df_nieruchomosci['no of rooms'] = df_nieruchomosci['no of rooms'].astype(int)"
   ],
   "outputs": [],
   "execution_count": 74
  },
  {
   "cell_type": "code",
   "metadata": {
    "ExecuteTime": {
     "end_time": "2024-04-29T21:54:45.215797Z",
     "start_time": "2024-04-29T21:54:45.203261Z"
    }
   },
   "source": "df_nieruchomosci['area'] = df_nieruchomosci['area'].str.replace(' m²', '').str.replace(',', '.').astype(float)",
   "outputs": [],
   "execution_count": 75
  },
  {
   "cell_type": "code",
   "metadata": {
    "ExecuteTime": {
     "end_time": "2024-04-29T21:54:46.908225Z",
     "start_time": "2024-04-29T21:54:46.887068Z"
    }
   },
   "source": [
    "df_nieruchomosci[df_nieruchomosci['floor/store'].str.contains('parter')]"
   ],
   "outputs": [
    {
     "data": {
      "text/plain": [
       "                                                    url  \\\n",
       "4     https://krakow.nieruchomosci-online.pl/mieszka...   \n",
       "5     https://krakow.nieruchomosci-online.pl/mieszka...   \n",
       "9     https://krakow.nieruchomosci-online.pl/mieszka...   \n",
       "12    https://krakow.nieruchomosci-online.pl/mieszka...   \n",
       "18    https://krakow.nieruchomosci-online.pl/mieszka...   \n",
       "...                                                 ...   \n",
       "8712  https://krakow.nieruchomosci-online.pl/mieszka...   \n",
       "8726  https://krakow.nieruchomosci-online.pl/mieszka...   \n",
       "8730  https://krakow.nieruchomosci-online.pl/mieszka...   \n",
       "8731  https://krakow.nieruchomosci-online.pl/mieszka...   \n",
       "8750  https://krakow.nieruchomosci-online.pl/mieszka...   \n",
       "\n",
       "                         name/title  \\\n",
       "4          Mieszkanie, ul. Pustynna   \n",
       "5                 Apartament Kraków   \n",
       "9     Apartament, ul. Szablowskiego   \n",
       "12           Mieszkanie, ul. Ułanów   \n",
       "18          Mieszkanie, ul. Obozowa   \n",
       "...                             ...   \n",
       "8712   Mieszkanie, ul. Szymańskiego   \n",
       "8726        Mieszkanie, ul. Glogera   \n",
       "8730      Mieszkanie, ul. Kołłątaja   \n",
       "8731         Mieszkanie, ul. Sławka   \n",
       "8750               Kawalerka Kraków   \n",
       "\n",
       "                                                address      price   area  \\\n",
       "4                  Pustynna, Kliny, Kraków, małopolskie  1200000.0  71.06   \n",
       "5                   Wola Justowska, Kraków, małopolskie  1198680.0  71.35   \n",
       "9         Szablowskiego, Bronowice, Kraków, małopolskie   599000.0  40.00   \n",
       "12        Ułanów, Prądnik Czerwony, Kraków, małopolskie   790000.0  58.00   \n",
       "18                 Obozowa, Ruczaj, Kraków, małopolskie   689900.0  51.94   \n",
       "...                                                 ...        ...    ...   \n",
       "8712         Szymańskiego, Branice, Kraków, małopolskie   371400.0  30.95   \n",
       "8726        Glogera, Prądnik Biały, Kraków, małopolskie   800000.0  47.21   \n",
       "8730                     Kołłątaja, Kraków, małopolskie  1059000.0  60.57   \n",
       "8731  Sławka, Dzielnica XI Podgórze Duchackie, Krakó...   409999.0  31.00   \n",
       "8750                  Stare Miasto, Kraków, małopolskie   295000.0  15.00   \n",
       "\n",
       "      price-per-area floor/store  no of floors/stores in the building  \\\n",
       "4           16887.14      parter                                  1.0   \n",
       "5           16800.00      parter                                  2.0   \n",
       "9           14975.00      parter                                  3.0   \n",
       "12          13620.69      parter                                 10.0   \n",
       "18          13282.63      parter                                  7.0   \n",
       "...              ...         ...                                  ...   \n",
       "8712        12000.00      parter                                  4.0   \n",
       "8726        16945.56      parter                                  3.0   \n",
       "8730        17483.90      parter                                  4.0   \n",
       "8731        13225.77      parter                                  2.0   \n",
       "8750        19666.67      parter                                  2.0   \n",
       "\n",
       "      no of rooms year of construction                 parking space  \\\n",
       "4               3                 2013         garaż w bryle budynku   \n",
       "5               4                 2023         garaż w bryle budynku   \n",
       "9               2                 2001                           tak   \n",
       "12              3                 1962                             -   \n",
       "18              2                 2012          przynależne na ulicy   \n",
       "...           ...                  ...                           ...   \n",
       "8712            2                 2025                           tak   \n",
       "8726            3                 2021                           tak   \n",
       "8730            3                 1908          przynależne na ulicy   \n",
       "8731            2                 2024            garaż wolnostojący   \n",
       "8750            1                 1913  parking publiczny / na ulicy   \n",
       "\n",
       "                                                 market  \\\n",
       "4                                                wtórny   \n",
       "5     pierwotny (zobacz inne nowe mieszkania w Krako...   \n",
       "9                                                wtórny   \n",
       "12                                               wtórny   \n",
       "18                                               wtórny   \n",
       "...                                                 ...   \n",
       "8712  pierwotny (zobacz inne nowe mieszkania w Krako...   \n",
       "8726                                             wtórny   \n",
       "8730                                             wtórny   \n",
       "8731  pierwotny (zobacz inne nowe mieszkania w Krako...   \n",
       "8750                                             wtórny   \n",
       "\n",
       "               form of ownership  \n",
       "4     własność, księga wieczysta  \n",
       "5                       własność  \n",
       "9     własność, księga wieczysta  \n",
       "12    własność, księga wieczysta  \n",
       "18    własność, księga wieczysta  \n",
       "...                          ...  \n",
       "8712                         NaN  \n",
       "8726                         NaN  \n",
       "8730                    własność  \n",
       "8731                    własność  \n",
       "8750                         NaN  \n",
       "\n",
       "[1608 rows x 13 columns]"
      ],
      "text/html": [
       "<div>\n",
       "<style scoped>\n",
       "    .dataframe tbody tr th:only-of-type {\n",
       "        vertical-align: middle;\n",
       "    }\n",
       "\n",
       "    .dataframe tbody tr th {\n",
       "        vertical-align: top;\n",
       "    }\n",
       "\n",
       "    .dataframe thead th {\n",
       "        text-align: right;\n",
       "    }\n",
       "</style>\n",
       "<table border=\"1\" class=\"dataframe\">\n",
       "  <thead>\n",
       "    <tr style=\"text-align: right;\">\n",
       "      <th></th>\n",
       "      <th>url</th>\n",
       "      <th>name/title</th>\n",
       "      <th>address</th>\n",
       "      <th>price</th>\n",
       "      <th>area</th>\n",
       "      <th>price-per-area</th>\n",
       "      <th>floor/store</th>\n",
       "      <th>no of floors/stores in the building</th>\n",
       "      <th>no of rooms</th>\n",
       "      <th>year of construction</th>\n",
       "      <th>parking space</th>\n",
       "      <th>market</th>\n",
       "      <th>form of ownership</th>\n",
       "    </tr>\n",
       "  </thead>\n",
       "  <tbody>\n",
       "    <tr>\n",
       "      <th>4</th>\n",
       "      <td>https://krakow.nieruchomosci-online.pl/mieszka...</td>\n",
       "      <td>Mieszkanie, ul. Pustynna</td>\n",
       "      <td>Pustynna, Kliny, Kraków, małopolskie</td>\n",
       "      <td>1200000.0</td>\n",
       "      <td>71.06</td>\n",
       "      <td>16887.14</td>\n",
       "      <td>parter</td>\n",
       "      <td>1.0</td>\n",
       "      <td>3</td>\n",
       "      <td>2013</td>\n",
       "      <td>garaż w bryle budynku</td>\n",
       "      <td>wtórny</td>\n",
       "      <td>własność, księga wieczysta</td>\n",
       "    </tr>\n",
       "    <tr>\n",
       "      <th>5</th>\n",
       "      <td>https://krakow.nieruchomosci-online.pl/mieszka...</td>\n",
       "      <td>Apartament Kraków</td>\n",
       "      <td>Wola Justowska, Kraków, małopolskie</td>\n",
       "      <td>1198680.0</td>\n",
       "      <td>71.35</td>\n",
       "      <td>16800.00</td>\n",
       "      <td>parter</td>\n",
       "      <td>2.0</td>\n",
       "      <td>4</td>\n",
       "      <td>2023</td>\n",
       "      <td>garaż w bryle budynku</td>\n",
       "      <td>pierwotny (zobacz inne nowe mieszkania w Krako...</td>\n",
       "      <td>własność</td>\n",
       "    </tr>\n",
       "    <tr>\n",
       "      <th>9</th>\n",
       "      <td>https://krakow.nieruchomosci-online.pl/mieszka...</td>\n",
       "      <td>Apartament, ul. Szablowskiego</td>\n",
       "      <td>Szablowskiego, Bronowice, Kraków, małopolskie</td>\n",
       "      <td>599000.0</td>\n",
       "      <td>40.00</td>\n",
       "      <td>14975.00</td>\n",
       "      <td>parter</td>\n",
       "      <td>3.0</td>\n",
       "      <td>2</td>\n",
       "      <td>2001</td>\n",
       "      <td>tak</td>\n",
       "      <td>wtórny</td>\n",
       "      <td>własność, księga wieczysta</td>\n",
       "    </tr>\n",
       "    <tr>\n",
       "      <th>12</th>\n",
       "      <td>https://krakow.nieruchomosci-online.pl/mieszka...</td>\n",
       "      <td>Mieszkanie, ul. Ułanów</td>\n",
       "      <td>Ułanów, Prądnik Czerwony, Kraków, małopolskie</td>\n",
       "      <td>790000.0</td>\n",
       "      <td>58.00</td>\n",
       "      <td>13620.69</td>\n",
       "      <td>parter</td>\n",
       "      <td>10.0</td>\n",
       "      <td>3</td>\n",
       "      <td>1962</td>\n",
       "      <td>-</td>\n",
       "      <td>wtórny</td>\n",
       "      <td>własność, księga wieczysta</td>\n",
       "    </tr>\n",
       "    <tr>\n",
       "      <th>18</th>\n",
       "      <td>https://krakow.nieruchomosci-online.pl/mieszka...</td>\n",
       "      <td>Mieszkanie, ul. Obozowa</td>\n",
       "      <td>Obozowa, Ruczaj, Kraków, małopolskie</td>\n",
       "      <td>689900.0</td>\n",
       "      <td>51.94</td>\n",
       "      <td>13282.63</td>\n",
       "      <td>parter</td>\n",
       "      <td>7.0</td>\n",
       "      <td>2</td>\n",
       "      <td>2012</td>\n",
       "      <td>przynależne na ulicy</td>\n",
       "      <td>wtórny</td>\n",
       "      <td>własność, księga wieczysta</td>\n",
       "    </tr>\n",
       "    <tr>\n",
       "      <th>...</th>\n",
       "      <td>...</td>\n",
       "      <td>...</td>\n",
       "      <td>...</td>\n",
       "      <td>...</td>\n",
       "      <td>...</td>\n",
       "      <td>...</td>\n",
       "      <td>...</td>\n",
       "      <td>...</td>\n",
       "      <td>...</td>\n",
       "      <td>...</td>\n",
       "      <td>...</td>\n",
       "      <td>...</td>\n",
       "      <td>...</td>\n",
       "    </tr>\n",
       "    <tr>\n",
       "      <th>8712</th>\n",
       "      <td>https://krakow.nieruchomosci-online.pl/mieszka...</td>\n",
       "      <td>Mieszkanie, ul. Szymańskiego</td>\n",
       "      <td>Szymańskiego, Branice, Kraków, małopolskie</td>\n",
       "      <td>371400.0</td>\n",
       "      <td>30.95</td>\n",
       "      <td>12000.00</td>\n",
       "      <td>parter</td>\n",
       "      <td>4.0</td>\n",
       "      <td>2</td>\n",
       "      <td>2025</td>\n",
       "      <td>tak</td>\n",
       "      <td>pierwotny (zobacz inne nowe mieszkania w Krako...</td>\n",
       "      <td>NaN</td>\n",
       "    </tr>\n",
       "    <tr>\n",
       "      <th>8726</th>\n",
       "      <td>https://krakow.nieruchomosci-online.pl/mieszka...</td>\n",
       "      <td>Mieszkanie, ul. Glogera</td>\n",
       "      <td>Glogera, Prądnik Biały, Kraków, małopolskie</td>\n",
       "      <td>800000.0</td>\n",
       "      <td>47.21</td>\n",
       "      <td>16945.56</td>\n",
       "      <td>parter</td>\n",
       "      <td>3.0</td>\n",
       "      <td>3</td>\n",
       "      <td>2021</td>\n",
       "      <td>tak</td>\n",
       "      <td>wtórny</td>\n",
       "      <td>NaN</td>\n",
       "    </tr>\n",
       "    <tr>\n",
       "      <th>8730</th>\n",
       "      <td>https://krakow.nieruchomosci-online.pl/mieszka...</td>\n",
       "      <td>Mieszkanie, ul. Kołłątaja</td>\n",
       "      <td>Kołłątaja, Kraków, małopolskie</td>\n",
       "      <td>1059000.0</td>\n",
       "      <td>60.57</td>\n",
       "      <td>17483.90</td>\n",
       "      <td>parter</td>\n",
       "      <td>4.0</td>\n",
       "      <td>3</td>\n",
       "      <td>1908</td>\n",
       "      <td>przynależne na ulicy</td>\n",
       "      <td>wtórny</td>\n",
       "      <td>własność</td>\n",
       "    </tr>\n",
       "    <tr>\n",
       "      <th>8731</th>\n",
       "      <td>https://krakow.nieruchomosci-online.pl/mieszka...</td>\n",
       "      <td>Mieszkanie, ul. Sławka</td>\n",
       "      <td>Sławka, Dzielnica XI Podgórze Duchackie, Krakó...</td>\n",
       "      <td>409999.0</td>\n",
       "      <td>31.00</td>\n",
       "      <td>13225.77</td>\n",
       "      <td>parter</td>\n",
       "      <td>2.0</td>\n",
       "      <td>2</td>\n",
       "      <td>2024</td>\n",
       "      <td>garaż wolnostojący</td>\n",
       "      <td>pierwotny (zobacz inne nowe mieszkania w Krako...</td>\n",
       "      <td>własność</td>\n",
       "    </tr>\n",
       "    <tr>\n",
       "      <th>8750</th>\n",
       "      <td>https://krakow.nieruchomosci-online.pl/mieszka...</td>\n",
       "      <td>Kawalerka Kraków</td>\n",
       "      <td>Stare Miasto, Kraków, małopolskie</td>\n",
       "      <td>295000.0</td>\n",
       "      <td>15.00</td>\n",
       "      <td>19666.67</td>\n",
       "      <td>parter</td>\n",
       "      <td>2.0</td>\n",
       "      <td>1</td>\n",
       "      <td>1913</td>\n",
       "      <td>parking publiczny / na ulicy</td>\n",
       "      <td>wtórny</td>\n",
       "      <td>NaN</td>\n",
       "    </tr>\n",
       "  </tbody>\n",
       "</table>\n",
       "<p>1608 rows × 13 columns</p>\n",
       "</div>"
      ]
     },
     "execution_count": 76,
     "metadata": {},
     "output_type": "execute_result"
    }
   ],
   "execution_count": 76
  },
  {
   "cell_type": "code",
   "metadata": {
    "ExecuteTime": {
     "end_time": "2024-04-29T21:54:51.644312Z",
     "start_time": "2024-04-29T21:54:51.638714Z"
    }
   },
   "source": [
    "# Zamiana wartości \"parter\" na 0 w kolumnie \"floor/store\"\n",
    "df_nieruchomosci['floor/store'] = df_nieruchomosci['floor/store'].replace('parter', '0')"
   ],
   "outputs": [],
   "execution_count": 77
  },
  {
   "cell_type": "code",
   "metadata": {
    "ExecuteTime": {
     "end_time": "2024-04-29T21:54:53.402739Z",
     "start_time": "2024-04-29T21:54:53.396888Z"
    }
   },
   "source": [
    "# Zamiana wartości \"suterena\" na -1 w kolumnie \"floor/store\"\n",
    "df_nieruchomosci['floor/store'] = df_nieruchomosci['floor/store'].replace('suterena', '-1')"
   ],
   "outputs": [],
   "execution_count": 78
  },
  {
   "cell_type": "code",
   "metadata": {
    "ExecuteTime": {
     "end_time": "2024-04-29T21:54:55.180168Z",
     "start_time": "2024-04-29T21:54:55.162312Z"
    }
   },
   "source": [
    "# usunięcie wierszy, które w kolumnie 'floor/store' zawierają dane nieliczbowe\n",
    "print(df_nieruchomosci[~df_nieruchomosci['floor/store'].str.contains(r'\\d', na=False)].shape[0])\n",
    "df_nieruchomosci.drop(df_nieruchomosci[~df_nieruchomosci['floor/store'].str.contains(r'\\d')].index, inplace=True)"
   ],
   "outputs": [
    {
     "name": "stdout",
     "output_type": "stream",
     "text": [
      "94\n"
     ]
    }
   ],
   "execution_count": 79
  },
  {
   "cell_type": "code",
   "metadata": {
    "ExecuteTime": {
     "end_time": "2024-04-29T21:54:57.349719Z",
     "start_time": "2024-04-29T21:54:57.334418Z"
    }
   },
   "source": [
    "# przesunięte dane\n",
    "print(df_nieruchomosci[df_nieruchomosci['floor/store'].str.contains(r'[a-zA-Z]')].shape[0])\n",
    "df_nieruchomosci.drop(df_nieruchomosci[df_nieruchomosci['floor/store'].str.contains(r'[a-zA-Z]')].index, inplace=True)"
   ],
   "outputs": [
    {
     "name": "stdout",
     "output_type": "stream",
     "text": [
      "117\n"
     ]
    }
   ],
   "execution_count": 80
  },
  {
   "cell_type": "code",
   "metadata": {
    "ExecuteTime": {
     "end_time": "2024-04-29T21:55:00.486160Z",
     "start_time": "2024-04-29T21:55:00.481163Z"
    }
   },
   "source": "df_nieruchomosci['floor/store'] = df_nieruchomosci['floor/store'].astype(int)",
   "outputs": [],
   "execution_count": 81
  },
  {
   "metadata": {
    "ExecuteTime": {
     "end_time": "2024-04-29T21:55:02.568586Z",
     "start_time": "2024-04-29T21:55:02.559045Z"
    }
   },
   "cell_type": "code",
   "source": [
    "print(df_nieruchomosci[df_nieruchomosci['no of floors/stores in the building'].isna()].shape[0])\n",
    "df_nieruchomosci.dropna(subset=['no of floors/stores in the building'], inplace=True)\n",
    "df_nieruchomosci['no of floors/stores in the building'] = df_nieruchomosci['no of floors/stores in the building'].astype(int)"
   ],
   "outputs": [
    {
     "name": "stdout",
     "output_type": "stream",
     "text": [
      "177\n"
     ]
    }
   ],
   "execution_count": 82
  },
  {
   "metadata": {
    "ExecuteTime": {
     "end_time": "2024-04-29T21:55:05.424045Z",
     "start_time": "2024-04-29T21:55:05.415045Z"
    }
   },
   "cell_type": "code",
   "source": [
    "# Według wikipedii najwyższy mieszkalny budunek w Krk ma 19 pięter\n",
    "# https://pl.wikipedia.org/wiki/Lista_najwyższych_budynków_w_Krakowie\n",
    "print(df_nieruchomosci[df_nieruchomosci['no of floors/stores in the building'] > 19].shape[0])\n",
    "df_nieruchomosci.drop(df_nieruchomosci[df_nieruchomosci['no of floors/stores in the building'] > 19].index, inplace=True)"
   ],
   "outputs": [
    {
     "name": "stdout",
     "output_type": "stream",
     "text": [
      "1\n"
     ]
    }
   ],
   "execution_count": 83
  },
  {
   "metadata": {},
   "cell_type": "markdown",
   "source": "### Rok budowy"
  },
  {
   "metadata": {
    "ExecuteTime": {
     "end_time": "2024-04-29T21:55:08.316978Z",
     "start_time": "2024-04-29T21:55:08.295980Z"
    }
   },
   "cell_type": "code",
   "source": [
    "df_nieruchomosci['year of construction'] = pd.to_numeric(df_nieruchomosci['year of construction'], errors='coerce')\n",
    "\n",
    "missing_below_1200 = df_nieruchomosci[df_nieruchomosci['year of construction'] < 1250]\n",
    "missing_above_2026 = df_nieruchomosci[df_nieruchomosci['year of construction'] > 2026]\n",
    "pd.concat([missing_above_2026, missing_below_1200])"
   ],
   "outputs": [
    {
     "data": {
      "text/plain": [
       "                                                    url  \\\n",
       "7393  https://krakow.nieruchomosci-online.pl/mieszka...   \n",
       "2100  https://krakow.nieruchomosci-online.pl/mieszka...   \n",
       "\n",
       "                    name/title                                      address  \\\n",
       "7393   Mieszkanie, ul. Banacha  Banacha, Prądnik Biały, Kraków, małopolskie   \n",
       "2100  Mieszkanie, ul. Magnolii        Magnolii, Ruczaj, Kraków, małopolskie   \n",
       "\n",
       "         price   area  price-per-area  floor/store  \\\n",
       "7393  759000.0  49.47        15342.63            6   \n",
       "2100  790300.0  56.45        14000.00            3   \n",
       "\n",
       "      no of floors/stores in the building  no of rooms  year of construction  \\\n",
       "7393                                    8            3                2924.0   \n",
       "2100                                    3            3                1024.0   \n",
       "\n",
       "     parking space                                             market  \\\n",
       "7393           tak  pierwotny (zobacz inne nowe mieszkania w Krako...   \n",
       "2100         garaż  pierwotny (zobacz inne nowe mieszkania w Krako...   \n",
       "\n",
       "     form of ownership  \n",
       "7393          własność  \n",
       "2100               NaN  "
      ],
      "text/html": [
       "<div>\n",
       "<style scoped>\n",
       "    .dataframe tbody tr th:only-of-type {\n",
       "        vertical-align: middle;\n",
       "    }\n",
       "\n",
       "    .dataframe tbody tr th {\n",
       "        vertical-align: top;\n",
       "    }\n",
       "\n",
       "    .dataframe thead th {\n",
       "        text-align: right;\n",
       "    }\n",
       "</style>\n",
       "<table border=\"1\" class=\"dataframe\">\n",
       "  <thead>\n",
       "    <tr style=\"text-align: right;\">\n",
       "      <th></th>\n",
       "      <th>url</th>\n",
       "      <th>name/title</th>\n",
       "      <th>address</th>\n",
       "      <th>price</th>\n",
       "      <th>area</th>\n",
       "      <th>price-per-area</th>\n",
       "      <th>floor/store</th>\n",
       "      <th>no of floors/stores in the building</th>\n",
       "      <th>no of rooms</th>\n",
       "      <th>year of construction</th>\n",
       "      <th>parking space</th>\n",
       "      <th>market</th>\n",
       "      <th>form of ownership</th>\n",
       "    </tr>\n",
       "  </thead>\n",
       "  <tbody>\n",
       "    <tr>\n",
       "      <th>7393</th>\n",
       "      <td>https://krakow.nieruchomosci-online.pl/mieszka...</td>\n",
       "      <td>Mieszkanie, ul. Banacha</td>\n",
       "      <td>Banacha, Prądnik Biały, Kraków, małopolskie</td>\n",
       "      <td>759000.0</td>\n",
       "      <td>49.47</td>\n",
       "      <td>15342.63</td>\n",
       "      <td>6</td>\n",
       "      <td>8</td>\n",
       "      <td>3</td>\n",
       "      <td>2924.0</td>\n",
       "      <td>tak</td>\n",
       "      <td>pierwotny (zobacz inne nowe mieszkania w Krako...</td>\n",
       "      <td>własność</td>\n",
       "    </tr>\n",
       "    <tr>\n",
       "      <th>2100</th>\n",
       "      <td>https://krakow.nieruchomosci-online.pl/mieszka...</td>\n",
       "      <td>Mieszkanie, ul. Magnolii</td>\n",
       "      <td>Magnolii, Ruczaj, Kraków, małopolskie</td>\n",
       "      <td>790300.0</td>\n",
       "      <td>56.45</td>\n",
       "      <td>14000.00</td>\n",
       "      <td>3</td>\n",
       "      <td>3</td>\n",
       "      <td>3</td>\n",
       "      <td>1024.0</td>\n",
       "      <td>garaż</td>\n",
       "      <td>pierwotny (zobacz inne nowe mieszkania w Krako...</td>\n",
       "      <td>NaN</td>\n",
       "    </tr>\n",
       "  </tbody>\n",
       "</table>\n",
       "</div>"
      ]
     },
     "execution_count": 84,
     "metadata": {},
     "output_type": "execute_result"
    }
   ],
   "execution_count": 84
  },
  {
   "metadata": {
    "ExecuteTime": {
     "end_time": "2024-04-29T21:55:11.253420Z",
     "start_time": "2024-04-29T21:55:11.248368Z"
    }
   },
   "cell_type": "code",
   "source": [
    "# Poprawianie \"z placa\"\n",
    "df_nieruchomosci['year of construction'] = df_nieruchomosci['year of construction'].replace(2924.0, 2024)\n",
    "df_nieruchomosci['year of construction'] = df_nieruchomosci['year of construction'].replace(1024.0, 2024)"
   ],
   "outputs": [],
   "execution_count": 85
  },
  {
   "metadata": {
    "ExecuteTime": {
     "end_time": "2024-04-29T21:55:13.098765Z",
     "start_time": "2024-04-29T21:55:13.091104Z"
    }
   },
   "cell_type": "code",
   "source": "df_nieruchomosci['year of construction'].value_counts(dropna=False)",
   "outputs": [
    {
     "data": {
      "text/plain": [
       "year of construction\n",
       "2024.0    1417\n",
       "2023.0    1389\n",
       "NaN        717\n",
       "2025.0     660\n",
       "2022.0     383\n",
       "          ... \n",
       "1921.0       1\n",
       "1946.0       1\n",
       "1870.0       1\n",
       "1350.0       1\n",
       "1845.0       1\n",
       "Name: count, Length: 153, dtype: int64"
      ]
     },
     "execution_count": 86,
     "metadata": {},
     "output_type": "execute_result"
    }
   ],
   "execution_count": 86
  },
  {
   "metadata": {},
   "cell_type": "markdown",
   "source": "### Parking"
  },
  {
   "metadata": {
    "ExecuteTime": {
     "end_time": "2024-04-29T21:55:17.806374Z",
     "start_time": "2024-04-29T21:55:17.800369Z"
    }
   },
   "cell_type": "code",
   "source": "df_nieruchomosci['parking space'] = df_nieruchomosci['parking space'].replace('-', 'parking publiczny / na ulicy')",
   "outputs": [],
   "execution_count": 87
  },
  {
   "metadata": {
    "ExecuteTime": {
     "end_time": "2024-04-29T21:55:20.404689Z",
     "start_time": "2024-04-29T21:55:20.396584Z"
    }
   },
   "cell_type": "code",
   "source": "df_nieruchomosci['parking space'].unique()",
   "outputs": [
    {
     "data": {
      "text/plain": [
       "array(['tak', 'w garażu podziemnym', 'parking publiczny / na ulicy',\n",
       "       'garaż w bryle budynku', 'garaż', 'przynależne na ulicy',\n",
       "       'przynależne na terenie ogrodzonym', 'możliwość wykupienia',\n",
       "       'garaż wolnostojący', 'parking strzeżony w pobliżu',\n",
       "       'wiata garażowa'], dtype=object)"
      ]
     },
     "execution_count": 88,
     "metadata": {},
     "output_type": "execute_result"
    }
   ],
   "execution_count": 88
  },
  {
   "metadata": {
    "ExecuteTime": {
     "end_time": "2024-04-29T21:55:24.003653Z",
     "start_time": "2024-04-29T21:55:23.993914Z"
    }
   },
   "cell_type": "code",
   "source": "df_nieruchomosci['parking space'].value_counts(dropna=False)",
   "outputs": [
    {
     "data": {
      "text/plain": [
       "parking space\n",
       "parking publiczny / na ulicy         3151\n",
       "w garażu podziemnym                  1465\n",
       "tak                                  1044\n",
       "garaż                                 794\n",
       "przynależne na ulicy                  582\n",
       "garaż wolnostojący                    417\n",
       "przynależne na terenie ogrodzonym     224\n",
       "garaż w bryle budynku                 205\n",
       "parking strzeżony w pobliżu           173\n",
       "możliwość wykupienia                  113\n",
       "wiata garażowa                         25\n",
       "Name: count, dtype: int64"
      ]
     },
     "execution_count": 89,
     "metadata": {},
     "output_type": "execute_result"
    }
   ],
   "execution_count": 89
  },
  {
   "metadata": {
    "ExecuteTime": {
     "end_time": "2024-04-29T21:55:34.142200Z",
     "start_time": "2024-04-29T21:55:34.133713Z"
    }
   },
   "cell_type": "code",
   "source": [
    "# Skopiowanie danych do nowej kolumny (mogą się przydać do jakiegoś modelu) i konwersja na boolean dla spójności z otodom\n",
    "df_nieruchomosci['parking space details'] = df_nieruchomosci['parking space']\n",
    "false_values = ['parking publiczny / na ulicy', 'możliwość wykupienia', 'parking strzeżony w pobliżu']\n",
    "df_nieruchomosci['parking space'] = ~df_nieruchomosci['parking space'].isin(false_values)"
   ],
   "outputs": [],
   "execution_count": 90
  },
  {
   "metadata": {},
   "cell_type": "markdown",
   "source": "### Rynek"
  },
  {
   "metadata": {
    "ExecuteTime": {
     "end_time": "2024-04-29T21:55:49.185917Z",
     "start_time": "2024-04-29T21:55:49.176924Z"
    }
   },
   "cell_type": "code",
   "source": [
    "valid_values = ['wtórny', 'pierwotny (zobacz inne nowe mieszkania w Krakowie)']\n",
    "\n",
    "shifted_rows = ~df_nieruchomosci['market'].isin(valid_values) & df_nieruchomosci['market'].notna()\n",
    "\n",
    "df_nieruchomosci.drop(df_nieruchomosci[shifted_rows].index, inplace=True)"
   ],
   "outputs": [],
   "execution_count": 91
  },
  {
   "metadata": {
    "ExecuteTime": {
     "end_time": "2024-04-29T21:55:52.540846Z",
     "start_time": "2024-04-29T21:55:52.528241Z"
    }
   },
   "cell_type": "code",
   "source": [
    "df_nieruchomosci.loc[(df_nieruchomosci['market'].isna()) & (df_nieruchomosci['year of construction'] > 2022), 'market'] = 'pierwotny'\n",
    "df_nieruchomosci.loc[(df_nieruchomosci['market'].isna()) & (df_nieruchomosci['year of construction'] < 2023), 'market'] = 'wtórny'\n",
    "print(df_nieruchomosci['market'].isna().sum())\n",
    "df_nieruchomosci.dropna(subset=['market'], inplace=True)"
   ],
   "outputs": [
    {
     "name": "stdout",
     "output_type": "stream",
     "text": [
      "33\n"
     ]
    }
   ],
   "execution_count": 92
  },
  {
   "metadata": {
    "ExecuteTime": {
     "end_time": "2024-04-29T21:55:55.567003Z",
     "start_time": "2024-04-29T21:55:55.561004Z"
    }
   },
   "cell_type": "code",
   "source": "df_nieruchomosci['market'] = df_nieruchomosci['market'].replace('pierwotny (zobacz inne nowe mieszkania w Krakowie)', 'pierwotny')",
   "outputs": [],
   "execution_count": 93
  },
  {
   "metadata": {},
   "cell_type": "markdown",
   "source": "### Forma własności"
  },
  {
   "metadata": {
    "ExecuteTime": {
     "end_time": "2024-04-29T21:55:59.705869Z",
     "start_time": "2024-04-29T21:55:59.700871Z"
    }
   },
   "cell_type": "code",
   "source": [
    "# Zgodnie z obowiązującym prawem od 2007 r. nie ma możliwości ustanawiania spółdzielczego własnościowego prawa do lokalu\n",
    "df_nieruchomosci.loc[(df_nieruchomosci['form of ownership'].isna()) & (df_nieruchomosci['year of construction'] > 2006), 'form of ownership'] = 'własność'"
   ],
   "outputs": [],
   "execution_count": 94
  },
  {
   "metadata": {
    "ExecuteTime": {
     "end_time": "2024-04-29T21:56:02.375053Z",
     "start_time": "2024-04-29T21:56:02.362030Z"
    }
   },
   "cell_type": "code",
   "source": [
    "ownership_mapping = {\n",
    "    'własność': 'pełna własność',\n",
    "    'własność, księga wieczysta': 'pełna własność',\n",
    "    'spółdzielcze własnościowe, księga wieczysta': 'spółdzielcze wł. prawo do lokalu',\n",
    "    'spółdzielcze własnościowe': 'spółdzielcze wł. prawo do lokalu',\n",
    "    'udział w KW': 'udział',\n",
    "    'udział ze wskazaniem, KW na budynku': 'udział',\n",
    "    'księga wieczysta': 'pełna własność',\n",
    "    'inna': 'użytkowanie wieczyste / dzierżawa',\n",
    "    'udział': 'udział',\n",
    "    'inna, księga wieczysta': 'użytkowanie wieczyste / dzierżawa',\n",
    "    'Udział ze wskazaniem': 'udział',\n",
    "    'Udział': 'udział',\n",
    "    'udział, księga wieczysta': 'udział',\n",
    "    'udział ze wskazaniem': 'udział',\n",
    "    'Chce dopłacić': np.nan,\n",
    "    'tak': np.nan,\n",
    "    'udziały, księga wieczysta': 'udział',\n",
    "    'Oczekuje dopłaty': np.nan,\n",
    "    'KW budynek, udział ze wskazaniem': 'udział',\n",
    "    'Spółdzielcza wł. z KW': 'spółdzielcze wł. prawo do lokalu'\n",
    "}\n",
    "\n",
    "df_nieruchomosci['form of ownership'] = df_nieruchomosci['form of ownership'].replace(ownership_mapping)\n",
    "\n",
    "# df_nieruchomosci['form of ownership'].fillna('NaN', inplace=True)\n"
   ],
   "outputs": [],
   "execution_count": 95
  },
  {
   "metadata": {
    "ExecuteTime": {
     "end_time": "2024-04-29T21:56:05.991007Z",
     "start_time": "2024-04-29T21:56:05.984338Z"
    }
   },
   "cell_type": "code",
   "source": "df_nieruchomosci['form of ownership'].value_counts(dropna=False)",
   "outputs": [
    {
     "data": {
      "text/plain": [
       "form of ownership\n",
       "pełna własność                       6403\n",
       "NaN                                  1506\n",
       "spółdzielcze wł. prawo do lokalu      200\n",
       "użytkowanie wieczyste / dzierżawa      31\n",
       "udział                                 12\n",
       "Name: count, dtype: int64"
      ]
     },
     "execution_count": 96,
     "metadata": {},
     "output_type": "execute_result"
    }
   ],
   "execution_count": 96
  },
  {
   "metadata": {
    "ExecuteTime": {
     "end_time": "2024-04-29T21:56:10.611876Z",
     "start_time": "2024-04-29T21:56:10.601361Z"
    }
   },
   "cell_type": "code",
   "source": [
    "nan_row_count = df_nieruchomosci.isna().any(axis=1).sum()\n",
    "df_nieruchomosci.shape[0] - nan_row_count"
   ],
   "outputs": [
    {
     "data": {
      "text/plain": [
       "6489"
      ]
     },
     "execution_count": 97,
     "metadata": {},
     "output_type": "execute_result"
    }
   ],
   "execution_count": 97
  },
  {
   "cell_type": "code",
   "metadata": {
    "ExecuteTime": {
     "end_time": "2024-04-29T21:56:16.146952Z",
     "start_time": "2024-04-29T21:56:16.132432Z"
    }
   },
   "source": [
    "df_nieruchomosci.info()"
   ],
   "outputs": [
    {
     "name": "stdout",
     "output_type": "stream",
     "text": [
      "<class 'pandas.core.frame.DataFrame'>\n",
      "Index: 8152 entries, 0 to 8752\n",
      "Data columns (total 14 columns):\n",
      " #   Column                               Non-Null Count  Dtype  \n",
      "---  ------                               --------------  -----  \n",
      " 0   url                                  8152 non-null   object \n",
      " 1   name/title                           8152 non-null   object \n",
      " 2   address                              8152 non-null   object \n",
      " 3   price                                8152 non-null   float64\n",
      " 4   area                                 8152 non-null   float64\n",
      " 5   price-per-area                       8152 non-null   float64\n",
      " 6   floor/store                          8152 non-null   int32  \n",
      " 7   no of floors/stores in the building  8152 non-null   int32  \n",
      " 8   no of rooms                          8152 non-null   int32  \n",
      " 9   year of construction                 7469 non-null   float64\n",
      " 10  parking space                        8152 non-null   bool   \n",
      " 11  market                               8152 non-null   object \n",
      " 12  form of ownership                    6646 non-null   object \n",
      " 13  parking space details                8152 non-null   object \n",
      "dtypes: bool(1), float64(4), int32(3), object(6)\n",
      "memory usage: 804.1+ KB\n"
     ]
    }
   ],
   "execution_count": 98
  },
  {
   "cell_type": "code",
   "metadata": {
    "ExecuteTime": {
     "end_time": "2024-04-29T21:56:19.641367Z",
     "start_time": "2024-04-29T21:56:19.615276Z"
    }
   },
   "source": [
    "df_nieruchomosci.describe()"
   ],
   "outputs": [
    {
     "data": {
      "text/plain": [
       "              price         area  price-per-area  floor/store  \\\n",
       "count  8.152000e+03  8152.000000     8152.000000  8152.000000   \n",
       "mean   9.851483e+05    59.013782    16853.855590     2.388371   \n",
       "std    6.580980e+05    31.189316     4703.809696     2.178187   \n",
       "min    1.490000e+05    11.700000       19.140000    -1.000000   \n",
       "25%    6.661425e+05    40.865000    14000.000000     1.000000   \n",
       "50%    8.200000e+05    52.030000    16173.245000     2.000000   \n",
       "75%    1.080540e+06    67.090000    18850.272500     4.000000   \n",
       "max    1.600000e+07   627.000000    71018.210000    15.000000   \n",
       "\n",
       "       no of floors/stores in the building  no of rooms  year of construction  \n",
       "count                          8152.000000  8152.000000           7469.000000  \n",
       "mean                              4.862365     2.653582           2003.172580  \n",
       "std                               2.437026     1.246943             38.307296  \n",
       "min                               1.000000     1.000000           1300.000000  \n",
       "25%                               3.000000     2.000000           1998.000000  \n",
       "50%                               4.000000     3.000000           2022.000000  \n",
       "75%                               6.000000     3.000000           2024.000000  \n",
       "max                              16.000000    44.000000           2026.000000  "
      ],
      "text/html": [
       "<div>\n",
       "<style scoped>\n",
       "    .dataframe tbody tr th:only-of-type {\n",
       "        vertical-align: middle;\n",
       "    }\n",
       "\n",
       "    .dataframe tbody tr th {\n",
       "        vertical-align: top;\n",
       "    }\n",
       "\n",
       "    .dataframe thead th {\n",
       "        text-align: right;\n",
       "    }\n",
       "</style>\n",
       "<table border=\"1\" class=\"dataframe\">\n",
       "  <thead>\n",
       "    <tr style=\"text-align: right;\">\n",
       "      <th></th>\n",
       "      <th>price</th>\n",
       "      <th>area</th>\n",
       "      <th>price-per-area</th>\n",
       "      <th>floor/store</th>\n",
       "      <th>no of floors/stores in the building</th>\n",
       "      <th>no of rooms</th>\n",
       "      <th>year of construction</th>\n",
       "    </tr>\n",
       "  </thead>\n",
       "  <tbody>\n",
       "    <tr>\n",
       "      <th>count</th>\n",
       "      <td>8.152000e+03</td>\n",
       "      <td>8152.000000</td>\n",
       "      <td>8152.000000</td>\n",
       "      <td>8152.000000</td>\n",
       "      <td>8152.000000</td>\n",
       "      <td>8152.000000</td>\n",
       "      <td>7469.000000</td>\n",
       "    </tr>\n",
       "    <tr>\n",
       "      <th>mean</th>\n",
       "      <td>9.851483e+05</td>\n",
       "      <td>59.013782</td>\n",
       "      <td>16853.855590</td>\n",
       "      <td>2.388371</td>\n",
       "      <td>4.862365</td>\n",
       "      <td>2.653582</td>\n",
       "      <td>2003.172580</td>\n",
       "    </tr>\n",
       "    <tr>\n",
       "      <th>std</th>\n",
       "      <td>6.580980e+05</td>\n",
       "      <td>31.189316</td>\n",
       "      <td>4703.809696</td>\n",
       "      <td>2.178187</td>\n",
       "      <td>2.437026</td>\n",
       "      <td>1.246943</td>\n",
       "      <td>38.307296</td>\n",
       "    </tr>\n",
       "    <tr>\n",
       "      <th>min</th>\n",
       "      <td>1.490000e+05</td>\n",
       "      <td>11.700000</td>\n",
       "      <td>19.140000</td>\n",
       "      <td>-1.000000</td>\n",
       "      <td>1.000000</td>\n",
       "      <td>1.000000</td>\n",
       "      <td>1300.000000</td>\n",
       "    </tr>\n",
       "    <tr>\n",
       "      <th>25%</th>\n",
       "      <td>6.661425e+05</td>\n",
       "      <td>40.865000</td>\n",
       "      <td>14000.000000</td>\n",
       "      <td>1.000000</td>\n",
       "      <td>3.000000</td>\n",
       "      <td>2.000000</td>\n",
       "      <td>1998.000000</td>\n",
       "    </tr>\n",
       "    <tr>\n",
       "      <th>50%</th>\n",
       "      <td>8.200000e+05</td>\n",
       "      <td>52.030000</td>\n",
       "      <td>16173.245000</td>\n",
       "      <td>2.000000</td>\n",
       "      <td>4.000000</td>\n",
       "      <td>3.000000</td>\n",
       "      <td>2022.000000</td>\n",
       "    </tr>\n",
       "    <tr>\n",
       "      <th>75%</th>\n",
       "      <td>1.080540e+06</td>\n",
       "      <td>67.090000</td>\n",
       "      <td>18850.272500</td>\n",
       "      <td>4.000000</td>\n",
       "      <td>6.000000</td>\n",
       "      <td>3.000000</td>\n",
       "      <td>2024.000000</td>\n",
       "    </tr>\n",
       "    <tr>\n",
       "      <th>max</th>\n",
       "      <td>1.600000e+07</td>\n",
       "      <td>627.000000</td>\n",
       "      <td>71018.210000</td>\n",
       "      <td>15.000000</td>\n",
       "      <td>16.000000</td>\n",
       "      <td>44.000000</td>\n",
       "      <td>2026.000000</td>\n",
       "    </tr>\n",
       "  </tbody>\n",
       "</table>\n",
       "</div>"
      ]
     },
     "execution_count": 99,
     "metadata": {},
     "output_type": "execute_result"
    }
   ],
   "execution_count": 99
  },
  {
   "cell_type": "code",
   "metadata": {
    "collapsed": false,
    "ExecuteTime": {
     "end_time": "2024-04-29T21:56:22.596822Z",
     "start_time": "2024-04-29T21:56:22.585825Z"
    }
   },
   "source": [
    "df_nieruchomosci.isnull().sum()"
   ],
   "outputs": [
    {
     "data": {
      "text/plain": [
       "url                                       0\n",
       "name/title                                0\n",
       "address                                   0\n",
       "price                                     0\n",
       "area                                      0\n",
       "price-per-area                            0\n",
       "floor/store                               0\n",
       "no of floors/stores in the building       0\n",
       "no of rooms                               0\n",
       "year of construction                    683\n",
       "parking space                             0\n",
       "market                                    0\n",
       "form of ownership                      1506\n",
       "parking space details                     0\n",
       "dtype: int64"
      ]
     },
     "execution_count": 100,
     "metadata": {},
     "output_type": "execute_result"
    }
   ],
   "execution_count": 100
  },
  {
   "metadata": {},
   "cell_type": "markdown",
   "source": "## Adresy - wstępnie"
  },
  {
   "metadata": {
    "ExecuteTime": {
     "end_time": "2024-04-29T21:56:33.119514Z",
     "start_time": "2024-04-29T21:56:33.104646Z"
    }
   },
   "cell_type": "code",
   "source": "df_nieruchomosci[~df_nieruchomosci['address'].str.contains(\"Kraków\", na=False)]",
   "outputs": [
    {
     "data": {
      "text/plain": [
       "Empty DataFrame\n",
       "Columns: [url, name/title, address, price, area, price-per-area, floor/store, no of floors/stores in the building, no of rooms, year of construction, parking space, market, form of ownership, parking space details]\n",
       "Index: []"
      ],
      "text/html": [
       "<div>\n",
       "<style scoped>\n",
       "    .dataframe tbody tr th:only-of-type {\n",
       "        vertical-align: middle;\n",
       "    }\n",
       "\n",
       "    .dataframe tbody tr th {\n",
       "        vertical-align: top;\n",
       "    }\n",
       "\n",
       "    .dataframe thead th {\n",
       "        text-align: right;\n",
       "    }\n",
       "</style>\n",
       "<table border=\"1\" class=\"dataframe\">\n",
       "  <thead>\n",
       "    <tr style=\"text-align: right;\">\n",
       "      <th></th>\n",
       "      <th>url</th>\n",
       "      <th>name/title</th>\n",
       "      <th>address</th>\n",
       "      <th>price</th>\n",
       "      <th>area</th>\n",
       "      <th>price-per-area</th>\n",
       "      <th>floor/store</th>\n",
       "      <th>no of floors/stores in the building</th>\n",
       "      <th>no of rooms</th>\n",
       "      <th>year of construction</th>\n",
       "      <th>parking space</th>\n",
       "      <th>market</th>\n",
       "      <th>form of ownership</th>\n",
       "      <th>parking space details</th>\n",
       "    </tr>\n",
       "  </thead>\n",
       "  <tbody>\n",
       "  </tbody>\n",
       "</table>\n",
       "</div>"
      ]
     },
     "execution_count": 101,
     "metadata": {},
     "output_type": "execute_result"
    }
   ],
   "execution_count": 101
  },
  {
   "metadata": {},
   "cell_type": "markdown",
   "source": "# Inżynieria danych"
  },
  {
   "metadata": {},
   "cell_type": "markdown",
   "source": "## Uspójnianie zbiorów"
  },
  {
   "metadata": {
    "ExecuteTime": {
     "end_time": "2024-04-29T21:58:35.339638Z",
     "start_time": "2024-04-29T21:58:35.313917Z"
    }
   },
   "cell_type": "code",
   "source": [
    "common_columns = df_otodom.columns.intersection(df_nieruchomosci.columns)\n",
    "df_apartments = pd.concat([df_otodom[common_columns], df_nieruchomosci[common_columns]], ignore_index=True)\n",
    "df_apartments"
   ],
   "outputs": [
    {
     "data": {
      "text/plain": [
       "                                                     url  \\\n",
       "0      https://www.otodom.pl/pl/oferta/gotowe-2-pokoj...   \n",
       "1      https://www.otodom.pl/pl/oferta/4-pok-mieszkan...   \n",
       "2      https://www.otodom.pl/pl/oferta/3-pokoje-w-rza...   \n",
       "3      https://www.otodom.pl/pl/oferta/mieszkanie-ide...   \n",
       "4      https://www.otodom.pl/pl/oferta/ul-lasowka-3-p...   \n",
       "...                                                  ...   \n",
       "18152  https://krakow.nieruchomosci-online.pl/mieszka...   \n",
       "18153  https://krakow.nieruchomosci-online.pl/mieszka...   \n",
       "18154  https://krakow.nieruchomosci-online.pl/mieszka...   \n",
       "18155  https://krakow.nieruchomosci-online.pl/mieszka...   \n",
       "18156  https://krakow.nieruchomosci-online.pl/mieszka...   \n",
       "\n",
       "                                              name/title  \\\n",
       "0              Gotowe| 2 pokoje| blisko centrum| Bonarka   \n",
       "1      4-pok.mieszkanie z Sauną - Wysoki Standard ! 2...   \n",
       "2                3 pokoje w rządowym programie kredyt 2%   \n",
       "3               Mieszkanie idealne na start, 3 - pokoje!   \n",
       "4              ul. Lasówka, 3 pokoje, 65m2 + taras 20m2!   \n",
       "...                                                  ...   \n",
       "18152                                  Mieszkanie Kraków   \n",
       "18153                            Apartament, ul. Dworska   \n",
       "18154                                   Kawalerka Kraków   \n",
       "18155                        Mieszkanie, ul. Chmieleniec   \n",
       "18156                Mieszkanie, ul. Władysława Łokietka   \n",
       "\n",
       "                                                 address      price   area  \\\n",
       "0      Wola Duchacka, Podgórze Duchackie, Kraków, mał...   719000.0  55.98   \n",
       "1      Biskupa Albina Małysiaka, Kobierzyn, Dębniki, ...  1350000.0  87.00   \n",
       "2       Bieżanów, Bieżanów-Prokocim, Kraków, małopolskie   599000.0  47.10   \n",
       "3      ul. Erazma Jerzmanowskiego, Prokocim, Bieżanów...   833500.0  66.69   \n",
       "4      ul. Lasówka, Płaszów, Podgórze, Kraków, małopo...   949000.0  65.81   \n",
       "...                                                  ...        ...    ...   \n",
       "18152                      Podgórze, Kraków, małopolskie  1149640.0  56.08   \n",
       "18153              Dworska, Dębniki, Kraków, małopolskie   860000.0  55.65   \n",
       "18154                  Stare Miasto, Kraków, małopolskie   295000.0  15.00   \n",
       "18155         Chmieleniec, Podgórze, Kraków, małopolskie   599000.0  43.00   \n",
       "18156   Władysława Łokietka, Łobzów, Kraków, małopolskie   889000.0  52.00   \n",
       "\n",
       "       price-per-area  floor/store  no of floors/stores in the building  \\\n",
       "0            12844.00            0                                    8   \n",
       "1            15517.00            2                                    4   \n",
       "2            12718.00            1                                    4   \n",
       "3            12498.00            3                                    8   \n",
       "4            14420.00            7                                    7   \n",
       "...               ...          ...                                  ...   \n",
       "18152        20500.00            1                                    4   \n",
       "18153        15453.73            3                                    4   \n",
       "18154        19666.67            0                                    2   \n",
       "18155        13930.23            2                                    4   \n",
       "18156        17096.00            4                                    4   \n",
       "\n",
       "       no of rooms  year of construction  parking space     market  \\\n",
       "0                3                2022.0          False  pierwotny   \n",
       "1                4                2021.0           True     wtórny   \n",
       "2                3                2023.0           True  pierwotny   \n",
       "3                3                2024.0           True  pierwotny   \n",
       "4                3                2023.0          False     wtórny   \n",
       "...            ...                   ...            ...        ...   \n",
       "18152            4                2024.0           True     wtórny   \n",
       "18153            2                2015.0          False     wtórny   \n",
       "18154            1                1913.0          False     wtórny   \n",
       "18155            2                   NaN          False     wtórny   \n",
       "18156            2                   NaN           True     wtórny   \n",
       "\n",
       "      form of ownership  \n",
       "0        pełna własność  \n",
       "1        pełna własność  \n",
       "2        pełna własność  \n",
       "3        pełna własność  \n",
       "4        pełna własność  \n",
       "...                 ...  \n",
       "18152    pełna własność  \n",
       "18153    pełna własność  \n",
       "18154               NaN  \n",
       "18155               NaN  \n",
       "18156               NaN  \n",
       "\n",
       "[18157 rows x 13 columns]"
      ],
      "text/html": [
       "<div>\n",
       "<style scoped>\n",
       "    .dataframe tbody tr th:only-of-type {\n",
       "        vertical-align: middle;\n",
       "    }\n",
       "\n",
       "    .dataframe tbody tr th {\n",
       "        vertical-align: top;\n",
       "    }\n",
       "\n",
       "    .dataframe thead th {\n",
       "        text-align: right;\n",
       "    }\n",
       "</style>\n",
       "<table border=\"1\" class=\"dataframe\">\n",
       "  <thead>\n",
       "    <tr style=\"text-align: right;\">\n",
       "      <th></th>\n",
       "      <th>url</th>\n",
       "      <th>name/title</th>\n",
       "      <th>address</th>\n",
       "      <th>price</th>\n",
       "      <th>area</th>\n",
       "      <th>price-per-area</th>\n",
       "      <th>floor/store</th>\n",
       "      <th>no of floors/stores in the building</th>\n",
       "      <th>no of rooms</th>\n",
       "      <th>year of construction</th>\n",
       "      <th>parking space</th>\n",
       "      <th>market</th>\n",
       "      <th>form of ownership</th>\n",
       "    </tr>\n",
       "  </thead>\n",
       "  <tbody>\n",
       "    <tr>\n",
       "      <th>0</th>\n",
       "      <td>https://www.otodom.pl/pl/oferta/gotowe-2-pokoj...</td>\n",
       "      <td>Gotowe| 2 pokoje| blisko centrum| Bonarka</td>\n",
       "      <td>Wola Duchacka, Podgórze Duchackie, Kraków, mał...</td>\n",
       "      <td>719000.0</td>\n",
       "      <td>55.98</td>\n",
       "      <td>12844.00</td>\n",
       "      <td>0</td>\n",
       "      <td>8</td>\n",
       "      <td>3</td>\n",
       "      <td>2022.0</td>\n",
       "      <td>False</td>\n",
       "      <td>pierwotny</td>\n",
       "      <td>pełna własność</td>\n",
       "    </tr>\n",
       "    <tr>\n",
       "      <th>1</th>\n",
       "      <td>https://www.otodom.pl/pl/oferta/4-pok-mieszkan...</td>\n",
       "      <td>4-pok.mieszkanie z Sauną - Wysoki Standard ! 2...</td>\n",
       "      <td>Biskupa Albina Małysiaka, Kobierzyn, Dębniki, ...</td>\n",
       "      <td>1350000.0</td>\n",
       "      <td>87.00</td>\n",
       "      <td>15517.00</td>\n",
       "      <td>2</td>\n",
       "      <td>4</td>\n",
       "      <td>4</td>\n",
       "      <td>2021.0</td>\n",
       "      <td>True</td>\n",
       "      <td>wtórny</td>\n",
       "      <td>pełna własność</td>\n",
       "    </tr>\n",
       "    <tr>\n",
       "      <th>2</th>\n",
       "      <td>https://www.otodom.pl/pl/oferta/3-pokoje-w-rza...</td>\n",
       "      <td>3 pokoje w rządowym programie kredyt 2%</td>\n",
       "      <td>Bieżanów, Bieżanów-Prokocim, Kraków, małopolskie</td>\n",
       "      <td>599000.0</td>\n",
       "      <td>47.10</td>\n",
       "      <td>12718.00</td>\n",
       "      <td>1</td>\n",
       "      <td>4</td>\n",
       "      <td>3</td>\n",
       "      <td>2023.0</td>\n",
       "      <td>True</td>\n",
       "      <td>pierwotny</td>\n",
       "      <td>pełna własność</td>\n",
       "    </tr>\n",
       "    <tr>\n",
       "      <th>3</th>\n",
       "      <td>https://www.otodom.pl/pl/oferta/mieszkanie-ide...</td>\n",
       "      <td>Mieszkanie idealne na start, 3 - pokoje!</td>\n",
       "      <td>ul. Erazma Jerzmanowskiego, Prokocim, Bieżanów...</td>\n",
       "      <td>833500.0</td>\n",
       "      <td>66.69</td>\n",
       "      <td>12498.00</td>\n",
       "      <td>3</td>\n",
       "      <td>8</td>\n",
       "      <td>3</td>\n",
       "      <td>2024.0</td>\n",
       "      <td>True</td>\n",
       "      <td>pierwotny</td>\n",
       "      <td>pełna własność</td>\n",
       "    </tr>\n",
       "    <tr>\n",
       "      <th>4</th>\n",
       "      <td>https://www.otodom.pl/pl/oferta/ul-lasowka-3-p...</td>\n",
       "      <td>ul. Lasówka, 3 pokoje, 65m2 + taras 20m2!</td>\n",
       "      <td>ul. Lasówka, Płaszów, Podgórze, Kraków, małopo...</td>\n",
       "      <td>949000.0</td>\n",
       "      <td>65.81</td>\n",
       "      <td>14420.00</td>\n",
       "      <td>7</td>\n",
       "      <td>7</td>\n",
       "      <td>3</td>\n",
       "      <td>2023.0</td>\n",
       "      <td>False</td>\n",
       "      <td>wtórny</td>\n",
       "      <td>pełna własność</td>\n",
       "    </tr>\n",
       "    <tr>\n",
       "      <th>...</th>\n",
       "      <td>...</td>\n",
       "      <td>...</td>\n",
       "      <td>...</td>\n",
       "      <td>...</td>\n",
       "      <td>...</td>\n",
       "      <td>...</td>\n",
       "      <td>...</td>\n",
       "      <td>...</td>\n",
       "      <td>...</td>\n",
       "      <td>...</td>\n",
       "      <td>...</td>\n",
       "      <td>...</td>\n",
       "      <td>...</td>\n",
       "    </tr>\n",
       "    <tr>\n",
       "      <th>18152</th>\n",
       "      <td>https://krakow.nieruchomosci-online.pl/mieszka...</td>\n",
       "      <td>Mieszkanie Kraków</td>\n",
       "      <td>Podgórze, Kraków, małopolskie</td>\n",
       "      <td>1149640.0</td>\n",
       "      <td>56.08</td>\n",
       "      <td>20500.00</td>\n",
       "      <td>1</td>\n",
       "      <td>4</td>\n",
       "      <td>4</td>\n",
       "      <td>2024.0</td>\n",
       "      <td>True</td>\n",
       "      <td>wtórny</td>\n",
       "      <td>pełna własność</td>\n",
       "    </tr>\n",
       "    <tr>\n",
       "      <th>18153</th>\n",
       "      <td>https://krakow.nieruchomosci-online.pl/mieszka...</td>\n",
       "      <td>Apartament, ul. Dworska</td>\n",
       "      <td>Dworska, Dębniki, Kraków, małopolskie</td>\n",
       "      <td>860000.0</td>\n",
       "      <td>55.65</td>\n",
       "      <td>15453.73</td>\n",
       "      <td>3</td>\n",
       "      <td>4</td>\n",
       "      <td>2</td>\n",
       "      <td>2015.0</td>\n",
       "      <td>False</td>\n",
       "      <td>wtórny</td>\n",
       "      <td>pełna własność</td>\n",
       "    </tr>\n",
       "    <tr>\n",
       "      <th>18154</th>\n",
       "      <td>https://krakow.nieruchomosci-online.pl/mieszka...</td>\n",
       "      <td>Kawalerka Kraków</td>\n",
       "      <td>Stare Miasto, Kraków, małopolskie</td>\n",
       "      <td>295000.0</td>\n",
       "      <td>15.00</td>\n",
       "      <td>19666.67</td>\n",
       "      <td>0</td>\n",
       "      <td>2</td>\n",
       "      <td>1</td>\n",
       "      <td>1913.0</td>\n",
       "      <td>False</td>\n",
       "      <td>wtórny</td>\n",
       "      <td>NaN</td>\n",
       "    </tr>\n",
       "    <tr>\n",
       "      <th>18155</th>\n",
       "      <td>https://krakow.nieruchomosci-online.pl/mieszka...</td>\n",
       "      <td>Mieszkanie, ul. Chmieleniec</td>\n",
       "      <td>Chmieleniec, Podgórze, Kraków, małopolskie</td>\n",
       "      <td>599000.0</td>\n",
       "      <td>43.00</td>\n",
       "      <td>13930.23</td>\n",
       "      <td>2</td>\n",
       "      <td>4</td>\n",
       "      <td>2</td>\n",
       "      <td>NaN</td>\n",
       "      <td>False</td>\n",
       "      <td>wtórny</td>\n",
       "      <td>NaN</td>\n",
       "    </tr>\n",
       "    <tr>\n",
       "      <th>18156</th>\n",
       "      <td>https://krakow.nieruchomosci-online.pl/mieszka...</td>\n",
       "      <td>Mieszkanie, ul. Władysława Łokietka</td>\n",
       "      <td>Władysława Łokietka, Łobzów, Kraków, małopolskie</td>\n",
       "      <td>889000.0</td>\n",
       "      <td>52.00</td>\n",
       "      <td>17096.00</td>\n",
       "      <td>4</td>\n",
       "      <td>4</td>\n",
       "      <td>2</td>\n",
       "      <td>NaN</td>\n",
       "      <td>True</td>\n",
       "      <td>wtórny</td>\n",
       "      <td>NaN</td>\n",
       "    </tr>\n",
       "  </tbody>\n",
       "</table>\n",
       "<p>18157 rows × 13 columns</p>\n",
       "</div>"
      ]
     },
     "execution_count": 103,
     "metadata": {},
     "output_type": "execute_result"
    }
   ],
   "execution_count": 103
  },
  {
   "metadata": {
    "ExecuteTime": {
     "end_time": "2024-04-29T21:58:41.512944Z",
     "start_time": "2024-04-29T21:58:41.499915Z"
    }
   },
   "cell_type": "code",
   "source": "df_apartments.info()",
   "outputs": [
    {
     "name": "stdout",
     "output_type": "stream",
     "text": [
      "<class 'pandas.core.frame.DataFrame'>\n",
      "RangeIndex: 18157 entries, 0 to 18156\n",
      "Data columns (total 13 columns):\n",
      " #   Column                               Non-Null Count  Dtype  \n",
      "---  ------                               --------------  -----  \n",
      " 0   url                                  18157 non-null  object \n",
      " 1   name/title                           18157 non-null  object \n",
      " 2   address                              18157 non-null  object \n",
      " 3   price                                18157 non-null  float64\n",
      " 4   area                                 18157 non-null  float64\n",
      " 5   price-per-area                       18157 non-null  float64\n",
      " 6   floor/store                          18157 non-null  int32  \n",
      " 7   no of floors/stores in the building  18157 non-null  int32  \n",
      " 8   no of rooms                          18157 non-null  int32  \n",
      " 9   year of construction                 16164 non-null  float64\n",
      " 10  parking space                        18157 non-null  bool   \n",
      " 11  market                               18157 non-null  object \n",
      " 12  form of ownership                    15636 non-null  object \n",
      "dtypes: bool(1), float64(4), int32(3), object(5)\n",
      "memory usage: 1.5+ MB\n"
     ]
    }
   ],
   "execution_count": 104
  },
  {
   "metadata": {},
   "cell_type": "markdown",
   "source": "## Duplikaty"
  },
  {
   "metadata": {
    "ExecuteTime": {
     "end_time": "2024-04-29T21:58:48.921311Z",
     "start_time": "2024-04-29T21:58:48.912994Z"
    }
   },
   "cell_type": "code",
   "source": [
    "def check_similarity(group):\n",
    "    if len(group) > 1:\n",
    "        price_mean = group['price'].mean()\n",
    "        area_mean = group['area'].mean()\n",
    "        price_range = price_mean * 0.01\n",
    "        area_range = area_mean * 0.01\n",
    "        similar_price = group['price'].between(price_mean - price_range, price_mean + price_range)\n",
    "        similar_area = group['area'].between(area_mean - area_range, area_mean + area_range)\n",
    "        return (similar_price & similar_area).rename('is_duplicate')\n",
    "    else:\n",
    "        return pd.Series(False, index=group.index, name='is_duplicate')\n",
    "\n",
    "def fill_from_group(group):\n",
    "    group['non_null_count'] = group.notna().sum(axis=1)\n",
    "    sorted_group = group.sort_values('non_null_count', ascending=False)\n",
    "    sorted_group.drop('non_null_count', axis=1, inplace=True)\n",
    "    most_complete_row = sorted_group.iloc[0]\n",
    "    for _, row in sorted_group.iloc[1:].iterrows():\n",
    "        most_complete_row = most_complete_row.combine_first(row)\n",
    "    return most_complete_row\n",
    "\n",
    "def remove_duplicates(df, group_cols=None):\n",
    "    if group_cols is None:\n",
    "        group_cols = ['address', 'floor/store', 'no of floors/stores in the building', 'no of rooms']\n",
    "    \n",
    "    df['is_duplicate'] = df.groupby(group_cols, group_keys=False).apply(check_similarity)\n",
    "    \n",
    "    duplicates = df[df['is_duplicate']]\n",
    "    non_duplicates = df[~df['is_duplicate']]\n",
    "    \n",
    "    most_complete_duplicates = duplicates.groupby(group_cols).apply(fill_from_group).reset_index(drop=True)\n",
    "    \n",
    "    filtered_df = pd.concat([non_duplicates, most_complete_duplicates], ignore_index=True)\n",
    "    \n",
    "    sorted_filtered_df = filtered_df.sort_values(by=['address', 'price', 'area'])\n",
    "    \n",
    "    return sorted_filtered_df"
   ],
   "outputs": [],
   "execution_count": 105
  },
  {
   "metadata": {
    "ExecuteTime": {
     "end_time": "2024-04-29T21:59:03.495578Z",
     "start_time": "2024-04-29T21:58:55.962272Z"
    }
   },
   "cell_type": "code",
   "source": [
    "df_filtered_sorted_apartments = remove_duplicates(df_apartments)\n",
    "df_filtered_sorted_apartments.drop('is_duplicate', axis=1, inplace=True)\n",
    "df_filtered_sorted_apartments"
   ],
   "outputs": [
    {
     "name": "stderr",
     "output_type": "stream",
     "text": [
      "C:\\Users\\Piotr\\AppData\\Local\\Temp\\ipykernel_11132\\3201072169.py:26: DeprecationWarning: DataFrameGroupBy.apply operated on the grouping columns. This behavior is deprecated, and in a future version of pandas the grouping columns will be excluded from the operation. Either pass `include_groups=False` to exclude the groupings or explicitly select the grouping columns after groupby to silence this warning.\n",
      "  df['is_duplicate'] = df.groupby(group_cols, group_keys=False).apply(check_similarity)\n",
      "C:\\Users\\Piotr\\AppData\\Local\\Temp\\ipykernel_11132\\3201072169.py:31: DeprecationWarning: DataFrameGroupBy.apply operated on the grouping columns. This behavior is deprecated, and in a future version of pandas the grouping columns will be excluded from the operation. Either pass `include_groups=False` to exclude the groupings or explicitly select the grouping columns after groupby to silence this warning.\n",
      "  most_complete_duplicates = duplicates.groupby(group_cols).apply(fill_from_group).reset_index(drop=True)\n"
     ]
    },
    {
     "data": {
      "text/plain": [
       "                                                     url  \\\n",
       "12965  https://krakow.nieruchomosci-online.pl/mieszka...   \n",
       "9223   https://krakow.nieruchomosci-online.pl/mieszka...   \n",
       "12384  https://krakow.nieruchomosci-online.pl/mieszka...   \n",
       "4475   https://www.otodom.pl/pl/oferta/nowe-mieszkani...   \n",
       "10531  https://krakow.nieruchomosci-online.pl/mieszka...   \n",
       "...                                                  ...   \n",
       "11318  https://krakow.nieruchomosci-online.pl/mieszka...   \n",
       "16177  https://krakow.nieruchomosci-online.pl/mieszka...   \n",
       "9922   https://krakow.nieruchomosci-online.pl/mieszka...   \n",
       "10109  https://krakow.nieruchomosci-online.pl/mieszka...   \n",
       "2753   https://www.otodom.pl/pl/oferta/1m-wyposazone-...   \n",
       "\n",
       "                                             name/title  \\\n",
       "12965                     Apartament, ul. 28 Lipca 1943   \n",
       "9223                      Mieszkanie, ul. 28 Lipca 1943   \n",
       "12384                     Apartament, ul. 28 Lipca 1943   \n",
       "4475                 Nowe mieszkania na Górce Narodowej   \n",
       "10531                                 Mieszkanie Kraków   \n",
       "...                                                 ...   \n",
       "11318                           Kawalerka, ul. Żywiecka   \n",
       "16177                      Kawalerka, ul. Żółkiewskiego   \n",
       "9922                      Mieszkanie, ul. Żółkiewskiego   \n",
       "10109                     Mieszkanie, ul. Żółkiewskiego   \n",
       "2753   1M! Wyposażone|Ogródek 25m2|Inwestycja - ROI 10%   \n",
       "\n",
       "                                                 address      price    area  \\\n",
       "12965  28 Lipca 1943, Wola Justowska, Kraków, małopol...  2290000.0  155.16   \n",
       "9223   28 Lipca 1943, Wola Justowska, Kraków, małopol...  2399000.0  139.00   \n",
       "12384  28 Lipca 1943, Wola Justowska, Kraków, małopol...  2666000.0  146.68   \n",
       "4475   29 listopada - okolice, Górka Narodowa, Prądni...   778689.0   61.30   \n",
       "10531                         64108, Kraków, małopolskie   888000.0   45.68   \n",
       "...                                                  ...        ...     ...   \n",
       "11318          Żywiecka, Łagiewniki, Kraków, małopolskie   220000.0   18.50   \n",
       "16177     Żółkiewskiego, Grzegórzki, Kraków, małopolskie   532000.0   24.40   \n",
       "9922      Żółkiewskiego, Grzegórzki, Kraków, małopolskie  1698500.0   79.00   \n",
       "10109     Żółkiewskiego, Grzegórzki, Kraków, małopolskie  2722500.0  121.00   \n",
       "2753   żabniec, Żabiniec, Prądnik Biały, Kraków, mało...   639000.0   26.00   \n",
       "\n",
       "       price-per-area  floor/store  no of floors/stores in the building  \\\n",
       "12965        14758.96            0                                    2   \n",
       "9223         17258.99            1                                    2   \n",
       "12384        18175.62            2                                    2   \n",
       "4475         12703.00            1                                    5   \n",
       "10531        19439.58            4                                    4   \n",
       "...               ...          ...                                  ...   \n",
       "11318        11891.89            1                                    1   \n",
       "16177        21803.28            1                                    2   \n",
       "9922         21500.00            2                                    4   \n",
       "10109        22500.00            2                                    4   \n",
       "2753         24577.00            0                                    4   \n",
       "\n",
       "       no of rooms  year of construction  parking space     market  \\\n",
       "12965            5                2009.0           True     wtórny   \n",
       "9223             3                2022.0          False     wtórny   \n",
       "12384            3                2002.0           True     wtórny   \n",
       "4475             2                2023.0           True  pierwotny   \n",
       "10531            2                2023.0           True     wtórny   \n",
       "...            ...                   ...            ...        ...   \n",
       "11318            1                2023.0          False     wtórny   \n",
       "16177            1                1900.0           True     wtórny   \n",
       "9922             4                2024.0          False  pierwotny   \n",
       "10109            4                2024.0          False  pierwotny   \n",
       "2753             1                2017.0          False     wtórny   \n",
       "\n",
       "      form of ownership  is_duplicate  \n",
       "12965    pełna własność         False  \n",
       "9223     pełna własność         False  \n",
       "12384    pełna własność         False  \n",
       "4475     pełna własność         False  \n",
       "10531    pełna własność         False  \n",
       "...                 ...           ...  \n",
       "11318    pełna własność         False  \n",
       "16177               NaN          True  \n",
       "9922     pełna własność         False  \n",
       "10109    pełna własność         False  \n",
       "2753     pełna własność         False  \n",
       "\n",
       "[16178 rows x 14 columns]"
      ],
      "text/html": [
       "<div>\n",
       "<style scoped>\n",
       "    .dataframe tbody tr th:only-of-type {\n",
       "        vertical-align: middle;\n",
       "    }\n",
       "\n",
       "    .dataframe tbody tr th {\n",
       "        vertical-align: top;\n",
       "    }\n",
       "\n",
       "    .dataframe thead th {\n",
       "        text-align: right;\n",
       "    }\n",
       "</style>\n",
       "<table border=\"1\" class=\"dataframe\">\n",
       "  <thead>\n",
       "    <tr style=\"text-align: right;\">\n",
       "      <th></th>\n",
       "      <th>url</th>\n",
       "      <th>name/title</th>\n",
       "      <th>address</th>\n",
       "      <th>price</th>\n",
       "      <th>area</th>\n",
       "      <th>price-per-area</th>\n",
       "      <th>floor/store</th>\n",
       "      <th>no of floors/stores in the building</th>\n",
       "      <th>no of rooms</th>\n",
       "      <th>year of construction</th>\n",
       "      <th>parking space</th>\n",
       "      <th>market</th>\n",
       "      <th>form of ownership</th>\n",
       "      <th>is_duplicate</th>\n",
       "    </tr>\n",
       "  </thead>\n",
       "  <tbody>\n",
       "    <tr>\n",
       "      <th>12965</th>\n",
       "      <td>https://krakow.nieruchomosci-online.pl/mieszka...</td>\n",
       "      <td>Apartament, ul. 28 Lipca 1943</td>\n",
       "      <td>28 Lipca 1943, Wola Justowska, Kraków, małopol...</td>\n",
       "      <td>2290000.0</td>\n",
       "      <td>155.16</td>\n",
       "      <td>14758.96</td>\n",
       "      <td>0</td>\n",
       "      <td>2</td>\n",
       "      <td>5</td>\n",
       "      <td>2009.0</td>\n",
       "      <td>True</td>\n",
       "      <td>wtórny</td>\n",
       "      <td>pełna własność</td>\n",
       "      <td>False</td>\n",
       "    </tr>\n",
       "    <tr>\n",
       "      <th>9223</th>\n",
       "      <td>https://krakow.nieruchomosci-online.pl/mieszka...</td>\n",
       "      <td>Mieszkanie, ul. 28 Lipca 1943</td>\n",
       "      <td>28 Lipca 1943, Wola Justowska, Kraków, małopol...</td>\n",
       "      <td>2399000.0</td>\n",
       "      <td>139.00</td>\n",
       "      <td>17258.99</td>\n",
       "      <td>1</td>\n",
       "      <td>2</td>\n",
       "      <td>3</td>\n",
       "      <td>2022.0</td>\n",
       "      <td>False</td>\n",
       "      <td>wtórny</td>\n",
       "      <td>pełna własność</td>\n",
       "      <td>False</td>\n",
       "    </tr>\n",
       "    <tr>\n",
       "      <th>12384</th>\n",
       "      <td>https://krakow.nieruchomosci-online.pl/mieszka...</td>\n",
       "      <td>Apartament, ul. 28 Lipca 1943</td>\n",
       "      <td>28 Lipca 1943, Wola Justowska, Kraków, małopol...</td>\n",
       "      <td>2666000.0</td>\n",
       "      <td>146.68</td>\n",
       "      <td>18175.62</td>\n",
       "      <td>2</td>\n",
       "      <td>2</td>\n",
       "      <td>3</td>\n",
       "      <td>2002.0</td>\n",
       "      <td>True</td>\n",
       "      <td>wtórny</td>\n",
       "      <td>pełna własność</td>\n",
       "      <td>False</td>\n",
       "    </tr>\n",
       "    <tr>\n",
       "      <th>4475</th>\n",
       "      <td>https://www.otodom.pl/pl/oferta/nowe-mieszkani...</td>\n",
       "      <td>Nowe mieszkania na Górce Narodowej</td>\n",
       "      <td>29 listopada - okolice, Górka Narodowa, Prądni...</td>\n",
       "      <td>778689.0</td>\n",
       "      <td>61.30</td>\n",
       "      <td>12703.00</td>\n",
       "      <td>1</td>\n",
       "      <td>5</td>\n",
       "      <td>2</td>\n",
       "      <td>2023.0</td>\n",
       "      <td>True</td>\n",
       "      <td>pierwotny</td>\n",
       "      <td>pełna własność</td>\n",
       "      <td>False</td>\n",
       "    </tr>\n",
       "    <tr>\n",
       "      <th>10531</th>\n",
       "      <td>https://krakow.nieruchomosci-online.pl/mieszka...</td>\n",
       "      <td>Mieszkanie Kraków</td>\n",
       "      <td>64108, Kraków, małopolskie</td>\n",
       "      <td>888000.0</td>\n",
       "      <td>45.68</td>\n",
       "      <td>19439.58</td>\n",
       "      <td>4</td>\n",
       "      <td>4</td>\n",
       "      <td>2</td>\n",
       "      <td>2023.0</td>\n",
       "      <td>True</td>\n",
       "      <td>wtórny</td>\n",
       "      <td>pełna własność</td>\n",
       "      <td>False</td>\n",
       "    </tr>\n",
       "    <tr>\n",
       "      <th>...</th>\n",
       "      <td>...</td>\n",
       "      <td>...</td>\n",
       "      <td>...</td>\n",
       "      <td>...</td>\n",
       "      <td>...</td>\n",
       "      <td>...</td>\n",
       "      <td>...</td>\n",
       "      <td>...</td>\n",
       "      <td>...</td>\n",
       "      <td>...</td>\n",
       "      <td>...</td>\n",
       "      <td>...</td>\n",
       "      <td>...</td>\n",
       "      <td>...</td>\n",
       "    </tr>\n",
       "    <tr>\n",
       "      <th>11318</th>\n",
       "      <td>https://krakow.nieruchomosci-online.pl/mieszka...</td>\n",
       "      <td>Kawalerka, ul. Żywiecka</td>\n",
       "      <td>Żywiecka, Łagiewniki, Kraków, małopolskie</td>\n",
       "      <td>220000.0</td>\n",
       "      <td>18.50</td>\n",
       "      <td>11891.89</td>\n",
       "      <td>1</td>\n",
       "      <td>1</td>\n",
       "      <td>1</td>\n",
       "      <td>2023.0</td>\n",
       "      <td>False</td>\n",
       "      <td>wtórny</td>\n",
       "      <td>pełna własność</td>\n",
       "      <td>False</td>\n",
       "    </tr>\n",
       "    <tr>\n",
       "      <th>16177</th>\n",
       "      <td>https://krakow.nieruchomosci-online.pl/mieszka...</td>\n",
       "      <td>Kawalerka, ul. Żółkiewskiego</td>\n",
       "      <td>Żółkiewskiego, Grzegórzki, Kraków, małopolskie</td>\n",
       "      <td>532000.0</td>\n",
       "      <td>24.40</td>\n",
       "      <td>21803.28</td>\n",
       "      <td>1</td>\n",
       "      <td>2</td>\n",
       "      <td>1</td>\n",
       "      <td>1900.0</td>\n",
       "      <td>True</td>\n",
       "      <td>wtórny</td>\n",
       "      <td>NaN</td>\n",
       "      <td>True</td>\n",
       "    </tr>\n",
       "    <tr>\n",
       "      <th>9922</th>\n",
       "      <td>https://krakow.nieruchomosci-online.pl/mieszka...</td>\n",
       "      <td>Mieszkanie, ul. Żółkiewskiego</td>\n",
       "      <td>Żółkiewskiego, Grzegórzki, Kraków, małopolskie</td>\n",
       "      <td>1698500.0</td>\n",
       "      <td>79.00</td>\n",
       "      <td>21500.00</td>\n",
       "      <td>2</td>\n",
       "      <td>4</td>\n",
       "      <td>4</td>\n",
       "      <td>2024.0</td>\n",
       "      <td>False</td>\n",
       "      <td>pierwotny</td>\n",
       "      <td>pełna własność</td>\n",
       "      <td>False</td>\n",
       "    </tr>\n",
       "    <tr>\n",
       "      <th>10109</th>\n",
       "      <td>https://krakow.nieruchomosci-online.pl/mieszka...</td>\n",
       "      <td>Mieszkanie, ul. Żółkiewskiego</td>\n",
       "      <td>Żółkiewskiego, Grzegórzki, Kraków, małopolskie</td>\n",
       "      <td>2722500.0</td>\n",
       "      <td>121.00</td>\n",
       "      <td>22500.00</td>\n",
       "      <td>2</td>\n",
       "      <td>4</td>\n",
       "      <td>4</td>\n",
       "      <td>2024.0</td>\n",
       "      <td>False</td>\n",
       "      <td>pierwotny</td>\n",
       "      <td>pełna własność</td>\n",
       "      <td>False</td>\n",
       "    </tr>\n",
       "    <tr>\n",
       "      <th>2753</th>\n",
       "      <td>https://www.otodom.pl/pl/oferta/1m-wyposazone-...</td>\n",
       "      <td>1M! Wyposażone|Ogródek 25m2|Inwestycja - ROI 10%</td>\n",
       "      <td>żabniec, Żabiniec, Prądnik Biały, Kraków, mało...</td>\n",
       "      <td>639000.0</td>\n",
       "      <td>26.00</td>\n",
       "      <td>24577.00</td>\n",
       "      <td>0</td>\n",
       "      <td>4</td>\n",
       "      <td>1</td>\n",
       "      <td>2017.0</td>\n",
       "      <td>False</td>\n",
       "      <td>wtórny</td>\n",
       "      <td>pełna własność</td>\n",
       "      <td>False</td>\n",
       "    </tr>\n",
       "  </tbody>\n",
       "</table>\n",
       "<p>16178 rows × 14 columns</p>\n",
       "</div>"
      ]
     },
     "execution_count": 106,
     "metadata": {},
     "output_type": "execute_result"
    }
   ],
   "execution_count": 106
  },
  {
   "metadata": {},
   "cell_type": "markdown",
   "source": "## Adresy"
  },
  {
   "metadata": {
    "ExecuteTime": {
     "end_time": "2024-04-29T21:59:13.935810Z",
     "start_time": "2024-04-29T21:59:13.929475Z"
    }
   },
   "cell_type": "code",
   "source": [
    "import re\n",
    "\n",
    "# Regex pattern adjusted to exclude capturing prefixes directly\n",
    "pattern = r'(ul\\.|Aleja|aleja|pl\\.|al\\.)\\s*([^,\\d]+[\\d]*\\b)'\n",
    "\n",
    "def update_address(row):\n",
    "    if pd.isna(row['name/title']):\n",
    "        return row['address']\n",
    "\n",
    "    match = re.search(pattern, row['name/title'])\n",
    "    if match:\n",
    "        street_name = match.group(2).strip()\n",
    "        if pd.isna(row['address']):\n",
    "            updated_address = street_name\n",
    "        else:\n",
    "            if street_name.lower() not in row['address'].lower():\n",
    "                updated_address = f\"{street_name}, {row['address']}\"\n",
    "            else:\n",
    "                updated_address = row['address']\n",
    "    else:\n",
    "        updated_address = row['address']\n",
    "\n",
    "    # if pd.notna(updated_address) and 'kraków' not in updated_address.lower():\n",
    "    #     updated_address += \", Kraków, małopolskie\"\n",
    "    \n",
    "    return updated_address"
   ],
   "outputs": [],
   "execution_count": 107
  },
  {
   "metadata": {
    "ExecuteTime": {
     "end_time": "2024-04-29T21:59:25.078445Z",
     "start_time": "2024-04-29T21:59:24.679445Z"
    }
   },
   "cell_type": "code",
   "source": [
    "df_filtered_sorted_apartments['address'] = df_filtered_sorted_apartments.apply(update_address, axis=1)\n",
    "df_filtered_sorted_apartments['address'] = df_filtered_sorted_apartments['address'].str.replace(r'^ul\\.\\s+', '', regex=True)\n",
    "df_filtered_sorted_apartments['address'] = df_filtered_sorted_apartments['address'].str.replace(r',\\s*ul\\.\\s[^,\\d]+,\\s', ', ', regex=True)\n",
    "df_filtered_sorted_apartments"
   ],
   "outputs": [
    {
     "data": {
      "text/plain": [
       "                                                     url  \\\n",
       "12965  https://krakow.nieruchomosci-online.pl/mieszka...   \n",
       "9223   https://krakow.nieruchomosci-online.pl/mieszka...   \n",
       "12384  https://krakow.nieruchomosci-online.pl/mieszka...   \n",
       "4475   https://www.otodom.pl/pl/oferta/nowe-mieszkani...   \n",
       "10531  https://krakow.nieruchomosci-online.pl/mieszka...   \n",
       "...                                                  ...   \n",
       "11318  https://krakow.nieruchomosci-online.pl/mieszka...   \n",
       "16177  https://krakow.nieruchomosci-online.pl/mieszka...   \n",
       "9922   https://krakow.nieruchomosci-online.pl/mieszka...   \n",
       "10109  https://krakow.nieruchomosci-online.pl/mieszka...   \n",
       "2753   https://www.otodom.pl/pl/oferta/1m-wyposazone-...   \n",
       "\n",
       "                                             name/title  \\\n",
       "12965                     Apartament, ul. 28 Lipca 1943   \n",
       "9223                      Mieszkanie, ul. 28 Lipca 1943   \n",
       "12384                     Apartament, ul. 28 Lipca 1943   \n",
       "4475                 Nowe mieszkania na Górce Narodowej   \n",
       "10531                                 Mieszkanie Kraków   \n",
       "...                                                 ...   \n",
       "11318                           Kawalerka, ul. Żywiecka   \n",
       "16177                      Kawalerka, ul. Żółkiewskiego   \n",
       "9922                      Mieszkanie, ul. Żółkiewskiego   \n",
       "10109                     Mieszkanie, ul. Żółkiewskiego   \n",
       "2753   1M! Wyposażone|Ogródek 25m2|Inwestycja - ROI 10%   \n",
       "\n",
       "                                                 address      price    area  \\\n",
       "12965  28 Lipca 1943, Wola Justowska, Kraków, małopol...  2290000.0  155.16   \n",
       "9223   28 Lipca 1943, Wola Justowska, Kraków, małopol...  2399000.0  139.00   \n",
       "12384  28 Lipca 1943, Wola Justowska, Kraków, małopol...  2666000.0  146.68   \n",
       "4475   29 listopada - okolice, Górka Narodowa, Prądni...   778689.0   61.30   \n",
       "10531                         64108, Kraków, małopolskie   888000.0   45.68   \n",
       "...                                                  ...        ...     ...   \n",
       "11318          Żywiecka, Łagiewniki, Kraków, małopolskie   220000.0   18.50   \n",
       "16177     Żółkiewskiego, Grzegórzki, Kraków, małopolskie   532000.0   24.40   \n",
       "9922      Żółkiewskiego, Grzegórzki, Kraków, małopolskie  1698500.0   79.00   \n",
       "10109     Żółkiewskiego, Grzegórzki, Kraków, małopolskie  2722500.0  121.00   \n",
       "2753   żabniec, Żabiniec, Prądnik Biały, Kraków, mało...   639000.0   26.00   \n",
       "\n",
       "       price-per-area  floor/store  no of floors/stores in the building  \\\n",
       "12965        14758.96            0                                    2   \n",
       "9223         17258.99            1                                    2   \n",
       "12384        18175.62            2                                    2   \n",
       "4475         12703.00            1                                    5   \n",
       "10531        19439.58            4                                    4   \n",
       "...               ...          ...                                  ...   \n",
       "11318        11891.89            1                                    1   \n",
       "16177        21803.28            1                                    2   \n",
       "9922         21500.00            2                                    4   \n",
       "10109        22500.00            2                                    4   \n",
       "2753         24577.00            0                                    4   \n",
       "\n",
       "       no of rooms  year of construction  parking space     market  \\\n",
       "12965            5                2009.0           True     wtórny   \n",
       "9223             3                2022.0          False     wtórny   \n",
       "12384            3                2002.0           True     wtórny   \n",
       "4475             2                2023.0           True  pierwotny   \n",
       "10531            2                2023.0           True     wtórny   \n",
       "...            ...                   ...            ...        ...   \n",
       "11318            1                2023.0          False     wtórny   \n",
       "16177            1                1900.0           True     wtórny   \n",
       "9922             4                2024.0          False  pierwotny   \n",
       "10109            4                2024.0          False  pierwotny   \n",
       "2753             1                2017.0          False     wtórny   \n",
       "\n",
       "      form of ownership  is_duplicate  \n",
       "12965    pełna własność         False  \n",
       "9223     pełna własność         False  \n",
       "12384    pełna własność         False  \n",
       "4475     pełna własność         False  \n",
       "10531    pełna własność         False  \n",
       "...                 ...           ...  \n",
       "11318    pełna własność         False  \n",
       "16177               NaN          True  \n",
       "9922     pełna własność         False  \n",
       "10109    pełna własność         False  \n",
       "2753     pełna własność         False  \n",
       "\n",
       "[16178 rows x 14 columns]"
      ],
      "text/html": [
       "<div>\n",
       "<style scoped>\n",
       "    .dataframe tbody tr th:only-of-type {\n",
       "        vertical-align: middle;\n",
       "    }\n",
       "\n",
       "    .dataframe tbody tr th {\n",
       "        vertical-align: top;\n",
       "    }\n",
       "\n",
       "    .dataframe thead th {\n",
       "        text-align: right;\n",
       "    }\n",
       "</style>\n",
       "<table border=\"1\" class=\"dataframe\">\n",
       "  <thead>\n",
       "    <tr style=\"text-align: right;\">\n",
       "      <th></th>\n",
       "      <th>url</th>\n",
       "      <th>name/title</th>\n",
       "      <th>address</th>\n",
       "      <th>price</th>\n",
       "      <th>area</th>\n",
       "      <th>price-per-area</th>\n",
       "      <th>floor/store</th>\n",
       "      <th>no of floors/stores in the building</th>\n",
       "      <th>no of rooms</th>\n",
       "      <th>year of construction</th>\n",
       "      <th>parking space</th>\n",
       "      <th>market</th>\n",
       "      <th>form of ownership</th>\n",
       "      <th>is_duplicate</th>\n",
       "    </tr>\n",
       "  </thead>\n",
       "  <tbody>\n",
       "    <tr>\n",
       "      <th>12965</th>\n",
       "      <td>https://krakow.nieruchomosci-online.pl/mieszka...</td>\n",
       "      <td>Apartament, ul. 28 Lipca 1943</td>\n",
       "      <td>28 Lipca 1943, Wola Justowska, Kraków, małopol...</td>\n",
       "      <td>2290000.0</td>\n",
       "      <td>155.16</td>\n",
       "      <td>14758.96</td>\n",
       "      <td>0</td>\n",
       "      <td>2</td>\n",
       "      <td>5</td>\n",
       "      <td>2009.0</td>\n",
       "      <td>True</td>\n",
       "      <td>wtórny</td>\n",
       "      <td>pełna własność</td>\n",
       "      <td>False</td>\n",
       "    </tr>\n",
       "    <tr>\n",
       "      <th>9223</th>\n",
       "      <td>https://krakow.nieruchomosci-online.pl/mieszka...</td>\n",
       "      <td>Mieszkanie, ul. 28 Lipca 1943</td>\n",
       "      <td>28 Lipca 1943, Wola Justowska, Kraków, małopol...</td>\n",
       "      <td>2399000.0</td>\n",
       "      <td>139.00</td>\n",
       "      <td>17258.99</td>\n",
       "      <td>1</td>\n",
       "      <td>2</td>\n",
       "      <td>3</td>\n",
       "      <td>2022.0</td>\n",
       "      <td>False</td>\n",
       "      <td>wtórny</td>\n",
       "      <td>pełna własność</td>\n",
       "      <td>False</td>\n",
       "    </tr>\n",
       "    <tr>\n",
       "      <th>12384</th>\n",
       "      <td>https://krakow.nieruchomosci-online.pl/mieszka...</td>\n",
       "      <td>Apartament, ul. 28 Lipca 1943</td>\n",
       "      <td>28 Lipca 1943, Wola Justowska, Kraków, małopol...</td>\n",
       "      <td>2666000.0</td>\n",
       "      <td>146.68</td>\n",
       "      <td>18175.62</td>\n",
       "      <td>2</td>\n",
       "      <td>2</td>\n",
       "      <td>3</td>\n",
       "      <td>2002.0</td>\n",
       "      <td>True</td>\n",
       "      <td>wtórny</td>\n",
       "      <td>pełna własność</td>\n",
       "      <td>False</td>\n",
       "    </tr>\n",
       "    <tr>\n",
       "      <th>4475</th>\n",
       "      <td>https://www.otodom.pl/pl/oferta/nowe-mieszkani...</td>\n",
       "      <td>Nowe mieszkania na Górce Narodowej</td>\n",
       "      <td>29 listopada - okolice, Górka Narodowa, Prądni...</td>\n",
       "      <td>778689.0</td>\n",
       "      <td>61.30</td>\n",
       "      <td>12703.00</td>\n",
       "      <td>1</td>\n",
       "      <td>5</td>\n",
       "      <td>2</td>\n",
       "      <td>2023.0</td>\n",
       "      <td>True</td>\n",
       "      <td>pierwotny</td>\n",
       "      <td>pełna własność</td>\n",
       "      <td>False</td>\n",
       "    </tr>\n",
       "    <tr>\n",
       "      <th>10531</th>\n",
       "      <td>https://krakow.nieruchomosci-online.pl/mieszka...</td>\n",
       "      <td>Mieszkanie Kraków</td>\n",
       "      <td>64108, Kraków, małopolskie</td>\n",
       "      <td>888000.0</td>\n",
       "      <td>45.68</td>\n",
       "      <td>19439.58</td>\n",
       "      <td>4</td>\n",
       "      <td>4</td>\n",
       "      <td>2</td>\n",
       "      <td>2023.0</td>\n",
       "      <td>True</td>\n",
       "      <td>wtórny</td>\n",
       "      <td>pełna własność</td>\n",
       "      <td>False</td>\n",
       "    </tr>\n",
       "    <tr>\n",
       "      <th>...</th>\n",
       "      <td>...</td>\n",
       "      <td>...</td>\n",
       "      <td>...</td>\n",
       "      <td>...</td>\n",
       "      <td>...</td>\n",
       "      <td>...</td>\n",
       "      <td>...</td>\n",
       "      <td>...</td>\n",
       "      <td>...</td>\n",
       "      <td>...</td>\n",
       "      <td>...</td>\n",
       "      <td>...</td>\n",
       "      <td>...</td>\n",
       "      <td>...</td>\n",
       "    </tr>\n",
       "    <tr>\n",
       "      <th>11318</th>\n",
       "      <td>https://krakow.nieruchomosci-online.pl/mieszka...</td>\n",
       "      <td>Kawalerka, ul. Żywiecka</td>\n",
       "      <td>Żywiecka, Łagiewniki, Kraków, małopolskie</td>\n",
       "      <td>220000.0</td>\n",
       "      <td>18.50</td>\n",
       "      <td>11891.89</td>\n",
       "      <td>1</td>\n",
       "      <td>1</td>\n",
       "      <td>1</td>\n",
       "      <td>2023.0</td>\n",
       "      <td>False</td>\n",
       "      <td>wtórny</td>\n",
       "      <td>pełna własność</td>\n",
       "      <td>False</td>\n",
       "    </tr>\n",
       "    <tr>\n",
       "      <th>16177</th>\n",
       "      <td>https://krakow.nieruchomosci-online.pl/mieszka...</td>\n",
       "      <td>Kawalerka, ul. Żółkiewskiego</td>\n",
       "      <td>Żółkiewskiego, Grzegórzki, Kraków, małopolskie</td>\n",
       "      <td>532000.0</td>\n",
       "      <td>24.40</td>\n",
       "      <td>21803.28</td>\n",
       "      <td>1</td>\n",
       "      <td>2</td>\n",
       "      <td>1</td>\n",
       "      <td>1900.0</td>\n",
       "      <td>True</td>\n",
       "      <td>wtórny</td>\n",
       "      <td>NaN</td>\n",
       "      <td>True</td>\n",
       "    </tr>\n",
       "    <tr>\n",
       "      <th>9922</th>\n",
       "      <td>https://krakow.nieruchomosci-online.pl/mieszka...</td>\n",
       "      <td>Mieszkanie, ul. Żółkiewskiego</td>\n",
       "      <td>Żółkiewskiego, Grzegórzki, Kraków, małopolskie</td>\n",
       "      <td>1698500.0</td>\n",
       "      <td>79.00</td>\n",
       "      <td>21500.00</td>\n",
       "      <td>2</td>\n",
       "      <td>4</td>\n",
       "      <td>4</td>\n",
       "      <td>2024.0</td>\n",
       "      <td>False</td>\n",
       "      <td>pierwotny</td>\n",
       "      <td>pełna własność</td>\n",
       "      <td>False</td>\n",
       "    </tr>\n",
       "    <tr>\n",
       "      <th>10109</th>\n",
       "      <td>https://krakow.nieruchomosci-online.pl/mieszka...</td>\n",
       "      <td>Mieszkanie, ul. Żółkiewskiego</td>\n",
       "      <td>Żółkiewskiego, Grzegórzki, Kraków, małopolskie</td>\n",
       "      <td>2722500.0</td>\n",
       "      <td>121.00</td>\n",
       "      <td>22500.00</td>\n",
       "      <td>2</td>\n",
       "      <td>4</td>\n",
       "      <td>4</td>\n",
       "      <td>2024.0</td>\n",
       "      <td>False</td>\n",
       "      <td>pierwotny</td>\n",
       "      <td>pełna własność</td>\n",
       "      <td>False</td>\n",
       "    </tr>\n",
       "    <tr>\n",
       "      <th>2753</th>\n",
       "      <td>https://www.otodom.pl/pl/oferta/1m-wyposazone-...</td>\n",
       "      <td>1M! Wyposażone|Ogródek 25m2|Inwestycja - ROI 10%</td>\n",
       "      <td>żabniec, Żabiniec, Prądnik Biały, Kraków, mało...</td>\n",
       "      <td>639000.0</td>\n",
       "      <td>26.00</td>\n",
       "      <td>24577.00</td>\n",
       "      <td>0</td>\n",
       "      <td>4</td>\n",
       "      <td>1</td>\n",
       "      <td>2017.0</td>\n",
       "      <td>False</td>\n",
       "      <td>wtórny</td>\n",
       "      <td>pełna własność</td>\n",
       "      <td>False</td>\n",
       "    </tr>\n",
       "  </tbody>\n",
       "</table>\n",
       "<p>16178 rows × 14 columns</p>\n",
       "</div>"
      ]
     },
     "execution_count": 108,
     "metadata": {},
     "output_type": "execute_result"
    }
   ],
   "execution_count": 108
  },
  {
   "metadata": {},
   "cell_type": "markdown",
   "source": "## Geolokacja"
  },
  {
   "metadata": {
    "ExecuteTime": {
     "end_time": "2024-04-29T21:59:43.445866Z",
     "start_time": "2024-04-29T21:59:43.267874Z"
    }
   },
   "cell_type": "code",
   "source": [
    "from geopy.geocoders import Nominatim\n",
    "import time\n",
    "\n",
    "geolocator = Nominatim(user_agent=\"AGH_Student_Data_Exploration_Project\")\n",
    "\n",
    "\n",
    "def geocode(address):\n",
    "    timeout = 10\n",
    "    attempts = 0\n",
    "    while attempts < 3:\n",
    "        try:\n",
    "            location = geolocator.geocode(address, timeout=timeout)\n",
    "            if location:\n",
    "                print(f\"{location.address}, {location.latitude}, {location.longitude}\")\n",
    "                return pd.Series([location.address, location.latitude, location.longitude])\n",
    "            else:\n",
    "                return pd.Series([None, None, None])\n",
    "        except Exception as e:\n",
    "            print(f\"Retry {attempts + 1}: Error during geocoding for address '{address}' - {str(e)}\")\n",
    "            attempts += 1\n",
    "            timeout += 5\n",
    "            time.sleep(2)\n",
    "    return pd.Series([None, None, None])"
   ],
   "outputs": [],
   "execution_count": 109
  },
  {
   "metadata": {
    "ExecuteTime": {
     "end_time": "2024-04-29T21:59:50.148509Z",
     "start_time": "2024-04-29T21:59:50.138412Z"
    }
   },
   "cell_type": "code",
   "source": [
    "unique_addresses = set(df_filtered_sorted_apartments['address'].unique())\n",
    "len(unique_addresses)"
   ],
   "outputs": [
    {
     "data": {
      "text/plain": [
       "3592"
      ]
     },
     "execution_count": 110,
     "metadata": {},
     "output_type": "execute_result"
    }
   ],
   "execution_count": 110
  },
  {
   "metadata": {
    "ExecuteTime": {
     "end_time": "2024-04-29T21:59:53.286899Z",
     "start_time": "2024-04-29T21:59:53.282060Z"
    }
   },
   "cell_type": "code",
   "source": [
    "address_list = list(unique_addresses)\n",
    "\n",
    "location_df = pd.DataFrame({\n",
    "    'address': address_list,\n",
    "    'manipulated address': address_list\n",
    "})"
   ],
   "outputs": [],
   "execution_count": 111
  },
  {
   "metadata": {
    "ExecuteTime": {
     "end_time": "2024-04-29T21:59:58.387242Z",
     "start_time": "2024-04-29T21:59:58.379242Z"
    }
   },
   "cell_type": "code",
   "source": [
    "import os\n",
    "\n",
    "def geocode_and_save(temp_df, csv_path=\"datasets/geocoded_addresses.csv\"):\n",
    "    if 'location' not in temp_df:\n",
    "        temp_df['location'] = pd.NA\n",
    "    if 'latitude' not in temp_df:\n",
    "        temp_df['latitude'] = pd.NA\n",
    "    if 'longitude' not in temp_df:\n",
    "        temp_df['longitude'] = pd.NA\n",
    "\n",
    "    if os.path.exists(csv_path):\n",
    "        existing_df = pd.read_csv(csv_path)\n",
    "        existing_df = existing_df.drop(columns='manipulated address', errors='ignore')\n",
    "\n",
    "        columns_to_drop = ['location', 'latitude', 'longitude']\n",
    "        temp_df = temp_df.drop(columns=columns_to_drop, errors='ignore')\n",
    "\n",
    "        merged_df = pd.merge(temp_df, existing_df, on='address', how='left')\n",
    "\n",
    "        for col in columns_to_drop:\n",
    "            if col + '_existing' in merged_df.columns:\n",
    "                merged_df[col] = merged_df[col + '_existing'].combine_first(merged_df[col])\n",
    "                merged_df.drop(col + '_existing', axis=1, inplace=True)\n",
    "\n",
    "        needs_geocoding = merged_df['location'].isna()\n",
    "        print(f\"Rows needing geocoding: {needs_geocoding.sum()}\")\n",
    "\n",
    "        if needs_geocoding.any():\n",
    "            geocoded_data = merged_df.loc[needs_geocoding, 'manipulated address'].apply(geocode)\n",
    "            merged_df.loc[needs_geocoding, ['location', 'latitude', 'longitude']] = geocoded_data.values\n",
    "        \n",
    "        temp_df = merged_df\n",
    "    else:\n",
    "        geocoded_data = temp_df['manipulated address'].apply(geocode)\n",
    "        temp_df[['location', 'latitude', 'longitude']] = geocoded_data.values\n",
    "\n",
    "    temp_df.to_csv(csv_path, index=False)\n",
    "    print(f\"Data saved to {csv_path}\")\n",
    "    return temp_df\n"
   ],
   "outputs": [],
   "execution_count": 112
  },
  {
   "metadata": {
    "ExecuteTime": {
     "end_time": "2024-04-29T22:33:56.724238Z",
     "start_time": "2024-04-29T22:33:40.923950Z"
    }
   },
   "cell_type": "code",
   "source": "location_df = geocode_and_save(location_df)",
   "outputs": [
    {
     "name": "stdout",
     "output_type": "stream",
     "text": [
      "Rows needing geocoding: 32\n",
      "Komandosów, Osiedle Podwawelskie, Ludwinów, Dębniki, Kraków, województwo małopolskie, 30-334, Polska, 50.0418812, 19.9312845\n",
      "Komandosów, Osiedle Podwawelskie, Ludwinów, Dębniki, Kraków, województwo małopolskie, 30-334, Polska, 50.0418812, 19.9312845\n",
      "Reduta, Prądnik Czerwony, Kraków, województwo małopolskie, 31-479, Polska, 50.0942713, 19.9852178\n",
      "Reduta, Prądnik Czerwony, Kraków, województwo małopolskie, 31-479, Polska, 50.0942713, 19.9852178\n",
      "Naukowców, Bronowice Małe, Bronowice, Kraków, województwo małopolskie, 31-356, Polska, 50.0842714, 19.8845615\n",
      "Naukowców, Bronowice Małe, Bronowice, Kraków, województwo małopolskie, 31-356, Polska, 50.0842714, 19.8845615\n",
      "Wzgórza Krzesławickie, Kraków, województwo małopolskie, Polska, 50.0984135, 20.092011121568206\n",
      "Wzgórza Krzesławickie, Kraków, województwo małopolskie, Polska, 50.0984135, 20.092011121568206\n",
      "Żabiniec, Prądnik Biały, Kraków, województwo małopolskie, Polska, 50.0859311, 19.9417425\n",
      "Żabiniec, Prądnik Biały, Kraków, województwo małopolskie, Polska, 50.0859311, 19.9417425\n",
      "Zarzecze, Bronowice, Kraków, województwo małopolskie, 30-133, Polska, 50.0725462, 19.9000574\n",
      "Zarzecze, Bronowice, Kraków, województwo małopolskie, 30-133, Polska, 50.0725462, 19.9000574\n",
      "Bagry - ul. Lipska/Siemienowicza, Płaszów, Podgórze, Kraków, województwo małopolskie, Polska, 50.0380141, 19.995589989646206\n",
      "Bagry - ul. Lipska/Siemienowicza, Płaszów, Podgórze, Kraków, województwo małopolskie, Polska, 50.0380141, 19.995589989646206\n",
      "Walerego Sławka, Stare Podgórze, Podgórze, Kraków, województwo małopolskie, 30-644, Polska, 50.028619, 19.9586578\n",
      "Walerego Sławka, Stare Podgórze, Podgórze, Kraków, województwo małopolskie, 30-644, Polska, 50.028619, 19.9586578\n",
      "B19, 44, Henryka i Karola Czeczów, Słoneczne Miasteczko, Bieżanów-Prokocim, Kraków, województwo małopolskie, 30-798, Polska, 50.02088405, 20.058600309200976\n",
      "B19, 44, Henryka i Karola Czeczów, Słoneczne Miasteczko, Bieżanów-Prokocim, Kraków, województwo małopolskie, 30-798, Polska, 50.02088405, 20.058600309200976\n",
      "Lechicka, Łagiewniki, Łagiewniki-Borek Fałęcki, Kraków, województwo małopolskie, 30-601, Polska, 50.0241242, 19.9369609\n",
      "Lechicka, Łagiewniki, Łagiewniki-Borek Fałęcki, Kraków, województwo małopolskie, 30-601, Polska, 50.0241242, 19.9369609\n",
      "Śląska, Nowy Kleparz, Krowodrza, Kraków, województwo małopolskie, 30-003, Polska, 50.0741715, 19.933102\n",
      "Śląska, Nowy Kleparz, Krowodrza, Kraków, województwo małopolskie, 30-003, Polska, 50.0741715, 19.933102\n",
      "Reduta, Prądnik Czerwony, Kraków, województwo małopolskie, 31-479, Polska, 50.0942713, 19.9852178\n",
      "Reduta, Prądnik Czerwony, Kraków, województwo małopolskie, 31-479, Polska, 50.0942713, 19.9852178\n",
      "Borkowska, Kliny, Swoszowice, Kraków, województwo małopolskie, 30-446, Polska, 50.0041545, 19.9043566\n",
      "Borkowska, Kliny, Swoszowice, Kraków, województwo małopolskie, 30-446, Polska, 50.0041545, 19.9043566\n",
      "Złota, Wola Justowska, Zwierzyniec, Kraków, województwo małopolskie, 30-217, Polska, 50.0657059, 19.8839782\n",
      "Złota, Wola Justowska, Zwierzyniec, Kraków, województwo małopolskie, 30-217, Polska, 50.0657059, 19.8839782\n",
      "Sołtysowska, Zawsie, Łęg, Czyżyny, Kraków, województwo małopolskie, 31-586, Polska, 50.0655743, 20.0114621\n",
      "Sołtysowska, Zawsie, Łęg, Czyżyny, Kraków, województwo małopolskie, 31-586, Polska, 50.0655743, 20.0114621\n",
      "Maciejkowa, Skotnica, Tonie, Prądnik Biały, Kraków, województwo małopolskie, 31-336, Polska, 50.1092278, 19.8979167\n",
      "Maciejkowa, Skotnica, Tonie, Prądnik Biały, Kraków, województwo małopolskie, 31-336, Polska, 50.1092278, 19.8979167\n",
      "Data saved to geocoded_addresses.csv\n"
     ]
    }
   ],
   "execution_count": 131
  },
  {
   "metadata": {
    "ExecuteTime": {
     "end_time": "2024-04-29T22:34:22.798011Z",
     "start_time": "2024-04-29T22:34:22.784010Z"
    }
   },
   "cell_type": "code",
   "source": "location_df[location_df['location'].isna()]",
   "outputs": [
    {
     "data": {
      "text/plain": [
       "Empty DataFrame\n",
       "Columns: [address, manipulated address, location, latitude, longitude]\n",
       "Index: []"
      ],
      "text/html": [
       "<div>\n",
       "<style scoped>\n",
       "    .dataframe tbody tr th:only-of-type {\n",
       "        vertical-align: middle;\n",
       "    }\n",
       "\n",
       "    .dataframe tbody tr th {\n",
       "        vertical-align: top;\n",
       "    }\n",
       "\n",
       "    .dataframe thead th {\n",
       "        text-align: right;\n",
       "    }\n",
       "</style>\n",
       "<table border=\"1\" class=\"dataframe\">\n",
       "  <thead>\n",
       "    <tr style=\"text-align: right;\">\n",
       "      <th></th>\n",
       "      <th>address</th>\n",
       "      <th>manipulated address</th>\n",
       "      <th>location</th>\n",
       "      <th>latitude</th>\n",
       "      <th>longitude</th>\n",
       "    </tr>\n",
       "  </thead>\n",
       "  <tbody>\n",
       "  </tbody>\n",
       "</table>\n",
       "</div>"
      ]
     },
     "execution_count": 132,
     "metadata": {},
     "output_type": "execute_result"
    }
   ],
   "execution_count": 132
  },
  {
   "metadata": {
    "ExecuteTime": {
     "end_time": "2024-04-29T22:01:29.978675Z",
     "start_time": "2024-04-29T22:01:29.966665Z"
    }
   },
   "cell_type": "code",
   "source": "location_df.loc[location_df['location'].isna(), 'manipulated address'] = location_df['manipulated address'].str.replace(r',.*?, Kraków, małopolskie', ', Kraków, małopolskie', regex=True)",
   "outputs": [],
   "execution_count": 115
  },
  {
   "metadata": {
    "ExecuteTime": {
     "end_time": "2024-04-29T00:21:26.338085Z",
     "start_time": "2024-04-29T00:21:26.328687Z"
    }
   },
   "cell_type": "code",
   "source": "location_df.loc[location_df['location'].isna(), 'manipulated address'] = location_df['manipulated address'].str.replace(r'^(ul\\. |ul\\.|os\\. |U |Ok\\. |abp\\. |al\\. |mrj\\.|Św\\. |Aleja gen\\. |Św\\. |prof\\. |gen\\. )', '', regex=True)",
   "outputs": [],
   "execution_count": 481
  },
  {
   "metadata": {
    "ExecuteTime": {
     "end_time": "2024-04-28T23:17:06.839169Z",
     "start_time": "2024-04-28T23:17:06.829524Z"
    }
   },
   "cell_type": "code",
   "source": [
    "phrases_to_remove = [\n",
    "    \"okolice\", \"Wykończone inwestycyjne mieszkanie\", \"garsoniera wypoczynkowa\",\n",
    "    \"⭐️ obok tramwaj\", \"EKOPARK\", r\"\\| brak pcc \\|\", \"wykończone bez PCC\",\n",
    "    \"przy UP\", \"/bez pośredników\", \"- dwupoziomowe mieszkanie w centrum\",\n",
    "    \" ENG\", r\"\\(Os\\.Piastow\", \" z ogródkiem\", \" - Bezpośrednio\", \" - stan deweloperski\",\n",
    "    r\"\\/ nowy apartament\\/\", \" - Wykończone\", \" Tbs\"\n",
    "    ]\n",
    "\n",
    "# Create a regex pattern string to match any of the phrases\n",
    "phrases_pattern = r'|'.join([re.escape(phrase) for phrase in phrases_to_remove])\n",
    "\n",
    "# Apply regex only where location is NaN\n",
    "location_df.loc[location_df['location'].isna(), 'manipulated address'] = \\\n",
    "    location_df.loc[location_df['location'].isna(), 'manipulated address'].str.replace(phrases_pattern, '', regex=True)\n"
   ],
   "outputs": [],
   "execution_count": 468
  },
  {
   "metadata": {
    "ExecuteTime": {
     "end_time": "2024-04-28T23:16:41.039109Z",
     "start_time": "2024-04-28T23:16:41.025591Z"
    }
   },
   "cell_type": "code",
   "source": [
    "location_df.loc[location_df['location'].isna(), 'manipulated address'] = location_df[location_df['location'].isna()]['manipulated address'].str.replace(r'^-\\s*,', ',', regex=True)\n",
    "location_df.loc[location_df['location'].isna(), 'manipulated address'] = location_df[location_df['location'].isna()]['manipulated address'].str.replace(r'^iej,', 'a,', regex=True)\n",
    "location_df.loc[location_df['location'].isna(), 'manipulated address'] = location_df[location_df['location'].isna()]['manipulated address'].str.replace(r'^ej,', 'a,', regex=True)"
   ],
   "outputs": [],
   "execution_count": 466
  },
  {
   "metadata": {
    "ExecuteTime": {
     "end_time": "2024-04-28T23:18:35.481130Z",
     "start_time": "2024-04-28T23:18:35.412613Z"
    }
   },
   "cell_type": "code",
   "source": [
    "existing_df = pd.read_csv(\"geocoded_addresses.csv\")\n",
    "condition = existing_df['location'] == \"Kraków, województwo małopolskie, Polska\"\n",
    "existing_df.loc[condition, ['location', 'latitude', 'longitude']] = None\n",
    "existing_df.to_csv(\"geocoded_addresses.csv\", index=False)"
   ],
   "outputs": [],
   "execution_count": 470
  },
  {
   "metadata": {
    "ExecuteTime": {
     "end_time": "2024-04-29T22:36:25.971341Z",
     "start_time": "2024-04-29T22:36:25.961960Z"
    }
   },
   "cell_type": "code",
   "source": "location_df[location_df['location'] == \"Kraków, województwo małopolskie, Polska\"]",
   "outputs": [
    {
     "data": {
      "text/plain": [
       "                         address         manipulated address  \\\n",
       "1347         Kraków, małopolskie         Kraków, małopolskie   \n",
       "1928  64108, Kraków, małopolskie  64108, Kraków, małopolskie   \n",
       "\n",
       "                                     location   latitude  longitude  \n",
       "1347  Kraków, województwo małopolskie, Polska  50.046943  19.997153  \n",
       "1928  Kraków, województwo małopolskie, Polska  50.061947  19.936856  "
      ],
      "text/html": [
       "<div>\n",
       "<style scoped>\n",
       "    .dataframe tbody tr th:only-of-type {\n",
       "        vertical-align: middle;\n",
       "    }\n",
       "\n",
       "    .dataframe tbody tr th {\n",
       "        vertical-align: top;\n",
       "    }\n",
       "\n",
       "    .dataframe thead th {\n",
       "        text-align: right;\n",
       "    }\n",
       "</style>\n",
       "<table border=\"1\" class=\"dataframe\">\n",
       "  <thead>\n",
       "    <tr style=\"text-align: right;\">\n",
       "      <th></th>\n",
       "      <th>address</th>\n",
       "      <th>manipulated address</th>\n",
       "      <th>location</th>\n",
       "      <th>latitude</th>\n",
       "      <th>longitude</th>\n",
       "    </tr>\n",
       "  </thead>\n",
       "  <tbody>\n",
       "    <tr>\n",
       "      <th>1347</th>\n",
       "      <td>Kraków, małopolskie</td>\n",
       "      <td>Kraków, małopolskie</td>\n",
       "      <td>Kraków, województwo małopolskie, Polska</td>\n",
       "      <td>50.046943</td>\n",
       "      <td>19.997153</td>\n",
       "    </tr>\n",
       "    <tr>\n",
       "      <th>1928</th>\n",
       "      <td>64108, Kraków, małopolskie</td>\n",
       "      <td>64108, Kraków, małopolskie</td>\n",
       "      <td>Kraków, województwo małopolskie, Polska</td>\n",
       "      <td>50.061947</td>\n",
       "      <td>19.936856</td>\n",
       "    </tr>\n",
       "  </tbody>\n",
       "</table>\n",
       "</div>"
      ]
     },
     "execution_count": 133,
     "metadata": {},
     "output_type": "execute_result"
    }
   ],
   "execution_count": 133
  },
  {
   "metadata": {
    "ExecuteTime": {
     "end_time": "2024-04-29T22:02:41.764028Z",
     "start_time": "2024-04-29T22:02:41.265779Z"
    }
   },
   "cell_type": "code",
   "source": [
    "import openpyxl\n",
    "na_location = location_df[location_df['location'].isna()]\n",
    "na_location.to_excel(\"temp.xlsx\", index=False)"
   ],
   "outputs": [],
   "execution_count": 118
  },
  {
   "metadata": {},
   "cell_type": "code",
   "outputs": [],
   "execution_count": null,
   "source": "na_location[na_location['location'].isna()]"
  },
  {
   "metadata": {
    "ExecuteTime": {
     "end_time": "2024-04-29T22:49:55.402158Z",
     "start_time": "2024-04-29T22:49:55.362896Z"
    }
   },
   "cell_type": "code",
   "source": [
    "merged_df = pd.merge(\n",
    "    df_filtered_sorted_apartments, \n",
    "    location_df[['address', 'location', 'latitude', 'longitude']], \n",
    "    on='address', \n",
    "    how='left'\n",
    ")\n",
    "\n",
    "needs_update = merged_df['location'].isna()\n",
    "merged_df.loc[needs_update, 'location'] = merged_df.loc[needs_update, 'location']\n",
    "merged_df.loc[needs_update, 'latitude'] = merged_df.loc[needs_update, 'latitude']\n",
    "merged_df.loc[needs_update, 'longitude'] = merged_df.loc[needs_update, 'longitude']\n",
    "\n",
    "df_filtered_sorted_apartments = merged_df\n"
   ],
   "outputs": [
    {
     "data": {
      "text/plain": [
       "                                                     url  \\\n",
       "0      https://krakow.nieruchomosci-online.pl/mieszka...   \n",
       "1      https://krakow.nieruchomosci-online.pl/mieszka...   \n",
       "2      https://krakow.nieruchomosci-online.pl/mieszka...   \n",
       "3      https://www.otodom.pl/pl/oferta/nowe-mieszkani...   \n",
       "4      https://krakow.nieruchomosci-online.pl/mieszka...   \n",
       "...                                                  ...   \n",
       "16251  https://krakow.nieruchomosci-online.pl/mieszka...   \n",
       "16252  https://www.otodom.pl/pl/oferta/1m-wyposazone-...   \n",
       "16253  https://www.otodom.pl/pl/oferta/1m-wyposazone-...   \n",
       "16254  https://www.otodom.pl/pl/oferta/1m-wyposazone-...   \n",
       "16255  https://www.otodom.pl/pl/oferta/1m-wyposazone-...   \n",
       "\n",
       "                                             name/title  \\\n",
       "0                         Apartament, ul. 28 Lipca 1943   \n",
       "1                         Mieszkanie, ul. 28 Lipca 1943   \n",
       "2                         Apartament, ul. 28 Lipca 1943   \n",
       "3                    Nowe mieszkania na Górce Narodowej   \n",
       "4                                     Mieszkanie Kraków   \n",
       "...                                                 ...   \n",
       "16251                     Mieszkanie, ul. Żółkiewskiego   \n",
       "16252  1M! Wyposażone|Ogródek 25m2|Inwestycja - ROI 10%   \n",
       "16253  1M! Wyposażone|Ogródek 25m2|Inwestycja - ROI 10%   \n",
       "16254  1M! Wyposażone|Ogródek 25m2|Inwestycja - ROI 10%   \n",
       "16255  1M! Wyposażone|Ogródek 25m2|Inwestycja - ROI 10%   \n",
       "\n",
       "                                                 address      price    area  \\\n",
       "0      28 Lipca 1943, Wola Justowska, Kraków, małopol...  2290000.0  155.16   \n",
       "1      28 Lipca 1943, Wola Justowska, Kraków, małopol...  2399000.0  139.00   \n",
       "2      28 Lipca 1943, Wola Justowska, Kraków, małopol...  2666000.0  146.68   \n",
       "3      29 listopada - okolice, Górka Narodowa, Prądni...   778689.0   61.30   \n",
       "4                             64108, Kraków, małopolskie   888000.0   45.68   \n",
       "...                                                  ...        ...     ...   \n",
       "16251     Żółkiewskiego, Grzegórzki, Kraków, małopolskie  2722500.0  121.00   \n",
       "16252  żabniec, Żabiniec, Prądnik Biały, Kraków, mało...   639000.0   26.00   \n",
       "16253  żabniec, Żabiniec, Prądnik Biały, Kraków, mało...   639000.0   26.00   \n",
       "16254  żabniec, Żabiniec, Prądnik Biały, Kraków, mało...   639000.0   26.00   \n",
       "16255  żabniec, Żabiniec, Prądnik Biały, Kraków, mało...   639000.0   26.00   \n",
       "\n",
       "       price-per-area  floor/store  no of floors/stores in the building  \\\n",
       "0            14758.96            0                                    2   \n",
       "1            17258.99            1                                    2   \n",
       "2            18175.62            2                                    2   \n",
       "3            12703.00            1                                    5   \n",
       "4            19439.58            4                                    4   \n",
       "...               ...          ...                                  ...   \n",
       "16251        22500.00            2                                    4   \n",
       "16252        24577.00            0                                    4   \n",
       "16253        24577.00            0                                    4   \n",
       "16254        24577.00            0                                    4   \n",
       "16255        24577.00            0                                    4   \n",
       "\n",
       "       no of rooms  year of construction  parking space     market  \\\n",
       "0                5                2009.0           True     wtórny   \n",
       "1                3                2022.0          False     wtórny   \n",
       "2                3                2002.0           True     wtórny   \n",
       "3                2                2023.0           True  pierwotny   \n",
       "4                2                2023.0           True     wtórny   \n",
       "...            ...                   ...            ...        ...   \n",
       "16251            4                2024.0          False  pierwotny   \n",
       "16252            1                2017.0          False     wtórny   \n",
       "16253            1                2017.0          False     wtórny   \n",
       "16254            1                2017.0          False     wtórny   \n",
       "16255            1                2017.0          False     wtórny   \n",
       "\n",
       "      form of ownership  is_duplicate  \\\n",
       "0        pełna własność         False   \n",
       "1        pełna własność         False   \n",
       "2        pełna własność         False   \n",
       "3        pełna własność         False   \n",
       "4        pełna własność         False   \n",
       "...                 ...           ...   \n",
       "16251    pełna własność         False   \n",
       "16252    pełna własność         False   \n",
       "16253    pełna własność         False   \n",
       "16254    pełna własność         False   \n",
       "16255    pełna własność         False   \n",
       "\n",
       "                                                location   latitude  longitude  \n",
       "0      28 Lipca 1943, Wola Justowska, Zwierzyniec, Kr...  50.062710  19.872002  \n",
       "1      28 Lipca 1943, Wola Justowska, Zwierzyniec, Kr...  50.062710  19.872002  \n",
       "2      28 Lipca 1943, Wola Justowska, Zwierzyniec, Kr...  50.062710  19.872002  \n",
       "3      29 Listopada, Ogrody, Osiedle Ogrody, Skawina,...  49.973063  19.832337  \n",
       "4                Kraków, województwo małopolskie, Polska  50.061947  19.936856  \n",
       "...                                                  ...        ...        ...  \n",
       "16251  Hetmana Stanisława Żółkiewskiego, Wesoła, Grze...  50.057738  19.957939  \n",
       "16252  Żabiniec, Prądnik Biały, Kraków, województwo m...  50.085931  19.941743  \n",
       "16253  Żabiniec, Prądnik Biały, Kraków, województwo m...  50.085931  19.941743  \n",
       "16254  Żabiniec, Prądnik Biały, Kraków, województwo m...  50.085931  19.941743  \n",
       "16255  Żabiniec, Prądnik Biały, Kraków, województwo m...  50.085931  19.941743  \n",
       "\n",
       "[16256 rows x 17 columns]"
      ],
      "text/html": [
       "<div>\n",
       "<style scoped>\n",
       "    .dataframe tbody tr th:only-of-type {\n",
       "        vertical-align: middle;\n",
       "    }\n",
       "\n",
       "    .dataframe tbody tr th {\n",
       "        vertical-align: top;\n",
       "    }\n",
       "\n",
       "    .dataframe thead th {\n",
       "        text-align: right;\n",
       "    }\n",
       "</style>\n",
       "<table border=\"1\" class=\"dataframe\">\n",
       "  <thead>\n",
       "    <tr style=\"text-align: right;\">\n",
       "      <th></th>\n",
       "      <th>url</th>\n",
       "      <th>name/title</th>\n",
       "      <th>address</th>\n",
       "      <th>price</th>\n",
       "      <th>area</th>\n",
       "      <th>price-per-area</th>\n",
       "      <th>floor/store</th>\n",
       "      <th>no of floors/stores in the building</th>\n",
       "      <th>no of rooms</th>\n",
       "      <th>year of construction</th>\n",
       "      <th>parking space</th>\n",
       "      <th>market</th>\n",
       "      <th>form of ownership</th>\n",
       "      <th>is_duplicate</th>\n",
       "      <th>location</th>\n",
       "      <th>latitude</th>\n",
       "      <th>longitude</th>\n",
       "    </tr>\n",
       "  </thead>\n",
       "  <tbody>\n",
       "    <tr>\n",
       "      <th>0</th>\n",
       "      <td>https://krakow.nieruchomosci-online.pl/mieszka...</td>\n",
       "      <td>Apartament, ul. 28 Lipca 1943</td>\n",
       "      <td>28 Lipca 1943, Wola Justowska, Kraków, małopol...</td>\n",
       "      <td>2290000.0</td>\n",
       "      <td>155.16</td>\n",
       "      <td>14758.96</td>\n",
       "      <td>0</td>\n",
       "      <td>2</td>\n",
       "      <td>5</td>\n",
       "      <td>2009.0</td>\n",
       "      <td>True</td>\n",
       "      <td>wtórny</td>\n",
       "      <td>pełna własność</td>\n",
       "      <td>False</td>\n",
       "      <td>28 Lipca 1943, Wola Justowska, Zwierzyniec, Kr...</td>\n",
       "      <td>50.062710</td>\n",
       "      <td>19.872002</td>\n",
       "    </tr>\n",
       "    <tr>\n",
       "      <th>1</th>\n",
       "      <td>https://krakow.nieruchomosci-online.pl/mieszka...</td>\n",
       "      <td>Mieszkanie, ul. 28 Lipca 1943</td>\n",
       "      <td>28 Lipca 1943, Wola Justowska, Kraków, małopol...</td>\n",
       "      <td>2399000.0</td>\n",
       "      <td>139.00</td>\n",
       "      <td>17258.99</td>\n",
       "      <td>1</td>\n",
       "      <td>2</td>\n",
       "      <td>3</td>\n",
       "      <td>2022.0</td>\n",
       "      <td>False</td>\n",
       "      <td>wtórny</td>\n",
       "      <td>pełna własność</td>\n",
       "      <td>False</td>\n",
       "      <td>28 Lipca 1943, Wola Justowska, Zwierzyniec, Kr...</td>\n",
       "      <td>50.062710</td>\n",
       "      <td>19.872002</td>\n",
       "    </tr>\n",
       "    <tr>\n",
       "      <th>2</th>\n",
       "      <td>https://krakow.nieruchomosci-online.pl/mieszka...</td>\n",
       "      <td>Apartament, ul. 28 Lipca 1943</td>\n",
       "      <td>28 Lipca 1943, Wola Justowska, Kraków, małopol...</td>\n",
       "      <td>2666000.0</td>\n",
       "      <td>146.68</td>\n",
       "      <td>18175.62</td>\n",
       "      <td>2</td>\n",
       "      <td>2</td>\n",
       "      <td>3</td>\n",
       "      <td>2002.0</td>\n",
       "      <td>True</td>\n",
       "      <td>wtórny</td>\n",
       "      <td>pełna własność</td>\n",
       "      <td>False</td>\n",
       "      <td>28 Lipca 1943, Wola Justowska, Zwierzyniec, Kr...</td>\n",
       "      <td>50.062710</td>\n",
       "      <td>19.872002</td>\n",
       "    </tr>\n",
       "    <tr>\n",
       "      <th>3</th>\n",
       "      <td>https://www.otodom.pl/pl/oferta/nowe-mieszkani...</td>\n",
       "      <td>Nowe mieszkania na Górce Narodowej</td>\n",
       "      <td>29 listopada - okolice, Górka Narodowa, Prądni...</td>\n",
       "      <td>778689.0</td>\n",
       "      <td>61.30</td>\n",
       "      <td>12703.00</td>\n",
       "      <td>1</td>\n",
       "      <td>5</td>\n",
       "      <td>2</td>\n",
       "      <td>2023.0</td>\n",
       "      <td>True</td>\n",
       "      <td>pierwotny</td>\n",
       "      <td>pełna własność</td>\n",
       "      <td>False</td>\n",
       "      <td>29 Listopada, Ogrody, Osiedle Ogrody, Skawina,...</td>\n",
       "      <td>49.973063</td>\n",
       "      <td>19.832337</td>\n",
       "    </tr>\n",
       "    <tr>\n",
       "      <th>4</th>\n",
       "      <td>https://krakow.nieruchomosci-online.pl/mieszka...</td>\n",
       "      <td>Mieszkanie Kraków</td>\n",
       "      <td>64108, Kraków, małopolskie</td>\n",
       "      <td>888000.0</td>\n",
       "      <td>45.68</td>\n",
       "      <td>19439.58</td>\n",
       "      <td>4</td>\n",
       "      <td>4</td>\n",
       "      <td>2</td>\n",
       "      <td>2023.0</td>\n",
       "      <td>True</td>\n",
       "      <td>wtórny</td>\n",
       "      <td>pełna własność</td>\n",
       "      <td>False</td>\n",
       "      <td>Kraków, województwo małopolskie, Polska</td>\n",
       "      <td>50.061947</td>\n",
       "      <td>19.936856</td>\n",
       "    </tr>\n",
       "    <tr>\n",
       "      <th>...</th>\n",
       "      <td>...</td>\n",
       "      <td>...</td>\n",
       "      <td>...</td>\n",
       "      <td>...</td>\n",
       "      <td>...</td>\n",
       "      <td>...</td>\n",
       "      <td>...</td>\n",
       "      <td>...</td>\n",
       "      <td>...</td>\n",
       "      <td>...</td>\n",
       "      <td>...</td>\n",
       "      <td>...</td>\n",
       "      <td>...</td>\n",
       "      <td>...</td>\n",
       "      <td>...</td>\n",
       "      <td>...</td>\n",
       "      <td>...</td>\n",
       "    </tr>\n",
       "    <tr>\n",
       "      <th>16251</th>\n",
       "      <td>https://krakow.nieruchomosci-online.pl/mieszka...</td>\n",
       "      <td>Mieszkanie, ul. Żółkiewskiego</td>\n",
       "      <td>Żółkiewskiego, Grzegórzki, Kraków, małopolskie</td>\n",
       "      <td>2722500.0</td>\n",
       "      <td>121.00</td>\n",
       "      <td>22500.00</td>\n",
       "      <td>2</td>\n",
       "      <td>4</td>\n",
       "      <td>4</td>\n",
       "      <td>2024.0</td>\n",
       "      <td>False</td>\n",
       "      <td>pierwotny</td>\n",
       "      <td>pełna własność</td>\n",
       "      <td>False</td>\n",
       "      <td>Hetmana Stanisława Żółkiewskiego, Wesoła, Grze...</td>\n",
       "      <td>50.057738</td>\n",
       "      <td>19.957939</td>\n",
       "    </tr>\n",
       "    <tr>\n",
       "      <th>16252</th>\n",
       "      <td>https://www.otodom.pl/pl/oferta/1m-wyposazone-...</td>\n",
       "      <td>1M! Wyposażone|Ogródek 25m2|Inwestycja - ROI 10%</td>\n",
       "      <td>żabniec, Żabiniec, Prądnik Biały, Kraków, mało...</td>\n",
       "      <td>639000.0</td>\n",
       "      <td>26.00</td>\n",
       "      <td>24577.00</td>\n",
       "      <td>0</td>\n",
       "      <td>4</td>\n",
       "      <td>1</td>\n",
       "      <td>2017.0</td>\n",
       "      <td>False</td>\n",
       "      <td>wtórny</td>\n",
       "      <td>pełna własność</td>\n",
       "      <td>False</td>\n",
       "      <td>Żabiniec, Prądnik Biały, Kraków, województwo m...</td>\n",
       "      <td>50.085931</td>\n",
       "      <td>19.941743</td>\n",
       "    </tr>\n",
       "    <tr>\n",
       "      <th>16253</th>\n",
       "      <td>https://www.otodom.pl/pl/oferta/1m-wyposazone-...</td>\n",
       "      <td>1M! Wyposażone|Ogródek 25m2|Inwestycja - ROI 10%</td>\n",
       "      <td>żabniec, Żabiniec, Prądnik Biały, Kraków, mało...</td>\n",
       "      <td>639000.0</td>\n",
       "      <td>26.00</td>\n",
       "      <td>24577.00</td>\n",
       "      <td>0</td>\n",
       "      <td>4</td>\n",
       "      <td>1</td>\n",
       "      <td>2017.0</td>\n",
       "      <td>False</td>\n",
       "      <td>wtórny</td>\n",
       "      <td>pełna własność</td>\n",
       "      <td>False</td>\n",
       "      <td>Żabiniec, Prądnik Biały, Kraków, województwo m...</td>\n",
       "      <td>50.085931</td>\n",
       "      <td>19.941743</td>\n",
       "    </tr>\n",
       "    <tr>\n",
       "      <th>16254</th>\n",
       "      <td>https://www.otodom.pl/pl/oferta/1m-wyposazone-...</td>\n",
       "      <td>1M! Wyposażone|Ogródek 25m2|Inwestycja - ROI 10%</td>\n",
       "      <td>żabniec, Żabiniec, Prądnik Biały, Kraków, mało...</td>\n",
       "      <td>639000.0</td>\n",
       "      <td>26.00</td>\n",
       "      <td>24577.00</td>\n",
       "      <td>0</td>\n",
       "      <td>4</td>\n",
       "      <td>1</td>\n",
       "      <td>2017.0</td>\n",
       "      <td>False</td>\n",
       "      <td>wtórny</td>\n",
       "      <td>pełna własność</td>\n",
       "      <td>False</td>\n",
       "      <td>Żabiniec, Prądnik Biały, Kraków, województwo m...</td>\n",
       "      <td>50.085931</td>\n",
       "      <td>19.941743</td>\n",
       "    </tr>\n",
       "    <tr>\n",
       "      <th>16255</th>\n",
       "      <td>https://www.otodom.pl/pl/oferta/1m-wyposazone-...</td>\n",
       "      <td>1M! Wyposażone|Ogródek 25m2|Inwestycja - ROI 10%</td>\n",
       "      <td>żabniec, Żabiniec, Prądnik Biały, Kraków, mało...</td>\n",
       "      <td>639000.0</td>\n",
       "      <td>26.00</td>\n",
       "      <td>24577.00</td>\n",
       "      <td>0</td>\n",
       "      <td>4</td>\n",
       "      <td>1</td>\n",
       "      <td>2017.0</td>\n",
       "      <td>False</td>\n",
       "      <td>wtórny</td>\n",
       "      <td>pełna własność</td>\n",
       "      <td>False</td>\n",
       "      <td>Żabiniec, Prądnik Biały, Kraków, województwo m...</td>\n",
       "      <td>50.085931</td>\n",
       "      <td>19.941743</td>\n",
       "    </tr>\n",
       "  </tbody>\n",
       "</table>\n",
       "<p>16256 rows × 17 columns</p>\n",
       "</div>"
      ]
     },
     "execution_count": 138,
     "metadata": {},
     "output_type": "execute_result"
    }
   ],
   "execution_count": 138
  },
  {
   "metadata": {
    "ExecuteTime": {
     "end_time": "2024-04-29T23:19:10.740913Z",
     "start_time": "2024-04-29T23:19:10.725799Z"
    }
   },
   "cell_type": "code",
   "source": "df_filtered_sorted_apartments.isnull().sum()",
   "outputs": [
    {
     "data": {
      "text/plain": [
       "url                                    0\n",
       "name/title                             0\n",
       "address                                0\n",
       "price                                  0\n",
       "area                                   0\n",
       "price-per-area                         0\n",
       "floor/store                            0\n",
       "no of floors/stores in the building    0\n",
       "no of rooms                            0\n",
       "year of construction                   0\n",
       "parking space                          0\n",
       "market                                 0\n",
       "form of ownership                      0\n",
       "is_duplicate                           0\n",
       "location                               0\n",
       "latitude                               0\n",
       "longitude                              0\n",
       "dtype: int64"
      ]
     },
     "execution_count": 146,
     "metadata": {},
     "output_type": "execute_result"
    }
   ],
   "execution_count": 146
  },
  {
   "metadata": {
    "ExecuteTime": {
     "end_time": "2024-04-29T22:57:41.989942Z",
     "start_time": "2024-04-29T22:57:41.975864Z"
    }
   },
   "cell_type": "code",
   "source": [
    "nan_row_count = df_filtered_sorted_apartments.isna().any(axis=1).sum()\n",
    "df_filtered_sorted_apartments.shape[0] - nan_row_count"
   ],
   "outputs": [
    {
     "data": {
      "text/plain": [
       "13191"
      ]
     },
     "execution_count": 141,
     "metadata": {},
     "output_type": "execute_result"
    }
   ],
   "execution_count": 141
  },
  {
   "metadata": {},
   "cell_type": "markdown",
   "source": "## Uzupełnienie NaNów i eksport zbioru uwspólnionego"
  },
  {
   "metadata": {
    "ExecuteTime": {
     "end_time": "2024-04-29T23:17:39.091618Z",
     "start_time": "2024-04-29T23:17:38.752825Z"
    }
   },
   "cell_type": "code",
   "source": [
    "df_filtered_sorted_apartments['year of construction'] = df_filtered_sorted_apartments['year of construction'].fillna(new_mean_year)\n",
    "df_filtered_sorted_apartments['form of ownership'] = df_filtered_sorted_apartments['form of ownership'].fillna('pełna własność')\n",
    "df_filtered_sorted_apartments.to_csv('datasets/apartments_collective.csv')\n",
    "df_filtered_sorted_apartments"
   ],
   "outputs": [
    {
     "data": {
      "text/plain": [
       "                                                     url  \\\n",
       "0      https://krakow.nieruchomosci-online.pl/mieszka...   \n",
       "1      https://krakow.nieruchomosci-online.pl/mieszka...   \n",
       "2      https://krakow.nieruchomosci-online.pl/mieszka...   \n",
       "3      https://www.otodom.pl/pl/oferta/nowe-mieszkani...   \n",
       "4      https://krakow.nieruchomosci-online.pl/mieszka...   \n",
       "...                                                  ...   \n",
       "16251  https://krakow.nieruchomosci-online.pl/mieszka...   \n",
       "16252  https://www.otodom.pl/pl/oferta/1m-wyposazone-...   \n",
       "16253  https://www.otodom.pl/pl/oferta/1m-wyposazone-...   \n",
       "16254  https://www.otodom.pl/pl/oferta/1m-wyposazone-...   \n",
       "16255  https://www.otodom.pl/pl/oferta/1m-wyposazone-...   \n",
       "\n",
       "                                             name/title  \\\n",
       "0                         Apartament, ul. 28 Lipca 1943   \n",
       "1                         Mieszkanie, ul. 28 Lipca 1943   \n",
       "2                         Apartament, ul. 28 Lipca 1943   \n",
       "3                    Nowe mieszkania na Górce Narodowej   \n",
       "4                                     Mieszkanie Kraków   \n",
       "...                                                 ...   \n",
       "16251                     Mieszkanie, ul. Żółkiewskiego   \n",
       "16252  1M! Wyposażone|Ogródek 25m2|Inwestycja - ROI 10%   \n",
       "16253  1M! Wyposażone|Ogródek 25m2|Inwestycja - ROI 10%   \n",
       "16254  1M! Wyposażone|Ogródek 25m2|Inwestycja - ROI 10%   \n",
       "16255  1M! Wyposażone|Ogródek 25m2|Inwestycja - ROI 10%   \n",
       "\n",
       "                                                 address      price    area  \\\n",
       "0      28 Lipca 1943, Wola Justowska, Kraków, małopol...  2290000.0  155.16   \n",
       "1      28 Lipca 1943, Wola Justowska, Kraków, małopol...  2399000.0  139.00   \n",
       "2      28 Lipca 1943, Wola Justowska, Kraków, małopol...  2666000.0  146.68   \n",
       "3      29 listopada - okolice, Górka Narodowa, Prądni...   778689.0   61.30   \n",
       "4                             64108, Kraków, małopolskie   888000.0   45.68   \n",
       "...                                                  ...        ...     ...   \n",
       "16251     Żółkiewskiego, Grzegórzki, Kraków, małopolskie  2722500.0  121.00   \n",
       "16252  żabniec, Żabiniec, Prądnik Biały, Kraków, mało...   639000.0   26.00   \n",
       "16253  żabniec, Żabiniec, Prądnik Biały, Kraków, mało...   639000.0   26.00   \n",
       "16254  żabniec, Żabiniec, Prądnik Biały, Kraków, mało...   639000.0   26.00   \n",
       "16255  żabniec, Żabiniec, Prądnik Biały, Kraków, mało...   639000.0   26.00   \n",
       "\n",
       "       price-per-area  floor/store  no of floors/stores in the building  \\\n",
       "0            14758.96            0                                    2   \n",
       "1            17258.99            1                                    2   \n",
       "2            18175.62            2                                    2   \n",
       "3            12703.00            1                                    5   \n",
       "4            19439.58            4                                    4   \n",
       "...               ...          ...                                  ...   \n",
       "16251        22500.00            2                                    4   \n",
       "16252        24577.00            0                                    4   \n",
       "16253        24577.00            0                                    4   \n",
       "16254        24577.00            0                                    4   \n",
       "16255        24577.00            0                                    4   \n",
       "\n",
       "       no of rooms  year of construction  parking space     market  \\\n",
       "0                5                2009.0           True     wtórny   \n",
       "1                3                2022.0          False     wtórny   \n",
       "2                3                2002.0           True     wtórny   \n",
       "3                2                2023.0           True  pierwotny   \n",
       "4                2                2023.0           True     wtórny   \n",
       "...            ...                   ...            ...        ...   \n",
       "16251            4                2024.0          False  pierwotny   \n",
       "16252            1                2017.0          False     wtórny   \n",
       "16253            1                2017.0          False     wtórny   \n",
       "16254            1                2017.0          False     wtórny   \n",
       "16255            1                2017.0          False     wtórny   \n",
       "\n",
       "      form of ownership  is_duplicate  \\\n",
       "0        pełna własność         False   \n",
       "1        pełna własność         False   \n",
       "2        pełna własność         False   \n",
       "3        pełna własność         False   \n",
       "4        pełna własność         False   \n",
       "...                 ...           ...   \n",
       "16251    pełna własność         False   \n",
       "16252    pełna własność         False   \n",
       "16253    pełna własność         False   \n",
       "16254    pełna własność         False   \n",
       "16255    pełna własność         False   \n",
       "\n",
       "                                                location   latitude  longitude  \n",
       "0      28 Lipca 1943, Wola Justowska, Zwierzyniec, Kr...  50.062710  19.872002  \n",
       "1      28 Lipca 1943, Wola Justowska, Zwierzyniec, Kr...  50.062710  19.872002  \n",
       "2      28 Lipca 1943, Wola Justowska, Zwierzyniec, Kr...  50.062710  19.872002  \n",
       "3      29 Listopada, Ogrody, Osiedle Ogrody, Skawina,...  49.973063  19.832337  \n",
       "4                Kraków, województwo małopolskie, Polska  50.061947  19.936856  \n",
       "...                                                  ...        ...        ...  \n",
       "16251  Hetmana Stanisława Żółkiewskiego, Wesoła, Grze...  50.057738  19.957939  \n",
       "16252  Żabiniec, Prądnik Biały, Kraków, województwo m...  50.085931  19.941743  \n",
       "16253  Żabiniec, Prądnik Biały, Kraków, województwo m...  50.085931  19.941743  \n",
       "16254  Żabiniec, Prądnik Biały, Kraków, województwo m...  50.085931  19.941743  \n",
       "16255  Żabiniec, Prądnik Biały, Kraków, województwo m...  50.085931  19.941743  \n",
       "\n",
       "[16256 rows x 17 columns]"
      ],
      "text/html": [
       "<div>\n",
       "<style scoped>\n",
       "    .dataframe tbody tr th:only-of-type {\n",
       "        vertical-align: middle;\n",
       "    }\n",
       "\n",
       "    .dataframe tbody tr th {\n",
       "        vertical-align: top;\n",
       "    }\n",
       "\n",
       "    .dataframe thead th {\n",
       "        text-align: right;\n",
       "    }\n",
       "</style>\n",
       "<table border=\"1\" class=\"dataframe\">\n",
       "  <thead>\n",
       "    <tr style=\"text-align: right;\">\n",
       "      <th></th>\n",
       "      <th>url</th>\n",
       "      <th>name/title</th>\n",
       "      <th>address</th>\n",
       "      <th>price</th>\n",
       "      <th>area</th>\n",
       "      <th>price-per-area</th>\n",
       "      <th>floor/store</th>\n",
       "      <th>no of floors/stores in the building</th>\n",
       "      <th>no of rooms</th>\n",
       "      <th>year of construction</th>\n",
       "      <th>parking space</th>\n",
       "      <th>market</th>\n",
       "      <th>form of ownership</th>\n",
       "      <th>is_duplicate</th>\n",
       "      <th>location</th>\n",
       "      <th>latitude</th>\n",
       "      <th>longitude</th>\n",
       "    </tr>\n",
       "  </thead>\n",
       "  <tbody>\n",
       "    <tr>\n",
       "      <th>0</th>\n",
       "      <td>https://krakow.nieruchomosci-online.pl/mieszka...</td>\n",
       "      <td>Apartament, ul. 28 Lipca 1943</td>\n",
       "      <td>28 Lipca 1943, Wola Justowska, Kraków, małopol...</td>\n",
       "      <td>2290000.0</td>\n",
       "      <td>155.16</td>\n",
       "      <td>14758.96</td>\n",
       "      <td>0</td>\n",
       "      <td>2</td>\n",
       "      <td>5</td>\n",
       "      <td>2009.0</td>\n",
       "      <td>True</td>\n",
       "      <td>wtórny</td>\n",
       "      <td>pełna własność</td>\n",
       "      <td>False</td>\n",
       "      <td>28 Lipca 1943, Wola Justowska, Zwierzyniec, Kr...</td>\n",
       "      <td>50.062710</td>\n",
       "      <td>19.872002</td>\n",
       "    </tr>\n",
       "    <tr>\n",
       "      <th>1</th>\n",
       "      <td>https://krakow.nieruchomosci-online.pl/mieszka...</td>\n",
       "      <td>Mieszkanie, ul. 28 Lipca 1943</td>\n",
       "      <td>28 Lipca 1943, Wola Justowska, Kraków, małopol...</td>\n",
       "      <td>2399000.0</td>\n",
       "      <td>139.00</td>\n",
       "      <td>17258.99</td>\n",
       "      <td>1</td>\n",
       "      <td>2</td>\n",
       "      <td>3</td>\n",
       "      <td>2022.0</td>\n",
       "      <td>False</td>\n",
       "      <td>wtórny</td>\n",
       "      <td>pełna własność</td>\n",
       "      <td>False</td>\n",
       "      <td>28 Lipca 1943, Wola Justowska, Zwierzyniec, Kr...</td>\n",
       "      <td>50.062710</td>\n",
       "      <td>19.872002</td>\n",
       "    </tr>\n",
       "    <tr>\n",
       "      <th>2</th>\n",
       "      <td>https://krakow.nieruchomosci-online.pl/mieszka...</td>\n",
       "      <td>Apartament, ul. 28 Lipca 1943</td>\n",
       "      <td>28 Lipca 1943, Wola Justowska, Kraków, małopol...</td>\n",
       "      <td>2666000.0</td>\n",
       "      <td>146.68</td>\n",
       "      <td>18175.62</td>\n",
       "      <td>2</td>\n",
       "      <td>2</td>\n",
       "      <td>3</td>\n",
       "      <td>2002.0</td>\n",
       "      <td>True</td>\n",
       "      <td>wtórny</td>\n",
       "      <td>pełna własność</td>\n",
       "      <td>False</td>\n",
       "      <td>28 Lipca 1943, Wola Justowska, Zwierzyniec, Kr...</td>\n",
       "      <td>50.062710</td>\n",
       "      <td>19.872002</td>\n",
       "    </tr>\n",
       "    <tr>\n",
       "      <th>3</th>\n",
       "      <td>https://www.otodom.pl/pl/oferta/nowe-mieszkani...</td>\n",
       "      <td>Nowe mieszkania na Górce Narodowej</td>\n",
       "      <td>29 listopada - okolice, Górka Narodowa, Prądni...</td>\n",
       "      <td>778689.0</td>\n",
       "      <td>61.30</td>\n",
       "      <td>12703.00</td>\n",
       "      <td>1</td>\n",
       "      <td>5</td>\n",
       "      <td>2</td>\n",
       "      <td>2023.0</td>\n",
       "      <td>True</td>\n",
       "      <td>pierwotny</td>\n",
       "      <td>pełna własność</td>\n",
       "      <td>False</td>\n",
       "      <td>29 Listopada, Ogrody, Osiedle Ogrody, Skawina,...</td>\n",
       "      <td>49.973063</td>\n",
       "      <td>19.832337</td>\n",
       "    </tr>\n",
       "    <tr>\n",
       "      <th>4</th>\n",
       "      <td>https://krakow.nieruchomosci-online.pl/mieszka...</td>\n",
       "      <td>Mieszkanie Kraków</td>\n",
       "      <td>64108, Kraków, małopolskie</td>\n",
       "      <td>888000.0</td>\n",
       "      <td>45.68</td>\n",
       "      <td>19439.58</td>\n",
       "      <td>4</td>\n",
       "      <td>4</td>\n",
       "      <td>2</td>\n",
       "      <td>2023.0</td>\n",
       "      <td>True</td>\n",
       "      <td>wtórny</td>\n",
       "      <td>pełna własność</td>\n",
       "      <td>False</td>\n",
       "      <td>Kraków, województwo małopolskie, Polska</td>\n",
       "      <td>50.061947</td>\n",
       "      <td>19.936856</td>\n",
       "    </tr>\n",
       "    <tr>\n",
       "      <th>...</th>\n",
       "      <td>...</td>\n",
       "      <td>...</td>\n",
       "      <td>...</td>\n",
       "      <td>...</td>\n",
       "      <td>...</td>\n",
       "      <td>...</td>\n",
       "      <td>...</td>\n",
       "      <td>...</td>\n",
       "      <td>...</td>\n",
       "      <td>...</td>\n",
       "      <td>...</td>\n",
       "      <td>...</td>\n",
       "      <td>...</td>\n",
       "      <td>...</td>\n",
       "      <td>...</td>\n",
       "      <td>...</td>\n",
       "      <td>...</td>\n",
       "    </tr>\n",
       "    <tr>\n",
       "      <th>16251</th>\n",
       "      <td>https://krakow.nieruchomosci-online.pl/mieszka...</td>\n",
       "      <td>Mieszkanie, ul. Żółkiewskiego</td>\n",
       "      <td>Żółkiewskiego, Grzegórzki, Kraków, małopolskie</td>\n",
       "      <td>2722500.0</td>\n",
       "      <td>121.00</td>\n",
       "      <td>22500.00</td>\n",
       "      <td>2</td>\n",
       "      <td>4</td>\n",
       "      <td>4</td>\n",
       "      <td>2024.0</td>\n",
       "      <td>False</td>\n",
       "      <td>pierwotny</td>\n",
       "      <td>pełna własność</td>\n",
       "      <td>False</td>\n",
       "      <td>Hetmana Stanisława Żółkiewskiego, Wesoła, Grze...</td>\n",
       "      <td>50.057738</td>\n",
       "      <td>19.957939</td>\n",
       "    </tr>\n",
       "    <tr>\n",
       "      <th>16252</th>\n",
       "      <td>https://www.otodom.pl/pl/oferta/1m-wyposazone-...</td>\n",
       "      <td>1M! Wyposażone|Ogródek 25m2|Inwestycja - ROI 10%</td>\n",
       "      <td>żabniec, Żabiniec, Prądnik Biały, Kraków, mało...</td>\n",
       "      <td>639000.0</td>\n",
       "      <td>26.00</td>\n",
       "      <td>24577.00</td>\n",
       "      <td>0</td>\n",
       "      <td>4</td>\n",
       "      <td>1</td>\n",
       "      <td>2017.0</td>\n",
       "      <td>False</td>\n",
       "      <td>wtórny</td>\n",
       "      <td>pełna własność</td>\n",
       "      <td>False</td>\n",
       "      <td>Żabiniec, Prądnik Biały, Kraków, województwo m...</td>\n",
       "      <td>50.085931</td>\n",
       "      <td>19.941743</td>\n",
       "    </tr>\n",
       "    <tr>\n",
       "      <th>16253</th>\n",
       "      <td>https://www.otodom.pl/pl/oferta/1m-wyposazone-...</td>\n",
       "      <td>1M! Wyposażone|Ogródek 25m2|Inwestycja - ROI 10%</td>\n",
       "      <td>żabniec, Żabiniec, Prądnik Biały, Kraków, mało...</td>\n",
       "      <td>639000.0</td>\n",
       "      <td>26.00</td>\n",
       "      <td>24577.00</td>\n",
       "      <td>0</td>\n",
       "      <td>4</td>\n",
       "      <td>1</td>\n",
       "      <td>2017.0</td>\n",
       "      <td>False</td>\n",
       "      <td>wtórny</td>\n",
       "      <td>pełna własność</td>\n",
       "      <td>False</td>\n",
       "      <td>Żabiniec, Prądnik Biały, Kraków, województwo m...</td>\n",
       "      <td>50.085931</td>\n",
       "      <td>19.941743</td>\n",
       "    </tr>\n",
       "    <tr>\n",
       "      <th>16254</th>\n",
       "      <td>https://www.otodom.pl/pl/oferta/1m-wyposazone-...</td>\n",
       "      <td>1M! Wyposażone|Ogródek 25m2|Inwestycja - ROI 10%</td>\n",
       "      <td>żabniec, Żabiniec, Prądnik Biały, Kraków, mało...</td>\n",
       "      <td>639000.0</td>\n",
       "      <td>26.00</td>\n",
       "      <td>24577.00</td>\n",
       "      <td>0</td>\n",
       "      <td>4</td>\n",
       "      <td>1</td>\n",
       "      <td>2017.0</td>\n",
       "      <td>False</td>\n",
       "      <td>wtórny</td>\n",
       "      <td>pełna własność</td>\n",
       "      <td>False</td>\n",
       "      <td>Żabiniec, Prądnik Biały, Kraków, województwo m...</td>\n",
       "      <td>50.085931</td>\n",
       "      <td>19.941743</td>\n",
       "    </tr>\n",
       "    <tr>\n",
       "      <th>16255</th>\n",
       "      <td>https://www.otodom.pl/pl/oferta/1m-wyposazone-...</td>\n",
       "      <td>1M! Wyposażone|Ogródek 25m2|Inwestycja - ROI 10%</td>\n",
       "      <td>żabniec, Żabiniec, Prądnik Biały, Kraków, mało...</td>\n",
       "      <td>639000.0</td>\n",
       "      <td>26.00</td>\n",
       "      <td>24577.00</td>\n",
       "      <td>0</td>\n",
       "      <td>4</td>\n",
       "      <td>1</td>\n",
       "      <td>2017.0</td>\n",
       "      <td>False</td>\n",
       "      <td>wtórny</td>\n",
       "      <td>pełna własność</td>\n",
       "      <td>False</td>\n",
       "      <td>Żabiniec, Prądnik Biały, Kraków, województwo m...</td>\n",
       "      <td>50.085931</td>\n",
       "      <td>19.941743</td>\n",
       "    </tr>\n",
       "  </tbody>\n",
       "</table>\n",
       "<p>16256 rows × 17 columns</p>\n",
       "</div>"
      ]
     },
     "execution_count": 145,
     "metadata": {},
     "output_type": "execute_result"
    }
   ],
   "execution_count": 145
  },
  {
   "metadata": {},
   "cell_type": "markdown",
   "source": "## Usuwanie duplikatów, geolokacja, uzupełnienie NaNów i eksport zbioru nieruchomosci-online"
  },
  {
   "metadata": {
    "ExecuteTime": {
     "end_time": "2024-04-29T23:22:42.892832Z",
     "start_time": "2024-04-29T23:22:39.176378Z"
    }
   },
   "cell_type": "code",
   "source": [
    "df_filtered_sorted_nieruchomosci = remove_duplicates(df_nieruchomosci)\n",
    "df_filtered_sorted_nieruchomosci.drop('is_duplicate', axis=1, inplace=True)\n",
    "df_filtered_sorted_nieruchomosci"
   ],
   "outputs": [
    {
     "name": "stderr",
     "output_type": "stream",
     "text": [
      "C:\\Users\\Piotr\\AppData\\Local\\Temp\\ipykernel_11132\\3201072169.py:26: DeprecationWarning: DataFrameGroupBy.apply operated on the grouping columns. This behavior is deprecated, and in a future version of pandas the grouping columns will be excluded from the operation. Either pass `include_groups=False` to exclude the groupings or explicitly select the grouping columns after groupby to silence this warning.\n",
      "  df['is_duplicate'] = df.groupby(group_cols, group_keys=False).apply(check_similarity)\n",
      "C:\\Users\\Piotr\\AppData\\Local\\Temp\\ipykernel_11132\\3201072169.py:31: DeprecationWarning: DataFrameGroupBy.apply operated on the grouping columns. This behavior is deprecated, and in a future version of pandas the grouping columns will be excluded from the operation. Either pass `include_groups=False` to exclude the groupings or explicitly select the grouping columns after groupby to silence this warning.\n",
      "  most_complete_duplicates = duplicates.groupby(group_cols).apply(fill_from_group).reset_index(drop=True)\n"
     ]
    },
    {
     "data": {
      "text/plain": [
       "                                                    url  \\\n",
       "4973  https://krakow.nieruchomosci-online.pl/mieszka...   \n",
       "1232  https://krakow.nieruchomosci-online.pl/mieszka...   \n",
       "4392  https://krakow.nieruchomosci-online.pl/mieszka...   \n",
       "2539  https://krakow.nieruchomosci-online.pl/mieszka...   \n",
       "1045  https://krakow.nieruchomosci-online.pl/mieszka...   \n",
       "...                                                 ...   \n",
       "2786  https://krakow.nieruchomosci-online.pl/mieszka...   \n",
       "3326  https://krakow.nieruchomosci-online.pl/mieszka...   \n",
       "7367  https://krakow.nieruchomosci-online.pl/mieszka...   \n",
       "1930  https://krakow.nieruchomosci-online.pl/mieszka...   \n",
       "2117  https://krakow.nieruchomosci-online.pl/mieszka...   \n",
       "\n",
       "                         name/title  \\\n",
       "4973  Apartament, ul. 28 Lipca 1943   \n",
       "1232  Mieszkanie, ul. 28 Lipca 1943   \n",
       "4392  Apartament, ul. 28 Lipca 1943   \n",
       "2539              Mieszkanie Kraków   \n",
       "1045        Mieszkanie, ul. Agatowa   \n",
       "...                             ...   \n",
       "2786        Kawalerka, ul. Żywiecka   \n",
       "3326        Kawalerka, ul. Żywiecka   \n",
       "7367   Kawalerka, ul. Żółkiewskiego   \n",
       "1930  Mieszkanie, ul. Żółkiewskiego   \n",
       "2117  Mieszkanie, ul. Żółkiewskiego   \n",
       "\n",
       "                                                address      price    area  \\\n",
       "4973  28 Lipca 1943, Wola Justowska, Kraków, małopol...  2290000.0  155.16   \n",
       "1232  28 Lipca 1943, Wola Justowska, Kraków, małopol...  2399000.0  139.00   \n",
       "4392  28 Lipca 1943, Wola Justowska, Kraków, małopol...  2666000.0  146.68   \n",
       "2539                         64108, Kraków, małopolskie   888000.0   45.68   \n",
       "1045             Agatowa, Bieżanów, Kraków, małopolskie   765000.0   48.00   \n",
       "...                                                 ...        ...     ...   \n",
       "2786                      Żywiecka, Kraków, małopolskie   155000.0   13.40   \n",
       "3326          Żywiecka, Łagiewniki, Kraków, małopolskie   220000.0   18.50   \n",
       "7367     Żółkiewskiego, Grzegórzki, Kraków, małopolskie   532000.0   24.40   \n",
       "1930     Żółkiewskiego, Grzegórzki, Kraków, małopolskie  1698500.0   79.00   \n",
       "2117     Żółkiewskiego, Grzegórzki, Kraków, małopolskie  2722500.0  121.00   \n",
       "\n",
       "      price-per-area  floor/store  no of floors/stores in the building  \\\n",
       "4973        14758.96            0                                    2   \n",
       "1232        17258.99            1                                    2   \n",
       "4392        18175.62            2                                    2   \n",
       "2539        19439.58            4                                    4   \n",
       "1045        15937.50            3                                    4   \n",
       "...              ...          ...                                  ...   \n",
       "2786        11567.16            0                                    2   \n",
       "3326        11891.89            1                                    1   \n",
       "7367        21803.28            1                                    2   \n",
       "1930        21500.00            2                                    4   \n",
       "2117        22500.00            2                                    4   \n",
       "\n",
       "      no of rooms  year of construction  parking space     market  \\\n",
       "4973            5                2009.0           True     wtórny   \n",
       "1232            3                2022.0          False     wtórny   \n",
       "4392            3                2002.0           True     wtórny   \n",
       "2539            2                2023.0           True     wtórny   \n",
       "1045            3                2023.0           True     wtórny   \n",
       "...           ...                   ...            ...        ...   \n",
       "2786            1                2024.0          False     wtórny   \n",
       "3326            1                2023.0          False     wtórny   \n",
       "7367            1                1900.0           True     wtórny   \n",
       "1930            4                2024.0          False  pierwotny   \n",
       "2117            4                2024.0          False  pierwotny   \n",
       "\n",
       "     form of ownership              parking space details  \n",
       "4973    pełna własność                 garaż wolnostojący  \n",
       "1232    pełna własność       parking publiczny / na ulicy  \n",
       "4392    pełna własność                                tak  \n",
       "2539    pełna własność  przynależne na terenie ogrodzonym  \n",
       "1045    pełna własność               przynależne na ulicy  \n",
       "...                ...                                ...  \n",
       "2786    pełna własność       parking publiczny / na ulicy  \n",
       "3326    pełna własność       parking publiczny / na ulicy  \n",
       "7367               NaN                                tak  \n",
       "1930    pełna własność       parking publiczny / na ulicy  \n",
       "2117    pełna własność       parking publiczny / na ulicy  \n",
       "\n",
       "[7368 rows x 14 columns]"
      ],
      "text/html": [
       "<div>\n",
       "<style scoped>\n",
       "    .dataframe tbody tr th:only-of-type {\n",
       "        vertical-align: middle;\n",
       "    }\n",
       "\n",
       "    .dataframe tbody tr th {\n",
       "        vertical-align: top;\n",
       "    }\n",
       "\n",
       "    .dataframe thead th {\n",
       "        text-align: right;\n",
       "    }\n",
       "</style>\n",
       "<table border=\"1\" class=\"dataframe\">\n",
       "  <thead>\n",
       "    <tr style=\"text-align: right;\">\n",
       "      <th></th>\n",
       "      <th>url</th>\n",
       "      <th>name/title</th>\n",
       "      <th>address</th>\n",
       "      <th>price</th>\n",
       "      <th>area</th>\n",
       "      <th>price-per-area</th>\n",
       "      <th>floor/store</th>\n",
       "      <th>no of floors/stores in the building</th>\n",
       "      <th>no of rooms</th>\n",
       "      <th>year of construction</th>\n",
       "      <th>parking space</th>\n",
       "      <th>market</th>\n",
       "      <th>form of ownership</th>\n",
       "      <th>parking space details</th>\n",
       "    </tr>\n",
       "  </thead>\n",
       "  <tbody>\n",
       "    <tr>\n",
       "      <th>4973</th>\n",
       "      <td>https://krakow.nieruchomosci-online.pl/mieszka...</td>\n",
       "      <td>Apartament, ul. 28 Lipca 1943</td>\n",
       "      <td>28 Lipca 1943, Wola Justowska, Kraków, małopol...</td>\n",
       "      <td>2290000.0</td>\n",
       "      <td>155.16</td>\n",
       "      <td>14758.96</td>\n",
       "      <td>0</td>\n",
       "      <td>2</td>\n",
       "      <td>5</td>\n",
       "      <td>2009.0</td>\n",
       "      <td>True</td>\n",
       "      <td>wtórny</td>\n",
       "      <td>pełna własność</td>\n",
       "      <td>garaż wolnostojący</td>\n",
       "    </tr>\n",
       "    <tr>\n",
       "      <th>1232</th>\n",
       "      <td>https://krakow.nieruchomosci-online.pl/mieszka...</td>\n",
       "      <td>Mieszkanie, ul. 28 Lipca 1943</td>\n",
       "      <td>28 Lipca 1943, Wola Justowska, Kraków, małopol...</td>\n",
       "      <td>2399000.0</td>\n",
       "      <td>139.00</td>\n",
       "      <td>17258.99</td>\n",
       "      <td>1</td>\n",
       "      <td>2</td>\n",
       "      <td>3</td>\n",
       "      <td>2022.0</td>\n",
       "      <td>False</td>\n",
       "      <td>wtórny</td>\n",
       "      <td>pełna własność</td>\n",
       "      <td>parking publiczny / na ulicy</td>\n",
       "    </tr>\n",
       "    <tr>\n",
       "      <th>4392</th>\n",
       "      <td>https://krakow.nieruchomosci-online.pl/mieszka...</td>\n",
       "      <td>Apartament, ul. 28 Lipca 1943</td>\n",
       "      <td>28 Lipca 1943, Wola Justowska, Kraków, małopol...</td>\n",
       "      <td>2666000.0</td>\n",
       "      <td>146.68</td>\n",
       "      <td>18175.62</td>\n",
       "      <td>2</td>\n",
       "      <td>2</td>\n",
       "      <td>3</td>\n",
       "      <td>2002.0</td>\n",
       "      <td>True</td>\n",
       "      <td>wtórny</td>\n",
       "      <td>pełna własność</td>\n",
       "      <td>tak</td>\n",
       "    </tr>\n",
       "    <tr>\n",
       "      <th>2539</th>\n",
       "      <td>https://krakow.nieruchomosci-online.pl/mieszka...</td>\n",
       "      <td>Mieszkanie Kraków</td>\n",
       "      <td>64108, Kraków, małopolskie</td>\n",
       "      <td>888000.0</td>\n",
       "      <td>45.68</td>\n",
       "      <td>19439.58</td>\n",
       "      <td>4</td>\n",
       "      <td>4</td>\n",
       "      <td>2</td>\n",
       "      <td>2023.0</td>\n",
       "      <td>True</td>\n",
       "      <td>wtórny</td>\n",
       "      <td>pełna własność</td>\n",
       "      <td>przynależne na terenie ogrodzonym</td>\n",
       "    </tr>\n",
       "    <tr>\n",
       "      <th>1045</th>\n",
       "      <td>https://krakow.nieruchomosci-online.pl/mieszka...</td>\n",
       "      <td>Mieszkanie, ul. Agatowa</td>\n",
       "      <td>Agatowa, Bieżanów, Kraków, małopolskie</td>\n",
       "      <td>765000.0</td>\n",
       "      <td>48.00</td>\n",
       "      <td>15937.50</td>\n",
       "      <td>3</td>\n",
       "      <td>4</td>\n",
       "      <td>3</td>\n",
       "      <td>2023.0</td>\n",
       "      <td>True</td>\n",
       "      <td>wtórny</td>\n",
       "      <td>pełna własność</td>\n",
       "      <td>przynależne na ulicy</td>\n",
       "    </tr>\n",
       "    <tr>\n",
       "      <th>...</th>\n",
       "      <td>...</td>\n",
       "      <td>...</td>\n",
       "      <td>...</td>\n",
       "      <td>...</td>\n",
       "      <td>...</td>\n",
       "      <td>...</td>\n",
       "      <td>...</td>\n",
       "      <td>...</td>\n",
       "      <td>...</td>\n",
       "      <td>...</td>\n",
       "      <td>...</td>\n",
       "      <td>...</td>\n",
       "      <td>...</td>\n",
       "      <td>...</td>\n",
       "    </tr>\n",
       "    <tr>\n",
       "      <th>2786</th>\n",
       "      <td>https://krakow.nieruchomosci-online.pl/mieszka...</td>\n",
       "      <td>Kawalerka, ul. Żywiecka</td>\n",
       "      <td>Żywiecka, Kraków, małopolskie</td>\n",
       "      <td>155000.0</td>\n",
       "      <td>13.40</td>\n",
       "      <td>11567.16</td>\n",
       "      <td>0</td>\n",
       "      <td>2</td>\n",
       "      <td>1</td>\n",
       "      <td>2024.0</td>\n",
       "      <td>False</td>\n",
       "      <td>wtórny</td>\n",
       "      <td>pełna własność</td>\n",
       "      <td>parking publiczny / na ulicy</td>\n",
       "    </tr>\n",
       "    <tr>\n",
       "      <th>3326</th>\n",
       "      <td>https://krakow.nieruchomosci-online.pl/mieszka...</td>\n",
       "      <td>Kawalerka, ul. Żywiecka</td>\n",
       "      <td>Żywiecka, Łagiewniki, Kraków, małopolskie</td>\n",
       "      <td>220000.0</td>\n",
       "      <td>18.50</td>\n",
       "      <td>11891.89</td>\n",
       "      <td>1</td>\n",
       "      <td>1</td>\n",
       "      <td>1</td>\n",
       "      <td>2023.0</td>\n",
       "      <td>False</td>\n",
       "      <td>wtórny</td>\n",
       "      <td>pełna własność</td>\n",
       "      <td>parking publiczny / na ulicy</td>\n",
       "    </tr>\n",
       "    <tr>\n",
       "      <th>7367</th>\n",
       "      <td>https://krakow.nieruchomosci-online.pl/mieszka...</td>\n",
       "      <td>Kawalerka, ul. Żółkiewskiego</td>\n",
       "      <td>Żółkiewskiego, Grzegórzki, Kraków, małopolskie</td>\n",
       "      <td>532000.0</td>\n",
       "      <td>24.40</td>\n",
       "      <td>21803.28</td>\n",
       "      <td>1</td>\n",
       "      <td>2</td>\n",
       "      <td>1</td>\n",
       "      <td>1900.0</td>\n",
       "      <td>True</td>\n",
       "      <td>wtórny</td>\n",
       "      <td>NaN</td>\n",
       "      <td>tak</td>\n",
       "    </tr>\n",
       "    <tr>\n",
       "      <th>1930</th>\n",
       "      <td>https://krakow.nieruchomosci-online.pl/mieszka...</td>\n",
       "      <td>Mieszkanie, ul. Żółkiewskiego</td>\n",
       "      <td>Żółkiewskiego, Grzegórzki, Kraków, małopolskie</td>\n",
       "      <td>1698500.0</td>\n",
       "      <td>79.00</td>\n",
       "      <td>21500.00</td>\n",
       "      <td>2</td>\n",
       "      <td>4</td>\n",
       "      <td>4</td>\n",
       "      <td>2024.0</td>\n",
       "      <td>False</td>\n",
       "      <td>pierwotny</td>\n",
       "      <td>pełna własność</td>\n",
       "      <td>parking publiczny / na ulicy</td>\n",
       "    </tr>\n",
       "    <tr>\n",
       "      <th>2117</th>\n",
       "      <td>https://krakow.nieruchomosci-online.pl/mieszka...</td>\n",
       "      <td>Mieszkanie, ul. Żółkiewskiego</td>\n",
       "      <td>Żółkiewskiego, Grzegórzki, Kraków, małopolskie</td>\n",
       "      <td>2722500.0</td>\n",
       "      <td>121.00</td>\n",
       "      <td>22500.00</td>\n",
       "      <td>2</td>\n",
       "      <td>4</td>\n",
       "      <td>4</td>\n",
       "      <td>2024.0</td>\n",
       "      <td>False</td>\n",
       "      <td>pierwotny</td>\n",
       "      <td>pełna własność</td>\n",
       "      <td>parking publiczny / na ulicy</td>\n",
       "    </tr>\n",
       "  </tbody>\n",
       "</table>\n",
       "<p>7368 rows × 14 columns</p>\n",
       "</div>"
      ]
     },
     "execution_count": 147,
     "metadata": {},
     "output_type": "execute_result"
    }
   ],
   "execution_count": 147
  },
  {
   "metadata": {
    "ExecuteTime": {
     "end_time": "2024-04-29T23:52:18.410745Z",
     "start_time": "2024-04-29T23:52:18.374724Z"
    }
   },
   "cell_type": "code",
   "source": [
    "merged_df = pd.merge(\n",
    "    df_filtered_sorted_nieruchomosci,\n",
    "    location_df_nieruchomosci[['address', 'location', 'latitude', 'longitude']],\n",
    "    on='address',\n",
    "    how='left',\n",
    "    suffixes=('', '_from_location')\n",
    ")\n",
    "if 'location_from_location' in merged_df.columns:\n",
    "    merged_df['location'] = merged_df['location_from_location'].combine_first(merged_df['location'])\n",
    "    merged_df['latitude'] = merged_df['latitude_from_location'].combine_first(merged_df['latitude'])\n",
    "    merged_df['longitude'] = merged_df['longitude_from_location'].combine_first(merged_df['longitude'])\n",
    "    merged_df.drop(['location_from_location', 'latitude_from_location', 'longitude_from_location'], axis=1, inplace=True)\n",
    "\n",
    "df_filtered_sorted_nieruchomosci.update(merged_df)"
   ],
   "outputs": [
    {
     "name": "stdout",
     "output_type": "stream",
     "text": [
      "Columns in merged_df after merge: Index(['url', 'name/title', 'address', 'price', 'area', 'price-per-area',\n",
      "       'floor/store', 'no of floors/stores in the building', 'no of rooms',\n",
      "       'year of construction', 'parking space', 'market', 'form of ownership',\n",
      "       'parking space details', 'location', 'latitude', 'longitude',\n",
      "       'location_from_location', 'latitude_from_location',\n",
      "       'longitude_from_location'],\n",
      "      dtype='object')\n",
      "Update complete. DataFrame ready for further processing or saving.\n"
     ]
    }
   ],
   "execution_count": 167
  },
  {
   "metadata": {
    "ExecuteTime": {
     "end_time": "2024-04-29T23:50:03.417635Z",
     "start_time": "2024-04-29T23:50:03.392295Z"
    }
   },
   "cell_type": "code",
   "source": [
    "unique_addresses = set(df_filtered_sorted_nieruchomosci[df_filtered_sorted_nieruchomosci['location'].isna()]['address'].unique())\n",
    "address_list = list(unique_addresses)\n",
    "\n",
    "location_df_nieruchomosci = pd.DataFrame({\n",
    "    'address': address_list,\n",
    "    'manipulated address': address_list\n",
    "})\n",
    "\n",
    "location_df_nieruchomosci.to_excel(\"temp.xlsx\", index=False)"
   ],
   "outputs": [],
   "execution_count": 164
  },
  {
   "metadata": {
    "ExecuteTime": {
     "end_time": "2024-04-29T23:52:01.902417Z",
     "start_time": "2024-04-29T23:52:01.877719Z"
    }
   },
   "cell_type": "code",
   "source": [
    "location_df_nieruchomosci=geocode_and_save(pd.read_excel('temp.xlsx'))\n",
    "location_df_nieruchomosci"
   ],
   "outputs": [
    {
     "name": "stdout",
     "output_type": "stream",
     "text": [
      "Rows needing geocoding: 0\n",
      "Data saved to geocoded_addresses.csv\n"
     ]
    },
    {
     "data": {
      "text/plain": [
       "                                             address  \\\n",
       "0  Kazimierza Siemianowicza, Płaszów, Kraków, mał...   \n",
       "1          Lichecka, Łagiewniki, Kraków, małopolskie   \n",
       "2       Gancarska, Stare Miasto, Kraków, małopolskie   \n",
       "3                Bronowice Nowe, Kraków, małopolskie   \n",
       "\n",
       "                    manipulated address  \\\n",
       "0  Lipska, Płaszów, Kraków, małopolskie   \n",
       "1         Lechicka, Kraków, małopolskie   \n",
       "2       Garncarska, Kraków, małopolskie   \n",
       "3       Odlewnicza, Kraków, małopolskie   \n",
       "\n",
       "                                            location   latitude  longitude  \n",
       "0  Lipska, Zagumnie, Płaszów, Podgórze, Kraków, w...  50.040579  19.983406  \n",
       "1  Lechicka, Łagiewniki, Łagiewniki-Borek Fałęcki...  50.024124  19.936961  \n",
       "2  Garncarska, Piasek, Stare Miasto, Kraków, woje...  50.062205  19.927725  \n",
       "3  Odlewnicza, Małe Błonia, Krowodrza, Kraków, wo...  50.070395  19.899683  "
      ],
      "text/html": [
       "<div>\n",
       "<style scoped>\n",
       "    .dataframe tbody tr th:only-of-type {\n",
       "        vertical-align: middle;\n",
       "    }\n",
       "\n",
       "    .dataframe tbody tr th {\n",
       "        vertical-align: top;\n",
       "    }\n",
       "\n",
       "    .dataframe thead th {\n",
       "        text-align: right;\n",
       "    }\n",
       "</style>\n",
       "<table border=\"1\" class=\"dataframe\">\n",
       "  <thead>\n",
       "    <tr style=\"text-align: right;\">\n",
       "      <th></th>\n",
       "      <th>address</th>\n",
       "      <th>manipulated address</th>\n",
       "      <th>location</th>\n",
       "      <th>latitude</th>\n",
       "      <th>longitude</th>\n",
       "    </tr>\n",
       "  </thead>\n",
       "  <tbody>\n",
       "    <tr>\n",
       "      <th>0</th>\n",
       "      <td>Kazimierza Siemianowicza, Płaszów, Kraków, mał...</td>\n",
       "      <td>Lipska, Płaszów, Kraków, małopolskie</td>\n",
       "      <td>Lipska, Zagumnie, Płaszów, Podgórze, Kraków, w...</td>\n",
       "      <td>50.040579</td>\n",
       "      <td>19.983406</td>\n",
       "    </tr>\n",
       "    <tr>\n",
       "      <th>1</th>\n",
       "      <td>Lichecka, Łagiewniki, Kraków, małopolskie</td>\n",
       "      <td>Lechicka, Kraków, małopolskie</td>\n",
       "      <td>Lechicka, Łagiewniki, Łagiewniki-Borek Fałęcki...</td>\n",
       "      <td>50.024124</td>\n",
       "      <td>19.936961</td>\n",
       "    </tr>\n",
       "    <tr>\n",
       "      <th>2</th>\n",
       "      <td>Gancarska, Stare Miasto, Kraków, małopolskie</td>\n",
       "      <td>Garncarska, Kraków, małopolskie</td>\n",
       "      <td>Garncarska, Piasek, Stare Miasto, Kraków, woje...</td>\n",
       "      <td>50.062205</td>\n",
       "      <td>19.927725</td>\n",
       "    </tr>\n",
       "    <tr>\n",
       "      <th>3</th>\n",
       "      <td>Bronowice Nowe, Kraków, małopolskie</td>\n",
       "      <td>Odlewnicza, Kraków, małopolskie</td>\n",
       "      <td>Odlewnicza, Małe Błonia, Krowodrza, Kraków, wo...</td>\n",
       "      <td>50.070395</td>\n",
       "      <td>19.899683</td>\n",
       "    </tr>\n",
       "  </tbody>\n",
       "</table>\n",
       "</div>"
      ]
     },
     "execution_count": 166,
     "metadata": {},
     "output_type": "execute_result"
    }
   ],
   "execution_count": 166
  },
  {
   "metadata": {
    "ExecuteTime": {
     "end_time": "2024-04-29T23:54:39.213832Z",
     "start_time": "2024-04-29T23:54:39.065097Z"
    }
   },
   "cell_type": "code",
   "source": [
    "# Jeśli ktoś nie lubi uzupełniania, może okomentować te dwie linie\n",
    "df_filtered_sorted_nieruchomosci['year of construction'] = df_filtered_sorted_nieruchomosci['year of construction'].fillna(new_mean_year)\n",
    "df_filtered_sorted_nieruchomosci['form of ownership'] = df_filtered_sorted_nieruchomosci['form of ownership'].fillna('pełna własność')\n",
    "df_filtered_sorted_nieruchomosci.to_csv('datasets/apartments_nieruchomosci.csv')\n",
    "df_filtered_sorted_nieruchomosci"
   ],
   "outputs": [
    {
     "data": {
      "text/plain": [
       "                                                    url  \\\n",
       "0     https://krakow.nieruchomosci-online.pl/mieszka...   \n",
       "1     https://krakow.nieruchomosci-online.pl/mieszka...   \n",
       "2     https://krakow.nieruchomosci-online.pl/mieszka...   \n",
       "3     https://krakow.nieruchomosci-online.pl/mieszka...   \n",
       "4     https://krakow.nieruchomosci-online.pl/mieszka...   \n",
       "...                                                 ...   \n",
       "7390  https://krakow.nieruchomosci-online.pl/mieszka...   \n",
       "7391  https://krakow.nieruchomosci-online.pl/mieszka...   \n",
       "7392  https://krakow.nieruchomosci-online.pl/mieszka...   \n",
       "7393  https://krakow.nieruchomosci-online.pl/mieszka...   \n",
       "7394  https://krakow.nieruchomosci-online.pl/mieszka...   \n",
       "\n",
       "                         name/title  \\\n",
       "0     Apartament, ul. 28 Lipca 1943   \n",
       "1     Mieszkanie, ul. 28 Lipca 1943   \n",
       "2     Apartament, ul. 28 Lipca 1943   \n",
       "3                 Mieszkanie Kraków   \n",
       "4           Mieszkanie, ul. Agatowa   \n",
       "...                             ...   \n",
       "7390   Mieszkanie, ul. Ściegiennego   \n",
       "7391   Mieszkanie, ul. Ściegiennego   \n",
       "7392   Mieszkanie, ul. Ściegiennego   \n",
       "7393                     Mieszkanie   \n",
       "7394   Mieszkanie, ul. Ściegiennego   \n",
       "\n",
       "                                                address      price    area  \\\n",
       "0     28 Lipca 1943, Wola Justowska, Kraków, małopol...  2290000.0  155.16   \n",
       "1     28 Lipca 1943, Wola Justowska, Kraków, małopol...  2399000.0  139.00   \n",
       "2     28 Lipca 1943, Wola Justowska, Kraków, małopol...  2666000.0  146.68   \n",
       "3                            64108, Kraków, małopolskie   888000.0   45.68   \n",
       "4                Agatowa, Bieżanów, Kraków, małopolskie   765000.0   48.00   \n",
       "...                                                 ...        ...     ...   \n",
       "7390  Ściegiennego, Bieżanów-Prokocim, Kraków, małop...  1080000.0   72.00   \n",
       "7391                  Ściegiennego, Kraków, małopolskie   629999.0   55.50   \n",
       "7392        Ściegiennego, Prokocim, Kraków, małopolskie   539000.0   44.00   \n",
       "7393        Ściegiennego, Prokocim, Kraków, małopolskie   630000.0   55.50   \n",
       "7394        Ściegiennego, Prokocim, Kraków, małopolskie   720000.0   59.00   \n",
       "\n",
       "      price-per-area  floor/store  no of floors/stores in the building  \\\n",
       "0           14758.96            0                                    2   \n",
       "1           17258.99            1                                    2   \n",
       "2           18175.62            2                                    2   \n",
       "3           19439.58            4                                    4   \n",
       "4           15937.50            3                                    4   \n",
       "...              ...          ...                                  ...   \n",
       "7390        15000.00            1                                   10   \n",
       "7391        11351.00            1                                   10   \n",
       "7392        12250.00            4                                   10   \n",
       "7393        11351.35            1                                   10   \n",
       "7394        12203.39            6                                   10   \n",
       "\n",
       "      no of rooms  year of construction  parking space  market  \\\n",
       "0               5                2009.0           True  wtórny   \n",
       "1               3                2022.0          False  wtórny   \n",
       "2               3                2002.0           True  wtórny   \n",
       "3               2                2023.0           True  wtórny   \n",
       "4               3                2023.0           True  wtórny   \n",
       "...           ...                   ...            ...     ...   \n",
       "7390            6                1980.0           True  wtórny   \n",
       "7391            3                1977.0          False  wtórny   \n",
       "7392            2                1977.0          False  wtórny   \n",
       "7393            3                1980.0          False  wtórny   \n",
       "7394            3                1977.0          False  wtórny   \n",
       "\n",
       "                     form of ownership              parking space details  \\\n",
       "0                       pełna własność                 garaż wolnostojący   \n",
       "1                       pełna własność       parking publiczny / na ulicy   \n",
       "2                       pełna własność                                tak   \n",
       "3                       pełna własność  przynależne na terenie ogrodzonym   \n",
       "4                       pełna własność               przynależne na ulicy   \n",
       "...                                ...                                ...   \n",
       "7390                    pełna własność                                tak   \n",
       "7391  spółdzielcze wł. prawo do lokalu               możliwość wykupienia   \n",
       "7392  spółdzielcze wł. prawo do lokalu       parking publiczny / na ulicy   \n",
       "7393  spółdzielcze wł. prawo do lokalu       parking publiczny / na ulicy   \n",
       "7394                    pełna własność       parking publiczny / na ulicy   \n",
       "\n",
       "                                               location   latitude  longitude  \n",
       "0     28 Lipca 1943, Wola Justowska, Zwierzyniec, Kr...  50.062710  19.872002  \n",
       "1     28 Lipca 1943, Wola Justowska, Zwierzyniec, Kr...  50.062710  19.872002  \n",
       "2     28 Lipca 1943, Wola Justowska, Zwierzyniec, Kr...  50.062710  19.872002  \n",
       "3               Kraków, województwo małopolskie, Polska  50.061947  19.936856  \n",
       "4     Agatowa, Osiedle Kolejowe, Złocień, Bieżanów-P...  50.022046  20.046131  \n",
       "...                                                 ...        ...        ...  \n",
       "7390  Księdza Piotra Ściegiennego, Osiedle Medyków, ...  50.015839  19.997863  \n",
       "7391  Księdza Piotra Ściegiennego, Osiedle Medyków, ...  50.015839  19.997863  \n",
       "7392  Księdza Piotra Ściegiennego, Osiedle Medyków, ...  50.015839  19.997863  \n",
       "7393  Księdza Piotra Ściegiennego, Osiedle Medyków, ...  50.015839  19.997863  \n",
       "7394  Księdza Piotra Ściegiennego, Osiedle Medyków, ...  50.015839  19.997863  \n",
       "\n",
       "[7395 rows x 17 columns]"
      ],
      "text/html": [
       "<div>\n",
       "<style scoped>\n",
       "    .dataframe tbody tr th:only-of-type {\n",
       "        vertical-align: middle;\n",
       "    }\n",
       "\n",
       "    .dataframe tbody tr th {\n",
       "        vertical-align: top;\n",
       "    }\n",
       "\n",
       "    .dataframe thead th {\n",
       "        text-align: right;\n",
       "    }\n",
       "</style>\n",
       "<table border=\"1\" class=\"dataframe\">\n",
       "  <thead>\n",
       "    <tr style=\"text-align: right;\">\n",
       "      <th></th>\n",
       "      <th>url</th>\n",
       "      <th>name/title</th>\n",
       "      <th>address</th>\n",
       "      <th>price</th>\n",
       "      <th>area</th>\n",
       "      <th>price-per-area</th>\n",
       "      <th>floor/store</th>\n",
       "      <th>no of floors/stores in the building</th>\n",
       "      <th>no of rooms</th>\n",
       "      <th>year of construction</th>\n",
       "      <th>parking space</th>\n",
       "      <th>market</th>\n",
       "      <th>form of ownership</th>\n",
       "      <th>parking space details</th>\n",
       "      <th>location</th>\n",
       "      <th>latitude</th>\n",
       "      <th>longitude</th>\n",
       "    </tr>\n",
       "  </thead>\n",
       "  <tbody>\n",
       "    <tr>\n",
       "      <th>0</th>\n",
       "      <td>https://krakow.nieruchomosci-online.pl/mieszka...</td>\n",
       "      <td>Apartament, ul. 28 Lipca 1943</td>\n",
       "      <td>28 Lipca 1943, Wola Justowska, Kraków, małopol...</td>\n",
       "      <td>2290000.0</td>\n",
       "      <td>155.16</td>\n",
       "      <td>14758.96</td>\n",
       "      <td>0</td>\n",
       "      <td>2</td>\n",
       "      <td>5</td>\n",
       "      <td>2009.0</td>\n",
       "      <td>True</td>\n",
       "      <td>wtórny</td>\n",
       "      <td>pełna własność</td>\n",
       "      <td>garaż wolnostojący</td>\n",
       "      <td>28 Lipca 1943, Wola Justowska, Zwierzyniec, Kr...</td>\n",
       "      <td>50.062710</td>\n",
       "      <td>19.872002</td>\n",
       "    </tr>\n",
       "    <tr>\n",
       "      <th>1</th>\n",
       "      <td>https://krakow.nieruchomosci-online.pl/mieszka...</td>\n",
       "      <td>Mieszkanie, ul. 28 Lipca 1943</td>\n",
       "      <td>28 Lipca 1943, Wola Justowska, Kraków, małopol...</td>\n",
       "      <td>2399000.0</td>\n",
       "      <td>139.00</td>\n",
       "      <td>17258.99</td>\n",
       "      <td>1</td>\n",
       "      <td>2</td>\n",
       "      <td>3</td>\n",
       "      <td>2022.0</td>\n",
       "      <td>False</td>\n",
       "      <td>wtórny</td>\n",
       "      <td>pełna własność</td>\n",
       "      <td>parking publiczny / na ulicy</td>\n",
       "      <td>28 Lipca 1943, Wola Justowska, Zwierzyniec, Kr...</td>\n",
       "      <td>50.062710</td>\n",
       "      <td>19.872002</td>\n",
       "    </tr>\n",
       "    <tr>\n",
       "      <th>2</th>\n",
       "      <td>https://krakow.nieruchomosci-online.pl/mieszka...</td>\n",
       "      <td>Apartament, ul. 28 Lipca 1943</td>\n",
       "      <td>28 Lipca 1943, Wola Justowska, Kraków, małopol...</td>\n",
       "      <td>2666000.0</td>\n",
       "      <td>146.68</td>\n",
       "      <td>18175.62</td>\n",
       "      <td>2</td>\n",
       "      <td>2</td>\n",
       "      <td>3</td>\n",
       "      <td>2002.0</td>\n",
       "      <td>True</td>\n",
       "      <td>wtórny</td>\n",
       "      <td>pełna własność</td>\n",
       "      <td>tak</td>\n",
       "      <td>28 Lipca 1943, Wola Justowska, Zwierzyniec, Kr...</td>\n",
       "      <td>50.062710</td>\n",
       "      <td>19.872002</td>\n",
       "    </tr>\n",
       "    <tr>\n",
       "      <th>3</th>\n",
       "      <td>https://krakow.nieruchomosci-online.pl/mieszka...</td>\n",
       "      <td>Mieszkanie Kraków</td>\n",
       "      <td>64108, Kraków, małopolskie</td>\n",
       "      <td>888000.0</td>\n",
       "      <td>45.68</td>\n",
       "      <td>19439.58</td>\n",
       "      <td>4</td>\n",
       "      <td>4</td>\n",
       "      <td>2</td>\n",
       "      <td>2023.0</td>\n",
       "      <td>True</td>\n",
       "      <td>wtórny</td>\n",
       "      <td>pełna własność</td>\n",
       "      <td>przynależne na terenie ogrodzonym</td>\n",
       "      <td>Kraków, województwo małopolskie, Polska</td>\n",
       "      <td>50.061947</td>\n",
       "      <td>19.936856</td>\n",
       "    </tr>\n",
       "    <tr>\n",
       "      <th>4</th>\n",
       "      <td>https://krakow.nieruchomosci-online.pl/mieszka...</td>\n",
       "      <td>Mieszkanie, ul. Agatowa</td>\n",
       "      <td>Agatowa, Bieżanów, Kraków, małopolskie</td>\n",
       "      <td>765000.0</td>\n",
       "      <td>48.00</td>\n",
       "      <td>15937.50</td>\n",
       "      <td>3</td>\n",
       "      <td>4</td>\n",
       "      <td>3</td>\n",
       "      <td>2023.0</td>\n",
       "      <td>True</td>\n",
       "      <td>wtórny</td>\n",
       "      <td>pełna własność</td>\n",
       "      <td>przynależne na ulicy</td>\n",
       "      <td>Agatowa, Osiedle Kolejowe, Złocień, Bieżanów-P...</td>\n",
       "      <td>50.022046</td>\n",
       "      <td>20.046131</td>\n",
       "    </tr>\n",
       "    <tr>\n",
       "      <th>...</th>\n",
       "      <td>...</td>\n",
       "      <td>...</td>\n",
       "      <td>...</td>\n",
       "      <td>...</td>\n",
       "      <td>...</td>\n",
       "      <td>...</td>\n",
       "      <td>...</td>\n",
       "      <td>...</td>\n",
       "      <td>...</td>\n",
       "      <td>...</td>\n",
       "      <td>...</td>\n",
       "      <td>...</td>\n",
       "      <td>...</td>\n",
       "      <td>...</td>\n",
       "      <td>...</td>\n",
       "      <td>...</td>\n",
       "      <td>...</td>\n",
       "    </tr>\n",
       "    <tr>\n",
       "      <th>7390</th>\n",
       "      <td>https://krakow.nieruchomosci-online.pl/mieszka...</td>\n",
       "      <td>Mieszkanie, ul. Ściegiennego</td>\n",
       "      <td>Ściegiennego, Bieżanów-Prokocim, Kraków, małop...</td>\n",
       "      <td>1080000.0</td>\n",
       "      <td>72.00</td>\n",
       "      <td>15000.00</td>\n",
       "      <td>1</td>\n",
       "      <td>10</td>\n",
       "      <td>6</td>\n",
       "      <td>1980.0</td>\n",
       "      <td>True</td>\n",
       "      <td>wtórny</td>\n",
       "      <td>pełna własność</td>\n",
       "      <td>tak</td>\n",
       "      <td>Księdza Piotra Ściegiennego, Osiedle Medyków, ...</td>\n",
       "      <td>50.015839</td>\n",
       "      <td>19.997863</td>\n",
       "    </tr>\n",
       "    <tr>\n",
       "      <th>7391</th>\n",
       "      <td>https://krakow.nieruchomosci-online.pl/mieszka...</td>\n",
       "      <td>Mieszkanie, ul. Ściegiennego</td>\n",
       "      <td>Ściegiennego, Kraków, małopolskie</td>\n",
       "      <td>629999.0</td>\n",
       "      <td>55.50</td>\n",
       "      <td>11351.00</td>\n",
       "      <td>1</td>\n",
       "      <td>10</td>\n",
       "      <td>3</td>\n",
       "      <td>1977.0</td>\n",
       "      <td>False</td>\n",
       "      <td>wtórny</td>\n",
       "      <td>spółdzielcze wł. prawo do lokalu</td>\n",
       "      <td>możliwość wykupienia</td>\n",
       "      <td>Księdza Piotra Ściegiennego, Osiedle Medyków, ...</td>\n",
       "      <td>50.015839</td>\n",
       "      <td>19.997863</td>\n",
       "    </tr>\n",
       "    <tr>\n",
       "      <th>7392</th>\n",
       "      <td>https://krakow.nieruchomosci-online.pl/mieszka...</td>\n",
       "      <td>Mieszkanie, ul. Ściegiennego</td>\n",
       "      <td>Ściegiennego, Prokocim, Kraków, małopolskie</td>\n",
       "      <td>539000.0</td>\n",
       "      <td>44.00</td>\n",
       "      <td>12250.00</td>\n",
       "      <td>4</td>\n",
       "      <td>10</td>\n",
       "      <td>2</td>\n",
       "      <td>1977.0</td>\n",
       "      <td>False</td>\n",
       "      <td>wtórny</td>\n",
       "      <td>spółdzielcze wł. prawo do lokalu</td>\n",
       "      <td>parking publiczny / na ulicy</td>\n",
       "      <td>Księdza Piotra Ściegiennego, Osiedle Medyków, ...</td>\n",
       "      <td>50.015839</td>\n",
       "      <td>19.997863</td>\n",
       "    </tr>\n",
       "    <tr>\n",
       "      <th>7393</th>\n",
       "      <td>https://krakow.nieruchomosci-online.pl/mieszka...</td>\n",
       "      <td>Mieszkanie</td>\n",
       "      <td>Ściegiennego, Prokocim, Kraków, małopolskie</td>\n",
       "      <td>630000.0</td>\n",
       "      <td>55.50</td>\n",
       "      <td>11351.35</td>\n",
       "      <td>1</td>\n",
       "      <td>10</td>\n",
       "      <td>3</td>\n",
       "      <td>1980.0</td>\n",
       "      <td>False</td>\n",
       "      <td>wtórny</td>\n",
       "      <td>spółdzielcze wł. prawo do lokalu</td>\n",
       "      <td>parking publiczny / na ulicy</td>\n",
       "      <td>Księdza Piotra Ściegiennego, Osiedle Medyków, ...</td>\n",
       "      <td>50.015839</td>\n",
       "      <td>19.997863</td>\n",
       "    </tr>\n",
       "    <tr>\n",
       "      <th>7394</th>\n",
       "      <td>https://krakow.nieruchomosci-online.pl/mieszka...</td>\n",
       "      <td>Mieszkanie, ul. Ściegiennego</td>\n",
       "      <td>Ściegiennego, Prokocim, Kraków, małopolskie</td>\n",
       "      <td>720000.0</td>\n",
       "      <td>59.00</td>\n",
       "      <td>12203.39</td>\n",
       "      <td>6</td>\n",
       "      <td>10</td>\n",
       "      <td>3</td>\n",
       "      <td>1977.0</td>\n",
       "      <td>False</td>\n",
       "      <td>wtórny</td>\n",
       "      <td>pełna własność</td>\n",
       "      <td>parking publiczny / na ulicy</td>\n",
       "      <td>Księdza Piotra Ściegiennego, Osiedle Medyków, ...</td>\n",
       "      <td>50.015839</td>\n",
       "      <td>19.997863</td>\n",
       "    </tr>\n",
       "  </tbody>\n",
       "</table>\n",
       "<p>7395 rows × 17 columns</p>\n",
       "</div>"
      ]
     },
     "execution_count": 170,
     "metadata": {},
     "output_type": "execute_result"
    }
   ],
   "execution_count": 170
  },
  {
   "metadata": {
    "ExecuteTime": {
     "end_time": "2024-04-29T23:55:02.352524Z",
     "start_time": "2024-04-29T23:55:02.341611Z"
    }
   },
   "cell_type": "code",
   "source": "df_filtered_sorted_nieruchomosci.isnull().sum()",
   "outputs": [
    {
     "data": {
      "text/plain": [
       "url                                    0\n",
       "name/title                             0\n",
       "address                                0\n",
       "price                                  0\n",
       "area                                   0\n",
       "price-per-area                         0\n",
       "floor/store                            0\n",
       "no of floors/stores in the building    0\n",
       "no of rooms                            0\n",
       "year of construction                   0\n",
       "parking space                          0\n",
       "market                                 0\n",
       "form of ownership                      0\n",
       "parking space details                  0\n",
       "location                               0\n",
       "latitude                               0\n",
       "longitude                              0\n",
       "dtype: int64"
      ]
     },
     "execution_count": 171,
     "metadata": {},
     "output_type": "execute_result"
    }
   ],
   "execution_count": 171
  },
  {
   "metadata": {},
   "cell_type": "markdown",
   "source": "## Usuwanie duplikatów, geolokacja, uzupełnienie NaNów i eksport zbioru otodom"
  },
  {
   "metadata": {
    "ExecuteTime": {
     "end_time": "2024-04-30T00:24:12.496570Z",
     "start_time": "2024-04-30T00:24:07.915568Z"
    }
   },
   "cell_type": "code",
   "source": [
    "df_filtered_sorted_otodom = remove_duplicates(df_otodom)\n",
    "df_filtered_sorted_otodom.drop('is_duplicate', axis=1, inplace=True)\n",
    "df_filtered_sorted_otodom"
   ],
   "outputs": [
    {
     "name": "stderr",
     "output_type": "stream",
     "text": [
      "C:\\Users\\Piotr\\AppData\\Local\\Temp\\ipykernel_11132\\3201072169.py:26: DeprecationWarning: DataFrameGroupBy.apply operated on the grouping columns. This behavior is deprecated, and in a future version of pandas the grouping columns will be excluded from the operation. Either pass `include_groups=False` to exclude the groupings or explicitly select the grouping columns after groupby to silence this warning.\n",
      "  df['is_duplicate'] = df.groupby(group_cols, group_keys=False).apply(check_similarity)\n",
      "C:\\Users\\Piotr\\AppData\\Local\\Temp\\ipykernel_11132\\3201072169.py:31: DeprecationWarning: DataFrameGroupBy.apply operated on the grouping columns. This behavior is deprecated, and in a future version of pandas the grouping columns will be excluded from the operation. Either pass `include_groups=False` to exclude the groupings or explicitly select the grouping columns after groupby to silence this warning.\n",
      "  most_complete_duplicates = duplicates.groupby(group_cols).apply(fill_from_group).reset_index(drop=True)\n"
     ]
    },
    {
     "data": {
      "text/plain": [
       "                                                    url  \\\n",
       "4476  https://www.otodom.pl/pl/oferta/nowe-mieszkani...   \n",
       "1137  https://www.otodom.pl/pl/oferta/balkon-3-pokoj...   \n",
       "7991  https://www.otodom.pl/pl/oferta/zlocien-2-poko...   \n",
       "2368  https://www.otodom.pl/pl/oferta/komfortowe-2-p...   \n",
       "3959  https://www.otodom.pl/pl/oferta/aleja-29-listo...   \n",
       "...                                                 ...   \n",
       "99    https://www.otodom.pl/pl/oferta/3-pokoje-na-za...   \n",
       "7122  https://www.otodom.pl/pl/oferta/pradnik-bialy-...   \n",
       "7232  https://www.otodom.pl/pl/oferta/mieszkanie-73-...   \n",
       "384   https://www.otodom.pl/pl/oferta/widokowe-m3-z-...   \n",
       "2754  https://www.otodom.pl/pl/oferta/1m-wyposazone-...   \n",
       "\n",
       "                                             name/title  \\\n",
       "4476                 Nowe mieszkania na Górce Narodowej   \n",
       "1137                        balkon + 3 pokoje + parking   \n",
       "7991                          Złocień, 2 pokoje, balkon   \n",
       "2368              komfortowe 2-pokojowe mieszkanie 42m2   \n",
       "3959                         Aleja 29 Listopada obok UR   \n",
       "...                                                 ...   \n",
       "99                              3 pokoje na Żabińcu !!!   \n",
       "7122                           Prądnik Biały - Ul. Reja   \n",
       "7232                          Mieszkanie, 73 m², Kraków   \n",
       "384   Widokowe M3 z klimatyzacją i parkingiem, Żabiniec   \n",
       "2754   1M! Wyposażone|Ogródek 25m2|Inwestycja - ROI 10%   \n",
       "\n",
       "                                                address      price  area  \\\n",
       "4476  29 listopada - okolice, Górka Narodowa, Prądni...   778689.0  61.3   \n",
       "1137  Adama Vetulaniego, Prądnik Biały, Prądnik Biał...   970000.0  55.0   \n",
       "7991  Agatowa, Domagały,, Złocień, Bieżanów-Prokocim...   625000.0  36.8   \n",
       "2368  Albertyńskie, Bieńczyce, Bieńczyce, Kraków, ma...   559000.0  42.0   \n",
       "3959  Aleja 29 Listopada, Górka Narodowa, Prądnik Bi...   695000.0  48.1   \n",
       "...                                                 ...        ...   ...   \n",
       "99         Żabiniec, Prądnik Biały, Kraków, małopolskie   850000.0  77.0   \n",
       "7122       Żabiniec, Prądnik Biały, Kraków, małopolskie  1100000.0  71.0   \n",
       "7232       Żabiniec, Prądnik Biały, Kraków, małopolskie  1100000.0  73.0   \n",
       "384        Żabiniec, Prądnik Biały, Kraków, małopolskie  1179000.0  71.5   \n",
       "2754  żabniec, Żabiniec, Prądnik Biały, Kraków, mało...   639000.0  26.0   \n",
       "\n",
       "      price-per-area  floor/store  no of floors/stores in the building  \\\n",
       "4476         12703.0            1                                    5   \n",
       "1137         17636.0            4                                    7   \n",
       "7991         16984.0            4                                    4   \n",
       "2368         13310.0            2                                    4   \n",
       "3959         14449.0            3                                    3   \n",
       "...              ...          ...                                  ...   \n",
       "99           11039.0            4                                    6   \n",
       "7122         15493.0            0                                    6   \n",
       "7232         15068.0            0                                    6   \n",
       "384          16490.0            5                                    8   \n",
       "2754         24577.0            0                                    4   \n",
       "\n",
       "      no of rooms  year of construction  ...     market form of ownership  \\\n",
       "4476            2                2023.0  ...  pierwotny    pełna własność   \n",
       "1137            3                2023.0  ...     wtórny    pełna własność   \n",
       "7991            2                2019.0  ...     wtórny    pełna własność   \n",
       "2368            2                1964.0  ...     wtórny               NaN   \n",
       "3959            2                   NaN  ...     wtórny    pełna własność   \n",
       "...           ...                   ...  ...        ...               ...   \n",
       "99              3                2002.0  ...     wtórny    pełna własność   \n",
       "7122            3                2005.0  ...     wtórny               NaN   \n",
       "7232            3                2005.0  ...     wtórny    pełna własność   \n",
       "384             3                2001.0  ...     wtórny    pełna własność   \n",
       "2754            1                2017.0  ...     wtórny    pełna własność   \n",
       "\n",
       "            condition   rent   heating      advertiser type elevator  \\\n",
       "4476              NaN    NaN  miejskie  biuro nieruchomości     True   \n",
       "1137              NaN  450.0  miejskie  biuro nieruchomości     True   \n",
       "7991  do zamieszkania  425.0  miejskie  biuro nieruchomości     True   \n",
       "2368              NaN  500.0  miejskie  biuro nieruchomości    False   \n",
       "3959  do zamieszkania    NaN    gazowe  biuro nieruchomości    False   \n",
       "...               ...    ...       ...                  ...      ...   \n",
       "99                NaN  800.0  miejskie  biuro nieruchomości     True   \n",
       "7122  do zamieszkania    NaN  miejskie  biuro nieruchomości     True   \n",
       "7232              NaN  700.0  miejskie  biuro nieruchomości     True   \n",
       "384   do zamieszkania  940.0  miejskie  biuro nieruchomości     True   \n",
       "2754  do zamieszkania  300.0  miejskie  biuro nieruchomości    False   \n",
       "\n",
       "      outdoor area    building type building material  \n",
       "4476        balkon  brak informacji   brak informacji  \n",
       "1137        balkon             blok   brak informacji  \n",
       "7991        balkon             blok   brak informacji  \n",
       "2368        balkon             blok   brak informacji  \n",
       "3959        balkon             blok   brak informacji  \n",
       "...            ...              ...               ...  \n",
       "99          balkon             blok   brak informacji  \n",
       "7122        balkon             blok   brak informacji  \n",
       "7232        balkon             blok   brak informacji  \n",
       "384         balkon  apartamentowiec   brak informacji  \n",
       "2754       ogródek             blok   brak informacji  \n",
       "\n",
       "[8810 rows x 21 columns]"
      ],
      "text/html": [
       "<div>\n",
       "<style scoped>\n",
       "    .dataframe tbody tr th:only-of-type {\n",
       "        vertical-align: middle;\n",
       "    }\n",
       "\n",
       "    .dataframe tbody tr th {\n",
       "        vertical-align: top;\n",
       "    }\n",
       "\n",
       "    .dataframe thead th {\n",
       "        text-align: right;\n",
       "    }\n",
       "</style>\n",
       "<table border=\"1\" class=\"dataframe\">\n",
       "  <thead>\n",
       "    <tr style=\"text-align: right;\">\n",
       "      <th></th>\n",
       "      <th>url</th>\n",
       "      <th>name/title</th>\n",
       "      <th>address</th>\n",
       "      <th>price</th>\n",
       "      <th>area</th>\n",
       "      <th>price-per-area</th>\n",
       "      <th>floor/store</th>\n",
       "      <th>no of floors/stores in the building</th>\n",
       "      <th>no of rooms</th>\n",
       "      <th>year of construction</th>\n",
       "      <th>...</th>\n",
       "      <th>market</th>\n",
       "      <th>form of ownership</th>\n",
       "      <th>condition</th>\n",
       "      <th>rent</th>\n",
       "      <th>heating</th>\n",
       "      <th>advertiser type</th>\n",
       "      <th>elevator</th>\n",
       "      <th>outdoor area</th>\n",
       "      <th>building type</th>\n",
       "      <th>building material</th>\n",
       "    </tr>\n",
       "  </thead>\n",
       "  <tbody>\n",
       "    <tr>\n",
       "      <th>4476</th>\n",
       "      <td>https://www.otodom.pl/pl/oferta/nowe-mieszkani...</td>\n",
       "      <td>Nowe mieszkania na Górce Narodowej</td>\n",
       "      <td>29 listopada - okolice, Górka Narodowa, Prądni...</td>\n",
       "      <td>778689.0</td>\n",
       "      <td>61.3</td>\n",
       "      <td>12703.0</td>\n",
       "      <td>1</td>\n",
       "      <td>5</td>\n",
       "      <td>2</td>\n",
       "      <td>2023.0</td>\n",
       "      <td>...</td>\n",
       "      <td>pierwotny</td>\n",
       "      <td>pełna własność</td>\n",
       "      <td>NaN</td>\n",
       "      <td>NaN</td>\n",
       "      <td>miejskie</td>\n",
       "      <td>biuro nieruchomości</td>\n",
       "      <td>True</td>\n",
       "      <td>balkon</td>\n",
       "      <td>brak informacji</td>\n",
       "      <td>brak informacji</td>\n",
       "    </tr>\n",
       "    <tr>\n",
       "      <th>1137</th>\n",
       "      <td>https://www.otodom.pl/pl/oferta/balkon-3-pokoj...</td>\n",
       "      <td>balkon + 3 pokoje + parking</td>\n",
       "      <td>Adama Vetulaniego, Prądnik Biały, Prądnik Biał...</td>\n",
       "      <td>970000.0</td>\n",
       "      <td>55.0</td>\n",
       "      <td>17636.0</td>\n",
       "      <td>4</td>\n",
       "      <td>7</td>\n",
       "      <td>3</td>\n",
       "      <td>2023.0</td>\n",
       "      <td>...</td>\n",
       "      <td>wtórny</td>\n",
       "      <td>pełna własność</td>\n",
       "      <td>NaN</td>\n",
       "      <td>450.0</td>\n",
       "      <td>miejskie</td>\n",
       "      <td>biuro nieruchomości</td>\n",
       "      <td>True</td>\n",
       "      <td>balkon</td>\n",
       "      <td>blok</td>\n",
       "      <td>brak informacji</td>\n",
       "    </tr>\n",
       "    <tr>\n",
       "      <th>7991</th>\n",
       "      <td>https://www.otodom.pl/pl/oferta/zlocien-2-poko...</td>\n",
       "      <td>Złocień, 2 pokoje, balkon</td>\n",
       "      <td>Agatowa, Domagały,, Złocień, Bieżanów-Prokocim...</td>\n",
       "      <td>625000.0</td>\n",
       "      <td>36.8</td>\n",
       "      <td>16984.0</td>\n",
       "      <td>4</td>\n",
       "      <td>4</td>\n",
       "      <td>2</td>\n",
       "      <td>2019.0</td>\n",
       "      <td>...</td>\n",
       "      <td>wtórny</td>\n",
       "      <td>pełna własność</td>\n",
       "      <td>do zamieszkania</td>\n",
       "      <td>425.0</td>\n",
       "      <td>miejskie</td>\n",
       "      <td>biuro nieruchomości</td>\n",
       "      <td>True</td>\n",
       "      <td>balkon</td>\n",
       "      <td>blok</td>\n",
       "      <td>brak informacji</td>\n",
       "    </tr>\n",
       "    <tr>\n",
       "      <th>2368</th>\n",
       "      <td>https://www.otodom.pl/pl/oferta/komfortowe-2-p...</td>\n",
       "      <td>komfortowe 2-pokojowe mieszkanie 42m2</td>\n",
       "      <td>Albertyńskie, Bieńczyce, Bieńczyce, Kraków, ma...</td>\n",
       "      <td>559000.0</td>\n",
       "      <td>42.0</td>\n",
       "      <td>13310.0</td>\n",
       "      <td>2</td>\n",
       "      <td>4</td>\n",
       "      <td>2</td>\n",
       "      <td>1964.0</td>\n",
       "      <td>...</td>\n",
       "      <td>wtórny</td>\n",
       "      <td>NaN</td>\n",
       "      <td>NaN</td>\n",
       "      <td>500.0</td>\n",
       "      <td>miejskie</td>\n",
       "      <td>biuro nieruchomości</td>\n",
       "      <td>False</td>\n",
       "      <td>balkon</td>\n",
       "      <td>blok</td>\n",
       "      <td>brak informacji</td>\n",
       "    </tr>\n",
       "    <tr>\n",
       "      <th>3959</th>\n",
       "      <td>https://www.otodom.pl/pl/oferta/aleja-29-listo...</td>\n",
       "      <td>Aleja 29 Listopada obok UR</td>\n",
       "      <td>Aleja 29 Listopada, Górka Narodowa, Prądnik Bi...</td>\n",
       "      <td>695000.0</td>\n",
       "      <td>48.1</td>\n",
       "      <td>14449.0</td>\n",
       "      <td>3</td>\n",
       "      <td>3</td>\n",
       "      <td>2</td>\n",
       "      <td>NaN</td>\n",
       "      <td>...</td>\n",
       "      <td>wtórny</td>\n",
       "      <td>pełna własność</td>\n",
       "      <td>do zamieszkania</td>\n",
       "      <td>NaN</td>\n",
       "      <td>gazowe</td>\n",
       "      <td>biuro nieruchomości</td>\n",
       "      <td>False</td>\n",
       "      <td>balkon</td>\n",
       "      <td>blok</td>\n",
       "      <td>brak informacji</td>\n",
       "    </tr>\n",
       "    <tr>\n",
       "      <th>...</th>\n",
       "      <td>...</td>\n",
       "      <td>...</td>\n",
       "      <td>...</td>\n",
       "      <td>...</td>\n",
       "      <td>...</td>\n",
       "      <td>...</td>\n",
       "      <td>...</td>\n",
       "      <td>...</td>\n",
       "      <td>...</td>\n",
       "      <td>...</td>\n",
       "      <td>...</td>\n",
       "      <td>...</td>\n",
       "      <td>...</td>\n",
       "      <td>...</td>\n",
       "      <td>...</td>\n",
       "      <td>...</td>\n",
       "      <td>...</td>\n",
       "      <td>...</td>\n",
       "      <td>...</td>\n",
       "      <td>...</td>\n",
       "      <td>...</td>\n",
       "    </tr>\n",
       "    <tr>\n",
       "      <th>99</th>\n",
       "      <td>https://www.otodom.pl/pl/oferta/3-pokoje-na-za...</td>\n",
       "      <td>3 pokoje na Żabińcu !!!</td>\n",
       "      <td>Żabiniec, Prądnik Biały, Kraków, małopolskie</td>\n",
       "      <td>850000.0</td>\n",
       "      <td>77.0</td>\n",
       "      <td>11039.0</td>\n",
       "      <td>4</td>\n",
       "      <td>6</td>\n",
       "      <td>3</td>\n",
       "      <td>2002.0</td>\n",
       "      <td>...</td>\n",
       "      <td>wtórny</td>\n",
       "      <td>pełna własność</td>\n",
       "      <td>NaN</td>\n",
       "      <td>800.0</td>\n",
       "      <td>miejskie</td>\n",
       "      <td>biuro nieruchomości</td>\n",
       "      <td>True</td>\n",
       "      <td>balkon</td>\n",
       "      <td>blok</td>\n",
       "      <td>brak informacji</td>\n",
       "    </tr>\n",
       "    <tr>\n",
       "      <th>7122</th>\n",
       "      <td>https://www.otodom.pl/pl/oferta/pradnik-bialy-...</td>\n",
       "      <td>Prądnik Biały - Ul. Reja</td>\n",
       "      <td>Żabiniec, Prądnik Biały, Kraków, małopolskie</td>\n",
       "      <td>1100000.0</td>\n",
       "      <td>71.0</td>\n",
       "      <td>15493.0</td>\n",
       "      <td>0</td>\n",
       "      <td>6</td>\n",
       "      <td>3</td>\n",
       "      <td>2005.0</td>\n",
       "      <td>...</td>\n",
       "      <td>wtórny</td>\n",
       "      <td>NaN</td>\n",
       "      <td>do zamieszkania</td>\n",
       "      <td>NaN</td>\n",
       "      <td>miejskie</td>\n",
       "      <td>biuro nieruchomości</td>\n",
       "      <td>True</td>\n",
       "      <td>balkon</td>\n",
       "      <td>blok</td>\n",
       "      <td>brak informacji</td>\n",
       "    </tr>\n",
       "    <tr>\n",
       "      <th>7232</th>\n",
       "      <td>https://www.otodom.pl/pl/oferta/mieszkanie-73-...</td>\n",
       "      <td>Mieszkanie, 73 m², Kraków</td>\n",
       "      <td>Żabiniec, Prądnik Biały, Kraków, małopolskie</td>\n",
       "      <td>1100000.0</td>\n",
       "      <td>73.0</td>\n",
       "      <td>15068.0</td>\n",
       "      <td>0</td>\n",
       "      <td>6</td>\n",
       "      <td>3</td>\n",
       "      <td>2005.0</td>\n",
       "      <td>...</td>\n",
       "      <td>wtórny</td>\n",
       "      <td>pełna własność</td>\n",
       "      <td>NaN</td>\n",
       "      <td>700.0</td>\n",
       "      <td>miejskie</td>\n",
       "      <td>biuro nieruchomości</td>\n",
       "      <td>True</td>\n",
       "      <td>balkon</td>\n",
       "      <td>blok</td>\n",
       "      <td>brak informacji</td>\n",
       "    </tr>\n",
       "    <tr>\n",
       "      <th>384</th>\n",
       "      <td>https://www.otodom.pl/pl/oferta/widokowe-m3-z-...</td>\n",
       "      <td>Widokowe M3 z klimatyzacją i parkingiem, Żabiniec</td>\n",
       "      <td>Żabiniec, Prądnik Biały, Kraków, małopolskie</td>\n",
       "      <td>1179000.0</td>\n",
       "      <td>71.5</td>\n",
       "      <td>16490.0</td>\n",
       "      <td>5</td>\n",
       "      <td>8</td>\n",
       "      <td>3</td>\n",
       "      <td>2001.0</td>\n",
       "      <td>...</td>\n",
       "      <td>wtórny</td>\n",
       "      <td>pełna własność</td>\n",
       "      <td>do zamieszkania</td>\n",
       "      <td>940.0</td>\n",
       "      <td>miejskie</td>\n",
       "      <td>biuro nieruchomości</td>\n",
       "      <td>True</td>\n",
       "      <td>balkon</td>\n",
       "      <td>apartamentowiec</td>\n",
       "      <td>brak informacji</td>\n",
       "    </tr>\n",
       "    <tr>\n",
       "      <th>2754</th>\n",
       "      <td>https://www.otodom.pl/pl/oferta/1m-wyposazone-...</td>\n",
       "      <td>1M! Wyposażone|Ogródek 25m2|Inwestycja - ROI 10%</td>\n",
       "      <td>żabniec, Żabiniec, Prądnik Biały, Kraków, mało...</td>\n",
       "      <td>639000.0</td>\n",
       "      <td>26.0</td>\n",
       "      <td>24577.0</td>\n",
       "      <td>0</td>\n",
       "      <td>4</td>\n",
       "      <td>1</td>\n",
       "      <td>2017.0</td>\n",
       "      <td>...</td>\n",
       "      <td>wtórny</td>\n",
       "      <td>pełna własność</td>\n",
       "      <td>do zamieszkania</td>\n",
       "      <td>300.0</td>\n",
       "      <td>miejskie</td>\n",
       "      <td>biuro nieruchomości</td>\n",
       "      <td>False</td>\n",
       "      <td>ogródek</td>\n",
       "      <td>blok</td>\n",
       "      <td>brak informacji</td>\n",
       "    </tr>\n",
       "  </tbody>\n",
       "</table>\n",
       "<p>8810 rows × 21 columns</p>\n",
       "</div>"
      ]
     },
     "execution_count": 202,
     "metadata": {},
     "output_type": "execute_result"
    }
   ],
   "execution_count": 202
  },
  {
   "metadata": {
    "ExecuteTime": {
     "end_time": "2024-04-30T00:24:18.100227Z",
     "start_time": "2024-04-30T00:24:17.855718Z"
    }
   },
   "cell_type": "code",
   "source": [
    "df_filtered_sorted_otodom['address'] = df_filtered_sorted_otodom.apply(update_address, axis=1)\n",
    "df_filtered_sorted_otodom['address'] = df_filtered_sorted_otodom['address'].str.replace(r'^ul\\.\\s+', '', regex=True)\n",
    "df_filtered_sorted_otodom['address'] = df_filtered_sorted_otodom['address'].str.replace(r',\\s*ul\\.\\s[^,\\d]+,\\s', ', ', regex=True)\n",
    "df_filtered_sorted_otodom"
   ],
   "outputs": [
    {
     "data": {
      "text/plain": [
       "                                                    url  \\\n",
       "4476  https://www.otodom.pl/pl/oferta/nowe-mieszkani...   \n",
       "1137  https://www.otodom.pl/pl/oferta/balkon-3-pokoj...   \n",
       "7991  https://www.otodom.pl/pl/oferta/zlocien-2-poko...   \n",
       "2368  https://www.otodom.pl/pl/oferta/komfortowe-2-p...   \n",
       "3959  https://www.otodom.pl/pl/oferta/aleja-29-listo...   \n",
       "...                                                 ...   \n",
       "99    https://www.otodom.pl/pl/oferta/3-pokoje-na-za...   \n",
       "7122  https://www.otodom.pl/pl/oferta/pradnik-bialy-...   \n",
       "7232  https://www.otodom.pl/pl/oferta/mieszkanie-73-...   \n",
       "384   https://www.otodom.pl/pl/oferta/widokowe-m3-z-...   \n",
       "2754  https://www.otodom.pl/pl/oferta/1m-wyposazone-...   \n",
       "\n",
       "                                             name/title  \\\n",
       "4476                 Nowe mieszkania na Górce Narodowej   \n",
       "1137                        balkon + 3 pokoje + parking   \n",
       "7991                          Złocień, 2 pokoje, balkon   \n",
       "2368              komfortowe 2-pokojowe mieszkanie 42m2   \n",
       "3959                         Aleja 29 Listopada obok UR   \n",
       "...                                                 ...   \n",
       "99                              3 pokoje na Żabińcu !!!   \n",
       "7122                           Prądnik Biały - Ul. Reja   \n",
       "7232                          Mieszkanie, 73 m², Kraków   \n",
       "384   Widokowe M3 z klimatyzacją i parkingiem, Żabiniec   \n",
       "2754   1M! Wyposażone|Ogródek 25m2|Inwestycja - ROI 10%   \n",
       "\n",
       "                                                address      price  area  \\\n",
       "4476  29 listopada - okolice, Górka Narodowa, Prądni...   778689.0  61.3   \n",
       "1137  Adama Vetulaniego, Prądnik Biały, Prądnik Biał...   970000.0  55.0   \n",
       "7991  Agatowa, Domagały,, Złocień, Bieżanów-Prokocim...   625000.0  36.8   \n",
       "2368  Albertyńskie, Bieńczyce, Bieńczyce, Kraków, ma...   559000.0  42.0   \n",
       "3959  Aleja 29 Listopada, Górka Narodowa, Prądnik Bi...   695000.0  48.1   \n",
       "...                                                 ...        ...   ...   \n",
       "99         Żabiniec, Prądnik Biały, Kraków, małopolskie   850000.0  77.0   \n",
       "7122       Żabiniec, Prądnik Biały, Kraków, małopolskie  1100000.0  71.0   \n",
       "7232       Żabiniec, Prądnik Biały, Kraków, małopolskie  1100000.0  73.0   \n",
       "384        Żabiniec, Prądnik Biały, Kraków, małopolskie  1179000.0  71.5   \n",
       "2754  żabniec, Żabiniec, Prądnik Biały, Kraków, mało...   639000.0  26.0   \n",
       "\n",
       "      price-per-area  floor/store  no of floors/stores in the building  \\\n",
       "4476         12703.0            1                                    5   \n",
       "1137         17636.0            4                                    7   \n",
       "7991         16984.0            4                                    4   \n",
       "2368         13310.0            2                                    4   \n",
       "3959         14449.0            3                                    3   \n",
       "...              ...          ...                                  ...   \n",
       "99           11039.0            4                                    6   \n",
       "7122         15493.0            0                                    6   \n",
       "7232         15068.0            0                                    6   \n",
       "384          16490.0            5                                    8   \n",
       "2754         24577.0            0                                    4   \n",
       "\n",
       "      no of rooms  year of construction  ...     market form of ownership  \\\n",
       "4476            2                2023.0  ...  pierwotny    pełna własność   \n",
       "1137            3                2023.0  ...     wtórny    pełna własność   \n",
       "7991            2                2019.0  ...     wtórny    pełna własność   \n",
       "2368            2                1964.0  ...     wtórny               NaN   \n",
       "3959            2                   NaN  ...     wtórny    pełna własność   \n",
       "...           ...                   ...  ...        ...               ...   \n",
       "99              3                2002.0  ...     wtórny    pełna własność   \n",
       "7122            3                2005.0  ...     wtórny               NaN   \n",
       "7232            3                2005.0  ...     wtórny    pełna własność   \n",
       "384             3                2001.0  ...     wtórny    pełna własność   \n",
       "2754            1                2017.0  ...     wtórny    pełna własność   \n",
       "\n",
       "            condition   rent   heating      advertiser type elevator  \\\n",
       "4476              NaN    NaN  miejskie  biuro nieruchomości     True   \n",
       "1137              NaN  450.0  miejskie  biuro nieruchomości     True   \n",
       "7991  do zamieszkania  425.0  miejskie  biuro nieruchomości     True   \n",
       "2368              NaN  500.0  miejskie  biuro nieruchomości    False   \n",
       "3959  do zamieszkania    NaN    gazowe  biuro nieruchomości    False   \n",
       "...               ...    ...       ...                  ...      ...   \n",
       "99                NaN  800.0  miejskie  biuro nieruchomości     True   \n",
       "7122  do zamieszkania    NaN  miejskie  biuro nieruchomości     True   \n",
       "7232              NaN  700.0  miejskie  biuro nieruchomości     True   \n",
       "384   do zamieszkania  940.0  miejskie  biuro nieruchomości     True   \n",
       "2754  do zamieszkania  300.0  miejskie  biuro nieruchomości    False   \n",
       "\n",
       "      outdoor area    building type building material  \n",
       "4476        balkon  brak informacji   brak informacji  \n",
       "1137        balkon             blok   brak informacji  \n",
       "7991        balkon             blok   brak informacji  \n",
       "2368        balkon             blok   brak informacji  \n",
       "3959        balkon             blok   brak informacji  \n",
       "...            ...              ...               ...  \n",
       "99          balkon             blok   brak informacji  \n",
       "7122        balkon             blok   brak informacji  \n",
       "7232        balkon             blok   brak informacji  \n",
       "384         balkon  apartamentowiec   brak informacji  \n",
       "2754       ogródek             blok   brak informacji  \n",
       "\n",
       "[8810 rows x 21 columns]"
      ],
      "text/html": [
       "<div>\n",
       "<style scoped>\n",
       "    .dataframe tbody tr th:only-of-type {\n",
       "        vertical-align: middle;\n",
       "    }\n",
       "\n",
       "    .dataframe tbody tr th {\n",
       "        vertical-align: top;\n",
       "    }\n",
       "\n",
       "    .dataframe thead th {\n",
       "        text-align: right;\n",
       "    }\n",
       "</style>\n",
       "<table border=\"1\" class=\"dataframe\">\n",
       "  <thead>\n",
       "    <tr style=\"text-align: right;\">\n",
       "      <th></th>\n",
       "      <th>url</th>\n",
       "      <th>name/title</th>\n",
       "      <th>address</th>\n",
       "      <th>price</th>\n",
       "      <th>area</th>\n",
       "      <th>price-per-area</th>\n",
       "      <th>floor/store</th>\n",
       "      <th>no of floors/stores in the building</th>\n",
       "      <th>no of rooms</th>\n",
       "      <th>year of construction</th>\n",
       "      <th>...</th>\n",
       "      <th>market</th>\n",
       "      <th>form of ownership</th>\n",
       "      <th>condition</th>\n",
       "      <th>rent</th>\n",
       "      <th>heating</th>\n",
       "      <th>advertiser type</th>\n",
       "      <th>elevator</th>\n",
       "      <th>outdoor area</th>\n",
       "      <th>building type</th>\n",
       "      <th>building material</th>\n",
       "    </tr>\n",
       "  </thead>\n",
       "  <tbody>\n",
       "    <tr>\n",
       "      <th>4476</th>\n",
       "      <td>https://www.otodom.pl/pl/oferta/nowe-mieszkani...</td>\n",
       "      <td>Nowe mieszkania na Górce Narodowej</td>\n",
       "      <td>29 listopada - okolice, Górka Narodowa, Prądni...</td>\n",
       "      <td>778689.0</td>\n",
       "      <td>61.3</td>\n",
       "      <td>12703.0</td>\n",
       "      <td>1</td>\n",
       "      <td>5</td>\n",
       "      <td>2</td>\n",
       "      <td>2023.0</td>\n",
       "      <td>...</td>\n",
       "      <td>pierwotny</td>\n",
       "      <td>pełna własność</td>\n",
       "      <td>NaN</td>\n",
       "      <td>NaN</td>\n",
       "      <td>miejskie</td>\n",
       "      <td>biuro nieruchomości</td>\n",
       "      <td>True</td>\n",
       "      <td>balkon</td>\n",
       "      <td>brak informacji</td>\n",
       "      <td>brak informacji</td>\n",
       "    </tr>\n",
       "    <tr>\n",
       "      <th>1137</th>\n",
       "      <td>https://www.otodom.pl/pl/oferta/balkon-3-pokoj...</td>\n",
       "      <td>balkon + 3 pokoje + parking</td>\n",
       "      <td>Adama Vetulaniego, Prądnik Biały, Prądnik Biał...</td>\n",
       "      <td>970000.0</td>\n",
       "      <td>55.0</td>\n",
       "      <td>17636.0</td>\n",
       "      <td>4</td>\n",
       "      <td>7</td>\n",
       "      <td>3</td>\n",
       "      <td>2023.0</td>\n",
       "      <td>...</td>\n",
       "      <td>wtórny</td>\n",
       "      <td>pełna własność</td>\n",
       "      <td>NaN</td>\n",
       "      <td>450.0</td>\n",
       "      <td>miejskie</td>\n",
       "      <td>biuro nieruchomości</td>\n",
       "      <td>True</td>\n",
       "      <td>balkon</td>\n",
       "      <td>blok</td>\n",
       "      <td>brak informacji</td>\n",
       "    </tr>\n",
       "    <tr>\n",
       "      <th>7991</th>\n",
       "      <td>https://www.otodom.pl/pl/oferta/zlocien-2-poko...</td>\n",
       "      <td>Złocień, 2 pokoje, balkon</td>\n",
       "      <td>Agatowa, Domagały,, Złocień, Bieżanów-Prokocim...</td>\n",
       "      <td>625000.0</td>\n",
       "      <td>36.8</td>\n",
       "      <td>16984.0</td>\n",
       "      <td>4</td>\n",
       "      <td>4</td>\n",
       "      <td>2</td>\n",
       "      <td>2019.0</td>\n",
       "      <td>...</td>\n",
       "      <td>wtórny</td>\n",
       "      <td>pełna własność</td>\n",
       "      <td>do zamieszkania</td>\n",
       "      <td>425.0</td>\n",
       "      <td>miejskie</td>\n",
       "      <td>biuro nieruchomości</td>\n",
       "      <td>True</td>\n",
       "      <td>balkon</td>\n",
       "      <td>blok</td>\n",
       "      <td>brak informacji</td>\n",
       "    </tr>\n",
       "    <tr>\n",
       "      <th>2368</th>\n",
       "      <td>https://www.otodom.pl/pl/oferta/komfortowe-2-p...</td>\n",
       "      <td>komfortowe 2-pokojowe mieszkanie 42m2</td>\n",
       "      <td>Albertyńskie, Bieńczyce, Bieńczyce, Kraków, ma...</td>\n",
       "      <td>559000.0</td>\n",
       "      <td>42.0</td>\n",
       "      <td>13310.0</td>\n",
       "      <td>2</td>\n",
       "      <td>4</td>\n",
       "      <td>2</td>\n",
       "      <td>1964.0</td>\n",
       "      <td>...</td>\n",
       "      <td>wtórny</td>\n",
       "      <td>NaN</td>\n",
       "      <td>NaN</td>\n",
       "      <td>500.0</td>\n",
       "      <td>miejskie</td>\n",
       "      <td>biuro nieruchomości</td>\n",
       "      <td>False</td>\n",
       "      <td>balkon</td>\n",
       "      <td>blok</td>\n",
       "      <td>brak informacji</td>\n",
       "    </tr>\n",
       "    <tr>\n",
       "      <th>3959</th>\n",
       "      <td>https://www.otodom.pl/pl/oferta/aleja-29-listo...</td>\n",
       "      <td>Aleja 29 Listopada obok UR</td>\n",
       "      <td>Aleja 29 Listopada, Górka Narodowa, Prądnik Bi...</td>\n",
       "      <td>695000.0</td>\n",
       "      <td>48.1</td>\n",
       "      <td>14449.0</td>\n",
       "      <td>3</td>\n",
       "      <td>3</td>\n",
       "      <td>2</td>\n",
       "      <td>NaN</td>\n",
       "      <td>...</td>\n",
       "      <td>wtórny</td>\n",
       "      <td>pełna własność</td>\n",
       "      <td>do zamieszkania</td>\n",
       "      <td>NaN</td>\n",
       "      <td>gazowe</td>\n",
       "      <td>biuro nieruchomości</td>\n",
       "      <td>False</td>\n",
       "      <td>balkon</td>\n",
       "      <td>blok</td>\n",
       "      <td>brak informacji</td>\n",
       "    </tr>\n",
       "    <tr>\n",
       "      <th>...</th>\n",
       "      <td>...</td>\n",
       "      <td>...</td>\n",
       "      <td>...</td>\n",
       "      <td>...</td>\n",
       "      <td>...</td>\n",
       "      <td>...</td>\n",
       "      <td>...</td>\n",
       "      <td>...</td>\n",
       "      <td>...</td>\n",
       "      <td>...</td>\n",
       "      <td>...</td>\n",
       "      <td>...</td>\n",
       "      <td>...</td>\n",
       "      <td>...</td>\n",
       "      <td>...</td>\n",
       "      <td>...</td>\n",
       "      <td>...</td>\n",
       "      <td>...</td>\n",
       "      <td>...</td>\n",
       "      <td>...</td>\n",
       "      <td>...</td>\n",
       "    </tr>\n",
       "    <tr>\n",
       "      <th>99</th>\n",
       "      <td>https://www.otodom.pl/pl/oferta/3-pokoje-na-za...</td>\n",
       "      <td>3 pokoje na Żabińcu !!!</td>\n",
       "      <td>Żabiniec, Prądnik Biały, Kraków, małopolskie</td>\n",
       "      <td>850000.0</td>\n",
       "      <td>77.0</td>\n",
       "      <td>11039.0</td>\n",
       "      <td>4</td>\n",
       "      <td>6</td>\n",
       "      <td>3</td>\n",
       "      <td>2002.0</td>\n",
       "      <td>...</td>\n",
       "      <td>wtórny</td>\n",
       "      <td>pełna własność</td>\n",
       "      <td>NaN</td>\n",
       "      <td>800.0</td>\n",
       "      <td>miejskie</td>\n",
       "      <td>biuro nieruchomości</td>\n",
       "      <td>True</td>\n",
       "      <td>balkon</td>\n",
       "      <td>blok</td>\n",
       "      <td>brak informacji</td>\n",
       "    </tr>\n",
       "    <tr>\n",
       "      <th>7122</th>\n",
       "      <td>https://www.otodom.pl/pl/oferta/pradnik-bialy-...</td>\n",
       "      <td>Prądnik Biały - Ul. Reja</td>\n",
       "      <td>Żabiniec, Prądnik Biały, Kraków, małopolskie</td>\n",
       "      <td>1100000.0</td>\n",
       "      <td>71.0</td>\n",
       "      <td>15493.0</td>\n",
       "      <td>0</td>\n",
       "      <td>6</td>\n",
       "      <td>3</td>\n",
       "      <td>2005.0</td>\n",
       "      <td>...</td>\n",
       "      <td>wtórny</td>\n",
       "      <td>NaN</td>\n",
       "      <td>do zamieszkania</td>\n",
       "      <td>NaN</td>\n",
       "      <td>miejskie</td>\n",
       "      <td>biuro nieruchomości</td>\n",
       "      <td>True</td>\n",
       "      <td>balkon</td>\n",
       "      <td>blok</td>\n",
       "      <td>brak informacji</td>\n",
       "    </tr>\n",
       "    <tr>\n",
       "      <th>7232</th>\n",
       "      <td>https://www.otodom.pl/pl/oferta/mieszkanie-73-...</td>\n",
       "      <td>Mieszkanie, 73 m², Kraków</td>\n",
       "      <td>Żabiniec, Prądnik Biały, Kraków, małopolskie</td>\n",
       "      <td>1100000.0</td>\n",
       "      <td>73.0</td>\n",
       "      <td>15068.0</td>\n",
       "      <td>0</td>\n",
       "      <td>6</td>\n",
       "      <td>3</td>\n",
       "      <td>2005.0</td>\n",
       "      <td>...</td>\n",
       "      <td>wtórny</td>\n",
       "      <td>pełna własność</td>\n",
       "      <td>NaN</td>\n",
       "      <td>700.0</td>\n",
       "      <td>miejskie</td>\n",
       "      <td>biuro nieruchomości</td>\n",
       "      <td>True</td>\n",
       "      <td>balkon</td>\n",
       "      <td>blok</td>\n",
       "      <td>brak informacji</td>\n",
       "    </tr>\n",
       "    <tr>\n",
       "      <th>384</th>\n",
       "      <td>https://www.otodom.pl/pl/oferta/widokowe-m3-z-...</td>\n",
       "      <td>Widokowe M3 z klimatyzacją i parkingiem, Żabiniec</td>\n",
       "      <td>Żabiniec, Prądnik Biały, Kraków, małopolskie</td>\n",
       "      <td>1179000.0</td>\n",
       "      <td>71.5</td>\n",
       "      <td>16490.0</td>\n",
       "      <td>5</td>\n",
       "      <td>8</td>\n",
       "      <td>3</td>\n",
       "      <td>2001.0</td>\n",
       "      <td>...</td>\n",
       "      <td>wtórny</td>\n",
       "      <td>pełna własność</td>\n",
       "      <td>do zamieszkania</td>\n",
       "      <td>940.0</td>\n",
       "      <td>miejskie</td>\n",
       "      <td>biuro nieruchomości</td>\n",
       "      <td>True</td>\n",
       "      <td>balkon</td>\n",
       "      <td>apartamentowiec</td>\n",
       "      <td>brak informacji</td>\n",
       "    </tr>\n",
       "    <tr>\n",
       "      <th>2754</th>\n",
       "      <td>https://www.otodom.pl/pl/oferta/1m-wyposazone-...</td>\n",
       "      <td>1M! Wyposażone|Ogródek 25m2|Inwestycja - ROI 10%</td>\n",
       "      <td>żabniec, Żabiniec, Prądnik Biały, Kraków, mało...</td>\n",
       "      <td>639000.0</td>\n",
       "      <td>26.0</td>\n",
       "      <td>24577.0</td>\n",
       "      <td>0</td>\n",
       "      <td>4</td>\n",
       "      <td>1</td>\n",
       "      <td>2017.0</td>\n",
       "      <td>...</td>\n",
       "      <td>wtórny</td>\n",
       "      <td>pełna własność</td>\n",
       "      <td>do zamieszkania</td>\n",
       "      <td>300.0</td>\n",
       "      <td>miejskie</td>\n",
       "      <td>biuro nieruchomości</td>\n",
       "      <td>False</td>\n",
       "      <td>ogródek</td>\n",
       "      <td>blok</td>\n",
       "      <td>brak informacji</td>\n",
       "    </tr>\n",
       "  </tbody>\n",
       "</table>\n",
       "<p>8810 rows × 21 columns</p>\n",
       "</div>"
      ]
     },
     "execution_count": 203,
     "metadata": {},
     "output_type": "execute_result"
    }
   ],
   "execution_count": 203
  },
  {
   "metadata": {
    "ExecuteTime": {
     "end_time": "2024-04-30T00:24:39.921022Z",
     "start_time": "2024-04-30T00:24:39.898021Z"
    }
   },
   "cell_type": "code",
   "source": [
    "merged_df = pd.merge(\n",
    "    df_filtered_sorted_otodom, \n",
    "    location_df[['address', 'location', 'latitude', 'longitude']], \n",
    "    on='address', \n",
    "    how='left'\n",
    ")\n",
    "\n",
    "needs_update = merged_df['location'].isna()\n",
    "\n",
    "merged_df.loc[needs_update, 'location'] = merged_df.loc[needs_update, 'location']\n",
    "merged_df.loc[needs_update, 'latitude'] = merged_df.loc[needs_update, 'latitude']\n",
    "merged_df.loc[needs_update, 'longitude'] = merged_df.loc[needs_update, 'longitude']\n",
    "\n",
    "\n",
    "df_filtered_sorted_otodom = merged_df"
   ],
   "outputs": [],
   "execution_count": 204
  },
  {
   "metadata": {
    "ExecuteTime": {
     "end_time": "2024-04-30T00:37:14.847326Z",
     "start_time": "2024-04-30T00:37:14.825808Z"
    }
   },
   "cell_type": "code",
   "source": "df_filtered_sorted_otodom[df_filtered_sorted_otodom['location'].isna()]",
   "outputs": [
    {
     "data": {
      "text/plain": [
       "                                                    url  \\\n",
       "3489  https://www.otodom.pl/pl/oferta/mieszkanie-ul-...   \n",
       "8813  https://www.otodom.pl/pl/oferta/mieszkanie-ul-...   \n",
       "\n",
       "                                     name/title  \\\n",
       "3489  Mieszkanie ul. Bajeczna - wysoki standard   \n",
       "8813  Mieszkanie ul. Lea po generalnym remoncie   \n",
       "\n",
       "                                                address      price   area  \\\n",
       "3489  Bajeczna - wysoki standard, Dąbie, Grzegórzki,...  1189000.0  56.67   \n",
       "8813  Lea po generalnym remoncie, Łobzów, Krowodrza,...   995000.0  48.00   \n",
       "\n",
       "      price-per-area  floor/store  no of floors/stores in the building  \\\n",
       "3489         20981.0            2                                    5   \n",
       "8813         20729.0            7                                   10   \n",
       "\n",
       "      no of rooms  year of construction  ...        rent   heating  \\\n",
       "3489            3                2023.0  ...  650.000000       NaN   \n",
       "8813            3                1990.0  ...  541.131343  miejskie   \n",
       "\n",
       "     advertiser type elevator  outdoor area building type building material  \\\n",
       "3489        prywatny     True        balkon          blok   brak informacji   \n",
       "8813        prywatny     True        balkon          blok   brak informacji   \n",
       "\n",
       "      location latitude longitude  \n",
       "3489       NaN      NaN       NaN  \n",
       "8813       NaN      NaN       NaN  \n",
       "\n",
       "[2 rows x 24 columns]"
      ],
      "text/html": [
       "<div>\n",
       "<style scoped>\n",
       "    .dataframe tbody tr th:only-of-type {\n",
       "        vertical-align: middle;\n",
       "    }\n",
       "\n",
       "    .dataframe tbody tr th {\n",
       "        vertical-align: top;\n",
       "    }\n",
       "\n",
       "    .dataframe thead th {\n",
       "        text-align: right;\n",
       "    }\n",
       "</style>\n",
       "<table border=\"1\" class=\"dataframe\">\n",
       "  <thead>\n",
       "    <tr style=\"text-align: right;\">\n",
       "      <th></th>\n",
       "      <th>url</th>\n",
       "      <th>name/title</th>\n",
       "      <th>address</th>\n",
       "      <th>price</th>\n",
       "      <th>area</th>\n",
       "      <th>price-per-area</th>\n",
       "      <th>floor/store</th>\n",
       "      <th>no of floors/stores in the building</th>\n",
       "      <th>no of rooms</th>\n",
       "      <th>year of construction</th>\n",
       "      <th>...</th>\n",
       "      <th>rent</th>\n",
       "      <th>heating</th>\n",
       "      <th>advertiser type</th>\n",
       "      <th>elevator</th>\n",
       "      <th>outdoor area</th>\n",
       "      <th>building type</th>\n",
       "      <th>building material</th>\n",
       "      <th>location</th>\n",
       "      <th>latitude</th>\n",
       "      <th>longitude</th>\n",
       "    </tr>\n",
       "  </thead>\n",
       "  <tbody>\n",
       "    <tr>\n",
       "      <th>3489</th>\n",
       "      <td>https://www.otodom.pl/pl/oferta/mieszkanie-ul-...</td>\n",
       "      <td>Mieszkanie ul. Bajeczna - wysoki standard</td>\n",
       "      <td>Bajeczna - wysoki standard, Dąbie, Grzegórzki,...</td>\n",
       "      <td>1189000.0</td>\n",
       "      <td>56.67</td>\n",
       "      <td>20981.0</td>\n",
       "      <td>2</td>\n",
       "      <td>5</td>\n",
       "      <td>3</td>\n",
       "      <td>2023.0</td>\n",
       "      <td>...</td>\n",
       "      <td>650.000000</td>\n",
       "      <td>NaN</td>\n",
       "      <td>prywatny</td>\n",
       "      <td>True</td>\n",
       "      <td>balkon</td>\n",
       "      <td>blok</td>\n",
       "      <td>brak informacji</td>\n",
       "      <td>NaN</td>\n",
       "      <td>NaN</td>\n",
       "      <td>NaN</td>\n",
       "    </tr>\n",
       "    <tr>\n",
       "      <th>8813</th>\n",
       "      <td>https://www.otodom.pl/pl/oferta/mieszkanie-ul-...</td>\n",
       "      <td>Mieszkanie ul. Lea po generalnym remoncie</td>\n",
       "      <td>Lea po generalnym remoncie, Łobzów, Krowodrza,...</td>\n",
       "      <td>995000.0</td>\n",
       "      <td>48.00</td>\n",
       "      <td>20729.0</td>\n",
       "      <td>7</td>\n",
       "      <td>10</td>\n",
       "      <td>3</td>\n",
       "      <td>1990.0</td>\n",
       "      <td>...</td>\n",
       "      <td>541.131343</td>\n",
       "      <td>miejskie</td>\n",
       "      <td>prywatny</td>\n",
       "      <td>True</td>\n",
       "      <td>balkon</td>\n",
       "      <td>blok</td>\n",
       "      <td>brak informacji</td>\n",
       "      <td>NaN</td>\n",
       "      <td>NaN</td>\n",
       "      <td>NaN</td>\n",
       "    </tr>\n",
       "  </tbody>\n",
       "</table>\n",
       "<p>2 rows × 24 columns</p>\n",
       "</div>"
      ]
     },
     "execution_count": 211,
     "metadata": {},
     "output_type": "execute_result"
    }
   ],
   "execution_count": 211
  },
  {
   "metadata": {
    "ExecuteTime": {
     "end_time": "2024-04-30T00:37:45.122753Z",
     "start_time": "2024-04-30T00:37:45.071783Z"
    }
   },
   "cell_type": "code",
   "source": [
    "unique_addresses = set(df_filtered_sorted_otodom[df_filtered_sorted_otodom['location'].isna()]['address'].unique())\n",
    "address_list = list(unique_addresses)\n",
    "\n",
    "location_df_otodom = pd.DataFrame({\n",
    "    'address': address_list,\n",
    "    'manipulated address': address_list\n",
    "})\n",
    "\n",
    "location_df_otodom.to_excel(\"temp.xlsx\", index=False)"
   ],
   "outputs": [],
   "execution_count": 213
  },
  {
   "metadata": {
    "ExecuteTime": {
     "end_time": "2024-04-30T00:39:49.703399Z",
     "start_time": "2024-04-30T00:39:48.939056Z"
    }
   },
   "cell_type": "code",
   "source": [
    "location_df_otodom=geocode_and_save(pd.read_excel('temp.xlsx'))\n",
    "location_df_otodom"
   ],
   "outputs": [
    {
     "name": "stdout",
     "output_type": "stream",
     "text": [
      "Rows needing geocoding: 2\n",
      "Polana Juliusza Lea, Las Wolski, Zwierzyniec, Kraków, województwo małopolskie, Polska, 50.0523186, 19.85288239875174\n",
      "Bajeczna, Dąbie, Grzegórzki, Kraków, województwo małopolskie, 31-566, Polska, 50.0574115, 19.9766744\n",
      "Data saved to geocoded_addresses.csv\n"
     ]
    },
    {
     "data": {
      "text/plain": [
       "                                             address  \\\n",
       "0  Lea po generalnym remoncie, Łobzów, Krowodrza,...   \n",
       "1  Bajeczna - wysoki standard, Dąbie, Grzegórzki,...   \n",
       "\n",
       "             manipulated address  \\\n",
       "0       Lea, Kraków, małopolskie   \n",
       "1  Bajeczna, Kraków, małopolskie   \n",
       "\n",
       "                                            location   latitude  longitude  \n",
       "0  Polana Juliusza Lea, Las Wolski, Zwierzyniec, ...  50.052319  19.852882  \n",
       "1  Bajeczna, Dąbie, Grzegórzki, Kraków, województ...  50.057412  19.976674  "
      ],
      "text/html": [
       "<div>\n",
       "<style scoped>\n",
       "    .dataframe tbody tr th:only-of-type {\n",
       "        vertical-align: middle;\n",
       "    }\n",
       "\n",
       "    .dataframe tbody tr th {\n",
       "        vertical-align: top;\n",
       "    }\n",
       "\n",
       "    .dataframe thead th {\n",
       "        text-align: right;\n",
       "    }\n",
       "</style>\n",
       "<table border=\"1\" class=\"dataframe\">\n",
       "  <thead>\n",
       "    <tr style=\"text-align: right;\">\n",
       "      <th></th>\n",
       "      <th>address</th>\n",
       "      <th>manipulated address</th>\n",
       "      <th>location</th>\n",
       "      <th>latitude</th>\n",
       "      <th>longitude</th>\n",
       "    </tr>\n",
       "  </thead>\n",
       "  <tbody>\n",
       "    <tr>\n",
       "      <th>0</th>\n",
       "      <td>Lea po generalnym remoncie, Łobzów, Krowodrza,...</td>\n",
       "      <td>Lea, Kraków, małopolskie</td>\n",
       "      <td>Polana Juliusza Lea, Las Wolski, Zwierzyniec, ...</td>\n",
       "      <td>50.052319</td>\n",
       "      <td>19.852882</td>\n",
       "    </tr>\n",
       "    <tr>\n",
       "      <th>1</th>\n",
       "      <td>Bajeczna - wysoki standard, Dąbie, Grzegórzki,...</td>\n",
       "      <td>Bajeczna, Kraków, małopolskie</td>\n",
       "      <td>Bajeczna, Dąbie, Grzegórzki, Kraków, województ...</td>\n",
       "      <td>50.057412</td>\n",
       "      <td>19.976674</td>\n",
       "    </tr>\n",
       "  </tbody>\n",
       "</table>\n",
       "</div>"
      ]
     },
     "execution_count": 214,
     "metadata": {},
     "output_type": "execute_result"
    }
   ],
   "execution_count": 214
  },
  {
   "metadata": {
    "ExecuteTime": {
     "end_time": "2024-04-30T00:41:19.225997Z",
     "start_time": "2024-04-30T00:41:19.181044Z"
    }
   },
   "cell_type": "code",
   "source": [
    "merged_df = pd.merge(\n",
    "    df_filtered_sorted_otodom,\n",
    "    location_df_otodom[['address', 'location', 'latitude', 'longitude']],\n",
    "    on='address',\n",
    "    how='left',\n",
    "    suffixes=('', '_from_location')\n",
    ")\n",
    "if 'location_from_location' in merged_df.columns:\n",
    "    merged_df['location'] = merged_df['location_from_location'].combine_first(merged_df['location'])\n",
    "    merged_df['latitude'] = merged_df['latitude_from_location'].combine_first(merged_df['latitude'])\n",
    "    merged_df['longitude'] = merged_df['longitude_from_location'].combine_first(merged_df['longitude'])\n",
    "    merged_df.drop(['location_from_location', 'latitude_from_location', 'longitude_from_location'], axis=1, inplace=True)\n",
    "\n",
    "df_filtered_sorted_otodom.update(merged_df)"
   ],
   "outputs": [],
   "execution_count": 215
  },
  {
   "metadata": {
    "ExecuteTime": {
     "end_time": "2024-04-30T00:49:06.725164Z",
     "start_time": "2024-04-30T00:49:06.522356Z"
    }
   },
   "cell_type": "code",
   "source": [
    "# Tu zaczyna się uzupełnianie brakujących danych\n",
    "df_filtered_sorted_otodom['year of construction'] = df_filtered_sorted_otodom['year of construction'].fillna(new_mean_year)\n",
    "df_filtered_sorted_otodom['rent'] = df_filtered_sorted_otodom['rent'].fillna(new_mean_rent)\n",
    "df_filtered_sorted_otodom['form of ownership'] = df_filtered_sorted_otodom['form of ownership'].fillna('pełna własność')\n",
    "df_filtered_sorted_otodom['condition'] = df_filtered_sorted_otodom['condition'].fillna('brak informacji')\n",
    "df_filtered_sorted_otodom['heating'] = df_filtered_sorted_otodom['heating'].fillna('brak informacji')\n",
    "df_filtered_sorted_otodom.to_csv('datasets/apartments_otodom.csv')\n",
    "df_filtered_sorted_otodom.isnull().sum()"
   ],
   "outputs": [
    {
     "data": {
      "text/plain": [
       "url                                    0\n",
       "name/title                             0\n",
       "address                                0\n",
       "price                                  0\n",
       "area                                   0\n",
       "price-per-area                         0\n",
       "floor/store                            0\n",
       "no of floors/stores in the building    0\n",
       "no of rooms                            0\n",
       "year of construction                   0\n",
       "parking space                          0\n",
       "market                                 0\n",
       "form of ownership                      0\n",
       "condition                              0\n",
       "rent                                   0\n",
       "heating                                0\n",
       "advertiser type                        0\n",
       "elevator                               0\n",
       "outdoor area                           0\n",
       "building type                          0\n",
       "building material                      0\n",
       "location                               0\n",
       "latitude                               0\n",
       "longitude                              0\n",
       "dtype: int64"
      ]
     },
     "execution_count": 218,
     "metadata": {},
     "output_type": "execute_result"
    }
   ],
   "execution_count": 218
  }
 ],
 "metadata": {
  "kernelspec": {
   "display_name": "conda-env",
   "language": "python",
   "name": "python3"
  },
  "language_info": {
   "codemirror_mode": {
    "name": "ipython",
    "version": 3
   },
   "file_extension": ".py",
   "mimetype": "text/x-python",
   "name": "python",
   "nbconvert_exporter": "python",
   "pygments_lexer": "ipython3",
   "version": "3.12.1"
  }
 },
 "nbformat": 4,
 "nbformat_minor": 2
}
