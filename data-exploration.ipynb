{
 "cells": [
  {
   "cell_type": "markdown",
   "source": [
    "# Loading Dataset"
   ],
   "metadata": {
    "collapsed": false
   },
   "id": "cdb6b1e3098e7219"
  },
  {
   "cell_type": "code",
   "outputs": [],
   "source": [
    "import pandas as pd\n",
    "import numpy as np\n",
    "import sklearn\n",
    "import matplotlib.pyplot as plt\n",
    "import seaborn as sns"
   ],
   "metadata": {
    "collapsed": false,
    "ExecuteTime": {
     "end_time": "2024-04-13T15:19:06.148039900Z",
     "start_time": "2024-04-13T15:19:05.982568800Z"
    }
   },
   "id": "676652670a1776c0",
   "execution_count": 822
  },
  {
   "cell_type": "code",
   "outputs": [],
   "source": [
    "df =  pd.read_csv('datasets/nieruchomosci-online_dataset_raw.csv')"
   ],
   "metadata": {
    "collapsed": false,
    "ExecuteTime": {
     "end_time": "2024-04-13T15:19:06.197980700Z",
     "start_time": "2024-04-13T15:19:06.150529Z"
    }
   },
   "id": "9e1a5f6c2c6f5d26",
   "execution_count": 823
  },
  {
   "cell_type": "code",
   "outputs": [
    {
     "data": {
      "text/plain": "                                                 url  \\\n0  https://krakow.nieruchomosci-online.pl/mieszka...   \n1  https://krakow.nieruchomosci-online.pl/mieszka...   \n2  https://krakow.nieruchomosci-online.pl/mieszka...   \n3  https://krakow.nieruchomosci-online.pl/mieszka...   \n4  https://krakow.nieruchomosci-online.pl/mieszka...   \n5  https://krakow.nieruchomosci-online.pl/mieszka...   \n6  https://krakow.nieruchomosci-online.pl/mieszka...   \n7  https://krakow.nieruchomosci-online.pl/mieszka...   \n8  https://krakow.nieruchomosci-online.pl/mieszka...   \n9  https://krakow.nieruchomosci-online.pl/mieszka...   \n\n                       name/title  \\\n0  Mieszkanie, ul. Żelechowskiego   \n1         Mieszkanie, ul. Balicka   \n2          Mieszkanie, ul. Zauchy   \n3      Mieszkanie, ul. Racławicka   \n4        Mieszkanie, ul. Pustynna   \n5               Apartament Kraków   \n6      Mieszkanie, ul. Przemiarki   \n7     Mieszkanie, ul. Felińskiego   \n8       Apartament, ul. Lublańska   \n9   Apartament, ul. Szablowskiego   \n\n                                             address         price      area  \\\n0     Żelechowskiego, Bronowice, Kraków, małopolskie    899 000 zł  51,70 m²   \n1            Balicka, Bronowice, Kraków, małopolskie  1 575 000 zł    125 m²   \n2        Zauchy, Górka Narodowa, Kraków, małopolskie  1 250 000 zł  65,23 m²   \n3         Racławicka, Krowodrza, Kraków, małopolskie    740 250 zł  49,35 m²   \n4               Pustynna, Kliny, Kraków, małopolskie  1 200 000 zł  71,06 m²   \n5                Wola Justowska, Kraków, małopolskie  1 198 680 zł  71,35 m²   \n6            Przemiarki, Ruczaj, Kraków, małopolskie    625 000 zł     40 m²   \n7   Felińskiego, Górka Narodowa, Kraków, małopolskie    899 000 zł  74,17 m²   \n8  Lublańska 13, Prądnik Czerwony, Kraków, małopo...  1 050 000 zł     60 m²   \n9      Szablowskiego, Bronowice, Kraków, małopolskie    599 000 zł     40 m²   \n\n    price-per-area floor/store  no of floors/stores in the building  \\\n0  17 388,78 zł/m²           1                                  3.0   \n1     12 600 zł/m²           3                                  4.0   \n2  19 162,96 zł/m²           2                                  5.0   \n3     15 000 zł/m²           6                                 10.0   \n4  16 887,14 zł/m²      parter                                  1.0   \n5     16 800 zł/m²      parter                                  2.0   \n6     15 625 zł/m²           2                                  3.0   \n7  12 120,80 zł/m²           2                                  5.0   \n8     17 500 zł/m²           3                                  4.0   \n9     14 975 zł/m²      parter                                  3.0   \n\n  no of rooms year of construction                 parking space  \\\n0           2                 1980                           tak   \n1           6                 2004           w garażu podziemnym   \n2           3                 2023                           tak   \n3           2                 1950  parking publiczny / na ulicy   \n4           3                 2013         garaż w bryle budynku   \n5           4                 2023         garaż w bryle budynku   \n6           2                 2000                         garaż   \n7           3                 2003  parking publiczny / na ulicy   \n8           3                 2023           w garażu podziemnym   \n9           2                 2001                           tak   \n\n                                              market  \\\n0                                             wtórny   \n1                                             wtórny   \n2                                             wtórny   \n3                                             wtórny   \n4                                             wtórny   \n5  pierwotny (zobacz inne nowe mieszkania w Krako...   \n6                                             wtórny   \n7                                             wtórny   \n8                                             wtórny   \n9                                             wtórny   \n\n            form of ownership  \n0                    własność  \n1  własność, księga wieczysta  \n2                         NaN  \n3                         NaN  \n4  własność, księga wieczysta  \n5                    własność  \n6                    własność  \n7                         NaN  \n8  własność, księga wieczysta  \n9  własność, księga wieczysta  ",
      "text/html": "<div>\n<style scoped>\n    .dataframe tbody tr th:only-of-type {\n        vertical-align: middle;\n    }\n\n    .dataframe tbody tr th {\n        vertical-align: top;\n    }\n\n    .dataframe thead th {\n        text-align: right;\n    }\n</style>\n<table border=\"1\" class=\"dataframe\">\n  <thead>\n    <tr style=\"text-align: right;\">\n      <th></th>\n      <th>url</th>\n      <th>name/title</th>\n      <th>address</th>\n      <th>price</th>\n      <th>area</th>\n      <th>price-per-area</th>\n      <th>floor/store</th>\n      <th>no of floors/stores in the building</th>\n      <th>no of rooms</th>\n      <th>year of construction</th>\n      <th>parking space</th>\n      <th>market</th>\n      <th>form of ownership</th>\n    </tr>\n  </thead>\n  <tbody>\n    <tr>\n      <th>0</th>\n      <td>https://krakow.nieruchomosci-online.pl/mieszka...</td>\n      <td>Mieszkanie, ul. Żelechowskiego</td>\n      <td>Żelechowskiego, Bronowice, Kraków, małopolskie</td>\n      <td>899 000 zł</td>\n      <td>51,70 m²</td>\n      <td>17 388,78 zł/m²</td>\n      <td>1</td>\n      <td>3.0</td>\n      <td>2</td>\n      <td>1980</td>\n      <td>tak</td>\n      <td>wtórny</td>\n      <td>własność</td>\n    </tr>\n    <tr>\n      <th>1</th>\n      <td>https://krakow.nieruchomosci-online.pl/mieszka...</td>\n      <td>Mieszkanie, ul. Balicka</td>\n      <td>Balicka, Bronowice, Kraków, małopolskie</td>\n      <td>1 575 000 zł</td>\n      <td>125 m²</td>\n      <td>12 600 zł/m²</td>\n      <td>3</td>\n      <td>4.0</td>\n      <td>6</td>\n      <td>2004</td>\n      <td>w garażu podziemnym</td>\n      <td>wtórny</td>\n      <td>własność, księga wieczysta</td>\n    </tr>\n    <tr>\n      <th>2</th>\n      <td>https://krakow.nieruchomosci-online.pl/mieszka...</td>\n      <td>Mieszkanie, ul. Zauchy</td>\n      <td>Zauchy, Górka Narodowa, Kraków, małopolskie</td>\n      <td>1 250 000 zł</td>\n      <td>65,23 m²</td>\n      <td>19 162,96 zł/m²</td>\n      <td>2</td>\n      <td>5.0</td>\n      <td>3</td>\n      <td>2023</td>\n      <td>tak</td>\n      <td>wtórny</td>\n      <td>NaN</td>\n    </tr>\n    <tr>\n      <th>3</th>\n      <td>https://krakow.nieruchomosci-online.pl/mieszka...</td>\n      <td>Mieszkanie, ul. Racławicka</td>\n      <td>Racławicka, Krowodrza, Kraków, małopolskie</td>\n      <td>740 250 zł</td>\n      <td>49,35 m²</td>\n      <td>15 000 zł/m²</td>\n      <td>6</td>\n      <td>10.0</td>\n      <td>2</td>\n      <td>1950</td>\n      <td>parking publiczny / na ulicy</td>\n      <td>wtórny</td>\n      <td>NaN</td>\n    </tr>\n    <tr>\n      <th>4</th>\n      <td>https://krakow.nieruchomosci-online.pl/mieszka...</td>\n      <td>Mieszkanie, ul. Pustynna</td>\n      <td>Pustynna, Kliny, Kraków, małopolskie</td>\n      <td>1 200 000 zł</td>\n      <td>71,06 m²</td>\n      <td>16 887,14 zł/m²</td>\n      <td>parter</td>\n      <td>1.0</td>\n      <td>3</td>\n      <td>2013</td>\n      <td>garaż w bryle budynku</td>\n      <td>wtórny</td>\n      <td>własność, księga wieczysta</td>\n    </tr>\n    <tr>\n      <th>5</th>\n      <td>https://krakow.nieruchomosci-online.pl/mieszka...</td>\n      <td>Apartament Kraków</td>\n      <td>Wola Justowska, Kraków, małopolskie</td>\n      <td>1 198 680 zł</td>\n      <td>71,35 m²</td>\n      <td>16 800 zł/m²</td>\n      <td>parter</td>\n      <td>2.0</td>\n      <td>4</td>\n      <td>2023</td>\n      <td>garaż w bryle budynku</td>\n      <td>pierwotny (zobacz inne nowe mieszkania w Krako...</td>\n      <td>własność</td>\n    </tr>\n    <tr>\n      <th>6</th>\n      <td>https://krakow.nieruchomosci-online.pl/mieszka...</td>\n      <td>Mieszkanie, ul. Przemiarki</td>\n      <td>Przemiarki, Ruczaj, Kraków, małopolskie</td>\n      <td>625 000 zł</td>\n      <td>40 m²</td>\n      <td>15 625 zł/m²</td>\n      <td>2</td>\n      <td>3.0</td>\n      <td>2</td>\n      <td>2000</td>\n      <td>garaż</td>\n      <td>wtórny</td>\n      <td>własność</td>\n    </tr>\n    <tr>\n      <th>7</th>\n      <td>https://krakow.nieruchomosci-online.pl/mieszka...</td>\n      <td>Mieszkanie, ul. Felińskiego</td>\n      <td>Felińskiego, Górka Narodowa, Kraków, małopolskie</td>\n      <td>899 000 zł</td>\n      <td>74,17 m²</td>\n      <td>12 120,80 zł/m²</td>\n      <td>2</td>\n      <td>5.0</td>\n      <td>3</td>\n      <td>2003</td>\n      <td>parking publiczny / na ulicy</td>\n      <td>wtórny</td>\n      <td>NaN</td>\n    </tr>\n    <tr>\n      <th>8</th>\n      <td>https://krakow.nieruchomosci-online.pl/mieszka...</td>\n      <td>Apartament, ul. Lublańska</td>\n      <td>Lublańska 13, Prądnik Czerwony, Kraków, małopo...</td>\n      <td>1 050 000 zł</td>\n      <td>60 m²</td>\n      <td>17 500 zł/m²</td>\n      <td>3</td>\n      <td>4.0</td>\n      <td>3</td>\n      <td>2023</td>\n      <td>w garażu podziemnym</td>\n      <td>wtórny</td>\n      <td>własność, księga wieczysta</td>\n    </tr>\n    <tr>\n      <th>9</th>\n      <td>https://krakow.nieruchomosci-online.pl/mieszka...</td>\n      <td>Apartament, ul. Szablowskiego</td>\n      <td>Szablowskiego, Bronowice, Kraków, małopolskie</td>\n      <td>599 000 zł</td>\n      <td>40 m²</td>\n      <td>14 975 zł/m²</td>\n      <td>parter</td>\n      <td>3.0</td>\n      <td>2</td>\n      <td>2001</td>\n      <td>tak</td>\n      <td>wtórny</td>\n      <td>własność, księga wieczysta</td>\n    </tr>\n  </tbody>\n</table>\n</div>"
     },
     "execution_count": 824,
     "metadata": {},
     "output_type": "execute_result"
    }
   ],
   "source": [
    "df.head(10)"
   ],
   "metadata": {
    "collapsed": false,
    "ExecuteTime": {
     "end_time": "2024-04-13T15:19:06.200484400Z",
     "start_time": "2024-04-13T15:19:06.169185400Z"
    }
   },
   "id": "92bb4359ded9e11e",
   "execution_count": 824
  },
  {
   "cell_type": "code",
   "outputs": [
    {
     "data": {
      "text/plain": "(3949, 13)"
     },
     "execution_count": 825,
     "metadata": {},
     "output_type": "execute_result"
    }
   ],
   "source": [
    "df.shape"
   ],
   "metadata": {
    "collapsed": false,
    "ExecuteTime": {
     "end_time": "2024-04-13T15:19:06.201490800Z",
     "start_time": "2024-04-13T15:19:06.179034100Z"
    }
   },
   "id": "18560f4dc8db8aaa",
   "execution_count": 825
  },
  {
   "cell_type": "markdown",
   "source": [
    "# Data Cleaning\n",
    "\n",
    "Steps:\n",
    "* feature name change\n",
    "* area and price from string to float + metrics\n",
    "* missing values\n",
    "* shifted data\n",
    "* incorrect data cell\n",
    "* feature type change"
   ],
   "metadata": {
    "collapsed": false
   },
   "id": "2cd79b6a9cb64804"
  },
  {
   "cell_type": "markdown",
   "source": [
    "# Feature name change"
   ],
   "metadata": {
    "collapsed": false
   },
   "id": "809edaec43b64b15"
  },
  {
   "cell_type": "code",
   "outputs": [],
   "source": [
    "df.rename(columns={'area': 'area (m^2)'}, inplace=True)\n",
    "df.rename(columns={'price': 'price (zł)'}, inplace=True)\n",
    "df.rename(columns={'no of floors/stores in the building': 'number of floors'}, inplace=True)\n",
    "df.rename(columns={'floor/store': 'floor number'}, inplace=True)"
   ],
   "metadata": {
    "collapsed": false,
    "ExecuteTime": {
     "end_time": "2024-04-13T15:19:06.213398200Z",
     "start_time": "2024-04-13T15:19:06.186342500Z"
    }
   },
   "id": "62016dbf35bfdcb8",
   "execution_count": 826
  },
  {
   "cell_type": "code",
   "outputs": [],
   "source": [
    "df['price (zł)'] = df['price (zł)'].str.replace(',', '')\n",
    "\n",
    "# Rozdzielenie wartości w kolumnie \"price (zł)\" na dwie nowe kolumny\n",
    "price_split = df['price (zł)'].str.extract(r'([\\d\\s]+)\\s+(.*)')\n",
    "df['price_amount'] = price_split[0].str.replace(' ', '').astype(float)\n",
    "df['currency'] = price_split[1]\n",
    "\n",
    "# Zamiana przecinka na kropkę i konwersja na float w kolumnie \"area (m^2)\"\n",
    "df['area_amount'] = df['area (m^2)'].str.replace(',', '.').str.extract(r'(\\d+\\.\\d+|\\d+)').astype(float)\n",
    "\n",
    "# Wyciągnięcie jednostki metryki z kolumny \"area (m^2)\"\n",
    "df['area_unit'] = df['area (m^2)'].str.extract(r'([a-zA-Z²]+)')\n",
    "\n",
    "# Usunięcie wcześniejszych kolumn\n",
    "df.drop(columns=['price (zł)', 'area (m^2)'], inplace=True)"
   ],
   "metadata": {
    "collapsed": false,
    "ExecuteTime": {
     "end_time": "2024-04-13T15:19:06.220907300Z",
     "start_time": "2024-04-13T15:19:06.190975800Z"
    }
   },
   "id": "4307c9a2533ad1bb",
   "execution_count": 827
  },
  {
   "cell_type": "code",
   "outputs": [
    {
     "name": "stdout",
     "output_type": "stream",
     "text": [
      "Unikalne jednostki metryczne: ['m²']\n",
      "Unikalne waluty: ['zł' nan '€']\n"
     ]
    }
   ],
   "source": [
    "unique_area_units = df['area_unit'].unique()\n",
    "print(\"Unikalne jednostki metryczne:\", unique_area_units)\n",
    "\n",
    "unique_currencies = df['currency'].unique()\n",
    "print(\"Unikalne waluty:\", unique_currencies)"
   ],
   "metadata": {
    "collapsed": false,
    "ExecuteTime": {
     "end_time": "2024-04-13T15:19:06.251440200Z",
     "start_time": "2024-04-13T15:19:06.210903600Z"
    }
   },
   "id": "6893a2f6fbe2662d",
   "execution_count": 828
  },
  {
   "cell_type": "code",
   "outputs": [],
   "source": [
    "EURO_RATE = 4.3\n",
    "\n",
    "# Warunkowe mnożenie kwoty przez stałą, jeśli waluta to euro (nie optymalne, ale za głupi na to jestem)\n",
    "df['price_amount'] = df.apply(lambda row: row['price_amount'] * EURO_RATE if row['currency'] == 'euro' else row['price_amount'], axis=1)\n",
    "\n",
    "# Zmiana waluty na \"zł\"\n",
    "df.loc[df['currency'] == '€', 'currency'] = 'zł'"
   ],
   "metadata": {
    "collapsed": false,
    "ExecuteTime": {
     "end_time": "2024-04-13T15:19:06.289852500Z",
     "start_time": "2024-04-13T15:19:06.221908Z"
    }
   },
   "id": "3ed2dbc1e1cd5fa1",
   "execution_count": 829
  },
  {
   "cell_type": "code",
   "outputs": [
    {
     "name": "stdout",
     "output_type": "stream",
     "text": [
      "Unikalne jednostki metryczne: ['m²']\n",
      "Unikalne waluty: ['zł' nan]\n"
     ]
    }
   ],
   "source": [
    "unique_area_units = df['area_unit'].unique()\n",
    "print(\"Unikalne jednostki metryczne:\", unique_area_units)\n",
    "\n",
    "unique_currencies = df['currency'].unique()\n",
    "print(\"Unikalne waluty:\", unique_currencies)"
   ],
   "metadata": {
    "collapsed": false,
    "ExecuteTime": {
     "end_time": "2024-04-13T15:19:06.336719200Z",
     "start_time": "2024-04-13T15:19:06.260966Z"
    }
   },
   "id": "82b0c2f0389a927d",
   "execution_count": 830
  },
  {
   "cell_type": "code",
   "outputs": [
    {
     "data": {
      "text/plain": "                                                  url  \\\n0   https://krakow.nieruchomosci-online.pl/mieszka...   \n1   https://krakow.nieruchomosci-online.pl/mieszka...   \n2   https://krakow.nieruchomosci-online.pl/mieszka...   \n3   https://krakow.nieruchomosci-online.pl/mieszka...   \n4   https://krakow.nieruchomosci-online.pl/mieszka...   \n5   https://krakow.nieruchomosci-online.pl/mieszka...   \n6   https://krakow.nieruchomosci-online.pl/mieszka...   \n7   https://krakow.nieruchomosci-online.pl/mieszka...   \n8   https://krakow.nieruchomosci-online.pl/mieszka...   \n9   https://krakow.nieruchomosci-online.pl/mieszka...   \n10  https://krakow.nieruchomosci-online.pl/mieszka...   \n11  https://krakow.nieruchomosci-online.pl/mieszka...   \n12  https://krakow.nieruchomosci-online.pl/mieszka...   \n13  https://krakow.nieruchomosci-online.pl/mieszka...   \n14  https://krakow.nieruchomosci-online.pl/mieszka...   \n15  https://krakow.nieruchomosci-online.pl/mieszka...   \n16  https://krakow.nieruchomosci-online.pl/mieszka...   \n17  https://krakow.nieruchomosci-online.pl/mieszka...   \n18  https://krakow.nieruchomosci-online.pl/mieszka...   \n19  https://krakow.nieruchomosci-online.pl/mieszka...   \n\n                                name/title  \\\n0           Mieszkanie, ul. Żelechowskiego   \n1                  Mieszkanie, ul. Balicka   \n2                   Mieszkanie, ul. Zauchy   \n3               Mieszkanie, ul. Racławicka   \n4                 Mieszkanie, ul. Pustynna   \n5                        Apartament Kraków   \n6               Mieszkanie, ul. Przemiarki   \n7              Mieszkanie, ul. Felińskiego   \n8                Apartament, ul. Lublańska   \n9            Apartament, ul. Szablowskiego   \n10                       Mieszkanie Kraków   \n11               Mieszkanie, ul. Cystersów   \n12                  Mieszkanie, ul. Ułanów   \n13                  Mieszkanie, ul. Bartla   \n14         Mieszkanie, Osiedle Tysiąclecia   \n15                   Mieszkanie, ul. Bojki   \n16  Mieszkanie, Osiedle Bohaterów Września   \n17                Mieszkanie, ul. Zawodzie   \n18                 Mieszkanie, ul. Obozowa   \n19               Mieszkanie, ul. Beskidzka   \n\n                                              address   price-per-area  \\\n0      Żelechowskiego, Bronowice, Kraków, małopolskie  17 388,78 zł/m²   \n1             Balicka, Bronowice, Kraków, małopolskie     12 600 zł/m²   \n2         Zauchy, Górka Narodowa, Kraków, małopolskie  19 162,96 zł/m²   \n3          Racławicka, Krowodrza, Kraków, małopolskie     15 000 zł/m²   \n4                Pustynna, Kliny, Kraków, małopolskie  16 887,14 zł/m²   \n5                 Wola Justowska, Kraków, małopolskie     16 800 zł/m²   \n6             Przemiarki, Ruczaj, Kraków, małopolskie     15 625 zł/m²   \n7    Felińskiego, Górka Narodowa, Kraków, małopolskie  12 120,80 zł/m²   \n8   Lublańska 13, Prądnik Czerwony, Kraków, małopo...     17 500 zł/m²   \n9       Szablowskiego, Bronowice, Kraków, małopolskie     14 975 zł/m²   \n10  Wzgórza Kzresławickie, Wzgórza Krzesławickie, ...   6 363,06 zł/m²   \n11         Cystersów, Grzegórzki, Kraków, małopolskie     21 500 zł/m²   \n12      Ułanów, Prądnik Czerwony, Kraków, małopolskie  12 866,45 zł/m²   \n13                 Bartla, Kliny, Kraków, małopolskie  15 558,14 zł/m²   \n14  Osiedle Tysiąclecia, Mistrzejowice, Kraków, ma...  15 946,75 zł/m²   \n15              Bojki, Kurdwanów, Kraków, małopolskie     12 700 zł/m²   \n16  Osiedle Bohaterów Września, Mistrzejowice, Kra...  13 418,63 zł/m²   \n17       Zawodzie, Prądnik Biały, Kraków, małopolskie     11 274 zł/m²   \n18               Obozowa, Ruczaj, Kraków, małopolskie  13 380,82 zł/m²   \n19      Beskidzka, Wola Duchacka, Kraków, małopolskie  13 870,97 zł/m²   \n\n   floor number  number of floors no of rooms year of construction  \\\n0             1               3.0           2                 1980   \n1             3               4.0           6                 2004   \n2             2               5.0           3                 2023   \n3             6              10.0           2                 1950   \n4        parter               1.0           3                 2013   \n5        parter               2.0           4                 2023   \n6             2               3.0           2                 2000   \n7             2               5.0           3                 2003   \n8             3               4.0           3                 2023   \n9        parter               3.0           2                 2001   \n10            1               2.0           5                 2023   \n11            7               7.0           3                 2017   \n12       parter              10.0           3                 1962   \n13            1               3.0           2                 2017   \n14            3               4.0           2                 1970   \n15            4               4.0           2                 1985   \n16            3               6.0           3                 1983   \n17            2              10.0           2                    -   \n18       parter               7.0           2                 2012   \n19            4              10.0           3                 1983   \n\n                   parking space  \\\n0                            tak   \n1            w garażu podziemnym   \n2                            tak   \n3   parking publiczny / na ulicy   \n4          garaż w bryle budynku   \n5          garaż w bryle budynku   \n6                          garaż   \n7   parking publiczny / na ulicy   \n8            w garażu podziemnym   \n9                            tak   \n10         garaż w bryle budynku   \n11                           tak   \n12                             -   \n13           w garażu podziemnym   \n14                             -   \n15  parking publiczny / na ulicy   \n16                             -   \n17          przynależne na ulicy   \n18          przynależne na ulicy   \n19                             -   \n\n                                               market  \\\n0                                              wtórny   \n1                                              wtórny   \n2                                              wtórny   \n3                                              wtórny   \n4                                              wtórny   \n5   pierwotny (zobacz inne nowe mieszkania w Krako...   \n6                                              wtórny   \n7                                              wtórny   \n8                                              wtórny   \n9                                              wtórny   \n10  pierwotny (zobacz inne nowe mieszkania w Krako...   \n11                                             wtórny   \n12                                             wtórny   \n13                                             wtórny   \n14                                             wtórny   \n15                                             wtórny   \n16                                             wtórny   \n17                                             wtórny   \n18                                             wtórny   \n19                                             wtórny   \n\n                              form of ownership  price_amount currency  \\\n0                                      własność      899000.0       zł   \n1                    własność, księga wieczysta     1575000.0       zł   \n2                                           NaN     1250000.0       zł   \n3                                           NaN      740250.0       zł   \n4                    własność, księga wieczysta     1200000.0       zł   \n5                                      własność     1198680.0       zł   \n6                                      własność      625000.0       zł   \n7                                           NaN      899000.0       zł   \n8                    własność, księga wieczysta     1050000.0       zł   \n9                    własność, księga wieczysta      599000.0       zł   \n10                   własność, księga wieczysta      999000.0       zł   \n11                                          NaN     1279250.0       zł   \n12  spółdzielcze własnościowe, księga wieczysta      790000.0       zł   \n13                                     własność      669000.0       zł   \n14                                          NaN      539000.0       zł   \n15                   własność, księga wieczysta      635000.0       zł   \n16  spółdzielcze własnościowe, księga wieczysta      860000.0       zł   \n17                                          NaN      699000.0       zł   \n18                   własność, księga wieczysta      695000.0       zł   \n19                                     własność      860000.0       zł   \n\n    area_amount area_unit  \n0         51.70        m²  \n1        125.00        m²  \n2         65.23        m²  \n3         49.35        m²  \n4         71.06        m²  \n5         71.35        m²  \n6         40.00        m²  \n7         74.17        m²  \n8         60.00        m²  \n9         40.00        m²  \n10       157.00        m²  \n11        59.50        m²  \n12        61.40        m²  \n13        43.00        m²  \n14        33.80        m²  \n15        50.00        m²  \n16        64.09        m²  \n17        62.00        m²  \n18        51.94        m²  \n19        62.00        m²  ",
      "text/html": "<div>\n<style scoped>\n    .dataframe tbody tr th:only-of-type {\n        vertical-align: middle;\n    }\n\n    .dataframe tbody tr th {\n        vertical-align: top;\n    }\n\n    .dataframe thead th {\n        text-align: right;\n    }\n</style>\n<table border=\"1\" class=\"dataframe\">\n  <thead>\n    <tr style=\"text-align: right;\">\n      <th></th>\n      <th>url</th>\n      <th>name/title</th>\n      <th>address</th>\n      <th>price-per-area</th>\n      <th>floor number</th>\n      <th>number of floors</th>\n      <th>no of rooms</th>\n      <th>year of construction</th>\n      <th>parking space</th>\n      <th>market</th>\n      <th>form of ownership</th>\n      <th>price_amount</th>\n      <th>currency</th>\n      <th>area_amount</th>\n      <th>area_unit</th>\n    </tr>\n  </thead>\n  <tbody>\n    <tr>\n      <th>0</th>\n      <td>https://krakow.nieruchomosci-online.pl/mieszka...</td>\n      <td>Mieszkanie, ul. Żelechowskiego</td>\n      <td>Żelechowskiego, Bronowice, Kraków, małopolskie</td>\n      <td>17 388,78 zł/m²</td>\n      <td>1</td>\n      <td>3.0</td>\n      <td>2</td>\n      <td>1980</td>\n      <td>tak</td>\n      <td>wtórny</td>\n      <td>własność</td>\n      <td>899000.0</td>\n      <td>zł</td>\n      <td>51.70</td>\n      <td>m²</td>\n    </tr>\n    <tr>\n      <th>1</th>\n      <td>https://krakow.nieruchomosci-online.pl/mieszka...</td>\n      <td>Mieszkanie, ul. Balicka</td>\n      <td>Balicka, Bronowice, Kraków, małopolskie</td>\n      <td>12 600 zł/m²</td>\n      <td>3</td>\n      <td>4.0</td>\n      <td>6</td>\n      <td>2004</td>\n      <td>w garażu podziemnym</td>\n      <td>wtórny</td>\n      <td>własność, księga wieczysta</td>\n      <td>1575000.0</td>\n      <td>zł</td>\n      <td>125.00</td>\n      <td>m²</td>\n    </tr>\n    <tr>\n      <th>2</th>\n      <td>https://krakow.nieruchomosci-online.pl/mieszka...</td>\n      <td>Mieszkanie, ul. Zauchy</td>\n      <td>Zauchy, Górka Narodowa, Kraków, małopolskie</td>\n      <td>19 162,96 zł/m²</td>\n      <td>2</td>\n      <td>5.0</td>\n      <td>3</td>\n      <td>2023</td>\n      <td>tak</td>\n      <td>wtórny</td>\n      <td>NaN</td>\n      <td>1250000.0</td>\n      <td>zł</td>\n      <td>65.23</td>\n      <td>m²</td>\n    </tr>\n    <tr>\n      <th>3</th>\n      <td>https://krakow.nieruchomosci-online.pl/mieszka...</td>\n      <td>Mieszkanie, ul. Racławicka</td>\n      <td>Racławicka, Krowodrza, Kraków, małopolskie</td>\n      <td>15 000 zł/m²</td>\n      <td>6</td>\n      <td>10.0</td>\n      <td>2</td>\n      <td>1950</td>\n      <td>parking publiczny / na ulicy</td>\n      <td>wtórny</td>\n      <td>NaN</td>\n      <td>740250.0</td>\n      <td>zł</td>\n      <td>49.35</td>\n      <td>m²</td>\n    </tr>\n    <tr>\n      <th>4</th>\n      <td>https://krakow.nieruchomosci-online.pl/mieszka...</td>\n      <td>Mieszkanie, ul. Pustynna</td>\n      <td>Pustynna, Kliny, Kraków, małopolskie</td>\n      <td>16 887,14 zł/m²</td>\n      <td>parter</td>\n      <td>1.0</td>\n      <td>3</td>\n      <td>2013</td>\n      <td>garaż w bryle budynku</td>\n      <td>wtórny</td>\n      <td>własność, księga wieczysta</td>\n      <td>1200000.0</td>\n      <td>zł</td>\n      <td>71.06</td>\n      <td>m²</td>\n    </tr>\n    <tr>\n      <th>5</th>\n      <td>https://krakow.nieruchomosci-online.pl/mieszka...</td>\n      <td>Apartament Kraków</td>\n      <td>Wola Justowska, Kraków, małopolskie</td>\n      <td>16 800 zł/m²</td>\n      <td>parter</td>\n      <td>2.0</td>\n      <td>4</td>\n      <td>2023</td>\n      <td>garaż w bryle budynku</td>\n      <td>pierwotny (zobacz inne nowe mieszkania w Krako...</td>\n      <td>własność</td>\n      <td>1198680.0</td>\n      <td>zł</td>\n      <td>71.35</td>\n      <td>m²</td>\n    </tr>\n    <tr>\n      <th>6</th>\n      <td>https://krakow.nieruchomosci-online.pl/mieszka...</td>\n      <td>Mieszkanie, ul. Przemiarki</td>\n      <td>Przemiarki, Ruczaj, Kraków, małopolskie</td>\n      <td>15 625 zł/m²</td>\n      <td>2</td>\n      <td>3.0</td>\n      <td>2</td>\n      <td>2000</td>\n      <td>garaż</td>\n      <td>wtórny</td>\n      <td>własność</td>\n      <td>625000.0</td>\n      <td>zł</td>\n      <td>40.00</td>\n      <td>m²</td>\n    </tr>\n    <tr>\n      <th>7</th>\n      <td>https://krakow.nieruchomosci-online.pl/mieszka...</td>\n      <td>Mieszkanie, ul. Felińskiego</td>\n      <td>Felińskiego, Górka Narodowa, Kraków, małopolskie</td>\n      <td>12 120,80 zł/m²</td>\n      <td>2</td>\n      <td>5.0</td>\n      <td>3</td>\n      <td>2003</td>\n      <td>parking publiczny / na ulicy</td>\n      <td>wtórny</td>\n      <td>NaN</td>\n      <td>899000.0</td>\n      <td>zł</td>\n      <td>74.17</td>\n      <td>m²</td>\n    </tr>\n    <tr>\n      <th>8</th>\n      <td>https://krakow.nieruchomosci-online.pl/mieszka...</td>\n      <td>Apartament, ul. Lublańska</td>\n      <td>Lublańska 13, Prądnik Czerwony, Kraków, małopo...</td>\n      <td>17 500 zł/m²</td>\n      <td>3</td>\n      <td>4.0</td>\n      <td>3</td>\n      <td>2023</td>\n      <td>w garażu podziemnym</td>\n      <td>wtórny</td>\n      <td>własność, księga wieczysta</td>\n      <td>1050000.0</td>\n      <td>zł</td>\n      <td>60.00</td>\n      <td>m²</td>\n    </tr>\n    <tr>\n      <th>9</th>\n      <td>https://krakow.nieruchomosci-online.pl/mieszka...</td>\n      <td>Apartament, ul. Szablowskiego</td>\n      <td>Szablowskiego, Bronowice, Kraków, małopolskie</td>\n      <td>14 975 zł/m²</td>\n      <td>parter</td>\n      <td>3.0</td>\n      <td>2</td>\n      <td>2001</td>\n      <td>tak</td>\n      <td>wtórny</td>\n      <td>własność, księga wieczysta</td>\n      <td>599000.0</td>\n      <td>zł</td>\n      <td>40.00</td>\n      <td>m²</td>\n    </tr>\n    <tr>\n      <th>10</th>\n      <td>https://krakow.nieruchomosci-online.pl/mieszka...</td>\n      <td>Mieszkanie Kraków</td>\n      <td>Wzgórza Kzresławickie, Wzgórza Krzesławickie, ...</td>\n      <td>6 363,06 zł/m²</td>\n      <td>1</td>\n      <td>2.0</td>\n      <td>5</td>\n      <td>2023</td>\n      <td>garaż w bryle budynku</td>\n      <td>pierwotny (zobacz inne nowe mieszkania w Krako...</td>\n      <td>własność, księga wieczysta</td>\n      <td>999000.0</td>\n      <td>zł</td>\n      <td>157.00</td>\n      <td>m²</td>\n    </tr>\n    <tr>\n      <th>11</th>\n      <td>https://krakow.nieruchomosci-online.pl/mieszka...</td>\n      <td>Mieszkanie, ul. Cystersów</td>\n      <td>Cystersów, Grzegórzki, Kraków, małopolskie</td>\n      <td>21 500 zł/m²</td>\n      <td>7</td>\n      <td>7.0</td>\n      <td>3</td>\n      <td>2017</td>\n      <td>tak</td>\n      <td>wtórny</td>\n      <td>NaN</td>\n      <td>1279250.0</td>\n      <td>zł</td>\n      <td>59.50</td>\n      <td>m²</td>\n    </tr>\n    <tr>\n      <th>12</th>\n      <td>https://krakow.nieruchomosci-online.pl/mieszka...</td>\n      <td>Mieszkanie, ul. Ułanów</td>\n      <td>Ułanów, Prądnik Czerwony, Kraków, małopolskie</td>\n      <td>12 866,45 zł/m²</td>\n      <td>parter</td>\n      <td>10.0</td>\n      <td>3</td>\n      <td>1962</td>\n      <td>-</td>\n      <td>wtórny</td>\n      <td>spółdzielcze własnościowe, księga wieczysta</td>\n      <td>790000.0</td>\n      <td>zł</td>\n      <td>61.40</td>\n      <td>m²</td>\n    </tr>\n    <tr>\n      <th>13</th>\n      <td>https://krakow.nieruchomosci-online.pl/mieszka...</td>\n      <td>Mieszkanie, ul. Bartla</td>\n      <td>Bartla, Kliny, Kraków, małopolskie</td>\n      <td>15 558,14 zł/m²</td>\n      <td>1</td>\n      <td>3.0</td>\n      <td>2</td>\n      <td>2017</td>\n      <td>w garażu podziemnym</td>\n      <td>wtórny</td>\n      <td>własność</td>\n      <td>669000.0</td>\n      <td>zł</td>\n      <td>43.00</td>\n      <td>m²</td>\n    </tr>\n    <tr>\n      <th>14</th>\n      <td>https://krakow.nieruchomosci-online.pl/mieszka...</td>\n      <td>Mieszkanie, Osiedle Tysiąclecia</td>\n      <td>Osiedle Tysiąclecia, Mistrzejowice, Kraków, ma...</td>\n      <td>15 946,75 zł/m²</td>\n      <td>3</td>\n      <td>4.0</td>\n      <td>2</td>\n      <td>1970</td>\n      <td>-</td>\n      <td>wtórny</td>\n      <td>NaN</td>\n      <td>539000.0</td>\n      <td>zł</td>\n      <td>33.80</td>\n      <td>m²</td>\n    </tr>\n    <tr>\n      <th>15</th>\n      <td>https://krakow.nieruchomosci-online.pl/mieszka...</td>\n      <td>Mieszkanie, ul. Bojki</td>\n      <td>Bojki, Kurdwanów, Kraków, małopolskie</td>\n      <td>12 700 zł/m²</td>\n      <td>4</td>\n      <td>4.0</td>\n      <td>2</td>\n      <td>1985</td>\n      <td>parking publiczny / na ulicy</td>\n      <td>wtórny</td>\n      <td>własność, księga wieczysta</td>\n      <td>635000.0</td>\n      <td>zł</td>\n      <td>50.00</td>\n      <td>m²</td>\n    </tr>\n    <tr>\n      <th>16</th>\n      <td>https://krakow.nieruchomosci-online.pl/mieszka...</td>\n      <td>Mieszkanie, Osiedle Bohaterów Września</td>\n      <td>Osiedle Bohaterów Września, Mistrzejowice, Kra...</td>\n      <td>13 418,63 zł/m²</td>\n      <td>3</td>\n      <td>6.0</td>\n      <td>3</td>\n      <td>1983</td>\n      <td>-</td>\n      <td>wtórny</td>\n      <td>spółdzielcze własnościowe, księga wieczysta</td>\n      <td>860000.0</td>\n      <td>zł</td>\n      <td>64.09</td>\n      <td>m²</td>\n    </tr>\n    <tr>\n      <th>17</th>\n      <td>https://krakow.nieruchomosci-online.pl/mieszka...</td>\n      <td>Mieszkanie, ul. Zawodzie</td>\n      <td>Zawodzie, Prądnik Biały, Kraków, małopolskie</td>\n      <td>11 274 zł/m²</td>\n      <td>2</td>\n      <td>10.0</td>\n      <td>2</td>\n      <td>-</td>\n      <td>przynależne na ulicy</td>\n      <td>wtórny</td>\n      <td>NaN</td>\n      <td>699000.0</td>\n      <td>zł</td>\n      <td>62.00</td>\n      <td>m²</td>\n    </tr>\n    <tr>\n      <th>18</th>\n      <td>https://krakow.nieruchomosci-online.pl/mieszka...</td>\n      <td>Mieszkanie, ul. Obozowa</td>\n      <td>Obozowa, Ruczaj, Kraków, małopolskie</td>\n      <td>13 380,82 zł/m²</td>\n      <td>parter</td>\n      <td>7.0</td>\n      <td>2</td>\n      <td>2012</td>\n      <td>przynależne na ulicy</td>\n      <td>wtórny</td>\n      <td>własność, księga wieczysta</td>\n      <td>695000.0</td>\n      <td>zł</td>\n      <td>51.94</td>\n      <td>m²</td>\n    </tr>\n    <tr>\n      <th>19</th>\n      <td>https://krakow.nieruchomosci-online.pl/mieszka...</td>\n      <td>Mieszkanie, ul. Beskidzka</td>\n      <td>Beskidzka, Wola Duchacka, Kraków, małopolskie</td>\n      <td>13 870,97 zł/m²</td>\n      <td>4</td>\n      <td>10.0</td>\n      <td>3</td>\n      <td>1983</td>\n      <td>-</td>\n      <td>wtórny</td>\n      <td>własność</td>\n      <td>860000.0</td>\n      <td>zł</td>\n      <td>62.00</td>\n      <td>m²</td>\n    </tr>\n  </tbody>\n</table>\n</div>"
     },
     "execution_count": 831,
     "metadata": {},
     "output_type": "execute_result"
    }
   ],
   "source": [
    "df.head(20)"
   ],
   "metadata": {
    "collapsed": false,
    "ExecuteTime": {
     "end_time": "2024-04-13T15:19:06.376119900Z",
     "start_time": "2024-04-13T15:19:06.324193700Z"
    }
   },
   "id": "9cb02080966cdcfa",
   "execution_count": 831
  },
  {
   "cell_type": "code",
   "outputs": [
    {
     "name": "stdout",
     "output_type": "stream",
     "text": [
      "Unikalne jednostki metryczne: ['własność' 'własność, księga wieczysta' nan\n",
      " 'spółdzielcze własnościowe, księga wieczysta'\n",
      " 'pierwotny (oferta dewelopera)' 'udział w KW' 'spółdzielcze własnościowe'\n",
      " 'udział ze wskazaniem, KW na budynku' 'księga wieczysta' 'inna' 'udział'\n",
      " 'inna, księga wieczysta' 'Udział ze wskazaniem' 'Udział'\n",
      " 'udział, księga wieczysta' 'udział ze wskazaniem' 'Chce dopłacić' 'tak']\n",
      "Unikalne waluty: ['wtórny' 'pierwotny (zobacz inne nowe mieszkania w Krakowie)' 'dostępne'\n",
      " 'II kwartał 2024' 'III kwartał 2024' 'IV kwartał 2022, oddana do użytku'\n",
      " 'II kwartał 2025' 'III kwartał 2025' 'październik 2023, zrealizowana'\n",
      " 'czerwiec 2023, zrealizowana' 'II kwartał 2023, oddana do użytku'\n",
      " 'sierpień 2024' 'październik 2025' 'IV kwartał 2024' nan 'zarezerwowane'\n",
      " 'sprzedane' 'I kwartał 2024' 'I kwartał 2025' 'IV kwartał 2025'\n",
      " 'lipiec 2025' '2025' 'III kwartał 2023, oddana do użytku'\n",
      " 'kwiecień 2023, oddana do użytku' 'marzec 2024' '1 miesiąc' 'natychmiast']\n"
     ]
    }
   ],
   "source": [
    "unique_area_units = df['form of ownership'].unique()\n",
    "print(\"Unikalne jednostki metryczne:\", unique_area_units)\n",
    "\n",
    "unique_currencies = df['market'].unique()\n",
    "print(\"Unikalne waluty:\", unique_currencies)"
   ],
   "metadata": {
    "collapsed": false,
    "ExecuteTime": {
     "end_time": "2024-04-13T15:19:06.429769500Z",
     "start_time": "2024-04-13T15:19:06.378121500Z"
    }
   },
   "id": "2be0531fc0a43020",
   "execution_count": 832
  },
  {
   "cell_type": "markdown",
   "source": [
    "## Missing Values"
   ],
   "metadata": {
    "collapsed": false
   },
   "id": "8039627380f96805"
  },
  {
   "cell_type": "markdown",
   "source": [
    "| Attribute               | Value |\n",
    "|-------------------------|-------|\n",
    "| url                     | 0     |\n",
    "| name/title              | 0     |\n",
    "| address                 | 101   |\n",
    "| price-per-area          | 29    |\n",
    "| floor number            | 0     |\n",
    "| number of floors        | 239   |\n",
    "| no of rooms             | 0     |\n",
    "| year of construction    | 0     |\n",
    "| parking space           | 0     |\n",
    "| market                  | 31    |\n",
    "| form of ownership       | 2461  |\n",
    "| price_amount            | 29    |\n",
    "| currency                | 29    |\n",
    "| area_amount             | 0     |\n",
    "| area_unit               | 0     |"
   ],
   "metadata": {
    "collapsed": false
   },
   "id": "e9d32201a70b2fa1"
  },
  {
   "cell_type": "code",
   "outputs": [],
   "source": [
    "# Nowe obliczenie price-per-area bo tamtemu nie ufam\n",
    "df['price_per_area (m2/zł)'] = round(df['price_amount'] / df['area_amount'], 2)\n",
    "df.drop(columns=['price-per-area'], inplace=True)"
   ],
   "metadata": {
    "collapsed": false,
    "ExecuteTime": {
     "end_time": "2024-04-13T15:19:06.451233700Z",
     "start_time": "2024-04-13T15:19:06.430776Z"
    }
   },
   "id": "3bf211b0b5539422",
   "execution_count": 833
  },
  {
   "cell_type": "markdown",
   "source": [],
   "metadata": {
    "collapsed": false
   },
   "id": "4fcfe6bee619ec8"
  },
  {
   "cell_type": "code",
   "outputs": [
    {
     "data": {
      "text/plain": "                                                    url  \\\n26    https://wieliczka.nieruchomosci-online.pl/nowe...   \n27    https://wieliczka.nieruchomosci-online.pl/nowe...   \n28    https://wieliczka.nieruchomosci-online.pl/nowe...   \n45    https://krakow.nieruchomosci-online.pl/nowe-mi...   \n172   https://krakow.nieruchomosci-online.pl/nowe-mi...   \n175   https://krakow.nieruchomosci-online.pl/nowe-mi...   \n177   https://krakow.nieruchomosci-online.pl/nowe-mi...   \n220   https://krakow.nieruchomosci-online.pl/nowe-mi...   \n221   https://krakow.nieruchomosci-online.pl/nowe-mi...   \n226   https://krakow.nieruchomosci-online.pl/nowe-mi...   \n257   https://krakow.nieruchomosci-online.pl/nowe-mi...   \n273   https://krakow.nieruchomosci-online.pl/nowe-mi...   \n274   https://krakow.nieruchomosci-online.pl/nowe-mi...   \n276   https://krakow.nieruchomosci-online.pl/nowe-mi...   \n304   https://krakow.nieruchomosci-online.pl/nowe-mi...   \n305   https://krakow.nieruchomosci-online.pl/nowe-mi...   \n309   https://krakow.nieruchomosci-online.pl/nowe-mi...   \n318   https://krakow.nieruchomosci-online.pl/nowe-mi...   \n321   https://krakow.nieruchomosci-online.pl/nowe-mi...   \n323   https://krakow.nieruchomosci-online.pl/nowe-mi...   \n367   https://krakow.nieruchomosci-online.pl/nowe-mi...   \n368   https://krakow.nieruchomosci-online.pl/nowe-mi...   \n369   https://krakow.nieruchomosci-online.pl/nowe-mi...   \n456   https://krakow.nieruchomosci-online.pl/nowe-mi...   \n545   https://krakow.nieruchomosci-online.pl/nowe-mi...   \n547   https://krakow.nieruchomosci-online.pl/nowe-mi...   \n550   https://krakow.nieruchomosci-online.pl/nowe-mi...   \n2387  https://krakow.nieruchomosci-online.pl/mieszka...   \n2737  https://krakow.nieruchomosci-online.pl/mieszka...   \n\n                                             name/title  \\\n26                       Nowe mieszkanie ul. Magnoliowa   \n27                       Nowe mieszkanie ul. Magnoliowa   \n28                       Nowe mieszkanie ul. Magnoliowa   \n45               Nowe mieszkanie Gotyk, ul. Grabczaka 8   \n172               Nowe mieszkanie Kleparz, ul. Długa 24   \n175               Nowe mieszkanie Kleparz, ul. Długa 24   \n177               Nowe mieszkanie Kleparz, ul. Długa 24   \n220          Nowe mieszkanie Olszyny, ul. Petrażyckiego   \n221          Nowe mieszkanie Olszyny, ul. Petrażyckiego   \n226          Nowe mieszkanie Olszyny, ul. Petrażyckiego   \n257              Nowe mieszkanie Czyżyny, ul. Strumyk 4   \n273   Nowe mieszkanie Dziekanowice, ul. Piasta Kołod...   \n274   Nowe mieszkanie Dziekanowice, ul. Piasta Kołod...   \n276   Nowe mieszkanie Dziekanowice, ul. Piasta Kołod...   \n304   Nowe mieszkanie Górka Narodowa, ul. Belwedercz...   \n305   Nowe mieszkanie Górka Narodowa, ul. Belwedercz...   \n309   Nowe mieszkanie Górka Narodowa, ul. Belwedercz...   \n318        Nowe mieszkanie Stare Miasto, ul. Grodzka 28   \n321        Nowe mieszkanie Stare Miasto, ul. Grodzka 28   \n323        Nowe mieszkanie Stare Miasto, ul. Grodzka 28   \n367           Nowe mieszkanie Płaszów, ul. Myśliwska 68   \n368           Nowe mieszkanie Płaszów, ul. Myśliwska 68   \n369           Nowe mieszkanie Płaszów, ul. Myśliwska 68   \n456   Nowe mieszkanie Prądnik Czerwony, ul. Strzelcó...   \n545      Nowe mieszkanie Bronowice Małe, ul. Wizjonerów   \n547      Nowe mieszkanie Bronowice Małe, ul. Wizjonerów   \n550      Nowe mieszkanie Bronowice Małe, ul. Wizjonerów   \n2387                         Apartament, ul. Wybickiego   \n2737                         Apartament, ul. Wybickiego   \n\n                                         address      floor number  \\\n26                                           NaN     wrzesień 2024   \n27                                           NaN     wrzesień 2024   \n28                                           NaN     wrzesień 2024   \n45                                           NaN  III kwartał 2024   \n172                                          NaN         luty 2024   \n175                                          NaN         luty 2024   \n177                                          NaN         luty 2024   \n220                                          NaN     wrzesień 2024   \n221                                          NaN     wrzesień 2024   \n226                                          NaN     wrzesień 2024   \n257                                          NaN   II kwartał 2025   \n273                                          NaN  III kwartał 2025   \n274                                          NaN  III kwartał 2025   \n276                                          NaN  III kwartał 2025   \n304                                          NaN     grudzień 2025   \n305                                          NaN     grudzień 2025   \n309                                          NaN     grudzień 2025   \n318                                          NaN    I kwartał 2024   \n321                                          NaN    I kwartał 2024   \n323                                          NaN    I kwartał 2024   \n367                                          NaN  III kwartał 2025   \n368                                          NaN  III kwartał 2025   \n369                                          NaN  III kwartał 2025   \n456                                          NaN  III kwartał 2025   \n545                                          NaN  oddana do użytku   \n547                                          NaN  oddana do użytku   \n550                                          NaN  oddana do użytku   \n2387  Wybickiego, Krowodrza, Kraków, małopolskie                 1   \n2737  Wybickiego, Krowodrza, Kraków, małopolskie                 3   \n\n      number of floors no of rooms year of construction parking space  \\\n26                 NaN           1                    3             -   \n27                 NaN           1                    3      naziemne   \n28                 NaN           1                    3      naziemne   \n45                 NaN    suterena                    3         garaż   \n172                NaN           4                    2         garaż   \n175                NaN           4                    2         garaż   \n177                NaN           4                    2         garaż   \n220                NaN           1                    4      naziemne   \n221                NaN      parter                    3      naziemne   \n226                NaN           1                    4      naziemne   \n257                NaN           3                    5         garaż   \n273                NaN           5                    2         garaż   \n274                NaN      parter                    3         garaż   \n276                NaN           2                    3         garaż   \n304                NaN           3                    3         garaż   \n305                NaN           4                    2         garaż   \n309                NaN           5                    3         garaż   \n318                NaN           2                    2             -   \n321                NaN           3                    2             -   \n323                NaN           2                    1             -   \n367                NaN           1                    2         garaż   \n368                NaN           5                    4         garaż   \n369                NaN           1                    2         garaż   \n456                NaN           4                    4         garaż   \n545                NaN           5                    3         garaż   \n547                NaN           2                    2         garaż   \n550                NaN           5                    2         garaż   \n2387               7.0           3                 2023         garaż   \n2737               7.0           2                 2023         garaż   \n\n             market form of ownership  price_amount currency  area_amount  \\\n26         dostępne               NaN           NaN      NaN        57.83   \n27         dostępne               NaN           NaN      NaN        57.83   \n28         dostępne               NaN           NaN      NaN        57.83   \n45         dostępne               NaN           NaN      NaN        58.36   \n172        dostępne               NaN           NaN      NaN        39.84   \n175        dostępne               NaN           NaN      NaN        57.45   \n177        dostępne               NaN           NaN      NaN        38.93   \n220        dostępne               NaN           NaN      NaN        93.00   \n221   zarezerwowane               NaN           NaN      NaN        55.00   \n226        dostępne               NaN           NaN      NaN        93.00   \n257       sprzedane               NaN           NaN      NaN       103.84   \n273        dostępne               NaN           NaN      NaN        37.15   \n274        dostępne               NaN           NaN      NaN        45.01   \n276        dostępne               NaN           NaN      NaN        45.14   \n304        dostępne               NaN           NaN      NaN        49.55   \n305        dostępne               NaN           NaN      NaN        36.35   \n309        dostępne               NaN           NaN      NaN        54.20   \n318        dostępne               NaN           NaN      NaN        51.52   \n321        dostępne               NaN           NaN      NaN        43.30   \n323        dostępne               NaN           NaN      NaN        30.75   \n367        dostępne               NaN           NaN      NaN        44.14   \n368        dostępne               NaN           NaN      NaN        80.64   \n369        dostępne               NaN           NaN      NaN        44.16   \n456        dostępne               NaN           NaN      NaN        67.57   \n545        dostępne               NaN           NaN      NaN        56.13   \n547        dostępne               NaN           NaN      NaN        43.65   \n550        dostępne               NaN           NaN      NaN        42.78   \n2387            NaN               NaN           NaN      NaN        58.89   \n2737            NaN               NaN           NaN      NaN        40.02   \n\n     area_unit  price_per_area (m2/zł)  \n26          m²                     NaN  \n27          m²                     NaN  \n28          m²                     NaN  \n45          m²                     NaN  \n172         m²                     NaN  \n175         m²                     NaN  \n177         m²                     NaN  \n220         m²                     NaN  \n221         m²                     NaN  \n226         m²                     NaN  \n257         m²                     NaN  \n273         m²                     NaN  \n274         m²                     NaN  \n276         m²                     NaN  \n304         m²                     NaN  \n305         m²                     NaN  \n309         m²                     NaN  \n318         m²                     NaN  \n321         m²                     NaN  \n323         m²                     NaN  \n367         m²                     NaN  \n368         m²                     NaN  \n369         m²                     NaN  \n456         m²                     NaN  \n545         m²                     NaN  \n547         m²                     NaN  \n550         m²                     NaN  \n2387        m²                     NaN  \n2737        m²                     NaN  ",
      "text/html": "<div>\n<style scoped>\n    .dataframe tbody tr th:only-of-type {\n        vertical-align: middle;\n    }\n\n    .dataframe tbody tr th {\n        vertical-align: top;\n    }\n\n    .dataframe thead th {\n        text-align: right;\n    }\n</style>\n<table border=\"1\" class=\"dataframe\">\n  <thead>\n    <tr style=\"text-align: right;\">\n      <th></th>\n      <th>url</th>\n      <th>name/title</th>\n      <th>address</th>\n      <th>floor number</th>\n      <th>number of floors</th>\n      <th>no of rooms</th>\n      <th>year of construction</th>\n      <th>parking space</th>\n      <th>market</th>\n      <th>form of ownership</th>\n      <th>price_amount</th>\n      <th>currency</th>\n      <th>area_amount</th>\n      <th>area_unit</th>\n      <th>price_per_area (m2/zł)</th>\n    </tr>\n  </thead>\n  <tbody>\n    <tr>\n      <th>26</th>\n      <td>https://wieliczka.nieruchomosci-online.pl/nowe...</td>\n      <td>Nowe mieszkanie ul. Magnoliowa</td>\n      <td>NaN</td>\n      <td>wrzesień 2024</td>\n      <td>NaN</td>\n      <td>1</td>\n      <td>3</td>\n      <td>-</td>\n      <td>dostępne</td>\n      <td>NaN</td>\n      <td>NaN</td>\n      <td>NaN</td>\n      <td>57.83</td>\n      <td>m²</td>\n      <td>NaN</td>\n    </tr>\n    <tr>\n      <th>27</th>\n      <td>https://wieliczka.nieruchomosci-online.pl/nowe...</td>\n      <td>Nowe mieszkanie ul. Magnoliowa</td>\n      <td>NaN</td>\n      <td>wrzesień 2024</td>\n      <td>NaN</td>\n      <td>1</td>\n      <td>3</td>\n      <td>naziemne</td>\n      <td>dostępne</td>\n      <td>NaN</td>\n      <td>NaN</td>\n      <td>NaN</td>\n      <td>57.83</td>\n      <td>m²</td>\n      <td>NaN</td>\n    </tr>\n    <tr>\n      <th>28</th>\n      <td>https://wieliczka.nieruchomosci-online.pl/nowe...</td>\n      <td>Nowe mieszkanie ul. Magnoliowa</td>\n      <td>NaN</td>\n      <td>wrzesień 2024</td>\n      <td>NaN</td>\n      <td>1</td>\n      <td>3</td>\n      <td>naziemne</td>\n      <td>dostępne</td>\n      <td>NaN</td>\n      <td>NaN</td>\n      <td>NaN</td>\n      <td>57.83</td>\n      <td>m²</td>\n      <td>NaN</td>\n    </tr>\n    <tr>\n      <th>45</th>\n      <td>https://krakow.nieruchomosci-online.pl/nowe-mi...</td>\n      <td>Nowe mieszkanie Gotyk, ul. Grabczaka 8</td>\n      <td>NaN</td>\n      <td>III kwartał 2024</td>\n      <td>NaN</td>\n      <td>suterena</td>\n      <td>3</td>\n      <td>garaż</td>\n      <td>dostępne</td>\n      <td>NaN</td>\n      <td>NaN</td>\n      <td>NaN</td>\n      <td>58.36</td>\n      <td>m²</td>\n      <td>NaN</td>\n    </tr>\n    <tr>\n      <th>172</th>\n      <td>https://krakow.nieruchomosci-online.pl/nowe-mi...</td>\n      <td>Nowe mieszkanie Kleparz, ul. Długa 24</td>\n      <td>NaN</td>\n      <td>luty 2024</td>\n      <td>NaN</td>\n      <td>4</td>\n      <td>2</td>\n      <td>garaż</td>\n      <td>dostępne</td>\n      <td>NaN</td>\n      <td>NaN</td>\n      <td>NaN</td>\n      <td>39.84</td>\n      <td>m²</td>\n      <td>NaN</td>\n    </tr>\n    <tr>\n      <th>175</th>\n      <td>https://krakow.nieruchomosci-online.pl/nowe-mi...</td>\n      <td>Nowe mieszkanie Kleparz, ul. Długa 24</td>\n      <td>NaN</td>\n      <td>luty 2024</td>\n      <td>NaN</td>\n      <td>4</td>\n      <td>2</td>\n      <td>garaż</td>\n      <td>dostępne</td>\n      <td>NaN</td>\n      <td>NaN</td>\n      <td>NaN</td>\n      <td>57.45</td>\n      <td>m²</td>\n      <td>NaN</td>\n    </tr>\n    <tr>\n      <th>177</th>\n      <td>https://krakow.nieruchomosci-online.pl/nowe-mi...</td>\n      <td>Nowe mieszkanie Kleparz, ul. Długa 24</td>\n      <td>NaN</td>\n      <td>luty 2024</td>\n      <td>NaN</td>\n      <td>4</td>\n      <td>2</td>\n      <td>garaż</td>\n      <td>dostępne</td>\n      <td>NaN</td>\n      <td>NaN</td>\n      <td>NaN</td>\n      <td>38.93</td>\n      <td>m²</td>\n      <td>NaN</td>\n    </tr>\n    <tr>\n      <th>220</th>\n      <td>https://krakow.nieruchomosci-online.pl/nowe-mi...</td>\n      <td>Nowe mieszkanie Olszyny, ul. Petrażyckiego</td>\n      <td>NaN</td>\n      <td>wrzesień 2024</td>\n      <td>NaN</td>\n      <td>1</td>\n      <td>4</td>\n      <td>naziemne</td>\n      <td>dostępne</td>\n      <td>NaN</td>\n      <td>NaN</td>\n      <td>NaN</td>\n      <td>93.00</td>\n      <td>m²</td>\n      <td>NaN</td>\n    </tr>\n    <tr>\n      <th>221</th>\n      <td>https://krakow.nieruchomosci-online.pl/nowe-mi...</td>\n      <td>Nowe mieszkanie Olszyny, ul. Petrażyckiego</td>\n      <td>NaN</td>\n      <td>wrzesień 2024</td>\n      <td>NaN</td>\n      <td>parter</td>\n      <td>3</td>\n      <td>naziemne</td>\n      <td>zarezerwowane</td>\n      <td>NaN</td>\n      <td>NaN</td>\n      <td>NaN</td>\n      <td>55.00</td>\n      <td>m²</td>\n      <td>NaN</td>\n    </tr>\n    <tr>\n      <th>226</th>\n      <td>https://krakow.nieruchomosci-online.pl/nowe-mi...</td>\n      <td>Nowe mieszkanie Olszyny, ul. Petrażyckiego</td>\n      <td>NaN</td>\n      <td>wrzesień 2024</td>\n      <td>NaN</td>\n      <td>1</td>\n      <td>4</td>\n      <td>naziemne</td>\n      <td>dostępne</td>\n      <td>NaN</td>\n      <td>NaN</td>\n      <td>NaN</td>\n      <td>93.00</td>\n      <td>m²</td>\n      <td>NaN</td>\n    </tr>\n    <tr>\n      <th>257</th>\n      <td>https://krakow.nieruchomosci-online.pl/nowe-mi...</td>\n      <td>Nowe mieszkanie Czyżyny, ul. Strumyk 4</td>\n      <td>NaN</td>\n      <td>II kwartał 2025</td>\n      <td>NaN</td>\n      <td>3</td>\n      <td>5</td>\n      <td>garaż</td>\n      <td>sprzedane</td>\n      <td>NaN</td>\n      <td>NaN</td>\n      <td>NaN</td>\n      <td>103.84</td>\n      <td>m²</td>\n      <td>NaN</td>\n    </tr>\n    <tr>\n      <th>273</th>\n      <td>https://krakow.nieruchomosci-online.pl/nowe-mi...</td>\n      <td>Nowe mieszkanie Dziekanowice, ul. Piasta Kołod...</td>\n      <td>NaN</td>\n      <td>III kwartał 2025</td>\n      <td>NaN</td>\n      <td>5</td>\n      <td>2</td>\n      <td>garaż</td>\n      <td>dostępne</td>\n      <td>NaN</td>\n      <td>NaN</td>\n      <td>NaN</td>\n      <td>37.15</td>\n      <td>m²</td>\n      <td>NaN</td>\n    </tr>\n    <tr>\n      <th>274</th>\n      <td>https://krakow.nieruchomosci-online.pl/nowe-mi...</td>\n      <td>Nowe mieszkanie Dziekanowice, ul. Piasta Kołod...</td>\n      <td>NaN</td>\n      <td>III kwartał 2025</td>\n      <td>NaN</td>\n      <td>parter</td>\n      <td>3</td>\n      <td>garaż</td>\n      <td>dostępne</td>\n      <td>NaN</td>\n      <td>NaN</td>\n      <td>NaN</td>\n      <td>45.01</td>\n      <td>m²</td>\n      <td>NaN</td>\n    </tr>\n    <tr>\n      <th>276</th>\n      <td>https://krakow.nieruchomosci-online.pl/nowe-mi...</td>\n      <td>Nowe mieszkanie Dziekanowice, ul. Piasta Kołod...</td>\n      <td>NaN</td>\n      <td>III kwartał 2025</td>\n      <td>NaN</td>\n      <td>2</td>\n      <td>3</td>\n      <td>garaż</td>\n      <td>dostępne</td>\n      <td>NaN</td>\n      <td>NaN</td>\n      <td>NaN</td>\n      <td>45.14</td>\n      <td>m²</td>\n      <td>NaN</td>\n    </tr>\n    <tr>\n      <th>304</th>\n      <td>https://krakow.nieruchomosci-online.pl/nowe-mi...</td>\n      <td>Nowe mieszkanie Górka Narodowa, ul. Belwedercz...</td>\n      <td>NaN</td>\n      <td>grudzień 2025</td>\n      <td>NaN</td>\n      <td>3</td>\n      <td>3</td>\n      <td>garaż</td>\n      <td>dostępne</td>\n      <td>NaN</td>\n      <td>NaN</td>\n      <td>NaN</td>\n      <td>49.55</td>\n      <td>m²</td>\n      <td>NaN</td>\n    </tr>\n    <tr>\n      <th>305</th>\n      <td>https://krakow.nieruchomosci-online.pl/nowe-mi...</td>\n      <td>Nowe mieszkanie Górka Narodowa, ul. Belwedercz...</td>\n      <td>NaN</td>\n      <td>grudzień 2025</td>\n      <td>NaN</td>\n      <td>4</td>\n      <td>2</td>\n      <td>garaż</td>\n      <td>dostępne</td>\n      <td>NaN</td>\n      <td>NaN</td>\n      <td>NaN</td>\n      <td>36.35</td>\n      <td>m²</td>\n      <td>NaN</td>\n    </tr>\n    <tr>\n      <th>309</th>\n      <td>https://krakow.nieruchomosci-online.pl/nowe-mi...</td>\n      <td>Nowe mieszkanie Górka Narodowa, ul. Belwedercz...</td>\n      <td>NaN</td>\n      <td>grudzień 2025</td>\n      <td>NaN</td>\n      <td>5</td>\n      <td>3</td>\n      <td>garaż</td>\n      <td>dostępne</td>\n      <td>NaN</td>\n      <td>NaN</td>\n      <td>NaN</td>\n      <td>54.20</td>\n      <td>m²</td>\n      <td>NaN</td>\n    </tr>\n    <tr>\n      <th>318</th>\n      <td>https://krakow.nieruchomosci-online.pl/nowe-mi...</td>\n      <td>Nowe mieszkanie Stare Miasto, ul. Grodzka 28</td>\n      <td>NaN</td>\n      <td>I kwartał 2024</td>\n      <td>NaN</td>\n      <td>2</td>\n      <td>2</td>\n      <td>-</td>\n      <td>dostępne</td>\n      <td>NaN</td>\n      <td>NaN</td>\n      <td>NaN</td>\n      <td>51.52</td>\n      <td>m²</td>\n      <td>NaN</td>\n    </tr>\n    <tr>\n      <th>321</th>\n      <td>https://krakow.nieruchomosci-online.pl/nowe-mi...</td>\n      <td>Nowe mieszkanie Stare Miasto, ul. Grodzka 28</td>\n      <td>NaN</td>\n      <td>I kwartał 2024</td>\n      <td>NaN</td>\n      <td>3</td>\n      <td>2</td>\n      <td>-</td>\n      <td>dostępne</td>\n      <td>NaN</td>\n      <td>NaN</td>\n      <td>NaN</td>\n      <td>43.30</td>\n      <td>m²</td>\n      <td>NaN</td>\n    </tr>\n    <tr>\n      <th>323</th>\n      <td>https://krakow.nieruchomosci-online.pl/nowe-mi...</td>\n      <td>Nowe mieszkanie Stare Miasto, ul. Grodzka 28</td>\n      <td>NaN</td>\n      <td>I kwartał 2024</td>\n      <td>NaN</td>\n      <td>2</td>\n      <td>1</td>\n      <td>-</td>\n      <td>dostępne</td>\n      <td>NaN</td>\n      <td>NaN</td>\n      <td>NaN</td>\n      <td>30.75</td>\n      <td>m²</td>\n      <td>NaN</td>\n    </tr>\n    <tr>\n      <th>367</th>\n      <td>https://krakow.nieruchomosci-online.pl/nowe-mi...</td>\n      <td>Nowe mieszkanie Płaszów, ul. Myśliwska 68</td>\n      <td>NaN</td>\n      <td>III kwartał 2025</td>\n      <td>NaN</td>\n      <td>1</td>\n      <td>2</td>\n      <td>garaż</td>\n      <td>dostępne</td>\n      <td>NaN</td>\n      <td>NaN</td>\n      <td>NaN</td>\n      <td>44.14</td>\n      <td>m²</td>\n      <td>NaN</td>\n    </tr>\n    <tr>\n      <th>368</th>\n      <td>https://krakow.nieruchomosci-online.pl/nowe-mi...</td>\n      <td>Nowe mieszkanie Płaszów, ul. Myśliwska 68</td>\n      <td>NaN</td>\n      <td>III kwartał 2025</td>\n      <td>NaN</td>\n      <td>5</td>\n      <td>4</td>\n      <td>garaż</td>\n      <td>dostępne</td>\n      <td>NaN</td>\n      <td>NaN</td>\n      <td>NaN</td>\n      <td>80.64</td>\n      <td>m²</td>\n      <td>NaN</td>\n    </tr>\n    <tr>\n      <th>369</th>\n      <td>https://krakow.nieruchomosci-online.pl/nowe-mi...</td>\n      <td>Nowe mieszkanie Płaszów, ul. Myśliwska 68</td>\n      <td>NaN</td>\n      <td>III kwartał 2025</td>\n      <td>NaN</td>\n      <td>1</td>\n      <td>2</td>\n      <td>garaż</td>\n      <td>dostępne</td>\n      <td>NaN</td>\n      <td>NaN</td>\n      <td>NaN</td>\n      <td>44.16</td>\n      <td>m²</td>\n      <td>NaN</td>\n    </tr>\n    <tr>\n      <th>456</th>\n      <td>https://krakow.nieruchomosci-online.pl/nowe-mi...</td>\n      <td>Nowe mieszkanie Prądnik Czerwony, ul. Strzelcó...</td>\n      <td>NaN</td>\n      <td>III kwartał 2025</td>\n      <td>NaN</td>\n      <td>4</td>\n      <td>4</td>\n      <td>garaż</td>\n      <td>dostępne</td>\n      <td>NaN</td>\n      <td>NaN</td>\n      <td>NaN</td>\n      <td>67.57</td>\n      <td>m²</td>\n      <td>NaN</td>\n    </tr>\n    <tr>\n      <th>545</th>\n      <td>https://krakow.nieruchomosci-online.pl/nowe-mi...</td>\n      <td>Nowe mieszkanie Bronowice Małe, ul. Wizjonerów</td>\n      <td>NaN</td>\n      <td>oddana do użytku</td>\n      <td>NaN</td>\n      <td>5</td>\n      <td>3</td>\n      <td>garaż</td>\n      <td>dostępne</td>\n      <td>NaN</td>\n      <td>NaN</td>\n      <td>NaN</td>\n      <td>56.13</td>\n      <td>m²</td>\n      <td>NaN</td>\n    </tr>\n    <tr>\n      <th>547</th>\n      <td>https://krakow.nieruchomosci-online.pl/nowe-mi...</td>\n      <td>Nowe mieszkanie Bronowice Małe, ul. Wizjonerów</td>\n      <td>NaN</td>\n      <td>oddana do użytku</td>\n      <td>NaN</td>\n      <td>2</td>\n      <td>2</td>\n      <td>garaż</td>\n      <td>dostępne</td>\n      <td>NaN</td>\n      <td>NaN</td>\n      <td>NaN</td>\n      <td>43.65</td>\n      <td>m²</td>\n      <td>NaN</td>\n    </tr>\n    <tr>\n      <th>550</th>\n      <td>https://krakow.nieruchomosci-online.pl/nowe-mi...</td>\n      <td>Nowe mieszkanie Bronowice Małe, ul. Wizjonerów</td>\n      <td>NaN</td>\n      <td>oddana do użytku</td>\n      <td>NaN</td>\n      <td>5</td>\n      <td>2</td>\n      <td>garaż</td>\n      <td>dostępne</td>\n      <td>NaN</td>\n      <td>NaN</td>\n      <td>NaN</td>\n      <td>42.78</td>\n      <td>m²</td>\n      <td>NaN</td>\n    </tr>\n    <tr>\n      <th>2387</th>\n      <td>https://krakow.nieruchomosci-online.pl/mieszka...</td>\n      <td>Apartament, ul. Wybickiego</td>\n      <td>Wybickiego, Krowodrza, Kraków, małopolskie</td>\n      <td>1</td>\n      <td>7.0</td>\n      <td>3</td>\n      <td>2023</td>\n      <td>garaż</td>\n      <td>NaN</td>\n      <td>NaN</td>\n      <td>NaN</td>\n      <td>NaN</td>\n      <td>58.89</td>\n      <td>m²</td>\n      <td>NaN</td>\n    </tr>\n    <tr>\n      <th>2737</th>\n      <td>https://krakow.nieruchomosci-online.pl/mieszka...</td>\n      <td>Apartament, ul. Wybickiego</td>\n      <td>Wybickiego, Krowodrza, Kraków, małopolskie</td>\n      <td>3</td>\n      <td>7.0</td>\n      <td>2</td>\n      <td>2023</td>\n      <td>garaż</td>\n      <td>NaN</td>\n      <td>NaN</td>\n      <td>NaN</td>\n      <td>NaN</td>\n      <td>40.02</td>\n      <td>m²</td>\n      <td>NaN</td>\n    </tr>\n  </tbody>\n</table>\n</div>"
     },
     "execution_count": 834,
     "metadata": {},
     "output_type": "execute_result"
    }
   ],
   "source": [
    "# Wywalam wszystkie kolumny, w których nie mam danych odnośnie ceny\n",
    "missing_currency = df[df['currency'].isnull()]\n",
    "missing_currency"
   ],
   "metadata": {
    "collapsed": false,
    "ExecuteTime": {
     "end_time": "2024-04-13T15:19:06.515285100Z",
     "start_time": "2024-04-13T15:19:06.451233700Z"
    }
   },
   "id": "acb9c5c6e06e6344",
   "execution_count": 834
  },
  {
   "cell_type": "code",
   "outputs": [
    {
     "data": {
      "text/plain": "26                                             NaN\n27                                             NaN\n28                                             NaN\n45                                             NaN\n172                                            NaN\n175                                            NaN\n177                                            NaN\n220                                            NaN\n221                                            NaN\n226                                            NaN\n257                                            NaN\n273                                            NaN\n274                                            NaN\n276                                            NaN\n304                                            NaN\n305                                            NaN\n309                                            NaN\n318                                            NaN\n321                                            NaN\n323                                            NaN\n367                                            NaN\n368                                            NaN\n369                                            NaN\n456                                            NaN\n545                                            NaN\n547                                            NaN\n550                                            NaN\n2387    Wybickiego, Krowodrza, Kraków, małopolskie\n2737    Wybickiego, Krowodrza, Kraków, małopolskie\nName: address, dtype: object"
     },
     "execution_count": 835,
     "metadata": {},
     "output_type": "execute_result"
    }
   ],
   "source": [
    "# Brak przesunięcia w danych z missing price więc usuwam wszystkie, które nie posiadają wyceny\n",
    "missing_currency['address']"
   ],
   "metadata": {
    "collapsed": false,
    "ExecuteTime": {
     "end_time": "2024-04-13T15:19:06.543089200Z",
     "start_time": "2024-04-13T15:19:06.515285100Z"
    }
   },
   "id": "29551b9d202231fd",
   "execution_count": 835
  },
  {
   "cell_type": "code",
   "outputs": [],
   "source": [
    "df.dropna(subset=['price_amount'], inplace=True)"
   ],
   "metadata": {
    "collapsed": false,
    "ExecuteTime": {
     "end_time": "2024-04-13T15:19:06.547255Z",
     "start_time": "2024-04-13T15:19:06.533877900Z"
    }
   },
   "id": "93251c4760b654ed",
   "execution_count": 836
  },
  {
   "cell_type": "code",
   "outputs": [],
   "source": [
    "# Wywalam całą kolumnę form of ownership bo ma ponad 2500 pustych wierszy\n",
    "df.drop(columns=['form of ownership'], inplace=True)"
   ],
   "metadata": {
    "collapsed": false,
    "ExecuteTime": {
     "end_time": "2024-04-13T15:19:06.571124900Z",
     "start_time": "2024-04-13T15:19:06.548256Z"
    }
   },
   "id": "6de137f8c0b59ec5",
   "execution_count": 837
  },
  {
   "cell_type": "code",
   "outputs": [
    {
     "name": "stdout",
     "output_type": "stream",
     "text": [
      "Unikalne wartości w number of floors: [ 3.  4.  5. 10.  1.  2.  7.  6.  9. nan  8. 14. 11. 15. 16. 13. 12. 45.]\n"
     ]
    }
   ],
   "source": [
    "# Z racji tego, że brakuje tylko 29 marketów na prawie 4000 mieszkań to braki uzupełnię średnia.\n",
    "# TODO, może się tak zdażyć, że floor number będzie większe niż number of floors, więc trzeba też napisać kod, który zmienia tą wartość jeśli floor number jest większe\n",
    "\n",
    "number_of_floors_na = df['number of floors'].unique()\n",
    "print(\"Unikalne wartości w number of floors:\", number_of_floors_na)"
   ],
   "metadata": {
    "collapsed": false,
    "ExecuteTime": {
     "end_time": "2024-04-13T15:19:06.616786300Z",
     "start_time": "2024-04-13T15:19:06.572125700Z"
    }
   },
   "id": "288836ddbe23c924",
   "execution_count": 838
  },
  {
   "cell_type": "code",
   "outputs": [
    {
     "name": "stdout",
     "output_type": "stream",
     "text": [
      "Średnia wartość w mean number of floors: 5\n"
     ]
    }
   ],
   "source": [
    "mean_number_of_floors = round(df['number of floors'].mean())\n",
    "fill_value = {'number of floors': mean_number_of_floors}\n",
    "df.fillna(value=fill_value, inplace=True)\n",
    "\n",
    "print(\"Średnia wartość w mean number of floors:\", mean_number_of_floors)"
   ],
   "metadata": {
    "collapsed": false,
    "ExecuteTime": {
     "end_time": "2024-04-13T15:19:06.676333100Z",
     "start_time": "2024-04-13T15:19:06.598174800Z"
    }
   },
   "id": "9300c8c9fe888c0d",
   "execution_count": 839
  },
  {
   "cell_type": "code",
   "outputs": [
    {
     "name": "stdout",
     "output_type": "stream",
     "text": [
      "Unikalne jednostki metryczne: ['wtórny' 'pierwotny (zobacz inne nowe mieszkania w Krakowie)'\n",
      " 'II kwartał 2024' 'III kwartał 2024' 'IV kwartał 2022, oddana do użytku'\n",
      " 'II kwartał 2025' 'III kwartał 2025' 'październik 2023, zrealizowana'\n",
      " 'czerwiec 2023, zrealizowana' 'II kwartał 2023, oddana do użytku'\n",
      " 'sierpień 2024' 'październik 2025' 'IV kwartał 2024' nan 'I kwartał 2024'\n",
      " 'I kwartał 2025' 'IV kwartał 2025' 'lipiec 2025' '2025'\n",
      " 'III kwartał 2023, oddana do użytku' 'kwiecień 2023, oddana do użytku'\n",
      " 'marzec 2024' '1 miesiąc' 'natychmiast']\n"
     ]
    }
   ],
   "source": [
    "# TODO, TU JEST PROBLEM (którego rozwiązania teraz nie wymyśle WIĘC żeby ruszyć dalej pozbywam się tej kolumny. (prawdopodobnie się jej pozbędziemy)\n",
    "\n",
    "market = df['market'].unique()\n",
    "print(\"Unikalne jednostki metryczne:\", market)\n",
    "\n",
    "df.drop(columns=['market'], inplace=True)"
   ],
   "metadata": {
    "collapsed": false,
    "ExecuteTime": {
     "end_time": "2024-04-13T15:19:06.726836300Z",
     "start_time": "2024-04-13T15:19:06.678334400Z"
    }
   },
   "id": "2df278a0d70b4390",
   "execution_count": 840
  },
  {
   "cell_type": "code",
   "outputs": [
    {
     "data": {
      "text/plain": "url                        0\nname/title                 0\naddress                   74\nfloor number               0\nnumber of floors           0\nno of rooms                0\nyear of construction       0\nparking space              0\nprice_amount               0\ncurrency                   0\narea_amount                0\narea_unit                  0\nprice_per_area (m2/zł)     0\ndtype: int64"
     },
     "execution_count": 841,
     "metadata": {},
     "output_type": "execute_result"
    }
   ],
   "source": [
    "df.isnull().sum()"
   ],
   "metadata": {
    "collapsed": false,
    "ExecuteTime": {
     "end_time": "2024-04-13T15:19:06.744871600Z",
     "start_time": "2024-04-13T15:19:06.718861300Z"
    }
   },
   "id": "81dbafd1a45b56aa",
   "execution_count": 841
  },
  {
   "cell_type": "markdown",
   "source": [
    "## Shifted data / String data"
   ],
   "metadata": {
    "collapsed": false
   },
   "id": "8b0f9a16fa615dc7"
  },
  {
   "cell_type": "code",
   "outputs": [
    {
     "name": "stdout",
     "output_type": "stream",
     "text": [
      "Unikalne wartości 'parking': ['tak' 'w garażu podziemnym' 'parking publiczny / na ulicy'\n",
      " 'garaż w bryle budynku' 'garaż' '-' 'przynależne na ulicy'\n",
      " 'przynależne na terenie ogrodzonym' 'możliwość wykupienia' 'naziemne'\n",
      " 'garaż wolnostojący' 'parking strzeżony w pobliżu' 'wiata garażowa']\n"
     ]
    }
   ],
   "source": [
    "unique_parking = df['parking space'].unique()\n",
    "print(\"Unikalne wartości 'parking':\", unique_parking)"
   ],
   "metadata": {
    "collapsed": false,
    "ExecuteTime": {
     "end_time": "2024-04-13T15:19:06.749846800Z",
     "start_time": "2024-04-13T15:19:06.734567300Z"
    }
   },
   "id": "ea574b41c31bca9c",
   "execution_count": 842
  },
  {
   "cell_type": "code",
   "outputs": [
    {
     "data": {
      "text/plain": "parking space\n-                                    965\nw garażu podziemnym                  590\ntak                                  572\nparking publiczny / na ulicy         564\ngaraż                                439\nprzynależne na ulicy                 264\ngaraż wolnostojący                   161\ngaraż w bryle budynku                116\nprzynależne na terenie ogrodzonym     97\nparking strzeżony w pobliżu           84\nmożliwość wykupienia                  39\nnaziemne                              17\nwiata garażowa                        12\nName: count, dtype: int64"
     },
     "execution_count": 843,
     "metadata": {},
     "output_type": "execute_result"
    }
   ],
   "source": [
    "# TODO, dokonuję uproszczeń, nie wiem czy tak akceptujecie\n",
    "\n",
    "parking_counts = df['parking space'].value_counts()\n",
    "parking_counts"
   ],
   "metadata": {
    "collapsed": false,
    "ExecuteTime": {
     "end_time": "2024-04-13T15:19:06.775526300Z",
     "start_time": "2024-04-13T15:19:06.751856600Z"
    }
   },
   "id": "2f393e9fb0e07745",
   "execution_count": 843
  },
  {
   "cell_type": "code",
   "outputs": [],
   "source": [
    "def map_to_boolean(value):\n",
    "    if value == '-':\n",
    "        return False\n",
    "    else:\n",
    "        return True\n",
    "    \n",
    "df['parking space'] = df['parking space'].map(map_to_boolean)"
   ],
   "metadata": {
    "collapsed": false,
    "ExecuteTime": {
     "end_time": "2024-04-13T15:19:06.834917900Z",
     "start_time": "2024-04-13T15:19:06.777527500Z"
    }
   },
   "id": "72ed4f3559634466",
   "execution_count": 844
  },
  {
   "cell_type": "code",
   "outputs": [
    {
     "name": "stdout",
     "output_type": "stream",
     "text": [
      "Unikalne wartości 'year of construction': ['1980' '2004' '2023' '1950' '2013' '2000' '2003' '2001' '2017' '1962'\n",
      " '1970' '1985' '1983' '-' '2012' '2007' '1981' '2021' '1974' '1991' '2019'\n",
      " '1967' '1800' '4' '2010' '3' '5' '1972' '2024' '2009' '2011' '2022'\n",
      " '1989' '1920' '2014' '1957' '1958' '2018' '2' '1913' '2020' '1952' '2015'\n",
      " '1908' '1965' '1960' '2008' '2025' '1955' '1997' '1993' '1926' '1880'\n",
      " '1905' '1906' '1925' '1990' '1954' '1509' '1930' '1998' '1933' '2006'\n",
      " '1900' '1975' '2016' '1976' '1907' '1894' '2002' '1977' '1996' '1934'\n",
      " '1890' '1935' '1999' '1953' '1961' '1936' '1978' '1982' '1932' '1896'\n",
      " '1910' '1979' '2026' '6' '2005' '1914' '1968' '1992' '1898' '1750' '1939'\n",
      " '1973' '1937' '1969' '1995' '1988' '1964' '1938' '1971' '1987' '1928'\n",
      " '1912' '1956' '1915' '1986' '1940' '1942' '1923' '1886' '1966' '1892'\n",
      " '1959' '1893' '1911' '1929' '1899' '1891' '1850' '1500' '1909' '1350'\n",
      " '1922' '1320' '1870' '1790' '1024' '1994' '1946' '1921' '1887' '1878'\n",
      " '1895' '1694' '1832' '1836' '1780' '1931' '1883' '1882' '1897' '1510'\n",
      " '1943' '1300' '1919' '1881' '1984' '1885' '1903' '1927' '1600']\n"
     ]
    }
   ],
   "source": [
    "unique_construction_year = df['year of construction'].unique()\n",
    "print(\"Unikalne wartości 'year of construction':\", unique_construction_year)"
   ],
   "metadata": {
    "collapsed": false,
    "ExecuteTime": {
     "end_time": "2024-04-13T15:19:06.863899600Z",
     "start_time": "2024-04-13T15:19:06.810970600Z"
    }
   },
   "id": "10ba61e064dfc742",
   "execution_count": 845
  },
  {
   "cell_type": "code",
   "outputs": [
    {
     "name": "stdout",
     "output_type": "stream",
     "text": [
      "Number of values below 1200 and NaN values in 'year of construction': 75\n"
     ]
    }
   ],
   "source": [
    "df['year of construction'] = pd.to_numeric(df['year of construction'], errors='coerce')\n",
    "\n",
    "missing_below_1200 = df[df['year of construction'] < 1200]\n",
    "\n",
    "count_missing_below_1200 = missing_below_1200.shape[0]\n",
    "\n",
    "print(\"Number of values below 1200 and NaN values in 'year of construction':\", count_missing_below_1200)"
   ],
   "metadata": {
    "collapsed": false,
    "ExecuteTime": {
     "end_time": "2024-04-13T15:19:06.901063500Z",
     "start_time": "2024-04-13T15:19:06.855982300Z"
    }
   },
   "id": "947325af5159029a",
   "execution_count": 846
  },
  {
   "cell_type": "code",
   "outputs": [
    {
     "name": "stdout",
     "output_type": "stream",
     "text": [
      "Average year of construction: 1960\n"
     ]
    }
   ],
   "source": [
    "# Obliczenie średniej z wartości dla year of construction\n",
    "mean_year_all = int(round(df['year of construction'].mean()))\n",
    "\n",
    "print(f\"Average year of construction: {mean_year_all}\")\n",
    "\n",
    "# Zastąpienie NaN i wartości poniżej 1200 wskazanymi polami wartością średnią\n",
    "df.loc[df['year of construction'].isna() | (df['year of construction'] < 1200), 'year of construction'] = mean_year_all"
   ],
   "metadata": {
    "collapsed": false,
    "ExecuteTime": {
     "end_time": "2024-04-13T15:19:06.915828700Z",
     "start_time": "2024-04-13T15:19:06.874751900Z"
    }
   },
   "id": "456fee02d0f8509a",
   "execution_count": 847
  },
  {
   "cell_type": "code",
   "outputs": [
    {
     "data": {
      "text/plain": "                                                  url  \\\n0   https://krakow.nieruchomosci-online.pl/mieszka...   \n1   https://krakow.nieruchomosci-online.pl/mieszka...   \n2   https://krakow.nieruchomosci-online.pl/mieszka...   \n3   https://krakow.nieruchomosci-online.pl/mieszka...   \n4   https://krakow.nieruchomosci-online.pl/mieszka...   \n5   https://krakow.nieruchomosci-online.pl/mieszka...   \n6   https://krakow.nieruchomosci-online.pl/mieszka...   \n7   https://krakow.nieruchomosci-online.pl/mieszka...   \n8   https://krakow.nieruchomosci-online.pl/mieszka...   \n9   https://krakow.nieruchomosci-online.pl/mieszka...   \n10  https://krakow.nieruchomosci-online.pl/mieszka...   \n11  https://krakow.nieruchomosci-online.pl/mieszka...   \n12  https://krakow.nieruchomosci-online.pl/mieszka...   \n13  https://krakow.nieruchomosci-online.pl/mieszka...   \n14  https://krakow.nieruchomosci-online.pl/mieszka...   \n15  https://krakow.nieruchomosci-online.pl/mieszka...   \n16  https://krakow.nieruchomosci-online.pl/mieszka...   \n17  https://krakow.nieruchomosci-online.pl/mieszka...   \n18  https://krakow.nieruchomosci-online.pl/mieszka...   \n19  https://krakow.nieruchomosci-online.pl/mieszka...   \n20  https://krakow.nieruchomosci-online.pl/mieszka...   \n21  https://krakow.nieruchomosci-online.pl/mieszka...   \n22  https://krakow.nieruchomosci-online.pl/mieszka...   \n23  https://krakow.nieruchomosci-online.pl/mieszka...   \n24  https://krakow.nieruchomosci-online.pl/mieszka...   \n25  https://krakow.nieruchomosci-online.pl/mieszka...   \n29  https://krakow.nieruchomosci-online.pl/mieszka...   \n30  https://krakow.nieruchomosci-online.pl/mieszka...   \n31  https://krakow.nieruchomosci-online.pl/mieszka...   \n32  https://krakow.nieruchomosci-online.pl/mieszka...   \n33  https://krakow.nieruchomosci-online.pl/mieszka...   \n34  https://krakow.nieruchomosci-online.pl/mieszka...   \n35  https://krakow.nieruchomosci-online.pl/nowe-mi...   \n36  https://krakow.nieruchomosci-online.pl/mieszka...   \n37  https://krakow.nieruchomosci-online.pl/nowe-mi...   \n38  https://krakow.nieruchomosci-online.pl/mieszka...   \n39  https://krakow.nieruchomosci-online.pl/nowe-mi...   \n40  https://krakow.nieruchomosci-online.pl/mieszka...   \n41  https://krakow.nieruchomosci-online.pl/nowe-mi...   \n42  https://krakow.nieruchomosci-online.pl/nowe-mi...   \n43  https://krakow.nieruchomosci-online.pl/mieszka...   \n44  https://krakow.nieruchomosci-online.pl/mieszka...   \n46  https://krakow.nieruchomosci-online.pl/mieszka...   \n47  https://krakow.nieruchomosci-online.pl/mieszka...   \n48  https://krakow.nieruchomosci-online.pl/mieszka...   \n49  https://krakow.nieruchomosci-online.pl/mieszka...   \n50  https://krakow.nieruchomosci-online.pl/mieszka...   \n51  https://krakow.nieruchomosci-online.pl/mieszka...   \n52  https://krakow.nieruchomosci-online.pl/mieszka...   \n53  https://krakow.nieruchomosci-online.pl/mieszka...   \n\n                                           name/title  \\\n0                      Mieszkanie, ul. Żelechowskiego   \n1                             Mieszkanie, ul. Balicka   \n2                              Mieszkanie, ul. Zauchy   \n3                          Mieszkanie, ul. Racławicka   \n4                            Mieszkanie, ul. Pustynna   \n5                                   Apartament Kraków   \n6                          Mieszkanie, ul. Przemiarki   \n7                         Mieszkanie, ul. Felińskiego   \n8                           Apartament, ul. Lublańska   \n9                       Apartament, ul. Szablowskiego   \n10                                  Mieszkanie Kraków   \n11                          Mieszkanie, ul. Cystersów   \n12                             Mieszkanie, ul. Ułanów   \n13                             Mieszkanie, ul. Bartla   \n14                    Mieszkanie, Osiedle Tysiąclecia   \n15                              Mieszkanie, ul. Bojki   \n16             Mieszkanie, Osiedle Bohaterów Września   \n17                           Mieszkanie, ul. Zawodzie   \n18                            Mieszkanie, ul. Obozowa   \n19                          Mieszkanie, ul. Beskidzka   \n20                                         Apartament   \n21                      Mieszkanie, ul. Cieplińskiego   \n22                      Apartament, ul. Zwierzyniecka   \n23                             Mieszkanie, ul. Siewna   \n24                   Apartament, ul. Przybyszewskiego   \n25                           Mieszkanie, ul. Dworcowa   \n29                                  Apartament Kraków   \n30                              Mieszkanie, ul. Bojki   \n31                                  Apartament Kraków   \n32                             Mieszkanie, ul. Lentza   \n33                         Mieszkanie, ul. Sławkowska   \n34                       Mieszkanie, Osiedle Kalinowe   \n35  Nowe mieszkanie Wieczysta, Aleja Jana Pawła II 52   \n36                             Mieszkanie, ul. Okólna   \n37  Nowe mieszkanie Wieczysta, Aleja Jana Pawła II 52   \n38                           Mieszkanie, ul. Domagały   \n39  Nowe mieszkanie Wieczysta, Aleja Jana Pawła II 52   \n40                          Mieszkanie, ul. Stańczyka   \n41             Nowe mieszkanie Gotyk, ul. Grabczaka 8   \n42             Nowe mieszkanie Gotyk, ul. Grabczaka 8   \n43                             Mieszkanie, ul. Wygoda   \n44                       Apartament, ul. Zakrzowiecka   \n46                           Apartament, ul. Hamernia   \n47                           Apartament, ul. Hamernia   \n48                                         Mieszkanie   \n49                             Apartament, ul. Bartla   \n50                           Mieszkanie, ul. Kordiana   \n51                                         Mieszkanie   \n52                                         Mieszkanie   \n53                                         Apartament   \n\n                                              address      floor number  \\\n0      Żelechowskiego, Bronowice, Kraków, małopolskie                 1   \n1             Balicka, Bronowice, Kraków, małopolskie                 3   \n2         Zauchy, Górka Narodowa, Kraków, małopolskie                 2   \n3          Racławicka, Krowodrza, Kraków, małopolskie                 6   \n4                Pustynna, Kliny, Kraków, małopolskie            parter   \n5                 Wola Justowska, Kraków, małopolskie            parter   \n6             Przemiarki, Ruczaj, Kraków, małopolskie                 2   \n7    Felińskiego, Górka Narodowa, Kraków, małopolskie                 2   \n8   Lublańska 13, Prądnik Czerwony, Kraków, małopo...                 3   \n9       Szablowskiego, Bronowice, Kraków, małopolskie            parter   \n10  Wzgórza Kzresławickie, Wzgórza Krzesławickie, ...                 1   \n11         Cystersów, Grzegórzki, Kraków, małopolskie                 7   \n12      Ułanów, Prądnik Czerwony, Kraków, małopolskie            parter   \n13                 Bartla, Kliny, Kraków, małopolskie                 1   \n14  Osiedle Tysiąclecia, Mistrzejowice, Kraków, ma...                 3   \n15              Bojki, Kurdwanów, Kraków, małopolskie                 4   \n16  Osiedle Bohaterów Września, Mistrzejowice, Kra...                 3   \n17       Zawodzie, Prądnik Biały, Kraków, małopolskie                 2   \n18               Obozowa, Ruczaj, Kraków, małopolskie            parter   \n19      Beskidzka, Wola Duchacka, Kraków, małopolskie                 4   \n20  Bałuckiego, Dzielnica VIII Dębniki, Kraków, ma...                 3   \n21          Cieplińskiego, Olsza, Kraków, małopolskie                 2   \n22   Zwierzyniecka, Stare Miasto, Kraków, małopolskie                 1   \n23         Siewna, Prądnik Biały, Kraków, małopolskie                 4   \n24  Przybyszewskiego 64d, Bronowice, Kraków, małop...                 7   \n25             Dworcowa, Płaszów, Kraków, małopolskie            parter   \n29                       Bielany, Kraków, małopolskie                 1   \n30              Bojki, Kurdwanów, Kraków, małopolskie                 9   \n31                Wola Justowska, Kraków, małopolskie                 1   \n32         Lentza, Prądnik Biały, Kraków, małopolskie                 3   \n33   Sławkowska 19, Stare Miasto, Kraków, małopolskie                 1   \n34   Osiedle Kalinowe, Bieńczyce, Kraków, małopolskie                 4   \n35                                                NaN   II kwartał 2024   \n36         Okólna, Wola Duchacka, Kraków, małopolskie                 1   \n37                                                NaN   II kwartał 2024   \n38                      Domagały, Kraków, małopolskie                 4   \n39                                                NaN   II kwartał 2024   \n40     Stańczyka, Bronowice Małe, Kraków, małopolskie                 2   \n41                                                NaN  III kwartał 2024   \n42                                                NaN  III kwartał 2024   \n43          Wygoda, Stare Miasto, Kraków, małopolskie                 1   \n44  Zakrzowiecka 57, Pychowice/ Stare Dębniki, Kra...                 1   \n46      Hamernia, Wola Justowska, Kraków, małopolskie                 1   \n47      Hamernia, Wola Justowska, Kraków, małopolskie                 1   \n48        Głowackiego, Krowodrza, Kraków, małopolskie                 4   \n49                 Bartla, Kliny, Kraków, małopolskie                 1   \n50           Kordiana, Kurdwanów, Kraków, małopolskie            parter   \n51                       Bielany, Kraków, małopolskie            parter   \n52  Stańczyka, Dzielnica VI Bronowice, Kraków, mał...                13   \n53        Banacha, Prądnik Biały, Kraków, małopolskie                 5   \n\n    number of floors no of rooms  year of construction  parking space  \\\n0                3.0           2                1980.0           True   \n1                4.0           6                2004.0           True   \n2                5.0           3                2023.0           True   \n3               10.0           2                1950.0           True   \n4                1.0           3                2013.0           True   \n5                2.0           4                2023.0           True   \n6                3.0           2                2000.0           True   \n7                5.0           3                2003.0           True   \n8                4.0           3                2023.0           True   \n9                3.0           2                2001.0           True   \n10               2.0           5                2023.0           True   \n11               7.0           3                2017.0           True   \n12              10.0           3                1962.0          False   \n13               3.0           2                2017.0           True   \n14               4.0           2                1970.0          False   \n15               4.0           2                1985.0           True   \n16               6.0           3                1983.0          False   \n17              10.0           2                1960.0           True   \n18               7.0           2                2012.0           True   \n19              10.0           3                1983.0          False   \n20               4.0           3                2023.0          False   \n21              10.0           3                1970.0           True   \n22               6.0           3                2007.0           True   \n23               4.0           2                1981.0          False   \n24               9.0           3                2021.0           True   \n25               4.0           3                1974.0          False   \n29               1.0           4                2023.0           True   \n30              10.0           2                1991.0           True   \n31               2.0           4                2019.0           True   \n32               4.0           2                1967.0          False   \n33               3.0           3                1800.0           True   \n34              10.0           2                1970.0           True   \n35               5.0           4                1960.0          False   \n36               4.0           2                1970.0          False   \n37               5.0      parter                1960.0          False   \n38               4.0           3                2021.0           True   \n39               5.0           3                1960.0          False   \n40               8.0           3                2010.0           True   \n41               5.0           2                1960.0           True   \n42               5.0           2                1960.0           True   \n43               3.0           3                1972.0           True   \n44               2.0           4                2023.0           True   \n46               1.0           4                2024.0           True   \n47               1.0           4                2024.0           True   \n48               5.0           3                2009.0           True   \n49               3.0           3                2004.0           True   \n50               3.0           2                2011.0          False   \n51               2.0           4                2022.0           True   \n52              14.0           3                2022.0           True   \n53               5.0           4                2021.0           True   \n\n    price_amount currency  area_amount area_unit  price_per_area (m2/zł)  \n0       899000.0       zł        51.70        m²                17388.78  \n1      1575000.0       zł       125.00        m²                12600.00  \n2      1250000.0       zł        65.23        m²                19162.96  \n3       740250.0       zł        49.35        m²                15000.00  \n4      1200000.0       zł        71.06        m²                16887.14  \n5      1198680.0       zł        71.35        m²                16800.00  \n6       625000.0       zł        40.00        m²                15625.00  \n7       899000.0       zł        74.17        m²                12120.80  \n8      1050000.0       zł        60.00        m²                17500.00  \n9       599000.0       zł        40.00        m²                14975.00  \n10      999000.0       zł       157.00        m²                 6363.06  \n11     1279250.0       zł        59.50        m²                21500.00  \n12      790000.0       zł        61.40        m²                12866.45  \n13      669000.0       zł        43.00        m²                15558.14  \n14      539000.0       zł        33.80        m²                15946.75  \n15      635000.0       zł        50.00        m²                12700.00  \n16      860000.0       zł        64.09        m²                13418.63  \n17      699000.0       zł        62.00        m²                11274.19  \n18      695000.0       zł        51.94        m²                13380.82  \n19      860000.0       zł        62.00        m²                13870.97  \n20     1200000.0       zł        63.90        m²                18779.34  \n21      710000.0       zł        46.59        m²                15239.32  \n22     1525000.0       zł        58.99        m²                25851.84  \n23      699000.0       zł        53.00        m²                13188.68  \n24     1425000.0       zł        60.00        m²                23750.00  \n25      735000.0       zł        45.50        m²                16153.85  \n29      699000.0       zł       105.00        m²                 6657.14  \n30      749000.0       zł        50.10        m²                14950.10  \n31     2385000.0       zł       146.69        m²                16258.78  \n32      519000.0       zł        37.40        m²                13877.01  \n33     2799920.0       zł        80.00        m²                34999.00  \n34      486000.0       zł        36.06        m²                13477.54  \n35     1501610.0       zł        80.30        m²                18700.00  \n36      520000.0       zł        37.00        m²                14054.05  \n37     1373420.0       zł        79.85        m²                17200.00  \n38      699000.0       zł        47.24        m²                14796.78  \n39     1883130.0       zł        91.86        m²                20500.00  \n40     1188000.0       zł        85.52        m²                13891.49  \n41      912966.0       zł        77.37        m²                11800.00  \n42     1599000.0       zł       121.37        m²                13174.59  \n43     1460000.0       zł        73.00        m²                20000.00  \n44     2790000.0       zł       118.00        m²                23644.07  \n46     1372000.0       zł        84.63        m²                16211.75  \n47     1372000.0       zł        84.63        m²                16211.75  \n48     1098000.0       zł        61.73        m²                17787.14  \n49      780000.0       zł        61.10        m²                12765.96  \n50      640000.0       zł        53.10        m²                12052.73  \n51      950000.0       zł       101.00        m²                 9405.94  \n52     1315000.0       zł        57.78        m²                22758.74  \n53     1072650.0       zł        71.51        m²                15000.00  ",
      "text/html": "<div>\n<style scoped>\n    .dataframe tbody tr th:only-of-type {\n        vertical-align: middle;\n    }\n\n    .dataframe tbody tr th {\n        vertical-align: top;\n    }\n\n    .dataframe thead th {\n        text-align: right;\n    }\n</style>\n<table border=\"1\" class=\"dataframe\">\n  <thead>\n    <tr style=\"text-align: right;\">\n      <th></th>\n      <th>url</th>\n      <th>name/title</th>\n      <th>address</th>\n      <th>floor number</th>\n      <th>number of floors</th>\n      <th>no of rooms</th>\n      <th>year of construction</th>\n      <th>parking space</th>\n      <th>price_amount</th>\n      <th>currency</th>\n      <th>area_amount</th>\n      <th>area_unit</th>\n      <th>price_per_area (m2/zł)</th>\n    </tr>\n  </thead>\n  <tbody>\n    <tr>\n      <th>0</th>\n      <td>https://krakow.nieruchomosci-online.pl/mieszka...</td>\n      <td>Mieszkanie, ul. Żelechowskiego</td>\n      <td>Żelechowskiego, Bronowice, Kraków, małopolskie</td>\n      <td>1</td>\n      <td>3.0</td>\n      <td>2</td>\n      <td>1980.0</td>\n      <td>True</td>\n      <td>899000.0</td>\n      <td>zł</td>\n      <td>51.70</td>\n      <td>m²</td>\n      <td>17388.78</td>\n    </tr>\n    <tr>\n      <th>1</th>\n      <td>https://krakow.nieruchomosci-online.pl/mieszka...</td>\n      <td>Mieszkanie, ul. Balicka</td>\n      <td>Balicka, Bronowice, Kraków, małopolskie</td>\n      <td>3</td>\n      <td>4.0</td>\n      <td>6</td>\n      <td>2004.0</td>\n      <td>True</td>\n      <td>1575000.0</td>\n      <td>zł</td>\n      <td>125.00</td>\n      <td>m²</td>\n      <td>12600.00</td>\n    </tr>\n    <tr>\n      <th>2</th>\n      <td>https://krakow.nieruchomosci-online.pl/mieszka...</td>\n      <td>Mieszkanie, ul. Zauchy</td>\n      <td>Zauchy, Górka Narodowa, Kraków, małopolskie</td>\n      <td>2</td>\n      <td>5.0</td>\n      <td>3</td>\n      <td>2023.0</td>\n      <td>True</td>\n      <td>1250000.0</td>\n      <td>zł</td>\n      <td>65.23</td>\n      <td>m²</td>\n      <td>19162.96</td>\n    </tr>\n    <tr>\n      <th>3</th>\n      <td>https://krakow.nieruchomosci-online.pl/mieszka...</td>\n      <td>Mieszkanie, ul. Racławicka</td>\n      <td>Racławicka, Krowodrza, Kraków, małopolskie</td>\n      <td>6</td>\n      <td>10.0</td>\n      <td>2</td>\n      <td>1950.0</td>\n      <td>True</td>\n      <td>740250.0</td>\n      <td>zł</td>\n      <td>49.35</td>\n      <td>m²</td>\n      <td>15000.00</td>\n    </tr>\n    <tr>\n      <th>4</th>\n      <td>https://krakow.nieruchomosci-online.pl/mieszka...</td>\n      <td>Mieszkanie, ul. Pustynna</td>\n      <td>Pustynna, Kliny, Kraków, małopolskie</td>\n      <td>parter</td>\n      <td>1.0</td>\n      <td>3</td>\n      <td>2013.0</td>\n      <td>True</td>\n      <td>1200000.0</td>\n      <td>zł</td>\n      <td>71.06</td>\n      <td>m²</td>\n      <td>16887.14</td>\n    </tr>\n    <tr>\n      <th>5</th>\n      <td>https://krakow.nieruchomosci-online.pl/mieszka...</td>\n      <td>Apartament Kraków</td>\n      <td>Wola Justowska, Kraków, małopolskie</td>\n      <td>parter</td>\n      <td>2.0</td>\n      <td>4</td>\n      <td>2023.0</td>\n      <td>True</td>\n      <td>1198680.0</td>\n      <td>zł</td>\n      <td>71.35</td>\n      <td>m²</td>\n      <td>16800.00</td>\n    </tr>\n    <tr>\n      <th>6</th>\n      <td>https://krakow.nieruchomosci-online.pl/mieszka...</td>\n      <td>Mieszkanie, ul. Przemiarki</td>\n      <td>Przemiarki, Ruczaj, Kraków, małopolskie</td>\n      <td>2</td>\n      <td>3.0</td>\n      <td>2</td>\n      <td>2000.0</td>\n      <td>True</td>\n      <td>625000.0</td>\n      <td>zł</td>\n      <td>40.00</td>\n      <td>m²</td>\n      <td>15625.00</td>\n    </tr>\n    <tr>\n      <th>7</th>\n      <td>https://krakow.nieruchomosci-online.pl/mieszka...</td>\n      <td>Mieszkanie, ul. Felińskiego</td>\n      <td>Felińskiego, Górka Narodowa, Kraków, małopolskie</td>\n      <td>2</td>\n      <td>5.0</td>\n      <td>3</td>\n      <td>2003.0</td>\n      <td>True</td>\n      <td>899000.0</td>\n      <td>zł</td>\n      <td>74.17</td>\n      <td>m²</td>\n      <td>12120.80</td>\n    </tr>\n    <tr>\n      <th>8</th>\n      <td>https://krakow.nieruchomosci-online.pl/mieszka...</td>\n      <td>Apartament, ul. Lublańska</td>\n      <td>Lublańska 13, Prądnik Czerwony, Kraków, małopo...</td>\n      <td>3</td>\n      <td>4.0</td>\n      <td>3</td>\n      <td>2023.0</td>\n      <td>True</td>\n      <td>1050000.0</td>\n      <td>zł</td>\n      <td>60.00</td>\n      <td>m²</td>\n      <td>17500.00</td>\n    </tr>\n    <tr>\n      <th>9</th>\n      <td>https://krakow.nieruchomosci-online.pl/mieszka...</td>\n      <td>Apartament, ul. Szablowskiego</td>\n      <td>Szablowskiego, Bronowice, Kraków, małopolskie</td>\n      <td>parter</td>\n      <td>3.0</td>\n      <td>2</td>\n      <td>2001.0</td>\n      <td>True</td>\n      <td>599000.0</td>\n      <td>zł</td>\n      <td>40.00</td>\n      <td>m²</td>\n      <td>14975.00</td>\n    </tr>\n    <tr>\n      <th>10</th>\n      <td>https://krakow.nieruchomosci-online.pl/mieszka...</td>\n      <td>Mieszkanie Kraków</td>\n      <td>Wzgórza Kzresławickie, Wzgórza Krzesławickie, ...</td>\n      <td>1</td>\n      <td>2.0</td>\n      <td>5</td>\n      <td>2023.0</td>\n      <td>True</td>\n      <td>999000.0</td>\n      <td>zł</td>\n      <td>157.00</td>\n      <td>m²</td>\n      <td>6363.06</td>\n    </tr>\n    <tr>\n      <th>11</th>\n      <td>https://krakow.nieruchomosci-online.pl/mieszka...</td>\n      <td>Mieszkanie, ul. Cystersów</td>\n      <td>Cystersów, Grzegórzki, Kraków, małopolskie</td>\n      <td>7</td>\n      <td>7.0</td>\n      <td>3</td>\n      <td>2017.0</td>\n      <td>True</td>\n      <td>1279250.0</td>\n      <td>zł</td>\n      <td>59.50</td>\n      <td>m²</td>\n      <td>21500.00</td>\n    </tr>\n    <tr>\n      <th>12</th>\n      <td>https://krakow.nieruchomosci-online.pl/mieszka...</td>\n      <td>Mieszkanie, ul. Ułanów</td>\n      <td>Ułanów, Prądnik Czerwony, Kraków, małopolskie</td>\n      <td>parter</td>\n      <td>10.0</td>\n      <td>3</td>\n      <td>1962.0</td>\n      <td>False</td>\n      <td>790000.0</td>\n      <td>zł</td>\n      <td>61.40</td>\n      <td>m²</td>\n      <td>12866.45</td>\n    </tr>\n    <tr>\n      <th>13</th>\n      <td>https://krakow.nieruchomosci-online.pl/mieszka...</td>\n      <td>Mieszkanie, ul. Bartla</td>\n      <td>Bartla, Kliny, Kraków, małopolskie</td>\n      <td>1</td>\n      <td>3.0</td>\n      <td>2</td>\n      <td>2017.0</td>\n      <td>True</td>\n      <td>669000.0</td>\n      <td>zł</td>\n      <td>43.00</td>\n      <td>m²</td>\n      <td>15558.14</td>\n    </tr>\n    <tr>\n      <th>14</th>\n      <td>https://krakow.nieruchomosci-online.pl/mieszka...</td>\n      <td>Mieszkanie, Osiedle Tysiąclecia</td>\n      <td>Osiedle Tysiąclecia, Mistrzejowice, Kraków, ma...</td>\n      <td>3</td>\n      <td>4.0</td>\n      <td>2</td>\n      <td>1970.0</td>\n      <td>False</td>\n      <td>539000.0</td>\n      <td>zł</td>\n      <td>33.80</td>\n      <td>m²</td>\n      <td>15946.75</td>\n    </tr>\n    <tr>\n      <th>15</th>\n      <td>https://krakow.nieruchomosci-online.pl/mieszka...</td>\n      <td>Mieszkanie, ul. Bojki</td>\n      <td>Bojki, Kurdwanów, Kraków, małopolskie</td>\n      <td>4</td>\n      <td>4.0</td>\n      <td>2</td>\n      <td>1985.0</td>\n      <td>True</td>\n      <td>635000.0</td>\n      <td>zł</td>\n      <td>50.00</td>\n      <td>m²</td>\n      <td>12700.00</td>\n    </tr>\n    <tr>\n      <th>16</th>\n      <td>https://krakow.nieruchomosci-online.pl/mieszka...</td>\n      <td>Mieszkanie, Osiedle Bohaterów Września</td>\n      <td>Osiedle Bohaterów Września, Mistrzejowice, Kra...</td>\n      <td>3</td>\n      <td>6.0</td>\n      <td>3</td>\n      <td>1983.0</td>\n      <td>False</td>\n      <td>860000.0</td>\n      <td>zł</td>\n      <td>64.09</td>\n      <td>m²</td>\n      <td>13418.63</td>\n    </tr>\n    <tr>\n      <th>17</th>\n      <td>https://krakow.nieruchomosci-online.pl/mieszka...</td>\n      <td>Mieszkanie, ul. Zawodzie</td>\n      <td>Zawodzie, Prądnik Biały, Kraków, małopolskie</td>\n      <td>2</td>\n      <td>10.0</td>\n      <td>2</td>\n      <td>1960.0</td>\n      <td>True</td>\n      <td>699000.0</td>\n      <td>zł</td>\n      <td>62.00</td>\n      <td>m²</td>\n      <td>11274.19</td>\n    </tr>\n    <tr>\n      <th>18</th>\n      <td>https://krakow.nieruchomosci-online.pl/mieszka...</td>\n      <td>Mieszkanie, ul. Obozowa</td>\n      <td>Obozowa, Ruczaj, Kraków, małopolskie</td>\n      <td>parter</td>\n      <td>7.0</td>\n      <td>2</td>\n      <td>2012.0</td>\n      <td>True</td>\n      <td>695000.0</td>\n      <td>zł</td>\n      <td>51.94</td>\n      <td>m²</td>\n      <td>13380.82</td>\n    </tr>\n    <tr>\n      <th>19</th>\n      <td>https://krakow.nieruchomosci-online.pl/mieszka...</td>\n      <td>Mieszkanie, ul. Beskidzka</td>\n      <td>Beskidzka, Wola Duchacka, Kraków, małopolskie</td>\n      <td>4</td>\n      <td>10.0</td>\n      <td>3</td>\n      <td>1983.0</td>\n      <td>False</td>\n      <td>860000.0</td>\n      <td>zł</td>\n      <td>62.00</td>\n      <td>m²</td>\n      <td>13870.97</td>\n    </tr>\n    <tr>\n      <th>20</th>\n      <td>https://krakow.nieruchomosci-online.pl/mieszka...</td>\n      <td>Apartament</td>\n      <td>Bałuckiego, Dzielnica VIII Dębniki, Kraków, ma...</td>\n      <td>3</td>\n      <td>4.0</td>\n      <td>3</td>\n      <td>2023.0</td>\n      <td>False</td>\n      <td>1200000.0</td>\n      <td>zł</td>\n      <td>63.90</td>\n      <td>m²</td>\n      <td>18779.34</td>\n    </tr>\n    <tr>\n      <th>21</th>\n      <td>https://krakow.nieruchomosci-online.pl/mieszka...</td>\n      <td>Mieszkanie, ul. Cieplińskiego</td>\n      <td>Cieplińskiego, Olsza, Kraków, małopolskie</td>\n      <td>2</td>\n      <td>10.0</td>\n      <td>3</td>\n      <td>1970.0</td>\n      <td>True</td>\n      <td>710000.0</td>\n      <td>zł</td>\n      <td>46.59</td>\n      <td>m²</td>\n      <td>15239.32</td>\n    </tr>\n    <tr>\n      <th>22</th>\n      <td>https://krakow.nieruchomosci-online.pl/mieszka...</td>\n      <td>Apartament, ul. Zwierzyniecka</td>\n      <td>Zwierzyniecka, Stare Miasto, Kraków, małopolskie</td>\n      <td>1</td>\n      <td>6.0</td>\n      <td>3</td>\n      <td>2007.0</td>\n      <td>True</td>\n      <td>1525000.0</td>\n      <td>zł</td>\n      <td>58.99</td>\n      <td>m²</td>\n      <td>25851.84</td>\n    </tr>\n    <tr>\n      <th>23</th>\n      <td>https://krakow.nieruchomosci-online.pl/mieszka...</td>\n      <td>Mieszkanie, ul. Siewna</td>\n      <td>Siewna, Prądnik Biały, Kraków, małopolskie</td>\n      <td>4</td>\n      <td>4.0</td>\n      <td>2</td>\n      <td>1981.0</td>\n      <td>False</td>\n      <td>699000.0</td>\n      <td>zł</td>\n      <td>53.00</td>\n      <td>m²</td>\n      <td>13188.68</td>\n    </tr>\n    <tr>\n      <th>24</th>\n      <td>https://krakow.nieruchomosci-online.pl/mieszka...</td>\n      <td>Apartament, ul. Przybyszewskiego</td>\n      <td>Przybyszewskiego 64d, Bronowice, Kraków, małop...</td>\n      <td>7</td>\n      <td>9.0</td>\n      <td>3</td>\n      <td>2021.0</td>\n      <td>True</td>\n      <td>1425000.0</td>\n      <td>zł</td>\n      <td>60.00</td>\n      <td>m²</td>\n      <td>23750.00</td>\n    </tr>\n    <tr>\n      <th>25</th>\n      <td>https://krakow.nieruchomosci-online.pl/mieszka...</td>\n      <td>Mieszkanie, ul. Dworcowa</td>\n      <td>Dworcowa, Płaszów, Kraków, małopolskie</td>\n      <td>parter</td>\n      <td>4.0</td>\n      <td>3</td>\n      <td>1974.0</td>\n      <td>False</td>\n      <td>735000.0</td>\n      <td>zł</td>\n      <td>45.50</td>\n      <td>m²</td>\n      <td>16153.85</td>\n    </tr>\n    <tr>\n      <th>29</th>\n      <td>https://krakow.nieruchomosci-online.pl/mieszka...</td>\n      <td>Apartament Kraków</td>\n      <td>Bielany, Kraków, małopolskie</td>\n      <td>1</td>\n      <td>1.0</td>\n      <td>4</td>\n      <td>2023.0</td>\n      <td>True</td>\n      <td>699000.0</td>\n      <td>zł</td>\n      <td>105.00</td>\n      <td>m²</td>\n      <td>6657.14</td>\n    </tr>\n    <tr>\n      <th>30</th>\n      <td>https://krakow.nieruchomosci-online.pl/mieszka...</td>\n      <td>Mieszkanie, ul. Bojki</td>\n      <td>Bojki, Kurdwanów, Kraków, małopolskie</td>\n      <td>9</td>\n      <td>10.0</td>\n      <td>2</td>\n      <td>1991.0</td>\n      <td>True</td>\n      <td>749000.0</td>\n      <td>zł</td>\n      <td>50.10</td>\n      <td>m²</td>\n      <td>14950.10</td>\n    </tr>\n    <tr>\n      <th>31</th>\n      <td>https://krakow.nieruchomosci-online.pl/mieszka...</td>\n      <td>Apartament Kraków</td>\n      <td>Wola Justowska, Kraków, małopolskie</td>\n      <td>1</td>\n      <td>2.0</td>\n      <td>4</td>\n      <td>2019.0</td>\n      <td>True</td>\n      <td>2385000.0</td>\n      <td>zł</td>\n      <td>146.69</td>\n      <td>m²</td>\n      <td>16258.78</td>\n    </tr>\n    <tr>\n      <th>32</th>\n      <td>https://krakow.nieruchomosci-online.pl/mieszka...</td>\n      <td>Mieszkanie, ul. Lentza</td>\n      <td>Lentza, Prądnik Biały, Kraków, małopolskie</td>\n      <td>3</td>\n      <td>4.0</td>\n      <td>2</td>\n      <td>1967.0</td>\n      <td>False</td>\n      <td>519000.0</td>\n      <td>zł</td>\n      <td>37.40</td>\n      <td>m²</td>\n      <td>13877.01</td>\n    </tr>\n    <tr>\n      <th>33</th>\n      <td>https://krakow.nieruchomosci-online.pl/mieszka...</td>\n      <td>Mieszkanie, ul. Sławkowska</td>\n      <td>Sławkowska 19, Stare Miasto, Kraków, małopolskie</td>\n      <td>1</td>\n      <td>3.0</td>\n      <td>3</td>\n      <td>1800.0</td>\n      <td>True</td>\n      <td>2799920.0</td>\n      <td>zł</td>\n      <td>80.00</td>\n      <td>m²</td>\n      <td>34999.00</td>\n    </tr>\n    <tr>\n      <th>34</th>\n      <td>https://krakow.nieruchomosci-online.pl/mieszka...</td>\n      <td>Mieszkanie, Osiedle Kalinowe</td>\n      <td>Osiedle Kalinowe, Bieńczyce, Kraków, małopolskie</td>\n      <td>4</td>\n      <td>10.0</td>\n      <td>2</td>\n      <td>1970.0</td>\n      <td>True</td>\n      <td>486000.0</td>\n      <td>zł</td>\n      <td>36.06</td>\n      <td>m²</td>\n      <td>13477.54</td>\n    </tr>\n    <tr>\n      <th>35</th>\n      <td>https://krakow.nieruchomosci-online.pl/nowe-mi...</td>\n      <td>Nowe mieszkanie Wieczysta, Aleja Jana Pawła II 52</td>\n      <td>NaN</td>\n      <td>II kwartał 2024</td>\n      <td>5.0</td>\n      <td>4</td>\n      <td>1960.0</td>\n      <td>False</td>\n      <td>1501610.0</td>\n      <td>zł</td>\n      <td>80.30</td>\n      <td>m²</td>\n      <td>18700.00</td>\n    </tr>\n    <tr>\n      <th>36</th>\n      <td>https://krakow.nieruchomosci-online.pl/mieszka...</td>\n      <td>Mieszkanie, ul. Okólna</td>\n      <td>Okólna, Wola Duchacka, Kraków, małopolskie</td>\n      <td>1</td>\n      <td>4.0</td>\n      <td>2</td>\n      <td>1970.0</td>\n      <td>False</td>\n      <td>520000.0</td>\n      <td>zł</td>\n      <td>37.00</td>\n      <td>m²</td>\n      <td>14054.05</td>\n    </tr>\n    <tr>\n      <th>37</th>\n      <td>https://krakow.nieruchomosci-online.pl/nowe-mi...</td>\n      <td>Nowe mieszkanie Wieczysta, Aleja Jana Pawła II 52</td>\n      <td>NaN</td>\n      <td>II kwartał 2024</td>\n      <td>5.0</td>\n      <td>parter</td>\n      <td>1960.0</td>\n      <td>False</td>\n      <td>1373420.0</td>\n      <td>zł</td>\n      <td>79.85</td>\n      <td>m²</td>\n      <td>17200.00</td>\n    </tr>\n    <tr>\n      <th>38</th>\n      <td>https://krakow.nieruchomosci-online.pl/mieszka...</td>\n      <td>Mieszkanie, ul. Domagały</td>\n      <td>Domagały, Kraków, małopolskie</td>\n      <td>4</td>\n      <td>4.0</td>\n      <td>3</td>\n      <td>2021.0</td>\n      <td>True</td>\n      <td>699000.0</td>\n      <td>zł</td>\n      <td>47.24</td>\n      <td>m²</td>\n      <td>14796.78</td>\n    </tr>\n    <tr>\n      <th>39</th>\n      <td>https://krakow.nieruchomosci-online.pl/nowe-mi...</td>\n      <td>Nowe mieszkanie Wieczysta, Aleja Jana Pawła II 52</td>\n      <td>NaN</td>\n      <td>II kwartał 2024</td>\n      <td>5.0</td>\n      <td>3</td>\n      <td>1960.0</td>\n      <td>False</td>\n      <td>1883130.0</td>\n      <td>zł</td>\n      <td>91.86</td>\n      <td>m²</td>\n      <td>20500.00</td>\n    </tr>\n    <tr>\n      <th>40</th>\n      <td>https://krakow.nieruchomosci-online.pl/mieszka...</td>\n      <td>Mieszkanie, ul. Stańczyka</td>\n      <td>Stańczyka, Bronowice Małe, Kraków, małopolskie</td>\n      <td>2</td>\n      <td>8.0</td>\n      <td>3</td>\n      <td>2010.0</td>\n      <td>True</td>\n      <td>1188000.0</td>\n      <td>zł</td>\n      <td>85.52</td>\n      <td>m²</td>\n      <td>13891.49</td>\n    </tr>\n    <tr>\n      <th>41</th>\n      <td>https://krakow.nieruchomosci-online.pl/nowe-mi...</td>\n      <td>Nowe mieszkanie Gotyk, ul. Grabczaka 8</td>\n      <td>NaN</td>\n      <td>III kwartał 2024</td>\n      <td>5.0</td>\n      <td>2</td>\n      <td>1960.0</td>\n      <td>True</td>\n      <td>912966.0</td>\n      <td>zł</td>\n      <td>77.37</td>\n      <td>m²</td>\n      <td>11800.00</td>\n    </tr>\n    <tr>\n      <th>42</th>\n      <td>https://krakow.nieruchomosci-online.pl/nowe-mi...</td>\n      <td>Nowe mieszkanie Gotyk, ul. Grabczaka 8</td>\n      <td>NaN</td>\n      <td>III kwartał 2024</td>\n      <td>5.0</td>\n      <td>2</td>\n      <td>1960.0</td>\n      <td>True</td>\n      <td>1599000.0</td>\n      <td>zł</td>\n      <td>121.37</td>\n      <td>m²</td>\n      <td>13174.59</td>\n    </tr>\n    <tr>\n      <th>43</th>\n      <td>https://krakow.nieruchomosci-online.pl/mieszka...</td>\n      <td>Mieszkanie, ul. Wygoda</td>\n      <td>Wygoda, Stare Miasto, Kraków, małopolskie</td>\n      <td>1</td>\n      <td>3.0</td>\n      <td>3</td>\n      <td>1972.0</td>\n      <td>True</td>\n      <td>1460000.0</td>\n      <td>zł</td>\n      <td>73.00</td>\n      <td>m²</td>\n      <td>20000.00</td>\n    </tr>\n    <tr>\n      <th>44</th>\n      <td>https://krakow.nieruchomosci-online.pl/mieszka...</td>\n      <td>Apartament, ul. Zakrzowiecka</td>\n      <td>Zakrzowiecka 57, Pychowice/ Stare Dębniki, Kra...</td>\n      <td>1</td>\n      <td>2.0</td>\n      <td>4</td>\n      <td>2023.0</td>\n      <td>True</td>\n      <td>2790000.0</td>\n      <td>zł</td>\n      <td>118.00</td>\n      <td>m²</td>\n      <td>23644.07</td>\n    </tr>\n    <tr>\n      <th>46</th>\n      <td>https://krakow.nieruchomosci-online.pl/mieszka...</td>\n      <td>Apartament, ul. Hamernia</td>\n      <td>Hamernia, Wola Justowska, Kraków, małopolskie</td>\n      <td>1</td>\n      <td>1.0</td>\n      <td>4</td>\n      <td>2024.0</td>\n      <td>True</td>\n      <td>1372000.0</td>\n      <td>zł</td>\n      <td>84.63</td>\n      <td>m²</td>\n      <td>16211.75</td>\n    </tr>\n    <tr>\n      <th>47</th>\n      <td>https://krakow.nieruchomosci-online.pl/mieszka...</td>\n      <td>Apartament, ul. Hamernia</td>\n      <td>Hamernia, Wola Justowska, Kraków, małopolskie</td>\n      <td>1</td>\n      <td>1.0</td>\n      <td>4</td>\n      <td>2024.0</td>\n      <td>True</td>\n      <td>1372000.0</td>\n      <td>zł</td>\n      <td>84.63</td>\n      <td>m²</td>\n      <td>16211.75</td>\n    </tr>\n    <tr>\n      <th>48</th>\n      <td>https://krakow.nieruchomosci-online.pl/mieszka...</td>\n      <td>Mieszkanie</td>\n      <td>Głowackiego, Krowodrza, Kraków, małopolskie</td>\n      <td>4</td>\n      <td>5.0</td>\n      <td>3</td>\n      <td>2009.0</td>\n      <td>True</td>\n      <td>1098000.0</td>\n      <td>zł</td>\n      <td>61.73</td>\n      <td>m²</td>\n      <td>17787.14</td>\n    </tr>\n    <tr>\n      <th>49</th>\n      <td>https://krakow.nieruchomosci-online.pl/mieszka...</td>\n      <td>Apartament, ul. Bartla</td>\n      <td>Bartla, Kliny, Kraków, małopolskie</td>\n      <td>1</td>\n      <td>3.0</td>\n      <td>3</td>\n      <td>2004.0</td>\n      <td>True</td>\n      <td>780000.0</td>\n      <td>zł</td>\n      <td>61.10</td>\n      <td>m²</td>\n      <td>12765.96</td>\n    </tr>\n    <tr>\n      <th>50</th>\n      <td>https://krakow.nieruchomosci-online.pl/mieszka...</td>\n      <td>Mieszkanie, ul. Kordiana</td>\n      <td>Kordiana, Kurdwanów, Kraków, małopolskie</td>\n      <td>parter</td>\n      <td>3.0</td>\n      <td>2</td>\n      <td>2011.0</td>\n      <td>False</td>\n      <td>640000.0</td>\n      <td>zł</td>\n      <td>53.10</td>\n      <td>m²</td>\n      <td>12052.73</td>\n    </tr>\n    <tr>\n      <th>51</th>\n      <td>https://krakow.nieruchomosci-online.pl/mieszka...</td>\n      <td>Mieszkanie</td>\n      <td>Bielany, Kraków, małopolskie</td>\n      <td>parter</td>\n      <td>2.0</td>\n      <td>4</td>\n      <td>2022.0</td>\n      <td>True</td>\n      <td>950000.0</td>\n      <td>zł</td>\n      <td>101.00</td>\n      <td>m²</td>\n      <td>9405.94</td>\n    </tr>\n    <tr>\n      <th>52</th>\n      <td>https://krakow.nieruchomosci-online.pl/mieszka...</td>\n      <td>Mieszkanie</td>\n      <td>Stańczyka, Dzielnica VI Bronowice, Kraków, mał...</td>\n      <td>13</td>\n      <td>14.0</td>\n      <td>3</td>\n      <td>2022.0</td>\n      <td>True</td>\n      <td>1315000.0</td>\n      <td>zł</td>\n      <td>57.78</td>\n      <td>m²</td>\n      <td>22758.74</td>\n    </tr>\n    <tr>\n      <th>53</th>\n      <td>https://krakow.nieruchomosci-online.pl/mieszka...</td>\n      <td>Apartament</td>\n      <td>Banacha, Prądnik Biały, Kraków, małopolskie</td>\n      <td>5</td>\n      <td>5.0</td>\n      <td>4</td>\n      <td>2021.0</td>\n      <td>True</td>\n      <td>1072650.0</td>\n      <td>zł</td>\n      <td>71.51</td>\n      <td>m²</td>\n      <td>15000.00</td>\n    </tr>\n  </tbody>\n</table>\n</div>"
     },
     "execution_count": 848,
     "metadata": {},
     "output_type": "execute_result"
    }
   ],
   "source": [
    "df.head(50)"
   ],
   "metadata": {
    "collapsed": false,
    "ExecuteTime": {
     "end_time": "2024-04-13T15:19:06.946975Z",
     "start_time": "2024-04-13T15:19:06.909816400Z"
    }
   },
   "id": "a658451be2492e6f",
   "execution_count": 848
  },
  {
   "cell_type": "code",
   "outputs": [
    {
     "name": "stdout",
     "output_type": "stream",
     "text": [
      "Unikalne wartości 'no of rooms': ['2' '6' '3' '4' '5' 'parter' '1' '7' '9' '8' '10' '-' '28' '15']\n"
     ]
    }
   ],
   "source": [
    "unique_no_rooms = df['no of rooms'].unique()\n",
    "print(\"Unikalne wartości 'no of rooms':\", unique_no_rooms)"
   ],
   "metadata": {
    "collapsed": false,
    "ExecuteTime": {
     "end_time": "2024-04-13T15:19:06.981582900Z",
     "start_time": "2024-04-13T15:19:06.938779300Z"
    }
   },
   "id": "1bfb579c7f70aaa9",
   "execution_count": 849
  },
  {
   "cell_type": "code",
   "outputs": [
    {
     "data": {
      "text/plain": "no of rooms\n2         1391\n3         1316\n4          592\n1          397\n5          142\n6           28\nparter      20\n7           11\n-           10\n9            5\n8            4\n10           2\n28           1\n15           1\nName: count, dtype: int64"
     },
     "execution_count": 850,
     "metadata": {},
     "output_type": "execute_result"
    }
   ],
   "source": [
    "room_counts = df['no of rooms'].value_counts()\n",
    "room_counts"
   ],
   "metadata": {
    "collapsed": false,
    "ExecuteTime": {
     "end_time": "2024-04-13T15:19:07.024008400Z",
     "start_time": "2024-04-13T15:19:06.983583900Z"
    }
   },
   "id": "3fb0354fc342ce32",
   "execution_count": 850
  },
  {
   "cell_type": "code",
   "outputs": [],
   "source": [
    "# Zamiana '-' na modalną wartość\n",
    "mode_value = df['no of rooms'].mode()[0]  # Pobranie modalnej wartości\n",
    "df['no of rooms'] = df['no of rooms'].replace('-', mode_value)\n",
    "df['no of rooms'] = df['no of rooms'].replace('parter', mode_value)\n",
    "\n",
    "# Konwersja kolumny 'no of rooms' na typ int\n",
    "df['no of rooms'] = pd.to_numeric(df['no of rooms'], errors='coerce')"
   ],
   "metadata": {
    "collapsed": false,
    "ExecuteTime": {
     "end_time": "2024-04-13T15:19:07.077914400Z",
     "start_time": "2024-04-13T15:19:07.012042800Z"
    }
   },
   "id": "450ffcd5d5daf4a2",
   "execution_count": 851
  },
  {
   "cell_type": "code",
   "outputs": [
    {
     "name": "stdout",
     "output_type": "stream",
     "text": [
      "Unikalne wartości 'number of rooms': ['1' '3' '2' '6' 'parter' '7' '4' '9' 'II kwartał 2024' 'III kwartał 2024'\n",
      " '13' '5' 'oddana do użytku' 'II kwartał 2025' 'III kwartał 2025'\n",
      " 'zrealizowana' '8' 'sierpień 2024' 'październik 2025' '15' 'suterena'\n",
      " 'IV kwartał 2024' '11' 'I kwartał 2024' '14' '10' '-' 'I kwartał 2025'\n",
      " 'IV kwartał 2025' 'lipiec 2025' '2025' '12' 'marzec 2024' '21']\n"
     ]
    }
   ],
   "source": [
    "unique_no_floor = df['floor number'].unique()\n",
    "print(\"Unikalne wartości 'number of rooms':\", unique_no_floor)"
   ],
   "metadata": {
    "collapsed": false,
    "ExecuteTime": {
     "end_time": "2024-04-13T15:19:07.098331100Z",
     "start_time": "2024-04-13T15:19:07.080418300Z"
    }
   },
   "id": "bb32e57a9ff86b74",
   "execution_count": 852
  },
  {
   "cell_type": "code",
   "outputs": [
    {
     "data": {
      "text/plain": "floor number\n1                   896\nparter              730\n2                   662\n3                   550\n4                   435\n5                   213\n7                   106\n6                   104\n8                    39\n-                    37\n9                    21\n10                   18\noddana do użytku      9\nIV kwartał 2024       9\nII kwartał 2025       8\nIII kwartał 2025      8\n14                    8\nI kwartał 2024        8\nsuterena              8\n12                    7\nzrealizowana          6\n11                    5\n13                    4\nlipiec 2025           3\nmarzec 2024           3\nIV kwartał 2025       3\n2025                  3\nsierpień 2024         3\nI kwartał 2025        3\npaździernik 2025      3\nII kwartał 2024       3\n15                    2\nIII kwartał 2024      2\n21                    1\nName: count, dtype: int64"
     },
     "execution_count": 853,
     "metadata": {},
     "output_type": "execute_result"
    }
   ],
   "source": [
    "no_floor_count = df['floor number'].value_counts()\n",
    "no_floor_count"
   ],
   "metadata": {
    "collapsed": false,
    "ExecuteTime": {
     "end_time": "2024-04-13T15:19:07.158669200Z",
     "start_time": "2024-04-13T15:19:07.098331100Z"
    }
   },
   "id": "2d25e131e7df10a1",
   "execution_count": 853
  },
  {
   "cell_type": "code",
   "outputs": [],
   "source": [
    "# Zamiana 'parter' na 0 i 'suterena' na -1\n",
    "df['floor number'] = df['floor number'].replace({'parter': 0, 'suterena': -1})\n",
    "\n",
    "# Konwersja kolumny na numeryczną, zamieniając nieprawidłowe wartości na NaN\n",
    "df['floor number'] = pd.to_numeric(df['floor number'], errors='coerce')\n",
    "\n",
    "# Znalezienie modalnej wartości\n",
    "mode_value = df['floor number'].mode()[0]\n",
    "\n",
    "# Zastąpienie NaN modalną wartością\n",
    "df['floor number'] = df['floor number'].fillna(mode_value)"
   ],
   "metadata": {
    "collapsed": false,
    "ExecuteTime": {
     "end_time": "2024-04-13T15:19:07.159669800Z",
     "start_time": "2024-04-13T15:19:07.105994400Z"
    }
   },
   "id": "f2c7190213bc6bf5",
   "execution_count": 854
  },
  {
   "cell_type": "code",
   "outputs": [
    {
     "data": {
      "text/plain": "                                                 url  \\\n0  https://krakow.nieruchomosci-online.pl/mieszka...   \n1  https://krakow.nieruchomosci-online.pl/mieszka...   \n2  https://krakow.nieruchomosci-online.pl/mieszka...   \n3  https://krakow.nieruchomosci-online.pl/mieszka...   \n4  https://krakow.nieruchomosci-online.pl/mieszka...   \n\n                       name/title  \\\n0  Mieszkanie, ul. Żelechowskiego   \n1         Mieszkanie, ul. Balicka   \n2          Mieszkanie, ul. Zauchy   \n3      Mieszkanie, ul. Racławicka   \n4        Mieszkanie, ul. Pustynna   \n\n                                          address  floor number  \\\n0  Żelechowskiego, Bronowice, Kraków, małopolskie           1.0   \n1         Balicka, Bronowice, Kraków, małopolskie           3.0   \n2     Zauchy, Górka Narodowa, Kraków, małopolskie           2.0   \n3      Racławicka, Krowodrza, Kraków, małopolskie           6.0   \n4            Pustynna, Kliny, Kraków, małopolskie           0.0   \n\n   number of floors  no of rooms  year of construction  parking space  \\\n0               3.0            2                1980.0           True   \n1               4.0            6                2004.0           True   \n2               5.0            3                2023.0           True   \n3              10.0            2                1950.0           True   \n4               1.0            3                2013.0           True   \n\n   price_amount currency  area_amount area_unit  price_per_area (m2/zł)  \n0      899000.0       zł        51.70        m²                17388.78  \n1     1575000.0       zł       125.00        m²                12600.00  \n2     1250000.0       zł        65.23        m²                19162.96  \n3      740250.0       zł        49.35        m²                15000.00  \n4     1200000.0       zł        71.06        m²                16887.14  ",
      "text/html": "<div>\n<style scoped>\n    .dataframe tbody tr th:only-of-type {\n        vertical-align: middle;\n    }\n\n    .dataframe tbody tr th {\n        vertical-align: top;\n    }\n\n    .dataframe thead th {\n        text-align: right;\n    }\n</style>\n<table border=\"1\" class=\"dataframe\">\n  <thead>\n    <tr style=\"text-align: right;\">\n      <th></th>\n      <th>url</th>\n      <th>name/title</th>\n      <th>address</th>\n      <th>floor number</th>\n      <th>number of floors</th>\n      <th>no of rooms</th>\n      <th>year of construction</th>\n      <th>parking space</th>\n      <th>price_amount</th>\n      <th>currency</th>\n      <th>area_amount</th>\n      <th>area_unit</th>\n      <th>price_per_area (m2/zł)</th>\n    </tr>\n  </thead>\n  <tbody>\n    <tr>\n      <th>0</th>\n      <td>https://krakow.nieruchomosci-online.pl/mieszka...</td>\n      <td>Mieszkanie, ul. Żelechowskiego</td>\n      <td>Żelechowskiego, Bronowice, Kraków, małopolskie</td>\n      <td>1.0</td>\n      <td>3.0</td>\n      <td>2</td>\n      <td>1980.0</td>\n      <td>True</td>\n      <td>899000.0</td>\n      <td>zł</td>\n      <td>51.70</td>\n      <td>m²</td>\n      <td>17388.78</td>\n    </tr>\n    <tr>\n      <th>1</th>\n      <td>https://krakow.nieruchomosci-online.pl/mieszka...</td>\n      <td>Mieszkanie, ul. Balicka</td>\n      <td>Balicka, Bronowice, Kraków, małopolskie</td>\n      <td>3.0</td>\n      <td>4.0</td>\n      <td>6</td>\n      <td>2004.0</td>\n      <td>True</td>\n      <td>1575000.0</td>\n      <td>zł</td>\n      <td>125.00</td>\n      <td>m²</td>\n      <td>12600.00</td>\n    </tr>\n    <tr>\n      <th>2</th>\n      <td>https://krakow.nieruchomosci-online.pl/mieszka...</td>\n      <td>Mieszkanie, ul. Zauchy</td>\n      <td>Zauchy, Górka Narodowa, Kraków, małopolskie</td>\n      <td>2.0</td>\n      <td>5.0</td>\n      <td>3</td>\n      <td>2023.0</td>\n      <td>True</td>\n      <td>1250000.0</td>\n      <td>zł</td>\n      <td>65.23</td>\n      <td>m²</td>\n      <td>19162.96</td>\n    </tr>\n    <tr>\n      <th>3</th>\n      <td>https://krakow.nieruchomosci-online.pl/mieszka...</td>\n      <td>Mieszkanie, ul. Racławicka</td>\n      <td>Racławicka, Krowodrza, Kraków, małopolskie</td>\n      <td>6.0</td>\n      <td>10.0</td>\n      <td>2</td>\n      <td>1950.0</td>\n      <td>True</td>\n      <td>740250.0</td>\n      <td>zł</td>\n      <td>49.35</td>\n      <td>m²</td>\n      <td>15000.00</td>\n    </tr>\n    <tr>\n      <th>4</th>\n      <td>https://krakow.nieruchomosci-online.pl/mieszka...</td>\n      <td>Mieszkanie, ul. Pustynna</td>\n      <td>Pustynna, Kliny, Kraków, małopolskie</td>\n      <td>0.0</td>\n      <td>1.0</td>\n      <td>3</td>\n      <td>2013.0</td>\n      <td>True</td>\n      <td>1200000.0</td>\n      <td>zł</td>\n      <td>71.06</td>\n      <td>m²</td>\n      <td>16887.14</td>\n    </tr>\n  </tbody>\n</table>\n</div>"
     },
     "execution_count": 855,
     "metadata": {},
     "output_type": "execute_result"
    }
   ],
   "source": [
    "df.head(5)"
   ],
   "metadata": {
    "collapsed": false,
    "ExecuteTime": {
     "end_time": "2024-04-13T15:19:07.164817400Z",
     "start_time": "2024-04-13T15:19:07.153671Z"
    }
   },
   "id": "7c2f4484f1d5d697",
   "execution_count": 855
  },
  {
   "cell_type": "markdown",
   "source": [
    "## Address from Title"
   ],
   "metadata": {
    "collapsed": false
   },
   "id": "91fc96f33fb7cffa"
  },
  {
   "cell_type": "code",
   "outputs": [],
   "source": [],
   "metadata": {
    "collapsed": false,
    "ExecuteTime": {
     "end_time": "2024-04-13T15:19:07.182016100Z",
     "start_time": "2024-04-13T15:19:07.164256900Z"
    }
   },
   "id": "4a76366b1b64d419",
   "execution_count": 855
  },
  {
   "cell_type": "code",
   "outputs": [],
   "source": [
    "import re\n",
    "\n",
    "# Wyrażenie regularne do wyciągnięcia tekstu po 'ul.'\n",
    "pattern = r'ul\\.\\s*(.+)'\n",
    "\n",
    "# Wykorzystanie metody str.extract() do wyciągnięcia tekstu i dodanie do nowej kolumny\n",
    "df['address title'] = df['name/title'].str.extract(pattern, flags=re.IGNORECASE)"
   ],
   "metadata": {
    "collapsed": false,
    "ExecuteTime": {
     "end_time": "2024-04-13T15:19:07.204076700Z",
     "start_time": "2024-04-13T15:19:07.172172Z"
    }
   },
   "id": "8458250c96ed944c",
   "execution_count": 856
  },
  {
   "cell_type": "code",
   "outputs": [
    {
     "data": {
      "text/plain": "                                                  url  \\\n0   https://krakow.nieruchomosci-online.pl/mieszka...   \n1   https://krakow.nieruchomosci-online.pl/mieszka...   \n2   https://krakow.nieruchomosci-online.pl/mieszka...   \n3   https://krakow.nieruchomosci-online.pl/mieszka...   \n4   https://krakow.nieruchomosci-online.pl/mieszka...   \n5   https://krakow.nieruchomosci-online.pl/mieszka...   \n6   https://krakow.nieruchomosci-online.pl/mieszka...   \n7   https://krakow.nieruchomosci-online.pl/mieszka...   \n8   https://krakow.nieruchomosci-online.pl/mieszka...   \n9   https://krakow.nieruchomosci-online.pl/mieszka...   \n10  https://krakow.nieruchomosci-online.pl/mieszka...   \n11  https://krakow.nieruchomosci-online.pl/mieszka...   \n12  https://krakow.nieruchomosci-online.pl/mieszka...   \n13  https://krakow.nieruchomosci-online.pl/mieszka...   \n14  https://krakow.nieruchomosci-online.pl/mieszka...   \n15  https://krakow.nieruchomosci-online.pl/mieszka...   \n16  https://krakow.nieruchomosci-online.pl/mieszka...   \n17  https://krakow.nieruchomosci-online.pl/mieszka...   \n18  https://krakow.nieruchomosci-online.pl/mieszka...   \n19  https://krakow.nieruchomosci-online.pl/mieszka...   \n20  https://krakow.nieruchomosci-online.pl/mieszka...   \n21  https://krakow.nieruchomosci-online.pl/mieszka...   \n22  https://krakow.nieruchomosci-online.pl/mieszka...   \n23  https://krakow.nieruchomosci-online.pl/mieszka...   \n24  https://krakow.nieruchomosci-online.pl/mieszka...   \n25  https://krakow.nieruchomosci-online.pl/mieszka...   \n29  https://krakow.nieruchomosci-online.pl/mieszka...   \n30  https://krakow.nieruchomosci-online.pl/mieszka...   \n31  https://krakow.nieruchomosci-online.pl/mieszka...   \n32  https://krakow.nieruchomosci-online.pl/mieszka...   \n33  https://krakow.nieruchomosci-online.pl/mieszka...   \n34  https://krakow.nieruchomosci-online.pl/mieszka...   \n35  https://krakow.nieruchomosci-online.pl/nowe-mi...   \n36  https://krakow.nieruchomosci-online.pl/mieszka...   \n37  https://krakow.nieruchomosci-online.pl/nowe-mi...   \n38  https://krakow.nieruchomosci-online.pl/mieszka...   \n39  https://krakow.nieruchomosci-online.pl/nowe-mi...   \n40  https://krakow.nieruchomosci-online.pl/mieszka...   \n41  https://krakow.nieruchomosci-online.pl/nowe-mi...   \n42  https://krakow.nieruchomosci-online.pl/nowe-mi...   \n43  https://krakow.nieruchomosci-online.pl/mieszka...   \n44  https://krakow.nieruchomosci-online.pl/mieszka...   \n46  https://krakow.nieruchomosci-online.pl/mieszka...   \n47  https://krakow.nieruchomosci-online.pl/mieszka...   \n48  https://krakow.nieruchomosci-online.pl/mieszka...   \n49  https://krakow.nieruchomosci-online.pl/mieszka...   \n50  https://krakow.nieruchomosci-online.pl/mieszka...   \n51  https://krakow.nieruchomosci-online.pl/mieszka...   \n52  https://krakow.nieruchomosci-online.pl/mieszka...   \n53  https://krakow.nieruchomosci-online.pl/mieszka...   \n\n                                           name/title  \\\n0                      Mieszkanie, ul. Żelechowskiego   \n1                             Mieszkanie, ul. Balicka   \n2                              Mieszkanie, ul. Zauchy   \n3                          Mieszkanie, ul. Racławicka   \n4                            Mieszkanie, ul. Pustynna   \n5                                   Apartament Kraków   \n6                          Mieszkanie, ul. Przemiarki   \n7                         Mieszkanie, ul. Felińskiego   \n8                           Apartament, ul. Lublańska   \n9                       Apartament, ul. Szablowskiego   \n10                                  Mieszkanie Kraków   \n11                          Mieszkanie, ul. Cystersów   \n12                             Mieszkanie, ul. Ułanów   \n13                             Mieszkanie, ul. Bartla   \n14                    Mieszkanie, Osiedle Tysiąclecia   \n15                              Mieszkanie, ul. Bojki   \n16             Mieszkanie, Osiedle Bohaterów Września   \n17                           Mieszkanie, ul. Zawodzie   \n18                            Mieszkanie, ul. Obozowa   \n19                          Mieszkanie, ul. Beskidzka   \n20                                         Apartament   \n21                      Mieszkanie, ul. Cieplińskiego   \n22                      Apartament, ul. Zwierzyniecka   \n23                             Mieszkanie, ul. Siewna   \n24                   Apartament, ul. Przybyszewskiego   \n25                           Mieszkanie, ul. Dworcowa   \n29                                  Apartament Kraków   \n30                              Mieszkanie, ul. Bojki   \n31                                  Apartament Kraków   \n32                             Mieszkanie, ul. Lentza   \n33                         Mieszkanie, ul. Sławkowska   \n34                       Mieszkanie, Osiedle Kalinowe   \n35  Nowe mieszkanie Wieczysta, Aleja Jana Pawła II 52   \n36                             Mieszkanie, ul. Okólna   \n37  Nowe mieszkanie Wieczysta, Aleja Jana Pawła II 52   \n38                           Mieszkanie, ul. Domagały   \n39  Nowe mieszkanie Wieczysta, Aleja Jana Pawła II 52   \n40                          Mieszkanie, ul. Stańczyka   \n41             Nowe mieszkanie Gotyk, ul. Grabczaka 8   \n42             Nowe mieszkanie Gotyk, ul. Grabczaka 8   \n43                             Mieszkanie, ul. Wygoda   \n44                       Apartament, ul. Zakrzowiecka   \n46                           Apartament, ul. Hamernia   \n47                           Apartament, ul. Hamernia   \n48                                         Mieszkanie   \n49                             Apartament, ul. Bartla   \n50                           Mieszkanie, ul. Kordiana   \n51                                         Mieszkanie   \n52                                         Mieszkanie   \n53                                         Apartament   \n\n                                              address  floor number  \\\n0      Żelechowskiego, Bronowice, Kraków, małopolskie           1.0   \n1             Balicka, Bronowice, Kraków, małopolskie           3.0   \n2         Zauchy, Górka Narodowa, Kraków, małopolskie           2.0   \n3          Racławicka, Krowodrza, Kraków, małopolskie           6.0   \n4                Pustynna, Kliny, Kraków, małopolskie           0.0   \n5                 Wola Justowska, Kraków, małopolskie           0.0   \n6             Przemiarki, Ruczaj, Kraków, małopolskie           2.0   \n7    Felińskiego, Górka Narodowa, Kraków, małopolskie           2.0   \n8   Lublańska 13, Prądnik Czerwony, Kraków, małopo...           3.0   \n9       Szablowskiego, Bronowice, Kraków, małopolskie           0.0   \n10  Wzgórza Kzresławickie, Wzgórza Krzesławickie, ...           1.0   \n11         Cystersów, Grzegórzki, Kraków, małopolskie           7.0   \n12      Ułanów, Prądnik Czerwony, Kraków, małopolskie           0.0   \n13                 Bartla, Kliny, Kraków, małopolskie           1.0   \n14  Osiedle Tysiąclecia, Mistrzejowice, Kraków, ma...           3.0   \n15              Bojki, Kurdwanów, Kraków, małopolskie           4.0   \n16  Osiedle Bohaterów Września, Mistrzejowice, Kra...           3.0   \n17       Zawodzie, Prądnik Biały, Kraków, małopolskie           2.0   \n18               Obozowa, Ruczaj, Kraków, małopolskie           0.0   \n19      Beskidzka, Wola Duchacka, Kraków, małopolskie           4.0   \n20  Bałuckiego, Dzielnica VIII Dębniki, Kraków, ma...           3.0   \n21          Cieplińskiego, Olsza, Kraków, małopolskie           2.0   \n22   Zwierzyniecka, Stare Miasto, Kraków, małopolskie           1.0   \n23         Siewna, Prądnik Biały, Kraków, małopolskie           4.0   \n24  Przybyszewskiego 64d, Bronowice, Kraków, małop...           7.0   \n25             Dworcowa, Płaszów, Kraków, małopolskie           0.0   \n29                       Bielany, Kraków, małopolskie           1.0   \n30              Bojki, Kurdwanów, Kraków, małopolskie           9.0   \n31                Wola Justowska, Kraków, małopolskie           1.0   \n32         Lentza, Prądnik Biały, Kraków, małopolskie           3.0   \n33   Sławkowska 19, Stare Miasto, Kraków, małopolskie           1.0   \n34   Osiedle Kalinowe, Bieńczyce, Kraków, małopolskie           4.0   \n35                                                NaN           1.0   \n36         Okólna, Wola Duchacka, Kraków, małopolskie           1.0   \n37                                                NaN           1.0   \n38                      Domagały, Kraków, małopolskie           4.0   \n39                                                NaN           1.0   \n40     Stańczyka, Bronowice Małe, Kraków, małopolskie           2.0   \n41                                                NaN           1.0   \n42                                                NaN           1.0   \n43          Wygoda, Stare Miasto, Kraków, małopolskie           1.0   \n44  Zakrzowiecka 57, Pychowice/ Stare Dębniki, Kra...           1.0   \n46      Hamernia, Wola Justowska, Kraków, małopolskie           1.0   \n47      Hamernia, Wola Justowska, Kraków, małopolskie           1.0   \n48        Głowackiego, Krowodrza, Kraków, małopolskie           4.0   \n49                 Bartla, Kliny, Kraków, małopolskie           1.0   \n50           Kordiana, Kurdwanów, Kraków, małopolskie           0.0   \n51                       Bielany, Kraków, małopolskie           0.0   \n52  Stańczyka, Dzielnica VI Bronowice, Kraków, mał...          13.0   \n53        Banacha, Prądnik Biały, Kraków, małopolskie           5.0   \n\n    number of floors  no of rooms  year of construction  parking space  \\\n0                3.0            2                1980.0           True   \n1                4.0            6                2004.0           True   \n2                5.0            3                2023.0           True   \n3               10.0            2                1950.0           True   \n4                1.0            3                2013.0           True   \n5                2.0            4                2023.0           True   \n6                3.0            2                2000.0           True   \n7                5.0            3                2003.0           True   \n8                4.0            3                2023.0           True   \n9                3.0            2                2001.0           True   \n10               2.0            5                2023.0           True   \n11               7.0            3                2017.0           True   \n12              10.0            3                1962.0          False   \n13               3.0            2                2017.0           True   \n14               4.0            2                1970.0          False   \n15               4.0            2                1985.0           True   \n16               6.0            3                1983.0          False   \n17              10.0            2                1960.0           True   \n18               7.0            2                2012.0           True   \n19              10.0            3                1983.0          False   \n20               4.0            3                2023.0          False   \n21              10.0            3                1970.0           True   \n22               6.0            3                2007.0           True   \n23               4.0            2                1981.0          False   \n24               9.0            3                2021.0           True   \n25               4.0            3                1974.0          False   \n29               1.0            4                2023.0           True   \n30              10.0            2                1991.0           True   \n31               2.0            4                2019.0           True   \n32               4.0            2                1967.0          False   \n33               3.0            3                1800.0           True   \n34              10.0            2                1970.0           True   \n35               5.0            4                1960.0          False   \n36               4.0            2                1970.0          False   \n37               5.0            2                1960.0          False   \n38               4.0            3                2021.0           True   \n39               5.0            3                1960.0          False   \n40               8.0            3                2010.0           True   \n41               5.0            2                1960.0           True   \n42               5.0            2                1960.0           True   \n43               3.0            3                1972.0           True   \n44               2.0            4                2023.0           True   \n46               1.0            4                2024.0           True   \n47               1.0            4                2024.0           True   \n48               5.0            3                2009.0           True   \n49               3.0            3                2004.0           True   \n50               3.0            2                2011.0          False   \n51               2.0            4                2022.0           True   \n52              14.0            3                2022.0           True   \n53               5.0            4                2021.0           True   \n\n    price_amount currency  area_amount area_unit  price_per_area (m2/zł)  \\\n0       899000.0       zł        51.70        m²                17388.78   \n1      1575000.0       zł       125.00        m²                12600.00   \n2      1250000.0       zł        65.23        m²                19162.96   \n3       740250.0       zł        49.35        m²                15000.00   \n4      1200000.0       zł        71.06        m²                16887.14   \n5      1198680.0       zł        71.35        m²                16800.00   \n6       625000.0       zł        40.00        m²                15625.00   \n7       899000.0       zł        74.17        m²                12120.80   \n8      1050000.0       zł        60.00        m²                17500.00   \n9       599000.0       zł        40.00        m²                14975.00   \n10      999000.0       zł       157.00        m²                 6363.06   \n11     1279250.0       zł        59.50        m²                21500.00   \n12      790000.0       zł        61.40        m²                12866.45   \n13      669000.0       zł        43.00        m²                15558.14   \n14      539000.0       zł        33.80        m²                15946.75   \n15      635000.0       zł        50.00        m²                12700.00   \n16      860000.0       zł        64.09        m²                13418.63   \n17      699000.0       zł        62.00        m²                11274.19   \n18      695000.0       zł        51.94        m²                13380.82   \n19      860000.0       zł        62.00        m²                13870.97   \n20     1200000.0       zł        63.90        m²                18779.34   \n21      710000.0       zł        46.59        m²                15239.32   \n22     1525000.0       zł        58.99        m²                25851.84   \n23      699000.0       zł        53.00        m²                13188.68   \n24     1425000.0       zł        60.00        m²                23750.00   \n25      735000.0       zł        45.50        m²                16153.85   \n29      699000.0       zł       105.00        m²                 6657.14   \n30      749000.0       zł        50.10        m²                14950.10   \n31     2385000.0       zł       146.69        m²                16258.78   \n32      519000.0       zł        37.40        m²                13877.01   \n33     2799920.0       zł        80.00        m²                34999.00   \n34      486000.0       zł        36.06        m²                13477.54   \n35     1501610.0       zł        80.30        m²                18700.00   \n36      520000.0       zł        37.00        m²                14054.05   \n37     1373420.0       zł        79.85        m²                17200.00   \n38      699000.0       zł        47.24        m²                14796.78   \n39     1883130.0       zł        91.86        m²                20500.00   \n40     1188000.0       zł        85.52        m²                13891.49   \n41      912966.0       zł        77.37        m²                11800.00   \n42     1599000.0       zł       121.37        m²                13174.59   \n43     1460000.0       zł        73.00        m²                20000.00   \n44     2790000.0       zł       118.00        m²                23644.07   \n46     1372000.0       zł        84.63        m²                16211.75   \n47     1372000.0       zł        84.63        m²                16211.75   \n48     1098000.0       zł        61.73        m²                17787.14   \n49      780000.0       zł        61.10        m²                12765.96   \n50      640000.0       zł        53.10        m²                12052.73   \n51      950000.0       zł       101.00        m²                 9405.94   \n52     1315000.0       zł        57.78        m²                22758.74   \n53     1072650.0       zł        71.51        m²                15000.00   \n\n       address title  \n0     Żelechowskiego  \n1            Balicka  \n2             Zauchy  \n3         Racławicka  \n4           Pustynna  \n5                NaN  \n6         Przemiarki  \n7        Felińskiego  \n8          Lublańska  \n9      Szablowskiego  \n10               NaN  \n11         Cystersów  \n12            Ułanów  \n13            Bartla  \n14               NaN  \n15             Bojki  \n16               NaN  \n17          Zawodzie  \n18           Obozowa  \n19         Beskidzka  \n20               NaN  \n21     Cieplińskiego  \n22     Zwierzyniecka  \n23            Siewna  \n24  Przybyszewskiego  \n25          Dworcowa  \n29               NaN  \n30             Bojki  \n31               NaN  \n32            Lentza  \n33        Sławkowska  \n34               NaN  \n35               NaN  \n36            Okólna  \n37               NaN  \n38          Domagały  \n39               NaN  \n40         Stańczyka  \n41       Grabczaka 8  \n42       Grabczaka 8  \n43            Wygoda  \n44      Zakrzowiecka  \n46          Hamernia  \n47          Hamernia  \n48               NaN  \n49            Bartla  \n50          Kordiana  \n51               NaN  \n52               NaN  \n53               NaN  ",
      "text/html": "<div>\n<style scoped>\n    .dataframe tbody tr th:only-of-type {\n        vertical-align: middle;\n    }\n\n    .dataframe tbody tr th {\n        vertical-align: top;\n    }\n\n    .dataframe thead th {\n        text-align: right;\n    }\n</style>\n<table border=\"1\" class=\"dataframe\">\n  <thead>\n    <tr style=\"text-align: right;\">\n      <th></th>\n      <th>url</th>\n      <th>name/title</th>\n      <th>address</th>\n      <th>floor number</th>\n      <th>number of floors</th>\n      <th>no of rooms</th>\n      <th>year of construction</th>\n      <th>parking space</th>\n      <th>price_amount</th>\n      <th>currency</th>\n      <th>area_amount</th>\n      <th>area_unit</th>\n      <th>price_per_area (m2/zł)</th>\n      <th>address title</th>\n    </tr>\n  </thead>\n  <tbody>\n    <tr>\n      <th>0</th>\n      <td>https://krakow.nieruchomosci-online.pl/mieszka...</td>\n      <td>Mieszkanie, ul. Żelechowskiego</td>\n      <td>Żelechowskiego, Bronowice, Kraków, małopolskie</td>\n      <td>1.0</td>\n      <td>3.0</td>\n      <td>2</td>\n      <td>1980.0</td>\n      <td>True</td>\n      <td>899000.0</td>\n      <td>zł</td>\n      <td>51.70</td>\n      <td>m²</td>\n      <td>17388.78</td>\n      <td>Żelechowskiego</td>\n    </tr>\n    <tr>\n      <th>1</th>\n      <td>https://krakow.nieruchomosci-online.pl/mieszka...</td>\n      <td>Mieszkanie, ul. Balicka</td>\n      <td>Balicka, Bronowice, Kraków, małopolskie</td>\n      <td>3.0</td>\n      <td>4.0</td>\n      <td>6</td>\n      <td>2004.0</td>\n      <td>True</td>\n      <td>1575000.0</td>\n      <td>zł</td>\n      <td>125.00</td>\n      <td>m²</td>\n      <td>12600.00</td>\n      <td>Balicka</td>\n    </tr>\n    <tr>\n      <th>2</th>\n      <td>https://krakow.nieruchomosci-online.pl/mieszka...</td>\n      <td>Mieszkanie, ul. Zauchy</td>\n      <td>Zauchy, Górka Narodowa, Kraków, małopolskie</td>\n      <td>2.0</td>\n      <td>5.0</td>\n      <td>3</td>\n      <td>2023.0</td>\n      <td>True</td>\n      <td>1250000.0</td>\n      <td>zł</td>\n      <td>65.23</td>\n      <td>m²</td>\n      <td>19162.96</td>\n      <td>Zauchy</td>\n    </tr>\n    <tr>\n      <th>3</th>\n      <td>https://krakow.nieruchomosci-online.pl/mieszka...</td>\n      <td>Mieszkanie, ul. Racławicka</td>\n      <td>Racławicka, Krowodrza, Kraków, małopolskie</td>\n      <td>6.0</td>\n      <td>10.0</td>\n      <td>2</td>\n      <td>1950.0</td>\n      <td>True</td>\n      <td>740250.0</td>\n      <td>zł</td>\n      <td>49.35</td>\n      <td>m²</td>\n      <td>15000.00</td>\n      <td>Racławicka</td>\n    </tr>\n    <tr>\n      <th>4</th>\n      <td>https://krakow.nieruchomosci-online.pl/mieszka...</td>\n      <td>Mieszkanie, ul. Pustynna</td>\n      <td>Pustynna, Kliny, Kraków, małopolskie</td>\n      <td>0.0</td>\n      <td>1.0</td>\n      <td>3</td>\n      <td>2013.0</td>\n      <td>True</td>\n      <td>1200000.0</td>\n      <td>zł</td>\n      <td>71.06</td>\n      <td>m²</td>\n      <td>16887.14</td>\n      <td>Pustynna</td>\n    </tr>\n    <tr>\n      <th>5</th>\n      <td>https://krakow.nieruchomosci-online.pl/mieszka...</td>\n      <td>Apartament Kraków</td>\n      <td>Wola Justowska, Kraków, małopolskie</td>\n      <td>0.0</td>\n      <td>2.0</td>\n      <td>4</td>\n      <td>2023.0</td>\n      <td>True</td>\n      <td>1198680.0</td>\n      <td>zł</td>\n      <td>71.35</td>\n      <td>m²</td>\n      <td>16800.00</td>\n      <td>NaN</td>\n    </tr>\n    <tr>\n      <th>6</th>\n      <td>https://krakow.nieruchomosci-online.pl/mieszka...</td>\n      <td>Mieszkanie, ul. Przemiarki</td>\n      <td>Przemiarki, Ruczaj, Kraków, małopolskie</td>\n      <td>2.0</td>\n      <td>3.0</td>\n      <td>2</td>\n      <td>2000.0</td>\n      <td>True</td>\n      <td>625000.0</td>\n      <td>zł</td>\n      <td>40.00</td>\n      <td>m²</td>\n      <td>15625.00</td>\n      <td>Przemiarki</td>\n    </tr>\n    <tr>\n      <th>7</th>\n      <td>https://krakow.nieruchomosci-online.pl/mieszka...</td>\n      <td>Mieszkanie, ul. Felińskiego</td>\n      <td>Felińskiego, Górka Narodowa, Kraków, małopolskie</td>\n      <td>2.0</td>\n      <td>5.0</td>\n      <td>3</td>\n      <td>2003.0</td>\n      <td>True</td>\n      <td>899000.0</td>\n      <td>zł</td>\n      <td>74.17</td>\n      <td>m²</td>\n      <td>12120.80</td>\n      <td>Felińskiego</td>\n    </tr>\n    <tr>\n      <th>8</th>\n      <td>https://krakow.nieruchomosci-online.pl/mieszka...</td>\n      <td>Apartament, ul. Lublańska</td>\n      <td>Lublańska 13, Prądnik Czerwony, Kraków, małopo...</td>\n      <td>3.0</td>\n      <td>4.0</td>\n      <td>3</td>\n      <td>2023.0</td>\n      <td>True</td>\n      <td>1050000.0</td>\n      <td>zł</td>\n      <td>60.00</td>\n      <td>m²</td>\n      <td>17500.00</td>\n      <td>Lublańska</td>\n    </tr>\n    <tr>\n      <th>9</th>\n      <td>https://krakow.nieruchomosci-online.pl/mieszka...</td>\n      <td>Apartament, ul. Szablowskiego</td>\n      <td>Szablowskiego, Bronowice, Kraków, małopolskie</td>\n      <td>0.0</td>\n      <td>3.0</td>\n      <td>2</td>\n      <td>2001.0</td>\n      <td>True</td>\n      <td>599000.0</td>\n      <td>zł</td>\n      <td>40.00</td>\n      <td>m²</td>\n      <td>14975.00</td>\n      <td>Szablowskiego</td>\n    </tr>\n    <tr>\n      <th>10</th>\n      <td>https://krakow.nieruchomosci-online.pl/mieszka...</td>\n      <td>Mieszkanie Kraków</td>\n      <td>Wzgórza Kzresławickie, Wzgórza Krzesławickie, ...</td>\n      <td>1.0</td>\n      <td>2.0</td>\n      <td>5</td>\n      <td>2023.0</td>\n      <td>True</td>\n      <td>999000.0</td>\n      <td>zł</td>\n      <td>157.00</td>\n      <td>m²</td>\n      <td>6363.06</td>\n      <td>NaN</td>\n    </tr>\n    <tr>\n      <th>11</th>\n      <td>https://krakow.nieruchomosci-online.pl/mieszka...</td>\n      <td>Mieszkanie, ul. Cystersów</td>\n      <td>Cystersów, Grzegórzki, Kraków, małopolskie</td>\n      <td>7.0</td>\n      <td>7.0</td>\n      <td>3</td>\n      <td>2017.0</td>\n      <td>True</td>\n      <td>1279250.0</td>\n      <td>zł</td>\n      <td>59.50</td>\n      <td>m²</td>\n      <td>21500.00</td>\n      <td>Cystersów</td>\n    </tr>\n    <tr>\n      <th>12</th>\n      <td>https://krakow.nieruchomosci-online.pl/mieszka...</td>\n      <td>Mieszkanie, ul. Ułanów</td>\n      <td>Ułanów, Prądnik Czerwony, Kraków, małopolskie</td>\n      <td>0.0</td>\n      <td>10.0</td>\n      <td>3</td>\n      <td>1962.0</td>\n      <td>False</td>\n      <td>790000.0</td>\n      <td>zł</td>\n      <td>61.40</td>\n      <td>m²</td>\n      <td>12866.45</td>\n      <td>Ułanów</td>\n    </tr>\n    <tr>\n      <th>13</th>\n      <td>https://krakow.nieruchomosci-online.pl/mieszka...</td>\n      <td>Mieszkanie, ul. Bartla</td>\n      <td>Bartla, Kliny, Kraków, małopolskie</td>\n      <td>1.0</td>\n      <td>3.0</td>\n      <td>2</td>\n      <td>2017.0</td>\n      <td>True</td>\n      <td>669000.0</td>\n      <td>zł</td>\n      <td>43.00</td>\n      <td>m²</td>\n      <td>15558.14</td>\n      <td>Bartla</td>\n    </tr>\n    <tr>\n      <th>14</th>\n      <td>https://krakow.nieruchomosci-online.pl/mieszka...</td>\n      <td>Mieszkanie, Osiedle Tysiąclecia</td>\n      <td>Osiedle Tysiąclecia, Mistrzejowice, Kraków, ma...</td>\n      <td>3.0</td>\n      <td>4.0</td>\n      <td>2</td>\n      <td>1970.0</td>\n      <td>False</td>\n      <td>539000.0</td>\n      <td>zł</td>\n      <td>33.80</td>\n      <td>m²</td>\n      <td>15946.75</td>\n      <td>NaN</td>\n    </tr>\n    <tr>\n      <th>15</th>\n      <td>https://krakow.nieruchomosci-online.pl/mieszka...</td>\n      <td>Mieszkanie, ul. Bojki</td>\n      <td>Bojki, Kurdwanów, Kraków, małopolskie</td>\n      <td>4.0</td>\n      <td>4.0</td>\n      <td>2</td>\n      <td>1985.0</td>\n      <td>True</td>\n      <td>635000.0</td>\n      <td>zł</td>\n      <td>50.00</td>\n      <td>m²</td>\n      <td>12700.00</td>\n      <td>Bojki</td>\n    </tr>\n    <tr>\n      <th>16</th>\n      <td>https://krakow.nieruchomosci-online.pl/mieszka...</td>\n      <td>Mieszkanie, Osiedle Bohaterów Września</td>\n      <td>Osiedle Bohaterów Września, Mistrzejowice, Kra...</td>\n      <td>3.0</td>\n      <td>6.0</td>\n      <td>3</td>\n      <td>1983.0</td>\n      <td>False</td>\n      <td>860000.0</td>\n      <td>zł</td>\n      <td>64.09</td>\n      <td>m²</td>\n      <td>13418.63</td>\n      <td>NaN</td>\n    </tr>\n    <tr>\n      <th>17</th>\n      <td>https://krakow.nieruchomosci-online.pl/mieszka...</td>\n      <td>Mieszkanie, ul. Zawodzie</td>\n      <td>Zawodzie, Prądnik Biały, Kraków, małopolskie</td>\n      <td>2.0</td>\n      <td>10.0</td>\n      <td>2</td>\n      <td>1960.0</td>\n      <td>True</td>\n      <td>699000.0</td>\n      <td>zł</td>\n      <td>62.00</td>\n      <td>m²</td>\n      <td>11274.19</td>\n      <td>Zawodzie</td>\n    </tr>\n    <tr>\n      <th>18</th>\n      <td>https://krakow.nieruchomosci-online.pl/mieszka...</td>\n      <td>Mieszkanie, ul. Obozowa</td>\n      <td>Obozowa, Ruczaj, Kraków, małopolskie</td>\n      <td>0.0</td>\n      <td>7.0</td>\n      <td>2</td>\n      <td>2012.0</td>\n      <td>True</td>\n      <td>695000.0</td>\n      <td>zł</td>\n      <td>51.94</td>\n      <td>m²</td>\n      <td>13380.82</td>\n      <td>Obozowa</td>\n    </tr>\n    <tr>\n      <th>19</th>\n      <td>https://krakow.nieruchomosci-online.pl/mieszka...</td>\n      <td>Mieszkanie, ul. Beskidzka</td>\n      <td>Beskidzka, Wola Duchacka, Kraków, małopolskie</td>\n      <td>4.0</td>\n      <td>10.0</td>\n      <td>3</td>\n      <td>1983.0</td>\n      <td>False</td>\n      <td>860000.0</td>\n      <td>zł</td>\n      <td>62.00</td>\n      <td>m²</td>\n      <td>13870.97</td>\n      <td>Beskidzka</td>\n    </tr>\n    <tr>\n      <th>20</th>\n      <td>https://krakow.nieruchomosci-online.pl/mieszka...</td>\n      <td>Apartament</td>\n      <td>Bałuckiego, Dzielnica VIII Dębniki, Kraków, ma...</td>\n      <td>3.0</td>\n      <td>4.0</td>\n      <td>3</td>\n      <td>2023.0</td>\n      <td>False</td>\n      <td>1200000.0</td>\n      <td>zł</td>\n      <td>63.90</td>\n      <td>m²</td>\n      <td>18779.34</td>\n      <td>NaN</td>\n    </tr>\n    <tr>\n      <th>21</th>\n      <td>https://krakow.nieruchomosci-online.pl/mieszka...</td>\n      <td>Mieszkanie, ul. Cieplińskiego</td>\n      <td>Cieplińskiego, Olsza, Kraków, małopolskie</td>\n      <td>2.0</td>\n      <td>10.0</td>\n      <td>3</td>\n      <td>1970.0</td>\n      <td>True</td>\n      <td>710000.0</td>\n      <td>zł</td>\n      <td>46.59</td>\n      <td>m²</td>\n      <td>15239.32</td>\n      <td>Cieplińskiego</td>\n    </tr>\n    <tr>\n      <th>22</th>\n      <td>https://krakow.nieruchomosci-online.pl/mieszka...</td>\n      <td>Apartament, ul. Zwierzyniecka</td>\n      <td>Zwierzyniecka, Stare Miasto, Kraków, małopolskie</td>\n      <td>1.0</td>\n      <td>6.0</td>\n      <td>3</td>\n      <td>2007.0</td>\n      <td>True</td>\n      <td>1525000.0</td>\n      <td>zł</td>\n      <td>58.99</td>\n      <td>m²</td>\n      <td>25851.84</td>\n      <td>Zwierzyniecka</td>\n    </tr>\n    <tr>\n      <th>23</th>\n      <td>https://krakow.nieruchomosci-online.pl/mieszka...</td>\n      <td>Mieszkanie, ul. Siewna</td>\n      <td>Siewna, Prądnik Biały, Kraków, małopolskie</td>\n      <td>4.0</td>\n      <td>4.0</td>\n      <td>2</td>\n      <td>1981.0</td>\n      <td>False</td>\n      <td>699000.0</td>\n      <td>zł</td>\n      <td>53.00</td>\n      <td>m²</td>\n      <td>13188.68</td>\n      <td>Siewna</td>\n    </tr>\n    <tr>\n      <th>24</th>\n      <td>https://krakow.nieruchomosci-online.pl/mieszka...</td>\n      <td>Apartament, ul. Przybyszewskiego</td>\n      <td>Przybyszewskiego 64d, Bronowice, Kraków, małop...</td>\n      <td>7.0</td>\n      <td>9.0</td>\n      <td>3</td>\n      <td>2021.0</td>\n      <td>True</td>\n      <td>1425000.0</td>\n      <td>zł</td>\n      <td>60.00</td>\n      <td>m²</td>\n      <td>23750.00</td>\n      <td>Przybyszewskiego</td>\n    </tr>\n    <tr>\n      <th>25</th>\n      <td>https://krakow.nieruchomosci-online.pl/mieszka...</td>\n      <td>Mieszkanie, ul. Dworcowa</td>\n      <td>Dworcowa, Płaszów, Kraków, małopolskie</td>\n      <td>0.0</td>\n      <td>4.0</td>\n      <td>3</td>\n      <td>1974.0</td>\n      <td>False</td>\n      <td>735000.0</td>\n      <td>zł</td>\n      <td>45.50</td>\n      <td>m²</td>\n      <td>16153.85</td>\n      <td>Dworcowa</td>\n    </tr>\n    <tr>\n      <th>29</th>\n      <td>https://krakow.nieruchomosci-online.pl/mieszka...</td>\n      <td>Apartament Kraków</td>\n      <td>Bielany, Kraków, małopolskie</td>\n      <td>1.0</td>\n      <td>1.0</td>\n      <td>4</td>\n      <td>2023.0</td>\n      <td>True</td>\n      <td>699000.0</td>\n      <td>zł</td>\n      <td>105.00</td>\n      <td>m²</td>\n      <td>6657.14</td>\n      <td>NaN</td>\n    </tr>\n    <tr>\n      <th>30</th>\n      <td>https://krakow.nieruchomosci-online.pl/mieszka...</td>\n      <td>Mieszkanie, ul. Bojki</td>\n      <td>Bojki, Kurdwanów, Kraków, małopolskie</td>\n      <td>9.0</td>\n      <td>10.0</td>\n      <td>2</td>\n      <td>1991.0</td>\n      <td>True</td>\n      <td>749000.0</td>\n      <td>zł</td>\n      <td>50.10</td>\n      <td>m²</td>\n      <td>14950.10</td>\n      <td>Bojki</td>\n    </tr>\n    <tr>\n      <th>31</th>\n      <td>https://krakow.nieruchomosci-online.pl/mieszka...</td>\n      <td>Apartament Kraków</td>\n      <td>Wola Justowska, Kraków, małopolskie</td>\n      <td>1.0</td>\n      <td>2.0</td>\n      <td>4</td>\n      <td>2019.0</td>\n      <td>True</td>\n      <td>2385000.0</td>\n      <td>zł</td>\n      <td>146.69</td>\n      <td>m²</td>\n      <td>16258.78</td>\n      <td>NaN</td>\n    </tr>\n    <tr>\n      <th>32</th>\n      <td>https://krakow.nieruchomosci-online.pl/mieszka...</td>\n      <td>Mieszkanie, ul. Lentza</td>\n      <td>Lentza, Prądnik Biały, Kraków, małopolskie</td>\n      <td>3.0</td>\n      <td>4.0</td>\n      <td>2</td>\n      <td>1967.0</td>\n      <td>False</td>\n      <td>519000.0</td>\n      <td>zł</td>\n      <td>37.40</td>\n      <td>m²</td>\n      <td>13877.01</td>\n      <td>Lentza</td>\n    </tr>\n    <tr>\n      <th>33</th>\n      <td>https://krakow.nieruchomosci-online.pl/mieszka...</td>\n      <td>Mieszkanie, ul. Sławkowska</td>\n      <td>Sławkowska 19, Stare Miasto, Kraków, małopolskie</td>\n      <td>1.0</td>\n      <td>3.0</td>\n      <td>3</td>\n      <td>1800.0</td>\n      <td>True</td>\n      <td>2799920.0</td>\n      <td>zł</td>\n      <td>80.00</td>\n      <td>m²</td>\n      <td>34999.00</td>\n      <td>Sławkowska</td>\n    </tr>\n    <tr>\n      <th>34</th>\n      <td>https://krakow.nieruchomosci-online.pl/mieszka...</td>\n      <td>Mieszkanie, Osiedle Kalinowe</td>\n      <td>Osiedle Kalinowe, Bieńczyce, Kraków, małopolskie</td>\n      <td>4.0</td>\n      <td>10.0</td>\n      <td>2</td>\n      <td>1970.0</td>\n      <td>True</td>\n      <td>486000.0</td>\n      <td>zł</td>\n      <td>36.06</td>\n      <td>m²</td>\n      <td>13477.54</td>\n      <td>NaN</td>\n    </tr>\n    <tr>\n      <th>35</th>\n      <td>https://krakow.nieruchomosci-online.pl/nowe-mi...</td>\n      <td>Nowe mieszkanie Wieczysta, Aleja Jana Pawła II 52</td>\n      <td>NaN</td>\n      <td>1.0</td>\n      <td>5.0</td>\n      <td>4</td>\n      <td>1960.0</td>\n      <td>False</td>\n      <td>1501610.0</td>\n      <td>zł</td>\n      <td>80.30</td>\n      <td>m²</td>\n      <td>18700.00</td>\n      <td>NaN</td>\n    </tr>\n    <tr>\n      <th>36</th>\n      <td>https://krakow.nieruchomosci-online.pl/mieszka...</td>\n      <td>Mieszkanie, ul. Okólna</td>\n      <td>Okólna, Wola Duchacka, Kraków, małopolskie</td>\n      <td>1.0</td>\n      <td>4.0</td>\n      <td>2</td>\n      <td>1970.0</td>\n      <td>False</td>\n      <td>520000.0</td>\n      <td>zł</td>\n      <td>37.00</td>\n      <td>m²</td>\n      <td>14054.05</td>\n      <td>Okólna</td>\n    </tr>\n    <tr>\n      <th>37</th>\n      <td>https://krakow.nieruchomosci-online.pl/nowe-mi...</td>\n      <td>Nowe mieszkanie Wieczysta, Aleja Jana Pawła II 52</td>\n      <td>NaN</td>\n      <td>1.0</td>\n      <td>5.0</td>\n      <td>2</td>\n      <td>1960.0</td>\n      <td>False</td>\n      <td>1373420.0</td>\n      <td>zł</td>\n      <td>79.85</td>\n      <td>m²</td>\n      <td>17200.00</td>\n      <td>NaN</td>\n    </tr>\n    <tr>\n      <th>38</th>\n      <td>https://krakow.nieruchomosci-online.pl/mieszka...</td>\n      <td>Mieszkanie, ul. Domagały</td>\n      <td>Domagały, Kraków, małopolskie</td>\n      <td>4.0</td>\n      <td>4.0</td>\n      <td>3</td>\n      <td>2021.0</td>\n      <td>True</td>\n      <td>699000.0</td>\n      <td>zł</td>\n      <td>47.24</td>\n      <td>m²</td>\n      <td>14796.78</td>\n      <td>Domagały</td>\n    </tr>\n    <tr>\n      <th>39</th>\n      <td>https://krakow.nieruchomosci-online.pl/nowe-mi...</td>\n      <td>Nowe mieszkanie Wieczysta, Aleja Jana Pawła II 52</td>\n      <td>NaN</td>\n      <td>1.0</td>\n      <td>5.0</td>\n      <td>3</td>\n      <td>1960.0</td>\n      <td>False</td>\n      <td>1883130.0</td>\n      <td>zł</td>\n      <td>91.86</td>\n      <td>m²</td>\n      <td>20500.00</td>\n      <td>NaN</td>\n    </tr>\n    <tr>\n      <th>40</th>\n      <td>https://krakow.nieruchomosci-online.pl/mieszka...</td>\n      <td>Mieszkanie, ul. Stańczyka</td>\n      <td>Stańczyka, Bronowice Małe, Kraków, małopolskie</td>\n      <td>2.0</td>\n      <td>8.0</td>\n      <td>3</td>\n      <td>2010.0</td>\n      <td>True</td>\n      <td>1188000.0</td>\n      <td>zł</td>\n      <td>85.52</td>\n      <td>m²</td>\n      <td>13891.49</td>\n      <td>Stańczyka</td>\n    </tr>\n    <tr>\n      <th>41</th>\n      <td>https://krakow.nieruchomosci-online.pl/nowe-mi...</td>\n      <td>Nowe mieszkanie Gotyk, ul. Grabczaka 8</td>\n      <td>NaN</td>\n      <td>1.0</td>\n      <td>5.0</td>\n      <td>2</td>\n      <td>1960.0</td>\n      <td>True</td>\n      <td>912966.0</td>\n      <td>zł</td>\n      <td>77.37</td>\n      <td>m²</td>\n      <td>11800.00</td>\n      <td>Grabczaka 8</td>\n    </tr>\n    <tr>\n      <th>42</th>\n      <td>https://krakow.nieruchomosci-online.pl/nowe-mi...</td>\n      <td>Nowe mieszkanie Gotyk, ul. Grabczaka 8</td>\n      <td>NaN</td>\n      <td>1.0</td>\n      <td>5.0</td>\n      <td>2</td>\n      <td>1960.0</td>\n      <td>True</td>\n      <td>1599000.0</td>\n      <td>zł</td>\n      <td>121.37</td>\n      <td>m²</td>\n      <td>13174.59</td>\n      <td>Grabczaka 8</td>\n    </tr>\n    <tr>\n      <th>43</th>\n      <td>https://krakow.nieruchomosci-online.pl/mieszka...</td>\n      <td>Mieszkanie, ul. Wygoda</td>\n      <td>Wygoda, Stare Miasto, Kraków, małopolskie</td>\n      <td>1.0</td>\n      <td>3.0</td>\n      <td>3</td>\n      <td>1972.0</td>\n      <td>True</td>\n      <td>1460000.0</td>\n      <td>zł</td>\n      <td>73.00</td>\n      <td>m²</td>\n      <td>20000.00</td>\n      <td>Wygoda</td>\n    </tr>\n    <tr>\n      <th>44</th>\n      <td>https://krakow.nieruchomosci-online.pl/mieszka...</td>\n      <td>Apartament, ul. Zakrzowiecka</td>\n      <td>Zakrzowiecka 57, Pychowice/ Stare Dębniki, Kra...</td>\n      <td>1.0</td>\n      <td>2.0</td>\n      <td>4</td>\n      <td>2023.0</td>\n      <td>True</td>\n      <td>2790000.0</td>\n      <td>zł</td>\n      <td>118.00</td>\n      <td>m²</td>\n      <td>23644.07</td>\n      <td>Zakrzowiecka</td>\n    </tr>\n    <tr>\n      <th>46</th>\n      <td>https://krakow.nieruchomosci-online.pl/mieszka...</td>\n      <td>Apartament, ul. Hamernia</td>\n      <td>Hamernia, Wola Justowska, Kraków, małopolskie</td>\n      <td>1.0</td>\n      <td>1.0</td>\n      <td>4</td>\n      <td>2024.0</td>\n      <td>True</td>\n      <td>1372000.0</td>\n      <td>zł</td>\n      <td>84.63</td>\n      <td>m²</td>\n      <td>16211.75</td>\n      <td>Hamernia</td>\n    </tr>\n    <tr>\n      <th>47</th>\n      <td>https://krakow.nieruchomosci-online.pl/mieszka...</td>\n      <td>Apartament, ul. Hamernia</td>\n      <td>Hamernia, Wola Justowska, Kraków, małopolskie</td>\n      <td>1.0</td>\n      <td>1.0</td>\n      <td>4</td>\n      <td>2024.0</td>\n      <td>True</td>\n      <td>1372000.0</td>\n      <td>zł</td>\n      <td>84.63</td>\n      <td>m²</td>\n      <td>16211.75</td>\n      <td>Hamernia</td>\n    </tr>\n    <tr>\n      <th>48</th>\n      <td>https://krakow.nieruchomosci-online.pl/mieszka...</td>\n      <td>Mieszkanie</td>\n      <td>Głowackiego, Krowodrza, Kraków, małopolskie</td>\n      <td>4.0</td>\n      <td>5.0</td>\n      <td>3</td>\n      <td>2009.0</td>\n      <td>True</td>\n      <td>1098000.0</td>\n      <td>zł</td>\n      <td>61.73</td>\n      <td>m²</td>\n      <td>17787.14</td>\n      <td>NaN</td>\n    </tr>\n    <tr>\n      <th>49</th>\n      <td>https://krakow.nieruchomosci-online.pl/mieszka...</td>\n      <td>Apartament, ul. Bartla</td>\n      <td>Bartla, Kliny, Kraków, małopolskie</td>\n      <td>1.0</td>\n      <td>3.0</td>\n      <td>3</td>\n      <td>2004.0</td>\n      <td>True</td>\n      <td>780000.0</td>\n      <td>zł</td>\n      <td>61.10</td>\n      <td>m²</td>\n      <td>12765.96</td>\n      <td>Bartla</td>\n    </tr>\n    <tr>\n      <th>50</th>\n      <td>https://krakow.nieruchomosci-online.pl/mieszka...</td>\n      <td>Mieszkanie, ul. Kordiana</td>\n      <td>Kordiana, Kurdwanów, Kraków, małopolskie</td>\n      <td>0.0</td>\n      <td>3.0</td>\n      <td>2</td>\n      <td>2011.0</td>\n      <td>False</td>\n      <td>640000.0</td>\n      <td>zł</td>\n      <td>53.10</td>\n      <td>m²</td>\n      <td>12052.73</td>\n      <td>Kordiana</td>\n    </tr>\n    <tr>\n      <th>51</th>\n      <td>https://krakow.nieruchomosci-online.pl/mieszka...</td>\n      <td>Mieszkanie</td>\n      <td>Bielany, Kraków, małopolskie</td>\n      <td>0.0</td>\n      <td>2.0</td>\n      <td>4</td>\n      <td>2022.0</td>\n      <td>True</td>\n      <td>950000.0</td>\n      <td>zł</td>\n      <td>101.00</td>\n      <td>m²</td>\n      <td>9405.94</td>\n      <td>NaN</td>\n    </tr>\n    <tr>\n      <th>52</th>\n      <td>https://krakow.nieruchomosci-online.pl/mieszka...</td>\n      <td>Mieszkanie</td>\n      <td>Stańczyka, Dzielnica VI Bronowice, Kraków, mał...</td>\n      <td>13.0</td>\n      <td>14.0</td>\n      <td>3</td>\n      <td>2022.0</td>\n      <td>True</td>\n      <td>1315000.0</td>\n      <td>zł</td>\n      <td>57.78</td>\n      <td>m²</td>\n      <td>22758.74</td>\n      <td>NaN</td>\n    </tr>\n    <tr>\n      <th>53</th>\n      <td>https://krakow.nieruchomosci-online.pl/mieszka...</td>\n      <td>Apartament</td>\n      <td>Banacha, Prądnik Biały, Kraków, małopolskie</td>\n      <td>5.0</td>\n      <td>5.0</td>\n      <td>4</td>\n      <td>2021.0</td>\n      <td>True</td>\n      <td>1072650.0</td>\n      <td>zł</td>\n      <td>71.51</td>\n      <td>m²</td>\n      <td>15000.00</td>\n      <td>NaN</td>\n    </tr>\n  </tbody>\n</table>\n</div>"
     },
     "execution_count": 857,
     "metadata": {},
     "output_type": "execute_result"
    }
   ],
   "source": [
    "df.head(50)"
   ],
   "metadata": {
    "collapsed": false,
    "ExecuteTime": {
     "end_time": "2024-04-13T15:19:07.267669600Z",
     "start_time": "2024-04-13T15:19:07.188014600Z"
    }
   },
   "id": "e0306a2dfd6d79e9",
   "execution_count": 857
  },
  {
   "cell_type": "code",
   "outputs": [
    {
     "name": "stdout",
     "output_type": "stream",
     "text": [
      "Unikalne wartości z kolumny 'address title': ['Żelechowskiego' 'Balicka' 'Zauchy' 'Racławicka' 'Pustynna' nan\n",
      " 'Przemiarki' 'Felińskiego' 'Lublańska' 'Szablowskiego' 'Cystersów'\n",
      " 'Ułanów' 'Bartla' 'Bojki' 'Zawodzie' 'Obozowa' 'Beskidzka'\n",
      " 'Cieplińskiego' 'Zwierzyniecka' 'Siewna' 'Przybyszewskiego' 'Dworcowa'\n",
      " 'Lentza' 'Sławkowska' 'Okólna' 'Domagały' 'Stańczyka' 'Grabczaka 8'\n",
      " 'Wygoda' 'Zakrzowiecka' 'Hamernia' 'Kordiana' 'Lubocka' 'Rydlówka'\n",
      " 'Pszczelna' 'Gajówka' 'Władysława Łokietka' 'Sosnowiecka' 'Wawelska'\n",
      " 'Bochnaka' 'Piaskowa 43' 'Okulickiego' 'Małysiaka' 'Pachońskiego'\n",
      " 'Republiki Korczakowskiej 21' 'Słomczyńskiego' 'Lubicz' 'Laurowa'\n",
      " 'Meiera' 'Kocmyrzowska 3A' 'Zbożowa' 'Truszkowskiego' 'Lea' 'Bunscha'\n",
      " 'Bieńczycka' 'Sławka' 'Polonijna' 'Rydygiera' 'Rejtana' 'Brązownicza'\n",
      " 'Szlak' 'Górników' 'Nuszkiewicza' 'Na Błonie' 'Klemensiewicza'\n",
      " 'Chełmońskiego' 'Buszka' 'Czeczów' 'Królowej Jadwigi' 'Głowackiego'\n",
      " 'Masarska' 'Raciborska' 'Turniejowa 59' 'Wizjonerów' 'Lipska'\n",
      " 'Czarnogórska' 'Kasprowicza' 'Strzelców' 'Szwedzka' 'Korczynowa 25'\n",
      " 'Mazowiecka' 'Grębałowska' 'Krowoderskich Zuchów' 'Dębskiego' 'Ludowa'\n",
      " 'Brzozowa' 'Piłsudskiego' 'Szpakowa' 'Józefa' 'Korzeniaka'\n",
      " 'Kordylewskiego' 'Gliniana' 'Bociana' 'Bieżanowska' 'Rakowicka'\n",
      " 'Wierzyńskiego' 'Lubostroń' 'Na Zakolu Wisły' 'Fredry' 'Lilli Wenedy'\n",
      " 'Floriańska' 'Bagrowa' 'Praska' 'Orlińskiego' 'Złoty Róg' 'Myśliwska'\n",
      " 'Stojałowskiego' 'Królewska' 'Odrowąża' 'Macedońska' 'Spółdzielców'\n",
      " 'Soroki' 'Jana' 'Poznańska' 'Wysłouchów' 'Heila' 'Stacyjna' 'Wielicka'\n",
      " 'Ściegiennego' 'Młodzieży' 'Podedworze 13' 'Zdunów' 'Bronowicka' 'Rydla'\n",
      " 'Kronikarza Galla' 'Borkowska' 'Księcia Józefa' 'Banacha' 'Morcinka'\n",
      " 'Zagrodzkiego' 'Pijarska' 'Modrzejewskiej' 'Strumyk 4' 'Żywiecka'\n",
      " 'Józefa Wybickiego 5' 'Bohomolca' 'Reduta' 'Grzegórzecka' 'Pszona'\n",
      " 'Mała Góra' 'Piaszczysta' 'Majora' 'Marchołta' 'Kosocicka' 'Gurgacza'\n",
      " 'Konopczyńskiego' 'Szpitalna' 'Dauna' 'Bandurskiego'\n",
      " 'Hugona Kołłątaja 12' 'Starowiślna' 'Otwinowskiego' 'Chełmska' 'Ruczaj'\n",
      " 'Piasta Kołodzieja' 'Friedleina' 'Piastowska' 'Retoryka' 'Huculska'\n",
      " 'Facimiech' 'Wiosenna' 'Klimeckiego' 'Cieszyńska 9' 'Federowicza'\n",
      " 'Łużycka' 'Śliczna' 'Tyniecka' 'Pana Tadeusza' 'Magnolii' 'Strzelecka'\n",
      " 'Gabrieli Zapolskiej' 'Piaskowa' 'Kobierzyńska 145' 'Blich' 'Sąsiedzka'\n",
      " 'Vetulaniego' 'Rezedowa' 'Papierni Prądnickich' 'Tyniecka 24' 'Śląska'\n",
      " 'Żelazna' 'Jerozolimska' 'Małego Księcia' 'Strzelców 28' 'Mochnaniec'\n",
      " 'Dobrego Pasterza' 'Brązownicza 12' 'Obrońców Krzyża' 'Półłanki'\n",
      " 'Kapelanka' 'Turniejowa' 'Joselewicza' 'Przemyska' 'Wrocławska'\n",
      " 'Wallek-Walewskiego' 'Nowosądecka' 'Odlewnicza 40' 'Bogucka 10'\n",
      " 'Zabłocie' 'Żabiniec' 'Składowa 22' 'Śniadeckich' 'Lipińskiego'\n",
      " 'Podgórska' 'Puszkarska' 'Lasówka' 'Radzikowskiego' 'Bratysławska'\n",
      " 'Wileńska' 'Korzeniowskiego' 'Jerzmanowskiego' 'Przewóz' 'Szymańskiego'\n",
      " 'Stella-Sawickiego' 'Jaworowa' 'Morelowa' 'Krowoderska' 'Koszykarska'\n",
      " 'Kościuszki' 'Mogilska' 'Kiełkowskiego' 'Woźniców' 'Armii Krajowej'\n",
      " 'Przemysłowa' 'Tetmajera' 'Grochowska' 'Krasickiego' 'Stare Wiślisko'\n",
      " 'Mały Płaszów' 'Piltza' 'Czarnowiejska' 'Półkole' 'Sołtysowska' 'Długa'\n",
      " 'Gnieźnieńska' 'Turka' 'Tomickiego' 'Powstańców' 'Kochanowskiego'\n",
      " 'Potrzask' 'Komuny Paryskiej' 'Lema' 'Miarowa' 'Grenadierów'\n",
      " 'Kobierzyńska' 'Przedwiośnie' 'Miechowity' 'Heltmana' 'Wawrzyńca'\n",
      " 'Witkowicka' 'Jesionowa' 'Bałuckiego' 'Jadwigi'\n",
      " 'Przyjaźni Polsko-Węgierskiej' 'Łepkowskiego' 'Borowego' 'Różyckiego'\n",
      " 'Miłkowskiego' 'Agatowa' 'Smoleńsk' 'Odlewnicza' 'Cechowa' 'Na Ustroniu'\n",
      " 'Czerwieńskiego' 'Pszenna' 'Składowa' 'Bobrzyńskiego' 'Wenecja'\n",
      " 'Sebastiana' 'Gminna' 'Szwed-Śniadowskiej' 'Seweryna' 'Rzemieślnicza'\n",
      " 'Siemiradzkiego' 'Trybuny Ludów' 'Halczyna' 'Kraszewskiego' 'Wrzosowa'\n",
      " 'Miodowa' 'Emaus' 'Aktorów' 'Domki' 'Pasternik' 'Krupnicza' 'Nullo'\n",
      " 'Zakątek' 'Starego Dębu' 'Zyblikiewicza' 'Dąbska' 'Bożego Ciała'\n",
      " 'Grabczaka' 'Stelmachów' 'Ćwiklińskiej' 'Zarzecze' 'Prandoty' 'Jasna'\n",
      " 'Lindego' 'Petrażyckiego' 'Rusznikarska' 'Stefana Batorego' 'Saska'\n",
      " 'Węgierska' 'Ugorek' 'Kamieńskiego' 'Galicyjska' 'Świtezianki' 'Kurczaba'\n",
      " 'Krakusa' 'Bocheńska' 'Astronomów' 'Kalwaryjska' 'Dietla' 'Stradomska'\n",
      " 'Ślusarska' 'Madalińskiego' 'Pilotów' 'Stachiewicza' 'Konfederacka'\n",
      " 'Grodzka' 'Konecznego' 'Podhalańska' 'Kotlarska' 'Gromadzka'\n",
      " 'Cegielniana' 'Pędzichów' 'Osterwy' 'Dekerta' 'Marka' 'Skawińska'\n",
      " 'Paszkowskiego' 'Krakowska' 'Bajeczna' 'Brodowicza' 'Lubomirskiego'\n",
      " 'Grunwaldzka' 'Geremka' 'Zygmuntowska' 'Igołomska' 'Stwosza' 'Barbary'\n",
      " 'Solvaya' 'Teligi' 'Jaremy' 'Gdyńska' 'Rzeszowska' 'Miśnieńska'\n",
      " 'Romanowicza' 'Stawowa' 'Rozdroże' 'Motyla' 'Klonowica' 'Ładna'\n",
      " 'Republiki Korczakowskiej' 'Srebrnych Orłów' 'Widna' 'Zieleniewskiego'\n",
      " 'Chocimska' 'Białoprądnicka' 'Heleny' 'Szuwarowa' 'Górka Narodowa'\n",
      " 'Wójtowska' 'Chmieleniec' 'Wyszyńskiego' 'Sas-Zubrzyckiego' 'Felicjanek'\n",
      " 'Nieznana' 'Orzeszkowej' 'Bosacka' 'Podmiejska' 'Smoleńskiego' 'Robla'\n",
      " 'Koletek' 'Siemienowicza' 'Pękowicka' 'Asnyka' 'Pielęgniarek' 'Przyzby'\n",
      " 'Szafrana' 'Chopina' 'Fieldorfa-Nila' 'Urzędnicza' 'Podkowińskiego'\n",
      " 'Halszki' 'Podskale' 'Borelowskiego-Lelewela' 'Filarecka' 'Skotnicka'\n",
      " 'Słomiana' 'Studencka' 'Topolowa' 'Paulińska' 'Janusa' 'Wybickiego'\n",
      " 'Ceglarska' 'Niezapominajek' 'Dzielskiego' 'Librowszczyzna'\n",
      " 'Twardowskiego' '28 Lipca 1943' 'Wicherkiewicza' 'Potockiego' 'Basztowa'\n",
      " 'Wyżynna' 'Garncarska' 'Żmujdzka' 'Fabryczna' 'Pawia' 'Józefińska'\n",
      " 'Gdańska' 'Jana Sobieskiego' 'Gwieździsta' 'Tomasza' 'Elsnera' 'Weissa'\n",
      " 'Dunajewskiego' 'Straszewskiego' 'Staffa' 'Warszauera' 'Łagiewnicka'\n",
      " 'Mikołajska' 'Orawska' 'Spacerowa' 'Mitery' 'Architektów' 'Malborska'\n",
      " 'Łąkowa' 'Supniewskiego' 'Szujskiego' 'Pułaskiego' 'Nadwiślańska'\n",
      " 'Gertrudy' 'Laskowa' 'Prądnicka' 'Biskupia' 'Smętna' 'Podłącze'\n",
      " 'Karłowicza' 'Złocieniowa' 'Fiołkowa' 'Salwatorska' 'Zbrojarzy'\n",
      " 'Litewska' 'Kawiory' 'Kremerowska' 'Chodkiewicza' 'Dworska' 'Strzelnica'\n",
      " 'Kupa' 'Kmieca' 'Pawła z Krosna' 'Parkowa' 'Sempołowskiej' 'Zamkowa'\n",
      " 'Kolberga' 'Pietrusińskiego' 'Wlotowa' 'Opolska' 'Podbrzezie' 'Podłużna'\n",
      " 'Bonerowska' 'Gaik' 'Meissnera' 'Włoska' 'Wesele' 'Witosa' 'Czyżewskiego'\n",
      " 'Maciejkowa' 'Kołłątaja' 'Justowska' 'Imbramowska' 'Kujawska'\n",
      " 'Dunin-Wąsowicza' 'Norymberska' 'Lwowska' 'Conrada'\n",
      " 'Kazimierza Wielkiego' 'Zdrowa' 'Zaułek' 'Bujwida' 'Sarego' 'Plastusia'\n",
      " 'Dolnych Młynów' 'Borowinowa' 'Żółkiewskiego' 'Cichociemnych AK'\n",
      " 'Akacjowa' 'Cieszyńska' 'Stanisława ze Skalbmierza' 'Ćwikłowa' 'Rączna'\n",
      " 'Moniuszki' 'Szewska' 'Teresy' 'Sienkiewicza' 'Celna' 'Ważewskiego'\n",
      " 'Łanowa' 'Prusa' 'Toruńska' 'Na Wierzchowinach' 'Filipa' 'Krokusowa'\n",
      " 'Niewodniczańskiego' 'Podłęska' 'Ogórkowa' 'Zachodnia' 'Mackiewicza'\n",
      " 'Olszanicka' 'Promienistych' 'Nowohucka' 'Zapolskiej' 'Darasza'\n",
      " 'Forteczna' 'Pychowicka' 'Niebyła' 'Żwirowa' 'Fertnera' 'Bytomska'\n",
      " 'Pisarka' 'Brożka' \"Fenn'a\" 'Bema' 'Ciesielskiego' 'Topografów'\n",
      " 'Łobzowska' 'Malachitowa' 'Trynitarska' 'Widok' 'Darwina'\n",
      " 'Kuźnicy Kołłątajowskiej' 'Naukowców' 'Karmelicka' 'Płaszowska'\n",
      " 'Bulwarowa' 'Czerwone Maki' 'Olszańska' 'Słowiańska' 'Makowskiego'\n",
      " 'Traugutta' 'Strumienna' 'Sołtyka' 'Cybulskiego' 'Potebni' 'Astronautów'\n",
      " 'Prochowa' 'Taklińskiego' 'Długosza' 'Monte Cassino' 'Batalionu Skała AK'\n",
      " 'Legionów Józefa Piłsudskiego' 'Sukiennicza' 'Pylna' 'Żaka' 'Pod Stokiem'\n",
      " 'Kaczorówka' 'Augustynka-Wichury' 'Podmiłów' 'Stachowskiego' 'Ojcowska'\n",
      " 'Piwna' 'Hynka' 'Kwartowa' 'Szarotki' 'Nawojki' 'Zakopiańska'\n",
      " 'Czarodziejska' 'Bitwy nad Bzurą' 'Barska' 'Zagrody' 'Bochenka' 'Helclów'\n",
      " 'Józefitów' 'Pawlickiego' 'Urszulki']\n",
      "Liczba unikalnych wartości: 575\n"
     ]
    }
   ],
   "source": [
    "# Wyciągnięcie unikalnych wartości z kolumny 'address title'\n",
    "unique_address_titles = df['address title'].unique()\n",
    "\n",
    "# Policzenie liczby unikalnych wartości\n",
    "count_unique_address_titles = len(unique_address_titles)\n",
    "\n",
    "# Wyświetlenie unikalnych wartości i ich liczby\n",
    "print(\"Unikalne wartości z kolumny 'address title':\", unique_address_titles)\n",
    "print(\"Liczba unikalnych wartości:\", count_unique_address_titles)"
   ],
   "metadata": {
    "collapsed": false,
    "ExecuteTime": {
     "end_time": "2024-04-13T15:20:07.192282800Z",
     "start_time": "2024-04-13T15:20:07.184305700Z"
    }
   },
   "id": "fba51fefd824b185",
   "execution_count": 858
  },
  {
   "cell_type": "markdown",
   "source": [
    "# Feature Engineering"
   ],
   "metadata": {
    "collapsed": false
   },
   "id": "d409209488d987e"
  },
  {
   "cell_type": "code",
   "outputs": [],
   "source": [],
   "metadata": {
    "collapsed": false,
    "ExecuteTime": {
     "end_time": "2024-04-13T15:19:07.286694100Z",
     "start_time": "2024-04-13T15:19:07.211839300Z"
    }
   },
   "id": "4bb6a6a025756e40",
   "execution_count": 857
  }
 ],
 "metadata": {
  "kernelspec": {
   "display_name": "Python 3",
   "language": "python",
   "name": "python3"
  },
  "language_info": {
   "codemirror_mode": {
    "name": "ipython",
    "version": 2
   },
   "file_extension": ".py",
   "mimetype": "text/x-python",
   "name": "python",
   "nbconvert_exporter": "python",
   "pygments_lexer": "ipython2",
   "version": "2.7.6"
  }
 },
 "nbformat": 4,
 "nbformat_minor": 5
}
