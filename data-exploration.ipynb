{
 "cells": [
  {
   "cell_type": "markdown",
   "source": [
    "# Loading Dataset"
   ],
   "metadata": {
    "collapsed": false
   },
   "id": "cdb6b1e3098e7219"
  },
  {
   "cell_type": "code",
   "outputs": [],
   "source": [
    "import pandas as pd\n",
    "import numpy as np\n",
    "import sklearn\n",
    "import matplotlib.pyplot as plt\n",
    "import seaborn as sns"
   ],
   "metadata": {
    "collapsed": false,
    "ExecuteTime": {
     "end_time": "2024-04-13T14:10:12.852987900Z",
     "start_time": "2024-04-13T14:10:12.842793400Z"
    }
   },
   "id": "676652670a1776c0",
   "execution_count": 334
  },
  {
   "cell_type": "code",
   "outputs": [],
   "source": [
    "df =  pd.read_csv('datasets/nieruchomosci-online_dataset_raw.csv')"
   ],
   "metadata": {
    "collapsed": false,
    "ExecuteTime": {
     "end_time": "2024-04-13T14:10:12.897429400Z",
     "start_time": "2024-04-13T14:10:12.855500800Z"
    }
   },
   "id": "9e1a5f6c2c6f5d26",
   "execution_count": 335
  },
  {
   "cell_type": "code",
   "outputs": [
    {
     "data": {
      "text/plain": "                                                 url  \\\n0  https://krakow.nieruchomosci-online.pl/mieszka...   \n1  https://krakow.nieruchomosci-online.pl/mieszka...   \n2  https://krakow.nieruchomosci-online.pl/mieszka...   \n3  https://krakow.nieruchomosci-online.pl/mieszka...   \n4  https://krakow.nieruchomosci-online.pl/mieszka...   \n5  https://krakow.nieruchomosci-online.pl/mieszka...   \n6  https://krakow.nieruchomosci-online.pl/mieszka...   \n7  https://krakow.nieruchomosci-online.pl/mieszka...   \n8  https://krakow.nieruchomosci-online.pl/mieszka...   \n9  https://krakow.nieruchomosci-online.pl/mieszka...   \n\n                       name/title  \\\n0  Mieszkanie, ul. Żelechowskiego   \n1         Mieszkanie, ul. Balicka   \n2          Mieszkanie, ul. Zauchy   \n3      Mieszkanie, ul. Racławicka   \n4        Mieszkanie, ul. Pustynna   \n5               Apartament Kraków   \n6      Mieszkanie, ul. Przemiarki   \n7     Mieszkanie, ul. Felińskiego   \n8       Apartament, ul. Lublańska   \n9   Apartament, ul. Szablowskiego   \n\n                                             address         price      area  \\\n0     Żelechowskiego, Bronowice, Kraków, małopolskie    899 000 zł  51,70 m²   \n1            Balicka, Bronowice, Kraków, małopolskie  1 575 000 zł    125 m²   \n2        Zauchy, Górka Narodowa, Kraków, małopolskie  1 250 000 zł  65,23 m²   \n3         Racławicka, Krowodrza, Kraków, małopolskie    740 250 zł  49,35 m²   \n4               Pustynna, Kliny, Kraków, małopolskie  1 200 000 zł  71,06 m²   \n5                Wola Justowska, Kraków, małopolskie  1 198 680 zł  71,35 m²   \n6            Przemiarki, Ruczaj, Kraków, małopolskie    625 000 zł     40 m²   \n7   Felińskiego, Górka Narodowa, Kraków, małopolskie    899 000 zł  74,17 m²   \n8  Lublańska 13, Prądnik Czerwony, Kraków, małopo...  1 050 000 zł     60 m²   \n9      Szablowskiego, Bronowice, Kraków, małopolskie    599 000 zł     40 m²   \n\n    price-per-area floor/store  no of floors/stores in the building  \\\n0  17 388,78 zł/m²           1                                  3.0   \n1     12 600 zł/m²           3                                  4.0   \n2  19 162,96 zł/m²           2                                  5.0   \n3     15 000 zł/m²           6                                 10.0   \n4  16 887,14 zł/m²      parter                                  1.0   \n5     16 800 zł/m²      parter                                  2.0   \n6     15 625 zł/m²           2                                  3.0   \n7  12 120,80 zł/m²           2                                  5.0   \n8     17 500 zł/m²           3                                  4.0   \n9     14 975 zł/m²      parter                                  3.0   \n\n  no of rooms year of construction                 parking space  \\\n0           2                 1980                           tak   \n1           6                 2004           w garażu podziemnym   \n2           3                 2023                           tak   \n3           2                 1950  parking publiczny / na ulicy   \n4           3                 2013         garaż w bryle budynku   \n5           4                 2023         garaż w bryle budynku   \n6           2                 2000                         garaż   \n7           3                 2003  parking publiczny / na ulicy   \n8           3                 2023           w garażu podziemnym   \n9           2                 2001                           tak   \n\n                                              market  \\\n0                                             wtórny   \n1                                             wtórny   \n2                                             wtórny   \n3                                             wtórny   \n4                                             wtórny   \n5  pierwotny (zobacz inne nowe mieszkania w Krako...   \n6                                             wtórny   \n7                                             wtórny   \n8                                             wtórny   \n9                                             wtórny   \n\n            form of ownership  \n0                    własność  \n1  własność, księga wieczysta  \n2                         NaN  \n3                         NaN  \n4  własność, księga wieczysta  \n5                    własność  \n6                    własność  \n7                         NaN  \n8  własność, księga wieczysta  \n9  własność, księga wieczysta  ",
      "text/html": "<div>\n<style scoped>\n    .dataframe tbody tr th:only-of-type {\n        vertical-align: middle;\n    }\n\n    .dataframe tbody tr th {\n        vertical-align: top;\n    }\n\n    .dataframe thead th {\n        text-align: right;\n    }\n</style>\n<table border=\"1\" class=\"dataframe\">\n  <thead>\n    <tr style=\"text-align: right;\">\n      <th></th>\n      <th>url</th>\n      <th>name/title</th>\n      <th>address</th>\n      <th>price</th>\n      <th>area</th>\n      <th>price-per-area</th>\n      <th>floor/store</th>\n      <th>no of floors/stores in the building</th>\n      <th>no of rooms</th>\n      <th>year of construction</th>\n      <th>parking space</th>\n      <th>market</th>\n      <th>form of ownership</th>\n    </tr>\n  </thead>\n  <tbody>\n    <tr>\n      <th>0</th>\n      <td>https://krakow.nieruchomosci-online.pl/mieszka...</td>\n      <td>Mieszkanie, ul. Żelechowskiego</td>\n      <td>Żelechowskiego, Bronowice, Kraków, małopolskie</td>\n      <td>899 000 zł</td>\n      <td>51,70 m²</td>\n      <td>17 388,78 zł/m²</td>\n      <td>1</td>\n      <td>3.0</td>\n      <td>2</td>\n      <td>1980</td>\n      <td>tak</td>\n      <td>wtórny</td>\n      <td>własność</td>\n    </tr>\n    <tr>\n      <th>1</th>\n      <td>https://krakow.nieruchomosci-online.pl/mieszka...</td>\n      <td>Mieszkanie, ul. Balicka</td>\n      <td>Balicka, Bronowice, Kraków, małopolskie</td>\n      <td>1 575 000 zł</td>\n      <td>125 m²</td>\n      <td>12 600 zł/m²</td>\n      <td>3</td>\n      <td>4.0</td>\n      <td>6</td>\n      <td>2004</td>\n      <td>w garażu podziemnym</td>\n      <td>wtórny</td>\n      <td>własność, księga wieczysta</td>\n    </tr>\n    <tr>\n      <th>2</th>\n      <td>https://krakow.nieruchomosci-online.pl/mieszka...</td>\n      <td>Mieszkanie, ul. Zauchy</td>\n      <td>Zauchy, Górka Narodowa, Kraków, małopolskie</td>\n      <td>1 250 000 zł</td>\n      <td>65,23 m²</td>\n      <td>19 162,96 zł/m²</td>\n      <td>2</td>\n      <td>5.0</td>\n      <td>3</td>\n      <td>2023</td>\n      <td>tak</td>\n      <td>wtórny</td>\n      <td>NaN</td>\n    </tr>\n    <tr>\n      <th>3</th>\n      <td>https://krakow.nieruchomosci-online.pl/mieszka...</td>\n      <td>Mieszkanie, ul. Racławicka</td>\n      <td>Racławicka, Krowodrza, Kraków, małopolskie</td>\n      <td>740 250 zł</td>\n      <td>49,35 m²</td>\n      <td>15 000 zł/m²</td>\n      <td>6</td>\n      <td>10.0</td>\n      <td>2</td>\n      <td>1950</td>\n      <td>parking publiczny / na ulicy</td>\n      <td>wtórny</td>\n      <td>NaN</td>\n    </tr>\n    <tr>\n      <th>4</th>\n      <td>https://krakow.nieruchomosci-online.pl/mieszka...</td>\n      <td>Mieszkanie, ul. Pustynna</td>\n      <td>Pustynna, Kliny, Kraków, małopolskie</td>\n      <td>1 200 000 zł</td>\n      <td>71,06 m²</td>\n      <td>16 887,14 zł/m²</td>\n      <td>parter</td>\n      <td>1.0</td>\n      <td>3</td>\n      <td>2013</td>\n      <td>garaż w bryle budynku</td>\n      <td>wtórny</td>\n      <td>własność, księga wieczysta</td>\n    </tr>\n    <tr>\n      <th>5</th>\n      <td>https://krakow.nieruchomosci-online.pl/mieszka...</td>\n      <td>Apartament Kraków</td>\n      <td>Wola Justowska, Kraków, małopolskie</td>\n      <td>1 198 680 zł</td>\n      <td>71,35 m²</td>\n      <td>16 800 zł/m²</td>\n      <td>parter</td>\n      <td>2.0</td>\n      <td>4</td>\n      <td>2023</td>\n      <td>garaż w bryle budynku</td>\n      <td>pierwotny (zobacz inne nowe mieszkania w Krako...</td>\n      <td>własność</td>\n    </tr>\n    <tr>\n      <th>6</th>\n      <td>https://krakow.nieruchomosci-online.pl/mieszka...</td>\n      <td>Mieszkanie, ul. Przemiarki</td>\n      <td>Przemiarki, Ruczaj, Kraków, małopolskie</td>\n      <td>625 000 zł</td>\n      <td>40 m²</td>\n      <td>15 625 zł/m²</td>\n      <td>2</td>\n      <td>3.0</td>\n      <td>2</td>\n      <td>2000</td>\n      <td>garaż</td>\n      <td>wtórny</td>\n      <td>własność</td>\n    </tr>\n    <tr>\n      <th>7</th>\n      <td>https://krakow.nieruchomosci-online.pl/mieszka...</td>\n      <td>Mieszkanie, ul. Felińskiego</td>\n      <td>Felińskiego, Górka Narodowa, Kraków, małopolskie</td>\n      <td>899 000 zł</td>\n      <td>74,17 m²</td>\n      <td>12 120,80 zł/m²</td>\n      <td>2</td>\n      <td>5.0</td>\n      <td>3</td>\n      <td>2003</td>\n      <td>parking publiczny / na ulicy</td>\n      <td>wtórny</td>\n      <td>NaN</td>\n    </tr>\n    <tr>\n      <th>8</th>\n      <td>https://krakow.nieruchomosci-online.pl/mieszka...</td>\n      <td>Apartament, ul. Lublańska</td>\n      <td>Lublańska 13, Prądnik Czerwony, Kraków, małopo...</td>\n      <td>1 050 000 zł</td>\n      <td>60 m²</td>\n      <td>17 500 zł/m²</td>\n      <td>3</td>\n      <td>4.0</td>\n      <td>3</td>\n      <td>2023</td>\n      <td>w garażu podziemnym</td>\n      <td>wtórny</td>\n      <td>własność, księga wieczysta</td>\n    </tr>\n    <tr>\n      <th>9</th>\n      <td>https://krakow.nieruchomosci-online.pl/mieszka...</td>\n      <td>Apartament, ul. Szablowskiego</td>\n      <td>Szablowskiego, Bronowice, Kraków, małopolskie</td>\n      <td>599 000 zł</td>\n      <td>40 m²</td>\n      <td>14 975 zł/m²</td>\n      <td>parter</td>\n      <td>3.0</td>\n      <td>2</td>\n      <td>2001</td>\n      <td>tak</td>\n      <td>wtórny</td>\n      <td>własność, księga wieczysta</td>\n    </tr>\n  </tbody>\n</table>\n</div>"
     },
     "execution_count": 336,
     "metadata": {},
     "output_type": "execute_result"
    }
   ],
   "source": [
    "df.head(10)"
   ],
   "metadata": {
    "collapsed": false,
    "ExecuteTime": {
     "end_time": "2024-04-13T14:10:12.917605800Z",
     "start_time": "2024-04-13T14:10:12.900464400Z"
    }
   },
   "id": "92bb4359ded9e11e",
   "execution_count": 336
  },
  {
   "cell_type": "code",
   "outputs": [
    {
     "data": {
      "text/plain": "(3949, 13)"
     },
     "execution_count": 337,
     "metadata": {},
     "output_type": "execute_result"
    }
   ],
   "source": [
    "df.shape"
   ],
   "metadata": {
    "collapsed": false,
    "ExecuteTime": {
     "end_time": "2024-04-13T14:10:12.928823Z",
     "start_time": "2024-04-13T14:10:12.919605400Z"
    }
   },
   "id": "18560f4dc8db8aaa",
   "execution_count": 337
  },
  {
   "cell_type": "markdown",
   "source": [
    "# Data Cleaning\n",
    "\n",
    "Steps:\n",
    "* feature name change\n",
    "* area and price from string to float + metrics\n",
    "* missing values\n",
    "* feature type change"
   ],
   "metadata": {
    "collapsed": false
   },
   "id": "2cd79b6a9cb64804"
  },
  {
   "cell_type": "markdown",
   "source": [
    "# Feature name change"
   ],
   "metadata": {
    "collapsed": false
   },
   "id": "809edaec43b64b15"
  },
  {
   "cell_type": "code",
   "outputs": [],
   "source": [
    "df.rename(columns={'area': 'area (m^2)'}, inplace=True)\n",
    "df.rename(columns={'price': 'price (zł)'}, inplace=True)\n",
    "df.rename(columns={'no of floors/stores in the building': 'number of floors'}, inplace=True)\n",
    "df.rename(columns={'floor/store': 'floor number'}, inplace=True)"
   ],
   "metadata": {
    "collapsed": false,
    "ExecuteTime": {
     "end_time": "2024-04-13T14:10:12.947841500Z",
     "start_time": "2024-04-13T14:10:12.923881200Z"
    }
   },
   "id": "62016dbf35bfdcb8",
   "execution_count": 338
  },
  {
   "cell_type": "code",
   "outputs": [],
   "source": [
    "df['price (zł)'] = df['price (zł)'].str.replace(',', '')\n",
    "\n",
    "# Rozdzielenie wartości w kolumnie \"price (zł)\" na dwie nowe kolumny\n",
    "price_split = df['price (zł)'].str.extract(r'([\\d\\s]+)\\s+(.*)')\n",
    "df['price_amount'] = price_split[0].str.replace(' ', '').astype(float)\n",
    "df['currency'] = price_split[1]\n",
    "\n",
    "# Zamiana przecinka na kropkę i konwersja na float w kolumnie \"area (m^2)\"\n",
    "df['area_amount'] = df['area (m^2)'].str.replace(',', '.').str.extract(r'(\\d+\\.\\d+|\\d+)').astype(float)\n",
    "\n",
    "# Wyciągnięcie jednostki metryki z kolumny \"area (m^2)\"\n",
    "df['area_unit'] = df['area (m^2)'].str.extract(r'([a-zA-Z²]+)')\n",
    "\n",
    "# Usunięcie wcześniejszych kolumn\n",
    "df.drop(columns=['price (zł)', 'area (m^2)'], inplace=True)"
   ],
   "metadata": {
    "collapsed": false,
    "ExecuteTime": {
     "end_time": "2024-04-13T14:10:12.966082500Z",
     "start_time": "2024-04-13T14:10:12.931827400Z"
    }
   },
   "id": "4307c9a2533ad1bb",
   "execution_count": 339
  },
  {
   "cell_type": "code",
   "outputs": [
    {
     "name": "stdout",
     "output_type": "stream",
     "text": [
      "Unikalne jednostki metryczne: ['m²']\n",
      "Unikalne waluty: ['zł' nan '€']\n"
     ]
    }
   ],
   "source": [
    "unique_area_units = df['area_unit'].unique()\n",
    "print(\"Unikalne jednostki metryczne:\", unique_area_units)\n",
    "\n",
    "unique_currencies = df['currency'].unique()\n",
    "print(\"Unikalne waluty:\", unique_currencies)"
   ],
   "metadata": {
    "collapsed": false,
    "ExecuteTime": {
     "end_time": "2024-04-13T14:10:13.013084Z",
     "start_time": "2024-04-13T14:10:12.952532300Z"
    }
   },
   "id": "6893a2f6fbe2662d",
   "execution_count": 340
  },
  {
   "cell_type": "code",
   "outputs": [],
   "source": [
    "EURO_RATE = 4.3\n",
    "\n",
    "# Warunkowe mnożenie kwoty przez stałą, jeśli waluta to euro (nie optymalne, ale za głupi na to jestem)\n",
    "df['price_amount'] = df.apply(lambda row: row['price_amount'] * EURO_RATE if row['currency'] == 'euro' else row['price_amount'], axis=1)\n",
    "\n",
    "# Zmiana waluty na \"zł\"\n",
    "df.loc[df['currency'] == '€', 'currency'] = 'zł'"
   ],
   "metadata": {
    "collapsed": false,
    "ExecuteTime": {
     "end_time": "2024-04-13T14:10:13.032192900Z",
     "start_time": "2024-04-13T14:10:12.969061100Z"
    }
   },
   "id": "3ed2dbc1e1cd5fa1",
   "execution_count": 341
  },
  {
   "cell_type": "code",
   "outputs": [
    {
     "name": "stdout",
     "output_type": "stream",
     "text": [
      "Unikalne jednostki metryczne: ['m²']\n",
      "Unikalne waluty: ['zł' nan]\n"
     ]
    }
   ],
   "source": [
    "unique_area_units = df['area_unit'].unique()\n",
    "print(\"Unikalne jednostki metryczne:\", unique_area_units)\n",
    "\n",
    "unique_currencies = df['currency'].unique()\n",
    "print(\"Unikalne waluty:\", unique_currencies)"
   ],
   "metadata": {
    "collapsed": false,
    "ExecuteTime": {
     "end_time": "2024-04-13T14:10:13.061108500Z",
     "start_time": "2024-04-13T14:10:13.034703500Z"
    }
   },
   "id": "82b0c2f0389a927d",
   "execution_count": 342
  },
  {
   "cell_type": "code",
   "outputs": [
    {
     "data": {
      "text/plain": "                                                  url  \\\n0   https://krakow.nieruchomosci-online.pl/mieszka...   \n1   https://krakow.nieruchomosci-online.pl/mieszka...   \n2   https://krakow.nieruchomosci-online.pl/mieszka...   \n3   https://krakow.nieruchomosci-online.pl/mieszka...   \n4   https://krakow.nieruchomosci-online.pl/mieszka...   \n5   https://krakow.nieruchomosci-online.pl/mieszka...   \n6   https://krakow.nieruchomosci-online.pl/mieszka...   \n7   https://krakow.nieruchomosci-online.pl/mieszka...   \n8   https://krakow.nieruchomosci-online.pl/mieszka...   \n9   https://krakow.nieruchomosci-online.pl/mieszka...   \n10  https://krakow.nieruchomosci-online.pl/mieszka...   \n11  https://krakow.nieruchomosci-online.pl/mieszka...   \n12  https://krakow.nieruchomosci-online.pl/mieszka...   \n13  https://krakow.nieruchomosci-online.pl/mieszka...   \n14  https://krakow.nieruchomosci-online.pl/mieszka...   \n15  https://krakow.nieruchomosci-online.pl/mieszka...   \n16  https://krakow.nieruchomosci-online.pl/mieszka...   \n17  https://krakow.nieruchomosci-online.pl/mieszka...   \n18  https://krakow.nieruchomosci-online.pl/mieszka...   \n19  https://krakow.nieruchomosci-online.pl/mieszka...   \n\n                                name/title  \\\n0           Mieszkanie, ul. Żelechowskiego   \n1                  Mieszkanie, ul. Balicka   \n2                   Mieszkanie, ul. Zauchy   \n3               Mieszkanie, ul. Racławicka   \n4                 Mieszkanie, ul. Pustynna   \n5                        Apartament Kraków   \n6               Mieszkanie, ul. Przemiarki   \n7              Mieszkanie, ul. Felińskiego   \n8                Apartament, ul. Lublańska   \n9            Apartament, ul. Szablowskiego   \n10                       Mieszkanie Kraków   \n11               Mieszkanie, ul. Cystersów   \n12                  Mieszkanie, ul. Ułanów   \n13                  Mieszkanie, ul. Bartla   \n14         Mieszkanie, Osiedle Tysiąclecia   \n15                   Mieszkanie, ul. Bojki   \n16  Mieszkanie, Osiedle Bohaterów Września   \n17                Mieszkanie, ul. Zawodzie   \n18                 Mieszkanie, ul. Obozowa   \n19               Mieszkanie, ul. Beskidzka   \n\n                                              address   price-per-area  \\\n0      Żelechowskiego, Bronowice, Kraków, małopolskie  17 388,78 zł/m²   \n1             Balicka, Bronowice, Kraków, małopolskie     12 600 zł/m²   \n2         Zauchy, Górka Narodowa, Kraków, małopolskie  19 162,96 zł/m²   \n3          Racławicka, Krowodrza, Kraków, małopolskie     15 000 zł/m²   \n4                Pustynna, Kliny, Kraków, małopolskie  16 887,14 zł/m²   \n5                 Wola Justowska, Kraków, małopolskie     16 800 zł/m²   \n6             Przemiarki, Ruczaj, Kraków, małopolskie     15 625 zł/m²   \n7    Felińskiego, Górka Narodowa, Kraków, małopolskie  12 120,80 zł/m²   \n8   Lublańska 13, Prądnik Czerwony, Kraków, małopo...     17 500 zł/m²   \n9       Szablowskiego, Bronowice, Kraków, małopolskie     14 975 zł/m²   \n10  Wzgórza Kzresławickie, Wzgórza Krzesławickie, ...   6 363,06 zł/m²   \n11         Cystersów, Grzegórzki, Kraków, małopolskie     21 500 zł/m²   \n12      Ułanów, Prądnik Czerwony, Kraków, małopolskie  12 866,45 zł/m²   \n13                 Bartla, Kliny, Kraków, małopolskie  15 558,14 zł/m²   \n14  Osiedle Tysiąclecia, Mistrzejowice, Kraków, ma...  15 946,75 zł/m²   \n15              Bojki, Kurdwanów, Kraków, małopolskie     12 700 zł/m²   \n16  Osiedle Bohaterów Września, Mistrzejowice, Kra...  13 418,63 zł/m²   \n17       Zawodzie, Prądnik Biały, Kraków, małopolskie     11 274 zł/m²   \n18               Obozowa, Ruczaj, Kraków, małopolskie  13 380,82 zł/m²   \n19      Beskidzka, Wola Duchacka, Kraków, małopolskie  13 870,97 zł/m²   \n\n   floor number  number of floors no of rooms year of construction  \\\n0             1               3.0           2                 1980   \n1             3               4.0           6                 2004   \n2             2               5.0           3                 2023   \n3             6              10.0           2                 1950   \n4        parter               1.0           3                 2013   \n5        parter               2.0           4                 2023   \n6             2               3.0           2                 2000   \n7             2               5.0           3                 2003   \n8             3               4.0           3                 2023   \n9        parter               3.0           2                 2001   \n10            1               2.0           5                 2023   \n11            7               7.0           3                 2017   \n12       parter              10.0           3                 1962   \n13            1               3.0           2                 2017   \n14            3               4.0           2                 1970   \n15            4               4.0           2                 1985   \n16            3               6.0           3                 1983   \n17            2              10.0           2                    -   \n18       parter               7.0           2                 2012   \n19            4              10.0           3                 1983   \n\n                   parking space  \\\n0                            tak   \n1            w garażu podziemnym   \n2                            tak   \n3   parking publiczny / na ulicy   \n4          garaż w bryle budynku   \n5          garaż w bryle budynku   \n6                          garaż   \n7   parking publiczny / na ulicy   \n8            w garażu podziemnym   \n9                            tak   \n10         garaż w bryle budynku   \n11                           tak   \n12                             -   \n13           w garażu podziemnym   \n14                             -   \n15  parking publiczny / na ulicy   \n16                             -   \n17          przynależne na ulicy   \n18          przynależne na ulicy   \n19                             -   \n\n                                               market  \\\n0                                              wtórny   \n1                                              wtórny   \n2                                              wtórny   \n3                                              wtórny   \n4                                              wtórny   \n5   pierwotny (zobacz inne nowe mieszkania w Krako...   \n6                                              wtórny   \n7                                              wtórny   \n8                                              wtórny   \n9                                              wtórny   \n10  pierwotny (zobacz inne nowe mieszkania w Krako...   \n11                                             wtórny   \n12                                             wtórny   \n13                                             wtórny   \n14                                             wtórny   \n15                                             wtórny   \n16                                             wtórny   \n17                                             wtórny   \n18                                             wtórny   \n19                                             wtórny   \n\n                              form of ownership  price_amount currency  \\\n0                                      własność      899000.0       zł   \n1                    własność, księga wieczysta     1575000.0       zł   \n2                                           NaN     1250000.0       zł   \n3                                           NaN      740250.0       zł   \n4                    własność, księga wieczysta     1200000.0       zł   \n5                                      własność     1198680.0       zł   \n6                                      własność      625000.0       zł   \n7                                           NaN      899000.0       zł   \n8                    własność, księga wieczysta     1050000.0       zł   \n9                    własność, księga wieczysta      599000.0       zł   \n10                   własność, księga wieczysta      999000.0       zł   \n11                                          NaN     1279250.0       zł   \n12  spółdzielcze własnościowe, księga wieczysta      790000.0       zł   \n13                                     własność      669000.0       zł   \n14                                          NaN      539000.0       zł   \n15                   własność, księga wieczysta      635000.0       zł   \n16  spółdzielcze własnościowe, księga wieczysta      860000.0       zł   \n17                                          NaN      699000.0       zł   \n18                   własność, księga wieczysta      695000.0       zł   \n19                                     własność      860000.0       zł   \n\n    area_amount area_unit  \n0         51.70        m²  \n1        125.00        m²  \n2         65.23        m²  \n3         49.35        m²  \n4         71.06        m²  \n5         71.35        m²  \n6         40.00        m²  \n7         74.17        m²  \n8         60.00        m²  \n9         40.00        m²  \n10       157.00        m²  \n11        59.50        m²  \n12        61.40        m²  \n13        43.00        m²  \n14        33.80        m²  \n15        50.00        m²  \n16        64.09        m²  \n17        62.00        m²  \n18        51.94        m²  \n19        62.00        m²  ",
      "text/html": "<div>\n<style scoped>\n    .dataframe tbody tr th:only-of-type {\n        vertical-align: middle;\n    }\n\n    .dataframe tbody tr th {\n        vertical-align: top;\n    }\n\n    .dataframe thead th {\n        text-align: right;\n    }\n</style>\n<table border=\"1\" class=\"dataframe\">\n  <thead>\n    <tr style=\"text-align: right;\">\n      <th></th>\n      <th>url</th>\n      <th>name/title</th>\n      <th>address</th>\n      <th>price-per-area</th>\n      <th>floor number</th>\n      <th>number of floors</th>\n      <th>no of rooms</th>\n      <th>year of construction</th>\n      <th>parking space</th>\n      <th>market</th>\n      <th>form of ownership</th>\n      <th>price_amount</th>\n      <th>currency</th>\n      <th>area_amount</th>\n      <th>area_unit</th>\n    </tr>\n  </thead>\n  <tbody>\n    <tr>\n      <th>0</th>\n      <td>https://krakow.nieruchomosci-online.pl/mieszka...</td>\n      <td>Mieszkanie, ul. Żelechowskiego</td>\n      <td>Żelechowskiego, Bronowice, Kraków, małopolskie</td>\n      <td>17 388,78 zł/m²</td>\n      <td>1</td>\n      <td>3.0</td>\n      <td>2</td>\n      <td>1980</td>\n      <td>tak</td>\n      <td>wtórny</td>\n      <td>własność</td>\n      <td>899000.0</td>\n      <td>zł</td>\n      <td>51.70</td>\n      <td>m²</td>\n    </tr>\n    <tr>\n      <th>1</th>\n      <td>https://krakow.nieruchomosci-online.pl/mieszka...</td>\n      <td>Mieszkanie, ul. Balicka</td>\n      <td>Balicka, Bronowice, Kraków, małopolskie</td>\n      <td>12 600 zł/m²</td>\n      <td>3</td>\n      <td>4.0</td>\n      <td>6</td>\n      <td>2004</td>\n      <td>w garażu podziemnym</td>\n      <td>wtórny</td>\n      <td>własność, księga wieczysta</td>\n      <td>1575000.0</td>\n      <td>zł</td>\n      <td>125.00</td>\n      <td>m²</td>\n    </tr>\n    <tr>\n      <th>2</th>\n      <td>https://krakow.nieruchomosci-online.pl/mieszka...</td>\n      <td>Mieszkanie, ul. Zauchy</td>\n      <td>Zauchy, Górka Narodowa, Kraków, małopolskie</td>\n      <td>19 162,96 zł/m²</td>\n      <td>2</td>\n      <td>5.0</td>\n      <td>3</td>\n      <td>2023</td>\n      <td>tak</td>\n      <td>wtórny</td>\n      <td>NaN</td>\n      <td>1250000.0</td>\n      <td>zł</td>\n      <td>65.23</td>\n      <td>m²</td>\n    </tr>\n    <tr>\n      <th>3</th>\n      <td>https://krakow.nieruchomosci-online.pl/mieszka...</td>\n      <td>Mieszkanie, ul. Racławicka</td>\n      <td>Racławicka, Krowodrza, Kraków, małopolskie</td>\n      <td>15 000 zł/m²</td>\n      <td>6</td>\n      <td>10.0</td>\n      <td>2</td>\n      <td>1950</td>\n      <td>parking publiczny / na ulicy</td>\n      <td>wtórny</td>\n      <td>NaN</td>\n      <td>740250.0</td>\n      <td>zł</td>\n      <td>49.35</td>\n      <td>m²</td>\n    </tr>\n    <tr>\n      <th>4</th>\n      <td>https://krakow.nieruchomosci-online.pl/mieszka...</td>\n      <td>Mieszkanie, ul. Pustynna</td>\n      <td>Pustynna, Kliny, Kraków, małopolskie</td>\n      <td>16 887,14 zł/m²</td>\n      <td>parter</td>\n      <td>1.0</td>\n      <td>3</td>\n      <td>2013</td>\n      <td>garaż w bryle budynku</td>\n      <td>wtórny</td>\n      <td>własność, księga wieczysta</td>\n      <td>1200000.0</td>\n      <td>zł</td>\n      <td>71.06</td>\n      <td>m²</td>\n    </tr>\n    <tr>\n      <th>5</th>\n      <td>https://krakow.nieruchomosci-online.pl/mieszka...</td>\n      <td>Apartament Kraków</td>\n      <td>Wola Justowska, Kraków, małopolskie</td>\n      <td>16 800 zł/m²</td>\n      <td>parter</td>\n      <td>2.0</td>\n      <td>4</td>\n      <td>2023</td>\n      <td>garaż w bryle budynku</td>\n      <td>pierwotny (zobacz inne nowe mieszkania w Krako...</td>\n      <td>własność</td>\n      <td>1198680.0</td>\n      <td>zł</td>\n      <td>71.35</td>\n      <td>m²</td>\n    </tr>\n    <tr>\n      <th>6</th>\n      <td>https://krakow.nieruchomosci-online.pl/mieszka...</td>\n      <td>Mieszkanie, ul. Przemiarki</td>\n      <td>Przemiarki, Ruczaj, Kraków, małopolskie</td>\n      <td>15 625 zł/m²</td>\n      <td>2</td>\n      <td>3.0</td>\n      <td>2</td>\n      <td>2000</td>\n      <td>garaż</td>\n      <td>wtórny</td>\n      <td>własność</td>\n      <td>625000.0</td>\n      <td>zł</td>\n      <td>40.00</td>\n      <td>m²</td>\n    </tr>\n    <tr>\n      <th>7</th>\n      <td>https://krakow.nieruchomosci-online.pl/mieszka...</td>\n      <td>Mieszkanie, ul. Felińskiego</td>\n      <td>Felińskiego, Górka Narodowa, Kraków, małopolskie</td>\n      <td>12 120,80 zł/m²</td>\n      <td>2</td>\n      <td>5.0</td>\n      <td>3</td>\n      <td>2003</td>\n      <td>parking publiczny / na ulicy</td>\n      <td>wtórny</td>\n      <td>NaN</td>\n      <td>899000.0</td>\n      <td>zł</td>\n      <td>74.17</td>\n      <td>m²</td>\n    </tr>\n    <tr>\n      <th>8</th>\n      <td>https://krakow.nieruchomosci-online.pl/mieszka...</td>\n      <td>Apartament, ul. Lublańska</td>\n      <td>Lublańska 13, Prądnik Czerwony, Kraków, małopo...</td>\n      <td>17 500 zł/m²</td>\n      <td>3</td>\n      <td>4.0</td>\n      <td>3</td>\n      <td>2023</td>\n      <td>w garażu podziemnym</td>\n      <td>wtórny</td>\n      <td>własność, księga wieczysta</td>\n      <td>1050000.0</td>\n      <td>zł</td>\n      <td>60.00</td>\n      <td>m²</td>\n    </tr>\n    <tr>\n      <th>9</th>\n      <td>https://krakow.nieruchomosci-online.pl/mieszka...</td>\n      <td>Apartament, ul. Szablowskiego</td>\n      <td>Szablowskiego, Bronowice, Kraków, małopolskie</td>\n      <td>14 975 zł/m²</td>\n      <td>parter</td>\n      <td>3.0</td>\n      <td>2</td>\n      <td>2001</td>\n      <td>tak</td>\n      <td>wtórny</td>\n      <td>własność, księga wieczysta</td>\n      <td>599000.0</td>\n      <td>zł</td>\n      <td>40.00</td>\n      <td>m²</td>\n    </tr>\n    <tr>\n      <th>10</th>\n      <td>https://krakow.nieruchomosci-online.pl/mieszka...</td>\n      <td>Mieszkanie Kraków</td>\n      <td>Wzgórza Kzresławickie, Wzgórza Krzesławickie, ...</td>\n      <td>6 363,06 zł/m²</td>\n      <td>1</td>\n      <td>2.0</td>\n      <td>5</td>\n      <td>2023</td>\n      <td>garaż w bryle budynku</td>\n      <td>pierwotny (zobacz inne nowe mieszkania w Krako...</td>\n      <td>własność, księga wieczysta</td>\n      <td>999000.0</td>\n      <td>zł</td>\n      <td>157.00</td>\n      <td>m²</td>\n    </tr>\n    <tr>\n      <th>11</th>\n      <td>https://krakow.nieruchomosci-online.pl/mieszka...</td>\n      <td>Mieszkanie, ul. Cystersów</td>\n      <td>Cystersów, Grzegórzki, Kraków, małopolskie</td>\n      <td>21 500 zł/m²</td>\n      <td>7</td>\n      <td>7.0</td>\n      <td>3</td>\n      <td>2017</td>\n      <td>tak</td>\n      <td>wtórny</td>\n      <td>NaN</td>\n      <td>1279250.0</td>\n      <td>zł</td>\n      <td>59.50</td>\n      <td>m²</td>\n    </tr>\n    <tr>\n      <th>12</th>\n      <td>https://krakow.nieruchomosci-online.pl/mieszka...</td>\n      <td>Mieszkanie, ul. Ułanów</td>\n      <td>Ułanów, Prądnik Czerwony, Kraków, małopolskie</td>\n      <td>12 866,45 zł/m²</td>\n      <td>parter</td>\n      <td>10.0</td>\n      <td>3</td>\n      <td>1962</td>\n      <td>-</td>\n      <td>wtórny</td>\n      <td>spółdzielcze własnościowe, księga wieczysta</td>\n      <td>790000.0</td>\n      <td>zł</td>\n      <td>61.40</td>\n      <td>m²</td>\n    </tr>\n    <tr>\n      <th>13</th>\n      <td>https://krakow.nieruchomosci-online.pl/mieszka...</td>\n      <td>Mieszkanie, ul. Bartla</td>\n      <td>Bartla, Kliny, Kraków, małopolskie</td>\n      <td>15 558,14 zł/m²</td>\n      <td>1</td>\n      <td>3.0</td>\n      <td>2</td>\n      <td>2017</td>\n      <td>w garażu podziemnym</td>\n      <td>wtórny</td>\n      <td>własność</td>\n      <td>669000.0</td>\n      <td>zł</td>\n      <td>43.00</td>\n      <td>m²</td>\n    </tr>\n    <tr>\n      <th>14</th>\n      <td>https://krakow.nieruchomosci-online.pl/mieszka...</td>\n      <td>Mieszkanie, Osiedle Tysiąclecia</td>\n      <td>Osiedle Tysiąclecia, Mistrzejowice, Kraków, ma...</td>\n      <td>15 946,75 zł/m²</td>\n      <td>3</td>\n      <td>4.0</td>\n      <td>2</td>\n      <td>1970</td>\n      <td>-</td>\n      <td>wtórny</td>\n      <td>NaN</td>\n      <td>539000.0</td>\n      <td>zł</td>\n      <td>33.80</td>\n      <td>m²</td>\n    </tr>\n    <tr>\n      <th>15</th>\n      <td>https://krakow.nieruchomosci-online.pl/mieszka...</td>\n      <td>Mieszkanie, ul. Bojki</td>\n      <td>Bojki, Kurdwanów, Kraków, małopolskie</td>\n      <td>12 700 zł/m²</td>\n      <td>4</td>\n      <td>4.0</td>\n      <td>2</td>\n      <td>1985</td>\n      <td>parking publiczny / na ulicy</td>\n      <td>wtórny</td>\n      <td>własność, księga wieczysta</td>\n      <td>635000.0</td>\n      <td>zł</td>\n      <td>50.00</td>\n      <td>m²</td>\n    </tr>\n    <tr>\n      <th>16</th>\n      <td>https://krakow.nieruchomosci-online.pl/mieszka...</td>\n      <td>Mieszkanie, Osiedle Bohaterów Września</td>\n      <td>Osiedle Bohaterów Września, Mistrzejowice, Kra...</td>\n      <td>13 418,63 zł/m²</td>\n      <td>3</td>\n      <td>6.0</td>\n      <td>3</td>\n      <td>1983</td>\n      <td>-</td>\n      <td>wtórny</td>\n      <td>spółdzielcze własnościowe, księga wieczysta</td>\n      <td>860000.0</td>\n      <td>zł</td>\n      <td>64.09</td>\n      <td>m²</td>\n    </tr>\n    <tr>\n      <th>17</th>\n      <td>https://krakow.nieruchomosci-online.pl/mieszka...</td>\n      <td>Mieszkanie, ul. Zawodzie</td>\n      <td>Zawodzie, Prądnik Biały, Kraków, małopolskie</td>\n      <td>11 274 zł/m²</td>\n      <td>2</td>\n      <td>10.0</td>\n      <td>2</td>\n      <td>-</td>\n      <td>przynależne na ulicy</td>\n      <td>wtórny</td>\n      <td>NaN</td>\n      <td>699000.0</td>\n      <td>zł</td>\n      <td>62.00</td>\n      <td>m²</td>\n    </tr>\n    <tr>\n      <th>18</th>\n      <td>https://krakow.nieruchomosci-online.pl/mieszka...</td>\n      <td>Mieszkanie, ul. Obozowa</td>\n      <td>Obozowa, Ruczaj, Kraków, małopolskie</td>\n      <td>13 380,82 zł/m²</td>\n      <td>parter</td>\n      <td>7.0</td>\n      <td>2</td>\n      <td>2012</td>\n      <td>przynależne na ulicy</td>\n      <td>wtórny</td>\n      <td>własność, księga wieczysta</td>\n      <td>695000.0</td>\n      <td>zł</td>\n      <td>51.94</td>\n      <td>m²</td>\n    </tr>\n    <tr>\n      <th>19</th>\n      <td>https://krakow.nieruchomosci-online.pl/mieszka...</td>\n      <td>Mieszkanie, ul. Beskidzka</td>\n      <td>Beskidzka, Wola Duchacka, Kraków, małopolskie</td>\n      <td>13 870,97 zł/m²</td>\n      <td>4</td>\n      <td>10.0</td>\n      <td>3</td>\n      <td>1983</td>\n      <td>-</td>\n      <td>wtórny</td>\n      <td>własność</td>\n      <td>860000.0</td>\n      <td>zł</td>\n      <td>62.00</td>\n      <td>m²</td>\n    </tr>\n  </tbody>\n</table>\n</div>"
     },
     "execution_count": 343,
     "metadata": {},
     "output_type": "execute_result"
    }
   ],
   "source": [
    "df.head(20)"
   ],
   "metadata": {
    "collapsed": false,
    "ExecuteTime": {
     "end_time": "2024-04-13T14:10:13.076795Z",
     "start_time": "2024-04-13T14:10:13.049779400Z"
    }
   },
   "id": "9cb02080966cdcfa",
   "execution_count": 343
  },
  {
   "cell_type": "code",
   "outputs": [
    {
     "name": "stdout",
     "output_type": "stream",
     "text": [
      "Unikalne jednostki metryczne: ['własność' 'własność, księga wieczysta' nan\n",
      " 'spółdzielcze własnościowe, księga wieczysta'\n",
      " 'pierwotny (oferta dewelopera)' 'udział w KW' 'spółdzielcze własnościowe'\n",
      " 'udział ze wskazaniem, KW na budynku' 'księga wieczysta' 'inna' 'udział'\n",
      " 'inna, księga wieczysta' 'Udział ze wskazaniem' 'Udział'\n",
      " 'udział, księga wieczysta' 'udział ze wskazaniem' 'Chce dopłacić' 'tak']\n",
      "Unikalne waluty: ['wtórny' 'pierwotny (zobacz inne nowe mieszkania w Krakowie)' 'dostępne'\n",
      " 'II kwartał 2024' 'III kwartał 2024' 'IV kwartał 2022, oddana do użytku'\n",
      " 'II kwartał 2025' 'III kwartał 2025' 'październik 2023, zrealizowana'\n",
      " 'czerwiec 2023, zrealizowana' 'II kwartał 2023, oddana do użytku'\n",
      " 'sierpień 2024' 'październik 2025' 'IV kwartał 2024' nan 'zarezerwowane'\n",
      " 'sprzedane' 'I kwartał 2024' 'I kwartał 2025' 'IV kwartał 2025'\n",
      " 'lipiec 2025' '2025' 'III kwartał 2023, oddana do użytku'\n",
      " 'kwiecień 2023, oddana do użytku' 'marzec 2024' '1 miesiąc' 'natychmiast']\n"
     ]
    }
   ],
   "source": [
    "unique_area_units = df['form of ownership'].unique()\n",
    "print(\"Unikalne jednostki metryczne:\", unique_area_units)\n",
    "\n",
    "unique_currencies = df['market'].unique()\n",
    "print(\"Unikalne waluty:\", unique_currencies)"
   ],
   "metadata": {
    "collapsed": false,
    "ExecuteTime": {
     "end_time": "2024-04-13T14:10:13.086077500Z",
     "start_time": "2024-04-13T14:10:13.079771300Z"
    }
   },
   "id": "2be0531fc0a43020",
   "execution_count": 344
  },
  {
   "cell_type": "markdown",
   "source": [
    "## Missing Values"
   ],
   "metadata": {
    "collapsed": false
   },
   "id": "8039627380f96805"
  },
  {
   "cell_type": "markdown",
   "source": [
    "| Attribute               | Value |\n",
    "|-------------------------|-------|\n",
    "| url                     | 0     |\n",
    "| name/title              | 0     |\n",
    "| address                 | 101   |\n",
    "| price-per-area          | 29    |\n",
    "| floor number            | 0     |\n",
    "| number of floors        | 239   |\n",
    "| no of rooms             | 0     |\n",
    "| year of construction    | 0     |\n",
    "| parking space           | 0     |\n",
    "| market                  | 31    |\n",
    "| form of ownership       | 2461  |\n",
    "| price_amount            | 29    |\n",
    "| currency                | 29    |\n",
    "| area_amount             | 0     |\n",
    "| area_unit               | 0     |"
   ],
   "metadata": {
    "collapsed": false
   },
   "id": "e9d32201a70b2fa1"
  },
  {
   "cell_type": "code",
   "outputs": [],
   "source": [
    "# Nowe obliczenie price-per-area bo tamtemu nie ufam\n",
    "df['price_per_area'] = df['price_amount'] / df['area_amount']\n",
    "df.drop(columns=['price-per-area'], inplace=True)"
   ],
   "metadata": {
    "collapsed": false,
    "ExecuteTime": {
     "end_time": "2024-04-13T14:10:13.122988500Z",
     "start_time": "2024-04-13T14:10:13.085072300Z"
    }
   },
   "id": "3bf211b0b5539422",
   "execution_count": 345
  },
  {
   "cell_type": "markdown",
   "source": [],
   "metadata": {
    "collapsed": false
   },
   "id": "4fcfe6bee619ec8"
  },
  {
   "cell_type": "code",
   "outputs": [
    {
     "data": {
      "text/plain": "                                                    url  \\\n26    https://wieliczka.nieruchomosci-online.pl/nowe...   \n27    https://wieliczka.nieruchomosci-online.pl/nowe...   \n28    https://wieliczka.nieruchomosci-online.pl/nowe...   \n45    https://krakow.nieruchomosci-online.pl/nowe-mi...   \n172   https://krakow.nieruchomosci-online.pl/nowe-mi...   \n175   https://krakow.nieruchomosci-online.pl/nowe-mi...   \n177   https://krakow.nieruchomosci-online.pl/nowe-mi...   \n220   https://krakow.nieruchomosci-online.pl/nowe-mi...   \n221   https://krakow.nieruchomosci-online.pl/nowe-mi...   \n226   https://krakow.nieruchomosci-online.pl/nowe-mi...   \n257   https://krakow.nieruchomosci-online.pl/nowe-mi...   \n273   https://krakow.nieruchomosci-online.pl/nowe-mi...   \n274   https://krakow.nieruchomosci-online.pl/nowe-mi...   \n276   https://krakow.nieruchomosci-online.pl/nowe-mi...   \n304   https://krakow.nieruchomosci-online.pl/nowe-mi...   \n305   https://krakow.nieruchomosci-online.pl/nowe-mi...   \n309   https://krakow.nieruchomosci-online.pl/nowe-mi...   \n318   https://krakow.nieruchomosci-online.pl/nowe-mi...   \n321   https://krakow.nieruchomosci-online.pl/nowe-mi...   \n323   https://krakow.nieruchomosci-online.pl/nowe-mi...   \n367   https://krakow.nieruchomosci-online.pl/nowe-mi...   \n368   https://krakow.nieruchomosci-online.pl/nowe-mi...   \n369   https://krakow.nieruchomosci-online.pl/nowe-mi...   \n456   https://krakow.nieruchomosci-online.pl/nowe-mi...   \n545   https://krakow.nieruchomosci-online.pl/nowe-mi...   \n547   https://krakow.nieruchomosci-online.pl/nowe-mi...   \n550   https://krakow.nieruchomosci-online.pl/nowe-mi...   \n2387  https://krakow.nieruchomosci-online.pl/mieszka...   \n2737  https://krakow.nieruchomosci-online.pl/mieszka...   \n\n                                             name/title  \\\n26                       Nowe mieszkanie ul. Magnoliowa   \n27                       Nowe mieszkanie ul. Magnoliowa   \n28                       Nowe mieszkanie ul. Magnoliowa   \n45               Nowe mieszkanie Gotyk, ul. Grabczaka 8   \n172               Nowe mieszkanie Kleparz, ul. Długa 24   \n175               Nowe mieszkanie Kleparz, ul. Długa 24   \n177               Nowe mieszkanie Kleparz, ul. Długa 24   \n220          Nowe mieszkanie Olszyny, ul. Petrażyckiego   \n221          Nowe mieszkanie Olszyny, ul. Petrażyckiego   \n226          Nowe mieszkanie Olszyny, ul. Petrażyckiego   \n257              Nowe mieszkanie Czyżyny, ul. Strumyk 4   \n273   Nowe mieszkanie Dziekanowice, ul. Piasta Kołod...   \n274   Nowe mieszkanie Dziekanowice, ul. Piasta Kołod...   \n276   Nowe mieszkanie Dziekanowice, ul. Piasta Kołod...   \n304   Nowe mieszkanie Górka Narodowa, ul. Belwedercz...   \n305   Nowe mieszkanie Górka Narodowa, ul. Belwedercz...   \n309   Nowe mieszkanie Górka Narodowa, ul. Belwedercz...   \n318        Nowe mieszkanie Stare Miasto, ul. Grodzka 28   \n321        Nowe mieszkanie Stare Miasto, ul. Grodzka 28   \n323        Nowe mieszkanie Stare Miasto, ul. Grodzka 28   \n367           Nowe mieszkanie Płaszów, ul. Myśliwska 68   \n368           Nowe mieszkanie Płaszów, ul. Myśliwska 68   \n369           Nowe mieszkanie Płaszów, ul. Myśliwska 68   \n456   Nowe mieszkanie Prądnik Czerwony, ul. Strzelcó...   \n545      Nowe mieszkanie Bronowice Małe, ul. Wizjonerów   \n547      Nowe mieszkanie Bronowice Małe, ul. Wizjonerów   \n550      Nowe mieszkanie Bronowice Małe, ul. Wizjonerów   \n2387                         Apartament, ul. Wybickiego   \n2737                         Apartament, ul. Wybickiego   \n\n                                         address      floor number  \\\n26                                           NaN     wrzesień 2024   \n27                                           NaN     wrzesień 2024   \n28                                           NaN     wrzesień 2024   \n45                                           NaN  III kwartał 2024   \n172                                          NaN         luty 2024   \n175                                          NaN         luty 2024   \n177                                          NaN         luty 2024   \n220                                          NaN     wrzesień 2024   \n221                                          NaN     wrzesień 2024   \n226                                          NaN     wrzesień 2024   \n257                                          NaN   II kwartał 2025   \n273                                          NaN  III kwartał 2025   \n274                                          NaN  III kwartał 2025   \n276                                          NaN  III kwartał 2025   \n304                                          NaN     grudzień 2025   \n305                                          NaN     grudzień 2025   \n309                                          NaN     grudzień 2025   \n318                                          NaN    I kwartał 2024   \n321                                          NaN    I kwartał 2024   \n323                                          NaN    I kwartał 2024   \n367                                          NaN  III kwartał 2025   \n368                                          NaN  III kwartał 2025   \n369                                          NaN  III kwartał 2025   \n456                                          NaN  III kwartał 2025   \n545                                          NaN  oddana do użytku   \n547                                          NaN  oddana do użytku   \n550                                          NaN  oddana do użytku   \n2387  Wybickiego, Krowodrza, Kraków, małopolskie                 1   \n2737  Wybickiego, Krowodrza, Kraków, małopolskie                 3   \n\n      number of floors no of rooms year of construction parking space  \\\n26                 NaN           1                    3             -   \n27                 NaN           1                    3      naziemne   \n28                 NaN           1                    3      naziemne   \n45                 NaN    suterena                    3         garaż   \n172                NaN           4                    2         garaż   \n175                NaN           4                    2         garaż   \n177                NaN           4                    2         garaż   \n220                NaN           1                    4      naziemne   \n221                NaN      parter                    3      naziemne   \n226                NaN           1                    4      naziemne   \n257                NaN           3                    5         garaż   \n273                NaN           5                    2         garaż   \n274                NaN      parter                    3         garaż   \n276                NaN           2                    3         garaż   \n304                NaN           3                    3         garaż   \n305                NaN           4                    2         garaż   \n309                NaN           5                    3         garaż   \n318                NaN           2                    2             -   \n321                NaN           3                    2             -   \n323                NaN           2                    1             -   \n367                NaN           1                    2         garaż   \n368                NaN           5                    4         garaż   \n369                NaN           1                    2         garaż   \n456                NaN           4                    4         garaż   \n545                NaN           5                    3         garaż   \n547                NaN           2                    2         garaż   \n550                NaN           5                    2         garaż   \n2387               7.0           3                 2023         garaż   \n2737               7.0           2                 2023         garaż   \n\n             market form of ownership  price_amount currency  area_amount  \\\n26         dostępne               NaN           NaN      NaN        57.83   \n27         dostępne               NaN           NaN      NaN        57.83   \n28         dostępne               NaN           NaN      NaN        57.83   \n45         dostępne               NaN           NaN      NaN        58.36   \n172        dostępne               NaN           NaN      NaN        39.84   \n175        dostępne               NaN           NaN      NaN        57.45   \n177        dostępne               NaN           NaN      NaN        38.93   \n220        dostępne               NaN           NaN      NaN        93.00   \n221   zarezerwowane               NaN           NaN      NaN        55.00   \n226        dostępne               NaN           NaN      NaN        93.00   \n257       sprzedane               NaN           NaN      NaN       103.84   \n273        dostępne               NaN           NaN      NaN        37.15   \n274        dostępne               NaN           NaN      NaN        45.01   \n276        dostępne               NaN           NaN      NaN        45.14   \n304        dostępne               NaN           NaN      NaN        49.55   \n305        dostępne               NaN           NaN      NaN        36.35   \n309        dostępne               NaN           NaN      NaN        54.20   \n318        dostępne               NaN           NaN      NaN        51.52   \n321        dostępne               NaN           NaN      NaN        43.30   \n323        dostępne               NaN           NaN      NaN        30.75   \n367        dostępne               NaN           NaN      NaN        44.14   \n368        dostępne               NaN           NaN      NaN        80.64   \n369        dostępne               NaN           NaN      NaN        44.16   \n456        dostępne               NaN           NaN      NaN        67.57   \n545        dostępne               NaN           NaN      NaN        56.13   \n547        dostępne               NaN           NaN      NaN        43.65   \n550        dostępne               NaN           NaN      NaN        42.78   \n2387            NaN               NaN           NaN      NaN        58.89   \n2737            NaN               NaN           NaN      NaN        40.02   \n\n     area_unit  price_per_area  \n26          m²             NaN  \n27          m²             NaN  \n28          m²             NaN  \n45          m²             NaN  \n172         m²             NaN  \n175         m²             NaN  \n177         m²             NaN  \n220         m²             NaN  \n221         m²             NaN  \n226         m²             NaN  \n257         m²             NaN  \n273         m²             NaN  \n274         m²             NaN  \n276         m²             NaN  \n304         m²             NaN  \n305         m²             NaN  \n309         m²             NaN  \n318         m²             NaN  \n321         m²             NaN  \n323         m²             NaN  \n367         m²             NaN  \n368         m²             NaN  \n369         m²             NaN  \n456         m²             NaN  \n545         m²             NaN  \n547         m²             NaN  \n550         m²             NaN  \n2387        m²             NaN  \n2737        m²             NaN  ",
      "text/html": "<div>\n<style scoped>\n    .dataframe tbody tr th:only-of-type {\n        vertical-align: middle;\n    }\n\n    .dataframe tbody tr th {\n        vertical-align: top;\n    }\n\n    .dataframe thead th {\n        text-align: right;\n    }\n</style>\n<table border=\"1\" class=\"dataframe\">\n  <thead>\n    <tr style=\"text-align: right;\">\n      <th></th>\n      <th>url</th>\n      <th>name/title</th>\n      <th>address</th>\n      <th>floor number</th>\n      <th>number of floors</th>\n      <th>no of rooms</th>\n      <th>year of construction</th>\n      <th>parking space</th>\n      <th>market</th>\n      <th>form of ownership</th>\n      <th>price_amount</th>\n      <th>currency</th>\n      <th>area_amount</th>\n      <th>area_unit</th>\n      <th>price_per_area</th>\n    </tr>\n  </thead>\n  <tbody>\n    <tr>\n      <th>26</th>\n      <td>https://wieliczka.nieruchomosci-online.pl/nowe...</td>\n      <td>Nowe mieszkanie ul. Magnoliowa</td>\n      <td>NaN</td>\n      <td>wrzesień 2024</td>\n      <td>NaN</td>\n      <td>1</td>\n      <td>3</td>\n      <td>-</td>\n      <td>dostępne</td>\n      <td>NaN</td>\n      <td>NaN</td>\n      <td>NaN</td>\n      <td>57.83</td>\n      <td>m²</td>\n      <td>NaN</td>\n    </tr>\n    <tr>\n      <th>27</th>\n      <td>https://wieliczka.nieruchomosci-online.pl/nowe...</td>\n      <td>Nowe mieszkanie ul. Magnoliowa</td>\n      <td>NaN</td>\n      <td>wrzesień 2024</td>\n      <td>NaN</td>\n      <td>1</td>\n      <td>3</td>\n      <td>naziemne</td>\n      <td>dostępne</td>\n      <td>NaN</td>\n      <td>NaN</td>\n      <td>NaN</td>\n      <td>57.83</td>\n      <td>m²</td>\n      <td>NaN</td>\n    </tr>\n    <tr>\n      <th>28</th>\n      <td>https://wieliczka.nieruchomosci-online.pl/nowe...</td>\n      <td>Nowe mieszkanie ul. Magnoliowa</td>\n      <td>NaN</td>\n      <td>wrzesień 2024</td>\n      <td>NaN</td>\n      <td>1</td>\n      <td>3</td>\n      <td>naziemne</td>\n      <td>dostępne</td>\n      <td>NaN</td>\n      <td>NaN</td>\n      <td>NaN</td>\n      <td>57.83</td>\n      <td>m²</td>\n      <td>NaN</td>\n    </tr>\n    <tr>\n      <th>45</th>\n      <td>https://krakow.nieruchomosci-online.pl/nowe-mi...</td>\n      <td>Nowe mieszkanie Gotyk, ul. Grabczaka 8</td>\n      <td>NaN</td>\n      <td>III kwartał 2024</td>\n      <td>NaN</td>\n      <td>suterena</td>\n      <td>3</td>\n      <td>garaż</td>\n      <td>dostępne</td>\n      <td>NaN</td>\n      <td>NaN</td>\n      <td>NaN</td>\n      <td>58.36</td>\n      <td>m²</td>\n      <td>NaN</td>\n    </tr>\n    <tr>\n      <th>172</th>\n      <td>https://krakow.nieruchomosci-online.pl/nowe-mi...</td>\n      <td>Nowe mieszkanie Kleparz, ul. Długa 24</td>\n      <td>NaN</td>\n      <td>luty 2024</td>\n      <td>NaN</td>\n      <td>4</td>\n      <td>2</td>\n      <td>garaż</td>\n      <td>dostępne</td>\n      <td>NaN</td>\n      <td>NaN</td>\n      <td>NaN</td>\n      <td>39.84</td>\n      <td>m²</td>\n      <td>NaN</td>\n    </tr>\n    <tr>\n      <th>175</th>\n      <td>https://krakow.nieruchomosci-online.pl/nowe-mi...</td>\n      <td>Nowe mieszkanie Kleparz, ul. Długa 24</td>\n      <td>NaN</td>\n      <td>luty 2024</td>\n      <td>NaN</td>\n      <td>4</td>\n      <td>2</td>\n      <td>garaż</td>\n      <td>dostępne</td>\n      <td>NaN</td>\n      <td>NaN</td>\n      <td>NaN</td>\n      <td>57.45</td>\n      <td>m²</td>\n      <td>NaN</td>\n    </tr>\n    <tr>\n      <th>177</th>\n      <td>https://krakow.nieruchomosci-online.pl/nowe-mi...</td>\n      <td>Nowe mieszkanie Kleparz, ul. Długa 24</td>\n      <td>NaN</td>\n      <td>luty 2024</td>\n      <td>NaN</td>\n      <td>4</td>\n      <td>2</td>\n      <td>garaż</td>\n      <td>dostępne</td>\n      <td>NaN</td>\n      <td>NaN</td>\n      <td>NaN</td>\n      <td>38.93</td>\n      <td>m²</td>\n      <td>NaN</td>\n    </tr>\n    <tr>\n      <th>220</th>\n      <td>https://krakow.nieruchomosci-online.pl/nowe-mi...</td>\n      <td>Nowe mieszkanie Olszyny, ul. Petrażyckiego</td>\n      <td>NaN</td>\n      <td>wrzesień 2024</td>\n      <td>NaN</td>\n      <td>1</td>\n      <td>4</td>\n      <td>naziemne</td>\n      <td>dostępne</td>\n      <td>NaN</td>\n      <td>NaN</td>\n      <td>NaN</td>\n      <td>93.00</td>\n      <td>m²</td>\n      <td>NaN</td>\n    </tr>\n    <tr>\n      <th>221</th>\n      <td>https://krakow.nieruchomosci-online.pl/nowe-mi...</td>\n      <td>Nowe mieszkanie Olszyny, ul. Petrażyckiego</td>\n      <td>NaN</td>\n      <td>wrzesień 2024</td>\n      <td>NaN</td>\n      <td>parter</td>\n      <td>3</td>\n      <td>naziemne</td>\n      <td>zarezerwowane</td>\n      <td>NaN</td>\n      <td>NaN</td>\n      <td>NaN</td>\n      <td>55.00</td>\n      <td>m²</td>\n      <td>NaN</td>\n    </tr>\n    <tr>\n      <th>226</th>\n      <td>https://krakow.nieruchomosci-online.pl/nowe-mi...</td>\n      <td>Nowe mieszkanie Olszyny, ul. Petrażyckiego</td>\n      <td>NaN</td>\n      <td>wrzesień 2024</td>\n      <td>NaN</td>\n      <td>1</td>\n      <td>4</td>\n      <td>naziemne</td>\n      <td>dostępne</td>\n      <td>NaN</td>\n      <td>NaN</td>\n      <td>NaN</td>\n      <td>93.00</td>\n      <td>m²</td>\n      <td>NaN</td>\n    </tr>\n    <tr>\n      <th>257</th>\n      <td>https://krakow.nieruchomosci-online.pl/nowe-mi...</td>\n      <td>Nowe mieszkanie Czyżyny, ul. Strumyk 4</td>\n      <td>NaN</td>\n      <td>II kwartał 2025</td>\n      <td>NaN</td>\n      <td>3</td>\n      <td>5</td>\n      <td>garaż</td>\n      <td>sprzedane</td>\n      <td>NaN</td>\n      <td>NaN</td>\n      <td>NaN</td>\n      <td>103.84</td>\n      <td>m²</td>\n      <td>NaN</td>\n    </tr>\n    <tr>\n      <th>273</th>\n      <td>https://krakow.nieruchomosci-online.pl/nowe-mi...</td>\n      <td>Nowe mieszkanie Dziekanowice, ul. Piasta Kołod...</td>\n      <td>NaN</td>\n      <td>III kwartał 2025</td>\n      <td>NaN</td>\n      <td>5</td>\n      <td>2</td>\n      <td>garaż</td>\n      <td>dostępne</td>\n      <td>NaN</td>\n      <td>NaN</td>\n      <td>NaN</td>\n      <td>37.15</td>\n      <td>m²</td>\n      <td>NaN</td>\n    </tr>\n    <tr>\n      <th>274</th>\n      <td>https://krakow.nieruchomosci-online.pl/nowe-mi...</td>\n      <td>Nowe mieszkanie Dziekanowice, ul. Piasta Kołod...</td>\n      <td>NaN</td>\n      <td>III kwartał 2025</td>\n      <td>NaN</td>\n      <td>parter</td>\n      <td>3</td>\n      <td>garaż</td>\n      <td>dostępne</td>\n      <td>NaN</td>\n      <td>NaN</td>\n      <td>NaN</td>\n      <td>45.01</td>\n      <td>m²</td>\n      <td>NaN</td>\n    </tr>\n    <tr>\n      <th>276</th>\n      <td>https://krakow.nieruchomosci-online.pl/nowe-mi...</td>\n      <td>Nowe mieszkanie Dziekanowice, ul. Piasta Kołod...</td>\n      <td>NaN</td>\n      <td>III kwartał 2025</td>\n      <td>NaN</td>\n      <td>2</td>\n      <td>3</td>\n      <td>garaż</td>\n      <td>dostępne</td>\n      <td>NaN</td>\n      <td>NaN</td>\n      <td>NaN</td>\n      <td>45.14</td>\n      <td>m²</td>\n      <td>NaN</td>\n    </tr>\n    <tr>\n      <th>304</th>\n      <td>https://krakow.nieruchomosci-online.pl/nowe-mi...</td>\n      <td>Nowe mieszkanie Górka Narodowa, ul. Belwedercz...</td>\n      <td>NaN</td>\n      <td>grudzień 2025</td>\n      <td>NaN</td>\n      <td>3</td>\n      <td>3</td>\n      <td>garaż</td>\n      <td>dostępne</td>\n      <td>NaN</td>\n      <td>NaN</td>\n      <td>NaN</td>\n      <td>49.55</td>\n      <td>m²</td>\n      <td>NaN</td>\n    </tr>\n    <tr>\n      <th>305</th>\n      <td>https://krakow.nieruchomosci-online.pl/nowe-mi...</td>\n      <td>Nowe mieszkanie Górka Narodowa, ul. Belwedercz...</td>\n      <td>NaN</td>\n      <td>grudzień 2025</td>\n      <td>NaN</td>\n      <td>4</td>\n      <td>2</td>\n      <td>garaż</td>\n      <td>dostępne</td>\n      <td>NaN</td>\n      <td>NaN</td>\n      <td>NaN</td>\n      <td>36.35</td>\n      <td>m²</td>\n      <td>NaN</td>\n    </tr>\n    <tr>\n      <th>309</th>\n      <td>https://krakow.nieruchomosci-online.pl/nowe-mi...</td>\n      <td>Nowe mieszkanie Górka Narodowa, ul. Belwedercz...</td>\n      <td>NaN</td>\n      <td>grudzień 2025</td>\n      <td>NaN</td>\n      <td>5</td>\n      <td>3</td>\n      <td>garaż</td>\n      <td>dostępne</td>\n      <td>NaN</td>\n      <td>NaN</td>\n      <td>NaN</td>\n      <td>54.20</td>\n      <td>m²</td>\n      <td>NaN</td>\n    </tr>\n    <tr>\n      <th>318</th>\n      <td>https://krakow.nieruchomosci-online.pl/nowe-mi...</td>\n      <td>Nowe mieszkanie Stare Miasto, ul. Grodzka 28</td>\n      <td>NaN</td>\n      <td>I kwartał 2024</td>\n      <td>NaN</td>\n      <td>2</td>\n      <td>2</td>\n      <td>-</td>\n      <td>dostępne</td>\n      <td>NaN</td>\n      <td>NaN</td>\n      <td>NaN</td>\n      <td>51.52</td>\n      <td>m²</td>\n      <td>NaN</td>\n    </tr>\n    <tr>\n      <th>321</th>\n      <td>https://krakow.nieruchomosci-online.pl/nowe-mi...</td>\n      <td>Nowe mieszkanie Stare Miasto, ul. Grodzka 28</td>\n      <td>NaN</td>\n      <td>I kwartał 2024</td>\n      <td>NaN</td>\n      <td>3</td>\n      <td>2</td>\n      <td>-</td>\n      <td>dostępne</td>\n      <td>NaN</td>\n      <td>NaN</td>\n      <td>NaN</td>\n      <td>43.30</td>\n      <td>m²</td>\n      <td>NaN</td>\n    </tr>\n    <tr>\n      <th>323</th>\n      <td>https://krakow.nieruchomosci-online.pl/nowe-mi...</td>\n      <td>Nowe mieszkanie Stare Miasto, ul. Grodzka 28</td>\n      <td>NaN</td>\n      <td>I kwartał 2024</td>\n      <td>NaN</td>\n      <td>2</td>\n      <td>1</td>\n      <td>-</td>\n      <td>dostępne</td>\n      <td>NaN</td>\n      <td>NaN</td>\n      <td>NaN</td>\n      <td>30.75</td>\n      <td>m²</td>\n      <td>NaN</td>\n    </tr>\n    <tr>\n      <th>367</th>\n      <td>https://krakow.nieruchomosci-online.pl/nowe-mi...</td>\n      <td>Nowe mieszkanie Płaszów, ul. Myśliwska 68</td>\n      <td>NaN</td>\n      <td>III kwartał 2025</td>\n      <td>NaN</td>\n      <td>1</td>\n      <td>2</td>\n      <td>garaż</td>\n      <td>dostępne</td>\n      <td>NaN</td>\n      <td>NaN</td>\n      <td>NaN</td>\n      <td>44.14</td>\n      <td>m²</td>\n      <td>NaN</td>\n    </tr>\n    <tr>\n      <th>368</th>\n      <td>https://krakow.nieruchomosci-online.pl/nowe-mi...</td>\n      <td>Nowe mieszkanie Płaszów, ul. Myśliwska 68</td>\n      <td>NaN</td>\n      <td>III kwartał 2025</td>\n      <td>NaN</td>\n      <td>5</td>\n      <td>4</td>\n      <td>garaż</td>\n      <td>dostępne</td>\n      <td>NaN</td>\n      <td>NaN</td>\n      <td>NaN</td>\n      <td>80.64</td>\n      <td>m²</td>\n      <td>NaN</td>\n    </tr>\n    <tr>\n      <th>369</th>\n      <td>https://krakow.nieruchomosci-online.pl/nowe-mi...</td>\n      <td>Nowe mieszkanie Płaszów, ul. Myśliwska 68</td>\n      <td>NaN</td>\n      <td>III kwartał 2025</td>\n      <td>NaN</td>\n      <td>1</td>\n      <td>2</td>\n      <td>garaż</td>\n      <td>dostępne</td>\n      <td>NaN</td>\n      <td>NaN</td>\n      <td>NaN</td>\n      <td>44.16</td>\n      <td>m²</td>\n      <td>NaN</td>\n    </tr>\n    <tr>\n      <th>456</th>\n      <td>https://krakow.nieruchomosci-online.pl/nowe-mi...</td>\n      <td>Nowe mieszkanie Prądnik Czerwony, ul. Strzelcó...</td>\n      <td>NaN</td>\n      <td>III kwartał 2025</td>\n      <td>NaN</td>\n      <td>4</td>\n      <td>4</td>\n      <td>garaż</td>\n      <td>dostępne</td>\n      <td>NaN</td>\n      <td>NaN</td>\n      <td>NaN</td>\n      <td>67.57</td>\n      <td>m²</td>\n      <td>NaN</td>\n    </tr>\n    <tr>\n      <th>545</th>\n      <td>https://krakow.nieruchomosci-online.pl/nowe-mi...</td>\n      <td>Nowe mieszkanie Bronowice Małe, ul. Wizjonerów</td>\n      <td>NaN</td>\n      <td>oddana do użytku</td>\n      <td>NaN</td>\n      <td>5</td>\n      <td>3</td>\n      <td>garaż</td>\n      <td>dostępne</td>\n      <td>NaN</td>\n      <td>NaN</td>\n      <td>NaN</td>\n      <td>56.13</td>\n      <td>m²</td>\n      <td>NaN</td>\n    </tr>\n    <tr>\n      <th>547</th>\n      <td>https://krakow.nieruchomosci-online.pl/nowe-mi...</td>\n      <td>Nowe mieszkanie Bronowice Małe, ul. Wizjonerów</td>\n      <td>NaN</td>\n      <td>oddana do użytku</td>\n      <td>NaN</td>\n      <td>2</td>\n      <td>2</td>\n      <td>garaż</td>\n      <td>dostępne</td>\n      <td>NaN</td>\n      <td>NaN</td>\n      <td>NaN</td>\n      <td>43.65</td>\n      <td>m²</td>\n      <td>NaN</td>\n    </tr>\n    <tr>\n      <th>550</th>\n      <td>https://krakow.nieruchomosci-online.pl/nowe-mi...</td>\n      <td>Nowe mieszkanie Bronowice Małe, ul. Wizjonerów</td>\n      <td>NaN</td>\n      <td>oddana do użytku</td>\n      <td>NaN</td>\n      <td>5</td>\n      <td>2</td>\n      <td>garaż</td>\n      <td>dostępne</td>\n      <td>NaN</td>\n      <td>NaN</td>\n      <td>NaN</td>\n      <td>42.78</td>\n      <td>m²</td>\n      <td>NaN</td>\n    </tr>\n    <tr>\n      <th>2387</th>\n      <td>https://krakow.nieruchomosci-online.pl/mieszka...</td>\n      <td>Apartament, ul. Wybickiego</td>\n      <td>Wybickiego, Krowodrza, Kraków, małopolskie</td>\n      <td>1</td>\n      <td>7.0</td>\n      <td>3</td>\n      <td>2023</td>\n      <td>garaż</td>\n      <td>NaN</td>\n      <td>NaN</td>\n      <td>NaN</td>\n      <td>NaN</td>\n      <td>58.89</td>\n      <td>m²</td>\n      <td>NaN</td>\n    </tr>\n    <tr>\n      <th>2737</th>\n      <td>https://krakow.nieruchomosci-online.pl/mieszka...</td>\n      <td>Apartament, ul. Wybickiego</td>\n      <td>Wybickiego, Krowodrza, Kraków, małopolskie</td>\n      <td>3</td>\n      <td>7.0</td>\n      <td>2</td>\n      <td>2023</td>\n      <td>garaż</td>\n      <td>NaN</td>\n      <td>NaN</td>\n      <td>NaN</td>\n      <td>NaN</td>\n      <td>40.02</td>\n      <td>m²</td>\n      <td>NaN</td>\n    </tr>\n  </tbody>\n</table>\n</div>"
     },
     "execution_count": 346,
     "metadata": {},
     "output_type": "execute_result"
    }
   ],
   "source": [
    "# Wywalam wszystkie kolumny, w których nie mam danych odnośnie ceny\n",
    "missing_currency = df[df['currency'].isnull()]\n",
    "missing_currency"
   ],
   "metadata": {
    "collapsed": false,
    "ExecuteTime": {
     "end_time": "2024-04-13T14:10:13.161252900Z",
     "start_time": "2024-04-13T14:10:13.101539400Z"
    }
   },
   "id": "acb9c5c6e06e6344",
   "execution_count": 346
  },
  {
   "cell_type": "code",
   "outputs": [
    {
     "data": {
      "text/plain": "26                                             NaN\n27                                             NaN\n28                                             NaN\n45                                             NaN\n172                                            NaN\n175                                            NaN\n177                                            NaN\n220                                            NaN\n221                                            NaN\n226                                            NaN\n257                                            NaN\n273                                            NaN\n274                                            NaN\n276                                            NaN\n304                                            NaN\n305                                            NaN\n309                                            NaN\n318                                            NaN\n321                                            NaN\n323                                            NaN\n367                                            NaN\n368                                            NaN\n369                                            NaN\n456                                            NaN\n545                                            NaN\n547                                            NaN\n550                                            NaN\n2387    Wybickiego, Krowodrza, Kraków, małopolskie\n2737    Wybickiego, Krowodrza, Kraków, małopolskie\nName: address, dtype: object"
     },
     "execution_count": 347,
     "metadata": {},
     "output_type": "execute_result"
    }
   ],
   "source": [
    "# Brak przesunięcia w danych z missing price więc usuwam wszystkie, które nie posiadają wyceny\n",
    "missing_currency['address']"
   ],
   "metadata": {
    "collapsed": false,
    "ExecuteTime": {
     "end_time": "2024-04-13T14:10:13.162275500Z",
     "start_time": "2024-04-13T14:10:13.115203700Z"
    }
   },
   "id": "29551b9d202231fd",
   "execution_count": 347
  },
  {
   "cell_type": "code",
   "outputs": [],
   "source": [
    "df.dropna(subset=['price_amount'], inplace=True)"
   ],
   "metadata": {
    "collapsed": false,
    "ExecuteTime": {
     "end_time": "2024-04-13T14:10:13.184821Z",
     "start_time": "2024-04-13T14:10:13.133068200Z"
    }
   },
   "id": "93251c4760b654ed",
   "execution_count": 348
  },
  {
   "cell_type": "code",
   "outputs": [],
   "source": [
    "# Wywalam całą kolumnę form of ownership bo ma ponad 2500 pustych wierszy\n",
    "df.drop(columns=['form of ownership'], inplace=True)"
   ],
   "metadata": {
    "collapsed": false,
    "ExecuteTime": {
     "end_time": "2024-04-13T14:10:13.229589900Z",
     "start_time": "2024-04-13T14:10:13.167788600Z"
    }
   },
   "id": "6de137f8c0b59ec5",
   "execution_count": 349
  },
  {
   "cell_type": "code",
   "outputs": [
    {
     "name": "stdout",
     "output_type": "stream",
     "text": [
      "Unikalne wartości w number of floors: [ 3.  4.  5. 10.  1.  2.  7.  6.  9. nan  8. 14. 11. 15. 16. 13. 12. 45.]\n"
     ]
    }
   ],
   "source": [
    "# Z racji tego, że brakuje tylko 29 marketów na prawie 4000 mieszkań to braki uzupełnię średnia.\n",
    "# TODO, może się tak zdażyć, że floor number będzie większe niż number of floors, więc trzeba też napisać kod, który zmienia tą wartość jeśli floor number jest większe\n",
    "\n",
    "number_of_floors_na = df['number of floors'].unique()\n",
    "print(\"Unikalne wartości w number of floors:\", number_of_floors_na)"
   ],
   "metadata": {
    "collapsed": false,
    "ExecuteTime": {
     "end_time": "2024-04-13T14:10:13.260137300Z",
     "start_time": "2024-04-13T14:10:13.214754800Z"
    }
   },
   "id": "288836ddbe23c924",
   "execution_count": 350
  },
  {
   "cell_type": "code",
   "outputs": [
    {
     "name": "stdout",
     "output_type": "stream",
     "text": [
      "Średnia wartość w mean number of floors: 5\n"
     ]
    }
   ],
   "source": [
    "mean_number_of_floors = round(df['number of floors'].mean())\n",
    "fill_value = {'number of floors': mean_number_of_floors}\n",
    "df.fillna(value=fill_value, inplace=True)\n",
    "\n",
    "print(\"Średnia wartość w mean number of floors:\", mean_number_of_floors)"
   ],
   "metadata": {
    "collapsed": false,
    "ExecuteTime": {
     "end_time": "2024-04-13T14:10:13.334163Z",
     "start_time": "2024-04-13T14:10:13.264127300Z"
    }
   },
   "id": "9300c8c9fe888c0d",
   "execution_count": 351
  },
  {
   "cell_type": "code",
   "outputs": [
    {
     "name": "stdout",
     "output_type": "stream",
     "text": [
      "Unikalne jednostki metryczne: ['wtórny' 'pierwotny (zobacz inne nowe mieszkania w Krakowie)'\n",
      " 'II kwartał 2024' 'III kwartał 2024' 'IV kwartał 2022, oddana do użytku'\n",
      " 'II kwartał 2025' 'III kwartał 2025' 'październik 2023, zrealizowana'\n",
      " 'czerwiec 2023, zrealizowana' 'II kwartał 2023, oddana do użytku'\n",
      " 'sierpień 2024' 'październik 2025' 'IV kwartał 2024' nan 'I kwartał 2024'\n",
      " 'I kwartał 2025' 'IV kwartał 2025' 'lipiec 2025' '2025'\n",
      " 'III kwartał 2023, oddana do użytku' 'kwiecień 2023, oddana do użytku'\n",
      " 'marzec 2024' '1 miesiąc' 'natychmiast']\n"
     ]
    }
   ],
   "source": [
    "# TODO, TU JEST PROBLEM (którego rozwiązania teraz nie wymyśle WIĘC żeby ruszyć dalej pozbywam się tej kolumny. (prawdopodobnie się jej pozbędziemy)\n",
    "\n",
    "market = df['market'].unique()\n",
    "print(\"Unikalne jednostki metryczne:\", market)\n",
    "\n",
    "df.drop(columns=['market'], inplace=True)"
   ],
   "metadata": {
    "collapsed": false,
    "ExecuteTime": {
     "end_time": "2024-04-13T14:10:13.359864200Z",
     "start_time": "2024-04-13T14:10:13.328995200Z"
    }
   },
   "id": "2df278a0d70b4390",
   "execution_count": 352
  },
  {
   "cell_type": "code",
   "outputs": [
    {
     "data": {
      "text/plain": "url                      0\nname/title               0\naddress                 74\nfloor number             0\nnumber of floors         0\nno of rooms              0\nyear of construction     0\nparking space            0\nprice_amount             0\ncurrency                 0\narea_amount              0\narea_unit                0\nprice_per_area           0\ndtype: int64"
     },
     "execution_count": 353,
     "metadata": {},
     "output_type": "execute_result"
    }
   ],
   "source": [
    "df.isnull().sum()"
   ],
   "metadata": {
    "collapsed": false,
    "ExecuteTime": {
     "end_time": "2024-04-13T14:10:13.369599600Z",
     "start_time": "2024-04-13T14:10:13.362766900Z"
    }
   },
   "id": "81dbafd1a45b56aa",
   "execution_count": 353
  },
  {
   "cell_type": "markdown",
   "source": [
    "## Shifted data / String data"
   ],
   "metadata": {
    "collapsed": false
   },
   "id": "8b0f9a16fa615dc7"
  },
  {
   "cell_type": "code",
   "outputs": [
    {
     "name": "stdout",
     "output_type": "stream",
     "text": [
      "Unikalne waluty: ['tak' 'w garażu podziemnym' 'parking publiczny / na ulicy'\n",
      " 'garaż w bryle budynku' 'garaż' '-' 'przynależne na ulicy'\n",
      " 'przynależne na terenie ogrodzonym' 'możliwość wykupienia' 'naziemne'\n",
      " 'garaż wolnostojący' 'parking strzeżony w pobliżu' 'wiata garażowa']\n"
     ]
    }
   ],
   "source": [
    "unique_parking = df['parking space'].unique()\n",
    "print(\"Unikalne wartości 'parking':\", unique_parking)"
   ],
   "metadata": {
    "collapsed": false,
    "ExecuteTime": {
     "end_time": "2024-04-13T14:11:15.182330200Z",
     "start_time": "2024-04-13T14:11:15.167740100Z"
    }
   },
   "id": "ea574b41c31bca9c",
   "execution_count": 358
  },
  {
   "cell_type": "code",
   "outputs": [
    {
     "data": {
      "text/plain": "parking space\n-                                    965\nw garażu podziemnym                  590\ntak                                  572\nparking publiczny / na ulicy         564\ngaraż                                439\nprzynależne na ulicy                 264\ngaraż wolnostojący                   161\ngaraż w bryle budynku                116\nprzynależne na terenie ogrodzonym     97\nparking strzeżony w pobliżu           84\nmożliwość wykupienia                  39\nnaziemne                              17\nwiata garażowa                        12\nName: count, dtype: int64"
     },
     "execution_count": 359,
     "metadata": {},
     "output_type": "execute_result"
    }
   ],
   "source": [
    "# TODO, dokonuję uproszczeń, nie wiem czy tak akceptujecie\n",
    "\n",
    "parking_counts = df['parking space'].value_counts()\n",
    "parking_counts"
   ],
   "metadata": {
    "collapsed": false,
    "ExecuteTime": {
     "end_time": "2024-04-13T14:13:24.380948400Z",
     "start_time": "2024-04-13T14:13:24.370163400Z"
    }
   },
   "id": "2f393e9fb0e07745",
   "execution_count": 359
  },
  {
   "cell_type": "code",
   "outputs": [],
   "source": [],
   "metadata": {
    "collapsed": false
   },
   "id": "10ba61e064dfc742"
  },
  {
   "cell_type": "markdown",
   "source": [
    "## Address from Title"
   ],
   "metadata": {
    "collapsed": false
   },
   "id": "91fc96f33fb7cffa"
  },
  {
   "cell_type": "markdown",
   "source": [
    "# Feature Engineering"
   ],
   "metadata": {
    "collapsed": false
   },
   "id": "d409209488d987e"
  },
  {
   "cell_type": "code",
   "outputs": [],
   "source": [],
   "metadata": {
    "collapsed": false,
    "ExecuteTime": {
     "end_time": "2024-04-13T14:10:13.398598700Z",
     "start_time": "2024-04-13T14:10:13.374161300Z"
    }
   },
   "id": "4bb6a6a025756e40",
   "execution_count": 353
  }
 ],
 "metadata": {
  "kernelspec": {
   "display_name": "Python 3",
   "language": "python",
   "name": "python3"
  },
  "language_info": {
   "codemirror_mode": {
    "name": "ipython",
    "version": 2
   },
   "file_extension": ".py",
   "mimetype": "text/x-python",
   "name": "python",
   "nbconvert_exporter": "python",
   "pygments_lexer": "ipython2",
   "version": "2.7.6"
  }
 },
 "nbformat": 4,
 "nbformat_minor": 5
}
